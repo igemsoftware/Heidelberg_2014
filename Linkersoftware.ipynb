{
 "metadata": {
  "name": "",
  "signature": "sha256:ec82ec8ebce8c5213e73b381dc30051dc0fb4aa99632854e5d7a53261d072da9"
 },
 "nbformat": 3,
 "nbformat_minor": 0,
 "worksheets": [
  {
   "cells": [
    {
     "cell_type": "code",
     "collapsed": false,
     "input": [
      "#Hier ist ein kleiner Versuch mal eine Software zu schreiben, wie so Linkerzeug gemacht werden k\u00f6nnte."
     ],
     "language": "python",
     "metadata": {},
     "outputs": [],
     "prompt_number": 1
    },
    {
     "cell_type": "code",
     "collapsed": false,
     "input": [
      "#einlesen des PDB files. die Dateien sollten in proteine gespeichert werden\n",
      "import numpy as np\n",
      "import matplotlib\n",
      "matplotlib.use('GTK')\n",
      "import matplotlib.pyplot as plt         #plots allgemein\n",
      "from mpl_toolkits.mplot3d import Axes3D #3d plots\n",
      "#%matplotlib inline\n",
      "#from Bio.PDB import *\n",
      "#import gc\n",
      "import time #kann im Endeffekt aussortiert werden :-)\n",
      "import cPickle as pickle       #zum Zwischenspeichern vor Abst\u00fcrzen, um Zeit zu sparen.\n",
      "import h5py                    #zum Zwischenspeichern der Ergebnisse in der Generation der neuen Punkte\n",
      "import os                      #spa\u00dfige Dinge mit dem Betriebssystem, z.B. ob ein File existiert\n",
      "import fnmatch                 #Strings mit Wildcards durchsuchen\n",
      "import sys\n",
      "\n",
      "\n",
      "\n",
      "def my_exit_program(exitstring):\n",
      "    sys.exit(exitstring)\n",
      "    \n",
      "def my_exit_function(exitstring):\n",
      "    \n",
      "\n",
      "#Betrag eines Vektors\n",
      "def vectabs(x0, x1, x2):\n",
      "    return np.sqrt(x0**2 + x1**2 + x2*2)\n",
      "\n",
      "def vectabsar(ar):\n",
      "    return np.sqrt(ar[:,0]**2+ar[:,1]**2+ar[:,2]**2)\n",
      "\n",
      "#gibt normalenvektor zu ebene von drei Punkten aus, bereits normiert\n",
      "def ebene(a, b, c):\n",
      "    x0 = (a-b)[1]*(c-b)[2]-((a-b)[2]*(c-b)[1])\n",
      "    x1 = (a-b)[2]*(c-b)[0]-((a-b)[0]*(c-b)[2])\n",
      "    x2 = (a-b)[0]*(c-b)[1]-((a-b)[1]*(c-b)[0])\n",
      "    \n",
      "    xabs = vectabs(x0, x1, x2)\n",
      "    \n",
      "    return np.array([x0/xabs, x1/xabs, x2/xabs])\n",
      "\n",
      "#einen Vektor mit Drehmatrix drehen um a-achse\n",
      "def drehenx(phi, x, y, z):\n",
      "    x1 = x * np.cos(phi * 0)\n",
      "    y1 = y * np.cos(phi) - z * np.sin(phi)\n",
      "    z1 = y * np.sin(phi) + z * np.cos(phi)\n",
      "    return np.array([x1, y1, z1])\n",
      "\n",
      "def dreheny(phi, x, y, z):\n",
      "    x1 = x  * np.cos(phi) - z * np.sin(phi)\n",
      "    y1 = y * np.cos(phi * 0)\n",
      "    z1 = x * np.sin(phi) + z * np.cos(phi)\n",
      "    return np.array([x1, y1, z1])\n",
      "\n",
      "def drehenz(phi, x, y, z):\n",
      "    x1 = x  * np.cos(phi) - y * np.sin(phi)\n",
      "    y1 = x * np.sin(phi) +  y* np.cos(phi)\n",
      "    z1 = z * np.cos(phi * 0)\n",
      "    return np.array([x1, y1, z1])\n",
      "\n",
      "\n",
      "def drehenxy(phi, theta, v):\n",
      "    '''\n",
      "    dreht Vektor v (als np.array) um phi um die x-Achse, und theta um die y-Achse\n",
      "    '''\n",
      "    v = drehenx(phi, v[0], v[1], v[2])\n",
      "    return dreheny(theta, v[0], v[1], v[2])\n",
      "\n",
      "def abstand(x,y):\n",
      "    '''\n",
      "    den Abstand zweier Punkte bestimmen, den Punkt als Array eingeben.\n",
      "    '''\n",
      "    return np.sqrt((x[0]-y[0])**2+(x[1]-y[1])**2+(x[2]-y[2])**2)\n",
      "\n",
      "def betrag(x):\n",
      "    return np.sqrt((x[0])**2+(x[1])**2+(x[2])**2)\n",
      "\n",
      "def abstandpktzuarray(x, ar):\n",
      "    return np.sqrt((x[0]-ar[:,0])**2+(x[1]-ar[:,1])**2+(x[2]-ar[:,2])**2)\n",
      "\n",
      "def abstandarrays(ar1, ar2):\n",
      "    return np.sqrt((ar1[:,0]-ar2[:,0])**2+(ar1[:,1]-ar2[:,1])**2+(ar1[:,2]-ar2[:,2])**2)\n",
      "\n",
      "def abstandarrays_quadr(ar1, ar2):\n",
      "    return (ar1[:,0]-ar2[:,0])**2+(ar1[:,1]-ar2[:,1])**2+(ar1[:,2]-ar2[:,2])**2\n",
      "\n",
      "def skalar_product (ar1, ar2):\n",
      "    return (ar1[:,0]*ar2[:,0])+(ar1[:,1]*ar2[:,1])+(ar1[:,2]*ar2[:,2])\n",
      "\n",
      "\n",
      "def angle_between_connections_array(startingarray, middlearray, endingarray):\n",
      "    '''\n",
      "    returns value between [0,pi] an array of size Startarray with the angles. If there is no displacement,\n",
      "    it returns zero as value\n",
      "    MiddleArray should never be of just one point\n",
      "    '''\n",
      "    \n",
      "    if np.shape(startingarray) == (3,):\n",
      "        startingexp = np.repeat([startingarray], np.size(middlearray, axis=0), axis =0)\n",
      "    else:\n",
      "        startingexp = startingarray\n",
      "    if np.shape(endingarray) == (3,):\n",
      "        endingexp = np.repeat([endingarray], np.size(middlearray, axis=0), axis =0)\n",
      "    else:\n",
      "        endingexp = endingarray    \n",
      "        \n",
      "    vect1 = (startingexp - middlearray)\n",
      "    vect2 = (endingexp - middlearray)\n",
      "    return angle_between_vectors(vect1, vect2)\n",
      "\n",
      "\n",
      "def angle_between_vectors(vect1, vect2):\n",
      "    '''\n",
      "    returns the angles between two vectors.\n",
      "    Works always on complete arrays, if the vectors are 0, it returns 0 as angle for them.\n",
      "    based on the arccos\n",
      "    '''\n",
      "    lengthofarrays = np.size(vect1, axis = 0)\n",
      "    #catch if there is 0 displacement\n",
      "    tocalculate = ((vect1 != np.array([0,0,0])).any(1)) & ((vect2 != np.array([0,0,0])).any(1))\n",
      "    if tocalculate.any():\n",
      "        vect1 = vect1[tocalculate]\n",
      "        vect2 = vect2[tocalculate]\n",
      "        catchrounding = skalar_product(vect1, vect2)/(vectabsar(vect1)*vectabsar(vect2))\n",
      "        #get rounding arrors\n",
      "        catchrounding[catchrounding > 1] = 1\n",
      "        catchrounding[catchrounding < -1] = -1\n",
      "        angles = np.arccos(catchrounding)\n",
      "        returnangles = np.zeros(lengthofarrays)\n",
      "        returnangles[tocalculate] = angles\n",
      "    else:\n",
      "        returnangles = np.zeros(lengthofarrays)\n",
      "    return returnangles\n",
      "         \n",
      "   "
     ],
     "language": "python",
     "metadata": {},
     "outputs": [],
     "prompt_number": 2
    },
    {
     "cell_type": "code",
     "collapsed": false,
     "input": [
      "\n",
      "\n",
      "def distance_from_connection(Startarray, Endarray, Points):\n",
      "    '''\n",
      "takes a connection from Startarray to Endarray nnd calculates the perpendicular distance of the points from the connection. \n",
      "Returns an array of size (start * points) with all perpendicular distances or distances of the endpoints.\n",
      "Start or End can also be single points.\n",
      "    '''\n",
      "    if np.shape(Startarray) == (3,): \n",
      "        if np.shape(Endarray) != (3,):\n",
      "            Starttemp = np.repeat([Startarray], np.size(Endarray, axis = 0), axis = 0)\n",
      "        else:\n",
      "            Starttemp = np.reshape(Startarray, (1,3))\n",
      "    else:\n",
      "        Starttemp = Startarray\n",
      "        \n",
      "    if np.shape(Endarray) == (3,):\n",
      "        if np.shape(Startarray) != (3,):\n",
      "            Endtemp = np.repeat([Endarray], np.size(Startarray, axis = 0), axis = 0)\n",
      "        else:\n",
      "            Endtemp = np.reshape(Endarray, (1,3))\n",
      "    else:\n",
      "        Endtemp = Endarray\n",
      "        \n",
      "    \n",
      "    #reshape the arrays and the points, have a Points*Start array\n",
      "    oneaxis = np.size(Starttemp, axis = 0)\n",
      "    twoaxis = np.size(Points, axis = 0)\n",
      "\n",
      "    Starttemp = np.repeat(Starttemp, twoaxis, axis = 0)\n",
      "    Endtemp = np.repeat(Endtemp, twoaxis, axis = 0)\n",
      "    Points = np.tile(Points, (oneaxis,1))\n",
      "\n",
      "    StartPunkteAbst = abstandarrays(Starttemp, Points)\n",
      "    StartPunkteAbst = np.reshape(StartPunkteAbst, (oneaxis, twoaxis))\n",
      "    \n",
      "    EndPunkteAbst = abstandarrays(Endtemp, Points)\n",
      "    EndPunkteAbst = np.reshape(EndPunkteAbst, (oneaxis, twoaxis))\n",
      "    \n",
      "    AngleAtStart = angle_between_connections_array(Points, Starttemp, Endtemp)\n",
      "    AngleAtStart = np.reshape(AngleAtStart, (oneaxis, twoaxis))\n",
      "    \n",
      "    AngleAtEnd = angle_between_connections_array(Points, Endtemp, Starttemp)\n",
      "    AngleAtEnd = np.reshape(AngleAtEnd, (oneaxis, twoaxis))\n",
      "    \n",
      "    \n",
      "    \n",
      "    #die Punkte mit \u00fcber 90\u00b0 nehmen einfach den Abstand vom Ende, die kleiner als 90\u00b0 den senkrechten Abstand\n",
      "    StartBiggerNinetyBool = (AngleAtStart >  np.pi/2)\n",
      "    EndBiggerNinetyBool = (AngleAtEnd > np.pi/2)\n",
      "    pointonconnectionbool = (AngleAtStart == 0) & (AngleAtEnd == 0)\n",
      "    NotUseBool = np.invert(StartBiggerNinetyBool | EndBiggerNinetyBool | pointonconnectionbool)\n",
      "    DistanceFromConnection = np.empty((oneaxis, twoaxis))\n",
      "    DistanceFromConnection[NotUseBool] = np.sin(AngleAtStart[NotUseBool]) * StartPunkteAbst[NotUseBool]\n",
      "    DistanceFromConnection[EndBiggerNinetyBool] = EndPunkteAbst[EndBiggerNinetyBool]\n",
      "    DistanceFromConnection[StartBiggerNinetyBool] = StartPunkteAbst[StartBiggerNinetyBool]\n",
      "    DistanceFromConnection[pointonconnectionbool] = 0.\n",
      "    return DistanceFromConnection, oneaxis, twoaxis"
     ],
     "language": "python",
     "metadata": {},
     "outputs": [],
     "prompt_number": 3
    },
    {
     "cell_type": "code",
     "collapsed": false,
     "input": [
      "'''\n",
      "\n",
      "def reduce_proteinpoints(proteinpoints, minabstand):\n",
      "    for i in range(len(np.size(proteinpoints, axis = 0))):\n",
      "        if i == 0:\n",
      "            checkpoints = proteinpoints\n",
      "        point = proteinpoints[i]\n",
      "        #slice all points in the area of a cube with axeslength minabstand. If there is another\n",
      "        #proteinpoint a linker would already be sorted out by the other point.\n",
      "        usebool = ((checkpoints[:,0] > (point[0] - minabstand)) & (checkpoints[:,0] < (point[0] + minabstand)) &\n",
      "                   (checkpoints[:,1] > (point[1] - minabstand)) & (checkpoints[:,1] < (point[1] + minabstand)) &\n",
      "                   (checkpoints[:,2] > (point[2] - minabstand)) & (checkpoints[:,2] < (point[2] + minabstand)))\n",
      "        hereusepoints = checkpoints[usebool]\n",
      "        amountofhereusepoints =  np.size(hereusepoints, axis = 0)\n",
      "        expandedpoint = np.repeat([point],amountofhereusepoints, axis = 0)\n",
      "        pointtopointvect = proteinpoints - expandedpoint\n",
      "        zaxis = np.np.repeat(np.array([[0,0,1]]), amountofhereusepoints, axis = 0)\n",
      "        xaxis = np.np.repeat(np.array([[1,0,0]]), amountofhereusepoints, axis = 0)\n",
      "        thetas = angle_between_vectors(pointtopointvect, zaxis)\n",
      "        phis = angle_between_vectors(pointtopointvect, xaxis)\n",
      "        \n",
      "        #find gaps in the angledistribution\n",
      "        \n",
      "            \n",
      "'''            "
     ],
     "language": "python",
     "metadata": {},
     "outputs": [
      {
       "metadata": {},
       "output_type": "pyout",
       "prompt_number": 4,
       "text": [
        "'\\n\\ndef reduce_proteinpoints(proteinpoints, minabstand):\\n    for i in range(len(np.size(proteinpoints, axis = 0))):\\n        if i == 0:\\n            checkpoints = proteinpoints\\n        point = proteinpoints[i]\\n        #slice all points in the area of a cube with axeslength minabstand. If there is another\\n        #proteinpoint a linker would already be sorted out by the other point.\\n        usebool = ((checkpoints[:,0] > (point[0] - minabstand)) & (checkpoints[:,0] < (point[0] + minabstand)) &\\n                   (checkpoints[:,1] > (point[1] - minabstand)) & (checkpoints[:,1] < (point[1] + minabstand)) &\\n                   (checkpoints[:,2] > (point[2] - minabstand)) & (checkpoints[:,2] < (point[2] + minabstand)))\\n        hereusepoints = checkpoints[usebool]\\n        amountofhereusepoints =  np.size(hereusepoints, axis = 0)\\n        expandedpoint = np.repeat([point],amountofhereusepoints, axis = 0)\\n        pointtopointvect = proteinpoints - expandedpoint\\n        zaxis = np.np.repeat(np.array([[0,0,1]]), amountofhereusepoints, axis = 0)\\n        xaxis = np.np.repeat(np.array([[1,0,0]]), amountofhereusepoints, axis = 0)\\n        thetas = angle_between_vectors(pointtopointvect, zaxis)\\n        phis = angle_between_vectors(pointtopointvect, xaxis)\\n        \\n        #find gaps in the angledistribution\\n        \\n            \\n'"
       ]
      }
     ],
     "prompt_number": 4
    },
    {
     "cell_type": "code",
     "collapsed": false,
     "input": [
      "#General stuff\n",
      "\n",
      "RAMOFMACHINE = 1 #in Gbyte"
     ],
     "language": "python",
     "metadata": {},
     "outputs": [],
     "prompt_number": 5
    },
    {
     "cell_type": "markdown",
     "metadata": {},
     "source": [
      "Lambdalysozym, wo die komplette Berechnung durchgelaufen ist, ohne flexible Enden, mit Abk\u00fcrzung :\"lambdalysozyme\"\n",
      "\n",
      "Lambdalysozym, wo nur die flexiblen Enden berechnet wurden, : \"lambdalysozyme_0802\"\n",
      "\n",
      "DNMT1, ohne Abk\u00fcrzung, alles durchgelaufen, ohne flex Enden: \"\""
     ]
    },
    {
     "cell_type": "code",
     "collapsed": false,
     "input": [
      "#PDB geht von N zu C Terminus     \n",
      "    \n",
      "\n",
      "#macht aus drei Arrays\n",
      "\n",
      " #for saving of the files, f\u00fcr DNMT1daten einfach \"\" machen\n",
      "#for DNMT1 ohne Thrombin:  \"new_dnmt1_nothrombin\"\n",
      "#for DNMT1 ohne Thrombin und Flag tag \"dnmt1_no_flag\"\n",
      "#for lambdalysozyme: \"lambdalysozyme_0802\" 1d9u-lambdalysozym.pdb'\n",
      "\n",
      "\n",
      "\n",
      "UserDefinedProjectName = \"lambdalysozyme\"\n",
      "f = open('proteine/1d9u-lambdalysozym.pdb', 'r')\n",
      "#print pdbfile\n",
      "\n",
      "\n",
      "wholex = []\n",
      "wholey = []\n",
      "wholez = []\n",
      "wholeatom = []\n",
      "wholeaminos = []\n",
      "wholesubunit = []\n",
      "wholeasnr = []\n",
      "\n",
      "\n",
      "#line.split kann nicht verwendet werden, weil manchmal die spalten ineinander verschmelzen, weil das Format doof ist.\n",
      "\n",
      "for line in f:\n",
      "    art = line[:4]\n",
      "    if art == 'ATOM':\n",
      "        wholeatom.append(line[13:16])\n",
      "        wholeaminos.append(line[17:20])\n",
      "        wholesubunit.append(line[21])\n",
      "        wholeasnr.append(int(line[22:26]))\n",
      "        wholex.append(float(line[31:38]))\n",
      "        wholey.append(float(line[38:46]))\n",
      "        wholez.append(float(line[46:54]))\n",
      "\n",
      "f.close()        \n",
      "\n",
      "#aus allen Listen arrays machen\n",
      "wholeatom = np.array(wholeatom)\n",
      "wholeaminos = np.array(wholeaminos)\n",
      "wholesubunit = np.array(wholesubunit)\n",
      "wholeasnr = np.array(wholeasnr)\n",
      "#731-1602 dnmt1\n",
      "#oder 650 - 1602\n",
      "\n",
      "#get parts, that aren't wanted out of the PDB files\n",
      "\n",
      "#TODO hier\u00fcber nachdennken!!! was die Regionen sind, die gew\u00e4hlt werden\n",
      "\n",
      "UserChosenIgnoreRegions = None #default is none,being a LIST of tuples of (21, 832, 'A'), with subunit, and then interval including the ends\n",
      "IgnoreSubUnit = (\"B\") #is a tupel with to be ignored subunits\n",
      "IgnoreIndices = np.bool8(np.ones(np.size(wholeasnr)))\n",
      "\n",
      "#Ignoreindices True means the value is kept\n",
      "if IgnoreSubUnit != None:\n",
      "    for SubUnit in IgnoreSubUnit:\n",
      "        IgnoreIndices = IgnoreIndices & (wholesubunit != SubUnit)\n",
      "\n",
      "\n",
      "if UserChosenIgnoreRegions != None:\n",
      "    for RegionOnSubunit in UserChosenIgnoreRegions:\n",
      "        IgnoreIndices = IgnoreIndices & np.invert((wholeasnr < RegionOnSubunit[1]) & (wholeasnr > RegionOnSubunit[0]) & \\\n",
      "                                                    (wholesubunit == RegionOnSubunit[2]))\n",
      "\n",
      "wholeatom = wholeatom[IgnoreIndices]\n",
      "wholeaminos = wholeaminos[IgnoreIndices]\n",
      "wholesubunit = wholesubunit[IgnoreIndices]\n",
      "wholeasnr = wholeasnr[IgnoreIndices]\n",
      "\n",
      "\n",
      "wholex = np.float16(np.array(wholex))        \n",
      "wholey = np.float16(np.array(wholey))\n",
      "wholez = np.float16(np.array(wholez))\n",
      "#that should be sliced out of the PDB\n",
      "wholex = wholex[IgnoreIndices]\n",
      "wholey = wholey[IgnoreIndices]\n",
      "wholez = wholez[IgnoreIndices]\n",
      "\n",
      "anzahl = len(wholex)\n",
      "\n",
      "\n",
      "#let the user choose, what part should be circularized interests him.\n",
      "\n",
      "#dnmt1 : 731-1602\n",
      "#lamlys: 1-158\n",
      "SubUnitChosen = \"A\"\n",
      "UserChosenStart = 1\n",
      "UserChosenEnd = 158\n",
      "\n",
      "if UserChosenEnd == None:\n",
      "    UserChosenEnd =  np.max(wholeasnr[wholesubunit == SubUnitChosen])\n",
      "\n",
      "if UserChosenStart == None:\n",
      "    UserChosenStart = np.min(wholeasnr[wholesubunit == SubUnitChosen])\n",
      "\n",
      "\n",
      "#non helical regions are called scars\n",
      "ScarsAtStartseq = \"GG\"\n",
      "ScarsAtStart = len(ScarsAtStartseq)\n",
      "ScarsAtEndseq = \"RGKCWE\"   #TODO richtige Sequenz!\n",
      "ScarsAtEnd = len(ScarsAtEndseq)\n",
      "\n",
      "\n",
      "MissingAtStart = np.min(wholeasnr[wholesubunit == SubUnitChosen]) - UserChosenStart\n",
      "MissingAtEnd = UserChosenEnd - np.max(wholeasnr[wholesubunit == SubUnitChosen]) \n",
      "\n",
      "if MissingAtStart > 0:\n",
      "    if MissingAtStart >= 5:\n",
      "        print \"Your PDB File does not contain the beginning of the protein and there is missing that much, that even an estimation of the beginning would be really bad. Please find a better PDB file, or risk it\"\n",
      "    else:\n",
      "        print \"Your PDB File does not contain the beginning of the protein, but there are less than 5 Aminoacids missing, so the position of the beginning will be estimated. If there is a better PDB file, upload it\"\n",
      "\n",
      "if MissingAtEnd > 0:\n",
      "    if MissingAtEnd >= 5:\n",
      "        print \"Your PDB File does not contain the end of the protein and there is missing that much, that even an estimation of the beginning would be really bad. Please find a better PDB file, or risk it\"\n",
      "    else:\n",
      "        print \"Your PDB File does not contain the end of the protein, but there are less than 5 Aminoacids missing, so the position of the beginning will be estimated. If there is a better PDB file, upload it\"\n",
      "\n",
      "\n",
      "PartToCircularizeBool = (((wholeasnr >= UserChosenStart) & (wholesubunit == SubUnitChosen)) & (wholeasnr <= UserChosenEnd)) #hier kann man einstellen, welche AS behalten werden sollen.\n",
      "\n",
      "InterestingAtom = wholeatom[PartToCircularizeBool]\n",
      "InterestingAminos = wholeaminos[PartToCircularizeBool]\n",
      "InterestingAANr = wholeasnr[PartToCircularizeBool]\n",
      "\n",
      "#aus den drei Arrays eines machen, das Dimension n*3 hat, also ein Array aus lauter kleinen dreier Arrays\n",
      "\n",
      "# ein Pkt: pkte[0]\n",
      "# wieder zur\u00fcck: x = pkte[:,0]\n",
      "\n",
      "\n",
      "\n",
      "PointsOfAllSubunits = np.float16(np.reshape(np.concatenate((wholex,wholey,wholez)), (anzahl,3), 'F'))\n",
      "#choose the part, that is interesting for us for circularization this is points\n",
      "pkte = PointsOfAllSubunits[PartToCircularizeBool]\n",
      "OtherPoints = PointsOfAllSubunits[wholesubunit != SubUnitChosen]\n",
      "\n",
      "#TODO Estimation of startingpoint, or user interface to get it.\n",
      "\n",
      "anfangspunkt = np.ravel(pkte[(InterestingAANr == InterestingAANr[0]) & (InterestingAtom == \"N  \")])\n",
      "endpunkt = np.ravel(pkte[(InterestingAANr == InterestingAANr[-1]) & (InterestingAtom == \"C  \")])\n",
      "\n",
      "\n",
      "AmountOfAtomsFirstAA = np.size(InterestingAANr[InterestingAANr == InterestingAANr[0]])  #anzahl an Atomen in der erstenas\n",
      "AmountOfAtomsLastAA = np.size(InterestingAANr[InterestingAANr == InterestingAANr[-1]])  #amount of atoms in last AS\n",
      "\n",
      "pickle.dump((pkte, InterestingAminos, InterestingAtom, InterestingAANr),\\\n",
      "            open(\"files/savepoints{projectname}.p\".format(projectname = UserDefinedProjectName), \"wb\"))\n",
      "\n",
      "'''\n",
      "fig = plt.figure()\n",
      "ax = fig.add_subplot(111, projection='3d')\n",
      "ax.scatter(pkte[5:-5:,0], pkte[5:-5:,1], pkte[5:-5:,2], s=10)\n",
      "ax.scatter(pkte[:4:,0], pkte[:4:,1], pkte[:4:,2], s = 20, c =\"r\")\n",
      "ax.scatter(pkte[-4::,0], pkte[-4::,1], pkte[-4::,2], s = 20, c =\"r\")\n",
      "ax.scatter(OtherPoints[:,0], OtherPoints[:,1], OtherPoints[:,2], s=10, c = \"g\")\n",
      "'''"
     ],
     "language": "python",
     "metadata": {},
     "outputs": [
      {
       "output_type": "stream",
       "stream": "stdout",
       "text": [
        "Your PDB File does not contain the end of the protein, but there are less than 5 Aminoacids missing, so the position of the beginning will be estimated. If there is a better PDB file, upload it\n"
       ]
      },
      {
       "metadata": {},
       "output_type": "pyout",
       "prompt_number": 6,
       "text": [
        "'\\nfig = plt.figure()\\nax = fig.add_subplot(111, projection=\\'3d\\')\\nax.scatter(pkte[5:-5:,0], pkte[5:-5:,1], pkte[5:-5:,2], s=10)\\nax.scatter(pkte[:4:,0], pkte[:4:,1], pkte[:4:,2], s = 20, c =\"r\")\\nax.scatter(pkte[-4::,0], pkte[-4::,1], pkte[-4::,2], s = 20, c =\"r\")\\nax.scatter(OtherPoints[:,0], OtherPoints[:,1], OtherPoints[:,2], s=10, c = \"g\")\\n'"
       ]
      }
     ],
     "prompt_number": 6
    },
    {
     "cell_type": "code",
     "collapsed": false,
     "input": [
      "#this dictionary contains the medium, the standrad-deviation and the sequence of all the angles\n",
      "angletosequence = [(29.7, 8.5, \"NVL\"), (38.7, 30., \"KTA\"), (60., 12., \"AADGTL\"), (74.5, 27., \"VNLTA\"),\n",
      "                   (117., 12., \"AAAHPEA\"), (140., 15., \"ASLPAA\"), (160., 5., \"ATGDLA\")]\n",
      "angleseparators = [0.]\n",
      "\n",
      "#the separators are there where the amount of sigmas is the same from both directions\n",
      "for i in range(len(angletosequence)-1):\n",
      "    factor = (angletosequence[i+1][0]-angletosequence[i][0])/(angletosequence[i+1][1]+ angletosequence[i][1])\n",
      "    angleseparators.append(factor * angletosequence[i][1] + angletosequence[i][0])\n",
      "angleseparators.append(180.)"
     ],
     "language": "python",
     "metadata": {},
     "outputs": [],
     "prompt_number": 7
    },
    {
     "cell_type": "code",
     "collapsed": false,
     "input": [
      "#das gedrehte darstellen, TODO muss noch auf pkte angepasst werden\n",
      "\n",
      "phi = np.pi / 2 #immer in vielfachen von pi w\u00e4hlen\n",
      "\n",
      "xgedr = dreheny(phi, wholex, wholey, wholez)[0]\n",
      "ygedr = dreheny(phi, wholex, wholey, wholez)[1]\n",
      "zgedr = dreheny(phi, wholex, wholey, wholez)[2]\n",
      "\n",
      "'''\n",
      "fig = plt.figure()\n",
      "ax = fig.add_subplot(111, projection='3d')\n",
      "ax.scatter(xgedr[5:-5:], ygedr[5:-5:], zgedr[5:-5:], s=10)\n",
      "ax.scatter(xgedr[:4:], ygedr[:4:], zgedr[:4:], s = 20, c =\"r\")\n",
      "ax.scatter(xgedr[-4::], ygedr[-4::], zgedr[-4::], s = 20, c =\"r\")\n",
      "'''"
     ],
     "language": "python",
     "metadata": {},
     "outputs": [
      {
       "metadata": {},
       "output_type": "pyout",
       "prompt_number": 8,
       "text": [
        "'\\nfig = plt.figure()\\nax = fig.add_subplot(111, projection=\\'3d\\')\\nax.scatter(xgedr[5:-5:], ygedr[5:-5:], zgedr[5:-5:], s=10)\\nax.scatter(xgedr[:4:], ygedr[:4:], zgedr[:4:], s = 20, c =\"r\")\\nax.scatter(xgedr[-4::], ygedr[-4::], zgedr[-4::], s = 20, c =\"r\")\\n'"
       ]
      }
     ],
     "prompt_number": 8
    },
    {
     "cell_type": "code",
     "collapsed": false,
     "input": [
      "#L\u00e4ngenkalibration, wir wissen, dass der Abstand von c-c 154 pm ist.\n",
      "#Wir machen das am Glycin, weil das am einfachsten f\u00fcr uns ist.\n",
      "try:\n",
      "    eichnutz = ((wholeaminos == \"GLY\") & (wholeatom == \"C  \") | ((wholeaminos == \"GLY\") & (wholeatom == \"CA \")))\n",
      "    xeich = wholex[eichnutz]\n",
      "    yeich = wholey[eichnutz]\n",
      "    zeich = wholez[eichnutz]\n",
      "\n",
      "\n",
      "    #das sieht so komisch aus, wegen alter Version\n",
      "    abstaendeeich= abstand( np.array([xeich[0::2],yeich[0::2],zeich[0::2]]),np.array([xeich[1::2],yeich[1::2],zeich[1::2]]))\n",
      "    kalib = 154. / np.mean(abstaendeeich) #pm\n",
      "    kalibfehl = np.std(abstaendeeich) * kalib\n",
      "\n",
      "    print str(kalib) + \"+-\" +str (kalibfehl) +\" pm\"\n",
      "except:\n",
      "    kalib = 100.\n",
      "    kalibfehl = 0.\n",
      "    print \"There were no Glycines in the protein, a calibration was estimated as :\" + str(kalib) + \"+-\" +str (kalibfehl) +\" pm\""
     ],
     "language": "python",
     "metadata": {},
     "outputs": [
      {
       "output_type": "stream",
       "stream": "stdout",
       "text": [
        "101.574572941+-2.93733954833 pm\n"
       ]
      }
     ],
     "prompt_number": 9
    },
    {
     "cell_type": "code",
     "collapsed": false,
     "input": [
      "#globale Variablen:\n",
      "\n",
      "#Entfernung, die der Linker mindestens immer haben sollte geschaetzter Wert 5 Angstr\u00f6m, eine Alpha Helix hat Radius 2.3A\n",
      "\n",
      "minabstand = 500/kalib #in pm\n",
      "\n",
      "#Entfernung, die ein Linker maximal haben darf vom Protein\n",
      "\n",
      "maxabstand = 5000/kalib\n",
      "\n",
      "LengthOfFlexibleAA = 250 / kalib #between 250 and 350\n",
      "FLEXIBLEATSTARTKO = (MissingAtStart + ScarsAtStart) * LengthOfFlexibleAA\n",
      "FLEXIBLEATENDKO = (MissingAtEnd + ScarsAtEnd) * LengthOfFlexibleAA"
     ],
     "language": "python",
     "metadata": {},
     "outputs": [],
     "prompt_number": 10
    },
    {
     "cell_type": "markdown",
     "metadata": {},
     "source": [
      "Wir testen, ob sich die Enden einfach direkt verbinden lassen. Daf\u00fcr schauen wir ob auf der Verbindungslinie zwischen den beiden Enden im senkrechten Abstand alle Punkte mindestens einen gewissen Abstand haben. Da aber der Punkteraum diskret ist und nicht ausgeschmiert, schauen wir einfach f\u00fcr jeden W\u00fcrfel um die Verbindungslinie, welches der geringste Abstand eines Punktes ist. Ist dieser geringer als unser geforderter Mindestabstand, bricht der Algorithmus sofort ab und es kann weiter gehen. Die W\u00fcrfel sind nur dazu da, dass wir nicht immer den Abstand des gesamten Proteins zur Linie berechnen m\u00fcssen. Wenn ein Punkt zu nah ist, finden wir ihn so auf jeden Fall.\n",
      "\n",
      "Wir m\u00fcssen auf jeden Fall den Abstand zwischen zwei Messpunkten so w\u00e4hlen, dass selbst wenn der Punkt am ung\u00fcnstigsten liegt, wir ihn aussortieren. Lieber zu fr\u00fch aussortieren als zu sp\u00e4t und dann eben das normale Prozedere durchmachen lassen. Wir w\u00e4hlen die Abst\u00e4nde so, dass immer der n\u00e4chste Punkt \n",
      "\n",
      "Der erste Messpunkt muss so sein, dass nicht unser Startpunkt in den ersten W\u00fcrfel f\u00e4llt, genauso beim letzten."
     ]
    },
    {
     "cell_type": "code",
     "collapsed": false,
     "input": [
      "abstandanfend = abstand(anfangspunkt, endpunkt)\n",
      "kantenlaenge = 4 * minabstand\n",
      "#print kantenlaenge\n",
      "wuerfeldiaghalbe = np.sqrt(3)/2 * kantenlaenge\n",
      "#print wuerfeldiaghalbe\n",
      "\n",
      "anzahlwuerfel = int(abstandanfend / wuerfeldiaghalbe) #wir setzen einen mehr ein, als wir m\u00fcssten\n",
      "if anzahlwuerfel == 0:\n",
      "    if abstandanfend < (2* minabstand):\n",
      "        print \"Die Enden sind extrem nah beieinander, einfach versuchen zu zyklieren mit Linker, der genau der L\u00e4nge entspricht!\"\n",
      "    else:\n",
      "        wuerfelmitten = np.array([(anfangspunkt-endpunkt)/2])\n",
      "        kantenlaenge = abstandanfend / np.sqrt(3)\n",
      "        wuerfelabstand = 0\n",
      "elif anzahlwuerfel == 1:\n",
      "    kantenlaenge = abstandanfend / np.sqrt(3)\n",
      "    wuerfeldiaghalbe = np.sqrt(3)/2 * kantenlaenge\n",
      "    wuerfelmitten = (endpunkt-anfangspunkt)/abstandanfend * (wuerfeldiaghalbe) + anfangspunkt\n",
      "    wuerfelabstand = 0\n",
      "    \n",
      "else:\n",
      "    wuerfelabstand = (abstandanfend - (2* wuerfeldiaghalbe))/(anzahlwuerfel - 1)\n",
      "    \n",
      "    #print anzahlwuerfel\n",
      "    \n",
      "    #nun die Verbindungsgerade zwischen den beiden Punkten. v = m * t + 0 mit normiertem m und t (Abstand*parameter)\n",
      "    wuerfelmitten = []\n",
      "    for i in range(0, anzahlwuerfel):\n",
      "        wuerfelmitten.append( (endpunkt-anfangspunkt)/abstandanfend * (wuerfelabstand * i + wuerfeldiaghalbe) + anfangspunkt)\n",
      "        \n",
      "    wuerfelmitten = np.array(wuerfelmitten)\n",
      "    \n",
      "#print wuerfelmitten\n",
      "\n",
      "\n",
      "#minimale Abstand, den etwas haben muss, von W\u00fcrfelmittelpunkt, ab dem wir sagen, dass was zu nah ist, das ist auch \n",
      "#der Fehler den wir haben k\u00f6nnen.\n",
      "minabstandcalc = np.sqrt(minabstand**2 + wuerfelabstand**2)\n",
      "\n",
      "derallernaechstepunkt = None\n",
      "\n",
      "#das Einschr\u00e4nken der Werte auf die W\u00fcrfelinnereien\n",
      "if np.size(wuerfelmitten) == 3:\n",
      "    mitte = wuerfelmitten\n",
      "    keep = ((PointsOfAllSubunits[:,0] > (mitte[0] - (kantenlaenge / 2))) & (PointsOfAllSubunits[:,0] < (mitte[0] + (kantenlaenge / 2))) & \\\n",
      "                (PointsOfAllSubunits[:,1] > (mitte[1] - (kantenlaenge / 2))) & (PointsOfAllSubunits[:,1] < (mitte[1] + (kantenlaenge / 2))) & \\\n",
      "                (PointsOfAllSubunits[:,2] > (mitte[2] - (kantenlaenge / 2))) & (PointsOfAllSubunits[:,2] < (mitte[2] + (kantenlaenge / 2))))   \n",
      "\n",
      "    wuerfelpunkte = PointsOfAllSubunits[keep]\n",
      "    #print wuerfelpunkte\n",
      "    #print abstandarray(mitte, wuerfelpunkte)\n",
      "    mintemp = np.min(abstandpktzuarray(mitte, wuerfelpunkte))\n",
      "    #print mintemp\n",
      "    if  mintemp < minabstandcalc:\n",
      "        print \"Es ist nicht m\u00f6glich einen direkten Linker zu bauen. Der minimale Abstand von der direkten Verbindung betrug: \" \\\n",
      "                + str( mintemp * kalib) + \" pm\"\n",
      "\n",
      "    else:\n",
      "        if derallernaechstepunkt == None:\n",
      "            derallernaechstepunkt = mintemp\n",
      "        elif mintemp < derallernaechstepunkt:\n",
      "            derallernaechstepunkt = mintemp\n",
      "\n",
      "        else:\n",
      "            print \"Es ist m\u00f6glich einen direkten Linker zu machen, da der n\u00e4chste Punkt vom Linker \" + str(derallernaechstepunkt * kalib) + \\\n",
      "                  \" pm entfernt ist.\"\n",
      "else:\n",
      "\n",
      "    for mitte in wuerfelmitten:\n",
      "        keep = ((PointsOfAllSubunits[:,0] > (mitte[0] - (kantenlaenge / 2))) & (PointsOfAllSubunits[:,0] < (mitte[0] + (kantenlaenge / 2))) & \\\n",
      "                (PointsOfAllSubunits[:,1] > (mitte[1] - (kantenlaenge / 2))) & (PointsOfAllSubunits[:,1] < (mitte[1] + (kantenlaenge / 2))) & \\\n",
      "                (PointsOfAllSubunits[:,2] > (mitte[2] - (kantenlaenge / 2))) & (PointsOfAllSubunits[:,2] < (mitte[2] + (kantenlaenge / 2))))   \n",
      "\n",
      "        wuerfelpunkte = PointsOfAllSubunits[keep]\n",
      "        #print wuerfelpunkte\n",
      "        #print abstandarray(mitte, wuerfelpunkte)\n",
      "        mintemp = np.min(abstandpktzuarray(mitte, wuerfelpunkte))\n",
      "        #print mintemp\n",
      "        if  mintemp < minabstandcalc:\n",
      "            print \"Es ist nicht m\u00f6glich einen direkten Linker zu bauen. Der minimale Abstand von der direkten Verbindung betrug: \" \\\n",
      "                    + str( mintemp * kalib) + \" pm\"\n",
      "            break\n",
      "\n",
      "        else:\n",
      "            if derallernaechstepunkt == None:\n",
      "                derallernaechstepunkt = mintemp\n",
      "            elif mintemp < derallernaechstepunkt:\n",
      "                derallernaechstepunkt = mintemp\n",
      "\n",
      "    else:\n",
      "        print \"Es ist m\u00f6glich einen direkten Linker zu machen, da der n\u00e4chste Punkt vom Linker \" + str(derallernaechstepunkt * kalib) + \\\n",
      "              \" pm entfernt ist.\"\n",
      "    \n",
      "    \n",
      "#FIXME, der Control Flow... Wenn es vorher feststellt, dass die Enden sehr nah beieinander sind, geht es dennoch durch das ganze \n",
      "#untere wieder durch... Mal schauen, was sich da machen l\u00e4sst."
     ],
     "language": "python",
     "metadata": {},
     "outputs": [
      {
       "output_type": "stream",
       "stream": "stdout",
       "text": [
        "Es ist nicht m\u00f6glich einen direkten Linker zu bauen. Der minimale Abstand von der direkten Verbindung betrug: 229.773898018 pm\n"
       ]
      }
     ],
     "prompt_number": 11
    },
    {
     "cell_type": "markdown",
     "metadata": {},
     "source": [
      "Ob eine Region au\u00dfen ist. Daf\u00fcr werden von dem Punkt Strahlen in alle Richtungen in 5\u00b0 Schritten gemacht und diese dann in eine Liste geschrieben, welche Winkel frei sind."
     ]
    },
    {
     "cell_type": "code",
     "collapsed": false,
     "input": [
      "#Test, ob die Enden auch au\u00dfensind\n",
      "#Abstand zwischen Anfang und allen anderen Punkten in einem Array\n",
      "\n",
      "\n",
      "\n",
      "def punktebeigerade(minabstand, pkte, gerade, aufpunkt, laenge):\n",
      "    '''\n",
      "aufpunkt, der Punkt von wo aus geht\n",
      "gerade: normiert\n",
      "gibt True zur\u00fcck, wenn kein Punkt in der N\u00e4he der Geraden ist.\n",
      "    '''\n",
      "    kantenlaenge = 4 * minabstand\n",
      "    wuerfeldiaghalbe = np.sqrt(3)/2 * kantenlaenge\n",
      "    \n",
      "    anzahlwuerfel = int(laenge / wuerfeldiaghalbe) + 1\n",
      "    \n",
      "    #nun die Verbindungsgerade zwischen den beiden Punkten. v = m * t + x0 mit normiertem m und t (Abstand*parameter)\n",
      "    wuerfelmitten = []\n",
      "\n",
      "    for i in range(0, anzahlwuerfel):\n",
      "        wuerfelmitten.append( gerade * (wuerfeldiaghalbe * (i + 1)) + aufpunkt)\n",
      "    \n",
      "        \n",
      "    wuerfelmitten = np.array(wuerfelmitten)\n",
      "        \n",
      "    #print wuerfelmitten\n",
      "    \n",
      "    \n",
      "    #minimale Abstand, den etwas haben muss, von W\u00fcrfelmittelpunkt, ab dem wir sagen, dass was zu nah ist\n",
      "    minabstandcalc = np.sqrt(5) * minabstand\n",
      "    \n",
      "    \n",
      "    #das Einschr\u00e4nken der Werte auf die W\u00fcrfelinnereien\n",
      "    for mitte in wuerfelmitten:\n",
      "        keep = ((pkte[:,0] > (mitte[0] - (kantenlaenge / 2))) & (pkte[:,0] < (mitte[0] + (kantenlaenge / 2))) & \\\n",
      "                (pkte[:,1] > (mitte[1] - (kantenlaenge / 2))) & (pkte[:,1] < (mitte[1] + (kantenlaenge / 2))) & \\\n",
      "                (pkte[:,2] > (mitte[2] - (kantenlaenge / 2))) & (pkte[:,2] < (mitte[2] + (kantenlaenge / 2))))   \n",
      "        \n",
      "        \n",
      "        wuerfelpunkte = pkte[keep]\n",
      "        if np.size(wuerfelpunkte) == 0:\n",
      "            continue\n",
      "        \n",
      "        mintemp = np.min(abstandpktzuarray(mitte, wuerfelpunkte))\n",
      "        \n",
      "        if  mintemp < minabstandcalc:\n",
      "            return False\n",
      "            break\n",
      "         \n",
      "    else:\n",
      "        return True\n",
      "    \n",
      "\n",
      "def test_accessible_angles(winkelarray, length, anfangspunkt, proteinpoints, gerade = np.array([0,0,1])):\n",
      "    '''\n",
      "    angles are measured from z-axis, returns a boolean array to slice with.\n",
      "    '''\n",
      "    moeglichewinkelanfangbool = []\n",
      "\n",
      "    for winkel in winkelarray:\n",
      "        moeglichewinkelanfangbool.append(punktebeigerade(minabstand, PointsOfAllSubunits, drehenxy(winkel[0], winkel[1], gerade),\\\n",
      "                                                         anfangspunkt , maxvonanfang))\n",
      "\n",
      "    return np.array(moeglichewinkelanfangbool)\n",
      "    \n",
      "   "
     ],
     "language": "python",
     "metadata": {},
     "outputs": [],
     "prompt_number": 12
    },
    {
     "cell_type": "code",
     "collapsed": false,
     "input": [
      " \n",
      "\n",
      "#das sind nun 2592 Berechnungen...\n",
      "testwinkel = np.mgrid[0:180:5, 0:360:5] * np.pi/180 #Endwinkel nicht enthalten, null mit drinnen, das sind ja auch nur 70 Rechn extra\n",
      "winkelarray = np.reshape(np.ravel(testwinkel), (2592,2), 'F')    \n",
      "\n",
      "\n",
      "\n",
      "#Ueberpr\u00fcfen, ob der Anfang innen ist.\n",
      "maxvonanfang = np.max(abstandpktzuarray(pkte[0] ,PointsOfAllSubunits))\n",
      "#geradenarray = np.reshape(np.ravel(drehenxy(testwinkel[0], testwinkel[1], gerade), order = 'F'), (2592,3), 'C')\n",
      "\n",
      "moeglichewinkelanfangbool = test_accessible_angles(winkelarray, maxvonanfang, anfangspunkt, PointsOfAllSubunits)   \n",
      "\n",
      "\n",
      "#\u00dcberpr\u00fcfen, ob das Ende innen ist.\n",
      "maxvonende = np.max(abstandpktzuarray(endpunkt ,PointsOfAllSubunits))\n",
      "\n",
      "\n",
      "moeglichewinkelendebool = test_accessible_angles(winkelarray, maxvonende, endpunkt, PointsOfAllSubunits)\n",
      "\n",
      "\n",
      "\n",
      "moeglichewinkelanfang = winkelarray[moeglichewinkelanfangbool]\n",
      "moeglichewinkelende = winkelarray[moeglichewinkelendebool]\n",
      "if (np.size(moeglichewinkelanfangbool) == 0) | (np.size(moeglichewinkelendebool) == 0):\n",
      "    #TODO, vielleicht noch mit flexiblem Linker verbindbar? Einfach der Test, ob es an der Oberfl\u00e4che ist.\n",
      "    my_exit(\"One end is covered in the protein, it is not circularizable\")"
     ],
     "language": "python",
     "metadata": {},
     "outputs": [],
     "prompt_number": 13
    },
    {
     "cell_type": "markdown",
     "metadata": {},
     "source": [
      "Wir versuchen nun wirklich einen Linker zu finden. Daf\u00fcr alle m\u00f6glichen Linker, die zum Ziel f\u00fchren erzeugen lassen. So ein Linker ist eindeutig bestimmt, durch die Punkte, durch die er durchgeht, das hei\u00dft man muss nur die Punkte abspeichern lassen. Die kann man dann auswerten im Endeffekt und so den besten Linker rausfinden.\n",
      "\n",
      "Dabei kann ein Linker maximal 3 Winkel haben, dann ist es m\u00f6glich ein 5 Eck mit den Punkten zu bauen. Das ergibt bei einer Winkelvervteilung von jeweils 5 \u00b0 2500^3 M\u00f6glichkeiten.\n",
      "\n",
      "Jede Aminos\u00e4ure in einer Alphahelix macht dann eine Verschiebung um 1,5 Angstr\u00f6m. Das hei\u00dft, dass jedes einzelne Linkerst\u00fcck (keine Gelenke) 1.5A lang ist.\n",
      "\n",
      "F\u00fcr die maximale L\u00e4nge des Linkers legen wir eine Schnur um eine Kugel, mit dem Radius des 3/4 (noch dr\u00fcber sprechen) des maximalen Abstands von dem Ende zu dem Rest.\n",
      "\n"
     ]
    },
    {
     "cell_type": "markdown",
     "metadata": {},
     "source": [
      "Wir sortieren jetzt die Punkte aus, bei denen Proteinpunkte auf der Verbindungslinie zwischen den beiden liegen. \n",
      "\n",
      "Daf\u00fcr berechnen wir f\u00fcr jede Verbindung zwischen A und B alle Abst\u00e4nde AC und BC. Daraus k\u00f6nnen wir dann r\u00fcckschl\u00fcsse ziehen, ob es Punkte gibt, die zwischen der Verbindungslinie liegen. Generell gibt es zwei Kriterien, die erf\u00fcllt sein m\u00fcssen:\n",
      "\n",
      "AC und BC m\u00fcssen k\u00fcrzer sein als AB (Kreis um jeweils den anderen Punkt)\n",
      "AC + BC muss kleiner als $ \\sqrt{AB^2 + d^2}+d$ sein. (Ellipse durch die \u00e4u\u00dfersten Eckpunkte, die wir aussortieren wollen)\n",
      "\n",
      "Mit dieser Methode sortieren wir um ung\u00fcnstigsten Fall (k\u00fcrzester Linker, schlechtester Punkt vom Protein, also ganz in der Mitte) noch Punkte aus, bei denen ein Punkt in 2d Entfernung vom Linker ist. Das ist ok, daf\u00fcr dass das so eine einfache Methode ist."
     ]
    },
    {
     "cell_type": "heading",
     "level": 4,
     "metadata": {},
     "source": [
      "TODO: Irgendwie mit hineinnehmen, ob das Protein gro\u00df ist (verschieden lange Linker nehmen), ob man viele Winkel gleich am Anfang angreifen kann (eine Iteration vllt. herausnehmen) und was man so machen kann, um Rechenzeit zu sparen."
     ]
    },
    {
     "cell_type": "code",
     "collapsed": false,
     "input": [
      "#displacement ist wirklich die Verschiebung im 3d raum, deshalb m\u00fcssen die L\u00e4ngen dreimal draufgemacht werden.\n",
      "def make_displacements(lengtharray, displacementarray):\n",
      "    oneaxis = np.size(lengtharray)\n",
      "    twoaxis = np.size(displacementarray, axis = 0)\n",
      "    \n",
      "    disptiled = np.tile(displacementarray, (oneaxis, 1))\n",
      "    lengthshaped = np.repeat(lengtharray, 3 * twoaxis)\n",
      "    lengthshaped = np.reshape(lengthshaped, (oneaxis * twoaxis, 3))\n",
      "    \n",
      "    return disptiled * lengthshaped\n",
      "    \n",
      "    "
     ],
     "language": "python",
     "metadata": {},
     "outputs": [],
     "prompt_number": 14
    },
    {
     "cell_type": "code",
     "collapsed": false,
     "input": [
      "def sort_out_by_protein(startingarray, endingarray, proteinpoints, mindist, beforearray = None):\n",
      "    '''\n",
      "    startingarray must be an array of (x,3) shape. so add it as: [startingarray]\n",
      "    beforearray is used, if also arrays before the connection need to be sliced. Then the boolarray is returned.\n",
      "    '''\n",
      "    if np.shape(startingarray) == (3,):\n",
      "        starttemp = np.repeat([startingarray], np.size(endingarray, axis=0), axis =0)\n",
      "    else:\n",
      "        starttemp = startingarray\n",
      "    oneaxis = np.size(endingarray, axis = 0)    \n",
      "    twoaxis = np.size(proteinpoints, axis=0)    \n",
      "    #expand the arrays\n",
      "    startendlength = vectabsar(starttemp-endingarray)\n",
      "    startendlength = np.repeat(startendlength, twoaxis , axis =0)\n",
      "    starttemp = np.repeat(starttemp, twoaxis, axis =0)#immer die gleichen hintereinander\n",
      "    endtemp = np.repeat(endingarray, twoaxis, axis =0)\n",
      "    proteintemp = np.tile(proteinpoints, (oneaxis,1))\n",
      "    startprotlength = vectabsar(starttemp-proteintemp)\n",
      "    endprotlength = vectabsar(endtemp-proteintemp)\n",
      "    \n",
      "    \n",
      "    \n",
      "    #arrays for every connection a row and every proteinpoint a column\n",
      "    startendlength = np.reshape(startendlength, (oneaxis, twoaxis), \"C\")\n",
      "    startprotlength = np.reshape(startprotlength, (oneaxis, twoaxis), \"C\")\n",
      "    endprotlength = np.reshape(endprotlength, (oneaxis, twoaxis), \"C\")\n",
      "    \n",
      "    #make the slicingarray, True means sort out\n",
      "    connectpointbool = ((startprotlength < startendlength) & (endprotlength < startendlength) & \\\n",
      "    ((startprotlength + endprotlength) < (np.sqrt(np.square(startendlength)+mindist**2)+mindist)))\n",
      "    connectpointbool = np.invert(connectpointbool.any(axis = 1) )  \n",
      "    \n",
      "    \n",
      "    if beforearray == None:    \n",
      "        if np.shape(startingarray) == (3,):\n",
      "            return [np.float16(startingarray), np.float16(endingarray[connectpointbool])]\n",
      "        else:\n",
      "            return [np.float16(startingarray[connectpointbool]), np.float16(endingarray[connectpointbool])]\n",
      "    else:\n",
      "        return (np.float16(beforearray[connectpointbool]), np.float16(startingarray[connectpointbool]),\\\n",
      "                np.float16(endingarray[connectpointbool]))"
     ],
     "language": "python",
     "metadata": {},
     "outputs": [],
     "prompt_number": 15
    },
    {
     "cell_type": "markdown",
     "metadata": {},
     "source": [
      "Wir fangen sowohl vorne als auch hinten an, mit allen Winkeln, die m\u00f6glich sind und allen L\u00e4ngen, die m\u00f6glich sind. Wir bekommen dann Arrays von den ersten Punkten und den letzten Punkten nach dem Protein."
     ]
    },
    {
     "cell_type": "code",
     "collapsed": false,
     "input": [
      "def naechstepunkte(anfangsarray, verschiebungsarray):\n",
      "    '''\n",
      "    gibt ein Array zur\u00fcck, das zu jedem Punkt, jede Verschiebung macht aus dem verschiebungsarray. Verschiebungsarray\n",
      "    sind einfach Vektoren, wie das verschoben werden kann\n",
      "    anfangsarray sind Vektoren, von denen wir ausgehen.\n",
      "    '''\n",
      "    laengeanfang = np.size(anfangsarray, axis=0)\n",
      "    laengeversch = np.size(verschiebungsarray, axis=0)\n",
      "    hilfanfang = np.float16(np.repeat(anfangsarray, laengeversch, axis=0))\n",
      "    hilfversch = np.float16(np.tile(verschiebungsarray, (laengeanfang, 1)))\n",
      "    return [hilfanfang, hilfanfang + hilfversch]\n",
      "\n",
      "def aussortierennachpunken(punktearray, proteinpunkte, minabstand, maxabstand):\n",
      "    '''\n",
      "    schmei\u00dft Punkte raus, die in dem Protein liegen, bzw. die zu weit vom Protein weg sind\n",
      "    gibt ein Bool Array raus, mit dem man das Punktearray slicen kann, vom Protein wird nur jeder 4 Punkt verwendet\n",
      "    '''\n",
      "    \n",
      "    temp1 = np.repeat(punktearray, np.size(proteinpunkte[::4], axis=0), axis =0)\n",
      "    temp2 = np.tile(proteinpunkte[::4], (np.size(punktearray, axis=0),1))\n",
      "    abstaende = np.reshape(abstandarrays_quadr(temp1, temp2), (np.size(punktearray, axis=0), np.size(proteinpunkte[::4], axis=0)))\n",
      "    minimaleabst = np.min(abstaende, axis=1)\n",
      "    keep = (minimaleabst < maxabstand**2) & (minimaleabst > minabstand**2)\n",
      "    return keep\n",
      "    "
     ],
     "language": "python",
     "metadata": {},
     "outputs": [],
     "prompt_number": 16
    },
    {
     "cell_type": "code",
     "collapsed": false,
     "input": [
      "def gaussian_normed(x, sig, mu):\n",
      "    return 1/(sig*np.sqrt(2*np.pi)) * np.exp(-0.5 * ((x-float(mu))/sig) ** 2)\n",
      "\n",
      "#in anglearray there are always the actual angles in it\n",
      "#IMPORTANT: here should never be a 0 in it\n",
      "def angle_weighing(anglearray, angletosequence = angletosequence):\n",
      "    #build function\n",
      "    returnarray = np.zeros(np.size(anglearray))\n",
      "    sigmas = []\n",
      "    for angledefinition in angletosequence:\n",
      "        returnarray = returnarray + gaussian_normed(anglearray, angledefinition[1] * np.pi / 180.,\n",
      "                                                    angledefinition[0] * np.pi / 180.)\n",
      "        sigmas.append(angledefinition[1] * np.pi / 180.)\n",
      "    minsigma = min(sigmas)\n",
      "    returnarray = 2 / (minsigma * np.sqrt(2 * np.pi)) - returnarray    \n",
      "    return returnarray\n",
      "\n",
      "#die Winkelfunktion muss man noch \u00fcberlegen, in the end it returns a on one normed value.\n",
      "def angle_function(StartingArray, MiddleArray, EndingArray):\n",
      "    vect1 = (StartingArray - MiddleArray)\n",
      "    vect2 = (EndingArray - MiddleArray)\n",
      "    #catch if there is 0 displacement\n",
      "    tocalculate = ((vect1 != np.array([0,0,0])).any(1)) & ((vect2 != np.array([0,0,0])).any(1))\n",
      "    vecttemp1 = vect1[tocalculate]\n",
      "    vecttemp2 = vect2[tocalculate]\n",
      "    catchrounding = skalar_product(vecttemp1, vecttemp2)/(vectabsar(vecttemp1)*vectabsar(vecttemp2))\n",
      "    #get rounding arrors\n",
      "    catchrounding[catchrounding > 1] = 1\n",
      "    catchrounding[catchrounding < -1] = -1\n",
      "    angles = np.arccos(catchrounding)\n",
      "    functionvalues = np.zeros(np.size(MiddleArray, axis = 0))\n",
      "    functionvalues[tocalculate] = angle_weighing(angles)\n",
      "    return functionvalues\n",
      "\n",
      "#needs a on one normed array of the weighing of the points, if not all points are equally weighed\n",
      "\n",
      "#TODO: Start can be array or just points, End has to be an array...\n",
      "def unpreferable_places(Start, End, ProteinPoints, AminoacidNumberArray, ToBeWeighedAAInput, WeighingofAA, substratelist):\n",
      "    if np.shape(Start) ==(3,):\n",
      "        Start = np.repeat([Start], np.size(End, axis = 0), axis = 0)\n",
      "        \n",
      "    if np.shape(End) ==(3,):\n",
      "        End = np.repeat([End], np.size(Start, axis = 0), axis = 0)\n",
      "    \n",
      "    #all the normal aminoacids from the arrays\n",
      "    SliceToBeWeighed = np.in1d(ToBeWeighedAAInput, AminoacidNumberArray)\n",
      "    ToBeWeighedAA = ToBeWeighedAAInput[SliceToBeWeighed]\n",
      "    \n",
      "    #reduce the points to their mean, so that every aminoacid is equally weighed and not long ones are more important than\n",
      "    #than short ones\n",
      "    Points = []\n",
      "    for number in ToBeWeighedAA:\n",
      "        Points.append(np.mean(ProteinPoints[AminoacidNumberArray == number], axis = 0))\n",
      "    Points = np.array(Points)\n",
      "    \n",
      "    toappendtoweighingofAA = np.array([])\n",
      "    #for the substrate\n",
      "    for sublist in substratelist:\n",
      "        if sublist[0] in AminoacidNumberArray:\n",
      "            activepoint = np.mean(ProteinPoints[AminoacidNumberArray == sublist[0]], axis = 0)\n",
      "            boolangles = test_accessible_angles(winkelarray, sublist[1], activepoint, ProteinPoints)\n",
      "            lengtharray = np.array([0.2, 0.3, 0.4, 0.45, 0.5, 0.55, 0.6, 0.7, 0.8, 1.]) * sublist[2]\n",
      "            hereangles = winkelarray[boolangles]\n",
      "            \n",
      "            dispnorm = [np.array([0,0,0])]\n",
      "            for winkel in hereangles:\n",
      "                temp = drehenxy(winkel[0], winkel[1], np.array([0,0,1]))\n",
      "                np.append(dispnorm, [temp], axis = 0)\n",
      "                \n",
      "            disps = make_displacements(lengtharray, dispnorm)\n",
      "            disps = disps[(disps != np.array([0,0,0])).any(axis = 1)]\n",
      "            #also add the activesite\n",
      "            if np.size(Points) == 0:\n",
      "                Points = np.concatenate((disps + activepoint, [activepoint]), axis = 0)\n",
      "            else:\n",
      "                Points = np.concatenate((Points, disps + activepoint, [activepoint]), axis = 0)\n",
      "            toappendtoweighingofAA = np.append(toappendtoweighingofAA, np.ones(np.size(disps, axis = 0) + 1) /\n",
      "                      (np.size(disps, axis = 0) + 1) * sublist[1])\n",
      "            \n",
      "    \n",
      "    calc = (Start != End).any(axis = 1)\n",
      "    Starttemp = Start[calc]\n",
      "    Endtemp = End[calc]\n",
      "    \n",
      "    DistanceFromConnection, oneaxis, twoaxis = distance_from_connection(Starttemp, Endtemp, Points)\n",
      "   \n",
      "    \n",
      "    if WeighingofAA == None:\n",
      "        WeighingofAA = np.ones(twoaxis)\n",
      "\n",
      "        \n",
      "    #the array is normalized here and gets the size of the points, there can be set in arbitrary numnbers for the weighing\n",
      "    WeighingofAAtemp = WeighingofAA[SliceToBeWeighed]\n",
      "    WeighingofAAtemp = np.concatenate((WeighingofAAtemp, toappendtoweighingofAA))\n",
      "    WeighingofAAtemp = (WeighingofAAtemp/np.mean(WeighingofAAtemp))\n",
      "    WeighingofAAtemp = np.tile(WeighingofAAtemp, (oneaxis,1))\n",
      "    WeighingofAAtemp = np.reshape(WeighingofAAtemp, (oneaxis, twoaxis))\n",
      "      \n",
      "        \n",
      "    #TODO: zu welcher Potenz soll das dann gehen?\n",
      "    ValueOfPoint = WeighingofAAtemp / (DistanceFromConnection ** 2)\n",
      "    \n",
      "    returns = np.zeros(np.size(Start, axis = 0))\n",
      "    returns[calc] = np.sum(ValueOfPoint, axis = 1)\n",
      "    return returns\n",
      "\n",
      "\n",
      "def distance_from_surface(beforearray, testarray, ProteinPoints, Afterpoint = None):\n",
      "    '''\n",
      "    calculates the distances of the testarrays points from the surface as just the minimum of the distances to all protein \n",
      "    points. It doesn't calculate the points that are equal to the points of the beforearray, so that these are not taken double.\n",
      "    And it checks that the points don't lie on the endpoint.\n",
      "    Returns the distance divided by the minimal distance for norming the values somehow.\n",
      "    '''\n",
      "    Horiz_Axis = np.size(ProteinPoints, axis = 0)\n",
      "    testsize = np.size(testarray, axis = 0)\n",
      "    \n",
      "    \n",
      "    if np.shape(beforearray) == (3,):\n",
      "        beforearray = np.repeat([beforearray], testsize, axis = 0)        \n",
      "        \n",
      "    calc = (beforearray != testarray).any(axis = 1)\n",
      "    if Afterpoint != None:\n",
      "        Afterpoint = np.repeat(Afterpoint, testsize, axis = 0)\n",
      "        calc = (Afterpoint != testarray).any(axis = 1) & calc\n",
      "    \n",
      "    FirstPoints = testarray[calc]\n",
      "    \n",
      "    Vert_Axis = np.size(FirstPoints, axis = 0)\n",
      "    Prottemp = np.tile(ProteinPoints, (Vert_Axis, 1))\n",
      "    if Vert_Axis == 0:\n",
      "        Distancesret = np.zeros(testsize)\n",
      "    else:\n",
      "        Firsttemp = np.repeat(FirstPoints, Horiz_Axis, axis = 0)\n",
      "        Distances = abstandarrays(Firsttemp, Prottemp)    \n",
      "        Distances = np.reshape(Distances, (Vert_Axis, Horiz_Axis))\n",
      "        Distances = np.min(Distances, axis = 1)\n",
      "        Distancesret = np.zeros(testsize)\n",
      "        #TODO: \u00dcber Potenz nachdenken\n",
      "        Distancesret[calc] = (Distances - minabstand) ** 2 / minabstand\n",
      "    \n",
      "    return Distancesret\n",
      "\n",
      "\n",
      "def weighing_function_rigids(StartPoint, FirstArray, SecondArray, ThirdArray, EndPoint,\\\n",
      "                      ProteinPoints, AminoacidNumberArray, ToBeWeighedAA, WeighingofAA = None, substratelist = None):\n",
      "    \n",
      "    LinkerLength = abstandpktzuarray(StartPoint, FirstArray) + abstandarrays(FirstArray, SecondArray) \\\n",
      "    + abstandarrays(SecondArray, ThirdArray) + abstandpktzuarray(EndPoint, ThirdArray) \n",
      "    \n",
      "    LengthNormed = LinkerLength / (abstand(StartPoint, EndPoint))\n",
      "    \n",
      "    #catch where there are no new points in the SecondArray\n",
      "    SecondAngles = angle_function(FirstArray, SecondArray, ThirdArray)\n",
      "    SecondAngles[SecondAngles == 0] = angle_function(StartPoint, SecondArray[SecondAngles == 0],\\\n",
      "                                                     ThirdArray[SecondAngles == 0])\n",
      "    \n",
      "    Angles = angle_function(StartPoint, FirstArray, SecondArray) + SecondAngles + \\\n",
      "    angle_function(SecondArray, ThirdArray, EndPoint)\n",
      "    \n",
      "    if ToBeWeighedAA == None:\n",
      "        SiteInfluenceNormed = np.zeros(np.size(Angles))\n",
      "    else:\n",
      "        SiteInfluenceNormed = unpreferable_places(StartPoint, FirstArray,\\\n",
      "                                                  ProteinPoints, AminoacidNumberArray, ToBeWeighedAA,\n",
      "                                                  WeighingofAA, substratelist) + \\\n",
      "        unpreferable_places(FirstArray, SecondArray, ProteinPoints, AminoacidNumberArray, ToBeWeighedAA,\n",
      "                            WeighingofAA, substratelist) + \\\n",
      "        unpreferable_places(SecondArray, ThirdArray, ProteinPoints, AminoacidNumberArray, ToBeWeighedAA,\n",
      "                            WeighingofAA, substratelist) + \\\n",
      "        unpreferable_places(EndPoint, ThirdArray, ProteinPoints, AminoacidNumberArray, ToBeWeighedAA,\n",
      "                            WeighingofAA, substratelist)\n",
      "    \n",
      "    DistancesFromProtein = (distance_from_surface(StartPoint, FirstArray, ProteinPoints) + \n",
      "                            distance_from_surface(FirstArray, SecondArray, ProteinPoints) +\n",
      "                            distance_from_surface(SecondArray, ThirdArray, ProteinPoints, [EndPoint]))\n",
      "    \n",
      "    weighedvalue = LengthNormed\n",
      "    \n",
      "    return (weighedvalue, LengthNormed * abstand(StartPoint, EndPoint), Angles,\n",
      "            SiteInfluenceNormed, DistancesFromProtein)\n",
      "\n",
      "\n",
      "def weighing_function_flex(StartPoint, FirstArray, SecondArray, ThirdArray, EndPoint,\\\n",
      "                      ProteinPoints, AminoacidNumberArray, ToBeWeighedAA, WeighingofAA = None, substratelist = None):\n",
      "    \n",
      "    LinkerLength = abstandpktzuarray(StartPoint, FirstArray) + abstandarrays(FirstArray, SecondArray) \\\n",
      "    + abstandarrays(SecondArray, ThirdArray) + abstandpktzuarray(EndPoint, ThirdArray) \n",
      "    \n",
      "    LengthNormed = LinkerLength / (abstand(StartPoint, EndPoint))\n",
      "    \n",
      "    Angles = angle_function(FirstArray, SecondArray, ThirdArray)\n",
      "    \n",
      "    if ToBeWeighedAA == None:\n",
      "        SiteInfluenceNormed = np.zeros(np.size(Angles))\n",
      "    else:\n",
      "        SiteInfluenceNormed = unpreferable_places(FirstArray, SecondArray, ProteinPoints, AminoacidNumberArray,\n",
      "                                                  ToBeWeighedAA, WeighingofAA, substratelist) + \\\n",
      "        unpreferable_places(SecondArray, ThirdArray, ProteinPoints, AminoacidNumberArray, ToBeWeighedAA, \n",
      "                            WeighingofAA, substratelist) \n",
      "    \n",
      "    DistancesFromProtein = distance_from_surface(FirstArray, SecondArray, ProteinPoints) \n",
      "    \n",
      "    weighedvalue = LengthNormed\n",
      "    \n",
      "    return (weighedvalue, LengthNormed * abstand(StartPoint, EndPoint), Angles,\n",
      "            SiteInfluenceNormed, DistancesFromProtein)\n",
      "#Aus dem Weighingstring nutzbare Form machen.\n",
      "\n",
      "\n",
      "def make_weighingarrays(Userstring):\n",
      "    \n",
      "    \"\"\"\n",
      "Userstring ist von der Form: 273,10 280-290,5 298,7,35.6  usw. (Leerzeichen trennen Eintr\u00e4ge, , for single residues\n",
      "- for ranges, second, for the diameter of the substrate)\n",
      "If nothing should be weighted, insert \"\"\n",
      "    \n",
      "    \"\"\"\n",
      "    if Userstring == \"\":\n",
      "        return None, None, None\n",
      "    else:\n",
      "        ShouldBeWeighed = []\n",
      "        Weighingarray = []\n",
      "        substratelist = []\n",
      "        Userlist = Userstring.split()\n",
      "        for entry in Userlist:\n",
      "            if \"-\" not in entry:\n",
      "                #- is not in entry\n",
      "                if len(entry.split(\",\")) == 2:\n",
      "                    ShouldBeWeighed.append(int(entry.split(\",\")[0]))\n",
      "                    Weighingarray.append(float(entry.split(\",\")[1]))\n",
      "                else:\n",
      "                    substratelist.append([int(entry.split(\",\")[0]), float(entry.split(\",\")[1]), float(entry.split(\",\")[2])])\n",
      "            else:\n",
      "                #appends every entry, so borders are included in the interval\n",
      "                ShouldBeWeighed += (range(int(entry.split(\",\")[0].split(\"-\")[0]),int(entry.split(\",\")[0].split(\"-\")[1])+1))\n",
      "                #for many values they should be normed in weighing. it's the sites that interest us, lists are multiplied.\n",
      "                Weighingarray += ([float(entry.split(\",\")[1])/ \\\n",
      "                                      (int(entry.split(\",\")[0].split(\"-\")[1])+1-int(entry.split(\",\")[0].split(\"-\")[0]))]* \\\n",
      "                                     (int(entry.split(\",\")[0].split(\"-\")[1])+1-int(entry.split(\",\")[0].split(\"-\")[0])))\n",
      "\n",
      "        return np.array(ShouldBeWeighed), np.array(Weighingarray), substratelist"
     ],
     "language": "python",
     "metadata": {},
     "outputs": [],
     "prompt_number": 17
    },
    {
     "cell_type": "code",
     "collapsed": false,
     "input": [
      "#TODO die L\u00e4nge genau bestimmen\n",
      "LengthOfAngle = 800 #in pm\n",
      "LENGTHOFANGLEKO = LengthOfAngle / kalib\n",
      "#hier muss man eintragen, welche Helix-linkerl\u00e4ngen in AS m\u00f6glich sind.\n",
      "linkerdatenbank = np.array([\"AEAAAK\", \"AEAAAKA\", \"AEAAAKAA\", \"AEAAAKEAAAK\", \"AEAAAKEAAAKA\", \"AEAAAKEAAAKEAAAKA\", \"AEAAAKEAAAKEAAAKEAAAKA\",\\\n",
      "                   \"AEAAAKEAAAKEAAAKEAAAKEAAAKA\"])\n",
      "linkerlaengenAS = []\n",
      "\n",
      "for i in range(len(linkerdatenbank)):\n",
      "    linkerlaengenAS.append(len(linkerdatenbank[i]))\n",
      "    \n",
      "linkerlaengenAS = np.array(linkerlaengenAS)\n",
      "linkerlaengenME = linkerlaengenAS * 150 + 2*LengthOfAngle #in pm\n",
      "linkerlaengenKO = linkerlaengenME / kalib #in koordinaten\n",
      "\n",
      "LENGTHACCURACY = 75\n",
      "LENGTHACCURACYKO = LENGTHACCURACY / kalib\n",
      "#TODO dar\u00fcber nachdenken, ob 1 wirklich richtig ist.\n",
      "SortOutLinkers = linkerlaengenKO < 1*maxvonanfang\n",
      "\n",
      "linkerlaengenAS = linkerlaengenAS[SortOutLinkers]\n",
      "linkerlaengenME = linkerlaengenME[SortOutLinkers]\n",
      "linkerlaengenKO = linkerlaengenKO[SortOutLinkers]\n",
      "linkerdatenbank = linkerdatenbank[SortOutLinkers]\n",
      "\n",
      "laengstesstueck = np.max(linkerlaengenKO)\n",
      "anzahllinker = np.size(linkerlaengenKO)\n",
      "\n",
      "maxlinkerAS = int(3 * max(maxvonanfang, maxvonende)) #pi*0.75/1.5 in Aminos\u00e4uren\n",
      "maxlinkerKO = maxlinkerAS * 150/kalib\n",
      "anzahleckenmax = maxlinkerKO / np.max(linkerlaengenKO)\n",
      "anzahleckenmin = abstandanfend / np.min(linkerlaengenKO)"
     ],
     "language": "python",
     "metadata": {},
     "outputs": [],
     "prompt_number": 18
    },
    {
     "cell_type": "code",
     "collapsed": false,
     "input": [
      "\n",
      "def sort_out_by_angle (startingarray, middlearray, endingarray, angletosequence):\n",
      "    '''\n",
      "    returns a boolian array which paths to keep, middle and endingarray must have same dimension, startingarray is only one \n",
      "    entry\n",
      "    \n",
      "    If startingarray is only one point, it returns only middlearray and endingarray, else all three arrays are returned\n",
      "    '''\n",
      "    if np.shape(startingarray) == (3,):\n",
      "        startingexp = np.repeat([startingarray], np.size(middlearray, axis=0), axis =0)\n",
      "    else:\n",
      "        startingexp = startingarray\n",
      "    vect1 = (startingexp - middlearray)\n",
      "    vect2 = (endingarray - middlearray)\n",
      "    #catch if there is 0 displacement\n",
      "    tocalculate = ((vect1 != np.array([0,0,0])).any(1)) & ((vect2 != np.array([0,0,0])).any(1))\n",
      "    if tocalculate.any():\n",
      "        vect1 = vect1[tocalculate]\n",
      "        vect2 = vect2[tocalculate]\n",
      "        catchrounding = skalar_product(vect1, vect2)/(vectabsar(vect1)*vectabsar(vect2))\n",
      "        #get rounding arrors\n",
      "        catchrounding[catchrounding > 1] = 1\n",
      "        catchrounding[catchrounding < -1] = -1\n",
      "        angles = np.arccos(catchrounding)\n",
      "        keep = np.bool8(np.zeros(np.size(angles)))\n",
      "        #here can be defined which angles should be taken into account\n",
      "        for anglepreferences in angletosequence:\n",
      "            keep = (keep | ((angles > ((anglepreferences[0]-anglepreferences[1]) * np.pi/180)) &\n",
      "                           (angles < ((anglepreferences[0]+anglepreferences[1]) * np.pi/180))))\n",
      "            \n",
      "        tempstart = startingexp[tocalculate]\n",
      "        tempmid = middlearray[tocalculate]\n",
      "        tempend = endingarray[tocalculate]\n",
      "        \n",
      "        tocalctemp = tocalculate == False\n",
      "        tempmid = np.concatenate((tempmid[keep], middlearray[tocalctemp]), axis = 0)\n",
      "        tempend = np.concatenate((tempend[keep], endingarray[tocalctemp]), axis = 0)\n",
      "        \n",
      "        if np.shape(startingarray) == (3,): \n",
      "            return (tempmid, tempend)\n",
      "        else:\n",
      "            tempstart = np.concatenate((tempstart[keep], startingarray[tocalctemp]), axis = 0)\n",
      "            return tempstart, tempmid, tempend\n",
      "    else:\n",
      "        if np.shape(startingarray) == (3,):\n",
      "            return middlearray, endingarray\n",
      "        else:\n",
      "            return startingarray, middlearray, endingarray"
     ],
     "language": "python",
     "metadata": {},
     "outputs": [],
     "prompt_number": 19
    },
    {
     "cell_type": "code",
     "collapsed": false,
     "input": [
      "def make_small_generator(PointArray, repetition, RAM, tobesplitlength, ProteinArray = None):\n",
      "    '''\n",
      "    RAM in GByte,\n",
      "    repetition, how often is the largest array repeated\n",
      "    \n",
      "    returns MakeSmall and teiler\n",
      "    '''\n",
      "    \n",
      "    bytespergig = 1073741824\n",
      "    AvailableRAM = float(RAM) * bytespergig #in BytesWaBytesWarning\n",
      "    \n",
      "    \n",
      "    try:\n",
      "        PointSize = PointArray.nbytes    \n",
      "    except:\n",
      "        PointSize = PointArray * 2 #assumes, that it is the size of the array, and this is float 16\n",
      "    \n",
      "    if ProteinArray != None:\n",
      "        proteinsize = np.size(ProteinArray, axis = 0)\n",
      "    else:\n",
      "        proteinsize = 1\n",
      "        \n",
      "    UsedMem = PointSize * proteinsize * repetition\n",
      "    \n",
      "    premakesmall = int(UsedMem / AvailableRAM) + 1\n",
      "    \n",
      "    teiler = tobesplitlength / premakesmall\n",
      "    if teiler != 0:\n",
      "        MakeSmall = tobesplitlength / teiler\n",
      "    else:\n",
      "        MakeSmall = premakesmall\n",
      "        \n",
      "    return MakeSmall, teiler\n",
      "\n",
      "\n",
      "def make_small_generator_offset(listofarraysinRAM, PointArray, repetition, RAM, tobesplitlength,  ProteinArray = None):\n",
      "    '''\n",
      "    In the listofarraysinRAM can be either just the arrays or the size of the arrays, same for PointArray\n",
      "    \n",
      "    RAM in GByte,\n",
      "    repetition, how often is the largest array repeated\n",
      "    '''\n",
      "    \n",
      "    bytespergig = 1073741824\n",
      "    AvailableRAM = float(RAM) * bytespergig #in BytesWaBytesWarning\n",
      "    inramsize = 0.\n",
      "    for array in listofarraysinRAM:\n",
      "        if array != None:\n",
      "            try:\n",
      "                inramsize += array.nbytes    \n",
      "            except:\n",
      "                inramsize += array * 2 #assumes, that it is the size of the array, and this is float 16\n",
      "    #print \"inramsize\" + str(inramsize / 1073741824.)  +\"in GB\"   \n",
      "    try:\n",
      "        PointSize = PointArray.nbytes    \n",
      "    except:\n",
      "        PointSize = PointArray * 2 #assumes, that it is the size of the array, and this is float 16\n",
      "\n",
      "    if ProteinArray != None:\n",
      "        proteinsize = np.size(ProteinArray, axis = 0)\n",
      "    else:\n",
      "        proteinsize = 1\n",
      "        \n",
      "    UsedMem = PointSize * proteinsize * repetition\n",
      "    \n",
      "    if (AvailableRAM - inramsize) > 0:\n",
      "        premakesmall = int(UsedMem / (AvailableRAM - inramsize)) + 1\n",
      "        teiler = tobesplitlength / premakesmall\n",
      "        if teiler != 0:\n",
      "            MakeSmall = tobesplitlength / teiler\n",
      "        else:\n",
      "            MakeSmall = premakesmall\n",
      "        return MakeSmall, teiler\n",
      "    else :\n",
      "        sys.exit(\"not enough RAM available for next calculation\")\n"
     ],
     "language": "python",
     "metadata": {},
     "outputs": [],
     "prompt_number": 20
    },
    {
     "cell_type": "code",
     "collapsed": false,
     "input": [
      "def part_of_RAM(listofarraysinRAM, RAM):\n",
      "    '''\n",
      "    returns the part of RAM, that is occupied by the arrays in the listofarraysinRAM\n",
      "    '''\n",
      "    \n",
      "    AvailableRAM = float(RAM) * 1073741824 #in Bytes\n",
      "    inramsize = 0.\n",
      "    for array in listofarraysinRAM:\n",
      "        try:\n",
      "            inramsize += array.nbytes    \n",
      "        except:\n",
      "            inramsize += array * 2 #assumes, that it is the size of the array, and this is float 16\n",
      "    \n",
      "    return inramsize / AvailableRAM"
     ],
     "language": "python",
     "metadata": {},
     "outputs": [],
     "prompt_number": 21
    },
    {
     "cell_type": "code",
     "collapsed": false,
     "input": [
      "#wie genau m\u00fcssen sich die St\u00fccke treffen wird durch hitgenauig bestimmt, es ist sin(5\u00b0) * maximale linkerl\u00e4nge\n",
      "#+ einen Helixanteil\n",
      "#~500s\n",
      "hitgenauig = 0.0436 * laengstesstueck\n",
      "\n",
      "\n",
      "def sort_out_by_distance(startingpoints, endingpoints, firstpoints, distance, variation):\n",
      "    '''\n",
      "    returns three arrays with all possible paths, made out of all possible combinations startingpoints to endingpoints\n",
      "    that are in a certain distance\n",
      "    '''\n",
      "    \n",
      "    starttemp = np.float16(np.repeat(startingpoints, np.size(endingpoints, axis=0), axis =0))\n",
      "    endtemp = np.float16(np.tile(endingpoints, (np.size(startingpoints, axis=0),1)))\n",
      "    abstaende = abstandarrays_quadr(starttemp, endtemp)\n",
      "    keep = ((abstaende > (distance-variation)**2) & (abstaende < (distance+variation)**2))\n",
      "    firsttemp = np.float16(np.repeat(firstpoints, np.size(endingpoints, axis=0), axis =0))\n",
      "    return [firsttemp[keep], starttemp[keep], endtemp[keep]]"
     ],
     "language": "python",
     "metadata": {},
     "outputs": [],
     "prompt_number": 22
    },
    {
     "cell_type": "code",
     "collapsed": false,
     "input": [
      "def sort_out_by_length (comefrompoints, gotopoints, linkerlaengen):\n",
      "    '''\n",
      "    returns a boolean array, with which you can slice the points, True means the values are kept\n",
      "    comefrompoints can be either an x * 3 array or just a three array, then it is elongated\n",
      "    \n",
      "    Either comefrompoints or gotopoints can be only one point, but never both of them can.\n",
      "    '''\n",
      "    \n",
      "    if np.shape(comefrompoints) == (3,):\n",
      "        comefrompoints = np.repeat([comefrompoints], np.size(gotopoints, axis = 0), axis = 0)\n",
      "    else:\n",
      "        if np.shape(gotopoints) == (3,):\n",
      "            gotopoints = np.repeat([gotopoints], np.size(comefrompoints, axis = 0), axis = 0)\n",
      "    \n",
      "    arraylengthtemp = np.size(comefrompoints, axis = 0)\n",
      "    lonetemp = abstandarrays(comefrompoints, gotopoints)\n",
      "    #True means keep\n",
      "    sortouttemp = np.bool8(np.zeros(arraylengthtemp))\n",
      "    \n",
      "    for LAENGE in linkerlaengen:\n",
      "        sortouttemp = sortouttemp | ((lonetemp < (LAENGE + LENGTHACCURACYKO)) & (lonetemp > (LAENGE - LENGTHACCURACYKO)))\n",
      "        \n",
      "    return sortouttemp"
     ],
     "language": "python",
     "metadata": {},
     "outputs": [],
     "prompt_number": 23
    },
    {
     "cell_type": "heading",
     "level": 4,
     "metadata": {},
     "source": [
      "Gestartet am 9.8. um 15:15 Uhr, 15:55 Uhr bei den Dreieckigen Linkern Versuch eines kompletten Durchlaufs, dann dreistunden f\u00fcr die dreieckigen Linker\n",
      "\n",
      "Linkerohneeckeflex: 11000 erzeugt, bereits erstmal aussortiert.\n",
      "Linkermiteckeflex:  insgesamt 35000 flexible (also 24000 hinzugekommen)\n",
      "\n",
      "erstepunkte 2200 erzeugt, \n",
      "drittepunkte werden 850 000 erzeugt"
     ]
    },
    {
     "cell_type": "code",
     "collapsed": false,
     "input": [
      "def length_to_sequence(lengtharray, linkerdatenbank, linkerlaengen):\n",
      "    if np.size(lengtharray) == 0:\n",
      "        return \"\"\n",
      "    else:\n",
      "        #prepare for adding strings always\n",
      "        addsequencearray = np.zeros(np.size(lengtharray), dtype=str)\n",
      "        addsequencearray = np.array(addsequencearray, dtype=np.object)\n",
      "\n",
      "        for i in range(len(linkerlaengen)):\n",
      "            setseqbool = ((lengtharray >= linkerlaengen[i] - LENGTHACCURACYKO) &\n",
      "                          (lengtharray <= (linkerlaengen[i] + LENGTHACCURACYKO)))\n",
      "            addsequencearray[setseqbool] = addsequencearray[setseqbool] + linkerdatenbank[i]\n",
      "\n",
      "        temp = (addsequencearray == \"\") & (lengtharray != 0.)\n",
      "        addsequencearray[temp] = addsequencearray[temp] + \"XXX\" #TODO nur zum Testen, das muss noch raus!\n",
      "\n",
      "        return addsequencearray\n",
      "\n",
      "def angle_to_sequence(anglearray, angletosequence, angleseparators):\n",
      "    if np.size(anglearray) == 0:\n",
      "        return \"\"\n",
      "    else:\n",
      "        \n",
      "        addsequencearray = np.zeros(np.size(anglearray), dtype=str)\n",
      "        addsequencearray = np.array(addsequencearray, dtype=np.object)\n",
      "        anglearraydeg = anglearray / np.pi * 180\n",
      "        for i in range(len(angletosequence)):\n",
      "            setseqbool = (anglearraydeg > angleseparators[i]) & (anglearraydeg < angleseparators[i + 1])\n",
      "            addsequencearray[setseqbool] = addsequencearray[setseqbool] + angletosequence[i][2]\n",
      "        return addsequencearray\n",
      "\n",
      "#returns the weightingarrays and the sequencearrays, concatenated\n",
      "def translate_paths_to_sequences(startpoint, firstflex, secondflex, thirdflex, firstrig, secondrig, thirdrig,\n",
      "                                 endpoint, linkerdb, linkerlKO, angletosequence, angleseparators,\n",
      "                                 weightflex, weightrig):\n",
      "    print linkerdb\n",
      "    print linkerlKO\n",
      "    if (weightflex != None):\n",
      "        #flexible linkers\n",
      "        #initiate the array of objects\n",
      "        sequenceflex = np.zeros(np.size(firstflex, axis = 0), dtype=str)\n",
      "        sequenceflex = np.array(sequenceflex, dtype=np.object)\n",
      "        sequenceflex = sequenceflex + ScarsAtStartseq\n",
      "\n",
      "        withoutanglebool = (firstflex == secondflex).all(axis = 1)\n",
      "        print np.shape(secondflex[withoutanglebool])\n",
      "        \n",
      "        firstnoangle = firstflex[withoutanglebool]\n",
      "        thirdnoangle = thirdflex[withoutanglebool]\n",
      "        \n",
      "        print thirdnoangle\n",
      "        print blubb3\n",
      "        print firstnoangle\n",
      "        print withoutanglebool[-3]\n",
      "        \n",
      "        #print (blubb1 == firstnoangle).all(axis = 1)\n",
      "        #print (blubb3 == thirdnoangle).all(axis = 1)\n",
      "        \n",
      "        #print length_to_sequence(abstandarrays(blubb1, blubb3),\n",
      "        #                 linkerdatenbank, linkerlaengenKO - (2*LENGTHOFANGLEKO))\n",
      "        \n",
      "        \n",
      "        #print length_to_sequence(abstandarrays(firstnoangle, thirdnoangle),\n",
      "        #                                                     linkerdb, linkerlKO - (2 * LENGTHOFANGLEKO) )\n",
      "        \n",
      "        \n",
      "        \n",
      "        print sequenceflex[withoutanglebool]\n",
      "        sequenceflex[withoutanglebool] = (sequenceflex[withoutanglebool] +  \n",
      "                                          length_to_sequence(abstandarrays(firstnoangle, thirdnoangle),\n",
      "                                                             linkerdb, linkerlKO - (2 * LENGTHOFANGLEKO) ))\n",
      "\n",
      "        \n",
      "        print sequenceflex[withoutanglebool]\n",
      "\n",
      "\n",
      "        withanglebool = np.invert(withoutanglebool)\n",
      "\n",
      "        sequenceflex[withanglebool] = sequenceflex[withanglebool] + \\\n",
      "        length_to_sequence(abstandarrays(firstflex[withanglebool], secondflex[withanglebool]),\n",
      "                           linkerdb, linkerlKO - LENGTHOFANGLEKO)\n",
      "\n",
      "        sequenceflex[withanglebool] = sequenceflex[withanglebool] + \\\n",
      "        angle_to_sequence(angle_between_connections_array(firstflex[withanglebool], secondflex[withanglebool], \n",
      "                                                          thirdflex[withanglebool]), angletosequence, angleseparators)\n",
      "\n",
      "        sequenceflex[withanglebool] = sequenceflex[withanglebool] + \\\n",
      "        length_to_sequence(abstandarrays(secondflex[withanglebool], thirdflex[withanglebool]), linkerdb, \n",
      "                           linkerlKO - LENGTHOFANGLEKO)\n",
      "    \n",
      "    if weightrig != None:\n",
      "        #rigid linkers\n",
      "        sequencerig = np.zeros(np.size(firstrig, axis = 0), dtype=str)\n",
      "        sequencerig = np.array(sequencerig, dtype=np.object)\n",
      "        sequencerig = sequencerig + ScarsAtStartseq\n",
      "\n",
      "        withoutanglebool = (firstrig == secondrig).all(axis = 1)\n",
      "        \n",
      "        withanglebool = np.invert(withoutanglebool)\n",
      "        \n",
      "        sequencerig = sequencerig + length_to_sequence(abstandpktzuarray(startpoint, firstrig) -\n",
      "                                                       FLEXIBLEATSTARTKO + LENGTHOFANGLEKO,  linkerdb, linkerlKO)\n",
      "        #split between those from shortpath and those not coming from there\n",
      "        sequencerig[withanglebool] = (sequencerig[withanglebool] + \n",
      "                                      angle_to_sequence(angle_between_connections_array(startpoint,\n",
      "                                                                                        firstrig[withanglebool],\n",
      "                                                                                        secondrig[withanglebool]), \n",
      "                                                      angletosequence, angleseparators))\n",
      "        \n",
      "        sequencerig[withanglebool] = (sequencerig[withanglebool] + \n",
      "                                      length_to_sequence(abstandarrays(firstrig[withanglebool], secondrig[withanglebool]),\n",
      "                                                         linkerdb, linkerlKO))\n",
      "        sequencerig[withanglebool] = (sequencerig[withanglebool] + \n",
      "                                      angle_to_sequence(angle_between_connections_array(firstrig[withanglebool], \n",
      "                                                                                        secondrig[withanglebool],\n",
      "                                                                                        thirdrig[withanglebool]), \n",
      "                                                      angletosequence, angleseparators))\n",
      "        \n",
      "        sequencerig[withoutanglebool] = (sequencerig[withoutanglebool] + \n",
      "                                      angle_to_sequence(angle_between_connections_array(startpoint,\n",
      "                                                                                        firstrig[withoutanglebool],\n",
      "                                                                                        thirdrig[withoutanglebool]), \n",
      "                                                        angletosequence, angleseparators))\n",
      "        \n",
      "\n",
      "        sequencerig = sequencerig + length_to_sequence(abstandarrays(secondrig, thirdrig), linkerdb, linkerlKO)\n",
      "        sequencerig = sequencerig + angle_to_sequence(angle_between_connections_array(secondrig, thirdrig, endpoint), \n",
      "                                                      angletosequence, angleseparators)\n",
      "\n",
      "        sequencerig = sequencerig + length_to_sequence(abstandpktzuarray(endpoint, thirdrig) -\n",
      "                                                       FLEXIBLEATENDKO + LENGTHOFANGLEKO,  linkerdb, linkerlKO)\n",
      "    \n",
      "\n",
      "    if weightrig != None:\n",
      "        if weightflex != None:\n",
      "            sequence = np.concatenate((sequenceflex, sequencerig))\n",
      "            retweight = np.concatenate((weightflex, weightrig), axis = 1)\n",
      "        else:\n",
      "            sequence = sequencerig\n",
      "            retweight = weightrig\n",
      "    elif weightflex != None:\n",
      "        sequence = sequenceflex\n",
      "        retweight = weightflex\n",
      "    elif (weightflex == None) & (weightrig == None):\n",
      "        print \"There were absolutely no linkers found\"\n",
      "        return None, None, None, None, None\n",
      "    \n",
      "    \n",
      "    \n",
      "    if (weightrig != None) | (weightflex != None):\n",
      "        sequence = sequence + ScarsAtEndseq\n",
      "        if firstrig != None:\n",
      "            if firstflex != None:\n",
      "                return sequence , retweight,\\\n",
      "                np.concatenate((firstflex, firstrig), axis = 0), \\\n",
      "                np.concatenate((secondflex, secondrig), axis = 0),\\\n",
      "                np.concatenate((thirdflex, thirdrig), axis = 0)\n",
      "            else:\n",
      "                return sequence, retweight, firstrig, secondrig, thirdrig\n",
      "        elif firstflex != None:\n",
      "            return sequence, retweight, firstflex, secondflex, thirdflex     \n",
      "        \n",
      "        \n",
      "        \n",
      "        \n",
      "    else:\n",
      "        print \"There were absolutely no linkers found.\"\n",
      "        return None, None, None, None, None"
     ],
     "language": "python",
     "metadata": {},
     "outputs": [],
     "prompt_number": 288
    },
    {
     "cell_type": "code",
     "collapsed": false,
     "input": [
      "#wir machen Arrays aus den Verschiebungen, f\u00fcr alle drei auf einmal, alle normiert\n",
      "startdisp = np.array([[0,0,0]])\n",
      "enddisp = np.array([[0,0,0]])\n",
      "dispnorm = np.array([[0,0,0]])\n",
      "for winkel in winkelarray:\n",
      "    \n",
      "    temp = drehenxy(winkel[0], winkel[1], np.array([0,0,1]))\n",
      "    \n",
      "    dispnorm = np.append(dispnorm, [temp], axis=0)\n",
      "    \n",
      "    if any((moeglichewinkelanfang[:]==winkel).all(1)):\n",
      "        startdisp = np.append(startdisp, [temp], axis=0)\n",
      "    if any((moeglichewinkelende[:]==winkel).all(1)):\n",
      "        enddisp = np.append(enddisp, [temp], axis=0)"
     ],
     "language": "python",
     "metadata": {},
     "outputs": [],
     "prompt_number": 25
    },
    {
     "cell_type": "heading",
     "level": 3,
     "metadata": {},
     "source": [
      "Ab hier kann man nach oben starten, wenn es einen Fehler gab."
     ]
    },
    {
     "cell_type": "markdown",
     "metadata": {},
     "source": [
      "We insert new possible linkers, these are either straight connections between the ends with flexible parts or with maximum one angle in the linker. The point is, that here the flexible ends are estimated better. "
     ]
    },
    {
     "cell_type": "code",
     "collapsed": false,
     "input": [
      "#without any edge, \n",
      "#+1 because of range\n",
      "\n",
      "if (ScarsAtStart + MissingAtStart) > 3:\n",
      "    FLEXATSTART = np.logspace(np.log10(1.5), np.log10(ScarsAtStart + MissingAtStart), num=4) * LengthOfFlexibleAA\n",
      "else:\n",
      "    FLEXATSTART = np.append(np.arange(2, (ScarsAtStart + MissingAtStart+1)), 1.5 ) * LengthOfFlexibleAA\n",
      "    \n",
      "if (ScarsAtEnd + MissingAtEnd) > 3:\n",
      "    FLEXATEND = np.logspace(np.log10(1.5), np.log10(ScarsAtEnd + MissingAtEnd), num=4) * LengthOfFlexibleAA\n",
      "else:\n",
      "    FLEXATEND = np.append(np.arange(2, (ScarsAtEnd + MissingAtEnd+1)), 1.5 ) * LengthOfFlexibleAA\n",
      "\n",
      "secondpointsflexible = firstpointsflexible = np.float16(make_displacements(FLEXATSTART, startdisp) + anfangspunkt)\n",
      "thirdpointsflexible = np.float16(make_displacements(FLEXATEND, enddisp) + endpunkt)\n",
      "\n",
      "amountofthirdpoints = np.size(thirdpointsflexible, axis = 0)\n",
      "amountofsecondpoints = np.size(secondpointsflexible, axis = 0)\n",
      "\n",
      "#reduce the amount of points in the protein, that should be checked, as a cylinder around start -> end\n",
      "heretousepoints = pkte[np.ravel(distance_from_connection(anfangspunkt, endpunkt, pkte)[0] < \\\n",
      "                       (minabstand + np.max(np.concatenate((FLEXATSTART, FLEXATEND)))))]\n",
      "\n",
      "\n",
      "MakeSmall, teiler = make_small_generator_offset([firstpointsflexible, secondpointsflexible, thirdpointsflexible], \n",
      "                                        np.size(secondpointsflexible) * np.size(thirdpointsflexible),\n",
      "                                        2 , RAMOFMACHINE ,np.size(secondpointsflexible, axis=0),\n",
      "                                        ProteinArray = heretousepoints)\n",
      "\n",
      "for i in range(0,(MakeSmall)):\n",
      "\n",
      "    temp1, temp2, temp3 = sort_out_by_distance(secondpointsflexible[:teiler], thirdpointsflexible,\n",
      "                                firstpointsflexible[:teiler], abstandanfend, 300 / kalib) \n",
      "    #300 ist etwa die H\u00e4lfte des Unterschieds zwischen zwei Linkerst\u00fccken\n",
      "    \n",
      "    firstpointsflexible = np.delete(firstpointsflexible, np.arange(teiler), axis = 0)\n",
      "    secondpointsflexible = np.delete(secondpointsflexible, np.arange(teiler), axis = 0)\n",
      "    keep = (distance_from_connection(temp2, temp3, heretousepoints)[0] >= minabstand).all(axis = 1)\n",
      "    \n",
      "    temp1 = temp2 = temp2[keep]\n",
      "    temp3 = temp3[keep]\n",
      "    \n",
      "    if i == 0:\n",
      "        firstpointsflexibletemp, secondpointsflexibletemp, thirdpointsflexibletemp = temp1, temp2, temp3\n",
      "    else:\n",
      "        firstpointsflexibletemp = np.concatenate((firstpointsflexibletemp, temp1), axis =0)\n",
      "        secondpointsflexibletemp = np.concatenate((secondpointsflexibletemp, temp2), axis =0)\n",
      "        thirdpointsflexibletemp = np.concatenate((thirdpointsflexibletemp, temp3), axis =0)\n",
      "\n",
      "if np.shape(firstpointsflexible) != (0,3):\n",
      "    temp1, temp2, temp3 = sort_out_by_distance(secondpointsflexible, thirdpointsflexible,\n",
      "                                firstpointsflexible, abstandanfend, 300 / kalib)\n",
      "\n",
      "    keep = (distance_from_connection(temp2, temp3, heretousepoints)[0] >= minabstand).all(axis = 1)\n",
      "\n",
      "    temp1 = temp2 = temp2[keep]\n",
      "    temp3 = temp3[keep]\n",
      "\n",
      "    firstpointsflexible  = np.concatenate((firstpointsflexibletemp,  temp1), axis =0)\n",
      "    secondpointsflexible = np.concatenate((secondpointsflexibletemp, temp2), axis =0)\n",
      "    thirdpointsflexible  = np.concatenate((thirdpointsflexibletemp,  temp3), axis =0)\n",
      "else:\n",
      "    firstpointsflexible  = firstpointsflexibletemp\n",
      "    secondpointsflexible = secondpointsflexibletemp\n",
      "    thirdpointsflexible  = thirdpointsflexibletemp\n",
      "    \n",
      "firstpointsflexibletemp = secondpointsflexibletemp = thirdpointsflexibletemp = None"
     ],
     "language": "python",
     "metadata": {},
     "outputs": [],
     "prompt_number": 36
    },
    {
     "cell_type": "code",
     "collapsed": false,
     "input": [
      "'''\n",
      "erstepunkte = None\n",
      "zweitepunkte = None\n",
      "drittepunkte = None\n",
      "'''"
     ],
     "language": "python",
     "metadata": {},
     "outputs": [
      {
       "metadata": {},
       "output_type": "pyout",
       "prompt_number": 29,
       "text": [
        "'\\nerstepunkte = None\\nzweitepunkte = None\\ndrittepunkte = None\\n'"
       ]
      }
     ],
     "prompt_number": 29
    },
    {
     "cell_type": "code",
     "collapsed": false,
     "input": [
      "\n",
      "np.shape(firstpointsflexible)"
     ],
     "language": "python",
     "metadata": {},
     "outputs": [
      {
       "metadata": {},
       "output_type": "pyout",
       "prompt_number": 37,
       "text": [
        "(1948, 3)"
       ]
      }
     ],
     "prompt_number": 37
    },
    {
     "cell_type": "markdown",
     "metadata": {},
     "source": [
      "now it should be tried to link it with one edge in the linker."
     ]
    },
    {
     "cell_type": "code",
     "collapsed": false,
     "input": [
      "heretousepoints = pkte[abstandpktzuarray( (anfangspunkt + endpunkt) / 2., pkte) < (abstandanfend / 2. + \n",
      "                                                                                   max(FLEXIBLEATSTARTKO, FLEXIBLEATENDKO))]\n",
      "#at about 3h running\n",
      "#calculate all the lengths that can produce the distance between beginning and end in an rectangular triangle\n",
      "linkertriangle = linkerlaengenKO[(linkerlaengenKO - LENGTHOFANGLEKO) < abstandanfend] - LENGTHOFANGLEKO\n",
      "linkertriangleone = np.repeat(linkertriangle, np.size(linkertriangle, axis = 0))\n",
      "linkertriangletwo = np.tile(linkertriangle, np.size(linkertriangle, axis = 0))\n",
      "\n",
      "linkertrianglehypoth = np.sqrt(linkertriangleone ** 2 + linkertriangletwo ** 2)\n",
      "\n",
      "keeptriangles = ((linkertrianglehypoth > (abstandanfend - FLEXIBLEATENDKO - FLEXIBLEATSTARTKO)) & \n",
      "                 (linkertrianglehypoth < (abstandanfend + FLEXIBLEATENDKO + FLEXIBLEATSTARTKO)))\n",
      "\n",
      "linkertriangleone = linkertriangleone[keeptriangles]\n",
      "linkertriangletwo = linkertriangletwo[keeptriangles]\n",
      "\n",
      "triangleangles = np.around(np.arctan(linkertriangletwo / linkertriangleone), decimals=2)\n",
      "#now we produce all the possible points, that lie on a sphere\n",
      "\n",
      "displacements = dispnorm * abstandanfend / 2\n",
      "\n",
      "allpointsfortriangles =  (anfangspunkt + endpunkt) / 2. + displacements\n",
      "amountoftriangles = np.size(allpointsfortriangles, axis = 0)\n",
      "\n",
      "anglesintriangle = angle_between_connections_array(np.repeat([endpunkt], amountoftriangles, axis = 0),\n",
      "                                                   np.repeat([anfangspunkt], amountoftriangles, axis = 0),\n",
      "                                                   allpointsfortriangles)\n",
      "anglesintriangle = np.around(anglesintriangle, decimals=2)\n",
      "\n",
      "\n",
      "allpointsfortriangles = allpointsfortriangles[np.in1d(anglesintriangle, triangleangles)]\n",
      "#450 unique points\n",
      "\n",
      "#get the displacement angles\n",
      "  \n",
      "\n",
      "dispnormtribeg = np.array([0,0,0])\n",
      "for angle in moeglichewinkelanfang:\n",
      "    temp = drehenxy(angle[0], angle[1], np.array([0,0,1]))\n",
      "    dispnormtribeg = np.append(dispnorm, [temp], axis=0)\n",
      "    \n",
      "dispnormtriend = np.array([0,0,0])\n",
      "for angle in moeglichewinkelende:\n",
      "    temp = drehenxy(angle[0], angle[1], np.array([0,0,1]))\n",
      "    dispnormtriend = np.append(dispnorm, [temp], axis=0)\n",
      "    \n",
      "\n",
      "\n",
      "triangleshiftsbeg = np.float16(make_displacements(FLEXATSTART, dispnormtribeg))\n",
      "\n",
      "\n",
      "amountoftriangleshiftsbeg = np.size(triangleshiftsbeg, axis = 0)\n",
      "triangleshiftsbeg = np.repeat(triangleshiftsbeg, np.size(allpointsfortriangles, axis = 0), axis = 0)\n",
      "allpointsfortriangles = np.tile(allpointsfortriangles, (amountoftriangleshiftsbeg, 1))\n",
      "\n",
      "firstpointstriangle  = np.float16(triangleshiftsbeg + anfangspunkt)\n",
      "secondpointstriangle = np.float16(triangleshiftsbeg + allpointsfortriangles)\n",
      "\n",
      "print np.shape(firstpointstriangle)\n",
      "\n",
      "keep = sort_out_by_length(firstpointstriangle, secondpointstriangle, linkertriangle)\n",
      "\n",
      "firstpointstriangle = firstpointstriangle[keep]\n",
      "secondpointstriangle = secondpointstriangle[keep]\n",
      "\n",
      "\n",
      "MakeSmall, teiler = make_small_generator_offset([firstpointstriangle, secondpointstriangle],\n",
      "                                        secondpointstriangle, 12, RAMOFMACHINE, np.size(secondpointstriangle, axis=0),\n",
      "                                        ProteinArray = heretousepoints)\n",
      "\n",
      "\n",
      "\n",
      "#about 250s per MakeSmall run\n",
      "blatime = time.time()\n",
      "\n",
      "for i in range(0, (MakeSmall +1)):\n",
      "    if i == MakeSmall:\n",
      "        temp1 = firstpointstriangle[i * teiler:]\n",
      "        temp2 = secondpointstriangle[i * teiler:]\n",
      "    else:\n",
      "        temp1 = firstpointstriangle[i*teiler:(i+1)*teiler]\n",
      "        temp2 = secondpointstriangle[i*teiler:(i+1)*teiler]\n",
      "    #at first sort all connections out, of which the anglepoint is too near, or too far away from the protein.\n",
      "\n",
      "    keep = aussortierennachpunken(temp2, heretousepoints, minabstand, maxabstand)\n",
      "    \n",
      "    temp1 = temp1[keep]    \n",
      "    temp2 = temp2[keep]\n",
      "    \n",
      "    #then sort out, if the connection is too near at the protein\n",
      "    keep = (distance_from_connection(temp1, temp2, heretousepoints)[0] >= minabstand).all(axis = 1)\n",
      "    \n",
      "    temp1 = temp1[keep]    \n",
      "    temp2 = temp2[keep]\n",
      "    \n",
      "    if i == 0:\n",
      "        firstpointstritemp, secondpointstritemp = temp1, temp2\n",
      "    else:\n",
      "        firstpointstritemp = np.concatenate((firstpointstritemp, temp1), axis =0)\n",
      "        secondpointstritemp = np.concatenate((secondpointstritemp, temp2), axis =0)\n",
      "        print time.time() - blatime\n",
      "    \n",
      "firstpointstriangle = firstpointstritemp\n",
      "secondpointstriangle = secondpointstritemp\n",
      "\n",
      "print np.shape(firstpointstriangle)"
     ],
     "language": "python",
     "metadata": {},
     "outputs": [
      {
       "output_type": "stream",
       "stream": "stdout",
       "text": [
        "(1935124, 3)\n",
        "17.3773691654"
       ]
      },
      {
       "output_type": "stream",
       "stream": "stdout",
       "text": [
        "\n",
        "26.9987461567"
       ]
      },
      {
       "output_type": "stream",
       "stream": "stdout",
       "text": [
        "\n",
        "38.0168170929"
       ]
      },
      {
       "output_type": "stream",
       "stream": "stdout",
       "text": [
        "\n",
        "49.0050890446"
       ]
      },
      {
       "output_type": "stream",
       "stream": "stdout",
       "text": [
        "\n",
        "59.7952420712"
       ]
      },
      {
       "output_type": "stream",
       "stream": "stdout",
       "text": [
        "\n",
        "70.7490229607"
       ]
      },
      {
       "output_type": "stream",
       "stream": "stdout",
       "text": [
        "\n",
        "81.8006429672"
       ]
      },
      {
       "output_type": "stream",
       "stream": "stdout",
       "text": [
        "\n",
        "93.9005160332"
       ]
      },
      {
       "output_type": "stream",
       "stream": "stdout",
       "text": [
        "\n",
        "105.511791945"
       ]
      },
      {
       "output_type": "stream",
       "stream": "stdout",
       "text": [
        "\n",
        "117.276818037"
       ]
      },
      {
       "output_type": "stream",
       "stream": "stdout",
       "text": [
        "\n",
        "130.237339973"
       ]
      },
      {
       "output_type": "stream",
       "stream": "stdout",
       "text": [
        "\n",
        "143.103002071"
       ]
      },
      {
       "output_type": "stream",
       "stream": "stdout",
       "text": [
        "\n",
        "155.351788998"
       ]
      },
      {
       "output_type": "stream",
       "stream": "stdout",
       "text": [
        "\n",
        "168.568540096"
       ]
      },
      {
       "output_type": "stream",
       "stream": "stdout",
       "text": [
        "\n",
        "180.221382141"
       ]
      },
      {
       "output_type": "stream",
       "stream": "stdout",
       "text": [
        "\n",
        "193.016891956"
       ]
      },
      {
       "output_type": "stream",
       "stream": "stdout",
       "text": [
        "\n",
        "205.124289036"
       ]
      },
      {
       "output_type": "stream",
       "stream": "stdout",
       "text": [
        "\n",
        "218.77944994"
       ]
      },
      {
       "output_type": "stream",
       "stream": "stdout",
       "text": [
        "\n",
        "231.135617018"
       ]
      },
      {
       "output_type": "stream",
       "stream": "stdout",
       "text": [
        "\n",
        "243.257496119"
       ]
      },
      {
       "output_type": "stream",
       "stream": "stdout",
       "text": [
        "\n",
        "256.13143611"
       ]
      },
      {
       "output_type": "stream",
       "stream": "stdout",
       "text": [
        "\n",
        "269.200991154"
       ]
      },
      {
       "output_type": "stream",
       "stream": "stdout",
       "text": [
        "\n",
        "281.842690945"
       ]
      },
      {
       "output_type": "stream",
       "stream": "stdout",
       "text": [
        "\n",
        "294.549416065"
       ]
      },
      {
       "output_type": "stream",
       "stream": "stdout",
       "text": [
        "\n",
        "306.63551712"
       ]
      },
      {
       "output_type": "stream",
       "stream": "stdout",
       "text": [
        "\n",
        "518.617232084"
       ]
      },
      {
       "output_type": "stream",
       "stream": "stdout",
       "text": [
        "\n",
        "530.71975112"
       ]
      },
      {
       "output_type": "stream",
       "stream": "stdout",
       "text": [
        "\n",
        "543.129815102"
       ]
      },
      {
       "output_type": "stream",
       "stream": "stdout",
       "text": [
        "\n",
        "555.831305981"
       ]
      },
      {
       "output_type": "stream",
       "stream": "stdout",
       "text": [
        "\n",
        "568.686262131"
       ]
      },
      {
       "output_type": "stream",
       "stream": "stdout",
       "text": [
        "\n",
        "581.282711983"
       ]
      },
      {
       "output_type": "stream",
       "stream": "stdout",
       "text": [
        "\n",
        "593.558917999"
       ]
      },
      {
       "output_type": "stream",
       "stream": "stdout",
       "text": [
        "\n",
        "606.20502615"
       ]
      },
      {
       "output_type": "stream",
       "stream": "stdout",
       "text": [
        "\n",
        "618.5801301"
       ]
      },
      {
       "output_type": "stream",
       "stream": "stdout",
       "text": [
        "\n",
        "630.517809153"
       ]
      },
      {
       "output_type": "stream",
       "stream": "stdout",
       "text": [
        "\n",
        "642.047791958"
       ]
      },
      {
       "output_type": "stream",
       "stream": "stdout",
       "text": [
        "\n",
        "653.333865166"
       ]
      },
      {
       "output_type": "stream",
       "stream": "stdout",
       "text": [
        "\n",
        "665.385137081"
       ]
      },
      {
       "output_type": "stream",
       "stream": "stdout",
       "text": [
        "\n",
        "676.799186945"
       ]
      },
      {
       "output_type": "stream",
       "stream": "stdout",
       "text": [
        "\n",
        "687.789834976"
       ]
      },
      {
       "output_type": "stream",
       "stream": "stdout",
       "text": [
        "\n",
        "698.344632149"
       ]
      },
      {
       "output_type": "stream",
       "stream": "stdout",
       "text": [
        "\n",
        "709.196592093"
       ]
      },
      {
       "output_type": "stream",
       "stream": "stdout",
       "text": [
        "\n",
        "720.674888134"
       ]
      },
      {
       "output_type": "stream",
       "stream": "stdout",
       "text": [
        "\n",
        "730.164721012"
       ]
      },
      {
       "output_type": "stream",
       "stream": "stdout",
       "text": [
        "\n",
        "739.346187115"
       ]
      },
      {
       "output_type": "stream",
       "stream": "stdout",
       "text": [
        "\n",
        "748.863409996"
       ]
      },
      {
       "output_type": "stream",
       "stream": "stdout",
       "text": [
        "\n",
        "758.320309162"
       ]
      },
      {
       "output_type": "stream",
       "stream": "stdout",
       "text": [
        "\n",
        "768.32280612"
       ]
      },
      {
       "output_type": "stream",
       "stream": "stdout",
       "text": [
        "\n",
        "779.157901049"
       ]
      },
      {
       "output_type": "stream",
       "stream": "stdout",
       "text": [
        "\n",
        "790.371557951"
       ]
      },
      {
       "output_type": "stream",
       "stream": "stdout",
       "text": [
        "\n",
        "801.035202026"
       ]
      },
      {
       "output_type": "stream",
       "stream": "stdout",
       "text": [
        "\n",
        "811.436196089"
       ]
      },
      {
       "output_type": "stream",
       "stream": "stdout",
       "text": [
        "\n",
        "821.956644058"
       ]
      },
      {
       "output_type": "stream",
       "stream": "stdout",
       "text": [
        "\n",
        "833.03909111"
       ]
      },
      {
       "output_type": "stream",
       "stream": "stdout",
       "text": [
        "\n",
        "844.070538998"
       ]
      },
      {
       "output_type": "stream",
       "stream": "stdout",
       "text": [
        "\n",
        "855.009376049"
       ]
      },
      {
       "output_type": "stream",
       "stream": "stdout",
       "text": [
        "\n",
        "865.829679012"
       ]
      },
      {
       "output_type": "stream",
       "stream": "stdout",
       "text": [
        "\n",
        "876.863485098"
       ]
      },
      {
       "output_type": "stream",
       "stream": "stdout",
       "text": [
        "\n",
        "888.380041122"
       ]
      },
      {
       "output_type": "stream",
       "stream": "stdout",
       "text": [
        "\n",
        "899.715466976"
       ]
      },
      {
       "output_type": "stream",
       "stream": "stdout",
       "text": [
        "\n",
        "910.677554131"
       ]
      },
      {
       "output_type": "stream",
       "stream": "stdout",
       "text": [
        "\n",
        "921.692027092"
       ]
      },
      {
       "output_type": "stream",
       "stream": "stdout",
       "text": [
        "\n",
        "932.91163516"
       ]
      },
      {
       "output_type": "stream",
       "stream": "stdout",
       "text": [
        "\n",
        "944.318159103"
       ]
      },
      {
       "output_type": "stream",
       "stream": "stdout",
       "text": [
        "\n",
        "955.756273985"
       ]
      },
      {
       "output_type": "stream",
       "stream": "stdout",
       "text": [
        "\n",
        "967.467380047"
       ]
      },
      {
       "output_type": "stream",
       "stream": "stdout",
       "text": [
        "\n",
        "980.326553106"
       ]
      },
      {
       "output_type": "stream",
       "stream": "stdout",
       "text": [
        "\n",
        "991.901728153"
       ]
      },
      {
       "output_type": "stream",
       "stream": "stdout",
       "text": [
        "\n",
        "1003.33125615"
       ]
      },
      {
       "output_type": "stream",
       "stream": "stdout",
       "text": [
        "\n",
        "1014.83830309"
       ]
      },
      {
       "output_type": "stream",
       "stream": "stdout",
       "text": [
        "\n",
        "1026.46107697"
       ]
      },
      {
       "output_type": "stream",
       "stream": "stdout",
       "text": [
        "\n",
        "1037.01918197"
       ]
      },
      {
       "output_type": "stream",
       "stream": "stdout",
       "text": [
        "\n",
        "1047.26264095"
       ]
      },
      {
       "output_type": "stream",
       "stream": "stdout",
       "text": [
        "\n",
        "1057.23914194"
       ]
      },
      {
       "output_type": "stream",
       "stream": "stdout",
       "text": [
        "\n",
        "1067.38536"
       ]
      },
      {
       "output_type": "stream",
       "stream": "stdout",
       "text": [
        "\n",
        "1077.44200015"
       ]
      },
      {
       "output_type": "stream",
       "stream": "stdout",
       "text": [
        "\n",
        "1087.28717017"
       ]
      },
      {
       "output_type": "stream",
       "stream": "stdout",
       "text": [
        "\n",
        "1097.06463909"
       ]
      },
      {
       "output_type": "stream",
       "stream": "stdout",
       "text": [
        "\n",
        "1107.08036304"
       ]
      },
      {
       "output_type": "stream",
       "stream": "stdout",
       "text": [
        "\n",
        "1117.36160207"
       ]
      },
      {
       "output_type": "stream",
       "stream": "stdout",
       "text": [
        "\n",
        "1127.29893708"
       ]
      },
      {
       "output_type": "stream",
       "stream": "stdout",
       "text": [
        "\n",
        "1136.93204713"
       ]
      },
      {
       "output_type": "stream",
       "stream": "stdout",
       "text": [
        "\n",
        "1146.44296312"
       ]
      },
      {
       "output_type": "stream",
       "stream": "stdout",
       "text": [
        "\n",
        "1156.43317795"
       ]
      },
      {
       "output_type": "stream",
       "stream": "stdout",
       "text": [
        "\n",
        "1166.29551315"
       ]
      },
      {
       "output_type": "stream",
       "stream": "stdout",
       "text": [
        "\n",
        "1175.86028099"
       ]
      },
      {
       "output_type": "stream",
       "stream": "stdout",
       "text": [
        "\n",
        "1185.06532001"
       ]
      },
      {
       "output_type": "stream",
       "stream": "stdout",
       "text": [
        "\n",
        "1194.501158"
       ]
      },
      {
       "output_type": "stream",
       "stream": "stdout",
       "text": [
        "\n",
        "1204.43837595"
       ]
      },
      {
       "output_type": "stream",
       "stream": "stdout",
       "text": [
        "\n",
        "1213.43208814"
       ]
      },
      {
       "output_type": "stream",
       "stream": "stdout",
       "text": [
        "\n",
        "1221.97685599"
       ]
      },
      {
       "output_type": "stream",
       "stream": "stdout",
       "text": [
        "\n",
        "1222.01121497\n",
        "(1870, 3)\n"
       ]
      }
     ],
     "prompt_number": 31
    },
    {
     "cell_type": "code",
     "collapsed": false,
     "input": [
      "triangleshiftsend = np.float16(make_displacements(FLEXATEND, dispnormtriend))\n",
      "#randomize between the ends and the beginning\n",
      "amountoftriangleshiftsbeg = np.size(firstpointstriangle, axis = 0)\n",
      "amountoftriangleshiftsend = np.size(triangleshiftsend, axis = 0)\n",
      "\n",
      "triangleshiftsend = np.tile(triangleshiftsend, (amountoftriangleshiftsbeg, 1))\n",
      "firstpointstriangle = np.repeat(firstpointstriangle, amountoftriangleshiftsend, axis = 0)\n",
      "secondpointstriangle = np.repeat(secondpointstriangle, amountoftriangleshiftsend, axis = 0)"
     ],
     "language": "python",
     "metadata": {},
     "outputs": [],
     "prompt_number": 32
    },
    {
     "cell_type": "code",
     "collapsed": false,
     "input": [
      "thirdpointstriangle  = np.float16(triangleshiftsend + endpunkt)\n",
      "\n",
      "print np.shape(firstpointstriangle)\n",
      "\n",
      "keep = sort_out_by_length(secondpointstriangle, thirdpointstriangle, linkertriangle)\n",
      "\n",
      "firstpointstriangle = firstpointstriangle[keep]\n",
      "secondpointstriangle = secondpointstriangle[keep]\n",
      "thirdpointstriangle = thirdpointstriangle[keep]\n",
      "\n",
      "print np.shape(firstpointstriangle)\n",
      "\n",
      "\n",
      "\n",
      "MakeSmall, teiler = make_small_generator_offset([firstpointstriangle, secondpointstriangle, thirdpointstriangle],\n",
      "                                        secondpointstriangle, 15, RAMOFMACHINE,np.size(secondpointstriangle, axis=0),\n",
      "                                        ProteinArray = heretousepoints)\n",
      "\n",
      "\n",
      "#about 250s per MakeSmall run\n",
      "blatime = time.time()\n",
      "\n",
      "for i in range(0, (MakeSmall +1)):\n",
      "    if i == MakeSmall:\n",
      "        if (i * teiler) < np.size(secondpointstriangle, axis=0): \n",
      "            temp1 = firstpointstriangle[i * teiler:]\n",
      "            temp2 = secondpointstriangle[i * teiler:]\n",
      "            temp3 = thirdpointstriangle[i * teiler:]\n",
      "        else:\n",
      "            break\n",
      "    else:\n",
      "        temp1 = firstpointstriangle[i*teiler:(i+1)*teiler]\n",
      "        temp2 = secondpointstriangle[i*teiler:(i+1)*teiler]\n",
      "        temp3 = thirdpointstriangle[i*teiler:(i+1)*teiler]\n",
      "\n",
      "    \n",
      "    # sort out, if the connection is too near at the protein\n",
      "    keep = (distance_from_connection(temp2, temp3, heretousepoints)[0] >= minabstand).all(axis = 1)\n",
      "    \n",
      "    temp1 = temp1[keep]    \n",
      "    temp2 = temp2[keep]\n",
      "    temp3 = temp3[keep]\n",
      "    \n",
      "    if i == 0:\n",
      "        firstpointstritemp, secondpointstritemp, thirdpointstritemp = temp1, temp2, temp3\n",
      "    else:\n",
      "        firstpointstritemp = np.concatenate((firstpointstritemp, temp1), axis =0)\n",
      "        secondpointstritemp = np.concatenate((secondpointstritemp, temp2), axis =0)\n",
      "        thirdpointstritemp = np.concatenate((thirdpointstritemp, temp3), axis =0)\n",
      "    print time.time() - blatime\n",
      "\n",
      "firstpointsflexible  = np.concatenate((firstpointstritemp,  firstpointsflexible), axis =0)\n",
      "secondpointsflexible = np.concatenate((secondpointstritemp, secondpointsflexible), axis =0)\n",
      "thirdpointsflexible  = np.concatenate((thirdpointstritemp,  thirdpointsflexible), axis =0)"
     ],
     "language": "python",
     "metadata": {},
     "outputs": []
    },
    {
     "cell_type": "code",
     "collapsed": false,
     "input": [
      "firstpointsflexible  = np.concatenate((firstpointstritemp,  firstpointsflexible), axis =0)\n",
      "secondpointsflexible = np.concatenate((secondpointstritemp, secondpointsflexible), axis =0)\n",
      "thirdpointsflexible  = np.concatenate((thirdpointstritemp,  thirdpointsflexible), axis =0)"
     ],
     "language": "python",
     "metadata": {},
     "outputs": [],
     "prompt_number": 39
    },
    {
     "cell_type": "code",
     "collapsed": false,
     "input": [
      "pickle.dump((firstpointsflexible, secondpointsflexible, thirdpointsflexible),\\\n",
      "            open(\"files/saveflexibles{projectname}.p\".format(projectname = UserDefinedProjectName), \"wb\"))"
     ],
     "language": "python",
     "metadata": {},
     "outputs": [],
     "prompt_number": 40
    },
    {
     "cell_type": "code",
     "collapsed": false,
     "input": [
      "np.shape(firstpointsflexible)"
     ],
     "language": "python",
     "metadata": {},
     "outputs": [
      {
       "metadata": {},
       "output_type": "pyout",
       "prompt_number": 41,
       "text": [
        "(1576234, 3)"
       ]
      }
     ],
     "prompt_number": 41
    },
    {
     "cell_type": "code",
     "collapsed": false,
     "input": [
      "'''\n",
      "punktetemp = pickle.load( open(\"files/saveflexibles{projectname}.p\".format(projectname = UserDefinedProjectName), \"rb\" ) )\n",
      "firstpointsflexible  = punktetemp[0]\n",
      "secondpointsflexible = punktetemp[1]\n",
      "thirdpointsflexible  = punktetemp[2]\n",
      "'''"
     ],
     "language": "python",
     "metadata": {},
     "outputs": []
    },
    {
     "cell_type": "code",
     "collapsed": false,
     "input": [
      "'''\n",
      "fig = plt.figure()\n",
      "ax = fig.add_subplot(111, projection='3d')\n",
      "ax.scatter(pkte[AmountOfAtomsFirstAA+1:-AmountOfAtomsLastAA-1:,0], pkte[AmountOfAtomsFirstAA+1:-AmountOfAtomsLastAA-1:,1], pkte[AmountOfAtomsFirstAA+1:-AmountOfAtomsLastAA-1:,2], s=10)\n",
      "ax.scatter(pkte[:AmountOfAtomsFirstAA:,0], pkte[:AmountOfAtomsFirstAA:,1], pkte[:AmountOfAtomsFirstAA:,2], s = 40, c =\"r\")\n",
      "ax.scatter(pkte[-AmountOfAtomsLastAA::,0], pkte[-AmountOfAtomsLastAA::,1], pkte[-AmountOfAtomsLastAA::,2], s = 40, c =\"r\")\n",
      "ax.scatter(OtherPoints[:,0], OtherPoints[:,1], OtherPoints[:,2], s=10, c = \"g\")\n",
      "\n",
      "ax.scatter(firstpointsflexible [:,0], firstpointsflexible[:,1], firstpointsflexible[:,2], c = \"y\")\n",
      "ax.scatter(secondpointsflexible[:,0], secondpointsflexible[:,1], secondpointsflexible[:,2], c = \"y\")\n",
      "plt.show()\n",
      "'''"
     ],
     "language": "python",
     "metadata": {},
     "outputs": []
    },
    {
     "cell_type": "heading",
     "level": 3,
     "metadata": {},
     "source": [
      "Flexible ends estimated to make the same as the rigid parts"
     ]
    },
    {
     "cell_type": "code",
     "collapsed": false,
     "input": [
      "#die verschiebungen mit den Linkerl\u00e4ngen multiplizieren, wichtig ist, in den versch sind immer auch nuller drinnen\n",
      "\n",
      "versch = make_displacements(linkerlaengenKO, dispnorm)\n",
      "\n",
      "\n",
      "anfversch = make_displacements((linkerlaengenKO + FLEXIBLEATSTARTKO - LENGTHOFANGLEKO), startdisp)\n",
      "anfversch = anfversch[(anfversch != np.array([0,0,0])).all(axis = 1)]\n",
      "    \n",
      "endversch = make_displacements((linkerlaengenKO + FLEXIBLEATENDKO - LENGTHOFANGLEKO), enddisp)\n",
      "endversch = endversch[(endversch != np.array([0,0,0])).all(axis = 1)]\n",
      "\n",
      "    \n",
      "#hier werden die Punkte generiert\n",
      "erstepunkte = np.float16(naechstepunkte([anfangspunkt], anfversch)[1])\n",
      "erstepunkte = erstepunkte[(erstepunkte == anfangspunkt).all(axis=1) |\n",
      "                          aussortierennachpunken(erstepunkte, PointsOfAllSubunits, minabstand, maxabstand)]\n",
      "\n",
      "letztepunkte = np.float16(naechstepunkte([endpunkt], endversch)[1])\n",
      "letztepunkte = letztepunkte[(letztepunkte == endpunkt).all(axis=1) | \n",
      "                            aussortierennachpunken(letztepunkte, PointsOfAllSubunits, minabstand, maxabstand)]\n",
      "\n",
      "#aussortieren, ob Punkte durch Protein gehen\n",
      "print np.shape(erstepunkte)\n",
      "#we just test with all as but not the first and last, because they are too close.\n",
      "\n",
      "#TODO hier abfangen, falls gleich alle Punkte weggemacht werden und dann eine Ausgabe machen, dass das ziemlich schwierig\n",
      "#und dann aber weiterfortlaufen, das gleiche auch mit den letzten Punkten\n",
      "\n",
      "\n",
      "'''\n",
      "\n",
      "#kann man eventuell mit hineinnehmen, wenn man ohnehin zu viel Zeug hat.\n",
      "\n",
      "if np.size(erstepunkte, axis = 0) > 5:\n",
      "    erstepunktetest = sort_out_by_protein(anfangspunkt, erstepunkte,\\\n",
      "                                      np.concatenate((pkte[AmountOfAtomsFirstAA:-AmountOfAtomsLastAA], OtherPoints), \\\n",
      "                                                     axis = 0), minabstand)[1]\n",
      "    if np.size(erstepunktetest) != 0:\n",
      "        erstepunkte = erstepunktetest\n",
      "   \n",
      "print np.shape(erstepunktetest)\n",
      "print np.shape(erstepunkte)\n",
      "'''\n",
      "'''\n",
      "if np.size(letztepunkte, axis = 0) > 5:\n",
      "    letztepunktetest = sort_out_by_protein(endpunkt, letztepunkte, \\\n",
      "                                      np.concatenate((pkte[AmountOfAtomsFirstAA:-AmountOfAtomsLastAA],\n",
      "                                      OtherPoints), axis = 0), minabstand)[1]\n",
      "    if np.size(letztepunktetest) != 0:\n",
      "        letztepunkte = letztepunktetest\n",
      "\n",
      "print np.shape(letztepunktetest)\n",
      "print np.shape(letztepunkte)\n",
      "'''\n",
      "\n",
      "#wir sortieren erstepunkte aus, die zu weit vom Ende entfernt liegen, sodass sie nicht mehr durch \n",
      "#die doppelte l\u00e4ngste Linkerl\u00e4nge verbunden werden k\u00f6nnen\n",
      "\n",
      "temp = abstandpktzuarray(endpunkt, erstepunkte)\n",
      "keep = temp < (3 * laengstesstueck)\n",
      "erstepunkte = erstepunkte[keep]\n",
      "\n",
      "#wir sortieren erstepunkte aus, die zu weit vom Ende entfernt liegen, sodass sie nicht mehr durch \n",
      "#die doppelte l\u00e4ngste Linkerl\u00e4nge verbunden werden k\u00f6nnen\n",
      "\n",
      "temp = abstandpktzuarray(anfangspunkt, letztepunkte)\n",
      "keep = temp < (3 * laengstesstueck)\n",
      "letztepunkte = letztepunkte[keep]\n",
      "\n",
      "#die zweite iteration, erstepunkte wird so gro\u00df gemacht, wie zweitepunkte, damit die Wege passen\n",
      "#davor fragen wir ab, ob es \u00fcberhaupt sinnvoll ist, die eine weitere Ecke zu nehmen, das spart viel Rechenzeit\n",
      "\n",
      "#Bedingung \u00fcbedenken!!! DNMT1 in shortpath??? na ja\n",
      "\n",
      "shortpath = False\n",
      "\n",
      "if ((abstandanfend < ((3*np.min(linkerlaengenKO)) - (2 * LENGTHOFANGLEKO))) & \n",
      "    ((np.max(linkerlaengenKO) * 2 -(2 * LENGTHOFANGLEKO)) > maxvonanfang)\\\n",
      "    & (((np.max(linkerlaengenKO) * 2) - (2 * LENGTHOFANGLEKO)) > maxvonende)):\n",
      "    zweitepunkte = erstepunkte\n",
      "    shortpath = True\n",
      "else:\n",
      "    zweiteiteration = naechstepunkte(erstepunkte, versch)\n",
      "    zweitepunkte = np.float16(zweiteiteration[1])\n",
      "    erstepunkte = np.float16(zweiteiteration[0])\n",
      "\n",
      "\n",
      "print np.shape(erstepunkte)\n",
      "print np.shape(zweitepunkte)\n",
      "print np.shape(letztepunkte)"
     ],
     "language": "python",
     "metadata": {},
     "outputs": [
      {
       "output_type": "stream",
       "stream": "stdout",
       "text": [
        "(2770, 3)\n",
        "(2770, 3)\n",
        "(2770, 3)\n",
        "(2318, 3)\n"
       ]
      }
     ],
     "prompt_number": 42
    },
    {
     "cell_type": "markdown",
     "metadata": {},
     "source": [
      "Wir sortieren nun alle Winkel aus, die kleiner als 15\u00b0 sind. Das machen wir aber nicht f\u00fcr die Anfangs und Endpunkte, da nicht klar ist, wie dort die Alphahelix angesetzt wird."
     ]
    },
    {
     "cell_type": "code",
     "collapsed": false,
     "input": [
      "#Nach Winkeln aussortieren, von vorne.\n",
      "\n",
      "temp = sort_out_by_angle(anfangspunkt, erstepunkte, zweitepunkte, angletosequence)\n",
      "erstepunkte = temp[0]\n",
      "zweitepunkte = temp[1]"
     ],
     "language": "python",
     "metadata": {},
     "outputs": [],
     "prompt_number": 43
    },
    {
     "cell_type": "code",
     "collapsed": false,
     "input": [
      "print anzahleckenmax\n",
      "print anzahleckenmin"
     ],
     "language": "python",
     "metadata": {},
     "outputs": [
      {
       "output_type": "stream",
       "stream": "stdout",
       "text": [
        "5.95588235294\n",
        "1.12501004553\n"
       ]
      }
     ],
     "prompt_number": 44
    },
    {
     "cell_type": "code",
     "collapsed": false,
     "input": [
      "#wir sortieren zweite Punkte aus, die zu weit vom Ende entfernt liegen, sodass sie nicht mehr durch \n",
      "#die doppelte l\u00e4ngste Linkerl\u00e4nge verbunden werden k\u00f6nnen\n",
      "\n",
      "temp = abstandpktzuarray(endpunkt, zweitepunkte)\n",
      "keep = temp < (2 * laengstesstueck)\n",
      "zweitepunkte = zweitepunkte[keep]\n",
      "erstepunkte = erstepunkte[keep]\n",
      "\n",
      "np.shape(zweitepunkte)"
     ],
     "language": "python",
     "metadata": {},
     "outputs": [
      {
       "metadata": {},
       "output_type": "pyout",
       "prompt_number": 45,
       "text": [
        "(2770, 3)"
       ]
      }
     ],
     "prompt_number": 45
    },
    {
     "cell_type": "code",
     "collapsed": false,
     "input": [
      "#L\u00e4uft 82 sek, sortiert 60 000 Punkte aus\n",
      "#wir sortieren die Punkte aus, die zu weit oder zu nah im Protein sind\n",
      "StartTime = time.time()\n",
      "MakeSmall, teiler = make_small_generator(zweitepunkte,1 , RAMOFMACHINE ,np.size(zweitepunkte, axis = 0),\n",
      "                                         ProteinArray = PointsOfAllSubunits)\n",
      "\n",
      "temp = aussortierennachpunken(zweitepunkte[:teiler], PointsOfAllSubunits, minabstand, maxabstand)\n",
      "\n",
      "for i in range(1,MakeSmall):\n",
      "    temp = np.concatenate((temp, aussortierennachpunken(zweitepunkte[i*teiler:(i+1)*teiler],\\\n",
      "                                                        PointsOfAllSubunits, minabstand, maxabstand)), axis = 0)\n",
      "if ((i+1) * teiler) < np.size(zweitepunkte, axis=0): \n",
      "    temp = np.concatenate((temp, aussortierennachpunken(zweitepunkte[(i+1)*teiler:],\n",
      "                                                        PointsOfAllSubunits, minabstand, maxabstand)), axis = 0)\n",
      "\n",
      "print time.time()-StartTime    \n",
      "temp = np.array(temp)\n",
      "temp = np.ravel(temp, \"C\")\n",
      "\n",
      "zweitepunkte = zweitepunkte[temp]\n",
      "erstepunkte = erstepunkte[temp]\n",
      "print np.shape(erstepunkte)\n",
      "#save for saving calculationtime\n",
      "pickle.dump((erstepunkte, zweitepunkte, letztepunkte),\\\n",
      "            open(\"files/save{projectname}.p\".format(projectname = UserDefinedProjectName), \"wb\"))"
     ],
     "language": "python",
     "metadata": {},
     "outputs": [
      {
       "output_type": "stream",
       "stream": "stdout",
       "text": [
        "0.113313913345\n",
        "(2770, 3)\n"
       ]
      }
     ],
     "prompt_number": 46
    },
    {
     "cell_type": "code",
     "collapsed": false,
     "input": [
      "#l\u00e4uft etwa 11 minuten, reduziert um die H\u00e4lfte\n",
      "MakeSmall, teiler = make_small_generator(zweitepunkte, 10 , RAMOFMACHINE ,np.size(zweitepunkte, axis=0),\n",
      "                                         ProteinArray = PointsOfAllSubunits)\n",
      "\n",
      "\n",
      "temp = sort_out_by_protein(erstepunkte[:teiler], zweitepunkte[:teiler], PointsOfAllSubunits, minabstand)\n",
      "erstetemp = temp[0]\n",
      "zweitetemp = temp[1]\n",
      "\n",
      "\n",
      "\n",
      "bla = time.time()\n",
      "#das l\u00e4uft zu lange...\n",
      "for i in range(1, MakeSmall):\n",
      "    temp = sort_out_by_protein(erstepunkte[i*teiler:(i+1)*teiler], zweitepunkte[i*teiler:(i+1)*teiler],\\\n",
      "                        PointsOfAllSubunits, minabstand)\n",
      "    \n",
      "    erstetemp = np.concatenate((erstetemp, temp[0]), axis =0)\n",
      "    zweitetemp = np.concatenate((zweitetemp, temp[1]), axis =0)\n",
      "    \n",
      "\n",
      "if ((i+1) * teiler) < np.size(zweitepunkte, axis=0):    \n",
      "    temp = sort_out_by_protein(erstepunkte[(i+1)*teiler:], zweitepunkte[(i+1)*teiler:], PointsOfAllSubunits, minabstand)\n",
      "\n",
      "    erstetemp = np.concatenate((erstetemp, temp[0]), axis = 0)\n",
      "    zweitetemp = np.concatenate((zweitetemp, temp[1]), axis = 0)\n",
      "\n",
      "erstepunkte = np.float16(erstetemp)\n",
      "zweitepunkte = np.float16(zweitetemp)\n",
      "\n",
      "print bla - time.time()\n",
      "print np.size(erstepunkte, axis = 0)\n",
      "\n",
      "pickle.dump((erstepunkte, zweitepunkte, letztepunkte), \\\n",
      "            open(\"files/save{projectname}.p\".format(projectname = UserDefinedProjectName), \"wb\"))"
     ],
     "language": "python",
     "metadata": {},
     "outputs": [
      {
       "output_type": "stream",
       "stream": "stdout",
       "text": [
        "-0.000472068786621\n",
        "2770\n"
       ]
      }
     ],
     "prompt_number": 47
    },
    {
     "cell_type": "code",
     "collapsed": false,
     "input": [
      "\"\"\"\n",
      "punktetemp = pickle.load( open(\"files/save{projectname}.p\".format(projectname = UserDefinedProjectName), \"rb\" ) )\n",
      "erstepunkte = punktetemp[0]\n",
      "zweitepunkte = punktetemp[1]\n",
      "letztepunkte = punktetemp[2]\n",
      "\"\"\""
     ],
     "language": "python",
     "metadata": {},
     "outputs": []
    },
    {
     "cell_type": "code",
     "collapsed": false,
     "input": [
      "print np.size(erstepunkte, axis = 0)\n",
      "print np.size(zweitepunkte, axis = 0)"
     ],
     "language": "python",
     "metadata": {},
     "outputs": [
      {
       "output_type": "stream",
       "stream": "stdout",
       "text": [
        "2770\n",
        "2770\n"
       ]
      }
     ],
     "prompt_number": 48
    },
    {
     "cell_type": "code",
     "collapsed": false,
     "input": [
      "\"\"\"\n",
      "punktetemp = pickle.load( open(\"files/save{projectname}.p\".format(projectname = UserDefinedProjectName), \"rb\" ) )\n",
      "erstepunkte = punktetemp[0]\n",
      "zweitepunkte = punktetemp[1]\n",
      "letztepunkte = punktetemp[2]\n",
      "\"\"\""
     ],
     "language": "python",
     "metadata": {},
     "outputs": []
    },
    {
     "cell_type": "heading",
     "level": 5,
     "metadata": {},
     "source": [
      "Generierung der Verbindungen zwsichen den zweiten und den dritten Punkten"
     ]
    },
    {
     "cell_type": "code",
     "collapsed": false,
     "input": [
      "blatime = time.time()\n",
      "\n",
      "\n",
      "MakeSmall, teiler = make_small_generator(zweitepunkte,8 , RAMOFMACHINE , np.size(zweitepunkte, axis=0),\n",
      "                                         ProteinArray = letztepunkte)\n",
      "\n",
      "\n",
      "\n",
      "if os.path.exists('files/data{projectname}.h5'.format(projectname = UserDefinedProjectName)):\n",
      "    os.remove('files/data{projectname}.h5'.format(projectname = UserDefinedProjectName))\n",
      "h5f = h5py.File('files/data{projectname}.h5'.format(projectname = UserDefinedProjectName), \"w\")\n",
      "\n",
      "\n",
      "for laenge in linkerlaengenKO:\n",
      "    \n",
      "    for i in range(0,(MakeSmall)):\n",
      "                  \n",
      "        temp = sort_out_by_distance(zweitepunkte[i*teiler:(i+1)*teiler], letztepunkte,\\\n",
      "                                    erstepunkte[i*teiler:(i+1)*teiler], laenge, hitgenauig)\n",
      "        if i == 0:\n",
      "            erstetemp = temp[0]\n",
      "            zweitetemp= temp[1]\n",
      "            drittetemp= temp[2]\n",
      "        else:\n",
      "            erstetemp = np.concatenate((erstetemp, temp[0]), axis =0)\n",
      "            zweitetemp = np.concatenate((zweitetemp, temp[1]), axis =0)\n",
      "            drittetemp = np.concatenate((drittetemp, temp[2]), axis =0)\n",
      "            \n",
      "    if ((i+1) * teiler) < np.size(zweitepunkte, axis=0):  \n",
      "        temp = sort_out_by_distance(zweitepunkte[(i+1)*teiler:], letztepunkte, erstepunkte[(i+1)*teiler:], laenge, hitgenauig)\n",
      "        erstetemp = np.concatenate((erstetemp, temp[0]), axis =0)\n",
      "        zweitetemp = np.concatenate((zweitetemp, temp[1]), axis =0)\n",
      "        drittetemp = np.concatenate((drittetemp, temp[2]), axis =0)\n",
      "    \n",
      "    count = 1\n",
      "    for array in [erstetemp, zweitetemp, drittetemp]:\n",
      "        h5f.create_dataset(\"dataset_{points}{linker}\".format(points = count, linker = int(laenge)), data=array)\n",
      "        count +=1\n",
      "    print blatime-time.time()\n",
      "    \n",
      "h5f.close()\n",
      "erstetemp = zweitetemp = drittetemp = None\n",
      "    "
     ],
     "language": "python",
     "metadata": {},
     "outputs": [
      {
       "output_type": "stream",
       "stream": "stdout",
       "text": [
        "-1.21336293221\n",
        "-2.26204705238"
       ]
      },
      {
       "output_type": "stream",
       "stream": "stdout",
       "text": [
        "\n",
        "-3.45942497253"
       ]
      },
      {
       "output_type": "stream",
       "stream": "stdout",
       "text": [
        "\n",
        "-4.49183702469"
       ]
      },
      {
       "output_type": "stream",
       "stream": "stdout",
       "text": [
        "\n",
        "-5.48059797287"
       ]
      },
      {
       "output_type": "stream",
       "stream": "stdout",
       "text": [
        "\n"
       ]
      }
     ],
     "prompt_number": 49
    },
    {
     "cell_type": "markdown",
     "metadata": {},
     "source": [
      "Aussortieren der Verbindungen, die durch das Protein gehen."
     ]
    },
    {
     "cell_type": "code",
     "collapsed": true,
     "input": [
      "h5f = h5py.File('files/data{projectname}.h5'.format(projectname = UserDefinedProjectName),'r')\n",
      "\n",
      "\n",
      "blubbtime = time.time()\n",
      "\n",
      "for laenge in linkerlaengenKO:\n",
      "    \n",
      "    SizeOfArray = len(h5f[\"dataset_{points}{linker}\".format(points = 1, linker = int(laenge))]) * 3\n",
      "    \n",
      "\n",
      "\n",
      "    \n",
      "    MakeSmall, teiler = make_small_generator_offset([SizeOfArray], SizeOfArray / 3, 13 , \n",
      "                                                    RAMOFMACHINE , SizeOfArray / 3, ProteinArray= PointsOfAllSubunits)\n",
      "    \n",
      "    \n",
      "    erstepunkte  = h5f[\"dataset_{points}{linker}\".format(points = 1, linker = int(laenge))][:teiler]\n",
      "    zweitepunkte = h5f[\"dataset_{points}{linker}\".format(points = 2, linker = int(laenge))][:teiler]\n",
      "    drittepunkte = h5f[\"dataset_{points}{linker}\".format(points = 3, linker = int(laenge))][:teiler]\n",
      "\n",
      "    temp = sort_out_by_protein(zweitepunkte, drittepunkte, \\\n",
      "                               PointsOfAllSubunits, minabstand, beforearray = erstepunkte)\n",
      "    erstetemp = temp[0]\n",
      "    zweitetemp = temp[1]\n",
      "    drittetemp = temp[2]\n",
      "\n",
      "\n",
      "\n",
      "    bla = time.time()\n",
      "    #das l\u00e4uft zu lange, ein Durchlauf 2.5s, das hei\u00dft insgesamt: 30500~9hs\n",
      "    for i in range(1, MakeSmall):\n",
      "        erstepunkte  = h5f[\"dataset_{points}{linker}\".format(points = 1, linker = int(laenge))][i * teiler:(i+1)*teiler]\n",
      "        zweitepunkte = h5f[\"dataset_{points}{linker}\".format(points = 2, linker = int(laenge))][i * teiler:(i+1)*teiler]\n",
      "        drittepunkte = h5f[\"dataset_{points}{linker}\".format(points = 3, linker = int(laenge))][i * teiler:(i+1)*teiler]\n",
      "        temp = sort_out_by_protein(zweitepunkte, drittepunkte, \\\n",
      "                               PointsOfAllSubunits, minabstand, beforearray = erstepunkte)\n",
      "\n",
      "        erstetemp = np.concatenate((erstetemp, temp[0]), axis =0)\n",
      "        zweitetemp = np.concatenate((zweitetemp, temp[1]), axis =0)\n",
      "        drittetemp = np.concatenate((drittetemp, temp[2]), axis =0)\n",
      "        \n",
      "        print str(time.time() - blubbtime) + \"f\u00fcr einen makesmalldurchlauf\"\n",
      "    if ((i+1) * teiler) < (SizeOfArray / 3):  \n",
      "        erstepunkte  = h5f[\"dataset_{points}{linker}\".format(points = 1, linker = int(laenge))][(i+1) * teiler:]\n",
      "        zweitepunkte = h5f[\"dataset_{points}{linker}\".format(points = 2, linker = int(laenge))][(i+1) * teiler:]\n",
      "        drittepunkte = h5f[\"dataset_{points}{linker}\".format(points = 3, linker = int(laenge))][(i+1) * teiler:]\n",
      "\n",
      "\n",
      "        temp = sort_out_by_protein(zweitepunkte, drittepunkte, \\\n",
      "                                   PointsOfAllSubunits, minabstand, beforearray = erstepunkte)\n",
      "\n",
      "        erstetemp = np.concatenate((erstetemp, temp[0]), axis = 0)\n",
      "        zweitetemp = np.concatenate((zweitetemp, temp[1]), axis = 0)\n",
      "        drittetemp = np.concatenate((drittetemp, temp[2]), axis = 0)\n",
      "    \n",
      "    print str(time.time() - blubbtime) + \"f\u00fcr einen linkerdurchlauf\"\n",
      "\n",
      "erstepunkte = np.float16(erstetemp)\n",
      "zweitepunkte = np.float16(zweitetemp)\n",
      "drittepunkte = np.float16(drittetemp)\n",
      "\n",
      "    \n",
      "erstetemp = zweitetemp = drittetemp = None    \n",
      "\n",
      "h5f.close()\n",
      "    \n",
      "print np.shape(erstepunkte)"
     ],
     "language": "python",
     "metadata": {},
     "outputs": [
      {
       "output_type": "stream",
       "stream": "stdout",
       "text": [
        "18.9456100464f\u00fcr einen makesmalldurchlauf\n",
        "27.5348141193f\u00fcr einen makesmalldurchlauf"
       ]
      },
      {
       "output_type": "stream",
       "stream": "stdout",
       "text": [
        "\n",
        "36.4606161118f\u00fcr einen makesmalldurchlauf"
       ]
      },
      {
       "output_type": "stream",
       "stream": "stdout",
       "text": [
        "\n",
        "36.4628682137f\u00fcr einen linkerdurchlauf\n",
        "57.426112175f\u00fcr einen makesmalldurchlauf"
       ]
      },
      {
       "output_type": "stream",
       "stream": "stdout",
       "text": [
        "\n",
        "67.4273030758f\u00fcr einen makesmalldurchlauf"
       ]
      },
      {
       "output_type": "stream",
       "stream": "stdout",
       "text": [
        "\n",
        "77.8989582062f\u00fcr einen makesmalldurchlauf"
       ]
      },
      {
       "output_type": "stream",
       "stream": "stdout",
       "text": [
        "\n",
        "77.9017221928f\u00fcr einen linkerdurchlauf\n",
        "97.8364500999f\u00fcr einen makesmalldurchlauf"
       ]
      },
      {
       "output_type": "stream",
       "stream": "stdout",
       "text": [
        "\n",
        "107.080868006f\u00fcr einen makesmalldurchlauf"
       ]
      },
      {
       "output_type": "stream",
       "stream": "stdout",
       "text": [
        "\n",
        "116.15490222f\u00fcr einen makesmalldurchlauf"
       ]
      },
      {
       "output_type": "stream",
       "stream": "stdout",
       "text": [
        "\n",
        "482.517975092f\u00fcr einen makesmalldurchlauf"
       ]
      },
      {
       "output_type": "stream",
       "stream": "stdout",
       "text": [
        "\n",
        "482.52119112f\u00fcr einen linkerdurchlauf\n",
        "500.85748601f\u00fcr einen makesmalldurchlauf"
       ]
      },
      {
       "output_type": "stream",
       "stream": "stdout",
       "text": [
        "\n",
        "509.995582104f\u00fcr einen makesmalldurchlauf"
       ]
      },
      {
       "output_type": "stream",
       "stream": "stdout",
       "text": [
        "\n",
        "519.371966124f\u00fcr einen makesmalldurchlauf"
       ]
      },
      {
       "output_type": "stream",
       "stream": "stdout",
       "text": [
        "\n",
        "528.627374172f\u00fcr einen makesmalldurchlauf"
       ]
      },
      {
       "output_type": "stream",
       "stream": "stdout",
       "text": [
        "\n",
        "537.897044182f\u00fcr einen makesmalldurchlauf"
       ]
      },
      {
       "output_type": "stream",
       "stream": "stdout",
       "text": [
        "\n",
        "547.172622204f\u00fcr einen makesmalldurchlauf"
       ]
      },
      {
       "output_type": "stream",
       "stream": "stdout",
       "text": [
        "\n",
        "547.175799131f\u00fcr einen linkerdurchlauf\n",
        "566.973855019f\u00fcr einen makesmalldurchlauf"
       ]
      },
      {
       "output_type": "stream",
       "stream": "stdout",
       "text": [
        "\n",
        "576.819010019f\u00fcr einen makesmalldurchlauf"
       ]
      },
      {
       "output_type": "stream",
       "stream": "stdout",
       "text": [
        "\n",
        "586.637504101f\u00fcr einen makesmalldurchlauf"
       ]
      },
      {
       "output_type": "stream",
       "stream": "stdout",
       "text": [
        "\n",
        "596.461341143f\u00fcr einen makesmalldurchlauf"
       ]
      },
      {
       "output_type": "stream",
       "stream": "stdout",
       "text": [
        "\n",
        "606.312116146f\u00fcr einen makesmalldurchlauf"
       ]
      },
      {
       "output_type": "stream",
       "stream": "stdout",
       "text": [
        "\n",
        "616.124980211f\u00fcr einen makesmalldurchlauf"
       ]
      },
      {
       "output_type": "stream",
       "stream": "stdout",
       "text": [
        "\n",
        "616.127954006f\u00fcr einen linkerdurchlauf\n",
        "(235069, 3)\n"
       ]
      }
     ],
     "prompt_number": 50
    },
    {
     "cell_type": "code",
     "collapsed": false,
     "input": [
      "'''\n",
      "tempsize =  np.size(erstepunkte, axis = 0)\n",
      "pickle.dump(erstepunkte[:tempsize/2], \\\n",
      "            open(\"files/save{projectname}ersteeins.p\".format(projectname = UserDefinedProjectName), \"wb\"))\n",
      "pickle.dump(erstepunkte[tempsize/2:], \\\n",
      "            open(\"files/save{projectname}erstezwei.p\".format(projectname = UserDefinedProjectName), \"wb\"))\n",
      "pickle.dump(zweitepunkte[:tempsize/2], \\\n",
      "            open(\"files/save{projectname}zweiteeins.p\".format(projectname = UserDefinedProjectName), \"wb\"))\n",
      "pickle.dump(zweitepunkte[tempsize/2:], \\\n",
      "            open(\"files/save{projectname}zweitezwei.p\".format(projectname = UserDefinedProjectName), \"wb\"))\n",
      "pickle.dump(drittepunkte[:tempsize/2], \\\n",
      "            open(\"files/save{projectname}dritteeins.p\".format(projectname = UserDefinedProjectName), \"wb\"))\n",
      "pickle.dump(drittepunkte[tempsize/2:], \\\n",
      "            open(\"files/save{projectname}drittezwei.p\".format(projectname = UserDefinedProjectName), \"wb\"))\n",
      "print tempsize\n",
      "'''"
     ],
     "language": "python",
     "metadata": {},
     "outputs": []
    },
    {
     "cell_type": "code",
     "collapsed": false,
     "input": [
      "'''\n",
      "erstepunkteeins = pickle.load( open( \"files/save{projectname}ersteeins.p\".format(projectname = UserDefinedProjectName), \"rb\" ) )\n",
      "erstepunktezwei = pickle.load( open( \"files/save{projectname}erstezwei.p\".format(projectname = UserDefinedProjectName), \"rb\" ) )\n",
      "erstepunkte = np.concatenate((erstepunkteeins, erstepunktezwei), axis = 0)\n",
      "\n",
      "zweitepunkteeins = pickle.load( open( \"files/save{projectname}zweiteeins.p\".format(projectname = UserDefinedProjectName), \"rb\" ) )\n",
      "zweitepunktezwei = pickle.load( open( \"files/save{projectname}zweitezwei.p\".format(projectname = UserDefinedProjectName), \"rb\" ) )\n",
      "zweitepunkte = np.concatenate((zweitepunkteeins, zweitepunktezwei), axis = 0)\n",
      "\n",
      "drittepunkteeins = pickle.load( open(\"files/save{projectname}dritteeins.p\".format(projectname = UserDefinedProjectName), \"rb\"))\n",
      "drittepunktezwei = pickle.load( open(\"files/save{projectname}drittezwei.p\".format(projectname = UserDefinedProjectName), \"rb\"))\n",
      "drittepunkte = np.concatenate((drittepunkteeins, drittepunktezwei), axis = 0)\n",
      "\n",
      "erstepunkteeins = erstepunktezwei = zweitepunkteeins = zweitepunktezwei = drittepunkteeins = drittepunktezwei = None\n",
      "'''"
     ],
     "language": "python",
     "metadata": {},
     "outputs": []
    },
    {
     "cell_type": "code",
     "collapsed": false,
     "input": [
      "#shortpath = False"
     ],
     "language": "python",
     "metadata": {},
     "outputs": []
    },
    {
     "cell_type": "code",
     "collapsed": false,
     "input": [
      "#must be before first time get call the points\n",
      "try:\n",
      "    firstpointsflexible\n",
      "except NameError:\n",
      "    firstpointsflexible = None\n",
      "    secondpointsflexible = None\n",
      "    thirdpointsflexible = None\n",
      "    \n",
      "try:\n",
      "    erstepunkte\n",
      "except NameError:\n",
      "    erstepunkte = None\n",
      "    zweitepunkte = None\n",
      "    drittepunkte = None\n"
     ],
     "language": "python",
     "metadata": {},
     "outputs": [],
     "prompt_number": 51
    },
    {
     "cell_type": "code",
     "collapsed": false,
     "input": [
      "MakeSmall, teiler = make_small_generator_offset([firstpointsflexible, secondpointsflexible, thirdpointsflexible,\n",
      "                                             erstepunkte, zweitepunkte, drittepunkte], zweitepunkte, 20 , RAMOFMACHINE,\n",
      "                                                np.size(zweitepunkte, axis=0)/(MakeSmall) )\n",
      "\n",
      "\n",
      "if shortpath:\n",
      "    temp = sort_out_by_angle(anfangspunkt, zweitepunkte[:teiler], drittepunkte[:teiler], angletosequence)\n",
      "    \n",
      "    erstepunkte  = None\n",
      "    zweitepunkte = np.delete(zweitepunkte, np.arange(teiler), axis = 0)\n",
      "    drittepunkte = np.delete(drittepunkte, np.arange(teiler), axis = 0)\n",
      "    \n",
      "    erstetemp = temp[0]\n",
      "    zweitetemp = erstetemp\n",
      "    drittetemp = temp[1]\n",
      "    temp = None\n",
      "else:\n",
      "    temp = sort_out_by_angle(erstepunkte[:teiler], zweitepunkte[:teiler], drittepunkte[:teiler], angletosequence)\n",
      "    \n",
      "    erstepunkte  = np.delete(erstepunkte, np.arange(teiler), axis = 0)\n",
      "    zweitepunkte = np.delete(zweitepunkte, np.arange(teiler), axis = 0)\n",
      "    drittepunkte = np.delete(drittepunkte, np.arange(teiler), axis = 0)\n",
      "    \n",
      "    erstetemp = temp[0]\n",
      "    zweitetemp = temp[1]\n",
      "    drittetemp = temp[2]\n",
      "    temp = None\n",
      "\n",
      "bla = time.time()\n",
      "\n",
      "for i in range(1, MakeSmall):\n",
      "    if shortpath:\n",
      "        temp = sort_out_by_angle(anfangspunkt, zweitepunkte[:teiler],\n",
      "                                 drittepunkte[:teiler], angletosequence)\n",
      "        zweitepunkte = np.delete(zweitepunkte, np.arange(teiler), axis = 0)\n",
      "        drittepunkte = np.delete(drittepunkte, np.arange(teiler), axis = 0)\n",
      "        \n",
      "        erstetemp = np.concatenate((erstetemp, temp[0]), axis =0)\n",
      "        zweitetemp = erstetemp\n",
      "        drittetemp = np.concatenate((drittetemp, temp[1]), axis = 0)\n",
      "        temp = None\n",
      "    else:\n",
      "        temp = sort_out_by_angle(erstepunkte[:teiler], zweitepunkte[:teiler],\n",
      "                                 drittepunkte[:teiler], angletosequence)\n",
      "        erstepunkte  = np.delete(erstepunkte, np.arange(teiler), axis = 0)\n",
      "        zweitepunkte = np.delete(zweitepunkte, np.arange(teiler), axis = 0)\n",
      "        drittepunkte = np.delete(drittepunkte, np.arange(teiler), axis = 0)\n",
      "        \n",
      "        erstetemp = np.concatenate((erstetemp, temp[0]), axis =0)\n",
      "        zweitetemp = np.concatenate((zweitetemp, temp[1]), axis =0)\n",
      "        drittetemp = np.concatenate((drittetemp, temp[2]), axis = 0)\n",
      "        temp = None\n",
      "            \n",
      "\n",
      "\n",
      "if shortpath:\n",
      "    if np.shape(zweitepunkte) != (0,3):\n",
      "        temp = sort_out_by_angle(anfangspunkt, zweitepunkte, drittepunkte, angletosequence)\n",
      "        erstetemp = np.concatenate((erstetemp, temp[0]), axis =0)\n",
      "        zweitetemp = erstetemp\n",
      "        drittetemp = np.concatenate((drittetemp, temp[1]), axis = 0)\n",
      "        temp = None\n",
      "else:\n",
      "    if np.shape(zweitepunkte) != (0,3):\n",
      "        temp = sort_out_by_angle(erstepunkte, zweitepunkte, drittepunkte, angletosequence)\n",
      "        erstetemp = np.concatenate((erstetemp, temp[0]), axis =0)\n",
      "        zweitetemp = np.concatenate((zweitetemp, temp[1]), axis =0)\n",
      "        drittetemp = np.concatenate((drittetemp, temp[2]), axis = 0)\n",
      "        temp = None\n",
      "        \n",
      "\n",
      "erstepunkte = np.float16(erstetemp)\n",
      "zweitepunkte = np.float16(zweitetemp)\n",
      "drittepunkte = np.float16(drittetemp)\n",
      "\n",
      "print bla - time.time()\n",
      "print np.size(erstepunkte, axis = 0)"
     ],
     "language": "python",
     "metadata": {},
     "outputs": [
      {
       "output_type": "stream",
       "stream": "stdout",
       "text": [
        "-0.000868082046509\n",
        "188053\n"
       ]
      }
     ],
     "prompt_number": 53
    },
    {
     "cell_type": "code",
     "collapsed": false,
     "input": [
      "pickle.dump((erstepunkte, zweitepunkte, drittepunkte),\n",
      "            open(\"files/save{projectname}.p\".format(projectname = UserDefinedProjectName), \"wb\"))"
     ],
     "language": "python",
     "metadata": {},
     "outputs": []
    },
    {
     "cell_type": "code",
     "collapsed": false,
     "input": [
      "\n",
      "#UserDefinedProjectName = \"lambdalysozyme\"\n",
      "'''\n",
      "punktetemp = pickle.load( open(\"files/save{projectname}.p\".format(projectname = UserDefinedProjectName), \"rb\" ) )\n",
      "erstepunkte = punktetemp[0]\n",
      "zweitepunkte = punktetemp[1]\n",
      "drittepunkte = punktetemp[2]\n",
      "'''\n",
      "'''\n",
      "erstepunkte = erstepunkte[::100]\n",
      "zweitepunkte = zweitepunkte[::100]\n",
      "drittepunkte = drittepunkte[::100]\n",
      "'''"
     ],
     "language": "python",
     "metadata": {},
     "outputs": []
    },
    {
     "cell_type": "code",
     "collapsed": false,
     "input": [],
     "language": "python",
     "metadata": {},
     "outputs": []
    },
    {
     "cell_type": "code",
     "collapsed": false,
     "input": [
      "'''\n",
      "punktetemp = pickle.load( open(\"files/saveflexibles{projectname}.p\".format(projectname = UserDefinedProjectName), \"rb\" ) )\n",
      "firstpointsflexible  = punktetemp[0]\n",
      "secondpointsflexible = punktetemp[1]\n",
      "thirdpointsflexible  = punktetemp[2]\n",
      "'''\n",
      "'''\n",
      "#veraltet\n",
      "erstepunkte  = np.concatenate((erstepunkte, firstpointsflexible), axis = 0)\n",
      "zweitepunkte = np.concatenate((zweitepunkte, secondpointsflexible), axis = 0)\n",
      "drittepunkte = np.concatenate((drittepunkte, thirdpointsflexible), axis = 0)\n",
      "'''"
     ],
     "language": "python",
     "metadata": {},
     "outputs": []
    },
    {
     "cell_type": "code",
     "collapsed": false,
     "input": [
      "'''\n",
      "firstpointsflexible = firstpointsflexible[::100]\n",
      "secondpointsflexible = secondpointsflexible[::100]\n",
      "thirdpointsflexible = thirdpointsflexible[::100]\n",
      "'''"
     ],
     "language": "python",
     "metadata": {},
     "outputs": []
    },
    {
     "cell_type": "heading",
     "level": 3,
     "metadata": {},
     "source": [
      "Das verbessern der Pfade, anpassen an die Linkerst\u00fccke"
     ]
    },
    {
     "cell_type": "code",
     "collapsed": false,
     "input": [
      "a = np.arange(15)\n",
      "def blubb(a, b):\n",
      "    a = 7\n",
      "    \n",
      "    print a\n",
      "    \n",
      "print a\n",
      "blubb(a, 5)\n",
      "print a\n",
      "b = a\n",
      "b[5] = 5833\n",
      "\n",
      "\n",
      "print a\n",
      "print id(a), id(b)\n",
      "\n",
      "blubb = a - 2\n",
      "\n",
      "print id(blubb)\n",
      "print id(a)\n"
     ],
     "language": "python",
     "metadata": {},
     "outputs": [
      {
       "output_type": "stream",
       "stream": "stdout",
       "text": [
        "[ 0  1  2  3  4  5  6  7  8  9 10 11 12 13 14]\n",
        "7\n",
        "[ 0  1  2  3  4  5  6  7  8  9 10 11 12 13 14]\n",
        "[   0    1    2    3    4 5833    6    7    8    9   10   11   12   13   14]\n",
        "126206784 126206784\n",
        "91995344\n",
        "126206784\n"
       ]
      }
     ],
     "prompt_number": 273
    },
    {
     "cell_type": "code",
     "collapsed": false,
     "input": [
      "shift_points_to_linkerpatterns()"
     ],
     "language": "python",
     "metadata": {},
     "outputs": []
    },
    {
     "cell_type": "code",
     "collapsed": false,
     "input": [
      "#thirdpoints are to be shifted and given back\n",
      "def shift_points_to_linkerpatterns(secondpoints, thirdpoints, linkerlaengenKO):\n",
      "    '''\n",
      "    shifts thirdpoints to the secondpoints or away from them, so that the distance between second and third fits into the\n",
      "    patterns that are provided by linkerlaengenKO.\n",
      "    secondpoints and thirdpoints must have same dimension.\n",
      "    \n",
      "    returns the new thirdpoints\n",
      "    \n",
      "    ATTENTION, changes thirdpoints also\n",
      "    '''\n",
      "    lthreetemp = abstandarrays(secondpoints, thirdpoints)\n",
      "    for LAENGE in linkerlaengenKO:\n",
      "        if LAENGE == linkerlaengenKO[0]:\n",
      "            comparedtopattern = lthreetemp - LAENGE\n",
      "        else:\n",
      "            comparedtopatterntwo = lthreetemp - LAENGE\n",
      "            fusionbool = np.abs(comparedtopattern) > np.abs(comparedtopatterntwo)\n",
      "            comparedtopattern[fusionbool] = comparedtopatterntwo[fusionbool]\n",
      "    \n",
      "    toberefinedbool = (np.abs(comparedtopattern) >= LENGTHACCURACYKO)\n",
      "    \n",
      "    if toberefinedbool.any():\n",
      "        toberefinedlengths = comparedtopattern[toberefinedbool]\n",
      "        arraylengthtemp = np.size(toberefinedlengths)\n",
      "        shifts = np.zeros(arraylengthtemp)\n",
      "        #we calculate the shifts, to be sure we shift a bit farther than we need in the end.\n",
      "        shifts[toberefinedlengths > 0] = -1 * (toberefinedlengths[toberefinedlengths > 0] - \n",
      "                                               LENGTHACCURACYKO + (LENGTHACCURACYKO / 5.))\n",
      "        shifts[toberefinedlengths < 0] = -1 * (toberefinedlengths[toberefinedlengths < 0] + \n",
      "                                               LENGTHACCURACYKO - (LENGTHACCURACYKO / 5.))\n",
      "        shifts = np.reshape(np.repeat(shifts, 3), (arraylengthtemp,3))\n",
      "        lengthestemp = abstandarrays(thirdpoints[toberefinedbool] , secondpoints[toberefinedbool])\n",
      "        lengthestemp = np.reshape(np.repeat(lengthestemp, 3), (arraylengthtemp,3))\n",
      "        thirdpoints[toberefinedbool] = (((thirdpoints[toberefinedbool] - secondpoints[toberefinedbool]) /\n",
      "                                        lengthestemp) * shifts ) + thirdpoints[toberefinedbool]\n",
      "\n",
      "    #return thirdpoints\n",
      "    \n",
      "    \n",
      "    \n",
      "    \n",
      "    \n",
      "def make_better_paths_rigid(startpoint, firstpoints, secondpoints, thirdpoints, endpoint, linkerlaengenKO):\n",
      "    if np.shape(secondpoints) == (0,3):\n",
      "        firstpoints = secondpoints = thirdpoints = None\n",
      "        return firstpoints, secondpoints, thirdpoints\n",
      "    else:\n",
      "        '''\n",
      "        makes all the shiftings that should be needed in the rigid linkers, so that they can be easily translated in the end.\n",
      "\n",
      "        returns:\n",
      "        firstpoints, secondpoints, thirdpoints    \n",
      "        '''\n",
      "        linkerlaengenKOtemp = np.append(linkerlaengenKO, 0.)\n",
      "        lonetemp = abstandpktzuarray(startpoint, firstpoints)\n",
      "\n",
      "        arraylengthtemp = np.size(lonetemp)\n",
      "        #True bleibt\n",
      "\n",
      "        keep = sort_out_by_length(startpoint, firstpoints, linkerlaengenKO + FLEXIBLEATSTARTKO - LENGTHOFANGLEKO)\n",
      "        firstpoints = firstpoints[keep]\n",
      "        secondpoints = secondpoints[keep]\n",
      "        thirdpoints = thirdpoints[keep]\n",
      "\n",
      "        thirdpoints = shift_points_to_linkerpatterns(secondpoints, thirdpoints, linkerlaengenKOtemp)\n",
      "\n",
      "        keep = sort_out_by_length(thirdpoints, endpoint, linkerlaengenKO + FLEXIBLEATENDKO - LENGTHOFANGLEKO)\n",
      "        firstpoints = firstpoints[keep]\n",
      "        secondpoints = secondpoints[keep]\n",
      "        thirdpoints = thirdpoints[keep]    \n",
      "\n",
      "        return firstpoints, secondpoints, thirdpoints\n",
      "    \n",
      "    \n",
      "def make_better_paths_flex(firstpoints, secondpoints, thirdpoints, endpoint, linkerlaengenKO):\n",
      "    if np.shape(firstpoints) == (0,3):\n",
      "        firstpoints = secondpoints = thirdpoints = None\n",
      "        return firstpoints, secondpoints, thirdpoints\n",
      "    else:\n",
      "        \n",
      "        linkerlaengenKOtemp = np.append(linkerlaengenKO, 0)\n",
      "\n",
      "        noanglebool = (firstpoints == secondpoints).all(1)\n",
      "        thirdpoints[noanglebool] = shift_points_to_linkerpatterns(secondpoints[noanglebool],\n",
      "                                                                  thirdpoints[noanglebool], linkerlaengenKOtemp - \n",
      "                                                                  (2 * LENGTHOFANGLEKO))\n",
      "\n",
      "        #keep Trues\n",
      "        arraylengthtemp = np.size(noanglebool)\n",
      "        sortouttemp = np.bool8(np.ones(arraylengthtemp))\n",
      "        sortouttemp[noanglebool] = (abstandpktzuarray(endpoint, thirdpoints[noanglebool]) < FLEXIBLEATENDKO)\n",
      "\n",
      "        return firstpoints[sortouttemp], secondpoints[sortouttemp], thirdpoints[sortouttemp]"
     ],
     "language": "python",
     "metadata": {},
     "outputs": [],
     "prompt_number": 94
    },
    {
     "cell_type": "code",
     "collapsed": false,
     "input": [
      "print np.shape(firstpointsflexible)\n",
      "print np.shape(erstepunkte)\n",
      "\n",
      "5-2*3"
     ],
     "language": "python",
     "metadata": {},
     "outputs": [
      {
       "output_type": "stream",
       "stream": "stdout",
       "text": [
        "(1576234, 3)\n",
        "(188053, 3)\n"
       ]
      },
      {
       "metadata": {},
       "output_type": "pyout",
       "prompt_number": 91,
       "text": [
        "-1"
       ]
      }
     ],
     "prompt_number": 91
    },
    {
     "cell_type": "code",
     "collapsed": false,
     "input": [
      "if firstpointsflexible != None:\n",
      "    if np.shape(firstpointsflexible != (0,3)):\n",
      "        temp = make_better_paths_flex(firstpointsflexible, secondpointsflexible, thirdpointsflexible, endpunkt,\n",
      "                                      linkerlaengenKO)\n",
      "\n",
      "\n",
      "        MakeSmall, teiler = make_small_generator_offset([firstpointsflexible, secondpointsflexible, thirdpointsflexible,\n",
      "                                                 erstepunkte, zweitepunkte, drittepunkte], secondpointsflexible, 20 , RAMOFMACHINE,\n",
      "                                                        np.size(secondpointsflexible, axis=0))\n",
      "\n",
      "        print MakeSmall                                        \n",
      "\n",
      "        \n",
      "\n",
      "        temp = make_better_paths_flex(firstpointsflexible[:teiler], secondpointsflexible[:teiler], thirdpointsflexible[:teiler], \n",
      "                                      endpunkt, linkerlaengenKO)\n",
      "        firstpointsflexible  = np.delete(firstpointsflexible, np.arange(teiler), axis = 0)\n",
      "        secondpointsflexible = np.delete(secondpointsflexible, np.arange(teiler), axis = 0)\n",
      "        thirdpointsflexible  = np.delete(thirdpointsflexible, np.arange(teiler), axis = 0)\n",
      "\n",
      "        firsttemp = temp[0]\n",
      "        secondtemp = temp[1]\n",
      "        thirdtemp = temp[2]\n",
      "\n",
      "        bla = time.time()\n",
      "\n",
      "        for i in range(1, MakeSmall):\n",
      "\n",
      "            temp = make_better_paths_flex(firstpointsflexible[:teiler], secondpointsflexible[:teiler], \n",
      "                                          thirdpointsflexible[:teiler], endpunkt, linkerlaengenKO)\n",
      "            firstpointsflexible  = np.delete(firstpointsflexible, np.arange(teiler), axis = 0)\n",
      "            secondpointsflexible = np.delete(secondpointsflexible, np.arange(teiler), axis = 0)\n",
      "            thirdpointsflexible  = np.delete(thirdpointsflexible, np.arange(teiler), axis = 0)\n",
      "\n",
      "            firsttemp = np.concatenate((firsttemp, temp[0]), axis =0)\n",
      "            secondtemp = np.concatenate((secondtemp, temp[1]), axis =0)\n",
      "            thirdtemp = np.concatenate((thirdtemp, temp[2]), axis = 0)\n",
      "\n",
      "\n",
      "        if np.shape(firstpointsflexible) != (0,3):\n",
      "            temp = make_better_paths_flex(firstpointsflexible, secondpointsflexible, thirdpointsflexible, endpunkt, \n",
      "                                          linkerlaengenKO)\n",
      "            firsttemp = np.concatenate((firsttemp, temp[0]), axis =0)\n",
      "            secondtemp = np.concatenate((secondtemp, temp[1]), axis =0)\n",
      "            thirdtemp = np.concatenate((thirdtemp, temp[2]), axis = 0)\n",
      "\n",
      "\n",
      "        firstpointsflexible = np.float16(firsttemp)\n",
      "        secondpointsflexible = np.float16(secondtemp)\n",
      "        thirdpointsflexible = np.float16(thirdtemp)\n",
      "\n",
      "        #clear var.\n",
      "        firsttemp = secondtemp = thirdtemp = None\n",
      "\n",
      "        print bla - time.time()\n",
      "        print np.size(firstpointsflexible, axis = 0)    \n",
      "    \n",
      "    \n",
      "if erstepunkte != None:\n",
      "    if np.shape(erstepunkte) != (0,3):\n",
      "        MakeSmall, teiler  = make_small_generator_offset([firstpointsflexible, secondpointsflexible, thirdpointsflexible,\n",
      "                                                 erstepunkte, zweitepunkte, drittepunkte], zweitepunkte, 20 , RAMOFMACHINE,\n",
      "                                                         np.size(zweitepunkte, axis=0))\n",
      "\n",
      "\n",
      "\n",
      "\n",
      "        temp = make_better_paths_rigid(anfangspunkt, erstepunkte[:teiler], zweitepunkte[:teiler], drittepunkte[:teiler], \n",
      "                                       endpunkt, linkerlaengenKO)\n",
      "\n",
      "        erstepunkte  = np.delete(erstepunkte, np.arange(teiler), axis = 0)\n",
      "        zweitepunkte = np.delete(zweitepunkte, np.arange(teiler), axis = 0)\n",
      "        drittepunkte = np.delete(drittepunkte, np.arange(teiler), axis = 0)\n",
      "\n",
      "        erstetemp = temp[0]\n",
      "        zweitetemp = temp[1]\n",
      "        drittetemp = temp[2]\n",
      "\n",
      "        bla = time.time()\n",
      "\n",
      "        for i in range(1, MakeSmall):\n",
      "\n",
      "            temp = make_better_paths_rigid(anfangspunkt, erstepunkte[:teiler], zweitepunkte[:teiler], drittepunkte[:teiler],\n",
      "                                           endpunkt, linkerlaengenKO)\n",
      "            erstepunkte  = np.delete(erstepunkte, np.arange(teiler), axis = 0)\n",
      "            zweitepunkte = np.delete(zweitepunkte, np.arange(teiler), axis = 0)\n",
      "            drittepunkte = np.delete(drittepunkte, np.arange(teiler), axis = 0)\n",
      "\n",
      "            erstetemp = np.concatenate((erstetemp, temp[0]), axis =0)\n",
      "            zweitetemp = np.concatenate((zweitetemp, temp[1]), axis =0)\n",
      "            drittetemp = np.concatenate((drittetemp, temp[2]), axis = 0)\n",
      "\n",
      "\n",
      "        if np.shape(erstepunkte) != (0,3):\n",
      "            temp = make_better_paths_rigid(anfangspunkt, erstepunkte, zweitepunkte, drittepunkte, endpunkt, linkerlaengenKO)\n",
      "            erstetemp = np.concatenate((erstetemp, temp[0]), axis =0)\n",
      "            zweitetemp = np.concatenate((zweitetemp, temp[1]), axis =0)\n",
      "            drittetemp = np.concatenate((drittetemp, temp[2]), axis = 0)\n",
      "\n",
      "\n",
      "        erstepunkte = np.float16(erstetemp)\n",
      "        zweitepunkte = np.float16(zweitetemp)\n",
      "        drittepunkte = np.float16(drittetemp)\n",
      "\n",
      "        erstetemp = zweitetemp = drittetemp = None\n",
      "        print bla - time.time()\n",
      "        print np.size(erstepunkte, axis = 0)\n"
     ],
     "language": "python",
     "metadata": {},
     "outputs": [
      {
       "output_type": "stream",
       "stream": "stdout",
       "text": [
        "-1.69277191162e-05\n",
        "188053\n"
       ]
      }
     ],
     "prompt_number": 55
    },
    {
     "cell_type": "code",
     "collapsed": false,
     "input": [
      "pickle.dump((erstepunkte, zweitepunkte, drittepunkte, firstpointsflexible, secondpointsflexible, thirdpointsflexible), \n",
      "            open(\"files/save{projectname}.p\".format(projectname = UserDefinedProjectName), \"wb\"))"
     ],
     "language": "python",
     "metadata": {},
     "outputs": []
    },
    {
     "cell_type": "code",
     "collapsed": false,
     "input": [
      "print np.shape(firstpointsflexible)\n",
      "print np.shape(erstepunkte)"
     ],
     "language": "python",
     "metadata": {},
     "outputs": []
    },
    {
     "cell_type": "code",
     "collapsed": false,
     "input": [
      "'''\n",
      "punktetemp = pickle.load( open(\"files/save{projectname}.p\".format(projectname = UserDefinedProjectName), \"rb\" ) )\n",
      "erstepunkte = punktetemp[0]\n",
      "zweitepunkte = punktetemp[1]\n",
      "drittepunkte = punktetemp[2]\n",
      "firstpointsflexible  = punktetemp[3]\n",
      "secondpointsflexible = punktetemp[4]\n",
      "thirdpointsflexible  = punktetemp[5]\n",
      "\n",
      "punktetemp = None\n",
      "'''"
     ],
     "language": "python",
     "metadata": {},
     "outputs": []
    },
    {
     "cell_type": "heading",
     "level": 3,
     "metadata": {},
     "source": [
      "Die Bewertungsfunktion\n"
     ]
    },
    {
     "cell_type": "markdown",
     "metadata": {},
     "source": [
      "Wir definieren Regionen, die schlecht f\u00fcr den Linker sind. Dabei bekommt jede Region eine G\u00fcte. Diese G\u00fcte sagt, wenn wir einen Linker in einem Abstand von G\u00fcte geteilt durch Minabstand vorbeigehen lassen. Das hei\u00dft je kleiner die G\u00fcte, desto n\u00e4her kann ich an diesem Punkt vorbei gehen.\n",
      "\n",
      "Im Allgemeinen m\u00f6chte ich, dass einfach immer die verschiedenen Teile gleich wichtig sind, egal wie gro\u00df das Protein ist, oder wie viele Regionen wir da gesagt haben, dass umgangen werden sollen.\n",
      "\n",
      "Bei den Winkeln haben wir ja immer maximal drei Winkel, von dem her, muss das nicht normiert werden.\n",
      "\n",
      "Bei der L\u00e4nge wird mit dem Abstand der Enden skaliert, bei den unguten Regionen wird so skaliert, dass egal wie viele es sind, die definiert wurden, immer insgesamt die Gewichtung 1 ist."
     ]
    },
    {
     "cell_type": "code",
     "collapsed": false,
     "input": [
      "#Userstring ist von der Form: 273,10 280-290,5 298,7,35.6  usw. (Leerzeichen trennen Eintr\u00e4ge, , for single residues\n",
      "#- for ranges, second, for the diameter of the substrate)\n",
      "\n",
      "\n",
      "\n",
      "#UserdefinedWeighing = \"19,10,10\" #Lambdalysozyme\n",
      "#UserdefinedWeighing = \"1139-1616,1 1226,1\" #dnmt1\n",
      "UserdefinedWeighing = \"19,10,10\"\n",
      "\n",
      "\n",
      "\n",
      "ShouldBeWeighed, Weighingarray, substratelist = make_weighingarrays(UserdefinedWeighing)\n"
     ],
     "language": "python",
     "metadata": {},
     "outputs": [],
     "prompt_number": 56
    },
    {
     "cell_type": "code",
     "collapsed": false,
     "input": [
      "#weighting of linkers with flexible ends\n",
      "if secondpointsflexible != None:\n",
      "    if np.size(secondpointsflexible, axis = 0) > 0 :\n",
      "\n",
      "\n",
      "        MakeSmall, teiler = make_small_generator_offset([firstpointsflexible, secondpointsflexible, thirdpointsflexible,\n",
      "                                                 erstepunkte, zweitepunkte, drittepunkte], secondpointsflexible, 8 ,\n",
      "                                                RAMOFMACHINE , np.size(secondpointsflexible, axis=0), ProteinArray = pkte)\n",
      "\n",
      "        blubbtime = time.time()\n",
      "        print MakeSmall\n",
      "        temp = weighing_function_flex(anfangspunkt, firstpointsflexible[:teiler], secondpointsflexible[:teiler],\n",
      "                                        thirdpointsflexible[:teiler], endpunkt, pkte, InterestingAANr,\\\n",
      "                              ShouldBeWeighed, Weighingarray, substratelist)\n",
      "\n",
      "        knull = temp[0]\n",
      "        keins = temp[1]\n",
      "        kzwei = temp[2]\n",
      "        kdrei = temp[3]\n",
      "        kvier = temp[4]\n",
      "\n",
      "\n",
      "        for i in range(1, MakeSmall):\n",
      "            temp = weighing_function_flex(anfangspunkt, firstpointsflexible[i * teiler:(i+1)*teiler],\n",
      "                                            secondpointsflexible[i * teiler:(i+1)*teiler], \n",
      "                                            thirdpointsflexible[i * teiler:(i+1)*teiler],\n",
      "                                            endpunkt, pkte, InterestingAANr, ShouldBeWeighed, Weighingarray, substratelist)\n",
      "\n",
      "            knull = np.concatenate((knull, temp[0]), axis =0)\n",
      "            keins = np.concatenate((keins, temp[1]), axis =0)\n",
      "            kzwei = np.concatenate((kzwei, temp[2]), axis =0)\n",
      "            kdrei = np.concatenate((kdrei, temp[3]), axis =0)\n",
      "            kvier = np.concatenate((kvier, temp[4]), axis =0)\n",
      "            print time.time() - blubbtime\n",
      "\n",
      "\n",
      "        if ((i+1) * teiler) < np.size(secondpointsflexible, axis=0):\n",
      "            temp = weighing_function_flex(anfangspunkt, firstpointsflexible[(i+1)*teiler:], \n",
      "                                            secondpointsflexible[(i+1)*teiler:], thirdpointsflexible[(i+1)*teiler:],\n",
      "                                            endpunkt, pkte, InterestingAANr, ShouldBeWeighed, Weighingarray, substratelist)\n",
      "\n",
      "\n",
      "            knull = np.concatenate((knull, temp[0]), axis =0)\n",
      "            keins = np.concatenate((keins, temp[1]), axis =0)\n",
      "            kzwei = np.concatenate((kzwei, temp[2]), axis =0)\n",
      "            kdrei = np.concatenate((kdrei, temp[3]), axis =0)\n",
      "            kvier = np.concatenate((kvier, temp[4]), axis =0)\n",
      "\n",
      "\n",
      "\n",
      "\n",
      "\n",
      "        weightflex = np.array([knull, keins, kzwei, kdrei, kvier])\n",
      "        flexk = weightflex\n",
      "    else:\n",
      "        weightflex = None\n",
      "else:\n",
      "    weightflex = None"
     ],
     "language": "python",
     "metadata": {},
     "outputs": [
      {
       "output_type": "stream",
       "stream": "stdout",
       "text": [
        "89\n",
        "9.35433101654"
       ]
      },
      {
       "output_type": "stream",
       "stream": "stdout",
       "text": [
        "\n",
        "13.6435399055"
       ]
      },
      {
       "output_type": "stream",
       "stream": "stdout",
       "text": [
        "\n",
        "17.3263468742"
       ]
      },
      {
       "output_type": "stream",
       "stream": "stdout",
       "text": [
        "\n",
        "21.0617618561"
       ]
      },
      {
       "output_type": "stream",
       "stream": "stdout",
       "text": [
        "\n",
        "24.733782053"
       ]
      },
      {
       "output_type": "stream",
       "stream": "stdout",
       "text": [
        "\n",
        "28.5295648575"
       ]
      },
      {
       "output_type": "stream",
       "stream": "stdout",
       "text": [
        "\n",
        "32.186095953"
       ]
      },
      {
       "output_type": "stream",
       "stream": "stdout",
       "text": [
        "\n",
        "35.8736610413"
       ]
      },
      {
       "output_type": "stream",
       "stream": "stdout",
       "text": [
        "\n",
        "39.5410439968"
       ]
      },
      {
       "output_type": "stream",
       "stream": "stdout",
       "text": [
        "\n",
        "43.2033629417"
       ]
      },
      {
       "output_type": "stream",
       "stream": "stdout",
       "text": [
        "\n",
        "47.3007459641"
       ]
      },
      {
       "output_type": "stream",
       "stream": "stdout",
       "text": [
        "\n",
        "51.356169939"
       ]
      },
      {
       "output_type": "stream",
       "stream": "stdout",
       "text": [
        "\n",
        "55.2057130337"
       ]
      },
      {
       "output_type": "stream",
       "stream": "stdout",
       "text": [
        "\n",
        "59.0342459679"
       ]
      },
      {
       "output_type": "stream",
       "stream": "stdout",
       "text": [
        "\n",
        "63.0219800472"
       ]
      },
      {
       "output_type": "stream",
       "stream": "stdout",
       "text": [
        "\n",
        "66.9941940308"
       ]
      },
      {
       "output_type": "stream",
       "stream": "stdout",
       "text": [
        "\n",
        "70.9051010609"
       ]
      },
      {
       "output_type": "stream",
       "stream": "stdout",
       "text": [
        "\n",
        "75.4033460617"
       ]
      },
      {
       "output_type": "stream",
       "stream": "stdout",
       "text": [
        "\n",
        "79.1896259785"
       ]
      },
      {
       "output_type": "stream",
       "stream": "stdout",
       "text": [
        "\n",
        "83.0975289345"
       ]
      },
      {
       "output_type": "stream",
       "stream": "stdout",
       "text": [
        "\n",
        "87.1481649876"
       ]
      },
      {
       "output_type": "stream",
       "stream": "stdout",
       "text": [
        "\n",
        "91.1553759575"
       ]
      },
      {
       "output_type": "stream",
       "stream": "stdout",
       "text": [
        "\n",
        "96.0240559578"
       ]
      },
      {
       "output_type": "stream",
       "stream": "stdout",
       "text": [
        "\n",
        "99.9072659016"
       ]
      },
      {
       "output_type": "stream",
       "stream": "stdout",
       "text": [
        "\n",
        "103.663786888"
       ]
      },
      {
       "output_type": "stream",
       "stream": "stdout",
       "text": [
        "\n",
        "107.397108078"
       ]
      },
      {
       "output_type": "stream",
       "stream": "stdout",
       "text": [
        "\n",
        "111.169739962"
       ]
      },
      {
       "output_type": "stream",
       "stream": "stdout",
       "text": [
        "\n",
        "115.019603014"
       ]
      },
      {
       "output_type": "stream",
       "stream": "stdout",
       "text": [
        "\n",
        "118.88388896"
       ]
      },
      {
       "output_type": "stream",
       "stream": "stdout",
       "text": [
        "\n",
        "122.76958704"
       ]
      },
      {
       "output_type": "stream",
       "stream": "stdout",
       "text": [
        "\n",
        "126.490206957"
       ]
      },
      {
       "output_type": "stream",
       "stream": "stdout",
       "text": [
        "\n",
        "130.375259876"
       ]
      },
      {
       "output_type": "stream",
       "stream": "stdout",
       "text": [
        "\n",
        "134.2685709"
       ]
      },
      {
       "output_type": "stream",
       "stream": "stdout",
       "text": [
        "\n",
        "138.19639802"
       ]
      },
      {
       "output_type": "stream",
       "stream": "stdout",
       "text": [
        "\n",
        "142.089178085"
       ]
      },
      {
       "output_type": "stream",
       "stream": "stdout",
       "text": [
        "\n",
        "146.037682056"
       ]
      },
      {
       "output_type": "stream",
       "stream": "stdout",
       "text": [
        "\n",
        "150.023207903"
       ]
      },
      {
       "output_type": "stream",
       "stream": "stdout",
       "text": [
        "\n",
        "153.99642086"
       ]
      },
      {
       "output_type": "stream",
       "stream": "stdout",
       "text": [
        "\n",
        "157.853016853"
       ]
      },
      {
       "output_type": "stream",
       "stream": "stdout",
       "text": [
        "\n",
        "161.88091588"
       ]
      },
      {
       "output_type": "stream",
       "stream": "stdout",
       "text": [
        "\n",
        "165.857156038"
       ]
      },
      {
       "output_type": "stream",
       "stream": "stdout",
       "text": [
        "\n",
        "169.93696785"
       ]
      },
      {
       "output_type": "stream",
       "stream": "stdout",
       "text": [
        "\n",
        "173.802747965"
       ]
      },
      {
       "output_type": "stream",
       "stream": "stdout",
       "text": [
        "\n",
        "177.809001923"
       ]
      },
      {
       "output_type": "stream",
       "stream": "stdout",
       "text": [
        "\n",
        "181.723442078"
       ]
      },
      {
       "output_type": "stream",
       "stream": "stdout",
       "text": [
        "\n",
        "185.579180956"
       ]
      },
      {
       "output_type": "stream",
       "stream": "stdout",
       "text": [
        "\n",
        "189.814987898"
       ]
      },
      {
       "output_type": "stream",
       "stream": "stdout",
       "text": [
        "\n",
        "194.016253948"
       ]
      },
      {
       "output_type": "stream",
       "stream": "stdout",
       "text": [
        "\n",
        "198.748309851"
       ]
      },
      {
       "output_type": "stream",
       "stream": "stdout",
       "text": [
        "\n",
        "203.258733034"
       ]
      },
      {
       "output_type": "stream",
       "stream": "stdout",
       "text": [
        "\n",
        "207.319700956"
       ]
      },
      {
       "output_type": "stream",
       "stream": "stdout",
       "text": [
        "\n",
        "211.329046011"
       ]
      },
      {
       "output_type": "stream",
       "stream": "stdout",
       "text": [
        "\n",
        "215.28657198"
       ]
      },
      {
       "output_type": "stream",
       "stream": "stdout",
       "text": [
        "\n",
        "219.259505987"
       ]
      },
      {
       "output_type": "stream",
       "stream": "stdout",
       "text": [
        "\n",
        "223.291527987"
       ]
      },
      {
       "output_type": "stream",
       "stream": "stdout",
       "text": [
        "\n",
        "227.101233006"
       ]
      },
      {
       "output_type": "stream",
       "stream": "stdout",
       "text": [
        "\n",
        "230.982963085"
       ]
      },
      {
       "output_type": "stream",
       "stream": "stdout",
       "text": [
        "\n",
        "234.773947954"
       ]
      },
      {
       "output_type": "stream",
       "stream": "stdout",
       "text": [
        "\n",
        "238.611931086"
       ]
      },
      {
       "output_type": "stream",
       "stream": "stdout",
       "text": [
        "\n",
        "242.472475052"
       ]
      },
      {
       "output_type": "stream",
       "stream": "stdout",
       "text": [
        "\n",
        "246.356481075"
       ]
      },
      {
       "output_type": "stream",
       "stream": "stdout",
       "text": [
        "\n",
        "250.232430935"
       ]
      },
      {
       "output_type": "stream",
       "stream": "stdout",
       "text": [
        "\n",
        "254.34028697"
       ]
      },
      {
       "output_type": "stream",
       "stream": "stdout",
       "text": [
        "\n",
        "258.216014862"
       ]
      },
      {
       "output_type": "stream",
       "stream": "stdout",
       "text": [
        "\n",
        "262.033483982"
       ]
      },
      {
       "output_type": "stream",
       "stream": "stdout",
       "text": [
        "\n",
        "265.780785084"
       ]
      },
      {
       "output_type": "stream",
       "stream": "stdout",
       "text": [
        "\n",
        "269.511264086"
       ]
      },
      {
       "output_type": "stream",
       "stream": "stdout",
       "text": [
        "\n",
        "273.281193972"
       ]
      },
      {
       "output_type": "stream",
       "stream": "stdout",
       "text": [
        "\n",
        "277.097756863"
       ]
      },
      {
       "output_type": "stream",
       "stream": "stdout",
       "text": [
        "\n",
        "280.856524944"
       ]
      },
      {
       "output_type": "stream",
       "stream": "stdout",
       "text": [
        "\n",
        "284.600383043"
       ]
      },
      {
       "output_type": "stream",
       "stream": "stdout",
       "text": [
        "\n",
        "288.349016905"
       ]
      },
      {
       "output_type": "stream",
       "stream": "stdout",
       "text": [
        "\n",
        "292.097558022"
       ]
      },
      {
       "output_type": "stream",
       "stream": "stdout",
       "text": [
        "\n",
        "295.893035889"
       ]
      },
      {
       "output_type": "stream",
       "stream": "stdout",
       "text": [
        "\n",
        "299.723469973"
       ]
      },
      {
       "output_type": "stream",
       "stream": "stdout",
       "text": [
        "\n",
        "303.515775919"
       ]
      },
      {
       "output_type": "stream",
       "stream": "stdout",
       "text": [
        "\n",
        "307.375226021"
       ]
      },
      {
       "output_type": "stream",
       "stream": "stdout",
       "text": [
        "\n",
        "311.115923882"
       ]
      },
      {
       "output_type": "stream",
       "stream": "stdout",
       "text": [
        "\n",
        "314.893591881"
       ]
      },
      {
       "output_type": "stream",
       "stream": "stdout",
       "text": [
        "\n",
        "318.695149899"
       ]
      },
      {
       "output_type": "stream",
       "stream": "stdout",
       "text": [
        "\n",
        "322.480350018"
       ]
      },
      {
       "output_type": "stream",
       "stream": "stdout",
       "text": [
        "\n",
        "326.307672024"
       ]
      },
      {
       "output_type": "stream",
       "stream": "stdout",
       "text": [
        "\n",
        "330.094307899"
       ]
      },
      {
       "output_type": "stream",
       "stream": "stdout",
       "text": [
        "\n",
        "333.906374931"
       ]
      },
      {
       "output_type": "stream",
       "stream": "stdout",
       "text": [
        "\n",
        "337.728615999"
       ]
      },
      {
       "output_type": "stream",
       "stream": "stdout",
       "text": [
        "\n",
        "341.597441912"
       ]
      },
      {
       "output_type": "stream",
       "stream": "stdout",
       "text": [
        "\n",
        "345.515681028"
       ]
      },
      {
       "output_type": "stream",
       "stream": "stdout",
       "text": [
        "\n",
        "349.28411293"
       ]
      },
      {
       "output_type": "stream",
       "stream": "stdout",
       "text": [
        "\n"
       ]
      }
     ],
     "prompt_number": 57
    },
    {
     "cell_type": "code",
     "collapsed": false,
     "input": [
      "if erstepunkte != None:\n",
      "    #weighting of linkers without flexible ends\n",
      "    if np.size(zweitepunkte, axis = 0) > 0:\n",
      "\n",
      "        MakeSmall, teiler = make_small_generator_offset([firstpointsflexible, secondpointsflexible, thirdpointsflexible,\n",
      "                                                 erstepunkte, zweitepunkte, drittepunkte],\n",
      "                                                zweitepunkte, 8 , RAMOFMACHINE , np.size(zweitepunkte, axis=0)/(MakeSmall),\n",
      "                                                ProteinArray = pkte)\n",
      "\n",
      "\n",
      "\n",
      "        temp = weighing_function_rigids(anfangspunkt, erstepunkte[:teiler], zweitepunkte[:teiler],\n",
      "                                        drittepunkte[:teiler], endpunkt, pkte, InterestingAANr,\\\n",
      "                              ShouldBeWeighed, Weighingarray, substratelist)\n",
      "\n",
      "        knull = temp[0]\n",
      "        keins = temp[1]\n",
      "        kzwei = temp[2]\n",
      "        kdrei = temp[3]\n",
      "        kvier = temp[4]\n",
      "\n",
      "\n",
      "        for i in range(1, MakeSmall):\n",
      "            temp = weighing_function_rigids(anfangspunkt, erstepunkte[i * teiler:(i+1)*teiler],\n",
      "                                            zweitepunkte[i * teiler:(i+1)*teiler], \n",
      "                                            drittepunkte[i * teiler:(i+1)*teiler],\n",
      "                                            endpunkt, pkte, InterestingAANr, ShouldBeWeighed, Weighingarray, substratelist)\n",
      "\n",
      "            knull = np.concatenate((knull, temp[0]), axis =0)\n",
      "            keins = np.concatenate((keins, temp[1]), axis =0)\n",
      "            kzwei = np.concatenate((kzwei, temp[2]), axis =0)\n",
      "            kdrei = np.concatenate((kdrei, temp[3]), axis =0)\n",
      "            kvier = np.concatenate((kvier, temp[4]), axis =0)\n",
      "\n",
      "\n",
      "        if ((i+1) * teiler) < np.size(zweitepunkte, axis=0):\n",
      "            temp = weighing_function_rigids(anfangspunkt, erstepunkte[(i+1)*teiler:], \n",
      "                                            zweitepunkte[(i+1)*teiler:], drittepunkte[(i+1)*teiler: ],\n",
      "                                            endpunkt, pkte, InterestingAANr, ShouldBeWeighed, Weighingarray, substratelist)\n",
      "\n",
      "\n",
      "            knull = np.concatenate((knull, temp[0]), axis =0)\n",
      "            keins = np.concatenate((keins, temp[1]), axis =0)\n",
      "            kzwei = np.concatenate((kzwei, temp[2]), axis =0)\n",
      "            kdrei = np.concatenate((kdrei, temp[3]), axis =0)\n",
      "            kvier = np.concatenate((kvier, temp[4]), axis =0)\n",
      "\n",
      "\n",
      "\n",
      "\n",
      "        weightrig = np.array([knull, keins, kzwei, kdrei, kvier])\n",
      "        temp = None\n",
      "        knull = keins = kzwei = kdrei = kvier = None\n",
      "        #k = weightrig\n",
      "    else:\n",
      "        weightrig = None\n",
      "else:\n",
      "    weightrig = None"
     ],
     "language": "python",
     "metadata": {},
     "outputs": [],
     "prompt_number": 58
    },
    {
     "cell_type": "code",
     "collapsed": false,
     "input": [
      "'''\n",
      "pickle.dump((erstepunkte, zweitepunkte, drittepunkte, firstpointsflexible, secondpointsflexible, thirdpointsflexible,\n",
      "             weightrig, weightflex), \n",
      "            open(\"files/save{projectname}.p\".format(projectname = UserDefinedProjectName), \"wb\"))\n",
      "            \n",
      "'''"
     ],
     "language": "python",
     "metadata": {},
     "outputs": []
    },
    {
     "cell_type": "code",
     "collapsed": false,
     "input": [
      "'''\n",
      "punktetemp = pickle.load( open(\"files/save{projectname}.p\".format(projectname = UserDefinedProjectName), \"rb\" ) )\n",
      "erstepunkte = punktetemp[0][::10]\n",
      "zweitepunkte = punktetemp[1][::10]\n",
      "drittepunkte = punktetemp[2][::10]\n",
      "firstpointsflexible  = punktetemp[3]\n",
      "secondpointsflexible = punktetemp[4]\n",
      "thirdpointsflexible  = punktetemp[5]\n",
      "weightrig = punktetemp[6][::10]\n",
      "weightflex = punktetemp[7]\n",
      "\n",
      "punktetemp = None\n",
      "'''"
     ],
     "language": "python",
     "metadata": {},
     "outputs": []
    },
    {
     "cell_type": "markdown",
     "metadata": {},
     "source": [
      "Darstellen der Ergebnisse als Plots"
     ]
    },
    {
     "cell_type": "heading",
     "level": 2,
     "metadata": {},
     "source": [
      "Clustering of linkers"
     ]
    },
    {
     "cell_type": "markdown",
     "metadata": {},
     "source": [
      "At first the different linkers are just analysed. Of course this could be done in the weighing step before, but this is not that calculation intensive and like this it is much more clear when it does what."
     ]
    },
    {
     "cell_type": "code",
     "collapsed": true,
     "input": [
      "sequences, weightingsall, firstpointsall, secondpointsall, thirdpointsall =\\\n",
      "translate_paths_to_sequences(anfangspunkt,firstpointsflexible, secondpointsflexible,\n",
      "                                                    thirdpointsflexible, erstepunkte, zweitepunkte, drittepunkte, \n",
      "                                                    endpunkt, linkerdatenbank, linkerlaengenKO, angletosequence, \n",
      "                                                    angleseparators, weightflex, weightrig)\n",
      "\n",
      "print linkerlaengenKO\n",
      "print linkerdatenbank"
     ],
     "language": "python",
     "metadata": {},
     "outputs": [
      {
       "output_type": "stream",
       "stream": "stdout",
       "text": [
        "['AEAAAK' 'AEAAAKA' 'AEAAAKAA' 'AEAAAKEAAAK' 'AEAAAKEAAAKA']\n",
        "[ 24.61245888  26.08920642  27.56595395  31.99619655  33.47294408]\n",
        "(1948, 3)"
       ]
      },
      {
       "output_type": "stream",
       "stream": "stdout",
       "text": [
        "\n",
        "[[ 115.1875   96.4375  107.    ]\n",
        " [ 117.3125   96.4375  106.75  ]\n",
        " [ 115.1875   94.3125  107.125 ]\n",
        " [ 117.3125   94.3125  106.8125]\n",
        " [ 117.3125   92.1875  107.125 ]\n",
        " [ 117.3125   92.1875  107.125 ]\n",
        " [ 115.1875   94.3125  107.125 ]\n",
        " [ 117.3125   94.3125  106.8125]\n",
        " [ 115.1875   96.4375  107.    ]\n",
        " [ 117.3125   96.4375  106.75  ]\n",
        " [ 119.4375   96.4375  106.625 ]\n",
        " [ 115.1875   94.3125  107.125 ]\n",
        " [ 117.3125   94.3125  106.8125]\n",
        " [ 119.4375   94.3125  106.75  ]\n",
        " [ 121.5625   94.3125  106.8125]\n",
        " [ 117.3125   92.1875  107.125 ]\n",
        " [ 119.4375   92.1875  107.    ]\n",
        " [ 121.5625   92.1875  107.125 ]\n",
        " [ 123.625    92.1875  107.375 ]\n",
        " [ 119.4375   90.0625  107.5   ]\n",
        " [ 121.5      90.0625  107.5625]\n",
        " [ 123.5625   90.0625  107.8125]\n",
        " [ 121.4375   88.      108.1875]\n",
        " [ 123.4375   88.      108.5   ]\n",
        " [ 121.375    86.0625  109.    ]\n",
        " [ 121.375    86.0625  109.    ]\n",
        " [ 121.4375   88.      108.1875]\n",
        " [ 123.4375   88.      108.5   ]\n",
        " [ 119.4375   90.0625  107.5   ]\n",
        " [ 121.5      90.0625  107.5625]\n",
        " [ 123.5625   90.0625  107.8125]\n",
        " [ 119.4375   92.1875  107.    ]\n",
        " [ 121.5625   92.1875  107.125 ]\n",
        " [ 123.625    92.1875  107.375 ]\n",
        " [ 117.3125   92.1875  107.125 ]\n",
        " [ 119.4375   94.3125  106.75  ]\n",
        " [ 121.5625   94.3125  106.8125]\n",
        " [ 115.1875   94.3125  107.125 ]\n",
        " [ 117.3125   94.3125  106.8125]\n",
        " [ 115.1875   96.4375  107.    ]\n",
        " [ 117.3125   96.4375  106.75  ]\n",
        " [ 119.4375   96.4375  106.625 ]\n",
        " [ 121.5625   96.4375  106.75  ]\n",
        " [ 117.3125   94.3125  106.8125]\n",
        " [ 119.4375   94.3125  106.75  ]\n",
        " [ 121.5625   94.3125  106.8125]\n",
        " [ 123.6875   94.3125  107.125 ]\n",
        " [ 119.4375   92.1875  107.    ]\n",
        " [ 121.5625   92.1875  107.125 ]\n",
        " [ 123.625    92.1875  107.375 ]\n",
        " [ 125.6875   92.1875  107.8125]\n",
        " [ 121.5      90.0625  107.5625]\n",
        " [ 123.5625   90.0625  107.8125]\n",
        " [ 125.5625   90.0625  108.3125]\n",
        " [ 121.4375   88.      108.1875]\n",
        " [ 123.4375   88.      108.5   ]\n",
        " [ 125.4375   88.      108.9375]\n",
        " [ 127.375    88.      109.5   ]\n",
        " [ 123.3125   86.0625  109.3125]\n",
        " [ 125.1875   86.0625  109.6875]\n",
        " [ 127.0625   86.0625  110.3125]\n",
        " [ 128.875    86.0625  111.0625]\n",
        " [ 124.9375   84.125   110.6875]\n",
        " [ 126.75     84.125   111.25  ]\n",
        " [ 128.5      84.125   111.9375]\n",
        " [ 124.625    82.3125  111.75  ]\n",
        " [ 126.3125   82.3125  112.3125]\n",
        " [ 127.9375   82.3125  113.    ]\n",
        " [ 129.5      82.3125  113.8125]\n",
        " [ 125.875    80.625   113.5625]\n",
        " [ 127.375    80.625   114.1875]\n",
        " [ 125.375    79.0625  114.875 ]\n",
        " [ 125.375    79.0625  114.875 ]\n",
        " [ 125.875    80.625   113.5625]\n",
        " [ 127.375    80.625   114.1875]\n",
        " [ 124.625    82.3125  111.75  ]\n",
        " [ 126.3125   82.3125  112.3125]\n",
        " [ 127.9375   82.3125  113.    ]\n",
        " [ 129.5      82.3125  113.8125]\n",
        " [ 124.9375   84.125   110.6875]\n",
        " [ 126.75     84.125   111.25  ]\n",
        " [ 128.5      84.125   111.9375]\n",
        " [ 123.3125   86.0625  109.3125]\n",
        " [ 125.1875   86.0625  109.6875]\n",
        " [ 127.0625   86.0625  110.3125]\n",
        " [ 128.875    86.0625  111.0625]\n",
        " [ 121.4375   88.      108.1875]\n",
        " [ 123.4375   88.      108.5   ]\n",
        " [ 125.4375   88.      108.9375]\n",
        " [ 127.375    88.      109.5   ]\n",
        " [ 121.5      90.0625  107.5625]\n",
        " [ 123.5625   90.0625  107.8125]\n",
        " [ 125.5625   90.0625  108.3125]\n",
        " [ 119.4375   92.1875  107.    ]\n",
        " [ 121.5625   92.1875  107.125 ]\n",
        " [ 123.625    92.1875  107.375 ]\n",
        " [ 125.6875   92.1875  107.8125]\n",
        " [ 119.4375   94.3125  106.75  ]\n",
        " [ 121.5625   94.3125  106.8125]\n",
        " [ 123.6875   94.3125  107.125 ]\n",
        " ..., \n",
        " [ 116.0625   83.9375  111.9375]\n",
        " [ 114.       86.4375  110.1875]\n",
        " [ 114.5625   85.875   110.625 ]\n",
        " [ 115.0625   85.375   111.125 ]\n",
        " [ 115.5625   84.9375  111.75  ]\n",
        " [ 113.3125   87.4375  110.1875]\n",
        " [ 113.9375   86.8125  110.625 ]\n",
        " [ 114.5      86.3125  111.125 ]\n",
        " [ 112.5625   88.0625  109.875 ]\n",
        " [ 112.6875   88.3125  110.375 ]\n",
        " [ 121.5625   94.3125  106.8125]\n",
        " [ 115.1875   94.3125  107.125 ]\n",
        " [ 117.3125   94.3125  106.8125]\n",
        " [ 115.1875   96.4375  107.    ]\n",
        " [ 117.3125   96.4375  106.75  ]\n",
        " [ 119.4375   96.4375  106.625 ]\n",
        " [ 115.1875   94.3125  107.125 ]\n",
        " [ 117.3125   94.3125  106.8125]\n",
        " [ 119.4375   94.3125  106.75  ]\n",
        " [ 121.5625   94.3125  106.8125]\n",
        " [ 112.4375   88.125   109.875 ]\n",
        " [ 113.125    87.5     110.25  ]\n",
        " [ 113.75     86.9375  110.6875]\n",
        " [ 114.25     86.4375  111.1875]\n",
        " [ 113.8125   86.5     110.25  ]\n",
        " [ 114.375    85.9375  110.6875]\n",
        " [ 114.8125   85.5     111.1875]\n",
        " [ 115.25     85.0625  111.8125]\n",
        " [ 115.       84.875   110.8125]\n",
        " [ 115.375    84.4375  111.4375]\n",
        " [ 125.4375   88.      108.9375]\n",
        " [ 121.375    86.0625  109.    ]\n",
        " [ 123.3125   86.0625  109.3125]\n",
        " [ 125.1875   86.0625  109.6875]\n",
        " [ 123.125    84.125   110.25  ]\n",
        " [ 123.125    84.125   110.25  ]\n",
        " [ 121.375    86.0625  109.    ]\n",
        " [ 123.3125   86.0625  109.3125]\n",
        " [ 125.1875   86.0625  109.6875]\n",
        " [ 121.4375   88.      108.1875]\n",
        " [ 123.4375   88.      108.5   ]\n",
        " [ 125.4375   88.      108.9375]\n",
        " [ 119.4375   90.0625  107.5   ]\n",
        " [ 114.375    85.9375  110.6875]\n",
        " [ 114.8125   85.5     111.1875]\n",
        " [ 115.25     85.0625  111.8125]\n",
        " [ 113.125    87.5     110.25  ]\n",
        " [ 113.75     86.9375  110.6875]\n",
        " [ 114.25     86.4375  111.1875]\n",
        " [ 112.4375   88.125   109.875 ]\n",
        " [ 112.5      88.4375  110.375 ]\n",
        " [ 113.125    87.875   110.75  ]\n",
        " [ 110.9375   89.75    109.875 ]\n",
        " [ 111.75     89.0625  110.0625]\n",
        " [ 110.5      90.625   110.0625]\n",
        " [ 111.4375   90.      110.25  ]\n",
        " [ 112.1875   89.375   110.5   ]\n",
        " [ 112.875    88.8125  110.875 ]\n",
        " [ 111.1875   89.875   109.75  ]\n",
        " [ 112.0625   89.1875  109.9375]\n",
        " [ 112.8125   88.5625  110.25  ]\n",
        " [ 113.4375   88.      110.625 ]\n",
        " [ 112.75     88.3125  109.75  ]\n",
        " [ 113.4375   87.625   110.0625]\n",
        " [ 114.0625   87.0625  110.5625]\n",
        " [ 114.625    86.5625  111.0625]\n",
        " [ 114.125    86.625   110.0625]\n",
        " [ 114.6875   86.0625  110.5625]\n",
        " [ 115.1875   85.625   111.0625]\n",
        " [ 115.625    85.1875  111.6875]\n",
        " [ 115.375    85.      110.6875]\n",
        " [ 115.8125   84.5625  111.3125]\n",
        " [ 116.1875   84.1875  111.875 ]\n",
        " [ 116.5      83.8125  112.5   ]\n",
        " [ 116.3125   83.5     111.625 ]\n",
        " [ 116.625    83.125   112.1875]\n",
        " [ 116.9375   82.8125  112.8125]\n",
        " [ 116.875    82.3125  112.0625]\n",
        " [ 117.125    82.0625  112.6875]\n",
        " [ 116.875    82.3125  112.0625]\n",
        " [ 117.125    82.0625  112.6875]\n",
        " [ 116.3125   83.5     111.625 ]\n",
        " [ 116.625    83.125   112.1875]\n",
        " [ 116.9375   82.8125  112.8125]\n",
        " [ 115.375    85.      110.6875]\n",
        " [ 115.8125   84.5625  111.3125]\n",
        " [ 116.1875   84.1875  111.875 ]\n",
        " [ 116.5      83.8125  112.5   ]\n",
        " [ 114.125    86.625   110.0625]\n",
        " [ 114.6875   86.0625  110.5625]\n",
        " [ 115.1875   85.625   111.0625]\n",
        " [ 115.625    85.1875  111.6875]\n",
        " [ 113.4375   87.625   110.0625]\n",
        " [ 114.0625   87.0625  110.5625]\n",
        " [ 114.625    86.5625  111.0625]\n",
        " [ 112.75     88.3125  109.75  ]\n",
        " [ 112.8125   88.5625  110.25  ]\n",
        " [ 113.4375   88.      110.625 ]\n",
        " [ 111.1875   89.875   109.75  ]\n",
        " [ 112.0625   89.1875  109.9375]]\n",
        "[[ 109.6875   90.375   110.5   ]\n",
        " [ 110.4375   89.6875  110.75  ]\n",
        " [ 110.3125   89.5625  110.1875]\n",
        " [ 111.0625   88.875   110.4375]\n",
        " [ 111.6875   87.9375  110.25  ]\n",
        " [ 111.6875   87.9375  110.25  ]\n",
        " [ 110.3125   89.5625  110.1875]\n",
        " [ 111.0625   88.875   110.4375]\n",
        " [ 110.375    90.75    110.125 ]\n",
        " [ 111.25     90.125   110.3125]\n",
        " [ 112.       89.5     110.5625]\n",
        " [ 111.0625   90.      109.75  ]\n",
        " [ 111.875    89.3125  110.    ]\n",
        " [ 112.625    88.6875  110.3125]\n",
        " [ 113.25     88.125   110.75  ]\n",
        " [ 112.5625   88.375   109.8125]\n",
        " [ 113.25     87.75    110.1875]\n",
        " [ 113.875    87.1875  110.625 ]\n",
        " [ 114.375    86.6875  111.125 ]\n",
        " [ 113.9375   86.6875  110.1875]\n",
        " [ 114.4375   86.1875  110.625 ]\n",
        " [ 114.9375   85.6875  111.1875]\n",
        " [ 115.0625   85.0625  110.8125]\n",
        " [ 115.5      84.625   111.375 ]\n",
        " [ 115.6875   83.9375  111.125 ]\n",
        " [ 115.6875   83.9375  111.125 ]\n",
        " [ 115.0625   85.0625  110.8125]\n",
        " [ 115.5      84.625   111.375 ]\n",
        " [ 113.9375   86.6875  110.1875]\n",
        " [ 114.4375   86.1875  110.625 ]\n",
        " [ 114.9375   85.6875  111.1875]\n",
        " [ 113.25     87.75    110.1875]\n",
        " [ 113.875    87.1875  110.625 ]\n",
        " [ 114.375    86.6875  111.125 ]\n",
        " [ 112.5625   88.375   109.8125]\n",
        " [ 112.625    88.6875  110.3125]\n",
        " [ 113.25     88.125   110.75  ]\n",
        " [ 111.0625   90.      109.75  ]\n",
        " [ 111.875    89.3125  110.    ]\n",
        " [ 110.875    91.0625  109.875 ]\n",
        " [ 111.75     90.375   110.0625]\n",
        " [ 112.5625   89.75    110.3125]\n",
        " [ 113.3125   89.1875  110.75  ]\n",
        " [ 112.4375   89.5625  109.75  ]\n",
        " [ 113.1875   88.9375  110.0625]\n",
        " [ 113.875    88.375   110.5   ]\n",
        " [ 114.5      87.8125  111.    ]\n",
        " [ 113.875    88.      109.875 ]\n",
        " [ 114.5      87.4375  110.375 ]\n",
        " [ 115.0625   86.9375  110.875 ]\n",
        " [ 115.5625   86.4375  111.4375]\n",
        " [ 115.125    86.375   110.375 ]\n",
        " [ 115.625    85.9375  110.9375]\n",
        " [ 116.0625   85.5     111.5625]\n",
        " [ 115.75     85.3125  110.5   ]\n",
        " [ 116.25     84.8125  111.125 ]\n",
        " [ 116.625    84.4375  111.75  ]\n",
        " [ 116.9375   84.0625  112.375 ]\n",
        " [ 116.8125   83.75    111.5   ]\n",
        " [ 117.0625   83.375   112.0625]\n",
        " [ 117.375    83.0625  112.6875]\n",
        " [ 117.5625   82.8125  113.375 ]\n",
        " [ 117.5625   82.25    112.5625]\n",
        " [ 117.75     82.      113.1875]\n",
        " [ 117.9375   81.75    113.8125]\n",
        " [ 117.9375   81.0625  113.1875]\n",
        " [ 118.0625   80.9375  113.75  ]\n",
        " [ 118.25     80.75    114.375 ]\n",
        " [ 118.3125   80.625   115.    ]\n",
        " [ 118.375    79.8125  114.5625]\n",
        " [ 118.4375   79.6875  115.125 ]\n",
        " [ 118.5625   78.75    115.4375]\n",
        " [ 118.5625   78.75    115.4375]\n",
        " [ 118.375    79.8125  114.5625]\n",
        " [ 118.4375   79.6875  115.125 ]\n",
        " [ 117.9375   81.0625  113.1875]\n",
        " [ 118.0625   80.9375  113.75  ]\n",
        " [ 118.25     80.75    114.375 ]\n",
        " [ 118.3125   80.625   115.    ]\n",
        " [ 117.5625   82.25    112.5625]\n",
        " [ 117.75     82.      113.1875]\n",
        " [ 117.9375   81.75    113.8125]\n",
        " [ 116.8125   83.75    111.5   ]\n",
        " [ 117.0625   83.375   112.0625]\n",
        " [ 117.375    83.0625  112.6875]\n",
        " [ 117.5625   82.8125  113.375 ]\n",
        " [ 115.75     85.3125  110.5   ]\n",
        " [ 116.25     84.8125  111.125 ]\n",
        " [ 116.625    84.4375  111.75  ]\n",
        " [ 116.9375   84.0625  112.375 ]\n",
        " [ 115.125    86.375   110.375 ]\n",
        " [ 115.625    85.9375  110.9375]\n",
        " [ 116.0625   85.5     111.5625]\n",
        " [ 113.875    88.      109.875 ]\n",
        " [ 114.5      87.4375  110.375 ]\n",
        " [ 115.0625   86.9375  110.875 ]\n",
        " [ 115.5625   86.4375  111.4375]\n",
        " [ 113.1875   88.9375  110.0625]\n",
        " [ 113.875    88.375   110.5   ]\n",
        " [ 114.5      87.8125  111.    ]\n",
        " ..., \n",
        " [ 116.0625   83.9375  111.9375]\n",
        " [ 114.       86.4375  110.1875]\n",
        " [ 114.5625   85.875   110.625 ]\n",
        " [ 115.0625   85.375   111.125 ]\n",
        " [ 115.5625   84.9375  111.75  ]\n",
        " [ 113.3125   87.4375  110.1875]\n",
        " [ 113.9375   86.8125  110.625 ]\n",
        " [ 114.5      86.3125  111.125 ]\n",
        " [ 112.5625   88.0625  109.875 ]\n",
        " [ 112.6875   88.3125  110.375 ]\n",
        " [ 113.3125   87.75    110.75  ]\n",
        " [ 111.0625   89.625   109.8125]\n",
        " [ 111.875    88.9375  110.    ]\n",
        " [ 110.25     90.5     110.1875]\n",
        " [ 111.125    89.8125  110.375 ]\n",
        " [ 111.875    89.25    110.625 ]\n",
        " [ 110.9375   89.75    109.875 ]\n",
        " [ 111.75     89.0625  110.0625]\n",
        " [ 112.5      88.4375  110.375 ]\n",
        " [ 113.125    87.875   110.75  ]\n",
        " [ 112.4375   88.125   109.875 ]\n",
        " [ 113.125    87.5     110.25  ]\n",
        " [ 113.75     86.9375  110.6875]\n",
        " [ 114.25     86.4375  111.1875]\n",
        " [ 113.8125   86.5     110.25  ]\n",
        " [ 114.375    85.9375  110.6875]\n",
        " [ 114.8125   85.5     111.1875]\n",
        " [ 115.25     85.0625  111.8125]\n",
        " [ 115.       84.875   110.8125]\n",
        " [ 115.375    84.4375  111.4375]\n",
        " [ 115.75     84.0625  112.    ]\n",
        " [ 115.5625   83.75    111.1875]\n",
        " [ 115.9375   83.375   111.75  ]\n",
        " [ 116.25     83.0625  112.3125]\n",
        " [ 116.4375   82.25    112.1875]\n",
        " [ 116.4375   82.25    112.1875]\n",
        " [ 115.5625   83.75    111.1875]\n",
        " [ 115.9375   83.375   111.75  ]\n",
        " [ 116.25     83.0625  112.3125]\n",
        " [ 115.       84.875   110.8125]\n",
        " [ 115.375    84.4375  111.4375]\n",
        " [ 115.75     84.0625  112.    ]\n",
        " [ 113.8125   86.5     110.25  ]\n",
        " [ 114.375    85.9375  110.6875]\n",
        " [ 114.8125   85.5     111.1875]\n",
        " [ 115.25     85.0625  111.8125]\n",
        " [ 113.125    87.5     110.25  ]\n",
        " [ 113.75     86.9375  110.6875]\n",
        " [ 114.25     86.4375  111.1875]\n",
        " [ 112.4375   88.125   109.875 ]\n",
        " [ 112.5      88.4375  110.375 ]\n",
        " [ 113.125    87.875   110.75  ]\n",
        " [ 110.9375   89.75    109.875 ]\n",
        " [ 111.75     89.0625  110.0625]\n",
        " [ 110.5      90.625   110.0625]\n",
        " [ 111.4375   90.      110.25  ]\n",
        " [ 112.1875   89.375   110.5   ]\n",
        " [ 112.875    88.8125  110.875 ]\n",
        " [ 111.1875   89.875   109.75  ]\n",
        " [ 112.0625   89.1875  109.9375]\n",
        " [ 112.8125   88.5625  110.25  ]\n",
        " [ 113.4375   88.      110.625 ]\n",
        " [ 112.75     88.3125  109.75  ]\n",
        " [ 113.4375   87.625   110.0625]\n",
        " [ 114.0625   87.0625  110.5625]\n",
        " [ 114.625    86.5625  111.0625]\n",
        " [ 114.125    86.625   110.0625]\n",
        " [ 114.6875   86.0625  110.5625]\n",
        " [ 115.1875   85.625   111.0625]\n",
        " [ 115.625    85.1875  111.6875]\n",
        " [ 115.375    85.      110.6875]\n",
        " [ 115.8125   84.5625  111.3125]\n",
        " [ 116.1875   84.1875  111.875 ]\n",
        " [ 116.5      83.8125  112.5   ]\n",
        " [ 116.3125   83.5     111.625 ]\n",
        " [ 116.625    83.125   112.1875]\n",
        " [ 116.9375   82.8125  112.8125]\n",
        " [ 116.875    82.3125  112.0625]\n",
        " [ 117.125    82.0625  112.6875]\n",
        " [ 116.875    82.3125  112.0625]\n",
        " [ 117.125    82.0625  112.6875]\n",
        " [ 116.3125   83.5     111.625 ]\n",
        " [ 116.625    83.125   112.1875]\n",
        " [ 116.9375   82.8125  112.8125]\n",
        " [ 115.375    85.      110.6875]\n",
        " [ 115.8125   84.5625  111.3125]\n",
        " [ 116.1875   84.1875  111.875 ]\n",
        " [ 116.5      83.8125  112.5   ]\n",
        " [ 114.125    86.625   110.0625]\n",
        " [ 114.6875   86.0625  110.5625]\n",
        " [ 115.1875   85.625   111.0625]\n",
        " [ 115.625    85.1875  111.6875]\n",
        " [ 113.4375   87.625   110.0625]\n",
        " [ 114.0625   87.0625  110.5625]\n",
        " [ 114.625    86.5625  111.0625]\n",
        " [ 112.75     88.3125  109.75  ]\n",
        " [ 112.8125   88.5625  110.25  ]\n",
        " [ 113.4375   88.      110.625 ]\n",
        " [ 111.1875   89.875   109.75  ]\n",
        " [ 112.0625   89.1875  109.9375]]"
       ]
      },
      {
       "output_type": "stream",
       "stream": "stdout",
       "text": [
        "\n",
        "[[  98.375    77.875   117.75  ]\n",
        " [  98.375    77.875   117.75  ]\n",
        " [  98.375    77.875   117.75  ]\n",
        " [  98.375    77.875   117.75  ]\n",
        " [  98.375    77.875   117.75  ]\n",
        " [  98.375    77.875   117.75  ]\n",
        " [  98.375    77.875   117.75  ]\n",
        " [  98.375    77.875   117.75  ]\n",
        " [  99.5      77.875   117.1875]\n",
        " [  99.5      77.875   117.1875]\n",
        " [  99.5      77.875   117.1875]\n",
        " [  99.5      77.875   117.1875]\n",
        " [  99.5      77.875   117.1875]\n",
        " [  99.5      77.875   117.1875]\n",
        " [  99.5      77.875   117.1875]\n",
        " [  99.5      77.875   117.1875]\n",
        " [  99.5      77.875   117.1875]\n",
        " [  99.5      77.875   117.1875]\n",
        " [  99.5      77.875   117.1875]\n",
        " [  99.5      77.875   117.1875]\n",
        " [  99.5      77.875   117.1875]\n",
        " [  99.5      77.875   117.1875]\n",
        " [  99.5      77.875   117.1875]\n",
        " [  99.5      77.875   117.1875]\n",
        " [  99.5      77.875   117.1875]\n",
        " [  99.5      77.875   117.1875]\n",
        " [  99.5      77.875   117.1875]\n",
        " [  99.5      77.875   117.1875]\n",
        " [  99.5      77.875   117.1875]\n",
        " [  99.5      77.875   117.1875]\n",
        " [  99.5      77.875   117.1875]\n",
        " [  99.5      77.875   117.1875]\n",
        " [  99.5      77.875   117.1875]\n",
        " [  99.5      77.875   117.1875]\n",
        " [  99.5      77.875   117.1875]\n",
        " [  99.5      77.875   117.1875]\n",
        " [  99.5      77.875   117.1875]\n",
        " [  99.5      77.875   117.1875]\n",
        " [  99.5      77.875   117.1875]\n",
        " [ 100.3125   77.875   116.9375]\n",
        " [ 100.3125   77.875   116.9375]\n",
        " [ 100.3125   77.875   116.9375]\n",
        " [ 100.3125   77.875   116.9375]\n",
        " [ 100.3125   77.875   116.9375]\n",
        " [ 100.3125   77.875   116.9375]\n",
        " [ 100.3125   77.875   116.9375]\n",
        " [ 100.3125   77.875   116.9375]\n",
        " [ 100.3125   77.875   116.9375]\n",
        " [ 100.3125   77.875   116.9375]\n",
        " [ 100.3125   77.875   116.9375]\n",
        " [ 100.3125   77.875   116.9375]\n",
        " [ 100.3125   77.875   116.9375]\n",
        " [ 100.3125   77.875   116.9375]\n",
        " [ 100.3125   77.875   116.9375]\n",
        " [ 100.3125   77.875   116.9375]\n",
        " [ 100.3125   77.875   116.9375]\n",
        " [ 100.3125   77.875   116.9375]\n",
        " [ 100.3125   77.875   116.9375]\n",
        " [ 100.3125   77.875   116.9375]\n",
        " [ 100.3125   77.875   116.9375]\n",
        " [ 100.3125   77.875   116.9375]\n",
        " [ 100.3125   77.875   116.9375]\n",
        " [ 100.3125   77.875   116.9375]\n",
        " [ 100.3125   77.875   116.9375]\n",
        " [ 100.3125   77.875   116.9375]\n",
        " [ 100.3125   77.875   116.9375]\n",
        " [ 100.3125   77.875   116.9375]\n",
        " [ 100.3125   77.875   116.9375]\n",
        " [ 100.3125   77.875   116.9375]\n",
        " [ 100.3125   77.875   116.9375]\n",
        " [ 100.3125   77.875   116.9375]\n",
        " [ 100.3125   77.875   116.9375]\n",
        " [ 100.3125   77.875   116.9375]\n",
        " [ 100.3125   77.875   116.9375]\n",
        " [ 100.3125   77.875   116.9375]\n",
        " [ 100.3125   77.875   116.9375]\n",
        " [ 100.3125   77.875   116.9375]\n",
        " [ 100.3125   77.875   116.9375]\n",
        " [ 100.3125   77.875   116.9375]\n",
        " [ 100.3125   77.875   116.9375]\n",
        " [ 100.3125   77.875   116.9375]\n",
        " [ 100.3125   77.875   116.9375]\n",
        " [ 100.3125   77.875   116.9375]\n",
        " [ 100.3125   77.875   116.9375]\n",
        " [ 100.3125   77.875   116.9375]\n",
        " [ 100.3125   77.875   116.9375]\n",
        " [ 100.3125   77.875   116.9375]\n",
        " [ 100.3125   77.875   116.9375]\n",
        " [ 100.3125   77.875   116.9375]\n",
        " [ 100.3125   77.875   116.9375]\n",
        " [ 100.3125   77.875   116.9375]\n",
        " [ 100.3125   77.875   116.9375]\n",
        " [ 100.3125   77.875   116.9375]\n",
        " [ 100.3125   77.875   116.9375]\n",
        " [ 100.3125   77.875   116.9375]\n",
        " [ 100.3125   77.875   116.9375]\n",
        " [ 100.3125   77.875   116.9375]\n",
        " [ 100.3125   77.875   116.9375]\n",
        " [ 100.3125   77.875   116.9375]\n",
        " [ 100.3125   77.875   116.9375]\n",
        " ..., \n",
        " [  99.9375   77.      117.125 ]\n",
        " [  99.9375   77.      117.125 ]\n",
        " [  99.9375   77.      117.125 ]\n",
        " [  99.9375   77.      117.125 ]\n",
        " [  99.9375   77.      117.125 ]\n",
        " [  99.9375   77.      117.125 ]\n",
        " [  99.9375   77.      117.125 ]\n",
        " [  99.9375   77.      117.125 ]\n",
        " [  99.9375   77.      117.125 ]\n",
        " [  99.9375   77.      117.125 ]\n",
        " [  99.9375   77.      117.125 ]\n",
        " [  99.9375   77.      117.125 ]\n",
        " [  99.9375   77.      117.125 ]\n",
        " [  99.5      77.4375  117.1875]\n",
        " [  99.5      77.4375  117.1875]\n",
        " [  99.5      77.4375  117.1875]\n",
        " [  99.5      77.4375  117.1875]\n",
        " [  99.5      77.4375  117.1875]\n",
        " [  99.5      77.4375  117.1875]\n",
        " [  99.5      77.4375  117.1875]\n",
        " [  99.5      77.4375  117.1875]\n",
        " [  99.5      77.4375  117.1875]\n",
        " [  99.5      77.4375  117.1875]\n",
        " [  99.5      77.4375  117.1875]\n",
        " [  99.5      77.4375  117.1875]\n",
        " [  99.5      77.4375  117.1875]\n",
        " [  99.5      77.4375  117.1875]\n",
        " [  99.5      77.4375  117.1875]\n",
        " [  99.5      77.4375  117.1875]\n",
        " [  99.5      77.4375  117.1875]\n",
        " [  99.5      77.4375  117.1875]\n",
        " [  99.5      77.4375  117.1875]\n",
        " [  99.5      77.4375  117.1875]\n",
        " [  99.5      77.4375  117.1875]\n",
        " [  99.5      77.4375  117.1875]\n",
        " [  99.5      77.4375  117.1875]\n",
        " [  99.5      77.4375  117.1875]\n",
        " [  99.5      77.4375  117.1875]\n",
        " [  99.5      77.4375  117.1875]\n",
        " [  99.5      77.4375  117.1875]\n",
        " [  99.5      77.4375  117.1875]\n",
        " [  99.5      77.4375  117.1875]\n",
        " [  99.5      77.4375  117.1875]\n",
        " [  99.5      77.4375  117.1875]\n",
        " [  99.5      77.4375  117.1875]\n",
        " [  99.5      77.4375  117.1875]\n",
        " [  99.5      77.4375  117.1875]\n",
        " [  99.5      77.4375  117.1875]\n",
        " [  99.5      77.4375  117.1875]\n",
        " [  99.5      77.4375  117.1875]\n",
        " [  99.5      77.4375  117.1875]\n",
        " [  99.5      77.4375  117.1875]\n",
        " [  99.5      77.4375  117.1875]\n",
        " [  99.5      77.4375  117.1875]\n",
        " [  99.9375   77.4375  117.0625]\n",
        " [  99.9375   77.4375  117.0625]\n",
        " [  99.9375   77.4375  117.0625]\n",
        " [  99.9375   77.4375  117.0625]\n",
        " [  99.9375   77.4375  117.0625]\n",
        " [  99.9375   77.4375  117.0625]\n",
        " [  99.9375   77.4375  117.0625]\n",
        " [  99.9375   77.4375  117.0625]\n",
        " [  99.9375   77.4375  117.0625]\n",
        " [  99.9375   77.4375  117.0625]\n",
        " [  99.9375   77.4375  117.0625]\n",
        " [  99.9375   77.4375  117.0625]\n",
        " [  99.9375   77.4375  117.0625]\n",
        " [  99.9375   77.4375  117.0625]\n",
        " [  99.9375   77.4375  117.0625]\n",
        " [  99.9375   77.4375  117.0625]\n",
        " [  99.9375   77.4375  117.0625]\n",
        " [  99.9375   77.4375  117.0625]\n",
        " [  99.9375   77.4375  117.0625]\n",
        " [  99.9375   77.4375  117.0625]\n",
        " [  99.9375   77.4375  117.0625]\n",
        " [  99.9375   77.4375  117.0625]\n",
        " [  99.9375   77.4375  117.0625]\n",
        " [  99.9375   77.4375  117.0625]\n",
        " [  99.9375   77.4375  117.0625]\n",
        " [  99.9375   77.4375  117.0625]\n",
        " [  99.9375   77.4375  117.0625]\n",
        " [  99.9375   77.4375  117.0625]\n",
        " [  99.9375   77.4375  117.0625]\n",
        " [  99.9375   77.4375  117.0625]\n",
        " [  99.9375   77.4375  117.0625]\n",
        " [  99.9375   77.4375  117.0625]\n",
        " [  99.9375   77.4375  117.0625]\n",
        " [  99.9375   77.4375  117.0625]\n",
        " [  99.9375   77.4375  117.0625]\n",
        " [  99.9375   77.4375  117.0625]\n",
        " [  99.9375   77.4375  117.0625]\n",
        " [  99.9375   77.4375  117.0625]\n",
        " [  99.9375   77.4375  117.0625]\n",
        " [  99.9375   77.4375  117.0625]\n",
        " [  99.9375   77.4375  117.0625]\n",
        " [  99.9375   77.4375  117.0625]\n",
        " [  99.9375   77.4375  117.0625]\n",
        " [  99.9375   77.4375  117.0625]\n",
        " [  99.9375   77.4375  117.0625]\n",
        " [  99.9375   77.4375  117.0625]]\n",
        "True\n",
        "['GG' 'GG' 'GG' 'GG' 'GG' 'GG' 'GG' 'GG' 'GG' 'GG' 'GG' 'GG' 'GG' 'GG' 'GG'\n",
        " 'GG' 'GG' 'GG' 'GG' 'GG' 'GG' 'GG' 'GG' 'GG' 'GG' 'GG' 'GG' 'GG' 'GG' 'GG'\n",
        " 'GG' 'GG' 'GG' 'GG' 'GG' 'GG' 'GG' 'GG' 'GG' 'GG' 'GG' 'GG' 'GG' 'GG' 'GG'\n",
        " 'GG' 'GG' 'GG' 'GG' 'GG' 'GG' 'GG' 'GG' 'GG' 'GG' 'GG' 'GG' 'GG' 'GG' 'GG'\n",
        " 'GG' 'GG' 'GG' 'GG' 'GG' 'GG' 'GG' 'GG' 'GG' 'GG' 'GG' 'GG' 'GG' 'GG' 'GG'\n",
        " 'GG' 'GG' 'GG' 'GG' 'GG' 'GG' 'GG' 'GG' 'GG' 'GG' 'GG' 'GG' 'GG' 'GG' 'GG'\n",
        " 'GG' 'GG' 'GG' 'GG' 'GG' 'GG' 'GG' 'GG' 'GG' 'GG' ..., 'GG' 'GG' 'GG' 'GG'\n",
        " 'GG' 'GG' 'GG' 'GG' 'GG' 'GG' 'GG' 'GG' 'GG' 'GG' 'GG' 'GG' 'GG' 'GG' 'GG'\n",
        " 'GG' 'GG' 'GG' 'GG' 'GG' 'GG' 'GG' 'GG' 'GG' 'GG' 'GG' 'GG' 'GG' 'GG' 'GG'\n",
        " 'GG' 'GG' 'GG' 'GG' 'GG' 'GG' 'GG' 'GG' 'GG' 'GG' 'GG' 'GG' 'GG' 'GG' 'GG'\n",
        " 'GG' 'GG' 'GG' 'GG' 'GG' 'GG' 'GG' 'GG' 'GG' 'GG' 'GG' 'GG' 'GG' 'GG' 'GG'\n",
        " 'GG' 'GG' 'GG' 'GG' 'GG' 'GG' 'GG' 'GG' 'GG' 'GG' 'GG' 'GG' 'GG' 'GG' 'GG'\n",
        " 'GG' 'GG' 'GG' 'GG' 'GG' 'GG' 'GG' 'GG' 'GG' 'GG' 'GG' 'GG' 'GG' 'GG' 'GG'\n",
        " 'GG' 'GG' 'GG' 'GG' 'GG' 'GG']\n",
        "['GGXXX' 'GGXXX' 'GGXXX' 'GGXXX' 'GGXXX' 'GGXXX' 'GGXXX' 'GGXXX' 'GGXXX'\n",
        " 'GGXXX' 'GGXXX' 'GGXXX' 'GGXXX' 'GGXXX' 'GGXXX' 'GGXXX' 'GGXXX' 'GGXXX'\n",
        " 'GGXXX' 'GGXXX' 'GGXXX' 'GGXXX' 'GGXXX' 'GGXXX' 'GGXXX' 'GGXXX' 'GGXXX'\n",
        " 'GGXXX' 'GGXXX' 'GGXXX' 'GGXXX' 'GGXXX' 'GGXXX' 'GGXXX' 'GGXXX' 'GGXXX'\n",
        " 'GGXXX' 'GGXXX' 'GGXXX' 'GGXXX' 'GGXXX' 'GGXXX' 'GGXXX' 'GGXXX' 'GGXXX'\n",
        " 'GGXXX' 'GGXXX' 'GGXXX' 'GGXXX' 'GGXXX' 'GGXXX' 'GGXXX' 'GGXXX' 'GGXXX'\n",
        " 'GGXXX' 'GGXXX' 'GGXXX' 'GGXXX' 'GGXXX' 'GGXXX' 'GGXXX' 'GGXXX' 'GGXXX'\n",
        " 'GGXXX' 'GGXXX' 'GGXXX' 'GGXXX' 'GGXXX' 'GGXXX' 'GGXXX' 'GGXXX' 'GGXXX'\n",
        " 'GGXXX' 'GGXXX' 'GGXXX' 'GGXXX' 'GGXXX' 'GGXXX' 'GGXXX' 'GGXXX' 'GGXXX'\n",
        " 'GGXXX' 'GGXXX' 'GGXXX' 'GGXXX' 'GGXXX' 'GGXXX' 'GGXXX' 'GGXXX' 'GGXXX'\n",
        " 'GGXXX' 'GGXXX' 'GGXXX' 'GGXXX' 'GGXXX' 'GGXXX' 'GGXXX' 'GGXXX' 'GGXXX'\n",
        " 'GGXXX' ..., 'GGAEAAAKEAAAKA' 'GGAEAAAKEAAAKA' 'GGAEAAAKEAAAKA'\n",
        " 'GGAEAAAKEAAAKA' 'GGAEAAAKEAAAKA' 'GGAEAAAKEAAAKA' 'GGAEAAAKEAAAKA'\n",
        " 'GGAEAAAKEAAAKA' 'GGAEAAAKEAAAKA' 'GGAEAAAKEAAAKA' 'GGXXX' 'GGXXX' 'GGXXX'\n",
        " 'GGXXX' 'GGXXX' 'GGXXX' 'GGXXX' 'GGXXX' 'GGXXX' 'GGXXX' 'GGAEAAAKEAAAKA'\n",
        " 'GGAEAAAKEAAAKA' 'GGAEAAAKEAAAKA' 'GGAEAAAKEAAAKA' 'GGAEAAAKEAAAKA'\n",
        " 'GGAEAAAKEAAAKA' 'GGAEAAAKEAAAKA' 'GGAEAAAKEAAAKA' 'GGAEAAAKEAAAKA'\n",
        " 'GGAEAAAKEAAAKA' 'GGXXX' 'GGXXX' 'GGXXX' 'GGXXX' 'GGXXX' 'GGXXX' 'GGXXX'\n",
        " 'GGXXX' 'GGXXX' 'GGXXX' 'GGXXX' 'GGXXX' 'GGXXX' 'GGAEAAAKEAAAKA'\n",
        " 'GGAEAAAKEAAAKA' 'GGAEAAAKEAAAKA' 'GGAEAAAKEAAAKA' 'GGAEAAAKEAAAKA'\n",
        " 'GGAEAAAKEAAAKA' 'GGAEAAAKEAAAKA' 'GGAEAAAKEAAAKA' 'GGAEAAAKEAAAKA'\n",
        " 'GGAEAAAKEAAAKA' 'GGAEAAAKEAAAKA' 'GGAEAAAKEAAAKA' 'GGAEAAAKEAAAKA'\n",
        " 'GGAEAAAKEAAAKA' 'GGAEAAAKEAAAKA' 'GGAEAAAKEAAAKA' 'GGAEAAAKEAAAKA'\n",
        " 'GGAEAAAKEAAAKA' 'GGAEAAAKEAAAKA' 'GGAEAAAKEAAAKA' 'GGAEAAAKEAAAKA'\n",
        " 'GGAEAAAKEAAAKA' 'GGAEAAAKEAAAKA' 'GGAEAAAKEAAAKA' 'GGAEAAAKEAAAKA'\n",
        " 'GGAEAAAKEAAAKA' 'GGAEAAAKEAAAKA' 'GGAEAAAKEAAAKA' 'GGAEAAAKEAAAKA'\n",
        " 'GGAEAAAKEAAAKA' 'GGAEAAAKEAAAKA' 'GGAEAAAKEAAAKA' 'GGAEAAAKEAAAKA'\n",
        " 'GGAEAAAKEAAAKA' 'GGAEAAAKEAAAKA' 'GGAEAAAKEAAAKA' 'GGAEAAAKEAAAKA'\n",
        " 'GGAEAAAKEAAAKA' 'GGAEAAAKEAAAKA' 'GGAEAAAKEAAAKA' 'GGAEAAAKEAAAKA'\n",
        " 'GGAEAAAKEAAAKA' 'GGAEAAAKEAAAKA' 'GGAEAAAKEAAAKA' 'GGAEAAAKEAAAKA'\n",
        " 'GGAEAAAKEAAAKA' 'GGAEAAAKEAAAKA' 'GGAEAAAKEAAAKA' 'GGAEAAAKEAAAKA'\n",
        " 'GGAEAAAKEAAAKA' 'GGAEAAAKEAAAKA' 'GGAEAAAKEAAAKA' 'GGAEAAAKEAAAKA'\n",
        " 'GGAEAAAKEAAAKA' 'GGAEAAAKEAAAKA' 'GGAEAAAKEAAAKA' 'GGAEAAAKEAAAKA']\n",
        "[ 24.61245888  26.08920642  27.56595395  31.99619655  33.47294408]"
       ]
      },
      {
       "output_type": "stream",
       "stream": "stdout",
       "text": [
        "\n",
        "['AEAAAK' 'AEAAAKA' 'AEAAAKAA' 'AEAAAKEAAAK' 'AEAAAKEAAAKA']\n"
       ]
      }
     ],
     "prompt_number": 289
    },
    {
     "cell_type": "code",
     "collapsed": false,
     "input": [
      "sequencepool = np.unique(sequences)\n",
      "sequenceweightings = []\n",
      "sequenceweightingsstd = []\n",
      "for sequenceiter in sequencepool:\n",
      "    sequenceweightings.append(np.mean(weightingsall[3][sequences == sequenceiter]))\n",
      "    sequenceweightingsstd.append(np.std(weightingsall[3][sequences == sequenceiter]))\n",
      "sequenceweightings = np.array(sequenceweightings)\n",
      "sequenceweightingsstd = np.array(sequenceweightingsstd)\n"
     ],
     "language": "python",
     "metadata": {},
     "outputs": [],
     "prompt_number": 295
    },
    {
     "cell_type": "code",
     "collapsed": false,
     "input": [
      "bestsequenceindex = np.argmax(sequenceweightings)\n",
      "\n",
      "print sequencepool[bestsequenceindex]"
     ],
     "language": "python",
     "metadata": {},
     "outputs": [
      {
       "output_type": "stream",
       "stream": "stdout",
       "text": [
        "GGAEAAAKVNLTAAEAAAKEAAAKAKTAAEAAAKARGKCWE\n"
       ]
      }
     ],
     "prompt_number": 297
    },
    {
     "cell_type": "code",
     "collapsed": true,
     "input": [
      "print sequencepool"
     ],
     "language": "python",
     "metadata": {},
     "outputs": [
      {
       "output_type": "stream",
       "stream": "stdout",
       "text": [
        "['GGAEAAAKAAAAAHPEAAEAAAKAARGKCWE' 'GGAEAAAKAAAAAHPEAAEAAAKARGKCWE'\n",
        " 'GGAEAAAKAAAAAHPEAAEAAAKEAAAKAAADGTLAEAAAKAARGKCWE'\n",
        " 'GGAEAAAKAAAAAHPEAAEAAAKEAAAKAAADGTLAEAAAKARGKCWE'\n",
        " 'GGAEAAAKAAAAAHPEAAEAAAKEAAAKAAADGTLAEAAAKEAAAKARGKCWE'\n",
        " 'GGAEAAAKAAAAAHPEAAEAAAKEAAAKAAADGTLAEAAAKEAAAKRGKCWE'\n",
        " 'GGAEAAAKAAAAAHPEAAEAAAKEAAAKAAADGTLAEAAAKRGKCWE'\n",
        " 'GGAEAAAKAAAAAHPEAAEAAAKEAAAKAADGTLAEAAAKAARGKCWE'\n",
        " 'GGAEAAAKAAAAAHPEAAEAAAKEAAAKAADGTLAEAAAKARGKCWE'\n",
        " 'GGAEAAAKAAAAAHPEAAEAAAKEAAAKAADGTLAEAAAKEAAAKARGKCWE'\n",
        " 'GGAEAAAKAAAAAHPEAAEAAAKEAAAKAADGTLAEAAAKEAAAKRGKCWE'\n",
        " 'GGAEAAAKAAAAAHPEAAEAAAKEAAAKAADGTLAEAAAKRGKCWE'\n",
        " 'GGAEAAAKAAAAAHPEAAEAAAKEAAAKAKTAAEAAAKAARGKCWE'\n",
        " 'GGAEAAAKAAAAAHPEAAEAAAKEAAAKAKTAAEAAAKARGKCWE'\n",
        " 'GGAEAAAKAAAAAHPEAAEAAAKEAAAKAKTAAEAAAKEAAAKARGKCWE'\n",
        " 'GGAEAAAKAAAAAHPEAAEAAAKEAAAKAKTAAEAAAKEAAAKRGKCWE'\n",
        " 'GGAEAAAKAAAAAHPEAAEAAAKEAAAKAKTAAEAAAKRGKCWE'\n",
        " 'GGAEAAAKAAAAAHPEAAEAAAKEAAAKARGKCWE'\n",
        " 'GGAEAAAKAAAAAHPEAAEAAAKEAAAKAVNLTAAEAAAKAARGKCWE'\n",
        " 'GGAEAAAKAAAAAHPEAAEAAAKEAAAKAVNLTAAEAAAKARGKCWE'\n",
        " 'GGAEAAAKAAAAAHPEAAEAAAKEAAAKAVNLTAAEAAAKEAAAKRGKCWE'\n",
        " 'GGAEAAAKAAAAAHPEAAEAAAKEAAAKAVNLTAAEAAAKRGKCWE'\n",
        " 'GGAEAAAKAAAAAHPEAAEAAAKEAAAKKTAAEAAAKAARGKCWE'\n",
        " 'GGAEAAAKAAAAAHPEAAEAAAKEAAAKKTAAEAAAKARGKCWE'\n",
        " 'GGAEAAAKAAAAAHPEAAEAAAKEAAAKKTAAEAAAKEAAAKARGKCWE'\n",
        " 'GGAEAAAKAAAAAHPEAAEAAAKEAAAKKTAAEAAAKEAAAKRGKCWE'\n",
        " 'GGAEAAAKAAAAAHPEAAEAAAKEAAAKKTAAEAAAKRGKCWE'\n",
        " 'GGAEAAAKAAAAAHPEAAEAAAKEAAAKRGKCWE'\n",
        " 'GGAEAAAKAAAAAHPEAAEAAAKEAAAKVNLTAAEAAAKAARGKCWE'\n",
        " 'GGAEAAAKAAAAAHPEAAEAAAKEAAAKVNLTAAEAAAKARGKCWE'\n",
        " 'GGAEAAAKAAAAAHPEAAEAAAKEAAAKVNLTAAEAAAKEAAAKARGKCWE'\n",
        " 'GGAEAAAKAAAAAHPEAAEAAAKEAAAKVNLTAAEAAAKEAAAKRGKCWE'\n",
        " 'GGAEAAAKAAAAAHPEAAEAAAKEAAAKVNLTAAEAAAKRGKCWE'\n",
        " 'GGAEAAAKAAAAAHPEAAEAAAKRGKCWE' 'GGAEAAAKAAAADGTLAEAAAKAARGKCWE'\n",
        " 'GGAEAAAKAAAADGTLAEAAAKARGKCWE' 'GGAEAAAKAAAADGTLAEAAAKRGKCWE'\n",
        " 'GGAEAAAKAAAAHPEAAEAAAKAARGKCWE' 'GGAEAAAKAAAAHPEAAEAAAKARGKCWE'\n",
        " 'GGAEAAAKAAAAHPEAAEAAAKEAAAKAAADGTLAEAAAKAARGKCWE'\n",
        " 'GGAEAAAKAAAAHPEAAEAAAKEAAAKAAADGTLAEAAAKARGKCWE'\n",
        " 'GGAEAAAKAAAAHPEAAEAAAKEAAAKAAADGTLAEAAAKEAAAKARGKCWE'\n",
        " 'GGAEAAAKAAAAHPEAAEAAAKEAAAKAAADGTLAEAAAKEAAAKRGKCWE'\n",
        " 'GGAEAAAKAAAAHPEAAEAAAKEAAAKAAADGTLAEAAAKRGKCWE'\n",
        " 'GGAEAAAKAAAAHPEAAEAAAKEAAAKAADGTLAEAAAKAARGKCWE'\n",
        " 'GGAEAAAKAAAAHPEAAEAAAKEAAAKAADGTLAEAAAKARGKCWE'\n",
        " 'GGAEAAAKAAAAHPEAAEAAAKEAAAKAADGTLAEAAAKEAAAKARGKCWE'\n",
        " 'GGAEAAAKAAAAHPEAAEAAAKEAAAKAADGTLAEAAAKEAAAKRGKCWE'\n",
        " 'GGAEAAAKAAAAHPEAAEAAAKEAAAKAADGTLAEAAAKRGKCWE'\n",
        " 'GGAEAAAKAAAAHPEAAEAAAKEAAAKAKTAAEAAAKAARGKCWE'\n",
        " 'GGAEAAAKAAAAHPEAAEAAAKEAAAKAKTAAEAAAKARGKCWE'\n",
        " 'GGAEAAAKAAAAHPEAAEAAAKEAAAKAKTAAEAAAKEAAAKARGKCWE'\n",
        " 'GGAEAAAKAAAAHPEAAEAAAKEAAAKAKTAAEAAAKEAAAKRGKCWE'\n",
        " 'GGAEAAAKAAAAHPEAAEAAAKEAAAKAKTAAEAAAKRGKCWE'\n",
        " 'GGAEAAAKAAAAHPEAAEAAAKEAAAKARGKCWE'\n",
        " 'GGAEAAAKAAAAHPEAAEAAAKEAAAKAVNLTAAEAAAKAARGKCWE'\n",
        " 'GGAEAAAKAAAAHPEAAEAAAKEAAAKAVNLTAAEAAAKARGKCWE'\n",
        " 'GGAEAAAKAAAAHPEAAEAAAKEAAAKAVNLTAAEAAAKRGKCWE'\n",
        " 'GGAEAAAKAAAAHPEAAEAAAKEAAAKKTAAEAAAKAARGKCWE'\n",
        " 'GGAEAAAKAAAAHPEAAEAAAKEAAAKKTAAEAAAKARGKCWE'\n",
        " 'GGAEAAAKAAAAHPEAAEAAAKEAAAKKTAAEAAAKEAAAKARGKCWE'\n",
        " 'GGAEAAAKAAAAHPEAAEAAAKEAAAKKTAAEAAAKEAAAKRGKCWE'\n",
        " 'GGAEAAAKAAAAHPEAAEAAAKEAAAKKTAAEAAAKRGKCWE'\n",
        " 'GGAEAAAKAAAAHPEAAEAAAKEAAAKRGKCWE'\n",
        " 'GGAEAAAKAAAAHPEAAEAAAKEAAAKVNLTAAEAAAKAARGKCWE'\n",
        " 'GGAEAAAKAAAAHPEAAEAAAKEAAAKVNLTAAEAAAKARGKCWE'\n",
        " 'GGAEAAAKAAAAHPEAAEAAAKEAAAKVNLTAAEAAAKRGKCWE'\n",
        " 'GGAEAAAKAAAAHPEAAEAAAKRGKCWE' 'GGAEAAAKAAADGTLAEAAAKAARGKCWE'\n",
        " 'GGAEAAAKAAADGTLAEAAAKARGKCWE' 'GGAEAAAKAAADGTLAEAAAKEAAAKARGKCWE'\n",
        " 'GGAEAAAKAAADGTLAEAAAKEAAAKRGKCWE' 'GGAEAAAKAAADGTLAEAAAKRGKCWE'\n",
        " 'GGAEAAAKAAAHPEAAEAAAKAARGKCWE' 'GGAEAAAKAAAHPEAAEAAAKARGKCWE'\n",
        " 'GGAEAAAKAAAHPEAAEAAAKEAAAKAAADGTLAEAAAKAARGKCWE'\n",
        " 'GGAEAAAKAAAHPEAAEAAAKEAAAKAAADGTLAEAAAKARGKCWE'\n",
        " 'GGAEAAAKAAAHPEAAEAAAKEAAAKAAADGTLAEAAAKEAAAKARGKCWE'\n",
        " 'GGAEAAAKAAAHPEAAEAAAKEAAAKAAADGTLAEAAAKEAAAKRGKCWE'\n",
        " 'GGAEAAAKAAAHPEAAEAAAKEAAAKAAADGTLAEAAAKRGKCWE'\n",
        " 'GGAEAAAKAAAHPEAAEAAAKEAAAKAADGTLAEAAAKAARGKCWE'\n",
        " 'GGAEAAAKAAAHPEAAEAAAKEAAAKAADGTLAEAAAKARGKCWE'\n",
        " 'GGAEAAAKAAAHPEAAEAAAKEAAAKAADGTLAEAAAKEAAAKARGKCWE'\n",
        " 'GGAEAAAKAAAHPEAAEAAAKEAAAKAADGTLAEAAAKEAAAKRGKCWE'\n",
        " 'GGAEAAAKAAAHPEAAEAAAKEAAAKAADGTLAEAAAKRGKCWE'\n",
        " 'GGAEAAAKAAAHPEAAEAAAKEAAAKAKTAAEAAAKAARGKCWE'\n",
        " 'GGAEAAAKAAAHPEAAEAAAKEAAAKAKTAAEAAAKARGKCWE'\n",
        " 'GGAEAAAKAAAHPEAAEAAAKEAAAKAKTAAEAAAKEAAAKARGKCWE'\n",
        " 'GGAEAAAKAAAHPEAAEAAAKEAAAKAKTAAEAAAKEAAAKRGKCWE'\n",
        " 'GGAEAAAKAAAHPEAAEAAAKEAAAKAKTAAEAAAKRGKCWE'\n",
        " 'GGAEAAAKAAAHPEAAEAAAKEAAAKARGKCWE'\n",
        " 'GGAEAAAKAAAHPEAAEAAAKEAAAKAVNLTAAEAAAKAARGKCWE'\n",
        " 'GGAEAAAKAAAHPEAAEAAAKEAAAKAVNLTAAEAAAKARGKCWE'\n",
        " 'GGAEAAAKAAAHPEAAEAAAKEAAAKAVNLTAAEAAAKRGKCWE'\n",
        " 'GGAEAAAKAAAHPEAAEAAAKEAAAKKTAAEAAAKAARGKCWE'\n",
        " 'GGAEAAAKAAAHPEAAEAAAKEAAAKKTAAEAAAKARGKCWE'\n",
        " 'GGAEAAAKAAAHPEAAEAAAKEAAAKKTAAEAAAKEAAAKARGKCWE'\n",
        " 'GGAEAAAKAAAHPEAAEAAAKEAAAKKTAAEAAAKEAAAKRGKCWE'\n",
        " 'GGAEAAAKAAAHPEAAEAAAKEAAAKKTAAEAAAKRGKCWE'\n",
        " 'GGAEAAAKAAAHPEAAEAAAKEAAAKRGKCWE'\n",
        " 'GGAEAAAKAAAHPEAAEAAAKEAAAKVNLTAAEAAAKAARGKCWE'\n",
        " 'GGAEAAAKAAAHPEAAEAAAKEAAAKVNLTAAEAAAKARGKCWE'\n",
        " 'GGAEAAAKAAAHPEAAEAAAKEAAAKVNLTAAEAAAKRGKCWE'\n",
        " 'GGAEAAAKAAAHPEAAEAAAKRGKCWE' 'GGAEAAAKAAASLPAAAEAAAKAARGKCWE'\n",
        " 'GGAEAAAKAAASLPAAAEAAAKARGKCWE'\n",
        " 'GGAEAAAKAAASLPAAAEAAAKEAAAKAAADGTLAEAAAKAARGKCWE'\n",
        " 'GGAEAAAKAAASLPAAAEAAAKEAAAKAADGTLAEAAAKAARGKCWE'\n",
        " 'GGAEAAAKAAASLPAAAEAAAKEAAAKAADGTLAEAAAKEAAAKRGKCWE'\n",
        " 'GGAEAAAKAAASLPAAAEAAAKEAAAKAKTAAEAAAKAARGKCWE'\n",
        " 'GGAEAAAKAAASLPAAAEAAAKEAAAKAKTAAEAAAKARGKCWE'\n",
        " 'GGAEAAAKAAASLPAAAEAAAKEAAAKAKTAAEAAAKEAAAKARGKCWE'\n",
        " 'GGAEAAAKAAASLPAAAEAAAKEAAAKAKTAAEAAAKEAAAKRGKCWE'\n",
        " 'GGAEAAAKAAASLPAAAEAAAKEAAAKAKTAAEAAAKRGKCWE'\n",
        " 'GGAEAAAKAAASLPAAAEAAAKEAAAKARGKCWE'\n",
        " 'GGAEAAAKAAASLPAAAEAAAKEAAAKKTAAEAAAKAARGKCWE'\n",
        " 'GGAEAAAKAAASLPAAAEAAAKEAAAKKTAAEAAAKARGKCWE'\n",
        " 'GGAEAAAKAAASLPAAAEAAAKEAAAKKTAAEAAAKEAAAKARGKCWE'\n",
        " 'GGAEAAAKAAASLPAAAEAAAKEAAAKKTAAEAAAKEAAAKRGKCWE'\n",
        " 'GGAEAAAKAAASLPAAAEAAAKEAAAKKTAAEAAAKRGKCWE'\n",
        " 'GGAEAAAKAAASLPAAAEAAAKEAAAKRGKCWE' 'GGAEAAAKAAASLPAAAEAAAKRGKCWE'\n",
        " 'GGAEAAAKAAATGDLAAEAAAKAARGKCWE' 'GGAEAAAKAAATGDLAAEAAAKARGKCWE'\n",
        " 'GGAEAAAKAAATGDLAAEAAAKRGKCWE' 'GGAEAAAKAADGTLAEAAAKAARGKCWE'\n",
        " 'GGAEAAAKAADGTLAEAAAKARGKCWE' 'GGAEAAAKAADGTLAEAAAKEAAAKARGKCWE'\n",
        " 'GGAEAAAKAADGTLAEAAAKEAAAKRGKCWE' 'GGAEAAAKAADGTLAEAAAKRGKCWE'\n",
        " 'GGAEAAAKAAKTAAEAAAKAARGKCWE' 'GGAEAAAKAAKTAAEAAAKARGKCWE'\n",
        " 'GGAEAAAKAAKTAAEAAAKEAAAKARGKCWE' 'GGAEAAAKAAKTAAEAAAKEAAAKRGKCWE'\n",
        " 'GGAEAAAKAAKTAAEAAAKRGKCWE' 'GGAEAAAKAANVLAEAAAKRGKCWE'\n",
        " 'GGAEAAAKAASLPAAAEAAAKAARGKCWE' 'GGAEAAAKAASLPAAAEAAAKARGKCWE'\n",
        " 'GGAEAAAKAASLPAAAEAAAKEAAAKAAADGTLAEAAAKAARGKCWE'\n",
        " 'GGAEAAAKAASLPAAAEAAAKEAAAKAAADGTLAEAAAKARGKCWE'\n",
        " 'GGAEAAAKAASLPAAAEAAAKEAAAKAADGTLAEAAAKAARGKCWE'\n",
        " 'GGAEAAAKAASLPAAAEAAAKEAAAKAADGTLAEAAAKARGKCWE'\n",
        " 'GGAEAAAKAASLPAAAEAAAKEAAAKAKTAAEAAAKAARGKCWE'\n",
        " 'GGAEAAAKAASLPAAAEAAAKEAAAKAKTAAEAAAKARGKCWE'\n",
        " 'GGAEAAAKAASLPAAAEAAAKEAAAKAKTAAEAAAKEAAAKARGKCWE'\n",
        " 'GGAEAAAKAASLPAAAEAAAKEAAAKAKTAAEAAAKEAAAKRGKCWE'\n",
        " 'GGAEAAAKAASLPAAAEAAAKEAAAKAKTAAEAAAKRGKCWE'\n",
        " 'GGAEAAAKAASLPAAAEAAAKEAAAKARGKCWE'\n",
        " 'GGAEAAAKAASLPAAAEAAAKEAAAKKTAAEAAAKAARGKCWE'\n",
        " 'GGAEAAAKAASLPAAAEAAAKEAAAKKTAAEAAAKARGKCWE'\n",
        " 'GGAEAAAKAASLPAAAEAAAKEAAAKKTAAEAAAKEAAAKARGKCWE'\n",
        " 'GGAEAAAKAASLPAAAEAAAKEAAAKKTAAEAAAKEAAAKRGKCWE'\n",
        " 'GGAEAAAKAASLPAAAEAAAKEAAAKKTAAEAAAKRGKCWE'\n",
        " 'GGAEAAAKAASLPAAAEAAAKEAAAKRGKCWE' 'GGAEAAAKAASLPAAAEAAAKRGKCWE'\n",
        " 'GGAEAAAKAATGDLAAEAAAKAARGKCWE' 'GGAEAAAKAATGDLAAEAAAKARGKCWE'\n",
        " 'GGAEAAAKAATGDLAAEAAAKEAAAKAKTAAEAAAKEAAAKARGKCWE'\n",
        " 'GGAEAAAKAATGDLAAEAAAKEAAAKKTAAEAAAKEAAAKARGKCWE'\n",
        " 'GGAEAAAKAATGDLAAEAAAKEAAAKKTAAEAAAKEAAAKRGKCWE'\n",
        " 'GGAEAAAKAATGDLAAEAAAKRGKCWE' 'GGAEAAAKAAVNLTAAEAAAKAARGKCWE'\n",
        " 'GGAEAAAKAAVNLTAAEAAAKARGKCWE'\n",
        " 'GGAEAAAKAAVNLTAAEAAAKEAAAKAAADGTLAEAAAKAARGKCWE'\n",
        " 'GGAEAAAKAAVNLTAAEAAAKEAAAKAAADGTLAEAAAKARGKCWE'\n",
        " 'GGAEAAAKAAVNLTAAEAAAKEAAAKAAADGTLAEAAAKEAAAKARGKCWE'\n",
        " 'GGAEAAAKAAVNLTAAEAAAKEAAAKAAADGTLAEAAAKEAAAKRGKCWE'\n",
        " 'GGAEAAAKAAVNLTAAEAAAKEAAAKAAADGTLAEAAAKRGKCWE'\n",
        " 'GGAEAAAKAAVNLTAAEAAAKEAAAKAADGTLAEAAAKAARGKCWE'\n",
        " 'GGAEAAAKAAVNLTAAEAAAKEAAAKAADGTLAEAAAKARGKCWE'\n",
        " 'GGAEAAAKAAVNLTAAEAAAKEAAAKAADGTLAEAAAKEAAAKARGKCWE'\n",
        " 'GGAEAAAKAAVNLTAAEAAAKEAAAKAADGTLAEAAAKEAAAKRGKCWE'\n",
        " 'GGAEAAAKAAVNLTAAEAAAKEAAAKAADGTLAEAAAKRGKCWE'\n",
        " 'GGAEAAAKAAVNLTAAEAAAKEAAAKAKTAAEAAAKAARGKCWE'\n",
        " 'GGAEAAAKAAVNLTAAEAAAKEAAAKAKTAAEAAAKARGKCWE'\n",
        " 'GGAEAAAKAAVNLTAAEAAAKEAAAKAKTAAEAAAKEAAAKARGKCWE'\n",
        " 'GGAEAAAKAAVNLTAAEAAAKEAAAKAKTAAEAAAKEAAAKRGKCWE'\n",
        " 'GGAEAAAKAAVNLTAAEAAAKEAAAKARGKCWE'\n",
        " 'GGAEAAAKAAVNLTAAEAAAKEAAAKAVNLTAAEAAAKAARGKCWE'\n",
        " 'GGAEAAAKAAVNLTAAEAAAKEAAAKAVNLTAAEAAAKARGKCWE'\n",
        " 'GGAEAAAKAAVNLTAAEAAAKEAAAKAVNLTAAEAAAKEAAAKARGKCWE'\n",
        " 'GGAEAAAKAAVNLTAAEAAAKEAAAKAVNLTAAEAAAKEAAAKRGKCWE'\n",
        " 'GGAEAAAKAAVNLTAAEAAAKEAAAKAVNLTAAEAAAKRGKCWE'\n",
        " 'GGAEAAAKAAVNLTAAEAAAKEAAAKKTAAEAAAKEAAAKARGKCWE'\n",
        " 'GGAEAAAKAAVNLTAAEAAAKEAAAKKTAAEAAAKEAAAKRGKCWE'\n",
        " 'GGAEAAAKAAVNLTAAEAAAKEAAAKRGKCWE'\n",
        " 'GGAEAAAKAAVNLTAAEAAAKEAAAKVNLTAAEAAAKAARGKCWE'\n",
        " 'GGAEAAAKAAVNLTAAEAAAKEAAAKVNLTAAEAAAKARGKCWE'\n",
        " 'GGAEAAAKAAVNLTAAEAAAKEAAAKVNLTAAEAAAKEAAAKARGKCWE'\n",
        " 'GGAEAAAKAAVNLTAAEAAAKEAAAKVNLTAAEAAAKEAAAKRGKCWE'\n",
        " 'GGAEAAAKAAVNLTAAEAAAKEAAAKVNLTAAEAAAKRGKCWE'\n",
        " 'GGAEAAAKAAVNLTAAEAAAKRGKCWE' 'GGAEAAAKAKTAAEAAAKAARGKCWE'\n",
        " 'GGAEAAAKAKTAAEAAAKARGKCWE' 'GGAEAAAKAKTAAEAAAKEAAAKARGKCWE'\n",
        " 'GGAEAAAKAKTAAEAAAKEAAAKRGKCWE' 'GGAEAAAKAKTAAEAAAKRGKCWE'\n",
        " 'GGAEAAAKANVLAEAAAKRGKCWE' 'GGAEAAAKASLPAAAEAAAKAARGKCWE'\n",
        " 'GGAEAAAKASLPAAAEAAAKARGKCWE'\n",
        " 'GGAEAAAKASLPAAAEAAAKEAAAKAAADGTLAEAAAKAARGKCWE'\n",
        " 'GGAEAAAKASLPAAAEAAAKEAAAKAAADGTLAEAAAKARGKCWE'\n",
        " 'GGAEAAAKASLPAAAEAAAKEAAAKAADGTLAEAAAKAARGKCWE'\n",
        " 'GGAEAAAKASLPAAAEAAAKEAAAKAADGTLAEAAAKARGKCWE'\n",
        " 'GGAEAAAKASLPAAAEAAAKEAAAKAADGTLAEAAAKRGKCWE'\n",
        " 'GGAEAAAKASLPAAAEAAAKEAAAKAKTAAEAAAKAARGKCWE'\n",
        " 'GGAEAAAKASLPAAAEAAAKEAAAKAKTAAEAAAKARGKCWE'\n",
        " 'GGAEAAAKASLPAAAEAAAKEAAAKAKTAAEAAAKEAAAKARGKCWE'\n",
        " 'GGAEAAAKASLPAAAEAAAKEAAAKAKTAAEAAAKEAAAKRGKCWE'\n",
        " 'GGAEAAAKASLPAAAEAAAKEAAAKAKTAAEAAAKRGKCWE'\n",
        " 'GGAEAAAKASLPAAAEAAAKEAAAKARGKCWE'\n",
        " 'GGAEAAAKASLPAAAEAAAKEAAAKKTAAEAAAKAARGKCWE'\n",
        " 'GGAEAAAKASLPAAAEAAAKEAAAKKTAAEAAAKARGKCWE'\n",
        " 'GGAEAAAKASLPAAAEAAAKEAAAKKTAAEAAAKEAAAKARGKCWE'\n",
        " 'GGAEAAAKASLPAAAEAAAKEAAAKKTAAEAAAKEAAAKRGKCWE'\n",
        " 'GGAEAAAKASLPAAAEAAAKEAAAKKTAAEAAAKRGKCWE'\n",
        " 'GGAEAAAKASLPAAAEAAAKEAAAKRGKCWE' 'GGAEAAAKASLPAAAEAAAKRGKCWE'\n",
        " 'GGAEAAAKATGDLAAEAAAKAARGKCWE' 'GGAEAAAKATGDLAAEAAAKARGKCWE'\n",
        " 'GGAEAAAKATGDLAAEAAAKEAAAKAKTAAEAAAKEAAAKARGKCWE'\n",
        " 'GGAEAAAKATGDLAAEAAAKEAAAKAKTAAEAAAKEAAAKRGKCWE'\n",
        " 'GGAEAAAKATGDLAAEAAAKEAAAKKTAAEAAAKEAAAKRGKCWE'\n",
        " 'GGAEAAAKATGDLAAEAAAKRGKCWE' 'GGAEAAAKAVNLTAAEAAAKAARGKCWE'\n",
        " 'GGAEAAAKAVNLTAAEAAAKARGKCWE'\n",
        " 'GGAEAAAKAVNLTAAEAAAKEAAAKAAADGTLAEAAAKAARGKCWE'\n",
        " 'GGAEAAAKAVNLTAAEAAAKEAAAKAAADGTLAEAAAKARGKCWE'\n",
        " 'GGAEAAAKAVNLTAAEAAAKEAAAKAAADGTLAEAAAKEAAAKARGKCWE'\n",
        " 'GGAEAAAKAVNLTAAEAAAKEAAAKAAADGTLAEAAAKEAAAKRGKCWE'\n",
        " 'GGAEAAAKAVNLTAAEAAAKEAAAKAAADGTLAEAAAKRGKCWE'\n",
        " 'GGAEAAAKAVNLTAAEAAAKEAAAKAADGTLAEAAAKAARGKCWE'\n",
        " 'GGAEAAAKAVNLTAAEAAAKEAAAKAADGTLAEAAAKARGKCWE'\n",
        " 'GGAEAAAKAVNLTAAEAAAKEAAAKAADGTLAEAAAKEAAAKARGKCWE'\n",
        " 'GGAEAAAKAVNLTAAEAAAKEAAAKAADGTLAEAAAKEAAAKRGKCWE'\n",
        " 'GGAEAAAKAVNLTAAEAAAKEAAAKAADGTLAEAAAKRGKCWE'\n",
        " 'GGAEAAAKAVNLTAAEAAAKEAAAKAKTAAEAAAKAARGKCWE'\n",
        " 'GGAEAAAKAVNLTAAEAAAKEAAAKAKTAAEAAAKARGKCWE'\n",
        " 'GGAEAAAKAVNLTAAEAAAKEAAAKAKTAAEAAAKEAAAKARGKCWE'\n",
        " 'GGAEAAAKAVNLTAAEAAAKEAAAKAKTAAEAAAKEAAAKRGKCWE'\n",
        " 'GGAEAAAKAVNLTAAEAAAKEAAAKAKTAAEAAAKRGKCWE'\n",
        " 'GGAEAAAKAVNLTAAEAAAKEAAAKARGKCWE'\n",
        " 'GGAEAAAKAVNLTAAEAAAKEAAAKAVNLTAAEAAAKAARGKCWE'\n",
        " 'GGAEAAAKAVNLTAAEAAAKEAAAKAVNLTAAEAAAKARGKCWE'\n",
        " 'GGAEAAAKAVNLTAAEAAAKEAAAKAVNLTAAEAAAKEAAAKARGKCWE'\n",
        " 'GGAEAAAKAVNLTAAEAAAKEAAAKAVNLTAAEAAAKEAAAKRGKCWE'\n",
        " 'GGAEAAAKAVNLTAAEAAAKEAAAKAVNLTAAEAAAKRGKCWE'\n",
        " 'GGAEAAAKAVNLTAAEAAAKEAAAKKTAAEAAAKAARGKCWE'\n",
        " 'GGAEAAAKAVNLTAAEAAAKEAAAKKTAAEAAAKEAAAKARGKCWE'\n",
        " 'GGAEAAAKAVNLTAAEAAAKEAAAKKTAAEAAAKEAAAKRGKCWE'\n",
        " 'GGAEAAAKAVNLTAAEAAAKEAAAKRGKCWE'\n",
        " 'GGAEAAAKAVNLTAAEAAAKEAAAKVNLTAAEAAAKAARGKCWE'\n",
        " 'GGAEAAAKAVNLTAAEAAAKEAAAKVNLTAAEAAAKARGKCWE'\n",
        " 'GGAEAAAKAVNLTAAEAAAKEAAAKVNLTAAEAAAKEAAAKARGKCWE'\n",
        " 'GGAEAAAKAVNLTAAEAAAKEAAAKVNLTAAEAAAKEAAAKRGKCWE'\n",
        " 'GGAEAAAKAVNLTAAEAAAKEAAAKVNLTAAEAAAKRGKCWE' 'GGAEAAAKAVNLTAAEAAAKRGKCWE'\n",
        " 'GGAEAAAKEAAAKAAAAHPEAAEAAAKEAAAKAAADGTLAEAAAKAARGKCWE'\n",
        " 'GGAEAAAKEAAAKAAAAHPEAAEAAAKEAAAKAAADGTLAEAAAKARGKCWE'\n",
        " 'GGAEAAAKEAAAKAAAAHPEAAEAAAKEAAAKAAADGTLAEAAAKEAAAKARGKCWE'\n",
        " 'GGAEAAAKEAAAKAAAAHPEAAEAAAKEAAAKAAADGTLAEAAAKEAAAKRGKCWE'\n",
        " 'GGAEAAAKEAAAKAAAAHPEAAEAAAKEAAAKAAADGTLAEAAAKRGKCWE'\n",
        " 'GGAEAAAKEAAAKAAAAHPEAAEAAAKEAAAKAADGTLAEAAAKAARGKCWE'\n",
        " 'GGAEAAAKEAAAKAAAAHPEAAEAAAKEAAAKAADGTLAEAAAKARGKCWE'\n",
        " 'GGAEAAAKEAAAKAAAAHPEAAEAAAKEAAAKAADGTLAEAAAKEAAAKARGKCWE'\n",
        " 'GGAEAAAKEAAAKAAAAHPEAAEAAAKEAAAKAADGTLAEAAAKEAAAKRGKCWE'\n",
        " 'GGAEAAAKEAAAKAAAAHPEAAEAAAKEAAAKAADGTLAEAAAKRGKCWE'\n",
        " 'GGAEAAAKEAAAKAAAAHPEAAEAAAKEAAAKAKTAAEAAAKAARGKCWE'\n",
        " 'GGAEAAAKEAAAKAAAAHPEAAEAAAKEAAAKAKTAAEAAAKEAAAKARGKCWE'\n",
        " 'GGAEAAAKEAAAKAAAAHPEAAEAAAKEAAAKAKTAAEAAAKEAAAKRGKCWE'\n",
        " 'GGAEAAAKEAAAKAAAAHPEAAEAAAKEAAAKAVNLTAAEAAAKAARGKCWE'\n",
        " 'GGAEAAAKEAAAKAAAAHPEAAEAAAKEAAAKAVNLTAAEAAAKARGKCWE'\n",
        " 'GGAEAAAKEAAAKAAAAHPEAAEAAAKEAAAKAVNLTAAEAAAKEAAAKARGKCWE'\n",
        " 'GGAEAAAKEAAAKAAAAHPEAAEAAAKEAAAKAVNLTAAEAAAKEAAAKRGKCWE'\n",
        " 'GGAEAAAKEAAAKAAAAHPEAAEAAAKEAAAKAVNLTAAEAAAKRGKCWE'\n",
        " 'GGAEAAAKEAAAKAAAAHPEAAEAAAKEAAAKKTAAEAAAKAARGKCWE'\n",
        " 'GGAEAAAKEAAAKAAAAHPEAAEAAAKEAAAKKTAAEAAAKEAAAKARGKCWE'\n",
        " 'GGAEAAAKEAAAKAAAAHPEAAEAAAKEAAAKKTAAEAAAKEAAAKRGKCWE'\n",
        " 'GGAEAAAKEAAAKAAAAHPEAAEAAAKEAAAKVNLTAAEAAAKAARGKCWE'\n",
        " 'GGAEAAAKEAAAKAAAAHPEAAEAAAKEAAAKVNLTAAEAAAKARGKCWE'\n",
        " 'GGAEAAAKEAAAKAAAAHPEAAEAAAKEAAAKVNLTAAEAAAKEAAAKARGKCWE'\n",
        " 'GGAEAAAKEAAAKAAAAHPEAAEAAAKEAAAKVNLTAAEAAAKEAAAKRGKCWE'\n",
        " 'GGAEAAAKEAAAKAAAAHPEAAEAAAKEAAAKVNLTAAEAAAKRGKCWE'\n",
        " 'GGAEAAAKEAAAKAAADGTLAEAAAKEAAAKAVNLTAAEAAAKRGKCWE'\n",
        " 'GGAEAAAKEAAAKAAAHPEAAEAAAKEAAAKAAADGTLAEAAAKAARGKCWE'\n",
        " 'GGAEAAAKEAAAKAAAHPEAAEAAAKEAAAKAAADGTLAEAAAKARGKCWE'\n",
        " 'GGAEAAAKEAAAKAAAHPEAAEAAAKEAAAKAAADGTLAEAAAKEAAAKARGKCWE'\n",
        " 'GGAEAAAKEAAAKAAAHPEAAEAAAKEAAAKAAADGTLAEAAAKEAAAKRGKCWE'\n",
        " 'GGAEAAAKEAAAKAAAHPEAAEAAAKEAAAKAAADGTLAEAAAKRGKCWE'\n",
        " 'GGAEAAAKEAAAKAAAHPEAAEAAAKEAAAKAADGTLAEAAAKAARGKCWE'\n",
        " 'GGAEAAAKEAAAKAAAHPEAAEAAAKEAAAKAADGTLAEAAAKARGKCWE'\n",
        " 'GGAEAAAKEAAAKAAAHPEAAEAAAKEAAAKAADGTLAEAAAKEAAAKARGKCWE'\n",
        " 'GGAEAAAKEAAAKAAAHPEAAEAAAKEAAAKAADGTLAEAAAKEAAAKRGKCWE'\n",
        " 'GGAEAAAKEAAAKAAAHPEAAEAAAKEAAAKAADGTLAEAAAKRGKCWE'\n",
        " 'GGAEAAAKEAAAKAAAHPEAAEAAAKEAAAKAKTAAEAAAKAARGKCWE'\n",
        " 'GGAEAAAKEAAAKAAAHPEAAEAAAKEAAAKAKTAAEAAAKARGKCWE'\n",
        " 'GGAEAAAKEAAAKAAAHPEAAEAAAKEAAAKAKTAAEAAAKEAAAKARGKCWE'\n",
        " 'GGAEAAAKEAAAKAAAHPEAAEAAAKEAAAKAKTAAEAAAKEAAAKRGKCWE'\n",
        " 'GGAEAAAKEAAAKAAAHPEAAEAAAKEAAAKAVNLTAAEAAAKAARGKCWE'\n",
        " 'GGAEAAAKEAAAKAAAHPEAAEAAAKEAAAKAVNLTAAEAAAKARGKCWE'\n",
        " 'GGAEAAAKEAAAKAAAHPEAAEAAAKEAAAKAVNLTAAEAAAKEAAAKARGKCWE'\n",
        " 'GGAEAAAKEAAAKAAAHPEAAEAAAKEAAAKAVNLTAAEAAAKEAAAKRGKCWE'\n",
        " 'GGAEAAAKEAAAKAAAHPEAAEAAAKEAAAKAVNLTAAEAAAKRGKCWE'\n",
        " 'GGAEAAAKEAAAKAAAHPEAAEAAAKEAAAKKTAAEAAAKAARGKCWE'\n",
        " 'GGAEAAAKEAAAKAAAHPEAAEAAAKEAAAKKTAAEAAAKARGKCWE'\n",
        " 'GGAEAAAKEAAAKAAAHPEAAEAAAKEAAAKKTAAEAAAKEAAAKARGKCWE'\n",
        " 'GGAEAAAKEAAAKAAAHPEAAEAAAKEAAAKKTAAEAAAKEAAAKRGKCWE'\n",
        " 'GGAEAAAKEAAAKAAAHPEAAEAAAKEAAAKVNLTAAEAAAKAARGKCWE'\n",
        " 'GGAEAAAKEAAAKAAAHPEAAEAAAKEAAAKVNLTAAEAAAKARGKCWE'\n",
        " 'GGAEAAAKEAAAKAAAHPEAAEAAAKEAAAKVNLTAAEAAAKEAAAKARGKCWE'\n",
        " 'GGAEAAAKEAAAKAAAHPEAAEAAAKEAAAKVNLTAAEAAAKEAAAKRGKCWE'\n",
        " 'GGAEAAAKEAAAKAAAHPEAAEAAAKEAAAKVNLTAAEAAAKRGKCWE'\n",
        " 'GGAEAAAKEAAAKAADGTLAEAAAKEAAAKAVNLTAAEAAAKRGKCWE'\n",
        " 'GGAEAAAKEAAAKAASLPAAAEAAAKEAAAKAAADGTLAEAAAKEAAAKARGKCWE'\n",
        " 'GGAEAAAKEAAAKAASLPAAAEAAAKEAAAKAADGTLAEAAAKEAAAKARGKCWE'\n",
        " 'GGAEAAAKEAAAKAASLPAAAEAAAKEAAAKAKTAAEAAAKEAAAKARGKCWE'\n",
        " 'GGAEAAAKEAAAKAASLPAAAEAAAKEAAAKAKTAAEAAAKEAAAKRGKCWE'\n",
        " 'GGAEAAAKEAAAKAASLPAAAEAAAKEAAAKKTAAEAAAKEAAAKARGKCWE'\n",
        " 'GGAEAAAKEAAAKAASLPAAAEAAAKEAAAKKTAAEAAAKEAAAKRGKCWE'\n",
        " 'GGAEAAAKEAAAKARGKCWE'\n",
        " 'GGAEAAAKEAAAKASLPAAAEAAAKEAAAKAAADGTLAEAAAKEAAAKRGKCWE'\n",
        " 'GGAEAAAKEAAAKASLPAAAEAAAKEAAAKAADGTLAEAAAKEAAAKARGKCWE'\n",
        " 'GGAEAAAKEAAAKASLPAAAEAAAKEAAAKAADGTLAEAAAKEAAAKRGKCWE'\n",
        " 'GGAEAAAKEAAAKASLPAAAEAAAKEAAAKAKTAAEAAAKAARGKCWE'\n",
        " 'GGAEAAAKEAAAKASLPAAAEAAAKEAAAKAKTAAEAAAKEAAAKARGKCWE'\n",
        " 'GGAEAAAKEAAAKASLPAAAEAAAKEAAAKAKTAAEAAAKEAAAKRGKCWE'\n",
        " 'GGAEAAAKEAAAKASLPAAAEAAAKEAAAKKTAAEAAAKAARGKCWE'\n",
        " 'GGAEAAAKEAAAKASLPAAAEAAAKEAAAKKTAAEAAAKEAAAKARGKCWE'\n",
        " 'GGAEAAAKEAAAKASLPAAAEAAAKEAAAKKTAAEAAAKEAAAKRGKCWE'\n",
        " 'GGAEAAAKEAAAKAVNLTAAEAAAKEAAAKAAADGTLAEAAAKAARGKCWE'\n",
        " 'GGAEAAAKEAAAKAVNLTAAEAAAKEAAAKAAADGTLAEAAAKARGKCWE'\n",
        " 'GGAEAAAKEAAAKAVNLTAAEAAAKEAAAKAAADGTLAEAAAKEAAAKARGKCWE'\n",
        " 'GGAEAAAKEAAAKAVNLTAAEAAAKEAAAKAAADGTLAEAAAKEAAAKRGKCWE'\n",
        " 'GGAEAAAKEAAAKAVNLTAAEAAAKEAAAKAAADGTLAEAAAKRGKCWE'\n",
        " 'GGAEAAAKEAAAKAVNLTAAEAAAKEAAAKAADGTLAEAAAKAARGKCWE'\n",
        " 'GGAEAAAKEAAAKAVNLTAAEAAAKEAAAKAADGTLAEAAAKARGKCWE'\n",
        " 'GGAEAAAKEAAAKAVNLTAAEAAAKEAAAKAADGTLAEAAAKEAAAKARGKCWE'\n",
        " 'GGAEAAAKEAAAKAVNLTAAEAAAKEAAAKAADGTLAEAAAKEAAAKRGKCWE'\n",
        " 'GGAEAAAKEAAAKAVNLTAAEAAAKEAAAKAADGTLAEAAAKRGKCWE'\n",
        " 'GGAEAAAKEAAAKAVNLTAAEAAAKEAAAKAKTAAEAAAKAARGKCWE'\n",
        " 'GGAEAAAKEAAAKAVNLTAAEAAAKEAAAKAKTAAEAAAKEAAAKARGKCWE'\n",
        " 'GGAEAAAKEAAAKAVNLTAAEAAAKEAAAKAKTAAEAAAKEAAAKRGKCWE'\n",
        " 'GGAEAAAKEAAAKAVNLTAAEAAAKEAAAKAVNLTAAEAAAKAARGKCWE'\n",
        " 'GGAEAAAKEAAAKAVNLTAAEAAAKEAAAKAVNLTAAEAAAKARGKCWE'\n",
        " 'GGAEAAAKEAAAKAVNLTAAEAAAKEAAAKAVNLTAAEAAAKEAAAKARGKCWE'\n",
        " 'GGAEAAAKEAAAKAVNLTAAEAAAKEAAAKAVNLTAAEAAAKEAAAKRGKCWE'\n",
        " 'GGAEAAAKEAAAKAVNLTAAEAAAKEAAAKAVNLTAAEAAAKRGKCWE'\n",
        " 'GGAEAAAKEAAAKAVNLTAAEAAAKEAAAKKTAAEAAAKEAAAKRGKCWE'\n",
        " 'GGAEAAAKEAAAKAVNLTAAEAAAKEAAAKVNLTAAEAAAKAARGKCWE'\n",
        " 'GGAEAAAKEAAAKAVNLTAAEAAAKEAAAKVNLTAAEAAAKARGKCWE'\n",
        " 'GGAEAAAKEAAAKAVNLTAAEAAAKEAAAKVNLTAAEAAAKEAAAKARGKCWE'\n",
        " 'GGAEAAAKEAAAKAVNLTAAEAAAKEAAAKVNLTAAEAAAKEAAAKRGKCWE'\n",
        " 'GGAEAAAKEAAAKAVNLTAAEAAAKEAAAKVNLTAAEAAAKRGKCWE'\n",
        " 'GGAEAAAKEAAAKVNLTAAEAAAKEAAAKAAADGTLAEAAAKAARGKCWE'\n",
        " 'GGAEAAAKEAAAKVNLTAAEAAAKEAAAKAAADGTLAEAAAKARGKCWE'\n",
        " 'GGAEAAAKEAAAKVNLTAAEAAAKEAAAKAAADGTLAEAAAKEAAAKARGKCWE'\n",
        " 'GGAEAAAKEAAAKVNLTAAEAAAKEAAAKAAADGTLAEAAAKEAAAKRGKCWE'\n",
        " 'GGAEAAAKEAAAKVNLTAAEAAAKEAAAKAAADGTLAEAAAKRGKCWE'\n",
        " 'GGAEAAAKEAAAKVNLTAAEAAAKEAAAKAADGTLAEAAAKAARGKCWE'\n",
        " 'GGAEAAAKEAAAKVNLTAAEAAAKEAAAKAADGTLAEAAAKARGKCWE'\n",
        " 'GGAEAAAKEAAAKVNLTAAEAAAKEAAAKAADGTLAEAAAKEAAAKARGKCWE'\n",
        " 'GGAEAAAKEAAAKVNLTAAEAAAKEAAAKAADGTLAEAAAKEAAAKRGKCWE'\n",
        " 'GGAEAAAKEAAAKVNLTAAEAAAKEAAAKAADGTLAEAAAKRGKCWE'\n",
        " 'GGAEAAAKEAAAKVNLTAAEAAAKEAAAKAKTAAEAAAKEAAAKARGKCWE'\n",
        " 'GGAEAAAKEAAAKVNLTAAEAAAKEAAAKAKTAAEAAAKEAAAKRGKCWE'\n",
        " 'GGAEAAAKEAAAKVNLTAAEAAAKEAAAKAVNLTAAEAAAKAARGKCWE'\n",
        " 'GGAEAAAKEAAAKVNLTAAEAAAKEAAAKAVNLTAAEAAAKARGKCWE'\n",
        " 'GGAEAAAKEAAAKVNLTAAEAAAKEAAAKAVNLTAAEAAAKEAAAKARGKCWE'\n",
        " 'GGAEAAAKEAAAKVNLTAAEAAAKEAAAKAVNLTAAEAAAKEAAAKRGKCWE'\n",
        " 'GGAEAAAKEAAAKVNLTAAEAAAKEAAAKAVNLTAAEAAAKRGKCWE'\n",
        " 'GGAEAAAKEAAAKVNLTAAEAAAKEAAAKKTAAEAAAKEAAAKARGKCWE'\n",
        " 'GGAEAAAKEAAAKVNLTAAEAAAKEAAAKKTAAEAAAKEAAAKRGKCWE'\n",
        " 'GGAEAAAKEAAAKVNLTAAEAAAKEAAAKVNLTAAEAAAKAARGKCWE'\n",
        " 'GGAEAAAKEAAAKVNLTAAEAAAKEAAAKVNLTAAEAAAKARGKCWE'\n",
        " 'GGAEAAAKEAAAKVNLTAAEAAAKEAAAKVNLTAAEAAAKEAAAKARGKCWE'\n",
        " 'GGAEAAAKEAAAKVNLTAAEAAAKEAAAKVNLTAAEAAAKEAAAKRGKCWE'\n",
        " 'GGAEAAAKEAAAKVNLTAAEAAAKEAAAKVNLTAAEAAAKRGKCWE'\n",
        " 'GGAEAAAKKTAAEAAAKAARGKCWE' 'GGAEAAAKKTAAEAAAKARGKCWE'\n",
        " 'GGAEAAAKKTAAEAAAKEAAAKARGKCWE' 'GGAEAAAKKTAAEAAAKEAAAKRGKCWE'\n",
        " 'GGAEAAAKKTAAEAAAKRGKCWE' 'GGAEAAAKVNLTAAEAAAKAARGKCWE'\n",
        " 'GGAEAAAKVNLTAAEAAAKARGKCWE'\n",
        " 'GGAEAAAKVNLTAAEAAAKEAAAKAAADGTLAEAAAKAARGKCWE'\n",
        " 'GGAEAAAKVNLTAAEAAAKEAAAKAAADGTLAEAAAKARGKCWE'\n",
        " 'GGAEAAAKVNLTAAEAAAKEAAAKAAADGTLAEAAAKEAAAKARGKCWE'\n",
        " 'GGAEAAAKVNLTAAEAAAKEAAAKAAADGTLAEAAAKEAAAKRGKCWE'\n",
        " 'GGAEAAAKVNLTAAEAAAKEAAAKAAADGTLAEAAAKRGKCWE'\n",
        " 'GGAEAAAKVNLTAAEAAAKEAAAKAADGTLAEAAAKAARGKCWE'\n",
        " 'GGAEAAAKVNLTAAEAAAKEAAAKAADGTLAEAAAKARGKCWE'\n",
        " 'GGAEAAAKVNLTAAEAAAKEAAAKAADGTLAEAAAKEAAAKARGKCWE'\n",
        " 'GGAEAAAKVNLTAAEAAAKEAAAKAADGTLAEAAAKEAAAKRGKCWE'\n",
        " 'GGAEAAAKVNLTAAEAAAKEAAAKAADGTLAEAAAKRGKCWE'\n",
        " 'GGAEAAAKVNLTAAEAAAKEAAAKAKTAAEAAAKAARGKCWE'\n",
        " 'GGAEAAAKVNLTAAEAAAKEAAAKAKTAAEAAAKARGKCWE'\n",
        " 'GGAEAAAKVNLTAAEAAAKEAAAKAKTAAEAAAKEAAAKARGKCWE'\n",
        " 'GGAEAAAKVNLTAAEAAAKEAAAKAKTAAEAAAKEAAAKRGKCWE'\n",
        " 'GGAEAAAKVNLTAAEAAAKEAAAKAKTAAEAAAKRGKCWE'\n",
        " 'GGAEAAAKVNLTAAEAAAKEAAAKARGKCWE'\n",
        " 'GGAEAAAKVNLTAAEAAAKEAAAKAVNLTAAEAAAKAARGKCWE'\n",
        " 'GGAEAAAKVNLTAAEAAAKEAAAKAVNLTAAEAAAKARGKCWE'\n",
        " 'GGAEAAAKVNLTAAEAAAKEAAAKAVNLTAAEAAAKEAAAKARGKCWE'\n",
        " 'GGAEAAAKVNLTAAEAAAKEAAAKAVNLTAAEAAAKEAAAKRGKCWE'\n",
        " 'GGAEAAAKVNLTAAEAAAKEAAAKAVNLTAAEAAAKRGKCWE'\n",
        " 'GGAEAAAKVNLTAAEAAAKEAAAKKTAAEAAAKAARGKCWE'\n",
        " 'GGAEAAAKVNLTAAEAAAKEAAAKKTAAEAAAKARGKCWE'\n",
        " 'GGAEAAAKVNLTAAEAAAKEAAAKKTAAEAAAKEAAAKARGKCWE'\n",
        " 'GGAEAAAKVNLTAAEAAAKEAAAKKTAAEAAAKEAAAKRGKCWE'\n",
        " 'GGAEAAAKVNLTAAEAAAKEAAAKRGKCWE'\n",
        " 'GGAEAAAKVNLTAAEAAAKEAAAKVNLTAAEAAAKAARGKCWE'\n",
        " 'GGAEAAAKVNLTAAEAAAKEAAAKVNLTAAEAAAKARGKCWE'\n",
        " 'GGAEAAAKVNLTAAEAAAKEAAAKVNLTAAEAAAKEAAAKARGKCWE'\n",
        " 'GGAEAAAKVNLTAAEAAAKEAAAKVNLTAAEAAAKEAAAKRGKCWE'\n",
        " 'GGAEAAAKVNLTAAEAAAKEAAAKVNLTAAEAAAKRGKCWE' 'GGAEAAAKVNLTAAEAAAKRGKCWE'\n",
        " 'GGXXXRGKCWE']\n"
       ]
      }
     ],
     "prompt_number": 291
    },
    {
     "cell_type": "code",
     "collapsed": false,
     "input": [
      "angle_to_sequence(angle_between_connections_array(firstpointsflexible, secondpointsflexible, thirdpointsflexible), \n",
      "                  angletosequence, angleseparators)"
     ],
     "language": "python",
     "metadata": {},
     "outputs": [
      {
       "metadata": {},
       "output_type": "pyout",
       "prompt_number": 276,
       "text": [
        "array(['NVL', 'NVL', 'NVL', 'NVL', 'NVL', 'NVL', 'NVL', 'NVL', 'NVL',\n",
        "       'NVL', 'NVL', 'NVL', 'NVL', 'NVL', 'NVL', 'NVL', 'NVL', 'NVL',\n",
        "       'NVL', 'NVL', 'NVL', 'NVL', 'NVL', 'NVL', 'NVL', 'NVL', 'NVL',\n",
        "       'NVL', 'NVL', 'NVL', 'NVL', 'NVL', 'NVL', 'NVL', 'NVL', 'NVL',\n",
        "       'NVL', 'NVL', 'NVL', 'NVL', 'NVL', 'NVL', 'NVL', 'NVL', 'NVL',\n",
        "       'NVL', 'NVL', 'NVL', 'NVL', 'NVL', 'NVL', 'NVL', 'NVL', 'NVL',\n",
        "       'NVL', 'NVL', 'NVL', 'NVL', 'NVL', 'NVL', 'NVL', 'NVL', 'NVL',\n",
        "       'NVL', 'NVL', 'NVL', 'NVL', 'NVL', 'NVL', 'NVL', 'NVL', 'NVL',\n",
        "       'NVL', 'NVL', 'NVL', 'NVL', 'NVL', 'NVL', 'NVL', 'NVL', 'NVL',\n",
        "       'NVL', 'NVL', 'NVL', 'NVL', 'NVL', 'NVL', 'NVL', 'NVL', 'NVL',\n",
        "       'NVL', 'NVL', 'NVL', 'NVL', 'NVL', 'NVL', 'NVL', 'NVL', 'NVL',\n",
        "       'NVL', ..., '', '', '', '', '', '', '', '', '', '', '', '', '', '',\n",
        "       '', '', '', '', '', '', '', '', '', '', '', '', '', '', '', '', '',\n",
        "       '', '', '', '', '', '', '', '', '', '', '', '', '', '', '', '', '',\n",
        "       '', '', '', '', '', '', '', '', '', '', '', '', '', '', '', '', '',\n",
        "       '', '', '', '', '', '', '', '', '', '', '', '', '', '', '', '', '',\n",
        "       '', '', '', '', '', '', '', '', '', '', '', '', '', '', '', '', '',\n",
        "       ''], dtype=object)"
       ]
      }
     ],
     "prompt_number": 276
    },
    {
     "cell_type": "code",
     "collapsed": false,
     "input": [
      "blubb = angle_between_connections_array(firstpointsflexible, secondpointsflexible, thirdpointsflexible) \n",
      "print blubb / np.pi * 180\n",
      "\n",
      "\n",
      "print angleseparators\n",
      "print angletosequence"
     ],
     "language": "python",
     "metadata": {},
     "outputs": [
      {
       "output_type": "stream",
       "stream": "stdout",
       "text": [
        "[ 101.16419259  102.08141869  104.58953246  104.30439255  104.10792899\n",
        "  103.76309323  103.24609572  101.18287316  103.75221957  103.65346869\n",
        "  103.46703185  103.05021273  102.54802307  102.12339704  100.34703559\n",
        "  101.12228255  102.85498543  102.69425059  102.37738445  101.8895177\n",
        "  101.47339525  100.10821119  101.88421747  101.74730633  101.43074072\n",
        "  101.04568881  100.50648635  100.04305119   98.91576945   99.59764772\n",
        "  100.88170963  100.76563739  100.4523571   100.08140953   99.6625755\n",
        "   99.21339494   98.31019121   99.66506852   99.28640283   98.92468967\n",
        "   98.60722248   98.10693162   96.90422409   98.34038065   98.0859561\n",
        "   97.76017657   97.43612508   96.96984172   96.5051498    97.09381649\n",
        "   96.94586776   96.6458517    96.42473798   95.70918688   95.70918688\n",
        "   97.09381649   96.94586776   96.6458517    96.42473798   96.90422409\n",
        "   98.34038065   98.0859561    97.76017657   97.43612508   96.96984172\n",
        "   96.5051498    98.31019121   99.66506852   99.28640283   98.92468967\n",
        "   98.60722248   98.10693162   98.91576945   99.59764772  100.88170963\n",
        "  100.76563739  100.4523571   100.08140953   99.6625755    99.21339494\n",
        "  100.10821119  101.88421747  101.74730633  101.43074072  101.04568881\n",
        "  100.50648635  100.04305119  100.34703559  101.12228255  102.85498543\n",
        "  102.69425059  102.37738445  101.8895177   101.47339525  101.18287316\n",
        "  103.75221957  103.65346869  103.46703185  103.05021273  102.54802307 ...,\n",
        "    0.            0.            0.            0.            0.            0.\n",
        "    0.            0.            0.            0.            0.            0.\n",
        "    0.            0.            0.            0.            0.            0.\n",
        "    0.            0.            0.            0.            0.            0.\n",
        "    0.            0.            0.            0.            0.            0.\n",
        "    0.            0.            0.            0.            0.            0.\n",
        "    0.            0.            0.            0.            0.            0.\n",
        "    0.            0.            0.            0.            0.            0.\n",
        "    0.            0.            0.            0.            0.            0.\n",
        "    0.            0.            0.            0.            0.            0.\n",
        "    0.            0.            0.            0.            0.            0.\n",
        "    0.            0.            0.            0.            0.            0.\n",
        "    0.            0.            0.            0.            0.            0.\n",
        "    0.            0.            0.            0.            0.            0.\n",
        "    0.            0.            0.            0.            0.            0.\n",
        "    0.            0.            0.            0.            0.            0.\n",
        "    0.            0.            0.            0.        ]\n",
        "[0.0, 31.687012987012988, 53.91428571428572, 64.46153846153847, 103.92307692307692, 127.22222222222223, 155.0, 180.0]\n",
        "[(29.7, 8.5, 'NVL'), (38.7, 30.0, 'KTA'), (60.0, 12.0, 'AADGTL'), (74.5, 27.0, 'VNLTA'), (117.0, 12.0, 'AAAHPEA'), (140.0, 15.0, 'ASLPAA'), (160.0, 5.0, 'ATGDLA')]\n"
       ]
      }
     ],
     "prompt_number": 284
    },
    {
     "cell_type": "code",
     "collapsed": false,
     "input": [
      "sortarray = np.argsort(sequenceweightings)\n",
      "\n",
      "\n",
      "sequenceweightings = sequenceweightings[sortarray]\n",
      "sequenceweightingsstd = sequenceweightingsstd[sortarray]\n",
      "sequencepool = sequencepool[sortarray]\n",
      "print sequencepool"
     ],
     "language": "python",
     "metadata": {},
     "outputs": []
    },
    {
     "cell_type": "code",
     "collapsed": false,
     "input": [
      "print erstepunkte[0]\n",
      "print zweitepunkte[0]\n",
      "print drittepunkte[0]"
     ],
     "language": "python",
     "metadata": {},
     "outputs": [
      {
       "output_type": "stream",
       "stream": "stdout",
       "text": [
        "[-34.0625  19.4375  75.5   ]\n",
        "[-41.5625  19.4375  91.5625]\n",
        "[-60.34375  -19.765625  68.0625  ]\n"
       ]
      }
     ],
     "prompt_number": 30
    },
    {
     "cell_type": "code",
     "collapsed": false,
     "input": [
      "print sequencepool\n",
      "print np.shape(sequencepool)"
     ],
     "language": "python",
     "metadata": {},
     "outputs": []
    },
    {
     "cell_type": "code",
     "collapsed": false,
     "input": [
      "print np.shape(sequences)"
     ],
     "language": "python",
     "metadata": {},
     "outputs": [
      {
       "output_type": "stream",
       "stream": "stdout",
       "text": [
        "(1764287,)\n"
       ]
      }
     ],
     "prompt_number": 66
    },
    {
     "cell_type": "code",
     "collapsed": false,
     "input": [
      "hierraus = sequences == 'GGAEAAAKAANVLAEAAAKEAAAKNVLAEAAAKEAAAKARGKCWE'\n",
      "\n",
      "print np.argmax(sequences == 'GGXXXRGKCWE')\n",
      "#print zweitepunkte[hierraus]\n",
      "#print drittepunkte[hierraus]\n",
      "\n",
      "print np.shape(firstpointsall[hierraus])\n",
      "\n",
      "print abstandpktzuarray(anfangspunkt, firstpointsall[hierraus])\n",
      "print abstandarrays(firstpointsall[hierraus], secondpointsall[hierraus])\n",
      "print abstandarrays(secondpointsall[hierraus], thirdpointsall[hierraus])\n",
      "print abstandpktzuarray(endpunkt, thirdpointsall[hierraus])\n",
      "\n",
      "\n",
      "\n",
      "print np.array(angle_between_connections_array(anfangspunkt, firstpointsall[hierraus],\n",
      "                                                        thirdpointsall[hierraus])) * \n",
      "print angle_between_connections_array(endpunkt, thirdpointsall[hierraus],\n",
      "                                                        firstpointsall[hierraus])\n",
      "\n",
      "np.set_printoptions(edgeitems = 100)\n",
      "print linkerlaengenKO \n",
      "print ScarsAtEnd * LengthOfFlexibleAA\n",
      "print MissingAtEnd"
     ],
     "language": "python",
     "metadata": {},
     "outputs": [
      {
       "output_type": "stream",
       "stream": "stdout",
       "text": [
        "1574286\n",
        "(1803, 3)\n",
        "[ 24.61706734  24.61706734  24.58658218  24.58658218  24.62722015\n",
        "  24.62722015  24.61706734  24.61706734  24.58658218  24.58658218\n",
        "  24.58658218  24.61706734  24.61706734  24.61706734  24.61706734\n",
        "  24.58658218  24.58658218  24.61706734  24.61706734  24.61706734\n",
        "  24.61706734  24.58658218  24.58658218  24.58658218  24.58658218\n",
        "  24.58658218  24.58658218  24.58658218  24.58658218  24.58658218\n",
        "  24.58658218  24.61706734  24.61706734  24.62722015  24.62722015\n",
        "  24.62722015  24.62722015  24.62722015  24.62722015  24.58658218\n",
        "  24.58658218  24.58658218  24.58658218  24.61706734  24.61706734\n",
        "  24.61706734  24.61706734  24.61706734  24.61706734  24.61706734\n",
        "  24.61706734  24.61706734  24.61706734  24.59674835  24.59674835\n",
        "  24.59674835  24.59674835  24.62722015  24.62722015  24.62722015\n",
        "  24.62722015  24.5764122   24.5764122   24.5764122   24.5764122\n",
        "  24.5764122   24.5764122   24.5764122   24.5764122   24.5764122\n",
        "  24.5764122   24.62722015  24.62722015  24.62722015  24.62722015\n",
        "  24.62722015  24.62722015  24.62722015  24.62722015  24.62722015\n",
        "  24.62722015  24.58658218  24.58658218  24.64751434  24.64751434\n",
        "  24.64751434  24.62722015  24.62722015  24.6069088   24.6069088\n",
        "  24.58658218  24.58658218  24.58658218  24.58658218  24.58658218\n",
        "  24.58658218  24.6069088   24.6069088   24.6069088   24.6069088  ...,\n",
        "  24.59674835  24.59674835  24.59674835  24.59674835  24.59674835\n",
        "  24.59674835  24.59674835  24.59674835  24.58658218  24.58658218\n",
        "  24.64751434  24.64751434  24.64751434  24.62722015  24.62722015\n",
        "  24.6069088   24.6069088   24.58658218  24.58658218  24.58658218\n",
        "  24.58658218  24.61706734  24.61706734  24.61706734  24.61706734\n",
        "  24.58658218  24.58658218  24.58658218  24.58658218  24.58658218\n",
        "  24.58658218  24.58658218  24.58658218  24.58658218  24.58658218\n",
        "  24.61706734  24.61706734  24.62722015  24.62722015  24.62722015\n",
        "  24.62722015  24.62722015  24.62722015  24.58658218  24.58658218\n",
        "  24.58658218  24.58658218  24.61706734  24.61706734  24.61706734\n",
        "  24.61706734  24.61706734  24.61706734  24.61706734  24.61706734\n",
        "  24.61706734  24.61706734  24.59674835  24.59674835  24.59674835\n",
        "  24.59674835  24.62722015  24.62722015  24.62722015  24.62722015\n",
        "  24.5764122   24.5764122   24.5764122   24.5764122   24.5764122\n",
        "  24.5764122   24.5764122   24.5764122   24.5764122   24.5764122\n",
        "  24.62722015  24.62722015  24.62722015  24.62722015  24.62722015\n",
        "  24.62722015  24.62722015  24.62722015  24.62722015  24.62722015\n",
        "  24.61706734  24.61706734  24.58658218  24.58658218  24.62722015\n",
        "  24.62722015  24.61706734  24.61706734  24.58658218  24.58658218\n",
        "  24.58658218  24.61706734  24.61706734  24.61706734  24.61706734]\n",
        "[ 0.  0.  0.  0.  0.  0.  0.  0.  0.  0.  0.  0.  0.  0.  0.  0.  0.  0.\n",
        "  0.  0.  0.  0.  0.  0.  0.  0.  0.  0.  0.  0.  0.  0.  0.  0.  0.  0.\n",
        "  0.  0.  0.  0.  0.  0.  0.  0.  0.  0.  0.  0.  0.  0.  0.  0.  0.  0.\n",
        "  0.  0.  0.  0.  0.  0.  0.  0.  0.  0.  0.  0.  0.  0.  0.  0.  0.  0.\n",
        "  0.  0.  0.  0.  0.  0.  0.  0.  0.  0.  0.  0.  0.  0.  0.  0.  0.  0.\n",
        "  0.  0.  0.  0.  0.  0.  0.  0.  0.  0. ...,  0.  0.  0.  0.  0.  0.  0.\n",
        "  0.  0.  0.  0.  0.  0.  0.  0.  0.  0.  0.  0.  0.  0.  0.  0.  0.  0.\n",
        "  0.  0.  0.  0.  0.  0.  0.  0.  0.  0.  0.  0.  0.  0.  0.  0.  0.  0.\n",
        "  0.  0.  0.  0.  0.  0.  0.  0.  0.  0.  0.  0.  0.  0.  0.  0.  0.  0.\n",
        "  0.  0.  0.  0.  0.  0.  0.  0.  0.  0.  0.  0.  0.  0.  0.  0.  0.  0.\n",
        "  0.  0.  0.  0.  0.  0.  0.  0.  0.  0.  0.  0.  0.  0.  0.  0.  0.  0.\n",
        "  0.  0.  0.]\n",
        "[ 32.54227829  32.54227829  32.34192276  32.34192276  32.60367966\n",
        "  32.60367966  32.12475586  32.12475586  32.28002548  32.40370178\n",
        "  32.40370178  32.64965439  32.63433838  32.63433838  32.64965439\n",
        "  32.09361267  32.09361267  32.41912842  32.03123474  32.03123474\n",
        "  32.41912842  32.04684067  32.61901474  32.26453018  32.55764008\n",
        "  32.64965439  32.64965439  32.55764008  32.26453018  32.61901474\n",
        "  32.04684067  32.10918808  32.10918808  32.1869545   32.54227829\n",
        "  32.28002548  32.28002548  32.54227829  32.1869545   32.52691269\n",
        "  32.12475586  32.12475586  32.52691269  32.61901474  32.69556427\n",
        "  32.72613525  32.57299423  32.71085358  32.71085358  32.57299423\n",
        "  32.72613525  32.69556427  32.61901474  32.04684067  32.66496658\n",
        "  32.66496658  32.04684067  32.49615479  32.60367966  32.60367966\n",
        "  32.49615479  32.52691269  32.46536636  32.31098938  32.58834076\n",
        "  32.03123474  32.03123474  32.58834076  32.31098938  32.46536636\n",
        "  32.52691269  32.20248413  32.38827133  32.07802963  32.46536636\n",
        "  32.10918808  32.10918808  32.46536636  32.07802963  32.38827133\n",
        "  32.20248413  32.43455124  32.43455124  32.64965439  32.40370178\n",
        "  32.40370178  32.40370178  32.40370178  32.46536636  32.46536636\n",
        "  32.48076248  32.23352432  32.23352432  32.48076248  32.21800613\n",
        "  32.21800613  32.69556427  32.1869545   32.1869545   32.69556427 ...,\n",
        "  32.29550934  32.71085358  32.48076248  32.71085358  32.71085358\n",
        "  32.48076248  32.71085358  32.29550934  32.43455124  32.43455124\n",
        "  32.64965439  32.40370178  32.40370178  32.40370178  32.40370178\n",
        "  32.46536636  32.46536636  32.48076248  32.23352432  32.23352432\n",
        "  32.48076248  32.41912842  32.03123474  32.03123474  32.41912842\n",
        "  32.04684067  32.61901474  32.26453018  32.55764008  32.64965439\n",
        "  32.64965439  32.55764008  32.26453018  32.61901474  32.04684067\n",
        "  32.10918808  32.10918808  32.1869545   32.54227829  32.28002548\n",
        "  32.28002548  32.54227829  32.1869545   32.52691269  32.12475586\n",
        "  32.12475586  32.52691269  32.61901474  32.69556427  32.72613525\n",
        "  32.57299423  32.71085358  32.71085358  32.57299423  32.72613525\n",
        "  32.69556427  32.61901474  32.04684067  32.66496658  32.66496658\n",
        "  32.04684067  32.49615479  32.60367966  32.60367966  32.49615479\n",
        "  32.52691269  32.46536636  32.31098938  32.58834076  32.03123474\n",
        "  32.03123474  32.58834076  32.31098938  32.46536636  32.52691269\n",
        "  32.20248413  32.38827133  32.07802963  32.46536636  32.10918808\n",
        "  32.10918808  32.46536636  32.07802963  32.38827133  32.20248413\n",
        "  32.54227829  32.54227829  32.34192276  32.34192276  32.60367966\n",
        "  32.60367966  32.12475586  32.12475586  32.28002548  32.40370178\n",
        "  32.40370178  32.64965439  32.63433838  32.63433838  32.64965439]"
       ]
      },
      {
       "output_type": "stream",
       "stream": "stdout",
       "text": [
        "\n",
        "[ 50.19960022  50.19960022  50.19960022  50.19960022  50.21951675\n",
        "  50.21951675  50.19960022  50.19960022  50.19960022  50.19960022\n",
        "  50.19960022  50.23942566  50.19960022  50.19960022  50.23942566\n",
        "  50.19960022  50.19960022  50.23942566  50.21951675  50.21951675\n",
        "  50.23942566  50.19960022  50.19960022  50.25932693  50.17967606\n",
        "  50.23942566  50.23942566  50.17967606  50.25932693  50.19960022\n",
        "  50.19960022  50.19960022  50.19960022  50.19960022  50.23942566\n",
        "  50.17967606  50.17967606  50.23942566  50.19960022  50.19960022\n",
        "  50.23942566  50.23942566  50.19960022  50.17967606  50.21951675\n",
        "  50.15974426  50.19960022  50.25932693  50.25932693  50.19960022\n",
        "  50.15974426  50.21951675  50.17967606  50.23942566  50.21951675\n",
        "  50.21951675  50.23942566  50.23942566  50.17967606  50.17967606\n",
        "  50.23942566  50.17967606  50.21951675  50.25932693  50.21951675\n",
        "  50.19960022  50.19960022  50.21951675  50.25932693  50.21951675\n",
        "  50.17967606  50.17967606  50.19960022  50.23942566  50.19960022\n",
        "  50.21951675  50.21951675  50.19960022  50.23942566  50.19960022\n",
        "  50.17967606  50.19960022  50.19960022  50.19960022  50.21951675\n",
        "  50.21951675  50.19960022  50.19960022  50.19960022  50.19960022\n",
        "  50.19960022  50.23942566  50.23942566  50.19960022  50.17967606\n",
        "  50.17967606  50.25932693  50.17967606  50.17967606  50.25932693 ...,\n",
        "  50.19960022  50.21951675  50.19960022  50.19960022  50.19960022\n",
        "  50.19960022  50.21951675  50.19960022  50.19960022  50.19960022\n",
        "  50.19960022  50.21951675  50.21951675  50.19960022  50.19960022\n",
        "  50.19960022  50.19960022  50.19960022  50.23942566  50.23942566\n",
        "  50.19960022  50.23942566  50.21951675  50.21951675  50.23942566\n",
        "  50.19960022  50.19960022  50.25932693  50.17967606  50.23942566\n",
        "  50.23942566  50.17967606  50.25932693  50.19960022  50.19960022\n",
        "  50.19960022  50.19960022  50.19960022  50.23942566  50.17967606\n",
        "  50.17967606  50.23942566  50.19960022  50.19960022  50.23942566\n",
        "  50.23942566  50.19960022  50.17967606  50.21951675  50.15974426\n",
        "  50.19960022  50.25932693  50.25932693  50.19960022  50.15974426\n",
        "  50.21951675  50.17967606  50.23942566  50.21951675  50.21951675\n",
        "  50.23942566  50.23942566  50.17967606  50.17967606  50.23942566\n",
        "  50.17967606  50.21951675  50.25932693  50.21951675  50.19960022\n",
        "  50.19960022  50.21951675  50.25932693  50.21951675  50.17967606\n",
        "  50.17967606  50.19960022  50.23942566  50.19960022  50.21951675\n",
        "  50.21951675  50.19960022  50.23942566  50.19960022  50.17967606\n",
        "  50.19960022  50.19960022  50.19960022  50.19960022  50.21951675\n",
        "  50.21951675  50.19960022  50.19960022  50.19960022  50.19960022\n",
        "  50.19960022  50.23942566  50.19960022  50.19960022  50.23942566]\n",
        "[ 1.61668706  1.61668706  1.71370327  1.71370327  1.57562232  1.57562232\n",
        "  1.74619734  1.74619734  1.91290355  1.75190353  1.75190353  1.68911433\n",
        "  1.62021828  1.62021828  1.68911433  2.03638053  2.03638053  2.0422976\n",
        "  1.88840508  1.88840508  2.0422976   2.16367173  2.1377933   2.07249784\n",
        "  1.874318    1.72312999  1.72312999  1.874318    2.07249784  2.1377933\n",
        "  2.16367173  2.08897352  2.08897352  2.28798413  2.28014421  2.08644819\n",
        "  2.08644819  2.28014421  2.28798413  2.07913828  2.0053134   2.0053134\n",
        "  2.07913828  2.40440655  2.42139482  2.29374838  1.96774411  1.8734411\n",
        "  1.8734411   1.96774411  2.29374838  2.42139482  2.40440655  2.50745678\n",
        "  2.30448079  2.30448079  2.50745678  2.47001553  2.2917161   2.2917161\n",
        "  2.47001553  2.62733603  2.65829873  2.48298335  2.27086687  2.17968321\n",
        "  2.17968321  2.27086687  2.48298335  2.65829873  2.62733603  2.66863585\n",
        "  2.65754533  2.4731977   2.23324251  2.12961626  2.12961626  2.23324251\n",
        "  2.4731977   2.65754533  2.66863585  1.71012604  1.71012604  1.70572197\n",
        "  1.58300447  1.58300447  1.73220801  1.73220801  1.74774766  1.74774766\n",
        "  1.91037166  1.70845246  1.70845246  1.91037166  2.03903413  2.03903413\n",
        "  2.04412603  1.89310038  1.89310038  2.04412603 ...,  2.28280067\n",
        "  2.62101626  2.65448785  2.61728024  2.61728024  2.65448785  2.62101626\n",
        "  2.28280067  1.71012604  1.71012604  1.70572197  1.58300447  1.58300447\n",
        "  1.73220801  1.73220801  1.74774766  1.74774766  1.91037166  1.70845246\n",
        "  1.70845246  1.91037166  2.0422976   1.88840508  1.88840508  2.0422976\n",
        "  2.16367173  2.1377933   2.07249784  1.874318    1.72312999  1.72312999\n",
        "  1.874318    2.07249784  2.1377933   2.16367173  2.08897352  2.08897352\n",
        "  2.28798413  2.28014421  2.08644819  2.08644819  2.28014421  2.28798413\n",
        "  2.07913828  2.0053134   2.0053134   2.07913828  2.40440655  2.42139482\n",
        "  2.29374838  1.96774411  1.8734411   1.8734411   1.96774411  2.29374838\n",
        "  2.42139482  2.40440655  2.50745678  2.30448079  2.30448079  2.50745678\n",
        "  2.47001553  2.2917161   2.2917161   2.47001553  2.62733603  2.65829873\n",
        "  2.48298335  2.27086687  2.17968321  2.17968321  2.27086687  2.48298335\n",
        "  2.65829873  2.62733603  2.66863585  2.65754533  2.4731977   2.23324251\n",
        "  2.12961626  2.12961626  2.23324251  2.4731977   2.65754533  2.66863585\n",
        "  1.61668706  1.61668706  1.71370327  1.71370327  1.57562232  1.57562232\n",
        "  1.74619734  1.74619734  1.91290355  1.75190353  1.75190353  1.68911433\n",
        "  1.62021828  1.62021828  1.68911433]\n",
        "[ 1.16824114  1.16824114  1.15283275  1.15283275  1.13174665  1.13174665\n",
        "  1.1145525   1.1145525   1.08925629  1.08882308  1.08882308  1.06167424\n",
        "  1.0623672   1.0623672   1.06167424  1.03788602  1.03788602  1.00727975\n",
        "  1.00966775  1.00966775  1.00727975  0.97858     0.97639465  0.97647929\n",
        "  0.97743696  0.9753564   0.9753564   0.97743696  0.97647929  0.97639465\n",
        "  0.97858     0.94663745  0.94663745  0.91287637  0.9118706   0.91401786\n",
        "  0.91401786  0.9118706   0.91287637  0.8771078   0.8770355   0.8770355\n",
        "  0.8771078   0.84369493  0.8424055   0.84462351  0.84197152  0.84189832\n",
        "  0.84189832  0.84197152  0.84462351  0.8424055   0.84369493  0.80320567\n",
        "  0.80583918  0.80583918  0.80320567  0.76828486  0.76871032  0.76871032\n",
        "  0.76828486  0.73024452  0.72901404  0.72732741  0.72956979  0.72832638\n",
        "  0.72832638  0.72956979  0.72732741  0.72901404  0.73024452  0.69025701\n",
        "  0.68995374  0.68699801  0.69090277  0.68964952  0.68964952  0.69090277\n",
        "  0.68699801  0.68995374  0.69025701  1.17482817  1.17482817  1.15601516\n",
        "  1.15788388  1.15788388  1.13578844  1.13578844  1.11320782  1.11320782\n",
        "  1.08867991  1.08856881  1.08856881  1.08867991  1.0352602   1.0352602\n",
        "  1.0027858   1.00745702  1.00745702  1.0027858  ...,  0.72916061\n",
        "  0.73010528  0.73002088  0.73057497  0.73057497  0.73002088  0.73010528\n",
        "  0.72916061  1.17482817  1.17482817  1.15601516  1.15788388  1.15788388\n",
        "  1.13578844  1.13578844  1.11320782  1.11320782  1.08867991  1.08856881\n",
        "  1.08856881  1.08867991  1.00727975  1.00966775  1.00966775  1.00727975\n",
        "  0.97858     0.97639465  0.97647929  0.97743696  0.9753564   0.9753564\n",
        "  0.97743696  0.97647929  0.97639465  0.97858     0.94663745  0.94663745\n",
        "  0.91287637  0.9118706   0.91401786  0.91401786  0.9118706   0.91287637\n",
        "  0.8771078   0.8770355   0.8770355   0.8771078   0.84369493  0.8424055\n",
        "  0.84462351  0.84197152  0.84189832  0.84189832  0.84197152  0.84462351\n",
        "  0.8424055   0.84369493  0.80320567  0.80583918  0.80583918  0.80320567\n",
        "  0.76828486  0.76871032  0.76871032  0.76828486  0.73024452  0.72901404\n",
        "  0.72732741  0.72956979  0.72832638  0.72832638  0.72956979  0.72732741\n",
        "  0.72901404  0.73024452  0.69025701  0.68995374  0.68699801  0.69090277\n",
        "  0.68964952  0.68964952  0.69090277  0.68699801  0.68995374  0.69025701\n",
        "  1.16824114  1.16824114  1.15283275  1.15283275  1.13174665  1.13174665\n",
        "  1.1145525   1.1145525   1.08925629  1.08882308  1.08882308  1.06167424\n",
        "  1.0623672   1.0623672   1.06167424]"
       ]
      },
      {
       "output_type": "stream",
       "stream": "stdout",
       "text": [
        "\n",
        "[ 24.61245888  26.08920642  27.56595395  31.99619655  33.47294408]\n",
        "14.7674753294\n",
        "4\n"
       ]
      }
     ],
     "prompt_number": 286
    },
    {
     "cell_type": "code",
     "collapsed": false,
     "input": [
      "blubb1 = firstpointsall[hierraus]\n",
      "blubb2 = secondpointsall[hierraus]\n",
      "blubb3 = thirdpointsall[hierraus]\n",
      "\n",
      "print length_to_sequence(abstandarrays(blubb1, make_better_paths_flex(blubb1, blubb2, blubb3, endpunkt)[2], \n",
      "                                       linkerlaengenKO),\n",
      "                         linkerdatenbank, linkerlaengenKO - (2*LENGTHOFANGLEKO))\n",
      "\n",
      "\n",
      "print (blubb3 == make_better_paths_flex(blubb1, blubb2, blubb3, endpunkt, \n",
      "                                        linkerlaengenKO)[2]).all(axis = 0)\n",
      "\n",
      "print length_to_sequence(abstandarrays(blubb2, blubb3), linkerdatenbank, linkerlaengenKO - (2 * LENGTHOFANGLEKO) )\n",
      "\n"
     ],
     "language": "python",
     "metadata": {},
     "outputs": [
      {
       "ename": "TypeError",
       "evalue": "abstandarrays() takes exactly 2 arguments (3 given)",
       "output_type": "pyerr",
       "traceback": [
        "\u001b[0;31m---------------------------------------------------------------------------\u001b[0m\n\u001b[0;31mTypeError\u001b[0m                                 Traceback (most recent call last)",
        "\u001b[0;32m<ipython-input-241-194b7b3053ff>\u001b[0m in \u001b[0;36m<module>\u001b[0;34m()\u001b[0m\n\u001b[1;32m      4\u001b[0m \u001b[0;34m\u001b[0m\u001b[0m\n\u001b[1;32m      5\u001b[0m print length_to_sequence(abstandarrays(blubb1, make_better_paths_flex(blubb1, blubb2, blubb3, endpunkt)[2], \n\u001b[0;32m----> 6\u001b[0;31m                                        linkerlaengenKO - 2 * LENGTHOFANGLEKO),\n\u001b[0m\u001b[1;32m      7\u001b[0m                          linkerdatenbank, linkerlaengenKO - (2*LENGTHOFANGLEKO))\n\u001b[1;32m      8\u001b[0m \u001b[0;34m\u001b[0m\u001b[0m\n",
        "\u001b[0;31mTypeError\u001b[0m: abstandarrays() takes exactly 2 arguments (3 given)"
       ]
      }
     ],
     "prompt_number": 241
    },
    {
     "cell_type": "code",
     "collapsed": false,
     "input": [
      "print thirdpointsall[hierraus]\n",
      "print (blubb2 ==  secondpointsflexible[-1948:]).all(axis = 1)\n",
      "print (blubb3 ==  thirdpointsflexible[-1948:]).all(axis = 1)"
     ],
     "language": "python",
     "metadata": {},
     "outputs": [
      {
       "output_type": "stream",
       "stream": "stdout",
       "text": [
        "[[ 115.1875   96.4375  107.    ]\n",
        " [ 117.3125   96.4375  106.75  ]\n",
        " [ 115.1875   94.3125  107.125 ]\n",
        " ..., \n",
        " [ 121.5625   94.3125  106.8125]\n",
        " [ 115.1875   94.3125  107.125 ]\n",
        " [ 117.3125   94.3125  106.8125]]\n",
        "[ True  True  True ...,  True  True  True]\n",
        "[False False False ..., False False False]\n"
       ]
      }
     ],
     "prompt_number": 168
    },
    {
     "cell_type": "code",
     "collapsed": false,
     "input": [
      "np.shape(firstpointsflexible)"
     ],
     "language": "python",
     "metadata": {},
     "outputs": [
      {
       "metadata": {},
       "output_type": "pyout",
       "prompt_number": 75,
       "text": [
        "(1576234, 3)"
       ]
      }
     ],
     "prompt_number": 75
    },
    {
     "cell_type": "code",
     "collapsed": false,
     "input": [
      "#for wildcard search through the different linkers\n",
      "\n",
      "pattern = '*AEAAAKEAAAKEAAAKA*'\n",
      "filtered = fnmatch.filter(sequencepool, pattern)\n",
      "\n",
      "getlinkersoutbool = np.array(np.zeros(np.size(sequences)), dtype = bool)\n",
      "for string in filtered:\n",
      "    getlinkersoutbool = getlinkersoutbool | (sequences == string)\n",
      "\n",
      "np.mean(weightingsall[0][getlinkersoutbool])"
     ],
     "language": "python",
     "metadata": {},
     "outputs": []
    },
    {
     "cell_type": "code",
     "collapsed": false,
     "input": [
      "'''\n",
      "#length\n",
      "h = plt.hist(weightingsall[1], bins = 40)\n",
      "plt.title(\"Distribution of lengths\")\n",
      "plt.show()\n",
      "\n",
      "#angles\n",
      "h = plt.hist(weightingsall[2], bins = 50)\n",
      "plt.title(\"Distribution of angles\")\n",
      "plt.show()\n",
      "#unpreferable places\n",
      "h = plt.hist(weightingsall[3], bins = 100)\n",
      "plt.title(\"Distribution of unpreferable places weighting\")\n",
      "plt.show()\n",
      "#dist from surface\n",
      "h = plt.hist(weightingsall[4], bins = 100)\n",
      "plt.title(\"Distribution of the distances from surface\")\n",
      "plt.show()\n",
      "'''"
     ],
     "language": "python",
     "metadata": {},
     "outputs": []
    },
    {
     "cell_type": "code",
     "collapsed": false,
     "input": [
      "keep = np.argmin(weightingsall[0])\n",
      "\n",
      "#show a plot of one linker.\n",
      "bestpath = np.empty((3,3))\n",
      "\n",
      "bestpath[0] = erstepunkte[hierraus][0]\n",
      "#print \n",
      "#print \n",
      "bestpath[1] =  zweitepunkte[hierraus][0]\n",
      "bestpath[2] = drittepunkte[hierraus][0]\n",
      "\n",
      "\n",
      "\n",
      "\n",
      "print abstand(bestpath[0], bestpath[1]), abstand(bestpath[2], bestpath[1]),\\\n",
      "abstand(bestpath[0], anfangspunkt), abstand(endpunkt, bestpath[2])\n",
      "\n",
      "fig = plt.figure()\n",
      "ax = fig.add_subplot(111, projection='3d')\n",
      "ax.scatter(pkte[AmountOfAtomsFirstAA+1:-AmountOfAtomsLastAA-1:,0], pkte[AmountOfAtomsFirstAA+1:-AmountOfAtomsLastAA-1:,1], pkte[AmountOfAtomsFirstAA+1:-AmountOfAtomsLastAA-1:,2], s=10)\n",
      "ax.scatter(pkte[:AmountOfAtomsFirstAA:,0], pkte[:AmountOfAtomsFirstAA:,1], pkte[:AmountOfAtomsFirstAA:,2], s = 40, c =\"r\")\n",
      "ax.scatter(pkte[-AmountOfAtomsLastAA::,0], pkte[-AmountOfAtomsLastAA::,1], pkte[-AmountOfAtomsLastAA::,2], s = 40, c =\"r\")\n",
      "ax.scatter(OtherPoints[:,0], OtherPoints[:,1], OtherPoints[:,2], s=10, c = \"g\")\n",
      "ax.plot(np.concatenate((np.array([anfangspunkt[0]]), bestpath[:,0], np.array([endpunkt[0]]))),\\\n",
      "        np.concatenate((np.array([anfangspunkt[1]]), bestpath[:,1], np.array([endpunkt[1]]))),\\\n",
      "        np.concatenate((np.array([anfangspunkt[2]]), bestpath[:,2], np.array([endpunkt[2]]))), c = \"r\", linewidth = 15)\n",
      "\n",
      "ax.plot(np.array([(bestpath[1,0] + bestpath[2,0])/2 - (minabstand / 2), (bestpath[1,0] + bestpath[2,0])/2 + (minabstand / 2)]),\\\n",
      "        np.array([(bestpath[1,1] + bestpath[2,1])/2, (bestpath[1,1] + bestpath[2,1])/2]),\\\n",
      "        np.array([(bestpath[1,2] + bestpath[2,2])/2, (bestpath[1,2] + bestpath[2,2])/2]),\\\n",
      "        c = \"g\", linewidth = 3)\n",
      "\n",
      "ax.plot(np.array([(bestpath[1,0] + bestpath[2,0])/2, (bestpath[1,0] + bestpath[2,0])/2]),\\\n",
      "        np.array([(bestpath[1,1] + bestpath[2,1])/2 - (minabstand / 2), (bestpath[1,1] + bestpath[2,1])/2 + (minabstand / 2)]),\\\n",
      "        np.array([(bestpath[1,2] + bestpath[2,2])/2, (bestpath[1,2] + bestpath[2,2])/2]),\\\n",
      "        c = \"g\", linewidth = 3)\n",
      "\n",
      "ax.plot(np.array([(bestpath[1,0] + bestpath[2,0])/2, (bestpath[1,0] + bestpath[2,0])/2]),\\\n",
      "        np.array([(bestpath[1,1] + bestpath[2,1])/2, (bestpath[1,1] + bestpath[2,1])/2]),\\\n",
      "        np.array([(bestpath[1,2] + bestpath[2,2])/2 - (minabstand / 2), (bestpath[1,2] + bestpath[2,2])/2 + (minabstand / 2)]),\\\n",
      "        c = \"g\", linewidth = 3)\n",
      "\n",
      "ax.scatter(bestpath[:,0], bestpath[:,1], bestpath[:,2], s = 50, c =\"r\")\n",
      "plt.show()\n"
     ],
     "language": "python",
     "metadata": {},
     "outputs": [
      {
       "output_type": "stream",
       "stream": "stdout",
       "text": [
        "0.0 53.8490548025 22.1411928738 55.1564453122\n"
       ]
      },
      {
       "output_type": "stream",
       "stream": "stderr",
       "text": [
        "/usr/lib/pymodules/python2.7/matplotlib/backends/backend_gtk.py:250: Warning: Source ID 2699 was not found when attempting to remove it\n",
        "  gobject.source_remove(self._idle_event_id)\n"
       ]
      }
     ],
     "prompt_number": 107
    },
    {
     "cell_type": "code",
     "collapsed": false,
     "input": [
      "np.shape(firstpointsall)"
     ],
     "language": "python",
     "metadata": {},
     "outputs": []
    },
    {
     "cell_type": "heading",
     "level": 2,
     "metadata": {},
     "source": [
      "Linkerpimping"
     ]
    },
    {
     "cell_type": "markdown",
     "metadata": {},
     "source": [
      "Wir passen die Aminos\u00e4uren in den Winkeln an, um die an die Oberfl\u00e4che zu h\u00e4ngen. Das machen wir immer in einer Funktion auf nur einem Linker"
     ]
    },
    {
     "cell_type": "code",
     "collapsed": false,
     "input": [
      "AminoDict = {\"ARG\":\"ASP\", \"ASP\":\"LYS\", \"HIS\":\"ASP\", \"LYS\":\"ASP\", \"GLU\":\"LYS\", \"SER\":\"THR\", \"THR\":\"SER\", \\\n",
      "             \"ASN\":\"GLN\", \"GLN\":\"ASN\", \"CYS\":\"CYS\", \"GLY\":\"XXX\", \"SEC\":\"XXX\", \"PRO\":\"XXX\", \"ALA\":\"LEU\", \"VAL\":\"LEU\", \\\n",
      "             \"ILE\":\"LEU\", \"LEU\":\"LEU\", \"MET\":\"LEU\", \"PHE\":\"PHE\", \"TRP\":\"TRP\", \"TYR\":\"TYR\"}\n",
      "\n",
      "def glue_to_surface(StartPoint, EndPoint, ProteinPoints = pkte , ProteinAminos = InterestingAminos,\\\n",
      "                    MinDist = hitgenauig, AminoCombinations = AminoDict):\n",
      "    Dist = abstand(StartPoint, EndPoint)\n",
      "    StartToProtDist = abstandpktzuarray(StartPoint, ProteinPoints)\n",
      "    keep = (StartToProtDist < (Dist + MinDist)) & (StartToProtDist > (Dist - MinDist))\n",
      "    PossiblePoints = ProteinPoints[keep]\n",
      "    EndToPossible = abstandpktzuarray(EndPoint, PossiblePoints)\n",
      "    PossibleAminos = ProteinAminos[keep]\n",
      "    TheAmino = PossibleAminos[np.argmin(EndToPossible)]\n",
      "    return AminoCombinations[TheAmino]\n",
      "        "
     ],
     "language": "python",
     "metadata": {},
     "outputs": []
    },
    {
     "cell_type": "code",
     "collapsed": false,
     "input": [],
     "language": "python",
     "metadata": {},
     "outputs": []
    }
   ],
   "metadata": {}
  }
 ]
}