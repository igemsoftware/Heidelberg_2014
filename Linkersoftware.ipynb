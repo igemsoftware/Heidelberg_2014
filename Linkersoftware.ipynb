{
 "metadata": {
  "name": "",
  "signature": "sha256:e14400cd11e0f33298e278a4ae75b034523a05870438b68431651c899973dcf1"
 },
 "nbformat": 3,
 "nbformat_minor": 0,
 "worksheets": [
  {
   "cells": [
    {
     "cell_type": "code",
     "collapsed": false,
     "input": [
      "#Hier ist ein kleiner Versuch mal eine Software zu schreiben, wie so Linkerzeug gemacht werden k\u00f6nnte."
     ],
     "language": "python",
     "metadata": {},
     "outputs": [],
     "prompt_number": 5
    },
    {
     "cell_type": "code",
     "collapsed": false,
     "input": [
      "#einlesen des PDB files. die Dateien sollten in proteine gespeichert werden\n",
      "import numpy as np\n",
      "import matplotlib\n",
      "matplotlib.use('GTK')\n",
      "import matplotlib.pyplot as plt         #plots allgemein\n",
      "from mpl_toolkits.mplot3d import Axes3D #3d plots\n",
      "#%matplotlib inline\n",
      "#from Bio.PDB import *\n",
      "#import gc\n",
      "import time #kann im Endeffekt aussortiert werden :-)\n",
      "import cPickle as pickle       #zum Zwischenspeichern vor Abst\u00fcrzen, um Zeit zu sparen.\n",
      "import h5py                    #zum Zwischenspeichern der Ergebnisse in der Generation der neuen Punkte\n",
      "import os                      #spa\u00dfige Dinge mit dem Betriebssystem, z.B. ob ein File existiert\n",
      "import fnmatch                 #Strings mit Wildcards durchsuchen\n",
      "import sys\n",
      "\n",
      "\n",
      "\n",
      "#Betrag eines Vektors\n",
      "def vectabs(x0, x1, x2):\n",
      "    return np.sqrt(x0**2 + x1**2 + x2*2)\n",
      "\n",
      "def vectabsar(ar):\n",
      "    return np.sqrt(ar[:,0]**2+ar[:,1]**2+ar[:,2]**2)\n",
      "\n",
      "#gibt normalenvektor zu ebene von drei Punkten aus, bereits normiert\n",
      "def ebene(a, b, c):\n",
      "    x0 = (a-b)[1]*(c-b)[2]-((a-b)[2]*(c-b)[1])\n",
      "    x1 = (a-b)[2]*(c-b)[0]-((a-b)[0]*(c-b)[2])\n",
      "    x2 = (a-b)[0]*(c-b)[1]-((a-b)[1]*(c-b)[0])\n",
      "    \n",
      "    xabs = vectabs(x0, x1, x2)\n",
      "    \n",
      "    return np.array([x0/xabs, x1/xabs, x2/xabs])\n",
      "\n",
      "#einen Vektor mit Drehmatrix drehen um a-achse\n",
      "def drehenx(phi, x, y, z):\n",
      "    x1 = x * np.cos(phi * 0)\n",
      "    y1 = y * np.cos(phi) - z * np.sin(phi)\n",
      "    z1 = y * np.sin(phi) + z * np.cos(phi)\n",
      "    return np.array([x1, y1, z1])\n",
      "\n",
      "def dreheny(phi, x, y, z):\n",
      "    x1 = x  * np.cos(phi) - z * np.sin(phi)\n",
      "    y1 = y * np.cos(phi * 0)\n",
      "    z1 = x * np.sin(phi) + z * np.cos(phi)\n",
      "    return np.array([x1, y1, z1])\n",
      "\n",
      "def drehenz(phi, x, y, z):\n",
      "    x1 = x  * np.cos(phi) - y * np.sin(phi)\n",
      "    y1 = x * np.sin(phi) +  y* np.cos(phi)\n",
      "    z1 = z * np.cos(phi * 0)\n",
      "    return np.array([x1, y1, z1])\n",
      "\n",
      "\n",
      "def drehenxy(phi, theta, v):\n",
      "    '''\n",
      "    dreht Vektor v (als np.array) um phi um die x-Achse, und theta um die y-Achse\n",
      "    '''\n",
      "    v = drehenx(phi, v[0], v[1], v[2])\n",
      "    return dreheny(theta, v[0], v[1], v[2])\n",
      "\n",
      "def abstand(x,y):\n",
      "    '''\n",
      "    den Abstand zweier Punkte bestimmen, den Punkt als Array eingeben.\n",
      "    '''\n",
      "    return np.sqrt((x[0]-y[0])**2+(x[1]-y[1])**2+(x[2]-y[2])**2)\n",
      "\n",
      "def betrag(x):\n",
      "    return np.sqrt((x[0])**2+(x[1])**2+(x[2])**2)\n",
      "\n",
      "def abstandpktzuarray(x, ar):\n",
      "    return np.sqrt((x[0]-ar[:,0])**2+(x[1]-ar[:,1])**2+(x[2]-ar[:,2])**2)\n",
      "\n",
      "def abstandarrays(ar1, ar2):\n",
      "    return np.sqrt((ar1[:,0]-ar2[:,0])**2+(ar1[:,1]-ar2[:,1])**2+(ar1[:,2]-ar2[:,2])**2)\n",
      "\n",
      "def abstandarrays_quadr(ar1, ar2):\n",
      "    return (ar1[:,0]-ar2[:,0])**2+(ar1[:,1]-ar2[:,1])**2+(ar1[:,2]-ar2[:,2])**2\n",
      "\n",
      "def skalar_product (ar1, ar2):\n",
      "    return (ar1[:,0]*ar2[:,0])+(ar1[:,1]*ar2[:,1])+(ar1[:,2]*ar2[:,2])\n",
      "\n",
      "\n",
      "def angle_between_connections_array(StartArray, MiddleArray, EndArray):\n",
      "    '''\n",
      "    returns value between [0,pi] an array of size Startarray with the angles. If there is no displacement, it returns zero as value\n",
      "    '''\n",
      "    vect1 = (StartArray - MiddleArray)\n",
      "    vect2 = (EndArray - MiddleArray)\n",
      "    #catch if there is 0 displacement\n",
      "    tocalculate = ((vect1 != np.array([0,0,0])).any(1)) & ((vect2 != np.array([0,0,0])).any(1))\n",
      "    vect1 = vect1[tocalculate]\n",
      "    vect2 = vect2[tocalculate]\n",
      "    catchrounding = skalar_product(vect1, vect2)/(vectabsar(vect1)*vectabsar(vect2))\n",
      "    #get rounding arrors\n",
      "    catchrounding[catchrounding > 1] = 1\n",
      "    catchrounding[catchrounding < -1] = -1\n",
      "    angles = np.arccos(catchrounding)\n",
      "    returnangles = np.zeros(np.size(StartArray, axis = 0))\n",
      "    returnangles[tocalculate] = angles\n",
      "    return returnangles\n",
      "\n",
      "        \n",
      "   "
     ],
     "language": "python",
     "metadata": {},
     "outputs": [],
     "prompt_number": 6
    },
    {
     "cell_type": "code",
     "collapsed": false,
     "input": [
      "\n",
      "\n",
      "def distance_from_connection(Startarray, Endarray, Points):\n",
      "    '''\n",
      "takes a connection from Startarray to Endarray nnd calculates the perpendicular distance of the points from the connection. \n",
      "Returns an array of size (start * points) with all perpendicular distances or distances of the endpoints.\n",
      "Start or End can also be single points.\n",
      "    '''\n",
      "    if np.size(Startarray, axis = 0) ==1:\n",
      "        Starttemp = np.repeat(Startarray, np.size(Endarray, axis = 0), axis = 0)\n",
      "    else:\n",
      "        Starttemp = Startarray\n",
      "        \n",
      "    if np.size(Endarray, axis = 0) ==1:\n",
      "        Endtemp = np.repeat(Endarray, np.size(Startarray, axis = 0), axis = 0)\n",
      "    else:\n",
      "        Endtemp = Endarray\n",
      "        \n",
      "    \n",
      "    #reshape the arrays and the points, have a Points*Start array\n",
      "    oneaxis = np.size(Starttemp, axis = 0)\n",
      "    twoaxis = np.size(Points, axis = 0)\n",
      "\n",
      "    Starttemp = np.repeat(Starttemp, twoaxis, axis = 0)\n",
      "    Endtemp = np.repeat(Endtemp, twoaxis, axis = 0)\n",
      "    Points = np.tile(Points, (oneaxis,1))\n",
      "\n",
      "    StartPunkteAbst = abstandarrays(Starttemp, Points)\n",
      "    StartPunkteAbst = np.reshape(StartPunkteAbst, (oneaxis, twoaxis))\n",
      "    \n",
      "    EndPunkteAbst = abstandarrays(Endtemp, Points)\n",
      "    EndPunkteAbst = np.reshape(EndPunkteAbst, (oneaxis, twoaxis))\n",
      "    \n",
      "    AngleAtStart = angle_between_connections_array(Points, Starttemp, Endtemp)\n",
      "    AngleAtStart = np.reshape(AngleAtStart, (oneaxis, twoaxis))\n",
      "    \n",
      "    AngleAtEnd = angle_between_connections_array(Points, Endtemp, Starttemp)\n",
      "    AngleAtEnd = np.reshape(AngleAtEnd, (oneaxis, twoaxis))\n",
      "    \n",
      "    \n",
      "    \n",
      "    #die Punkte mit \u00fcber 90\u00b0 nehmen einfach den Abstand vom Ende, die kleiner als 90\u00b0 den senkrechten Abstand\n",
      "    StartBiggerNinetyBool = (AngleAtStart >  np.pi/2)\n",
      "    EndBiggerNinetyBool = (AngleAtEnd > np.pi/2)\n",
      "    pointonconnectionbool = (AngleAtStart == 0) & (AngleAtEnd == 0)\n",
      "    NotUseBool = np.invert(StartBiggerNinetyBool | EndBiggerNinetyBool | pointonconnectionbool)\n",
      "    DistanceFromConnection = np.empty((oneaxis, twoaxis))\n",
      "    DistanceFromConnection[NotUseBool] = np.sin(AngleAtStart[NotUseBool]) * StartPunkteAbst[NotUseBool]\n",
      "    DistanceFromConnection[EndBiggerNinetyBool] = EndPunkteAbst[EndBiggerNinetyBool]\n",
      "    DistanceFromConnection[StartBiggerNinetyBool] = StartPunkteAbst[StartBiggerNinetyBool]\n",
      "    DistanceFromConnection[pointonconnectionbool] = 0.\n",
      "    return DistanceFromConnection, oneaxis, twoaxis"
     ],
     "language": "python",
     "metadata": {},
     "outputs": [],
     "prompt_number": 7
    },
    {
     "cell_type": "markdown",
     "metadata": {},
     "source": [
      "Lambdalysozym, wo die komplette Berechnung durchgelaufen ist, ohne flexible Enden, mit Abk\u00fcrzung :\"lambdalysozyme\"\n",
      "\n",
      "Lambdalysozym, wo nur die flexiblen Enden berechnet wurden, : \"lambdalysozyme_0802\"\n",
      "\n",
      "DNMT1, ohne Abk\u00fcrzung, alles durchgelaufen, ohne flex Enden: \"\""
     ]
    },
    {
     "cell_type": "code",
     "collapsed": false,
     "input": [
      "#PDB geht von N zu C Terminus     \n",
      "    \n",
      "\n",
      "#macht aus drei Arrays ein Array mit kleinen dreierarrays in einem gro\u00dfen A\n",
      "\n",
      "\n",
      "#macht aus drei Arrays\n",
      "\n",
      "UserDefinedProjectName = \"new_dnmt1_nothrombin\" #for saving of the files, f\u00fcr DNMT1daten einfach \"\" machen\n",
      "\n",
      "f = open('proteine/dnmt13PT9.pdb', 'r')\n",
      "#print pdbfile\n",
      "\n",
      "\n",
      "wholex = []\n",
      "wholey = []\n",
      "wholez = []\n",
      "wholeatom = []\n",
      "wholeaminos = []\n",
      "wholesubunit = []\n",
      "wholeasnr = []\n",
      "\n",
      "\n",
      "#line.split kann nicht verwendet werden, weil manchmal die spalten ineinander verschmelzen, weil das Format doof ist.\n",
      "\n",
      "for line in f:\n",
      "    art = line[:4]\n",
      "    if art == 'ATOM':\n",
      "        wholeatom.append(line[13:16])\n",
      "        wholeaminos.append(line[17:20])\n",
      "        wholesubunit.append(line[21])\n",
      "        wholeasnr.append(int(line[22:26]))\n",
      "        wholex.append(float(line[31:38]))\n",
      "        wholey.append(float(line[38:46]))\n",
      "        wholez.append(float(line[46:54]))\n",
      "\n",
      "f.close()        \n",
      "\n",
      "#aus allen Listen arrays machen\n",
      "wholeatom = np.array(wholeatom)\n",
      "wholeaminos = np.array(wholeaminos)\n",
      "wholesubunit = np.array(wholesubunit)\n",
      "wholeasnr = np.array(wholeasnr)\n",
      "#731-1602 dnmt1\n",
      "#oder 650 - 1602\n",
      "\n",
      "#get parts, that aren't wanted out of the PDB files\n",
      "\n",
      "#TODO hier\u00fcber nachdennken!!! was die Regionen sind, die gew\u00e4hlt werden\n",
      "\n",
      "UserChosenIgnoreRegions = None #default is none,being a LIST of tuples of (21, 832, 'A'), with subunit, and then interval including the ends\n",
      "IgnoreSubUnit = () #is a tupel with to be ignored subunits\n",
      "IgnoreIndices = np.bool8(np.ones(np.size(wholeasnr)))\n",
      "\n",
      "#Ignoreindices True means the value is kept\n",
      "if IgnoreSubUnit != None:\n",
      "    for SubUnit in IgnoreSubUnit:\n",
      "        IgnoreIndices = IgnoreIndices & (wholesubunit != SubUnit)\n",
      "\n",
      "\n",
      "if UserChosenIgnoreRegions != None:\n",
      "    for RegionOnSubunit in UserChosenIgnoreRegions:\n",
      "        IgnoreIndices = IgnoreIndices & np.invert((wholeasnr < RegionOnSubunit[1]) & (wholeasnr > RegionOnSubunit[0]) & \\\n",
      "                                                    (wholesubunit == RegionOnSubunit[2]))\n",
      "\n",
      "wholeatom = wholeatom[IgnoreIndices]\n",
      "wholeaminos = wholeaminos[IgnoreIndices]\n",
      "wholesubunit = wholesubunit[IgnoreIndices]\n",
      "wholeasnr = wholeasnr[IgnoreIndices]\n",
      "\n",
      "\n",
      "wholex = np.float16(np.array(wholex))        \n",
      "wholey = np.float16(np.array(wholey))\n",
      "wholez = np.float16(np.array(wholez))\n",
      "#that should be sliced out of the PDB\n",
      "wholex = wholex[IgnoreIndices]\n",
      "wholey = wholey[IgnoreIndices]\n",
      "wholez = wholez[IgnoreIndices]\n",
      "\n",
      "anzahl = len(wholex)\n",
      "\n",
      "\n",
      "#let the user choose, what part should be circularized interests him.\n",
      "SubUnitChosen = \"A\"\n",
      "UserChosenStart = 731\n",
      "UserChosenEnd = 1602\n",
      "\n",
      "if UserChosenEnd == None:\n",
      "    UserChosenEnd =  np.max(wholeasnr[wholesubunit == SubUnitChosen])\n",
      "\n",
      "if UserChosenStart == None:\n",
      "    UserChosenStart = np.min(wholeasnr[wholesubunit == SubUnitChosen])\n",
      "\n",
      "\n",
      "#non helical regions are called scars\n",
      "ScarsAtStartseq = \"GGG\"\n",
      "ScarsAtStart = len(ScarsAtStartseq)\n",
      "ScarsAtEndseq = \"DYKDDDDKLLETG\"   #TODO richtige Sequenz!\n",
      "ScarsAtEnd = len(ScarsAtEndseq)\n",
      "\n",
      "\n",
      "MissingAtStart = np.min(wholeasnr[wholesubunit == SubUnitChosen]) - UserChosenStart\n",
      "MissingAtEnd = UserChosenEnd - np.max(wholeasnr[wholesubunit == SubUnitChosen]) \n",
      "\n",
      "if MissingAtStart > 0:\n",
      "    if MissingAtStart >= 5:\n",
      "        print \"Your PDB File does not contain the beginning of the protein and there is missing that much, that even an estimation of the beginning would be really bad. Please find a better PDB file, or risk it\"\n",
      "    else:\n",
      "        print \"Your PDB File does not contain the beginning of the protein, but there are less than 5 Aminoacids missing, so the position of the beginning will be estimated. If there is a better PDB file, upload it\"\n",
      "\n",
      "if MissingAtEnd > 0:\n",
      "    if MissingAtEnd >= 5:\n",
      "        print \"Your PDB File does not contain the end of the protein and there is missing that much, that even an estimation of the beginning would be really bad. Please find a better PDB file, or risk it\"\n",
      "    else:\n",
      "        print \"Your PDB File does not contain the end of the protein, but there are less than 5 Aminoacids missing, so the position of the beginning will be estimated. If there is a better PDB file, upload it\"\n",
      "\n",
      "\n",
      "PartToCircularizeBool = (((wholeasnr >= UserChosenStart) & (wholesubunit == SubUnitChosen)) & (wholeasnr <= UserChosenEnd)) #hier kann man einstellen, welche AS behalten werden sollen.\n",
      "\n",
      "InterestingAtom = wholeatom[PartToCircularizeBool]\n",
      "InterestingAminos = wholeaminos[PartToCircularizeBool]\n",
      "InterestingAANr = wholeasnr[PartToCircularizeBool]\n",
      "\n",
      "#aus den drei Arrays eines machen, das Dimension n*3 hat, also ein Array aus lauter kleinen dreier Arrays\n",
      "\n",
      "# ein Pkt: pkte[0]\n",
      "# wieder zur\u00fcck: x = pkte[:,0]\n",
      "\n",
      "\n",
      "\n",
      "PointsOfAllSubunits = np.float16(np.reshape(np.concatenate((wholex,wholey,wholez)), (anzahl,3), 'F'))\n",
      "#choose the part, that is interesting for us for circularization this is points\n",
      "pkte = PointsOfAllSubunits[PartToCircularizeBool]\n",
      "OtherPoints = PointsOfAllSubunits[wholesubunit != SubUnitChosen]\n",
      "\n",
      "#TODO Estimation of startingpoint, or user interface to get it.\n",
      "\n",
      "anfangspunkt = np.ravel(pkte[(InterestingAANr == InterestingAANr[0]) & (InterestingAtom == \"N  \")])\n",
      "endpunkt = np.ravel(pkte[(InterestingAANr == InterestingAANr[-1]) & (InterestingAtom == \"C  \")])\n",
      "\n",
      "\n",
      "AmountOfAtomsFirstAA = np.size(InterestingAANr[InterestingAANr == InterestingAANr[0]])  #anzahl an Atomen in der erstenas\n",
      "AmountOfAtomsLastAA = np.size(InterestingAANr[InterestingAANr == InterestingAANr[-1]])  #amount of atoms in last AS\n",
      "\n",
      "pickle.dump((pkte, InterestingAminos, InterestingAtom, InterestingAANr),\\\n",
      "            open(\"files/savepoints{projectname}.p\".format(projectname = UserDefinedProjectName), \"wb\"))\n",
      "\n",
      "'''\n",
      "fig = plt.figure()\n",
      "ax = fig.add_subplot(111, projection='3d')\n",
      "ax.scatter(pkte[5:-5:,0], pkte[5:-5:,1], pkte[5:-5:,2], s=10)\n",
      "ax.scatter(pkte[:4:,0], pkte[:4:,1], pkte[:4:,2], s = 20, c =\"r\")\n",
      "ax.scatter(pkte[-4::,0], pkte[-4::,1], pkte[-4::,2], s = 20, c =\"r\")\n",
      "ax.scatter(OtherPoints[:,0], OtherPoints[:,1], OtherPoints[:,2], s=10, c = \"g\")\n",
      "'''"
     ],
     "language": "python",
     "metadata": {},
     "outputs": [
      {
       "output_type": "stream",
       "stream": "stdout",
       "text": [
        "Your PDB File does not contain the end of the protein, but there are less than 5 Aminoacids missing, so the position of the beginning will be estimated. If there is a better PDB file, upload it\n"
       ]
      },
      {
       "metadata": {},
       "output_type": "pyout",
       "prompt_number": 8,
       "text": [
        "'\\nfig = plt.figure()\\nax = fig.add_subplot(111, projection=\\'3d\\')\\nax.scatter(pkte[5:-5:,0], pkte[5:-5:,1], pkte[5:-5:,2], s=10)\\nax.scatter(pkte[:4:,0], pkte[:4:,1], pkte[:4:,2], s = 20, c =\"r\")\\nax.scatter(pkte[-4::,0], pkte[-4::,1], pkte[-4::,2], s = 20, c =\"r\")\\nax.scatter(OtherPoints[:,0], OtherPoints[:,1], OtherPoints[:,2], s=10, c = \"g\")\\n'"
       ]
      }
     ],
     "prompt_number": 8
    },
    {
     "cell_type": "code",
     "collapsed": false,
     "input": [
      "#this dictionary contains the medium, the standrad-deviation and the sequence of all the angles\n",
      "angletosequence = [(45., 25., \"AASGAA\"),(79., 29., \"AALAA\"), (84., 11., \"AAWAA\"), (85., 19., \"ASNA\"),\n",
      "                   (100., 18., \"ASA\"), (120., 6., \"AGA\"), (145., 15., \"VV\"), ]\n",
      "angleseparators = [0.]\n",
      "\n",
      "#the separators are there where the amount of sigmas is the same from both directions\n",
      "for i in range(len(angletosequence)-1):\n",
      "    factor = (angletosequence[i+1][0]-angletosequence[i][0])/(angletosequence[i+1][1]+ angletosequence[i][1])\n",
      "    angleseparators.append(factor * angletosequence[i][1] + angletosequence[i][0])\n",
      "angleseparators.append(180.)"
     ],
     "language": "python",
     "metadata": {},
     "outputs": [],
     "prompt_number": 9
    },
    {
     "cell_type": "code",
     "collapsed": false,
     "input": [
      "#das gedrehte darstellen, TODO muss noch auf pkte angepasst werden\n",
      "\n",
      "phi = np.pi / 2 #immer in vielfachen von pi w\u00e4hlen\n",
      "\n",
      "xgedr = dreheny(phi, wholex, wholey, wholez)[0]\n",
      "ygedr = dreheny(phi, wholex, wholey, wholez)[1]\n",
      "zgedr = dreheny(phi, wholex, wholey, wholez)[2]\n",
      "\n",
      "'''\n",
      "fig = plt.figure()\n",
      "ax = fig.add_subplot(111, projection='3d')\n",
      "ax.scatter(xgedr[5:-5:], ygedr[5:-5:], zgedr[5:-5:], s=10)\n",
      "ax.scatter(xgedr[:4:], ygedr[:4:], zgedr[:4:], s = 20, c =\"r\")\n",
      "ax.scatter(xgedr[-4::], ygedr[-4::], zgedr[-4::], s = 20, c =\"r\")\n",
      "'''"
     ],
     "language": "python",
     "metadata": {},
     "outputs": [
      {
       "metadata": {},
       "output_type": "pyout",
       "prompt_number": 10,
       "text": [
        "'\\nfig = plt.figure()\\nax = fig.add_subplot(111, projection=\\'3d\\')\\nax.scatter(xgedr[5:-5:], ygedr[5:-5:], zgedr[5:-5:], s=10)\\nax.scatter(xgedr[:4:], ygedr[:4:], zgedr[:4:], s = 20, c =\"r\")\\nax.scatter(xgedr[-4::], ygedr[-4::], zgedr[-4::], s = 20, c =\"r\")\\n'"
       ]
      }
     ],
     "prompt_number": 10
    },
    {
     "cell_type": "code",
     "collapsed": false,
     "input": [
      "#L\u00e4ngenkalibration, wir wissen, dass der Abstand von c-c 154 pm ist.\n",
      "#Wir machen das am Glycin, weil das am einfachsten f\u00fcr uns ist.\n",
      "try:\n",
      "    eichnutz = ((wholeaminos == \"GLY\") & (wholeatom == \"C  \") | ((wholeaminos == \"GLY\") & (wholeatom == \"CA \")))\n",
      "    xeich = wholex[eichnutz]\n",
      "    yeich = wholey[eichnutz]\n",
      "    zeich = wholez[eichnutz]\n",
      "\n",
      "\n",
      "    #das sieht so komisch aus, wegen alter Version\n",
      "    abstaendeeich= abstand( np.array([xeich[0::2],yeich[0::2],zeich[0::2]]),np.array([xeich[1::2],yeich[1::2],zeich[1::2]]))\n",
      "    kalib = 154. / np.mean(abstaendeeich) #pm\n",
      "    kalibfehl = np.std(abstaendeeich) * kalib\n",
      "\n",
      "    print str(kalib) + \"+-\" +str (kalibfehl) +\" pm\"\n",
      "except:\n",
      "    kalib = 100.\n",
      "    kalibfehl = 0.\n",
      "    print \"There were no Glycines in the protein, a calibration was estimated as :\" + str(kalib) + \"+-\" +str (kalibfehl) +\" pm\""
     ],
     "language": "python",
     "metadata": {},
     "outputs": [
      {
       "output_type": "stream",
       "stream": "stdout",
       "text": [
        "101.50632581+-0.494227215805 pm\n"
       ]
      }
     ],
     "prompt_number": 11
    },
    {
     "cell_type": "code",
     "collapsed": false,
     "input": [
      "#globale Variablen:\n",
      "\n",
      "#Entfernung, die der Linker mindestens immer haben sollte geschaetzter Wert 5 Angstr\u00f6m, eine Alpha Helix hat Radius 2.3A\n",
      "\n",
      "minabstand = 500/kalib #in pm\n",
      "\n",
      "#Entfernung, die ein Linker maximal haben darf vom Protein\n",
      "\n",
      "maxabstand = 5000/kalib\n",
      "\n",
      "LengthOfFlexibleAA = 250 / kalib #between 250 and 350\n",
      "FLEXIBLEATSTARTKO = (MissingAtStart + ScarsAtStart) * LengthOfFlexibleAA\n",
      "FLEXIBLEATENDKO = (MissingAtEnd + ScarsAtEnd) * LengthOfFlexibleAA"
     ],
     "language": "python",
     "metadata": {},
     "outputs": [],
     "prompt_number": 12
    },
    {
     "cell_type": "markdown",
     "metadata": {},
     "source": [
      "Wir testen, ob sich die Enden einfach direkt verbinden lassen. Daf\u00fcr schauen wir ob auf der Verbindungslinie zwischen den beiden Enden im senkrechten Abstand alle Punkte mindestens einen gewissen Abstand haben. Da aber der Punkteraum diskret ist und nicht ausgeschmiert, schauen wir einfach f\u00fcr jeden W\u00fcrfel um die Verbindungslinie, welches der geringste Abstand eines Punktes ist. Ist dieser geringer als unser geforderter Mindestabstand, bricht der Algorithmus sofort ab und es kann weiter gehen. Die W\u00fcrfel sind nur dazu da, dass wir nicht immer den Abstand des gesamten Proteins zur Linie berechnen m\u00fcssen. Wenn ein Punkt zu nah ist, finden wir ihn so auf jeden Fall.\n",
      "\n",
      "Wir m\u00fcssen auf jeden Fall den Abstand zwischen zwei Messpunkten so w\u00e4hlen, dass selbst wenn der Punkt am ung\u00fcnstigsten liegt, wir ihn aussortieren. Lieber zu fr\u00fch aussortieren als zu sp\u00e4t und dann eben das normale Prozedere durchmachen lassen. Wir w\u00e4hlen die Abst\u00e4nde so, dass immer der n\u00e4chste Punkt \n",
      "\n",
      "Der erste Messpunkt muss so sein, dass nicht unser Startpunkt in den ersten W\u00fcrfel f\u00e4llt, genauso beim letzten."
     ]
    },
    {
     "cell_type": "code",
     "collapsed": false,
     "input": [
      "abstandanfend = abstand(anfangspunkt, endpunkt)\n",
      "kantenlaenge = 4 * minabstand\n",
      "#print kantenlaenge\n",
      "wuerfeldiaghalbe = np.sqrt(3)/2 * kantenlaenge\n",
      "#print wuerfeldiaghalbe\n",
      "\n",
      "anzahlwuerfel = int(abstandanfend / wuerfeldiaghalbe) #wir setzen einen mehr ein, als wir m\u00fcssten\n",
      "if anzahlwuerfel == 0:\n",
      "    if abstandanfend < (2* minabstand):\n",
      "        print \"Die Enden sind extrem nah beieinander, einfach versuchen zu zyklieren mit Linker, der genau der L\u00e4nge entspricht!\"\n",
      "    else:\n",
      "        wuerfelmitten = np.array([(anfangspunkt-endpunkt)/2])\n",
      "        kantenlaenge = abstandanfend / np.sqrt(3)\n",
      "        wuerfelabstand = 0\n",
      "elif anzahlwuerfel == 1:\n",
      "    kantenlaenge = abstandanfend / np.sqrt(3)\n",
      "    wuerfeldiaghalbe = np.sqrt(3)/2 * kantenlaenge\n",
      "    wuerfelmitten = (endpunkt-anfangspunkt)/abstandanfend * (wuerfeldiaghalbe) + anfangspunkt\n",
      "    wuerfelabstand = 0\n",
      "    \n",
      "else:\n",
      "    wuerfelabstand = (abstandanfend - (2* wuerfeldiaghalbe))/(anzahlwuerfel - 1)\n",
      "    \n",
      "    #print anzahlwuerfel\n",
      "    \n",
      "    #nun die Verbindungsgerade zwischen den beiden Punkten. v = m * t + 0 mit normiertem m und t (Abstand*parameter)\n",
      "    wuerfelmitten = []\n",
      "    for i in range(0, anzahlwuerfel):\n",
      "        wuerfelmitten.append( (endpunkt-anfangspunkt)/abstandanfend * (wuerfelabstand * i + wuerfeldiaghalbe) + anfangspunkt)\n",
      "        \n",
      "    wuerfelmitten = np.array(wuerfelmitten)\n",
      "    \n",
      "#print wuerfelmitten\n",
      "\n",
      "\n",
      "#minimale Abstand, den etwas haben muss, von W\u00fcrfelmittelpunkt, ab dem wir sagen, dass was zu nah ist, das ist auch \n",
      "#der Fehler den wir haben k\u00f6nnen.\n",
      "minabstandcalc = np.sqrt(minabstand**2 + wuerfelabstand**2)\n",
      "\n",
      "derallernaechstepunkt = None\n",
      "\n",
      "#das Einschr\u00e4nken der Werte auf die W\u00fcrfelinnereien\n",
      "if np.size(wuerfelmitten) == 3:\n",
      "    mitte = wuerfelmitten\n",
      "    keep = ((PointsOfAllSubunits[:,0] > (mitte[0] - (kantenlaenge / 2))) & (PointsOfAllSubunits[:,0] < (mitte[0] + (kantenlaenge / 2))) & \\\n",
      "                (PointsOfAllSubunits[:,1] > (mitte[1] - (kantenlaenge / 2))) & (PointsOfAllSubunits[:,1] < (mitte[1] + (kantenlaenge / 2))) & \\\n",
      "                (PointsOfAllSubunits[:,2] > (mitte[2] - (kantenlaenge / 2))) & (PointsOfAllSubunits[:,2] < (mitte[2] + (kantenlaenge / 2))))   \n",
      "\n",
      "    wuerfelpunkte = PointsOfAllSubunits[keep]\n",
      "    #print wuerfelpunkte\n",
      "    #print abstandarray(mitte, wuerfelpunkte)\n",
      "    mintemp = np.min(abstandpktzuarray(mitte, wuerfelpunkte))\n",
      "    #print mintemp\n",
      "    if  mintemp < minabstandcalc:\n",
      "        print \"Es ist nicht m\u00f6glich einen direkten Linker zu bauen. Der minimale Abstand von der direkten Verbindung betrug: \" \\\n",
      "                + str( mintemp * kalib) + \" pm\"\n",
      "\n",
      "    else:\n",
      "        if derallernaechstepunkt == None:\n",
      "            derallernaechstepunkt = mintemp\n",
      "        elif mintemp < derallernaechstepunkt:\n",
      "            derallernaechstepunkt = mintemp\n",
      "\n",
      "        else:\n",
      "            print \"Es ist m\u00f6glich einen direkten Linker zu machen, da der n\u00e4chste Punkt vom Linker \" + str(derallernaechstepunkt * kalib) + \\\n",
      "                  \" pm entfernt ist.\"\n",
      "else:\n",
      "\n",
      "    for mitte in wuerfelmitten:\n",
      "        keep = ((PointsOfAllSubunits[:,0] > (mitte[0] - (kantenlaenge / 2))) & (PointsOfAllSubunits[:,0] < (mitte[0] + (kantenlaenge / 2))) & \\\n",
      "                (PointsOfAllSubunits[:,1] > (mitte[1] - (kantenlaenge / 2))) & (PointsOfAllSubunits[:,1] < (mitte[1] + (kantenlaenge / 2))) & \\\n",
      "                (PointsOfAllSubunits[:,2] > (mitte[2] - (kantenlaenge / 2))) & (PointsOfAllSubunits[:,2] < (mitte[2] + (kantenlaenge / 2))))   \n",
      "\n",
      "        wuerfelpunkte = PointsOfAllSubunits[keep]\n",
      "        #print wuerfelpunkte\n",
      "        #print abstandarray(mitte, wuerfelpunkte)\n",
      "        mintemp = np.min(abstandpktzuarray(mitte, wuerfelpunkte))\n",
      "        #print mintemp\n",
      "        if  mintemp < minabstandcalc:\n",
      "            print \"Es ist nicht m\u00f6glich einen direkten Linker zu bauen. Der minimale Abstand von der direkten Verbindung betrug: \" \\\n",
      "                    + str( mintemp * kalib) + \" pm\"\n",
      "            break\n",
      "\n",
      "        else:\n",
      "            if derallernaechstepunkt == None:\n",
      "                derallernaechstepunkt = mintemp\n",
      "            elif mintemp < derallernaechstepunkt:\n",
      "                derallernaechstepunkt = mintemp\n",
      "\n",
      "    else:\n",
      "        print \"Es ist m\u00f6glich einen direkten Linker zu machen, da der n\u00e4chste Punkt vom Linker \" + str(derallernaechstepunkt * kalib) + \\\n",
      "              \" pm entfernt ist.\"\n",
      "    \n",
      "    \n",
      "#FIXME, der Control Flow... Wenn es vorher feststellt, dass die Enden sehr nah beieinander sind, geht es dennoch durch das ganze \n",
      "#untere wieder durch... Mal schauen, was sich da machen l\u00e4sst."
     ],
     "language": "python",
     "metadata": {},
     "outputs": [
      {
       "output_type": "stream",
       "stream": "stdout",
       "text": [
        "Es ist nicht m\u00f6glich einen direkten Linker zu bauen. Der minimale Abstand von der direkten Verbindung betrug: 62.9638470151 pm\n"
       ]
      }
     ],
     "prompt_number": 13
    },
    {
     "cell_type": "markdown",
     "metadata": {},
     "source": [
      "Ob eine Region au\u00dfen ist. Daf\u00fcr werden von dem Punkt Strahlen in alle Richtungen in 5\u00b0 Schritten gemacht und diese dann in eine Liste geschrieben, welche Winkel frei sind."
     ]
    },
    {
     "cell_type": "code",
     "collapsed": false,
     "input": [
      "#Test, ob die Enden auch au\u00dfensind\n",
      "#Abstand zwischen Anfang und allen anderen Punkten in einem Array\n",
      "\n",
      "\n",
      "\n",
      "def punktebeigerade(minabstand, pkte, gerade, aufpunkt, laenge):\n",
      "    '''\n",
      "aufpunkt, der Punkt von wo aus geht\n",
      "gerade: normiert\n",
      "gibt True zur\u00fcck, wenn kein Punkt in der N\u00e4he der Geraden ist.\n",
      "    '''\n",
      "    kantenlaenge = 4 * minabstand\n",
      "    wuerfeldiaghalbe = np.sqrt(3)/2 * kantenlaenge\n",
      "    \n",
      "    anzahlwuerfel = int(laenge / wuerfeldiaghalbe) + 1 \n",
      "    \n",
      "    #nun die Verbindungsgerade zwischen den beiden Punkten. v = m * t + x0 mit normiertem m und t (Abstand*parameter)\n",
      "    wuerfelmitten = []\n",
      "\n",
      "    for i in range(0, anzahlwuerfel):\n",
      "        wuerfelmitten.append( gerade * (wuerfeldiaghalbe * (i + 1)) + aufpunkt)\n",
      "    \n",
      "        \n",
      "    wuerfelmitten = np.array(wuerfelmitten)\n",
      "        \n",
      "    #print wuerfelmitten\n",
      "    \n",
      "    \n",
      "    #minimale Abstand, den etwas haben muss, von W\u00fcrfelmittelpunkt, ab dem wir sagen, dass was zu nah ist\n",
      "    minabstandcalc = np.sqrt(5) * minabstand\n",
      "    \n",
      "    \n",
      "    #das Einschr\u00e4nken der Werte auf die W\u00fcrfelinnereien\n",
      "    for mitte in wuerfelmitten:\n",
      "        keep = ((pkte[:,0] > (mitte[0] - (kantenlaenge / 2))) & (pkte[:,0] < (mitte[0] + (kantenlaenge / 2))) & \\\n",
      "                (pkte[:,1] > (mitte[1] - (kantenlaenge / 2))) & (pkte[:,1] < (mitte[1] + (kantenlaenge / 2))) & \\\n",
      "                (pkte[:,2] > (mitte[2] - (kantenlaenge / 2))) & (pkte[:,2] < (mitte[2] + (kantenlaenge / 2))))   \n",
      "        \n",
      "        \n",
      "        wuerfelpunkte = pkte[keep]\n",
      "        if np.size(wuerfelpunkte) == 0:\n",
      "            continue\n",
      "        \n",
      "        mintemp = np.min(abstandpktzuarray(mitte, wuerfelpunkte))\n",
      "        \n",
      "        if  mintemp < minabstandcalc:\n",
      "            return False\n",
      "            break\n",
      "         \n",
      "    else:\n",
      "        return True\n",
      "    \n",
      "\n",
      "def test_accessible_angles(winkelarray, length, anfangspunkt, proteinpoints, gerade = np.array([0,0,1])):\n",
      "    '''\n",
      "    angles are measured from z-axis, returns a boolean array to slice with.\n",
      "    '''\n",
      "    moeglichewinkelanfangbool = []\n",
      "\n",
      "    for winkel in winkelarray:\n",
      "        moeglichewinkelanfangbool.append(punktebeigerade(minabstand, PointsOfAllSubunits, drehenxy(winkel[0], winkel[1], gerade),\\\n",
      "                                                         anfangspunkt , maxvonanfang))\n",
      "\n",
      "    return np.array(moeglichewinkelanfangbool)\n",
      "    \n",
      "   "
     ],
     "language": "python",
     "metadata": {},
     "outputs": [],
     "prompt_number": 14
    },
    {
     "cell_type": "code",
     "collapsed": false,
     "input": [
      " \n",
      "\n",
      "#das sind nun 2592 Berechnungen...\n",
      "testwinkel = np.mgrid[0:180:5, 0:360:5] * np.pi/180 #Endwinkel nicht enthalten, null mit drinnen, das sind ja auch nur 70 Rechn extra\n",
      "winkelarray = np.reshape(np.ravel(testwinkel), (2592,2), 'F')    \n",
      "\n",
      "\n",
      "\n",
      "#Ueberpr\u00fcfen, ob der Anfang innen ist.\n",
      "maxvonanfang = np.max(abstandpktzuarray(pkte[0] ,PointsOfAllSubunits))\n",
      "#geradenarray = np.reshape(np.ravel(drehenxy(testwinkel[0], testwinkel[1], gerade), order = 'F'), (2592,3), 'C')\n",
      "\n",
      "moeglichewinkelanfangbool = test_accessible_angles(winkelarray, maxvonanfang, anfangspunkt, PointsOfAllSubunits)   \n",
      "\n",
      "\n",
      "#\u00dcberpr\u00fcfen, ob das Ende innen ist.\n",
      "maxvonende = np.max(abstandpktzuarray(endpunkt ,PointsOfAllSubunits))\n",
      "\n",
      "\n",
      "moeglichewinkelendebool = test_accessible_angles(winkelarray, maxvonende, endpunkt, PointsOfAllSubunits)\n",
      "\n",
      "\n",
      "\n",
      "moeglichewinkelanfang = winkelarray[moeglichewinkelanfangbool]\n",
      "moeglichewinkelende = winkelarray[moeglichewinkelendebool]\n",
      "if (np.size(moeglichewinkelanfangbool) == 0) | (np.size(moeglichewinkelendebool) == 0):\n",
      "    #TODO, vielleicht noch mit flexiblem Linker verbindbar? Einfach der Test, ob es an der Oberfl\u00e4che ist.\n",
      "    sys.exit(\"One end is covered in the protein, it is not circularizable\")"
     ],
     "language": "python",
     "metadata": {},
     "outputs": [],
     "prompt_number": 15
    },
    {
     "cell_type": "markdown",
     "metadata": {},
     "source": [
      "Wir versuchen nun wirklich einen Linker zu finden. Daf\u00fcr alle m\u00f6glichen Linker, die zum Ziel f\u00fchren erzeugen lassen. So ein Linker ist eindeutig bestimmt, durch die Punkte, durch die er durchgeht, das hei\u00dft man muss nur die Punkte abspeichern lassen. Die kann man dann auswerten im Endeffekt und so den besten Linker rausfinden.\n",
      "\n",
      "Dabei kann ein Linker maximal 3 Winkel haben, dann ist es m\u00f6glich ein 5 Eck mit den Punkten zu bauen. Das ergibt bei einer Winkelvervteilung von jeweils 5 \u00b0 2500^3 M\u00f6glichkeiten.\n",
      "\n",
      "Jede Aminos\u00e4ure in einer Alphahelix macht dann eine Verschiebung um 1,5 Angstr\u00f6m. Das hei\u00dft, dass jedes einzelne Linkerst\u00fcck (keine Gelenke) 1.5A lang ist.\n",
      "\n",
      "F\u00fcr die maximale L\u00e4nge des Linkers legen wir eine Schnur um eine Kugel, mit dem Radius des 3/4 (noch dr\u00fcber sprechen) des maximalen Abstands von dem Ende zu dem Rest.\n",
      "\n"
     ]
    },
    {
     "cell_type": "markdown",
     "metadata": {},
     "source": [
      "Wir sortieren jetzt die Punkte aus, bei denen Proteinpunkte auf der Verbindungslinie zwischen den beiden liegen. \n",
      "\n",
      "Daf\u00fcr berechnen wir f\u00fcr jede Verbindung zwischen A und B alle Abst\u00e4nde AC und BC. Daraus k\u00f6nnen wir dann r\u00fcckschl\u00fcsse ziehen, ob es Punkte gibt, die zwischen der Verbindungslinie liegen. Generell gibt es zwei Kriterien, die erf\u00fcllt sein m\u00fcssen:\n",
      "\n",
      "AC und BC m\u00fcssen k\u00fcrzer sein als AB (Kreis um jeweils den anderen Punkt)\n",
      "AC + BC muss kleiner als $ \\sqrt{AB^2 + d^2}+d$ sein. (Ellipse durch die \u00e4u\u00dfersten Eckpunkte, die wir aussortieren wollen)\n",
      "\n",
      "Mit dieser Methode sortieren wir um ung\u00fcnstigsten Fall (k\u00fcrzester Linker, schlechtester Punkt vom Protein, also ganz in der Mitte) noch Punkte aus, bei denen ein Punkt in 2d Entfernung vom Linker ist. Das ist ok, daf\u00fcr dass das so eine einfache Methode ist."
     ]
    },
    {
     "cell_type": "heading",
     "level": 4,
     "metadata": {},
     "source": [
      "TODO: Irgendwie mit hineinnehmen, ob das Protein gro\u00df ist (verschieden lange Linker nehmen), ob man viele Winkel gleich am Anfang angreifen kann (eine Iteration vllt. herausnehmen) und was man so machen kann, um Rechenzeit zu sparen."
     ]
    },
    {
     "cell_type": "code",
     "collapsed": false,
     "input": [
      "#displacement ist wirklich die Verschiebung im 3d raum, deshalb m\u00fcssen die L\u00e4ngen dreimal draufgemacht werden.\n",
      "def make_displacements(lengtharray, displacementarray):\n",
      "    oneaxis = np.size(lengtharray)\n",
      "    twoaxis = np.size(displacementarray, axis = 0)\n",
      "    \n",
      "    disptiled = np.tile(displacementarray, (oneaxis, 1))\n",
      "    lengthshaped = np.repeat(lengtharray, 3 * twoaxis)\n",
      "    lengthshaped = np.reshape(lengthshaped, (oneaxis * twoaxis, 3))\n",
      "    \n",
      "    return disptiled * lengthshaped\n",
      "    \n",
      "    "
     ],
     "language": "python",
     "metadata": {},
     "outputs": [],
     "prompt_number": 16
    },
    {
     "cell_type": "code",
     "collapsed": false,
     "input": [
      "def sort_out_by_protein(startingarray, endingarray, proteinpoints, mindist, beforearray = None):\n",
      "    '''\n",
      "    startingarray must be an array of (x,3) shape. so add it as: [startingarray]\n",
      "    beforearray is used, if also arrays before the connection need to be sliced. Then the boolarray is returned.\n",
      "    '''\n",
      "    if np.size(startingarray, axis=0) == 1:\n",
      "        starttemp = np.repeat(startingarray, np.size(endingarray, axis=0), axis =0)\n",
      "    else:\n",
      "        starttemp = startingarray\n",
      "    oneaxis = np.size(endingarray, axis = 0)    \n",
      "    twoaxis = np.size(proteinpoints, axis=0)    \n",
      "    #expand the arrays\n",
      "    startendlength = vectabsar(starttemp-endingarray)\n",
      "    startendlength = np.repeat(startendlength, twoaxis , axis =0)\n",
      "    starttemp = np.repeat(starttemp, twoaxis, axis =0)#immer die gleichen hintereinander\n",
      "    endtemp = np.repeat(endingarray, twoaxis, axis =0)\n",
      "    proteintemp = np.tile(proteinpoints, (oneaxis,1))\n",
      "    startprotlength = vectabsar(starttemp-proteintemp)\n",
      "    endprotlength = vectabsar(endtemp-proteintemp)\n",
      "    \n",
      "    \n",
      "    \n",
      "    #arrays for every connection a row and every proteinpoint a column\n",
      "    startendlength = np.reshape(startendlength, (oneaxis, twoaxis), \"C\")\n",
      "    startprotlength = np.reshape(startprotlength, (oneaxis, twoaxis), \"C\")\n",
      "    endprotlength = np.reshape(endprotlength, (oneaxis, twoaxis), \"C\")\n",
      "    \n",
      "    #make the slicingarray, True means sort out\n",
      "    connectpointbool = ((startprotlength < startendlength) & (endprotlength < startendlength) & \\\n",
      "    ((startprotlength + endprotlength) < (np.sqrt(np.square(startendlength)+mindist**2)+mindist)))\n",
      "    connectpointbool = np.invert(connectpointbool.any(axis = 1) )  \n",
      "    \n",
      "    \n",
      "    if beforearray == None:    \n",
      "        if np.size(startingarray, axis=0) == 1:\n",
      "            return [np.float16(startingarray), np.float16(endingarray[connectpointbool])]\n",
      "        else:\n",
      "            return [np.float16(startingarray[connectpointbool]), np.float16(endingarray[connectpointbool])]\n",
      "    else:\n",
      "        return (np.float16(beforearray[connectpointbool]), np.float16(startingarray[connectpointbool]),\\\n",
      "                np.float16(endingarray[connectpointbool]))"
     ],
     "language": "python",
     "metadata": {},
     "outputs": [],
     "prompt_number": 17
    },
    {
     "cell_type": "markdown",
     "metadata": {},
     "source": [
      "Wir fangen sowohl vorne als auch hinten an, mit allen Winkeln, die m\u00f6glich sind und allen L\u00e4ngen, die m\u00f6glich sind. Wir bekommen dann Arrays von den ersten Punkten und den letzten Punkten nach dem Protein."
     ]
    },
    {
     "cell_type": "code",
     "collapsed": false,
     "input": [
      "def naechstepunkte(anfangsarray, verschiebungsarray):\n",
      "    '''\n",
      "    gibt ein Array zur\u00fcck, das zu jedem Punkt, jede Verschiebung macht aus dem verschiebungsarray. Verschiebungsarray\n",
      "    sind einfach Vektoren, wie das verschoben werden kann\n",
      "    anfangsarray sind Vektoren, von denen wir ausgehen.\n",
      "    '''\n",
      "    laengeanfang = np.size(anfangsarray, axis=0)\n",
      "    laengeversch = np.size(verschiebungsarray, axis=0)\n",
      "    hilfanfang = np.float16(np.repeat(anfangsarray, laengeversch, axis=0))\n",
      "    hilfversch = np.float16(np.tile(verschiebungsarray, (laengeanfang, 1)))\n",
      "    return [hilfanfang, hilfanfang + hilfversch]\n",
      "\n",
      "def aussortierennachpunken(punktearray, proteinpunkte, minabstand, maxabstand):\n",
      "    '''\n",
      "    schmei\u00dft Punkte raus, die in dem Protein liegen, bzw. die zu weit vom Protein weg sind\n",
      "    gibt ein Bool Array raus, mit dem man das Punktearray slicen kann, vom Protein wird nur jeder 4 Punkt verwendet\n",
      "    '''\n",
      "    \n",
      "    temp1 = np.repeat(punktearray, np.size(proteinpunkte[::4], axis=0), axis =0)\n",
      "    temp2 = np.tile(proteinpunkte[::4], (np.size(punktearray, axis=0),1))\n",
      "    abstaende = np.reshape(abstandarrays_quadr(temp1, temp2), (np.size(punktearray, axis=0), np.size(proteinpunkte[::4], axis=0)))\n",
      "    minimaleabst = np.min(abstaende, axis=1)\n",
      "    keep = (minimaleabst < maxabstand**2) & (minimaleabst > minabstand**2)\n",
      "    return keep\n",
      "    "
     ],
     "language": "python",
     "metadata": {},
     "outputs": [],
     "prompt_number": 18
    },
    {
     "cell_type": "code",
     "collapsed": false,
     "input": [
      "def gaussian_normed(x, sig, mu):\n",
      "    return 1/(sig*np.sqrt(2*np.pi)) * np.exp(-0.5 * ((x-float(mu))/sig) ** 2)\n",
      "\n",
      "#in anglearray there are always the actual angles in it\n",
      "#IMPORTANT: here should never be a 0 in it\n",
      "def angle_weighing(anglearray, angletosequence = angletosequence):\n",
      "    #build function\n",
      "    returnarray = np.zeros(np.size(anglearray))\n",
      "    sigmas = []\n",
      "    for angledefinition in angletosequence:\n",
      "        returnarray = returnarray + gaussian_normed(anglearray, angledefinition[1] * np.pi / 180.,\n",
      "                                                    angledefinition[0] * np.pi / 180.)\n",
      "        sigmas.append(angledefinition[1] * np.pi / 180.)\n",
      "    minsigma = min(sigmas)\n",
      "    returnarray = 2 / (minsigma * np.sqrt(2 * np.pi)) - returnarray    \n",
      "    return returnarray\n",
      "\n",
      "#die Winkelfunktion muss man noch \u00fcberlegen, in the end it returns a on one normed value.\n",
      "def angle_function(StartingArray, MiddleArray, EndingArray):\n",
      "    vect1 = (StartingArray - MiddleArray)\n",
      "    vect2 = (EndingArray - MiddleArray)\n",
      "    #catch if there is 0 displacement\n",
      "    tocalculate = ((vect1 != np.array([0,0,0])).any(1)) & ((vect2 != np.array([0,0,0])).any(1))\n",
      "    vecttemp1 = vect1[tocalculate]\n",
      "    vecttemp2 = vect2[tocalculate]\n",
      "    catchrounding = skalar_product(vecttemp1, vecttemp2)/(vectabsar(vecttemp1)*vectabsar(vecttemp2))\n",
      "    #get rounding arrors\n",
      "    catchrounding[catchrounding > 1] = 1\n",
      "    catchrounding[catchrounding < -1] = -1\n",
      "    angles = np.arccos(catchrounding)\n",
      "    functionvalues = np.zeros(np.size(MiddleArray, axis = 0))\n",
      "    functionvalues[tocalculate] = angle_weighing(angles)\n",
      "    return functionvalues\n",
      "\n",
      "#needs a on one normed array of the weighing of the points, if not all points are equally weighed\n",
      "\n",
      "#TODO: Start can be array or just points, End has to be an array...\n",
      "def unpreferable_places(Start, End, ProteinPoints, AminoacidNumberArray, ToBeWeighedAAInput, WeighingofAA, substratelist):\n",
      "    if np.size(Start, axis = 0) ==1:\n",
      "        Start = np.repeat(Start, np.size(End, axis = 0), axis = 0)\n",
      "        \n",
      "    if np.size(End, axis = 0) ==1:\n",
      "        End = np.repeat(End, np.size(Start, axis = 0), axis = 0)\n",
      "    \n",
      "    #all the normal aminoacids from the arrays\n",
      "    SliceToBeWeighed = np.in1d(ToBeWeighedAAInput, AminoacidNumberArray)\n",
      "    ToBeWeighedAA = ToBeWeighedAAInput[SliceToBeWeighed]\n",
      "    \n",
      "    #reduce the points to their mean, so that every aminoacid is equally weighed and not long ones are more important than\n",
      "    #than short ones\n",
      "    Points = []\n",
      "    for number in ToBeWeighedAA:\n",
      "        Points.append(np.mean(ProteinPoints[AminoacidNumberArray == number], axis = 0))\n",
      "    Points = np.array(Points)\n",
      "    \n",
      "    toappendtoweighingofAA = np.array([])\n",
      "    #for the substrate\n",
      "    for sublist in substratelist:\n",
      "        if sublist[0] in AminoacidNumberArray:\n",
      "            activepoint = np.mean(ProteinPoints[AminoacidNumberArray == sublist[0]], axis = 0)\n",
      "            boolangles = test_accessible_angles(winkelarray, sublist[1], activepoint, ProteinPoints)\n",
      "            lengtharray = np.array([0.2, 0.3, 0.4, 0.45, 0.5, 0.55, 0.6, 0.7, 0.8, 1.]) * sublist[2]\n",
      "            hereangles = winkelarray[boolangles]\n",
      "            \n",
      "            dispnorm = [np.array([0,0,0])]\n",
      "            for winkel in hereangles:\n",
      "                temp = drehenxy(winkel[0], winkel[1], np.array([0,0,1]))\n",
      "                np.append(dispnorm, [temp], axis = 0)\n",
      "                \n",
      "            disps = make_displacements(lengtharray, dispnorm)\n",
      "            disps = disps[(disps != np.array([0,0,0])).any(axis = 1)]\n",
      "            #also add the activesite\n",
      "            if np.size(Points) == 0:\n",
      "                Points = np.concatenate((disps + activepoint, [activepoint]), axis = 0)\n",
      "            else:\n",
      "                Points = np.concatenate((Points, disps + activepoint, [activepoint]), axis = 0)\n",
      "            toappendtoweighingofAA = np.append(toappendtoweighingofAA, np.ones(np.size(disps, axis = 0) + 1) /\n",
      "                      (np.size(disps, axis = 0) + 1) * sublist[1])\n",
      "            \n",
      "    \n",
      "    calc = (Start != End).any(axis = 1)\n",
      "    Starttemp = Start[calc]\n",
      "    Endtemp = End[calc]\n",
      "    \n",
      "    DistanceFromConnection, oneaxis, twoaxis = distance_from_connection(Starttemp, Endtemp, Points)\n",
      "   \n",
      "    \n",
      "    if WeighingofAA == None:\n",
      "        WeighingofAA = np.ones(twoaxis)\n",
      "\n",
      "        \n",
      "    #the array is normalized here and gets the size of the points, there can be set in arbitrary numnbers for the weighing\n",
      "    WeighingofAAtemp = WeighingofAA[SliceToBeWeighed]\n",
      "    WeighingofAAtemp = np.concatenate((WeighingofAAtemp, toappendtoweighingofAA))\n",
      "    WeighingofAAtemp = (WeighingofAAtemp/np.mean(WeighingofAAtemp))\n",
      "    WeighingofAAtemp = np.tile(WeighingofAAtemp, (oneaxis,1))\n",
      "    WeighingofAAtemp = np.reshape(WeighingofAAtemp, (oneaxis, twoaxis))\n",
      "      \n",
      "        \n",
      "    #TODO: zu welcher Potenz soll das dann gehen?\n",
      "    ValueOfPoint = WeighingofAAtemp / (DistanceFromConnection ** 2)\n",
      "    \n",
      "    returns = np.zeros(np.size(Start, axis = 0))\n",
      "    returns[calc] = np.sum(ValueOfPoint, axis = 1)\n",
      "    return returns\n",
      "\n",
      "\n",
      "def distance_from_surface(beforearray, testarray, ProteinPoints, Afterpoint = None):\n",
      "    '''\n",
      "    calculates the distances of the testarrays points from the surface as just the minimum of the distances to all protein \n",
      "    points. It doesn't calculate the points that are equal to the points of the beforearray, so that these are not taken double.\n",
      "    And it checks that the points don't lie on the endpoint.\n",
      "    Returns the distance divided by the minimal distance for norming the values somehow.\n",
      "    '''\n",
      "    Horiz_Axis = np.size(ProteinPoints, axis = 0)\n",
      "    testsize = np.size(testarray, axis = 0)\n",
      "    \n",
      "    \n",
      "    if np.size(beforearray, axis = 0) == 1:\n",
      "        beforearray = np.repeat(beforearray, testsize, axis = 0)        \n",
      "        \n",
      "    calc = (beforearray != testarray).any(axis = 1)\n",
      "    if Afterpoint != None:\n",
      "        Afterpoint = np.repeat(Afterpoint, testsize, axis = 0)\n",
      "        calc = (Afterpoint != testarray).any(axis = 1) & calc\n",
      "    \n",
      "    FirstPoints = testarray[calc]\n",
      "    \n",
      "    Vert_Axis = np.size(FirstPoints, axis = 0)\n",
      "    Prottemp = np.tile(ProteinPoints, (Vert_Axis, 1))\n",
      "    if Vert_Axis == 0:\n",
      "        Distancesret = np.zeros(testsize)\n",
      "    else:\n",
      "        Firsttemp = np.repeat(FirstPoints, Horiz_Axis, axis = 0)\n",
      "        Distances = abstandarrays(Firsttemp, Prottemp)    \n",
      "        Distances = np.reshape(Distances, (Vert_Axis, Horiz_Axis))\n",
      "        Distances = np.min(Distances, axis = 1)\n",
      "        Distancesret = np.zeros(testsize)\n",
      "        #TODO: \u00dcber Potenz nachdenken\n",
      "        Distancesret[calc] = (Distances - minabstand) ** 2 / minabstand\n",
      "    \n",
      "    return Distancesret\n",
      "\n",
      "\n",
      "def weighing_function_rigids(StartPoint, FirstArray, SecondArray, ThirdArray, EndPoint,\\\n",
      "                      ProteinPoints, AminoacidNumberArray, ToBeWeighedAA, WeighingofAA = None, substratelist = None):\n",
      "    \n",
      "    LinkerLength = abstandpktzuarray(StartPoint, FirstArray) + abstandarrays(FirstArray, SecondArray) \\\n",
      "    + abstandarrays(SecondArray, ThirdArray) + abstandpktzuarray(EndPoint, ThirdArray) \n",
      "    \n",
      "    LengthNormed = LinkerLength / (abstand(StartPoint, EndPoint))\n",
      "    \n",
      "    #catch where there are no new points in the SecondArray\n",
      "    SecondAngles = angle_function(FirstArray, SecondArray, ThirdArray)\n",
      "    SecondAngles[SecondAngles == 0] = angle_function(StartPoint, SecondArray[SecondAngles == 0],\\\n",
      "                                                     ThirdArray[SecondAngles == 0])\n",
      "    \n",
      "    Angles = angle_function(StartPoint, FirstArray, SecondArray) + SecondAngles + \\\n",
      "    angle_function(SecondArray, ThirdArray, EndPoint)\n",
      "    \n",
      "    if ToBeWeighedAA == None:\n",
      "        SiteInfluenceNormed = np.zeros(np.size(Angles))\n",
      "    else:\n",
      "        SiteInfluenceNormed = unpreferable_places([StartPoint], FirstArray,\\\n",
      "                                                  ProteinPoints, AminoacidNumberArray, ToBeWeighedAA,\n",
      "                                                  WeighingofAA, substratelist) + \\\n",
      "        unpreferable_places(FirstArray, SecondArray, ProteinPoints, AminoacidNumberArray, ToBeWeighedAA,\n",
      "                            WeighingofAA, substratelist) + \\\n",
      "        unpreferable_places(SecondArray, ThirdArray, ProteinPoints, AminoacidNumberArray, ToBeWeighedAA,\n",
      "                            WeighingofAA, substratelist) + \\\n",
      "        unpreferable_places([EndPoint], ThirdArray, ProteinPoints, AminoacidNumberArray, ToBeWeighedAA,\n",
      "                            WeighingofAA, substratelist)\n",
      "    \n",
      "    DistancesFromProtein = (distance_from_surface([StartPoint], FirstArray, ProteinPoints) + \n",
      "                            distance_from_surface(FirstArray, SecondArray, ProteinPoints) +\n",
      "                            distance_from_surface(SecondArray, ThirdArray, ProteinPoints, [EndPoint]))\n",
      "    \n",
      "    weighedvalue = LengthNormed\n",
      "    \n",
      "    return (weighedvalue, LengthNormed * abstand(StartPoint, EndPoint), Angles,\n",
      "            SiteInfluenceNormed, DistancesFromProtein)\n",
      "\n",
      "\n",
      "def weighing_function_flex(StartPoint, FirstArray, SecondArray, ThirdArray, EndPoint,\\\n",
      "                      ProteinPoints, AminoacidNumberArray, ToBeWeighedAA, WeighingofAA = None, substratelist = None):\n",
      "    \n",
      "    LinkerLength = abstandpktzuarray(StartPoint, FirstArray) + abstandarrays(FirstArray, SecondArray) \\\n",
      "    + abstandarrays(SecondArray, ThirdArray) + abstandpktzuarray(EndPoint, ThirdArray) \n",
      "    \n",
      "    LengthNormed = LinkerLength / (abstand(StartPoint, EndPoint))\n",
      "    \n",
      "    Angles = angle_function(FirstArray, SecondArray, ThirdArray)\n",
      "    \n",
      "    if ToBeWeighedAA == None:\n",
      "        SiteInfluenceNormed = np.zeros(np.size(Angles))\n",
      "    else:\n",
      "        SiteInfluenceNormed = unpreferable_places(FirstArray, SecondArray, ProteinPoints, AminoacidNumberArray,\n",
      "                                                  ToBeWeighedAA, WeighingofAA, substratelist) + \\\n",
      "        unpreferable_places(SecondArray, ThirdArray, ProteinPoints, AminoacidNumberArray, ToBeWeighedAA, \n",
      "                            WeighingofAA, substratelist) \n",
      "    \n",
      "    DistancesFromProtein = distance_from_surface(FirstArray, SecondArray, ProteinPoints) \n",
      "    \n",
      "    weighedvalue = LengthNormed\n",
      "    \n",
      "    return (weighedvalue, LengthNormed * abstand(StartPoint, EndPoint), Angles,\n",
      "            SiteInfluenceNormed, DistancesFromProtein)\n",
      "#Aus dem Weighingstring nutzbare Form machen.\n",
      "\n",
      "\n",
      "def make_weighingarrays(Userstring):\n",
      "    \n",
      "    \"\"\"\n",
      "Userstring ist von der Form: 273,10 280-290,5 298,7,35.6  usw. (Leerzeichen trennen Eintr\u00e4ge, , for single residues\n",
      "- for ranges, second, for the diameter of the substrate)\n",
      "If nothing should be weighted, insert \"\"\n",
      "    \n",
      "    \"\"\"\n",
      "    if Userstring == \"\":\n",
      "        return None, None, None\n",
      "    else:\n",
      "        ShouldBeWeighed = []\n",
      "        Weighingarray = []\n",
      "        substratelist = []\n",
      "        Userlist = Userstring.split()\n",
      "        for entry in Userlist:\n",
      "            if \"-\" not in entry:\n",
      "                #- is not in entry\n",
      "                if len(entry.split(\",\")) == 2:\n",
      "                    ShouldBeWeighed.append(int(entry.split(\",\")[0]))\n",
      "                    Weighingarray.append(float(entry.split(\",\")[1]))\n",
      "                else:\n",
      "                    substratelist.append([int(entry.split(\",\")[0]), float(entry.split(\",\")[1]), float(entry.split(\",\")[2])])\n",
      "            else:\n",
      "                #appends every entry, so borders are included in the interval\n",
      "                ShouldBeWeighed += (range(int(entry.split(\",\")[0].split(\"-\")[0]),int(entry.split(\",\")[0].split(\"-\")[1])+1))\n",
      "                #for many values they should be normed in weighing. it's the sites that interest us, lists are multiplied.\n",
      "                Weighingarray += ([float(entry.split(\",\")[1])/ \\\n",
      "                                      (int(entry.split(\",\")[0].split(\"-\")[1])+1-int(entry.split(\",\")[0].split(\"-\")[0]))]* \\\n",
      "                                     (int(entry.split(\",\")[0].split(\"-\")[1])+1-int(entry.split(\",\")[0].split(\"-\")[0])))\n",
      "\n",
      "        return np.array(ShouldBeWeighed), np.array(Weighingarray), substratelist"
     ],
     "language": "python",
     "metadata": {},
     "outputs": [],
     "prompt_number": 19
    },
    {
     "cell_type": "code",
     "collapsed": false,
     "input": [
      "#TODO die L\u00e4nge genau bestimmen\n",
      "LengthOfAngle = 450 #in pm\n",
      "LENGTHOFANGLEKO = LengthOfAngle / kalib\n",
      "#hier muss man eintragen, welche Helix-linkerl\u00e4ngen in AS m\u00f6glich sind.\n",
      "linkerdatenbank = np.array([\"AEAAAK\", \"AEAAAKA\", \"AEAAAKAA\", \"AEAAAKEAAAK\", \"AEAAAKEAAAKA\", \"AEAAAKEAAAKEAAAKA\", \"AEAAAKEAAAKEAAAKEAAAKA\",\\\n",
      "                   \"AEAAAKEAAAKEAAAKEAAAKEAAAKA\"])\n",
      "linkerlaengenAS = []\n",
      "\n",
      "for i in range(len(linkerdatenbank)):\n",
      "    linkerlaengenAS.append(len(linkerdatenbank[i]))\n",
      "    \n",
      "linkerlaengenAS = np.array(linkerlaengenAS)\n",
      "linkerlaengenME = linkerlaengenAS * 150 + 2*LengthOfAngle #in pm\n",
      "linkerlaengenKO = linkerlaengenME / kalib #in koordinaten\n",
      "\n",
      "LENGTHACCURACY = 75\n",
      "LENGTHACCURACYKO = LENGTHACCURACY / kalib\n",
      "#TODO dar\u00fcber nachdenken, ob 1 wirklich richtig ist.\n",
      "SortOutLinkers = linkerlaengenKO < 1*maxvonanfang\n",
      "\n",
      "linkerlaengenAS = linkerlaengenAS[SortOutLinkers]\n",
      "linkerlaengenME = linkerlaengenME[SortOutLinkers]\n",
      "linkerlaengenKO = linkerlaengenKO[SortOutLinkers]\n",
      "linkerdatenbank = linkerdatenbank[SortOutLinkers]\n",
      "\n",
      "laengstesstueck = np.max(linkerlaengenKO)\n",
      "anzahllinker = np.size(linkerlaengenKO)\n",
      "\n",
      "maxlinkerAS = int(3 * max(maxvonanfang, maxvonende)) #pi*0.75/1.5 in Aminos\u00e4uren\n",
      "maxlinkerKO = maxlinkerAS * 150/kalib\n",
      "anzahleckenmax = maxlinkerKO / np.max(linkerlaengenKO)\n",
      "anzahleckenmin = abstandanfend / np.min(linkerlaengenKO)"
     ],
     "language": "python",
     "metadata": {},
     "outputs": [],
     "prompt_number": 20
    },
    {
     "cell_type": "code",
     "collapsed": false,
     "input": [
      "\n",
      "def sort_out_by_angle (startingarray, middlearray, endingarray, angletosequence):\n",
      "    '''\n",
      "    returns a boolian array which paths to keep, middle and endingarray must have same dimension, startingarray is only one \n",
      "    entry\n",
      "    '''\n",
      "    if np.size(startingarray, axis = 0) == 1:\n",
      "        startingexp = np.repeat(startingarray, np.size(middlearray, axis=0), axis =0)\n",
      "    else:\n",
      "        startingexp = startingarray\n",
      "    vect1 = (startingexp - middlearray)\n",
      "    vect2 = (endingarray - middlearray)\n",
      "    #catch if there is 0 displacement\n",
      "    tocalculate = ((vect1 != np.array([0,0,0])).any(1)) & ((vect2 != np.array([0,0,0])).any(1))\n",
      "    if tocalculate.any():\n",
      "        vect1 = vect1[tocalculate]\n",
      "        vect2 = vect2[tocalculate]\n",
      "        catchrounding = skalar_product(vect1, vect2)/(vectabsar(vect1)*vectabsar(vect2))\n",
      "        #get rounding arrors\n",
      "        catchrounding[catchrounding > 1] = 1\n",
      "        catchrounding[catchrounding < -1] = -1\n",
      "        angles = np.arccos(catchrounding)\n",
      "        keep = np.bool8(np.zeros(np.size(angles)))\n",
      "        #here can be defined which angles should be taken into account\n",
      "        for anglepreferences in angletosequence:\n",
      "            keep = (keep | ((angles > ((anglepreferences[0]-anglepreferences[1]) * np.pi/180)) &\n",
      "                           (angles < ((anglepreferences[0]+anglepreferences[1]) * np.pi/180))))\n",
      "        tempmid = middlearray[tocalculate]\n",
      "        tempend = endingarray[tocalculate]\n",
      "        tocalctemp = tocalculate == False\n",
      "        tempmid = np.concatenate((tempmid[keep], middlearray[tocalctemp]), axis = 0)\n",
      "        tempend = np.concatenate((tempend[keep], endingarray[tocalctemp]), axis = 0)\n",
      "        \n",
      "        if np.size(startingarray, axis = 0) == 1: \n",
      "            return (tempmid, tempend)\n",
      "        else:\n",
      "            tempstart = np.concatenate((tempstart[keep], startingarray[tocalctemp]), axis = 0)\n",
      "            return tempstart, tempmid, tempend\n",
      "    else:\n",
      "        if np.size(startingarray, axis = 0) == 1:\n",
      "            return middlearray, endingarray\n",
      "        else:\n",
      "            return startingarray, middlearray, endingarray"
     ],
     "language": "python",
     "metadata": {},
     "outputs": [],
     "prompt_number": 21
    },
    {
     "cell_type": "code",
     "collapsed": false,
     "input": [
      "def make_small_generator(PointArray, repetition, RAM, ProteinArray = None):\n",
      "    '''\n",
      "    RAM in GByte,\n",
      "    repetition, how often is the largest array repeated\n",
      "    '''\n",
      "    AvailableRAM = RAM * 1073741824 #in BytesWaBytesWarning\n",
      "    \n",
      "    \n",
      "    try:\n",
      "        PointSize = PointArray.nbytes    \n",
      "    except:\n",
      "        PointSize = PointArray * 2 #assumes, that it is the size of the array, and this is float 16\n",
      "    \n",
      "    if ProteinArray != None:\n",
      "        proteinsize = np.size(ProteinArray, axis = 0)\n",
      "    else:\n",
      "        proteinsize = 1\n",
      "        \n",
      "    UsedMem = PointSize * proteinsize * repetition\n",
      "    \n",
      "    return (int(UsedMem) / AvailableRAM) + 1\n",
      "\n"
     ],
     "language": "python",
     "metadata": {},
     "outputs": [],
     "prompt_number": 22
    },
    {
     "cell_type": "code",
     "collapsed": false,
     "input": [
      "#wie genau m\u00fcssen sich die St\u00fccke treffen wird durch hitgenauig bestimmt, es ist sin(5\u00b0) * maximale linkerl\u00e4nge\n",
      "#+ einen Helixanteil\n",
      "#~500s\n",
      "hitgenauig = 0.0436 * laengstesstueck\n",
      "\n",
      "\n",
      "def sort_out_by_distance(startingpoints, endingpoints, firstpoints, distance, variation):\n",
      "    '''\n",
      "    returns three arrays with all possible paths, made out of all possible combinations startingpoints to endingpoints\n",
      "    that are in a certain distance\n",
      "    '''\n",
      "    \n",
      "    starttemp = np.float16(np.repeat(startingpoints, np.size(endingpoints, axis=0), axis =0))\n",
      "    endtemp = np.float16(np.tile(endingpoints, (np.size(startingpoints, axis=0),1)))\n",
      "    abstaende = abstandarrays_quadr(starttemp, endtemp)\n",
      "    keep = ((abstaende > (distance-variation)**2) & (abstaende < (distance+variation)**2))\n",
      "    firsttemp = np.float16(np.repeat(firstpoints, np.size(endingpoints, axis=0), axis =0))\n",
      "    return [firsttemp[keep], starttemp[keep], endtemp[keep]]"
     ],
     "language": "python",
     "metadata": {},
     "outputs": [],
     "prompt_number": 23
    },
    {
     "cell_type": "code",
     "collapsed": false,
     "input": [
      "def sort_out_by_length (comefrompoints, gotopoints, linkerlaengen):\n",
      "    '''\n",
      "    returns a boolean array, with which you can slice the points, True means the values are kept\n",
      "    comefrompoints can be either an x * 3 array or just a three array, then it is elongated\n",
      "    '''\n",
      "    \n",
      "    if np.size(comefrompoints) == 3:\n",
      "        comefrompoints = np.repeat([comefrompoints], np.size(gotopoints, axis = 0), axis = 0)\n",
      "    else:\n",
      "        if np.size(gotopoints) == 3:\n",
      "            gotopoints = np.repeat([gotopoints], np.size(comefrompoints, axis = 0), axis = 0)\n",
      "    \n",
      "    arraylengthtemp = np.size(comefrompoints, axis = 0)\n",
      "    lonetemp = abstandarrays(comefrompoints, gotopoints)\n",
      "    #True means keep\n",
      "    sortouttemp = np.bool8(np.zeros(arraylengthtemp))\n",
      "    \n",
      "    for LAENGE in linkerlaengen:\n",
      "        sortouttemp = sortouttemp | ((lonetemp < (LAENGE + LENGTHACCURACYKO)) & (lonetemp > (LAENGE - LENGTHACCURACYKO)))\n",
      "        \n",
      "    return sortouttemp"
     ],
     "language": "python",
     "metadata": {},
     "outputs": [],
     "prompt_number": 24
    },
    {
     "cell_type": "heading",
     "level": 4,
     "metadata": {},
     "source": [
      "Gestartet am 9.8. um 15:15 Uhr, 15:55 Uhr bei den Dreieckigen Linkern Versuch eines kompletten Durchlaufs, dann dreistunden f\u00fcr die dreieckigen Linker\n",
      "\n",
      "Linkerohneeckeflex: 11000 erzeugt, bereits erstmal aussortiert.\n",
      "Linkermiteckeflex:  insgesamt 35000 flexible (also 24000 hinzugekommen)\n",
      "\n",
      "erstepunkte 2200 erzeugt, \n",
      "drittepunkte werden 850 000 erzeugt"
     ]
    },
    {
     "cell_type": "code",
     "collapsed": false,
     "input": [
      "def length_to_sequence(lengtharray, linkerdatenbank, linkerlaengen):\n",
      "    #prepare for adding strings always\n",
      "    addsequencearray = np.zeros(np.size(lengtharray), dtype=str)\n",
      "    addsequencearray = np.array(addsequencearray, dtype=np.object)\n",
      "    \n",
      "    for i in range(len(linkerlaengen)):\n",
      "        setseqbool = ((lengtharray >= linkerlaengen[i] - LENGTHACCURACYKO) &\n",
      "                      (lengtharray <= (linkerlaengen[i] + LENGTHACCURACYKO)))\n",
      "        addsequencearray[setseqbool] = addsequencearray[setseqbool] + linkerdatenbank[i]\n",
      "        \n",
      "    temp = (addsequencearray == \"\") & (lengtharray != 0.)\n",
      "    addsequencearray[temp] = addsequencearray[temp] + \"XXX\" #TODO nur zum Testen, das muss noch raus!\n",
      "    \n",
      "    return addsequencearray\n",
      "\n",
      "def angle_to_sequence(anglearray, angletosequence, angleseparators):\n",
      "    addsequencearray = np.zeros(np.size(anglearray), dtype=str)\n",
      "    addsequencearray = np.array(addsequencearray, dtype=np.object)\n",
      "    \n",
      "    for i in range(len(angletosequence)):\n",
      "        setseqbool = (anglearray > angleseparators[i]) & (anglearray < angleseparators[i + 1])\n",
      "        addsequencearray[setseqbool] = addsequencearray[setseqbool] + angletosequence[i][2]\n",
      "    return addsequencearray\n",
      "\n",
      "#returns the weightingarrays and the sequencearrays, concatenated\n",
      "def translate_paths_to_sequences(startpoint, firstflex, secondflex, thirdflex, firstrig, secondrig, thirdrig,\n",
      "                                 endpoint, linkerdatenbank, linkerlaengenKO, angletosequence, angleseparators,\n",
      "                                 weightflex, weightrig):\n",
      "    \n",
      "    if weightflex != None:\n",
      "        #flexible linkers\n",
      "        sequenceflex = np.zeros(np.size(firstflex, axis = 0), dtype=str)\n",
      "        sequenceflex = np.array(sequenceflex, dtype=np.object)\n",
      "        sequenceflex = sequenceflex + ScarsAtStartseq\n",
      "\n",
      "        withoutanglebool = (firstpointsflexible == secondpointsflexible).all(axis = 1)\n",
      "\n",
      "        sequenceflex[withoutanglebool] = sequenceflex[withoutanglebool] + \\\n",
      "        length_to_sequence(abstandarrays(secondflex[withoutanglebool], thirdflex[withoutanglebool]), \n",
      "                           linkerdatenbank, linkerlaengenKO - (2 * LENGTHOFANGLEKO))\n",
      "\n",
      "\n",
      "        withanglebool = np.invert(withoutanglebool)\n",
      "\n",
      "        sequenceflex[withanglebool] = sequenceflex[withanglebool] + \\\n",
      "        length_to_sequence(abstandarrays(firstflex[withanglebool], secondflex[withanglebool]),\n",
      "                           linkerdatenbank, linkerlaengenKO - LENGTHOFANGLEKO)\n",
      "\n",
      "        sequenceflex[withanglebool] = sequenceflex[withanglebool] + \\\n",
      "        angle_to_sequence(angle_between_connections_array(firstflex[withanglebool], secondflex[withanglebool], \n",
      "                                                          thirdflex[withanglebool]), angletosequence, angleseparators)\n",
      "\n",
      "        sequenceflex[withanglebool] = sequenceflex[withanglebool] + \\\n",
      "        length_to_sequence(abstandarrays(secondflex[withanglebool], thirdflex[withanglebool]), linkerdatenbank, \n",
      "                           linkerlaengenKO - LENGTHOFANGLEKO)\n",
      "    \n",
      "    if weightrig != None:\n",
      "        #rigid linkers\n",
      "        sequencerig = np.zeros(np.size(firstrig, axis = 0), dtype=str)\n",
      "        sequencerig = np.array(sequencerig, dtype=np.object)\n",
      "        sequencerig = sequencerig + ScarsAtStartseq\n",
      "\n",
      "\n",
      "        sequencerig = sequencerig + length_to_sequence(abstandpktzuarray(startpoint, firstrig) -\n",
      "                                                       FLEXIBLEATSTARTKO + LENGTHOFANGLEKO,  linkerdatenbank, linkerlaengenKO)\n",
      "        sequencerig = sequencerig + angle_to_sequence(angle_between_connections_array([startpoint], firstrig, secondrig), \n",
      "                                                      angletosequence, angleseparators)\n",
      "\n",
      "        sequencerig = sequencerig + length_to_sequence(abstandarrays(firstrig, secondrig), linkerdatenbank, linkerlaengenKO)\n",
      "        sequencerig = sequencerig + angle_to_sequence(angle_between_connections_array(firstrig, secondrig, thirdrig), \n",
      "                                                      angletosequence, angleseparators)\n",
      "\n",
      "        sequencerig = sequencerig + length_to_sequence(abstandarrays(secondrig, thirdrig), linkerdatenbank, linkerlaengenKO)\n",
      "        sequencerig = sequencerig + angle_to_sequence(angle_between_connections_array(secondrig, thirdrig, [endpoint]), \n",
      "                                                      angletosequence, angleseparators)\n",
      "\n",
      "        sequencerig = sequencerig + length_to_sequence(abstandpktzuarray(endpoint, thirdrig) -\n",
      "                                                       FLEXIBLEATENDKO + LENGTHOFANGLEKO,  linkerdatenbank, linkerlaengenKO)\n",
      "    \n",
      "\n",
      "    if weightrig != None:\n",
      "        if weightflex != None:\n",
      "            sequence = np.concatenate((sequenceflex, sequencerig))\n",
      "            retweight = np.concatenate((weightflex, weightrig), axis = 1)\n",
      "        else:\n",
      "            sequence = sequencerig\n",
      "            retweight = weightrig\n",
      "    elif weightflex != None:\n",
      "        sequence = sequenceflex\n",
      "        retweight = weightflex\n",
      "    \n",
      "        \n",
      "    \n",
      "    sequence = sequence + ScarsAtEndseq\n",
      "    if (weightrig != None) | (weightflex != None):\n",
      "        return sequence , retweight,\\\n",
      "    np.concatenate((firstflex, firstrig), axis = 0), np.concatenate((secondflex, secondrig), axis = 0),\\\n",
      "    np.concatenate((thirdflex, thirdrig), axis = 0)\n",
      "    else:\n",
      "        print \"There were absolutely no linkers found.\"\n",
      "        return None, None, None, None, None"
     ],
     "language": "python",
     "metadata": {},
     "outputs": [],
     "prompt_number": 25
    },
    {
     "cell_type": "heading",
     "level": 3,
     "metadata": {},
     "source": [
      "Ab hier kann man nach oben starten, wenn es einen Fehler gab."
     ]
    },
    {
     "cell_type": "code",
     "collapsed": false,
     "input": [
      "#wir machen Arrays aus den Verschiebungen, f\u00fcr alle drei auf einmal, alle normiert\n",
      "startdisp = np.array([[0,0,0]])\n",
      "enddisp = np.array([[0,0,0]])\n",
      "dispnorm = np.array([[0,0,0]])\n",
      "for winkel in winkelarray:\n",
      "    \n",
      "    temp = drehenxy(winkel[0], winkel[1], np.array([0,0,1]))\n",
      "    \n",
      "    dispnorm = np.append(dispnorm, [temp], axis=0)\n",
      "    \n",
      "    if any((moeglichewinkelanfang[:]==winkel).all(1)):\n",
      "        startdisp = np.append(startdisp, [temp], axis=0)\n",
      "    if any((moeglichewinkelende[:]==winkel).all(1)):\n",
      "        enddisp = np.append(enddisp, [temp], axis=0)"
     ],
     "language": "python",
     "metadata": {},
     "outputs": [],
     "prompt_number": 26
    },
    {
     "cell_type": "markdown",
     "metadata": {},
     "source": [
      "We insert new possible linkers, these are either straight connections between the ends with flexible parts or with maximum one angle in the linker. The point is, that here the flexible ends are estimated better. "
     ]
    },
    {
     "cell_type": "code",
     "collapsed": false,
     "input": [
      "#without any edge, \n",
      "#+1 because of range\n",
      "\n",
      "if (ScarsAtStart + MissingAtStart) > 3:\n",
      "    FLEXATSTART = np.logspace(np.log10(1.5), np.log10(ScarsAtStart + MissingAtStart), num=4) * LengthOfFlexibleAA\n",
      "else:\n",
      "    FLEXATSTART = np.append(np.arange(2, (ScarsAtStart + MissingAtStart+1)), 1.5 ) * LengthOfFlexibleAA\n",
      "    \n",
      "if (ScarsAtEnd + MissingAtEnd) > 3:\n",
      "    FLEXATEND = np.logspace(np.log10(1.5), np.log10(ScarsAtEnd + MissingAtEnd), num=4) * LengthOfFlexibleAA\n",
      "else:\n",
      "    FLEXATEND = np.append(np.arange(2, (ScarsAtEnd + MissingAtEnd+1)), 1.5 ) * LengthOfFlexibleAA\n",
      "\n",
      "secondpointsflexible = firstpointsflexible = np.float16(make_displacements(FLEXATSTART, startdisp) + anfangspunkt)\n",
      "thirdpointsflexible = np.float16(make_displacements(FLEXATEND, enddisp) + endpunkt)\n",
      "\n",
      "amountofthirdpoints = np.size(thirdpointsflexible, axis = 0)\n",
      "amountofsecondpoints = np.size(secondpointsflexible, axis = 0)\n",
      "\n",
      "#reduce the amount of points in the protein, that should be checked, as a cylinder around start -> end\n",
      "heretousepoints = pkte[np.ravel(distance_from_connection([anfangspunkt], [endpunkt], pkte)[0] < \\\n",
      "                       (minabstand + np.max(np.concatenate((FLEXATSTART, FLEXATEND)))))]\n",
      "\n",
      "\n",
      "MakeSmall = make_small_generator(np.size(secondpointsflexible) * np.size(thirdpointsflexible),\n",
      "                                 1.5 , 6 , ProteinArray = heretousepoints)\n",
      "\n",
      "teiler = np.size(secondpointsflexible, axis=0)/(MakeSmall)\n",
      "\n",
      "for i in range(0,(MakeSmall)):\n",
      "\n",
      "    temp1, temp2, temp3 = sort_out_by_distance(secondpointsflexible[i*teiler:(i+1)*teiler], thirdpointsflexible,\n",
      "                                firstpointsflexible[i*teiler:(i+1)*teiler], abstandanfend, 300 / kalib) \n",
      "    #300 ist etwa die H\u00e4lfte des Unterschieds zwischen zwei Linkerst\u00fccken\n",
      "    \n",
      "    keep = (distance_from_connection(temp2, temp3, heretousepoints)[0] >= minabstand).all(axis = 1)\n",
      "    \n",
      "    temp1 = temp2 = temp2[keep]\n",
      "    temp3 = temp3[keep]\n",
      "    \n",
      "    if i == 0:\n",
      "        firstpointsflexibletemp, secondpointsflexibletemp, thirdpointsflexibletemp = temp1, temp2, temp3\n",
      "    else:\n",
      "        firstpointsflexibletemp = np.concatenate((firstpointsflexibletemp, temp1), axis =0)\n",
      "        secondpointsflexibletemp = np.concatenate((secondpointsflexibletemp, temp2), axis =0)\n",
      "        thirdpointsflexibletemp = np.concatenate((thirdpointsflexibletemp, temp3), axis =0)\n",
      "\n",
      "if (i+1)*teiler < np.size(secondpointsflexible, axis=0):\n",
      "    temp1, temp2, temp3 = sort_out_by_distance(secondpointsflexible[(i+1)*teiler:], thirdpointsflexible,\n",
      "                                firstpointsflexible[(i+1)*teiler:], abstandanfend, 300 / kalib)\n",
      "\n",
      "    keep = (distance_from_connection(temp2, temp3, heretousepoints)[0] >= minabstand).all(axis = 1)\n",
      "\n",
      "    temp1 = temp2 = temp2[keep]\n",
      "    temp3 = temp3[keep]\n",
      "\n",
      "    firstpointsflexible  = np.concatenate((firstpointsflexibletemp,  temp1), axis =0)\n",
      "    secondpointsflexible = np.concatenate((secondpointsflexibletemp, temp2), axis =0)\n",
      "    thirdpointsflexible  = np.concatenate((thirdpointsflexibletemp,  temp3), axis =0)\n",
      "else:\n",
      "    firstpointsflexible  = firstpointsflexibletemp\n",
      "    secondpointsflexible = secondpointsflexibletemp\n",
      "    thirdpointsflexible  = thirdpointsflexibletemp"
     ],
     "language": "python",
     "metadata": {},
     "outputs": [],
     "prompt_number": 21
    },
    {
     "cell_type": "code",
     "collapsed": false,
     "input": [
      "np.shape(firstpointsflexible)"
     ],
     "language": "python",
     "metadata": {},
     "outputs": [
      {
       "metadata": {},
       "output_type": "pyout",
       "prompt_number": 22,
       "text": [
        "(0, 3)"
       ]
      }
     ],
     "prompt_number": 22
    },
    {
     "cell_type": "markdown",
     "metadata": {},
     "source": [
      "now it should be tried to link it with one edge in the linker."
     ]
    },
    {
     "cell_type": "code",
     "collapsed": false,
     "input": [
      "heretousepoints = pkte[abstandpktzuarray( (anfangspunkt + endpunkt) / 2., pkte) < (abstandanfend / 2. + \n",
      "                                                                                   max(FLEXIBLEATSTARTKO, FLEXIBLEATENDKO))]\n",
      "#at about 3h running\n",
      "#calculate all the lengths that can produce the distance between beginning and end in an rectangular triangle\n",
      "linkertriangle = linkerlaengenKO[(linkerlaengenKO - LENGTHOFANGLEKO) < abstandanfend] - LENGTHOFANGLEKO\n",
      "linkertriangleone = np.repeat(linkertriangle, np.size(linkertriangle, axis = 0))\n",
      "linkertriangletwo = np.tile(linkertriangle, np.size(linkertriangle, axis = 0))\n",
      "\n",
      "linkertrianglehypoth = np.sqrt(linkertriangleone ** 2 + linkertriangletwo ** 2)\n",
      "\n",
      "keeptriangles = ((linkertrianglehypoth > (abstandanfend - FLEXIBLEATENDKO - FLEXIBLEATSTARTKO)) & \n",
      "                 (linkertrianglehypoth < (abstandanfend + FLEXIBLEATENDKO + FLEXIBLEATSTARTKO)))\n",
      "\n",
      "linkertriangleone = linkertriangleone[keeptriangles]\n",
      "linkertriangletwo = linkertriangletwo[keeptriangles]\n",
      "\n",
      "triangleangles = np.around(np.arctan(linkertriangletwo / linkertriangleone), decimals=2)\n",
      "#now we produce all the possible points, that lie on a sphere\n",
      "\n",
      "displacements = dispnorm * abstandanfend / 2\n",
      "\n",
      "allpointsfortriangles =  (anfangspunkt + endpunkt) / 2. + displacements\n",
      "amountoftriangles = np.size(allpointsfortriangles, axis = 0)\n",
      "\n",
      "anglesintriangle = angle_between_connections_array(np.repeat([endpunkt], amountoftriangles, axis = 0),\n",
      "                                                   np.repeat([anfangspunkt], amountoftriangles, axis = 0),\n",
      "                                                   allpointsfortriangles)\n",
      "anglesintriangle = np.around(anglesintriangle, decimals=2)\n",
      "\n",
      "\n",
      "allpointsfortriangles = allpointsfortriangles[np.in1d(anglesintriangle, triangleangles)]\n",
      "#450 unique points\n",
      "\n",
      "#get the displacement angles\n",
      "  \n",
      "\n",
      "dispnormtribeg = np.array([0,0,0])\n",
      "for angle in moeglichewinkelanfang:\n",
      "    temp = drehenxy(angle[0], angle[1], np.array([0,0,1]))\n",
      "    dispnormtribeg = np.append(dispnorm, [temp], axis=0)\n",
      "    \n",
      "dispnormtriend = np.array([0,0,0])\n",
      "for angle in moeglichewinkelende:\n",
      "    temp = drehenxy(angle[0], angle[1], np.array([0,0,1]))\n",
      "    dispnormtriend = np.append(dispnorm, [temp], axis=0)\n",
      "    \n",
      "\n",
      "\n",
      "triangleshiftsbeg = np.float16(make_displacements(FLEXATSTART, dispnormtribeg))\n",
      "\n",
      "\n",
      "amountoftriangleshiftsbeg = np.size(triangleshiftsbeg, axis = 0)\n",
      "triangleshiftsbeg = np.repeat(triangleshiftsbeg, np.size(allpointsfortriangles, axis = 0), axis = 0)\n",
      "allpointsfortriangles = np.tile(allpointsfortriangles, (amountoftriangleshiftsbeg, 1))\n",
      "\n",
      "firstpointstriangle  = np.float16(triangleshiftsbeg + anfangspunkt)\n",
      "secondpointstriangle = np.float16(triangleshiftsbeg + allpointsfortriangles)\n",
      "\n",
      "print np.shape(firstpointstriangle)\n",
      "\n",
      "keep = sort_out_by_length(firstpointstriangle, secondpointstriangle, linkertriangle)\n",
      "\n",
      "firstpointstriangle = firstpointstriangle[keep]\n",
      "secondpointstriangle = secondpointstriangle[keep]\n",
      "\n",
      "\n",
      "\n",
      "\n",
      "MakeSmall = make_small_generator(secondpointstriangle, 12, 6, ProteinArray = heretousepoints)\n",
      "\n",
      "teiler = np.size(secondpointstriangle, axis=0)/(MakeSmall)\n",
      "\n",
      "#about 250s per MakeSmall run\n",
      "blatime = time.time()\n",
      "\n",
      "for i in range(0, (MakeSmall +1)):\n",
      "    if i == MakeSmall:\n",
      "        temp1 = firstpointstriangle[i * teiler:]\n",
      "        temp2 = secondpointstriangle[i * teiler:]\n",
      "    else:\n",
      "        temp1 = firstpointstriangle[i*teiler:(i+1)*teiler]\n",
      "        temp2 = secondpointstriangle[i*teiler:(i+1)*teiler]\n",
      "    #at first sort all connections out, of which the anglepoint is too near, or too far away from the protein.\n",
      "\n",
      "    keep = aussortierennachpunken(temp2, heretousepoints, minabstand, maxabstand)\n",
      "    \n",
      "    temp1 = temp1[keep]    \n",
      "    temp2 = temp2[keep]\n",
      "    \n",
      "    #then sort out, if the connection is too near at the protein\n",
      "    keep = (distance_from_connection(temp1, temp2, heretousepoints)[0] >= minabstand).all(axis = 1)\n",
      "    \n",
      "    temp1 = temp1[keep]    \n",
      "    temp2 = temp2[keep]\n",
      "    \n",
      "    if i == 0:\n",
      "        firstpointstritemp, secondpointstritemp = temp1, temp2\n",
      "    else:\n",
      "        firstpointstritemp = np.concatenate((firstpointstritemp, temp1), axis =0)\n",
      "        secondpointstritemp = np.concatenate((secondpointstritemp, temp2), axis =0)\n",
      "        print time.time() - blatime\n",
      "    \n",
      "firstpointstriangle = firstpointstritemp\n",
      "secondpointstriangle = secondpointstritemp\n",
      "\n",
      "print np.shape(firstpointstriangle)"
     ],
     "language": "python",
     "metadata": {},
     "outputs": [
      {
       "output_type": "stream",
       "stream": "stdout",
       "text": [
        "(5120556, 3)\n",
        "150.559090853"
       ]
      },
      {
       "output_type": "stream",
       "stream": "stdout",
       "text": [
        "\n",
        "226.95251298"
       ]
      },
      {
       "output_type": "stream",
       "stream": "stdout",
       "text": [
        "\n",
        "304.293953896"
       ]
      },
      {
       "output_type": "stream",
       "stream": "stdout",
       "text": [
        "\n",
        "381.576031923"
       ]
      },
      {
       "output_type": "stream",
       "stream": "stdout",
       "text": [
        "\n",
        "458.578308821"
       ]
      },
      {
       "output_type": "stream",
       "stream": "stdout",
       "text": [
        "\n",
        "535.811970949"
       ]
      },
      {
       "output_type": "stream",
       "stream": "stdout",
       "text": [
        "\n",
        "613.795454979"
       ]
      },
      {
       "output_type": "stream",
       "stream": "stdout",
       "text": [
        "\n",
        "691.989985943"
       ]
      },
      {
       "output_type": "stream",
       "stream": "stdout",
       "text": [
        "\n",
        "770.52926898"
       ]
      },
      {
       "output_type": "stream",
       "stream": "stdout",
       "text": [
        "\n",
        "849.122263908"
       ]
      },
      {
       "output_type": "stream",
       "stream": "stdout",
       "text": [
        "\n",
        "928.261852026"
       ]
      },
      {
       "output_type": "stream",
       "stream": "stdout",
       "text": [
        "\n",
        "31940.743237"
       ]
      },
      {
       "output_type": "stream",
       "stream": "stdout",
       "text": [
        "\n",
        "32020.1830759"
       ]
      },
      {
       "output_type": "stream",
       "stream": "stdout",
       "text": [
        "\n",
        "32100.284688"
       ]
      },
      {
       "output_type": "stream",
       "stream": "stdout",
       "text": [
        "\n",
        "32180.31726"
       ]
      },
      {
       "output_type": "stream",
       "stream": "stdout",
       "text": [
        "\n",
        "32260.2477119"
       ]
      },
      {
       "output_type": "stream",
       "stream": "stdout",
       "text": [
        "\n",
        "32340.5583169"
       ]
      },
      {
       "output_type": "stream",
       "stream": "stdout",
       "text": [
        "\n",
        "32421.0480249"
       ]
      },
      {
       "output_type": "stream",
       "stream": "stdout",
       "text": [
        "\n",
        "32501.86096"
       ]
      },
      {
       "output_type": "stream",
       "stream": "stdout",
       "text": [
        "\n",
        "32583.425787"
       ]
      },
      {
       "output_type": "stream",
       "stream": "stdout",
       "text": [
        "\n",
        "33941.9127018"
       ]
      },
      {
       "output_type": "stream",
       "stream": "stdout",
       "text": [
        "\n",
        "34022.54652"
       ]
      },
      {
       "output_type": "stream",
       "stream": "stdout",
       "text": [
        "\n",
        "34104.141943"
       ]
      },
      {
       "output_type": "stream",
       "stream": "stdout",
       "text": [
        "\n",
        "34187.1242728"
       ]
      },
      {
       "output_type": "stream",
       "stream": "stdout",
       "text": [
        "\n",
        "34268.141598"
       ]
      },
      {
       "output_type": "stream",
       "stream": "stdout",
       "text": [
        "\n",
        "34349.752465"
       ]
      },
      {
       "output_type": "stream",
       "stream": "stdout",
       "text": [
        "\n",
        "34429.0902579"
       ]
      },
      {
       "output_type": "stream",
       "stream": "stdout",
       "text": [
        "\n",
        "34508.4493968"
       ]
      },
      {
       "output_type": "stream",
       "stream": "stdout",
       "text": [
        "\n",
        "34588.133693"
       ]
      },
      {
       "output_type": "stream",
       "stream": "stdout",
       "text": [
        "\n",
        "34667.934099"
       ]
      },
      {
       "output_type": "stream",
       "stream": "stdout",
       "text": [
        "\n",
        "34747.1624548"
       ]
      },
      {
       "output_type": "stream",
       "stream": "stdout",
       "text": [
        "\n",
        "34826.1536899"
       ]
      },
      {
       "output_type": "stream",
       "stream": "stdout",
       "text": [
        "\n",
        "34905.5626328"
       ]
      },
      {
       "output_type": "stream",
       "stream": "stdout",
       "text": [
        "\n",
        "34983.0903418"
       ]
      },
      {
       "output_type": "stream",
       "stream": "stdout",
       "text": [
        "\n",
        "35061.303936"
       ]
      },
      {
       "output_type": "stream",
       "stream": "stdout",
       "text": [
        "\n",
        "35139.0174248"
       ]
      },
      {
       "output_type": "stream",
       "stream": "stdout",
       "text": [
        "\n",
        "35216.3116648"
       ]
      },
      {
       "output_type": "stream",
       "stream": "stdout",
       "text": [
        "\n",
        "35292.7618358"
       ]
      },
      {
       "output_type": "stream",
       "stream": "stdout",
       "text": [
        "\n",
        "35370.866462"
       ]
      },
      {
       "output_type": "stream",
       "stream": "stdout",
       "text": [
        "\n",
        "35448.1659119"
       ]
      },
      {
       "output_type": "stream",
       "stream": "stdout",
       "text": [
        "\n",
        "35522.928174"
       ]
      },
      {
       "output_type": "stream",
       "stream": "stdout",
       "text": [
        "\n",
        "35598.2444088"
       ]
      },
      {
       "output_type": "stream",
       "stream": "stdout",
       "text": [
        "\n",
        "35681.3261878"
       ]
      },
      {
       "output_type": "stream",
       "stream": "stdout",
       "text": [
        "\n",
        "35765.2691209"
       ]
      },
      {
       "output_type": "stream",
       "stream": "stdout",
       "text": [
        "\n",
        "35845.896723"
       ]
      },
      {
       "output_type": "stream",
       "stream": "stdout",
       "text": [
        "\n",
        "35927.7843349"
       ]
      },
      {
       "output_type": "stream",
       "stream": "stdout",
       "text": [
        "\n",
        "36011.4318559"
       ]
      },
      {
       "output_type": "stream",
       "stream": "stdout",
       "text": [
        "\n",
        "36096.2111449"
       ]
      },
      {
       "output_type": "stream",
       "stream": "stdout",
       "text": [
        "\n",
        "36182.5077178"
       ]
      },
      {
       "output_type": "stream",
       "stream": "stdout",
       "text": [
        "\n",
        "36265.9492769"
       ]
      },
      {
       "output_type": "stream",
       "stream": "stdout",
       "text": [
        "\n",
        "36350.0669849"
       ]
      },
      {
       "output_type": "stream",
       "stream": "stdout",
       "text": [
        "\n",
        "36431.8948648"
       ]
      },
      {
       "output_type": "stream",
       "stream": "stdout",
       "text": [
        "\n",
        "36511.51001"
       ]
      },
      {
       "output_type": "stream",
       "stream": "stdout",
       "text": [
        "\n",
        "36593.97842"
       ]
      },
      {
       "output_type": "stream",
       "stream": "stdout",
       "text": [
        "\n",
        "36674.9655099"
       ]
      },
      {
       "output_type": "stream",
       "stream": "stdout",
       "text": [
        "\n",
        "36756.070761"
       ]
      },
      {
       "output_type": "stream",
       "stream": "stdout",
       "text": [
        "\n",
        "36838.565794"
       ]
      },
      {
       "output_type": "stream",
       "stream": "stdout",
       "text": [
        "\n",
        "36920.3486819"
       ]
      },
      {
       "output_type": "stream",
       "stream": "stdout",
       "text": [
        "\n",
        "37001.5372438"
       ]
      },
      {
       "output_type": "stream",
       "stream": "stdout",
       "text": [
        "\n",
        "37082.153388"
       ]
      },
      {
       "output_type": "stream",
       "stream": "stdout",
       "text": [
        "\n",
        "37163.9168038"
       ]
      },
      {
       "output_type": "stream",
       "stream": "stdout",
       "text": [
        "\n",
        "37243.968735"
       ]
      },
      {
       "output_type": "stream",
       "stream": "stdout",
       "text": [
        "\n",
        "37323.8042979"
       ]
      },
      {
       "output_type": "stream",
       "stream": "stdout",
       "text": [
        "\n",
        "37403.6023929"
       ]
      },
      {
       "output_type": "stream",
       "stream": "stdout",
       "text": [
        "\n",
        "37483.0514078"
       ]
      },
      {
       "output_type": "stream",
       "stream": "stdout",
       "text": [
        "\n",
        "37562.4835529"
       ]
      },
      {
       "output_type": "stream",
       "stream": "stdout",
       "text": [
        "\n",
        "37643.6200008"
       ]
      },
      {
       "output_type": "stream",
       "stream": "stdout",
       "text": [
        "\n",
        "37723.4339759"
       ]
      },
      {
       "output_type": "stream",
       "stream": "stdout",
       "text": [
        "\n",
        "37805.45172"
       ]
      },
      {
       "output_type": "stream",
       "stream": "stdout",
       "text": [
        "\n",
        "37887.13252"
       ]
      },
      {
       "output_type": "stream",
       "stream": "stdout",
       "text": [
        "\n",
        "37971.5133269"
       ]
      },
      {
       "output_type": "stream",
       "stream": "stdout",
       "text": [
        "\n",
        "38052.5771558"
       ]
      },
      {
       "output_type": "stream",
       "stream": "stdout",
       "text": [
        "\n",
        "38133.742487"
       ]
      },
      {
       "output_type": "stream",
       "stream": "stdout",
       "text": [
        "\n",
        "38217.555495"
       ]
      },
      {
       "output_type": "stream",
       "stream": "stdout",
       "text": [
        "\n",
        "38299.534853"
       ]
      },
      {
       "output_type": "stream",
       "stream": "stdout",
       "text": [
        "\n",
        "38379.89679"
       ]
      },
      {
       "output_type": "stream",
       "stream": "stdout",
       "text": [
        "\n",
        "38459.4733138"
       ]
      },
      {
       "output_type": "stream",
       "stream": "stdout",
       "text": [
        "\n",
        "38537.205652"
       ]
      },
      {
       "output_type": "stream",
       "stream": "stdout",
       "text": [
        "\n",
        "38537.2531178\n",
        "(0, 3)"
       ]
      },
      {
       "output_type": "stream",
       "stream": "stdout",
       "text": [
        "\n"
       ]
      }
     ],
     "prompt_number": 23
    },
    {
     "cell_type": "code",
     "collapsed": false,
     "input": [
      "triangleshiftsend = np.float16(make_displacements(FLEXATEND, dispnormtriend))\n",
      "#randomize between the ends and the beginning\n",
      "amountoftriangleshiftsbeg = np.size(firstpointstriangle, axis = 0)\n",
      "amountoftriangleshiftsend = np.size(triangleshiftsend, axis = 0)\n",
      "\n",
      "triangleshiftsend = np.tile(triangleshiftsend, (amountoftriangleshiftsbeg, 1))\n",
      "firstpointstriangle = np.repeat(firstpointstriangle, amountoftriangleshiftsend, axis = 0)\n",
      "secondpointstriangle = np.repeat(secondpointstriangle, amountoftriangleshiftsend, axis = 0)"
     ],
     "language": "python",
     "metadata": {},
     "outputs": [],
     "prompt_number": 24
    },
    {
     "cell_type": "code",
     "collapsed": false,
     "input": [
      "thirdpointstriangle  = np.float16(triangleshiftsend + endpunkt)\n",
      "\n",
      "print np.shape(firstpointstriangle)\n",
      "\n",
      "keep = sort_out_by_length(secondpointstriangle, thirdpointstriangle, linkertriangle)\n",
      "\n",
      "firstpointstriangle = firstpointstriangle[keep]\n",
      "secondpointstriangle = secondpointstriangle[keep]\n",
      "thirdpointstriangle = thirdpointstriangle[keep]\n",
      "\n",
      "print np.shape(firstpointstriangle)\n",
      "\n",
      "\n",
      "\n",
      "MakeSmall = make_small_generator(secondpointstriangle, 15, 6, ProteinArray = heretousepoints)\n",
      "\n",
      "teiler = np.size(secondpointstriangle, axis=0)/(MakeSmall)\n",
      "\n",
      "#about 250s per MakeSmall run\n",
      "blatime = time.time()\n",
      "\n",
      "for i in range(0, (MakeSmall +1)):\n",
      "    if i == MakeSmall:\n",
      "        if (i * teiler) < np.size(secondpointstriangle, axis=0): \n",
      "            temp1 = firstpointstriangle[i * teiler:]\n",
      "            temp2 = secondpointstriangle[i * teiler:]\n",
      "            temp3 = thirdpointstriangle[i * teiler:]\n",
      "        else:\n",
      "            break\n",
      "    else:\n",
      "        temp1 = firstpointstriangle[i*teiler:(i+1)*teiler]\n",
      "        temp2 = secondpointstriangle[i*teiler:(i+1)*teiler]\n",
      "        temp3 = thirdpointstriangle[i*teiler:(i+1)*teiler]\n",
      "\n",
      "    \n",
      "    # sort out, if the connection is too near at the protein\n",
      "    keep = (distance_from_connection(temp2, temp3, heretousepoints)[0] >= minabstand).all(axis = 1)\n",
      "    \n",
      "    temp1 = temp1[keep]    \n",
      "    temp2 = temp2[keep]\n",
      "    temp3 = temp3[keep]\n",
      "    \n",
      "    if i == 0:\n",
      "        firstpointstritemp, secondpointstritemp, thirdpointstritemp = temp1, temp2, temp3\n",
      "    else:\n",
      "        firstpointstritemp = np.concatenate((firstpointstritemp, temp1), axis =0)\n",
      "        secondpointstritemp = np.concatenate((secondpointstritemp, temp2), axis =0)\n",
      "        thirdpointstritemp = np.concatenate((thirdpointstritemp, temp3), axis =0)\n",
      "    print time.time() - blatime\n",
      "\n",
      "firstpointsflexible  = np.concatenate((firstpointstritemp,  firstpointsflexible), axis =0)\n",
      "secondpointsflexible = np.concatenate((secondpointstritemp, secondpointsflexible), axis =0)\n",
      "thirdpointsflexible  = np.concatenate((thirdpointstritemp,  thirdpointsflexible), axis =0)"
     ],
     "language": "python",
     "metadata": {},
     "outputs": [
      {
       "output_type": "stream",
       "stream": "stdout",
       "text": [
        "(0, 3)\n",
        "(0, 3)\n",
        "0.000967979431152\n"
       ]
      }
     ],
     "prompt_number": 25
    },
    {
     "cell_type": "code",
     "collapsed": false,
     "input": [
      "pickle.dump((firstpointsflexible, secondpointsflexible, thirdpointsflexible),\\\n",
      "            open(\"files/saveflexibles{projectname}.p\".format(projectname = UserDefinedProjectName), \"wb\"))"
     ],
     "language": "python",
     "metadata": {},
     "outputs": [],
     "prompt_number": 26
    },
    {
     "cell_type": "code",
     "collapsed": false,
     "input": [
      "np.shape(firstpointsflexible)"
     ],
     "language": "python",
     "metadata": {},
     "outputs": [
      {
       "metadata": {},
       "output_type": "pyout",
       "prompt_number": 27,
       "text": [
        "(0, 3)"
       ]
      }
     ],
     "prompt_number": 27
    },
    {
     "cell_type": "code",
     "collapsed": false,
     "input": [
      "'''\n",
      "punktetemp = pickle.load( open(\"files/saveflexibles{projectname}.p\".format(projectname = UserDefinedProjectName), \"rb\" ) )\n",
      "firstpointsflexible  = punktetemp[0]\n",
      "secondpointsflexible = punktetemp[1]\n",
      "thirdpointsflexible  = punktetemp[2]\n",
      "'''"
     ],
     "language": "python",
     "metadata": {},
     "outputs": [
      {
       "metadata": {},
       "output_type": "pyout",
       "prompt_number": 28,
       "text": [
        "'\\npunktetemp = pickle.load( open(\"files/saveflexibles{projectname}.p\".format(projectname = UserDefinedProjectName), \"rb\" ) )\\nfirstpointsflexible  = punktetemp[0]\\nsecondpointsflexible = punktetemp[1]\\nthirdpointsflexible  = punktetemp[2]\\n'"
       ]
      }
     ],
     "prompt_number": 28
    },
    {
     "cell_type": "code",
     "collapsed": false,
     "input": [
      "'''\n",
      "fig = plt.figure()\n",
      "ax = fig.add_subplot(111, projection='3d')\n",
      "ax.scatter(pkte[AmountOfAtomsFirstAA+1:-AmountOfAtomsLastAA-1:,0], pkte[AmountOfAtomsFirstAA+1:-AmountOfAtomsLastAA-1:,1], pkte[AmountOfAtomsFirstAA+1:-AmountOfAtomsLastAA-1:,2], s=10)\n",
      "ax.scatter(pkte[:AmountOfAtomsFirstAA:,0], pkte[:AmountOfAtomsFirstAA:,1], pkte[:AmountOfAtomsFirstAA:,2], s = 40, c =\"r\")\n",
      "ax.scatter(pkte[-AmountOfAtomsLastAA::,0], pkte[-AmountOfAtomsLastAA::,1], pkte[-AmountOfAtomsLastAA::,2], s = 40, c =\"r\")\n",
      "ax.scatter(OtherPoints[:,0], OtherPoints[:,1], OtherPoints[:,2], s=10, c = \"g\")\n",
      "\n",
      "ax.scatter(firstpointsflexible [:,0], firstpointsflexible[:,1], firstpointsflexible[:,2], c = \"y\")\n",
      "ax.scatter(secondpointsflexible[:,0], secondpointsflexible[:,1], secondpointsflexible[:,2], c = \"y\")\n",
      "plt.show()\n",
      "'''"
     ],
     "language": "python",
     "metadata": {},
     "outputs": [
      {
       "metadata": {},
       "output_type": "pyout",
       "prompt_number": 29,
       "text": [
        "'\\nfig = plt.figure()\\nax = fig.add_subplot(111, projection=\\'3d\\')\\nax.scatter(pkte[AmountOfAtomsFirstAA+1:-AmountOfAtomsLastAA-1:,0], pkte[AmountOfAtomsFirstAA+1:-AmountOfAtomsLastAA-1:,1], pkte[AmountOfAtomsFirstAA+1:-AmountOfAtomsLastAA-1:,2], s=10)\\nax.scatter(pkte[:AmountOfAtomsFirstAA:,0], pkte[:AmountOfAtomsFirstAA:,1], pkte[:AmountOfAtomsFirstAA:,2], s = 40, c =\"r\")\\nax.scatter(pkte[-AmountOfAtomsLastAA::,0], pkte[-AmountOfAtomsLastAA::,1], pkte[-AmountOfAtomsLastAA::,2], s = 40, c =\"r\")\\nax.scatter(OtherPoints[:,0], OtherPoints[:,1], OtherPoints[:,2], s=10, c = \"g\")\\n\\nax.scatter(firstpointsflexible [:,0], firstpointsflexible[:,1], firstpointsflexible[:,2], c = \"y\")\\nax.scatter(secondpointsflexible[:,0], secondpointsflexible[:,1], secondpointsflexible[:,2], c = \"y\")\\nplt.show()\\n'"
       ]
      }
     ],
     "prompt_number": 29
    },
    {
     "cell_type": "heading",
     "level": 3,
     "metadata": {},
     "source": [
      "Flexible ends estimated to make the same as the rigid parts"
     ]
    },
    {
     "cell_type": "code",
     "collapsed": false,
     "input": [
      "#die verschiebungen mit den Linkerl\u00e4ngen multiplizieren, wichtig ist, in den versch sind immer auch nuller drinnen\n",
      "\n",
      "versch = make_displacements(linkerlaengenKO, dispnorm)\n",
      "\n",
      "\n",
      "anfversch = make_displacements((linkerlaengenKO + FLEXIBLEATSTARTKO - LENGTHOFANGLEKO), startdisp)\n",
      "anfversch = anfversch[(anfversch != np.array([0,0,0])).all(axis = 1)]\n",
      "    \n",
      "endversch = make_displacements((linkerlaengenKO + FLEXIBLEATENDKO - LENGTHOFANGLEKO), enddisp)\n",
      "endversch = endversch[(endversch != np.array([0,0,0])).all(axis = 1)]\n",
      "\n",
      "    \n",
      "#hier werden die Punkte generiert\n",
      "erstepunkte = np.float16(naechstepunkte([anfangspunkt], anfversch)[1])\n",
      "erstepunkte = erstepunkte[(erstepunkte == anfangspunkt).all(axis=1) |\n",
      "                          aussortierennachpunken(erstepunkte, PointsOfAllSubunits, minabstand, maxabstand)]\n",
      "\n",
      "letztepunkte = np.float16(naechstepunkte([endpunkt], endversch)[1])\n",
      "letztepunkte = letztepunkte[(letztepunkte == endpunkt).all(axis=1) | \n",
      "                            aussortierennachpunken(letztepunkte, PointsOfAllSubunits, minabstand, maxabstand)]\n",
      "\n",
      "#aussortieren, ob Punkte durch Protein gehen\n",
      "print np.shape(erstepunkte)\n",
      "#we just test with all as but not the first and last, because they are too close.\n",
      "\n",
      "#TODO hier abfangen, falls gleich alle Punkte weggemacht werden und dann eine Ausgabe machen, dass das ziemlich schwierig\n",
      "#und dann aber weiterfortlaufen, das gleiche auch mit den letzten Punkten\n",
      "\n",
      "\n",
      "'''\n",
      "\n",
      "#kann man eventuell mit hineinnehmen, wenn man ohnehin zu viel Zeug hat.\n",
      "\n",
      "if np.size(erstepunkte, axis = 0) > 5:\n",
      "    erstepunktetest = sort_out_by_protein([anfangspunkt], erstepunkte,\\\n",
      "                                      np.concatenate((pkte[AmountOfAtomsFirstAA:-AmountOfAtomsLastAA], OtherPoints), \\\n",
      "                                                     axis = 0), minabstand)[1]\n",
      "    if np.size(erstepunktetest) != 0:\n",
      "        erstepunkte = erstepunktetest\n",
      "   \n",
      "print np.shape(erstepunktetest)\n",
      "print np.shape(erstepunkte)\n",
      "'''\n",
      "'''\n",
      "if np.size(letztepunkte, axis = 0) > 5:\n",
      "    letztepunktetest = sort_out_by_protein([endpunkt], letztepunkte, \\\n",
      "                                      np.concatenate((pkte[AmountOfAtomsFirstAA:-AmountOfAtomsLastAA],\n",
      "                                      OtherPoints), axis = 0), minabstand)[1]\n",
      "    if np.size(letztepunktetest) != 0:\n",
      "        letztepunkte = letztepunktetest\n",
      "\n",
      "print np.shape(letztepunktetest)\n",
      "print np.shape(letztepunkte)\n",
      "'''\n",
      "\n",
      "#wir sortieren erstepunkte aus, die zu weit vom Ende entfernt liegen, sodass sie nicht mehr durch \n",
      "#die doppelte l\u00e4ngste Linkerl\u00e4nge verbunden werden k\u00f6nnen\n",
      "\n",
      "temp = abstandpktzuarray(endpunkt, erstepunkte)\n",
      "keep = temp < (3 * laengstesstueck)\n",
      "erstepunkte = erstepunkte[keep]\n",
      "\n",
      "#wir sortieren erstepunkte aus, die zu weit vom Ende entfernt liegen, sodass sie nicht mehr durch \n",
      "#die doppelte l\u00e4ngste Linkerl\u00e4nge verbunden werden k\u00f6nnen\n",
      "\n",
      "temp = abstandpktzuarray(anfangspunkt, letztepunkte)\n",
      "keep = temp < (3 * laengstesstueck)\n",
      "letztepunkte = letztepunkte[keep]\n",
      "\n",
      "#die zweite iteration, erstepunkte wird so gro\u00df gemacht, wie zweitepunkte, damit die Wege passen\n",
      "#davor fragen wir ab, ob es \u00fcberhaupt sinnvoll ist, die eine weitere Ecke zu nehmen, das spart viel Rechenzeit\n",
      "\n",
      "if ((abstandanfend < ((3*np.min(linkerlaengenKO)) - (2 * LENGTHOFANGLEKO))) & \n",
      "    ((np.max(linkerlaengenKO) * 2 -(2 * LENGTHOFANGLEKO)) > maxvonanfang)\\\n",
      "    & (((np.max(linkerlaengenKO) * 2) - (2 * LENGTHOFANGLEKO)) > maxvonende)):\n",
      "    zweitepunkte = erstepunkte\n",
      "else:\n",
      "    zweiteiteration = naechstepunkte(erstepunkte, versch)\n",
      "    zweitepunkte = np.float16(zweiteiteration[1])\n",
      "    erstepunkte = np.float16(zweiteiteration[0])\n",
      "\n",
      "print np.shape(erstepunkte)\n",
      "print np.shape(zweitepunkte)\n",
      "print np.shape(letztepunkte)"
     ],
     "language": "python",
     "metadata": {},
     "outputs": [
      {
       "output_type": "stream",
       "stream": "stdout",
       "text": [
        "(48, 3)\n",
        "(995712, 3)"
       ]
      },
      {
       "output_type": "stream",
       "stream": "stdout",
       "text": [
        "\n",
        "(995712, 3)\n",
        "(4159, 3)\n"
       ]
      }
     ],
     "prompt_number": 38
    },
    {
     "cell_type": "markdown",
     "metadata": {},
     "source": [
      "Wir sortieren nun alle Winkel aus, die kleiner als 15\u00b0 sind. Das machen wir aber nicht f\u00fcr die Anfangs und Endpunkte, da nicht klar ist, wie dort die Alphahelix angesetzt wird."
     ]
    },
    {
     "cell_type": "code",
     "collapsed": false,
     "input": [
      "#Nach Winkeln aussortieren, von vorne.\n",
      "\n",
      "temp = sort_out_by_angle([anfangspunkt], erstepunkte, zweitepunkte, angletosequence)\n",
      "erstepunkte = temp[0]\n",
      "zweitepunkte = temp[1]"
     ],
     "language": "python",
     "metadata": {},
     "outputs": [],
     "prompt_number": 39
    },
    {
     "cell_type": "code",
     "collapsed": false,
     "input": [
      "print anzahleckenmax\n",
      "print anzahleckenmin"
     ],
     "language": "python",
     "metadata": {},
     "outputs": [
      {
       "output_type": "stream",
       "stream": "stdout",
       "text": [
        "8.51515151515\n",
        "2.70579512181\n"
       ]
      }
     ],
     "prompt_number": 40
    },
    {
     "cell_type": "code",
     "collapsed": false,
     "input": [
      "#wir sortieren zweite Punkte aus, die zu weit vom Ende entfernt liegen, sodass sie nicht mehr durch \n",
      "#die doppelte l\u00e4ngste Linkerl\u00e4nge verbunden werden k\u00f6nnen\n",
      "\n",
      "temp = abstandpktzuarray(endpunkt, zweitepunkte)\n",
      "keep = temp < (2 * laengstesstueck)\n",
      "zweitepunkte = zweitepunkte[keep]\n",
      "erstepunkte = erstepunkte[keep]\n",
      "\n",
      "np.shape(zweitepunkte)"
     ],
     "language": "python",
     "metadata": {},
     "outputs": [
      {
       "metadata": {},
       "output_type": "pyout",
       "prompt_number": 41,
       "text": [
        "(902690, 3)"
       ]
      }
     ],
     "prompt_number": 41
    },
    {
     "cell_type": "code",
     "collapsed": false,
     "input": [
      "#L\u00e4uft 82 sek, sortiert 60 000 Punkte aus\n",
      "#wir sortieren die Punkte aus, die zu weit oder zu nah im Protein sind\n",
      "StartTime = time.time()\n",
      "MakeSmall = make_small_generator(zweitepunkte,1 , 6 , ProteinArray = PointsOfAllSubunits)\n",
      "teiler = np.size(zweitepunkte, axis = 0)/MakeSmall\n",
      "temp = aussortierennachpunken(zweitepunkte[:teiler], PointsOfAllSubunits, minabstand, maxabstand)\n",
      "\n",
      "for i in range(1,MakeSmall):\n",
      "    temp = np.concatenate((temp, aussortierennachpunken(zweitepunkte[i*teiler:(i+1)*teiler],\\\n",
      "                                                        PointsOfAllSubunits, minabstand, maxabstand)), axis = 0)\n",
      "if ((i+1) * teiler) < np.size(zweitepunkte, axis=0): \n",
      "    temp = np.concatenate((temp, aussortierennachpunken(zweitepunkte[(i+1)*teiler:],\n",
      "                                                        PointsOfAllSubunits, minabstand, maxabstand)), axis = 0)\n",
      "\n",
      "print time.time()-StartTime    \n",
      "temp = np.array(temp)\n",
      "temp = np.ravel(temp, \"C\")\n",
      "\n",
      "zweitepunkte = zweitepunkte[temp]\n",
      "erstepunkte = erstepunkte[temp]\n",
      "print np.shape(erstepunkte)\n",
      "#save for saving calculationtime\n",
      "pickle.dump((erstepunkte, zweitepunkte, letztepunkte),\\\n",
      "            open(\"files/save{projectname}.p\".format(projectname = UserDefinedProjectName), \"wb\"))"
     ],
     "language": "python",
     "metadata": {},
     "outputs": [
      {
       "output_type": "stream",
       "stream": "stdout",
       "text": [
        "157.674167871\n",
        "(797600, 3)"
       ]
      },
      {
       "output_type": "stream",
       "stream": "stdout",
       "text": [
        "\n"
       ]
      }
     ],
     "prompt_number": 42
    },
    {
     "cell_type": "code",
     "collapsed": false,
     "input": [
      "\"\"\"\n",
      "punktetemp = pickle.load( open(\"files/save{projectname}.p\".format(projectname = UserDefinedProjectName), \"rb\" ) )\n",
      "erstepunkte = punktetemp[0]\n",
      "zweitepunkte = punktetemp[1]\n",
      "letztepunkte = punktetemp[2]\n",
      "\"\"\""
     ],
     "language": "python",
     "metadata": {},
     "outputs": [
      {
       "metadata": {},
       "output_type": "pyout",
       "prompt_number": 43,
       "text": [
        "'\\npunktetemp = pickle.load( open(\"files/save{projectname}.p\".format(projectname = UserDefinedProjectName), \"rb\" ) )\\nerstepunkte = punktetemp[0]\\nzweitepunkte = punktetemp[1]\\nletztepunkte = punktetemp[2]\\n'"
       ]
      }
     ],
     "prompt_number": 43
    },
    {
     "cell_type": "code",
     "collapsed": false,
     "input": [
      "#l\u00e4uft etwa 11 minuten, reduziert um die H\u00e4lfte\n",
      "MakeSmall = make_small_generator(zweitepunkte, 10 , 6 , ProteinArray = PointsOfAllSubunits)\n",
      "\n",
      "teiler = np.size(zweitepunkte, axis=0)/(MakeSmall)\n",
      "temp = sort_out_by_protein(erstepunkte[:teiler], zweitepunkte[:teiler], PointsOfAllSubunits, minabstand)\n",
      "erstetemp = temp[0]\n",
      "zweitetemp = temp[1]\n",
      "\n",
      "\n",
      "\n",
      "bla = time.time()\n",
      "#das l\u00e4uft zu lange...\n",
      "for i in range(1, MakeSmall):\n",
      "    temp = sort_out_by_protein(erstepunkte[i*teiler:(i+1)*teiler], zweitepunkte[i*teiler:(i+1)*teiler],\\\n",
      "                        PointsOfAllSubunits, minabstand)\n",
      "    \n",
      "    erstetemp = np.concatenate((erstetemp, temp[0]), axis =0)\n",
      "    zweitetemp = np.concatenate((zweitetemp, temp[1]), axis =0)\n",
      "    \n",
      "\n",
      "if ((i+1) * teiler) < np.size(zweitepunkte, axis=0):    \n",
      "    temp = sort_out_by_protein(erstepunkte[(i+1)*teiler:], zweitepunkte[(i+1)*teiler:], PointsOfAllSubunits, minabstand)\n",
      "\n",
      "    erstetemp = np.concatenate((erstetemp, temp[0]), axis = 0)\n",
      "    zweitetemp = np.concatenate((zweitetemp, temp[1]), axis = 0)\n",
      "\n",
      "erstepunkte = np.float16(erstetemp)\n",
      "zweitepunkte = np.float16(zweitetemp)\n",
      "\n",
      "print bla - time.time()\n",
      "print np.size(erstepunkte, axis = 0)\n",
      "\n",
      "pickle.dump((erstepunkte, zweitepunkte, letztepunkte), \\\n",
      "            open(\"files/save{projectname}.p\".format(projectname = UserDefinedProjectName), \"wb\"))"
     ],
     "language": "python",
     "metadata": {},
     "outputs": [
      {
       "output_type": "stream",
       "stream": "stdout",
       "text": [
        "-1116.60242486\n",
        "660390\n"
       ]
      }
     ],
     "prompt_number": 44
    },
    {
     "cell_type": "code",
     "collapsed": false,
     "input": [
      "print np.size(erstepunkte, axis = 0)\n",
      "print np.size(zweitepunkte, axis = 0)"
     ],
     "language": "python",
     "metadata": {},
     "outputs": [
      {
       "output_type": "stream",
       "stream": "stdout",
       "text": [
        "660390\n",
        "660390\n"
       ]
      }
     ],
     "prompt_number": 45
    },
    {
     "cell_type": "code",
     "collapsed": false,
     "input": [
      "\"\"\"\n",
      "punktetemp = pickle.load( open(\"files/save{projectname}.p\".format(projectname = UserDefinedProjectName), \"rb\" ) )\n",
      "erstepunkte = punktetemp[0]\n",
      "zweitepunkte = punktetemp[1]\n",
      "letztepunkte = punktetemp[2]\n",
      "\"\"\""
     ],
     "language": "python",
     "metadata": {},
     "outputs": [
      {
       "metadata": {},
       "output_type": "pyout",
       "prompt_number": 46,
       "text": [
        "'\\npunktetemp = pickle.load( open(\"files/save{projectname}.p\".format(projectname = UserDefinedProjectName), \"rb\" ) )\\nerstepunkte = punktetemp[0]\\nzweitepunkte = punktetemp[1]\\nletztepunkte = punktetemp[2]\\n'"
       ]
      }
     ]
    },
    {
     "cell_type": "heading",
     "level": 5,
     "metadata": {},
     "source": [
      "Generierung der Verbindungen zwsichen den zweiten und den dritten Punkten"
     ]
    },
    {
     "cell_type": "code",
     "collapsed": false,
     "input": [
      "blatime = time.time()\n",
      "\n",
      "\n",
      "MakeSmall = make_small_generator(zweitepunkte,8 , 6 , ProteinArray = letztepunkte)\n",
      "\n",
      "teiler = np.size(zweitepunkte, axis=0)/(MakeSmall)\n",
      "\n",
      "\n",
      "if os.path.exists('files/data{projectname}.h5'.format(projectname = UserDefinedProjectName)):\n",
      "    os.remove('files/data{projectname}.h5'.format(projectname = UserDefinedProjectName))\n",
      "h5f = h5py.File('files/data{projectname}.h5'.format(projectname = UserDefinedProjectName), \"w\")\n",
      "\n",
      "\n",
      "for laenge in linkerlaengenKO:\n",
      "    \n",
      "    for i in range(0,(MakeSmall)):\n",
      "                  \n",
      "        temp = sort_out_by_distance(zweitepunkte[i*teiler:(i+1)*teiler], letztepunkte,\\\n",
      "                                    erstepunkte[i*teiler:(i+1)*teiler], laenge, hitgenauig)\n",
      "        if i == 0:\n",
      "            erstetemp = temp[0]\n",
      "            zweitetemp= temp[1]\n",
      "            drittetemp= temp[2]\n",
      "        else:\n",
      "            erstetemp = np.concatenate((erstetemp, temp[0]), axis =0)\n",
      "            zweitetemp = np.concatenate((zweitetemp, temp[1]), axis =0)\n",
      "            drittetemp = np.concatenate((drittetemp, temp[2]), axis =0)\n",
      "            \n",
      "    if ((i+1) * teiler) < np.size(zweitepunkte, axis=0):  \n",
      "        temp = sort_out_by_distance(zweitepunkte[(i+1)*teiler:], letztepunkte, erstepunkte[(i+1)*teiler:], laenge, hitgenauig)\n",
      "        erstetemp = np.concatenate((erstetemp, temp[0]), axis =0)\n",
      "        zweitetemp = np.concatenate((zweitetemp, temp[1]), axis =0)\n",
      "        drittetemp = np.concatenate((drittetemp, temp[2]), axis =0)\n",
      "    \n",
      "    count = 1\n",
      "    for array in [erstetemp, zweitetemp, drittetemp]:\n",
      "        h5f.create_dataset(\"dataset_{points}{linker}\".format(points = count, linker = int(laenge)), data=array)\n",
      "        count +=1\n",
      "    print blatime-time.time()\n",
      "    \n",
      "h5f.close()\n",
      "\n",
      "    "
     ],
     "language": "python",
     "metadata": {},
     "outputs": []
    },
    {
     "cell_type": "markdown",
     "metadata": {},
     "source": [
      "Aussortieren der Verbindungen, die durch das Protein gehen."
     ]
    },
    {
     "cell_type": "code",
     "collapsed": false,
     "input": [
      "h5f = h5py.File('files/data{projectname}.h5'.format(projectname = UserDefinedProjectName),'r')\n",
      "\n",
      "\n",
      "blubbtime = time.time()\n",
      "\n",
      "for laenge in linkerlaengenKO:\n",
      "    \n",
      "    SizeOfArray = len(h5f[\"dataset_{points}{linker}\".format(points = 1, linker = int(laenge))]) * 3\n",
      "    \n",
      "    \n",
      "    MakeSmall = make_small_generator(SizeOfArray,12 , 6 , ProteinArray = PointsOfAllSubunits)\n",
      "    teiler = SizeOfArray/(MakeSmall * 3)\n",
      "    \n",
      "    \n",
      "    erstepunkte  = h5f[\"dataset_{points}{linker}\".format(points = 1, linker = int(laenge))][:teiler]\n",
      "    zweitepunkte = h5f[\"dataset_{points}{linker}\".format(points = 2, linker = int(laenge))][:teiler]\n",
      "    drittepunkte = h5f[\"dataset_{points}{linker}\".format(points = 3, linker = int(laenge))][:teiler]\n",
      "\n",
      "    temp = sort_out_by_protein(zweitepunkte, drittepunkte, \\\n",
      "                               PointsOfAllSubunits, minabstand, beforearray = erstepunkte)\n",
      "    erstetemp = temp[0]\n",
      "    zweitetemp = temp[1]\n",
      "    drittetemp = temp[2]\n",
      "\n",
      "\n",
      "\n",
      "    bla = time.time()\n",
      "    #das l\u00e4uft zu lange, ein Durchlauf 2.5s, das hei\u00dft insgesamt: 30500~9hs\n",
      "    for i in range(1, MakeSmall):\n",
      "        erstepunkte  = h5f[\"dataset_{points}{linker}\".format(points = 1, linker = int(laenge))][i * teiler:(i+1)*teiler]\n",
      "        zweitepunkte = h5f[\"dataset_{points}{linker}\".format(points = 2, linker = int(laenge))][i * teiler:(i+1)*teiler]\n",
      "        drittepunkte = h5f[\"dataset_{points}{linker}\".format(points = 3, linker = int(laenge))][i * teiler:(i+1)*teiler]\n",
      "        temp = sort_out_by_protein(zweitepunkte, drittepunkte, \\\n",
      "                               PointsOfAllSubunits, minabstand, beforearray = erstepunkte)\n",
      "\n",
      "        erstetemp = np.concatenate((erstetemp, temp[0]), axis =0)\n",
      "        zweitetemp = np.concatenate((zweitetemp, temp[1]), axis =0)\n",
      "        drittetemp = np.concatenate((drittetemp, temp[2]), axis =0)\n",
      "        \n",
      "        print str(time.time() - blubbtime) + \"f\u00fcr einen makesmalldurchlauf\"\n",
      "    if ((i+1) * teiler) < (SizeOfArray / 3):  \n",
      "        erstepunkte  = h5f[\"dataset_{points}{linker}\".format(points = 1, linker = int(laenge))][(i+1) * teiler:]\n",
      "        zweitepunkte = h5f[\"dataset_{points}{linker}\".format(points = 2, linker = int(laenge))][(i+1) * teiler:]\n",
      "        drittepunkte = h5f[\"dataset_{points}{linker}\".format(points = 3, linker = int(laenge))][(i+1) * teiler:]\n",
      "\n",
      "\n",
      "        temp = sort_out_by_protein(zweitepunkte, drittepunkte, \\\n",
      "                                   PointsOfAllSubunits, minabstand, beforearray = erstepunkte)\n",
      "\n",
      "        erstetemp = np.concatenate((erstetemp, temp[0]), axis = 0)\n",
      "        zweitetemp = np.concatenate((zweitetemp, temp[1]), axis = 0)\n",
      "        drittetemp = np.concatenate((drittetemp, temp[2]), axis = 0)\n",
      "    \n",
      "    print str(time.time() - blubbtime) + \"f\u00fcr einen linkerdurchlauf\"\n",
      "\n",
      "erstepunkte = np.float16(erstetemp)\n",
      "zweitepunkte = np.float16(zweitetemp)\n",
      "drittepunkte = np.float16(drittetemp)\n",
      "\n",
      "    \n",
      "    \n",
      "\n",
      "h5f.close()\n",
      "    \n",
      "print np.shape(erstepunkte)"
     ],
     "language": "python",
     "metadata": {},
     "outputs": []
    },
    {
     "cell_type": "code",
     "collapsed": false,
     "input": [
      "\n",
      "tempsize =  np.size(erstepunkte, axis = 0)\n",
      "pickle.dump(erstepunkte[:tempsize/2], \\\n",
      "            open(\"files/save{projectname}ersteeins.p\".format(projectname = UserDefinedProjectName), \"wb\"))\n",
      "pickle.dump(erstepunkte[tempsize/2:], \\\n",
      "            open(\"files/save{projectname}erstezwei.p\".format(projectname = UserDefinedProjectName), \"wb\"))\n",
      "pickle.dump(zweitepunkte[:tempsize/2], \\\n",
      "            open(\"files/save{projectname}zweiteeins.p\".format(projectname = UserDefinedProjectName), \"wb\"))\n",
      "pickle.dump(zweitepunkte[tempsize/2:], \\\n",
      "            open(\"files/save{projectname}zweitezwei.p\".format(projectname = UserDefinedProjectName), \"wb\"))\n",
      "pickle.dump(drittepunkte[:tempsize/2], \\\n",
      "            open(\"files/save{projectname}dritteeins.p\".format(projectname = UserDefinedProjectName), \"wb\"))\n",
      "pickle.dump(drittepunkte[tempsize/2:], \\\n",
      "            open(\"files/save{projectname}drittezwei.p\".format(projectname = UserDefinedProjectName), \"wb\"))\n",
      "print tempsize\n"
     ],
     "language": "python",
     "metadata": {},
     "outputs": []
    },
    {
     "cell_type": "code",
     "collapsed": false,
     "input": [
      "'''\n",
      "erstepunkteeins = pickle.load( open( \"files/save{projectname}ersteeins.p\".format(projectname = UserDefinedProjectName), \"rb\" ) )\n",
      "erstepunktezwei = pickle.load( open( \"files/save{projectname}erstezwei.p\".format(projectname = UserDefinedProjectName), \"rb\" ) )\n",
      "erstepunkte = np.concatenate((erstepunkteeins, erstepunktezwei), axis = 0)\n",
      "\n",
      "zweitepunkteeins = pickle.load( open( \"files/save{projectname}zweiteeins.p\".format(projectname = UserDefinedProjectName), \"rb\" ) )\n",
      "zweitepunktezwei = pickle.load( open( \"files/save{projectname}zweitezwei.p\".format(projectname = UserDefinedProjectName), \"rb\" ) )\n",
      "zweitepunkte = np.concatenate((zweitepunkteeins, zweitepunktezwei), axis = 0)\n",
      "\n",
      "drittepunkteeins = pickle.load( open(\"files/save{projectname}dritteeins.p\".format(projectname = UserDefinedProjectName), \"rb\"))\n",
      "drittepunktezwei = pickle.load( open(\"files/save{projectname}drittezwei.p\".format(projectname = UserDefinedProjectName), \"rb\"))\n",
      "drittepunkte = np.concatenate((drittepunkteeins, drittepunktezwei), axis = 0)\n",
      "'''"
     ],
     "language": "python",
     "metadata": {},
     "outputs": []
    },
    {
     "cell_type": "code",
     "collapsed": false,
     "input": [
      "if ((abstandanfend < 3*np.min(linkerlaengenKO)) & (np.max(linkerlaengenKO) * 2 > maxvonanfang)\\\n",
      "    & (np.max(linkerlaengenKO) * 2 > maxvonende)):\n",
      "    temp = sort_out_by_angle([anfangspunkt], zweitepunkte, drittepunkte, angletosequence)\n",
      "    erstepunkte = temp[0]\n",
      "    zweitepunkte = temp[0]\n",
      "    drittepunkte = temp[1]\n",
      "else:\n",
      "    temp = sort_out_by_angle(erstepunkte, zweitepunkte, drittepunkte, angletosequence)\n",
      "    erstepunkte = temp[0]\n",
      "    zweitepunkte = temp[1]\n",
      "    drittepunkte = temp[2]"
     ],
     "language": "python",
     "metadata": {},
     "outputs": []
    },
    {
     "cell_type": "code",
     "collapsed": false,
     "input": [
      "pickle.dump((erstepunkte, zweitepunkte, drittepunkte), open(\"files/save{projectname}.p\".format(projectname = UserDefinedProjectName), \"wb\"))"
     ],
     "language": "python",
     "metadata": {},
     "outputs": []
    },
    {
     "cell_type": "code",
     "collapsed": false,
     "input": [
      "\n",
      "#UserDefinedProjectName = \"lambdalysozyme\"\n",
      "'''\n",
      "punktetemp = pickle.load( open(\"files/save{projectname}.p\".format(projectname = UserDefinedProjectName), \"rb\" ) )\n",
      "erstepunkte = punktetemp[0]\n",
      "zweitepunkte = punktetemp[1]\n",
      "drittepunkte = punktetemp[2]\n",
      "'''\n",
      "'''\n",
      "erstepunkte = erstepunkte[::100]\n",
      "zweitepunkte = zweitepunkte[::100]\n",
      "drittepunkte = drittepunkte[::100]\n",
      "'''"
     ],
     "language": "python",
     "metadata": {},
     "outputs": []
    },
    {
     "cell_type": "code",
     "collapsed": false,
     "input": [
      "punktetemp = pickle.load( open(\"files/saveflexibles{projectname}.p\".format(projectname = UserDefinedProjectName), \"rb\" ) )\n",
      "firstpointsflexible  = punktetemp[0]\n",
      "secondpointsflexible = punktetemp[1]\n",
      "thirdpointsflexible  = punktetemp[2]\n",
      "\n",
      "'''\n",
      "#veraltet\n",
      "erstepunkte  = np.concatenate((erstepunkte, firstpointsflexible), axis = 0)\n",
      "zweitepunkte = np.concatenate((zweitepunkte, secondpointsflexible), axis = 0)\n",
      "drittepunkte = np.concatenate((drittepunkte, thirdpointsflexible), axis = 0)\n",
      "'''"
     ],
     "language": "python",
     "metadata": {},
     "outputs": []
    },
    {
     "cell_type": "code",
     "collapsed": false,
     "input": [
      "'''\n",
      "firstpointsflexible = firstpointsflexible[::100]\n",
      "secondpointsflexible = secondpointsflexible[::100]\n",
      "thirdpointsflexible = thirdpointsflexible[::100]\n",
      "'''"
     ],
     "language": "python",
     "metadata": {},
     "outputs": []
    },
    {
     "cell_type": "heading",
     "level": 3,
     "metadata": {},
     "source": [
      "Das verbessern der Pfade, anpassen an die Linkerst\u00fccke"
     ]
    },
    {
     "cell_type": "code",
     "collapsed": false,
     "input": [
      "#thirdpoints are to be shifted and given back\n",
      "def shift_points_to_linkerpatterns(secondpoints, thirdpoints, linkerlaengenKO):\n",
      "    '''\n",
      "    shifts thirdpoints to the secondpoints or away from them, so that the distance between second and third fits into the\n",
      "    patterns that are provided by linkerlaengenKO.\n",
      "    secondpoints and thirdpoints must have same dimension.\n",
      "    \n",
      "    returns the new thirdpoints\n",
      "    '''\n",
      "    lthreetemp = abstandarrays(secondpoints, thirdpoints)\n",
      "    for LAENGE in linkerlaengenKO:\n",
      "        if LAENGE == linkerlaengenKO[0]:\n",
      "            comparedtopattern = lthreetemp - LAENGE\n",
      "        else:\n",
      "            comparedtopatterntwo = lthreetemp - LAENGE\n",
      "            fusionbool = np.abs(comparedtopattern) > np.abs(comparedtopatterntwo)\n",
      "            comparedtopattern[fusionbool] = comparedtopatterntwo[fusionbool]\n",
      "    \n",
      "    toberefinedbool = (np.abs(comparedtopattern) > LENGTHACCURACYKO)\n",
      "    \n",
      "    if toberefinedbool.any():\n",
      "        toberefinedlengths = comparedtopattern[toberefinedbool]\n",
      "        arraylengthtemp = np.size(toberefinedlengths)\n",
      "        shifts = np.zeros(arraylengthtemp)\n",
      "        #we calculate the shifts, to be sure we shift a bit farther than we need in the end.\n",
      "        shifts[toberefinedlengths > 0] = -1 * (toberefinedlengths[toberefinedlengths > 0] - \n",
      "                                               LENGTHACCURACYKO + LENGTHACCURACYKO / 10.)\n",
      "        shifts[toberefinedlengths < 0] = -1 * (toberefinedlengths[toberefinedlengths < 0] + \n",
      "                                               LENGTHACCURACYKO - LENGTHACCURACYKO / 10.)\n",
      "        shifts = np.reshape(np.repeat(shifts, 3), (arraylengthtemp,3))\n",
      "        lengthestemp = abstandarrays(thirdpoints[toberefinedbool] , secondpoints[toberefinedbool])\n",
      "        lengthestemp = np.reshape(np.repeat(lengthestemp, 3), (arraylengthtemp,3))\n",
      "        thirdpoints[toberefinedbool] = (((thirdpoints[toberefinedbool] - secondpoints[toberefinedbool]) /\n",
      "                                        lengthestemp) * shifts ) + thirdpoints[toberefinedbool]\n",
      "\n",
      "    return thirdpoints\n",
      "    \n",
      "    \n",
      "    \n",
      "    \n",
      "    \n",
      "def make_better_paths_rigid(startpoint, firstpoints, secondpoints, thirdpoints, endpoint):\n",
      "    linkerlaengenKOtemp = np.append(linkerlaengenKO, 0.)\n",
      "    lonetemp = abstandpktzuarray(startpoint, firstpoints)\n",
      "    \n",
      "    arraylengthtemp = np.size(lonetemp)\n",
      "    #True bleibt\n",
      "    \n",
      "    keep = sort_out_by_length(startpoint, firstpoints, linkerlaengenKO + FLEXIBLEATSTARTKO - LENGTHOFANGLEKO)\n",
      "    firstpoints = firstpoints[keep]\n",
      "    secondpoints = secondpoints[keep]\n",
      "    thirdpoints = thirdpoints[keep]\n",
      "        \n",
      "    thirdpoints = shift_points_to_linkerpatterns(secondpoints, thirdpoints, linkerlaengenKOtemp)\n",
      "    \n",
      "    keep = sort_out_by_length(thirdpoints, endpoint, linkerlaengenKO + FLEXIBLEATENDKO - LENGTHOFANGLEKO)\n",
      "    firstpoints = firstpoints[keep]\n",
      "    secondpoints = secondpoints[keep]\n",
      "    thirdpoints = thirdpoints[keep]    \n",
      "    \n",
      "    return firstpoints, secondpoints, thirdpoints\n",
      "    \n",
      "    \n",
      "def make_better_paths_flex(firstpoints, secondpoints, thirdpoints, endpoint):\n",
      "    linkerlaengenKOtemp = np.append(linkerlaengenKO, 2*LENGTHOFANGLEKO)\n",
      "    \n",
      "    noanglebool = (firstpoints == secondpoints).all(1)\n",
      "    thirdpoints[noanglebool] = shift_points_to_linkerpatterns(secondpoints[noanglebool],\n",
      "                                                              thirdpoints[noanglebool], linkerlaengenKOtemp - \n",
      "                                                              2 * LENGTHOFANGLEKO)\n",
      "    \n",
      "    #keep Trues\n",
      "    arraylengthtemp = np.size(noanglebool)\n",
      "    sortouttemp = np.bool8(np.ones(arraylengthtemp))\n",
      "    sortouttemp[noanglebool] = (abstandpktzuarray(endpoint, thirdpoints[noanglebool]) < FLEXIBLEATENDKO)\n",
      "        \n",
      "    return firstpoints[sortouttemp], secondpoints[sortouttemp], thirdpoints[sortouttemp]"
     ],
     "language": "python",
     "metadata": {},
     "outputs": []
    },
    {
     "cell_type": "code",
     "collapsed": false,
     "input": [
      "print np.shape(firstpointsflexible)\n",
      "print np.shape(erstepunkte)"
     ],
     "language": "python",
     "metadata": {},
     "outputs": []
    },
    {
     "cell_type": "code",
     "collapsed": false,
     "input": [
      "firstpointsflexible, secondpointsflexible, thirdpointsflexible = make_better_paths_flex(firstpointsflexible,\n",
      "                                                                                        secondpointsflexible,\n",
      "                                                                                        thirdpointsflexible, endpunkt)\n",
      "\n",
      "erstepunkte, zweitepunkte, drittepunkte = make_better_paths_rigid(anfangspunkt, erstepunkte, zweitepunkte, drittepunkte,\n",
      "                                                                  endpunkt)\n"
     ],
     "language": "python",
     "metadata": {},
     "outputs": []
    },
    {
     "cell_type": "code",
     "collapsed": false,
     "input": [
      "print np.shape(firstpointsflexible)\n",
      "print np.shape(erstepunkte)"
     ],
     "language": "python",
     "metadata": {},
     "outputs": []
    },
    {
     "cell_type": "heading",
     "level": 3,
     "metadata": {},
     "source": [
      "Die Bewertungsfunktion\n"
     ]
    },
    {
     "cell_type": "markdown",
     "metadata": {},
     "source": [
      "Wir definieren Regionen, die schlecht f\u00fcr den Linker sind. Dabei bekommt jede Region eine G\u00fcte. Diese G\u00fcte sagt, wenn wir einen Linker in einem Abstand von G\u00fcte geteilt durch Minabstand vorbeigehen lassen. Das hei\u00dft je kleiner die G\u00fcte, desto n\u00e4her kann ich an diesem Punkt vorbei gehen.\n",
      "\n",
      "Im Allgemeinen m\u00f6chte ich, dass einfach immer die verschiedenen Teile gleich wichtig sind, egal wie gro\u00df das Protein ist, oder wie viele Regionen wir da gesagt haben, dass umgangen werden sollen.\n",
      "\n",
      "Bei den Winkeln haben wir ja immer maximal drei Winkel, von dem her, muss das nicht normiert werden.\n",
      "\n",
      "Bei der L\u00e4nge wird mit dem Abstand der Enden skaliert, bei den unguten Regionen wird so skaliert, dass egal wie viele es sind, die definiert wurden, immer insgesamt die Gewichtung 1 ist."
     ]
    },
    {
     "cell_type": "code",
     "collapsed": false,
     "input": [
      "#Userstring ist von der Form: 273,10 280-290,5 298,7,35.6  usw. (Leerzeichen trennen Eintr\u00e4ge, , for single residues\n",
      "#- for ranges, second, for the diameter of the substrate)\n",
      "\n",
      "\n",
      "\n",
      "#UserdefinedWeighing = \"19,10,10\" #Lambdalysozyme\n",
      "UserdefinedWeighing = \"1139-1616,1 1226,1\"\n",
      "\n",
      "\n",
      "\n",
      "ShouldBeWeighed, Weighingarray, substratelist = make_weighingarrays(UserdefinedWeighing)\n"
     ],
     "language": "python",
     "metadata": {},
     "outputs": []
    },
    {
     "cell_type": "code",
     "collapsed": false,
     "input": [
      "#weighting of linkers with flexible ends\n",
      "\n",
      "if np.size(secondpointsflexible, axis = 0) > 0:\n",
      "\n",
      "\n",
      "    MakeSmall = make_small_generator(secondpointsflexible, 8 , 6 , ProteinArray = pkte)\n",
      "\n",
      "    teiler = np.size(secondpointsflexible, axis=0)/(MakeSmall)\n",
      "    blubbtime = time.time()\n",
      "    print MakeSmall\n",
      "    temp = weighing_function_flex(anfangspunkt, firstpointsflexible[:teiler], secondpointsflexible[:teiler],\n",
      "                                    thirdpointsflexible[:teiler], endpunkt, pkte, InterestingAANr,\\\n",
      "                          ShouldBeWeighed, Weighingarray, substratelist)\n",
      "\n",
      "    knull = temp[0]\n",
      "    keins = temp[1]\n",
      "    kzwei = temp[2]\n",
      "    kdrei = temp[3]\n",
      "    kvier = temp[4]\n",
      "\n",
      "\n",
      "    for i in range(1, MakeSmall):\n",
      "        temp = weighing_function_flex(anfangspunkt, firstpointsflexible[i * teiler:(i+1)*teiler],\n",
      "                                        secondpointsflexible[i * teiler:(i+1)*teiler], \n",
      "                                        thirdpointsflexible[i * teiler:(i+1)*teiler],\n",
      "                                        endpunkt, pkte, InterestingAANr, ShouldBeWeighed, Weighingarray, substratelist)\n",
      "\n",
      "        knull = np.concatenate((knull, temp[0]), axis =0)\n",
      "        keins = np.concatenate((keins, temp[1]), axis =0)\n",
      "        kzwei = np.concatenate((kzwei, temp[2]), axis =0)\n",
      "        kdrei = np.concatenate((kdrei, temp[3]), axis =0)\n",
      "        kvier = np.concatenate((kvier, temp[4]), axis =0)\n",
      "        print time.time() - blubbtime\n",
      "\n",
      "\n",
      "    if ((i+1) * teiler) < np.size(secondpointsflexible, axis=0):\n",
      "        temp = weighing_function_flex(anfangspunkt, firstpointsflexible[(i+1)*teiler:], \n",
      "                                        secondpointsflexible[(i+1)*teiler:], thirdpointsflexible[(i+1)*teiler:],\n",
      "                                        endpunkt, pkte, InterestingAANr, ShouldBeWeighed, Weighingarray, substratelist)\n",
      "\n",
      "\n",
      "        knull = np.concatenate((knull, temp[0]), axis =0)\n",
      "        keins = np.concatenate((keins, temp[1]), axis =0)\n",
      "        kzwei = np.concatenate((kzwei, temp[2]), axis =0)\n",
      "        kdrei = np.concatenate((kdrei, temp[3]), axis =0)\n",
      "        kvier = np.concatenate((kvier, temp[4]), axis =0)\n",
      "\n",
      "\n",
      "\n",
      "\n",
      "\n",
      "    weightflex = np.array([knull, keins, kzwei, kdrei, kvier])\n",
      "    flexk = weightflex\n",
      "else:\n",
      "    weightflex = None"
     ],
     "language": "python",
     "metadata": {},
     "outputs": []
    },
    {
     "cell_type": "code",
     "collapsed": false,
     "input": [
      "#weighting of linkers without flexible ends\n",
      "if np.size(zweitepunkte, axis = 0) > 0:\n",
      "\n",
      "    MakeSmall = make_small_generator(zweitepunkte, 8 , 6 , ProteinArray = pkte)\n",
      "\n",
      "    teiler = np.size(zweitepunkte, axis=0)/(MakeSmall)\n",
      "\n",
      "    temp = weighing_function_rigids(anfangspunkt, erstepunkte[:teiler], zweitepunkte[:teiler],\n",
      "                                    drittepunkte[:teiler], endpunkt, pkte, InterestingAANr,\\\n",
      "                          ShouldBeWeighed, Weighingarray, substratelist)\n",
      "\n",
      "    knull = temp[0]\n",
      "    keins = temp[1]\n",
      "    kzwei = temp[2]\n",
      "    kdrei = temp[3]\n",
      "    kvier = temp[4]\n",
      "\n",
      "\n",
      "    for i in range(1, MakeSmall):\n",
      "        temp = weighing_function_rigids(anfangspunkt, erstepunkte[i * teiler:(i+1)*teiler],\n",
      "                                        zweitepunkte[i * teiler:(i+1)*teiler], \n",
      "                                        drittepunkte[i * teiler:(i+1)*teiler],\n",
      "                                        endpunkt, pkte, InterestingAANr, ShouldBeWeighed, Weighingarray, substratelist)\n",
      "\n",
      "        knull = np.concatenate((knull, temp[0]), axis =0)\n",
      "        keins = np.concatenate((keins, temp[1]), axis =0)\n",
      "        kzwei = np.concatenate((kzwei, temp[2]), axis =0)\n",
      "        kdrei = np.concatenate((kdrei, temp[3]), axis =0)\n",
      "        kvier = np.concatenate((kvier, temp[4]), axis =0)\n",
      "\n",
      "\n",
      "    if ((i+1) * teiler) < np.size(zweitepunkte, axis=0):\n",
      "        temp = weighing_function_rigids(anfangspunkt, erstepunkte[(i+1)*teiler:], \n",
      "                                        zweitepunkte[(i+1)*teiler:], drittepunkte[(i+1)*teiler: ],\n",
      "                                        endpunkt, pkte, InterestingAANr, ShouldBeWeighed, Weighingarray, substratelist)\n",
      "\n",
      "\n",
      "        knull = np.concatenate((knull, temp[0]), axis =0)\n",
      "        keins = np.concatenate((keins, temp[1]), axis =0)\n",
      "        kzwei = np.concatenate((kzwei, temp[2]), axis =0)\n",
      "        kdrei = np.concatenate((kdrei, temp[3]), axis =0)\n",
      "        kvier = np.concatenate((kvier, temp[4]), axis =0)\n",
      "\n",
      "\n",
      "\n",
      "\n",
      "    weightrig = np.array([knull, keins, kzwei, kdrei, kvier])\n",
      "    k = weightrig\n",
      "else:\n",
      "    weightrig = None"
     ],
     "language": "python",
     "metadata": {},
     "outputs": []
    },
    {
     "cell_type": "markdown",
     "metadata": {},
     "source": [
      "Darstellen der Ergebnisse als Plots"
     ]
    },
    {
     "cell_type": "heading",
     "level": 2,
     "metadata": {},
     "source": [
      "Clustering of linkers"
     ]
    },
    {
     "cell_type": "markdown",
     "metadata": {},
     "source": [
      "At first the different linkers are just analysed. Of course this could be done in the weighing step before, but this is not that calculation intensive and like this it is much more clear when it does what."
     ]
    },
    {
     "cell_type": "code",
     "collapsed": false,
     "input": [
      "sequences, weightingsall, firstpointsall, secondpointsall, thirdpointsall =\\\n",
      "translate_paths_to_sequences(anfangspunkt,firstpointsflexible, secondpointsflexible,\n",
      "                                                    thirdpointsflexible, erstepunkte, zweitepunkte, drittepunkte, \n",
      "                                                    endpunkt, linkerdatenbank, linkerlaengenKO, angletosequence, \n",
      "                                                    angleseparators, weightflex, weightrig)\n",
      "\n"
     ],
     "language": "python",
     "metadata": {},
     "outputs": []
    },
    {
     "cell_type": "code",
     "collapsed": false,
     "input": [
      "sequencepool = np.unique(sequences)\n",
      "sequenceweightings = []\n",
      "for sequenceiter in sequencepool:\n",
      "    sequenceweightings.append(np.mean(weightingsall[0][sequences == sequenceiter]))\n",
      "\n",
      "bestsequenceindex = np.argmin(sequenceweightings)\n",
      "print sequencepool[bestsequenceindex]"
     ],
     "language": "python",
     "metadata": {},
     "outputs": []
    },
    {
     "cell_type": "code",
     "collapsed": false,
     "input": [
      "print firstpointsflexible[-1]\n",
      "print secondpointsflexible[-1]\n",
      "print thirdpointsflexible[-1]"
     ],
     "language": "python",
     "metadata": {},
     "outputs": []
    },
    {
     "cell_type": "code",
     "collapsed": false,
     "input": [
      "print sequencepool\n",
      "print np.shape(sequencepool)"
     ],
     "language": "python",
     "metadata": {},
     "outputs": []
    },
    {
     "cell_type": "code",
     "collapsed": false,
     "input": [
      "print sequencepool"
     ],
     "language": "python",
     "metadata": {},
     "outputs": []
    },
    {
     "cell_type": "code",
     "collapsed": false,
     "input": [
      "hierraus = sequences == 'GGAEAAAKEAAAKAEAAAKEAAAKEAAAKAAASGAAXXXKEACWE'\n",
      "\n",
      "#print erstepunkte[hierraus]\n",
      "#print zweitepunkte[hierraus]\n",
      "#print drittepunkte[hierraus]\n",
      "\n",
      "print abstandpktzuarray(endpunkt, drittepunkte[hierraus])\n",
      "\n",
      "np.set_printoptions(edgeitems = 100)\n",
      "print linkerlaengenKO + ScarsAtEnd * LengthOfFlexibleAA"
     ],
     "language": "python",
     "metadata": {},
     "outputs": []
    },
    {
     "cell_type": "code",
     "collapsed": false,
     "input": [
      "#for wildcard search through the different linkers\n",
      "\n",
      "pattern = '*AEAAAKEAAAKEAAAKA*'\n",
      "filtered = fnmatch.filter(sequencepool, pattern)\n",
      "\n",
      "getlinkersoutbool = np.array(np.zeros(np.size(sequences)), dtype = bool)\n",
      "for string in filtered:\n",
      "    getlinkersoutbool = getlinkersoutbool | (sequences == string)\n",
      "\n",
      "np.mean(weightingsall[0][getlinkersoutbool])"
     ],
     "language": "python",
     "metadata": {},
     "outputs": []
    },
    {
     "cell_type": "code",
     "collapsed": false,
     "input": [
      "'''\n",
      "#length\n",
      "h = plt.hist(weightingsall[1], bins = 40)\n",
      "plt.title(\"Distribution of lengths\")\n",
      "plt.show()\n",
      "\n",
      "#angles\n",
      "h = plt.hist(weightingsall[2], bins = 50)\n",
      "plt.title(\"Distribution of angles\")\n",
      "plt.show()\n",
      "#unpreferable places\n",
      "h = plt.hist(weightingsall[3], bins = 100)\n",
      "plt.title(\"Distribution of unpreferable places weighting\")\n",
      "plt.show()\n",
      "#dist from surface\n",
      "h = plt.hist(weightingsall[4], bins = 100)\n",
      "plt.title(\"Distribution of the distances from surface\")\n",
      "plt.show()\n",
      "'''"
     ],
     "language": "python",
     "metadata": {},
     "outputs": []
    },
    {
     "cell_type": "code",
     "collapsed": false,
     "input": [
      "keep = np.argmin(weightingsall[0])\n",
      "\n",
      "#show a plot of one linker.\n",
      "bestpath = np.empty((3,3))\n",
      "\n",
      "bestpath[0] = firstpointsall[keep]\n",
      "bestpath[1] =  secondpointsall[keep]\n",
      "bestpath[2] = thirdpointsall[keep]\n",
      "\n",
      "print sequences[keep]\n",
      "print abstandanfend\n",
      "\n",
      "\n",
      "\n",
      "print abstand(bestpath[0], bestpath[1]), abstand(bestpath[2], bestpath[1]),\\\n",
      "abstand(bestpath[0], anfangspunkt), abstand(endpunkt, bestpath[2])\n",
      "\n",
      "fig = plt.figure()\n",
      "ax = fig.add_subplot(111, projection='3d')\n",
      "ax.scatter(pkte[AmountOfAtomsFirstAA+1:-AmountOfAtomsLastAA-1:,0], pkte[AmountOfAtomsFirstAA+1:-AmountOfAtomsLastAA-1:,1], pkte[AmountOfAtomsFirstAA+1:-AmountOfAtomsLastAA-1:,2], s=10)\n",
      "ax.scatter(pkte[:AmountOfAtomsFirstAA:,0], pkte[:AmountOfAtomsFirstAA:,1], pkte[:AmountOfAtomsFirstAA:,2], s = 40, c =\"r\")\n",
      "ax.scatter(pkte[-AmountOfAtomsLastAA::,0], pkte[-AmountOfAtomsLastAA::,1], pkte[-AmountOfAtomsLastAA::,2], s = 40, c =\"r\")\n",
      "ax.scatter(OtherPoints[:,0], OtherPoints[:,1], OtherPoints[:,2], s=10, c = \"g\")\n",
      "ax.plot(np.concatenate((np.array([anfangspunkt[0]]), bestpath[:,0], np.array([endpunkt[0]]))),\\\n",
      "        np.concatenate((np.array([anfangspunkt[1]]), bestpath[:,1], np.array([endpunkt[1]]))),\\\n",
      "        np.concatenate((np.array([anfangspunkt[2]]), bestpath[:,2], np.array([endpunkt[2]]))), c = \"r\", linewidth = 15)\n",
      "\n",
      "ax.plot(np.array([(bestpath[1,0] + bestpath[2,0])/2 - (minabstand / 2), (bestpath[1,0] + bestpath[2,0])/2 + (minabstand / 2)]),\\\n",
      "        np.array([(bestpath[1,1] + bestpath[2,1])/2, (bestpath[1,1] + bestpath[2,1])/2]),\\\n",
      "        np.array([(bestpath[1,2] + bestpath[2,2])/2, (bestpath[1,2] + bestpath[2,2])/2]),\\\n",
      "        c = \"g\", linewidth = 3)\n",
      "\n",
      "ax.plot(np.array([(bestpath[1,0] + bestpath[2,0])/2, (bestpath[1,0] + bestpath[2,0])/2]),\\\n",
      "        np.array([(bestpath[1,1] + bestpath[2,1])/2 - (minabstand / 2), (bestpath[1,1] + bestpath[2,1])/2 + (minabstand / 2)]),\\\n",
      "        np.array([(bestpath[1,2] + bestpath[2,2])/2, (bestpath[1,2] + bestpath[2,2])/2]),\\\n",
      "        c = \"g\", linewidth = 3)\n",
      "\n",
      "ax.plot(np.array([(bestpath[1,0] + bestpath[2,0])/2, (bestpath[1,0] + bestpath[2,0])/2]),\\\n",
      "        np.array([(bestpath[1,1] + bestpath[2,1])/2, (bestpath[1,1] + bestpath[2,1])/2]),\\\n",
      "        np.array([(bestpath[1,2] + bestpath[2,2])/2 - (minabstand / 2), (bestpath[1,2] + bestpath[2,2])/2 + (minabstand / 2)]),\\\n",
      "        c = \"g\", linewidth = 3)\n",
      "\n",
      "ax.scatter(bestpath[:,0], bestpath[:,1], bestpath[:,2], s = 50, c =\"r\")\n",
      "plt.show()\n"
     ],
     "language": "python",
     "metadata": {},
     "outputs": []
    },
    {
     "cell_type": "code",
     "collapsed": false,
     "input": [
      "np.shape(firstpointsall)"
     ],
     "language": "python",
     "metadata": {},
     "outputs": []
    },
    {
     "cell_type": "heading",
     "level": 2,
     "metadata": {},
     "source": [
      "Linkerpimping"
     ]
    },
    {
     "cell_type": "markdown",
     "metadata": {},
     "source": [
      "Wir passen die Aminos\u00e4uren in den Winkeln an, um die an die Oberfl\u00e4che zu h\u00e4ngen. Das machen wir immer in einer Funktion auf nur einem Linker"
     ]
    },
    {
     "cell_type": "code",
     "collapsed": false,
     "input": [
      "AminoDict = {\"ARG\":\"ASP\", \"ASP\":\"LYS\", \"HIS\":\"ASP\", \"LYS\":\"ASP\", \"GLU\":\"LYS\", \"SER\":\"THR\", \"THR\":\"SER\", \\\n",
      "             \"ASN\":\"GLN\", \"GLN\":\"ASN\", \"CYS\":\"CYS\", \"GLY\":\"XXX\", \"SEC\":\"XXX\", \"PRO\":\"XXX\", \"ALA\":\"LEU\", \"VAL\":\"LEU\", \\\n",
      "             \"ILE\":\"LEU\", \"LEU\":\"LEU\", \"MET\":\"LEU\", \"PHE\":\"PHE\", \"TRP\":\"TRP\", \"TYR\":\"TYR\"}\n",
      "\n",
      "def glue_to_surface(StartPoint, EndPoint, ProteinPoints = pkte , ProteinAminos = InterestingAminos,\\\n",
      "                    MinDist = hitgenauig, AminoCombinations = AminoDict):\n",
      "    Dist = abstand(StartPoint, EndPoint)\n",
      "    StartToProtDist = abstandpktzuarray(StartPoint, ProteinPoints)\n",
      "    keep = (StartToProtDist < (Dist + MinDist)) & (StartToProtDist > (Dist - MinDist))\n",
      "    PossiblePoints = ProteinPoints[keep]\n",
      "    EndToPossible = abstandpktzuarray(EndPoint, PossiblePoints)\n",
      "    PossibleAminos = ProteinAminos[keep]\n",
      "    TheAmino = PossibleAminos[np.argmin(EndToPossible)]\n",
      "    return AminoCombinations[TheAmino]\n",
      "        "
     ],
     "language": "python",
     "metadata": {},
     "outputs": []
    },
    {
     "cell_type": "code",
     "collapsed": false,
     "input": [],
     "language": "python",
     "metadata": {},
     "outputs": []
    }
   ],
   "metadata": {}
  }
 ]
}