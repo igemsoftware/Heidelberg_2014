{
 "metadata": {
  "name": "",
  "signature": "sha256:ab11cde4636f7d1bd20392c37b0912b069e3ce993102eea35a7b44c8681cd498"
 },
 "nbformat": 3,
 "nbformat_minor": 0,
 "worksheets": [
  {
   "cells": [
    {
     "cell_type": "code",
     "collapsed": false,
     "input": [
      "#Hier ist ein kleiner Versuch mal eine Software zu schreiben, wie so Linkerzeug gemacht werden k\u00f6nnte."
     ],
     "language": "python",
     "metadata": {},
     "outputs": [],
     "prompt_number": 1
    },
    {
     "cell_type": "code",
     "collapsed": false,
     "input": [
      "#einlesen des PDB files. die Dateien sollten in proteine gespeichert werden\n",
      "import numpy as np\n",
      "import matplotlib\n",
      "matplotlib.use('GTK')\n",
      "import matplotlib.pyplot as plt         #plots allgemein\n",
      "from mpl_toolkits.mplot3d import Axes3D #3d plots\n",
      "#%matplotlib inline\n",
      "#from Bio.PDB import *\n",
      "#import gc\n",
      "import time #kann im Endeffekt aussortiert werden :-)\n",
      "import cPickle as pickle       #zum Zwischenspeichern vor Abst\u00fcrzen, um Zeit zu sparen.\n",
      "import h5py                    #zum Zwischenspeichern der Ergebnisse in der Generation der neuen Punkte\n",
      "import os                      #spa\u00dfige Dinge mit dem Betriebssystem, z.B. ob ein File existiert\n",
      "\n",
      "\n",
      "\n",
      "#Betrag eines Vektors\n",
      "def vectabs(x0, x1, x2):\n",
      "    return np.sqrt(x0**2 + x1**2 + x2*2)\n",
      "\n",
      "def vectabsar(ar):\n",
      "    return np.sqrt(ar[:,0]**2+ar[:,1]**2+ar[:,2]**2)\n",
      "\n",
      "#gibt normalenvektor zu ebene von drei Punkten aus, bereits normiert\n",
      "def ebene(a, b, c):\n",
      "    x0 = (a-b)[1]*(c-b)[2]-((a-b)[2]*(c-b)[1])\n",
      "    x1 = (a-b)[2]*(c-b)[0]-((a-b)[0]*(c-b)[2])\n",
      "    x2 = (a-b)[0]*(c-b)[1]-((a-b)[1]*(c-b)[0])\n",
      "    \n",
      "    xabs = vectabs(x0, x1, x2)\n",
      "    \n",
      "    return np.array([x0/xabs, x1/xabs, x2/xabs])\n",
      "\n",
      "#einen Vektor mit Drehmatrix drehen um a-achse\n",
      "def drehenx(phi, x, y, z):\n",
      "    x1 = x * np.cos(phi * 0)\n",
      "    y1 = y * np.cos(phi) - z * np.sin(phi)\n",
      "    z1 = y * np.sin(phi) + z * np.cos(phi)\n",
      "    return np.array([x1, y1, z1])\n",
      "\n",
      "def dreheny(phi, x, y, z):\n",
      "    x1 = x  * np.cos(phi) - z * np.sin(phi)\n",
      "    y1 = y * np.cos(phi * 0)\n",
      "    z1 = x * np.sin(phi) + z * np.cos(phi)\n",
      "    return np.array([x1, y1, z1])\n",
      "\n",
      "def drehenz(phi, x, y, z):\n",
      "    x1 = x  * np.cos(phi) - y * np.sin(phi)\n",
      "    y1 = x * np.sin(phi) +  y* np.cos(phi)\n",
      "    z1 = z * np.cos(phi * 0)\n",
      "    return np.array([x1, y1, z1])\n",
      "\n",
      "#dreht Vektor v (als np.array) um phi um die x-Achse, und theta um die y-Achse\n",
      "def drehenxy(phi, theta, v):\n",
      "    v = drehenx(phi, v[0], v[1], v[2])\n",
      "    return dreheny(theta, v[0], v[1], v[2])\n",
      "\n",
      "#den Abstand zweier Punkte bestimmen, den Punkt als Array eingeben.\n",
      "def abstand(x,y):\n",
      "    return np.sqrt((x[0]-y[0])**2+(x[1]-y[1])**2+(x[2]-y[2])**2)\n",
      "\n",
      "def betrag(x):\n",
      "    return np.sqrt((x[0])**2+(x[1])**2+(x[2])**2)\n",
      "\n",
      "def abstandpktzuarray(x, ar):\n",
      "    return np.sqrt((x[0]-ar[:,0])**2+(x[1]-ar[:,1])**2+(x[2]-ar[:,2])**2)\n",
      "\n",
      "def abstandarrays(ar1, ar2):\n",
      "    return np.sqrt((ar1[:,0]-ar2[:,0])**2+(ar1[:,1]-ar2[:,1])**2+(ar1[:,2]-ar2[:,2])**2)\n",
      "\n",
      "def skalar_product (ar1, ar2):\n",
      "    return (ar1[:,0]*ar2[:,0])+(ar1[:,1]*ar2[:,1])+(ar1[:,2]*ar2[:,2])\n",
      "\n",
      "#returns value between [0,pi] an array of size Startarray with the angles. If there is no displacement, it returns zero as value\n",
      "def angle_between_connections_array(StartArray, MiddleArray, EndArray):\n",
      "        vect1 = (StartArray - MiddleArray)\n",
      "        vect2 = (EndArray - MiddleArray)\n",
      "        #catch if there is 0 displacement\n",
      "        tocalculate = ((vect1 != np.array([0,0,0])).any(1)) & ((vect2 != np.array([0,0,0])).any(1))\n",
      "        vect1 = vect1[tocalculate]\n",
      "        vect2 = vect2[tocalculate]\n",
      "        angles = np.arccos(skalar_product(vect1, vect2)/(vectabsar(vect1)*vectabsar(vect2)))\n",
      "        returnangles = np.zeros(np.size(StartArray, axis = 0))\n",
      "        returnangles[tocalculate] = angles\n",
      "        return returnangles\n",
      "        \n",
      "   "
     ],
     "language": "python",
     "metadata": {},
     "outputs": [],
     "prompt_number": 2
    },
    {
     "cell_type": "code",
     "collapsed": false,
     "input": [
      "#PDB geht von N zu C Terminus     \n",
      "    \n",
      "\n",
      "#macht aus drei Arrays ein Array mit kleinen dreierarrays in einem gro\u00dfen A\n",
      "\n",
      "\n",
      "#macht aus drei Arrays\n",
      "    \n",
      "\n",
      "f = open('proteine/2ZIJhumlysecoli.pdb', 'r')\n",
      "#print pdbfile\n",
      "\n",
      "\n",
      "wholex = []\n",
      "wholey = []\n",
      "wholez = []\n",
      "wholeatom = []\n",
      "wholeaminos = []\n",
      "wholesubunit = []\n",
      "wholeasnr = []\n",
      "\n",
      "\n",
      "#line.split kann nicht verwendet werden, weil manchmal die spalten ineinander verschmelzen, weil das Format doof ist.\n",
      "\n",
      "for line in f:\n",
      "    art = line[:4]\n",
      "    if art == 'ATOM':\n",
      "        wholeatom.append(line[13:16])\n",
      "        wholeaminos.append(line[17:20])\n",
      "        wholesubunit.append(line[21])\n",
      "        wholeasnr.append(int(line[22:26]))\n",
      "        wholex.append(float(line[31:38]))\n",
      "        wholey.append(float(line[38:46]))\n",
      "        wholez.append(float(line[46:54]))\n",
      "        \n",
      "\n",
      "#aus allen Listen arrays machen\n",
      "wholeatom = np.array(wholeatom)\n",
      "wholeaminos = np.array(wholeaminos)\n",
      "wholesubunit = np.array(wholesubunit)\n",
      "wholeasnr = np.array(wholeasnr)\n",
      "#731-1602\n",
      "#oder 650 - 1602\n",
      "\n",
      "IgnoreSubUnit = \"This is no description of a subunit\"\n",
      "IgnoreIndices = wholesubunit != IgnoreSubUnit\n",
      "\n",
      "\n",
      "wholeatom = wholeatom[IgnoreIndices]\n",
      "wholeaminos = wholeaminos[IgnoreIndices]\n",
      "wholesubunit = wholesubunit[IgnoreIndices]\n",
      "wholeasnr = wholeasnr[IgnoreIndices]\n",
      "\n",
      "\n",
      "#let the user choose, what interests him.\n",
      "SubUnitChosen = \"A\"\n",
      "UserChosenStart = 1\n",
      "UserChosenEnd = 130\n",
      "\n",
      "if UserChosenStart < np.min(wholeasnr[wholesubunit == SubUnitChosen]):\n",
      "    if UserChosenStart < np.min(wholeasnr[wholesubunit == SubUnitChosen]) - 5:\n",
      "        print \"Your PDB File does not contain the beginning of the protein and there is missing that much, that even an estimation of the beginning would be really bad. Please find a better PDB file, or risk it\"\n",
      "    else:\n",
      "        print \"Your PDB File does not contain the beginning of the protein, but there are less than 5 Aminoacids missing, so the position of the beginning will be estimated. If there is a better PDB file, upload it\"\n",
      "\n",
      "if UserChosenEnd > np.max(wholeasnr[wholesubunit == SubUnitChosen]):\n",
      "    if UserChosenEnd > np.max(wholeasnr[wholesubunit == SubUnitChosen]) + 5:\n",
      "        print \"Your PDB File does not contain the end of the protein and there is missing that much, that even an estimation of the beginning would be really bad. Please find a better PDB file, or risk it\"\n",
      "    else:\n",
      "        print \"Your PDB File does not contain the end of the protein, but there are less than 5 Aminoacids missing, so the position of the beginning will be estimated. If there is a better PDB file, upload it\"\n",
      "\n",
      "\n",
      "behalten = (((wholeasnr > UserChosenStart) & (wholesubunit == SubUnitChosen)) & (wholeasnr < UserChosenEnd)) #hier kann man einstellen, welche AS behalten werden sollen.\n",
      "\n",
      "InterestingAtom = wholeatom[behalten]\n",
      "InterestingAminos = wholeaminos[behalten]\n",
      "InterestingAANr = wholeasnr[behalten]\n",
      "\n",
      "#aus den drei Arrays eines machen, das Dimension n*3 hat, also ein Array aus lauter kleinen dreier Arrays\n",
      "\n",
      "# ein Pkt: pkte[0]\n",
      "# wieder zur\u00fcck: x = pkte[:,0]\n",
      "\n",
      "wholex = np.array(wholex)        \n",
      "wholey = np.array(wholey)\n",
      "wholez = np.array(wholez)\n",
      "\n",
      "wholex = wholex[IgnoreIndices]\n",
      "wholey = wholey[IgnoreIndices]\n",
      "wholez = wholez[IgnoreIndices]\n",
      "\n",
      "anzahl = len(wholex)\n",
      "\n",
      "PointsOfAllSubunits = np.float16(np.reshape(np.concatenate((wholex,wholey,wholez)), (anzahl,3), 'F'))\n",
      "#choose the part, that is interesting for us this is points\n",
      "pkte = PointsOfAllSubunits[behalten]\n",
      "OtherPoints = PointsOfAllSubunits[wholesubunit != SubUnitChosen]\n",
      "\n",
      "#TODO Estimation of startingpoint, or user interface to get it.\n",
      "\n",
      "anfangspunkt = np.ravel(pkte[(InterestingAANr == InterestingAANr[0]) & (InterestingAtom == \"N  \")])\n",
      "endpunkt = np.ravel(pkte[(InterestingAANr == InterestingAANr[-1]) & (InterestingAtom == \"C  \")])\n",
      "\n",
      "\n",
      "AmountOfAtomsFirstAA = np.size(InterestingAANr[InterestingAANr == InterestingAANr[0]])  #anzahl an Atomen in der erstenas\n",
      "AmountOfAtomsLastAA = np.size(InterestingAANr[InterestingAANr == InterestingAANr[-1]])  #amount of atoms in last AS\n",
      "\n",
      "pickle.dump((pkte, InterestingAminos, InterestingAtom, InterestingAANr), open(\"savepointslysozym.p\", \"wb\"))\n",
      "\n",
      "\n",
      "fig = plt.figure()\n",
      "ax = fig.add_subplot(111, projection='3d')\n",
      "ax.scatter(pkte[5:-5:,0], pkte[5:-5:,1], pkte[5:-5:,2], s=10)\n",
      "ax.scatter(pkte[:4:,0], pkte[:4:,1], pkte[:4:,2], s = 20, c =\"r\")\n",
      "ax.scatter(pkte[-4::,0], pkte[-4::,1], pkte[-4::,2], s = 20, c =\"r\")\n",
      "ax.scatter(OtherPoints[:,0], OtherPoints[:,1], OtherPoints[:,2], s=10, c = \"g\")\n",
      "\n",
      "plt.show()\n"
     ],
     "language": "python",
     "metadata": {},
     "outputs": [
      {
       "output_type": "stream",
       "stream": "stderr",
       "text": [
        "/usr/lib/pymodules/python2.7/matplotlib/backends/backend_gtk.py:250: Warning: Source ID 2 was not found when attempting to remove it\n",
        "  gobject.source_remove(self._idle_event_id)\n"
       ]
      }
     ],
     "prompt_number": 3
    },
    {
     "cell_type": "code",
     "collapsed": false,
     "input": [
      "#das gedrehte darstellen, TODO muss noch auf pkte angepasst werden\n",
      "\n",
      "phi = np.pi / 2 #immer in vielfachen von pi w\u00e4hlen\n",
      "\n",
      "xgedr = dreheny(phi, wholex, wholey, wholez)[0]\n",
      "ygedr = dreheny(phi, wholex, wholey, wholez)[1]\n",
      "zgedr = dreheny(phi, wholex, wholey, wholez)[2]\n",
      "\n",
      "\n",
      "fig = plt.figure()\n",
      "ax = fig.add_subplot(111, projection='3d')\n",
      "ax.scatter(xgedr[5:-5:], ygedr[5:-5:], zgedr[5:-5:], s=10)\n",
      "ax.scatter(xgedr[:4:], ygedr[:4:], zgedr[:4:], s = 20, c =\"r\")\n",
      "ax.scatter(xgedr[-4::], ygedr[-4::], zgedr[-4::], s = 20, c =\"r\")\n"
     ],
     "language": "python",
     "metadata": {},
     "outputs": [
      {
       "metadata": {},
       "output_type": "pyout",
       "prompt_number": 4,
       "text": [
        "<mpl_toolkits.mplot3d.art3d.Patch3DCollection at 0x7ffe5f8bbc90>"
       ]
      }
     ],
     "prompt_number": 4
    },
    {
     "cell_type": "code",
     "collapsed": false,
     "input": [
      "#L\u00e4ngenkalibration, wir wissen, dass der Abstand von c-c 154 pm ist.\n",
      "#Wir machen das am Glycin, weil das am einfachsten f\u00fcr uns ist.\n",
      "\n",
      "eichnutz = ((wholeaminos == \"GLY\") & (wholeatom == \"C  \") | ((wholeaminos == \"GLY\") & (wholeatom == \"CA \")))\n",
      "xeich = wholex[eichnutz]\n",
      "yeich = wholey[eichnutz]\n",
      "zeich = wholez[eichnutz]\n",
      "\n",
      "\n",
      "#das sieht so komisch aus, wegen alter Version\n",
      "abstaendeeich= abstand( np.array([xeich[0::2],yeich[0::2],zeich[0::2]]),np.array([xeich[1::2],yeich[1::2],zeich[1::2]]))\n",
      "kalib = 154 / np.mean(abstaendeeich) #pm\n",
      "kalibfehl = np.std(abstaendeeich) * kalib\n",
      "\n",
      "print str(kalib) + \"+-\" +str (kalibfehl) +\" pm\""
     ],
     "language": "python",
     "metadata": {},
     "outputs": [
      {
       "output_type": "stream",
       "stream": "stdout",
       "text": [
        "101.790911025+-0.753000639737 pm\n"
       ]
      }
     ],
     "prompt_number": 5
    },
    {
     "cell_type": "code",
     "collapsed": false,
     "input": [
      "#globale Variablen:\n",
      "\n",
      "#Entfernung, die der Linker mindestens immer haben sollte geschaetzter Wert 5 Angstr\u00f6m, eine Alpha Helix hat Radius 2.3A\n",
      "\n",
      "minabstand = 500/kalib #in pm\n",
      "\n",
      "#Entfernung, die ein Linker maximal haben darf vom Protein\n",
      "\n",
      "maxabstand = 5000/kalib"
     ],
     "language": "python",
     "metadata": {},
     "outputs": [],
     "prompt_number": 6
    },
    {
     "cell_type": "markdown",
     "metadata": {},
     "source": [
      "Wir testen, ob sich die Enden einfach direkt verbinden lassen. Daf\u00fcr schauen wir ob auf der Verbindungslinie zwischen den beiden Enden im senkrechten Abstand alle Punkte mindestens einen gewissen Abstand haben. Da aber der Punkteraum diskret ist und nicht ausgeschmiert, schauen wir einfach f\u00fcr jeden W\u00fcrfel um die Verbindungslinie, welches der geringste Abstand eines Punktes ist. Ist dieser geringer als unser geforderter Mindestabstand, bricht der Algorithmus sofort ab und es kann weiter gehen. Die W\u00fcrfel sind nur dazu da, dass wir nicht immer den Abstand des gesamten Proteins zur Linie berechnen m\u00fcssen. Wenn ein Punkt zu nah ist, finden wir ihn so auf jeden Fall.\n",
      "\n",
      "Wir m\u00fcssen auf jeden Fall den Abstand zwischen zwei Messpunkten so w\u00e4hlen, dass selbst wenn der Punkt am ung\u00fcnstigsten liegt, wir ihn aussortieren. Lieber zu fr\u00fch aussortieren als zu sp\u00e4t und dann eben das normale Prozedere durchmachen lassen. Wir w\u00e4hlen die Abst\u00e4nde so, dass immer der n\u00e4chste Punkt \n",
      "\n",
      "Der erste Messpunkt muss so sein, dass nicht unser Startpunkt in den ersten W\u00fcrfel f\u00e4llt, genauso beim letzten."
     ]
    },
    {
     "cell_type": "code",
     "collapsed": false,
     "input": [
      "abstandanfend = abstand(anfangspunkt, endpunkt)\n",
      "kantenlaenge = 4 * minabstand\n",
      "#print kantenlaenge\n",
      "wuerfeldiaghalbe = np.sqrt(3)/2 * kantenlaenge\n",
      "#print wuerfeldiaghalbe\n",
      "\n",
      "anzahlwuerfel = int(abstandanfend / wuerfeldiaghalbe) #wir setzen einen mehr ein, als wir m\u00fcssten\n",
      "if anzahlwuerfel == 0:\n",
      "    if abstandanfend < (2* minabstand):\n",
      "        print \"Die Enden sind extrem nah beieinander, einfach versuchen zu zyklieren mit Linker, der genau der L\u00e4nge entspricht!\"\n",
      "    else:\n",
      "        wuerfelmitten = np.array([(anfangspunkt-endpunkt)/2])\n",
      "        kantenlaenge = abstandanfend / np.sqrt(3)\n",
      "        wuerfelabstand = 0\n",
      "elif anzahlwuerfel == 1:\n",
      "    kantenlaenge = abstandanfend / np.sqrt(3)\n",
      "    wuerfeldiaghalbe = np.sqrt(3)/2 * kantenlaenge\n",
      "    wuerfelmitten = (endpunkt-anfangspunkt)/abstandanfend * (wuerfeldiaghalbe) + anfangspunkt\n",
      "    wuerfelabstand = 0\n",
      "    \n",
      "else:\n",
      "    wuerfelabstand = (abstandanfend - (2* wuerfeldiaghalbe))/(anzahlwuerfel - 1)\n",
      "    \n",
      "    #print anzahlwuerfel\n",
      "    \n",
      "    #nun die Verbindungsgerade zwischen den beiden Punkten. v = m * t + 0 mit normiertem m und t (Abstand*parameter)\n",
      "    wuerfelmitten = []\n",
      "    for i in range(0, anzahlwuerfel):\n",
      "        wuerfelmitten.append( (endpunkt-anfangspunkt)/abstandanfend * (wuerfelabstand * i + wuerfeldiaghalbe) + anfangspunkt)\n",
      "        \n",
      "    wuerfelmitten = np.array(wuerfelmitten)\n",
      "    \n",
      "#print wuerfelmitten\n",
      "\n",
      "\n",
      "#minimale Abstand, den etwas haben muss, von W\u00fcrfelmittelpunkt, ab dem wir sagen, dass was zu nah ist, das ist auch \n",
      "#der Fehler den wir haben k\u00f6nnen.\n",
      "minabstandcalc = np.sqrt(minabstand**2 + wuerfelabstand**2)\n",
      "\n",
      "derallernaechstepunkt = None\n",
      "\n",
      "#das Einschr\u00e4nken der Werte auf die W\u00fcrfelinnereien\n",
      "if np.size(wuerfelmitten) == 3:\n",
      "    mitte = wuerfelmitten\n",
      "    keep = ((PointsOfAllSubunits[:,0] > (mitte[0] - (kantenlaenge / 2))) & (PointsOfAllSubunits[:,0] < (mitte[0] + (kantenlaenge / 2))) & \\\n",
      "                (PointsOfAllSubunits[:,1] > (mitte[1] - (kantenlaenge / 2))) & (PointsOfAllSubunits[:,1] < (mitte[1] + (kantenlaenge / 2))) & \\\n",
      "                (PointsOfAllSubunits[:,2] > (mitte[2] - (kantenlaenge / 2))) & (PointsOfAllSubunits[:,2] < (mitte[2] + (kantenlaenge / 2))))   \n",
      "\n",
      "    wuerfelpunkte = PointsOfAllSubunits[keep]\n",
      "    #print wuerfelpunkte\n",
      "    #print abstandarray(mitte, wuerfelpunkte)\n",
      "    mintemp = np.min(abstandpktzuarray(mitte, wuerfelpunkte))\n",
      "    #print mintemp\n",
      "    if  mintemp < minabstandcalc:\n",
      "        print \"Es ist nicht m\u00f6glich einen direkten Linker zu bauen. Der minimale Abstand von der direkten Verbindung betrug: \" \\\n",
      "                + str( mintemp * kalib) + \" pm\"\n",
      "\n",
      "    else:\n",
      "        if derallernaechstepunkt == None:\n",
      "            derallernaechstepunkt = mintemp\n",
      "        elif mintemp < derallernaechstepunkt:\n",
      "            derallernaechstepunkt = mintemp\n",
      "\n",
      "        else:\n",
      "            print \"Es ist m\u00f6glich einen direkten Linker zu machen, da der n\u00e4chste Punkt vom Linker \" + str(derallernaechstepunkt * kalib) + \\\n",
      "                  \" pm entfernt ist.\"\n",
      "else:\n",
      "\n",
      "    for mitte in wuerfelmitten:\n",
      "        keep = ((PointsOfAllSubunits[:,0] > (mitte[0] - (kantenlaenge / 2))) & (PointsOfAllSubunits[:,0] < (mitte[0] + (kantenlaenge / 2))) & \\\n",
      "                (PointsOfAllSubunits[:,1] > (mitte[1] - (kantenlaenge / 2))) & (PointsOfAllSubunits[:,1] < (mitte[1] + (kantenlaenge / 2))) & \\\n",
      "                (PointsOfAllSubunits[:,2] > (mitte[2] - (kantenlaenge / 2))) & (PointsOfAllSubunits[:,2] < (mitte[2] + (kantenlaenge / 2))))   \n",
      "\n",
      "        wuerfelpunkte = PointsOfAllSubunits[keep]\n",
      "        #print wuerfelpunkte\n",
      "        #print abstandarray(mitte, wuerfelpunkte)\n",
      "        mintemp = np.min(abstandpktzuarray(mitte, wuerfelpunkte))\n",
      "        #print mintemp\n",
      "        if  mintemp < minabstandcalc:\n",
      "            print \"Es ist nicht m\u00f6glich einen direkten Linker zu bauen. Der minimale Abstand von der direkten Verbindung betrug: \" \\\n",
      "                    + str( mintemp * kalib) + \" pm\"\n",
      "            break\n",
      "\n",
      "        else:\n",
      "            if derallernaechstepunkt == None:\n",
      "                derallernaechstepunkt = mintemp\n",
      "            elif mintemp < derallernaechstepunkt:\n",
      "                derallernaechstepunkt = mintemp\n",
      "\n",
      "    else:\n",
      "        print \"Es ist m\u00f6glich einen direkten Linker zu machen, da der n\u00e4chste Punkt vom Linker \" + str(derallernaechstepunkt * kalib) + \\\n",
      "              \" pm entfernt ist.\"\n",
      "    \n",
      "    \n",
      "#FIXME, der Control Flow... Wenn es vorher feststellt, dass die Enden sehr nah beieinander sind, geht es dennoch durch das ganze \n",
      "#untere wieder durch... Mal schauen, was sich da machen l\u00e4sst."
     ],
     "language": "python",
     "metadata": {},
     "outputs": [
      {
       "output_type": "stream",
       "stream": "stdout",
       "text": [
        "Es ist nicht m\u00f6glich einen direkten Linker zu bauen. Der minimale Abstand von der direkten Verbindung betrug: 122.539462445 pm\n"
       ]
      }
     ],
     "prompt_number": 7
    },
    {
     "cell_type": "markdown",
     "metadata": {},
     "source": [
      "Ob eine Region au\u00dfen ist. Daf\u00fcr werden von dem Punkt Strahlen in alle Richtungen in 5\u00b0 Schritten gemacht und diese dann in eine Liste geschrieben, welche Winkel frei sind."
     ]
    },
    {
     "cell_type": "code",
     "collapsed": false,
     "input": [
      "#Test, ob die Enden auch au\u00dfensind\n",
      "#Abstand zwischen Anfang und allen anderen Punkten in einem Array\n",
      "\n",
      "#aufpunkt, der Punkt von wo aus geht\n",
      "#gerade: normiert\n",
      "#gibt True zur\u00fcck, wenn kein Punkt in der N\u00e4he der Geraden ist.\n",
      "\n",
      "def punktebeigerade(minabstand, pkte, gerade, aufpunkt, laenge):\n",
      "    kantenlaenge = 4 * minabstand\n",
      "    wuerfeldiaghalbe = np.sqrt(3)/2 * kantenlaenge\n",
      "    \n",
      "    anzahlwuerfel = int(laenge / wuerfeldiaghalbe) + 1 \n",
      "    \n",
      "    #nun die Verbindungsgerade zwischen den beiden Punkten. v = m * t + x0 mit normiertem m und t (Abstand*parameter)\n",
      "    wuerfelmitten = []\n",
      "\n",
      "    for i in range(0, anzahlwuerfel):\n",
      "        wuerfelmitten.append( gerade * (wuerfeldiaghalbe * (i + 1)) + aufpunkt)\n",
      "    \n",
      "        \n",
      "    wuerfelmitten = np.array(wuerfelmitten)\n",
      "        \n",
      "    #print wuerfelmitten\n",
      "    \n",
      "    \n",
      "    #minimale Abstand, den etwas haben muss, von W\u00fcrfelmittelpunkt, ab dem wir sagen, dass was zu nah ist\n",
      "    minabstandcalc = np.sqrt(5) * minabstand\n",
      "    \n",
      "    \n",
      "    #das Einschr\u00e4nken der Werte auf die W\u00fcrfelinnereien\n",
      "    for mitte in wuerfelmitten:\n",
      "        keep = ((pkte[:,0] > (mitte[0] - (kantenlaenge / 2))) & (pkte[:,0] < (mitte[0] + (kantenlaenge / 2))) & \\\n",
      "                (pkte[:,1] > (mitte[1] - (kantenlaenge / 2))) & (pkte[:,1] < (mitte[1] + (kantenlaenge / 2))) & \\\n",
      "                (pkte[:,2] > (mitte[2] - (kantenlaenge / 2))) & (pkte[:,2] < (mitte[2] + (kantenlaenge / 2))))   \n",
      "        \n",
      "        \n",
      "        wuerfelpunkte = pkte[keep]\n",
      "        if np.size(wuerfelpunkte) == 0:\n",
      "            continue\n",
      "        \n",
      "        mintemp = np.min(abstandpktzuarray(mitte, wuerfelpunkte))\n",
      "        \n",
      "        if  mintemp < minabstandcalc:\n",
      "            return False\n",
      "            break\n",
      "         \n",
      "    else:\n",
      "        return True\n",
      "    \n",
      "\n",
      "#das sind nun 2592 Berechnungen...\n",
      "testwinkel = np.mgrid[0:180:5, 0:360:5] * np.pi/180 #Endwinkel nicht enthalten, null mit drinnen, das sind ja auch nur 70 Rechn extra\n",
      "winkelarray = np.reshape(np.ravel(testwinkel), (2592,2), 'F')    \n",
      "\n",
      "gerade = np.array([0,0,1])\n",
      "\n",
      "#die Winkel sind von der Z-Achse gemessen.\n",
      "\n",
      "#Ueberpr\u00fcfen, ob der Anfang innen ist.\n",
      "maxvonanfang = np.max(abstandpktzuarray(pkte[0] ,PointsOfAllSubunits))\n",
      "#geradenarray = np.reshape(np.ravel(drehenxy(testwinkel[0], testwinkel[1], gerade), order = 'F'), (2592,3), 'C')\n",
      "\n",
      "moeglichewinkelanfangbool = []\n",
      "\n",
      "for winkel in winkelarray:\n",
      "    moeglichewinkelanfangbool.append(punktebeigerade(minabstand, PointsOfAllSubunits, drehenxy(winkel[0], winkel[1], gerade),\\\n",
      "                                                     anfangspunkt , maxvonanfang))\n",
      "\n",
      "moeglichewinkelanfangbool = np.array(moeglichewinkelanfangbool)    \n",
      "\n",
      "\n",
      "#\u00dcberpr\u00fcfen, ob das Ende innen ist.\n",
      "maxvonende = np.max(abstandpktzuarray(endpunkt ,PointsOfAllSubunits))\n",
      "\n",
      "moeglichewinkelendebool = []\n",
      "\n",
      "for winkel in winkelarray:\n",
      "    moeglichewinkelendebool.append(punktebeigerade(minabstand, PointsOfAllSubunits, drehenxy(winkel[0], winkel[1], gerade), endpunkt, maxvonende))\n",
      "\n",
      "moeglichewinkelendebool = np.array(moeglichewinkelendebool)\n",
      "\n",
      "\n",
      "\n",
      "moeglichewinkelanfang = winkelarray[moeglichewinkelanfangbool]\n",
      "moeglichewinkelende = winkelarray[moeglichewinkelendebool]\n",
      "if (np.size(moeglichewinkelanfangbool) == 0) | (np.size(moeglichewinkelendebool) == 0):\n",
      "    #TODO, vielleicht noch mit flexiblem Linker verbindbar? Einfach der Test, ob es an der Oberfl\u00e4che ist.\n",
      "    print \"Ein Ende liegt leider innen, nicht zirkularisierbar!\""
     ],
     "language": "python",
     "metadata": {},
     "outputs": [],
     "prompt_number": 8
    },
    {
     "cell_type": "markdown",
     "metadata": {},
     "source": [
      "Wir versuchen nun wirklich einen Linker zu finden. Daf\u00fcr alle m\u00f6glichen Linker, die zum Ziel f\u00fchren erzeugen lassen. So ein Linker ist eindeutig bestimmt, durch die Punkte, durch die er durchgeht, das hei\u00dft man muss nur die Punkte abspeichern lassen. Die kann man dann auswerten im Endeffekt und so den besten Linker rausfinden.\n",
      "\n",
      "Dabei kann ein Linker maximal 3 Winkel haben, dann ist es m\u00f6glich ein 5 Eck mit den Punkten zu bauen. Das ergibt bei einer Winkelvervteilung von jeweils 5 \u00b0 2500^3 M\u00f6glichkeiten.\n",
      "\n",
      "Jede Aminos\u00e4ure in einer Alphahelix macht dann eine Verschiebung um 1,5 Angstr\u00f6m. Das hei\u00dft, dass jedes einzelne Linkerst\u00fcck (keine Gelenke) 1.5A lang ist.\n",
      "\n",
      "F\u00fcr die maximale L\u00e4nge des Linkers legen wir eine Schnur um eine Kugel, mit dem Radius des 3/4 (noch dr\u00fcber sprechen) des maximalen Abstands von dem Ende zu dem Rest.\n",
      "\n"
     ]
    },
    {
     "cell_type": "markdown",
     "metadata": {},
     "source": [
      "Wir sortieren jetzt die Punkte aus, bei denen Proteinpunkte auf der Verbindungslinie zwischen den beiden liegen. \n",
      "\n",
      "Daf\u00fcr berechnen wir f\u00fcr jede Verbindung zwischen A und B alle Abst\u00e4nde AC und BC. Daraus k\u00f6nnen wir dann r\u00fcckschl\u00fcsse ziehen, ob es Punkte gibt, die zwischen der Verbindungslinie liegen. Generell gibt es zwei Kriterien, die erf\u00fcllt sein m\u00fcssen:\n",
      "\n",
      "AC und BC m\u00fcssen k\u00fcrzer sein als AB (Kreis um jeweils den anderen Punkt)\n",
      "AC + BC muss kleiner als $ \\sqrt{AB^2 + d^2}+d$ sein. (Ellipse durch die \u00e4u\u00dfersten Eckpunkte, die wir aussortieren wollen)\n",
      "\n",
      "Mit dieser Methode sortieren wir um ung\u00fcnstigsten Fall (k\u00fcrzester Linker, schlechtester Punkt vom Protein, also ganz in der Mitte) noch Punkte aus, bei denen ein Punkt in 2d Entfernung vom Linker ist. Das ist ok, daf\u00fcr dass das so eine einfache Methode ist."
     ]
    },
    {
     "cell_type": "heading",
     "level": 4,
     "metadata": {},
     "source": [
      "TODO: Irgendwie mit hineinnehmen, ob das Protein gro\u00df ist (verschieden lange Linker nehmen), ob man viele Winkel gleich am Anfang angreifen kann (eine Iteration vllt. herausnehmen) und was man so machen kann, um Rechenzeit zu sparen."
     ]
    },
    {
     "cell_type": "code",
     "collapsed": false,
     "input": [
      "#startingarray must be an array of (x,3) shape. so add it as: [startingarray]\n",
      "#beforearray is used, if also arrays before the connection need to be sliced. Then the boolarray is returned.\n",
      "def sort_out_by_protein(startingarray, endingarray, proteinpoints, mindist, beforearray = None):\n",
      "    if np.size(startingarray, axis=0) == 1:\n",
      "        starttemp = np.repeat(startingarray, np.size(endingarray, axis=0), axis =0)\n",
      "    else:\n",
      "        starttemp = startingarray\n",
      "        \n",
      "    #expand the arrays\n",
      "    startendlength = vectabsar(starttemp-endingarray)\n",
      "    startendlength = np.repeat(startendlength, np.size(proteinpoints, axis=0), axis =0)\n",
      "    starttemp = np.repeat(starttemp, np.size(proteinpoints, axis=0), axis =0)#immer die gleichen hintereinander\n",
      "    endtemp = np.repeat(endingarray, np.size(proteinpoints, axis=0), axis =0)\n",
      "    proteintemp = np.tile(proteinpoints, (np.size(endingarray, axis=0),1))\n",
      "    startprotlength = vectabsar(starttemp-proteintemp)    \n",
      "    endprotlength = vectabsar(endtemp-proteintemp)\n",
      "    \n",
      "    \n",
      "    #arrays for every connection a row and every proteinpoint a column\n",
      "    startendlength = np.reshape(startendlength, (np.size(endingarray, axis = 0), np.size(proteinpoints, axis = 0)), \"F\")\n",
      "    startprotlength = np.reshape(startprotlength, (np.size(endingarray, axis = 0), np.size(proteinpoints, axis = 0)), \"F\")\n",
      "    endprotlength = np.reshape(endprotlength, (np.size(endingarray, axis = 0), np.size(proteinpoints, axis = 0)), \"F\")\n",
      "    \n",
      "    #make the slicingarray, True means sort out\n",
      "    connectpointbool = ((startprotlength < startendlength) & (endprotlength < startendlength) & \\\n",
      "    ((startprotlength + endprotlength) < (np.sqrt(np.square(startendlength)+mindist**2)+mindist)))\n",
      "    connectpointbool = np.invert(connectpointbool.any(axis = 1) )\n",
      "    \n",
      "    if beforearray == None:    \n",
      "        if np.size(startingarray, axis=0) == 1:\n",
      "            return [np.float16(startingarray), np.float16(endingarray[connectpointbool])]\n",
      "        else:\n",
      "            return [np.float16(startingarray[connectpointbool]), np.float16(endingarray[connectpointbool])]\n",
      "    else:\n",
      "        return (np.float16(beforearray[connectpointbool]), np.float16(startingarray[connectpointbool]),\\\n",
      "                np.float16(endingarray[connectpointbool]))"
     ],
     "language": "python",
     "metadata": {},
     "outputs": [],
     "prompt_number": 9
    },
    {
     "cell_type": "markdown",
     "metadata": {},
     "source": [
      "Wir fangen sowohl vorne als auch hinten an, mit allen Winkeln, die m\u00f6glich sind und allen L\u00e4ngen, die m\u00f6glich sind. Wir bekommen dann Arrays von den ersten Punkten und den letzten Punkten nach dem Protein."
     ]
    },
    {
     "cell_type": "code",
     "collapsed": false,
     "input": [
      "#gibt ein Array zur\u00fcck, das zu jedem Punkt, jede Verschiebung macht aus dem verschiebungsarray. Verschiebungsarray\n",
      "#sind einfach Vektoren, wie das verschoben werden kann\n",
      "#anfangsarray sind Vektoren, von denen wir ausgehen.\n",
      "\n",
      "def naechstepunkte(anfangsarray, verschiebungsarray):\n",
      "    laengeanfang = np.size(anfangsarray, axis=0)\n",
      "    laengeversch = np.size(verschiebungsarray, axis=0)\n",
      "    hilfanfang = np.float16(np.repeat(anfangsarray, laengeversch, axis=0))\n",
      "    hilfversch = np.float16(np.tile(verschiebungsarray, (laengeanfang, 1)))\n",
      "    return [hilfanfang, hilfanfang + hilfversch]\n",
      "\n",
      "#schmei\u00dft Punkte raus, die in dem Protein liegen, bzw. die zu weit vom Protein weg sind,\n",
      "#gibt ein Bool Array raus, mit dem man das Punktearray slicen kann, vom Protein wird nur jeder 4 Punkt verwendet\n",
      "def aussortierennachpunken(punktearray, proteinpunkte, minabstand, maxabstand):\n",
      "    temp1 = np.repeat(punktearray, np.size(proteinpunkte[::4], axis=0), axis =0)\n",
      "    temp2 = np.tile(proteinpunkte[::4], (np.size(punktearray, axis=0),1))\n",
      "    abstaende = np.reshape(abstandarrays(temp1, temp2), (np.size(punktearray, axis=0), np.size(proteinpunkte[::4], axis=0)))\n",
      "    minimaleabst = np.min(abstaende, axis=1)\n",
      "    keep = (minimaleabst < maxabstand) & (minimaleabst > minabstand)\n",
      "    return keep\n",
      "    "
     ],
     "language": "python",
     "metadata": {},
     "outputs": [],
     "prompt_number": 10
    },
    {
     "cell_type": "code",
     "collapsed": false,
     "input": [
      "#hier muss man eintragen, welche Helix-linkerl\u00e4ngen in AS m\u00f6glich sind.\n",
      "linkerdatenbank = np.array([\"AEAAAKA\", \"AEAAAKEAAAKA\", \"AEAAAKEAAAKEAAAKA\", \"AEAAAKEAAAKEAAAKEAAAKA\",\\\n",
      "                   \"AEAAAKEAAAKEAAAKEAAAKEAAAKA\"])\n",
      "linkerlaengenAS = []\n",
      "\n",
      "for i in range(len(linkerdatenbank)):\n",
      "    linkerlaengenAS.append(len(linkerdatenbank[i]))\n",
      "    \n",
      "linkerlaengenAS = np.array(linkerlaengenAS)\n",
      "linkerlaengenME = linkerlaengenAS * 150 #in pm\n",
      "linkerlaengenKO = linkerlaengenME / kalib #in koordinaten\n",
      "#TODO dar\u00fcber nachdenken, ob 1.5 wirklich richtig ist.\n",
      "SortOutLinkers = linkerlaengenKO < 1.5*maxvonanfang\n",
      "\n",
      "linkerlaengenAS = linkerlaengenAS[SortOutLinkers]\n",
      "linkerlaengenME = linkerlaengenME[SortOutLinkers]\n",
      "linkerlaengenKO = linkerlaengenKO[SortOutLinkers]\n",
      "linkerdatenbank = linkerdatenbank[SortOutLinkers]\n",
      "\n",
      "laengstesstueck = np.max(linkerlaengenKO)\n",
      "anzahllinker = np.size(linkerlaengenKO)\n",
      "\n",
      "maxlinkerAS = int(3 * max(maxvonanfang, maxvonende)) #pi*0.75/1.5 in Aminos\u00e4uren\n",
      "maxlinkerKO = maxlinkerAS * 150/kalib\n",
      "anzahleckenmax = maxlinkerKO / np.max(linkerlaengenKO)\n",
      "anzahleckenmin = abstandanfend / np.min(linkerlaengenKO)"
     ],
     "language": "python",
     "metadata": {},
     "outputs": [],
     "prompt_number": 11
    },
    {
     "cell_type": "code",
     "collapsed": false,
     "input": [
      "#returns a boolian array which paths to keep, middle and endingarray must have same dimension, startingarray is only one \n",
      "#entry\n",
      "def sort_out_by_angle (startingarray, middlearray, endingarray, angle = 15):\n",
      "    if np.size(startingarray, axis = 0) == 1:\n",
      "        startingexp = np.repeat(startingarray, np.size(middlearray, axis=0), axis =0)\n",
      "        vect1 = (startingexp - middlearray)\n",
      "        vect2 = (endingarray - middlearray)\n",
      "        #catch if there is 0 displacement\n",
      "        tocalculate = ((vect1 != np.array([0,0,0])).any(1)) & ((vect2 != np.array([0,0,0])).any(1))\n",
      "        vect1 = vect1[tocalculate]\n",
      "        vect2 = vect2[tocalculate]\n",
      "        angles = np.arccos(skalar_product(vect1, vect2)/(vectabsar(vect1)*vectabsar(vect2)))\n",
      "        keep = angles > (angle * np.pi/180)\n",
      "        tempmid = middlearray[tocalculate]\n",
      "        tempend = endingarray[tocalculate]\n",
      "        tocalctemp = tocalculate == False\n",
      "        tempmid = np.concatenate((tempmid[keep], middlearray[tocalctemp]), axis = 0)\n",
      "        tempend = np.concatenate((tempend[keep], endingarray[tocalctemp]), axis = 0)\n",
      "\n",
      "        return (tempmid, tempend)\n",
      "    #if there is an array inserted at the beginning, not a point.\n",
      "    else:\n",
      "        startingexp = startingarray\n",
      "        vect1 = (startingexp - middlearray)\n",
      "        vect2 = (endingarray - middlearray)\n",
      "        #catch if there is 0 displacement\n",
      "        tocalculate = ((vect1 != np.array([0,0,0])).any(1)) & ((vect2 != np.array([0,0,0])).any(1))\n",
      "        vect1 = vect1[tocalculate]\n",
      "        vect2 = vect2[tocalculate]\n",
      "        angles = np.arccos(skalar_product(vect1, vect2)/(vectabsar(vect1)*vectabsar(vect2)))\n",
      "        keep = angles > (angle * np.pi/180)\n",
      "        tempstart = startingarray[tocalculate]\n",
      "        tempmid = middlearray[tocalculate]\n",
      "        tempend = endingarray[tocalculate]\n",
      "        tocalctemp = tocalculate == False\n",
      "        tempstart = np.concatenate((tempstart[keep], startingarray[tocalctemp]), axis = 0)\n",
      "        tempmid = np.concatenate((tempmid[keep], middlearray[tocalctemp]), axis = 0)\n",
      "        tempend = np.concatenate((tempend[keep], endingarray[tocalctemp]), axis = 0)\n",
      "\n",
      "        return (tempstart, tempmid, tempend)"
     ],
     "language": "python",
     "metadata": {},
     "outputs": [],
     "prompt_number": 12
    },
    {
     "cell_type": "code",
     "collapsed": false,
     "input": [
      "#RAM in GByte,\n",
      "#repetition, how often is the largest array repeted\n",
      "def make_small_generator(PointArray, repetition, RAM, ProteinArray = None):\n",
      "    AvailableRAM = RAM * 1073741824 #in BytesWaBytesWarning\n",
      "    \n",
      "    \n",
      "    try:\n",
      "        PointSize = PointArray.nbytes    \n",
      "    except:\n",
      "        PointSize = PointArray * 2 #assumes, that it is the size of the array, and this is float 16\n",
      "    \n",
      "    if ProteinArray != None:\n",
      "        proteinsize = np.size(ProteinArray, axis = 0)\n",
      "    else:\n",
      "        proteinsize = 1\n",
      "        \n",
      "    UsedMem = PointSize * proteinsize * repetition\n",
      "    \n",
      "    return (int(UsedMem) / AvailableRAM) + 1\n",
      "\n"
     ],
     "language": "python",
     "metadata": {},
     "outputs": [],
     "prompt_number": 15
    },
    {
     "cell_type": "heading",
     "level": 3,
     "metadata": {},
     "source": [
      "Ab hier kann man nach oben starten, wenn es einen Fehler gab."
     ]
    },
    {
     "cell_type": "code",
     "collapsed": false,
     "input": [
      "#wir machen Arrays aus den Verschiebungen, f\u00fcr alle drei auf einmal, alle normiert\n",
      "anfversch = np.array([[0,0,0]])\n",
      "endversch = np.array([[0,0,0]])\n",
      "versch = np.array([[0,0,0]])\n",
      "for winkel in winkelarray:\n",
      "    temp = drehenxy(winkel[0], winkel[1], np.array([0,0,1]))\n",
      "    versch = np.append(versch, [temp], axis=0)\n",
      "    if any((moeglichewinkelanfang[:]==winkel).all(1)):\n",
      "        anfversch = np.append(anfversch, [temp], axis=0)\n",
      "    if any((moeglichewinkelende[:]==winkel).all(1)):\n",
      "        endversch = np.append(endversch, [temp], axis=0)\n",
      "\n",
      "#die verschiebungen mit den Linkerl\u00e4ngen multiplizieren, wichtig ist, in den versch sind immer auch nuller drinnen\n",
      "versch = np.tile(versch, (np.size(linkerlaengenKO),1)) * \\\n",
      "        np.reshape( np.repeat(np.repeat(linkerlaengenKO, np.size(versch, axis=0)), 3), \\\n",
      "                   (anzahllinker*np.size(versch, axis=0),3))\n",
      "\n",
      "anfversch = np.tile(anfversch, (np.size(linkerlaengenKO),1)) * \\\n",
      "           np.reshape( np.repeat(np.repeat(linkerlaengenKO, np.size(anfversch, axis=0)), 3),\\\n",
      "                      (anzahllinker*np.size(anfversch, axis=0),3))\n",
      "    \n",
      "endversch = np.tile(endversch, (np.size(linkerlaengenKO),1)) * \\\n",
      "           np.reshape( np.repeat(np.repeat(linkerlaengenKO, np.size(endversch, axis=0)), 3), \\\n",
      "                      (anzahllinker*np.size(endversch, axis=0),3))\n",
      "    \n",
      "#hier werden die Punkte generiert\n",
      "erstepunkte = np.float16(naechstepunkte([anfangspunkt],anfversch)[1])\n",
      "erstepunkte = erstepunkte[aussortierennachpunken(erstepunkte, PointsOfAllSubunits, minabstand, maxabstand)]\n",
      "\n",
      "letztepunkte = np.float16(naechstepunkte([endpunkt], endversch)[1])\n",
      "letztepunkte = letztepunkte[aussortierennachpunken(letztepunkte, PointsOfAllSubunits, minabstand, maxabstand)]\n",
      "\n",
      "#aussortieren, ob Punkte durch Protein gehen\n",
      "print np.shape(erstepunkte)\n",
      "#we just test with all as but not the first and last, because they are too close.\n",
      "\n",
      "#TODO hier abfangen, falls gleich alle Punkte weggemacht werden und dann eine Ausgabe machen, dass das ziemlich schwierig\n",
      "#und dann aber weiterfortlaufen, das gleiche auch mit den letzten Punkten\n",
      "if np.size(erstepunkte, axis = 0) > 5:\n",
      "    erstepunktetest = sort_out_by_protein([anfangspunkt], erstepunkte,\\\n",
      "                                      np.concatenate((pkte[AmountOfAtomsFirstAA:-AmountOfAtomsLastAA], OtherPoints), \\\n",
      "                                                     axis = 0), minabstand)[1]\n",
      "if np.size(erstepunktetest) != 0:\n",
      "    erstepunkte = erstepunktetest\n",
      "\n",
      "if np.size(letztepunkte, axis = 0) > 5:\n",
      "    letztepunktetest = sort_out_by_protein([endpunkt], letztepunkte, \\\n",
      "                                      np.concatenate((pkte[AmountOfAtomsFirstAA:-AmountOfAtomsLastAA], OtherPoints), axis = 0), minabstand)[1]\n",
      "if np.size(letztepunktetest) != 0:\n",
      "    letztepunkte = letztepunktetest\n",
      "\n",
      "\n",
      "print np.shape(erstepunkte)\n",
      "\n",
      "#wir sortieren erstepunkte aus, die zu weit vom Ende entfernt liegen, sodass sie nicht mehr durch \n",
      "#die doppelte l\u00e4ngste Linkerl\u00e4nge verbunden werden k\u00f6nnen\n",
      "\n",
      "temp = abstandpktzuarray(endpunkt, erstepunkte)\n",
      "keep = temp < (3 * laengstesstueck)\n",
      "erstepunkte = erstepunkte[keep]\n",
      "\n",
      "\n",
      "#wir sortieren erstepunkte aus, die zu weit vom Ende entfernt liegen, sodass sie nicht mehr durch \n",
      "#die doppelte l\u00e4ngste Linkerl\u00e4nge verbunden werden k\u00f6nnen\n",
      "\n",
      "temp = abstandpktzuarray(anfangspunkt, letztepunkte)\n",
      "keep = temp < (3 * laengstesstueck)\n",
      "letztepunkte = letztepunkte[keep]\n",
      "\n",
      "#die zweite iteration, erstepunkte wird so gro\u00df gemacht, wie zweitepunkte, damit \n",
      "zweiteiteration = naechstepunkte(erstepunkte, versch)\n",
      "zweitepunkte = np.float16(zweiteiteration[1])\n",
      "erstepunkte = np.float16(zweiteiteration[0])\n",
      "\n",
      "print np.shape(erstepunkte)\n",
      "print np.shape(letztepunkte)\n",
      "\n"
     ],
     "language": "python",
     "metadata": {},
     "outputs": [
      {
       "metadata": {},
       "output_type": "pyout",
       "prompt_number": 16,
       "text": [
        "'\\n#die zweite iteration, erstepunkte wird so gro\\xc3\\x9f gemacht, wie zweitepunkte, damit \\nzweiteiteration = naechstepunkte(erstepunkte, versch)\\nzweitepunkte = np.float16(zweiteiteration[1])\\nerstepunkte = np.float16(zweiteiteration[0])\\n\\nprint np.shape(erstepunkte)\\nprint np.shape(letztepunkte)\\n\\n'"
       ]
      }
     ],
     "prompt_number": 16
    },
    {
     "cell_type": "markdown",
     "metadata": {},
     "source": [
      "Wir sortieren nun alle Winkel aus, die kleiner als 15\u00b0 sind. Das machen wir aber nicht f\u00fcr die Anfangs und Endpunkte, da nicht klar ist, wie dort die Alphahelix angesetzt wird."
     ]
    },
    {
     "cell_type": "code",
     "collapsed": false,
     "input": [
      "#Nach Winkeln aussortieren, von vorne.\n",
      "\n",
      "temp = sort_out_by_angle([anfangspunkt], erstepunkte, zweitepunkte, angle=15)\n",
      "erstepunkte = temp[0]\n",
      "zweitepunkte = temp[1]"
     ],
     "language": "python",
     "metadata": {},
     "outputs": [
      {
       "output_type": "stream",
       "stream": "stderr",
       "text": [
        "-c:12: RuntimeWarning: invalid value encountered in arccos\n",
        "-c:13: RuntimeWarning: invalid value encountered in greater\n"
       ]
      }
     ],
     "prompt_number": 14
    },
    {
     "cell_type": "code",
     "collapsed": false,
     "input": [
      "print anzahleckenmax\n",
      "print anzahleckenmin"
     ],
     "language": "python",
     "metadata": {},
     "outputs": [
      {
       "output_type": "stream",
       "stream": "stdout",
       "text": [
        "5.18518518519\n",
        "1.98604708513\n"
       ]
      }
     ],
     "prompt_number": 15
    },
    {
     "cell_type": "code",
     "collapsed": false,
     "input": [
      "#wir sortieren zweite Punkte aus, die zu weit vom Ende entfernt liegen, sodass sie nicht mehr durch \n",
      "#die doppelte l\u00e4ngste Linkerl\u00e4nge verbunden werden k\u00f6nnen\n",
      "\n",
      "temp = abstandpktzuarray(endpunkt, zweitepunkte)\n",
      "keep = temp < (2 * laengstesstueck)\n",
      "zweitepunkte = zweitepunkte[keep]\n",
      "erstepunkte = erstepunkte[keep]\n",
      "\n",
      "np.shape(zweitepunkte)"
     ],
     "language": "python",
     "metadata": {},
     "outputs": [
      {
       "metadata": {},
       "output_type": "pyout",
       "prompt_number": 16,
       "text": [
        "(32258946, 3)"
       ]
      }
     ],
     "prompt_number": 16
    },
    {
     "cell_type": "code",
     "collapsed": false,
     "input": [
      "#L\u00e4uft 980 sek, sortiert 60 000 Punkte aus\n",
      "#wir sortieren die Punkte aus, die zu weit oder zu nah im Protein sind\n",
      "StartTime = time.time()\n",
      "MakeSmall = make_small_generator(zweitepunkte,1 , 6 , ProteinArray = PointsOfAllSubunits)\n",
      "teiler = np.size(zweitepunkte, axis = 0)/MakeSmall\n",
      "temp = aussortierennachpunken(zweitepunkte[:teiler], PointsOfAllSubunits, minabstand, maxabstand)\n",
      "\n",
      "for i in range(1,MakeSmall):\n",
      "    temp = np.concatenate((temp, aussortierennachpunken(zweitepunkte[i*teiler:(i+1)*teiler],\\\n",
      "                                                        PointsOfAllSubunits, minabstand, maxabstand)), axis = 0)\n",
      "\n",
      "temp = np.concatenate((temp, aussortierennachpunken(zweitepunkte[(i+1)*teiler:-1],\\\n",
      "                                                        PointsOfAllSubunits, minabstand, maxabstand)), axis = 0)\n",
      "\n",
      "print time.time()-StartTime    \n",
      "temp = np.array(temp)\n",
      "temp = np.ravel(temp, \"C\")\n",
      "\n",
      "zweitepunkte = zweitepunkte[temp]\n",
      "erstepunkte = erstepunkte[temp]\n",
      "print np.shape(erstepunkte)\n",
      "#save for saving calculationtime\n",
      "pickle.dump((erstepunkte, zweitepunkte, letztepunkte), open(\"files/savelysozym.p\", \"wb\"))"
     ],
     "language": "python",
     "metadata": {},
     "outputs": [
      {
       "output_type": "stream",
       "stream": "stdout",
       "text": [
        "977.232348919\n",
        "(29131476, 3)"
       ]
      },
      {
       "output_type": "stream",
       "stream": "stdout",
       "text": [
        "\n"
       ]
      }
     ],
     "prompt_number": 18
    },
    {
     "cell_type": "code",
     "collapsed": false,
     "input": [
      "\"\"\"\n",
      "punktetemp = pickle.load( open( \"files/savelysozym.p\", \"rb\" ) )\n",
      "erstepunkte = punktetemp[0]\n",
      "zweitepunkte = punktetemp[1]\n",
      "letztepunkte = punktetemp[2]\n",
      "\"\"\""
     ],
     "language": "python",
     "metadata": {},
     "outputs": [
      {
       "metadata": {},
       "output_type": "pyout",
       "prompt_number": 19,
       "text": [
        "'\\npunktetemp = pickle.load( open( \"savelysozym.p\", \"rb\" ) )\\nerstepunkte = punktetemp[0]\\nzweitepunkte = punktetemp[1]\\n'"
       ]
      }
     ],
     "prompt_number": 19
    },
    {
     "cell_type": "code",
     "collapsed": false,
     "input": [
      "#l\u00e4uft etwa 11 minuten, reduziert um die H\u00e4lfte\n",
      "MakeSmall = make_small_generator(zweitepunkte, 10 , 6 , ProteinArray = PointsOfAllSubunits)\n",
      "\n",
      "teiler = np.size(zweitepunkte, axis=0)/(MakeSmall)\n",
      "temp = sort_out_by_protein(erstepunkte[:teiler], zweitepunkte[:teiler], PointsOfAllSubunits, minabstand)\n",
      "erstetemp = temp[0]\n",
      "zweitetemp = temp[1]\n",
      "\n",
      "\n",
      "\n",
      "bla = time.time()\n",
      "#das l\u00e4uft zu lange...\n",
      "for i in range(1, MakeSmall):\n",
      "    temp = sort_out_by_protein(erstepunkte[i*teiler:(i+1)*teiler], zweitepunkte[i*teiler:(i+1)*teiler],\\\n",
      "                        PointsOfAllSubunits, minabstand)\n",
      "    \n",
      "    erstetemp = np.concatenate((erstetemp, temp[0]), axis =0)\n",
      "    zweitetemp = np.concatenate((zweitetemp, temp[1]), axis =0)\n",
      "    \n",
      "\n",
      "    \n",
      "temp = sort_out_by_protein(erstepunkte[(i+1)*teiler:-1], zweitepunkte[(i+1)*teiler:-1],\\\n",
      "                        PointsOfAllSubunits, minabstand)\n",
      "    \n",
      "erstetemp = np.concatenate((erstetemp, temp[0]), axis = 0)\n",
      "zweitetemp = np.concatenate((zweitetemp, temp[1]), axis = 0)\n",
      "\n",
      "erstepunkte = np.float16(erstetemp)\n",
      "zweitepunkte = np.float16(zweitetemp)\n",
      "\n",
      "print bla - time.time()\n",
      "print np.size(erstepunkte, axis = 0)"
     ],
     "language": "python",
     "metadata": {},
     "outputs": []
    },
    {
     "cell_type": "code",
     "collapsed": false,
     "input": [
      "pickle.dump((erstepunkte, zweitepunkte, letztepunkte), open(\"files/savelysozym.p\", \"wb\"))"
     ],
     "language": "python",
     "metadata": {},
     "outputs": [],
     "prompt_number": 18
    },
    {
     "cell_type": "code",
     "collapsed": false,
     "input": [
      "print np.size(erstepunkte, axis = 0)\n",
      "print np.size(zweitepunkte, axis = 0)"
     ],
     "language": "python",
     "metadata": {},
     "outputs": [
      {
       "output_type": "stream",
       "stream": "stdout",
       "text": [
        "15000278\n",
        "15000278\n"
       ]
      }
     ],
     "prompt_number": 21
    },
    {
     "cell_type": "code",
     "collapsed": false,
     "input": [
      "punktetemp = pickle.load( open( \"files/savelysozym.p\", \"rb\" ) )\n",
      "erstepunkte = punktetemp[0]\n",
      "zweitepunkte = punktetemp[1]\n",
      "letztepunkte = punktetemp[2]"
     ],
     "language": "python",
     "metadata": {},
     "outputs": [],
     "prompt_number": 14
    },
    {
     "cell_type": "heading",
     "level": 5,
     "metadata": {},
     "source": [
      "TODO \u00fcberlegen, wie viel ich in einem Schleifendurchlauf verarbeiten kann, so l\u00e4uft es 22 Sekunden und sortiert auf 1/10 aus. Je nachdem,wie viele letztePunkte es gibt, sollte man diesen Schritt vor dem anderen machen, da er so gerade sehr krass aussortiert und dadurch sehr viel Zeit gespart werden kann..."
     ]
    },
    {
     "cell_type": "code",
     "collapsed": false,
     "input": [
      "#~500s\n",
      "#davor 1GB im SWAP\n",
      "hitgenauig = 0.0436 * laengstesstueck\n",
      "\n",
      "#returns three arrays with all possible paths, made out of all possible combinations startingpoints to endingpoints\n",
      "#that are in a certain distance\n",
      "def sort_out_by_distance(startingpoints, endingpoints, firstpoints, distance, variation):\n",
      "    starttemp = np.float16(np.repeat(startingpoints, np.size(endingpoints, axis=0), axis =0))\n",
      "    endtemp = np.float16(np.tile(endingpoints, (np.size(startingpoints, axis=0),1)))\n",
      "    abstaende = abstandarrays(starttemp, endtemp)\n",
      "    keep = ((abstaende > (distance-variation)) & (abstaende < (distance+variation)))\n",
      "    firsttemp = np.float16(np.repeat(firstpoints, np.size(endingpoints, axis=0), axis =0))\n",
      "    return [firsttemp[keep], starttemp[keep], endtemp[keep]]\n",
      "\n",
      "blatime = time.time()\n",
      "\n",
      "\n",
      "MakeSmall = make_small_generator(zweitepunkte,8 , 6 , ProteinArray = letztepunkte)\n",
      "\n",
      "teiler = np.size(zweitepunkte, axis=0)/(MakeSmall)\n",
      "\n",
      "\n",
      "if os.path.exists('files/datalys.h5'):\n",
      "    os.remove('files/datalys.h5')\n",
      "h5f = h5py.File('files/datalys.h5', \"w\")\n",
      "\n",
      "\n",
      "for laenge in linkerlaengenKO:\n",
      "    \n",
      "    for i in range(0,(MakeSmall)):\n",
      "                  \n",
      "        temp = sort_out_by_distance(zweitepunkte[i*teiler:(i+1)*teiler], letztepunkte,\\\n",
      "                                    erstepunkte[i*teiler:(i+1)*teiler], laenge, hitgenauig)\n",
      "        if i == 0:\n",
      "            erstetemp = temp[0]\n",
      "            zweitetemp= temp[1]\n",
      "            drittetemp= temp[2]\n",
      "        else:\n",
      "            erstetemp = np.concatenate((erstetemp, temp[0]), axis =0)\n",
      "            zweitetemp = np.concatenate((zweitetemp, temp[1]), axis =0)\n",
      "            drittetemp = np.concatenate((drittetemp, temp[2]), axis =0)\n",
      "        \n",
      "    temp = sort_out_by_distance(zweitepunkte[(i+1)*teiler:], letztepunkte, erstepunkte[(i+1)*teiler:], laenge, hitgenauig)\n",
      "    erstetemp = np.concatenate((erstetemp, temp[0]), axis =0)\n",
      "    zweitetemp = np.concatenate((zweitetemp, temp[1]), axis =0)\n",
      "    drittetemp = np.concatenate((drittetemp, temp[2]), axis =0)\n",
      "    \n",
      "    count = 1\n",
      "    for array in [erstetemp, zweitetemp, drittetemp]:\n",
      "        h5f.create_dataset(\"dataset_{points}{linker}\".format(points = count, linker = int(laenge)), data=array)\n",
      "        count +=1\n",
      "    print blatime-time.time()\n",
      "    \n",
      "h5f.close()\n",
      "    \n",
      "    \n"
     ],
     "language": "python",
     "metadata": {},
     "outputs": [
      {
       "output_type": "stream",
       "stream": "stdout",
       "text": [
        "-939.220285892\n",
        "-1826.60678291"
       ]
      },
      {
       "output_type": "stream",
       "stream": "stdout",
       "text": [
        "\n",
        "-2653.48902392"
       ]
      },
      {
       "output_type": "stream",
       "stream": "stdout",
       "text": [
        "\n",
        "-3554.95822597"
       ]
      },
      {
       "output_type": "stream",
       "stream": "stdout",
       "text": [
        "\n",
        "-4536.21697092"
       ]
      },
      {
       "output_type": "stream",
       "stream": "stdout",
       "text": [
        "\n"
       ]
      }
     ],
     "prompt_number": 15
    },
    {
     "cell_type": "code",
     "collapsed": false,
     "input": [
      "h5f = h5py.File('files/datalys.h5','r')\n",
      "\n",
      "\n",
      "blubbtime = time.time()\n",
      "\n",
      "for laenge in linkerlaengenKO:\n",
      "    \n",
      "    SizeOfArray = len(h5f[\"dataset_{points}{linker}\".format(points = 1, linker = int(laenge))]) * 3\n",
      "    \n",
      "    \n",
      "    MakeSmall = make_small_generator(SizeOfArray,12 , 6 , ProteinArray = PointsOfAllSubunits)\n",
      "    teiler = SizeOfArray/(MakeSmall * 3)\n",
      "    \n",
      "    \n",
      "    erstepunkte  = h5f[\"dataset_{points}{linker}\".format(points = 1, linker = int(laenge))][:teiler]\n",
      "    zweitepunkte = h5f[\"dataset_{points}{linker}\".format(points = 2, linker = int(laenge))][:teiler]\n",
      "    drittepunkte = h5f[\"dataset_{points}{linker}\".format(points = 3, linker = int(laenge))][:teiler]\n",
      "\n",
      "    temp = sort_out_by_protein(zweitepunkte, drittepunkte, \\\n",
      "                               PointsOfAllSubunits, minabstand, beforearray = erstepunkte)\n",
      "    erstetemp = temp[0]\n",
      "    zweitetemp = temp[1]\n",
      "    drittetemp = temp[2]\n",
      "\n",
      "\n",
      "\n",
      "    bla = time.time()\n",
      "    #das l\u00e4uft zu lange, ein Durchlauf 2.5s, das hei\u00dft insgesamt: 30500~9hs\n",
      "    for i in range(1, MakeSmall):\n",
      "        erstepunkte  = h5f[\"dataset_{points}{linker}\".format(points = 1, linker = int(laenge))][i * teiler:(i+1)*teiler]\n",
      "        zweitepunkte = h5f[\"dataset_{points}{linker}\".format(points = 2, linker = int(laenge))][i * teiler:(i+1)*teiler]\n",
      "        drittepunkte = h5f[\"dataset_{points}{linker}\".format(points = 3, linker = int(laenge))][i * teiler:(i+1)*teiler]\n",
      "        temp = sort_out_by_protein(zweitepunkte, drittepunkte, \\\n",
      "                               PointsOfAllSubunits, minabstand, beforearray = erstepunkte)\n",
      "\n",
      "        erstetemp = np.concatenate((erstetemp, temp[0]), axis =0)\n",
      "        zweitetemp = np.concatenate((zweitetemp, temp[1]), axis =0)\n",
      "        drittetemp = np.concatenate((drittetemp, temp[2]), axis =0)\n",
      "        \n",
      "        print str(time.time() - blubbtime) + \"f\u00fcr einen makesmalldurchlauf\"\n",
      "\n",
      "    erstepunkte  = h5f[\"dataset_{points}{linker}\".format(points = 1, linker = int(laenge))][(i+1) * teiler:]\n",
      "    zweitepunkte = h5f[\"dataset_{points}{linker}\".format(points = 2, linker = int(laenge))][(i+1) * teiler:]\n",
      "    drittepunkte = h5f[\"dataset_{points}{linker}\".format(points = 3, linker = int(laenge))][(i+1) * teiler:]\n",
      "\n",
      "\n",
      "    temp = sort_out_by_protein(zweitepunkte, drittepunkte, \\\n",
      "                               PointsOfAllSubunits, minabstand, beforearray = erstepunkte)\n",
      "\n",
      "    erstetemp = np.concatenate((erstetemp, temp[0]), axis = 0)\n",
      "    zweitetemp = np.concatenate((zweitetemp, temp[1]), axis = 0)\n",
      "    drittetemp = np.concatenate((drittetemp, temp[2]), axis = 0)\n",
      "    \n",
      "    print str(time.time() - blubbtime) + \"f\u00fcr einen linkerdurchlauf\"\n",
      "\n",
      "erstepunkte = np.float16(erstetemp)\n",
      "zweitepunkte = np.float16(zweitetemp)\n",
      "drittepunkte = np.float16(drittetemp)\n",
      "\n",
      "    \n",
      "    \n",
      "\n",
      "h5f.close()\n",
      "    \n",
      "print np.shape(erstepunkte)"
     ],
     "language": "python",
     "metadata": {},
     "outputs": [
      {
       "output_type": "stream",
       "stream": "stdout",
       "text": [
        "34.1337938309f\u00fcr einen makesmalldurchlauf\n",
        "50.939196825f\u00fcr einen makesmalldurchlauf"
       ]
      },
      {
       "output_type": "stream",
       "stream": "stdout",
       "text": [
        "\n",
        "50.941988945f\u00fcr einen linkerdurchlauf\n",
        "94.8183379173f\u00fcr einen makesmalldurchlauf"
       ]
      },
      {
       "output_type": "stream",
       "stream": "stdout",
       "text": [
        "\n",
        "116.707743883f\u00fcr einen makesmalldurchlauf"
       ]
      },
      {
       "output_type": "stream",
       "stream": "stdout",
       "text": [
        "\n",
        "138.584525824f\u00fcr einen makesmalldurchlauf"
       ]
      },
      {
       "output_type": "stream",
       "stream": "stdout",
       "text": [
        "\n",
        "160.492375851f\u00fcr einen makesmalldurchlauf"
       ]
      },
      {
       "output_type": "stream",
       "stream": "stdout",
       "text": [
        "\n",
        "182.434363842f\u00fcr einen makesmalldurchlauf"
       ]
      },
      {
       "output_type": "stream",
       "stream": "stdout",
       "text": [
        "\n",
        "204.420539856f\u00fcr einen makesmalldurchlauf"
       ]
      },
      {
       "output_type": "stream",
       "stream": "stdout",
       "text": [
        "\n",
        "226.322271824f\u00fcr einen makesmalldurchlauf"
       ]
      },
      {
       "output_type": "stream",
       "stream": "stdout",
       "text": [
        "\n",
        "248.18253994f\u00fcr einen makesmalldurchlauf"
       ]
      },
      {
       "output_type": "stream",
       "stream": "stdout",
       "text": [
        "\n",
        "270.048664808f\u00fcr einen makesmalldurchlauf"
       ]
      },
      {
       "output_type": "stream",
       "stream": "stdout",
       "text": [
        "\n",
        "291.919828892f\u00fcr einen makesmalldurchlauf"
       ]
      },
      {
       "output_type": "stream",
       "stream": "stdout",
       "text": [
        "\n",
        "313.94577384f\u00fcr einen makesmalldurchlauf"
       ]
      },
      {
       "output_type": "stream",
       "stream": "stdout",
       "text": [
        "\n",
        "335.859004021f\u00fcr einen makesmalldurchlauf"
       ]
      },
      {
       "output_type": "stream",
       "stream": "stdout",
       "text": [
        "\n",
        "357.726003885f\u00fcr einen makesmalldurchlauf"
       ]
      },
      {
       "output_type": "stream",
       "stream": "stdout",
       "text": [
        "\n",
        "379.628286839f\u00fcr einen makesmalldurchlauf"
       ]
      },
      {
       "output_type": "stream",
       "stream": "stdout",
       "text": [
        "\n",
        "401.547460794f\u00fcr einen makesmalldurchlauf"
       ]
      },
      {
       "output_type": "stream",
       "stream": "stdout",
       "text": [
        "\n",
        "423.507992983f\u00fcr einen makesmalldurchlauf"
       ]
      },
      {
       "output_type": "stream",
       "stream": "stdout",
       "text": [
        "\n",
        "445.494160891f\u00fcr einen makesmalldurchlauf"
       ]
      },
      {
       "output_type": "stream",
       "stream": "stdout",
       "text": [
        "\n",
        "467.410666943f\u00fcr einen makesmalldurchlauf"
       ]
      },
      {
       "output_type": "stream",
       "stream": "stdout",
       "text": [
        "\n",
        "489.309902906f\u00fcr einen makesmalldurchlauf"
       ]
      },
      {
       "output_type": "stream",
       "stream": "stdout",
       "text": [
        "\n",
        "511.221723795f\u00fcr einen makesmalldurchlauf"
       ]
      },
      {
       "output_type": "stream",
       "stream": "stdout",
       "text": [
        "\n",
        "533.205355883f\u00fcr einen makesmalldurchlauf"
       ]
      },
      {
       "output_type": "stream",
       "stream": "stdout",
       "text": [
        "\n",
        "555.143298864f\u00fcr einen makesmalldurchlauf"
       ]
      },
      {
       "output_type": "stream",
       "stream": "stdout",
       "text": [
        "\n",
        "577.105850935f\u00fcr einen makesmalldurchlauf"
       ]
      },
      {
       "output_type": "stream",
       "stream": "stdout",
       "text": [
        "\n",
        "599.121311903f\u00fcr einen makesmalldurchlauf"
       ]
      },
      {
       "output_type": "stream",
       "stream": "stdout",
       "text": [
        "\n",
        "621.496105909f\u00fcr einen makesmalldurchlauf"
       ]
      },
      {
       "output_type": "stream",
       "stream": "stdout",
       "text": [
        "\n",
        "644.403934956f\u00fcr einen makesmalldurchlauf"
       ]
      },
      {
       "output_type": "stream",
       "stream": "stdout",
       "text": [
        "\n",
        "666.826170921f\u00fcr einen makesmalldurchlauf"
       ]
      },
      {
       "output_type": "stream",
       "stream": "stdout",
       "text": [
        "\n",
        "689.170899868f\u00fcr einen makesmalldurchlauf"
       ]
      },
      {
       "output_type": "stream",
       "stream": "stdout",
       "text": [
        "\n",
        "711.859128952f\u00fcr einen makesmalldurchlauf"
       ]
      },
      {
       "output_type": "stream",
       "stream": "stdout",
       "text": [
        "\n",
        "734.306168795f\u00fcr einen makesmalldurchlauf"
       ]
      },
      {
       "output_type": "stream",
       "stream": "stdout",
       "text": [
        "\n",
        "757.772960901f\u00fcr einen makesmalldurchlauf"
       ]
      },
      {
       "output_type": "stream",
       "stream": "stdout",
       "text": [
        "\n",
        "780.749099016f\u00fcr einen makesmalldurchlauf"
       ]
      },
      {
       "output_type": "stream",
       "stream": "stdout",
       "text": [
        "\n",
        "803.92662096f\u00fcr einen makesmalldurchlauf"
       ]
      },
      {
       "output_type": "stream",
       "stream": "stdout",
       "text": [
        "\n",
        "826.391223907f\u00fcr einen makesmalldurchlauf"
       ]
      },
      {
       "output_type": "stream",
       "stream": "stdout",
       "text": [
        "\n",
        "849.093248844f\u00fcr einen makesmalldurchlauf"
       ]
      },
      {
       "output_type": "stream",
       "stream": "stdout",
       "text": [
        "\n",
        "871.525367975f\u00fcr einen makesmalldurchlauf"
       ]
      },
      {
       "output_type": "stream",
       "stream": "stdout",
       "text": [
        "\n",
        "894.644215822f\u00fcr einen makesmalldurchlauf"
       ]
      },
      {
       "output_type": "stream",
       "stream": "stdout",
       "text": [
        "\n",
        "917.586776972f\u00fcr einen makesmalldurchlauf"
       ]
      },
      {
       "output_type": "stream",
       "stream": "stdout",
       "text": [
        "\n",
        "940.354436874f\u00fcr einen makesmalldurchlauf"
       ]
      },
      {
       "output_type": "stream",
       "stream": "stdout",
       "text": [
        "\n",
        "962.975186825f\u00fcr einen makesmalldurchlauf"
       ]
      },
      {
       "output_type": "stream",
       "stream": "stdout",
       "text": [
        "\n",
        "985.760252953f\u00fcr einen makesmalldurchlauf"
       ]
      },
      {
       "output_type": "stream",
       "stream": "stdout",
       "text": [
        "\n",
        "1008.50310302f\u00fcr einen makesmalldurchlauf"
       ]
      },
      {
       "output_type": "stream",
       "stream": "stdout",
       "text": [
        "\n",
        "1031.17978382f\u00fcr einen makesmalldurchlauf"
       ]
      },
      {
       "output_type": "stream",
       "stream": "stdout",
       "text": [
        "\n",
        "1054.18049002f\u00fcr einen makesmalldurchlauf"
       ]
      },
      {
       "output_type": "stream",
       "stream": "stdout",
       "text": [
        "\n",
        "1076.61525679f\u00fcr einen makesmalldurchlauf"
       ]
      },
      {
       "output_type": "stream",
       "stream": "stdout",
       "text": [
        "\n",
        "1099.4818368f\u00fcr einen makesmalldurchlauf"
       ]
      },
      {
       "output_type": "stream",
       "stream": "stdout",
       "text": [
        "\n",
        "1121.91808295f\u00fcr einen makesmalldurchlauf"
       ]
      },
      {
       "output_type": "stream",
       "stream": "stdout",
       "text": [
        "\n",
        "1144.30769086f\u00fcr einen makesmalldurchlauf"
       ]
      },
      {
       "output_type": "stream",
       "stream": "stdout",
       "text": [
        "\n",
        "1166.72270489f\u00fcr einen makesmalldurchlauf"
       ]
      },
      {
       "output_type": "stream",
       "stream": "stdout",
       "text": [
        "\n",
        "1189.57445383f\u00fcr einen makesmalldurchlauf"
       ]
      },
      {
       "output_type": "stream",
       "stream": "stdout",
       "text": [
        "\n",
        "1212.27947783f\u00fcr einen makesmalldurchlauf"
       ]
      },
      {
       "output_type": "stream",
       "stream": "stdout",
       "text": [
        "\n",
        "1234.4639709f\u00fcr einen makesmalldurchlauf"
       ]
      },
      {
       "output_type": "stream",
       "stream": "stdout",
       "text": [
        "\n",
        "1256.47581601f\u00fcr einen makesmalldurchlauf"
       ]
      },
      {
       "output_type": "stream",
       "stream": "stdout",
       "text": [
        "\n",
        "1278.415838f\u00fcr einen makesmalldurchlauf"
       ]
      },
      {
       "output_type": "stream",
       "stream": "stdout",
       "text": [
        "\n",
        "1300.40264797f\u00fcr einen makesmalldurchlauf"
       ]
      },
      {
       "output_type": "stream",
       "stream": "stdout",
       "text": [
        "\n",
        "1322.394835f\u00fcr einen makesmalldurchlauf"
       ]
      },
      {
       "output_type": "stream",
       "stream": "stdout",
       "text": [
        "\n",
        "1344.35517097f\u00fcr einen makesmalldurchlauf"
       ]
      },
      {
       "output_type": "stream",
       "stream": "stdout",
       "text": [
        "\n",
        "1366.31523895f\u00fcr einen makesmalldurchlauf"
       ]
      },
      {
       "output_type": "stream",
       "stream": "stdout",
       "text": [
        "\n",
        "1388.41598296f\u00fcr einen makesmalldurchlauf"
       ]
      },
      {
       "output_type": "stream",
       "stream": "stdout",
       "text": [
        "\n",
        "1410.4535799f\u00fcr einen makesmalldurchlauf"
       ]
      },
      {
       "output_type": "stream",
       "stream": "stdout",
       "text": [
        "\n",
        "1432.43569398f\u00fcr einen makesmalldurchlauf"
       ]
      },
      {
       "output_type": "stream",
       "stream": "stdout",
       "text": [
        "\n",
        "1454.42054796f\u00fcr einen makesmalldurchlauf"
       ]
      },
      {
       "output_type": "stream",
       "stream": "stdout",
       "text": [
        "\n",
        "1476.40508986f\u00fcr einen makesmalldurchlauf"
       ]
      },
      {
       "output_type": "stream",
       "stream": "stdout",
       "text": [
        "\n",
        "1498.35095191f\u00fcr einen makesmalldurchlauf"
       ]
      },
      {
       "output_type": "stream",
       "stream": "stdout",
       "text": [
        "\n",
        "1520.71919179f\u00fcr einen makesmalldurchlauf"
       ]
      },
      {
       "output_type": "stream",
       "stream": "stdout",
       "text": [
        "\n",
        "1542.70325899f\u00fcr einen makesmalldurchlauf"
       ]
      },
      {
       "output_type": "stream",
       "stream": "stdout",
       "text": [
        "\n",
        "1564.66008997f\u00fcr einen makesmalldurchlauf"
       ]
      },
      {
       "output_type": "stream",
       "stream": "stdout",
       "text": [
        "\n",
        "1586.69808698f\u00fcr einen makesmalldurchlauf"
       ]
      },
      {
       "output_type": "stream",
       "stream": "stdout",
       "text": [
        "\n",
        "1608.67910385f\u00fcr einen makesmalldurchlauf"
       ]
      },
      {
       "output_type": "stream",
       "stream": "stdout",
       "text": [
        "\n",
        "1631.39963078f\u00fcr einen makesmalldurchlauf"
       ]
      },
      {
       "output_type": "stream",
       "stream": "stdout",
       "text": [
        "\n",
        "1653.36906886f\u00fcr einen makesmalldurchlauf"
       ]
      },
      {
       "output_type": "stream",
       "stream": "stdout",
       "text": [
        "\n",
        "1675.32726598f\u00fcr einen makesmalldurchlauf"
       ]
      },
      {
       "output_type": "stream",
       "stream": "stdout",
       "text": [
        "\n",
        "1697.32311392f\u00fcr einen makesmalldurchlauf"
       ]
      },
      {
       "output_type": "stream",
       "stream": "stdout",
       "text": [
        "\n",
        "1719.37402701f\u00fcr einen makesmalldurchlauf"
       ]
      },
      {
       "output_type": "stream",
       "stream": "stdout",
       "text": [
        "\n",
        "1741.359061f\u00fcr einen makesmalldurchlauf"
       ]
      },
      {
       "output_type": "stream",
       "stream": "stdout",
       "text": [
        "\n",
        "1763.36523199f\u00fcr einen makesmalldurchlauf"
       ]
      },
      {
       "output_type": "stream",
       "stream": "stdout",
       "text": [
        "\n",
        "1785.3932178f\u00fcr einen makesmalldurchlauf"
       ]
      },
      {
       "output_type": "stream",
       "stream": "stdout",
       "text": [
        "\n",
        "1807.57987094f\u00fcr einen makesmalldurchlauf"
       ]
      },
      {
       "output_type": "stream",
       "stream": "stdout",
       "text": [
        "\n",
        "1829.6194098f\u00fcr einen makesmalldurchlauf"
       ]
      },
      {
       "output_type": "stream",
       "stream": "stdout",
       "text": [
        "\n",
        "1851.78868389f\u00fcr einen makesmalldurchlauf"
       ]
      },
      {
       "output_type": "stream",
       "stream": "stdout",
       "text": [
        "\n",
        "1873.93243885f\u00fcr einen makesmalldurchlauf"
       ]
      },
      {
       "output_type": "stream",
       "stream": "stdout",
       "text": [
        "\n",
        "1896.00254297f\u00fcr einen makesmalldurchlauf"
       ]
      },
      {
       "output_type": "stream",
       "stream": "stdout",
       "text": [
        "\n",
        "1918.13989902f\u00fcr einen makesmalldurchlauf"
       ]
      },
      {
       "output_type": "stream",
       "stream": "stdout",
       "text": [
        "\n",
        "1918.17494798f\u00fcr einen linkerdurchlauf\n",
        "1962.69979382f\u00fcr einen makesmalldurchlauf"
       ]
      },
      {
       "output_type": "stream",
       "stream": "stdout",
       "text": [
        "\n",
        "1985.00579286f\u00fcr einen makesmalldurchlauf"
       ]
      },
      {
       "output_type": "stream",
       "stream": "stdout",
       "text": [
        "\n",
        "2007.28249002f\u00fcr einen makesmalldurchlauf"
       ]
      },
      {
       "output_type": "stream",
       "stream": "stdout",
       "text": [
        "\n",
        "2029.46873879f\u00fcr einen makesmalldurchlauf"
       ]
      },
      {
       "output_type": "stream",
       "stream": "stdout",
       "text": [
        "\n",
        "2051.54474187f\u00fcr einen makesmalldurchlauf"
       ]
      },
      {
       "output_type": "stream",
       "stream": "stdout",
       "text": [
        "\n",
        "2073.64626384f\u00fcr einen makesmalldurchlauf"
       ]
      },
      {
       "output_type": "stream",
       "stream": "stdout",
       "text": [
        "\n",
        "2095.71841002f\u00fcr einen makesmalldurchlauf"
       ]
      },
      {
       "output_type": "stream",
       "stream": "stdout",
       "text": [
        "\n",
        "2117.90319586f\u00fcr einen makesmalldurchlauf"
       ]
      },
      {
       "output_type": "stream",
       "stream": "stdout",
       "text": [
        "\n",
        "2139.95523095f\u00fcr einen makesmalldurchlauf"
       ]
      },
      {
       "output_type": "stream",
       "stream": "stdout",
       "text": [
        "\n",
        "2161.99956179f\u00fcr einen makesmalldurchlauf"
       ]
      },
      {
       "output_type": "stream",
       "stream": "stdout",
       "text": [
        "\n",
        "2184.15405583f\u00fcr einen makesmalldurchlauf"
       ]
      },
      {
       "output_type": "stream",
       "stream": "stdout",
       "text": [
        "\n",
        "2206.26984501f\u00fcr einen makesmalldurchlauf"
       ]
      },
      {
       "output_type": "stream",
       "stream": "stdout",
       "text": [
        "\n",
        "2228.36844492f\u00fcr einen makesmalldurchlauf"
       ]
      },
      {
       "output_type": "stream",
       "stream": "stdout",
       "text": [
        "\n",
        "2250.44056582f\u00fcr einen makesmalldurchlauf"
       ]
      },
      {
       "output_type": "stream",
       "stream": "stdout",
       "text": [
        "\n",
        "2272.50678992f\u00fcr einen makesmalldurchlauf"
       ]
      },
      {
       "output_type": "stream",
       "stream": "stdout",
       "text": [
        "\n",
        "2294.58424783f\u00fcr einen makesmalldurchlauf"
       ]
      },
      {
       "output_type": "stream",
       "stream": "stdout",
       "text": [
        "\n",
        "2316.68053198f\u00fcr einen makesmalldurchlauf"
       ]
      },
      {
       "output_type": "stream",
       "stream": "stdout",
       "text": [
        "\n",
        "2338.87447691f\u00fcr einen makesmalldurchlauf"
       ]
      },
      {
       "output_type": "stream",
       "stream": "stdout",
       "text": [
        "\n",
        "2360.94958186f\u00fcr einen makesmalldurchlauf"
       ]
      },
      {
       "output_type": "stream",
       "stream": "stdout",
       "text": [
        "\n",
        "2382.98206401f\u00fcr einen makesmalldurchlauf"
       ]
      },
      {
       "output_type": "stream",
       "stream": "stdout",
       "text": [
        "\n",
        "2405.20543098f\u00fcr einen makesmalldurchlauf"
       ]
      },
      {
       "output_type": "stream",
       "stream": "stdout",
       "text": [
        "\n",
        "2427.36805892f\u00fcr einen makesmalldurchlauf"
       ]
      },
      {
       "output_type": "stream",
       "stream": "stdout",
       "text": [
        "\n",
        "2449.82326889f\u00fcr einen makesmalldurchlauf"
       ]
      },
      {
       "output_type": "stream",
       "stream": "stdout",
       "text": [
        "\n",
        "2472.04763389f\u00fcr einen makesmalldurchlauf"
       ]
      },
      {
       "output_type": "stream",
       "stream": "stdout",
       "text": [
        "\n",
        "2494.22887301f\u00fcr einen makesmalldurchlauf"
       ]
      },
      {
       "output_type": "stream",
       "stream": "stdout",
       "text": [
        "\n",
        "2516.43105102f\u00fcr einen makesmalldurchlauf"
       ]
      },
      {
       "output_type": "stream",
       "stream": "stdout",
       "text": [
        "\n",
        "2538.62886f\u00fcr einen makesmalldurchlauf"
       ]
      },
      {
       "output_type": "stream",
       "stream": "stdout",
       "text": [
        "\n",
        "2561.07253385f\u00fcr einen makesmalldurchlauf"
       ]
      },
      {
       "output_type": "stream",
       "stream": "stdout",
       "text": [
        "\n",
        "2583.37062192f\u00fcr einen makesmalldurchlauf"
       ]
      },
      {
       "output_type": "stream",
       "stream": "stdout",
       "text": [
        "\n",
        "2605.6437459f\u00fcr einen makesmalldurchlauf"
       ]
      },
      {
       "output_type": "stream",
       "stream": "stdout",
       "text": [
        "\n",
        "2627.89811683f\u00fcr einen makesmalldurchlauf"
       ]
      },
      {
       "output_type": "stream",
       "stream": "stdout",
       "text": [
        "\n",
        "2650.06023598f\u00fcr einen makesmalldurchlauf"
       ]
      },
      {
       "output_type": "stream",
       "stream": "stdout",
       "text": [
        "\n",
        "2672.26787281f\u00fcr einen makesmalldurchlauf"
       ]
      },
      {
       "output_type": "stream",
       "stream": "stdout",
       "text": [
        "\n",
        "2694.48489285f\u00fcr einen makesmalldurchlauf"
       ]
      },
      {
       "output_type": "stream",
       "stream": "stdout",
       "text": [
        "\n",
        "2716.95964289f\u00fcr einen makesmalldurchlauf"
       ]
      },
      {
       "output_type": "stream",
       "stream": "stdout",
       "text": [
        "\n",
        "2739.19335198f\u00fcr einen makesmalldurchlauf"
       ]
      },
      {
       "output_type": "stream",
       "stream": "stdout",
       "text": [
        "\n",
        "2761.37590194f\u00fcr einen makesmalldurchlauf"
       ]
      },
      {
       "output_type": "stream",
       "stream": "stdout",
       "text": [
        "\n",
        "2783.58027291f\u00fcr einen makesmalldurchlauf"
       ]
      },
      {
       "output_type": "stream",
       "stream": "stdout",
       "text": [
        "\n",
        "2805.80520391f\u00fcr einen makesmalldurchlauf"
       ]
      },
      {
       "output_type": "stream",
       "stream": "stdout",
       "text": [
        "\n",
        "2828.01652789f\u00fcr einen makesmalldurchlauf"
       ]
      },
      {
       "output_type": "stream",
       "stream": "stdout",
       "text": [
        "\n",
        "2850.25863886f\u00fcr einen makesmalldurchlauf"
       ]
      },
      {
       "output_type": "stream",
       "stream": "stdout",
       "text": [
        "\n",
        "2872.45461488f\u00fcr einen makesmalldurchlauf"
       ]
      },
      {
       "output_type": "stream",
       "stream": "stdout",
       "text": [
        "\n",
        "2894.65071893f\u00fcr einen makesmalldurchlauf"
       ]
      },
      {
       "output_type": "stream",
       "stream": "stdout",
       "text": [
        "\n",
        "2917.01925492f\u00fcr einen makesmalldurchlauf"
       ]
      },
      {
       "output_type": "stream",
       "stream": "stdout",
       "text": [
        "\n",
        "2939.25799084f\u00fcr einen makesmalldurchlauf"
       ]
      },
      {
       "output_type": "stream",
       "stream": "stdout",
       "text": [
        "\n",
        "2961.47869682f\u00fcr einen makesmalldurchlauf"
       ]
      },
      {
       "output_type": "stream",
       "stream": "stdout",
       "text": [
        "\n",
        "2983.75660396f\u00fcr einen makesmalldurchlauf"
       ]
      },
      {
       "output_type": "stream",
       "stream": "stdout",
       "text": [
        "\n",
        "3006.02075195f\u00fcr einen makesmalldurchlauf"
       ]
      },
      {
       "output_type": "stream",
       "stream": "stdout",
       "text": [
        "\n",
        "3028.22044492f\u00fcr einen makesmalldurchlauf"
       ]
      },
      {
       "output_type": "stream",
       "stream": "stdout",
       "text": [
        "\n",
        "3050.17055297f\u00fcr einen makesmalldurchlauf"
       ]
      },
      {
       "output_type": "stream",
       "stream": "stdout",
       "text": [
        "\n",
        "3072.0994978f\u00fcr einen makesmalldurchlauf"
       ]
      },
      {
       "output_type": "stream",
       "stream": "stdout",
       "text": [
        "\n",
        "3094.07168198f\u00fcr einen makesmalldurchlauf"
       ]
      },
      {
       "output_type": "stream",
       "stream": "stdout",
       "text": [
        "\n",
        "3116.07240295f\u00fcr einen makesmalldurchlauf"
       ]
      },
      {
       "output_type": "stream",
       "stream": "stdout",
       "text": [
        "\n",
        "3138.07796288f\u00fcr einen makesmalldurchlauf"
       ]
      },
      {
       "output_type": "stream",
       "stream": "stdout",
       "text": [
        "\n",
        "3162.3504138f\u00fcr einen makesmalldurchlauf"
       ]
      },
      {
       "output_type": "stream",
       "stream": "stdout",
       "text": [
        "\n",
        "3185.09603596f\u00fcr einen makesmalldurchlauf"
       ]
      },
      {
       "output_type": "stream",
       "stream": "stdout",
       "text": [
        "\n",
        "3207.05475593f\u00fcr einen makesmalldurchlauf"
       ]
      },
      {
       "output_type": "stream",
       "stream": "stdout",
       "text": [
        "\n",
        "3229.49074483f\u00fcr einen makesmalldurchlauf"
       ]
      },
      {
       "output_type": "stream",
       "stream": "stdout",
       "text": [
        "\n",
        "3251.39080381f\u00fcr einen makesmalldurchlauf"
       ]
      },
      {
       "output_type": "stream",
       "stream": "stdout",
       "text": [
        "\n",
        "3273.31666398f\u00fcr einen makesmalldurchlauf"
       ]
      },
      {
       "output_type": "stream",
       "stream": "stdout",
       "text": [
        "\n",
        "3295.21707296f\u00fcr einen makesmalldurchlauf"
       ]
      },
      {
       "output_type": "stream",
       "stream": "stdout",
       "text": [
        "\n",
        "3317.35823298f\u00fcr einen makesmalldurchlauf"
       ]
      },
      {
       "output_type": "stream",
       "stream": "stdout",
       "text": [
        "\n",
        "3339.29250479f\u00fcr einen makesmalldurchlauf"
       ]
      },
      {
       "output_type": "stream",
       "stream": "stdout",
       "text": [
        "\n",
        "3361.31921482f\u00fcr einen makesmalldurchlauf"
       ]
      },
      {
       "output_type": "stream",
       "stream": "stdout",
       "text": [
        "\n",
        "3383.27679181f\u00fcr einen makesmalldurchlauf"
       ]
      },
      {
       "output_type": "stream",
       "stream": "stdout",
       "text": [
        "\n",
        "3405.21997881f\u00fcr einen makesmalldurchlauf"
       ]
      },
      {
       "output_type": "stream",
       "stream": "stdout",
       "text": [
        "\n",
        "3427.12502789f\u00fcr einen makesmalldurchlauf"
       ]
      },
      {
       "output_type": "stream",
       "stream": "stdout",
       "text": [
        "\n",
        "3449.10460186f\u00fcr einen makesmalldurchlauf"
       ]
      },
      {
       "output_type": "stream",
       "stream": "stdout",
       "text": [
        "\n",
        "3471.08365989f\u00fcr einen makesmalldurchlauf"
       ]
      },
      {
       "output_type": "stream",
       "stream": "stdout",
       "text": [
        "\n",
        "3493.02602291f\u00fcr einen makesmalldurchlauf"
       ]
      },
      {
       "output_type": "stream",
       "stream": "stdout",
       "text": [
        "\n",
        "3514.99626398f\u00fcr einen makesmalldurchlauf"
       ]
      },
      {
       "output_type": "stream",
       "stream": "stdout",
       "text": [
        "\n",
        "3536.92622781f\u00fcr einen makesmalldurchlauf"
       ]
      },
      {
       "output_type": "stream",
       "stream": "stdout",
       "text": [
        "\n",
        "3558.86223698f\u00fcr einen makesmalldurchlauf"
       ]
      },
      {
       "output_type": "stream",
       "stream": "stdout",
       "text": [
        "\n",
        "3580.79349494f\u00fcr einen makesmalldurchlauf"
       ]
      },
      {
       "output_type": "stream",
       "stream": "stdout",
       "text": [
        "\n",
        "3602.74532294f\u00fcr einen makesmalldurchlauf"
       ]
      },
      {
       "output_type": "stream",
       "stream": "stdout",
       "text": [
        "\n",
        "3624.76016498f\u00fcr einen makesmalldurchlauf"
       ]
      },
      {
       "output_type": "stream",
       "stream": "stdout",
       "text": [
        "\n",
        "3646.70008302f\u00fcr einen makesmalldurchlauf"
       ]
      },
      {
       "output_type": "stream",
       "stream": "stdout",
       "text": [
        "\n",
        "3668.68384981f\u00fcr einen makesmalldurchlauf"
       ]
      },
      {
       "output_type": "stream",
       "stream": "stdout",
       "text": [
        "\n",
        "3691.51664782f\u00fcr einen makesmalldurchlauf"
       ]
      },
      {
       "output_type": "stream",
       "stream": "stdout",
       "text": [
        "\n",
        "3713.84684086f\u00fcr einen makesmalldurchlauf"
       ]
      },
      {
       "output_type": "stream",
       "stream": "stdout",
       "text": [
        "\n",
        "3736.05235481f\u00fcr einen makesmalldurchlauf"
       ]
      },
      {
       "output_type": "stream",
       "stream": "stdout",
       "text": [
        "\n",
        "3759.63431287f\u00fcr einen makesmalldurchlauf"
       ]
      },
      {
       "output_type": "stream",
       "stream": "stdout",
       "text": [
        "\n",
        "3783.227772f\u00fcr einen makesmalldurchlauf"
       ]
      },
      {
       "output_type": "stream",
       "stream": "stdout",
       "text": [
        "\n",
        "3806.38743281f\u00fcr einen makesmalldurchlauf"
       ]
      },
      {
       "output_type": "stream",
       "stream": "stdout",
       "text": [
        "\n",
        "3829.45830488f\u00fcr einen makesmalldurchlauf"
       ]
      },
      {
       "output_type": "stream",
       "stream": "stdout",
       "text": [
        "\n",
        "3853.15751195f\u00fcr einen makesmalldurchlauf"
       ]
      },
      {
       "output_type": "stream",
       "stream": "stdout",
       "text": [
        "\n",
        "3876.87834692f\u00fcr einen makesmalldurchlauf"
       ]
      },
      {
       "output_type": "stream",
       "stream": "stdout",
       "text": [
        "\n",
        "3899.35427284f\u00fcr einen makesmalldurchlauf"
       ]
      },
      {
       "output_type": "stream",
       "stream": "stdout",
       "text": [
        "\n",
        "3924.07890892f\u00fcr einen makesmalldurchlauf"
       ]
      },
      {
       "output_type": "stream",
       "stream": "stdout",
       "text": [
        "\n",
        "3946.67093396f\u00fcr einen makesmalldurchlauf"
       ]
      },
      {
       "output_type": "stream",
       "stream": "stdout",
       "text": [
        "\n",
        "3970.73674488f\u00fcr einen makesmalldurchlauf"
       ]
      },
      {
       "output_type": "stream",
       "stream": "stdout",
       "text": [
        "\n",
        "3994.1153388f\u00fcr einen makesmalldurchlauf"
       ]
      },
      {
       "output_type": "stream",
       "stream": "stdout",
       "text": [
        "\n",
        "4016.50877285f\u00fcr einen makesmalldurchlauf"
       ]
      },
      {
       "output_type": "stream",
       "stream": "stdout",
       "text": [
        "\n",
        "4038.98457885f\u00fcr einen makesmalldurchlauf"
       ]
      },
      {
       "output_type": "stream",
       "stream": "stdout",
       "text": [
        "\n",
        "4061.24945593f\u00fcr einen makesmalldurchlauf"
       ]
      },
      {
       "output_type": "stream",
       "stream": "stdout",
       "text": [
        "\n",
        "4083.18470192f\u00fcr einen makesmalldurchlauf"
       ]
      },
      {
       "output_type": "stream",
       "stream": "stdout",
       "text": [
        "\n",
        "4105.38753891f\u00fcr einen makesmalldurchlauf"
       ]
      },
      {
       "output_type": "stream",
       "stream": "stdout",
       "text": [
        "\n",
        "4127.65294886f\u00fcr einen makesmalldurchlauf"
       ]
      },
      {
       "output_type": "stream",
       "stream": "stdout",
       "text": [
        "\n",
        "4150.246593f\u00fcr einen makesmalldurchlauf"
       ]
      },
      {
       "output_type": "stream",
       "stream": "stdout",
       "text": [
        "\n",
        "4172.54565501f\u00fcr einen makesmalldurchlauf"
       ]
      },
      {
       "output_type": "stream",
       "stream": "stdout",
       "text": [
        "\n",
        "4195.15903687f\u00fcr einen makesmalldurchlauf"
       ]
      },
      {
       "output_type": "stream",
       "stream": "stdout",
       "text": [
        "\n",
        "4218.33554792f\u00fcr einen makesmalldurchlauf"
       ]
      },
      {
       "output_type": "stream",
       "stream": "stdout",
       "text": [
        "\n",
        "4241.53242898f\u00fcr einen makesmalldurchlauf"
       ]
      },
      {
       "output_type": "stream",
       "stream": "stdout",
       "text": [
        "\n",
        "4263.760041f\u00fcr einen makesmalldurchlauf"
       ]
      },
      {
       "output_type": "stream",
       "stream": "stdout",
       "text": [
        "\n",
        "4286.59117699f\u00fcr einen makesmalldurchlauf"
       ]
      },
      {
       "output_type": "stream",
       "stream": "stdout",
       "text": [
        "\n",
        "4309.8590138f\u00fcr einen makesmalldurchlauf"
       ]
      },
      {
       "output_type": "stream",
       "stream": "stdout",
       "text": [
        "\n",
        "4332.84382582f\u00fcr einen makesmalldurchlauf"
       ]
      },
      {
       "output_type": "stream",
       "stream": "stdout",
       "text": [
        "\n",
        "4357.80236292f\u00fcr einen makesmalldurchlauf"
       ]
      },
      {
       "output_type": "stream",
       "stream": "stdout",
       "text": [
        "\n",
        "4380.34473896f\u00fcr einen makesmalldurchlauf"
       ]
      },
      {
       "output_type": "stream",
       "stream": "stdout",
       "text": [
        "\n",
        "4402.85821581f\u00fcr einen makesmalldurchlauf"
       ]
      },
      {
       "output_type": "stream",
       "stream": "stdout",
       "text": [
        "\n",
        "4425.29902196f\u00fcr einen makesmalldurchlauf"
       ]
      },
      {
       "output_type": "stream",
       "stream": "stdout",
       "text": [
        "\n",
        "4447.78071499f\u00fcr einen makesmalldurchlauf"
       ]
      },
      {
       "output_type": "stream",
       "stream": "stdout",
       "text": [
        "\n",
        "4470.27268481f\u00fcr einen makesmalldurchlauf"
       ]
      },
      {
       "output_type": "stream",
       "stream": "stdout",
       "text": [
        "\n",
        "4492.84143281f\u00fcr einen makesmalldurchlauf"
       ]
      },
      {
       "output_type": "stream",
       "stream": "stdout",
       "text": [
        "\n",
        "4515.57636786f\u00fcr einen makesmalldurchlauf"
       ]
      },
      {
       "output_type": "stream",
       "stream": "stdout",
       "text": [
        "\n",
        "4538.01648188f\u00fcr einen makesmalldurchlauf"
       ]
      },
      {
       "output_type": "stream",
       "stream": "stdout",
       "text": [
        "\n",
        "4561.00279784f\u00fcr einen makesmalldurchlauf"
       ]
      },
      {
       "output_type": "stream",
       "stream": "stdout",
       "text": [
        "\n",
        "4583.47191286f\u00fcr einen makesmalldurchlauf"
       ]
      },
      {
       "output_type": "stream",
       "stream": "stdout",
       "text": [
        "\n",
        "4605.97892189f\u00fcr einen makesmalldurchlauf"
       ]
      },
      {
       "output_type": "stream",
       "stream": "stdout",
       "text": [
        "\n",
        "4629.72793579f\u00fcr einen makesmalldurchlauf"
       ]
      },
      {
       "output_type": "stream",
       "stream": "stdout",
       "text": [
        "\n",
        "4652.5745008f\u00fcr einen makesmalldurchlauf"
       ]
      },
      {
       "output_type": "stream",
       "stream": "stdout",
       "text": [
        "\n",
        "4675.853688f\u00fcr einen makesmalldurchlauf"
       ]
      },
      {
       "output_type": "stream",
       "stream": "stdout",
       "text": [
        "\n",
        "4698.56016278f\u00fcr einen makesmalldurchlauf"
       ]
      },
      {
       "output_type": "stream",
       "stream": "stdout",
       "text": [
        "\n",
        "4720.84011102f\u00fcr einen makesmalldurchlauf"
       ]
      },
      {
       "output_type": "stream",
       "stream": "stdout",
       "text": [
        "\n",
        "4742.92507195f\u00fcr einen makesmalldurchlauf"
       ]
      },
      {
       "output_type": "stream",
       "stream": "stdout",
       "text": [
        "\n",
        "4765.135746f\u00fcr einen makesmalldurchlauf"
       ]
      },
      {
       "output_type": "stream",
       "stream": "stdout",
       "text": [
        "\n",
        "4789.22425079f\u00fcr einen makesmalldurchlauf"
       ]
      },
      {
       "output_type": "stream",
       "stream": "stdout",
       "text": [
        "\n",
        "4813.96236491f\u00fcr einen makesmalldurchlauf"
       ]
      },
      {
       "output_type": "stream",
       "stream": "stdout",
       "text": [
        "\n",
        "4839.89945984f\u00fcr einen makesmalldurchlauf"
       ]
      },
      {
       "output_type": "stream",
       "stream": "stdout",
       "text": [
        "\n",
        "4865.84085584f\u00fcr einen makesmalldurchlauf"
       ]
      },
      {
       "output_type": "stream",
       "stream": "stdout",
       "text": [
        "\n",
        "4890.63533401f\u00fcr einen makesmalldurchlauf"
       ]
      },
      {
       "output_type": "stream",
       "stream": "stdout",
       "text": [
        "\n",
        "4915.439224f\u00fcr einen makesmalldurchlauf"
       ]
      },
      {
       "output_type": "stream",
       "stream": "stdout",
       "text": [
        "\n",
        "4939.91451097f\u00fcr einen makesmalldurchlauf"
       ]
      },
      {
       "output_type": "stream",
       "stream": "stdout",
       "text": [
        "\n",
        "4963.62742782f\u00fcr einen makesmalldurchlauf"
       ]
      },
      {
       "output_type": "stream",
       "stream": "stdout",
       "text": [
        "\n",
        "4987.35319901f\u00fcr einen makesmalldurchlauf"
       ]
      },
      {
       "output_type": "stream",
       "stream": "stdout",
       "text": [
        "\n",
        "5010.90385795f\u00fcr einen makesmalldurchlauf"
       ]
      },
      {
       "output_type": "stream",
       "stream": "stdout",
       "text": [
        "\n",
        "5034.39605784f\u00fcr einen makesmalldurchlauf"
       ]
      },
      {
       "output_type": "stream",
       "stream": "stdout",
       "text": [
        "\n",
        "5058.32977891f\u00fcr einen makesmalldurchlauf"
       ]
      },
      {
       "output_type": "stream",
       "stream": "stdout",
       "text": [
        "\n",
        "5080.99478102f\u00fcr einen makesmalldurchlauf"
       ]
      },
      {
       "output_type": "stream",
       "stream": "stdout",
       "text": [
        "\n",
        "5103.99374294f\u00fcr einen makesmalldurchlauf"
       ]
      },
      {
       "output_type": "stream",
       "stream": "stdout",
       "text": [
        "\n",
        "5127.37737179f\u00fcr einen makesmalldurchlauf"
       ]
      },
      {
       "output_type": "stream",
       "stream": "stdout",
       "text": [
        "\n",
        "5150.49916196f\u00fcr einen makesmalldurchlauf"
       ]
      },
      {
       "output_type": "stream",
       "stream": "stdout",
       "text": [
        "\n",
        "5173.61018991f\u00fcr einen makesmalldurchlauf"
       ]
      },
      {
       "output_type": "stream",
       "stream": "stdout",
       "text": [
        "\n",
        "5196.53547978f\u00fcr einen makesmalldurchlauf"
       ]
      },
      {
       "output_type": "stream",
       "stream": "stdout",
       "text": [
        "\n",
        "5220.16738296f\u00fcr einen makesmalldurchlauf"
       ]
      },
      {
       "output_type": "stream",
       "stream": "stdout",
       "text": [
        "\n",
        "5243.92114186f\u00fcr einen makesmalldurchlauf"
       ]
      },
      {
       "output_type": "stream",
       "stream": "stdout",
       "text": [
        "\n",
        "5268.98865986f\u00fcr einen makesmalldurchlauf"
       ]
      },
      {
       "output_type": "stream",
       "stream": "stdout",
       "text": [
        "\n",
        "5292.66259384f\u00fcr einen makesmalldurchlauf"
       ]
      },
      {
       "output_type": "stream",
       "stream": "stdout",
       "text": [
        "\n",
        "5316.2527709f\u00fcr einen makesmalldurchlauf"
       ]
      },
      {
       "output_type": "stream",
       "stream": "stdout",
       "text": [
        "\n",
        "5338.64285994f\u00fcr einen makesmalldurchlauf"
       ]
      },
      {
       "output_type": "stream",
       "stream": "stdout",
       "text": [
        "\n",
        "5362.54263282f\u00fcr einen makesmalldurchlauf"
       ]
      },
      {
       "output_type": "stream",
       "stream": "stdout",
       "text": [
        "\n",
        "5385.0125258f\u00fcr einen makesmalldurchlauf"
       ]
      },
      {
       "output_type": "stream",
       "stream": "stdout",
       "text": [
        "\n",
        "5407.14375281f\u00fcr einen makesmalldurchlauf"
       ]
      },
      {
       "output_type": "stream",
       "stream": "stdout",
       "text": [
        "\n",
        "5429.30950594f\u00fcr einen makesmalldurchlauf"
       ]
      },
      {
       "output_type": "stream",
       "stream": "stdout",
       "text": [
        "\n",
        "5451.79706979f\u00fcr einen makesmalldurchlauf"
       ]
      },
      {
       "output_type": "stream",
       "stream": "stdout",
       "text": [
        "\n",
        "5474.16933799f\u00fcr einen makesmalldurchlauf"
       ]
      },
      {
       "output_type": "stream",
       "stream": "stdout",
       "text": [
        "\n",
        "5497.18369198f\u00fcr einen makesmalldurchlauf"
       ]
      },
      {
       "output_type": "stream",
       "stream": "stdout",
       "text": [
        "\n",
        "5519.7990768f\u00fcr einen makesmalldurchlauf"
       ]
      },
      {
       "output_type": "stream",
       "stream": "stdout",
       "text": [
        "\n",
        "5542.60429001f\u00fcr einen makesmalldurchlauf"
       ]
      },
      {
       "output_type": "stream",
       "stream": "stdout",
       "text": [
        "\n",
        "5565.11505485f\u00fcr einen makesmalldurchlauf"
       ]
      },
      {
       "output_type": "stream",
       "stream": "stdout",
       "text": [
        "\n",
        "5587.54967189f\u00fcr einen makesmalldurchlauf"
       ]
      },
      {
       "output_type": "stream",
       "stream": "stdout",
       "text": [
        "\n",
        "5611.03288484f\u00fcr einen makesmalldurchlauf"
       ]
      },
      {
       "output_type": "stream",
       "stream": "stdout",
       "text": [
        "\n",
        "5634.14105892f\u00fcr einen makesmalldurchlauf"
       ]
      },
      {
       "output_type": "stream",
       "stream": "stdout",
       "text": [
        "\n",
        "5657.30993795f\u00fcr einen makesmalldurchlauf"
       ]
      },
      {
       "output_type": "stream",
       "stream": "stdout",
       "text": [
        "\n",
        "5680.30279279f\u00fcr einen makesmalldurchlauf"
       ]
      },
      {
       "output_type": "stream",
       "stream": "stdout",
       "text": [
        "\n",
        "5703.56848884f\u00fcr einen makesmalldurchlauf"
       ]
      },
      {
       "output_type": "stream",
       "stream": "stdout",
       "text": [
        "\n",
        "5726.50739884f\u00fcr einen makesmalldurchlauf"
       ]
      },
      {
       "output_type": "stream",
       "stream": "stdout",
       "text": [
        "\n",
        "5749.17838883f\u00fcr einen makesmalldurchlauf"
       ]
      },
      {
       "output_type": "stream",
       "stream": "stdout",
       "text": [
        "\n",
        "5772.3986969f\u00fcr einen makesmalldurchlauf"
       ]
      },
      {
       "output_type": "stream",
       "stream": "stdout",
       "text": [
        "\n",
        "5795.52652884f\u00fcr einen makesmalldurchlauf"
       ]
      },
      {
       "output_type": "stream",
       "stream": "stdout",
       "text": [
        "\n",
        "5817.97599101f\u00fcr einen makesmalldurchlauf"
       ]
      },
      {
       "output_type": "stream",
       "stream": "stdout",
       "text": [
        "\n",
        "5842.16931987f\u00fcr einen makesmalldurchlauf"
       ]
      },
      {
       "output_type": "stream",
       "stream": "stdout",
       "text": [
        "\n",
        "5865.42233181f\u00fcr einen makesmalldurchlauf"
       ]
      },
      {
       "output_type": "stream",
       "stream": "stdout",
       "text": [
        "\n",
        "5888.529495f\u00fcr einen makesmalldurchlauf"
       ]
      },
      {
       "output_type": "stream",
       "stream": "stdout",
       "text": [
        "\n",
        "5912.20848298f\u00fcr einen makesmalldurchlauf"
       ]
      },
      {
       "output_type": "stream",
       "stream": "stdout",
       "text": [
        "\n",
        "5936.21605897f\u00fcr einen makesmalldurchlauf"
       ]
      },
      {
       "output_type": "stream",
       "stream": "stdout",
       "text": [
        "\n",
        "5958.98568392f\u00fcr einen makesmalldurchlauf"
       ]
      },
      {
       "output_type": "stream",
       "stream": "stdout",
       "text": [
        "\n",
        "5982.01286602f\u00fcr einen makesmalldurchlauf"
       ]
      },
      {
       "output_type": "stream",
       "stream": "stdout",
       "text": [
        "\n",
        "6005.77653885f\u00fcr einen makesmalldurchlauf"
       ]
      },
      {
       "output_type": "stream",
       "stream": "stdout",
       "text": [
        "\n",
        "6029.74716282f\u00fcr einen makesmalldurchlauf"
       ]
      },
      {
       "output_type": "stream",
       "stream": "stdout",
       "text": [
        "\n",
        "6053.24066091f\u00fcr einen makesmalldurchlauf"
       ]
      },
      {
       "output_type": "stream",
       "stream": "stdout",
       "text": [
        "\n",
        "6076.84588289f\u00fcr einen makesmalldurchlauf"
       ]
      },
      {
       "output_type": "stream",
       "stream": "stdout",
       "text": [
        "\n",
        "6100.491611f\u00fcr einen makesmalldurchlauf"
       ]
      },
      {
       "output_type": "stream",
       "stream": "stdout",
       "text": [
        "\n",
        "6124.13694286f\u00fcr einen makesmalldurchlauf"
       ]
      },
      {
       "output_type": "stream",
       "stream": "stdout",
       "text": [
        "\n",
        "6146.92024589f\u00fcr einen makesmalldurchlauf"
       ]
      },
      {
       "output_type": "stream",
       "stream": "stdout",
       "text": [
        "\n",
        "6169.53992486f\u00fcr einen makesmalldurchlauf"
       ]
      },
      {
       "output_type": "stream",
       "stream": "stdout",
       "text": [
        "\n",
        "6192.54903579f\u00fcr einen makesmalldurchlauf"
       ]
      },
      {
       "output_type": "stream",
       "stream": "stdout",
       "text": [
        "\n",
        "6215.14583778f\u00fcr einen makesmalldurchlauf"
       ]
      },
      {
       "output_type": "stream",
       "stream": "stdout",
       "text": [
        "\n",
        "6238.44412398f\u00fcr einen makesmalldurchlauf"
       ]
      },
      {
       "output_type": "stream",
       "stream": "stdout",
       "text": [
        "\n",
        "6262.96616602f\u00fcr einen makesmalldurchlauf"
       ]
      },
      {
       "output_type": "stream",
       "stream": "stdout",
       "text": [
        "\n",
        "6285.73379779f\u00fcr einen makesmalldurchlauf"
       ]
      },
      {
       "output_type": "stream",
       "stream": "stdout",
       "text": [
        "\n",
        "6308.28814602f\u00fcr einen makesmalldurchlauf"
       ]
      },
      {
       "output_type": "stream",
       "stream": "stdout",
       "text": [
        "\n",
        "6330.92360592f\u00fcr einen makesmalldurchlauf"
       ]
      },
      {
       "output_type": "stream",
       "stream": "stdout",
       "text": [
        "\n",
        "6353.8018918f\u00fcr einen makesmalldurchlauf"
       ]
      },
      {
       "output_type": "stream",
       "stream": "stdout",
       "text": [
        "\n",
        "6377.13720679f\u00fcr einen makesmalldurchlauf"
       ]
      },
      {
       "output_type": "stream",
       "stream": "stdout",
       "text": [
        "\n",
        "6400.76314282f\u00fcr einen makesmalldurchlauf"
       ]
      },
      {
       "output_type": "stream",
       "stream": "stdout",
       "text": [
        "\n",
        "6423.68403602f\u00fcr einen makesmalldurchlauf"
       ]
      },
      {
       "output_type": "stream",
       "stream": "stdout",
       "text": [
        "\n",
        "6447.38421297f\u00fcr einen makesmalldurchlauf"
       ]
      },
      {
       "output_type": "stream",
       "stream": "stdout",
       "text": [
        "\n",
        "6471.28580093f\u00fcr einen makesmalldurchlauf"
       ]
      },
      {
       "output_type": "stream",
       "stream": "stdout",
       "text": [
        "\n",
        "6494.24908495f\u00fcr einen makesmalldurchlauf"
       ]
      },
      {
       "output_type": "stream",
       "stream": "stdout",
       "text": [
        "\n",
        "6517.52144289f\u00fcr einen makesmalldurchlauf"
       ]
      },
      {
       "output_type": "stream",
       "stream": "stdout",
       "text": [
        "\n",
        "6541.14240789f\u00fcr einen makesmalldurchlauf"
       ]
      },
      {
       "output_type": "stream",
       "stream": "stdout",
       "text": [
        "\n",
        "6564.39455199f\u00fcr einen makesmalldurchlauf"
       ]
      },
      {
       "output_type": "stream",
       "stream": "stdout",
       "text": [
        "\n",
        "6587.84009981f\u00fcr einen makesmalldurchlauf"
       ]
      },
      {
       "output_type": "stream",
       "stream": "stdout",
       "text": [
        "\n",
        "6612.01865101f\u00fcr einen makesmalldurchlauf"
       ]
      },
      {
       "output_type": "stream",
       "stream": "stdout",
       "text": [
        "\n",
        "6636.02205396f\u00fcr einen makesmalldurchlauf"
       ]
      },
      {
       "output_type": "stream",
       "stream": "stdout",
       "text": [
        "\n",
        "6659.22417283f\u00fcr einen makesmalldurchlauf"
       ]
      },
      {
       "output_type": "stream",
       "stream": "stdout",
       "text": [
        "\n",
        "6682.64274597f\u00fcr einen makesmalldurchlauf"
       ]
      },
      {
       "output_type": "stream",
       "stream": "stdout",
       "text": [
        "\n",
        "6705.8772769f\u00fcr einen makesmalldurchlauf"
       ]
      },
      {
       "output_type": "stream",
       "stream": "stdout",
       "text": [
        "\n",
        "6729.15967989f\u00fcr einen makesmalldurchlauf"
       ]
      },
      {
       "output_type": "stream",
       "stream": "stdout",
       "text": [
        "\n",
        "6752.14232588f\u00fcr einen makesmalldurchlauf"
       ]
      },
      {
       "output_type": "stream",
       "stream": "stdout",
       "text": [
        "\n",
        "6776.22419381f\u00fcr einen makesmalldurchlauf"
       ]
      },
      {
       "output_type": "stream",
       "stream": "stdout",
       "text": [
        "\n",
        "6799.35357785f\u00fcr einen makesmalldurchlauf"
       ]
      },
      {
       "output_type": "stream",
       "stream": "stdout",
       "text": [
        "\n",
        "6823.48168778f\u00fcr einen makesmalldurchlauf"
       ]
      },
      {
       "output_type": "stream",
       "stream": "stdout",
       "text": [
        "\n",
        "6846.57473898f\u00fcr einen makesmalldurchlauf"
       ]
      },
      {
       "output_type": "stream",
       "stream": "stdout",
       "text": [
        "\n",
        "6869.64524698f\u00fcr einen makesmalldurchlauf"
       ]
      },
      {
       "output_type": "stream",
       "stream": "stdout",
       "text": [
        "\n",
        "6892.69883299f\u00fcr einen makesmalldurchlauf"
       ]
      },
      {
       "output_type": "stream",
       "stream": "stdout",
       "text": [
        "\n",
        "6915.9813168f\u00fcr einen makesmalldurchlauf"
       ]
      },
      {
       "output_type": "stream",
       "stream": "stdout",
       "text": [
        "\n",
        "6939.2846489f\u00fcr einen makesmalldurchlauf"
       ]
      },
      {
       "output_type": "stream",
       "stream": "stdout",
       "text": [
        "\n",
        "6962.48317385f\u00fcr einen makesmalldurchlauf"
       ]
      },
      {
       "output_type": "stream",
       "stream": "stdout",
       "text": [
        "\n",
        "6985.79905295f\u00fcr einen makesmalldurchlauf"
       ]
      },
      {
       "output_type": "stream",
       "stream": "stdout",
       "text": [
        "\n",
        "7009.2058928f\u00fcr einen makesmalldurchlauf"
       ]
      },
      {
       "output_type": "stream",
       "stream": "stdout",
       "text": [
        "\n",
        "7033.03829694f\u00fcr einen makesmalldurchlauf"
       ]
      },
      {
       "output_type": "stream",
       "stream": "stdout",
       "text": [
        "\n",
        "7056.97195983f\u00fcr einen makesmalldurchlauf"
       ]
      },
      {
       "output_type": "stream",
       "stream": "stdout",
       "text": [
        "\n",
        "7079.798002f\u00fcr einen makesmalldurchlauf"
       ]
      },
      {
       "output_type": "stream",
       "stream": "stdout",
       "text": [
        "\n",
        "7102.47446179f\u00fcr einen makesmalldurchlauf"
       ]
      },
      {
       "output_type": "stream",
       "stream": "stdout",
       "text": [
        "\n",
        "7124.89664102f\u00fcr einen makesmalldurchlauf"
       ]
      },
      {
       "output_type": "stream",
       "stream": "stdout",
       "text": [
        "\n",
        "7147.32247782f\u00fcr einen makesmalldurchlauf"
       ]
      },
      {
       "output_type": "stream",
       "stream": "stdout",
       "text": [
        "\n",
        "7172.13500786f\u00fcr einen makesmalldurchlauf"
       ]
      },
      {
       "output_type": "stream",
       "stream": "stdout",
       "text": [
        "\n",
        "7197.74965382f\u00fcr einen makesmalldurchlauf"
       ]
      },
      {
       "output_type": "stream",
       "stream": "stdout",
       "text": [
        "\n",
        "7221.03892684f\u00fcr einen makesmalldurchlauf"
       ]
      },
      {
       "output_type": "stream",
       "stream": "stdout",
       "text": [
        "\n",
        "7243.85422087f\u00fcr einen makesmalldurchlauf"
       ]
      },
      {
       "output_type": "stream",
       "stream": "stdout",
       "text": [
        "\n",
        "7267.01390195f\u00fcr einen makesmalldurchlauf"
       ]
      },
      {
       "output_type": "stream",
       "stream": "stdout",
       "text": [
        "\n",
        "7289.43852282f\u00fcr einen makesmalldurchlauf"
       ]
      },
      {
       "output_type": "stream",
       "stream": "stdout",
       "text": [
        "\n",
        "7312.05254102f\u00fcr einen makesmalldurchlauf"
       ]
      },
      {
       "output_type": "stream",
       "stream": "stdout",
       "text": [
        "\n",
        "7334.57270193f\u00fcr einen makesmalldurchlauf"
       ]
      },
      {
       "output_type": "stream",
       "stream": "stdout",
       "text": [
        "\n",
        "7357.04195499f\u00fcr einen makesmalldurchlauf"
       ]
      },
      {
       "output_type": "stream",
       "stream": "stdout",
       "text": [
        "\n",
        "7379.43404078f\u00fcr einen makesmalldurchlauf"
       ]
      },
      {
       "output_type": "stream",
       "stream": "stdout",
       "text": [
        "\n",
        "7401.9061408f\u00fcr einen makesmalldurchlauf"
       ]
      },
      {
       "output_type": "stream",
       "stream": "stdout",
       "text": [
        "\n",
        "7424.441504f\u00fcr einen makesmalldurchlauf"
       ]
      },
      {
       "output_type": "stream",
       "stream": "stdout",
       "text": [
        "\n",
        "7447.08350492f\u00fcr einen makesmalldurchlauf"
       ]
      },
      {
       "output_type": "stream",
       "stream": "stdout",
       "text": [
        "\n",
        "7470.07615781f\u00fcr einen makesmalldurchlauf"
       ]
      },
      {
       "output_type": "stream",
       "stream": "stdout",
       "text": [
        "\n",
        "7492.77432799f\u00fcr einen makesmalldurchlauf"
       ]
      },
      {
       "output_type": "stream",
       "stream": "stdout",
       "text": [
        "\n",
        "7516.22420382f\u00fcr einen makesmalldurchlauf"
       ]
      },
      {
       "output_type": "stream",
       "stream": "stdout",
       "text": [
        "\n",
        "7540.01168585f\u00fcr einen makesmalldurchlauf"
       ]
      },
      {
       "output_type": "stream",
       "stream": "stdout",
       "text": [
        "\n",
        "7563.40657496f\u00fcr einen makesmalldurchlauf"
       ]
      },
      {
       "output_type": "stream",
       "stream": "stdout",
       "text": [
        "\n",
        "7587.22051191f\u00fcr einen makesmalldurchlauf"
       ]
      },
      {
       "output_type": "stream",
       "stream": "stdout",
       "text": [
        "\n",
        "7610.83459091f\u00fcr einen makesmalldurchlauf"
       ]
      },
      {
       "output_type": "stream",
       "stream": "stdout",
       "text": [
        "\n",
        "7635.12506199f\u00fcr einen makesmalldurchlauf"
       ]
      },
      {
       "output_type": "stream",
       "stream": "stdout",
       "text": [
        "\n",
        "7657.50009084f\u00fcr einen makesmalldurchlauf"
       ]
      },
      {
       "output_type": "stream",
       "stream": "stdout",
       "text": [
        "\n",
        "7679.74679899f\u00fcr einen makesmalldurchlauf"
       ]
      },
      {
       "output_type": "stream",
       "stream": "stdout",
       "text": [
        "\n",
        "7701.73884201f\u00fcr einen makesmalldurchlauf"
       ]
      },
      {
       "output_type": "stream",
       "stream": "stdout",
       "text": [
        "\n",
        "7723.7549088f\u00fcr einen makesmalldurchlauf"
       ]
      },
      {
       "output_type": "stream",
       "stream": "stdout",
       "text": [
        "\n",
        "7745.70838284f\u00fcr einen makesmalldurchlauf"
       ]
      },
      {
       "output_type": "stream",
       "stream": "stdout",
       "text": [
        "\n",
        "7767.8408308f\u00fcr einen makesmalldurchlauf"
       ]
      },
      {
       "output_type": "stream",
       "stream": "stdout",
       "text": [
        "\n",
        "7789.84094381f\u00fcr einen makesmalldurchlauf"
       ]
      },
      {
       "output_type": "stream",
       "stream": "stdout",
       "text": [
        "\n",
        "7811.86151886f\u00fcr einen makesmalldurchlauf"
       ]
      },
      {
       "output_type": "stream",
       "stream": "stdout",
       "text": [
        "\n",
        "7833.94561195f\u00fcr einen makesmalldurchlauf"
       ]
      },
      {
       "output_type": "stream",
       "stream": "stdout",
       "text": [
        "\n",
        "7855.93558192f\u00fcr einen makesmalldurchlauf"
       ]
      },
      {
       "output_type": "stream",
       "stream": "stdout",
       "text": [
        "\n",
        "7877.8851819f\u00fcr einen makesmalldurchlauf"
       ]
      },
      {
       "output_type": "stream",
       "stream": "stdout",
       "text": [
        "\n",
        "7900.21288991f\u00fcr einen makesmalldurchlauf"
       ]
      },
      {
       "output_type": "stream",
       "stream": "stdout",
       "text": [
        "\n",
        "7922.23029399f\u00fcr einen makesmalldurchlauf"
       ]
      },
      {
       "output_type": "stream",
       "stream": "stdout",
       "text": [
        "\n",
        "7945.0240829f\u00fcr einen makesmalldurchlauf"
       ]
      },
      {
       "output_type": "stream",
       "stream": "stdout",
       "text": [
        "\n",
        "7967.64815283f\u00fcr einen makesmalldurchlauf"
       ]
      },
      {
       "output_type": "stream",
       "stream": "stdout",
       "text": [
        "\n",
        "7989.83510995f\u00fcr einen makesmalldurchlauf"
       ]
      },
      {
       "output_type": "stream",
       "stream": "stdout",
       "text": [
        "\n",
        "8013.30285597f\u00fcr einen makesmalldurchlauf"
       ]
      },
      {
       "output_type": "stream",
       "stream": "stdout",
       "text": [
        "\n",
        "8035.29054093f\u00fcr einen makesmalldurchlauf"
       ]
      },
      {
       "output_type": "stream",
       "stream": "stdout",
       "text": [
        "\n",
        "8057.28386497f\u00fcr einen makesmalldurchlauf"
       ]
      },
      {
       "output_type": "stream",
       "stream": "stdout",
       "text": [
        "\n",
        "8079.25761294f\u00fcr einen makesmalldurchlauf"
       ]
      },
      {
       "output_type": "stream",
       "stream": "stdout",
       "text": [
        "\n",
        "8101.25226998f\u00fcr einen makesmalldurchlauf"
       ]
      },
      {
       "output_type": "stream",
       "stream": "stdout",
       "text": [
        "\n",
        "8123.23198986f\u00fcr einen makesmalldurchlauf"
       ]
      },
      {
       "output_type": "stream",
       "stream": "stdout",
       "text": [
        "\n",
        "8145.21027493f\u00fcr einen makesmalldurchlauf"
       ]
      },
      {
       "output_type": "stream",
       "stream": "stdout",
       "text": [
        "\n",
        "8167.16724682f\u00fcr einen makesmalldurchlauf"
       ]
      },
      {
       "output_type": "stream",
       "stream": "stdout",
       "text": [
        "\n",
        "8190.70166683f\u00fcr einen makesmalldurchlauf"
       ]
      },
      {
       "output_type": "stream",
       "stream": "stdout",
       "text": [
        "\n",
        "8212.89041495f\u00fcr einen makesmalldurchlauf"
       ]
      },
      {
       "output_type": "stream",
       "stream": "stdout",
       "text": [
        "\n",
        "8235.39953589f\u00fcr einen makesmalldurchlauf"
       ]
      },
      {
       "output_type": "stream",
       "stream": "stdout",
       "text": [
        "\n",
        "8257.63536596f\u00fcr einen makesmalldurchlauf"
       ]
      },
      {
       "output_type": "stream",
       "stream": "stdout",
       "text": [
        "\n",
        "8279.93786788f\u00fcr einen makesmalldurchlauf"
       ]
      },
      {
       "output_type": "stream",
       "stream": "stdout",
       "text": [
        "\n",
        "8302.41269898f\u00fcr einen makesmalldurchlauf"
       ]
      },
      {
       "output_type": "stream",
       "stream": "stdout",
       "text": [
        "\n",
        "8324.5582149f\u00fcr einen makesmalldurchlauf"
       ]
      },
      {
       "output_type": "stream",
       "stream": "stdout",
       "text": [
        "\n",
        "8346.61841297f\u00fcr einen makesmalldurchlauf"
       ]
      },
      {
       "output_type": "stream",
       "stream": "stdout",
       "text": [
        "\n",
        "8368.81364298f\u00fcr einen makesmalldurchlauf"
       ]
      },
      {
       "output_type": "stream",
       "stream": "stdout",
       "text": [
        "\n",
        "8390.9515388f\u00fcr einen makesmalldurchlauf"
       ]
      },
      {
       "output_type": "stream",
       "stream": "stdout",
       "text": [
        "\n",
        "8413.09572983f\u00fcr einen makesmalldurchlauf"
       ]
      },
      {
       "output_type": "stream",
       "stream": "stdout",
       "text": [
        "\n",
        "8435.23708487f\u00fcr einen makesmalldurchlauf"
       ]
      },
      {
       "output_type": "stream",
       "stream": "stdout",
       "text": [
        "\n",
        "8457.6448009f\u00fcr einen makesmalldurchlauf"
       ]
      },
      {
       "output_type": "stream",
       "stream": "stdout",
       "text": [
        "\n",
        "8480.05477595f\u00fcr einen makesmalldurchlauf"
       ]
      },
      {
       "output_type": "stream",
       "stream": "stdout",
       "text": [
        "\n",
        "8502.1611948f\u00fcr einen makesmalldurchlauf"
       ]
      },
      {
       "output_type": "stream",
       "stream": "stdout",
       "text": [
        "\n",
        "8524.26597881f\u00fcr einen makesmalldurchlauf"
       ]
      },
      {
       "output_type": "stream",
       "stream": "stdout",
       "text": [
        "\n",
        "8546.36605096f\u00fcr einen makesmalldurchlauf"
       ]
      },
      {
       "output_type": "stream",
       "stream": "stdout",
       "text": [
        "\n",
        "8568.51750684f\u00fcr einen makesmalldurchlauf"
       ]
      },
      {
       "output_type": "stream",
       "stream": "stdout",
       "text": [
        "\n",
        "8590.71915197f\u00fcr einen makesmalldurchlauf"
       ]
      },
      {
       "output_type": "stream",
       "stream": "stdout",
       "text": [
        "\n",
        "8612.78596282f\u00fcr einen makesmalldurchlauf"
       ]
      },
      {
       "output_type": "stream",
       "stream": "stdout",
       "text": [
        "\n",
        "8634.79504895f\u00fcr einen makesmalldurchlauf"
       ]
      },
      {
       "output_type": "stream",
       "stream": "stdout",
       "text": [
        "\n",
        "8656.93744779f\u00fcr einen makesmalldurchlauf"
       ]
      },
      {
       "output_type": "stream",
       "stream": "stdout",
       "text": [
        "\n",
        "8679.04881501f\u00fcr einen makesmalldurchlauf"
       ]
      },
      {
       "output_type": "stream",
       "stream": "stdout",
       "text": [
        "\n",
        "8701.76717401f\u00fcr einen makesmalldurchlauf"
       ]
      },
      {
       "output_type": "stream",
       "stream": "stdout",
       "text": [
        "\n",
        "8724.48752999f\u00fcr einen makesmalldurchlauf"
       ]
      },
      {
       "output_type": "stream",
       "stream": "stdout",
       "text": [
        "\n",
        "8747.23648095f\u00fcr einen makesmalldurchlauf"
       ]
      },
      {
       "output_type": "stream",
       "stream": "stdout",
       "text": [
        "\n",
        "8771.92709994f\u00fcr einen makesmalldurchlauf"
       ]
      },
      {
       "output_type": "stream",
       "stream": "stdout",
       "text": [
        "\n",
        "8794.58722186f\u00fcr einen makesmalldurchlauf"
       ]
      },
      {
       "output_type": "stream",
       "stream": "stdout",
       "text": [
        "\n",
        "8816.66761398f\u00fcr einen makesmalldurchlauf"
       ]
      },
      {
       "output_type": "stream",
       "stream": "stdout",
       "text": [
        "\n",
        "8838.96156287f\u00fcr einen makesmalldurchlauf"
       ]
      },
      {
       "output_type": "stream",
       "stream": "stdout",
       "text": [
        "\n",
        "8861.42076683f\u00fcr einen makesmalldurchlauf"
       ]
      },
      {
       "output_type": "stream",
       "stream": "stdout",
       "text": [
        "\n",
        "8885.15904784f\u00fcr einen makesmalldurchlauf"
       ]
      },
      {
       "output_type": "stream",
       "stream": "stdout",
       "text": [
        "\n",
        "8909.2593329f\u00fcr einen makesmalldurchlauf"
       ]
      },
      {
       "output_type": "stream",
       "stream": "stdout",
       "text": [
        "\n",
        "8933.40452695f\u00fcr einen makesmalldurchlauf"
       ]
      },
      {
       "output_type": "stream",
       "stream": "stdout",
       "text": [
        "\n",
        "8956.66408491f\u00fcr einen makesmalldurchlauf"
       ]
      },
      {
       "output_type": "stream",
       "stream": "stdout",
       "text": [
        "\n",
        "8978.97617483f\u00fcr einen makesmalldurchlauf"
       ]
      },
      {
       "output_type": "stream",
       "stream": "stdout",
       "text": [
        "\n",
        "9000.95522189f\u00fcr einen makesmalldurchlauf"
       ]
      },
      {
       "output_type": "stream",
       "stream": "stdout",
       "text": [
        "\n",
        "9022.94909191f\u00fcr einen makesmalldurchlauf"
       ]
      },
      {
       "output_type": "stream",
       "stream": "stdout",
       "text": [
        "\n",
        "9044.89108181f\u00fcr einen makesmalldurchlauf"
       ]
      },
      {
       "output_type": "stream",
       "stream": "stdout",
       "text": [
        "\n",
        "9067.13304281f\u00fcr einen makesmalldurchlauf"
       ]
      },
      {
       "output_type": "stream",
       "stream": "stdout",
       "text": [
        "\n",
        "9089.15392089f\u00fcr einen makesmalldurchlauf"
       ]
      },
      {
       "output_type": "stream",
       "stream": "stdout",
       "text": [
        "\n",
        "9111.12851691f\u00fcr einen makesmalldurchlauf"
       ]
      },
      {
       "output_type": "stream",
       "stream": "stdout",
       "text": [
        "\n",
        "9133.07911682f\u00fcr einen makesmalldurchlauf"
       ]
      },
      {
       "output_type": "stream",
       "stream": "stdout",
       "text": [
        "\n",
        "9155.09294701f\u00fcr einen makesmalldurchlauf"
       ]
      },
      {
       "output_type": "stream",
       "stream": "stdout",
       "text": [
        "\n",
        "9177.33600092f\u00fcr einen makesmalldurchlauf"
       ]
      },
      {
       "output_type": "stream",
       "stream": "stdout",
       "text": [
        "\n",
        "9199.35399199f\u00fcr einen makesmalldurchlauf"
       ]
      },
      {
       "output_type": "stream",
       "stream": "stdout",
       "text": [
        "\n",
        "9221.44050884f\u00fcr einen makesmalldurchlauf"
       ]
      },
      {
       "output_type": "stream",
       "stream": "stdout",
       "text": [
        "\n",
        "9243.51405501f\u00fcr einen makesmalldurchlauf"
       ]
      },
      {
       "output_type": "stream",
       "stream": "stdout",
       "text": [
        "\n",
        "9265.51970792f\u00fcr einen makesmalldurchlauf"
       ]
      },
      {
       "output_type": "stream",
       "stream": "stdout",
       "text": [
        "\n",
        "9287.64793587f\u00fcr einen makesmalldurchlauf"
       ]
      },
      {
       "output_type": "stream",
       "stream": "stdout",
       "text": [
        "\n",
        "9309.60619998f\u00fcr einen makesmalldurchlauf"
       ]
      },
      {
       "output_type": "stream",
       "stream": "stdout",
       "text": [
        "\n",
        "9331.80440092f\u00fcr einen makesmalldurchlauf"
       ]
      },
      {
       "output_type": "stream",
       "stream": "stdout",
       "text": [
        "\n",
        "9353.82103992f\u00fcr einen makesmalldurchlauf"
       ]
      },
      {
       "output_type": "stream",
       "stream": "stdout",
       "text": [
        "\n",
        "9375.76320291f\u00fcr einen makesmalldurchlauf"
       ]
      },
      {
       "output_type": "stream",
       "stream": "stdout",
       "text": [
        "\n",
        "9397.73105693f\u00fcr einen makesmalldurchlauf"
       ]
      },
      {
       "output_type": "stream",
       "stream": "stdout",
       "text": [
        "\n",
        "9419.93043089f\u00fcr einen makesmalldurchlauf"
       ]
      },
      {
       "output_type": "stream",
       "stream": "stdout",
       "text": [
        "\n",
        "9442.13417196f\u00fcr einen makesmalldurchlauf"
       ]
      },
      {
       "output_type": "stream",
       "stream": "stdout",
       "text": [
        "\n",
        "9464.2013979f\u00fcr einen makesmalldurchlauf"
       ]
      },
      {
       "output_type": "stream",
       "stream": "stdout",
       "text": [
        "\n",
        "9486.27104592f\u00fcr einen makesmalldurchlauf"
       ]
      },
      {
       "output_type": "stream",
       "stream": "stdout",
       "text": [
        "\n",
        "9508.42605495f\u00fcr einen makesmalldurchlauf"
       ]
      },
      {
       "output_type": "stream",
       "stream": "stdout",
       "text": [
        "\n",
        "9530.38423991f\u00fcr einen makesmalldurchlauf"
       ]
      },
      {
       "output_type": "stream",
       "stream": "stdout",
       "text": [
        "\n",
        "9552.830446f\u00fcr einen makesmalldurchlauf"
       ]
      },
      {
       "output_type": "stream",
       "stream": "stdout",
       "text": [
        "\n",
        "9575.18312502f\u00fcr einen makesmalldurchlauf"
       ]
      },
      {
       "output_type": "stream",
       "stream": "stdout",
       "text": [
        "\n",
        "9597.46100879f\u00fcr einen makesmalldurchlauf"
       ]
      },
      {
       "output_type": "stream",
       "stream": "stdout",
       "text": [
        "\n",
        "9619.54569387f\u00fcr einen makesmalldurchlauf"
       ]
      },
      {
       "output_type": "stream",
       "stream": "stdout",
       "text": [
        "\n",
        "9643.09539199f\u00fcr einen makesmalldurchlauf"
       ]
      },
      {
       "output_type": "stream",
       "stream": "stdout",
       "text": [
        "\n",
        "9666.04031992f\u00fcr einen makesmalldurchlauf"
       ]
      },
      {
       "output_type": "stream",
       "stream": "stdout",
       "text": [
        "\n",
        "9688.20366096f\u00fcr einen makesmalldurchlauf"
       ]
      },
      {
       "output_type": "stream",
       "stream": "stdout",
       "text": [
        "\n",
        "9710.48642683f\u00fcr einen makesmalldurchlauf"
       ]
      },
      {
       "output_type": "stream",
       "stream": "stdout",
       "text": [
        "\n",
        "9732.52314782f\u00fcr einen makesmalldurchlauf"
       ]
      },
      {
       "output_type": "stream",
       "stream": "stdout",
       "text": [
        "\n",
        "9755.19098496f\u00fcr einen makesmalldurchlauf"
       ]
      },
      {
       "output_type": "stream",
       "stream": "stdout",
       "text": [
        "\n",
        "9777.68548083f\u00fcr einen makesmalldurchlauf"
       ]
      },
      {
       "output_type": "stream",
       "stream": "stdout",
       "text": [
        "\n",
        "9800.24231982f\u00fcr einen makesmalldurchlauf"
       ]
      },
      {
       "output_type": "stream",
       "stream": "stdout",
       "text": [
        "\n",
        "9822.24451494f\u00fcr einen makesmalldurchlauf"
       ]
      },
      {
       "output_type": "stream",
       "stream": "stdout",
       "text": [
        "\n",
        "9844.20962f\u00fcr einen makesmalldurchlauf"
       ]
      },
      {
       "output_type": "stream",
       "stream": "stdout",
       "text": [
        "\n",
        "9866.64064384f\u00fcr einen makesmalldurchlauf"
       ]
      },
      {
       "output_type": "stream",
       "stream": "stdout",
       "text": [
        "\n",
        "9889.14318991f\u00fcr einen makesmalldurchlauf"
       ]
      },
      {
       "output_type": "stream",
       "stream": "stdout",
       "text": [
        "\n",
        "9912.20978785f\u00fcr einen makesmalldurchlauf"
       ]
      },
      {
       "output_type": "stream",
       "stream": "stdout",
       "text": [
        "\n",
        "9934.39123797f\u00fcr einen makesmalldurchlauf"
       ]
      },
      {
       "output_type": "stream",
       "stream": "stdout",
       "text": [
        "\n",
        "9956.50251579f\u00fcr einen makesmalldurchlauf"
       ]
      },
      {
       "output_type": "stream",
       "stream": "stdout",
       "text": [
        "\n",
        "9978.44786596f\u00fcr einen makesmalldurchlauf"
       ]
      },
      {
       "output_type": "stream",
       "stream": "stdout",
       "text": [
        "\n",
        "10000.7095418f\u00fcr einen makesmalldurchlauf"
       ]
      },
      {
       "output_type": "stream",
       "stream": "stdout",
       "text": [
        "\n",
        "10022.7129538f\u00fcr einen makesmalldurchlauf"
       ]
      },
      {
       "output_type": "stream",
       "stream": "stdout",
       "text": [
        "\n",
        "10044.7934179f\u00fcr einen makesmalldurchlauf"
       ]
      },
      {
       "output_type": "stream",
       "stream": "stdout",
       "text": [
        "\n",
        "10067.0620229f\u00fcr einen makesmalldurchlauf"
       ]
      },
      {
       "output_type": "stream",
       "stream": "stdout",
       "text": [
        "\n",
        "10089.6552289f\u00fcr einen makesmalldurchlauf"
       ]
      },
      {
       "output_type": "stream",
       "stream": "stdout",
       "text": [
        "\n",
        "10111.941504f\u00fcr einen makesmalldurchlauf"
       ]
      },
      {
       "output_type": "stream",
       "stream": "stdout",
       "text": [
        "\n",
        "10134.5008328f\u00fcr einen makesmalldurchlauf"
       ]
      },
      {
       "output_type": "stream",
       "stream": "stdout",
       "text": [
        "\n",
        "10156.9544108f\u00fcr einen makesmalldurchlauf"
       ]
      },
      {
       "output_type": "stream",
       "stream": "stdout",
       "text": [
        "\n",
        "10179.333601f\u00fcr einen makesmalldurchlauf"
       ]
      },
      {
       "output_type": "stream",
       "stream": "stdout",
       "text": [
        "\n",
        "10201.8137619f\u00fcr einen makesmalldurchlauf"
       ]
      },
      {
       "output_type": "stream",
       "stream": "stdout",
       "text": [
        "\n",
        "10224.509212f\u00fcr einen makesmalldurchlauf"
       ]
      },
      {
       "output_type": "stream",
       "stream": "stdout",
       "text": [
        "\n",
        "10247.052753f\u00fcr einen makesmalldurchlauf"
       ]
      },
      {
       "output_type": "stream",
       "stream": "stdout",
       "text": [
        "\n",
        "10269.411144f\u00fcr einen makesmalldurchlauf"
       ]
      },
      {
       "output_type": "stream",
       "stream": "stdout",
       "text": [
        "\n",
        "10292.4108028f\u00fcr einen makesmalldurchlauf"
       ]
      },
      {
       "output_type": "stream",
       "stream": "stdout",
       "text": [
        "\n",
        "10314.5529668f\u00fcr einen makesmalldurchlauf"
       ]
      },
      {
       "output_type": "stream",
       "stream": "stdout",
       "text": [
        "\n",
        "10336.9185669f\u00fcr einen makesmalldurchlauf"
       ]
      },
      {
       "output_type": "stream",
       "stream": "stdout",
       "text": [
        "\n",
        "10359.3969958f\u00fcr einen makesmalldurchlauf"
       ]
      },
      {
       "output_type": "stream",
       "stream": "stdout",
       "text": [
        "\n",
        "10382.3144939f\u00fcr einen makesmalldurchlauf"
       ]
      },
      {
       "output_type": "stream",
       "stream": "stdout",
       "text": [
        "\n",
        "10404.9364429f\u00fcr einen makesmalldurchlauf"
       ]
      },
      {
       "output_type": "stream",
       "stream": "stdout",
       "text": [
        "\n",
        "10429.3137779f\u00fcr einen makesmalldurchlauf"
       ]
      },
      {
       "output_type": "stream",
       "stream": "stdout",
       "text": [
        "\n",
        "10451.5868189f\u00fcr einen makesmalldurchlauf"
       ]
      },
      {
       "output_type": "stream",
       "stream": "stdout",
       "text": [
        "\n",
        "10473.9114518f\u00fcr einen makesmalldurchlauf"
       ]
      },
      {
       "output_type": "stream",
       "stream": "stdout",
       "text": [
        "\n",
        "10496.0606408f\u00fcr einen makesmalldurchlauf"
       ]
      },
      {
       "output_type": "stream",
       "stream": "stdout",
       "text": [
        "\n",
        "10518.276906f\u00fcr einen makesmalldurchlauf"
       ]
      },
      {
       "output_type": "stream",
       "stream": "stdout",
       "text": [
        "\n",
        "10540.5124779f\u00fcr einen makesmalldurchlauf"
       ]
      },
      {
       "output_type": "stream",
       "stream": "stdout",
       "text": [
        "\n",
        "10562.5558598f\u00fcr einen makesmalldurchlauf"
       ]
      },
      {
       "output_type": "stream",
       "stream": "stdout",
       "text": [
        "\n",
        "10584.8204379f\u00fcr einen makesmalldurchlauf"
       ]
      },
      {
       "output_type": "stream",
       "stream": "stdout",
       "text": [
        "\n",
        "10606.888346f\u00fcr einen makesmalldurchlauf"
       ]
      },
      {
       "output_type": "stream",
       "stream": "stdout",
       "text": [
        "\n",
        "10629.6012259f\u00fcr einen makesmalldurchlauf"
       ]
      },
      {
       "output_type": "stream",
       "stream": "stdout",
       "text": [
        "\n",
        "10651.879977f\u00fcr einen makesmalldurchlauf"
       ]
      },
      {
       "output_type": "stream",
       "stream": "stdout",
       "text": [
        "\n",
        "10674.20996f\u00fcr einen makesmalldurchlauf"
       ]
      },
      {
       "output_type": "stream",
       "stream": "stdout",
       "text": [
        "\n",
        "10696.569067f\u00fcr einen makesmalldurchlauf"
       ]
      },
      {
       "output_type": "stream",
       "stream": "stdout",
       "text": [
        "\n",
        "10718.9033999f\u00fcr einen makesmalldurchlauf"
       ]
      },
      {
       "output_type": "stream",
       "stream": "stdout",
       "text": [
        "\n",
        "10741.1132669f\u00fcr einen makesmalldurchlauf"
       ]
      },
      {
       "output_type": "stream",
       "stream": "stdout",
       "text": [
        "\n",
        "10763.399941f\u00fcr einen makesmalldurchlauf"
       ]
      },
      {
       "output_type": "stream",
       "stream": "stdout",
       "text": [
        "\n",
        "10785.646699f\u00fcr einen makesmalldurchlauf"
       ]
      },
      {
       "output_type": "stream",
       "stream": "stdout",
       "text": [
        "\n",
        "10807.848424f\u00fcr einen makesmalldurchlauf"
       ]
      },
      {
       "output_type": "stream",
       "stream": "stdout",
       "text": [
        "\n",
        "10830.100915f\u00fcr einen makesmalldurchlauf"
       ]
      },
      {
       "output_type": "stream",
       "stream": "stdout",
       "text": [
        "\n",
        "10852.2983429f\u00fcr einen makesmalldurchlauf"
       ]
      },
      {
       "output_type": "stream",
       "stream": "stdout",
       "text": [
        "\n",
        "10874.498044f\u00fcr einen makesmalldurchlauf"
       ]
      },
      {
       "output_type": "stream",
       "stream": "stdout",
       "text": [
        "\n",
        "10896.7024758f\u00fcr einen makesmalldurchlauf"
       ]
      },
      {
       "output_type": "stream",
       "stream": "stdout",
       "text": [
        "\n",
        "10918.9120209f\u00fcr einen makesmalldurchlauf"
       ]
      },
      {
       "output_type": "stream",
       "stream": "stdout",
       "text": [
        "\n",
        "10941.1168919f\u00fcr einen makesmalldurchlauf"
       ]
      },
      {
       "output_type": "stream",
       "stream": "stdout",
       "text": [
        "\n",
        "10963.326124f\u00fcr einen makesmalldurchlauf"
       ]
      },
      {
       "output_type": "stream",
       "stream": "stdout",
       "text": [
        "\n",
        "10985.531359f\u00fcr einen makesmalldurchlauf"
       ]
      },
      {
       "output_type": "stream",
       "stream": "stdout",
       "text": [
        "\n",
        "11007.541688f\u00fcr einen makesmalldurchlauf"
       ]
      },
      {
       "output_type": "stream",
       "stream": "stdout",
       "text": [
        "\n",
        "11029.5162859f\u00fcr einen makesmalldurchlauf"
       ]
      },
      {
       "output_type": "stream",
       "stream": "stdout",
       "text": [
        "\n",
        "11051.5268519f\u00fcr einen makesmalldurchlauf"
       ]
      },
      {
       "output_type": "stream",
       "stream": "stdout",
       "text": [
        "\n",
        "11073.5486288f\u00fcr einen makesmalldurchlauf"
       ]
      },
      {
       "output_type": "stream",
       "stream": "stdout",
       "text": [
        "\n",
        "11095.5134768f\u00fcr einen makesmalldurchlauf"
       ]
      },
      {
       "output_type": "stream",
       "stream": "stdout",
       "text": [
        "\n",
        "11117.4720619f\u00fcr einen makesmalldurchlauf"
       ]
      },
      {
       "output_type": "stream",
       "stream": "stdout",
       "text": [
        "\n",
        "11139.5554829f\u00fcr einen makesmalldurchlauf"
       ]
      },
      {
       "output_type": "stream",
       "stream": "stdout",
       "text": [
        "\n",
        "11161.5123699f\u00fcr einen makesmalldurchlauf"
       ]
      },
      {
       "output_type": "stream",
       "stream": "stdout",
       "text": [
        "\n",
        "11183.5097959f\u00fcr einen makesmalldurchlauf"
       ]
      },
      {
       "output_type": "stream",
       "stream": "stdout",
       "text": [
        "\n",
        "11205.5175788f\u00fcr einen makesmalldurchlauf"
       ]
      },
      {
       "output_type": "stream",
       "stream": "stdout",
       "text": [
        "\n",
        "11227.5097818f\u00fcr einen makesmalldurchlauf"
       ]
      },
      {
       "output_type": "stream",
       "stream": "stdout",
       "text": [
        "\n",
        "11249.5157459f\u00fcr einen makesmalldurchlauf"
       ]
      },
      {
       "output_type": "stream",
       "stream": "stdout",
       "text": [
        "\n",
        "11271.511667f\u00fcr einen makesmalldurchlauf"
       ]
      },
      {
       "output_type": "stream",
       "stream": "stdout",
       "text": [
        "\n",
        "11293.6837049f\u00fcr einen makesmalldurchlauf"
       ]
      },
      {
       "output_type": "stream",
       "stream": "stdout",
       "text": [
        "\n",
        "11315.6622488f\u00fcr einen makesmalldurchlauf"
       ]
      },
      {
       "output_type": "stream",
       "stream": "stdout",
       "text": [
        "\n",
        "11337.7612379f\u00fcr einen makesmalldurchlauf"
       ]
      },
      {
       "output_type": "stream",
       "stream": "stdout",
       "text": [
        "\n",
        "11359.851512f\u00fcr einen makesmalldurchlauf"
       ]
      },
      {
       "output_type": "stream",
       "stream": "stdout",
       "text": [
        "\n",
        "11381.829885f\u00fcr einen makesmalldurchlauf"
       ]
      },
      {
       "output_type": "stream",
       "stream": "stdout",
       "text": [
        "\n",
        "11403.8383119f\u00fcr einen makesmalldurchlauf"
       ]
      },
      {
       "output_type": "stream",
       "stream": "stdout",
       "text": [
        "\n",
        "11425.8074f\u00fcr einen makesmalldurchlauf"
       ]
      },
      {
       "output_type": "stream",
       "stream": "stdout",
       "text": [
        "\n",
        "11447.8742318f\u00fcr einen makesmalldurchlauf"
       ]
      },
      {
       "output_type": "stream",
       "stream": "stdout",
       "text": [
        "\n",
        "11469.8294539f\u00fcr einen makesmalldurchlauf"
       ]
      },
      {
       "output_type": "stream",
       "stream": "stdout",
       "text": [
        "\n",
        "11491.8489008f\u00fcr einen makesmalldurchlauf"
       ]
      },
      {
       "output_type": "stream",
       "stream": "stdout",
       "text": [
        "\n",
        "11513.8148768f\u00fcr einen makesmalldurchlauf"
       ]
      },
      {
       "output_type": "stream",
       "stream": "stdout",
       "text": [
        "\n",
        "11535.7344868f\u00fcr einen makesmalldurchlauf"
       ]
      },
      {
       "output_type": "stream",
       "stream": "stdout",
       "text": [
        "\n",
        "11557.6552448f\u00fcr einen makesmalldurchlauf"
       ]
      },
      {
       "output_type": "stream",
       "stream": "stdout",
       "text": [
        "\n",
        "11579.7197189f\u00fcr einen makesmalldurchlauf"
       ]
      },
      {
       "output_type": "stream",
       "stream": "stdout",
       "text": [
        "\n",
        "11601.7894239f\u00fcr einen makesmalldurchlauf"
       ]
      },
      {
       "output_type": "stream",
       "stream": "stdout",
       "text": [
        "\n",
        "11623.8477829f\u00fcr einen makesmalldurchlauf"
       ]
      },
      {
       "output_type": "stream",
       "stream": "stdout",
       "text": [
        "\n",
        "11645.9518809f\u00fcr einen makesmalldurchlauf"
       ]
      },
      {
       "output_type": "stream",
       "stream": "stdout",
       "text": [
        "\n",
        "11667.959796f\u00fcr einen makesmalldurchlauf"
       ]
      },
      {
       "output_type": "stream",
       "stream": "stdout",
       "text": [
        "\n",
        "11689.9819899f\u00fcr einen makesmalldurchlauf"
       ]
      },
      {
       "output_type": "stream",
       "stream": "stdout",
       "text": [
        "\n",
        "11712.1065969f\u00fcr einen makesmalldurchlauf"
       ]
      },
      {
       "output_type": "stream",
       "stream": "stdout",
       "text": [
        "\n",
        "11734.1552739f\u00fcr einen makesmalldurchlauf"
       ]
      },
      {
       "output_type": "stream",
       "stream": "stdout",
       "text": [
        "\n",
        "11756.22612f\u00fcr einen makesmalldurchlauf"
       ]
      },
      {
       "output_type": "stream",
       "stream": "stdout",
       "text": [
        "\n",
        "11778.6062889f\u00fcr einen makesmalldurchlauf"
       ]
      },
      {
       "output_type": "stream",
       "stream": "stdout",
       "text": [
        "\n",
        "11801.6106699f\u00fcr einen makesmalldurchlauf"
       ]
      },
      {
       "output_type": "stream",
       "stream": "stdout",
       "text": [
        "\n",
        "11823.8340628f\u00fcr einen makesmalldurchlauf"
       ]
      },
      {
       "output_type": "stream",
       "stream": "stdout",
       "text": [
        "\n",
        "11846.1109738f\u00fcr einen makesmalldurchlauf"
       ]
      },
      {
       "output_type": "stream",
       "stream": "stdout",
       "text": [
        "\n",
        "11868.3940959f\u00fcr einen makesmalldurchlauf"
       ]
      },
      {
       "output_type": "stream",
       "stream": "stdout",
       "text": [
        "\n",
        "11890.464118f\u00fcr einen makesmalldurchlauf"
       ]
      },
      {
       "output_type": "stream",
       "stream": "stdout",
       "text": [
        "\n",
        "11912.9606199f\u00fcr einen makesmalldurchlauf"
       ]
      },
      {
       "output_type": "stream",
       "stream": "stdout",
       "text": [
        "\n",
        "11935.4960999f\u00fcr einen makesmalldurchlauf"
       ]
      },
      {
       "output_type": "stream",
       "stream": "stdout",
       "text": [
        "\n",
        "11957.6815019f\u00fcr einen makesmalldurchlauf"
       ]
      },
      {
       "output_type": "stream",
       "stream": "stdout",
       "text": [
        "\n",
        "11979.9189599f\u00fcr einen makesmalldurchlauf"
       ]
      },
      {
       "output_type": "stream",
       "stream": "stdout",
       "text": [
        "\n",
        "12002.9198759f\u00fcr einen makesmalldurchlauf"
       ]
      },
      {
       "output_type": "stream",
       "stream": "stdout",
       "text": [
        "\n",
        "12025.23311f\u00fcr einen makesmalldurchlauf"
       ]
      },
      {
       "output_type": "stream",
       "stream": "stdout",
       "text": [
        "\n",
        "12047.8015559f\u00fcr einen makesmalldurchlauf"
       ]
      },
      {
       "output_type": "stream",
       "stream": "stdout",
       "text": [
        "\n",
        "12070.8848469f\u00fcr einen makesmalldurchlauf"
       ]
      },
      {
       "output_type": "stream",
       "stream": "stdout",
       "text": [
        "\n",
        "12093.1104949f\u00fcr einen makesmalldurchlauf"
       ]
      },
      {
       "output_type": "stream",
       "stream": "stdout",
       "text": [
        "\n",
        "12116.1659639f\u00fcr einen makesmalldurchlauf"
       ]
      },
      {
       "output_type": "stream",
       "stream": "stdout",
       "text": [
        "\n",
        "12138.628191f\u00fcr einen makesmalldurchlauf"
       ]
      },
      {
       "output_type": "stream",
       "stream": "stdout",
       "text": [
        "\n",
        "12160.9915638f\u00fcr einen makesmalldurchlauf"
       ]
      },
      {
       "output_type": "stream",
       "stream": "stdout",
       "text": [
        "\n",
        "12183.7086139f\u00fcr einen makesmalldurchlauf"
       ]
      },
      {
       "output_type": "stream",
       "stream": "stdout",
       "text": [
        "\n",
        "12206.0831339f\u00fcr einen makesmalldurchlauf"
       ]
      },
      {
       "output_type": "stream",
       "stream": "stdout",
       "text": [
        "\n",
        "12229.0415339f\u00fcr einen makesmalldurchlauf"
       ]
      },
      {
       "output_type": "stream",
       "stream": "stdout",
       "text": [
        "\n",
        "12252.0899558f\u00fcr einen makesmalldurchlauf"
       ]
      },
      {
       "output_type": "stream",
       "stream": "stdout",
       "text": [
        "\n",
        "12274.2330899f\u00fcr einen makesmalldurchlauf"
       ]
      },
      {
       "output_type": "stream",
       "stream": "stdout",
       "text": [
        "\n",
        "12299.5972359f\u00fcr einen makesmalldurchlauf"
       ]
      },
      {
       "output_type": "stream",
       "stream": "stdout",
       "text": [
        "\n",
        "12323.4400239f\u00fcr einen makesmalldurchlauf"
       ]
      },
      {
       "output_type": "stream",
       "stream": "stdout",
       "text": [
        "\n",
        "12348.156533f\u00fcr einen makesmalldurchlauf"
       ]
      },
      {
       "output_type": "stream",
       "stream": "stdout",
       "text": [
        "\n",
        "12371.0967779f\u00fcr einen makesmalldurchlauf"
       ]
      },
      {
       "output_type": "stream",
       "stream": "stdout",
       "text": [
        "\n",
        "12393.2615569f\u00fcr einen makesmalldurchlauf"
       ]
      },
      {
       "output_type": "stream",
       "stream": "stdout",
       "text": [
        "\n",
        "12415.5294719f\u00fcr einen makesmalldurchlauf"
       ]
      },
      {
       "output_type": "stream",
       "stream": "stdout",
       "text": [
        "\n",
        "12437.852598f\u00fcr einen makesmalldurchlauf"
       ]
      },
      {
       "output_type": "stream",
       "stream": "stdout",
       "text": [
        "\n",
        "12460.1655309f\u00fcr einen makesmalldurchlauf"
       ]
      },
      {
       "output_type": "stream",
       "stream": "stdout",
       "text": [
        "\n",
        "12482.411006f\u00fcr einen makesmalldurchlauf"
       ]
      },
      {
       "output_type": "stream",
       "stream": "stdout",
       "text": [
        "\n",
        "12504.6930659f\u00fcr einen makesmalldurchlauf"
       ]
      },
      {
       "output_type": "stream",
       "stream": "stdout",
       "text": [
        "\n",
        "12527.1641829f\u00fcr einen makesmalldurchlauf"
       ]
      },
      {
       "output_type": "stream",
       "stream": "stdout",
       "text": [
        "\n",
        "12527.275697f\u00fcr einen linkerdurchlauf"
       ]
      },
      {
       "output_type": "stream",
       "stream": "stdout",
       "text": [
        "\n",
        "12572.5530498f\u00fcr einen makesmalldurchlauf"
       ]
      },
      {
       "output_type": "stream",
       "stream": "stdout",
       "text": [
        "\n",
        "12594.9573629f\u00fcr einen makesmalldurchlauf"
       ]
      },
      {
       "output_type": "stream",
       "stream": "stdout",
       "text": [
        "\n",
        "12617.5766418f\u00fcr einen makesmalldurchlauf"
       ]
      },
      {
       "output_type": "stream",
       "stream": "stdout",
       "text": [
        "\n",
        "12639.51298f\u00fcr einen makesmalldurchlauf"
       ]
      },
      {
       "output_type": "stream",
       "stream": "stdout",
       "text": [
        "\n",
        "12661.5049319f\u00fcr einen makesmalldurchlauf"
       ]
      },
      {
       "output_type": "stream",
       "stream": "stdout",
       "text": [
        "\n",
        "12683.4706149f\u00fcr einen makesmalldurchlauf"
       ]
      },
      {
       "output_type": "stream",
       "stream": "stdout",
       "text": [
        "\n",
        "12705.5391228f\u00fcr einen makesmalldurchlauf"
       ]
      },
      {
       "output_type": "stream",
       "stream": "stdout",
       "text": [
        "\n",
        "12727.547936f\u00fcr einen makesmalldurchlauf"
       ]
      },
      {
       "output_type": "stream",
       "stream": "stdout",
       "text": [
        "\n",
        "12749.5128379f\u00fcr einen makesmalldurchlauf"
       ]
      },
      {
       "output_type": "stream",
       "stream": "stdout",
       "text": [
        "\n",
        "12771.513762f\u00fcr einen makesmalldurchlauf"
       ]
      },
      {
       "output_type": "stream",
       "stream": "stdout",
       "text": [
        "\n",
        "12793.7380078f\u00fcr einen makesmalldurchlauf"
       ]
      },
      {
       "output_type": "stream",
       "stream": "stdout",
       "text": [
        "\n",
        "12815.8603239f\u00fcr einen makesmalldurchlauf"
       ]
      },
      {
       "output_type": "stream",
       "stream": "stdout",
       "text": [
        "\n",
        "12838.057899f\u00fcr einen makesmalldurchlauf"
       ]
      },
      {
       "output_type": "stream",
       "stream": "stdout",
       "text": [
        "\n",
        "12860.0917418f\u00fcr einen makesmalldurchlauf"
       ]
      },
      {
       "output_type": "stream",
       "stream": "stdout",
       "text": [
        "\n",
        "12882.313185f\u00fcr einen makesmalldurchlauf"
       ]
      },
      {
       "output_type": "stream",
       "stream": "stdout",
       "text": [
        "\n",
        "12904.388135f\u00fcr einen makesmalldurchlauf"
       ]
      },
      {
       "output_type": "stream",
       "stream": "stdout",
       "text": [
        "\n",
        "12926.4717169f\u00fcr einen makesmalldurchlauf"
       ]
      },
      {
       "output_type": "stream",
       "stream": "stdout",
       "text": [
        "\n",
        "12948.726795f\u00fcr einen makesmalldurchlauf"
       ]
      },
      {
       "output_type": "stream",
       "stream": "stdout",
       "text": [
        "\n",
        "12971.2140849f\u00fcr einen makesmalldurchlauf"
       ]
      },
      {
       "output_type": "stream",
       "stream": "stdout",
       "text": [
        "\n",
        "12993.4458289f\u00fcr einen makesmalldurchlauf"
       ]
      },
      {
       "output_type": "stream",
       "stream": "stdout",
       "text": [
        "\n",
        "13015.6318939f\u00fcr einen makesmalldurchlauf"
       ]
      },
      {
       "output_type": "stream",
       "stream": "stdout",
       "text": [
        "\n",
        "13037.8786829f\u00fcr einen makesmalldurchlauf"
       ]
      },
      {
       "output_type": "stream",
       "stream": "stdout",
       "text": [
        "\n",
        "13059.886148f\u00fcr einen makesmalldurchlauf"
       ]
      },
      {
       "output_type": "stream",
       "stream": "stdout",
       "text": [
        "\n",
        "13082.3214099f\u00fcr einen makesmalldurchlauf"
       ]
      },
      {
       "output_type": "stream",
       "stream": "stdout",
       "text": [
        "\n",
        "13106.834702f\u00fcr einen makesmalldurchlauf"
       ]
      },
      {
       "output_type": "stream",
       "stream": "stdout",
       "text": [
        "\n",
        "13130.6921558f\u00fcr einen makesmalldurchlauf"
       ]
      },
      {
       "output_type": "stream",
       "stream": "stdout",
       "text": [
        "\n",
        "13154.650187f\u00fcr einen makesmalldurchlauf"
       ]
      },
      {
       "output_type": "stream",
       "stream": "stdout",
       "text": [
        "\n",
        "13178.6332879f\u00fcr einen makesmalldurchlauf"
       ]
      },
      {
       "output_type": "stream",
       "stream": "stdout",
       "text": [
        "\n",
        "13201.8432209f\u00fcr einen makesmalldurchlauf"
       ]
      },
      {
       "output_type": "stream",
       "stream": "stdout",
       "text": [
        "\n",
        "13224.062223f\u00fcr einen makesmalldurchlauf"
       ]
      },
      {
       "output_type": "stream",
       "stream": "stdout",
       "text": [
        "\n",
        "13246.125212f\u00fcr einen makesmalldurchlauf"
       ]
      },
      {
       "output_type": "stream",
       "stream": "stdout",
       "text": [
        "\n",
        "13268.2565188f\u00fcr einen makesmalldurchlauf"
       ]
      },
      {
       "output_type": "stream",
       "stream": "stdout",
       "text": [
        "\n",
        "13290.489219f\u00fcr einen makesmalldurchlauf"
       ]
      },
      {
       "output_type": "stream",
       "stream": "stdout",
       "text": [
        "\n",
        "13312.7052639f\u00fcr einen makesmalldurchlauf"
       ]
      },
      {
       "output_type": "stream",
       "stream": "stdout",
       "text": [
        "\n",
        "13334.8663208f\u00fcr einen makesmalldurchlauf"
       ]
      },
      {
       "output_type": "stream",
       "stream": "stdout",
       "text": [
        "\n",
        "13357.1003139f\u00fcr einen makesmalldurchlauf"
       ]
      },
      {
       "output_type": "stream",
       "stream": "stdout",
       "text": [
        "\n",
        "13379.1735289f\u00fcr einen makesmalldurchlauf"
       ]
      },
      {
       "output_type": "stream",
       "stream": "stdout",
       "text": [
        "\n",
        "13401.4199698f\u00fcr einen makesmalldurchlauf"
       ]
      },
      {
       "output_type": "stream",
       "stream": "stdout",
       "text": [
        "\n",
        "13423.8110499f\u00fcr einen makesmalldurchlauf"
       ]
      },
      {
       "output_type": "stream",
       "stream": "stdout",
       "text": [
        "\n",
        "13445.8854098f\u00fcr einen makesmalldurchlauf"
       ]
      },
      {
       "output_type": "stream",
       "stream": "stdout",
       "text": [
        "\n",
        "13467.9299059f\u00fcr einen makesmalldurchlauf"
       ]
      },
      {
       "output_type": "stream",
       "stream": "stdout",
       "text": [
        "\n",
        "13489.8729098f\u00fcr einen makesmalldurchlauf"
       ]
      },
      {
       "output_type": "stream",
       "stream": "stdout",
       "text": [
        "\n",
        "13512.052994f\u00fcr einen makesmalldurchlauf"
       ]
      },
      {
       "output_type": "stream",
       "stream": "stdout",
       "text": [
        "\n",
        "13534.64782f\u00fcr einen makesmalldurchlauf"
       ]
      },
      {
       "output_type": "stream",
       "stream": "stdout",
       "text": [
        "\n",
        "13557.187665f\u00fcr einen makesmalldurchlauf"
       ]
      },
      {
       "output_type": "stream",
       "stream": "stdout",
       "text": [
        "\n",
        "13579.2208898f\u00fcr einen makesmalldurchlauf"
       ]
      },
      {
       "output_type": "stream",
       "stream": "stdout",
       "text": [
        "\n",
        "13601.256119f\u00fcr einen makesmalldurchlauf"
       ]
      },
      {
       "output_type": "stream",
       "stream": "stdout",
       "text": [
        "\n",
        "13623.2758429f\u00fcr einen makesmalldurchlauf"
       ]
      },
      {
       "output_type": "stream",
       "stream": "stdout",
       "text": [
        "\n",
        "13645.5604959f\u00fcr einen makesmalldurchlauf"
       ]
      },
      {
       "output_type": "stream",
       "stream": "stdout",
       "text": [
        "\n",
        "13667.909189f\u00fcr einen makesmalldurchlauf"
       ]
      },
      {
       "output_type": "stream",
       "stream": "stdout",
       "text": [
        "\n",
        "13690.0803289f\u00fcr einen makesmalldurchlauf"
       ]
      },
      {
       "output_type": "stream",
       "stream": "stdout",
       "text": [
        "\n",
        "13712.3230219f\u00fcr einen makesmalldurchlauf"
       ]
      },
      {
       "output_type": "stream",
       "stream": "stdout",
       "text": [
        "\n",
        "13734.8452549f\u00fcr einen makesmalldurchlauf"
       ]
      },
      {
       "output_type": "stream",
       "stream": "stdout",
       "text": [
        "\n",
        "13756.987258f\u00fcr einen makesmalldurchlauf"
       ]
      },
      {
       "output_type": "stream",
       "stream": "stdout",
       "text": [
        "\n",
        "13779.220933f\u00fcr einen makesmalldurchlauf"
       ]
      },
      {
       "output_type": "stream",
       "stream": "stdout",
       "text": [
        "\n",
        "13801.295362f\u00fcr einen makesmalldurchlauf"
       ]
      },
      {
       "output_type": "stream",
       "stream": "stdout",
       "text": [
        "\n",
        "13823.2535739f\u00fcr einen makesmalldurchlauf"
       ]
      },
      {
       "output_type": "stream",
       "stream": "stdout",
       "text": [
        "\n",
        "13845.3037119f\u00fcr einen makesmalldurchlauf"
       ]
      },
      {
       "output_type": "stream",
       "stream": "stdout",
       "text": [
        "\n",
        "13867.335392f\u00fcr einen makesmalldurchlauf"
       ]
      },
      {
       "output_type": "stream",
       "stream": "stdout",
       "text": [
        "\n",
        "13889.5589809f\u00fcr einen makesmalldurchlauf"
       ]
      },
      {
       "output_type": "stream",
       "stream": "stdout",
       "text": [
        "\n",
        "13912.057194f\u00fcr einen makesmalldurchlauf"
       ]
      },
      {
       "output_type": "stream",
       "stream": "stdout",
       "text": [
        "\n",
        "13934.460465f\u00fcr einen makesmalldurchlauf"
       ]
      },
      {
       "output_type": "stream",
       "stream": "stdout",
       "text": [
        "\n",
        "13956.8843949f\u00fcr einen makesmalldurchlauf"
       ]
      },
      {
       "output_type": "stream",
       "stream": "stdout",
       "text": [
        "\n",
        "13979.2426069f\u00fcr einen makesmalldurchlauf"
       ]
      },
      {
       "output_type": "stream",
       "stream": "stdout",
       "text": [
        "\n",
        "14001.4935758f\u00fcr einen makesmalldurchlauf"
       ]
      },
      {
       "output_type": "stream",
       "stream": "stdout",
       "text": [
        "\n",
        "14023.6610708f\u00fcr einen makesmalldurchlauf"
       ]
      },
      {
       "output_type": "stream",
       "stream": "stdout",
       "text": [
        "\n",
        "14045.600194f\u00fcr einen makesmalldurchlauf"
       ]
      },
      {
       "output_type": "stream",
       "stream": "stdout",
       "text": [
        "\n",
        "14067.5333979f\u00fcr einen makesmalldurchlauf"
       ]
      },
      {
       "output_type": "stream",
       "stream": "stdout",
       "text": [
        "\n",
        "14089.509388f\u00fcr einen makesmalldurchlauf"
       ]
      },
      {
       "output_type": "stream",
       "stream": "stdout",
       "text": [
        "\n",
        "14111.4967949f\u00fcr einen makesmalldurchlauf"
       ]
      },
      {
       "output_type": "stream",
       "stream": "stdout",
       "text": [
        "\n",
        "14133.5727439f\u00fcr einen makesmalldurchlauf"
       ]
      },
      {
       "output_type": "stream",
       "stream": "stdout",
       "text": [
        "\n",
        "14155.8901229f\u00fcr einen makesmalldurchlauf"
       ]
      },
      {
       "output_type": "stream",
       "stream": "stdout",
       "text": [
        "\n",
        "14177.9807789f\u00fcr einen makesmalldurchlauf"
       ]
      },
      {
       "output_type": "stream",
       "stream": "stdout",
       "text": [
        "\n",
        "14200.3725319f\u00fcr einen makesmalldurchlauf"
       ]
      },
      {
       "output_type": "stream",
       "stream": "stdout",
       "text": [
        "\n",
        "14222.5279298f\u00fcr einen makesmalldurchlauf"
       ]
      },
      {
       "output_type": "stream",
       "stream": "stdout",
       "text": [
        "\n",
        "14244.60549f\u00fcr einen makesmalldurchlauf"
       ]
      },
      {
       "output_type": "stream",
       "stream": "stdout",
       "text": [
        "\n",
        "14266.5932088f\u00fcr einen makesmalldurchlauf"
       ]
      },
      {
       "output_type": "stream",
       "stream": "stdout",
       "text": [
        "\n",
        "14288.8797119f\u00fcr einen makesmalldurchlauf"
       ]
      },
      {
       "output_type": "stream",
       "stream": "stdout",
       "text": [
        "\n",
        "14314.7140729f\u00fcr einen makesmalldurchlauf"
       ]
      },
      {
       "output_type": "stream",
       "stream": "stdout",
       "text": [
        "\n",
        "14336.9027309f\u00fcr einen makesmalldurchlauf"
       ]
      },
      {
       "output_type": "stream",
       "stream": "stdout",
       "text": [
        "\n",
        "14358.9023528f\u00fcr einen makesmalldurchlauf"
       ]
      },
      {
       "output_type": "stream",
       "stream": "stdout",
       "text": [
        "\n",
        "14380.8822038f\u00fcr einen makesmalldurchlauf"
       ]
      },
      {
       "output_type": "stream",
       "stream": "stdout",
       "text": [
        "\n",
        "14402.9423389f\u00fcr einen makesmalldurchlauf"
       ]
      },
      {
       "output_type": "stream",
       "stream": "stdout",
       "text": [
        "\n",
        "14424.9413888f\u00fcr einen makesmalldurchlauf"
       ]
      },
      {
       "output_type": "stream",
       "stream": "stdout",
       "text": [
        "\n",
        "14448.5217659f\u00fcr einen makesmalldurchlauf"
       ]
      },
      {
       "output_type": "stream",
       "stream": "stdout",
       "text": [
        "\n",
        "14471.854239f\u00fcr einen makesmalldurchlauf"
       ]
      },
      {
       "output_type": "stream",
       "stream": "stdout",
       "text": [
        "\n",
        "14494.150898f\u00fcr einen makesmalldurchlauf"
       ]
      },
      {
       "output_type": "stream",
       "stream": "stdout",
       "text": [
        "\n",
        "14516.1053569f\u00fcr einen makesmalldurchlauf"
       ]
      },
      {
       "output_type": "stream",
       "stream": "stdout",
       "text": [
        "\n",
        "14538.1994379f\u00fcr einen makesmalldurchlauf"
       ]
      },
      {
       "output_type": "stream",
       "stream": "stdout",
       "text": [
        "\n",
        "14560.289727f\u00fcr einen makesmalldurchlauf"
       ]
      },
      {
       "output_type": "stream",
       "stream": "stdout",
       "text": [
        "\n",
        "14582.335958f\u00fcr einen makesmalldurchlauf"
       ]
      },
      {
       "output_type": "stream",
       "stream": "stdout",
       "text": [
        "\n",
        "14604.404294f\u00fcr einen makesmalldurchlauf"
       ]
      },
      {
       "output_type": "stream",
       "stream": "stdout",
       "text": [
        "\n",
        "14626.5915198f\u00fcr einen makesmalldurchlauf"
       ]
      },
      {
       "output_type": "stream",
       "stream": "stdout",
       "text": [
        "\n",
        "14648.9944558f\u00fcr einen makesmalldurchlauf"
       ]
      },
      {
       "output_type": "stream",
       "stream": "stdout",
       "text": [
        "\n",
        "14671.3846748f\u00fcr einen makesmalldurchlauf"
       ]
      },
      {
       "output_type": "stream",
       "stream": "stdout",
       "text": [
        "\n",
        "14693.5364878f\u00fcr einen makesmalldurchlauf"
       ]
      },
      {
       "output_type": "stream",
       "stream": "stdout",
       "text": [
        "\n",
        "14715.8419058f\u00fcr einen makesmalldurchlauf"
       ]
      },
      {
       "output_type": "stream",
       "stream": "stdout",
       "text": [
        "\n",
        "14738.1959789f\u00fcr einen makesmalldurchlauf"
       ]
      },
      {
       "output_type": "stream",
       "stream": "stdout",
       "text": [
        "\n",
        "14760.528646f\u00fcr einen makesmalldurchlauf"
       ]
      },
      {
       "output_type": "stream",
       "stream": "stdout",
       "text": [
        "\n",
        "14782.9114549f\u00fcr einen makesmalldurchlauf"
       ]
      },
      {
       "output_type": "stream",
       "stream": "stdout",
       "text": [
        "\n",
        "14805.0269718f\u00fcr einen makesmalldurchlauf"
       ]
      },
      {
       "output_type": "stream",
       "stream": "stdout",
       "text": [
        "\n",
        "14827.3284638f\u00fcr einen makesmalldurchlauf"
       ]
      },
      {
       "output_type": "stream",
       "stream": "stdout",
       "text": [
        "\n",
        "14849.8872709f\u00fcr einen makesmalldurchlauf"
       ]
      },
      {
       "output_type": "stream",
       "stream": "stdout",
       "text": [
        "\n",
        "14872.1097028f\u00fcr einen makesmalldurchlauf"
       ]
      },
      {
       "output_type": "stream",
       "stream": "stdout",
       "text": [
        "\n",
        "14894.2846389f\u00fcr einen makesmalldurchlauf"
       ]
      },
      {
       "output_type": "stream",
       "stream": "stdout",
       "text": [
        "\n",
        "14916.5373549f\u00fcr einen makesmalldurchlauf"
       ]
      },
      {
       "output_type": "stream",
       "stream": "stdout",
       "text": [
        "\n",
        "14938.7312448f\u00fcr einen makesmalldurchlauf"
       ]
      },
      {
       "output_type": "stream",
       "stream": "stdout",
       "text": [
        "\n",
        "14960.893729f\u00fcr einen makesmalldurchlauf"
       ]
      },
      {
       "output_type": "stream",
       "stream": "stdout",
       "text": [
        "\n",
        "14983.004622f\u00fcr einen makesmalldurchlauf"
       ]
      },
      {
       "output_type": "stream",
       "stream": "stdout",
       "text": [
        "\n",
        "15005.1748579f\u00fcr einen makesmalldurchlauf"
       ]
      },
      {
       "output_type": "stream",
       "stream": "stdout",
       "text": [
        "\n",
        "15027.3565428f\u00fcr einen makesmalldurchlauf"
       ]
      },
      {
       "output_type": "stream",
       "stream": "stdout",
       "text": [
        "\n",
        "15049.587997f\u00fcr einen makesmalldurchlauf"
       ]
      },
      {
       "output_type": "stream",
       "stream": "stdout",
       "text": [
        "\n",
        "15073.2281389f\u00fcr einen makesmalldurchlauf"
       ]
      },
      {
       "output_type": "stream",
       "stream": "stdout",
       "text": [
        "\n",
        "15095.8334289f\u00fcr einen makesmalldurchlauf"
       ]
      },
      {
       "output_type": "stream",
       "stream": "stdout",
       "text": [
        "\n",
        "15120.088522f\u00fcr einen makesmalldurchlauf"
       ]
      },
      {
       "output_type": "stream",
       "stream": "stdout",
       "text": [
        "\n",
        "15143.0013659f\u00fcr einen makesmalldurchlauf"
       ]
      },
      {
       "output_type": "stream",
       "stream": "stdout",
       "text": [
        "\n",
        "15165.4518719f\u00fcr einen makesmalldurchlauf"
       ]
      },
      {
       "output_type": "stream",
       "stream": "stdout",
       "text": [
        "\n",
        "15187.573761f\u00fcr einen makesmalldurchlauf"
       ]
      },
      {
       "output_type": "stream",
       "stream": "stdout",
       "text": [
        "\n",
        "15209.6462979f\u00fcr einen makesmalldurchlauf"
       ]
      },
      {
       "output_type": "stream",
       "stream": "stdout",
       "text": [
        "\n",
        "15231.979388f\u00fcr einen makesmalldurchlauf"
       ]
      },
      {
       "output_type": "stream",
       "stream": "stdout",
       "text": [
        "\n",
        "15254.0623009f\u00fcr einen makesmalldurchlauf"
       ]
      },
      {
       "output_type": "stream",
       "stream": "stdout",
       "text": [
        "\n",
        "15276.0876429f\u00fcr einen makesmalldurchlauf"
       ]
      },
      {
       "output_type": "stream",
       "stream": "stdout",
       "text": [
        "\n",
        "15298.0738108f\u00fcr einen makesmalldurchlauf"
       ]
      },
      {
       "output_type": "stream",
       "stream": "stdout",
       "text": [
        "\n",
        "15320.120543f\u00fcr einen makesmalldurchlauf"
       ]
      },
      {
       "output_type": "stream",
       "stream": "stdout",
       "text": [
        "\n",
        "15342.2394049f\u00fcr einen makesmalldurchlauf"
       ]
      },
      {
       "output_type": "stream",
       "stream": "stdout",
       "text": [
        "\n",
        "15364.2525148f\u00fcr einen makesmalldurchlauf"
       ]
      },
      {
       "output_type": "stream",
       "stream": "stdout",
       "text": [
        "\n",
        "15386.3236139f\u00fcr einen makesmalldurchlauf"
       ]
      },
      {
       "output_type": "stream",
       "stream": "stdout",
       "text": [
        "\n",
        "15408.417228f\u00fcr einen makesmalldurchlauf"
       ]
      },
      {
       "output_type": "stream",
       "stream": "stdout",
       "text": [
        "\n",
        "15430.8226969f\u00fcr einen makesmalldurchlauf"
       ]
      },
      {
       "output_type": "stream",
       "stream": "stdout",
       "text": [
        "\n",
        "15452.911536f\u00fcr einen makesmalldurchlauf"
       ]
      },
      {
       "output_type": "stream",
       "stream": "stdout",
       "text": [
        "\n",
        "15474.959914f\u00fcr einen makesmalldurchlauf"
       ]
      },
      {
       "output_type": "stream",
       "stream": "stdout",
       "text": [
        "\n",
        "15497.0857298f\u00fcr einen makesmalldurchlauf"
       ]
      },
      {
       "output_type": "stream",
       "stream": "stdout",
       "text": [
        "\n",
        "15519.1514368f\u00fcr einen makesmalldurchlauf"
       ]
      },
      {
       "output_type": "stream",
       "stream": "stdout",
       "text": [
        "\n",
        "15541.3432088f\u00fcr einen makesmalldurchlauf"
       ]
      },
      {
       "output_type": "stream",
       "stream": "stdout",
       "text": [
        "\n",
        "15563.377142f\u00fcr einen makesmalldurchlauf"
       ]
      },
      {
       "output_type": "stream",
       "stream": "stdout",
       "text": [
        "\n",
        "15585.3935149f\u00fcr einen makesmalldurchlauf"
       ]
      },
      {
       "output_type": "stream",
       "stream": "stdout",
       "text": [
        "\n",
        "15607.5063179f\u00fcr einen makesmalldurchlauf"
       ]
      },
      {
       "output_type": "stream",
       "stream": "stdout",
       "text": [
        "\n",
        "15629.4550538f\u00fcr einen makesmalldurchlauf"
       ]
      },
      {
       "output_type": "stream",
       "stream": "stdout",
       "text": [
        "\n",
        "15651.3982439f\u00fcr einen makesmalldurchlauf"
       ]
      },
      {
       "output_type": "stream",
       "stream": "stdout",
       "text": [
        "\n",
        "15673.3855338f\u00fcr einen makesmalldurchlauf"
       ]
      },
      {
       "output_type": "stream",
       "stream": "stdout",
       "text": [
        "\n",
        "15695.3663909f\u00fcr einen makesmalldurchlauf"
       ]
      },
      {
       "output_type": "stream",
       "stream": "stdout",
       "text": [
        "\n",
        "15717.3476748f\u00fcr einen makesmalldurchlauf"
       ]
      },
      {
       "output_type": "stream",
       "stream": "stdout",
       "text": [
        "\n",
        "15739.4486439f\u00fcr einen makesmalldurchlauf"
       ]
      },
      {
       "output_type": "stream",
       "stream": "stdout",
       "text": [
        "\n",
        "15761.424839f\u00fcr einen makesmalldurchlauf"
       ]
      },
      {
       "output_type": "stream",
       "stream": "stdout",
       "text": [
        "\n",
        "15783.392761f\u00fcr einen makesmalldurchlauf"
       ]
      },
      {
       "output_type": "stream",
       "stream": "stdout",
       "text": [
        "\n",
        "15805.383235f\u00fcr einen makesmalldurchlauf"
       ]
      },
      {
       "output_type": "stream",
       "stream": "stdout",
       "text": [
        "\n",
        "15827.5132289f\u00fcr einen makesmalldurchlauf"
       ]
      },
      {
       "output_type": "stream",
       "stream": "stdout",
       "text": [
        "\n",
        "15849.705704f\u00fcr einen makesmalldurchlauf"
       ]
      },
      {
       "output_type": "stream",
       "stream": "stdout",
       "text": [
        "\n",
        "15871.786824f\u00fcr einen makesmalldurchlauf"
       ]
      },
      {
       "output_type": "stream",
       "stream": "stdout",
       "text": [
        "\n",
        "15894.0312059f\u00fcr einen makesmalldurchlauf"
       ]
      },
      {
       "output_type": "stream",
       "stream": "stdout",
       "text": [
        "\n",
        "15916.303777f\u00fcr einen makesmalldurchlauf"
       ]
      },
      {
       "output_type": "stream",
       "stream": "stdout",
       "text": [
        "\n",
        "15938.4401069f\u00fcr einen makesmalldurchlauf"
       ]
      },
      {
       "output_type": "stream",
       "stream": "stdout",
       "text": [
        "\n",
        "15960.486022f\u00fcr einen makesmalldurchlauf"
       ]
      },
      {
       "output_type": "stream",
       "stream": "stdout",
       "text": [
        "\n",
        "15982.5312829f\u00fcr einen makesmalldurchlauf"
       ]
      },
      {
       "output_type": "stream",
       "stream": "stdout",
       "text": [
        "\n",
        "16004.6318619f\u00fcr einen makesmalldurchlauf"
       ]
      },
      {
       "output_type": "stream",
       "stream": "stdout",
       "text": [
        "\n",
        "16026.8508599f\u00fcr einen makesmalldurchlauf"
       ]
      },
      {
       "output_type": "stream",
       "stream": "stdout",
       "text": [
        "\n",
        "16049.047436f\u00fcr einen makesmalldurchlauf"
       ]
      },
      {
       "output_type": "stream",
       "stream": "stdout",
       "text": [
        "\n",
        "16071.1126728f\u00fcr einen makesmalldurchlauf"
       ]
      },
      {
       "output_type": "stream",
       "stream": "stdout",
       "text": [
        "\n",
        "16093.2651598f\u00fcr einen makesmalldurchlauf"
       ]
      },
      {
       "output_type": "stream",
       "stream": "stdout",
       "text": [
        "\n",
        "16115.3778079f\u00fcr einen makesmalldurchlauf"
       ]
      },
      {
       "output_type": "stream",
       "stream": "stdout",
       "text": [
        "\n",
        "16137.3873019f\u00fcr einen makesmalldurchlauf"
       ]
      },
      {
       "output_type": "stream",
       "stream": "stdout",
       "text": [
        "\n",
        "16159.5495889f\u00fcr einen makesmalldurchlauf"
       ]
      },
      {
       "output_type": "stream",
       "stream": "stdout",
       "text": [
        "\n",
        "16181.748426f\u00fcr einen makesmalldurchlauf"
       ]
      },
      {
       "output_type": "stream",
       "stream": "stdout",
       "text": [
        "\n",
        "16204.2528658f\u00fcr einen makesmalldurchlauf"
       ]
      },
      {
       "output_type": "stream",
       "stream": "stdout",
       "text": [
        "\n",
        "16226.267345f\u00fcr einen makesmalldurchlauf"
       ]
      },
      {
       "output_type": "stream",
       "stream": "stdout",
       "text": [
        "\n",
        "16248.4089489f\u00fcr einen makesmalldurchlauf"
       ]
      },
      {
       "output_type": "stream",
       "stream": "stdout",
       "text": [
        "\n",
        "16270.7138619f\u00fcr einen makesmalldurchlauf"
       ]
      },
      {
       "output_type": "stream",
       "stream": "stdout",
       "text": [
        "\n",
        "16293.3150098f\u00fcr einen makesmalldurchlauf"
       ]
      },
      {
       "output_type": "stream",
       "stream": "stdout",
       "text": [
        "\n",
        "16315.853663f\u00fcr einen makesmalldurchlauf"
       ]
      },
      {
       "output_type": "stream",
       "stream": "stdout",
       "text": [
        "\n",
        "16338.7318618f\u00fcr einen makesmalldurchlauf"
       ]
      },
      {
       "output_type": "stream",
       "stream": "stdout",
       "text": [
        "\n",
        "16361.033325f\u00fcr einen makesmalldurchlauf"
       ]
      },
      {
       "output_type": "stream",
       "stream": "stdout",
       "text": [
        "\n",
        "16383.081816f\u00fcr einen makesmalldurchlauf"
       ]
      },
      {
       "output_type": "stream",
       "stream": "stdout",
       "text": [
        "\n",
        "16405.1666648f\u00fcr einen makesmalldurchlauf"
       ]
      },
      {
       "output_type": "stream",
       "stream": "stdout",
       "text": [
        "\n",
        "16427.3150818f\u00fcr einen makesmalldurchlauf"
       ]
      },
      {
       "output_type": "stream",
       "stream": "stdout",
       "text": [
        "\n",
        "16449.4342029f\u00fcr einen makesmalldurchlauf"
       ]
      },
      {
       "output_type": "stream",
       "stream": "stdout",
       "text": [
        "\n",
        "16471.6795499f\u00fcr einen makesmalldurchlauf"
       ]
      },
      {
       "output_type": "stream",
       "stream": "stdout",
       "text": [
        "\n",
        "16494.1083028f\u00fcr einen makesmalldurchlauf"
       ]
      },
      {
       "output_type": "stream",
       "stream": "stdout",
       "text": [
        "\n",
        "16516.183784f\u00fcr einen makesmalldurchlauf"
       ]
      },
      {
       "output_type": "stream",
       "stream": "stdout",
       "text": [
        "\n",
        "16538.374218f\u00fcr einen makesmalldurchlauf"
       ]
      },
      {
       "output_type": "stream",
       "stream": "stdout",
       "text": [
        "\n",
        "16560.40589f\u00fcr einen makesmalldurchlauf"
       ]
      },
      {
       "output_type": "stream",
       "stream": "stdout",
       "text": [
        "\n",
        "16582.34146f\u00fcr einen makesmalldurchlauf"
       ]
      },
      {
       "output_type": "stream",
       "stream": "stdout",
       "text": [
        "\n",
        "16604.345598f\u00fcr einen makesmalldurchlauf"
       ]
      },
      {
       "output_type": "stream",
       "stream": "stdout",
       "text": [
        "\n",
        "16626.5700099f\u00fcr einen makesmalldurchlauf"
       ]
      },
      {
       "output_type": "stream",
       "stream": "stdout",
       "text": [
        "\n",
        "16650.7700179f\u00fcr einen makesmalldurchlauf"
       ]
      },
      {
       "output_type": "stream",
       "stream": "stdout",
       "text": [
        "\n",
        "16672.875988f\u00fcr einen makesmalldurchlauf"
       ]
      },
      {
       "output_type": "stream",
       "stream": "stdout",
       "text": [
        "\n",
        "16695.0121698f\u00fcr einen makesmalldurchlauf"
       ]
      },
      {
       "output_type": "stream",
       "stream": "stdout",
       "text": [
        "\n",
        "16717.2844269f\u00fcr einen makesmalldurchlauf"
       ]
      },
      {
       "output_type": "stream",
       "stream": "stdout",
       "text": [
        "\n",
        "16739.344337f\u00fcr einen makesmalldurchlauf"
       ]
      },
      {
       "output_type": "stream",
       "stream": "stdout",
       "text": [
        "\n",
        "16762.2044499f\u00fcr einen makesmalldurchlauf"
       ]
      },
      {
       "output_type": "stream",
       "stream": "stdout",
       "text": [
        "\n",
        "16784.3029959f\u00fcr einen makesmalldurchlauf"
       ]
      },
      {
       "output_type": "stream",
       "stream": "stdout",
       "text": [
        "\n",
        "16806.9818449f\u00fcr einen makesmalldurchlauf"
       ]
      },
      {
       "output_type": "stream",
       "stream": "stdout",
       "text": [
        "\n",
        "16829.276382f\u00fcr einen makesmalldurchlauf"
       ]
      },
      {
       "output_type": "stream",
       "stream": "stdout",
       "text": [
        "\n",
        "16851.5315778f\u00fcr einen makesmalldurchlauf"
       ]
      },
      {
       "output_type": "stream",
       "stream": "stdout",
       "text": [
        "\n",
        "16873.5181098f\u00fcr einen makesmalldurchlauf"
       ]
      },
      {
       "output_type": "stream",
       "stream": "stdout",
       "text": [
        "\n",
        "16895.6666279f\u00fcr einen makesmalldurchlauf"
       ]
      },
      {
       "output_type": "stream",
       "stream": "stdout",
       "text": [
        "\n",
        "16917.7821829f\u00fcr einen makesmalldurchlauf"
       ]
      },
      {
       "output_type": "stream",
       "stream": "stdout",
       "text": [
        "\n",
        "16940.1686449f\u00fcr einen makesmalldurchlauf"
       ]
      },
      {
       "output_type": "stream",
       "stream": "stdout",
       "text": [
        "\n",
        "16962.5258839f\u00fcr einen makesmalldurchlauf"
       ]
      },
      {
       "output_type": "stream",
       "stream": "stdout",
       "text": [
        "\n",
        "16985.6236539f\u00fcr einen makesmalldurchlauf"
       ]
      },
      {
       "output_type": "stream",
       "stream": "stdout",
       "text": [
        "\n",
        "17009.0656438f\u00fcr einen makesmalldurchlauf"
       ]
      },
      {
       "output_type": "stream",
       "stream": "stdout",
       "text": [
        "\n",
        "17031.8990979f\u00fcr einen makesmalldurchlauf"
       ]
      },
      {
       "output_type": "stream",
       "stream": "stdout",
       "text": [
        "\n",
        "17054.0306358f\u00fcr einen makesmalldurchlauf"
       ]
      },
      {
       "output_type": "stream",
       "stream": "stdout",
       "text": [
        "\n",
        "17077.3667879f\u00fcr einen makesmalldurchlauf"
       ]
      },
      {
       "output_type": "stream",
       "stream": "stdout",
       "text": [
        "\n",
        "17099.892936f\u00fcr einen makesmalldurchlauf"
       ]
      },
      {
       "output_type": "stream",
       "stream": "stdout",
       "text": [
        "\n",
        "17121.924897f\u00fcr einen makesmalldurchlauf"
       ]
      },
      {
       "output_type": "stream",
       "stream": "stdout",
       "text": [
        "\n",
        "17144.0277078f\u00fcr einen makesmalldurchlauf"
       ]
      },
      {
       "output_type": "stream",
       "stream": "stdout",
       "text": [
        "\n",
        "17166.4745688f\u00fcr einen makesmalldurchlauf"
       ]
      },
      {
       "output_type": "stream",
       "stream": "stdout",
       "text": [
        "\n",
        "17189.384706f\u00fcr einen makesmalldurchlauf"
       ]
      },
      {
       "output_type": "stream",
       "stream": "stdout",
       "text": [
        "\n",
        "17211.7467048f\u00fcr einen makesmalldurchlauf"
       ]
      },
      {
       "output_type": "stream",
       "stream": "stdout",
       "text": [
        "\n",
        "17233.938844f\u00fcr einen makesmalldurchlauf"
       ]
      },
      {
       "output_type": "stream",
       "stream": "stdout",
       "text": [
        "\n",
        "17256.4475529f\u00fcr einen makesmalldurchlauf"
       ]
      },
      {
       "output_type": "stream",
       "stream": "stdout",
       "text": [
        "\n",
        "17279.1340239f\u00fcr einen makesmalldurchlauf"
       ]
      },
      {
       "output_type": "stream",
       "stream": "stdout",
       "text": [
        "\n",
        "17301.7894609f\u00fcr einen makesmalldurchlauf"
       ]
      },
      {
       "output_type": "stream",
       "stream": "stdout",
       "text": [
        "\n",
        "17324.1604719f\u00fcr einen makesmalldurchlauf"
       ]
      },
      {
       "output_type": "stream",
       "stream": "stdout",
       "text": [
        "\n",
        "17346.4960408f\u00fcr einen makesmalldurchlauf"
       ]
      },
      {
       "output_type": "stream",
       "stream": "stdout",
       "text": [
        "\n",
        "17368.5587718f\u00fcr einen makesmalldurchlauf"
       ]
      },
      {
       "output_type": "stream",
       "stream": "stdout",
       "text": [
        "\n",
        "17390.923311f\u00fcr einen makesmalldurchlauf"
       ]
      },
      {
       "output_type": "stream",
       "stream": "stdout",
       "text": [
        "\n",
        "17412.9872849f\u00fcr einen makesmalldurchlauf"
       ]
      },
      {
       "output_type": "stream",
       "stream": "stdout",
       "text": [
        "\n",
        "17435.1021369f\u00fcr einen makesmalldurchlauf"
       ]
      },
      {
       "output_type": "stream",
       "stream": "stdout",
       "text": [
        "\n",
        "17457.1767299f\u00fcr einen makesmalldurchlauf"
       ]
      },
      {
       "output_type": "stream",
       "stream": "stdout",
       "text": [
        "\n",
        "17479.3235688f\u00fcr einen makesmalldurchlauf"
       ]
      },
      {
       "output_type": "stream",
       "stream": "stdout",
       "text": [
        "\n",
        "17501.5148158f\u00fcr einen makesmalldurchlauf"
       ]
      },
      {
       "output_type": "stream",
       "stream": "stdout",
       "text": [
        "\n",
        "17523.6478729f\u00fcr einen makesmalldurchlauf"
       ]
      },
      {
       "output_type": "stream",
       "stream": "stdout",
       "text": [
        "\n",
        "17545.7844548f\u00fcr einen makesmalldurchlauf"
       ]
      },
      {
       "output_type": "stream",
       "stream": "stdout",
       "text": [
        "\n",
        "17567.8589759f\u00fcr einen makesmalldurchlauf"
       ]
      },
      {
       "output_type": "stream",
       "stream": "stdout",
       "text": [
        "\n",
        "17589.9645f\u00fcr einen makesmalldurchlauf"
       ]
      },
      {
       "output_type": "stream",
       "stream": "stdout",
       "text": [
        "\n",
        "17612.1982548f\u00fcr einen makesmalldurchlauf"
       ]
      },
      {
       "output_type": "stream",
       "stream": "stdout",
       "text": [
        "\n",
        "17634.6618259f\u00fcr einen makesmalldurchlauf"
       ]
      },
      {
       "output_type": "stream",
       "stream": "stdout",
       "text": [
        "\n",
        "17656.8257749f\u00fcr einen makesmalldurchlauf"
       ]
      },
      {
       "output_type": "stream",
       "stream": "stdout",
       "text": [
        "\n",
        "17679.1678669f\u00fcr einen makesmalldurchlauf"
       ]
      },
      {
       "output_type": "stream",
       "stream": "stdout",
       "text": [
        "\n",
        "17701.7471199f\u00fcr einen makesmalldurchlauf"
       ]
      },
      {
       "output_type": "stream",
       "stream": "stdout",
       "text": [
        "\n",
        "17725.1132648f\u00fcr einen makesmalldurchlauf"
       ]
      },
      {
       "output_type": "stream",
       "stream": "stdout",
       "text": [
        "\n",
        "17748.3217628f\u00fcr einen makesmalldurchlauf"
       ]
      },
      {
       "output_type": "stream",
       "stream": "stdout",
       "text": [
        "\n",
        "17770.8873179f\u00fcr einen makesmalldurchlauf"
       ]
      },
      {
       "output_type": "stream",
       "stream": "stdout",
       "text": [
        "\n",
        "17793.06409f\u00fcr einen makesmalldurchlauf"
       ]
      },
      {
       "output_type": "stream",
       "stream": "stdout",
       "text": [
        "\n",
        "17815.18802f\u00fcr einen makesmalldurchlauf"
       ]
      },
      {
       "output_type": "stream",
       "stream": "stdout",
       "text": [
        "\n",
        "17837.4841819f\u00fcr einen makesmalldurchlauf"
       ]
      },
      {
       "output_type": "stream",
       "stream": "stdout",
       "text": [
        "\n",
        "17859.9507339f\u00fcr einen makesmalldurchlauf"
       ]
      },
      {
       "output_type": "stream",
       "stream": "stdout",
       "text": [
        "\n",
        "17882.2547379f\u00fcr einen makesmalldurchlauf"
       ]
      },
      {
       "output_type": "stream",
       "stream": "stdout",
       "text": [
        "\n",
        "17905.3622539f\u00fcr einen makesmalldurchlauf"
       ]
      },
      {
       "output_type": "stream",
       "stream": "stdout",
       "text": [
        "\n",
        "17927.997716f\u00fcr einen makesmalldurchlauf"
       ]
      },
      {
       "output_type": "stream",
       "stream": "stdout",
       "text": [
        "\n",
        "17950.2464499f\u00fcr einen makesmalldurchlauf"
       ]
      },
      {
       "output_type": "stream",
       "stream": "stdout",
       "text": [
        "\n",
        "17972.813761f\u00fcr einen makesmalldurchlauf"
       ]
      },
      {
       "output_type": "stream",
       "stream": "stdout",
       "text": [
        "\n",
        "17995.622767f\u00fcr einen makesmalldurchlauf"
       ]
      },
      {
       "output_type": "stream",
       "stream": "stdout",
       "text": [
        "\n",
        "18017.8318269f\u00fcr einen makesmalldurchlauf"
       ]
      },
      {
       "output_type": "stream",
       "stream": "stdout",
       "text": [
        "\n",
        "18040.0294969f\u00fcr einen makesmalldurchlauf"
       ]
      },
      {
       "output_type": "stream",
       "stream": "stdout",
       "text": [
        "\n",
        "18062.1305449f\u00fcr einen makesmalldurchlauf"
       ]
      },
      {
       "output_type": "stream",
       "stream": "stdout",
       "text": [
        "\n",
        "18084.243125f\u00fcr einen makesmalldurchlauf"
       ]
      },
      {
       "output_type": "stream",
       "stream": "stdout",
       "text": [
        "\n",
        "18106.4432108f\u00fcr einen makesmalldurchlauf"
       ]
      },
      {
       "output_type": "stream",
       "stream": "stdout",
       "text": [
        "\n",
        "18128.8889539f\u00fcr einen makesmalldurchlauf"
       ]
      },
      {
       "output_type": "stream",
       "stream": "stdout",
       "text": [
        "\n",
        "18151.0676548f\u00fcr einen makesmalldurchlauf"
       ]
      },
      {
       "output_type": "stream",
       "stream": "stdout",
       "text": [
        "\n",
        "18173.1037509f\u00fcr einen makesmalldurchlauf"
       ]
      },
      {
       "output_type": "stream",
       "stream": "stdout",
       "text": [
        "\n",
        "18195.6419489f\u00fcr einen makesmalldurchlauf"
       ]
      },
      {
       "output_type": "stream",
       "stream": "stdout",
       "text": [
        "\n",
        "18218.0570679f\u00fcr einen makesmalldurchlauf"
       ]
      },
      {
       "output_type": "stream",
       "stream": "stdout",
       "text": [
        "\n",
        "18240.5140369f\u00fcr einen makesmalldurchlauf"
       ]
      },
      {
       "output_type": "stream",
       "stream": "stdout",
       "text": [
        "\n",
        "18262.9315138f\u00fcr einen makesmalldurchlauf"
       ]
      },
      {
       "output_type": "stream",
       "stream": "stdout",
       "text": [
        "\n",
        "18285.2185969f\u00fcr einen makesmalldurchlauf"
       ]
      },
      {
       "output_type": "stream",
       "stream": "stdout",
       "text": [
        "\n",
        "18307.7231939f\u00fcr einen makesmalldurchlauf"
       ]
      },
      {
       "output_type": "stream",
       "stream": "stdout",
       "text": [
        "\n",
        "18329.8862059f\u00fcr einen makesmalldurchlauf"
       ]
      },
      {
       "output_type": "stream",
       "stream": "stdout",
       "text": [
        "\n",
        "18352.719358f\u00fcr einen makesmalldurchlauf"
       ]
      },
      {
       "output_type": "stream",
       "stream": "stdout",
       "text": [
        "\n",
        "18375.0408039f\u00fcr einen makesmalldurchlauf"
       ]
      },
      {
       "output_type": "stream",
       "stream": "stdout",
       "text": [
        "\n",
        "18397.6007829f\u00fcr einen makesmalldurchlauf"
       ]
      },
      {
       "output_type": "stream",
       "stream": "stdout",
       "text": [
        "\n",
        "18419.9073319f\u00fcr einen makesmalldurchlauf"
       ]
      },
      {
       "output_type": "stream",
       "stream": "stdout",
       "text": [
        "\n",
        "18442.0392649f\u00fcr einen makesmalldurchlauf"
       ]
      },
      {
       "output_type": "stream",
       "stream": "stdout",
       "text": [
        "\n",
        "18464.2510898f\u00fcr einen makesmalldurchlauf"
       ]
      },
      {
       "output_type": "stream",
       "stream": "stdout",
       "text": [
        "\n",
        "18486.4840899f\u00fcr einen makesmalldurchlauf"
       ]
      },
      {
       "output_type": "stream",
       "stream": "stdout",
       "text": [
        "\n",
        "18508.7431269f\u00fcr einen makesmalldurchlauf"
       ]
      },
      {
       "output_type": "stream",
       "stream": "stdout",
       "text": [
        "\n",
        "18530.8861799f\u00fcr einen makesmalldurchlauf"
       ]
      },
      {
       "output_type": "stream",
       "stream": "stdout",
       "text": [
        "\n",
        "18553.0052299f\u00fcr einen makesmalldurchlauf"
       ]
      },
      {
       "output_type": "stream",
       "stream": "stdout",
       "text": [
        "\n",
        "18575.3797328f\u00fcr einen makesmalldurchlauf"
       ]
      },
      {
       "output_type": "stream",
       "stream": "stdout",
       "text": [
        "\n",
        "18597.5771039f\u00fcr einen makesmalldurchlauf"
       ]
      },
      {
       "output_type": "stream",
       "stream": "stdout",
       "text": [
        "\n",
        "18619.7082448f\u00fcr einen makesmalldurchlauf"
       ]
      },
      {
       "output_type": "stream",
       "stream": "stdout",
       "text": [
        "\n",
        "18642.0029328f\u00fcr einen makesmalldurchlauf"
       ]
      },
      {
       "output_type": "stream",
       "stream": "stdout",
       "text": [
        "\n",
        "18664.3188939f\u00fcr einen makesmalldurchlauf"
       ]
      },
      {
       "output_type": "stream",
       "stream": "stdout",
       "text": [
        "\n",
        "18686.4236629f\u00fcr einen makesmalldurchlauf"
       ]
      },
      {
       "output_type": "stream",
       "stream": "stdout",
       "text": [
        "\n",
        "18708.5825579f\u00fcr einen makesmalldurchlauf"
       ]
      },
      {
       "output_type": "stream",
       "stream": "stdout",
       "text": [
        "\n",
        "18730.7281029f\u00fcr einen makesmalldurchlauf"
       ]
      },
      {
       "output_type": "stream",
       "stream": "stdout",
       "text": [
        "\n",
        "18752.754895f\u00fcr einen makesmalldurchlauf"
       ]
      },
      {
       "output_type": "stream",
       "stream": "stdout",
       "text": [
        "\n",
        "18774.8087828f\u00fcr einen makesmalldurchlauf"
       ]
      },
      {
       "output_type": "stream",
       "stream": "stdout",
       "text": [
        "\n",
        "18796.9440649f\u00fcr einen makesmalldurchlauf"
       ]
      },
      {
       "output_type": "stream",
       "stream": "stdout",
       "text": [
        "\n",
        "18819.237072f\u00fcr einen makesmalldurchlauf"
       ]
      },
      {
       "output_type": "stream",
       "stream": "stdout",
       "text": [
        "\n",
        "18841.326196f\u00fcr einen makesmalldurchlauf"
       ]
      },
      {
       "output_type": "stream",
       "stream": "stdout",
       "text": [
        "\n",
        "18863.9691968f\u00fcr einen makesmalldurchlauf"
       ]
      },
      {
       "output_type": "stream",
       "stream": "stdout",
       "text": [
        "\n",
        "18886.637924f\u00fcr einen makesmalldurchlauf"
       ]
      },
      {
       "output_type": "stream",
       "stream": "stdout",
       "text": [
        "\n",
        "18909.024462f\u00fcr einen makesmalldurchlauf"
       ]
      },
      {
       "output_type": "stream",
       "stream": "stdout",
       "text": [
        "\n",
        "18931.6965508f\u00fcr einen makesmalldurchlauf"
       ]
      },
      {
       "output_type": "stream",
       "stream": "stdout",
       "text": [
        "\n",
        "18954.3683388f\u00fcr einen makesmalldurchlauf"
       ]
      },
      {
       "output_type": "stream",
       "stream": "stdout",
       "text": [
        "\n",
        "18976.526377f\u00fcr einen makesmalldurchlauf"
       ]
      },
      {
       "output_type": "stream",
       "stream": "stdout",
       "text": [
        "\n",
        "18998.6829469f\u00fcr einen makesmalldurchlauf"
       ]
      },
      {
       "output_type": "stream",
       "stream": "stdout",
       "text": [
        "\n",
        "19020.892498f\u00fcr einen makesmalldurchlauf"
       ]
      },
      {
       "output_type": "stream",
       "stream": "stdout",
       "text": [
        "\n",
        "19043.22277f\u00fcr einen makesmalldurchlauf"
       ]
      },
      {
       "output_type": "stream",
       "stream": "stdout",
       "text": [
        "\n",
        "19065.9632349f\u00fcr einen makesmalldurchlauf"
       ]
      },
      {
       "output_type": "stream",
       "stream": "stdout",
       "text": [
        "\n",
        "19090.281014f\u00fcr einen makesmalldurchlauf"
       ]
      },
      {
       "output_type": "stream",
       "stream": "stdout",
       "text": [
        "\n",
        "19112.577935f\u00fcr einen makesmalldurchlauf"
       ]
      },
      {
       "output_type": "stream",
       "stream": "stdout",
       "text": [
        "\n",
        "19135.4677289f\u00fcr einen makesmalldurchlauf"
       ]
      },
      {
       "output_type": "stream",
       "stream": "stdout",
       "text": [
        "\n",
        "19160.113704f\u00fcr einen makesmalldurchlauf"
       ]
      },
      {
       "output_type": "stream",
       "stream": "stdout",
       "text": [
        "\n",
        "19183.4367459f\u00fcr einen makesmalldurchlauf"
       ]
      },
      {
       "output_type": "stream",
       "stream": "stdout",
       "text": [
        "\n",
        "19206.0408759f\u00fcr einen makesmalldurchlauf"
       ]
      },
      {
       "output_type": "stream",
       "stream": "stdout",
       "text": [
        "\n",
        "19229.4446659f\u00fcr einen makesmalldurchlauf"
       ]
      },
      {
       "output_type": "stream",
       "stream": "stdout",
       "text": [
        "\n",
        "19253.1695578f\u00fcr einen makesmalldurchlauf"
       ]
      },
      {
       "output_type": "stream",
       "stream": "stdout",
       "text": [
        "\n",
        "19275.7854719f\u00fcr einen makesmalldurchlauf"
       ]
      },
      {
       "output_type": "stream",
       "stream": "stdout",
       "text": [
        "\n",
        "19297.8505499f\u00fcr einen makesmalldurchlauf"
       ]
      },
      {
       "output_type": "stream",
       "stream": "stdout",
       "text": [
        "\n",
        "19320.5742939f\u00fcr einen makesmalldurchlauf"
       ]
      },
      {
       "output_type": "stream",
       "stream": "stdout",
       "text": [
        "\n",
        "19345.3414068f\u00fcr einen makesmalldurchlauf"
       ]
      },
      {
       "output_type": "stream",
       "stream": "stdout",
       "text": [
        "\n",
        "19369.700943f\u00fcr einen makesmalldurchlauf"
       ]
      },
      {
       "output_type": "stream",
       "stream": "stdout",
       "text": [
        "\n",
        "19392.1851799f\u00fcr einen makesmalldurchlauf"
       ]
      },
      {
       "output_type": "stream",
       "stream": "stdout",
       "text": [
        "\n",
        "19414.486769f\u00fcr einen makesmalldurchlauf"
       ]
      },
      {
       "output_type": "stream",
       "stream": "stdout",
       "text": [
        "\n",
        "19436.7233598f\u00fcr einen makesmalldurchlauf"
       ]
      },
      {
       "output_type": "stream",
       "stream": "stdout",
       "text": [
        "\n",
        "19459.3361158f\u00fcr einen makesmalldurchlauf"
       ]
      },
      {
       "output_type": "stream",
       "stream": "stdout",
       "text": [
        "\n",
        "19485.4134569f\u00fcr einen makesmalldurchlauf"
       ]
      },
      {
       "output_type": "stream",
       "stream": "stdout",
       "text": [
        "\n",
        "19509.7008228f\u00fcr einen makesmalldurchlauf"
       ]
      },
      {
       "output_type": "stream",
       "stream": "stdout",
       "text": [
        "\n",
        "19531.7853379f\u00fcr einen makesmalldurchlauf"
       ]
      },
      {
       "output_type": "stream",
       "stream": "stdout",
       "text": [
        "\n",
        "19553.7169428f\u00fcr einen makesmalldurchlauf"
       ]
      },
      {
       "output_type": "stream",
       "stream": "stdout",
       "text": [
        "\n",
        "19575.6844499f\u00fcr einen makesmalldurchlauf"
       ]
      },
      {
       "output_type": "stream",
       "stream": "stdout",
       "text": [
        "\n",
        "19598.9838309f\u00fcr einen makesmalldurchlauf"
       ]
      },
      {
       "output_type": "stream",
       "stream": "stdout",
       "text": [
        "\n",
        "19621.7811489f\u00fcr einen makesmalldurchlauf"
       ]
      },
      {
       "output_type": "stream",
       "stream": "stdout",
       "text": [
        "\n",
        "19644.7550299f\u00fcr einen makesmalldurchlauf"
       ]
      },
      {
       "output_type": "stream",
       "stream": "stdout",
       "text": [
        "\n",
        "19668.311167f\u00fcr einen makesmalldurchlauf"
       ]
      },
      {
       "output_type": "stream",
       "stream": "stdout",
       "text": [
        "\n",
        "19691.5687599f\u00fcr einen makesmalldurchlauf"
       ]
      },
      {
       "output_type": "stream",
       "stream": "stdout",
       "text": [
        "\n",
        "19714.9938619f\u00fcr einen makesmalldurchlauf"
       ]
      },
      {
       "output_type": "stream",
       "stream": "stdout",
       "text": [
        "\n",
        "19738.7239919f\u00fcr einen makesmalldurchlauf"
       ]
      },
      {
       "output_type": "stream",
       "stream": "stdout",
       "text": [
        "\n",
        "19761.7005019f\u00fcr einen makesmalldurchlauf"
       ]
      },
      {
       "output_type": "stream",
       "stream": "stdout",
       "text": [
        "\n",
        "19783.7309179f\u00fcr einen makesmalldurchlauf"
       ]
      },
      {
       "output_type": "stream",
       "stream": "stdout",
       "text": [
        "\n",
        "19805.926749f\u00fcr einen makesmalldurchlauf"
       ]
      },
      {
       "output_type": "stream",
       "stream": "stdout",
       "text": [
        "\n",
        "19828.0838869f\u00fcr einen makesmalldurchlauf"
       ]
      },
      {
       "output_type": "stream",
       "stream": "stdout",
       "text": [
        "\n",
        "19850.403147f\u00fcr einen makesmalldurchlauf"
       ]
      },
      {
       "output_type": "stream",
       "stream": "stdout",
       "text": [
        "\n",
        "21597.0517309f\u00fcr einen makesmalldurchlauf"
       ]
      },
      {
       "output_type": "stream",
       "stream": "stdout",
       "text": [
        "\n",
        "21622.271358f\u00fcr einen makesmalldurchlauf"
       ]
      },
      {
       "output_type": "stream",
       "stream": "stdout",
       "text": [
        "\n",
        "21644.2977109f\u00fcr einen makesmalldurchlauf"
       ]
      },
      {
       "output_type": "stream",
       "stream": "stdout",
       "text": [
        "\n",
        "21666.621475f\u00fcr einen makesmalldurchlauf"
       ]
      },
      {
       "output_type": "stream",
       "stream": "stdout",
       "text": [
        "\n",
        "21688.5797069f\u00fcr einen makesmalldurchlauf"
       ]
      },
      {
       "output_type": "stream",
       "stream": "stdout",
       "text": [
        "\n",
        "21710.5601819f\u00fcr einen makesmalldurchlauf"
       ]
      },
      {
       "output_type": "stream",
       "stream": "stdout",
       "text": [
        "\n",
        "21732.6013858f\u00fcr einen makesmalldurchlauf"
       ]
      },
      {
       "output_type": "stream",
       "stream": "stdout",
       "text": [
        "\n",
        "21754.6078739f\u00fcr einen makesmalldurchlauf"
       ]
      },
      {
       "output_type": "stream",
       "stream": "stdout",
       "text": [
        "\n",
        "21776.626622f\u00fcr einen makesmalldurchlauf"
       ]
      },
      {
       "output_type": "stream",
       "stream": "stdout",
       "text": [
        "\n",
        "21798.7401769f\u00fcr einen makesmalldurchlauf"
       ]
      },
      {
       "output_type": "stream",
       "stream": "stdout",
       "text": [
        "\n",
        "21820.7549779f\u00fcr einen makesmalldurchlauf"
       ]
      },
      {
       "output_type": "stream",
       "stream": "stdout",
       "text": [
        "\n",
        "21842.781261f\u00fcr einen makesmalldurchlauf"
       ]
      },
      {
       "output_type": "stream",
       "stream": "stdout",
       "text": [
        "\n",
        "21864.8537669f\u00fcr einen makesmalldurchlauf"
       ]
      },
      {
       "output_type": "stream",
       "stream": "stdout",
       "text": [
        "\n",
        "21886.8492639f\u00fcr einen makesmalldurchlauf"
       ]
      },
      {
       "output_type": "stream",
       "stream": "stdout",
       "text": [
        "\n",
        "21908.7609859f\u00fcr einen makesmalldurchlauf"
       ]
      },
      {
       "output_type": "stream",
       "stream": "stdout",
       "text": [
        "\n",
        "21930.7576368f\u00fcr einen makesmalldurchlauf"
       ]
      },
      {
       "output_type": "stream",
       "stream": "stdout",
       "text": [
        "\n",
        "21952.744144f\u00fcr einen makesmalldurchlauf"
       ]
      },
      {
       "output_type": "stream",
       "stream": "stdout",
       "text": [
        "\n",
        "21974.6520309f\u00fcr einen makesmalldurchlauf"
       ]
      },
      {
       "output_type": "stream",
       "stream": "stdout",
       "text": [
        "\n",
        "21996.6170149f\u00fcr einen makesmalldurchlauf"
       ]
      },
      {
       "output_type": "stream",
       "stream": "stdout",
       "text": [
        "\n",
        "22018.8177209f\u00fcr einen makesmalldurchlauf"
       ]
      },
      {
       "output_type": "stream",
       "stream": "stdout",
       "text": [
        "\n",
        "22040.8018839f\u00fcr einen makesmalldurchlauf"
       ]
      },
      {
       "output_type": "stream",
       "stream": "stdout",
       "text": [
        "\n",
        "22062.7707739f\u00fcr einen makesmalldurchlauf"
       ]
      },
      {
       "output_type": "stream",
       "stream": "stdout",
       "text": [
        "\n",
        "22084.7134559f\u00fcr einen makesmalldurchlauf"
       ]
      },
      {
       "output_type": "stream",
       "stream": "stdout",
       "text": [
        "\n",
        "22106.6959319f\u00fcr einen makesmalldurchlauf"
       ]
      },
      {
       "output_type": "stream",
       "stream": "stdout",
       "text": [
        "\n",
        "22128.738483f\u00fcr einen makesmalldurchlauf"
       ]
      },
      {
       "output_type": "stream",
       "stream": "stdout",
       "text": [
        "\n",
        "22150.6655209f\u00fcr einen makesmalldurchlauf"
       ]
      },
      {
       "output_type": "stream",
       "stream": "stdout",
       "text": [
        "\n",
        "22172.6019268f\u00fcr einen makesmalldurchlauf"
       ]
      },
      {
       "output_type": "stream",
       "stream": "stdout",
       "text": [
        "\n",
        "22194.5477278f\u00fcr einen makesmalldurchlauf"
       ]
      },
      {
       "output_type": "stream",
       "stream": "stdout",
       "text": [
        "\n",
        "22216.590915f\u00fcr einen makesmalldurchlauf"
       ]
      },
      {
       "output_type": "stream",
       "stream": "stdout",
       "text": [
        "\n",
        "22239.4539089f\u00fcr einen makesmalldurchlauf"
       ]
      },
      {
       "output_type": "stream",
       "stream": "stdout",
       "text": [
        "\n",
        "22261.396286f\u00fcr einen makesmalldurchlauf"
       ]
      },
      {
       "output_type": "stream",
       "stream": "stdout",
       "text": [
        "\n",
        "22283.3634069f\u00fcr einen makesmalldurchlauf"
       ]
      },
      {
       "output_type": "stream",
       "stream": "stdout",
       "text": [
        "\n",
        "22305.5926578f\u00fcr einen makesmalldurchlauf"
       ]
      },
      {
       "output_type": "stream",
       "stream": "stdout",
       "text": [
        "\n",
        "22327.6739209f\u00fcr einen makesmalldurchlauf"
       ]
      },
      {
       "output_type": "stream",
       "stream": "stdout",
       "text": [
        "\n",
        "22349.6683538f\u00fcr einen makesmalldurchlauf"
       ]
      },
      {
       "output_type": "stream",
       "stream": "stdout",
       "text": [
        "\n",
        "22371.8098819f\u00fcr einen makesmalldurchlauf"
       ]
      },
      {
       "output_type": "stream",
       "stream": "stdout",
       "text": [
        "\n",
        "22393.82287f\u00fcr einen makesmalldurchlauf"
       ]
      },
      {
       "output_type": "stream",
       "stream": "stdout",
       "text": [
        "\n",
        "22415.8519619f\u00fcr einen makesmalldurchlauf"
       ]
      },
      {
       "output_type": "stream",
       "stream": "stdout",
       "text": [
        "\n",
        "22437.7993479f\u00fcr einen makesmalldurchlauf"
       ]
      },
      {
       "output_type": "stream",
       "stream": "stdout",
       "text": [
        "\n",
        "22459.7408609f\u00fcr einen makesmalldurchlauf"
       ]
      },
      {
       "output_type": "stream",
       "stream": "stdout",
       "text": [
        "\n",
        "22481.7540598f\u00fcr einen makesmalldurchlauf"
       ]
      },
      {
       "output_type": "stream",
       "stream": "stdout",
       "text": [
        "\n",
        "22503.7222109f\u00fcr einen makesmalldurchlauf"
       ]
      },
      {
       "output_type": "stream",
       "stream": "stdout",
       "text": [
        "\n",
        "22525.6970918f\u00fcr einen makesmalldurchlauf"
       ]
      },
      {
       "output_type": "stream",
       "stream": "stdout",
       "text": [
        "\n",
        "22547.6615639f\u00fcr einen makesmalldurchlauf"
       ]
      },
      {
       "output_type": "stream",
       "stream": "stdout",
       "text": [
        "\n",
        "22569.629638f\u00fcr einen makesmalldurchlauf"
       ]
      },
      {
       "output_type": "stream",
       "stream": "stdout",
       "text": [
        "\n",
        "22591.58937f\u00fcr einen makesmalldurchlauf"
       ]
      },
      {
       "output_type": "stream",
       "stream": "stdout",
       "text": [
        "\n",
        "22613.5444729f\u00fcr einen makesmalldurchlauf"
       ]
      },
      {
       "output_type": "stream",
       "stream": "stdout",
       "text": [
        "\n",
        "22635.6737058f\u00fcr einen makesmalldurchlauf"
       ]
      },
      {
       "output_type": "stream",
       "stream": "stdout",
       "text": [
        "\n",
        "22657.8297038f\u00fcr einen makesmalldurchlauf"
       ]
      },
      {
       "output_type": "stream",
       "stream": "stdout",
       "text": [
        "\n",
        "22679.833961f\u00fcr einen makesmalldurchlauf"
       ]
      },
      {
       "output_type": "stream",
       "stream": "stdout",
       "text": [
        "\n",
        "22701.858047f\u00fcr einen makesmalldurchlauf"
       ]
      },
      {
       "output_type": "stream",
       "stream": "stdout",
       "text": [
        "\n",
        "22723.9786019f\u00fcr einen makesmalldurchlauf"
       ]
      },
      {
       "output_type": "stream",
       "stream": "stdout",
       "text": [
        "\n",
        "22745.9762409f\u00fcr einen makesmalldurchlauf"
       ]
      },
      {
       "output_type": "stream",
       "stream": "stdout",
       "text": [
        "\n",
        "22768.0116918f\u00fcr einen makesmalldurchlauf"
       ]
      },
      {
       "output_type": "stream",
       "stream": "stdout",
       "text": [
        "\n",
        "22790.0950699f\u00fcr einen makesmalldurchlauf"
       ]
      },
      {
       "output_type": "stream",
       "stream": "stdout",
       "text": [
        "\n",
        "22812.1111209f\u00fcr einen makesmalldurchlauf"
       ]
      },
      {
       "output_type": "stream",
       "stream": "stdout",
       "text": [
        "\n",
        "22834.1986408f\u00fcr einen makesmalldurchlauf"
       ]
      },
      {
       "output_type": "stream",
       "stream": "stdout",
       "text": [
        "\n",
        "22856.5737548f\u00fcr einen makesmalldurchlauf"
       ]
      },
      {
       "output_type": "stream",
       "stream": "stdout",
       "text": [
        "\n",
        "22878.714797f\u00fcr einen makesmalldurchlauf"
       ]
      },
      {
       "output_type": "stream",
       "stream": "stdout",
       "text": [
        "\n",
        "22900.9118538f\u00fcr einen makesmalldurchlauf"
       ]
      },
      {
       "output_type": "stream",
       "stream": "stdout",
       "text": [
        "\n",
        "22923.1070738f\u00fcr einen makesmalldurchlauf"
       ]
      },
      {
       "output_type": "stream",
       "stream": "stdout",
       "text": [
        "\n",
        "22945.667614f\u00fcr einen makesmalldurchlauf"
       ]
      },
      {
       "output_type": "stream",
       "stream": "stdout",
       "text": [
        "\n",
        "22967.860976f\u00fcr einen makesmalldurchlauf"
       ]
      },
      {
       "output_type": "stream",
       "stream": "stdout",
       "text": [
        "\n",
        "22989.9761779f\u00fcr einen makesmalldurchlauf"
       ]
      },
      {
       "output_type": "stream",
       "stream": "stdout",
       "text": [
        "\n",
        "23012.1500978f\u00fcr einen makesmalldurchlauf"
       ]
      },
      {
       "output_type": "stream",
       "stream": "stdout",
       "text": [
        "\n",
        "23034.331388f\u00fcr einen makesmalldurchlauf"
       ]
      },
      {
       "output_type": "stream",
       "stream": "stdout",
       "text": [
        "\n",
        "23056.6998398f\u00fcr einen makesmalldurchlauf"
       ]
      },
      {
       "output_type": "stream",
       "stream": "stdout",
       "text": [
        "\n",
        "23078.8719399f\u00fcr einen makesmalldurchlauf"
       ]
      },
      {
       "output_type": "stream",
       "stream": "stdout",
       "text": [
        "\n",
        "23101.0039918f\u00fcr einen makesmalldurchlauf"
       ]
      },
      {
       "output_type": "stream",
       "stream": "stdout",
       "text": [
        "\n",
        "23123.1568329f\u00fcr einen makesmalldurchlauf"
       ]
      },
      {
       "output_type": "stream",
       "stream": "stdout",
       "text": [
        "\n",
        "23145.4132349f\u00fcr einen makesmalldurchlauf"
       ]
      },
      {
       "output_type": "stream",
       "stream": "stdout",
       "text": [
        "\n",
        "23167.7090418f\u00fcr einen makesmalldurchlauf"
       ]
      },
      {
       "output_type": "stream",
       "stream": "stdout",
       "text": [
        "\n",
        "23189.860729f\u00fcr einen makesmalldurchlauf"
       ]
      },
      {
       "output_type": "stream",
       "stream": "stdout",
       "text": [
        "\n",
        "23212.046248f\u00fcr einen makesmalldurchlauf"
       ]
      },
      {
       "output_type": "stream",
       "stream": "stdout",
       "text": [
        "\n",
        "23234.2312658f\u00fcr einen makesmalldurchlauf"
       ]
      },
      {
       "output_type": "stream",
       "stream": "stdout",
       "text": [
        "\n",
        "23256.635767f\u00fcr einen makesmalldurchlauf"
       ]
      },
      {
       "output_type": "stream",
       "stream": "stdout",
       "text": [
        "\n",
        "23278.8151548f\u00fcr einen makesmalldurchlauf"
       ]
      },
      {
       "output_type": "stream",
       "stream": "stdout",
       "text": [
        "\n",
        "23301.0148349f\u00fcr einen makesmalldurchlauf"
       ]
      },
      {
       "output_type": "stream",
       "stream": "stdout",
       "text": [
        "\n",
        "23324.1969199f\u00fcr einen makesmalldurchlauf"
       ]
      },
      {
       "output_type": "stream",
       "stream": "stdout",
       "text": [
        "\n",
        "23346.4082098f\u00fcr einen makesmalldurchlauf"
       ]
      },
      {
       "output_type": "stream",
       "stream": "stdout",
       "text": [
        "\n",
        "23368.5879788f\u00fcr einen makesmalldurchlauf"
       ]
      },
      {
       "output_type": "stream",
       "stream": "stdout",
       "text": [
        "\n",
        "23390.7629838f\u00fcr einen makesmalldurchlauf"
       ]
      },
      {
       "output_type": "stream",
       "stream": "stdout",
       "text": [
        "\n",
        "23412.941931f\u00fcr einen makesmalldurchlauf"
       ]
      },
      {
       "output_type": "stream",
       "stream": "stdout",
       "text": [
        "\n",
        "23435.013757f\u00fcr einen makesmalldurchlauf"
       ]
      },
      {
       "output_type": "stream",
       "stream": "stdout",
       "text": [
        "\n",
        "23456.9970949f\u00fcr einen makesmalldurchlauf"
       ]
      },
      {
       "output_type": "stream",
       "stream": "stdout",
       "text": [
        "\n",
        "23478.9949639f\u00fcr einen makesmalldurchlauf"
       ]
      },
      {
       "output_type": "stream",
       "stream": "stdout",
       "text": [
        "\n",
        "23501.096457f\u00fcr einen makesmalldurchlauf"
       ]
      },
      {
       "output_type": "stream",
       "stream": "stdout",
       "text": [
        "\n",
        "23523.0688219f\u00fcr einen makesmalldurchlauf"
       ]
      },
      {
       "output_type": "stream",
       "stream": "stdout",
       "text": [
        "\n",
        "23545.115134f\u00fcr einen makesmalldurchlauf"
       ]
      },
      {
       "output_type": "stream",
       "stream": "stdout",
       "text": [
        "\n",
        "23567.390038f\u00fcr einen makesmalldurchlauf"
       ]
      },
      {
       "output_type": "stream",
       "stream": "stdout",
       "text": [
        "\n",
        "23589.7511208f\u00fcr einen makesmalldurchlauf"
       ]
      },
      {
       "output_type": "stream",
       "stream": "stdout",
       "text": [
        "\n",
        "23611.8269629f\u00fcr einen makesmalldurchlauf"
       ]
      },
      {
       "output_type": "stream",
       "stream": "stdout",
       "text": [
        "\n",
        "23633.8225489f\u00fcr einen makesmalldurchlauf"
       ]
      },
      {
       "output_type": "stream",
       "stream": "stdout",
       "text": [
        "\n",
        "23655.8566189f\u00fcr einen makesmalldurchlauf"
       ]
      },
      {
       "output_type": "stream",
       "stream": "stdout",
       "text": [
        "\n",
        "23677.983788f\u00fcr einen makesmalldurchlauf"
       ]
      },
      {
       "output_type": "stream",
       "stream": "stdout",
       "text": [
        "\n",
        "23699.9919498f\u00fcr einen makesmalldurchlauf"
       ]
      },
      {
       "output_type": "stream",
       "stream": "stdout",
       "text": [
        "\n",
        "23722.006047f\u00fcr einen makesmalldurchlauf"
       ]
      },
      {
       "output_type": "stream",
       "stream": "stdout",
       "text": [
        "\n",
        "23744.0538199f\u00fcr einen makesmalldurchlauf"
       ]
      },
      {
       "output_type": "stream",
       "stream": "stdout",
       "text": [
        "\n",
        "23766.067693f\u00fcr einen makesmalldurchlauf"
       ]
      },
      {
       "output_type": "stream",
       "stream": "stdout",
       "text": [
        "\n",
        "23788.072058f\u00fcr einen makesmalldurchlauf"
       ]
      },
      {
       "output_type": "stream",
       "stream": "stdout",
       "text": [
        "\n",
        "23810.0537398f\u00fcr einen makesmalldurchlauf"
       ]
      },
      {
       "output_type": "stream",
       "stream": "stdout",
       "text": [
        "\n",
        "23832.1750228f\u00fcr einen makesmalldurchlauf"
       ]
      },
      {
       "output_type": "stream",
       "stream": "stdout",
       "text": [
        "\n",
        "23854.208524f\u00fcr einen makesmalldurchlauf"
       ]
      },
      {
       "output_type": "stream",
       "stream": "stdout",
       "text": [
        "\n",
        "23876.242038f\u00fcr einen makesmalldurchlauf"
       ]
      },
      {
       "output_type": "stream",
       "stream": "stdout",
       "text": [
        "\n",
        "23898.2435968f\u00fcr einen makesmalldurchlauf"
       ]
      },
      {
       "output_type": "stream",
       "stream": "stdout",
       "text": [
        "\n",
        "23920.3227749f\u00fcr einen makesmalldurchlauf"
       ]
      },
      {
       "output_type": "stream",
       "stream": "stdout",
       "text": [
        "\n",
        "23942.33444f\u00fcr einen makesmalldurchlauf"
       ]
      },
      {
       "output_type": "stream",
       "stream": "stdout",
       "text": [
        "\n",
        "23964.333668f\u00fcr einen makesmalldurchlauf"
       ]
      },
      {
       "output_type": "stream",
       "stream": "stdout",
       "text": [
        "\n",
        "23986.3668849f\u00fcr einen makesmalldurchlauf"
       ]
      },
      {
       "output_type": "stream",
       "stream": "stdout",
       "text": [
        "\n",
        "24008.501766f\u00fcr einen makesmalldurchlauf"
       ]
      },
      {
       "output_type": "stream",
       "stream": "stdout",
       "text": [
        "\n",
        "24030.6276288f\u00fcr einen makesmalldurchlauf"
       ]
      },
      {
       "output_type": "stream",
       "stream": "stdout",
       "text": [
        "\n",
        "24052.8360839f\u00fcr einen makesmalldurchlauf"
       ]
      },
      {
       "output_type": "stream",
       "stream": "stdout",
       "text": [
        "\n",
        "24075.017159f\u00fcr einen makesmalldurchlauf"
       ]
      },
      {
       "output_type": "stream",
       "stream": "stdout",
       "text": [
        "\n",
        "24097.230634f\u00fcr einen makesmalldurchlauf"
       ]
      },
      {
       "output_type": "stream",
       "stream": "stdout",
       "text": [
        "\n",
        "24119.8693759f\u00fcr einen makesmalldurchlauf"
       ]
      },
      {
       "output_type": "stream",
       "stream": "stdout",
       "text": [
        "\n",
        "24142.0507338f\u00fcr einen makesmalldurchlauf"
       ]
      },
      {
       "output_type": "stream",
       "stream": "stdout",
       "text": [
        "\n",
        "24164.2918148f\u00fcr einen makesmalldurchlauf"
       ]
      },
      {
       "output_type": "stream",
       "stream": "stdout",
       "text": [
        "\n",
        "24186.9354029f\u00fcr einen makesmalldurchlauf"
       ]
      },
      {
       "output_type": "stream",
       "stream": "stdout",
       "text": [
        "\n",
        "24209.1660688f\u00fcr einen makesmalldurchlauf"
       ]
      },
      {
       "output_type": "stream",
       "stream": "stdout",
       "text": [
        "\n",
        "24231.3014009f\u00fcr einen makesmalldurchlauf"
       ]
      },
      {
       "output_type": "stream",
       "stream": "stdout",
       "text": [
        "\n",
        "24253.4535339f\u00fcr einen makesmalldurchlauf"
       ]
      },
      {
       "output_type": "stream",
       "stream": "stdout",
       "text": [
        "\n",
        "24275.5912318f\u00fcr einen makesmalldurchlauf"
       ]
      },
      {
       "output_type": "stream",
       "stream": "stdout",
       "text": [
        "\n",
        "24297.8780918f\u00fcr einen makesmalldurchlauf"
       ]
      },
      {
       "output_type": "stream",
       "stream": "stdout",
       "text": [
        "\n",
        "24320.201911f\u00fcr einen makesmalldurchlauf"
       ]
      },
      {
       "output_type": "stream",
       "stream": "stdout",
       "text": [
        "\n",
        "24342.9952009f\u00fcr einen makesmalldurchlauf"
       ]
      },
      {
       "output_type": "stream",
       "stream": "stdout",
       "text": [
        "\n",
        "24365.2035789f\u00fcr einen makesmalldurchlauf"
       ]
      },
      {
       "output_type": "stream",
       "stream": "stdout",
       "text": [
        "\n",
        "24387.5325549f\u00fcr einen makesmalldurchlauf"
       ]
      },
      {
       "output_type": "stream",
       "stream": "stdout",
       "text": [
        "\n",
        "24409.896461f\u00fcr einen makesmalldurchlauf"
       ]
      },
      {
       "output_type": "stream",
       "stream": "stdout",
       "text": [
        "\n",
        "24432.208509f\u00fcr einen makesmalldurchlauf"
       ]
      },
      {
       "output_type": "stream",
       "stream": "stdout",
       "text": [
        "\n",
        "24454.3804569f\u00fcr einen makesmalldurchlauf"
       ]
      },
      {
       "output_type": "stream",
       "stream": "stdout",
       "text": [
        "\n",
        "24476.5161099f\u00fcr einen makesmalldurchlauf"
       ]
      },
      {
       "output_type": "stream",
       "stream": "stdout",
       "text": [
        "\n",
        "24498.7615519f\u00fcr einen makesmalldurchlauf"
       ]
      },
      {
       "output_type": "stream",
       "stream": "stdout",
       "text": [
        "\n",
        "24520.929785f\u00fcr einen makesmalldurchlauf"
       ]
      },
      {
       "output_type": "stream",
       "stream": "stdout",
       "text": [
        "\n",
        "24543.0626299f\u00fcr einen makesmalldurchlauf"
       ]
      },
      {
       "output_type": "stream",
       "stream": "stdout",
       "text": [
        "\n",
        "24565.2132778f\u00fcr einen makesmalldurchlauf"
       ]
      },
      {
       "output_type": "stream",
       "stream": "stdout",
       "text": [
        "\n",
        "24587.3861928f\u00fcr einen makesmalldurchlauf"
       ]
      },
      {
       "output_type": "stream",
       "stream": "stdout",
       "text": [
        "\n",
        "24609.7137859f\u00fcr einen makesmalldurchlauf"
       ]
      },
      {
       "output_type": "stream",
       "stream": "stdout",
       "text": [
        "\n",
        "24631.8080859f\u00fcr einen makesmalldurchlauf"
       ]
      },
      {
       "output_type": "stream",
       "stream": "stdout",
       "text": [
        "\n",
        "24653.745126f\u00fcr einen makesmalldurchlauf"
       ]
      },
      {
       "output_type": "stream",
       "stream": "stdout",
       "text": [
        "\n",
        "24675.700887f\u00fcr einen makesmalldurchlauf"
       ]
      },
      {
       "output_type": "stream",
       "stream": "stdout",
       "text": [
        "\n",
        "24697.614825f\u00fcr einen makesmalldurchlauf"
       ]
      },
      {
       "output_type": "stream",
       "stream": "stdout",
       "text": [
        "\n",
        "24719.5691099f\u00fcr einen makesmalldurchlauf"
       ]
      },
      {
       "output_type": "stream",
       "stream": "stdout",
       "text": [
        "\n",
        "24741.5102398f\u00fcr einen makesmalldurchlauf"
       ]
      },
      {
       "output_type": "stream",
       "stream": "stdout",
       "text": [
        "\n",
        "24763.454582f\u00fcr einen makesmalldurchlauf"
       ]
      },
      {
       "output_type": "stream",
       "stream": "stdout",
       "text": [
        "\n",
        "24785.4792809f\u00fcr einen makesmalldurchlauf"
       ]
      },
      {
       "output_type": "stream",
       "stream": "stdout",
       "text": [
        "\n",
        "24807.559938f\u00fcr einen makesmalldurchlauf"
       ]
      },
      {
       "output_type": "stream",
       "stream": "stdout",
       "text": [
        "\n",
        "24829.7305338f\u00fcr einen makesmalldurchlauf"
       ]
      },
      {
       "output_type": "stream",
       "stream": "stdout",
       "text": [
        "\n",
        "24851.7948978f\u00fcr einen makesmalldurchlauf"
       ]
      },
      {
       "output_type": "stream",
       "stream": "stdout",
       "text": [
        "\n",
        "24873.9802508f\u00fcr einen makesmalldurchlauf"
       ]
      },
      {
       "output_type": "stream",
       "stream": "stdout",
       "text": [
        "\n",
        "24896.3543489f\u00fcr einen makesmalldurchlauf"
       ]
      },
      {
       "output_type": "stream",
       "stream": "stdout",
       "text": [
        "\n",
        "24918.3042569f\u00fcr einen makesmalldurchlauf"
       ]
      },
      {
       "output_type": "stream",
       "stream": "stdout",
       "text": [
        "\n",
        "24940.282568f\u00fcr einen makesmalldurchlauf"
       ]
      },
      {
       "output_type": "stream",
       "stream": "stdout",
       "text": [
        "\n",
        "24962.2910628f\u00fcr einen makesmalldurchlauf"
       ]
      },
      {
       "output_type": "stream",
       "stream": "stdout",
       "text": [
        "\n",
        "24984.2862279f\u00fcr einen makesmalldurchlauf"
       ]
      },
      {
       "output_type": "stream",
       "stream": "stdout",
       "text": [
        "\n",
        "25006.3553219f\u00fcr einen makesmalldurchlauf"
       ]
      },
      {
       "output_type": "stream",
       "stream": "stdout",
       "text": [
        "\n",
        "25028.3800929f\u00fcr einen makesmalldurchlauf"
       ]
      },
      {
       "output_type": "stream",
       "stream": "stdout",
       "text": [
        "\n",
        "25050.3451438f\u00fcr einen makesmalldurchlauf"
       ]
      },
      {
       "output_type": "stream",
       "stream": "stdout",
       "text": [
        "\n",
        "25072.321368f\u00fcr einen makesmalldurchlauf"
       ]
      },
      {
       "output_type": "stream",
       "stream": "stdout",
       "text": [
        "\n",
        "25095.14922f\u00fcr einen makesmalldurchlauf"
       ]
      },
      {
       "output_type": "stream",
       "stream": "stdout",
       "text": [
        "\n",
        "25117.9484179f\u00fcr einen makesmalldurchlauf"
       ]
      },
      {
       "output_type": "stream",
       "stream": "stdout",
       "text": [
        "\n",
        "25139.911068f\u00fcr einen makesmalldurchlauf"
       ]
      },
      {
       "output_type": "stream",
       "stream": "stdout",
       "text": [
        "\n",
        "25161.8654659f\u00fcr einen makesmalldurchlauf"
       ]
      },
      {
       "output_type": "stream",
       "stream": "stdout",
       "text": [
        "\n",
        "25183.828521f\u00fcr einen makesmalldurchlauf"
       ]
      },
      {
       "output_type": "stream",
       "stream": "stdout",
       "text": [
        "\n",
        "25205.8849158f\u00fcr einen makesmalldurchlauf"
       ]
      },
      {
       "output_type": "stream",
       "stream": "stdout",
       "text": [
        "\n",
        "25227.8708909f\u00fcr einen makesmalldurchlauf"
       ]
      },
      {
       "output_type": "stream",
       "stream": "stdout",
       "text": [
        "\n",
        "25249.8451259f\u00fcr einen makesmalldurchlauf"
       ]
      },
      {
       "output_type": "stream",
       "stream": "stdout",
       "text": [
        "\n",
        "25271.9394648f\u00fcr einen makesmalldurchlauf"
       ]
      },
      {
       "output_type": "stream",
       "stream": "stdout",
       "text": [
        "\n",
        "25293.9390998f\u00fcr einen makesmalldurchlauf"
       ]
      },
      {
       "output_type": "stream",
       "stream": "stdout",
       "text": [
        "\n",
        "25315.950285f\u00fcr einen makesmalldurchlauf"
       ]
      },
      {
       "output_type": "stream",
       "stream": "stdout",
       "text": [
        "\n",
        "25338.033644f\u00fcr einen makesmalldurchlauf"
       ]
      },
      {
       "output_type": "stream",
       "stream": "stdout",
       "text": [
        "\n",
        "25360.0394468f\u00fcr einen makesmalldurchlauf"
       ]
      },
      {
       "output_type": "stream",
       "stream": "stdout",
       "text": [
        "\n",
        "25382.02984f\u00fcr einen makesmalldurchlauf"
       ]
      },
      {
       "output_type": "stream",
       "stream": "stdout",
       "text": [
        "\n",
        "25404.123642f\u00fcr einen makesmalldurchlauf"
       ]
      },
      {
       "output_type": "stream",
       "stream": "stdout",
       "text": [
        "\n",
        "25426.110992f\u00fcr einen makesmalldurchlauf"
       ]
      },
      {
       "output_type": "stream",
       "stream": "stdout",
       "text": [
        "\n",
        "25448.041317f\u00fcr einen makesmalldurchlauf"
       ]
      },
      {
       "output_type": "stream",
       "stream": "stdout",
       "text": [
        "\n",
        "25470.019043f\u00fcr einen makesmalldurchlauf"
       ]
      },
      {
       "output_type": "stream",
       "stream": "stdout",
       "text": [
        "\n",
        "25492.049238f\u00fcr einen makesmalldurchlauf"
       ]
      },
      {
       "output_type": "stream",
       "stream": "stdout",
       "text": [
        "\n",
        "25513.9681349f\u00fcr einen makesmalldurchlauf"
       ]
      },
      {
       "output_type": "stream",
       "stream": "stdout",
       "text": [
        "\n",
        "25535.8857548f\u00fcr einen makesmalldurchlauf"
       ]
      },
      {
       "output_type": "stream",
       "stream": "stdout",
       "text": [
        "\n",
        "25557.8319099f\u00fcr einen makesmalldurchlauf"
       ]
      },
      {
       "output_type": "stream",
       "stream": "stdout",
       "text": [
        "\n",
        "25579.871953f\u00fcr einen makesmalldurchlauf"
       ]
      },
      {
       "output_type": "stream",
       "stream": "stdout",
       "text": [
        "\n",
        "25601.9504838f\u00fcr einen makesmalldurchlauf"
       ]
      },
      {
       "output_type": "stream",
       "stream": "stdout",
       "text": [
        "\n",
        "25623.949492f\u00fcr einen makesmalldurchlauf"
       ]
      },
      {
       "output_type": "stream",
       "stream": "stdout",
       "text": [
        "\n",
        "25645.925751f\u00fcr einen makesmalldurchlauf"
       ]
      },
      {
       "output_type": "stream",
       "stream": "stdout",
       "text": [
        "\n",
        "25667.859612f\u00fcr einen makesmalldurchlauf"
       ]
      },
      {
       "output_type": "stream",
       "stream": "stdout",
       "text": [
        "\n",
        "25689.7958989f\u00fcr einen makesmalldurchlauf"
       ]
      },
      {
       "output_type": "stream",
       "stream": "stdout",
       "text": [
        "\n",
        "25711.748996f\u00fcr einen makesmalldurchlauf"
       ]
      },
      {
       "output_type": "stream",
       "stream": "stdout",
       "text": [
        "\n",
        "25733.7241669f\u00fcr einen makesmalldurchlauf"
       ]
      },
      {
       "output_type": "stream",
       "stream": "stdout",
       "text": [
        "\n",
        "25755.7484798f\u00fcr einen makesmalldurchlauf"
       ]
      },
      {
       "output_type": "stream",
       "stream": "stdout",
       "text": [
        "\n",
        "25777.7509358f\u00fcr einen makesmalldurchlauf"
       ]
      },
      {
       "output_type": "stream",
       "stream": "stdout",
       "text": [
        "\n",
        "25799.7066109f\u00fcr einen makesmalldurchlauf"
       ]
      },
      {
       "output_type": "stream",
       "stream": "stdout",
       "text": [
        "\n",
        "25821.6914248f\u00fcr einen makesmalldurchlauf"
       ]
      },
      {
       "output_type": "stream",
       "stream": "stdout",
       "text": [
        "\n",
        "25843.6379478f\u00fcr einen makesmalldurchlauf"
       ]
      },
      {
       "output_type": "stream",
       "stream": "stdout",
       "text": [
        "\n",
        "25865.6097128f\u00fcr einen makesmalldurchlauf"
       ]
      },
      {
       "output_type": "stream",
       "stream": "stdout",
       "text": [
        "\n",
        "25887.604229f\u00fcr einen makesmalldurchlauf"
       ]
      },
      {
       "output_type": "stream",
       "stream": "stdout",
       "text": [
        "\n",
        "25909.6914408f\u00fcr einen makesmalldurchlauf"
       ]
      },
      {
       "output_type": "stream",
       "stream": "stdout",
       "text": [
        "\n",
        "25931.8825269f\u00fcr einen makesmalldurchlauf"
       ]
      },
      {
       "output_type": "stream",
       "stream": "stdout",
       "text": [
        "\n",
        "25953.8810279f\u00fcr einen makesmalldurchlauf"
       ]
      },
      {
       "output_type": "stream",
       "stream": "stdout",
       "text": [
        "\n",
        "25975.934237f\u00fcr einen makesmalldurchlauf"
       ]
      },
      {
       "output_type": "stream",
       "stream": "stdout",
       "text": [
        "\n",
        "25997.9315028f\u00fcr einen makesmalldurchlauf"
       ]
      },
      {
       "output_type": "stream",
       "stream": "stdout",
       "text": [
        "\n",
        "26019.880311f\u00fcr einen makesmalldurchlauf"
       ]
      },
      {
       "output_type": "stream",
       "stream": "stdout",
       "text": [
        "\n",
        "26041.8436949f\u00fcr einen makesmalldurchlauf"
       ]
      },
      {
       "output_type": "stream",
       "stream": "stdout",
       "text": [
        "\n",
        "26063.8936429f\u00fcr einen makesmalldurchlauf"
       ]
      },
      {
       "output_type": "stream",
       "stream": "stdout",
       "text": [
        "\n",
        "26085.9806619f\u00fcr einen makesmalldurchlauf"
       ]
      },
      {
       "output_type": "stream",
       "stream": "stdout",
       "text": [
        "\n",
        "26108.0097258f\u00fcr einen makesmalldurchlauf"
       ]
      },
      {
       "output_type": "stream",
       "stream": "stdout",
       "text": [
        "\n",
        "26130.043957f\u00fcr einen makesmalldurchlauf"
       ]
      },
      {
       "output_type": "stream",
       "stream": "stdout",
       "text": [
        "\n",
        "26152.0191548f\u00fcr einen makesmalldurchlauf"
       ]
      },
      {
       "output_type": "stream",
       "stream": "stdout",
       "text": [
        "\n",
        "26174.0326488f\u00fcr einen makesmalldurchlauf"
       ]
      },
      {
       "output_type": "stream",
       "stream": "stdout",
       "text": [
        "\n",
        "26196.0052998f\u00fcr einen makesmalldurchlauf"
       ]
      },
      {
       "output_type": "stream",
       "stream": "stdout",
       "text": [
        "\n",
        "26218.0038848f\u00fcr einen makesmalldurchlauf"
       ]
      },
      {
       "output_type": "stream",
       "stream": "stdout",
       "text": [
        "\n",
        "26240.037401f\u00fcr einen makesmalldurchlauf"
       ]
      },
      {
       "output_type": "stream",
       "stream": "stdout",
       "text": [
        "\n",
        "26262.149617f\u00fcr einen makesmalldurchlauf"
       ]
      },
      {
       "output_type": "stream",
       "stream": "stdout",
       "text": [
        "\n",
        "26284.206522f\u00fcr einen makesmalldurchlauf"
       ]
      },
      {
       "output_type": "stream",
       "stream": "stdout",
       "text": [
        "\n",
        "26306.527674f\u00fcr einen makesmalldurchlauf"
       ]
      },
      {
       "output_type": "stream",
       "stream": "stdout",
       "text": [
        "\n",
        "26328.5623379f\u00fcr einen makesmalldurchlauf"
       ]
      },
      {
       "output_type": "stream",
       "stream": "stdout",
       "text": [
        "\n",
        "26350.6096048f\u00fcr einen makesmalldurchlauf"
       ]
      },
      {
       "output_type": "stream",
       "stream": "stdout",
       "text": [
        "\n",
        "26373.8602059f\u00fcr einen makesmalldurchlauf"
       ]
      },
      {
       "output_type": "stream",
       "stream": "stdout",
       "text": [
        "\n",
        "26395.9684079f\u00fcr einen makesmalldurchlauf"
       ]
      },
      {
       "output_type": "stream",
       "stream": "stdout",
       "text": [
        "\n",
        "26418.0680108f\u00fcr einen makesmalldurchlauf"
       ]
      },
      {
       "output_type": "stream",
       "stream": "stdout",
       "text": [
        "\n",
        "26440.078763f\u00fcr einen makesmalldurchlauf"
       ]
      },
      {
       "output_type": "stream",
       "stream": "stdout",
       "text": [
        "\n",
        "26462.0831778f\u00fcr einen makesmalldurchlauf"
       ]
      },
      {
       "output_type": "stream",
       "stream": "stdout",
       "text": [
        "\n",
        "26484.0997329f\u00fcr einen makesmalldurchlauf"
       ]
      },
      {
       "output_type": "stream",
       "stream": "stdout",
       "text": [
        "\n",
        "26506.2113528f\u00fcr einen makesmalldurchlauf"
       ]
      },
      {
       "output_type": "stream",
       "stream": "stdout",
       "text": [
        "\n",
        "26528.3143699f\u00fcr einen makesmalldurchlauf"
       ]
      },
      {
       "output_type": "stream",
       "stream": "stdout",
       "text": [
        "\n",
        "26550.4711289f\u00fcr einen makesmalldurchlauf"
       ]
      },
      {
       "output_type": "stream",
       "stream": "stdout",
       "text": [
        "\n",
        "26572.4603338f\u00fcr einen makesmalldurchlauf"
       ]
      },
      {
       "output_type": "stream",
       "stream": "stdout",
       "text": [
        "\n",
        "26594.4873879f\u00fcr einen makesmalldurchlauf"
       ]
      },
      {
       "output_type": "stream",
       "stream": "stdout",
       "text": [
        "\n",
        "26616.552058f\u00fcr einen makesmalldurchlauf"
       ]
      },
      {
       "output_type": "stream",
       "stream": "stdout",
       "text": [
        "\n",
        "26638.6857228f\u00fcr einen makesmalldurchlauf"
       ]
      },
      {
       "output_type": "stream",
       "stream": "stdout",
       "text": [
        "\n",
        "26660.6974289f\u00fcr einen makesmalldurchlauf"
       ]
      },
      {
       "output_type": "stream",
       "stream": "stdout",
       "text": [
        "\n",
        "26682.6919498f\u00fcr einen makesmalldurchlauf"
       ]
      },
      {
       "output_type": "stream",
       "stream": "stdout",
       "text": [
        "\n",
        "26704.675797f\u00fcr einen makesmalldurchlauf"
       ]
      },
      {
       "output_type": "stream",
       "stream": "stdout",
       "text": [
        "\n",
        "26726.70275f\u00fcr einen makesmalldurchlauf"
       ]
      },
      {
       "output_type": "stream",
       "stream": "stdout",
       "text": [
        "\n",
        "26748.791049f\u00fcr einen makesmalldurchlauf"
       ]
      },
      {
       "output_type": "stream",
       "stream": "stdout",
       "text": [
        "\n",
        "26770.7980418f\u00fcr einen makesmalldurchlauf"
       ]
      },
      {
       "output_type": "stream",
       "stream": "stdout",
       "text": [
        "\n",
        "26792.7328398f\u00fcr einen makesmalldurchlauf"
       ]
      },
      {
       "output_type": "stream",
       "stream": "stdout",
       "text": [
        "\n",
        "26814.671963f\u00fcr einen makesmalldurchlauf"
       ]
      },
      {
       "output_type": "stream",
       "stream": "stdout",
       "text": [
        "\n",
        "26836.8562999f\u00fcr einen makesmalldurchlauf"
       ]
      },
      {
       "output_type": "stream",
       "stream": "stdout",
       "text": [
        "\n",
        "26858.8457599f\u00fcr einen makesmalldurchlauf"
       ]
      },
      {
       "output_type": "stream",
       "stream": "stdout",
       "text": [
        "\n",
        "26880.7834468f\u00fcr einen makesmalldurchlauf"
       ]
      },
      {
       "output_type": "stream",
       "stream": "stdout",
       "text": [
        "\n",
        "26902.8518679f\u00fcr einen makesmalldurchlauf"
       ]
      },
      {
       "output_type": "stream",
       "stream": "stdout",
       "text": [
        "\n",
        "26924.8074579f\u00fcr einen makesmalldurchlauf"
       ]
      },
      {
       "output_type": "stream",
       "stream": "stdout",
       "text": [
        "\n",
        "26946.7083418f\u00fcr einen makesmalldurchlauf"
       ]
      },
      {
       "output_type": "stream",
       "stream": "stdout",
       "text": [
        "\n",
        "26968.6838999f\u00fcr einen makesmalldurchlauf"
       ]
      },
      {
       "output_type": "stream",
       "stream": "stdout",
       "text": [
        "\n",
        "26990.670449f\u00fcr einen makesmalldurchlauf"
       ]
      },
      {
       "output_type": "stream",
       "stream": "stdout",
       "text": [
        "\n",
        "27012.701242f\u00fcr einen makesmalldurchlauf"
       ]
      },
      {
       "output_type": "stream",
       "stream": "stdout",
       "text": [
        "\n",
        "27034.601059f\u00fcr einen makesmalldurchlauf"
       ]
      },
      {
       "output_type": "stream",
       "stream": "stdout",
       "text": [
        "\n",
        "27056.5390599f\u00fcr einen makesmalldurchlauf"
       ]
      },
      {
       "output_type": "stream",
       "stream": "stdout",
       "text": [
        "\n",
        "27078.553972f\u00fcr einen makesmalldurchlauf"
       ]
      },
      {
       "output_type": "stream",
       "stream": "stdout",
       "text": [
        "\n",
        "27100.545548f\u00fcr einen makesmalldurchlauf"
       ]
      },
      {
       "output_type": "stream",
       "stream": "stdout",
       "text": [
        "\n",
        "27122.5483868f\u00fcr einen makesmalldurchlauf"
       ]
      },
      {
       "output_type": "stream",
       "stream": "stdout",
       "text": [
        "\n",
        "27144.5341659f\u00fcr einen makesmalldurchlauf"
       ]
      },
      {
       "output_type": "stream",
       "stream": "stdout",
       "text": [
        "\n",
        "27166.6021039f\u00fcr einen makesmalldurchlauf"
       ]
      },
      {
       "output_type": "stream",
       "stream": "stdout",
       "text": [
        "\n",
        "27188.685689f\u00fcr einen makesmalldurchlauf"
       ]
      },
      {
       "output_type": "stream",
       "stream": "stdout",
       "text": [
        "\n",
        "27210.64923f\u00fcr einen makesmalldurchlauf"
       ]
      },
      {
       "output_type": "stream",
       "stream": "stdout",
       "text": [
        "\n",
        "27232.6224658f\u00fcr einen makesmalldurchlauf"
       ]
      },
      {
       "output_type": "stream",
       "stream": "stdout",
       "text": [
        "\n",
        "27254.6782858f\u00fcr einen makesmalldurchlauf"
       ]
      },
      {
       "output_type": "stream",
       "stream": "stdout",
       "text": [
        "\n",
        "27276.6686368f\u00fcr einen makesmalldurchlauf"
       ]
      },
      {
       "output_type": "stream",
       "stream": "stdout",
       "text": [
        "\n",
        "27298.6693659f\u00fcr einen makesmalldurchlauf"
       ]
      },
      {
       "output_type": "stream",
       "stream": "stdout",
       "text": [
        "\n",
        "27320.6021988f\u00fcr einen makesmalldurchlauf"
       ]
      },
      {
       "output_type": "stream",
       "stream": "stdout",
       "text": [
        "\n",
        "27342.6047549f\u00fcr einen makesmalldurchlauf"
       ]
      },
      {
       "output_type": "stream",
       "stream": "stdout",
       "text": [
        "\n",
        "27364.7011039f\u00fcr einen makesmalldurchlauf"
       ]
      },
      {
       "output_type": "stream",
       "stream": "stdout",
       "text": [
        "\n",
        "27389.5913029f\u00fcr einen makesmalldurchlauf"
       ]
      },
      {
       "output_type": "stream",
       "stream": "stdout",
       "text": [
        "\n",
        "27414.6817479f\u00fcr einen makesmalldurchlauf"
       ]
      },
      {
       "output_type": "stream",
       "stream": "stdout",
       "text": [
        "\n",
        "27438.884161f\u00fcr einen makesmalldurchlauf"
       ]
      },
      {
       "output_type": "stream",
       "stream": "stdout",
       "text": [
        "\n",
        "27464.339474f\u00fcr einen makesmalldurchlauf"
       ]
      },
      {
       "output_type": "stream",
       "stream": "stdout",
       "text": [
        "\n",
        "27489.180059f\u00fcr einen makesmalldurchlauf"
       ]
      },
      {
       "output_type": "stream",
       "stream": "stdout",
       "text": [
        "\n",
        "27513.8071349f\u00fcr einen makesmalldurchlauf"
       ]
      },
      {
       "output_type": "stream",
       "stream": "stdout",
       "text": [
        "\n",
        "27538.1883788f\u00fcr einen makesmalldurchlauf"
       ]
      },
      {
       "output_type": "stream",
       "stream": "stdout",
       "text": [
        "\n",
        "27563.0231068f\u00fcr einen makesmalldurchlauf"
       ]
      },
      {
       "output_type": "stream",
       "stream": "stdout",
       "text": [
        "\n",
        "27587.4836688f\u00fcr einen makesmalldurchlauf"
       ]
      },
      {
       "output_type": "stream",
       "stream": "stdout",
       "text": [
        "\n",
        "27611.8032949f\u00fcr einen makesmalldurchlauf"
       ]
      },
      {
       "output_type": "stream",
       "stream": "stdout",
       "text": [
        "\n",
        "27636.471766f\u00fcr einen makesmalldurchlauf"
       ]
      },
      {
       "output_type": "stream",
       "stream": "stdout",
       "text": [
        "\n",
        "27661.5253959f\u00fcr einen makesmalldurchlauf"
       ]
      },
      {
       "output_type": "stream",
       "stream": "stdout",
       "text": [
        "\n",
        "27686.6571479f\u00fcr einen makesmalldurchlauf"
       ]
      },
      {
       "output_type": "stream",
       "stream": "stdout",
       "text": [
        "\n",
        "27712.1652229f\u00fcr einen makesmalldurchlauf"
       ]
      },
      {
       "output_type": "stream",
       "stream": "stdout",
       "text": [
        "\n",
        "27737.862191f\u00fcr einen makesmalldurchlauf"
       ]
      },
      {
       "output_type": "stream",
       "stream": "stdout",
       "text": [
        "\n",
        "27762.74611f\u00fcr einen makesmalldurchlauf"
       ]
      },
      {
       "output_type": "stream",
       "stream": "stdout",
       "text": [
        "\n",
        "27788.1755538f\u00fcr einen makesmalldurchlauf"
       ]
      },
      {
       "output_type": "stream",
       "stream": "stdout",
       "text": [
        "\n",
        "27813.5649729f\u00fcr einen makesmalldurchlauf"
       ]
      },
      {
       "output_type": "stream",
       "stream": "stdout",
       "text": [
        "\n",
        "27839.8482959f\u00fcr einen makesmalldurchlauf"
       ]
      },
      {
       "output_type": "stream",
       "stream": "stdout",
       "text": [
        "\n",
        "27865.5080428f\u00fcr einen makesmalldurchlauf"
       ]
      },
      {
       "output_type": "stream",
       "stream": "stdout",
       "text": [
        "\n",
        "27891.8448529f\u00fcr einen makesmalldurchlauf"
       ]
      },
      {
       "output_type": "stream",
       "stream": "stdout",
       "text": [
        "\n",
        "27915.7513618f\u00fcr einen makesmalldurchlauf"
       ]
      },
      {
       "output_type": "stream",
       "stream": "stdout",
       "text": [
        "\n",
        "27940.262491f\u00fcr einen makesmalldurchlauf"
       ]
      },
      {
       "output_type": "stream",
       "stream": "stdout",
       "text": [
        "\n",
        "27965.5273268f\u00fcr einen makesmalldurchlauf"
       ]
      },
      {
       "output_type": "stream",
       "stream": "stdout",
       "text": [
        "\n",
        "27991.8245559f\u00fcr einen makesmalldurchlauf"
       ]
      },
      {
       "output_type": "stream",
       "stream": "stdout",
       "text": [
        "\n",
        "28017.990026f\u00fcr einen makesmalldurchlauf"
       ]
      },
      {
       "output_type": "stream",
       "stream": "stdout",
       "text": [
        "\n",
        "28044.1502669f\u00fcr einen makesmalldurchlauf"
       ]
      },
      {
       "output_type": "stream",
       "stream": "stdout",
       "text": [
        "\n",
        "28070.3165288f\u00fcr einen makesmalldurchlauf"
       ]
      },
      {
       "output_type": "stream",
       "stream": "stdout",
       "text": [
        "\n",
        "28096.5276229f\u00fcr einen makesmalldurchlauf"
       ]
      },
      {
       "output_type": "stream",
       "stream": "stdout",
       "text": [
        "\n",
        "28122.7021308f\u00fcr einen makesmalldurchlauf"
       ]
      },
      {
       "output_type": "stream",
       "stream": "stdout",
       "text": [
        "\n",
        "28146.0971699f\u00fcr einen makesmalldurchlauf"
       ]
      },
      {
       "output_type": "stream",
       "stream": "stdout",
       "text": [
        "\n",
        "28169.4765868f\u00fcr einen makesmalldurchlauf"
       ]
      },
      {
       "output_type": "stream",
       "stream": "stdout",
       "text": [
        "\n",
        "28192.9710059f\u00fcr einen makesmalldurchlauf"
       ]
      },
      {
       "output_type": "stream",
       "stream": "stdout",
       "text": [
        "\n",
        "28216.501982f\u00fcr einen makesmalldurchlauf"
       ]
      },
      {
       "output_type": "stream",
       "stream": "stdout",
       "text": [
        "\n",
        "28239.9332268f\u00fcr einen makesmalldurchlauf"
       ]
      },
      {
       "output_type": "stream",
       "stream": "stdout",
       "text": [
        "\n",
        "28263.4443269f\u00fcr einen makesmalldurchlauf"
       ]
      },
      {
       "output_type": "stream",
       "stream": "stdout",
       "text": [
        "\n",
        "28286.9698589f\u00fcr einen makesmalldurchlauf"
       ]
      },
      {
       "output_type": "stream",
       "stream": "stdout",
       "text": [
        "\n",
        "28310.6030068f\u00fcr einen makesmalldurchlauf"
       ]
      },
      {
       "output_type": "stream",
       "stream": "stdout",
       "text": [
        "\n",
        "28336.8799779f\u00fcr einen makesmalldurchlauf"
       ]
      },
      {
       "output_type": "stream",
       "stream": "stdout",
       "text": [
        "\n",
        "28360.3997278f\u00fcr einen makesmalldurchlauf"
       ]
      },
      {
       "output_type": "stream",
       "stream": "stdout",
       "text": [
        "\n",
        "28383.8675709f\u00fcr einen makesmalldurchlauf"
       ]
      },
      {
       "output_type": "stream",
       "stream": "stdout",
       "text": [
        "\n",
        "28407.4378519f\u00fcr einen makesmalldurchlauf"
       ]
      },
      {
       "output_type": "stream",
       "stream": "stdout",
       "text": [
        "\n",
        "28430.988065f\u00fcr einen makesmalldurchlauf"
       ]
      },
      {
       "output_type": "stream",
       "stream": "stdout",
       "text": [
        "\n",
        "28454.5025818f\u00fcr einen makesmalldurchlauf"
       ]
      },
      {
       "output_type": "stream",
       "stream": "stdout",
       "text": [
        "\n",
        "28478.0773058f\u00fcr einen makesmalldurchlauf"
       ]
      },
      {
       "output_type": "stream",
       "stream": "stdout",
       "text": [
        "\n",
        "28501.7116148f\u00fcr einen makesmalldurchlauf"
       ]
      },
      {
       "output_type": "stream",
       "stream": "stdout",
       "text": [
        "\n",
        "28527.8487358f\u00fcr einen makesmalldurchlauf"
       ]
      },
      {
       "output_type": "stream",
       "stream": "stdout",
       "text": [
        "\n",
        "28551.246814f\u00fcr einen makesmalldurchlauf"
       ]
      },
      {
       "output_type": "stream",
       "stream": "stdout",
       "text": [
        "\n",
        "28574.775218f\u00fcr einen makesmalldurchlauf"
       ]
      },
      {
       "output_type": "stream",
       "stream": "stdout",
       "text": [
        "\n",
        "28598.2058928f\u00fcr einen makesmalldurchlauf"
       ]
      },
      {
       "output_type": "stream",
       "stream": "stdout",
       "text": [
        "\n",
        "28621.553864f\u00fcr einen makesmalldurchlauf"
       ]
      },
      {
       "output_type": "stream",
       "stream": "stdout",
       "text": [
        "\n",
        "28644.9949398f\u00fcr einen makesmalldurchlauf"
       ]
      },
      {
       "output_type": "stream",
       "stream": "stdout",
       "text": [
        "\n",
        "28668.69399f\u00fcr einen makesmalldurchlauf"
       ]
      },
      {
       "output_type": "stream",
       "stream": "stdout",
       "text": [
        "\n",
        "28692.2646298f\u00fcr einen makesmalldurchlauf"
       ]
      },
      {
       "output_type": "stream",
       "stream": "stdout",
       "text": [
        "\n",
        "28715.7549539f\u00fcr einen makesmalldurchlauf"
       ]
      },
      {
       "output_type": "stream",
       "stream": "stdout",
       "text": [
        "\n",
        "28739.3289208f\u00fcr einen makesmalldurchlauf"
       ]
      },
      {
       "output_type": "stream",
       "stream": "stdout",
       "text": [
        "\n",
        "28762.8799398f\u00fcr einen makesmalldurchlauf"
       ]
      },
      {
       "output_type": "stream",
       "stream": "stdout",
       "text": [
        "\n",
        "28786.2726429f\u00fcr einen makesmalldurchlauf"
       ]
      },
      {
       "output_type": "stream",
       "stream": "stdout",
       "text": [
        "\n",
        "28810.0729518f\u00fcr einen makesmalldurchlauf"
       ]
      },
      {
       "output_type": "stream",
       "stream": "stdout",
       "text": [
        "\n",
        "28833.808481f\u00fcr einen makesmalldurchlauf"
       ]
      },
      {
       "output_type": "stream",
       "stream": "stdout",
       "text": [
        "\n",
        "28859.947258f\u00fcr einen makesmalldurchlauf"
       ]
      },
      {
       "output_type": "stream",
       "stream": "stdout",
       "text": [
        "\n",
        "28883.3779728f\u00fcr einen makesmalldurchlauf"
       ]
      },
      {
       "output_type": "stream",
       "stream": "stdout",
       "text": [
        "\n",
        "28906.8078399f\u00fcr einen makesmalldurchlauf"
       ]
      },
      {
       "output_type": "stream",
       "stream": "stdout",
       "text": [
        "\n",
        "28930.446187f\u00fcr einen makesmalldurchlauf"
       ]
      },
      {
       "output_type": "stream",
       "stream": "stdout",
       "text": [
        "\n",
        "28954.1994019f\u00fcr einen makesmalldurchlauf"
       ]
      },
      {
       "output_type": "stream",
       "stream": "stdout",
       "text": [
        "\n",
        "28977.93888f\u00fcr einen makesmalldurchlauf"
       ]
      },
      {
       "output_type": "stream",
       "stream": "stdout",
       "text": [
        "\n",
        "29001.5372889f\u00fcr einen makesmalldurchlauf"
       ]
      },
      {
       "output_type": "stream",
       "stream": "stdout",
       "text": [
        "\n",
        "29027.785749f\u00fcr einen makesmalldurchlauf"
       ]
      },
      {
       "output_type": "stream",
       "stream": "stdout",
       "text": [
        "\n",
        "29051.3377719f\u00fcr einen makesmalldurchlauf"
       ]
      },
      {
       "output_type": "stream",
       "stream": "stdout",
       "text": [
        "\n",
        "29074.853019f\u00fcr einen makesmalldurchlauf"
       ]
      },
      {
       "output_type": "stream",
       "stream": "stdout",
       "text": [
        "\n",
        "29098.376236f\u00fcr einen makesmalldurchlauf"
       ]
      },
      {
       "output_type": "stream",
       "stream": "stdout",
       "text": [
        "\n",
        "29121.8393898f\u00fcr einen makesmalldurchlauf"
       ]
      },
      {
       "output_type": "stream",
       "stream": "stdout",
       "text": [
        "\n",
        "29145.3356779f\u00fcr einen makesmalldurchlauf"
       ]
      },
      {
       "output_type": "stream",
       "stream": "stdout",
       "text": [
        "\n",
        "29168.8800049f\u00fcr einen makesmalldurchlauf"
       ]
      },
      {
       "output_type": "stream",
       "stream": "stdout",
       "text": [
        "\n",
        "29190.9949548f\u00fcr einen makesmalldurchlauf"
       ]
      },
      {
       "output_type": "stream",
       "stream": "stdout",
       "text": [
        "\n",
        "29213.0686748f\u00fcr einen makesmalldurchlauf"
       ]
      },
      {
       "output_type": "stream",
       "stream": "stdout",
       "text": [
        "\n",
        "29235.134517f\u00fcr einen makesmalldurchlauf"
       ]
      },
      {
       "output_type": "stream",
       "stream": "stdout",
       "text": [
        "\n",
        "29257.2007148f\u00fcr einen makesmalldurchlauf"
       ]
      },
      {
       "output_type": "stream",
       "stream": "stdout",
       "text": [
        "\n",
        "29279.3604178f\u00fcr einen makesmalldurchlauf"
       ]
      },
      {
       "output_type": "stream",
       "stream": "stdout",
       "text": [
        "\n",
        "29301.49088f\u00fcr einen makesmalldurchlauf"
       ]
      },
      {
       "output_type": "stream",
       "stream": "stdout",
       "text": [
        "\n",
        "29323.586385f\u00fcr einen makesmalldurchlauf"
       ]
      },
      {
       "output_type": "stream",
       "stream": "stdout",
       "text": [
        "\n",
        "29345.726167f\u00fcr einen makesmalldurchlauf"
       ]
      },
      {
       "output_type": "stream",
       "stream": "stdout",
       "text": [
        "\n",
        "29367.9248538f\u00fcr einen makesmalldurchlauf"
       ]
      },
      {
       "output_type": "stream",
       "stream": "stdout",
       "text": [
        "\n",
        "29390.0140729f\u00fcr einen makesmalldurchlauf"
       ]
      },
      {
       "output_type": "stream",
       "stream": "stdout",
       "text": [
        "\n",
        "29412.035975f\u00fcr einen makesmalldurchlauf"
       ]
      },
      {
       "output_type": "stream",
       "stream": "stdout",
       "text": [
        "\n",
        "29434.2056448f\u00fcr einen makesmalldurchlauf"
       ]
      },
      {
       "output_type": "stream",
       "stream": "stdout",
       "text": [
        "\n",
        "29456.4913509f\u00fcr einen makesmalldurchlauf"
       ]
      },
      {
       "output_type": "stream",
       "stream": "stdout",
       "text": [
        "\n",
        "29478.599452f\u00fcr einen makesmalldurchlauf"
       ]
      },
      {
       "output_type": "stream",
       "stream": "stdout",
       "text": [
        "\n",
        "29500.6992109f\u00fcr einen makesmalldurchlauf"
       ]
      },
      {
       "output_type": "stream",
       "stream": "stdout",
       "text": [
        "\n",
        "29522.81703f\u00fcr einen makesmalldurchlauf"
       ]
      },
      {
       "output_type": "stream",
       "stream": "stdout",
       "text": [
        "\n",
        "29544.9815869f\u00fcr einen makesmalldurchlauf"
       ]
      },
      {
       "output_type": "stream",
       "stream": "stdout",
       "text": [
        "\n",
        "29567.1202269f\u00fcr einen makesmalldurchlauf"
       ]
      },
      {
       "output_type": "stream",
       "stream": "stdout",
       "text": [
        "\n",
        "29589.2353339f\u00fcr einen makesmalldurchlauf"
       ]
      },
      {
       "output_type": "stream",
       "stream": "stdout",
       "text": [
        "\n",
        "29611.321795f\u00fcr einen makesmalldurchlauf"
       ]
      },
      {
       "output_type": "stream",
       "stream": "stdout",
       "text": [
        "\n",
        "29633.5380108f\u00fcr einen makesmalldurchlauf"
       ]
      },
      {
       "output_type": "stream",
       "stream": "stdout",
       "text": [
        "\n",
        "29655.734807f\u00fcr einen makesmalldurchlauf"
       ]
      },
      {
       "output_type": "stream",
       "stream": "stdout",
       "text": [
        "\n",
        "29677.998605f\u00fcr einen makesmalldurchlauf"
       ]
      },
      {
       "output_type": "stream",
       "stream": "stdout",
       "text": [
        "\n",
        "29700.1127088f\u00fcr einen makesmalldurchlauf"
       ]
      },
      {
       "output_type": "stream",
       "stream": "stdout",
       "text": [
        "\n",
        "29722.2311349f\u00fcr einen makesmalldurchlauf"
       ]
      },
      {
       "output_type": "stream",
       "stream": "stdout",
       "text": [
        "\n",
        "29744.2860639f\u00fcr einen makesmalldurchlauf"
       ]
      },
      {
       "output_type": "stream",
       "stream": "stdout",
       "text": [
        "\n",
        "29766.3731358f\u00fcr einen makesmalldurchlauf"
       ]
      },
      {
       "output_type": "stream",
       "stream": "stdout",
       "text": [
        "\n",
        "29788.4380369f\u00fcr einen makesmalldurchlauf"
       ]
      },
      {
       "output_type": "stream",
       "stream": "stdout",
       "text": [
        "\n",
        "29810.4967878f\u00fcr einen makesmalldurchlauf"
       ]
      },
      {
       "output_type": "stream",
       "stream": "stdout",
       "text": [
        "\n",
        "29832.583869f\u00fcr einen makesmalldurchlauf"
       ]
      },
      {
       "output_type": "stream",
       "stream": "stdout",
       "text": [
        "\n",
        "29854.653358f\u00fcr einen makesmalldurchlauf"
       ]
      },
      {
       "output_type": "stream",
       "stream": "stdout",
       "text": [
        "\n",
        "29876.6820018f\u00fcr einen makesmalldurchlauf"
       ]
      },
      {
       "output_type": "stream",
       "stream": "stdout",
       "text": [
        "\n",
        "29898.6655929f\u00fcr einen makesmalldurchlauf"
       ]
      },
      {
       "output_type": "stream",
       "stream": "stdout",
       "text": [
        "\n",
        "29920.590286f\u00fcr einen makesmalldurchlauf"
       ]
      },
      {
       "output_type": "stream",
       "stream": "stdout",
       "text": [
        "\n",
        "29942.6613579f\u00fcr einen makesmalldurchlauf"
       ]
      },
      {
       "output_type": "stream",
       "stream": "stdout",
       "text": [
        "\n",
        "29964.6397319f\u00fcr einen makesmalldurchlauf"
       ]
      },
      {
       "output_type": "stream",
       "stream": "stdout",
       "text": [
        "\n",
        "29986.6856029f\u00fcr einen makesmalldurchlauf"
       ]
      },
      {
       "output_type": "stream",
       "stream": "stdout",
       "text": [
        "\n",
        "30008.908839f\u00fcr einen makesmalldurchlauf"
       ]
      },
      {
       "output_type": "stream",
       "stream": "stdout",
       "text": [
        "\n",
        "30030.9128599f\u00fcr einen makesmalldurchlauf"
       ]
      },
      {
       "output_type": "stream",
       "stream": "stdout",
       "text": [
        "\n",
        "30052.898845f\u00fcr einen makesmalldurchlauf"
       ]
      },
      {
       "output_type": "stream",
       "stream": "stdout",
       "text": [
        "\n",
        "30074.8663609f\u00fcr einen makesmalldurchlauf"
       ]
      },
      {
       "output_type": "stream",
       "stream": "stdout",
       "text": [
        "\n",
        "30096.8429928f\u00fcr einen makesmalldurchlauf"
       ]
      },
      {
       "output_type": "stream",
       "stream": "stdout",
       "text": [
        "\n",
        "30118.929523f\u00fcr einen makesmalldurchlauf"
       ]
      },
      {
       "output_type": "stream",
       "stream": "stdout",
       "text": [
        "\n",
        "30141.0933099f\u00fcr einen makesmalldurchlauf"
       ]
      },
      {
       "output_type": "stream",
       "stream": "stdout",
       "text": [
        "\n",
        "30163.066236f\u00fcr einen makesmalldurchlauf"
       ]
      },
      {
       "output_type": "stream",
       "stream": "stdout",
       "text": [
        "\n",
        "30185.0807688f\u00fcr einen makesmalldurchlauf"
       ]
      },
      {
       "output_type": "stream",
       "stream": "stdout",
       "text": [
        "\n",
        "30207.5406959f\u00fcr einen makesmalldurchlauf"
       ]
      },
      {
       "output_type": "stream",
       "stream": "stdout",
       "text": [
        "\n",
        "30230.096884f\u00fcr einen makesmalldurchlauf"
       ]
      },
      {
       "output_type": "stream",
       "stream": "stdout",
       "text": [
        "\n",
        "30252.064781f\u00fcr einen makesmalldurchlauf"
       ]
      },
      {
       "output_type": "stream",
       "stream": "stdout",
       "text": [
        "\n",
        "30274.0533509f\u00fcr einen makesmalldurchlauf"
       ]
      },
      {
       "output_type": "stream",
       "stream": "stdout",
       "text": [
        "\n",
        "30296.0421979f\u00fcr einen makesmalldurchlauf"
       ]
      },
      {
       "output_type": "stream",
       "stream": "stdout",
       "text": [
        "\n",
        "30317.9524529f\u00fcr einen makesmalldurchlauf"
       ]
      },
      {
       "output_type": "stream",
       "stream": "stdout",
       "text": [
        "\n",
        "30339.9135029f\u00fcr einen makesmalldurchlauf"
       ]
      },
      {
       "output_type": "stream",
       "stream": "stdout",
       "text": [
        "\n",
        "30361.862083f\u00fcr einen makesmalldurchlauf"
       ]
      },
      {
       "output_type": "stream",
       "stream": "stdout",
       "text": [
        "\n",
        "30384.0138459f\u00fcr einen makesmalldurchlauf"
       ]
      },
      {
       "output_type": "stream",
       "stream": "stdout",
       "text": [
        "\n",
        "30406.4476688f\u00fcr einen makesmalldurchlauf"
       ]
      },
      {
       "output_type": "stream",
       "stream": "stdout",
       "text": [
        "\n",
        "30428.71346f\u00fcr einen makesmalldurchlauf"
       ]
      },
      {
       "output_type": "stream",
       "stream": "stdout",
       "text": [
        "\n",
        "30451.2533739f\u00fcr einen makesmalldurchlauf"
       ]
      },
      {
       "output_type": "stream",
       "stream": "stdout",
       "text": [
        "\n",
        "30473.4677889f\u00fcr einen makesmalldurchlauf"
       ]
      },
      {
       "output_type": "stream",
       "stream": "stdout",
       "text": [
        "\n",
        "30495.8175299f\u00fcr einen makesmalldurchlauf"
       ]
      },
      {
       "output_type": "stream",
       "stream": "stdout",
       "text": [
        "\n",
        "30518.1604428f\u00fcr einen makesmalldurchlauf"
       ]
      },
      {
       "output_type": "stream",
       "stream": "stdout",
       "text": [
        "\n",
        "30540.464401f\u00fcr einen makesmalldurchlauf"
       ]
      },
      {
       "output_type": "stream",
       "stream": "stdout",
       "text": [
        "\n",
        "30562.8183749f\u00fcr einen makesmalldurchlauf"
       ]
      },
      {
       "output_type": "stream",
       "stream": "stdout",
       "text": [
        "\n",
        "30585.4672039f\u00fcr einen makesmalldurchlauf"
       ]
      },
      {
       "output_type": "stream",
       "stream": "stdout",
       "text": [
        "\n",
        "30608.3861639f\u00fcr einen makesmalldurchlauf"
       ]
      },
      {
       "output_type": "stream",
       "stream": "stdout",
       "text": [
        "\n",
        "30630.6515548f\u00fcr einen makesmalldurchlauf"
       ]
      },
      {
       "output_type": "stream",
       "stream": "stdout",
       "text": [
        "\n",
        "30653.0925889f\u00fcr einen makesmalldurchlauf"
       ]
      },
      {
       "output_type": "stream",
       "stream": "stdout",
       "text": [
        "\n",
        "30675.6996429f\u00fcr einen makesmalldurchlauf"
       ]
      },
      {
       "output_type": "stream",
       "stream": "stdout",
       "text": [
        "\n",
        "30698.0800178f\u00fcr einen makesmalldurchlauf"
       ]
      },
      {
       "output_type": "stream",
       "stream": "stdout",
       "text": [
        "\n",
        "30720.5368509f\u00fcr einen makesmalldurchlauf"
       ]
      },
      {
       "output_type": "stream",
       "stream": "stdout",
       "text": [
        "\n",
        "30743.0579128f\u00fcr einen makesmalldurchlauf"
       ]
      },
      {
       "output_type": "stream",
       "stream": "stdout",
       "text": [
        "\n",
        "30765.607723f\u00fcr einen makesmalldurchlauf"
       ]
      },
      {
       "output_type": "stream",
       "stream": "stdout",
       "text": [
        "\n",
        "30788.4496288f\u00fcr einen makesmalldurchlauf"
       ]
      },
      {
       "output_type": "stream",
       "stream": "stdout",
       "text": [
        "\n",
        "30810.963372f\u00fcr einen makesmalldurchlauf"
       ]
      },
      {
       "output_type": "stream",
       "stream": "stdout",
       "text": [
        "\n",
        "30833.5077128f\u00fcr einen makesmalldurchlauf"
       ]
      },
      {
       "output_type": "stream",
       "stream": "stdout",
       "text": [
        "\n",
        "30855.831084f\u00fcr einen makesmalldurchlauf"
       ]
      },
      {
       "output_type": "stream",
       "stream": "stdout",
       "text": [
        "\n",
        "30878.3811209f\u00fcr einen makesmalldurchlauf"
       ]
      },
      {
       "output_type": "stream",
       "stream": "stdout",
       "text": [
        "\n",
        "30900.972167f\u00fcr einen makesmalldurchlauf"
       ]
      },
      {
       "output_type": "stream",
       "stream": "stdout",
       "text": [
        "\n",
        "30923.5500629f\u00fcr einen makesmalldurchlauf"
       ]
      },
      {
       "output_type": "stream",
       "stream": "stdout",
       "text": [
        "\n",
        "30946.1079109f\u00fcr einen makesmalldurchlauf"
       ]
      },
      {
       "output_type": "stream",
       "stream": "stdout",
       "text": [
        "\n",
        "30968.3372228f\u00fcr einen makesmalldurchlauf"
       ]
      },
      {
       "output_type": "stream",
       "stream": "stdout",
       "text": [
        "\n",
        "30991.6030788f\u00fcr einen makesmalldurchlauf"
       ]
      },
      {
       "output_type": "stream",
       "stream": "stdout",
       "text": [
        "\n",
        "31014.9444418f\u00fcr einen makesmalldurchlauf"
       ]
      },
      {
       "output_type": "stream",
       "stream": "stdout",
       "text": [
        "\n",
        "31038.3979449f\u00fcr einen makesmalldurchlauf"
       ]
      },
      {
       "output_type": "stream",
       "stream": "stdout",
       "text": [
        "\n",
        "31061.6863868f\u00fcr einen makesmalldurchlauf"
       ]
      },
      {
       "output_type": "stream",
       "stream": "stdout",
       "text": [
        "\n",
        "31084.505044f\u00fcr einen makesmalldurchlauf"
       ]
      },
      {
       "output_type": "stream",
       "stream": "stdout",
       "text": [
        "\n",
        "31107.0187268f\u00fcr einen makesmalldurchlauf"
       ]
      },
      {
       "output_type": "stream",
       "stream": "stdout",
       "text": [
        "\n",
        "31129.6591489f\u00fcr einen makesmalldurchlauf"
       ]
      },
      {
       "output_type": "stream",
       "stream": "stdout",
       "text": [
        "\n",
        "31152.5022829f\u00fcr einen makesmalldurchlauf"
       ]
      },
      {
       "output_type": "stream",
       "stream": "stdout",
       "text": [
        "\n",
        "31175.266361f\u00fcr einen makesmalldurchlauf"
       ]
      },
      {
       "output_type": "stream",
       "stream": "stdout",
       "text": [
        "\n",
        "31198.2421479f\u00fcr einen makesmalldurchlauf"
       ]
      },
      {
       "output_type": "stream",
       "stream": "stdout",
       "text": [
        "\n",
        "31221.0612009f\u00fcr einen makesmalldurchlauf"
       ]
      },
      {
       "output_type": "stream",
       "stream": "stdout",
       "text": [
        "\n",
        "31243.7066638f\u00fcr einen makesmalldurchlauf"
       ]
      },
      {
       "output_type": "stream",
       "stream": "stdout",
       "text": [
        "\n",
        "31267.5859358f\u00fcr einen makesmalldurchlauf"
       ]
      },
      {
       "output_type": "stream",
       "stream": "stdout",
       "text": [
        "\n",
        "31290.5778279f\u00fcr einen makesmalldurchlauf"
       ]
      },
      {
       "output_type": "stream",
       "stream": "stdout",
       "text": [
        "\n",
        "31316.0418589f\u00fcr einen makesmalldurchlauf"
       ]
      },
      {
       "output_type": "stream",
       "stream": "stdout",
       "text": [
        "\n",
        "31338.8012979f\u00fcr einen makesmalldurchlauf"
       ]
      },
      {
       "output_type": "stream",
       "stream": "stdout",
       "text": [
        "\n",
        "31363.8845809f\u00fcr einen makesmalldurchlauf"
       ]
      },
      {
       "output_type": "stream",
       "stream": "stdout",
       "text": [
        "\n",
        "31386.6964948f\u00fcr einen makesmalldurchlauf"
       ]
      },
      {
       "output_type": "stream",
       "stream": "stdout",
       "text": [
        "\n",
        "31409.3766809f\u00fcr einen makesmalldurchlauf"
       ]
      },
      {
       "output_type": "stream",
       "stream": "stdout",
       "text": [
        "\n",
        "31432.9999878f\u00fcr einen makesmalldurchlauf"
       ]
      },
      {
       "output_type": "stream",
       "stream": "stdout",
       "text": [
        "\n",
        "31456.4195139f\u00fcr einen makesmalldurchlauf"
       ]
      },
      {
       "output_type": "stream",
       "stream": "stdout",
       "text": [
        "\n",
        "31479.378942f\u00fcr einen makesmalldurchlauf"
       ]
      },
      {
       "output_type": "stream",
       "stream": "stdout",
       "text": [
        "\n",
        "31501.9307778f\u00fcr einen makesmalldurchlauf"
       ]
      },
      {
       "output_type": "stream",
       "stream": "stdout",
       "text": [
        "\n",
        "31525.2592359f\u00fcr einen makesmalldurchlauf"
       ]
      },
      {
       "output_type": "stream",
       "stream": "stdout",
       "text": [
        "\n",
        "31548.0099308f\u00fcr einen makesmalldurchlauf"
       ]
      },
      {
       "output_type": "stream",
       "stream": "stdout",
       "text": [
        "\n",
        "31570.8073928f\u00fcr einen makesmalldurchlauf"
       ]
      },
      {
       "output_type": "stream",
       "stream": "stdout",
       "text": [
        "\n",
        "31592.9220388f\u00fcr einen makesmalldurchlauf"
       ]
      },
      {
       "output_type": "stream",
       "stream": "stdout",
       "text": [
        "\n",
        "31615.12622f\u00fcr einen makesmalldurchlauf"
       ]
      },
      {
       "output_type": "stream",
       "stream": "stdout",
       "text": [
        "\n",
        "31637.283273f\u00fcr einen makesmalldurchlauf"
       ]
      },
      {
       "output_type": "stream",
       "stream": "stdout",
       "text": [
        "\n",
        "31659.368762f\u00fcr einen makesmalldurchlauf"
       ]
      },
      {
       "output_type": "stream",
       "stream": "stdout",
       "text": [
        "\n",
        "31681.618999f\u00fcr einen makesmalldurchlauf"
       ]
      },
      {
       "output_type": "stream",
       "stream": "stdout",
       "text": [
        "\n",
        "31703.689009f\u00fcr einen makesmalldurchlauf"
       ]
      },
      {
       "output_type": "stream",
       "stream": "stdout",
       "text": [
        "\n",
        "31726.0014958f\u00fcr einen makesmalldurchlauf"
       ]
      },
      {
       "output_type": "stream",
       "stream": "stdout",
       "text": [
        "\n",
        "31748.097831f\u00fcr einen makesmalldurchlauf"
       ]
      },
      {
       "output_type": "stream",
       "stream": "stdout",
       "text": [
        "\n",
        "31770.1340849f\u00fcr einen makesmalldurchlauf"
       ]
      },
      {
       "output_type": "stream",
       "stream": "stdout",
       "text": [
        "\n",
        "31792.240835f\u00fcr einen makesmalldurchlauf"
       ]
      },
      {
       "output_type": "stream",
       "stream": "stdout",
       "text": [
        "\n",
        "31814.3649619f\u00fcr einen makesmalldurchlauf"
       ]
      },
      {
       "output_type": "stream",
       "stream": "stdout",
       "text": [
        "\n",
        "31836.462857f\u00fcr einen makesmalldurchlauf"
       ]
      },
      {
       "output_type": "stream",
       "stream": "stdout",
       "text": [
        "\n",
        "31858.565604f\u00fcr einen makesmalldurchlauf"
       ]
      },
      {
       "output_type": "stream",
       "stream": "stdout",
       "text": [
        "\n",
        "31880.6535709f\u00fcr einen makesmalldurchlauf"
       ]
      },
      {
       "output_type": "stream",
       "stream": "stdout",
       "text": [
        "\n",
        "31902.7381868f\u00fcr einen makesmalldurchlauf"
       ]
      },
      {
       "output_type": "stream",
       "stream": "stdout",
       "text": [
        "\n",
        "31924.865469f\u00fcr einen makesmalldurchlauf"
       ]
      },
      {
       "output_type": "stream",
       "stream": "stdout",
       "text": [
        "\n",
        "31947.1042938f\u00fcr einen makesmalldurchlauf"
       ]
      },
      {
       "output_type": "stream",
       "stream": "stdout",
       "text": [
        "\n",
        "31969.215827f\u00fcr einen makesmalldurchlauf"
       ]
      },
      {
       "output_type": "stream",
       "stream": "stdout",
       "text": [
        "\n",
        "31991.5697949f\u00fcr einen makesmalldurchlauf"
       ]
      },
      {
       "output_type": "stream",
       "stream": "stdout",
       "text": [
        "\n",
        "32013.6648779f\u00fcr einen makesmalldurchlauf"
       ]
      },
      {
       "output_type": "stream",
       "stream": "stdout",
       "text": [
        "\n",
        "32035.7215328f\u00fcr einen makesmalldurchlauf"
       ]
      },
      {
       "output_type": "stream",
       "stream": "stdout",
       "text": [
        "\n",
        "32057.787838f\u00fcr einen makesmalldurchlauf"
       ]
      },
      {
       "output_type": "stream",
       "stream": "stdout",
       "text": [
        "\n",
        "32079.80861f\u00fcr einen makesmalldurchlauf"
       ]
      },
      {
       "output_type": "stream",
       "stream": "stdout",
       "text": [
        "\n",
        "32101.87831f\u00fcr einen makesmalldurchlauf"
       ]
      },
      {
       "output_type": "stream",
       "stream": "stdout",
       "text": [
        "\n",
        "32124.0240638f\u00fcr einen makesmalldurchlauf"
       ]
      },
      {
       "output_type": "stream",
       "stream": "stdout",
       "text": [
        "\n",
        "32146.0839479f\u00fcr einen makesmalldurchlauf"
       ]
      },
      {
       "output_type": "stream",
       "stream": "stdout",
       "text": [
        "\n",
        "32168.2015538f\u00fcr einen makesmalldurchlauf"
       ]
      },
      {
       "output_type": "stream",
       "stream": "stdout",
       "text": [
        "\n",
        "32190.600359f\u00fcr einen makesmalldurchlauf"
       ]
      },
      {
       "output_type": "stream",
       "stream": "stdout",
       "text": [
        "\n",
        "32212.9513259f\u00fcr einen makesmalldurchlauf"
       ]
      },
      {
       "output_type": "stream",
       "stream": "stdout",
       "text": [
        "\n",
        "32234.9163959f\u00fcr einen makesmalldurchlauf"
       ]
      },
      {
       "output_type": "stream",
       "stream": "stdout",
       "text": [
        "\n",
        "32256.8560238f\u00fcr einen makesmalldurchlauf"
       ]
      },
      {
       "output_type": "stream",
       "stream": "stdout",
       "text": [
        "\n",
        "32278.8230028f\u00fcr einen makesmalldurchlauf"
       ]
      },
      {
       "output_type": "stream",
       "stream": "stdout",
       "text": [
        "\n",
        "32300.9129319f\u00fcr einen makesmalldurchlauf"
       ]
      },
      {
       "output_type": "stream",
       "stream": "stdout",
       "text": [
        "\n",
        "32322.9407568f\u00fcr einen makesmalldurchlauf"
       ]
      },
      {
       "output_type": "stream",
       "stream": "stdout",
       "text": [
        "\n",
        "32344.9241178f\u00fcr einen makesmalldurchlauf"
       ]
      },
      {
       "output_type": "stream",
       "stream": "stdout",
       "text": [
        "\n",
        "32366.8985908f\u00fcr einen makesmalldurchlauf"
       ]
      },
      {
       "output_type": "stream",
       "stream": "stdout",
       "text": [
        "\n",
        "32388.8987758f\u00fcr einen makesmalldurchlauf"
       ]
      },
      {
       "output_type": "stream",
       "stream": "stdout",
       "text": [
        "\n",
        "32410.8788569f\u00fcr einen makesmalldurchlauf"
       ]
      },
      {
       "output_type": "stream",
       "stream": "stdout",
       "text": [
        "\n",
        "32432.8575008f\u00fcr einen makesmalldurchlauf"
       ]
      },
      {
       "output_type": "stream",
       "stream": "stdout",
       "text": [
        "\n",
        "32454.9580388f\u00fcr einen makesmalldurchlauf"
       ]
      },
      {
       "output_type": "stream",
       "stream": "stdout",
       "text": [
        "\n",
        "32476.9206629f\u00fcr einen makesmalldurchlauf"
       ]
      },
      {
       "output_type": "stream",
       "stream": "stdout",
       "text": [
        "\n",
        "32498.911979f\u00fcr einen makesmalldurchlauf"
       ]
      },
      {
       "output_type": "stream",
       "stream": "stdout",
       "text": [
        "\n",
        "32520.8576159f\u00fcr einen makesmalldurchlauf"
       ]
      },
      {
       "output_type": "stream",
       "stream": "stdout",
       "text": [
        "\n",
        "32542.818594f\u00fcr einen makesmalldurchlauf"
       ]
      },
      {
       "output_type": "stream",
       "stream": "stdout",
       "text": [
        "\n",
        "32564.7692959f\u00fcr einen makesmalldurchlauf"
       ]
      },
      {
       "output_type": "stream",
       "stream": "stdout",
       "text": [
        "\n",
        "32586.7331738f\u00fcr einen makesmalldurchlauf"
       ]
      },
      {
       "output_type": "stream",
       "stream": "stdout",
       "text": [
        "\n",
        "32608.672415f\u00fcr einen makesmalldurchlauf"
       ]
      },
      {
       "output_type": "stream",
       "stream": "stdout",
       "text": [
        "\n",
        "32630.7447278f\u00fcr einen makesmalldurchlauf"
       ]
      },
      {
       "output_type": "stream",
       "stream": "stdout",
       "text": [
        "\n",
        "32652.719414f\u00fcr einen makesmalldurchlauf"
       ]
      },
      {
       "output_type": "stream",
       "stream": "stdout",
       "text": [
        "\n",
        "32674.7093229f\u00fcr einen makesmalldurchlauf"
       ]
      },
      {
       "output_type": "stream",
       "stream": "stdout",
       "text": [
        "\n",
        "32696.674783f\u00fcr einen makesmalldurchlauf"
       ]
      },
      {
       "output_type": "stream",
       "stream": "stdout",
       "text": [
        "\n",
        "32718.6225069f\u00fcr einen makesmalldurchlauf"
       ]
      },
      {
       "output_type": "stream",
       "stream": "stdout",
       "text": [
        "\n",
        "32740.5814478f\u00fcr einen makesmalldurchlauf"
       ]
      },
      {
       "output_type": "stream",
       "stream": "stdout",
       "text": [
        "\n",
        "32762.5730259f\u00fcr einen makesmalldurchlauf"
       ]
      },
      {
       "output_type": "stream",
       "stream": "stdout",
       "text": [
        "\n",
        "32784.6469848f\u00fcr einen makesmalldurchlauf"
       ]
      },
      {
       "output_type": "stream",
       "stream": "stdout",
       "text": [
        "\n",
        "32806.7027709f\u00fcr einen makesmalldurchlauf"
       ]
      },
      {
       "output_type": "stream",
       "stream": "stdout",
       "text": [
        "\n",
        "32828.7635219f\u00fcr einen makesmalldurchlauf"
       ]
      },
      {
       "output_type": "stream",
       "stream": "stdout",
       "text": [
        "\n",
        "32850.8608348f\u00fcr einen makesmalldurchlauf"
       ]
      },
      {
       "output_type": "stream",
       "stream": "stdout",
       "text": [
        "\n",
        "32872.899308f\u00fcr einen makesmalldurchlauf"
       ]
      },
      {
       "output_type": "stream",
       "stream": "stdout",
       "text": [
        "\n",
        "32894.9495618f\u00fcr einen makesmalldurchlauf"
       ]
      },
      {
       "output_type": "stream",
       "stream": "stdout",
       "text": [
        "\n",
        "32917.095273f\u00fcr einen makesmalldurchlauf"
       ]
      },
      {
       "output_type": "stream",
       "stream": "stdout",
       "text": [
        "\n",
        "32939.204422f\u00fcr einen makesmalldurchlauf"
       ]
      },
      {
       "output_type": "stream",
       "stream": "stdout",
       "text": [
        "\n",
        "32961.262229f\u00fcr einen makesmalldurchlauf"
       ]
      },
      {
       "output_type": "stream",
       "stream": "stdout",
       "text": [
        "\n",
        "32983.3176949f\u00fcr einen makesmalldurchlauf"
       ]
      },
      {
       "output_type": "stream",
       "stream": "stdout",
       "text": [
        "\n",
        "33005.4581978f\u00fcr einen makesmalldurchlauf"
       ]
      },
      {
       "output_type": "stream",
       "stream": "stdout",
       "text": [
        "\n",
        "33027.6144328f\u00fcr einen makesmalldurchlauf"
       ]
      },
      {
       "output_type": "stream",
       "stream": "stdout",
       "text": [
        "\n",
        "33049.7190778f\u00fcr einen makesmalldurchlauf"
       ]
      },
      {
       "output_type": "stream",
       "stream": "stdout",
       "text": [
        "\n",
        "33071.7918649f\u00fcr einen makesmalldurchlauf"
       ]
      },
      {
       "output_type": "stream",
       "stream": "stdout",
       "text": [
        "\n",
        "33093.874799f\u00fcr einen makesmalldurchlauf"
       ]
      },
      {
       "output_type": "stream",
       "stream": "stdout",
       "text": [
        "\n",
        "33115.9507918f\u00fcr einen makesmalldurchlauf"
       ]
      },
      {
       "output_type": "stream",
       "stream": "stdout",
       "text": [
        "\n",
        "33138.1040058f\u00fcr einen makesmalldurchlauf"
       ]
      },
      {
       "output_type": "stream",
       "stream": "stdout",
       "text": [
        "\n",
        "33160.1459968f\u00fcr einen makesmalldurchlauf"
       ]
      },
      {
       "output_type": "stream",
       "stream": "stdout",
       "text": [
        "\n",
        "33182.232584f\u00fcr einen makesmalldurchlauf"
       ]
      },
      {
       "output_type": "stream",
       "stream": "stdout",
       "text": [
        "\n",
        "33204.3110299f\u00fcr einen makesmalldurchlauf"
       ]
      },
      {
       "output_type": "stream",
       "stream": "stdout",
       "text": [
        "\n",
        "33226.3528159f\u00fcr einen makesmalldurchlauf"
       ]
      },
      {
       "output_type": "stream",
       "stream": "stdout",
       "text": [
        "\n",
        "33248.551338f\u00fcr einen makesmalldurchlauf"
       ]
      },
      {
       "output_type": "stream",
       "stream": "stdout",
       "text": [
        "\n",
        "33270.9436688f\u00fcr einen makesmalldurchlauf"
       ]
      },
      {
       "output_type": "stream",
       "stream": "stdout",
       "text": [
        "\n",
        "33293.1891029f\u00fcr einen makesmalldurchlauf"
       ]
      },
      {
       "output_type": "stream",
       "stream": "stdout",
       "text": [
        "\n",
        "33315.6576009f\u00fcr einen makesmalldurchlauf"
       ]
      },
      {
       "output_type": "stream",
       "stream": "stdout",
       "text": [
        "\n",
        "33337.7470899f\u00fcr einen makesmalldurchlauf"
       ]
      },
      {
       "output_type": "stream",
       "stream": "stdout",
       "text": [
        "\n",
        "33359.883106f\u00fcr einen makesmalldurchlauf"
       ]
      },
      {
       "output_type": "stream",
       "stream": "stdout",
       "text": [
        "\n",
        "33382.2415538f\u00fcr einen makesmalldurchlauf"
       ]
      },
      {
       "output_type": "stream",
       "stream": "stdout",
       "text": [
        "\n",
        "33405.7100658f\u00fcr einen makesmalldurchlauf"
       ]
      },
      {
       "output_type": "stream",
       "stream": "stdout",
       "text": [
        "\n",
        "33428.818743f\u00fcr einen makesmalldurchlauf"
       ]
      },
      {
       "output_type": "stream",
       "stream": "stdout",
       "text": [
        "\n",
        "33451.2716029f\u00fcr einen makesmalldurchlauf"
       ]
      },
      {
       "output_type": "stream",
       "stream": "stdout",
       "text": [
        "\n",
        "33473.8250718f\u00fcr einen makesmalldurchlauf"
       ]
      },
      {
       "output_type": "stream",
       "stream": "stdout",
       "text": [
        "\n",
        "33496.2634139f\u00fcr einen makesmalldurchlauf"
       ]
      },
      {
       "output_type": "stream",
       "stream": "stdout",
       "text": [
        "\n",
        "33518.796469f\u00fcr einen makesmalldurchlauf"
       ]
      },
      {
       "output_type": "stream",
       "stream": "stdout",
       "text": [
        "\n",
        "33541.2698009f\u00fcr einen makesmalldurchlauf"
       ]
      },
      {
       "output_type": "stream",
       "stream": "stdout",
       "text": [
        "\n",
        "33563.4620659f\u00fcr einen makesmalldurchlauf"
       ]
      },
      {
       "output_type": "stream",
       "stream": "stdout",
       "text": [
        "\n",
        "33586.0311179f\u00fcr einen makesmalldurchlauf"
       ]
      },
      {
       "output_type": "stream",
       "stream": "stdout",
       "text": [
        "\n",
        "33608.5859308f\u00fcr einen makesmalldurchlauf"
       ]
      },
      {
       "output_type": "stream",
       "stream": "stdout",
       "text": [
        "\n",
        "33630.926837f\u00fcr einen makesmalldurchlauf"
       ]
      },
      {
       "output_type": "stream",
       "stream": "stdout",
       "text": [
        "\n",
        "33653.3969109f\u00fcr einen makesmalldurchlauf"
       ]
      },
      {
       "output_type": "stream",
       "stream": "stdout",
       "text": [
        "\n",
        "33675.9135518f\u00fcr einen makesmalldurchlauf"
       ]
      },
      {
       "output_type": "stream",
       "stream": "stdout",
       "text": [
        "\n",
        "33698.6196749f\u00fcr einen makesmalldurchlauf"
       ]
      },
      {
       "output_type": "stream",
       "stream": "stdout",
       "text": [
        "\n",
        "33720.9542789f\u00fcr einen makesmalldurchlauf"
       ]
      },
      {
       "output_type": "stream",
       "stream": "stdout",
       "text": [
        "\n",
        "33743.3700459f\u00fcr einen makesmalldurchlauf"
       ]
      },
      {
       "output_type": "stream",
       "stream": "stdout",
       "text": [
        "\n",
        "33766.1259308f\u00fcr einen makesmalldurchlauf"
       ]
      },
      {
       "output_type": "stream",
       "stream": "stdout",
       "text": [
        "\n",
        "33788.647676f\u00fcr einen makesmalldurchlauf"
       ]
      },
      {
       "output_type": "stream",
       "stream": "stdout",
       "text": [
        "\n",
        "33811.4762249f\u00fcr einen makesmalldurchlauf"
       ]
      },
      {
       "output_type": "stream",
       "stream": "stdout",
       "text": [
        "\n",
        "33834.950495f\u00fcr einen makesmalldurchlauf"
       ]
      },
      {
       "output_type": "stream",
       "stream": "stdout",
       "text": [
        "\n",
        "33857.2109299f\u00fcr einen makesmalldurchlauf"
       ]
      },
      {
       "output_type": "stream",
       "stream": "stdout",
       "text": [
        "\n",
        "33879.602901f\u00fcr einen makesmalldurchlauf"
       ]
      },
      {
       "output_type": "stream",
       "stream": "stdout",
       "text": [
        "\n",
        "33901.906925f\u00fcr einen makesmalldurchlauf"
       ]
      },
      {
       "output_type": "stream",
       "stream": "stdout",
       "text": [
        "\n",
        "33924.5715919f\u00fcr einen makesmalldurchlauf"
       ]
      },
      {
       "output_type": "stream",
       "stream": "stdout",
       "text": [
        "\n",
        "33947.166997f\u00fcr einen makesmalldurchlauf"
       ]
      },
      {
       "output_type": "stream",
       "stream": "stdout",
       "text": [
        "\n",
        "33970.1431968f\u00fcr einen makesmalldurchlauf"
       ]
      },
      {
       "output_type": "stream",
       "stream": "stdout",
       "text": [
        "\n",
        "33992.3110828f\u00fcr einen makesmalldurchlauf"
       ]
      },
      {
       "output_type": "stream",
       "stream": "stdout",
       "text": [
        "\n",
        "34014.4699919f\u00fcr einen makesmalldurchlauf"
       ]
      },
      {
       "output_type": "stream",
       "stream": "stdout",
       "text": [
        "\n",
        "34036.6670098f\u00fcr einen makesmalldurchlauf"
       ]
      },
      {
       "output_type": "stream",
       "stream": "stdout",
       "text": [
        "\n",
        "34058.825505f\u00fcr einen makesmalldurchlauf"
       ]
      },
      {
       "output_type": "stream",
       "stream": "stdout",
       "text": [
        "\n",
        "34080.986753f\u00fcr einen makesmalldurchlauf"
       ]
      },
      {
       "output_type": "stream",
       "stream": "stdout",
       "text": [
        "\n",
        "34103.1534128f\u00fcr einen makesmalldurchlauf"
       ]
      },
      {
       "output_type": "stream",
       "stream": "stdout",
       "text": [
        "\n",
        "34125.420913f\u00fcr einen makesmalldurchlauf"
       ]
      },
      {
       "output_type": "stream",
       "stream": "stdout",
       "text": [
        "\n",
        "34148.128762f\u00fcr einen makesmalldurchlauf"
       ]
      },
      {
       "output_type": "stream",
       "stream": "stdout",
       "text": [
        "\n",
        "34170.262394f\u00fcr einen makesmalldurchlauf"
       ]
      },
      {
       "output_type": "stream",
       "stream": "stdout",
       "text": [
        "\n",
        "34192.4206128f\u00fcr einen makesmalldurchlauf"
       ]
      },
      {
       "output_type": "stream",
       "stream": "stdout",
       "text": [
        "\n",
        "34214.582947f\u00fcr einen makesmalldurchlauf"
       ]
      },
      {
       "output_type": "stream",
       "stream": "stdout",
       "text": [
        "\n",
        "34236.7404239f\u00fcr einen makesmalldurchlauf"
       ]
      },
      {
       "output_type": "stream",
       "stream": "stdout",
       "text": [
        "\n",
        "34259.030828f\u00fcr einen makesmalldurchlauf"
       ]
      },
      {
       "output_type": "stream",
       "stream": "stdout",
       "text": [
        "\n",
        "34281.354079f\u00fcr einen makesmalldurchlauf"
       ]
      },
      {
       "output_type": "stream",
       "stream": "stdout",
       "text": [
        "\n",
        "34303.6983099f\u00fcr einen makesmalldurchlauf"
       ]
      },
      {
       "output_type": "stream",
       "stream": "stdout",
       "text": [
        "\n",
        "34325.98666f\u00fcr einen makesmalldurchlauf"
       ]
      },
      {
       "output_type": "stream",
       "stream": "stdout",
       "text": [
        "\n",
        "34348.3332109f\u00fcr einen makesmalldurchlauf"
       ]
      },
      {
       "output_type": "stream",
       "stream": "stdout",
       "text": [
        "\n",
        "34370.719708f\u00fcr einen makesmalldurchlauf"
       ]
      },
      {
       "output_type": "stream",
       "stream": "stdout",
       "text": [
        "\n",
        "34392.9061339f\u00fcr einen makesmalldurchlauf"
       ]
      },
      {
       "output_type": "stream",
       "stream": "stdout",
       "text": [
        "\n",
        "34415.1083028f\u00fcr einen makesmalldurchlauf"
       ]
      },
      {
       "output_type": "stream",
       "stream": "stdout",
       "text": [
        "\n",
        "34437.3332989f\u00fcr einen makesmalldurchlauf"
       ]
      },
      {
       "output_type": "stream",
       "stream": "stdout",
       "text": [
        "\n",
        "34459.7440689f\u00fcr einen makesmalldurchlauf"
       ]
      },
      {
       "output_type": "stream",
       "stream": "stdout",
       "text": [
        "\n",
        "34481.9065969f\u00fcr einen makesmalldurchlauf"
       ]
      },
      {
       "output_type": "stream",
       "stream": "stdout",
       "text": [
        "\n",
        "34504.0449359f\u00fcr einen makesmalldurchlauf"
       ]
      },
      {
       "output_type": "stream",
       "stream": "stdout",
       "text": [
        "\n",
        "34526.1896248f\u00fcr einen makesmalldurchlauf"
       ]
      },
      {
       "output_type": "stream",
       "stream": "stdout",
       "text": [
        "\n",
        "34548.3549099f\u00fcr einen makesmalldurchlauf"
       ]
      },
      {
       "output_type": "stream",
       "stream": "stdout",
       "text": [
        "\n",
        "34570.6454849f\u00fcr einen makesmalldurchlauf"
       ]
      },
      {
       "output_type": "stream",
       "stream": "stdout",
       "text": [
        "\n",
        "34594.8542039f\u00fcr einen makesmalldurchlauf"
       ]
      },
      {
       "output_type": "stream",
       "stream": "stdout",
       "text": [
        "\n",
        "34618.9032149f\u00fcr einen makesmalldurchlauf"
       ]
      },
      {
       "output_type": "stream",
       "stream": "stdout",
       "text": [
        "\n",
        "34642.8025329f\u00fcr einen makesmalldurchlauf"
       ]
      },
      {
       "output_type": "stream",
       "stream": "stdout",
       "text": [
        "\n",
        "34666.626133f\u00fcr einen makesmalldurchlauf"
       ]
      },
      {
       "output_type": "stream",
       "stream": "stdout",
       "text": [
        "\n",
        "34690.603771f\u00fcr einen makesmalldurchlauf"
       ]
      },
      {
       "output_type": "stream",
       "stream": "stdout",
       "text": [
        "\n",
        "34714.5448208f\u00fcr einen makesmalldurchlauf"
       ]
      },
      {
       "output_type": "stream",
       "stream": "stdout",
       "text": [
        "\n",
        "34738.4252598f\u00fcr einen makesmalldurchlauf"
       ]
      },
      {
       "output_type": "stream",
       "stream": "stdout",
       "text": [
        "\n",
        "34762.4051678f\u00fcr einen makesmalldurchlauf"
       ]
      },
      {
       "output_type": "stream",
       "stream": "stdout",
       "text": [
        "\n",
        "34786.2801969f\u00fcr einen makesmalldurchlauf"
       ]
      },
      {
       "output_type": "stream",
       "stream": "stdout",
       "text": [
        "\n",
        "34810.3246f\u00fcr einen makesmalldurchlauf"
       ]
      },
      {
       "output_type": "stream",
       "stream": "stdout",
       "text": [
        "\n",
        "34834.2711999f\u00fcr einen makesmalldurchlauf"
       ]
      },
      {
       "output_type": "stream",
       "stream": "stdout",
       "text": [
        "\n",
        "34858.222209f\u00fcr einen makesmalldurchlauf"
       ]
      },
      {
       "output_type": "stream",
       "stream": "stdout",
       "text": [
        "\n",
        "34882.1920879f\u00fcr einen makesmalldurchlauf"
       ]
      },
      {
       "output_type": "stream",
       "stream": "stdout",
       "text": [
        "\n",
        "34906.1847279f\u00fcr einen makesmalldurchlauf"
       ]
      },
      {
       "output_type": "stream",
       "stream": "stdout",
       "text": [
        "\n",
        "34930.0577419f\u00fcr einen makesmalldurchlauf"
       ]
      },
      {
       "output_type": "stream",
       "stream": "stdout",
       "text": [
        "\n",
        "34954.1909499f\u00fcr einen makesmalldurchlauf"
       ]
      },
      {
       "output_type": "stream",
       "stream": "stdout",
       "text": [
        "\n",
        "34978.609499f\u00fcr einen makesmalldurchlauf"
       ]
      },
      {
       "output_type": "stream",
       "stream": "stdout",
       "text": [
        "\n",
        "35002.9549408f\u00fcr einen makesmalldurchlauf"
       ]
      },
      {
       "output_type": "stream",
       "stream": "stdout",
       "text": [
        "\n",
        "35026.951735f\u00fcr einen makesmalldurchlauf"
       ]
      },
      {
       "output_type": "stream",
       "stream": "stdout",
       "text": [
        "\n",
        "35050.9111738f\u00fcr einen makesmalldurchlauf"
       ]
      },
      {
       "output_type": "stream",
       "stream": "stdout",
       "text": [
        "\n",
        "35074.8856409f\u00fcr einen makesmalldurchlauf"
       ]
      },
      {
       "output_type": "stream",
       "stream": "stdout",
       "text": [
        "\n",
        "35098.7216208f\u00fcr einen makesmalldurchlauf"
       ]
      },
      {
       "output_type": "stream",
       "stream": "stdout",
       "text": [
        "\n",
        "35122.6122558f\u00fcr einen makesmalldurchlauf"
       ]
      },
      {
       "output_type": "stream",
       "stream": "stdout",
       "text": [
        "\n",
        "35146.5524058f\u00fcr einen makesmalldurchlauf"
       ]
      },
      {
       "output_type": "stream",
       "stream": "stdout",
       "text": [
        "\n",
        "35170.3879049f\u00fcr einen makesmalldurchlauf"
       ]
      },
      {
       "output_type": "stream",
       "stream": "stdout",
       "text": [
        "\n",
        "35192.3587849f\u00fcr einen makesmalldurchlauf"
       ]
      },
      {
       "output_type": "stream",
       "stream": "stdout",
       "text": [
        "\n",
        "35214.3276918f\u00fcr einen makesmalldurchlauf"
       ]
      },
      {
       "output_type": "stream",
       "stream": "stdout",
       "text": [
        "\n",
        "35236.4418418f\u00fcr einen makesmalldurchlauf"
       ]
      },
      {
       "output_type": "stream",
       "stream": "stdout",
       "text": [
        "\n",
        "35258.3555388f\u00fcr einen makesmalldurchlauf"
       ]
      },
      {
       "output_type": "stream",
       "stream": "stdout",
       "text": [
        "\n",
        "35280.32951f\u00fcr einen makesmalldurchlauf"
       ]
      },
      {
       "output_type": "stream",
       "stream": "stdout",
       "text": [
        "\n",
        "35302.3798559f\u00fcr einen makesmalldurchlauf"
       ]
      },
      {
       "output_type": "stream",
       "stream": "stdout",
       "text": [
        "\n",
        "35324.4086869f\u00fcr einen makesmalldurchlauf"
       ]
      },
      {
       "output_type": "stream",
       "stream": "stdout",
       "text": [
        "\n",
        "35346.478843f\u00fcr einen makesmalldurchlauf"
       ]
      },
      {
       "output_type": "stream",
       "stream": "stdout",
       "text": [
        "\n",
        "35368.4399838f\u00fcr einen makesmalldurchlauf"
       ]
      },
      {
       "output_type": "stream",
       "stream": "stdout",
       "text": [
        "\n",
        "35390.3876839f\u00fcr einen makesmalldurchlauf"
       ]
      },
      {
       "output_type": "stream",
       "stream": "stdout",
       "text": [
        "\n",
        "35412.471617f\u00fcr einen makesmalldurchlauf"
       ]
      },
      {
       "output_type": "stream",
       "stream": "stdout",
       "text": [
        "\n",
        "35434.401155f\u00fcr einen makesmalldurchlauf"
       ]
      },
      {
       "output_type": "stream",
       "stream": "stdout",
       "text": [
        "\n",
        "35456.3236568f\u00fcr einen makesmalldurchlauf"
       ]
      },
      {
       "output_type": "stream",
       "stream": "stdout",
       "text": [
        "\n",
        "35478.3513858f\u00fcr einen makesmalldurchlauf"
       ]
      },
      {
       "output_type": "stream",
       "stream": "stdout",
       "text": [
        "\n",
        "35500.2718909f\u00fcr einen makesmalldurchlauf"
       ]
      },
      {
       "output_type": "stream",
       "stream": "stdout",
       "text": [
        "\n",
        "35522.2439499f\u00fcr einen makesmalldurchlauf"
       ]
      },
      {
       "output_type": "stream",
       "stream": "stdout",
       "text": [
        "\n",
        "35544.3760569f\u00fcr einen makesmalldurchlauf"
       ]
      },
      {
       "output_type": "stream",
       "stream": "stdout",
       "text": [
        "\n",
        "35566.4554758f\u00fcr einen makesmalldurchlauf"
       ]
      },
      {
       "output_type": "stream",
       "stream": "stdout",
       "text": [
        "\n",
        "35588.470299f\u00fcr einen makesmalldurchlauf"
       ]
      },
      {
       "output_type": "stream",
       "stream": "stdout",
       "text": [
        "\n",
        "35610.4191668f\u00fcr einen makesmalldurchlauf"
       ]
      },
      {
       "output_type": "stream",
       "stream": "stdout",
       "text": [
        "\n",
        "35632.4347749f\u00fcr einen makesmalldurchlauf"
       ]
      },
      {
       "output_type": "stream",
       "stream": "stdout",
       "text": [
        "\n",
        "35654.3245518f\u00fcr einen makesmalldurchlauf"
       ]
      },
      {
       "output_type": "stream",
       "stream": "stdout",
       "text": [
        "\n",
        "35676.285332f\u00fcr einen makesmalldurchlauf"
       ]
      },
      {
       "output_type": "stream",
       "stream": "stdout",
       "text": [
        "\n",
        "35698.2011108f\u00fcr einen makesmalldurchlauf"
       ]
      },
      {
       "output_type": "stream",
       "stream": "stdout",
       "text": [
        "\n",
        "35720.1103759f\u00fcr einen makesmalldurchlauf"
       ]
      },
      {
       "output_type": "stream",
       "stream": "stdout",
       "text": [
        "\n",
        "35742.0430908f\u00fcr einen makesmalldurchlauf"
       ]
      },
      {
       "output_type": "stream",
       "stream": "stdout",
       "text": [
        "\n",
        "35763.9728379f\u00fcr einen makesmalldurchlauf"
       ]
      },
      {
       "output_type": "stream",
       "stream": "stdout",
       "text": [
        "\n",
        "35786.1190028f\u00fcr einen makesmalldurchlauf"
       ]
      },
      {
       "output_type": "stream",
       "stream": "stdout",
       "text": [
        "\n",
        "35808.293124f\u00fcr einen makesmalldurchlauf"
       ]
      },
      {
       "output_type": "stream",
       "stream": "stdout",
       "text": [
        "\n",
        "35830.501931f\u00fcr einen makesmalldurchlauf"
       ]
      },
      {
       "output_type": "stream",
       "stream": "stdout",
       "text": [
        "\n",
        "35852.7646599f\u00fcr einen makesmalldurchlauf"
       ]
      },
      {
       "output_type": "stream",
       "stream": "stdout",
       "text": [
        "\n",
        "35874.967427f\u00fcr einen makesmalldurchlauf"
       ]
      },
      {
       "output_type": "stream",
       "stream": "stdout",
       "text": [
        "\n",
        "35897.1497509f\u00fcr einen makesmalldurchlauf"
       ]
      },
      {
       "output_type": "stream",
       "stream": "stdout",
       "text": [
        "\n",
        "35919.3400218f\u00fcr einen makesmalldurchlauf"
       ]
      },
      {
       "output_type": "stream",
       "stream": "stdout",
       "text": [
        "\n",
        "35941.5769088f\u00fcr einen makesmalldurchlauf"
       ]
      },
      {
       "output_type": "stream",
       "stream": "stdout",
       "text": [
        "\n",
        "35963.7974529f\u00fcr einen makesmalldurchlauf"
       ]
      },
      {
       "output_type": "stream",
       "stream": "stdout",
       "text": [
        "\n",
        "35986.0456069f\u00fcr einen makesmalldurchlauf"
       ]
      },
      {
       "output_type": "stream",
       "stream": "stdout",
       "text": [
        "\n",
        "36008.2948618f\u00fcr einen makesmalldurchlauf"
       ]
      },
      {
       "output_type": "stream",
       "stream": "stdout",
       "text": [
        "\n",
        "36030.5109229f\u00fcr einen makesmalldurchlauf"
       ]
      },
      {
       "output_type": "stream",
       "stream": "stdout",
       "text": [
        "\n",
        "36052.7221658f\u00fcr einen makesmalldurchlauf"
       ]
      },
      {
       "output_type": "stream",
       "stream": "stdout",
       "text": [
        "\n",
        "36074.8945479f\u00fcr einen makesmalldurchlauf"
       ]
      },
      {
       "output_type": "stream",
       "stream": "stdout",
       "text": [
        "\n",
        "36097.0866878f\u00fcr einen makesmalldurchlauf"
       ]
      },
      {
       "output_type": "stream",
       "stream": "stdout",
       "text": [
        "\n",
        "36119.2893748f\u00fcr einen makesmalldurchlauf"
       ]
      },
      {
       "output_type": "stream",
       "stream": "stdout",
       "text": [
        "\n",
        "36141.4677908f\u00fcr einen makesmalldurchlauf"
       ]
      },
      {
       "output_type": "stream",
       "stream": "stdout",
       "text": [
        "\n",
        "36163.7821028f\u00fcr einen makesmalldurchlauf"
       ]
      },
      {
       "output_type": "stream",
       "stream": "stdout",
       "text": [
        "\n",
        "36185.9791238f\u00fcr einen makesmalldurchlauf"
       ]
      },
      {
       "output_type": "stream",
       "stream": "stdout",
       "text": [
        "\n",
        "36208.2001438f\u00fcr einen makesmalldurchlauf"
       ]
      },
      {
       "output_type": "stream",
       "stream": "stdout",
       "text": [
        "\n",
        "36230.4563608f\u00fcr einen makesmalldurchlauf"
       ]
      },
      {
       "output_type": "stream",
       "stream": "stdout",
       "text": [
        "\n",
        "36252.657995f\u00fcr einen makesmalldurchlauf"
       ]
      },
      {
       "output_type": "stream",
       "stream": "stdout",
       "text": [
        "\n",
        "36274.8890119f\u00fcr einen makesmalldurchlauf"
       ]
      },
      {
       "output_type": "stream",
       "stream": "stdout",
       "text": [
        "\n",
        "36297.0819819f\u00fcr einen makesmalldurchlauf"
       ]
      },
      {
       "output_type": "stream",
       "stream": "stdout",
       "text": [
        "\n",
        "36319.261596f\u00fcr einen makesmalldurchlauf"
       ]
      },
      {
       "output_type": "stream",
       "stream": "stdout",
       "text": [
        "\n",
        "36341.4761779f\u00fcr einen makesmalldurchlauf"
       ]
      },
      {
       "output_type": "stream",
       "stream": "stdout",
       "text": [
        "\n",
        "36363.667027f\u00fcr einen makesmalldurchlauf"
       ]
      },
      {
       "output_type": "stream",
       "stream": "stdout",
       "text": [
        "\n",
        "36385.670727f\u00fcr einen makesmalldurchlauf"
       ]
      },
      {
       "output_type": "stream",
       "stream": "stdout",
       "text": [
        "\n",
        "36407.8593969f\u00fcr einen makesmalldurchlauf"
       ]
      },
      {
       "output_type": "stream",
       "stream": "stdout",
       "text": [
        "\n",
        "36429.8448329f\u00fcr einen makesmalldurchlauf"
       ]
      },
      {
       "output_type": "stream",
       "stream": "stdout",
       "text": [
        "\n",
        "36451.9837708f\u00fcr einen makesmalldurchlauf"
       ]
      },
      {
       "output_type": "stream",
       "stream": "stdout",
       "text": [
        "\n",
        "36474.037133f\u00fcr einen makesmalldurchlauf"
       ]
      },
      {
       "output_type": "stream",
       "stream": "stdout",
       "text": [
        "\n",
        "36496.0456729f\u00fcr einen makesmalldurchlauf"
       ]
      },
      {
       "output_type": "stream",
       "stream": "stdout",
       "text": [
        "\n",
        "36518.0750029f\u00fcr einen makesmalldurchlauf"
       ]
      },
      {
       "output_type": "stream",
       "stream": "stdout",
       "text": [
        "\n",
        "36540.0573919f\u00fcr einen makesmalldurchlauf"
       ]
      },
      {
       "output_type": "stream",
       "stream": "stdout",
       "text": [
        "\n",
        "36562.034765f\u00fcr einen makesmalldurchlauf"
       ]
      },
      {
       "output_type": "stream",
       "stream": "stdout",
       "text": [
        "\n",
        "36584.0432608f\u00fcr einen makesmalldurchlauf"
       ]
      },
      {
       "output_type": "stream",
       "stream": "stdout",
       "text": [
        "\n",
        "36606.064086f\u00fcr einen makesmalldurchlauf"
       ]
      },
      {
       "output_type": "stream",
       "stream": "stdout",
       "text": [
        "\n",
        "36628.0885098f\u00fcr einen makesmalldurchlauf"
       ]
      },
      {
       "output_type": "stream",
       "stream": "stdout",
       "text": [
        "\n",
        "36650.0306909f\u00fcr einen makesmalldurchlauf"
       ]
      },
      {
       "output_type": "stream",
       "stream": "stdout",
       "text": [
        "\n",
        "36672.064373f\u00fcr einen makesmalldurchlauf"
       ]
      },
      {
       "output_type": "stream",
       "stream": "stdout",
       "text": [
        "\n",
        "36694.037683f\u00fcr einen makesmalldurchlauf"
       ]
      },
      {
       "output_type": "stream",
       "stream": "stdout",
       "text": [
        "\n",
        "36716.080946f\u00fcr einen makesmalldurchlauf"
       ]
      },
      {
       "output_type": "stream",
       "stream": "stdout",
       "text": [
        "\n",
        "36738.1284089f\u00fcr einen makesmalldurchlauf"
       ]
      },
      {
       "output_type": "stream",
       "stream": "stdout",
       "text": [
        "\n",
        "36760.1587269f\u00fcr einen makesmalldurchlauf"
       ]
      },
      {
       "output_type": "stream",
       "stream": "stdout",
       "text": [
        "\n",
        "36782.102963f\u00fcr einen makesmalldurchlauf"
       ]
      },
      {
       "output_type": "stream",
       "stream": "stdout",
       "text": [
        "\n",
        "36804.096179f\u00fcr einen makesmalldurchlauf"
       ]
      },
      {
       "output_type": "stream",
       "stream": "stdout",
       "text": [
        "\n",
        "36826.0842619f\u00fcr einen makesmalldurchlauf"
       ]
      },
      {
       "output_type": "stream",
       "stream": "stdout",
       "text": [
        "\n",
        "36848.2281549f\u00fcr einen makesmalldurchlauf"
       ]
      },
      {
       "output_type": "stream",
       "stream": "stdout",
       "text": [
        "\n",
        "36870.2742679f\u00fcr einen makesmalldurchlauf"
       ]
      },
      {
       "output_type": "stream",
       "stream": "stdout",
       "text": [
        "\n",
        "36892.3030448f\u00fcr einen makesmalldurchlauf"
       ]
      },
      {
       "output_type": "stream",
       "stream": "stdout",
       "text": [
        "\n",
        "36914.3426108f\u00fcr einen makesmalldurchlauf"
       ]
      },
      {
       "output_type": "stream",
       "stream": "stdout",
       "text": [
        "\n",
        "36936.3445148f\u00fcr einen makesmalldurchlauf"
       ]
      },
      {
       "output_type": "stream",
       "stream": "stdout",
       "text": [
        "\n",
        "36958.6178579f\u00fcr einen makesmalldurchlauf"
       ]
      },
      {
       "output_type": "stream",
       "stream": "stdout",
       "text": [
        "\n",
        "36980.5976f\u00fcr einen makesmalldurchlauf"
       ]
      },
      {
       "output_type": "stream",
       "stream": "stdout",
       "text": [
        "\n",
        "37002.6326749f\u00fcr einen makesmalldurchlauf"
       ]
      },
      {
       "output_type": "stream",
       "stream": "stdout",
       "text": [
        "\n",
        "37024.6691089f\u00fcr einen makesmalldurchlauf"
       ]
      },
      {
       "output_type": "stream",
       "stream": "stdout",
       "text": [
        "\n",
        "37046.7800748f\u00fcr einen makesmalldurchlauf"
       ]
      },
      {
       "output_type": "stream",
       "stream": "stdout",
       "text": [
        "\n",
        "37068.9325659f\u00fcr einen makesmalldurchlauf"
       ]
      },
      {
       "output_type": "stream",
       "stream": "stdout",
       "text": [
        "\n",
        "37090.986172f\u00fcr einen makesmalldurchlauf"
       ]
      },
      {
       "output_type": "stream",
       "stream": "stdout",
       "text": [
        "\n",
        "37113.0661049f\u00fcr einen makesmalldurchlauf"
       ]
      },
      {
       "output_type": "stream",
       "stream": "stdout",
       "text": [
        "\n",
        "37135.3830838f\u00fcr einen makesmalldurchlauf"
       ]
      },
      {
       "output_type": "stream",
       "stream": "stdout",
       "text": [
        "\n",
        "37157.431654f\u00fcr einen makesmalldurchlauf"
       ]
      },
      {
       "output_type": "stream",
       "stream": "stdout",
       "text": [
        "\n",
        "37179.4404409f\u00fcr einen makesmalldurchlauf"
       ]
      },
      {
       "output_type": "stream",
       "stream": "stdout",
       "text": [
        "\n",
        "37201.5040619f\u00fcr einen makesmalldurchlauf"
       ]
      },
      {
       "output_type": "stream",
       "stream": "stdout",
       "text": [
        "\n",
        "37223.635814f\u00fcr einen makesmalldurchlauf"
       ]
      },
      {
       "output_type": "stream",
       "stream": "stdout",
       "text": [
        "\n",
        "37245.651351f\u00fcr einen makesmalldurchlauf"
       ]
      },
      {
       "output_type": "stream",
       "stream": "stdout",
       "text": [
        "\n",
        "37267.6831999f\u00fcr einen makesmalldurchlauf"
       ]
      },
      {
       "output_type": "stream",
       "stream": "stdout",
       "text": [
        "\n",
        "37289.7079799f\u00fcr einen makesmalldurchlauf"
       ]
      },
      {
       "output_type": "stream",
       "stream": "stdout",
       "text": [
        "\n",
        "37311.909353f\u00fcr einen makesmalldurchlauf"
       ]
      },
      {
       "output_type": "stream",
       "stream": "stdout",
       "text": [
        "\n",
        "37334.369736f\u00fcr einen makesmalldurchlauf"
       ]
      },
      {
       "output_type": "stream",
       "stream": "stdout",
       "text": [
        "\n",
        "37356.5172949f\u00fcr einen makesmalldurchlauf"
       ]
      },
      {
       "output_type": "stream",
       "stream": "stdout",
       "text": [
        "\n",
        "37379.3023629f\u00fcr einen makesmalldurchlauf"
       ]
      },
      {
       "output_type": "stream",
       "stream": "stdout",
       "text": [
        "\n",
        "37401.4198308f\u00fcr einen makesmalldurchlauf"
       ]
      },
      {
       "output_type": "stream",
       "stream": "stdout",
       "text": [
        "\n",
        "37423.4603808f\u00fcr einen makesmalldurchlauf"
       ]
      },
      {
       "output_type": "stream",
       "stream": "stdout",
       "text": [
        "\n",
        "37445.468812f\u00fcr einen makesmalldurchlauf"
       ]
      },
      {
       "output_type": "stream",
       "stream": "stdout",
       "text": [
        "\n",
        "37467.5063779f\u00fcr einen makesmalldurchlauf"
       ]
      },
      {
       "output_type": "stream",
       "stream": "stdout",
       "text": [
        "\n",
        "37489.5449958f\u00fcr einen makesmalldurchlauf"
       ]
      },
      {
       "output_type": "stream",
       "stream": "stdout",
       "text": [
        "\n",
        "37511.6169989f\u00fcr einen makesmalldurchlauf"
       ]
      },
      {
       "output_type": "stream",
       "stream": "stdout",
       "text": [
        "\n",
        "37533.7659068f\u00fcr einen makesmalldurchlauf"
       ]
      },
      {
       "output_type": "stream",
       "stream": "stdout",
       "text": [
        "\n",
        "37555.840132f\u00fcr einen makesmalldurchlauf"
       ]
      },
      {
       "output_type": "stream",
       "stream": "stdout",
       "text": [
        "\n",
        "37577.895793f\u00fcr einen makesmalldurchlauf"
       ]
      },
      {
       "output_type": "stream",
       "stream": "stdout",
       "text": [
        "\n",
        "37599.9797678f\u00fcr einen makesmalldurchlauf"
       ]
      },
      {
       "output_type": "stream",
       "stream": "stdout",
       "text": [
        "\n",
        "37622.037071f\u00fcr einen makesmalldurchlauf"
       ]
      },
      {
       "output_type": "stream",
       "stream": "stdout",
       "text": [
        "\n",
        "37644.1340029f\u00fcr einen makesmalldurchlauf"
       ]
      },
      {
       "output_type": "stream",
       "stream": "stdout",
       "text": [
        "\n",
        "37666.2005639f\u00fcr einen makesmalldurchlauf"
       ]
      },
      {
       "output_type": "stream",
       "stream": "stdout",
       "text": [
        "\n",
        "37688.3565888f\u00fcr einen makesmalldurchlauf"
       ]
      },
      {
       "output_type": "stream",
       "stream": "stdout",
       "text": [
        "\n",
        "37710.457237f\u00fcr einen makesmalldurchlauf"
       ]
      },
      {
       "output_type": "stream",
       "stream": "stdout",
       "text": [
        "\n",
        "37732.499084f\u00fcr einen makesmalldurchlauf"
       ]
      },
      {
       "output_type": "stream",
       "stream": "stdout",
       "text": [
        "\n",
        "37754.517993f\u00fcr einen makesmalldurchlauf"
       ]
      },
      {
       "output_type": "stream",
       "stream": "stdout",
       "text": [
        "\n",
        "37776.6371119f\u00fcr einen makesmalldurchlauf"
       ]
      },
      {
       "output_type": "stream",
       "stream": "stdout",
       "text": [
        "\n",
        "37798.7664418f\u00fcr einen makesmalldurchlauf"
       ]
      },
      {
       "output_type": "stream",
       "stream": "stdout",
       "text": [
        "\n",
        "37820.812284f\u00fcr einen makesmalldurchlauf"
       ]
      },
      {
       "output_type": "stream",
       "stream": "stdout",
       "text": [
        "\n",
        "37842.9423409f\u00fcr einen makesmalldurchlauf"
       ]
      },
      {
       "output_type": "stream",
       "stream": "stdout",
       "text": [
        "\n",
        "37865.0065949f\u00fcr einen makesmalldurchlauf"
       ]
      },
      {
       "output_type": "stream",
       "stream": "stdout",
       "text": [
        "\n",
        "37887.0220199f\u00fcr einen makesmalldurchlauf"
       ]
      },
      {
       "output_type": "stream",
       "stream": "stdout",
       "text": [
        "\n",
        "37909.0422778f\u00fcr einen makesmalldurchlauf"
       ]
      },
      {
       "output_type": "stream",
       "stream": "stdout",
       "text": [
        "\n",
        "37931.0953858f\u00fcr einen makesmalldurchlauf"
       ]
      },
      {
       "output_type": "stream",
       "stream": "stdout",
       "text": [
        "\n",
        "37953.12656f\u00fcr einen makesmalldurchlauf"
       ]
      },
      {
       "output_type": "stream",
       "stream": "stdout",
       "text": [
        "\n",
        "37975.1666019f\u00fcr einen makesmalldurchlauf"
       ]
      },
      {
       "output_type": "stream",
       "stream": "stdout",
       "text": [
        "\n",
        "37997.206497f\u00fcr einen makesmalldurchlauf"
       ]
      },
      {
       "output_type": "stream",
       "stream": "stdout",
       "text": [
        "\n",
        "38019.2395029f\u00fcr einen makesmalldurchlauf"
       ]
      },
      {
       "output_type": "stream",
       "stream": "stdout",
       "text": [
        "\n",
        "38041.271081f\u00fcr einen makesmalldurchlauf"
       ]
      },
      {
       "output_type": "stream",
       "stream": "stdout",
       "text": [
        "\n",
        "38063.292625f\u00fcr einen makesmalldurchlauf"
       ]
      },
      {
       "output_type": "stream",
       "stream": "stdout",
       "text": [
        "\n",
        "38085.3186328f\u00fcr einen makesmalldurchlauf"
       ]
      },
      {
       "output_type": "stream",
       "stream": "stdout",
       "text": [
        "\n",
        "38107.3284359f\u00fcr einen makesmalldurchlauf"
       ]
      },
      {
       "output_type": "stream",
       "stream": "stdout",
       "text": [
        "\n",
        "38129.4105308f\u00fcr einen makesmalldurchlauf"
       ]
      },
      {
       "output_type": "stream",
       "stream": "stdout",
       "text": [
        "\n",
        "38151.4562428f\u00fcr einen makesmalldurchlauf"
       ]
      },
      {
       "output_type": "stream",
       "stream": "stdout",
       "text": [
        "\n",
        "38173.433059f\u00fcr einen makesmalldurchlauf"
       ]
      },
      {
       "output_type": "stream",
       "stream": "stdout",
       "text": [
        "\n",
        "38195.4159858f\u00fcr einen makesmalldurchlauf"
       ]
      },
      {
       "output_type": "stream",
       "stream": "stdout",
       "text": [
        "\n",
        "38217.4870789f\u00fcr einen makesmalldurchlauf"
       ]
      },
      {
       "output_type": "stream",
       "stream": "stdout",
       "text": [
        "\n",
        "38239.5392308f\u00fcr einen makesmalldurchlauf"
       ]
      },
      {
       "output_type": "stream",
       "stream": "stdout",
       "text": [
        "\n",
        "38261.4987869f\u00fcr einen makesmalldurchlauf"
       ]
      },
      {
       "output_type": "stream",
       "stream": "stdout",
       "text": [
        "\n",
        "38283.414825f\u00fcr einen makesmalldurchlauf"
       ]
      },
      {
       "output_type": "stream",
       "stream": "stdout",
       "text": [
        "\n",
        "38305.3164549f\u00fcr einen makesmalldurchlauf"
       ]
      },
      {
       "output_type": "stream",
       "stream": "stdout",
       "text": [
        "\n",
        "38327.252285f\u00fcr einen makesmalldurchlauf"
       ]
      },
      {
       "output_type": "stream",
       "stream": "stdout",
       "text": [
        "\n",
        "38349.3322408f\u00fcr einen makesmalldurchlauf"
       ]
      },
      {
       "output_type": "stream",
       "stream": "stdout",
       "text": [
        "\n",
        "38371.467644f\u00fcr einen makesmalldurchlauf"
       ]
      },
      {
       "output_type": "stream",
       "stream": "stdout",
       "text": [
        "\n",
        "38393.5796249f\u00fcr einen makesmalldurchlauf"
       ]
      },
      {
       "output_type": "stream",
       "stream": "stdout",
       "text": [
        "\n",
        "38415.569777f\u00fcr einen makesmalldurchlauf"
       ]
      },
      {
       "output_type": "stream",
       "stream": "stdout",
       "text": [
        "\n",
        "38437.5539589f\u00fcr einen makesmalldurchlauf"
       ]
      },
      {
       "output_type": "stream",
       "stream": "stdout",
       "text": [
        "\n",
        "38459.5093648f\u00fcr einen makesmalldurchlauf"
       ]
      },
      {
       "output_type": "stream",
       "stream": "stdout",
       "text": [
        "\n",
        "38481.4825909f\u00fcr einen makesmalldurchlauf"
       ]
      },
      {
       "output_type": "stream",
       "stream": "stdout",
       "text": [
        "\n",
        "38503.444798f\u00fcr einen makesmalldurchlauf"
       ]
      },
      {
       "output_type": "stream",
       "stream": "stdout",
       "text": [
        "\n",
        "38525.449836f\u00fcr einen makesmalldurchlauf"
       ]
      },
      {
       "output_type": "stream",
       "stream": "stdout",
       "text": [
        "\n",
        "38547.4169319f\u00fcr einen makesmalldurchlauf"
       ]
      },
      {
       "output_type": "stream",
       "stream": "stdout",
       "text": [
        "\n",
        "38569.4512448f\u00fcr einen makesmalldurchlauf"
       ]
      },
      {
       "output_type": "stream",
       "stream": "stdout",
       "text": [
        "\n",
        "38591.475147f\u00fcr einen makesmalldurchlauf"
       ]
      },
      {
       "output_type": "stream",
       "stream": "stdout",
       "text": [
        "\n",
        "38613.4369428f\u00fcr einen makesmalldurchlauf"
       ]
      },
      {
       "output_type": "stream",
       "stream": "stdout",
       "text": [
        "\n",
        "38635.4431899f\u00fcr einen makesmalldurchlauf"
       ]
      },
      {
       "output_type": "stream",
       "stream": "stdout",
       "text": [
        "\n",
        "38657.4094059f\u00fcr einen makesmalldurchlauf"
       ]
      },
      {
       "output_type": "stream",
       "stream": "stdout",
       "text": [
        "\n",
        "38679.369288f\u00fcr einen makesmalldurchlauf"
       ]
      },
      {
       "output_type": "stream",
       "stream": "stdout",
       "text": [
        "\n",
        "38701.3684518f\u00fcr einen makesmalldurchlauf"
       ]
      },
      {
       "output_type": "stream",
       "stream": "stdout",
       "text": [
        "\n",
        "38723.2992358f\u00fcr einen makesmalldurchlauf"
       ]
      },
      {
       "output_type": "stream",
       "stream": "stdout",
       "text": [
        "\n",
        "38745.2667229f\u00fcr einen makesmalldurchlauf"
       ]
      },
      {
       "output_type": "stream",
       "stream": "stdout",
       "text": [
        "\n",
        "38767.2216759f\u00fcr einen makesmalldurchlauf"
       ]
      },
      {
       "output_type": "stream",
       "stream": "stdout",
       "text": [
        "\n",
        "38790.830802f\u00fcr einen makesmalldurchlauf"
       ]
      },
      {
       "output_type": "stream",
       "stream": "stdout",
       "text": [
        "\n",
        "38814.7338128f\u00fcr einen makesmalldurchlauf"
       ]
      },
      {
       "output_type": "stream",
       "stream": "stdout",
       "text": [
        "\n",
        "38838.465214f\u00fcr einen makesmalldurchlauf"
       ]
      },
      {
       "output_type": "stream",
       "stream": "stdout",
       "text": [
        "\n",
        "38861.8960068f\u00fcr einen makesmalldurchlauf"
       ]
      },
      {
       "output_type": "stream",
       "stream": "stdout",
       "text": [
        "\n",
        "38885.8726239f\u00fcr einen makesmalldurchlauf"
       ]
      },
      {
       "output_type": "stream",
       "stream": "stdout",
       "text": [
        "\n",
        "38909.7416329f\u00fcr einen makesmalldurchlauf"
       ]
      },
      {
       "output_type": "stream",
       "stream": "stdout",
       "text": [
        "\n",
        "38933.5713489f\u00fcr einen makesmalldurchlauf"
       ]
      },
      {
       "output_type": "stream",
       "stream": "stdout",
       "text": [
        "\n",
        "38957.850358f\u00fcr einen makesmalldurchlauf"
       ]
      },
      {
       "output_type": "stream",
       "stream": "stdout",
       "text": [
        "\n",
        "38981.709738f\u00fcr einen makesmalldurchlauf"
       ]
      },
      {
       "output_type": "stream",
       "stream": "stdout",
       "text": [
        "\n",
        "39005.9706478f\u00fcr einen makesmalldurchlauf"
       ]
      },
      {
       "output_type": "stream",
       "stream": "stdout",
       "text": [
        "\n",
        "39029.744787f\u00fcr einen makesmalldurchlauf"
       ]
      },
      {
       "output_type": "stream",
       "stream": "stdout",
       "text": [
        "\n",
        "39053.608124f\u00fcr einen makesmalldurchlauf"
       ]
      },
      {
       "output_type": "stream",
       "stream": "stdout",
       "text": [
        "\n",
        "39077.5444129f\u00fcr einen makesmalldurchlauf"
       ]
      },
      {
       "output_type": "stream",
       "stream": "stdout",
       "text": [
        "\n",
        "39101.4090459f\u00fcr einen makesmalldurchlauf"
       ]
      },
      {
       "output_type": "stream",
       "stream": "stdout",
       "text": [
        "\n",
        "39125.301636f\u00fcr einen makesmalldurchlauf"
       ]
      },
      {
       "output_type": "stream",
       "stream": "stdout",
       "text": [
        "\n",
        "39149.5164289f\u00fcr einen makesmalldurchlauf"
       ]
      },
      {
       "output_type": "stream",
       "stream": "stdout",
       "text": [
        "\n",
        "39173.2819338f\u00fcr einen makesmalldurchlauf"
       ]
      },
      {
       "output_type": "stream",
       "stream": "stdout",
       "text": [
        "\n",
        "39197.2150128f\u00fcr einen makesmalldurchlauf"
       ]
      },
      {
       "output_type": "stream",
       "stream": "stdout",
       "text": [
        "\n",
        "39221.124686f\u00fcr einen makesmalldurchlauf"
       ]
      },
      {
       "output_type": "stream",
       "stream": "stdout",
       "text": [
        "\n",
        "39245.246706f\u00fcr einen makesmalldurchlauf"
       ]
      },
      {
       "output_type": "stream",
       "stream": "stdout",
       "text": [
        "\n",
        "39269.016474f\u00fcr einen makesmalldurchlauf"
       ]
      },
      {
       "output_type": "stream",
       "stream": "stdout",
       "text": [
        "\n",
        "39292.8027258f\u00fcr einen makesmalldurchlauf"
       ]
      },
      {
       "output_type": "stream",
       "stream": "stdout",
       "text": [
        "\n",
        "39316.9442379f\u00fcr einen makesmalldurchlauf"
       ]
      },
      {
       "output_type": "stream",
       "stream": "stdout",
       "text": [
        "\n",
        "39341.877286f\u00fcr einen makesmalldurchlauf"
       ]
      },
      {
       "output_type": "stream",
       "stream": "stdout",
       "text": [
        "\n",
        "39365.831563f\u00fcr einen makesmalldurchlauf"
       ]
      },
      {
       "output_type": "stream",
       "stream": "stdout",
       "text": [
        "\n",
        "39390.53385f\u00fcr einen makesmalldurchlauf"
       ]
      },
      {
       "output_type": "stream",
       "stream": "stdout",
       "text": [
        "\n",
        "39415.3575048f\u00fcr einen makesmalldurchlauf"
       ]
      },
      {
       "output_type": "stream",
       "stream": "stdout",
       "text": [
        "\n",
        "39440.403759f\u00fcr einen makesmalldurchlauf"
       ]
      },
      {
       "output_type": "stream",
       "stream": "stdout",
       "text": [
        "\n",
        "39465.6708789f\u00fcr einen makesmalldurchlauf"
       ]
      },
      {
       "output_type": "stream",
       "stream": "stdout",
       "text": [
        "\n",
        "39490.8007309f\u00fcr einen makesmalldurchlauf"
       ]
      },
      {
       "output_type": "stream",
       "stream": "stdout",
       "text": [
        "\n",
        "39515.8078249f\u00fcr einen makesmalldurchlauf"
       ]
      },
      {
       "output_type": "stream",
       "stream": "stdout",
       "text": [
        "\n",
        "39540.4689598f\u00fcr einen makesmalldurchlauf"
       ]
      },
      {
       "output_type": "stream",
       "stream": "stdout",
       "text": [
        "\n",
        "39565.3014109f\u00fcr einen makesmalldurchlauf"
       ]
      },
      {
       "output_type": "stream",
       "stream": "stdout",
       "text": [
        "\n",
        "39590.1796849f\u00fcr einen makesmalldurchlauf"
       ]
      },
      {
       "output_type": "stream",
       "stream": "stdout",
       "text": [
        "\n",
        "39614.902642f\u00fcr einen makesmalldurchlauf"
       ]
      },
      {
       "output_type": "stream",
       "stream": "stdout",
       "text": [
        "\n",
        "39639.7899878f\u00fcr einen makesmalldurchlauf"
       ]
      },
      {
       "output_type": "stream",
       "stream": "stdout",
       "text": [
        "\n",
        "39664.6718299f\u00fcr einen makesmalldurchlauf"
       ]
      },
      {
       "output_type": "stream",
       "stream": "stdout",
       "text": [
        "\n",
        "39689.5372899f\u00fcr einen makesmalldurchlauf"
       ]
      },
      {
       "output_type": "stream",
       "stream": "stdout",
       "text": [
        "\n",
        "39714.8001239f\u00fcr einen makesmalldurchlauf"
       ]
      },
      {
       "output_type": "stream",
       "stream": "stdout",
       "text": [
        "\n",
        "39739.7841399f\u00fcr einen makesmalldurchlauf"
       ]
      },
      {
       "output_type": "stream",
       "stream": "stdout",
       "text": [
        "\n",
        "39764.995039f\u00fcr einen makesmalldurchlauf"
       ]
      },
      {
       "output_type": "stream",
       "stream": "stdout",
       "text": [
        "\n",
        "39790.1238329f\u00fcr einen makesmalldurchlauf"
       ]
      },
      {
       "output_type": "stream",
       "stream": "stdout",
       "text": [
        "\n",
        "39814.6642668f\u00fcr einen makesmalldurchlauf"
       ]
      },
      {
       "output_type": "stream",
       "stream": "stdout",
       "text": [
        "\n",
        "39839.6639819f\u00fcr einen makesmalldurchlauf"
       ]
      },
      {
       "output_type": "stream",
       "stream": "stdout",
       "text": [
        "\n",
        "39864.8172128f\u00fcr einen makesmalldurchlauf"
       ]
      },
      {
       "output_type": "stream",
       "stream": "stdout",
       "text": [
        "\n",
        "39890.0563478f\u00fcr einen makesmalldurchlauf"
       ]
      },
      {
       "output_type": "stream",
       "stream": "stdout",
       "text": [
        "\n",
        "39914.9077148f\u00fcr einen makesmalldurchlauf"
       ]
      },
      {
       "output_type": "stream",
       "stream": "stdout",
       "text": [
        "\n",
        "39939.8646669f\u00fcr einen makesmalldurchlauf"
       ]
      },
      {
       "output_type": "stream",
       "stream": "stdout",
       "text": [
        "\n",
        "39964.4900119f\u00fcr einen makesmalldurchlauf"
       ]
      },
      {
       "output_type": "stream",
       "stream": "stdout",
       "text": [
        "\n",
        "39989.3282149f\u00fcr einen makesmalldurchlauf"
       ]
      },
      {
       "output_type": "stream",
       "stream": "stdout",
       "text": [
        "\n",
        "40014.2955508f\u00fcr einen makesmalldurchlauf"
       ]
      },
      {
       "output_type": "stream",
       "stream": "stdout",
       "text": [
        "\n",
        "40039.0573108f\u00fcr einen makesmalldurchlauf"
       ]
      },
      {
       "output_type": "stream",
       "stream": "stdout",
       "text": [
        "\n",
        "40063.954026f\u00fcr einen makesmalldurchlauf"
       ]
      },
      {
       "output_type": "stream",
       "stream": "stdout",
       "text": [
        "\n",
        "40089.2267969f\u00fcr einen makesmalldurchlauf"
       ]
      },
      {
       "output_type": "stream",
       "stream": "stdout",
       "text": [
        "\n",
        "40114.406559f\u00fcr einen makesmalldurchlauf"
       ]
      },
      {
       "output_type": "stream",
       "stream": "stdout",
       "text": [
        "\n",
        "40139.6872358f\u00fcr einen makesmalldurchlauf"
       ]
      },
      {
       "output_type": "stream",
       "stream": "stdout",
       "text": [
        "\n",
        "40164.5876808f\u00fcr einen makesmalldurchlauf"
       ]
      },
      {
       "output_type": "stream",
       "stream": "stdout",
       "text": [
        "\n",
        "40189.5684309f\u00fcr einen makesmalldurchlauf"
       ]
      },
      {
       "output_type": "stream",
       "stream": "stdout",
       "text": [
        "\n",
        "40214.958967f\u00fcr einen makesmalldurchlauf"
       ]
      },
      {
       "output_type": "stream",
       "stream": "stdout",
       "text": [
        "\n",
        "40239.9880569f\u00fcr einen makesmalldurchlauf"
       ]
      },
      {
       "output_type": "stream",
       "stream": "stdout",
       "text": [
        "\n",
        "40264.714922f\u00fcr einen makesmalldurchlauf"
       ]
      },
      {
       "output_type": "stream",
       "stream": "stdout",
       "text": [
        "\n",
        "40290.3084168f\u00fcr einen makesmalldurchlauf"
       ]
      },
      {
       "output_type": "stream",
       "stream": "stdout",
       "text": [
        "\n",
        "40316.0875189f\u00fcr einen makesmalldurchlauf"
       ]
      },
      {
       "output_type": "stream",
       "stream": "stdout",
       "text": [
        "\n",
        "40341.0209889f\u00fcr einen makesmalldurchlauf"
       ]
      },
      {
       "output_type": "stream",
       "stream": "stdout",
       "text": [
        "\n",
        "40365.9587028f\u00fcr einen makesmalldurchlauf"
       ]
      },
      {
       "output_type": "stream",
       "stream": "stdout",
       "text": [
        "\n",
        "40390.8870988f\u00fcr einen makesmalldurchlauf"
       ]
      },
      {
       "output_type": "stream",
       "stream": "stdout",
       "text": [
        "\n",
        "40416.0654008f\u00fcr einen makesmalldurchlauf"
       ]
      },
      {
       "output_type": "stream",
       "stream": "stdout",
       "text": [
        "\n",
        "40441.6368439f\u00fcr einen makesmalldurchlauf"
       ]
      },
      {
       "output_type": "stream",
       "stream": "stdout",
       "text": [
        "\n",
        "40467.2404239f\u00fcr einen makesmalldurchlauf"
       ]
      },
      {
       "output_type": "stream",
       "stream": "stdout",
       "text": [
        "\n",
        "40493.366792f\u00fcr einen makesmalldurchlauf"
       ]
      },
      {
       "output_type": "stream",
       "stream": "stdout",
       "text": [
        "\n",
        "40518.9564929f\u00fcr einen makesmalldurchlauf"
       ]
      },
      {
       "output_type": "stream",
       "stream": "stdout",
       "text": [
        "\n",
        "40544.0803449f\u00fcr einen makesmalldurchlauf"
       ]
      },
      {
       "output_type": "stream",
       "stream": "stdout",
       "text": [
        "\n",
        "40569.057482f\u00fcr einen makesmalldurchlauf"
       ]
      },
      {
       "output_type": "stream",
       "stream": "stdout",
       "text": [
        "\n",
        "40591.282635f\u00fcr einen makesmalldurchlauf"
       ]
      },
      {
       "output_type": "stream",
       "stream": "stdout",
       "text": [
        "\n",
        "40613.4531178f\u00fcr einen makesmalldurchlauf"
       ]
      },
      {
       "output_type": "stream",
       "stream": "stdout",
       "text": [
        "\n",
        "40635.6227589f\u00fcr einen makesmalldurchlauf"
       ]
      },
      {
       "output_type": "stream",
       "stream": "stdout",
       "text": [
        "\n",
        "40657.8921778f\u00fcr einen makesmalldurchlauf"
       ]
      },
      {
       "output_type": "stream",
       "stream": "stdout",
       "text": [
        "\n",
        "40680.0260048f\u00fcr einen makesmalldurchlauf"
       ]
      },
      {
       "output_type": "stream",
       "stream": "stdout",
       "text": [
        "\n",
        "40702.0076208f\u00fcr einen makesmalldurchlauf"
       ]
      },
      {
       "output_type": "stream",
       "stream": "stdout",
       "text": [
        "\n",
        "40724.1289489f\u00fcr einen makesmalldurchlauf"
       ]
      },
      {
       "output_type": "stream",
       "stream": "stdout",
       "text": [
        "\n",
        "40746.2193398f\u00fcr einen makesmalldurchlauf"
       ]
      },
      {
       "output_type": "stream",
       "stream": "stdout",
       "text": [
        "\n",
        "40768.4347088f\u00fcr einen makesmalldurchlauf"
       ]
      },
      {
       "output_type": "stream",
       "stream": "stdout",
       "text": [
        "\n",
        "40790.4296329f\u00fcr einen makesmalldurchlauf"
       ]
      },
      {
       "output_type": "stream",
       "stream": "stdout",
       "text": [
        "\n",
        "40812.6386209f\u00fcr einen makesmalldurchlauf"
       ]
      },
      {
       "output_type": "stream",
       "stream": "stdout",
       "text": [
        "\n",
        "40834.802274f\u00fcr einen makesmalldurchlauf"
       ]
      },
      {
       "output_type": "stream",
       "stream": "stdout",
       "text": [
        "\n",
        "40856.979295f\u00fcr einen makesmalldurchlauf"
       ]
      },
      {
       "output_type": "stream",
       "stream": "stdout",
       "text": [
        "\n",
        "40879.1479709f\u00fcr einen makesmalldurchlauf"
       ]
      },
      {
       "output_type": "stream",
       "stream": "stdout",
       "text": [
        "\n",
        "40901.1710029f\u00fcr einen makesmalldurchlauf"
       ]
      },
      {
       "output_type": "stream",
       "stream": "stdout",
       "text": [
        "\n",
        "40923.3287649f\u00fcr einen makesmalldurchlauf"
       ]
      },
      {
       "output_type": "stream",
       "stream": "stdout",
       "text": [
        "\n",
        "40945.767833f\u00fcr einen makesmalldurchlauf"
       ]
      },
      {
       "output_type": "stream",
       "stream": "stdout",
       "text": [
        "\n",
        "40967.8527679f\u00fcr einen makesmalldurchlauf"
       ]
      },
      {
       "output_type": "stream",
       "stream": "stdout",
       "text": [
        "\n",
        "40989.9035509f\u00fcr einen makesmalldurchlauf"
       ]
      },
      {
       "output_type": "stream",
       "stream": "stdout",
       "text": [
        "\n",
        "41011.981143f\u00fcr einen makesmalldurchlauf"
       ]
      },
      {
       "output_type": "stream",
       "stream": "stdout",
       "text": [
        "\n",
        "41034.0883589f\u00fcr einen makesmalldurchlauf"
       ]
      },
      {
       "output_type": "stream",
       "stream": "stdout",
       "text": [
        "\n",
        "41056.154469f\u00fcr einen makesmalldurchlauf"
       ]
      },
      {
       "output_type": "stream",
       "stream": "stdout",
       "text": [
        "\n",
        "41078.2500489f\u00fcr einen makesmalldurchlauf"
       ]
      },
      {
       "output_type": "stream",
       "stream": "stdout",
       "text": [
        "\n",
        "41100.4009979f\u00fcr einen makesmalldurchlauf"
       ]
      },
      {
       "output_type": "stream",
       "stream": "stdout",
       "text": [
        "\n",
        "41122.490274f\u00fcr einen makesmalldurchlauf"
       ]
      },
      {
       "output_type": "stream",
       "stream": "stdout",
       "text": [
        "\n",
        "41144.554924f\u00fcr einen makesmalldurchlauf"
       ]
      },
      {
       "output_type": "stream",
       "stream": "stdout",
       "text": [
        "\n",
        "41166.6034789f\u00fcr einen makesmalldurchlauf"
       ]
      },
      {
       "output_type": "stream",
       "stream": "stdout",
       "text": [
        "\n",
        "41188.5816619f\u00fcr einen makesmalldurchlauf"
       ]
      },
      {
       "output_type": "stream",
       "stream": "stdout",
       "text": [
        "\n",
        "41210.604826f\u00fcr einen makesmalldurchlauf"
       ]
      },
      {
       "output_type": "stream",
       "stream": "stdout",
       "text": [
        "\n",
        "41232.548954f\u00fcr einen makesmalldurchlauf"
       ]
      },
      {
       "output_type": "stream",
       "stream": "stdout",
       "text": [
        "\n",
        "41254.6283529f\u00fcr einen makesmalldurchlauf"
       ]
      },
      {
       "output_type": "stream",
       "stream": "stdout",
       "text": [
        "\n",
        "41276.585892f\u00fcr einen makesmalldurchlauf"
       ]
      },
      {
       "output_type": "stream",
       "stream": "stdout",
       "text": [
        "\n",
        "41298.5877368f\u00fcr einen makesmalldurchlauf"
       ]
      },
      {
       "output_type": "stream",
       "stream": "stdout",
       "text": [
        "\n",
        "41320.6069438f\u00fcr einen makesmalldurchlauf"
       ]
      },
      {
       "output_type": "stream",
       "stream": "stdout",
       "text": [
        "\n",
        "41342.6089599f\u00fcr einen makesmalldurchlauf"
       ]
      },
      {
       "output_type": "stream",
       "stream": "stdout",
       "text": [
        "\n",
        "41364.5595179f\u00fcr einen makesmalldurchlauf"
       ]
      },
      {
       "output_type": "stream",
       "stream": "stdout",
       "text": [
        "\n",
        "41386.551409f\u00fcr einen makesmalldurchlauf"
       ]
      },
      {
       "output_type": "stream",
       "stream": "stdout",
       "text": [
        "\n",
        "41408.5242479f\u00fcr einen makesmalldurchlauf"
       ]
      },
      {
       "output_type": "stream",
       "stream": "stdout",
       "text": [
        "\n",
        "41430.5924778f\u00fcr einen makesmalldurchlauf"
       ]
      },
      {
       "output_type": "stream",
       "stream": "stdout",
       "text": [
        "\n",
        "41452.574513f\u00fcr einen makesmalldurchlauf"
       ]
      },
      {
       "output_type": "stream",
       "stream": "stdout",
       "text": [
        "\n",
        "41474.5436249f\u00fcr einen makesmalldurchlauf"
       ]
      },
      {
       "output_type": "stream",
       "stream": "stdout",
       "text": [
        "\n",
        "41496.53826f\u00fcr einen makesmalldurchlauf"
       ]
      },
      {
       "output_type": "stream",
       "stream": "stdout",
       "text": [
        "\n",
        "41518.5554979f\u00fcr einen makesmalldurchlauf"
       ]
      },
      {
       "output_type": "stream",
       "stream": "stdout",
       "text": [
        "\n",
        "41540.6290288f\u00fcr einen makesmalldurchlauf"
       ]
      },
      {
       "output_type": "stream",
       "stream": "stdout",
       "text": [
        "\n",
        "41562.5764489f\u00fcr einen makesmalldurchlauf"
       ]
      },
      {
       "output_type": "stream",
       "stream": "stdout",
       "text": [
        "\n",
        "41584.5571809f\u00fcr einen makesmalldurchlauf"
       ]
      },
      {
       "output_type": "stream",
       "stream": "stdout",
       "text": [
        "\n",
        "41606.6156168f\u00fcr einen makesmalldurchlauf"
       ]
      },
      {
       "output_type": "stream",
       "stream": "stdout",
       "text": [
        "\n",
        "41628.6765029f\u00fcr einen makesmalldurchlauf"
       ]
      },
      {
       "output_type": "stream",
       "stream": "stdout",
       "text": [
        "\n",
        "41650.6268208f\u00fcr einen makesmalldurchlauf"
       ]
      },
      {
       "output_type": "stream",
       "stream": "stdout",
       "text": [
        "\n",
        "41672.6082449f\u00fcr einen makesmalldurchlauf"
       ]
      },
      {
       "output_type": "stream",
       "stream": "stdout",
       "text": [
        "\n",
        "41694.5863869f\u00fcr einen makesmalldurchlauf"
       ]
      },
      {
       "output_type": "stream",
       "stream": "stdout",
       "text": [
        "\n",
        "41716.6109228f\u00fcr einen makesmalldurchlauf"
       ]
      },
      {
       "output_type": "stream",
       "stream": "stdout",
       "text": [
        "\n",
        "41738.5152769f\u00fcr einen makesmalldurchlauf"
       ]
      },
      {
       "output_type": "stream",
       "stream": "stdout",
       "text": [
        "\n",
        "41760.4854138f\u00fcr einen makesmalldurchlauf"
       ]
      },
      {
       "output_type": "stream",
       "stream": "stdout",
       "text": [
        "\n",
        "41783.2488289f\u00fcr einen makesmalldurchlauf"
       ]
      },
      {
       "output_type": "stream",
       "stream": "stdout",
       "text": [
        "\n",
        "41806.063869f\u00fcr einen makesmalldurchlauf"
       ]
      },
      {
       "output_type": "stream",
       "stream": "stdout",
       "text": [
        "\n",
        "41829.0085599f\u00fcr einen makesmalldurchlauf"
       ]
      },
      {
       "output_type": "stream",
       "stream": "stdout",
       "text": [
        "\n",
        "41851.6659889f\u00fcr einen makesmalldurchlauf"
       ]
      },
      {
       "output_type": "stream",
       "stream": "stdout",
       "text": [
        "\n",
        "41874.3986058f\u00fcr einen makesmalldurchlauf"
       ]
      },
      {
       "output_type": "stream",
       "stream": "stdout",
       "text": [
        "\n",
        "41897.5010748f\u00fcr einen makesmalldurchlauf"
       ]
      },
      {
       "output_type": "stream",
       "stream": "stdout",
       "text": [
        "\n",
        "41920.3784058f\u00fcr einen makesmalldurchlauf"
       ]
      },
      {
       "output_type": "stream",
       "stream": "stdout",
       "text": [
        "\n",
        "41943.000911f\u00fcr einen makesmalldurchlauf"
       ]
      },
      {
       "output_type": "stream",
       "stream": "stdout",
       "text": [
        "\n",
        "41965.82564f\u00fcr einen makesmalldurchlauf"
       ]
      },
      {
       "output_type": "stream",
       "stream": "stdout",
       "text": [
        "\n",
        "41988.0950119f\u00fcr einen makesmalldurchlauf"
       ]
      },
      {
       "output_type": "stream",
       "stream": "stdout",
       "text": [
        "\n",
        "42010.587142f\u00fcr einen makesmalldurchlauf"
       ]
      },
      {
       "output_type": "stream",
       "stream": "stdout",
       "text": [
        "\n",
        "42032.8779089f\u00fcr einen makesmalldurchlauf"
       ]
      },
      {
       "output_type": "stream",
       "stream": "stdout",
       "text": [
        "\n",
        "42055.1809208f\u00fcr einen makesmalldurchlauf"
       ]
      },
      {
       "output_type": "stream",
       "stream": "stdout",
       "text": [
        "\n",
        "42077.6612978f\u00fcr einen makesmalldurchlauf"
       ]
      },
      {
       "output_type": "stream",
       "stream": "stdout",
       "text": [
        "\n",
        "42100.219919f\u00fcr einen makesmalldurchlauf"
       ]
      },
      {
       "output_type": "stream",
       "stream": "stdout",
       "text": [
        "\n",
        "42122.8294759f\u00fcr einen makesmalldurchlauf"
       ]
      },
      {
       "output_type": "stream",
       "stream": "stdout",
       "text": [
        "\n",
        "42145.4630978f\u00fcr einen makesmalldurchlauf"
       ]
      },
      {
       "output_type": "stream",
       "stream": "stdout",
       "text": [
        "\n",
        "42168.4443128f\u00fcr einen makesmalldurchlauf"
       ]
      },
      {
       "output_type": "stream",
       "stream": "stdout",
       "text": [
        "\n",
        "42191.579767f\u00fcr einen makesmalldurchlauf"
       ]
      },
      {
       "output_type": "stream",
       "stream": "stdout",
       "text": [
        "\n",
        "42214.6076188f\u00fcr einen makesmalldurchlauf"
       ]
      },
      {
       "output_type": "stream",
       "stream": "stdout",
       "text": [
        "\n",
        "42238.2537248f\u00fcr einen makesmalldurchlauf"
       ]
      },
      {
       "output_type": "stream",
       "stream": "stdout",
       "text": [
        "\n",
        "42260.8589249f\u00fcr einen makesmalldurchlauf"
       ]
      },
      {
       "output_type": "stream",
       "stream": "stdout",
       "text": [
        "\n",
        "42282.9991748f\u00fcr einen makesmalldurchlauf"
       ]
      },
      {
       "output_type": "stream",
       "stream": "stdout",
       "text": [
        "\n",
        "42305.291472f\u00fcr einen makesmalldurchlauf"
       ]
      },
      {
       "output_type": "stream",
       "stream": "stdout",
       "text": [
        "\n",
        "42328.3049569f\u00fcr einen makesmalldurchlauf"
       ]
      },
      {
       "output_type": "stream",
       "stream": "stdout",
       "text": [
        "\n",
        "42350.927377f\u00fcr einen makesmalldurchlauf"
       ]
      },
      {
       "output_type": "stream",
       "stream": "stdout",
       "text": [
        "\n",
        "42373.7861369f\u00fcr einen makesmalldurchlauf"
       ]
      },
      {
       "output_type": "stream",
       "stream": "stdout",
       "text": [
        "\n",
        "42398.836484f\u00fcr einen makesmalldurchlauf"
       ]
      },
      {
       "output_type": "stream",
       "stream": "stdout",
       "text": [
        "\n",
        "42423.994987f\u00fcr einen makesmalldurchlauf"
       ]
      },
      {
       "output_type": "stream",
       "stream": "stdout",
       "text": [
        "\n",
        "42448.7892489f\u00fcr einen makesmalldurchlauf"
       ]
      },
      {
       "output_type": "stream",
       "stream": "stdout",
       "text": [
        "\n",
        "42474.3991778f\u00fcr einen makesmalldurchlauf"
       ]
      },
      {
       "output_type": "stream",
       "stream": "stdout",
       "text": [
        "\n",
        "42499.0511658f\u00fcr einen makesmalldurchlauf"
       ]
      },
      {
       "output_type": "stream",
       "stream": "stdout",
       "text": [
        "\n",
        "42523.866493f\u00fcr einen makesmalldurchlauf"
       ]
      },
      {
       "output_type": "stream",
       "stream": "stdout",
       "text": [
        "\n",
        "42548.3386919f\u00fcr einen makesmalldurchlauf"
       ]
      },
      {
       "output_type": "stream",
       "stream": "stdout",
       "text": [
        "\n",
        "42572.842216f\u00fcr einen makesmalldurchlauf"
       ]
      },
      {
       "output_type": "stream",
       "stream": "stdout",
       "text": [
        "\n",
        "42597.4637198f\u00fcr einen makesmalldurchlauf"
       ]
      },
      {
       "output_type": "stream",
       "stream": "stdout",
       "text": [
        "\n",
        "42622.216054f\u00fcr einen makesmalldurchlauf"
       ]
      },
      {
       "output_type": "stream",
       "stream": "stdout",
       "text": [
        "\n",
        "42647.1293299f\u00fcr einen makesmalldurchlauf"
       ]
      },
      {
       "output_type": "stream",
       "stream": "stdout",
       "text": [
        "\n",
        "42671.9735329f\u00fcr einen makesmalldurchlauf"
       ]
      },
      {
       "output_type": "stream",
       "stream": "stdout",
       "text": [
        "\n",
        "42696.8736508f\u00fcr einen makesmalldurchlauf"
       ]
      },
      {
       "output_type": "stream",
       "stream": "stdout",
       "text": [
        "\n",
        "42721.822109f\u00fcr einen makesmalldurchlauf"
       ]
      },
      {
       "output_type": "stream",
       "stream": "stdout",
       "text": [
        "\n",
        "42746.5927489f\u00fcr einen makesmalldurchlauf"
       ]
      },
      {
       "output_type": "stream",
       "stream": "stdout",
       "text": [
        "\n",
        "42771.628408f\u00fcr einen makesmalldurchlauf"
       ]
      },
      {
       "output_type": "stream",
       "stream": "stdout",
       "text": [
        "\n",
        "42796.755651f\u00fcr einen makesmalldurchlauf"
       ]
      },
      {
       "output_type": "stream",
       "stream": "stdout",
       "text": [
        "\n",
        "42821.5096688f\u00fcr einen makesmalldurchlauf"
       ]
      },
      {
       "output_type": "stream",
       "stream": "stdout",
       "text": [
        "\n",
        "42847.4502149f\u00fcr einen makesmalldurchlauf"
       ]
      },
      {
       "output_type": "stream",
       "stream": "stdout",
       "text": [
        "\n",
        "42873.0151908f\u00fcr einen makesmalldurchlauf"
       ]
      },
      {
       "output_type": "stream",
       "stream": "stdout",
       "text": [
        "\n",
        "42898.6711509f\u00fcr einen makesmalldurchlauf"
       ]
      },
      {
       "output_type": "stream",
       "stream": "stdout",
       "text": [
        "\n",
        "42924.2520809f\u00fcr einen makesmalldurchlauf"
       ]
      },
      {
       "output_type": "stream",
       "stream": "stdout",
       "text": [
        "\n",
        "42948.4749038f\u00fcr einen makesmalldurchlauf"
       ]
      },
      {
       "output_type": "stream",
       "stream": "stdout",
       "text": [
        "\n",
        "42972.4940619f\u00fcr einen makesmalldurchlauf"
       ]
      },
      {
       "output_type": "stream",
       "stream": "stdout",
       "text": [
        "\n",
        "42994.4921999f\u00fcr einen makesmalldurchlauf"
       ]
      },
      {
       "output_type": "stream",
       "stream": "stdout",
       "text": [
        "\n",
        "43016.656682f\u00fcr einen makesmalldurchlauf"
       ]
      },
      {
       "output_type": "stream",
       "stream": "stdout",
       "text": [
        "\n",
        "43038.8431108f\u00fcr einen makesmalldurchlauf"
       ]
      },
      {
       "output_type": "stream",
       "stream": "stdout",
       "text": [
        "\n",
        "43060.9234388f\u00fcr einen makesmalldurchlauf"
       ]
      },
      {
       "output_type": "stream",
       "stream": "stdout",
       "text": [
        "\n",
        "43061.037874f\u00fcr einen linkerdurchlauf"
       ]
      },
      {
       "output_type": "stream",
       "stream": "stdout",
       "text": [
        "\n",
        "43105.0710318f\u00fcr einen makesmalldurchlauf"
       ]
      },
      {
       "output_type": "stream",
       "stream": "stdout",
       "text": [
        "\n",
        "43127.099977f\u00fcr einen makesmalldurchlauf"
       ]
      },
      {
       "output_type": "stream",
       "stream": "stdout",
       "text": [
        "\n",
        "43149.4986269f\u00fcr einen makesmalldurchlauf"
       ]
      },
      {
       "output_type": "stream",
       "stream": "stdout",
       "text": [
        "\n",
        "43171.5455258f\u00fcr einen makesmalldurchlauf"
       ]
      },
      {
       "output_type": "stream",
       "stream": "stdout",
       "text": [
        "\n",
        "43193.697969f\u00fcr einen makesmalldurchlauf"
       ]
      },
      {
       "output_type": "stream",
       "stream": "stdout",
       "text": [
        "\n",
        "43215.7321959f\u00fcr einen makesmalldurchlauf"
       ]
      },
      {
       "output_type": "stream",
       "stream": "stdout",
       "text": [
        "\n",
        "43237.8366079f\u00fcr einen makesmalldurchlauf"
       ]
      },
      {
       "output_type": "stream",
       "stream": "stdout",
       "text": [
        "\n",
        "43259.8734808f\u00fcr einen makesmalldurchlauf"
       ]
      },
      {
       "output_type": "stream",
       "stream": "stdout",
       "text": [
        "\n",
        "43281.946805f\u00fcr einen makesmalldurchlauf"
       ]
      },
      {
       "output_type": "stream",
       "stream": "stdout",
       "text": [
        "\n",
        "43304.0835869f\u00fcr einen makesmalldurchlauf"
       ]
      },
      {
       "output_type": "stream",
       "stream": "stdout",
       "text": [
        "\n",
        "43326.182874f\u00fcr einen makesmalldurchlauf"
       ]
      },
      {
       "output_type": "stream",
       "stream": "stdout",
       "text": [
        "\n",
        "43348.3081789f\u00fcr einen makesmalldurchlauf"
       ]
      },
      {
       "output_type": "stream",
       "stream": "stdout",
       "text": [
        "\n",
        "43370.4589119f\u00fcr einen makesmalldurchlauf"
       ]
      },
      {
       "output_type": "stream",
       "stream": "stdout",
       "text": [
        "\n",
        "43392.5033569f\u00fcr einen makesmalldurchlauf"
       ]
      },
      {
       "output_type": "stream",
       "stream": "stdout",
       "text": [
        "\n",
        "43414.5353429f\u00fcr einen makesmalldurchlauf"
       ]
      },
      {
       "output_type": "stream",
       "stream": "stdout",
       "text": [
        "\n",
        "43436.597791f\u00fcr einen makesmalldurchlauf"
       ]
      },
      {
       "output_type": "stream",
       "stream": "stdout",
       "text": [
        "\n",
        "43458.6882379f\u00fcr einen makesmalldurchlauf"
       ]
      },
      {
       "output_type": "stream",
       "stream": "stdout",
       "text": [
        "\n",
        "43480.7764139f\u00fcr einen makesmalldurchlauf"
       ]
      },
      {
       "output_type": "stream",
       "stream": "stdout",
       "text": [
        "\n",
        "43502.826371f\u00fcr einen makesmalldurchlauf"
       ]
      },
      {
       "output_type": "stream",
       "stream": "stdout",
       "text": [
        "\n",
        "43524.984797f\u00fcr einen makesmalldurchlauf"
       ]
      },
      {
       "output_type": "stream",
       "stream": "stdout",
       "text": [
        "\n",
        "43547.0180888f\u00fcr einen makesmalldurchlauf"
       ]
      },
      {
       "output_type": "stream",
       "stream": "stdout",
       "text": [
        "\n",
        "43569.039181f\u00fcr einen makesmalldurchlauf"
       ]
      },
      {
       "output_type": "stream",
       "stream": "stdout",
       "text": [
        "\n",
        "43591.0139508f\u00fcr einen makesmalldurchlauf"
       ]
      },
      {
       "output_type": "stream",
       "stream": "stdout",
       "text": [
        "\n",
        "43612.9923799f\u00fcr einen makesmalldurchlauf"
       ]
      },
      {
       "output_type": "stream",
       "stream": "stdout",
       "text": [
        "\n",
        "43635.0115499f\u00fcr einen makesmalldurchlauf"
       ]
      },
      {
       "output_type": "stream",
       "stream": "stdout",
       "text": [
        "\n",
        "43656.9793148f\u00fcr einen makesmalldurchlauf"
       ]
      },
      {
       "output_type": "stream",
       "stream": "stdout",
       "text": [
        "\n",
        "43678.860359f\u00fcr einen makesmalldurchlauf"
       ]
      },
      {
       "output_type": "stream",
       "stream": "stdout",
       "text": [
        "\n",
        "43700.810859f\u00fcr einen makesmalldurchlauf"
       ]
      },
      {
       "output_type": "stream",
       "stream": "stdout",
       "text": [
        "\n",
        "43722.8567898f\u00fcr einen makesmalldurchlauf"
       ]
      },
      {
       "output_type": "stream",
       "stream": "stdout",
       "text": [
        "\n",
        "43744.7867079f\u00fcr einen makesmalldurchlauf"
       ]
      },
      {
       "output_type": "stream",
       "stream": "stdout",
       "text": [
        "\n",
        "43766.7141318f\u00fcr einen makesmalldurchlauf"
       ]
      },
      {
       "output_type": "stream",
       "stream": "stdout",
       "text": [
        "\n",
        "43788.673018f\u00fcr einen makesmalldurchlauf"
       ]
      },
      {
       "output_type": "stream",
       "stream": "stdout",
       "text": [
        "\n",
        "43810.6578748f\u00fcr einen makesmalldurchlauf"
       ]
      },
      {
       "output_type": "stream",
       "stream": "stdout",
       "text": [
        "\n",
        "43832.6144209f\u00fcr einen makesmalldurchlauf"
       ]
      },
      {
       "output_type": "stream",
       "stream": "stdout",
       "text": [
        "\n",
        "43854.605207f\u00fcr einen makesmalldurchlauf"
       ]
      },
      {
       "output_type": "stream",
       "stream": "stdout",
       "text": [
        "\n",
        "43876.6855788f\u00fcr einen makesmalldurchlauf"
       ]
      },
      {
       "output_type": "stream",
       "stream": "stdout",
       "text": [
        "\n",
        "43898.6851308f\u00fcr einen makesmalldurchlauf"
       ]
      },
      {
       "output_type": "stream",
       "stream": "stdout",
       "text": [
        "\n",
        "43920.6701448f\u00fcr einen makesmalldurchlauf"
       ]
      },
      {
       "output_type": "stream",
       "stream": "stdout",
       "text": [
        "\n",
        "43942.6718318f\u00fcr einen makesmalldurchlauf"
       ]
      },
      {
       "output_type": "stream",
       "stream": "stdout",
       "text": [
        "\n",
        "43964.7715299f\u00fcr einen makesmalldurchlauf"
       ]
      },
      {
       "output_type": "stream",
       "stream": "stdout",
       "text": [
        "\n",
        "43986.8229399f\u00fcr einen makesmalldurchlauf"
       ]
      },
      {
       "output_type": "stream",
       "stream": "stdout",
       "text": [
        "\n",
        "44008.8089938f\u00fcr einen makesmalldurchlauf"
       ]
      },
      {
       "output_type": "stream",
       "stream": "stdout",
       "text": [
        "\n",
        "44030.98276f\u00fcr einen makesmalldurchlauf"
       ]
      },
      {
       "output_type": "stream",
       "stream": "stdout",
       "text": [
        "\n",
        "44052.9389319f\u00fcr einen makesmalldurchlauf"
       ]
      },
      {
       "output_type": "stream",
       "stream": "stdout",
       "text": [
        "\n",
        "44075.0156229f\u00fcr einen makesmalldurchlauf"
       ]
      },
      {
       "output_type": "stream",
       "stream": "stdout",
       "text": [
        "\n",
        "44096.963042f\u00fcr einen makesmalldurchlauf"
       ]
      },
      {
       "output_type": "stream",
       "stream": "stdout",
       "text": [
        "\n",
        "44118.8531258f\u00fcr einen makesmalldurchlauf"
       ]
      },
      {
       "output_type": "stream",
       "stream": "stdout",
       "text": [
        "\n",
        "44140.8310509f\u00fcr einen makesmalldurchlauf"
       ]
      },
      {
       "output_type": "stream",
       "stream": "stdout",
       "text": [
        "\n",
        "44162.734596f\u00fcr einen makesmalldurchlauf"
       ]
      },
      {
       "output_type": "stream",
       "stream": "stdout",
       "text": [
        "\n",
        "44185.8955219f\u00fcr einen makesmalldurchlauf"
       ]
      },
      {
       "output_type": "stream",
       "stream": "stdout",
       "text": [
        "\n",
        "44209.7866049f\u00fcr einen makesmalldurchlauf"
       ]
      },
      {
       "output_type": "stream",
       "stream": "stdout",
       "text": [
        "\n",
        "44233.6975548f\u00fcr einen makesmalldurchlauf"
       ]
      },
      {
       "output_type": "stream",
       "stream": "stdout",
       "text": [
        "\n",
        "44257.085114f\u00fcr einen makesmalldurchlauf"
       ]
      },
      {
       "output_type": "stream",
       "stream": "stdout",
       "text": [
        "\n",
        "44280.893466f\u00fcr einen makesmalldurchlauf"
       ]
      },
      {
       "output_type": "stream",
       "stream": "stdout",
       "text": [
        "\n",
        "44304.6659899f\u00fcr einen makesmalldurchlauf"
       ]
      },
      {
       "output_type": "stream",
       "stream": "stdout",
       "text": [
        "\n",
        "44328.4805648f\u00fcr einen makesmalldurchlauf"
       ]
      },
      {
       "output_type": "stream",
       "stream": "stdout",
       "text": [
        "\n",
        "44352.4396088f\u00fcr einen makesmalldurchlauf"
       ]
      },
      {
       "output_type": "stream",
       "stream": "stdout",
       "text": [
        "\n",
        "44376.3713448f\u00fcr einen makesmalldurchlauf"
       ]
      },
      {
       "output_type": "stream",
       "stream": "stdout",
       "text": [
        "\n",
        "44400.6164138f\u00fcr einen makesmalldurchlauf"
       ]
      },
      {
       "output_type": "stream",
       "stream": "stdout",
       "text": [
        "\n",
        "44424.4084568f\u00fcr einen makesmalldurchlauf"
       ]
      },
      {
       "output_type": "stream",
       "stream": "stdout",
       "text": [
        "\n",
        "44448.6810119f\u00fcr einen makesmalldurchlauf"
       ]
      },
      {
       "output_type": "stream",
       "stream": "stdout",
       "text": [
        "\n",
        "44472.4231489f\u00fcr einen makesmalldurchlauf"
       ]
      },
      {
       "output_type": "stream",
       "stream": "stdout",
       "text": [
        "\n",
        "44496.1556559f\u00fcr einen makesmalldurchlauf"
       ]
      },
      {
       "output_type": "stream",
       "stream": "stdout",
       "text": [
        "\n",
        "44519.935591f\u00fcr einen makesmalldurchlauf"
       ]
      },
      {
       "output_type": "stream",
       "stream": "stdout",
       "text": [
        "\n",
        "44543.9347799f\u00fcr einen makesmalldurchlauf"
       ]
      },
      {
       "output_type": "stream",
       "stream": "stdout",
       "text": [
        "\n",
        "44567.8374958f\u00fcr einen makesmalldurchlauf"
       ]
      },
      {
       "output_type": "stream",
       "stream": "stdout",
       "text": [
        "\n",
        "44591.690928f\u00fcr einen makesmalldurchlauf"
       ]
      },
      {
       "output_type": "stream",
       "stream": "stdout",
       "text": [
        "\n",
        "44616.2585518f\u00fcr einen makesmalldurchlauf"
       ]
      },
      {
       "output_type": "stream",
       "stream": "stdout",
       "text": [
        "\n",
        "44640.3068998f\u00fcr einen makesmalldurchlauf"
       ]
      },
      {
       "output_type": "stream",
       "stream": "stdout",
       "text": [
        "\n",
        "44664.1676798f\u00fcr einen makesmalldurchlauf"
       ]
      },
      {
       "output_type": "stream",
       "stream": "stdout",
       "text": [
        "\n",
        "44687.8650298f\u00fcr einen makesmalldurchlauf"
       ]
      },
      {
       "output_type": "stream",
       "stream": "stdout",
       "text": [
        "\n",
        "44711.6152308f\u00fcr einen makesmalldurchlauf"
       ]
      },
      {
       "output_type": "stream",
       "stream": "stdout",
       "text": [
        "\n",
        "44735.348763f\u00fcr einen makesmalldurchlauf"
       ]
      },
      {
       "output_type": "stream",
       "stream": "stdout",
       "text": [
        "\n",
        "44759.4844239f\u00fcr einen makesmalldurchlauf"
       ]
      },
      {
       "output_type": "stream",
       "stream": "stdout",
       "text": [
        "\n",
        "44782.3348398f\u00fcr einen makesmalldurchlauf"
       ]
      },
      {
       "output_type": "stream",
       "stream": "stdout",
       "text": [
        "\n",
        "44804.3476009f\u00fcr einen makesmalldurchlauf"
       ]
      },
      {
       "output_type": "stream",
       "stream": "stdout",
       "text": [
        "\n",
        "44826.3658609f\u00fcr einen makesmalldurchlauf"
       ]
      },
      {
       "output_type": "stream",
       "stream": "stdout",
       "text": [
        "\n",
        "44848.4789288f\u00fcr einen makesmalldurchlauf"
       ]
      },
      {
       "output_type": "stream",
       "stream": "stdout",
       "text": [
        "\n",
        "44870.4980509f\u00fcr einen makesmalldurchlauf"
       ]
      },
      {
       "output_type": "stream",
       "stream": "stdout",
       "text": [
        "\n",
        "44892.5204899f\u00fcr einen makesmalldurchlauf"
       ]
      },
      {
       "output_type": "stream",
       "stream": "stdout",
       "text": [
        "\n",
        "44914.5426519f\u00fcr einen makesmalldurchlauf"
       ]
      },
      {
       "output_type": "stream",
       "stream": "stdout",
       "text": [
        "\n",
        "44936.6633749f\u00fcr einen makesmalldurchlauf"
       ]
      },
      {
       "output_type": "stream",
       "stream": "stdout",
       "text": [
        "\n",
        "44958.7275238f\u00fcr einen makesmalldurchlauf"
       ]
      },
      {
       "output_type": "stream",
       "stream": "stdout",
       "text": [
        "\n",
        "44980.772445f\u00fcr einen makesmalldurchlauf"
       ]
      },
      {
       "output_type": "stream",
       "stream": "stdout",
       "text": [
        "\n",
        "45002.8031528f\u00fcr einen makesmalldurchlauf"
       ]
      },
      {
       "output_type": "stream",
       "stream": "stdout",
       "text": [
        "\n",
        "45024.7827208f\u00fcr einen makesmalldurchlauf"
       ]
      },
      {
       "output_type": "stream",
       "stream": "stdout",
       "text": [
        "\n",
        "45046.7969089f\u00fcr einen makesmalldurchlauf"
       ]
      },
      {
       "output_type": "stream",
       "stream": "stdout",
       "text": [
        "\n",
        "45068.8428068f\u00fcr einen makesmalldurchlauf"
       ]
      },
      {
       "output_type": "stream",
       "stream": "stdout",
       "text": [
        "\n",
        "45090.9114108f\u00fcr einen makesmalldurchlauf"
       ]
      },
      {
       "output_type": "stream",
       "stream": "stdout",
       "text": [
        "\n",
        "45113.0762379f\u00fcr einen makesmalldurchlauf"
       ]
      },
      {
       "output_type": "stream",
       "stream": "stdout",
       "text": [
        "\n",
        "45135.0864489f\u00fcr einen makesmalldurchlauf"
       ]
      },
      {
       "output_type": "stream",
       "stream": "stdout",
       "text": [
        "\n",
        "45157.1229029f\u00fcr einen makesmalldurchlauf"
       ]
      },
      {
       "output_type": "stream",
       "stream": "stdout",
       "text": [
        "\n",
        "45179.1716628f\u00fcr einen makesmalldurchlauf"
       ]
      },
      {
       "output_type": "stream",
       "stream": "stdout",
       "text": [
        "\n",
        "45201.2327788f\u00fcr einen makesmalldurchlauf"
       ]
      },
      {
       "output_type": "stream",
       "stream": "stdout",
       "text": [
        "\n",
        "45223.2877128f\u00fcr einen makesmalldurchlauf"
       ]
      },
      {
       "output_type": "stream",
       "stream": "stdout",
       "text": [
        "\n",
        "45245.383626f\u00fcr einen makesmalldurchlauf"
       ]
      },
      {
       "output_type": "stream",
       "stream": "stdout",
       "text": [
        "\n",
        "45267.640728f\u00fcr einen makesmalldurchlauf"
       ]
      },
      {
       "output_type": "stream",
       "stream": "stdout",
       "text": [
        "\n",
        "45289.762898f\u00fcr einen makesmalldurchlauf"
       ]
      },
      {
       "output_type": "stream",
       "stream": "stdout",
       "text": [
        "\n",
        "45311.8113618f\u00fcr einen makesmalldurchlauf"
       ]
      },
      {
       "output_type": "stream",
       "stream": "stdout",
       "text": [
        "\n",
        "45333.910357f\u00fcr einen makesmalldurchlauf"
       ]
      },
      {
       "output_type": "stream",
       "stream": "stdout",
       "text": [
        "\n",
        "45356.0341609f\u00fcr einen makesmalldurchlauf"
       ]
      },
      {
       "output_type": "stream",
       "stream": "stdout",
       "text": [
        "\n",
        "45378.1394739f\u00fcr einen makesmalldurchlauf"
       ]
      },
      {
       "output_type": "stream",
       "stream": "stdout",
       "text": [
        "\n",
        "45400.109175f\u00fcr einen makesmalldurchlauf"
       ]
      },
      {
       "output_type": "stream",
       "stream": "stdout",
       "text": [
        "\n",
        "45422.1153729f\u00fcr einen makesmalldurchlauf"
       ]
      },
      {
       "output_type": "stream",
       "stream": "stdout",
       "text": [
        "\n",
        "45444.16783f\u00fcr einen makesmalldurchlauf"
       ]
      },
      {
       "output_type": "stream",
       "stream": "stdout",
       "text": [
        "\n",
        "45466.0853138f\u00fcr einen makesmalldurchlauf"
       ]
      },
      {
       "output_type": "stream",
       "stream": "stdout",
       "text": [
        "\n",
        "45488.0824978f\u00fcr einen makesmalldurchlauf"
       ]
      },
      {
       "output_type": "stream",
       "stream": "stdout",
       "text": [
        "\n",
        "45510.1320219f\u00fcr einen makesmalldurchlauf"
       ]
      },
      {
       "output_type": "stream",
       "stream": "stdout",
       "text": [
        "\n",
        "45532.1978528f\u00fcr einen makesmalldurchlauf"
       ]
      },
      {
       "output_type": "stream",
       "stream": "stdout",
       "text": [
        "\n",
        "45554.1679449f\u00fcr einen makesmalldurchlauf"
       ]
      },
      {
       "output_type": "stream",
       "stream": "stdout",
       "text": [
        "\n",
        "45576.1189048f\u00fcr einen makesmalldurchlauf"
       ]
      },
      {
       "output_type": "stream",
       "stream": "stdout",
       "text": [
        "\n",
        "45598.0410879f\u00fcr einen makesmalldurchlauf"
       ]
      },
      {
       "output_type": "stream",
       "stream": "stdout",
       "text": [
        "\n",
        "45620.1324399f\u00fcr einen makesmalldurchlauf"
       ]
      },
      {
       "output_type": "stream",
       "stream": "stdout",
       "text": [
        "\n",
        "45642.1584029f\u00fcr einen makesmalldurchlauf"
       ]
      },
      {
       "output_type": "stream",
       "stream": "stdout",
       "text": [
        "\n",
        "45664.1140468f\u00fcr einen makesmalldurchlauf"
       ]
      },
      {
       "output_type": "stream",
       "stream": "stdout",
       "text": [
        "\n",
        "45686.0335898f\u00fcr einen makesmalldurchlauf"
       ]
      },
      {
       "output_type": "stream",
       "stream": "stdout",
       "text": [
        "\n",
        "45707.9663019f\u00fcr einen makesmalldurchlauf"
       ]
      },
      {
       "output_type": "stream",
       "stream": "stdout",
       "text": [
        "\n",
        "45729.9346049f\u00fcr einen makesmalldurchlauf"
       ]
      },
      {
       "output_type": "stream",
       "stream": "stdout",
       "text": [
        "\n",
        "45751.9557629f\u00fcr einen makesmalldurchlauf"
       ]
      },
      {
       "output_type": "stream",
       "stream": "stdout",
       "text": [
        "\n",
        "45774.0359139f\u00fcr einen makesmalldurchlauf"
       ]
      },
      {
       "output_type": "stream",
       "stream": "stdout",
       "text": [
        "\n",
        "45796.146976f\u00fcr einen makesmalldurchlauf"
       ]
      },
      {
       "output_type": "stream",
       "stream": "stdout",
       "text": [
        "\n",
        "45818.087497f\u00fcr einen makesmalldurchlauf"
       ]
      },
      {
       "output_type": "stream",
       "stream": "stdout",
       "text": [
        "\n",
        "45840.0731599f\u00fcr einen makesmalldurchlauf"
       ]
      },
      {
       "output_type": "stream",
       "stream": "stdout",
       "text": [
        "\n",
        "45862.0689368f\u00fcr einen makesmalldurchlauf"
       ]
      },
      {
       "output_type": "stream",
       "stream": "stdout",
       "text": [
        "\n",
        "45884.009105f\u00fcr einen makesmalldurchlauf"
       ]
      },
      {
       "output_type": "stream",
       "stream": "stdout",
       "text": [
        "\n",
        "45905.9153929f\u00fcr einen makesmalldurchlauf"
       ]
      },
      {
       "output_type": "stream",
       "stream": "stdout",
       "text": [
        "\n",
        "45927.8591659f\u00fcr einen makesmalldurchlauf"
       ]
      },
      {
       "output_type": "stream",
       "stream": "stdout",
       "text": [
        "\n",
        "45949.9905119f\u00fcr einen makesmalldurchlauf"
       ]
      },
      {
       "output_type": "stream",
       "stream": "stdout",
       "text": [
        "\n",
        "45971.9539449f\u00fcr einen makesmalldurchlauf"
       ]
      },
      {
       "output_type": "stream",
       "stream": "stdout",
       "text": [
        "\n",
        "45994.0311489f\u00fcr einen makesmalldurchlauf"
       ]
      },
      {
       "output_type": "stream",
       "stream": "stdout",
       "text": [
        "\n",
        "46016.17924f\u00fcr einen makesmalldurchlauf"
       ]
      },
      {
       "output_type": "stream",
       "stream": "stdout",
       "text": [
        "\n",
        "46038.358815f\u00fcr einen makesmalldurchlauf"
       ]
      },
      {
       "output_type": "stream",
       "stream": "stdout",
       "text": [
        "\n",
        "46060.445015f\u00fcr einen makesmalldurchlauf"
       ]
      },
      {
       "output_type": "stream",
       "stream": "stdout",
       "text": [
        "\n",
        "46082.535852f\u00fcr einen makesmalldurchlauf"
       ]
      },
      {
       "output_type": "stream",
       "stream": "stdout",
       "text": [
        "\n",
        "46104.6845808f\u00fcr einen makesmalldurchlauf"
       ]
      },
      {
       "output_type": "stream",
       "stream": "stdout",
       "text": [
        "\n",
        "46126.906456f\u00fcr einen makesmalldurchlauf"
       ]
      },
      {
       "output_type": "stream",
       "stream": "stdout",
       "text": [
        "\n",
        "46149.0366309f\u00fcr einen makesmalldurchlauf"
       ]
      },
      {
       "output_type": "stream",
       "stream": "stdout",
       "text": [
        "\n",
        "46171.1505079f\u00fcr einen makesmalldurchlauf"
       ]
      },
      {
       "output_type": "stream",
       "stream": "stdout",
       "text": [
        "\n",
        "46193.2625849f\u00fcr einen makesmalldurchlauf"
       ]
      },
      {
       "output_type": "stream",
       "stream": "stdout",
       "text": [
        "\n",
        "46215.437536f\u00fcr einen makesmalldurchlauf"
       ]
      },
      {
       "output_type": "stream",
       "stream": "stdout",
       "text": [
        "\n",
        "46237.527045f\u00fcr einen makesmalldurchlauf"
       ]
      },
      {
       "output_type": "stream",
       "stream": "stdout",
       "text": [
        "\n",
        "46259.5871329f\u00fcr einen makesmalldurchlauf"
       ]
      },
      {
       "output_type": "stream",
       "stream": "stdout",
       "text": [
        "\n",
        "46281.637918f\u00fcr einen makesmalldurchlauf"
       ]
      },
      {
       "output_type": "stream",
       "stream": "stdout",
       "text": [
        "\n",
        "46303.6961548f\u00fcr einen makesmalldurchlauf"
       ]
      },
      {
       "output_type": "stream",
       "stream": "stdout",
       "text": [
        "\n",
        "46325.858078f\u00fcr einen makesmalldurchlauf"
       ]
      },
      {
       "output_type": "stream",
       "stream": "stdout",
       "text": [
        "\n",
        "46347.9739149f\u00fcr einen makesmalldurchlauf"
       ]
      },
      {
       "output_type": "stream",
       "stream": "stdout",
       "text": [
        "\n",
        "46370.1684048f\u00fcr einen makesmalldurchlauf"
       ]
      },
      {
       "output_type": "stream",
       "stream": "stdout",
       "text": [
        "\n",
        "46392.241997f\u00fcr einen makesmalldurchlauf"
       ]
      },
      {
       "output_type": "stream",
       "stream": "stdout",
       "text": [
        "\n",
        "46414.3088119f\u00fcr einen makesmalldurchlauf"
       ]
      },
      {
       "output_type": "stream",
       "stream": "stdout",
       "text": [
        "\n",
        "46436.3922789f\u00fcr einen makesmalldurchlauf"
       ]
      },
      {
       "output_type": "stream",
       "stream": "stdout",
       "text": [
        "\n",
        "46458.4930918f\u00fcr einen makesmalldurchlauf"
       ]
      },
      {
       "output_type": "stream",
       "stream": "stdout",
       "text": [
        "\n",
        "46480.6611419f\u00fcr einen makesmalldurchlauf"
       ]
      },
      {
       "output_type": "stream",
       "stream": "stdout",
       "text": [
        "\n",
        "46502.7987158f\u00fcr einen makesmalldurchlauf"
       ]
      },
      {
       "output_type": "stream",
       "stream": "stdout",
       "text": [
        "\n",
        "46524.9499938f\u00fcr einen makesmalldurchlauf"
       ]
      },
      {
       "output_type": "stream",
       "stream": "stdout",
       "text": [
        "\n",
        "46546.988251f\u00fcr einen makesmalldurchlauf"
       ]
      },
      {
       "output_type": "stream",
       "stream": "stdout",
       "text": [
        "\n",
        "46569.0699308f\u00fcr einen makesmalldurchlauf"
       ]
      },
      {
       "output_type": "stream",
       "stream": "stdout",
       "text": [
        "\n",
        "46591.2497458f\u00fcr einen makesmalldurchlauf"
       ]
      },
      {
       "output_type": "stream",
       "stream": "stdout",
       "text": [
        "\n",
        "46613.3873458f\u00fcr einen makesmalldurchlauf"
       ]
      },
      {
       "output_type": "stream",
       "stream": "stdout",
       "text": [
        "\n",
        "46635.5829358f\u00fcr einen makesmalldurchlauf"
       ]
      },
      {
       "output_type": "stream",
       "stream": "stdout",
       "text": [
        "\n",
        "46657.8007569f\u00fcr einen makesmalldurchlauf"
       ]
      },
      {
       "output_type": "stream",
       "stream": "stdout",
       "text": [
        "\n",
        "46679.958571f\u00fcr einen makesmalldurchlauf"
       ]
      },
      {
       "output_type": "stream",
       "stream": "stdout",
       "text": [
        "\n",
        "46702.2690158f\u00fcr einen makesmalldurchlauf"
       ]
      },
      {
       "output_type": "stream",
       "stream": "stdout",
       "text": [
        "\n",
        "46724.6322289f\u00fcr einen makesmalldurchlauf"
       ]
      },
      {
       "output_type": "stream",
       "stream": "stdout",
       "text": [
        "\n",
        "46746.8056338f\u00fcr einen makesmalldurchlauf"
       ]
      },
      {
       "output_type": "stream",
       "stream": "stdout",
       "text": [
        "\n",
        "46769.047313f\u00fcr einen makesmalldurchlauf"
       ]
      },
      {
       "output_type": "stream",
       "stream": "stdout",
       "text": [
        "\n",
        "46791.2669139f\u00fcr einen makesmalldurchlauf"
       ]
      },
      {
       "output_type": "stream",
       "stream": "stdout",
       "text": [
        "\n",
        "46813.508755f\u00fcr einen makesmalldurchlauf"
       ]
      },
      {
       "output_type": "stream",
       "stream": "stdout",
       "text": [
        "\n",
        "46835.7522929f\u00fcr einen makesmalldurchlauf"
       ]
      },
      {
       "output_type": "stream",
       "stream": "stdout",
       "text": [
        "\n",
        "46858.047709f\u00fcr einen makesmalldurchlauf"
       ]
      },
      {
       "output_type": "stream",
       "stream": "stdout",
       "text": [
        "\n",
        "46880.2274599f\u00fcr einen makesmalldurchlauf"
       ]
      },
      {
       "output_type": "stream",
       "stream": "stdout",
       "text": [
        "\n",
        "46902.6273048f\u00fcr einen makesmalldurchlauf"
       ]
      },
      {
       "output_type": "stream",
       "stream": "stdout",
       "text": [
        "\n",
        "46924.8820879f\u00fcr einen makesmalldurchlauf"
       ]
      },
      {
       "output_type": "stream",
       "stream": "stdout",
       "text": [
        "\n",
        "46947.0999458f\u00fcr einen makesmalldurchlauf"
       ]
      },
      {
       "output_type": "stream",
       "stream": "stdout",
       "text": [
        "\n",
        "46969.2489309f\u00fcr einen makesmalldurchlauf"
       ]
      },
      {
       "output_type": "stream",
       "stream": "stdout",
       "text": [
        "\n",
        "46991.4177928f\u00fcr einen makesmalldurchlauf"
       ]
      },
      {
       "output_type": "stream",
       "stream": "stdout",
       "text": [
        "\n",
        "47013.7262449f\u00fcr einen makesmalldurchlauf"
       ]
      },
      {
       "output_type": "stream",
       "stream": "stdout",
       "text": [
        "\n",
        "47035.8654439f\u00fcr einen makesmalldurchlauf"
       ]
      },
      {
       "output_type": "stream",
       "stream": "stdout",
       "text": [
        "\n",
        "47058.108052f\u00fcr einen makesmalldurchlauf"
       ]
      },
      {
       "output_type": "stream",
       "stream": "stdout",
       "text": [
        "\n",
        "47080.3965359f\u00fcr einen makesmalldurchlauf"
       ]
      },
      {
       "output_type": "stream",
       "stream": "stdout",
       "text": [
        "\n",
        "47102.5662048f\u00fcr einen makesmalldurchlauf"
       ]
      },
      {
       "output_type": "stream",
       "stream": "stdout",
       "text": [
        "\n",
        "47124.9890079f\u00fcr einen makesmalldurchlauf"
       ]
      },
      {
       "output_type": "stream",
       "stream": "stdout",
       "text": [
        "\n",
        "47147.1727469f\u00fcr einen makesmalldurchlauf"
       ]
      },
      {
       "output_type": "stream",
       "stream": "stdout",
       "text": [
        "\n",
        "47169.88585f\u00fcr einen makesmalldurchlauf"
       ]
      },
      {
       "output_type": "stream",
       "stream": "stdout",
       "text": [
        "\n",
        "47191.8110478f\u00fcr einen makesmalldurchlauf"
       ]
      },
      {
       "output_type": "stream",
       "stream": "stdout",
       "text": [
        "\n",
        "47213.7895479f\u00fcr einen makesmalldurchlauf"
       ]
      },
      {
       "output_type": "stream",
       "stream": "stdout",
       "text": [
        "\n",
        "47235.8211608f\u00fcr einen makesmalldurchlauf"
       ]
      },
      {
       "output_type": "stream",
       "stream": "stdout",
       "text": [
        "\n",
        "47257.8257079f\u00fcr einen makesmalldurchlauf"
       ]
      },
      {
       "output_type": "stream",
       "stream": "stdout",
       "text": [
        "\n",
        "47279.7562709f\u00fcr einen makesmalldurchlauf"
       ]
      },
      {
       "output_type": "stream",
       "stream": "stdout",
       "text": [
        "\n",
        "47301.739182f\u00fcr einen makesmalldurchlauf"
       ]
      },
      {
       "output_type": "stream",
       "stream": "stdout",
       "text": [
        "\n",
        "47323.826931f\u00fcr einen makesmalldurchlauf"
       ]
      },
      {
       "output_type": "stream",
       "stream": "stdout",
       "text": [
        "\n",
        "47345.784086f\u00fcr einen makesmalldurchlauf"
       ]
      },
      {
       "output_type": "stream",
       "stream": "stdout",
       "text": [
        "\n",
        "47367.793252f\u00fcr einen makesmalldurchlauf"
       ]
      },
      {
       "output_type": "stream",
       "stream": "stdout",
       "text": [
        "\n",
        "47390.1108549f\u00fcr einen makesmalldurchlauf"
       ]
      },
      {
       "output_type": "stream",
       "stream": "stdout",
       "text": [
        "\n",
        "47412.139097f\u00fcr einen makesmalldurchlauf"
       ]
      },
      {
       "output_type": "stream",
       "stream": "stdout",
       "text": [
        "\n",
        "47434.102633f\u00fcr einen makesmalldurchlauf"
       ]
      },
      {
       "output_type": "stream",
       "stream": "stdout",
       "text": [
        "\n",
        "47456.0596368f\u00fcr einen makesmalldurchlauf"
       ]
      },
      {
       "output_type": "stream",
       "stream": "stdout",
       "text": [
        "\n",
        "47478.007571f\u00fcr einen makesmalldurchlauf"
       ]
      },
      {
       "output_type": "stream",
       "stream": "stdout",
       "text": [
        "\n",
        "47499.9679899f\u00fcr einen makesmalldurchlauf"
       ]
      },
      {
       "output_type": "stream",
       "stream": "stdout",
       "text": [
        "\n",
        "47521.8751788f\u00fcr einen makesmalldurchlauf"
       ]
      },
      {
       "output_type": "stream",
       "stream": "stdout",
       "text": [
        "\n",
        "47543.870409f\u00fcr einen makesmalldurchlauf"
       ]
      },
      {
       "output_type": "stream",
       "stream": "stdout",
       "text": [
        "\n",
        "47565.834847f\u00fcr einen makesmalldurchlauf"
       ]
      },
      {
       "output_type": "stream",
       "stream": "stdout",
       "text": [
        "\n",
        "47587.9010658f\u00fcr einen makesmalldurchlauf"
       ]
      },
      {
       "output_type": "stream",
       "stream": "stdout",
       "text": [
        "\n",
        "47609.854533f\u00fcr einen makesmalldurchlauf"
       ]
      },
      {
       "output_type": "stream",
       "stream": "stdout",
       "text": [
        "\n",
        "47631.7671599f\u00fcr einen makesmalldurchlauf"
       ]
      },
      {
       "output_type": "stream",
       "stream": "stdout",
       "text": [
        "\n",
        "47653.753804f\u00fcr einen makesmalldurchlauf"
       ]
      },
      {
       "output_type": "stream",
       "stream": "stdout",
       "text": [
        "\n",
        "47675.799619f\u00fcr einen makesmalldurchlauf"
       ]
      },
      {
       "output_type": "stream",
       "stream": "stdout",
       "text": [
        "\n",
        "47697.6910849f\u00fcr einen makesmalldurchlauf"
       ]
      },
      {
       "output_type": "stream",
       "stream": "stdout",
       "text": [
        "\n",
        "47719.5971088f\u00fcr einen makesmalldurchlauf"
       ]
      },
      {
       "output_type": "stream",
       "stream": "stdout",
       "text": [
        "\n",
        "47741.519382f\u00fcr einen makesmalldurchlauf"
       ]
      },
      {
       "output_type": "stream",
       "stream": "stdout",
       "text": [
        "\n",
        "47763.4287689f\u00fcr einen makesmalldurchlauf"
       ]
      },
      {
       "output_type": "stream",
       "stream": "stdout",
       "text": [
        "\n",
        "47785.5154879f\u00fcr einen makesmalldurchlauf"
       ]
      },
      {
       "output_type": "stream",
       "stream": "stdout",
       "text": [
        "\n",
        "47807.6968939f\u00fcr einen makesmalldurchlauf"
       ]
      },
      {
       "output_type": "stream",
       "stream": "stdout",
       "text": [
        "\n",
        "47829.8562348f\u00fcr einen makesmalldurchlauf"
       ]
      },
      {
       "output_type": "stream",
       "stream": "stdout",
       "text": [
        "\n",
        "47852.0693748f\u00fcr einen makesmalldurchlauf"
       ]
      },
      {
       "output_type": "stream",
       "stream": "stdout",
       "text": [
        "\n",
        "47874.3242438f\u00fcr einen makesmalldurchlauf"
       ]
      },
      {
       "output_type": "stream",
       "stream": "stdout",
       "text": [
        "\n",
        "47896.5148759f\u00fcr einen makesmalldurchlauf"
       ]
      },
      {
       "output_type": "stream",
       "stream": "stdout",
       "text": [
        "\n",
        "47918.8026729f\u00fcr einen makesmalldurchlauf"
       ]
      },
      {
       "output_type": "stream",
       "stream": "stdout",
       "text": [
        "\n",
        "47940.9854279f\u00fcr einen makesmalldurchlauf"
       ]
      },
      {
       "output_type": "stream",
       "stream": "stdout",
       "text": [
        "\n",
        "47963.2195048f\u00fcr einen makesmalldurchlauf"
       ]
      },
      {
       "output_type": "stream",
       "stream": "stdout",
       "text": [
        "\n",
        "47985.502126f\u00fcr einen makesmalldurchlauf"
       ]
      },
      {
       "output_type": "stream",
       "stream": "stdout",
       "text": [
        "\n",
        "48007.9052498f\u00fcr einen makesmalldurchlauf"
       ]
      },
      {
       "output_type": "stream",
       "stream": "stdout",
       "text": [
        "\n",
        "48030.1763208f\u00fcr einen makesmalldurchlauf"
       ]
      },
      {
       "output_type": "stream",
       "stream": "stdout",
       "text": [
        "\n",
        "48052.3250089f\u00fcr einen makesmalldurchlauf"
       ]
      },
      {
       "output_type": "stream",
       "stream": "stdout",
       "text": [
        "\n",
        "48074.5265288f\u00fcr einen makesmalldurchlauf"
       ]
      },
      {
       "output_type": "stream",
       "stream": "stdout",
       "text": [
        "\n",
        "48096.6951818f\u00fcr einen makesmalldurchlauf"
       ]
      },
      {
       "output_type": "stream",
       "stream": "stdout",
       "text": [
        "\n",
        "48118.8570349f\u00fcr einen makesmalldurchlauf"
       ]
      },
      {
       "output_type": "stream",
       "stream": "stdout",
       "text": [
        "\n",
        "48141.3706899f\u00fcr einen makesmalldurchlauf"
       ]
      },
      {
       "output_type": "stream",
       "stream": "stdout",
       "text": [
        "\n",
        "48163.6549249f\u00fcr einen makesmalldurchlauf"
       ]
      },
      {
       "output_type": "stream",
       "stream": "stdout",
       "text": [
        "\n",
        "48185.9438369f\u00fcr einen makesmalldurchlauf"
       ]
      },
      {
       "output_type": "stream",
       "stream": "stdout",
       "text": [
        "\n",
        "48208.1685958f\u00fcr einen makesmalldurchlauf"
       ]
      },
      {
       "output_type": "stream",
       "stream": "stdout",
       "text": [
        "\n",
        "48230.3056819f\u00fcr einen makesmalldurchlauf"
       ]
      },
      {
       "output_type": "stream",
       "stream": "stdout",
       "text": [
        "\n",
        "48252.5099208f\u00fcr einen makesmalldurchlauf"
       ]
      },
      {
       "output_type": "stream",
       "stream": "stdout",
       "text": [
        "\n",
        "48274.7682149f\u00fcr einen makesmalldurchlauf"
       ]
      },
      {
       "output_type": "stream",
       "stream": "stdout",
       "text": [
        "\n",
        "48297.1413639f\u00fcr einen makesmalldurchlauf"
       ]
      },
      {
       "output_type": "stream",
       "stream": "stdout",
       "text": [
        "\n",
        "48319.3698449f\u00fcr einen makesmalldurchlauf"
       ]
      },
      {
       "output_type": "stream",
       "stream": "stdout",
       "text": [
        "\n",
        "48341.6809609f\u00fcr einen makesmalldurchlauf"
       ]
      },
      {
       "output_type": "stream",
       "stream": "stdout",
       "text": [
        "\n",
        "48363.8949909f\u00fcr einen makesmalldurchlauf"
       ]
      },
      {
       "output_type": "stream",
       "stream": "stdout",
       "text": [
        "\n",
        "48386.1465619f\u00fcr einen makesmalldurchlauf"
       ]
      },
      {
       "output_type": "stream",
       "stream": "stdout",
       "text": [
        "\n",
        "48408.3698299f\u00fcr einen makesmalldurchlauf"
       ]
      },
      {
       "output_type": "stream",
       "stream": "stdout",
       "text": [
        "\n",
        "48430.5678458f\u00fcr einen makesmalldurchlauf"
       ]
      },
      {
       "output_type": "stream",
       "stream": "stdout",
       "text": [
        "\n",
        "48452.7990758f\u00fcr einen makesmalldurchlauf"
       ]
      },
      {
       "output_type": "stream",
       "stream": "stdout",
       "text": [
        "\n",
        "48475.002892f\u00fcr einen makesmalldurchlauf"
       ]
      },
      {
       "output_type": "stream",
       "stream": "stdout",
       "text": [
        "\n",
        "48497.265985f\u00fcr einen makesmalldurchlauf"
       ]
      },
      {
       "output_type": "stream",
       "stream": "stdout",
       "text": [
        "\n",
        "48519.5571249f\u00fcr einen makesmalldurchlauf"
       ]
      },
      {
       "output_type": "stream",
       "stream": "stdout",
       "text": [
        "\n",
        "48541.7668929f\u00fcr einen makesmalldurchlauf"
       ]
      },
      {
       "output_type": "stream",
       "stream": "stdout",
       "text": [
        "\n",
        "48563.983331f\u00fcr einen makesmalldurchlauf"
       ]
      },
      {
       "output_type": "stream",
       "stream": "stdout",
       "text": [
        "\n",
        "48586.181026f\u00fcr einen makesmalldurchlauf"
       ]
      },
      {
       "output_type": "stream",
       "stream": "stdout",
       "text": [
        "\n",
        "48608.4744349f\u00fcr einen makesmalldurchlauf"
       ]
      },
      {
       "output_type": "stream",
       "stream": "stdout",
       "text": [
        "\n",
        "48630.850477f\u00fcr einen makesmalldurchlauf"
       ]
      },
      {
       "output_type": "stream",
       "stream": "stdout",
       "text": [
        "\n",
        "48652.9769728f\u00fcr einen makesmalldurchlauf"
       ]
      },
      {
       "output_type": "stream",
       "stream": "stdout",
       "text": [
        "\n",
        "48675.13432f\u00fcr einen makesmalldurchlauf"
       ]
      },
      {
       "output_type": "stream",
       "stream": "stdout",
       "text": [
        "\n",
        "48697.3081729f\u00fcr einen makesmalldurchlauf"
       ]
      },
      {
       "output_type": "stream",
       "stream": "stdout",
       "text": [
        "\n",
        "48719.5029449f\u00fcr einen makesmalldurchlauf"
       ]
      },
      {
       "output_type": "stream",
       "stream": "stdout",
       "text": [
        "\n",
        "48741.7414429f\u00fcr einen makesmalldurchlauf"
       ]
      },
      {
       "output_type": "stream",
       "stream": "stdout",
       "text": [
        "\n",
        "48764.2836769f\u00fcr einen makesmalldurchlauf"
       ]
      },
      {
       "output_type": "stream",
       "stream": "stdout",
       "text": [
        "\n",
        "48786.62431f\u00fcr einen makesmalldurchlauf"
       ]
      },
      {
       "output_type": "stream",
       "stream": "stdout",
       "text": [
        "\n",
        "48808.8326628f\u00fcr einen makesmalldurchlauf"
       ]
      },
      {
       "output_type": "stream",
       "stream": "stdout",
       "text": [
        "\n",
        "48830.987649f\u00fcr einen makesmalldurchlauf"
       ]
      },
      {
       "output_type": "stream",
       "stream": "stdout",
       "text": [
        "\n",
        "48853.1121609f\u00fcr einen makesmalldurchlauf"
       ]
      },
      {
       "output_type": "stream",
       "stream": "stdout",
       "text": [
        "\n",
        "48875.3101258f\u00fcr einen makesmalldurchlauf"
       ]
      },
      {
       "output_type": "stream",
       "stream": "stdout",
       "text": [
        "\n",
        "48897.5213709f\u00fcr einen makesmalldurchlauf"
       ]
      },
      {
       "output_type": "stream",
       "stream": "stdout",
       "text": [
        "\n",
        "48919.6684918f\u00fcr einen makesmalldurchlauf"
       ]
      },
      {
       "output_type": "stream",
       "stream": "stdout",
       "text": [
        "\n",
        "48941.8885448f\u00fcr einen makesmalldurchlauf"
       ]
      },
      {
       "output_type": "stream",
       "stream": "stdout",
       "text": [
        "\n",
        "48964.038749f\u00fcr einen makesmalldurchlauf"
       ]
      },
      {
       "output_type": "stream",
       "stream": "stdout",
       "text": [
        "\n",
        "48986.2462709f\u00fcr einen makesmalldurchlauf"
       ]
      },
      {
       "output_type": "stream",
       "stream": "stdout",
       "text": [
        "\n",
        "49008.4881349f\u00fcr einen makesmalldurchlauf"
       ]
      },
      {
       "output_type": "stream",
       "stream": "stdout",
       "text": [
        "\n",
        "49030.7651899f\u00fcr einen makesmalldurchlauf"
       ]
      },
      {
       "output_type": "stream",
       "stream": "stdout",
       "text": [
        "\n",
        "49053.105624f\u00fcr einen makesmalldurchlauf"
       ]
      },
      {
       "output_type": "stream",
       "stream": "stdout",
       "text": [
        "\n",
        "49075.3523488f\u00fcr einen makesmalldurchlauf"
       ]
      },
      {
       "output_type": "stream",
       "stream": "stdout",
       "text": [
        "\n",
        "49097.6209929f\u00fcr einen makesmalldurchlauf"
       ]
      },
      {
       "output_type": "stream",
       "stream": "stdout",
       "text": [
        "\n",
        "49119.953202f\u00fcr einen makesmalldurchlauf"
       ]
      },
      {
       "output_type": "stream",
       "stream": "stdout",
       "text": [
        "\n",
        "49142.2738729f\u00fcr einen makesmalldurchlauf"
       ]
      },
      {
       "output_type": "stream",
       "stream": "stdout",
       "text": [
        "\n",
        "49164.4448309f\u00fcr einen makesmalldurchlauf"
       ]
      },
      {
       "output_type": "stream",
       "stream": "stdout",
       "text": [
        "\n",
        "49186.6377809f\u00fcr einen makesmalldurchlauf"
       ]
      },
      {
       "output_type": "stream",
       "stream": "stdout",
       "text": [
        "\n",
        "49208.9798908f\u00fcr einen makesmalldurchlauf"
       ]
      },
      {
       "output_type": "stream",
       "stream": "stdout",
       "text": [
        "\n",
        "49231.2006359f\u00fcr einen makesmalldurchlauf"
       ]
      },
      {
       "output_type": "stream",
       "stream": "stdout",
       "text": [
        "\n",
        "49253.5953498f\u00fcr einen makesmalldurchlauf"
       ]
      },
      {
       "output_type": "stream",
       "stream": "stdout",
       "text": [
        "\n",
        "49275.817868f\u00fcr einen makesmalldurchlauf"
       ]
      },
      {
       "output_type": "stream",
       "stream": "stdout",
       "text": [
        "\n",
        "49298.04196f\u00fcr einen makesmalldurchlauf"
       ]
      },
      {
       "output_type": "stream",
       "stream": "stdout",
       "text": [
        "\n",
        "49320.21559f\u00fcr einen makesmalldurchlauf"
       ]
      },
      {
       "output_type": "stream",
       "stream": "stdout",
       "text": [
        "\n",
        "49342.5077229f\u00fcr einen makesmalldurchlauf"
       ]
      },
      {
       "output_type": "stream",
       "stream": "stdout",
       "text": [
        "\n",
        "49364.838028f\u00fcr einen makesmalldurchlauf"
       ]
      },
      {
       "output_type": "stream",
       "stream": "stdout",
       "text": [
        "\n",
        "49387.1591239f\u00fcr einen makesmalldurchlauf"
       ]
      },
      {
       "output_type": "stream",
       "stream": "stdout",
       "text": [
        "\n",
        "49409.4388759f\u00fcr einen makesmalldurchlauf"
       ]
      },
      {
       "output_type": "stream",
       "stream": "stdout",
       "text": [
        "\n",
        "49431.6578629f\u00fcr einen makesmalldurchlauf"
       ]
      },
      {
       "output_type": "stream",
       "stream": "stdout",
       "text": [
        "\n",
        "49453.7702408f\u00fcr einen makesmalldurchlauf"
       ]
      },
      {
       "output_type": "stream",
       "stream": "stdout",
       "text": [
        "\n",
        "49475.9044888f\u00fcr einen makesmalldurchlauf"
       ]
      },
      {
       "output_type": "stream",
       "stream": "stdout",
       "text": [
        "\n",
        "49498.1305659f\u00fcr einen makesmalldurchlauf"
       ]
      },
      {
       "output_type": "stream",
       "stream": "stdout",
       "text": [
        "\n",
        "49520.3358798f\u00fcr einen makesmalldurchlauf"
       ]
      },
      {
       "output_type": "stream",
       "stream": "stdout",
       "text": [
        "\n",
        "49542.5884509f\u00fcr einen makesmalldurchlauf"
       ]
      },
      {
       "output_type": "stream",
       "stream": "stdout",
       "text": [
        "\n",
        "49564.9173219f\u00fcr einen makesmalldurchlauf"
       ]
      },
      {
       "output_type": "stream",
       "stream": "stdout",
       "text": [
        "\n",
        "49588.5036309f\u00fcr einen makesmalldurchlauf"
       ]
      },
      {
       "output_type": "stream",
       "stream": "stdout",
       "text": [
        "\n",
        "49612.5626149f\u00fcr einen makesmalldurchlauf"
       ]
      },
      {
       "output_type": "stream",
       "stream": "stdout",
       "text": [
        "\n",
        "49636.4315338f\u00fcr einen makesmalldurchlauf"
       ]
      },
      {
       "output_type": "stream",
       "stream": "stdout",
       "text": [
        "\n",
        "49659.7467818f\u00fcr einen makesmalldurchlauf"
       ]
      },
      {
       "output_type": "stream",
       "stream": "stdout",
       "text": [
        "\n",
        "49682.9140799f\u00fcr einen makesmalldurchlauf"
       ]
      },
      {
       "output_type": "stream",
       "stream": "stdout",
       "text": [
        "\n",
        "49706.1051409f\u00fcr einen makesmalldurchlauf"
       ]
      },
      {
       "output_type": "stream",
       "stream": "stdout",
       "text": [
        "\n",
        "49729.411942f\u00fcr einen makesmalldurchlauf"
       ]
      },
      {
       "output_type": "stream",
       "stream": "stdout",
       "text": [
        "\n",
        "49752.6218519f\u00fcr einen makesmalldurchlauf"
       ]
      },
      {
       "output_type": "stream",
       "stream": "stdout",
       "text": [
        "\n",
        "49775.877542f\u00fcr einen makesmalldurchlauf"
       ]
      },
      {
       "output_type": "stream",
       "stream": "stdout",
       "text": [
        "\n",
        "49799.1604838f\u00fcr einen makesmalldurchlauf"
       ]
      },
      {
       "output_type": "stream",
       "stream": "stdout",
       "text": [
        "\n",
        "49822.369859f\u00fcr einen makesmalldurchlauf"
       ]
      },
      {
       "output_type": "stream",
       "stream": "stdout",
       "text": [
        "\n",
        "49846.4352379f\u00fcr einen makesmalldurchlauf"
       ]
      },
      {
       "output_type": "stream",
       "stream": "stdout",
       "text": [
        "\n",
        "49870.304714f\u00fcr einen makesmalldurchlauf"
       ]
      },
      {
       "output_type": "stream",
       "stream": "stdout",
       "text": [
        "\n",
        "49894.2804959f\u00fcr einen makesmalldurchlauf"
       ]
      },
      {
       "output_type": "stream",
       "stream": "stdout",
       "text": [
        "\n",
        "49918.2501328f\u00fcr einen makesmalldurchlauf"
       ]
      },
      {
       "output_type": "stream",
       "stream": "stdout",
       "text": [
        "\n",
        "49942.0587308f\u00fcr einen makesmalldurchlauf"
       ]
      },
      {
       "output_type": "stream",
       "stream": "stdout",
       "text": [
        "\n",
        "49966.0060589f\u00fcr einen makesmalldurchlauf"
       ]
      },
      {
       "output_type": "stream",
       "stream": "stdout",
       "text": [
        "\n",
        "49990.3324869f\u00fcr einen makesmalldurchlauf"
       ]
      },
      {
       "output_type": "stream",
       "stream": "stdout",
       "text": [
        "\n",
        "50014.3276398f\u00fcr einen makesmalldurchlauf"
       ]
      },
      {
       "output_type": "stream",
       "stream": "stdout",
       "text": [
        "\n",
        "50038.305697f\u00fcr einen makesmalldurchlauf"
       ]
      },
      {
       "output_type": "stream",
       "stream": "stdout",
       "text": [
        "\n",
        "50062.2302599f\u00fcr einen makesmalldurchlauf"
       ]
      },
      {
       "output_type": "stream",
       "stream": "stdout",
       "text": [
        "\n",
        "50086.5874028f\u00fcr einen makesmalldurchlauf"
       ]
      },
      {
       "output_type": "stream",
       "stream": "stdout",
       "text": [
        "\n",
        "50110.5402708f\u00fcr einen makesmalldurchlauf"
       ]
      },
      {
       "output_type": "stream",
       "stream": "stdout",
       "text": [
        "\n",
        "50134.4387388f\u00fcr einen makesmalldurchlauf"
       ]
      },
      {
       "output_type": "stream",
       "stream": "stdout",
       "text": [
        "\n",
        "50158.4759338f\u00fcr einen makesmalldurchlauf"
       ]
      },
      {
       "output_type": "stream",
       "stream": "stdout",
       "text": [
        "\n",
        "50182.5267088f\u00fcr einen makesmalldurchlauf"
       ]
      },
      {
       "output_type": "stream",
       "stream": "stdout",
       "text": [
        "\n",
        "50206.4128199f\u00fcr einen makesmalldurchlauf"
       ]
      },
      {
       "output_type": "stream",
       "stream": "stdout",
       "text": [
        "\n",
        "50230.3825719f\u00fcr einen makesmalldurchlauf"
       ]
      },
      {
       "output_type": "stream",
       "stream": "stdout",
       "text": [
        "\n",
        "50254.1575689f\u00fcr einen makesmalldurchlauf"
       ]
      },
      {
       "output_type": "stream",
       "stream": "stdout",
       "text": [
        "\n",
        "50277.992254f\u00fcr einen makesmalldurchlauf"
       ]
      },
      {
       "output_type": "stream",
       "stream": "stdout",
       "text": [
        "\n",
        "50301.83425f\u00fcr einen makesmalldurchlauf"
       ]
      },
      {
       "output_type": "stream",
       "stream": "stdout",
       "text": [
        "\n",
        "50325.796345f\u00fcr einen makesmalldurchlauf"
       ]
      },
      {
       "output_type": "stream",
       "stream": "stdout",
       "text": [
        "\n",
        "50349.6954439f\u00fcr einen makesmalldurchlauf"
       ]
      },
      {
       "output_type": "stream",
       "stream": "stdout",
       "text": [
        "\n",
        "50373.5607209f\u00fcr einen makesmalldurchlauf"
       ]
      },
      {
       "output_type": "stream",
       "stream": "stdout",
       "text": [
        "\n",
        "50397.375268f\u00fcr einen makesmalldurchlauf"
       ]
      },
      {
       "output_type": "stream",
       "stream": "stdout",
       "text": [
        "\n",
        "50421.2135069f\u00fcr einen makesmalldurchlauf"
       ]
      },
      {
       "output_type": "stream",
       "stream": "stdout",
       "text": [
        "\n",
        "50445.0496509f\u00fcr einen makesmalldurchlauf"
       ]
      },
      {
       "output_type": "stream",
       "stream": "stdout",
       "text": [
        "\n",
        "50468.914228f\u00fcr einen makesmalldurchlauf"
       ]
      },
      {
       "output_type": "stream",
       "stream": "stdout",
       "text": [
        "\n",
        "50492.9195149f\u00fcr einen makesmalldurchlauf"
       ]
      },
      {
       "output_type": "stream",
       "stream": "stdout",
       "text": [
        "\n",
        "50516.8551178f\u00fcr einen makesmalldurchlauf"
       ]
      },
      {
       "output_type": "stream",
       "stream": "stdout",
       "text": [
        "\n",
        "50540.5995438f\u00fcr einen makesmalldurchlauf"
       ]
      },
      {
       "output_type": "stream",
       "stream": "stdout",
       "text": [
        "\n",
        "50564.3909788f\u00fcr einen makesmalldurchlauf"
       ]
      },
      {
       "output_type": "stream",
       "stream": "stdout",
       "text": [
        "\n",
        "50588.2691698f\u00fcr einen makesmalldurchlauf"
       ]
      },
      {
       "output_type": "stream",
       "stream": "stdout",
       "text": [
        "\n",
        "50612.0231018f\u00fcr einen makesmalldurchlauf"
       ]
      },
      {
       "output_type": "stream",
       "stream": "stdout",
       "text": [
        "\n",
        "50635.7966459f\u00fcr einen makesmalldurchlauf"
       ]
      },
      {
       "output_type": "stream",
       "stream": "stdout",
       "text": [
        "\n",
        "50659.6557498f\u00fcr einen makesmalldurchlauf"
       ]
      },
      {
       "output_type": "stream",
       "stream": "stdout",
       "text": [
        "\n",
        "50683.4971309f\u00fcr einen makesmalldurchlauf"
       ]
      },
      {
       "output_type": "stream",
       "stream": "stdout",
       "text": [
        "\n",
        "50707.295522f\u00fcr einen makesmalldurchlauf"
       ]
      },
      {
       "output_type": "stream",
       "stream": "stdout",
       "text": [
        "\n",
        "50731.2389688f\u00fcr einen makesmalldurchlauf"
       ]
      },
      {
       "output_type": "stream",
       "stream": "stdout",
       "text": [
        "\n",
        "50755.089638f\u00fcr einen makesmalldurchlauf"
       ]
      },
      {
       "output_type": "stream",
       "stream": "stdout",
       "text": [
        "\n",
        "50778.2296648f\u00fcr einen makesmalldurchlauf"
       ]
      },
      {
       "output_type": "stream",
       "stream": "stdout",
       "text": [
        "\n",
        "50800.3125319f\u00fcr einen makesmalldurchlauf"
       ]
      },
      {
       "output_type": "stream",
       "stream": "stdout",
       "text": [
        "\n",
        "50822.6225669f\u00fcr einen makesmalldurchlauf"
       ]
      },
      {
       "output_type": "stream",
       "stream": "stdout",
       "text": [
        "\n",
        "50844.8090138f\u00fcr einen makesmalldurchlauf"
       ]
      },
      {
       "output_type": "stream",
       "stream": "stdout",
       "text": [
        "\n",
        "50866.9205718f\u00fcr einen makesmalldurchlauf"
       ]
      },
      {
       "output_type": "stream",
       "stream": "stdout",
       "text": [
        "\n",
        "50889.0621328f\u00fcr einen makesmalldurchlauf"
       ]
      },
      {
       "output_type": "stream",
       "stream": "stdout",
       "text": [
        "\n",
        "50911.2039578f\u00fcr einen makesmalldurchlauf"
       ]
      },
      {
       "output_type": "stream",
       "stream": "stdout",
       "text": [
        "\n",
        "50933.3328719f\u00fcr einen makesmalldurchlauf"
       ]
      },
      {
       "output_type": "stream",
       "stream": "stdout",
       "text": [
        "\n",
        "50955.6260779f\u00fcr einen makesmalldurchlauf"
       ]
      },
      {
       "output_type": "stream",
       "stream": "stdout",
       "text": [
        "\n",
        "50977.7425199f\u00fcr einen makesmalldurchlauf"
       ]
      },
      {
       "output_type": "stream",
       "stream": "stdout",
       "text": [
        "\n",
        "50999.9642968f\u00fcr einen makesmalldurchlauf"
       ]
      },
      {
       "output_type": "stream",
       "stream": "stdout",
       "text": [
        "\n",
        "51022.0858028f\u00fcr einen makesmalldurchlauf"
       ]
      },
      {
       "output_type": "stream",
       "stream": "stdout",
       "text": [
        "\n",
        "51044.239861f\u00fcr einen makesmalldurchlauf"
       ]
      },
      {
       "output_type": "stream",
       "stream": "stdout",
       "text": [
        "\n",
        "51066.4864259f\u00fcr einen makesmalldurchlauf"
       ]
      },
      {
       "output_type": "stream",
       "stream": "stdout",
       "text": [
        "\n",
        "51088.5917039f\u00fcr einen makesmalldurchlauf"
       ]
      },
      {
       "output_type": "stream",
       "stream": "stdout",
       "text": [
        "\n",
        "51110.7035079f\u00fcr einen makesmalldurchlauf"
       ]
      },
      {
       "output_type": "stream",
       "stream": "stdout",
       "text": [
        "\n",
        "51132.923316f\u00fcr einen makesmalldurchlauf"
       ]
      },
      {
       "output_type": "stream",
       "stream": "stdout",
       "text": [
        "\n",
        "51155.055352f\u00fcr einen makesmalldurchlauf"
       ]
      },
      {
       "output_type": "stream",
       "stream": "stdout",
       "text": [
        "\n",
        "51177.359421f\u00fcr einen makesmalldurchlauf"
       ]
      },
      {
       "output_type": "stream",
       "stream": "stdout",
       "text": [
        "\n",
        "51199.5286078f\u00fcr einen makesmalldurchlauf"
       ]
      },
      {
       "output_type": "stream",
       "stream": "stdout",
       "text": [
        "\n",
        "51221.6417499f\u00fcr einen makesmalldurchlauf"
       ]
      },
      {
       "output_type": "stream",
       "stream": "stdout",
       "text": [
        "\n",
        "51243.739774f\u00fcr einen makesmalldurchlauf"
       ]
      },
      {
       "output_type": "stream",
       "stream": "stdout",
       "text": [
        "\n",
        "51265.8683958f\u00fcr einen makesmalldurchlauf"
       ]
      },
      {
       "output_type": "stream",
       "stream": "stdout",
       "text": [
        "\n",
        "51287.9743559f\u00fcr einen makesmalldurchlauf"
       ]
      },
      {
       "output_type": "stream",
       "stream": "stdout",
       "text": [
        "\n",
        "51310.1126299f\u00fcr einen makesmalldurchlauf"
       ]
      },
      {
       "output_type": "stream",
       "stream": "stdout",
       "text": [
        "\n",
        "51332.3499789f\u00fcr einen makesmalldurchlauf"
       ]
      },
      {
       "output_type": "stream",
       "stream": "stdout",
       "text": [
        "\n",
        "51354.811707f\u00fcr einen makesmalldurchlauf"
       ]
      },
      {
       "output_type": "stream",
       "stream": "stdout",
       "text": [
        "\n",
        "51378.2647939f\u00fcr einen makesmalldurchlauf"
       ]
      },
      {
       "output_type": "stream",
       "stream": "stdout",
       "text": [
        "\n",
        "51403.431335f\u00fcr einen makesmalldurchlauf"
       ]
      },
      {
       "output_type": "stream",
       "stream": "stdout",
       "text": [
        "\n",
        "51428.4499259f\u00fcr einen makesmalldurchlauf"
       ]
      },
      {
       "output_type": "stream",
       "stream": "stdout",
       "text": [
        "\n",
        "51454.0665598f\u00fcr einen makesmalldurchlauf"
       ]
      },
      {
       "output_type": "stream",
       "stream": "stdout",
       "text": [
        "\n",
        "51478.4342918f\u00fcr einen makesmalldurchlauf"
       ]
      },
      {
       "output_type": "stream",
       "stream": "stdout",
       "text": [
        "\n",
        "51503.0926838f\u00fcr einen makesmalldurchlauf"
       ]
      },
      {
       "output_type": "stream",
       "stream": "stdout",
       "text": [
        "\n",
        "51527.5852358f\u00fcr einen makesmalldurchlauf"
       ]
      },
      {
       "output_type": "stream",
       "stream": "stdout",
       "text": [
        "\n",
        "51552.248199f\u00fcr einen makesmalldurchlauf"
       ]
      },
      {
       "output_type": "stream",
       "stream": "stdout",
       "text": [
        "\n",
        "51578.0156779f\u00fcr einen makesmalldurchlauf"
       ]
      },
      {
       "output_type": "stream",
       "stream": "stdout",
       "text": [
        "\n",
        "51602.0269618f\u00fcr einen makesmalldurchlauf"
       ]
      },
      {
       "output_type": "stream",
       "stream": "stdout",
       "text": [
        "\n",
        "51627.128516f\u00fcr einen makesmalldurchlauf"
       ]
      },
      {
       "output_type": "stream",
       "stream": "stdout",
       "text": [
        "\n",
        "51652.269253f\u00fcr einen makesmalldurchlauf"
       ]
      },
      {
       "output_type": "stream",
       "stream": "stdout",
       "text": [
        "\n",
        "51676.9999888f\u00fcr einen makesmalldurchlauf"
       ]
      },
      {
       "output_type": "stream",
       "stream": "stdout",
       "text": [
        "\n",
        "51703.3768969f\u00fcr einen makesmalldurchlauf"
       ]
      },
      {
       "output_type": "stream",
       "stream": "stdout",
       "text": [
        "\n",
        "51728.5951068f\u00fcr einen makesmalldurchlauf"
       ]
      },
      {
       "output_type": "stream",
       "stream": "stdout",
       "text": [
        "\n",
        "51753.1638908f\u00fcr einen makesmalldurchlauf"
       ]
      },
      {
       "output_type": "stream",
       "stream": "stdout",
       "text": [
        "\n",
        "51777.9093919f\u00fcr einen makesmalldurchlauf"
       ]
      },
      {
       "output_type": "stream",
       "stream": "stdout",
       "text": [
        "\n",
        "51803.7686298f\u00fcr einen makesmalldurchlauf"
       ]
      },
      {
       "output_type": "stream",
       "stream": "stdout",
       "text": [
        "\n",
        "51828.0519359f\u00fcr einen makesmalldurchlauf"
       ]
      },
      {
       "output_type": "stream",
       "stream": "stdout",
       "text": [
        "\n",
        "51853.3196239f\u00fcr einen makesmalldurchlauf"
       ]
      },
      {
       "output_type": "stream",
       "stream": "stdout",
       "text": [
        "\n",
        "51878.901253f\u00fcr einen makesmalldurchlauf"
       ]
      },
      {
       "output_type": "stream",
       "stream": "stdout",
       "text": [
        "\n",
        "51903.3115439f\u00fcr einen makesmalldurchlauf"
       ]
      },
      {
       "output_type": "stream",
       "stream": "stdout",
       "text": [
        "\n",
        "51928.02981f\u00fcr einen makesmalldurchlauf"
       ]
      },
      {
       "output_type": "stream",
       "stream": "stdout",
       "text": [
        "\n",
        "51953.232729f\u00fcr einen makesmalldurchlauf"
       ]
      },
      {
       "output_type": "stream",
       "stream": "stdout",
       "text": [
        "\n",
        "51977.4534628f\u00fcr einen makesmalldurchlauf"
       ]
      },
      {
       "output_type": "stream",
       "stream": "stdout",
       "text": [
        "\n",
        "51999.688036f\u00fcr einen makesmalldurchlauf"
       ]
      },
      {
       "output_type": "stream",
       "stream": "stdout",
       "text": [
        "\n",
        "52021.941767f\u00fcr einen makesmalldurchlauf"
       ]
      },
      {
       "output_type": "stream",
       "stream": "stdout",
       "text": [
        "\n",
        "52044.151206f\u00fcr einen makesmalldurchlauf"
       ]
      },
      {
       "output_type": "stream",
       "stream": "stdout",
       "text": [
        "\n",
        "52066.3519299f\u00fcr einen makesmalldurchlauf"
       ]
      },
      {
       "output_type": "stream",
       "stream": "stdout",
       "text": [
        "\n",
        "52088.591352f\u00fcr einen makesmalldurchlauf"
       ]
      },
      {
       "output_type": "stream",
       "stream": "stdout",
       "text": [
        "\n",
        "52110.7599669f\u00fcr einen makesmalldurchlauf"
       ]
      },
      {
       "output_type": "stream",
       "stream": "stdout",
       "text": [
        "\n",
        "52132.9940529f\u00fcr einen makesmalldurchlauf"
       ]
      },
      {
       "output_type": "stream",
       "stream": "stdout",
       "text": [
        "\n",
        "52155.1794448f\u00fcr einen makesmalldurchlauf"
       ]
      },
      {
       "output_type": "stream",
       "stream": "stdout",
       "text": [
        "\n",
        "52177.397558f\u00fcr einen makesmalldurchlauf"
       ]
      },
      {
       "output_type": "stream",
       "stream": "stdout",
       "text": [
        "\n",
        "52199.606293f\u00fcr einen makesmalldurchlauf"
       ]
      },
      {
       "output_type": "stream",
       "stream": "stdout",
       "text": [
        "\n",
        "52221.8099589f\u00fcr einen makesmalldurchlauf"
       ]
      },
      {
       "output_type": "stream",
       "stream": "stdout",
       "text": [
        "\n",
        "52244.0957098f\u00fcr einen makesmalldurchlauf"
       ]
      },
      {
       "output_type": "stream",
       "stream": "stdout",
       "text": [
        "\n",
        "52266.9917479f\u00fcr einen makesmalldurchlauf"
       ]
      },
      {
       "output_type": "stream",
       "stream": "stdout",
       "text": [
        "\n",
        "52289.3095498f\u00fcr einen makesmalldurchlauf"
       ]
      },
      {
       "output_type": "stream",
       "stream": "stdout",
       "text": [
        "\n",
        "52311.5563619f\u00fcr einen makesmalldurchlauf"
       ]
      },
      {
       "output_type": "stream",
       "stream": "stdout",
       "text": [
        "\n",
        "52333.9222729f\u00fcr einen makesmalldurchlauf"
       ]
      },
      {
       "output_type": "stream",
       "stream": "stdout",
       "text": [
        "\n",
        "52356.2381179f\u00fcr einen makesmalldurchlauf"
       ]
      },
      {
       "output_type": "stream",
       "stream": "stdout",
       "text": [
        "\n",
        "52378.6203289f\u00fcr einen makesmalldurchlauf"
       ]
      },
      {
       "output_type": "stream",
       "stream": "stdout",
       "text": [
        "\n",
        "52400.92627f\u00fcr einen makesmalldurchlauf"
       ]
      },
      {
       "output_type": "stream",
       "stream": "stdout",
       "text": [
        "\n",
        "52423.157002f\u00fcr einen makesmalldurchlauf"
       ]
      },
      {
       "output_type": "stream",
       "stream": "stdout",
       "text": [
        "\n",
        "52445.4061399f\u00fcr einen makesmalldurchlauf"
       ]
      },
      {
       "output_type": "stream",
       "stream": "stdout",
       "text": [
        "\n",
        "52467.6511319f\u00fcr einen makesmalldurchlauf"
       ]
      },
      {
       "output_type": "stream",
       "stream": "stdout",
       "text": [
        "\n",
        "52489.8686738f\u00fcr einen makesmalldurchlauf"
       ]
      },
      {
       "output_type": "stream",
       "stream": "stdout",
       "text": [
        "\n",
        "52512.094923f\u00fcr einen makesmalldurchlauf"
       ]
      },
      {
       "output_type": "stream",
       "stream": "stdout",
       "text": [
        "\n",
        "52534.346292f\u00fcr einen makesmalldurchlauf"
       ]
      },
      {
       "output_type": "stream",
       "stream": "stdout",
       "text": [
        "\n",
        "52556.5848019f\u00fcr einen makesmalldurchlauf"
       ]
      },
      {
       "output_type": "stream",
       "stream": "stdout",
       "text": [
        "\n",
        "52578.6933379f\u00fcr einen makesmalldurchlauf"
       ]
      },
      {
       "output_type": "stream",
       "stream": "stdout",
       "text": [
        "\n",
        "52600.612402f\u00fcr einen makesmalldurchlauf"
       ]
      },
      {
       "output_type": "stream",
       "stream": "stdout",
       "text": [
        "\n",
        "52622.6359689f\u00fcr einen makesmalldurchlauf"
       ]
      },
      {
       "output_type": "stream",
       "stream": "stdout",
       "text": [
        "\n",
        "52644.6190999f\u00fcr einen makesmalldurchlauf"
       ]
      },
      {
       "output_type": "stream",
       "stream": "stdout",
       "text": [
        "\n",
        "52666.609303f\u00fcr einen makesmalldurchlauf"
       ]
      },
      {
       "output_type": "stream",
       "stream": "stdout",
       "text": [
        "\n",
        "52688.5869348f\u00fcr einen makesmalldurchlauf"
       ]
      },
      {
       "output_type": "stream",
       "stream": "stdout",
       "text": [
        "\n",
        "52710.554539f\u00fcr einen makesmalldurchlauf"
       ]
      },
      {
       "output_type": "stream",
       "stream": "stdout",
       "text": [
        "\n",
        "52732.5294478f\u00fcr einen makesmalldurchlauf"
       ]
      },
      {
       "output_type": "stream",
       "stream": "stdout",
       "text": [
        "\n",
        "52754.4560659f\u00fcr einen makesmalldurchlauf"
       ]
      },
      {
       "output_type": "stream",
       "stream": "stdout",
       "text": [
        "\n",
        "52776.5781958f\u00fcr einen makesmalldurchlauf"
       ]
      },
      {
       "output_type": "stream",
       "stream": "stdout",
       "text": [
        "\n",
        "52798.513459f\u00fcr einen makesmalldurchlauf"
       ]
      },
      {
       "output_type": "stream",
       "stream": "stdout",
       "text": [
        "\n",
        "52820.4715998f\u00fcr einen makesmalldurchlauf"
       ]
      },
      {
       "output_type": "stream",
       "stream": "stdout",
       "text": [
        "\n",
        "52842.4000659f\u00fcr einen makesmalldurchlauf"
       ]
      },
      {
       "output_type": "stream",
       "stream": "stdout",
       "text": [
        "\n",
        "52864.4117508f\u00fcr einen makesmalldurchlauf"
       ]
      },
      {
       "output_type": "stream",
       "stream": "stdout",
       "text": [
        "\n",
        "52886.3394279f\u00fcr einen makesmalldurchlauf"
       ]
      },
      {
       "output_type": "stream",
       "stream": "stdout",
       "text": [
        "\n",
        "52908.3259249f\u00fcr einen makesmalldurchlauf"
       ]
      },
      {
       "output_type": "stream",
       "stream": "stdout",
       "text": [
        "\n",
        "52930.3449938f\u00fcr einen makesmalldurchlauf"
       ]
      },
      {
       "output_type": "stream",
       "stream": "stdout",
       "text": [
        "\n",
        "52952.269789f\u00fcr einen makesmalldurchlauf"
       ]
      },
      {
       "output_type": "stream",
       "stream": "stdout",
       "text": [
        "\n",
        "52974.202528f\u00fcr einen makesmalldurchlauf"
       ]
      },
      {
       "output_type": "stream",
       "stream": "stdout",
       "text": [
        "\n",
        "52996.1452529f\u00fcr einen makesmalldurchlauf"
       ]
      },
      {
       "output_type": "stream",
       "stream": "stdout",
       "text": [
        "\n",
        "53018.0635328f\u00fcr einen makesmalldurchlauf"
       ]
      },
      {
       "output_type": "stream",
       "stream": "stdout",
       "text": [
        "\n",
        "53039.9381318f\u00fcr einen makesmalldurchlauf"
       ]
      },
      {
       "output_type": "stream",
       "stream": "stdout",
       "text": [
        "\n",
        "53061.8663528f\u00fcr einen makesmalldurchlauf"
       ]
      },
      {
       "output_type": "stream",
       "stream": "stdout",
       "text": [
        "\n",
        "53083.7862439f\u00fcr einen makesmalldurchlauf"
       ]
      },
      {
       "output_type": "stream",
       "stream": "stdout",
       "text": [
        "\n",
        "53105.7339358f\u00fcr einen makesmalldurchlauf"
       ]
      },
      {
       "output_type": "stream",
       "stream": "stdout",
       "text": [
        "\n",
        "53127.652283f\u00fcr einen makesmalldurchlauf"
       ]
      },
      {
       "output_type": "stream",
       "stream": "stdout",
       "text": [
        "\n",
        "53149.5912068f\u00fcr einen makesmalldurchlauf"
       ]
      },
      {
       "output_type": "stream",
       "stream": "stdout",
       "text": [
        "\n",
        "53171.851722f\u00fcr einen makesmalldurchlauf"
       ]
      },
      {
       "output_type": "stream",
       "stream": "stdout",
       "text": [
        "\n",
        "53196.2825718f\u00fcr einen makesmalldurchlauf"
       ]
      },
      {
       "output_type": "stream",
       "stream": "stdout",
       "text": [
        "\n",
        "53220.0731668f\u00fcr einen makesmalldurchlauf"
       ]
      },
      {
       "output_type": "stream",
       "stream": "stdout",
       "text": [
        "\n",
        "53244.4608939f\u00fcr einen makesmalldurchlauf"
       ]
      },
      {
       "output_type": "stream",
       "stream": "stdout",
       "text": [
        "\n",
        "53270.9914808f\u00fcr einen makesmalldurchlauf"
       ]
      },
      {
       "output_type": "stream",
       "stream": "stdout",
       "text": [
        "\n",
        "53295.5518069f\u00fcr einen makesmalldurchlauf"
       ]
      },
      {
       "output_type": "stream",
       "stream": "stdout",
       "text": [
        "\n",
        "53320.5147779f\u00fcr einen makesmalldurchlauf"
       ]
      },
      {
       "output_type": "stream",
       "stream": "stdout",
       "text": [
        "\n",
        "53344.7787888f\u00fcr einen makesmalldurchlauf"
       ]
      },
      {
       "output_type": "stream",
       "stream": "stdout",
       "text": [
        "\n",
        "53369.571903f\u00fcr einen makesmalldurchlauf"
       ]
      },
      {
       "output_type": "stream",
       "stream": "stdout",
       "text": [
        "\n",
        "53393.724319f\u00fcr einen makesmalldurchlauf"
       ]
      },
      {
       "output_type": "stream",
       "stream": "stdout",
       "text": [
        "\n",
        "53418.8754749f\u00fcr einen makesmalldurchlauf"
       ]
      },
      {
       "output_type": "stream",
       "stream": "stdout",
       "text": [
        "\n",
        "53443.9989309f\u00fcr einen makesmalldurchlauf"
       ]
      },
      {
       "output_type": "stream",
       "stream": "stdout",
       "text": [
        "\n",
        "53469.5114629f\u00fcr einen makesmalldurchlauf"
       ]
      },
      {
       "output_type": "stream",
       "stream": "stdout",
       "text": [
        "\n",
        "53494.321157f\u00fcr einen makesmalldurchlauf"
       ]
      },
      {
       "output_type": "stream",
       "stream": "stdout",
       "text": [
        "\n",
        "53519.507494f\u00fcr einen makesmalldurchlauf"
       ]
      },
      {
       "output_type": "stream",
       "stream": "stdout",
       "text": [
        "\n",
        "53544.3586979f\u00fcr einen makesmalldurchlauf"
       ]
      },
      {
       "output_type": "stream",
       "stream": "stdout",
       "text": [
        "\n",
        "53568.5148699f\u00fcr einen makesmalldurchlauf"
       ]
      },
      {
       "output_type": "stream",
       "stream": "stdout",
       "text": [
        "\n",
        "53590.4977348f\u00fcr einen makesmalldurchlauf"
       ]
      },
      {
       "output_type": "stream",
       "stream": "stdout",
       "text": [
        "\n",
        "53612.4615009f\u00fcr einen makesmalldurchlauf"
       ]
      },
      {
       "output_type": "stream",
       "stream": "stdout",
       "text": [
        "\n",
        "53634.384516f\u00fcr einen makesmalldurchlauf"
       ]
      },
      {
       "output_type": "stream",
       "stream": "stdout",
       "text": [
        "\n",
        "53656.3340659f\u00fcr einen makesmalldurchlauf"
       ]
      },
      {
       "output_type": "stream",
       "stream": "stdout",
       "text": [
        "\n",
        "53678.2498088f\u00fcr einen makesmalldurchlauf"
       ]
      },
      {
       "output_type": "stream",
       "stream": "stdout",
       "text": [
        "\n",
        "53700.2163119f\u00fcr einen makesmalldurchlauf"
       ]
      },
      {
       "output_type": "stream",
       "stream": "stdout",
       "text": [
        "\n",
        "53722.5543959f\u00fcr einen makesmalldurchlauf"
       ]
      },
      {
       "output_type": "stream",
       "stream": "stdout",
       "text": [
        "\n",
        "53744.4640498f\u00fcr einen makesmalldurchlauf"
       ]
      },
      {
       "output_type": "stream",
       "stream": "stdout",
       "text": [
        "\n",
        "53766.3929539f\u00fcr einen makesmalldurchlauf"
       ]
      },
      {
       "output_type": "stream",
       "stream": "stdout",
       "text": [
        "\n",
        "53788.3826299f\u00fcr einen makesmalldurchlauf"
       ]
      },
      {
       "output_type": "stream",
       "stream": "stdout",
       "text": [
        "\n",
        "53810.3099239f\u00fcr einen makesmalldurchlauf"
       ]
      },
      {
       "output_type": "stream",
       "stream": "stdout",
       "text": [
        "\n",
        "53832.3171659f\u00fcr einen makesmalldurchlauf"
       ]
      },
      {
       "output_type": "stream",
       "stream": "stdout",
       "text": [
        "\n",
        "53854.3620498f\u00fcr einen makesmalldurchlauf"
       ]
      },
      {
       "output_type": "stream",
       "stream": "stdout",
       "text": [
        "\n",
        "53876.3006568f\u00fcr einen makesmalldurchlauf"
       ]
      },
      {
       "output_type": "stream",
       "stream": "stdout",
       "text": [
        "\n",
        "53898.3318539f\u00fcr einen makesmalldurchlauf"
       ]
      },
      {
       "output_type": "stream",
       "stream": "stdout",
       "text": [
        "\n",
        "53920.352773f\u00fcr einen makesmalldurchlauf"
       ]
      },
      {
       "output_type": "stream",
       "stream": "stdout",
       "text": [
        "\n",
        "53942.3280079f\u00fcr einen makesmalldurchlauf"
       ]
      },
      {
       "output_type": "stream",
       "stream": "stdout",
       "text": [
        "\n",
        "53964.3807168f\u00fcr einen makesmalldurchlauf"
       ]
      },
      {
       "output_type": "stream",
       "stream": "stdout",
       "text": [
        "\n",
        "53986.4465148f\u00fcr einen makesmalldurchlauf"
       ]
      },
      {
       "output_type": "stream",
       "stream": "stdout",
       "text": [
        "\n",
        "54008.4113319f\u00fcr einen makesmalldurchlauf"
       ]
      },
      {
       "output_type": "stream",
       "stream": "stdout",
       "text": [
        "\n",
        "54030.3594398f\u00fcr einen makesmalldurchlauf"
       ]
      },
      {
       "output_type": "stream",
       "stream": "stdout",
       "text": [
        "\n",
        "54052.3999429f\u00fcr einen makesmalldurchlauf"
       ]
      },
      {
       "output_type": "stream",
       "stream": "stdout",
       "text": [
        "\n",
        "54074.3539438f\u00fcr einen makesmalldurchlauf"
       ]
      },
      {
       "output_type": "stream",
       "stream": "stdout",
       "text": [
        "\n",
        "54096.283798f\u00fcr einen makesmalldurchlauf"
       ]
      },
      {
       "output_type": "stream",
       "stream": "stdout",
       "text": [
        "\n",
        "54118.2349298f\u00fcr einen makesmalldurchlauf"
       ]
      },
      {
       "output_type": "stream",
       "stream": "stdout",
       "text": [
        "\n",
        "54140.2060938f\u00fcr einen makesmalldurchlauf"
       ]
      },
      {
       "output_type": "stream",
       "stream": "stdout",
       "text": [
        "\n",
        "54162.1877708f\u00fcr einen makesmalldurchlauf"
       ]
      },
      {
       "output_type": "stream",
       "stream": "stdout",
       "text": [
        "\n",
        "54184.1883159f\u00fcr einen makesmalldurchlauf"
       ]
      },
      {
       "output_type": "stream",
       "stream": "stdout",
       "text": [
        "\n",
        "54206.2274809f\u00fcr einen makesmalldurchlauf"
       ]
      },
      {
       "output_type": "stream",
       "stream": "stdout",
       "text": [
        "\n",
        "54228.2783329f\u00fcr einen makesmalldurchlauf"
       ]
      },
      {
       "output_type": "stream",
       "stream": "stdout",
       "text": [
        "\n",
        "54250.1912858f\u00fcr einen makesmalldurchlauf"
       ]
      },
      {
       "output_type": "stream",
       "stream": "stdout",
       "text": [
        "\n",
        "54272.1311109f\u00fcr einen makesmalldurchlauf"
       ]
      },
      {
       "output_type": "stream",
       "stream": "stdout",
       "text": [
        "\n",
        "54294.0459909f\u00fcr einen makesmalldurchlauf"
       ]
      },
      {
       "output_type": "stream",
       "stream": "stdout",
       "text": [
        "\n",
        "54316.9408338f\u00fcr einen makesmalldurchlauf"
       ]
      },
      {
       "output_type": "stream",
       "stream": "stdout",
       "text": [
        "\n",
        "54342.323602f\u00fcr einen makesmalldurchlauf"
       ]
      },
      {
       "output_type": "stream",
       "stream": "stdout",
       "text": [
        "\n",
        "54367.6466029f\u00fcr einen makesmalldurchlauf"
       ]
      },
      {
       "output_type": "stream",
       "stream": "stdout",
       "text": [
        "\n",
        "54395.3536689f\u00fcr einen makesmalldurchlauf"
       ]
      },
      {
       "output_type": "stream",
       "stream": "stdout",
       "text": [
        "\n",
        "54422.7320709f\u00fcr einen makesmalldurchlauf"
       ]
      },
      {
       "output_type": "stream",
       "stream": "stdout",
       "text": [
        "\n",
        "54447.8215439f\u00fcr einen makesmalldurchlauf"
       ]
      },
      {
       "output_type": "stream",
       "stream": "stdout",
       "text": [
        "\n",
        "54472.682775f\u00fcr einen makesmalldurchlauf"
       ]
      },
      {
       "output_type": "stream",
       "stream": "stdout",
       "text": [
        "\n",
        "54497.7058859f\u00fcr einen makesmalldurchlauf"
       ]
      },
      {
       "output_type": "stream",
       "stream": "stdout",
       "text": [
        "\n",
        "54524.0675468f\u00fcr einen makesmalldurchlauf"
       ]
      },
      {
       "output_type": "stream",
       "stream": "stdout",
       "text": [
        "\n",
        "54549.686497f\u00fcr einen makesmalldurchlauf"
       ]
      },
      {
       "output_type": "stream",
       "stream": "stdout",
       "text": [
        "\n",
        "54574.732008f\u00fcr einen makesmalldurchlauf"
       ]
      },
      {
       "output_type": "stream",
       "stream": "stdout",
       "text": [
        "\n",
        "54602.007725f\u00fcr einen makesmalldurchlauf"
       ]
      },
      {
       "output_type": "stream",
       "stream": "stdout",
       "text": [
        "\n",
        "54629.5818758f\u00fcr einen makesmalldurchlauf"
       ]
      },
      {
       "output_type": "stream",
       "stream": "stdout",
       "text": [
        "\n",
        "54657.0576239f\u00fcr einen makesmalldurchlauf"
       ]
      },
      {
       "output_type": "stream",
       "stream": "stdout",
       "text": [
        "\n",
        "54684.7707138f\u00fcr einen makesmalldurchlauf"
       ]
      },
      {
       "output_type": "stream",
       "stream": "stdout",
       "text": [
        "\n",
        "54711.7429869f\u00fcr einen makesmalldurchlauf"
       ]
      },
      {
       "output_type": "stream",
       "stream": "stdout",
       "text": [
        "\n",
        "54737.450784f\u00fcr einen makesmalldurchlauf"
       ]
      },
      {
       "output_type": "stream",
       "stream": "stdout",
       "text": [
        "\n",
        "54763.1677458f\u00fcr einen makesmalldurchlauf"
       ]
      },
      {
       "output_type": "stream",
       "stream": "stdout",
       "text": [
        "\n",
        "54788.268656f\u00fcr einen makesmalldurchlauf"
       ]
      },
      {
       "output_type": "stream",
       "stream": "stdout",
       "text": [
        "\n",
        "54813.5746238f\u00fcr einen makesmalldurchlauf"
       ]
      },
      {
       "output_type": "stream",
       "stream": "stdout",
       "text": [
        "\n",
        "54842.25842f\u00fcr einen makesmalldurchlauf"
       ]
      },
      {
       "output_type": "stream",
       "stream": "stdout",
       "text": [
        "\n",
        "54867.370147f\u00fcr einen makesmalldurchlauf"
       ]
      },
      {
       "output_type": "stream",
       "stream": "stdout",
       "text": [
        "\n",
        "54892.4221499f\u00fcr einen makesmalldurchlauf"
       ]
      },
      {
       "output_type": "stream",
       "stream": "stdout",
       "text": [
        "\n",
        "54917.7609479f\u00fcr einen makesmalldurchlauf"
       ]
      },
      {
       "output_type": "stream",
       "stream": "stdout",
       "text": [
        "\n",
        "54943.2852788f\u00fcr einen makesmalldurchlauf"
       ]
      },
      {
       "output_type": "stream",
       "stream": "stdout",
       "text": [
        "\n",
        "54967.7322679f\u00fcr einen makesmalldurchlauf"
       ]
      },
      {
       "output_type": "stream",
       "stream": "stdout",
       "text": [
        "\n",
        "54993.2359388f\u00fcr einen makesmalldurchlauf"
       ]
      },
      {
       "output_type": "stream",
       "stream": "stdout",
       "text": [
        "\n",
        "55017.288234f\u00fcr einen makesmalldurchlauf"
       ]
      },
      {
       "output_type": "stream",
       "stream": "stdout",
       "text": [
        "\n",
        "55042.1081889f\u00fcr einen makesmalldurchlauf"
       ]
      },
      {
       "output_type": "stream",
       "stream": "stdout",
       "text": [
        "\n",
        "55067.8414528f\u00fcr einen makesmalldurchlauf"
       ]
      },
      {
       "output_type": "stream",
       "stream": "stdout",
       "text": [
        "\n",
        "55093.5760829f\u00fcr einen makesmalldurchlauf"
       ]
      },
      {
       "output_type": "stream",
       "stream": "stdout",
       "text": [
        "\n",
        "55117.3452358f\u00fcr einen makesmalldurchlauf"
       ]
      },
      {
       "output_type": "stream",
       "stream": "stdout",
       "text": [
        "\n",
        "55144.0436618f\u00fcr einen makesmalldurchlauf"
       ]
      },
      {
       "output_type": "stream",
       "stream": "stdout",
       "text": [
        "\n",
        "55169.6164498f\u00fcr einen makesmalldurchlauf"
       ]
      },
      {
       "output_type": "stream",
       "stream": "stdout",
       "text": [
        "\n",
        "55195.123564f\u00fcr einen makesmalldurchlauf"
       ]
      },
      {
       "output_type": "stream",
       "stream": "stdout",
       "text": [
        "\n",
        "55220.2001939f\u00fcr einen makesmalldurchlauf"
       ]
      },
      {
       "output_type": "stream",
       "stream": "stdout",
       "text": [
        "\n",
        "55244.160584f\u00fcr einen makesmalldurchlauf"
       ]
      },
      {
       "output_type": "stream",
       "stream": "stdout",
       "text": [
        "\n",
        "55268.4653959f\u00fcr einen makesmalldurchlauf"
       ]
      },
      {
       "output_type": "stream",
       "stream": "stdout",
       "text": [
        "\n",
        "55293.224216f\u00fcr einen makesmalldurchlauf"
       ]
      },
      {
       "output_type": "stream",
       "stream": "stdout",
       "text": [
        "\n",
        "55317.2499139f\u00fcr einen makesmalldurchlauf"
       ]
      },
      {
       "output_type": "stream",
       "stream": "stdout",
       "text": [
        "\n",
        "55342.7446039f\u00fcr einen makesmalldurchlauf"
       ]
      },
      {
       "output_type": "stream",
       "stream": "stdout",
       "text": [
        "\n",
        "55366.6636138f\u00fcr einen makesmalldurchlauf"
       ]
      },
      {
       "output_type": "stream",
       "stream": "stdout",
       "text": [
        "\n",
        "55391.1149199f\u00fcr einen makesmalldurchlauf"
       ]
      },
      {
       "output_type": "stream",
       "stream": "stdout",
       "text": [
        "\n",
        "55414.9213319f\u00fcr einen makesmalldurchlauf"
       ]
      },
      {
       "output_type": "stream",
       "stream": "stdout",
       "text": [
        "\n",
        "55439.3696098f\u00fcr einen makesmalldurchlauf"
       ]
      },
      {
       "output_type": "stream",
       "stream": "stdout",
       "text": [
        "\n",
        "55464.7757878f\u00fcr einen makesmalldurchlauf"
       ]
      },
      {
       "output_type": "stream",
       "stream": "stdout",
       "text": [
        "\n",
        "55488.7810168f\u00fcr einen makesmalldurchlauf"
       ]
      },
      {
       "output_type": "stream",
       "stream": "stdout",
       "text": [
        "\n",
        "55514.3000579f\u00fcr einen makesmalldurchlauf"
       ]
      },
      {
       "output_type": "stream",
       "stream": "stdout",
       "text": [
        "\n",
        "55537.84582f\u00fcr einen makesmalldurchlauf"
       ]
      },
      {
       "output_type": "stream",
       "stream": "stdout",
       "text": [
        "\n",
        "55561.4419079f\u00fcr einen makesmalldurchlauf"
       ]
      },
      {
       "output_type": "stream",
       "stream": "stdout",
       "text": [
        "\n",
        "55585.1205039f\u00fcr einen makesmalldurchlauf"
       ]
      },
      {
       "output_type": "stream",
       "stream": "stdout",
       "text": [
        "\n",
        "55608.8262889f\u00fcr einen makesmalldurchlauf"
       ]
      },
      {
       "output_type": "stream",
       "stream": "stdout",
       "text": [
        "\n",
        "55632.536047f\u00fcr einen makesmalldurchlauf"
       ]
      },
      {
       "output_type": "stream",
       "stream": "stdout",
       "text": [
        "\n",
        "55656.237926f\u00fcr einen makesmalldurchlauf"
       ]
      },
      {
       "output_type": "stream",
       "stream": "stdout",
       "text": [
        "\n",
        "55679.7019939f\u00fcr einen makesmalldurchlauf"
       ]
      },
      {
       "output_type": "stream",
       "stream": "stdout",
       "text": [
        "\n",
        "55703.2662158f\u00fcr einen makesmalldurchlauf"
       ]
      },
      {
       "output_type": "stream",
       "stream": "stdout",
       "text": [
        "\n",
        "55727.0189328f\u00fcr einen makesmalldurchlauf"
       ]
      },
      {
       "output_type": "stream",
       "stream": "stdout",
       "text": [
        "\n",
        "55750.593554f\u00fcr einen makesmalldurchlauf"
       ]
      },
      {
       "output_type": "stream",
       "stream": "stdout",
       "text": [
        "\n",
        "55774.4216909f\u00fcr einen makesmalldurchlauf"
       ]
      },
      {
       "output_type": "stream",
       "stream": "stdout",
       "text": [
        "\n",
        "55798.136812f\u00fcr einen makesmalldurchlauf"
       ]
      },
      {
       "output_type": "stream",
       "stream": "stdout",
       "text": [
        "\n",
        "55821.9054649f\u00fcr einen makesmalldurchlauf"
       ]
      },
      {
       "output_type": "stream",
       "stream": "stdout",
       "text": [
        "\n",
        "55845.3972759f\u00fcr einen makesmalldurchlauf"
       ]
      },
      {
       "output_type": "stream",
       "stream": "stdout",
       "text": [
        "\n",
        "55868.8925729f\u00fcr einen makesmalldurchlauf"
       ]
      },
      {
       "output_type": "stream",
       "stream": "stdout",
       "text": [
        "\n",
        "55895.1427999f\u00fcr einen makesmalldurchlauf"
       ]
      },
      {
       "output_type": "stream",
       "stream": "stdout",
       "text": [
        "\n",
        "55918.708957f\u00fcr einen makesmalldurchlauf"
       ]
      },
      {
       "output_type": "stream",
       "stream": "stdout",
       "text": [
        "\n",
        "55944.9207098f\u00fcr einen makesmalldurchlauf"
       ]
      },
      {
       "output_type": "stream",
       "stream": "stdout",
       "text": [
        "\n",
        "55968.515378f\u00fcr einen makesmalldurchlauf"
       ]
      },
      {
       "output_type": "stream",
       "stream": "stdout",
       "text": [
        "\n",
        "55992.1304588f\u00fcr einen makesmalldurchlauf"
       ]
      },
      {
       "output_type": "stream",
       "stream": "stdout",
       "text": [
        "\n",
        "56015.6421409f\u00fcr einen makesmalldurchlauf"
       ]
      },
      {
       "output_type": "stream",
       "stream": "stdout",
       "text": [
        "\n",
        "56039.222337f\u00fcr einen makesmalldurchlauf"
       ]
      },
      {
       "output_type": "stream",
       "stream": "stdout",
       "text": [
        "\n",
        "56063.0080998f\u00fcr einen makesmalldurchlauf"
       ]
      },
      {
       "output_type": "stream",
       "stream": "stdout",
       "text": [
        "\n",
        "56086.547879f\u00fcr einen makesmalldurchlauf"
       ]
      },
      {
       "output_type": "stream",
       "stream": "stdout",
       "text": [
        "\n",
        "56109.9130149f\u00fcr einen makesmalldurchlauf"
       ]
      },
      {
       "output_type": "stream",
       "stream": "stdout",
       "text": [
        "\n",
        "56135.7200708f\u00fcr einen makesmalldurchlauf"
       ]
      },
      {
       "output_type": "stream",
       "stream": "stdout",
       "text": [
        "\n",
        "56161.7888858f\u00fcr einen makesmalldurchlauf"
       ]
      },
      {
       "output_type": "stream",
       "stream": "stdout",
       "text": [
        "\n",
        "56186.0299189f\u00fcr einen makesmalldurchlauf"
       ]
      },
      {
       "output_type": "stream",
       "stream": "stdout",
       "text": [
        "\n",
        "56209.9696128f\u00fcr einen makesmalldurchlauf"
       ]
      },
      {
       "output_type": "stream",
       "stream": "stdout",
       "text": [
        "\n",
        "56234.1838298f\u00fcr einen makesmalldurchlauf"
       ]
      },
      {
       "output_type": "stream",
       "stream": "stdout",
       "text": [
        "\n",
        "56258.3344839f\u00fcr einen makesmalldurchlauf"
       ]
      },
      {
       "output_type": "stream",
       "stream": "stdout",
       "text": [
        "\n",
        "56283.5273688f\u00fcr einen makesmalldurchlauf"
       ]
      },
      {
       "output_type": "stream",
       "stream": "stdout",
       "text": [
        "\n",
        "56307.743273f\u00fcr einen makesmalldurchlauf"
       ]
      },
      {
       "output_type": "stream",
       "stream": "stdout",
       "text": [
        "\n",
        "56333.3019729f\u00fcr einen makesmalldurchlauf"
       ]
      },
      {
       "output_type": "stream",
       "stream": "stdout",
       "text": [
        "\n",
        "56358.849386f\u00fcr einen makesmalldurchlauf"
       ]
      },
      {
       "output_type": "stream",
       "stream": "stdout",
       "text": [
        "\n",
        "56383.6087949f\u00fcr einen makesmalldurchlauf"
       ]
      },
      {
       "output_type": "stream",
       "stream": "stdout",
       "text": [
        "\n",
        "56408.4484329f\u00fcr einen makesmalldurchlauf"
       ]
      },
      {
       "output_type": "stream",
       "stream": "stdout",
       "text": [
        "\n",
        "56433.9371738f\u00fcr einen makesmalldurchlauf"
       ]
      },
      {
       "output_type": "stream",
       "stream": "stdout",
       "text": [
        "\n",
        "56460.1252229f\u00fcr einen makesmalldurchlauf"
       ]
      },
      {
       "output_type": "stream",
       "stream": "stdout",
       "text": [
        "\n",
        "56484.9440699f\u00fcr einen makesmalldurchlauf"
       ]
      },
      {
       "output_type": "stream",
       "stream": "stdout",
       "text": [
        "\n",
        "56509.7586029f\u00fcr einen makesmalldurchlauf"
       ]
      },
      {
       "output_type": "stream",
       "stream": "stdout",
       "text": [
        "\n",
        "56535.125078f\u00fcr einen makesmalldurchlauf"
       ]
      },
      {
       "output_type": "stream",
       "stream": "stdout",
       "text": [
        "\n",
        "56559.847265f\u00fcr einen makesmalldurchlauf"
       ]
      },
      {
       "output_type": "stream",
       "stream": "stdout",
       "text": [
        "\n",
        "56584.7002158f\u00fcr einen makesmalldurchlauf"
       ]
      },
      {
       "output_type": "stream",
       "stream": "stdout",
       "text": [
        "\n",
        "56609.1864569f\u00fcr einen makesmalldurchlauf"
       ]
      },
      {
       "output_type": "stream",
       "stream": "stdout",
       "text": [
        "\n",
        "56634.3670709f\u00fcr einen makesmalldurchlauf"
       ]
      },
      {
       "output_type": "stream",
       "stream": "stdout",
       "text": [
        "\n",
        "56658.3766398f\u00fcr einen makesmalldurchlauf"
       ]
      },
      {
       "output_type": "stream",
       "stream": "stdout",
       "text": [
        "\n",
        "56682.6688159f\u00fcr einen makesmalldurchlauf"
       ]
      },
      {
       "output_type": "stream",
       "stream": "stdout",
       "text": [
        "\n",
        "56706.5985038f\u00fcr einen makesmalldurchlauf"
       ]
      },
      {
       "output_type": "stream",
       "stream": "stdout",
       "text": [
        "\n",
        "56731.0431449f\u00fcr einen makesmalldurchlauf"
       ]
      },
      {
       "output_type": "stream",
       "stream": "stdout",
       "text": [
        "\n",
        "56755.1447389f\u00fcr einen makesmalldurchlauf"
       ]
      },
      {
       "output_type": "stream",
       "stream": "stdout",
       "text": [
        "\n",
        "56779.129761f\u00fcr einen makesmalldurchlauf"
       ]
      },
      {
       "output_type": "stream",
       "stream": "stdout",
       "text": [
        "\n",
        "56803.1741738f\u00fcr einen makesmalldurchlauf"
       ]
      },
      {
       "output_type": "stream",
       "stream": "stdout",
       "text": [
        "\n",
        "56827.1521509f\u00fcr einen makesmalldurchlauf"
       ]
      },
      {
       "output_type": "stream",
       "stream": "stdout",
       "text": [
        "\n",
        "56851.194397f\u00fcr einen makesmalldurchlauf"
       ]
      },
      {
       "output_type": "stream",
       "stream": "stdout",
       "text": [
        "\n",
        "56874.4815719f\u00fcr einen makesmalldurchlauf"
       ]
      },
      {
       "output_type": "stream",
       "stream": "stdout",
       "text": [
        "\n",
        "56897.6815989f\u00fcr einen makesmalldurchlauf"
       ]
      },
      {
       "output_type": "stream",
       "stream": "stdout",
       "text": [
        "\n",
        "56921.0467398f\u00fcr einen makesmalldurchlauf"
       ]
      },
      {
       "output_type": "stream",
       "stream": "stdout",
       "text": [
        "\n",
        "56944.2659919f\u00fcr einen makesmalldurchlauf"
       ]
      },
      {
       "output_type": "stream",
       "stream": "stdout",
       "text": [
        "\n",
        "56968.1560049f\u00fcr einen makesmalldurchlauf"
       ]
      },
      {
       "output_type": "stream",
       "stream": "stdout",
       "text": [
        "\n",
        "56992.0567238f\u00fcr einen makesmalldurchlauf"
       ]
      },
      {
       "output_type": "stream",
       "stream": "stdout",
       "text": [
        "\n",
        "57016.0564308f\u00fcr einen makesmalldurchlauf"
       ]
      },
      {
       "output_type": "stream",
       "stream": "stdout",
       "text": [
        "\n",
        "57039.928443f\u00fcr einen makesmalldurchlauf"
       ]
      },
      {
       "output_type": "stream",
       "stream": "stdout",
       "text": [
        "\n",
        "57063.8283949f\u00fcr einen makesmalldurchlauf"
       ]
      },
      {
       "output_type": "stream",
       "stream": "stdout",
       "text": [
        "\n",
        "57087.9827318f\u00fcr einen makesmalldurchlauf"
       ]
      },
      {
       "output_type": "stream",
       "stream": "stdout",
       "text": [
        "\n",
        "57111.8905499f\u00fcr einen makesmalldurchlauf"
       ]
      },
      {
       "output_type": "stream",
       "stream": "stdout",
       "text": [
        "\n",
        "57135.8724868f\u00fcr einen makesmalldurchlauf"
       ]
      },
      {
       "output_type": "stream",
       "stream": "stdout",
       "text": [
        "\n",
        "57159.8662448f\u00fcr einen makesmalldurchlauf"
       ]
      },
      {
       "output_type": "stream",
       "stream": "stdout",
       "text": [
        "\n",
        "57183.81898f\u00fcr einen makesmalldurchlauf"
       ]
      },
      {
       "output_type": "stream",
       "stream": "stdout",
       "text": [
        "\n",
        "57207.773608f\u00fcr einen makesmalldurchlauf"
       ]
      },
      {
       "output_type": "stream",
       "stream": "stdout",
       "text": [
        "\n",
        "57231.7012398f\u00fcr einen makesmalldurchlauf"
       ]
      },
      {
       "output_type": "stream",
       "stream": "stdout",
       "text": [
        "\n",
        "57254.9969749f\u00fcr einen makesmalldurchlauf"
       ]
      },
      {
       "output_type": "stream",
       "stream": "stdout",
       "text": [
        "\n",
        "57279.01879f\u00fcr einen makesmalldurchlauf"
       ]
      },
      {
       "output_type": "stream",
       "stream": "stdout",
       "text": [
        "\n",
        "57303.064111f\u00fcr einen makesmalldurchlauf"
       ]
      },
      {
       "output_type": "stream",
       "stream": "stdout",
       "text": [
        "\n",
        "57326.272681f\u00fcr einen makesmalldurchlauf"
       ]
      },
      {
       "output_type": "stream",
       "stream": "stdout",
       "text": [
        "\n",
        "57348.781472f\u00fcr einen makesmalldurchlauf"
       ]
      },
      {
       "output_type": "stream",
       "stream": "stdout",
       "text": [
        "\n",
        "57371.688488f\u00fcr einen makesmalldurchlauf"
       ]
      },
      {
       "output_type": "stream",
       "stream": "stdout",
       "text": [
        "\n",
        "57394.1926448f\u00fcr einen makesmalldurchlauf"
       ]
      },
      {
       "output_type": "stream",
       "stream": "stdout",
       "text": [
        "\n",
        "57416.6865108f\u00fcr einen makesmalldurchlauf"
       ]
      },
      {
       "output_type": "stream",
       "stream": "stdout",
       "text": [
        "\n",
        "57439.284066f\u00fcr einen makesmalldurchlauf"
       ]
      },
      {
       "output_type": "stream",
       "stream": "stdout",
       "text": [
        "\n",
        "57462.0685718f\u00fcr einen makesmalldurchlauf"
       ]
      },
      {
       "output_type": "stream",
       "stream": "stdout",
       "text": [
        "\n",
        "57484.392524f\u00fcr einen makesmalldurchlauf"
       ]
      },
      {
       "output_type": "stream",
       "stream": "stdout",
       "text": [
        "\n",
        "57506.6722579f\u00fcr einen makesmalldurchlauf"
       ]
      },
      {
       "output_type": "stream",
       "stream": "stdout",
       "text": [
        "\n",
        "57529.215462f\u00fcr einen makesmalldurchlauf"
       ]
      },
      {
       "output_type": "stream",
       "stream": "stdout",
       "text": [
        "\n",
        "57551.6086879f\u00fcr einen makesmalldurchlauf"
       ]
      },
      {
       "output_type": "stream",
       "stream": "stdout",
       "text": [
        "\n",
        "57574.0030138f\u00fcr einen makesmalldurchlauf"
       ]
      },
      {
       "output_type": "stream",
       "stream": "stdout",
       "text": [
        "\n",
        "57596.3819518f\u00fcr einen makesmalldurchlauf"
       ]
      },
      {
       "output_type": "stream",
       "stream": "stdout",
       "text": [
        "\n",
        "57618.729893f\u00fcr einen makesmalldurchlauf"
       ]
      },
      {
       "output_type": "stream",
       "stream": "stdout",
       "text": [
        "\n",
        "57641.198324f\u00fcr einen makesmalldurchlauf"
       ]
      },
      {
       "output_type": "stream",
       "stream": "stdout",
       "text": [
        "\n",
        "57663.612155f\u00fcr einen makesmalldurchlauf"
       ]
      },
      {
       "output_type": "stream",
       "stream": "stdout",
       "text": [
        "\n",
        "57685.9890759f\u00fcr einen makesmalldurchlauf"
       ]
      },
      {
       "output_type": "stream",
       "stream": "stdout",
       "text": [
        "\n",
        "57708.4801199f\u00fcr einen makesmalldurchlauf"
       ]
      },
      {
       "output_type": "stream",
       "stream": "stdout",
       "text": [
        "\n",
        "57730.6828818f\u00fcr einen makesmalldurchlauf"
       ]
      },
      {
       "output_type": "stream",
       "stream": "stdout",
       "text": [
        "\n",
        "57752.949368f\u00fcr einen makesmalldurchlauf"
       ]
      },
      {
       "output_type": "stream",
       "stream": "stdout",
       "text": [
        "\n",
        "57776.039598f\u00fcr einen makesmalldurchlauf"
       ]
      },
      {
       "output_type": "stream",
       "stream": "stdout",
       "text": [
        "\n",
        "57798.673713f\u00fcr einen makesmalldurchlauf"
       ]
      },
      {
       "output_type": "stream",
       "stream": "stdout",
       "text": [
        "\n",
        "57821.385778f\u00fcr einen makesmalldurchlauf"
       ]
      },
      {
       "output_type": "stream",
       "stream": "stdout",
       "text": [
        "\n",
        "57844.1386449f\u00fcr einen makesmalldurchlauf"
       ]
      },
      {
       "output_type": "stream",
       "stream": "stdout",
       "text": [
        "\n",
        "57866.623245f\u00fcr einen makesmalldurchlauf"
       ]
      },
      {
       "output_type": "stream",
       "stream": "stdout",
       "text": [
        "\n",
        "57889.0183129f\u00fcr einen makesmalldurchlauf"
       ]
      },
      {
       "output_type": "stream",
       "stream": "stdout",
       "text": [
        "\n",
        "57911.6925318f\u00fcr einen makesmalldurchlauf"
       ]
      },
      {
       "output_type": "stream",
       "stream": "stdout",
       "text": [
        "\n",
        "57934.0834038f\u00fcr einen makesmalldurchlauf"
       ]
      },
      {
       "output_type": "stream",
       "stream": "stdout",
       "text": [
        "\n",
        "57956.2331169f\u00fcr einen makesmalldurchlauf"
       ]
      },
      {
       "output_type": "stream",
       "stream": "stdout",
       "text": [
        "\n",
        "57978.37501f\u00fcr einen makesmalldurchlauf"
       ]
      },
      {
       "output_type": "stream",
       "stream": "stdout",
       "text": [
        "\n",
        "58000.4801419f\u00fcr einen makesmalldurchlauf"
       ]
      },
      {
       "output_type": "stream",
       "stream": "stdout",
       "text": [
        "\n",
        "58022.622391f\u00fcr einen makesmalldurchlauf"
       ]
      },
      {
       "output_type": "stream",
       "stream": "stdout",
       "text": [
        "\n",
        "58044.8025959f\u00fcr einen makesmalldurchlauf"
       ]
      },
      {
       "output_type": "stream",
       "stream": "stdout",
       "text": [
        "\n",
        "58066.9642389f\u00fcr einen makesmalldurchlauf"
       ]
      },
      {
       "output_type": "stream",
       "stream": "stdout",
       "text": [
        "\n",
        "58089.2273638f\u00fcr einen makesmalldurchlauf"
       ]
      },
      {
       "output_type": "stream",
       "stream": "stdout",
       "text": [
        "\n",
        "58111.3548939f\u00fcr einen makesmalldurchlauf"
       ]
      },
      {
       "output_type": "stream",
       "stream": "stdout",
       "text": [
        "\n",
        "58133.5284629f\u00fcr einen makesmalldurchlauf"
       ]
      },
      {
       "output_type": "stream",
       "stream": "stdout",
       "text": [
        "\n",
        "58155.7439299f\u00fcr einen makesmalldurchlauf"
       ]
      },
      {
       "output_type": "stream",
       "stream": "stdout",
       "text": [
        "\n",
        "58177.8169529f\u00fcr einen makesmalldurchlauf"
       ]
      },
      {
       "output_type": "stream",
       "stream": "stdout",
       "text": [
        "\n",
        "58199.964653f\u00fcr einen makesmalldurchlauf"
       ]
      },
      {
       "output_type": "stream",
       "stream": "stdout",
       "text": [
        "\n",
        "58222.1258018f\u00fcr einen makesmalldurchlauf"
       ]
      },
      {
       "output_type": "stream",
       "stream": "stdout",
       "text": [
        "\n",
        "58244.448432f\u00fcr einen makesmalldurchlauf"
       ]
      },
      {
       "output_type": "stream",
       "stream": "stdout",
       "text": [
        "\n",
        "58266.7186658f\u00fcr einen makesmalldurchlauf"
       ]
      },
      {
       "output_type": "stream",
       "stream": "stdout",
       "text": [
        "\n",
        "58288.8671119f\u00fcr einen makesmalldurchlauf"
       ]
      },
      {
       "output_type": "stream",
       "stream": "stdout",
       "text": [
        "\n",
        "58311.0175378f\u00fcr einen makesmalldurchlauf"
       ]
      },
      {
       "output_type": "stream",
       "stream": "stdout",
       "text": [
        "\n",
        "58333.4358499f\u00fcr einen makesmalldurchlauf"
       ]
      },
      {
       "output_type": "stream",
       "stream": "stdout",
       "text": [
        "\n",
        "58356.112464f\u00fcr einen makesmalldurchlauf"
       ]
      },
      {
       "output_type": "stream",
       "stream": "stdout",
       "text": [
        "\n",
        "58378.4876349f\u00fcr einen makesmalldurchlauf"
       ]
      },
      {
       "output_type": "stream",
       "stream": "stdout",
       "text": [
        "\n",
        "58400.676033f\u00fcr einen makesmalldurchlauf"
       ]
      },
      {
       "output_type": "stream",
       "stream": "stdout",
       "text": [
        "\n",
        "58422.999202f\u00fcr einen makesmalldurchlauf"
       ]
      },
      {
       "output_type": "stream",
       "stream": "stdout",
       "text": [
        "\n",
        "58445.2146289f\u00fcr einen makesmalldurchlauf"
       ]
      },
      {
       "output_type": "stream",
       "stream": "stdout",
       "text": [
        "\n",
        "58467.41503f\u00fcr einen makesmalldurchlauf"
       ]
      },
      {
       "output_type": "stream",
       "stream": "stdout",
       "text": [
        "\n",
        "58489.5714419f\u00fcr einen makesmalldurchlauf"
       ]
      },
      {
       "output_type": "stream",
       "stream": "stdout",
       "text": [
        "\n",
        "58511.7435198f\u00fcr einen makesmalldurchlauf"
       ]
      },
      {
       "output_type": "stream",
       "stream": "stdout",
       "text": [
        "\n",
        "58533.8111279f\u00fcr einen makesmalldurchlauf"
       ]
      },
      {
       "output_type": "stream",
       "stream": "stdout",
       "text": [
        "\n",
        "58555.7853129f\u00fcr einen makesmalldurchlauf"
       ]
      },
      {
       "output_type": "stream",
       "stream": "stdout",
       "text": [
        "\n",
        "58577.764432f\u00fcr einen makesmalldurchlauf"
       ]
      },
      {
       "output_type": "stream",
       "stream": "stdout",
       "text": [
        "\n",
        "58599.817359f\u00fcr einen makesmalldurchlauf"
       ]
      },
      {
       "output_type": "stream",
       "stream": "stdout",
       "text": [
        "\n",
        "58621.7185769f\u00fcr einen makesmalldurchlauf"
       ]
      },
      {
       "output_type": "stream",
       "stream": "stdout",
       "text": [
        "\n",
        "58643.7745879f\u00fcr einen makesmalldurchlauf"
       ]
      },
      {
       "output_type": "stream",
       "stream": "stdout",
       "text": [
        "\n",
        "58665.7717459f\u00fcr einen makesmalldurchlauf"
       ]
      },
      {
       "output_type": "stream",
       "stream": "stdout",
       "text": [
        "\n",
        "58687.7639229f\u00fcr einen makesmalldurchlauf"
       ]
      },
      {
       "output_type": "stream",
       "stream": "stdout",
       "text": [
        "\n",
        "58709.8362968f\u00fcr einen makesmalldurchlauf"
       ]
      },
      {
       "output_type": "stream",
       "stream": "stdout",
       "text": [
        "\n",
        "58731.7961578f\u00fcr einen makesmalldurchlauf"
       ]
      },
      {
       "output_type": "stream",
       "stream": "stdout",
       "text": [
        "\n",
        "58753.7994189f\u00fcr einen makesmalldurchlauf"
       ]
      },
      {
       "output_type": "stream",
       "stream": "stdout",
       "text": [
        "\n",
        "58775.7538919f\u00fcr einen makesmalldurchlauf"
       ]
      },
      {
       "output_type": "stream",
       "stream": "stdout",
       "text": [
        "\n",
        "58797.7185268f\u00fcr einen makesmalldurchlauf"
       ]
      },
      {
       "output_type": "stream",
       "stream": "stdout",
       "text": [
        "\n",
        "58819.6836188f\u00fcr einen makesmalldurchlauf"
       ]
      },
      {
       "output_type": "stream",
       "stream": "stdout",
       "text": [
        "\n",
        "58841.6449468f\u00fcr einen makesmalldurchlauf"
       ]
      },
      {
       "output_type": "stream",
       "stream": "stdout",
       "text": [
        "\n",
        "58863.7091269f\u00fcr einen makesmalldurchlauf"
       ]
      },
      {
       "output_type": "stream",
       "stream": "stdout",
       "text": [
        "\n",
        "58885.730834f\u00fcr einen makesmalldurchlauf"
       ]
      },
      {
       "output_type": "stream",
       "stream": "stdout",
       "text": [
        "\n",
        "58907.6663499f\u00fcr einen makesmalldurchlauf"
       ]
      },
      {
       "output_type": "stream",
       "stream": "stdout",
       "text": [
        "\n",
        "58929.6090908f\u00fcr einen makesmalldurchlauf"
       ]
      },
      {
       "output_type": "stream",
       "stream": "stdout",
       "text": [
        "\n",
        "58951.7516499f\u00fcr einen makesmalldurchlauf"
       ]
      },
      {
       "output_type": "stream",
       "stream": "stdout",
       "text": [
        "\n",
        "58973.7015619f\u00fcr einen makesmalldurchlauf"
       ]
      },
      {
       "output_type": "stream",
       "stream": "stdout",
       "text": [
        "\n",
        "58995.6640379f\u00fcr einen makesmalldurchlauf"
       ]
      },
      {
       "output_type": "stream",
       "stream": "stdout",
       "text": [
        "\n",
        "59017.671041f\u00fcr einen makesmalldurchlauf"
       ]
      },
      {
       "output_type": "stream",
       "stream": "stdout",
       "text": [
        "\n",
        "59039.764503f\u00fcr einen makesmalldurchlauf"
       ]
      },
      {
       "output_type": "stream",
       "stream": "stdout",
       "text": [
        "\n",
        "59061.7587998f\u00fcr einen makesmalldurchlauf"
       ]
      },
      {
       "output_type": "stream",
       "stream": "stdout",
       "text": [
        "\n",
        "59083.736212f\u00fcr einen makesmalldurchlauf"
       ]
      },
      {
       "output_type": "stream",
       "stream": "stdout",
       "text": [
        "\n",
        "59105.6768959f\u00fcr einen makesmalldurchlauf"
       ]
      },
      {
       "output_type": "stream",
       "stream": "stdout",
       "text": [
        "\n",
        "59127.706975f\u00fcr einen makesmalldurchlauf"
       ]
      },
      {
       "output_type": "stream",
       "stream": "stdout",
       "text": [
        "\n",
        "59149.7310379f\u00fcr einen makesmalldurchlauf"
       ]
      },
      {
       "output_type": "stream",
       "stream": "stdout",
       "text": [
        "\n",
        "59171.7622218f\u00fcr einen makesmalldurchlauf"
       ]
      },
      {
       "output_type": "stream",
       "stream": "stdout",
       "text": [
        "\n",
        "59193.8448658f\u00fcr einen makesmalldurchlauf"
       ]
      },
      {
       "output_type": "stream",
       "stream": "stdout",
       "text": [
        "\n",
        "59215.8605099f\u00fcr einen makesmalldurchlauf"
       ]
      },
      {
       "output_type": "stream",
       "stream": "stdout",
       "text": [
        "\n",
        "59237.9273708f\u00fcr einen makesmalldurchlauf"
       ]
      },
      {
       "output_type": "stream",
       "stream": "stdout",
       "text": [
        "\n",
        "59259.9319658f\u00fcr einen makesmalldurchlauf"
       ]
      },
      {
       "output_type": "stream",
       "stream": "stdout",
       "text": [
        "\n",
        "59281.939322f\u00fcr einen makesmalldurchlauf"
       ]
      },
      {
       "output_type": "stream",
       "stream": "stdout",
       "text": [
        "\n",
        "59303.906909f\u00fcr einen makesmalldurchlauf"
       ]
      },
      {
       "output_type": "stream",
       "stream": "stdout",
       "text": [
        "\n",
        "59325.8280599f\u00fcr einen makesmalldurchlauf"
       ]
      },
      {
       "output_type": "stream",
       "stream": "stdout",
       "text": [
        "\n",
        "59347.9101539f\u00fcr einen makesmalldurchlauf"
       ]
      },
      {
       "output_type": "stream",
       "stream": "stdout",
       "text": [
        "\n",
        "59370.1055489f\u00fcr einen makesmalldurchlauf"
       ]
      },
      {
       "output_type": "stream",
       "stream": "stdout",
       "text": [
        "\n",
        "59392.0965879f\u00fcr einen makesmalldurchlauf"
       ]
      },
      {
       "output_type": "stream",
       "stream": "stdout",
       "text": [
        "\n",
        "59414.143333f\u00fcr einen makesmalldurchlauf"
       ]
      },
      {
       "output_type": "stream",
       "stream": "stdout",
       "text": [
        "\n",
        "59436.098455f\u00fcr einen makesmalldurchlauf"
       ]
      },
      {
       "output_type": "stream",
       "stream": "stdout",
       "text": [
        "\n",
        "59458.1272869f\u00fcr einen makesmalldurchlauf"
       ]
      },
      {
       "output_type": "stream",
       "stream": "stdout",
       "text": [
        "\n",
        "59480.2244039f\u00fcr einen makesmalldurchlauf"
       ]
      },
      {
       "output_type": "stream",
       "stream": "stdout",
       "text": [
        "\n",
        "59502.2711589f\u00fcr einen makesmalldurchlauf"
       ]
      },
      {
       "output_type": "stream",
       "stream": "stdout",
       "text": [
        "\n",
        "59524.2802279f\u00fcr einen makesmalldurchlauf"
       ]
      },
      {
       "output_type": "stream",
       "stream": "stdout",
       "text": [
        "\n",
        "59546.2915668f\u00fcr einen makesmalldurchlauf"
       ]
      },
      {
       "output_type": "stream",
       "stream": "stdout",
       "text": [
        "\n",
        "59568.291615f\u00fcr einen makesmalldurchlauf"
       ]
      },
      {
       "output_type": "stream",
       "stream": "stdout",
       "text": [
        "\n",
        "59590.297663f\u00fcr einen makesmalldurchlauf"
       ]
      },
      {
       "output_type": "stream",
       "stream": "stdout",
       "text": [
        "\n",
        "59612.3271699f\u00fcr einen makesmalldurchlauf"
       ]
      },
      {
       "output_type": "stream",
       "stream": "stdout",
       "text": [
        "\n",
        "59634.320231f\u00fcr einen makesmalldurchlauf"
       ]
      },
      {
       "output_type": "stream",
       "stream": "stdout",
       "text": [
        "\n",
        "59656.2905169f\u00fcr einen makesmalldurchlauf"
       ]
      },
      {
       "output_type": "stream",
       "stream": "stdout",
       "text": [
        "\n",
        "59678.2850509f\u00fcr einen makesmalldurchlauf"
       ]
      },
      {
       "output_type": "stream",
       "stream": "stdout",
       "text": [
        "\n",
        "59700.2806919f\u00fcr einen makesmalldurchlauf"
       ]
      },
      {
       "output_type": "stream",
       "stream": "stdout",
       "text": [
        "\n",
        "59722.5261459f\u00fcr einen makesmalldurchlauf"
       ]
      },
      {
       "output_type": "stream",
       "stream": "stdout",
       "text": [
        "\n",
        "59745.0215938f\u00fcr einen makesmalldurchlauf"
       ]
      },
      {
       "output_type": "stream",
       "stream": "stdout",
       "text": [
        "\n",
        "59767.798142f\u00fcr einen makesmalldurchlauf"
       ]
      },
      {
       "output_type": "stream",
       "stream": "stdout",
       "text": [
        "\n",
        "59790.6599689f\u00fcr einen makesmalldurchlauf"
       ]
      },
      {
       "output_type": "stream",
       "stream": "stdout",
       "text": [
        "\n",
        "59813.5445089f\u00fcr einen makesmalldurchlauf"
       ]
      },
      {
       "output_type": "stream",
       "stream": "stdout",
       "text": [
        "\n",
        "59836.2707858f\u00fcr einen makesmalldurchlauf"
       ]
      },
      {
       "output_type": "stream",
       "stream": "stdout",
       "text": [
        "\n",
        "59859.3102229f\u00fcr einen makesmalldurchlauf"
       ]
      },
      {
       "output_type": "stream",
       "stream": "stdout",
       "text": [
        "\n",
        "59881.9118059f\u00fcr einen makesmalldurchlauf"
       ]
      },
      {
       "output_type": "stream",
       "stream": "stdout",
       "text": [
        "\n",
        "59905.0456588f\u00fcr einen makesmalldurchlauf"
       ]
      },
      {
       "output_type": "stream",
       "stream": "stdout",
       "text": [
        "\n",
        "59927.4775798f\u00fcr einen makesmalldurchlauf"
       ]
      },
      {
       "output_type": "stream",
       "stream": "stdout",
       "text": [
        "\n",
        "59949.9359519f\u00fcr einen makesmalldurchlauf"
       ]
      },
      {
       "output_type": "stream",
       "stream": "stdout",
       "text": [
        "\n",
        "59972.7845719f\u00fcr einen makesmalldurchlauf"
       ]
      },
      {
       "output_type": "stream",
       "stream": "stdout",
       "text": [
        "\n",
        "59995.2369928f\u00fcr einen makesmalldurchlauf"
       ]
      },
      {
       "output_type": "stream",
       "stream": "stdout",
       "text": [
        "\n",
        "60018.146178f\u00fcr einen makesmalldurchlauf"
       ]
      },
      {
       "output_type": "stream",
       "stream": "stdout",
       "text": [
        "\n",
        "60040.8627009f\u00fcr einen makesmalldurchlauf"
       ]
      },
      {
       "output_type": "stream",
       "stream": "stdout",
       "text": [
        "\n",
        "60064.4927969f\u00fcr einen makesmalldurchlauf"
       ]
      },
      {
       "output_type": "stream",
       "stream": "stdout",
       "text": [
        "\n",
        "60087.2931089f\u00fcr einen makesmalldurchlauf"
       ]
      },
      {
       "output_type": "stream",
       "stream": "stdout",
       "text": [
        "\n",
        "60109.935231f\u00fcr einen makesmalldurchlauf"
       ]
      },
      {
       "output_type": "stream",
       "stream": "stdout",
       "text": [
        "\n",
        "60132.3820419f\u00fcr einen makesmalldurchlauf"
       ]
      },
      {
       "output_type": "stream",
       "stream": "stdout",
       "text": [
        "\n",
        "60155.3996849f\u00fcr einen makesmalldurchlauf"
       ]
      },
      {
       "output_type": "stream",
       "stream": "stdout",
       "text": [
        "\n",
        "60178.1785078f\u00fcr einen makesmalldurchlauf"
       ]
      },
      {
       "output_type": "stream",
       "stream": "stdout",
       "text": [
        "\n",
        "60201.178592f\u00fcr einen makesmalldurchlauf"
       ]
      },
      {
       "output_type": "stream",
       "stream": "stdout",
       "text": [
        "\n",
        "60224.1708338f\u00fcr einen makesmalldurchlauf"
       ]
      },
      {
       "output_type": "stream",
       "stream": "stdout",
       "text": [
        "\n",
        "60246.586062f\u00fcr einen makesmalldurchlauf"
       ]
      },
      {
       "output_type": "stream",
       "stream": "stdout",
       "text": [
        "\n",
        "60269.1711118f\u00fcr einen makesmalldurchlauf"
       ]
      },
      {
       "output_type": "stream",
       "stream": "stdout",
       "text": [
        "\n",
        "60292.1430378f\u00fcr einen makesmalldurchlauf"
       ]
      },
      {
       "output_type": "stream",
       "stream": "stdout",
       "text": [
        "\n",
        "60315.40957f\u00fcr einen makesmalldurchlauf"
       ]
      },
      {
       "output_type": "stream",
       "stream": "stdout",
       "text": [
        "\n",
        "60341.0027139f\u00fcr einen makesmalldurchlauf"
       ]
      },
      {
       "output_type": "stream",
       "stream": "stdout",
       "text": [
        "\n",
        "60365.8610878f\u00fcr einen makesmalldurchlauf"
       ]
      },
      {
       "output_type": "stream",
       "stream": "stdout",
       "text": [
        "\n",
        "60390.1741729f\u00fcr einen makesmalldurchlauf"
       ]
      },
      {
       "output_type": "stream",
       "stream": "stdout",
       "text": [
        "\n",
        "60414.375819f\u00fcr einen makesmalldurchlauf"
       ]
      },
      {
       "output_type": "stream",
       "stream": "stdout",
       "text": [
        "\n",
        "60439.6523139f\u00fcr einen makesmalldurchlauf"
       ]
      },
      {
       "output_type": "stream",
       "stream": "stdout",
       "text": [
        "\n",
        "60465.4095719f\u00fcr einen makesmalldurchlauf"
       ]
      },
      {
       "output_type": "stream",
       "stream": "stdout",
       "text": [
        "\n",
        "60490.6176598f\u00fcr einen makesmalldurchlauf"
       ]
      },
      {
       "output_type": "stream",
       "stream": "stdout",
       "text": [
        "\n",
        "60515.2079608f\u00fcr einen makesmalldurchlauf"
       ]
      },
      {
       "output_type": "stream",
       "stream": "stdout",
       "text": [
        "\n",
        "60541.195488f\u00fcr einen makesmalldurchlauf"
       ]
      },
      {
       "output_type": "stream",
       "stream": "stdout",
       "text": [
        "\n",
        "60565.8887339f\u00fcr einen makesmalldurchlauf"
       ]
      },
      {
       "output_type": "stream",
       "stream": "stdout",
       "text": [
        "\n",
        "60591.3750339f\u00fcr einen makesmalldurchlauf"
       ]
      },
      {
       "output_type": "stream",
       "stream": "stdout",
       "text": [
        "\n",
        "60615.170615f\u00fcr einen makesmalldurchlauf"
       ]
      },
      {
       "output_type": "stream",
       "stream": "stdout",
       "text": [
        "\n",
        "60639.4662139f\u00fcr einen makesmalldurchlauf"
       ]
      },
      {
       "output_type": "stream",
       "stream": "stdout",
       "text": [
        "\n",
        "60663.289521f\u00fcr einen makesmalldurchlauf"
       ]
      },
      {
       "output_type": "stream",
       "stream": "stdout",
       "text": [
        "\n",
        "60688.6647239f\u00fcr einen makesmalldurchlauf"
       ]
      },
      {
       "output_type": "stream",
       "stream": "stdout",
       "text": [
        "\n",
        "60713.6369059f\u00fcr einen makesmalldurchlauf"
       ]
      },
      {
       "output_type": "stream",
       "stream": "stdout",
       "text": [
        "\n",
        "60738.988148f\u00fcr einen makesmalldurchlauf"
       ]
      },
      {
       "output_type": "stream",
       "stream": "stdout",
       "text": [
        "\n",
        "60763.860621f\u00fcr einen makesmalldurchlauf"
       ]
      },
      {
       "output_type": "stream",
       "stream": "stdout",
       "text": [
        "\n",
        "60789.253583f\u00fcr einen makesmalldurchlauf"
       ]
      },
      {
       "output_type": "stream",
       "stream": "stdout",
       "text": [
        "\n",
        "60815.720567f\u00fcr einen makesmalldurchlauf"
       ]
      },
      {
       "output_type": "stream",
       "stream": "stdout",
       "text": [
        "\n",
        "60841.178592f\u00fcr einen makesmalldurchlauf"
       ]
      },
      {
       "output_type": "stream",
       "stream": "stdout",
       "text": [
        "\n",
        "60865.3867369f\u00fcr einen makesmalldurchlauf"
       ]
      },
      {
       "output_type": "stream",
       "stream": "stdout",
       "text": [
        "\n",
        "60889.8299079f\u00fcr einen makesmalldurchlauf"
       ]
      },
      {
       "output_type": "stream",
       "stream": "stdout",
       "text": [
        "\n",
        "60914.823036f\u00fcr einen makesmalldurchlauf"
       ]
      },
      {
       "output_type": "stream",
       "stream": "stdout",
       "text": [
        "\n",
        "60943.0041759f\u00fcr einen makesmalldurchlauf"
       ]
      },
      {
       "output_type": "stream",
       "stream": "stdout",
       "text": [
        "\n",
        "60970.0742128f\u00fcr einen makesmalldurchlauf"
       ]
      },
      {
       "output_type": "stream",
       "stream": "stdout",
       "text": [
        "\n",
        "60996.456131f\u00fcr einen makesmalldurchlauf"
       ]
      },
      {
       "output_type": "stream",
       "stream": "stdout",
       "text": [
        "\n",
        "61021.3695948f\u00fcr einen makesmalldurchlauf"
       ]
      },
      {
       "output_type": "stream",
       "stream": "stdout",
       "text": [
        "\n",
        "61047.5533679f\u00fcr einen makesmalldurchlauf"
       ]
      },
      {
       "output_type": "stream",
       "stream": "stdout",
       "text": [
        "\n",
        "61073.0385308f\u00fcr einen makesmalldurchlauf"
       ]
      },
      {
       "output_type": "stream",
       "stream": "stdout",
       "text": [
        "\n",
        "61098.28473f\u00fcr einen makesmalldurchlauf"
       ]
      },
      {
       "output_type": "stream",
       "stream": "stdout",
       "text": [
        "\n",
        "61123.6635549f\u00fcr einen makesmalldurchlauf"
       ]
      },
      {
       "output_type": "stream",
       "stream": "stdout",
       "text": [
        "\n",
        "61150.673455f\u00fcr einen makesmalldurchlauf"
       ]
      },
      {
       "output_type": "stream",
       "stream": "stdout",
       "text": [
        "\n",
        "61177.1212518f\u00fcr einen makesmalldurchlauf"
       ]
      },
      {
       "output_type": "stream",
       "stream": "stdout",
       "text": [
        "\n",
        "61203.1676998f\u00fcr einen makesmalldurchlauf"
       ]
      },
      {
       "output_type": "stream",
       "stream": "stdout",
       "text": [
        "\n",
        "61231.00278f\u00fcr einen makesmalldurchlauf"
       ]
      },
      {
       "output_type": "stream",
       "stream": "stdout",
       "text": [
        "\n",
        "61258.8612678f\u00fcr einen makesmalldurchlauf"
       ]
      },
      {
       "output_type": "stream",
       "stream": "stdout",
       "text": [
        "\n",
        "61286.359515f\u00fcr einen makesmalldurchlauf"
       ]
      },
      {
       "output_type": "stream",
       "stream": "stdout",
       "text": [
        "\n",
        "61312.2265379f\u00fcr einen makesmalldurchlauf"
       ]
      },
      {
       "output_type": "stream",
       "stream": "stdout",
       "text": [
        "\n",
        "61338.5063319f\u00fcr einen makesmalldurchlauf"
       ]
      },
      {
       "output_type": "stream",
       "stream": "stdout",
       "text": [
        "\n",
        "61363.935611f\u00fcr einen makesmalldurchlauf"
       ]
      },
      {
       "output_type": "stream",
       "stream": "stdout",
       "text": [
        "\n",
        "61388.896132f\u00fcr einen makesmalldurchlauf"
       ]
      },
      {
       "output_type": "stream",
       "stream": "stdout",
       "text": [
        "\n",
        "61414.5655298f\u00fcr einen makesmalldurchlauf"
       ]
      },
      {
       "output_type": "stream",
       "stream": "stdout",
       "text": [
        "\n",
        "61439.5303059f\u00fcr einen makesmalldurchlauf"
       ]
      },
      {
       "output_type": "stream",
       "stream": "stdout",
       "text": [
        "\n",
        "61464.369277f\u00fcr einen makesmalldurchlauf"
       ]
      },
      {
       "output_type": "stream",
       "stream": "stdout",
       "text": [
        "\n",
        "61490.37745f\u00fcr einen makesmalldurchlauf"
       ]
      },
      {
       "output_type": "stream",
       "stream": "stdout",
       "text": [
        "\n",
        "61514.99312f\u00fcr einen makesmalldurchlauf"
       ]
      },
      {
       "output_type": "stream",
       "stream": "stdout",
       "text": [
        "\n",
        "61537.407182f\u00fcr einen makesmalldurchlauf"
       ]
      },
      {
       "output_type": "stream",
       "stream": "stdout",
       "text": [
        "\n",
        "61560.2892158f\u00fcr einen makesmalldurchlauf"
       ]
      },
      {
       "output_type": "stream",
       "stream": "stdout",
       "text": [
        "\n",
        "61583.6841469f\u00fcr einen makesmalldurchlauf"
       ]
      },
      {
       "output_type": "stream",
       "stream": "stdout",
       "text": [
        "\n",
        "61606.2878699f\u00fcr einen makesmalldurchlauf"
       ]
      },
      {
       "output_type": "stream",
       "stream": "stdout",
       "text": [
        "\n",
        "61629.5247829f\u00fcr einen makesmalldurchlauf"
       ]
      },
      {
       "output_type": "stream",
       "stream": "stdout",
       "text": [
        "\n",
        "61652.9118419f\u00fcr einen makesmalldurchlauf"
       ]
      },
      {
       "output_type": "stream",
       "stream": "stdout",
       "text": [
        "\n",
        "61676.656951f\u00fcr einen makesmalldurchlauf"
       ]
      },
      {
       "output_type": "stream",
       "stream": "stdout",
       "text": [
        "\n",
        "61699.980659f\u00fcr einen makesmalldurchlauf"
       ]
      },
      {
       "output_type": "stream",
       "stream": "stdout",
       "text": [
        "\n",
        "61722.4828968f\u00fcr einen makesmalldurchlauf"
       ]
      },
      {
       "output_type": "stream",
       "stream": "stdout",
       "text": [
        "\n",
        "61745.2742219f\u00fcr einen makesmalldurchlauf"
       ]
      },
      {
       "output_type": "stream",
       "stream": "stdout",
       "text": [
        "\n",
        "61767.7556498f\u00fcr einen makesmalldurchlauf"
       ]
      },
      {
       "output_type": "stream",
       "stream": "stdout",
       "text": [
        "\n",
        "61791.013423f\u00fcr einen makesmalldurchlauf"
       ]
      },
      {
       "output_type": "stream",
       "stream": "stdout",
       "text": [
        "\n",
        "61814.1683228f\u00fcr einen makesmalldurchlauf"
       ]
      },
      {
       "output_type": "stream",
       "stream": "stdout",
       "text": [
        "\n",
        "61836.9827118f\u00fcr einen makesmalldurchlauf"
       ]
      },
      {
       "output_type": "stream",
       "stream": "stdout",
       "text": [
        "\n",
        "61860.2875319f\u00fcr einen makesmalldurchlauf"
       ]
      },
      {
       "output_type": "stream",
       "stream": "stdout",
       "text": [
        "\n",
        "61883.3660989f\u00fcr einen makesmalldurchlauf"
       ]
      },
      {
       "output_type": "stream",
       "stream": "stdout",
       "text": [
        "\n",
        "61906.7034509f\u00fcr einen makesmalldurchlauf"
       ]
      },
      {
       "output_type": "stream",
       "stream": "stdout",
       "text": [
        "\n",
        "61930.1435909f\u00fcr einen makesmalldurchlauf"
       ]
      },
      {
       "output_type": "stream",
       "stream": "stdout",
       "text": [
        "\n",
        "61952.4608388f\u00fcr einen makesmalldurchlauf"
       ]
      },
      {
       "output_type": "stream",
       "stream": "stdout",
       "text": [
        "\n",
        "61974.725667f\u00fcr einen makesmalldurchlauf"
       ]
      },
      {
       "output_type": "stream",
       "stream": "stdout",
       "text": [
        "\n",
        "61997.3537068f\u00fcr einen makesmalldurchlauf"
       ]
      },
      {
       "output_type": "stream",
       "stream": "stdout",
       "text": [
        "\n",
        "62020.2364068f\u00fcr einen makesmalldurchlauf"
       ]
      },
      {
       "output_type": "stream",
       "stream": "stdout",
       "text": [
        "\n",
        "62042.8015919f\u00fcr einen makesmalldurchlauf"
       ]
      },
      {
       "output_type": "stream",
       "stream": "stdout",
       "text": [
        "\n",
        "62065.2016389f\u00fcr einen makesmalldurchlauf"
       ]
      },
      {
       "output_type": "stream",
       "stream": "stdout",
       "text": [
        "\n",
        "62088.042058f\u00fcr einen makesmalldurchlauf"
       ]
      },
      {
       "output_type": "stream",
       "stream": "stdout",
       "text": [
        "\n",
        "62110.6268928f\u00fcr einen makesmalldurchlauf"
       ]
      },
      {
       "output_type": "stream",
       "stream": "stdout",
       "text": [
        "\n",
        "62134.1858089f\u00fcr einen makesmalldurchlauf"
       ]
      },
      {
       "output_type": "stream",
       "stream": "stdout",
       "text": [
        "\n",
        "62157.6397769f\u00fcr einen makesmalldurchlauf"
       ]
      },
      {
       "output_type": "stream",
       "stream": "stdout",
       "text": [
        "\n",
        "62181.0096428f\u00fcr einen makesmalldurchlauf"
       ]
      },
      {
       "output_type": "stream",
       "stream": "stdout",
       "text": [
        "\n",
        "62204.41658f\u00fcr einen makesmalldurchlauf"
       ]
      },
      {
       "output_type": "stream",
       "stream": "stdout",
       "text": [
        "\n",
        "62227.9015789f\u00fcr einen makesmalldurchlauf"
       ]
      },
      {
       "output_type": "stream",
       "stream": "stdout",
       "text": [
        "\n",
        "62251.5287068f\u00fcr einen makesmalldurchlauf"
       ]
      },
      {
       "output_type": "stream",
       "stream": "stdout",
       "text": [
        "\n",
        "62275.140543f\u00fcr einen makesmalldurchlauf"
       ]
      },
      {
       "output_type": "stream",
       "stream": "stdout",
       "text": [
        "\n",
        "62298.704648f\u00fcr einen makesmalldurchlauf"
       ]
      },
      {
       "output_type": "stream",
       "stream": "stdout",
       "text": [
        "\n",
        "62322.172662f\u00fcr einen makesmalldurchlauf"
       ]
      },
      {
       "output_type": "stream",
       "stream": "stdout",
       "text": [
        "\n",
        "62348.3658619f\u00fcr einen makesmalldurchlauf"
       ]
      },
      {
       "output_type": "stream",
       "stream": "stdout",
       "text": [
        "\n",
        "62374.655385f\u00fcr einen makesmalldurchlauf"
       ]
      },
      {
       "output_type": "stream",
       "stream": "stdout",
       "text": [
        "\n",
        "62400.8320858f\u00fcr einen makesmalldurchlauf"
       ]
      },
      {
       "output_type": "stream",
       "stream": "stdout",
       "text": [
        "\n",
        "62427.0001209f\u00fcr einen makesmalldurchlauf"
       ]
      },
      {
       "output_type": "stream",
       "stream": "stdout",
       "text": [
        "\n",
        "62453.1906738f\u00fcr einen makesmalldurchlauf"
       ]
      },
      {
       "output_type": "stream",
       "stream": "stdout",
       "text": [
        "\n",
        "62479.3789258f\u00fcr einen makesmalldurchlauf"
       ]
      },
      {
       "output_type": "stream",
       "stream": "stdout",
       "text": [
        "\n",
        "62505.5607159f\u00fcr einen makesmalldurchlauf"
       ]
      },
      {
       "output_type": "stream",
       "stream": "stdout",
       "text": [
        "\n",
        "62531.8476009f\u00fcr einen makesmalldurchlauf"
       ]
      },
      {
       "output_type": "stream",
       "stream": "stdout",
       "text": [
        "\n",
        "62555.463105f\u00fcr einen makesmalldurchlauf"
       ]
      },
      {
       "output_type": "stream",
       "stream": "stdout",
       "text": [
        "\n",
        "62579.2189679f\u00fcr einen makesmalldurchlauf"
       ]
      },
      {
       "output_type": "stream",
       "stream": "stdout",
       "text": [
        "\n",
        "62602.6722629f\u00fcr einen makesmalldurchlauf"
       ]
      },
      {
       "output_type": "stream",
       "stream": "stdout",
       "text": [
        "\n",
        "62627.746825f\u00fcr einen makesmalldurchlauf"
       ]
      },
      {
       "output_type": "stream",
       "stream": "stdout",
       "text": [
        "\n",
        "62654.1124868f\u00fcr einen makesmalldurchlauf"
       ]
      },
      {
       "output_type": "stream",
       "stream": "stdout",
       "text": [
        "\n",
        "62680.2953129f\u00fcr einen makesmalldurchlauf"
       ]
      },
      {
       "output_type": "stream",
       "stream": "stdout",
       "text": [
        "\n",
        "62703.790298f\u00fcr einen makesmalldurchlauf"
       ]
      },
      {
       "output_type": "stream",
       "stream": "stdout",
       "text": [
        "\n",
        "62726.5263219f\u00fcr einen makesmalldurchlauf"
       ]
      },
      {
       "output_type": "stream",
       "stream": "stdout",
       "text": [
        "\n",
        "62748.7148299f\u00fcr einen makesmalldurchlauf"
       ]
      },
      {
       "output_type": "stream",
       "stream": "stdout",
       "text": [
        "\n",
        "62770.9600389f\u00fcr einen makesmalldurchlauf"
       ]
      },
      {
       "output_type": "stream",
       "stream": "stdout",
       "text": [
        "\n",
        "62793.2379389f\u00fcr einen makesmalldurchlauf"
       ]
      },
      {
       "output_type": "stream",
       "stream": "stdout",
       "text": [
        "\n",
        "62815.5037949f\u00fcr einen makesmalldurchlauf"
       ]
      },
      {
       "output_type": "stream",
       "stream": "stdout",
       "text": [
        "\n",
        "62837.6736429f\u00fcr einen makesmalldurchlauf"
       ]
      },
      {
       "output_type": "stream",
       "stream": "stdout",
       "text": [
        "\n",
        "62859.8294649f\u00fcr einen makesmalldurchlauf"
       ]
      },
      {
       "output_type": "stream",
       "stream": "stdout",
       "text": [
        "\n",
        "62881.9731028f\u00fcr einen makesmalldurchlauf"
       ]
      },
      {
       "output_type": "stream",
       "stream": "stdout",
       "text": [
        "\n",
        "62904.2715468f\u00fcr einen makesmalldurchlauf"
       ]
      },
      {
       "output_type": "stream",
       "stream": "stdout",
       "text": [
        "\n",
        "62926.409961f\u00fcr einen makesmalldurchlauf"
       ]
      },
      {
       "output_type": "stream",
       "stream": "stdout",
       "text": [
        "\n",
        "62948.7514129f\u00fcr einen makesmalldurchlauf"
       ]
      },
      {
       "output_type": "stream",
       "stream": "stdout",
       "text": [
        "\n",
        "62970.96381f\u00fcr einen makesmalldurchlauf"
       ]
      },
      {
       "output_type": "stream",
       "stream": "stdout",
       "text": [
        "\n",
        "62993.203629f\u00fcr einen makesmalldurchlauf"
       ]
      },
      {
       "output_type": "stream",
       "stream": "stdout",
       "text": [
        "\n",
        "63015.5400338f\u00fcr einen makesmalldurchlauf"
       ]
      },
      {
       "output_type": "stream",
       "stream": "stdout",
       "text": [
        "\n",
        "63037.862581f\u00fcr einen makesmalldurchlauf"
       ]
      },
      {
       "output_type": "stream",
       "stream": "stdout",
       "text": [
        "\n",
        "63060.194664f\u00fcr einen makesmalldurchlauf"
       ]
      },
      {
       "output_type": "stream",
       "stream": "stdout",
       "text": [
        "\n",
        "63082.4029188f\u00fcr einen makesmalldurchlauf"
       ]
      },
      {
       "output_type": "stream",
       "stream": "stdout",
       "text": [
        "\n",
        "63104.6948609f\u00fcr einen makesmalldurchlauf"
       ]
      },
      {
       "output_type": "stream",
       "stream": "stdout",
       "text": [
        "\n",
        "63126.8646419f\u00fcr einen makesmalldurchlauf"
       ]
      },
      {
       "output_type": "stream",
       "stream": "stdout",
       "text": [
        "\n",
        "63149.010823f\u00fcr einen makesmalldurchlauf"
       ]
      },
      {
       "output_type": "stream",
       "stream": "stdout",
       "text": [
        "\n",
        "63171.1353009f\u00fcr einen makesmalldurchlauf"
       ]
      },
      {
       "output_type": "stream",
       "stream": "stdout",
       "text": [
        "\n",
        "63193.3071949f\u00fcr einen makesmalldurchlauf"
       ]
      },
      {
       "output_type": "stream",
       "stream": "stdout",
       "text": [
        "\n",
        "63215.432303f\u00fcr einen makesmalldurchlauf"
       ]
      },
      {
       "output_type": "stream",
       "stream": "stdout",
       "text": [
        "\n",
        "63237.577704f\u00fcr einen makesmalldurchlauf"
       ]
      },
      {
       "output_type": "stream",
       "stream": "stdout",
       "text": [
        "\n",
        "63259.7567868f\u00fcr einen makesmalldurchlauf"
       ]
      },
      {
       "output_type": "stream",
       "stream": "stdout",
       "text": [
        "\n",
        "63281.9181368f\u00fcr einen makesmalldurchlauf"
       ]
      },
      {
       "output_type": "stream",
       "stream": "stdout",
       "text": [
        "\n",
        "63304.0940518f\u00fcr einen makesmalldurchlauf"
       ]
      },
      {
       "output_type": "stream",
       "stream": "stdout",
       "text": [
        "\n",
        "63327.6771028f\u00fcr einen makesmalldurchlauf"
       ]
      },
      {
       "output_type": "stream",
       "stream": "stdout",
       "text": [
        "\n",
        "63352.9308619f\u00fcr einen makesmalldurchlauf"
       ]
      },
      {
       "output_type": "stream",
       "stream": "stdout",
       "text": [
        "\n",
        "63378.5241418f\u00fcr einen makesmalldurchlauf"
       ]
      },
      {
       "output_type": "stream",
       "stream": "stdout",
       "text": [
        "\n",
        "63403.1019838f\u00fcr einen makesmalldurchlauf"
       ]
      },
      {
       "output_type": "stream",
       "stream": "stdout",
       "text": [
        "\n",
        "63427.9216049f\u00fcr einen makesmalldurchlauf"
       ]
      },
      {
       "output_type": "stream",
       "stream": "stdout",
       "text": [
        "\n",
        "63452.80564f\u00fcr einen makesmalldurchlauf"
       ]
      },
      {
       "output_type": "stream",
       "stream": "stdout",
       "text": [
        "\n",
        "63478.0109739f\u00fcr einen makesmalldurchlauf"
       ]
      },
      {
       "output_type": "stream",
       "stream": "stdout",
       "text": [
        "\n",
        "63502.3164899f\u00fcr einen makesmalldurchlauf"
       ]
      },
      {
       "output_type": "stream",
       "stream": "stdout",
       "text": [
        "\n",
        "63527.6498609f\u00fcr einen makesmalldurchlauf"
       ]
      },
      {
       "output_type": "stream",
       "stream": "stdout",
       "text": [
        "\n",
        "63552.8838449f\u00fcr einen makesmalldurchlauf"
       ]
      },
      {
       "output_type": "stream",
       "stream": "stdout",
       "text": [
        "\n",
        "63576.9133849f\u00fcr einen makesmalldurchlauf"
       ]
      },
      {
       "output_type": "stream",
       "stream": "stdout",
       "text": [
        "\n",
        "63601.245564f\u00fcr einen makesmalldurchlauf"
       ]
      },
      {
       "output_type": "stream",
       "stream": "stdout",
       "text": [
        "\n",
        "63625.8071649f\u00fcr einen makesmalldurchlauf"
       ]
      },
      {
       "output_type": "stream",
       "stream": "stdout",
       "text": [
        "\n",
        "63652.040144f\u00fcr einen makesmalldurchlauf"
       ]
      },
      {
       "output_type": "stream",
       "stream": "stdout",
       "text": [
        "\n",
        "63677.4830928f\u00fcr einen makesmalldurchlauf"
       ]
      },
      {
       "output_type": "stream",
       "stream": "stdout",
       "text": [
        "\n",
        "63701.603029f\u00fcr einen makesmalldurchlauf"
       ]
      },
      {
       "output_type": "stream",
       "stream": "stdout",
       "text": [
        "\n",
        "63726.1827118f\u00fcr einen makesmalldurchlauf"
       ]
      },
      {
       "output_type": "stream",
       "stream": "stdout",
       "text": [
        "\n",
        "63750.4577858f\u00fcr einen makesmalldurchlauf"
       ]
      },
      {
       "output_type": "stream",
       "stream": "stdout",
       "text": [
        "\n",
        "63775.7206249f\u00fcr einen makesmalldurchlauf"
       ]
      },
      {
       "output_type": "stream",
       "stream": "stdout",
       "text": [
        "\n",
        "63799.839525f\u00fcr einen makesmalldurchlauf"
       ]
      },
      {
       "output_type": "stream",
       "stream": "stdout",
       "text": [
        "\n",
        "63824.7695198f\u00fcr einen makesmalldurchlauf"
       ]
      },
      {
       "output_type": "stream",
       "stream": "stdout",
       "text": [
        "\n",
        "63850.7414579f\u00fcr einen makesmalldurchlauf"
       ]
      },
      {
       "output_type": "stream",
       "stream": "stdout",
       "text": [
        "\n",
        "63875.2052498f\u00fcr einen makesmalldurchlauf"
       ]
      },
      {
       "output_type": "stream",
       "stream": "stdout",
       "text": [
        "\n",
        "63900.3590829f\u00fcr einen makesmalldurchlauf"
       ]
      },
      {
       "output_type": "stream",
       "stream": "stdout",
       "text": [
        "\n",
        "63923.317318f\u00fcr einen makesmalldurchlauf"
       ]
      },
      {
       "output_type": "stream",
       "stream": "stdout",
       "text": [
        "\n",
        "63945.2887218f\u00fcr einen makesmalldurchlauf"
       ]
      },
      {
       "output_type": "stream",
       "stream": "stdout",
       "text": [
        "\n",
        "63967.312876f\u00fcr einen makesmalldurchlauf"
       ]
      },
      {
       "output_type": "stream",
       "stream": "stdout",
       "text": [
        "\n",
        "63989.3215468f\u00fcr einen makesmalldurchlauf"
       ]
      },
      {
       "output_type": "stream",
       "stream": "stdout",
       "text": [
        "\n",
        "64011.350889f\u00fcr einen makesmalldurchlauf"
       ]
      },
      {
       "output_type": "stream",
       "stream": "stdout",
       "text": [
        "\n",
        "64033.343328f\u00fcr einen makesmalldurchlauf"
       ]
      },
      {
       "output_type": "stream",
       "stream": "stdout",
       "text": [
        "\n",
        "64055.3434339f\u00fcr einen makesmalldurchlauf"
       ]
      },
      {
       "output_type": "stream",
       "stream": "stdout",
       "text": [
        "\n",
        "64078.1082919f\u00fcr einen makesmalldurchlauf"
       ]
      },
      {
       "output_type": "stream",
       "stream": "stdout",
       "text": [
        "\n",
        "64100.129288f\u00fcr einen makesmalldurchlauf"
       ]
      },
      {
       "output_type": "stream",
       "stream": "stdout",
       "text": [
        "\n",
        "64122.111562f\u00fcr einen makesmalldurchlauf"
       ]
      },
      {
       "output_type": "stream",
       "stream": "stdout",
       "text": [
        "\n",
        "64144.6078119f\u00fcr einen makesmalldurchlauf"
       ]
      },
      {
       "output_type": "stream",
       "stream": "stdout",
       "text": [
        "\n",
        "64166.8365099f\u00fcr einen makesmalldurchlauf"
       ]
      },
      {
       "output_type": "stream",
       "stream": "stdout",
       "text": [
        "\n",
        "64188.8161678f\u00fcr einen makesmalldurchlauf"
       ]
      },
      {
       "output_type": "stream",
       "stream": "stdout",
       "text": [
        "\n",
        "64210.7737398f\u00fcr einen makesmalldurchlauf"
       ]
      },
      {
       "output_type": "stream",
       "stream": "stdout",
       "text": [
        "\n",
        "64232.7676029f\u00fcr einen makesmalldurchlauf"
       ]
      },
      {
       "output_type": "stream",
       "stream": "stdout",
       "text": [
        "\n",
        "64254.754457f\u00fcr einen makesmalldurchlauf"
       ]
      },
      {
       "output_type": "stream",
       "stream": "stdout",
       "text": [
        "\n",
        "64276.704221f\u00fcr einen makesmalldurchlauf"
       ]
      },
      {
       "output_type": "stream",
       "stream": "stdout",
       "text": [
        "\n",
        "64298.6913989f\u00fcr einen makesmalldurchlauf"
       ]
      },
      {
       "output_type": "stream",
       "stream": "stdout",
       "text": [
        "\n",
        "64320.6407318f\u00fcr einen makesmalldurchlauf"
       ]
      },
      {
       "output_type": "stream",
       "stream": "stdout",
       "text": [
        "\n",
        "64342.823282f\u00fcr einen makesmalldurchlauf"
       ]
      },
      {
       "output_type": "stream",
       "stream": "stdout",
       "text": [
        "\n",
        "64364.8036649f\u00fcr einen makesmalldurchlauf"
       ]
      },
      {
       "output_type": "stream",
       "stream": "stdout",
       "text": [
        "\n",
        "64386.728858f\u00fcr einen makesmalldurchlauf"
       ]
      },
      {
       "output_type": "stream",
       "stream": "stdout",
       "text": [
        "\n",
        "64408.6587369f\u00fcr einen makesmalldurchlauf"
       ]
      },
      {
       "output_type": "stream",
       "stream": "stdout",
       "text": [
        "\n",
        "64430.593056f\u00fcr einen makesmalldurchlauf"
       ]
      },
      {
       "output_type": "stream",
       "stream": "stdout",
       "text": [
        "\n",
        "64452.5006249f\u00fcr einen makesmalldurchlauf"
       ]
      },
      {
       "output_type": "stream",
       "stream": "stdout",
       "text": [
        "\n",
        "64474.448725f\u00fcr einen makesmalldurchlauf"
       ]
      },
      {
       "output_type": "stream",
       "stream": "stdout",
       "text": [
        "\n",
        "64496.3971698f\u00fcr einen makesmalldurchlauf"
       ]
      },
      {
       "output_type": "stream",
       "stream": "stdout",
       "text": [
        "\n",
        "64518.658896f\u00fcr einen makesmalldurchlauf"
       ]
      },
      {
       "output_type": "stream",
       "stream": "stdout",
       "text": [
        "\n",
        "64541.751606f\u00fcr einen makesmalldurchlauf"
       ]
      },
      {
       "output_type": "stream",
       "stream": "stdout",
       "text": [
        "\n",
        "64564.88554f\u00fcr einen makesmalldurchlauf"
       ]
      },
      {
       "output_type": "stream",
       "stream": "stdout",
       "text": [
        "\n",
        "64587.649061f\u00fcr einen makesmalldurchlauf"
       ]
      },
      {
       "output_type": "stream",
       "stream": "stdout",
       "text": [
        "\n",
        "64610.136148f\u00fcr einen makesmalldurchlauf"
       ]
      },
      {
       "output_type": "stream",
       "stream": "stdout",
       "text": [
        "\n",
        "64632.5060129f\u00fcr einen makesmalldurchlauf"
       ]
      },
      {
       "output_type": "stream",
       "stream": "stdout",
       "text": [
        "\n",
        "64654.7275269f\u00fcr einen makesmalldurchlauf"
       ]
      },
      {
       "output_type": "stream",
       "stream": "stdout",
       "text": [
        "\n",
        "64677.590636f\u00fcr einen makesmalldurchlauf"
       ]
      },
      {
       "output_type": "stream",
       "stream": "stdout",
       "text": [
        "\n",
        "64700.9350598f\u00fcr einen makesmalldurchlauf"
       ]
      },
      {
       "output_type": "stream",
       "stream": "stdout",
       "text": [
        "\n",
        "64723.723104f\u00fcr einen makesmalldurchlauf"
       ]
      },
      {
       "output_type": "stream",
       "stream": "stdout",
       "text": [
        "\n",
        "64746.250212f\u00fcr einen makesmalldurchlauf"
       ]
      },
      {
       "output_type": "stream",
       "stream": "stdout",
       "text": [
        "\n",
        "64768.5362699f\u00fcr einen makesmalldurchlauf"
       ]
      },
      {
       "output_type": "stream",
       "stream": "stdout",
       "text": [
        "\n",
        "64791.0319629f\u00fcr einen makesmalldurchlauf"
       ]
      },
      {
       "output_type": "stream",
       "stream": "stdout",
       "text": [
        "\n",
        "64814.3351629f\u00fcr einen makesmalldurchlauf"
       ]
      },
      {
       "output_type": "stream",
       "stream": "stdout",
       "text": [
        "\n",
        "64836.7566948f\u00fcr einen makesmalldurchlauf"
       ]
      },
      {
       "output_type": "stream",
       "stream": "stdout",
       "text": [
        "\n",
        "64858.9396069f\u00fcr einen makesmalldurchlauf"
       ]
      },
      {
       "output_type": "stream",
       "stream": "stdout",
       "text": [
        "\n",
        "64881.6421659f\u00fcr einen makesmalldurchlauf"
       ]
      },
      {
       "output_type": "stream",
       "stream": "stdout",
       "text": [
        "\n",
        "64903.957356f\u00fcr einen makesmalldurchlauf"
       ]
      },
      {
       "output_type": "stream",
       "stream": "stdout",
       "text": [
        "\n",
        "64926.2857769f\u00fcr einen makesmalldurchlauf"
       ]
      },
      {
       "output_type": "stream",
       "stream": "stdout",
       "text": [
        "\n",
        "64948.7269969f\u00fcr einen makesmalldurchlauf"
       ]
      },
      {
       "output_type": "stream",
       "stream": "stdout",
       "text": [
        "\n",
        "64971.3537459f\u00fcr einen makesmalldurchlauf"
       ]
      },
      {
       "output_type": "stream",
       "stream": "stdout",
       "text": [
        "\n",
        "64994.1868558f\u00fcr einen makesmalldurchlauf"
       ]
      },
      {
       "output_type": "stream",
       "stream": "stdout",
       "text": [
        "\n",
        "65016.6581509f\u00fcr einen makesmalldurchlauf"
       ]
      },
      {
       "output_type": "stream",
       "stream": "stdout",
       "text": [
        "\n",
        "65039.204505f\u00fcr einen makesmalldurchlauf"
       ]
      },
      {
       "output_type": "stream",
       "stream": "stdout",
       "text": [
        "\n",
        "65062.6292899f\u00fcr einen makesmalldurchlauf"
       ]
      },
      {
       "output_type": "stream",
       "stream": "stdout",
       "text": [
        "\n",
        "65086.2308578f\u00fcr einen makesmalldurchlauf"
       ]
      },
      {
       "output_type": "stream",
       "stream": "stdout",
       "text": [
        "\n",
        "65108.843621f\u00fcr einen makesmalldurchlauf"
       ]
      },
      {
       "output_type": "stream",
       "stream": "stdout",
       "text": [
        "\n",
        "65130.9450529f\u00fcr einen makesmalldurchlauf"
       ]
      },
      {
       "output_type": "stream",
       "stream": "stdout",
       "text": [
        "\n",
        "65152.9189949f\u00fcr einen makesmalldurchlauf"
       ]
      },
      {
       "output_type": "stream",
       "stream": "stdout",
       "text": [
        "\n",
        "65174.936409f\u00fcr einen makesmalldurchlauf"
       ]
      },
      {
       "output_type": "stream",
       "stream": "stdout",
       "text": [
        "\n",
        "65196.931865f\u00fcr einen makesmalldurchlauf"
       ]
      },
      {
       "output_type": "stream",
       "stream": "stdout",
       "text": [
        "\n",
        "65218.931314f\u00fcr einen makesmalldurchlauf"
       ]
      },
      {
       "output_type": "stream",
       "stream": "stdout",
       "text": [
        "\n",
        "65240.8861299f\u00fcr einen makesmalldurchlauf"
       ]
      },
      {
       "output_type": "stream",
       "stream": "stdout",
       "text": [
        "\n",
        "65263.6362429f\u00fcr einen makesmalldurchlauf"
       ]
      },
      {
       "output_type": "stream",
       "stream": "stdout",
       "text": [
        "\n",
        "65285.714618f\u00fcr einen makesmalldurchlauf"
       ]
      },
      {
       "output_type": "stream",
       "stream": "stdout",
       "text": [
        "\n",
        "65307.8362629f\u00fcr einen makesmalldurchlauf"
       ]
      },
      {
       "output_type": "stream",
       "stream": "stdout",
       "text": [
        "\n",
        "65329.8685749f\u00fcr einen makesmalldurchlauf"
       ]
      },
      {
       "output_type": "stream",
       "stream": "stdout",
       "text": [
        "\n",
        "65351.961376f\u00fcr einen makesmalldurchlauf"
       ]
      },
      {
       "output_type": "stream",
       "stream": "stdout",
       "text": [
        "\n",
        "65373.9722769f\u00fcr einen makesmalldurchlauf"
       ]
      },
      {
       "output_type": "stream",
       "stream": "stdout",
       "text": [
        "\n",
        "65395.997525f\u00fcr einen makesmalldurchlauf"
       ]
      },
      {
       "output_type": "stream",
       "stream": "stdout",
       "text": [
        "\n",
        "65418.145582f\u00fcr einen makesmalldurchlauf"
       ]
      },
      {
       "output_type": "stream",
       "stream": "stdout",
       "text": [
        "\n",
        "65440.193867f\u00fcr einen makesmalldurchlauf"
       ]
      },
      {
       "output_type": "stream",
       "stream": "stdout",
       "text": [
        "\n",
        "65462.2658808f\u00fcr einen makesmalldurchlauf"
       ]
      },
      {
       "output_type": "stream",
       "stream": "stdout",
       "text": [
        "\n",
        "65484.3263109f\u00fcr einen makesmalldurchlauf"
       ]
      },
      {
       "output_type": "stream",
       "stream": "stdout",
       "text": [
        "\n",
        "65506.3968129f\u00fcr einen makesmalldurchlauf"
       ]
      },
      {
       "output_type": "stream",
       "stream": "stdout",
       "text": [
        "\n",
        "65528.5546429f\u00fcr einen makesmalldurchlauf"
       ]
      },
      {
       "output_type": "stream",
       "stream": "stdout",
       "text": [
        "\n",
        "65550.545913f\u00fcr einen makesmalldurchlauf"
       ]
      },
      {
       "output_type": "stream",
       "stream": "stdout",
       "text": [
        "\n",
        "65572.531914f\u00fcr einen makesmalldurchlauf"
       ]
      },
      {
       "output_type": "stream",
       "stream": "stdout",
       "text": [
        "\n",
        "65594.541657f\u00fcr einen makesmalldurchlauf"
       ]
      },
      {
       "output_type": "stream",
       "stream": "stdout",
       "text": [
        "\n",
        "65616.5732908f\u00fcr einen makesmalldurchlauf"
       ]
      },
      {
       "output_type": "stream",
       "stream": "stdout",
       "text": [
        "\n",
        "65638.6078739f\u00fcr einen makesmalldurchlauf"
       ]
      },
      {
       "output_type": "stream",
       "stream": "stdout",
       "text": [
        "\n",
        "65660.6374369f\u00fcr einen makesmalldurchlauf"
       ]
      },
      {
       "output_type": "stream",
       "stream": "stdout",
       "text": [
        "\n",
        "65682.7076008f\u00fcr einen makesmalldurchlauf"
       ]
      },
      {
       "output_type": "stream",
       "stream": "stdout",
       "text": [
        "\n",
        "65704.7336998f\u00fcr einen makesmalldurchlauf"
       ]
      },
      {
       "output_type": "stream",
       "stream": "stdout",
       "text": [
        "\n",
        "65726.7375119f\u00fcr einen makesmalldurchlauf"
       ]
      },
      {
       "output_type": "stream",
       "stream": "stdout",
       "text": [
        "\n",
        "65748.703995f\u00fcr einen makesmalldurchlauf"
       ]
      },
      {
       "output_type": "stream",
       "stream": "stdout",
       "text": [
        "\n",
        "65770.659801f\u00fcr einen makesmalldurchlauf"
       ]
      },
      {
       "output_type": "stream",
       "stream": "stdout",
       "text": [
        "\n",
        "65792.6073999f\u00fcr einen makesmalldurchlauf"
       ]
      },
      {
       "output_type": "stream",
       "stream": "stdout",
       "text": [
        "\n",
        "65814.4837039f\u00fcr einen makesmalldurchlauf"
       ]
      },
      {
       "output_type": "stream",
       "stream": "stdout",
       "text": [
        "\n",
        "65836.462862f\u00fcr einen makesmalldurchlauf"
       ]
      },
      {
       "output_type": "stream",
       "stream": "stdout",
       "text": [
        "\n",
        "65858.5764699f\u00fcr einen makesmalldurchlauf"
       ]
      },
      {
       "output_type": "stream",
       "stream": "stdout",
       "text": [
        "\n",
        "65880.5756538f\u00fcr einen makesmalldurchlauf"
       ]
      },
      {
       "output_type": "stream",
       "stream": "stdout",
       "text": [
        "\n",
        "65902.544693f\u00fcr einen makesmalldurchlauf"
       ]
      },
      {
       "output_type": "stream",
       "stream": "stdout",
       "text": [
        "\n",
        "65924.514462f\u00fcr einen makesmalldurchlauf"
       ]
      },
      {
       "output_type": "stream",
       "stream": "stdout",
       "text": [
        "\n",
        "65946.5528519f\u00fcr einen makesmalldurchlauf"
       ]
      },
      {
       "output_type": "stream",
       "stream": "stdout",
       "text": [
        "\n",
        "65968.5151188f\u00fcr einen makesmalldurchlauf"
       ]
      },
      {
       "output_type": "stream",
       "stream": "stdout",
       "text": [
        "\n",
        "65990.4385848f\u00fcr einen makesmalldurchlauf"
       ]
      },
      {
       "output_type": "stream",
       "stream": "stdout",
       "text": [
        "\n",
        "66012.4167509f\u00fcr einen makesmalldurchlauf"
       ]
      },
      {
       "output_type": "stream",
       "stream": "stdout",
       "text": [
        "\n",
        "66034.332736f\u00fcr einen makesmalldurchlauf"
       ]
      },
      {
       "output_type": "stream",
       "stream": "stdout",
       "text": [
        "\n",
        "66056.3428898f\u00fcr einen makesmalldurchlauf"
       ]
      },
      {
       "output_type": "stream",
       "stream": "stdout",
       "text": [
        "\n",
        "66078.31057f\u00fcr einen makesmalldurchlauf"
       ]
      },
      {
       "output_type": "stream",
       "stream": "stdout",
       "text": [
        "\n",
        "66100.2770309f\u00fcr einen makesmalldurchlauf"
       ]
      },
      {
       "output_type": "stream",
       "stream": "stdout",
       "text": [
        "\n",
        "66122.3451619f\u00fcr einen makesmalldurchlauf"
       ]
      },
      {
       "output_type": "stream",
       "stream": "stdout",
       "text": [
        "\n",
        "66144.6661959f\u00fcr einen makesmalldurchlauf"
       ]
      },
      {
       "output_type": "stream",
       "stream": "stdout",
       "text": [
        "\n",
        "66166.6457419f\u00fcr einen makesmalldurchlauf"
       ]
      },
      {
       "output_type": "stream",
       "stream": "stdout",
       "text": [
        "\n",
        "66188.6511319f\u00fcr einen makesmalldurchlauf"
       ]
      },
      {
       "output_type": "stream",
       "stream": "stdout",
       "text": [
        "\n",
        "66210.6717489f\u00fcr einen makesmalldurchlauf"
       ]
      },
      {
       "output_type": "stream",
       "stream": "stdout",
       "text": [
        "\n",
        "66232.6167259f\u00fcr einen makesmalldurchlauf"
       ]
      },
      {
       "output_type": "stream",
       "stream": "stdout",
       "text": [
        "\n",
        "66254.5610039f\u00fcr einen makesmalldurchlauf"
       ]
      },
      {
       "output_type": "stream",
       "stream": "stdout",
       "text": [
        "\n",
        "66276.6144419f\u00fcr einen makesmalldurchlauf"
       ]
      },
      {
       "output_type": "stream",
       "stream": "stdout",
       "text": [
        "\n",
        "66298.5642028f\u00fcr einen makesmalldurchlauf"
       ]
      },
      {
       "output_type": "stream",
       "stream": "stdout",
       "text": [
        "\n",
        "66321.915287f\u00fcr einen makesmalldurchlauf"
       ]
      },
      {
       "output_type": "stream",
       "stream": "stdout",
       "text": [
        "\n",
        "66346.7937009f\u00fcr einen makesmalldurchlauf"
       ]
      },
      {
       "output_type": "stream",
       "stream": "stdout",
       "text": [
        "\n",
        "66371.170666f\u00fcr einen makesmalldurchlauf"
       ]
      },
      {
       "output_type": "stream",
       "stream": "stdout",
       "text": [
        "\n",
        "66396.5096629f\u00fcr einen makesmalldurchlauf"
       ]
      },
      {
       "output_type": "stream",
       "stream": "stdout",
       "text": [
        "\n",
        "66421.456686f\u00fcr einen makesmalldurchlauf"
       ]
      },
      {
       "output_type": "stream",
       "stream": "stdout",
       "text": [
        "\n",
        "66446.734771f\u00fcr einen makesmalldurchlauf"
       ]
      },
      {
       "output_type": "stream",
       "stream": "stdout",
       "text": [
        "\n",
        "66471.3644099f\u00fcr einen makesmalldurchlauf"
       ]
      },
      {
       "output_type": "stream",
       "stream": "stdout",
       "text": [
        "\n",
        "66496.223109f\u00fcr einen makesmalldurchlauf"
       ]
      },
      {
       "output_type": "stream",
       "stream": "stdout",
       "text": [
        "\n",
        "66521.917125f\u00fcr einen makesmalldurchlauf"
       ]
      },
      {
       "output_type": "stream",
       "stream": "stdout",
       "text": [
        "\n",
        "66546.7095759f\u00fcr einen makesmalldurchlauf"
       ]
      },
      {
       "output_type": "stream",
       "stream": "stdout",
       "text": [
        "\n",
        "66571.7980399f\u00fcr einen makesmalldurchlauf"
       ]
      },
      {
       "output_type": "stream",
       "stream": "stdout",
       "text": [
        "\n",
        "66596.7623389f\u00fcr einen makesmalldurchlauf"
       ]
      },
      {
       "output_type": "stream",
       "stream": "stdout",
       "text": [
        "\n",
        "66621.785048f\u00fcr einen makesmalldurchlauf"
       ]
      },
      {
       "output_type": "stream",
       "stream": "stdout",
       "text": [
        "\n",
        "66646.8639469f\u00fcr einen makesmalldurchlauf"
       ]
      },
      {
       "output_type": "stream",
       "stream": "stdout",
       "text": [
        "\n",
        "66672.043319f\u00fcr einen makesmalldurchlauf"
       ]
      },
      {
       "output_type": "stream",
       "stream": "stdout",
       "text": [
        "\n",
        "66697.1711168f\u00fcr einen makesmalldurchlauf"
       ]
      },
      {
       "output_type": "stream",
       "stream": "stdout",
       "text": [
        "\n",
        "66721.924655f\u00fcr einen makesmalldurchlauf"
       ]
      },
      {
       "output_type": "stream",
       "stream": "stdout",
       "text": [
        "\n",
        "66746.7839658f\u00fcr einen makesmalldurchlauf"
       ]
      },
      {
       "output_type": "stream",
       "stream": "stdout",
       "text": [
        "\n",
        "66771.7445328f\u00fcr einen makesmalldurchlauf"
       ]
      },
      {
       "output_type": "stream",
       "stream": "stdout",
       "text": [
        "\n",
        "66796.8678348f\u00fcr einen makesmalldurchlauf"
       ]
      },
      {
       "output_type": "stream",
       "stream": "stdout",
       "text": [
        "\n",
        "66822.206259f\u00fcr einen makesmalldurchlauf"
       ]
      },
      {
       "output_type": "stream",
       "stream": "stdout",
       "text": [
        "\n",
        "66847.2389259f\u00fcr einen makesmalldurchlauf"
       ]
      },
      {
       "output_type": "stream",
       "stream": "stdout",
       "text": [
        "\n",
        "66872.3821518f\u00fcr einen makesmalldurchlauf"
       ]
      },
      {
       "output_type": "stream",
       "stream": "stdout",
       "text": [
        "\n",
        "66898.060735f\u00fcr einen makesmalldurchlauf"
       ]
      },
      {
       "output_type": "stream",
       "stream": "stdout",
       "text": [
        "\n",
        "66923.4614179f\u00fcr einen makesmalldurchlauf"
       ]
      },
      {
       "output_type": "stream",
       "stream": "stdout",
       "text": [
        "\n",
        "66949.083122f\u00fcr einen makesmalldurchlauf"
       ]
      },
      {
       "output_type": "stream",
       "stream": "stdout",
       "text": [
        "\n",
        "66976.1699979f\u00fcr einen makesmalldurchlauf"
       ]
      },
      {
       "output_type": "stream",
       "stream": "stdout",
       "text": [
        "\n",
        "67003.2334499f\u00fcr einen makesmalldurchlauf"
       ]
      },
      {
       "output_type": "stream",
       "stream": "stdout",
       "text": [
        "\n",
        "67030.036912f\u00fcr einen makesmalldurchlauf"
       ]
      },
      {
       "output_type": "stream",
       "stream": "stdout",
       "text": [
        "\n",
        "67055.4161489f\u00fcr einen makesmalldurchlauf"
       ]
      },
      {
       "output_type": "stream",
       "stream": "stdout",
       "text": [
        "\n",
        "67082.6460199f\u00fcr einen makesmalldurchlauf"
       ]
      },
      {
       "output_type": "stream",
       "stream": "stdout",
       "text": [
        "\n",
        "67109.7971129f\u00fcr einen makesmalldurchlauf"
       ]
      },
      {
       "output_type": "stream",
       "stream": "stdout",
       "text": [
        "\n",
        "67137.506171f\u00fcr einen makesmalldurchlauf"
       ]
      },
      {
       "output_type": "stream",
       "stream": "stdout",
       "text": [
        "\n",
        "67164.113122f\u00fcr einen makesmalldurchlauf"
       ]
      },
      {
       "output_type": "stream",
       "stream": "stdout",
       "text": [
        "\n",
        "67189.955853f\u00fcr einen makesmalldurchlauf"
       ]
      },
      {
       "output_type": "stream",
       "stream": "stdout",
       "text": [
        "\n",
        "67216.9943779f\u00fcr einen makesmalldurchlauf"
       ]
      },
      {
       "output_type": "stream",
       "stream": "stdout",
       "text": [
        "\n",
        "67241.868922f\u00fcr einen makesmalldurchlauf"
       ]
      },
      {
       "output_type": "stream",
       "stream": "stdout",
       "text": [
        "\n",
        "67266.891047f\u00fcr einen makesmalldurchlauf"
       ]
      },
      {
       "output_type": "stream",
       "stream": "stdout",
       "text": [
        "\n",
        "67293.6872499f\u00fcr einen makesmalldurchlauf"
       ]
      },
      {
       "output_type": "stream",
       "stream": "stdout",
       "text": [
        "\n",
        "67319.0866179f\u00fcr einen makesmalldurchlauf"
       ]
      },
      {
       "output_type": "stream",
       "stream": "stdout",
       "text": [
        "\n",
        "67344.887774f\u00fcr einen makesmalldurchlauf"
       ]
      },
      {
       "output_type": "stream",
       "stream": "stdout",
       "text": [
        "\n",
        "67370.278018f\u00fcr einen makesmalldurchlauf"
       ]
      },
      {
       "output_type": "stream",
       "stream": "stdout",
       "text": [
        "\n",
        "67398.339736f\u00fcr einen makesmalldurchlauf"
       ]
      },
      {
       "output_type": "stream",
       "stream": "stdout",
       "text": [
        "\n",
        "67426.0355659f\u00fcr einen makesmalldurchlauf"
       ]
      },
      {
       "output_type": "stream",
       "stream": "stdout",
       "text": [
        "\n",
        "67451.2226758f\u00fcr einen makesmalldurchlauf"
       ]
      },
      {
       "output_type": "stream",
       "stream": "stdout",
       "text": [
        "\n",
        "67476.7648799f\u00fcr einen makesmalldurchlauf"
       ]
      },
      {
       "output_type": "stream",
       "stream": "stdout",
       "text": [
        "\n",
        "67502.4912679f\u00fcr einen makesmalldurchlauf"
       ]
      },
      {
       "output_type": "stream",
       "stream": "stdout",
       "text": [
        "\n",
        "67527.3969679f\u00fcr einen makesmalldurchlauf"
       ]
      },
      {
       "output_type": "stream",
       "stream": "stdout",
       "text": [
        "\n",
        "67552.9441509f\u00fcr einen makesmalldurchlauf"
       ]
      },
      {
       "output_type": "stream",
       "stream": "stdout",
       "text": [
        "\n",
        "67577.817205f\u00fcr einen makesmalldurchlauf"
       ]
      },
      {
       "output_type": "stream",
       "stream": "stdout",
       "text": [
        "\n",
        "67603.148104f\u00fcr einen makesmalldurchlauf"
       ]
      },
      {
       "output_type": "stream",
       "stream": "stdout",
       "text": [
        "\n",
        "67628.3239789f\u00fcr einen makesmalldurchlauf"
       ]
      },
      {
       "output_type": "stream",
       "stream": "stdout",
       "text": [
        "\n",
        "67653.6904418f\u00fcr einen makesmalldurchlauf"
       ]
      },
      {
       "output_type": "stream",
       "stream": "stdout",
       "text": [
        "\n",
        "67678.737479f\u00fcr einen makesmalldurchlauf"
       ]
      },
      {
       "output_type": "stream",
       "stream": "stdout",
       "text": [
        "\n",
        "67703.5551748f\u00fcr einen makesmalldurchlauf"
       ]
      },
      {
       "output_type": "stream",
       "stream": "stdout",
       "text": [
        "\n",
        "67729.0853889f\u00fcr einen makesmalldurchlauf"
       ]
      },
      {
       "output_type": "stream",
       "stream": "stdout",
       "text": [
        "\n",
        "67756.3771069f\u00fcr einen makesmalldurchlauf"
       ]
      },
      {
       "output_type": "stream",
       "stream": "stdout",
       "text": [
        "\n",
        "67784.2650509f\u00fcr einen makesmalldurchlauf"
       ]
      },
      {
       "output_type": "stream",
       "stream": "stdout",
       "text": [
        "\n",
        "67811.3406229f\u00fcr einen makesmalldurchlauf"
       ]
      },
      {
       "output_type": "stream",
       "stream": "stdout",
       "text": [
        "\n",
        "67839.4121749f\u00fcr einen makesmalldurchlauf"
       ]
      },
      {
       "output_type": "stream",
       "stream": "stdout",
       "text": [
        "\n",
        "67867.1525788f\u00fcr einen makesmalldurchlauf"
       ]
      },
      {
       "output_type": "stream",
       "stream": "stdout",
       "text": [
        "\n",
        "67894.8559139f\u00fcr einen makesmalldurchlauf"
       ]
      },
      {
       "output_type": "stream",
       "stream": "stdout",
       "text": [
        "\n",
        "67922.544816f\u00fcr einen makesmalldurchlauf"
       ]
      },
      {
       "output_type": "stream",
       "stream": "stdout",
       "text": [
        "\n",
        "67950.3827188f\u00fcr einen makesmalldurchlauf"
       ]
      },
      {
       "output_type": "stream",
       "stream": "stdout",
       "text": [
        "\n",
        "67975.674192f\u00fcr einen makesmalldurchlauf"
       ]
      },
      {
       "output_type": "stream",
       "stream": "stdout",
       "text": [
        "\n",
        "68001.306937f\u00fcr einen makesmalldurchlauf"
       ]
      },
      {
       "output_type": "stream",
       "stream": "stdout",
       "text": [
        "\n",
        "68026.209239f\u00fcr einen makesmalldurchlauf"
       ]
      },
      {
       "output_type": "stream",
       "stream": "stdout",
       "text": [
        "\n",
        "68051.7815459f\u00fcr einen makesmalldurchlauf"
       ]
      },
      {
       "output_type": "stream",
       "stream": "stdout",
       "text": [
        "\n",
        "68078.212194f\u00fcr einen makesmalldurchlauf"
       ]
      },
      {
       "output_type": "stream",
       "stream": "stdout",
       "text": [
        "\n",
        "68104.0202749f\u00fcr einen makesmalldurchlauf"
       ]
      },
      {
       "output_type": "stream",
       "stream": "stdout",
       "text": [
        "\n",
        "68129.229126f\u00fcr einen makesmalldurchlauf"
       ]
      },
      {
       "output_type": "stream",
       "stream": "stdout",
       "text": [
        "\n",
        "68152.719039f\u00fcr einen makesmalldurchlauf"
       ]
      },
      {
       "output_type": "stream",
       "stream": "stdout",
       "text": [
        "\n",
        "68176.517854f\u00fcr einen makesmalldurchlauf"
       ]
      },
      {
       "output_type": "stream",
       "stream": "stdout",
       "text": [
        "\n",
        "68199.9772589f\u00fcr einen makesmalldurchlauf"
       ]
      },
      {
       "output_type": "stream",
       "stream": "stdout",
       "text": [
        "\n",
        "68223.4554749f\u00fcr einen makesmalldurchlauf"
       ]
      },
      {
       "output_type": "stream",
       "stream": "stdout",
       "text": [
        "\n",
        "68249.6398098f\u00fcr einen makesmalldurchlauf"
       ]
      },
      {
       "output_type": "stream",
       "stream": "stdout",
       "text": [
        "\n",
        "68275.8303628f\u00fcr einen makesmalldurchlauf"
       ]
      },
      {
       "output_type": "stream",
       "stream": "stdout",
       "text": [
        "\n",
        "68302.0115309f\u00fcr einen makesmalldurchlauf"
       ]
      },
      {
       "output_type": "stream",
       "stream": "stdout",
       "text": [
        "\n",
        "68328.188684f\u00fcr einen makesmalldurchlauf"
       ]
      },
      {
       "output_type": "stream",
       "stream": "stdout",
       "text": [
        "\n",
        "68354.3834059f\u00fcr einen makesmalldurchlauf"
       ]
      },
      {
       "output_type": "stream",
       "stream": "stdout",
       "text": [
        "\n",
        "68380.5159688f\u00fcr einen makesmalldurchlauf"
       ]
      },
      {
       "output_type": "stream",
       "stream": "stdout",
       "text": [
        "\n",
        "68406.7700078f\u00fcr einen makesmalldurchlauf"
       ]
      },
      {
       "output_type": "stream",
       "stream": "stdout",
       "text": [
        "\n",
        "68432.9381759f\u00fcr einen makesmalldurchlauf"
       ]
      },
      {
       "output_type": "stream",
       "stream": "stdout",
       "text": [
        "\n",
        "68459.1209149f\u00fcr einen makesmalldurchlauf"
       ]
      },
      {
       "output_type": "stream",
       "stream": "stdout",
       "text": [
        "\n",
        "68485.279084f\u00fcr einen makesmalldurchlauf"
       ]
      },
      {
       "output_type": "stream",
       "stream": "stdout",
       "text": [
        "\n",
        "68510.1207609f\u00fcr einen makesmalldurchlauf"
       ]
      },
      {
       "output_type": "stream",
       "stream": "stdout",
       "text": [
        "\n",
        "68533.5992649f\u00fcr einen makesmalldurchlauf"
       ]
      },
      {
       "output_type": "stream",
       "stream": "stdout",
       "text": [
        "\n",
        "68557.1061709f\u00fcr einen makesmalldurchlauf"
       ]
      },
      {
       "output_type": "stream",
       "stream": "stdout",
       "text": [
        "\n",
        "68583.2918808f\u00fcr einen makesmalldurchlauf"
       ]
      },
      {
       "output_type": "stream",
       "stream": "stdout",
       "text": [
        "\n",
        "68609.489964f\u00fcr einen makesmalldurchlauf"
       ]
      },
      {
       "output_type": "stream",
       "stream": "stdout",
       "text": [
        "\n",
        "68635.6889198f\u00fcr einen makesmalldurchlauf"
       ]
      },
      {
       "output_type": "stream",
       "stream": "stdout",
       "text": [
        "\n",
        "68661.8724098f\u00fcr einen makesmalldurchlauf"
       ]
      },
      {
       "output_type": "stream",
       "stream": "stdout",
       "text": [
        "\n",
        "68688.080323f\u00fcr einen makesmalldurchlauf"
       ]
      },
      {
       "output_type": "stream",
       "stream": "stdout",
       "text": [
        "\n",
        "68714.0495958f\u00fcr einen makesmalldurchlauf"
       ]
      },
      {
       "output_type": "stream",
       "stream": "stdout",
       "text": [
        "\n",
        "68736.2763979f\u00fcr einen makesmalldurchlauf"
       ]
      },
      {
       "output_type": "stream",
       "stream": "stdout",
       "text": [
        "\n",
        "68758.3819499f\u00fcr einen makesmalldurchlauf"
       ]
      },
      {
       "output_type": "stream",
       "stream": "stdout",
       "text": [
        "\n",
        "68780.469553f\u00fcr einen makesmalldurchlauf"
       ]
      },
      {
       "output_type": "stream",
       "stream": "stdout",
       "text": [
        "\n",
        "68802.532624f\u00fcr einen makesmalldurchlauf"
       ]
      },
      {
       "output_type": "stream",
       "stream": "stdout",
       "text": [
        "\n",
        "68824.6736379f\u00fcr einen makesmalldurchlauf"
       ]
      },
      {
       "output_type": "stream",
       "stream": "stdout",
       "text": [
        "\n",
        "68847.008703f\u00fcr einen makesmalldurchlauf"
       ]
      },
      {
       "output_type": "stream",
       "stream": "stdout",
       "text": [
        "\n",
        "68869.1063609f\u00fcr einen makesmalldurchlauf"
       ]
      },
      {
       "output_type": "stream",
       "stream": "stdout",
       "text": [
        "\n",
        "68891.154423f\u00fcr einen makesmalldurchlauf"
       ]
      },
      {
       "output_type": "stream",
       "stream": "stdout",
       "text": [
        "\n",
        "68913.514282f\u00fcr einen makesmalldurchlauf"
       ]
      },
      {
       "output_type": "stream",
       "stream": "stdout",
       "text": [
        "\n",
        "68935.7954519f\u00fcr einen makesmalldurchlauf"
       ]
      },
      {
       "output_type": "stream",
       "stream": "stdout",
       "text": [
        "\n",
        "68957.8872368f\u00fcr einen makesmalldurchlauf"
       ]
      },
      {
       "output_type": "stream",
       "stream": "stdout",
       "text": [
        "\n",
        "68979.9673839f\u00fcr einen makesmalldurchlauf"
       ]
      },
      {
       "output_type": "stream",
       "stream": "stdout",
       "text": [
        "\n",
        "69002.0544629f\u00fcr einen makesmalldurchlauf"
       ]
      },
      {
       "output_type": "stream",
       "stream": "stdout",
       "text": [
        "\n",
        "69024.1267159f\u00fcr einen makesmalldurchlauf"
       ]
      },
      {
       "output_type": "stream",
       "stream": "stdout",
       "text": [
        "\n",
        "69046.1980388f\u00fcr einen makesmalldurchlauf"
       ]
      },
      {
       "output_type": "stream",
       "stream": "stdout",
       "text": [
        "\n",
        "69068.237082f\u00fcr einen makesmalldurchlauf"
       ]
      },
      {
       "output_type": "stream",
       "stream": "stdout",
       "text": [
        "\n",
        "69090.3933358f\u00fcr einen makesmalldurchlauf"
       ]
      },
      {
       "output_type": "stream",
       "stream": "stdout",
       "text": [
        "\n",
        "69112.5200999f\u00fcr einen makesmalldurchlauf"
       ]
      },
      {
       "output_type": "stream",
       "stream": "stdout",
       "text": [
        "\n",
        "69134.6475539f\u00fcr einen makesmalldurchlauf"
       ]
      },
      {
       "output_type": "stream",
       "stream": "stdout",
       "text": [
        "\n",
        "69156.745657f\u00fcr einen makesmalldurchlauf"
       ]
      },
      {
       "output_type": "stream",
       "stream": "stdout",
       "text": [
        "\n",
        "69178.889468f\u00fcr einen makesmalldurchlauf"
       ]
      },
      {
       "output_type": "stream",
       "stream": "stdout",
       "text": [
        "\n",
        "69200.931494f\u00fcr einen makesmalldurchlauf"
       ]
      },
      {
       "output_type": "stream",
       "stream": "stdout",
       "text": [
        "\n",
        "69223.0523589f\u00fcr einen makesmalldurchlauf"
       ]
      },
      {
       "output_type": "stream",
       "stream": "stdout",
       "text": [
        "\n",
        "69245.1473608f\u00fcr einen makesmalldurchlauf"
       ]
      },
      {
       "output_type": "stream",
       "stream": "stdout",
       "text": [
        "\n",
        "69267.3437178f\u00fcr einen makesmalldurchlauf"
       ]
      },
      {
       "output_type": "stream",
       "stream": "stdout",
       "text": [
        "\n",
        "69289.5108659f\u00fcr einen makesmalldurchlauf"
       ]
      },
      {
       "output_type": "stream",
       "stream": "stdout",
       "text": [
        "\n",
        "69311.7756789f\u00fcr einen makesmalldurchlauf"
       ]
      },
      {
       "output_type": "stream",
       "stream": "stdout",
       "text": [
        "\n",
        "69333.8569179f\u00fcr einen makesmalldurchlauf"
       ]
      },
      {
       "output_type": "stream",
       "stream": "stdout",
       "text": [
        "\n",
        "69356.0076509f\u00fcr einen makesmalldurchlauf"
       ]
      },
      {
       "output_type": "stream",
       "stream": "stdout",
       "text": [
        "\n",
        "69378.0734098f\u00fcr einen makesmalldurchlauf"
       ]
      },
      {
       "output_type": "stream",
       "stream": "stdout",
       "text": [
        "\n",
        "69400.17153f\u00fcr einen makesmalldurchlauf"
       ]
      },
      {
       "output_type": "stream",
       "stream": "stdout",
       "text": [
        "\n",
        "69422.3119719f\u00fcr einen makesmalldurchlauf"
       ]
      },
      {
       "output_type": "stream",
       "stream": "stdout",
       "text": [
        "\n",
        "69444.5130968f\u00fcr einen makesmalldurchlauf"
       ]
      },
      {
       "output_type": "stream",
       "stream": "stdout",
       "text": [
        "\n",
        "69466.5741968f\u00fcr einen makesmalldurchlauf"
       ]
      },
      {
       "output_type": "stream",
       "stream": "stdout",
       "text": [
        "\n",
        "69488.6052239f\u00fcr einen makesmalldurchlauf"
       ]
      },
      {
       "output_type": "stream",
       "stream": "stdout",
       "text": [
        "\n",
        "69510.6252818f\u00fcr einen makesmalldurchlauf"
       ]
      },
      {
       "output_type": "stream",
       "stream": "stdout",
       "text": [
        "\n",
        "69532.6496549f\u00fcr einen makesmalldurchlauf"
       ]
      },
      {
       "output_type": "stream",
       "stream": "stdout",
       "text": [
        "\n",
        "69554.6455238f\u00fcr einen makesmalldurchlauf"
       ]
      },
      {
       "output_type": "stream",
       "stream": "stdout",
       "text": [
        "\n",
        "69576.7062829f\u00fcr einen makesmalldurchlauf"
       ]
      },
      {
       "output_type": "stream",
       "stream": "stdout",
       "text": [
        "\n",
        "69598.781693f\u00fcr einen makesmalldurchlauf"
       ]
      },
      {
       "output_type": "stream",
       "stream": "stdout",
       "text": [
        "\n",
        "69620.903533f\u00fcr einen makesmalldurchlauf"
       ]
      },
      {
       "output_type": "stream",
       "stream": "stdout",
       "text": [
        "\n",
        "69642.9247739f\u00fcr einen makesmalldurchlauf"
       ]
      },
      {
       "output_type": "stream",
       "stream": "stdout",
       "text": [
        "\n",
        "69664.956131f\u00fcr einen makesmalldurchlauf"
       ]
      },
      {
       "output_type": "stream",
       "stream": "stdout",
       "text": [
        "\n",
        "69687.003541f\u00fcr einen makesmalldurchlauf"
       ]
      },
      {
       "output_type": "stream",
       "stream": "stdout",
       "text": [
        "\n",
        "69709.2257349f\u00fcr einen makesmalldurchlauf"
       ]
      },
      {
       "output_type": "stream",
       "stream": "stdout",
       "text": [
        "\n",
        "69731.672648f\u00fcr einen makesmalldurchlauf"
       ]
      },
      {
       "output_type": "stream",
       "stream": "stdout",
       "text": [
        "\n",
        "69753.7739959f\u00fcr einen makesmalldurchlauf"
       ]
      },
      {
       "output_type": "stream",
       "stream": "stdout",
       "text": [
        "\n",
        "69775.815773f\u00fcr einen makesmalldurchlauf"
       ]
      },
      {
       "output_type": "stream",
       "stream": "stdout",
       "text": [
        "\n",
        "69797.8000748f\u00fcr einen makesmalldurchlauf"
       ]
      },
      {
       "output_type": "stream",
       "stream": "stdout",
       "text": [
        "\n",
        "69819.8112819f\u00fcr einen makesmalldurchlauf"
       ]
      },
      {
       "output_type": "stream",
       "stream": "stdout",
       "text": [
        "\n",
        "69841.9048839f\u00fcr einen makesmalldurchlauf"
       ]
      },
      {
       "output_type": "stream",
       "stream": "stdout",
       "text": [
        "\n",
        "69863.9122729f\u00fcr einen makesmalldurchlauf"
       ]
      },
      {
       "output_type": "stream",
       "stream": "stdout",
       "text": [
        "\n",
        "69885.9137969f\u00fcr einen makesmalldurchlauf"
       ]
      },
      {
       "output_type": "stream",
       "stream": "stdout",
       "text": [
        "\n",
        "69907.9016678f\u00fcr einen makesmalldurchlauf"
       ]
      },
      {
       "output_type": "stream",
       "stream": "stdout",
       "text": [
        "\n",
        "69930.0823319f\u00fcr einen makesmalldurchlauf"
       ]
      },
      {
       "output_type": "stream",
       "stream": "stdout",
       "text": [
        "\n",
        "69952.1101689f\u00fcr einen makesmalldurchlauf"
       ]
      },
      {
       "output_type": "stream",
       "stream": "stdout",
       "text": [
        "\n",
        "69974.1603999f\u00fcr einen makesmalldurchlauf"
       ]
      },
      {
       "output_type": "stream",
       "stream": "stdout",
       "text": [
        "\n",
        "69996.3070459f\u00fcr einen makesmalldurchlauf"
       ]
      },
      {
       "output_type": "stream",
       "stream": "stdout",
       "text": [
        "\n",
        "70018.3585749f\u00fcr einen makesmalldurchlauf"
       ]
      },
      {
       "output_type": "stream",
       "stream": "stdout",
       "text": [
        "\n",
        "70040.39114f\u00fcr einen makesmalldurchlauf"
       ]
      },
      {
       "output_type": "stream",
       "stream": "stdout",
       "text": [
        "\n",
        "70062.4781549f\u00fcr einen makesmalldurchlauf"
       ]
      },
      {
       "output_type": "stream",
       "stream": "stdout",
       "text": [
        "\n",
        "70084.517833f\u00fcr einen makesmalldurchlauf"
       ]
      },
      {
       "output_type": "stream",
       "stream": "stdout",
       "text": [
        "\n",
        "70106.5469759f\u00fcr einen makesmalldurchlauf"
       ]
      },
      {
       "output_type": "stream",
       "stream": "stdout",
       "text": [
        "\n",
        "70128.5993569f\u00fcr einen makesmalldurchlauf"
       ]
      },
      {
       "output_type": "stream",
       "stream": "stdout",
       "text": [
        "\n",
        "70150.907985f\u00fcr einen makesmalldurchlauf"
       ]
      },
      {
       "output_type": "stream",
       "stream": "stdout",
       "text": [
        "\n",
        "70173.02914f\u00fcr einen makesmalldurchlauf"
       ]
      },
      {
       "output_type": "stream",
       "stream": "stdout",
       "text": [
        "\n",
        "70195.1211078f\u00fcr einen makesmalldurchlauf"
       ]
      },
      {
       "output_type": "stream",
       "stream": "stdout",
       "text": [
        "\n",
        "70217.1380849f\u00fcr einen makesmalldurchlauf"
       ]
      },
      {
       "output_type": "stream",
       "stream": "stdout",
       "text": [
        "\n",
        "70239.5706229f\u00fcr einen makesmalldurchlauf"
       ]
      },
      {
       "output_type": "stream",
       "stream": "stdout",
       "text": [
        "\n",
        "70261.7969618f\u00fcr einen makesmalldurchlauf"
       ]
      },
      {
       "output_type": "stream",
       "stream": "stdout",
       "text": [
        "\n",
        "70283.8881059f\u00fcr einen makesmalldurchlauf"
       ]
      },
      {
       "output_type": "stream",
       "stream": "stdout",
       "text": [
        "\n",
        "70305.9765499f\u00fcr einen makesmalldurchlauf"
       ]
      },
      {
       "output_type": "stream",
       "stream": "stdout",
       "text": [
        "\n",
        "70328.0288038f\u00fcr einen makesmalldurchlauf"
       ]
      },
      {
       "output_type": "stream",
       "stream": "stdout",
       "text": [
        "\n",
        "70350.2071588f\u00fcr einen makesmalldurchlauf"
       ]
      },
      {
       "output_type": "stream",
       "stream": "stdout",
       "text": [
        "\n",
        "70372.2994618f\u00fcr einen makesmalldurchlauf"
       ]
      },
      {
       "output_type": "stream",
       "stream": "stdout",
       "text": [
        "\n",
        "70394.3023319f\u00fcr einen makesmalldurchlauf"
       ]
      },
      {
       "output_type": "stream",
       "stream": "stdout",
       "text": [
        "\n",
        "70416.411927f\u00fcr einen makesmalldurchlauf"
       ]
      },
      {
       "output_type": "stream",
       "stream": "stdout",
       "text": [
        "\n",
        "70438.4450209f\u00fcr einen makesmalldurchlauf"
       ]
      },
      {
       "output_type": "stream",
       "stream": "stdout",
       "text": [
        "\n",
        "70460.5322869f\u00fcr einen makesmalldurchlauf"
       ]
      },
      {
       "output_type": "stream",
       "stream": "stdout",
       "text": [
        "\n",
        "70482.5869f\u00fcr einen makesmalldurchlauf"
       ]
      },
      {
       "output_type": "stream",
       "stream": "stdout",
       "text": [
        "\n",
        "70504.7393548f\u00fcr einen makesmalldurchlauf"
       ]
      },
      {
       "output_type": "stream",
       "stream": "stdout",
       "text": [
        "\n",
        "70529.0275538f\u00fcr einen makesmalldurchlauf"
       ]
      },
      {
       "output_type": "stream",
       "stream": "stdout",
       "text": [
        "\n",
        "70554.1282518f\u00fcr einen makesmalldurchlauf"
       ]
      },
      {
       "output_type": "stream",
       "stream": "stdout",
       "text": [
        "\n",
        "70579.4228768f\u00fcr einen makesmalldurchlauf"
       ]
      },
      {
       "output_type": "stream",
       "stream": "stdout",
       "text": [
        "\n",
        "70605.4649229f\u00fcr einen makesmalldurchlauf"
       ]
      },
      {
       "output_type": "stream",
       "stream": "stdout",
       "text": [
        "\n",
        "70631.6743309f\u00fcr einen makesmalldurchlauf"
       ]
      },
      {
       "output_type": "stream",
       "stream": "stdout",
       "text": [
        "\n",
        "70657.9466369f\u00fcr einen makesmalldurchlauf"
       ]
      },
      {
       "output_type": "stream",
       "stream": "stdout",
       "text": [
        "\n",
        "70683.2276149f\u00fcr einen makesmalldurchlauf"
       ]
      },
      {
       "output_type": "stream",
       "stream": "stdout",
       "text": [
        "\n",
        "70708.185091f\u00fcr einen makesmalldurchlauf"
       ]
      },
      {
       "output_type": "stream",
       "stream": "stdout",
       "text": [
        "\n",
        "70735.2350249f\u00fcr einen makesmalldurchlauf"
       ]
      },
      {
       "output_type": "stream",
       "stream": "stdout",
       "text": [
        "\n",
        "70761.175823f\u00fcr einen makesmalldurchlauf"
       ]
      },
      {
       "output_type": "stream",
       "stream": "stdout",
       "text": [
        "\n",
        "70786.9661748f\u00fcr einen makesmalldurchlauf"
       ]
      },
      {
       "output_type": "stream",
       "stream": "stdout",
       "text": [
        "\n",
        "70812.3413088f\u00fcr einen makesmalldurchlauf"
       ]
      },
      {
       "output_type": "stream",
       "stream": "stdout",
       "text": [
        "\n",
        "70837.836386f\u00fcr einen makesmalldurchlauf"
       ]
      },
      {
       "output_type": "stream",
       "stream": "stdout",
       "text": [
        "\n",
        "70863.3347938f\u00fcr einen makesmalldurchlauf"
       ]
      },
      {
       "output_type": "stream",
       "stream": "stdout",
       "text": [
        "\n",
        "70888.586787f\u00fcr einen makesmalldurchlauf"
       ]
      },
      {
       "output_type": "stream",
       "stream": "stdout",
       "text": [
        "\n",
        "70914.349252f\u00fcr einen makesmalldurchlauf"
       ]
      },
      {
       "output_type": "stream",
       "stream": "stdout",
       "text": [
        "\n",
        "70940.1012938f\u00fcr einen makesmalldurchlauf"
       ]
      },
      {
       "output_type": "stream",
       "stream": "stdout",
       "text": [
        "\n",
        "70965.3731039f\u00fcr einen makesmalldurchlauf"
       ]
      },
      {
       "output_type": "stream",
       "stream": "stdout",
       "text": [
        "\n",
        "70993.4315999f\u00fcr einen makesmalldurchlauf"
       ]
      },
      {
       "output_type": "stream",
       "stream": "stdout",
       "text": [
        "\n",
        "71019.1675f\u00fcr einen makesmalldurchlauf"
       ]
      },
      {
       "output_type": "stream",
       "stream": "stdout",
       "text": [
        "\n",
        "71044.235255f\u00fcr einen makesmalldurchlauf"
       ]
      },
      {
       "output_type": "stream",
       "stream": "stdout",
       "text": [
        "\n",
        "71069.8626158f\u00fcr einen makesmalldurchlauf"
       ]
      },
      {
       "output_type": "stream",
       "stream": "stdout",
       "text": [
        "\n",
        "71095.0722349f\u00fcr einen makesmalldurchlauf"
       ]
      },
      {
       "output_type": "stream",
       "stream": "stdout",
       "text": [
        "\n",
        "71119.4946208f\u00fcr einen makesmalldurchlauf"
       ]
      },
      {
       "output_type": "stream",
       "stream": "stdout",
       "text": [
        "\n",
        "71141.5042019f\u00fcr einen makesmalldurchlauf"
       ]
      },
      {
       "output_type": "stream",
       "stream": "stdout",
       "text": [
        "\n",
        "71163.7356279f\u00fcr einen makesmalldurchlauf"
       ]
      },
      {
       "output_type": "stream",
       "stream": "stdout",
       "text": [
        "\n",
        "71185.9079218f\u00fcr einen makesmalldurchlauf"
       ]
      },
      {
       "output_type": "stream",
       "stream": "stdout",
       "text": [
        "\n",
        "71207.9460928f\u00fcr einen makesmalldurchlauf"
       ]
      },
      {
       "output_type": "stream",
       "stream": "stdout",
       "text": [
        "\n",
        "71230.0395558f\u00fcr einen makesmalldurchlauf"
       ]
      },
      {
       "output_type": "stream",
       "stream": "stdout",
       "text": [
        "\n",
        "71252.1367719f\u00fcr einen makesmalldurchlauf"
       ]
      },
      {
       "output_type": "stream",
       "stream": "stdout",
       "text": [
        "\n",
        "71274.2643209f\u00fcr einen makesmalldurchlauf"
       ]
      },
      {
       "output_type": "stream",
       "stream": "stdout",
       "text": [
        "\n",
        "71296.2768729f\u00fcr einen makesmalldurchlauf"
       ]
      },
      {
       "output_type": "stream",
       "stream": "stdout",
       "text": [
        "\n",
        "71318.3262818f\u00fcr einen makesmalldurchlauf"
       ]
      },
      {
       "output_type": "stream",
       "stream": "stdout",
       "text": [
        "\n",
        "71340.7344508f\u00fcr einen makesmalldurchlauf"
       ]
      },
      {
       "output_type": "stream",
       "stream": "stdout",
       "text": [
        "\n",
        "71362.8503349f\u00fcr einen makesmalldurchlauf"
       ]
      },
      {
       "output_type": "stream",
       "stream": "stdout",
       "text": [
        "\n",
        "71384.9264958f\u00fcr einen makesmalldurchlauf"
       ]
      },
      {
       "output_type": "stream",
       "stream": "stdout",
       "text": [
        "\n",
        "71406.9917679f\u00fcr einen makesmalldurchlauf"
       ]
      },
      {
       "output_type": "stream",
       "stream": "stdout",
       "text": [
        "\n",
        "71433.042805f\u00fcr einen makesmalldurchlauf"
       ]
      },
      {
       "output_type": "stream",
       "stream": "stdout",
       "text": [
        "\n",
        "71455.1625109f\u00fcr einen makesmalldurchlauf"
       ]
      },
      {
       "output_type": "stream",
       "stream": "stdout",
       "text": [
        "\n",
        "71477.2064428f\u00fcr einen makesmalldurchlauf"
       ]
      },
      {
       "output_type": "stream",
       "stream": "stdout",
       "text": [
        "\n",
        "71499.3720369f\u00fcr einen makesmalldurchlauf"
       ]
      },
      {
       "output_type": "stream",
       "stream": "stdout",
       "text": [
        "\n",
        "71521.4929318f\u00fcr einen makesmalldurchlauf"
       ]
      },
      {
       "output_type": "stream",
       "stream": "stdout",
       "text": [
        "\n",
        "71543.652864f\u00fcr einen makesmalldurchlauf"
       ]
      },
      {
       "output_type": "stream",
       "stream": "stdout",
       "text": [
        "\n",
        "71565.8116329f\u00fcr einen makesmalldurchlauf"
       ]
      },
      {
       "output_type": "stream",
       "stream": "stdout",
       "text": [
        "\n",
        "71587.930259f\u00fcr einen makesmalldurchlauf"
       ]
      },
      {
       "output_type": "stream",
       "stream": "stdout",
       "text": [
        "\n",
        "71610.0729098f\u00fcr einen makesmalldurchlauf"
       ]
      },
      {
       "output_type": "stream",
       "stream": "stdout",
       "text": [
        "\n",
        "71632.1161819f\u00fcr einen makesmalldurchlauf"
       ]
      },
      {
       "output_type": "stream",
       "stream": "stdout",
       "text": [
        "\n",
        "71654.1311998f\u00fcr einen makesmalldurchlauf"
       ]
      },
      {
       "output_type": "stream",
       "stream": "stdout",
       "text": [
        "\n",
        "71676.1718209f\u00fcr einen makesmalldurchlauf"
       ]
      },
      {
       "output_type": "stream",
       "stream": "stdout",
       "text": [
        "\n",
        "71698.25491f\u00fcr einen makesmalldurchlauf"
       ]
      },
      {
       "output_type": "stream",
       "stream": "stdout",
       "text": [
        "\n",
        "71720.5724368f\u00fcr einen makesmalldurchlauf"
       ]
      },
      {
       "output_type": "stream",
       "stream": "stdout",
       "text": [
        "\n",
        "71743.7285118f\u00fcr einen makesmalldurchlauf"
       ]
      },
      {
       "output_type": "stream",
       "stream": "stdout",
       "text": [
        "\n",
        "71766.485332f\u00fcr einen makesmalldurchlauf"
       ]
      },
      {
       "output_type": "stream",
       "stream": "stdout",
       "text": [
        "\n",
        "71789.6317279f\u00fcr einen makesmalldurchlauf"
       ]
      },
      {
       "output_type": "stream",
       "stream": "stdout",
       "text": [
        "\n",
        "71812.032593f\u00fcr einen makesmalldurchlauf"
       ]
      },
      {
       "output_type": "stream",
       "stream": "stdout",
       "text": [
        "\n",
        "71835.6249578f\u00fcr einen makesmalldurchlauf"
       ]
      },
      {
       "output_type": "stream",
       "stream": "stdout",
       "text": [
        "\n",
        "71858.7431979f\u00fcr einen makesmalldurchlauf"
       ]
      },
      {
       "output_type": "stream",
       "stream": "stdout",
       "text": [
        "\n",
        "71881.559515f\u00fcr einen makesmalldurchlauf"
       ]
      },
      {
       "output_type": "stream",
       "stream": "stdout",
       "text": [
        "\n",
        "71904.5804038f\u00fcr einen makesmalldurchlauf"
       ]
      },
      {
       "output_type": "stream",
       "stream": "stdout",
       "text": [
        "\n",
        "71927.8831739f\u00fcr einen makesmalldurchlauf"
       ]
      },
      {
       "output_type": "stream",
       "stream": "stdout",
       "text": [
        "\n",
        "71950.792115f\u00fcr einen makesmalldurchlauf"
       ]
      },
      {
       "output_type": "stream",
       "stream": "stdout",
       "text": [
        "\n",
        "71973.2516339f\u00fcr einen makesmalldurchlauf"
       ]
      },
      {
       "output_type": "stream",
       "stream": "stdout",
       "text": [
        "\n",
        "71995.8367078f\u00fcr einen makesmalldurchlauf"
       ]
      },
      {
       "output_type": "stream",
       "stream": "stdout",
       "text": [
        "\n",
        "72018.5967219f\u00fcr einen makesmalldurchlauf"
       ]
      },
      {
       "output_type": "stream",
       "stream": "stdout",
       "text": [
        "\n",
        "72041.2317178f\u00fcr einen makesmalldurchlauf"
       ]
      },
      {
       "output_type": "stream",
       "stream": "stdout",
       "text": [
        "\n",
        "72064.5479119f\u00fcr einen makesmalldurchlauf"
       ]
      },
      {
       "output_type": "stream",
       "stream": "stdout",
       "text": [
        "\n",
        "72087.8019938f\u00fcr einen makesmalldurchlauf"
       ]
      },
      {
       "output_type": "stream",
       "stream": "stdout",
       "text": [
        "\n",
        "72110.3938148f\u00fcr einen makesmalldurchlauf"
       ]
      },
      {
       "output_type": "stream",
       "stream": "stdout",
       "text": [
        "\n",
        "72133.1577389f\u00fcr einen makesmalldurchlauf"
       ]
      },
      {
       "output_type": "stream",
       "stream": "stdout",
       "text": [
        "\n",
        "72155.6556699f\u00fcr einen makesmalldurchlauf"
       ]
      },
      {
       "output_type": "stream",
       "stream": "stdout",
       "text": [
        "\n",
        "72178.3987238f\u00fcr einen makesmalldurchlauf"
       ]
      },
      {
       "output_type": "stream",
       "stream": "stdout",
       "text": [
        "\n",
        "72200.8631279f\u00fcr einen makesmalldurchlauf"
       ]
      },
      {
       "output_type": "stream",
       "stream": "stdout",
       "text": [
        "\n",
        "72223.5470178f\u00fcr einen makesmalldurchlauf"
       ]
      },
      {
       "output_type": "stream",
       "stream": "stdout",
       "text": [
        "\n",
        "72246.6229498f\u00fcr einen makesmalldurchlauf"
       ]
      },
      {
       "output_type": "stream",
       "stream": "stdout",
       "text": [
        "\n",
        "72269.2204719f\u00fcr einen makesmalldurchlauf"
       ]
      },
      {
       "output_type": "stream",
       "stream": "stdout",
       "text": [
        "\n",
        "72292.1686709f\u00fcr einen makesmalldurchlauf"
       ]
      },
      {
       "output_type": "stream",
       "stream": "stdout",
       "text": [
        "\n",
        "72315.199091f\u00fcr einen makesmalldurchlauf"
       ]
      },
      {
       "output_type": "stream",
       "stream": "stdout",
       "text": [
        "\n",
        "72337.309824f\u00fcr einen makesmalldurchlauf"
       ]
      },
      {
       "output_type": "stream",
       "stream": "stdout",
       "text": [
        "\n",
        "72359.3979809f\u00fcr einen makesmalldurchlauf"
       ]
      },
      {
       "output_type": "stream",
       "stream": "stdout",
       "text": [
        "\n",
        "72381.4227848f\u00fcr einen makesmalldurchlauf"
       ]
      },
      {
       "output_type": "stream",
       "stream": "stdout",
       "text": [
        "\n",
        "72403.441777f\u00fcr einen makesmalldurchlauf"
       ]
      },
      {
       "output_type": "stream",
       "stream": "stdout",
       "text": [
        "\n",
        "72425.5269639f\u00fcr einen makesmalldurchlauf"
       ]
      },
      {
       "output_type": "stream",
       "stream": "stdout",
       "text": [
        "\n",
        "72447.6021638f\u00fcr einen makesmalldurchlauf"
       ]
      },
      {
       "output_type": "stream",
       "stream": "stdout",
       "text": [
        "\n",
        "72469.6672988f\u00fcr einen makesmalldurchlauf"
       ]
      },
      {
       "output_type": "stream",
       "stream": "stdout",
       "text": [
        "\n",
        "72491.6825039f\u00fcr einen makesmalldurchlauf"
       ]
      },
      {
       "output_type": "stream",
       "stream": "stdout",
       "text": [
        "\n",
        "72513.7305319f\u00fcr einen makesmalldurchlauf"
       ]
      },
      {
       "output_type": "stream",
       "stream": "stdout",
       "text": [
        "\n",
        "72535.7502739f\u00fcr einen makesmalldurchlauf"
       ]
      },
      {
       "output_type": "stream",
       "stream": "stdout",
       "text": [
        "\n",
        "72557.7554429f\u00fcr einen makesmalldurchlauf"
       ]
      },
      {
       "output_type": "stream",
       "stream": "stdout",
       "text": [
        "\n",
        "72579.8793149f\u00fcr einen makesmalldurchlauf"
       ]
      },
      {
       "output_type": "stream",
       "stream": "stdout",
       "text": [
        "\n",
        "72601.8694148f\u00fcr einen makesmalldurchlauf"
       ]
      },
      {
       "output_type": "stream",
       "stream": "stdout",
       "text": [
        "\n",
        "72623.9083848f\u00fcr einen makesmalldurchlauf"
       ]
      },
      {
       "output_type": "stream",
       "stream": "stdout",
       "text": [
        "\n",
        "72645.921371f\u00fcr einen makesmalldurchlauf"
       ]
      },
      {
       "output_type": "stream",
       "stream": "stdout",
       "text": [
        "\n",
        "72667.9772069f\u00fcr einen makesmalldurchlauf"
       ]
      },
      {
       "output_type": "stream",
       "stream": "stdout",
       "text": [
        "\n",
        "72689.9707448f\u00fcr einen makesmalldurchlauf"
       ]
      },
      {
       "output_type": "stream",
       "stream": "stdout",
       "text": [
        "\n",
        "72711.9925308f\u00fcr einen makesmalldurchlauf"
       ]
      },
      {
       "output_type": "stream",
       "stream": "stdout",
       "text": [
        "\n",
        "72734.0445209f\u00fcr einen makesmalldurchlauf"
       ]
      },
      {
       "output_type": "stream",
       "stream": "stdout",
       "text": [
        "\n",
        "72756.1846519f\u00fcr einen makesmalldurchlauf"
       ]
      },
      {
       "output_type": "stream",
       "stream": "stdout",
       "text": [
        "\n",
        "72778.228904f\u00fcr einen makesmalldurchlauf"
       ]
      },
      {
       "output_type": "stream",
       "stream": "stdout",
       "text": [
        "\n",
        "72800.313653f\u00fcr einen makesmalldurchlauf"
       ]
      },
      {
       "output_type": "stream",
       "stream": "stdout",
       "text": [
        "\n",
        "72822.4348848f\u00fcr einen makesmalldurchlauf"
       ]
      },
      {
       "output_type": "stream",
       "stream": "stdout",
       "text": [
        "\n",
        "72844.5470579f\u00fcr einen makesmalldurchlauf"
       ]
      },
      {
       "output_type": "stream",
       "stream": "stdout",
       "text": [
        "\n",
        "72866.6717439f\u00fcr einen makesmalldurchlauf"
       ]
      },
      {
       "output_type": "stream",
       "stream": "stdout",
       "text": [
        "\n",
        "72888.7859359f\u00fcr einen makesmalldurchlauf"
       ]
      },
      {
       "output_type": "stream",
       "stream": "stdout",
       "text": [
        "\n",
        "72910.807668f\u00fcr einen makesmalldurchlauf"
       ]
      },
      {
       "output_type": "stream",
       "stream": "stdout",
       "text": [
        "\n",
        "72932.9904199f\u00fcr einen makesmalldurchlauf"
       ]
      },
      {
       "output_type": "stream",
       "stream": "stdout",
       "text": [
        "\n",
        "72955.1097739f\u00fcr einen makesmalldurchlauf"
       ]
      },
      {
       "output_type": "stream",
       "stream": "stdout",
       "text": [
        "\n",
        "72977.3833668f\u00fcr einen makesmalldurchlauf"
       ]
      },
      {
       "output_type": "stream",
       "stream": "stdout",
       "text": [
        "\n",
        "72999.6638f\u00fcr einen makesmalldurchlauf"
       ]
      },
      {
       "output_type": "stream",
       "stream": "stdout",
       "text": [
        "\n",
        "73021.7999408f\u00fcr einen makesmalldurchlauf"
       ]
      },
      {
       "output_type": "stream",
       "stream": "stdout",
       "text": [
        "\n",
        "73044.128716f\u00fcr einen makesmalldurchlauf"
       ]
      },
      {
       "output_type": "stream",
       "stream": "stdout",
       "text": [
        "\n",
        "73066.3389149f\u00fcr einen makesmalldurchlauf"
       ]
      },
      {
       "output_type": "stream",
       "stream": "stdout",
       "text": [
        "\n",
        "73088.5474899f\u00fcr einen makesmalldurchlauf"
       ]
      },
      {
       "output_type": "stream",
       "stream": "stdout",
       "text": [
        "\n",
        "73110.7445948f\u00fcr einen makesmalldurchlauf"
       ]
      },
      {
       "output_type": "stream",
       "stream": "stdout",
       "text": [
        "\n",
        "73133.010545f\u00fcr einen makesmalldurchlauf"
       ]
      },
      {
       "output_type": "stream",
       "stream": "stdout",
       "text": [
        "\n",
        "73155.1738589f\u00fcr einen makesmalldurchlauf"
       ]
      },
      {
       "output_type": "stream",
       "stream": "stdout",
       "text": [
        "\n",
        "73177.4260669f\u00fcr einen makesmalldurchlauf"
       ]
      },
      {
       "output_type": "stream",
       "stream": "stdout",
       "text": [
        "\n",
        "73199.6049809f\u00fcr einen makesmalldurchlauf"
       ]
      },
      {
       "output_type": "stream",
       "stream": "stdout",
       "text": [
        "\n",
        "73221.8420908f\u00fcr einen makesmalldurchlauf"
       ]
      },
      {
       "output_type": "stream",
       "stream": "stdout",
       "text": [
        "\n",
        "73244.0180779f\u00fcr einen makesmalldurchlauf"
       ]
      },
      {
       "output_type": "stream",
       "stream": "stdout",
       "text": [
        "\n",
        "73266.173749f\u00fcr einen makesmalldurchlauf"
       ]
      },
      {
       "output_type": "stream",
       "stream": "stdout",
       "text": [
        "\n",
        "73288.5526228f\u00fcr einen makesmalldurchlauf"
       ]
      },
      {
       "output_type": "stream",
       "stream": "stdout",
       "text": [
        "\n",
        "73310.7081499f\u00fcr einen makesmalldurchlauf"
       ]
      },
      {
       "output_type": "stream",
       "stream": "stdout",
       "text": [
        "\n",
        "73332.9997129f\u00fcr einen makesmalldurchlauf"
       ]
      },
      {
       "output_type": "stream",
       "stream": "stdout",
       "text": [
        "\n",
        "73355.246809f\u00fcr einen makesmalldurchlauf"
       ]
      },
      {
       "output_type": "stream",
       "stream": "stdout",
       "text": [
        "\n",
        "73377.5364099f\u00fcr einen makesmalldurchlauf"
       ]
      },
      {
       "output_type": "stream",
       "stream": "stdout",
       "text": [
        "\n",
        "73399.7067389f\u00fcr einen makesmalldurchlauf"
       ]
      },
      {
       "output_type": "stream",
       "stream": "stdout",
       "text": [
        "\n",
        "73421.800823f\u00fcr einen makesmalldurchlauf"
       ]
      },
      {
       "output_type": "stream",
       "stream": "stdout",
       "text": [
        "\n",
        "73444.187901f\u00fcr einen makesmalldurchlauf"
       ]
      },
      {
       "output_type": "stream",
       "stream": "stdout",
       "text": [
        "\n",
        "73466.3384998f\u00fcr einen makesmalldurchlauf"
       ]
      },
      {
       "output_type": "stream",
       "stream": "stdout",
       "text": [
        "\n",
        "73488.4691119f\u00fcr einen makesmalldurchlauf"
       ]
      },
      {
       "output_type": "stream",
       "stream": "stdout",
       "text": [
        "\n",
        "73510.6342518f\u00fcr einen makesmalldurchlauf"
       ]
      },
      {
       "output_type": "stream",
       "stream": "stdout",
       "text": [
        "\n",
        "73534.3776369f\u00fcr einen makesmalldurchlauf"
       ]
      },
      {
       "output_type": "stream",
       "stream": "stdout",
       "text": [
        "\n",
        "73558.422416f\u00fcr einen makesmalldurchlauf"
       ]
      },
      {
       "output_type": "stream",
       "stream": "stdout",
       "text": [
        "\n",
        "73582.397002f\u00fcr einen makesmalldurchlauf"
       ]
      },
      {
       "output_type": "stream",
       "stream": "stdout",
       "text": [
        "\n",
        "73606.368464f\u00fcr einen makesmalldurchlauf"
       ]
      },
      {
       "output_type": "stream",
       "stream": "stdout",
       "text": [
        "\n",
        "73630.3542328f\u00fcr einen makesmalldurchlauf"
       ]
      },
      {
       "output_type": "stream",
       "stream": "stdout",
       "text": [
        "\n",
        "73654.48873f\u00fcr einen makesmalldurchlauf"
       ]
      },
      {
       "output_type": "stream",
       "stream": "stdout",
       "text": [
        "\n",
        "73678.5963018f\u00fcr einen makesmalldurchlauf"
       ]
      },
      {
       "output_type": "stream",
       "stream": "stdout",
       "text": [
        "\n",
        "73702.4983289f\u00fcr einen makesmalldurchlauf"
       ]
      },
      {
       "output_type": "stream",
       "stream": "stdout",
       "text": [
        "\n",
        "73726.4309418f\u00fcr einen makesmalldurchlauf"
       ]
      },
      {
       "output_type": "stream",
       "stream": "stdout",
       "text": [
        "\n",
        "73750.4236639f\u00fcr einen makesmalldurchlauf"
       ]
      },
      {
       "output_type": "stream",
       "stream": "stdout",
       "text": [
        "\n",
        "73774.3459148f\u00fcr einen makesmalldurchlauf"
       ]
      },
      {
       "output_type": "stream",
       "stream": "stdout",
       "text": [
        "\n",
        "73798.293221f\u00fcr einen makesmalldurchlauf"
       ]
      },
      {
       "output_type": "stream",
       "stream": "stdout",
       "text": [
        "\n",
        "73822.236279f\u00fcr einen makesmalldurchlauf"
       ]
      },
      {
       "output_type": "stream",
       "stream": "stdout",
       "text": [
        "\n",
        "73846.2137308f\u00fcr einen makesmalldurchlauf"
       ]
      },
      {
       "output_type": "stream",
       "stream": "stdout",
       "text": [
        "\n",
        "73870.294719f\u00fcr einen makesmalldurchlauf"
       ]
      },
      {
       "output_type": "stream",
       "stream": "stdout",
       "text": [
        "\n",
        "73894.3189828f\u00fcr einen makesmalldurchlauf"
       ]
      },
      {
       "output_type": "stream",
       "stream": "stdout",
       "text": [
        "\n",
        "73917.624795f\u00fcr einen makesmalldurchlauf"
       ]
      },
      {
       "output_type": "stream",
       "stream": "stdout",
       "text": [
        "\n",
        "73940.855114f\u00fcr einen makesmalldurchlauf"
       ]
      },
      {
       "output_type": "stream",
       "stream": "stdout",
       "text": [
        "\n",
        "73964.8950639f\u00fcr einen makesmalldurchlauf"
       ]
      },
      {
       "output_type": "stream",
       "stream": "stdout",
       "text": [
        "\n",
        "73988.786438f\u00fcr einen makesmalldurchlauf"
       ]
      },
      {
       "output_type": "stream",
       "stream": "stdout",
       "text": [
        "\n",
        "74012.7793019f\u00fcr einen makesmalldurchlauf"
       ]
      },
      {
       "output_type": "stream",
       "stream": "stdout",
       "text": [
        "\n",
        "74036.7562909f\u00fcr einen makesmalldurchlauf"
       ]
      },
      {
       "output_type": "stream",
       "stream": "stdout",
       "text": [
        "\n",
        "74060.670023f\u00fcr einen makesmalldurchlauf"
       ]
      },
      {
       "output_type": "stream",
       "stream": "stdout",
       "text": [
        "\n",
        "74084.131763f\u00fcr einen makesmalldurchlauf"
       ]
      },
      {
       "output_type": "stream",
       "stream": "stdout",
       "text": [
        "\n",
        "74107.5808849f\u00fcr einen makesmalldurchlauf"
       ]
      },
      {
       "output_type": "stream",
       "stream": "stdout",
       "text": [
        "\n",
        "74133.0738358f\u00fcr einen makesmalldurchlauf"
       ]
      },
      {
       "output_type": "stream",
       "stream": "stdout",
       "text": [
        "\n",
        "74159.2691638f\u00fcr einen makesmalldurchlauf"
       ]
      },
      {
       "output_type": "stream",
       "stream": "stdout",
       "text": [
        "\n",
        "74185.479502f\u00fcr einen makesmalldurchlauf"
       ]
      },
      {
       "output_type": "stream",
       "stream": "stdout",
       "text": [
        "\n",
        "74211.699981f\u00fcr einen makesmalldurchlauf"
       ]
      },
      {
       "output_type": "stream",
       "stream": "stdout",
       "text": [
        "\n",
        "74237.8950739f\u00fcr einen makesmalldurchlauf"
       ]
      },
      {
       "output_type": "stream",
       "stream": "stdout",
       "text": [
        "\n",
        "74261.537127f\u00fcr einen makesmalldurchlauf"
       ]
      },
      {
       "output_type": "stream",
       "stream": "stdout",
       "text": [
        "\n",
        "74285.202435f\u00fcr einen makesmalldurchlauf"
       ]
      },
      {
       "output_type": "stream",
       "stream": "stdout",
       "text": [
        "\n",
        "74308.9723599f\u00fcr einen makesmalldurchlauf"
       ]
      },
      {
       "output_type": "stream",
       "stream": "stdout",
       "text": [
        "\n",
        "74332.541889f\u00fcr einen makesmalldurchlauf"
       ]
      },
      {
       "output_type": "stream",
       "stream": "stdout",
       "text": [
        "\n",
        "74355.9849079f\u00fcr einen makesmalldurchlauf"
       ]
      },
      {
       "output_type": "stream",
       "stream": "stdout",
       "text": [
        "\n",
        "74379.4570918f\u00fcr einen makesmalldurchlauf"
       ]
      },
      {
       "output_type": "stream",
       "stream": "stdout",
       "text": [
        "\n",
        "74402.9946899f\u00fcr einen makesmalldurchlauf"
       ]
      },
      {
       "output_type": "stream",
       "stream": "stdout",
       "text": [
        "\n",
        "74426.728693f\u00fcr einen makesmalldurchlauf"
       ]
      },
      {
       "output_type": "stream",
       "stream": "stdout",
       "text": [
        "\n",
        "74450.397517f\u00fcr einen makesmalldurchlauf"
       ]
      },
      {
       "output_type": "stream",
       "stream": "stdout",
       "text": [
        "\n",
        "74476.6175349f\u00fcr einen makesmalldurchlauf"
       ]
      },
      {
       "output_type": "stream",
       "stream": "stdout",
       "text": [
        "\n",
        "74502.7755189f\u00fcr einen makesmalldurchlauf"
       ]
      },
      {
       "output_type": "stream",
       "stream": "stdout",
       "text": [
        "\n",
        "74528.977489f\u00fcr einen makesmalldurchlauf"
       ]
      },
      {
       "output_type": "stream",
       "stream": "stdout",
       "text": [
        "\n",
        "74555.2073479f\u00fcr einen makesmalldurchlauf"
       ]
      },
      {
       "output_type": "stream",
       "stream": "stdout",
       "text": [
        "\n",
        "74579.3959219f\u00fcr einen makesmalldurchlauf"
       ]
      },
      {
       "output_type": "stream",
       "stream": "stdout",
       "text": [
        "\n",
        "74603.0690799f\u00fcr einen makesmalldurchlauf"
       ]
      },
      {
       "output_type": "stream",
       "stream": "stdout",
       "text": [
        "\n",
        "74626.5556719f\u00fcr einen makesmalldurchlauf"
       ]
      },
      {
       "output_type": "stream",
       "stream": "stdout",
       "text": [
        "\n",
        "74650.1094999f\u00fcr einen makesmalldurchlauf"
       ]
      },
      {
       "output_type": "stream",
       "stream": "stdout",
       "text": [
        "\n",
        "74673.734648f\u00fcr einen makesmalldurchlauf"
       ]
      },
      {
       "output_type": "stream",
       "stream": "stdout",
       "text": [
        "\n",
        "74697.4187639f\u00fcr einen makesmalldurchlauf"
       ]
      },
      {
       "output_type": "stream",
       "stream": "stdout",
       "text": [
        "\n",
        "74721.5960479f\u00fcr einen makesmalldurchlauf"
       ]
      },
      {
       "output_type": "stream",
       "stream": "stdout",
       "text": [
        "\n",
        "74747.2964289f\u00fcr einen makesmalldurchlauf"
       ]
      },
      {
       "output_type": "stream",
       "stream": "stdout",
       "text": [
        "\n",
        "74772.2375989f\u00fcr einen makesmalldurchlauf"
       ]
      },
      {
       "output_type": "stream",
       "stream": "stdout",
       "text": [
        "\n",
        "74797.227057f\u00fcr einen makesmalldurchlauf"
       ]
      },
      {
       "output_type": "stream",
       "stream": "stdout",
       "text": [
        "\n",
        "74821.8186228f\u00fcr einen makesmalldurchlauf"
       ]
      },
      {
       "output_type": "stream",
       "stream": "stdout",
       "text": [
        "\n",
        "74846.6247139f\u00fcr einen makesmalldurchlauf"
       ]
      },
      {
       "output_type": "stream",
       "stream": "stdout",
       "text": [
        "\n",
        "74871.949121f\u00fcr einen makesmalldurchlauf"
       ]
      },
      {
       "output_type": "stream",
       "stream": "stdout",
       "text": [
        "\n",
        "74896.6917498f\u00fcr einen makesmalldurchlauf"
       ]
      },
      {
       "output_type": "stream",
       "stream": "stdout",
       "text": [
        "\n",
        "74921.273366f\u00fcr einen makesmalldurchlauf"
       ]
      },
      {
       "output_type": "stream",
       "stream": "stdout",
       "text": [
        "\n",
        "74946.8552768f\u00fcr einen makesmalldurchlauf"
       ]
      },
      {
       "output_type": "stream",
       "stream": "stdout",
       "text": [
        "\n",
        "74972.427743f\u00fcr einen makesmalldurchlauf"
       ]
      },
      {
       "output_type": "stream",
       "stream": "stdout",
       "text": [
        "\n",
        "74997.235842f\u00fcr einen makesmalldurchlauf"
       ]
      },
      {
       "output_type": "stream",
       "stream": "stdout",
       "text": [
        "\n",
        "75021.7038569f\u00fcr einen makesmalldurchlauf"
       ]
      },
      {
       "output_type": "stream",
       "stream": "stdout",
       "text": [
        "\n",
        "75046.6893768f\u00fcr einen makesmalldurchlauf"
       ]
      },
      {
       "output_type": "stream",
       "stream": "stdout",
       "text": [
        "\n",
        "75071.4868128f\u00fcr einen makesmalldurchlauf"
       ]
      },
      {
       "output_type": "stream",
       "stream": "stdout",
       "text": [
        "\n",
        "75096.201967f\u00fcr einen makesmalldurchlauf"
       ]
      },
      {
       "output_type": "stream",
       "stream": "stdout",
       "text": [
        "\n",
        "75120.9804299f\u00fcr einen makesmalldurchlauf"
       ]
      },
      {
       "output_type": "stream",
       "stream": "stdout",
       "text": [
        "\n",
        "75145.7008798f\u00fcr einen makesmalldurchlauf"
       ]
      },
      {
       "output_type": "stream",
       "stream": "stdout",
       "text": [
        "\n",
        "75170.9003048f\u00fcr einen makesmalldurchlauf"
       ]
      },
      {
       "output_type": "stream",
       "stream": "stdout",
       "text": [
        "\n",
        "75195.9478979f\u00fcr einen makesmalldurchlauf"
       ]
      },
      {
       "output_type": "stream",
       "stream": "stdout",
       "text": [
        "\n",
        "75220.3623409f\u00fcr einen makesmalldurchlauf"
       ]
      },
      {
       "output_type": "stream",
       "stream": "stdout",
       "text": [
        "\n",
        "75245.710357f\u00fcr einen makesmalldurchlauf"
       ]
      },
      {
       "output_type": "stream",
       "stream": "stdout",
       "text": [
        "\n",
        "75270.494344f\u00fcr einen makesmalldurchlauf"
       ]
      },
      {
       "output_type": "stream",
       "stream": "stdout",
       "text": [
        "\n",
        "75295.4860229f\u00fcr einen makesmalldurchlauf"
       ]
      },
      {
       "output_type": "stream",
       "stream": "stdout",
       "text": [
        "\n",
        "75319.667428f\u00fcr einen makesmalldurchlauf"
       ]
      },
      {
       "output_type": "stream",
       "stream": "stdout",
       "text": [
        "\n",
        "75342.1180809f\u00fcr einen makesmalldurchlauf"
       ]
      },
      {
       "output_type": "stream",
       "stream": "stdout",
       "text": [
        "\n",
        "75364.3049328f\u00fcr einen makesmalldurchlauf"
       ]
      },
      {
       "output_type": "stream",
       "stream": "stdout",
       "text": [
        "\n",
        "75386.5241258f\u00fcr einen makesmalldurchlauf"
       ]
      },
      {
       "output_type": "stream",
       "stream": "stdout",
       "text": [
        "\n",
        "75408.732945f\u00fcr einen makesmalldurchlauf"
       ]
      },
      {
       "output_type": "stream",
       "stream": "stdout",
       "text": [
        "\n",
        "75430.9313319f\u00fcr einen makesmalldurchlauf"
       ]
      },
      {
       "output_type": "stream",
       "stream": "stdout",
       "text": [
        "\n",
        "75453.2180538f\u00fcr einen makesmalldurchlauf"
       ]
      },
      {
       "output_type": "stream",
       "stream": "stdout",
       "text": [
        "\n",
        "75475.3535879f\u00fcr einen makesmalldurchlauf"
       ]
      },
      {
       "output_type": "stream",
       "stream": "stdout",
       "text": [
        "\n",
        "75497.59394f\u00fcr einen makesmalldurchlauf"
       ]
      },
      {
       "output_type": "stream",
       "stream": "stdout",
       "text": [
        "\n",
        "75519.7803679f\u00fcr einen makesmalldurchlauf"
       ]
      },
      {
       "output_type": "stream",
       "stream": "stdout",
       "text": [
        "\n",
        "75541.9462478f\u00fcr einen makesmalldurchlauf"
       ]
      },
      {
       "output_type": "stream",
       "stream": "stdout",
       "text": [
        "\n",
        "75564.09373f\u00fcr einen makesmalldurchlauf"
       ]
      },
      {
       "output_type": "stream",
       "stream": "stdout",
       "text": [
        "\n",
        "75586.2346749f\u00fcr einen makesmalldurchlauf"
       ]
      },
      {
       "output_type": "stream",
       "stream": "stdout",
       "text": [
        "\n",
        "75608.388494f\u00fcr einen makesmalldurchlauf"
       ]
      },
      {
       "output_type": "stream",
       "stream": "stdout",
       "text": [
        "\n",
        "75630.513041f\u00fcr einen makesmalldurchlauf"
       ]
      },
      {
       "output_type": "stream",
       "stream": "stdout",
       "text": [
        "\n",
        "75652.6601679f\u00fcr einen makesmalldurchlauf"
       ]
      },
      {
       "output_type": "stream",
       "stream": "stdout",
       "text": [
        "\n",
        "75674.9272699f\u00fcr einen makesmalldurchlauf"
       ]
      },
      {
       "output_type": "stream",
       "stream": "stdout",
       "text": [
        "\n",
        "75697.0858979f\u00fcr einen makesmalldurchlauf"
       ]
      },
      {
       "output_type": "stream",
       "stream": "stdout",
       "text": [
        "\n",
        "75719.274837f\u00fcr einen makesmalldurchlauf"
       ]
      },
      {
       "output_type": "stream",
       "stream": "stdout",
       "text": [
        "\n",
        "75741.423744f\u00fcr einen makesmalldurchlauf"
       ]
      },
      {
       "output_type": "stream",
       "stream": "stdout",
       "text": [
        "\n",
        "75763.5426669f\u00fcr einen makesmalldurchlauf"
       ]
      },
      {
       "output_type": "stream",
       "stream": "stdout",
       "text": [
        "\n",
        "75785.6536689f\u00fcr einen makesmalldurchlauf"
       ]
      },
      {
       "output_type": "stream",
       "stream": "stdout",
       "text": [
        "\n",
        "75807.7450469f\u00fcr einen makesmalldurchlauf"
       ]
      },
      {
       "output_type": "stream",
       "stream": "stdout",
       "text": [
        "\n",
        "75829.946934f\u00fcr einen makesmalldurchlauf"
       ]
      },
      {
       "output_type": "stream",
       "stream": "stdout",
       "text": [
        "\n",
        "75852.0785029f\u00fcr einen makesmalldurchlauf"
       ]
      },
      {
       "output_type": "stream",
       "stream": "stdout",
       "text": [
        "\n",
        "75874.1727388f\u00fcr einen makesmalldurchlauf"
       ]
      },
      {
       "output_type": "stream",
       "stream": "stdout",
       "text": [
        "\n",
        "75896.335407f\u00fcr einen makesmalldurchlauf"
       ]
      },
      {
       "output_type": "stream",
       "stream": "stdout",
       "text": [
        "\n",
        "75918.8440568f\u00fcr einen makesmalldurchlauf"
       ]
      },
      {
       "output_type": "stream",
       "stream": "stdout",
       "text": [
        "\n",
        "75942.776145f\u00fcr einen makesmalldurchlauf"
       ]
      },
      {
       "output_type": "stream",
       "stream": "stdout",
       "text": [
        "\n",
        "75966.756393f\u00fcr einen makesmalldurchlauf"
       ]
      },
      {
       "output_type": "stream",
       "stream": "stdout",
       "text": [
        "\n",
        "75990.2862558f\u00fcr einen makesmalldurchlauf"
       ]
      },
      {
       "output_type": "stream",
       "stream": "stdout",
       "text": [
        "\n",
        "76013.8849778f\u00fcr einen makesmalldurchlauf"
       ]
      },
      {
       "output_type": "stream",
       "stream": "stdout",
       "text": [
        "\n",
        "76037.339577f\u00fcr einen makesmalldurchlauf"
       ]
      },
      {
       "output_type": "stream",
       "stream": "stdout",
       "text": [
        "\n",
        "76060.8395848f\u00fcr einen makesmalldurchlauf"
       ]
      },
      {
       "output_type": "stream",
       "stream": "stdout",
       "text": [
        "\n",
        "76084.4409869f\u00fcr einen makesmalldurchlauf"
       ]
      },
      {
       "output_type": "stream",
       "stream": "stdout",
       "text": [
        "\n",
        "76107.978344f\u00fcr einen makesmalldurchlauf"
       ]
      },
      {
       "output_type": "stream",
       "stream": "stdout",
       "text": [
        "\n",
        "76131.3422289f\u00fcr einen makesmalldurchlauf"
       ]
      },
      {
       "output_type": "stream",
       "stream": "stdout",
       "text": [
        "\n",
        "76154.854569f\u00fcr einen makesmalldurchlauf"
       ]
      },
      {
       "output_type": "stream",
       "stream": "stdout",
       "text": [
        "\n",
        "76178.4905849f\u00fcr einen makesmalldurchlauf"
       ]
      },
      {
       "output_type": "stream",
       "stream": "stdout",
       "text": [
        "\n",
        "76202.3533359f\u00fcr einen makesmalldurchlauf"
       ]
      },
      {
       "output_type": "stream",
       "stream": "stdout",
       "text": [
        "\n",
        "76225.9709358f\u00fcr einen makesmalldurchlauf"
       ]
      },
      {
       "output_type": "stream",
       "stream": "stdout",
       "text": [
        "\n",
        "76249.5036609f\u00fcr einen makesmalldurchlauf"
       ]
      },
      {
       "output_type": "stream",
       "stream": "stdout",
       "text": [
        "\n",
        "76273.0776138f\u00fcr einen makesmalldurchlauf"
       ]
      },
      {
       "output_type": "stream",
       "stream": "stdout",
       "text": [
        "\n",
        "76296.6042578f\u00fcr einen makesmalldurchlauf"
       ]
      },
      {
       "output_type": "stream",
       "stream": "stdout",
       "text": [
        "\n",
        "76320.155237f\u00fcr einen makesmalldurchlauf"
       ]
      },
      {
       "output_type": "stream",
       "stream": "stdout",
       "text": [
        "\n",
        "76343.8096929f\u00fcr einen makesmalldurchlauf"
       ]
      },
      {
       "output_type": "stream",
       "stream": "stdout",
       "text": [
        "\n",
        "76370.0463798f\u00fcr einen makesmalldurchlauf"
       ]
      },
      {
       "output_type": "stream",
       "stream": "stdout",
       "text": [
        "\n",
        "76396.1510339f\u00fcr einen makesmalldurchlauf"
       ]
      },
      {
       "output_type": "stream",
       "stream": "stdout",
       "text": [
        "\n",
        "76422.304513f\u00fcr einen makesmalldurchlauf"
       ]
      },
      {
       "output_type": "stream",
       "stream": "stdout",
       "text": [
        "\n",
        "76448.4798758f\u00fcr einen makesmalldurchlauf"
       ]
      },
      {
       "output_type": "stream",
       "stream": "stdout",
       "text": [
        "\n",
        "76471.978786f\u00fcr einen makesmalldurchlauf"
       ]
      },
      {
       "output_type": "stream",
       "stream": "stdout",
       "text": [
        "\n",
        "76495.3811169f\u00fcr einen makesmalldurchlauf"
       ]
      },
      {
       "output_type": "stream",
       "stream": "stdout",
       "text": [
        "\n",
        "76518.7446809f\u00fcr einen makesmalldurchlauf"
       ]
      },
      {
       "output_type": "stream",
       "stream": "stdout",
       "text": [
        "\n",
        "76541.6712759f\u00fcr einen makesmalldurchlauf"
       ]
      },
      {
       "output_type": "stream",
       "stream": "stdout",
       "text": [
        "\n",
        "76564.7142818f\u00fcr einen makesmalldurchlauf"
       ]
      },
      {
       "output_type": "stream",
       "stream": "stdout",
       "text": [
        "\n",
        "76587.6025109f\u00fcr einen makesmalldurchlauf"
       ]
      },
      {
       "output_type": "stream",
       "stream": "stdout",
       "text": [
        "\n",
        "76610.370996f\u00fcr einen makesmalldurchlauf"
       ]
      },
      {
       "output_type": "stream",
       "stream": "stdout",
       "text": [
        "\n",
        "76633.1776528f\u00fcr einen makesmalldurchlauf"
       ]
      },
      {
       "output_type": "stream",
       "stream": "stdout",
       "text": [
        "\n",
        "76656.1979029f\u00fcr einen makesmalldurchlauf"
       ]
      },
      {
       "output_type": "stream",
       "stream": "stdout",
       "text": [
        "\n",
        "76678.9753489f\u00fcr einen makesmalldurchlauf"
       ]
      },
      {
       "output_type": "stream",
       "stream": "stdout",
       "text": [
        "\n",
        "76702.0639288f\u00fcr einen makesmalldurchlauf"
       ]
      },
      {
       "output_type": "stream",
       "stream": "stdout",
       "text": [
        "\n",
        "76725.0227449f\u00fcr einen makesmalldurchlauf"
       ]
      },
      {
       "output_type": "stream",
       "stream": "stdout",
       "text": [
        "\n",
        "76747.632762f\u00fcr einen makesmalldurchlauf"
       ]
      },
      {
       "output_type": "stream",
       "stream": "stdout",
       "text": [
        "\n",
        "76770.7316859f\u00fcr einen makesmalldurchlauf"
       ]
      },
      {
       "output_type": "stream",
       "stream": "stdout",
       "text": [
        "\n",
        "76793.5274529f\u00fcr einen makesmalldurchlauf"
       ]
      },
      {
       "output_type": "stream",
       "stream": "stdout",
       "text": [
        "\n",
        "76816.128109f\u00fcr einen makesmalldurchlauf"
       ]
      },
      {
       "output_type": "stream",
       "stream": "stdout",
       "text": [
        "\n",
        "76838.6222908f\u00fcr einen makesmalldurchlauf"
       ]
      },
      {
       "output_type": "stream",
       "stream": "stdout",
       "text": [
        "\n",
        "76861.6317608f\u00fcr einen makesmalldurchlauf"
       ]
      },
      {
       "output_type": "stream",
       "stream": "stdout",
       "text": [
        "\n",
        "76884.1789079f\u00fcr einen makesmalldurchlauf"
       ]
      },
      {
       "output_type": "stream",
       "stream": "stdout",
       "text": [
        "\n",
        "76907.372087f\u00fcr einen makesmalldurchlauf"
       ]
      },
      {
       "output_type": "stream",
       "stream": "stdout",
       "text": [
        "\n",
        "76930.2679319f\u00fcr einen makesmalldurchlauf"
       ]
      },
      {
       "output_type": "stream",
       "stream": "stdout",
       "text": [
        "\n",
        "76953.2074759f\u00fcr einen makesmalldurchlauf"
       ]
      },
      {
       "output_type": "stream",
       "stream": "stdout",
       "text": [
        "\n",
        "76975.73189f\u00fcr einen makesmalldurchlauf"
       ]
      },
      {
       "output_type": "stream",
       "stream": "stdout",
       "text": [
        "\n",
        "76998.2566068f\u00fcr einen makesmalldurchlauf"
       ]
      },
      {
       "output_type": "stream",
       "stream": "stdout",
       "text": [
        "\n",
        "77020.7665298f\u00fcr einen makesmalldurchlauf"
       ]
      },
      {
       "output_type": "stream",
       "stream": "stdout",
       "text": [
        "\n",
        "77043.3219769f\u00fcr einen makesmalldurchlauf"
       ]
      },
      {
       "output_type": "stream",
       "stream": "stdout",
       "text": [
        "\n",
        "77065.9239638f\u00fcr einen makesmalldurchlauf"
       ]
      },
      {
       "output_type": "stream",
       "stream": "stdout",
       "text": [
        "\n",
        "77088.446929f\u00fcr einen makesmalldurchlauf"
       ]
      },
      {
       "output_type": "stream",
       "stream": "stdout",
       "text": [
        "\n",
        "77111.2047858f\u00fcr einen makesmalldurchlauf"
       ]
      },
      {
       "output_type": "stream",
       "stream": "stdout",
       "text": [
        "\n",
        "77133.2634559f\u00fcr einen makesmalldurchlauf"
       ]
      },
      {
       "output_type": "stream",
       "stream": "stdout",
       "text": [
        "\n",
        "77155.2331228f\u00fcr einen makesmalldurchlauf"
       ]
      },
      {
       "output_type": "stream",
       "stream": "stdout",
       "text": [
        "\n",
        "77177.3345339f\u00fcr einen makesmalldurchlauf"
       ]
      },
      {
       "output_type": "stream",
       "stream": "stdout",
       "text": [
        "\n",
        "77199.9872079f\u00fcr einen makesmalldurchlauf"
       ]
      },
      {
       "output_type": "stream",
       "stream": "stdout",
       "text": [
        "\n",
        "77221.9958909f\u00fcr einen makesmalldurchlauf"
       ]
      },
      {
       "output_type": "stream",
       "stream": "stdout",
       "text": [
        "\n",
        "77244.1251199f\u00fcr einen makesmalldurchlauf"
       ]
      },
      {
       "output_type": "stream",
       "stream": "stdout",
       "text": [
        "\n",
        "77266.099787f\u00fcr einen makesmalldurchlauf"
       ]
      },
      {
       "output_type": "stream",
       "stream": "stdout",
       "text": [
        "\n",
        "77288.0934079f\u00fcr einen makesmalldurchlauf"
       ]
      },
      {
       "output_type": "stream",
       "stream": "stdout",
       "text": [
        "\n",
        "77310.1228549f\u00fcr einen makesmalldurchlauf"
       ]
      },
      {
       "output_type": "stream",
       "stream": "stdout",
       "text": [
        "\n",
        "77332.0771229f\u00fcr einen makesmalldurchlauf"
       ]
      },
      {
       "output_type": "stream",
       "stream": "stdout",
       "text": [
        "\n",
        "77353.9992759f\u00fcr einen makesmalldurchlauf"
       ]
      },
      {
       "output_type": "stream",
       "stream": "stdout",
       "text": [
        "\n",
        "77375.9707589f\u00fcr einen makesmalldurchlauf"
       ]
      },
      {
       "output_type": "stream",
       "stream": "stdout",
       "text": [
        "\n",
        "77397.8592539f\u00fcr einen makesmalldurchlauf"
       ]
      },
      {
       "output_type": "stream",
       "stream": "stdout",
       "text": [
        "\n",
        "77419.80142f\u00fcr einen makesmalldurchlauf"
       ]
      },
      {
       "output_type": "stream",
       "stream": "stdout",
       "text": [
        "\n",
        "77441.8567338f\u00fcr einen makesmalldurchlauf"
       ]
      },
      {
       "output_type": "stream",
       "stream": "stdout",
       "text": [
        "\n",
        "77463.8822639f\u00fcr einen makesmalldurchlauf"
       ]
      },
      {
       "output_type": "stream",
       "stream": "stdout",
       "text": [
        "\n",
        "77485.822134f\u00fcr einen makesmalldurchlauf"
       ]
      },
      {
       "output_type": "stream",
       "stream": "stdout",
       "text": [
        "\n",
        "77507.728982f\u00fcr einen makesmalldurchlauf"
       ]
      },
      {
       "output_type": "stream",
       "stream": "stdout",
       "text": [
        "\n",
        "77529.7063849f\u00fcr einen makesmalldurchlauf"
       ]
      },
      {
       "output_type": "stream",
       "stream": "stdout",
       "text": [
        "\n",
        "77551.6841538f\u00fcr einen makesmalldurchlauf"
       ]
      },
      {
       "output_type": "stream",
       "stream": "stdout",
       "text": [
        "\n",
        "77573.6525888f\u00fcr einen makesmalldurchlauf"
       ]
      },
      {
       "output_type": "stream",
       "stream": "stdout",
       "text": [
        "\n",
        "77595.683558f\u00fcr einen makesmalldurchlauf"
       ]
      },
      {
       "output_type": "stream",
       "stream": "stdout",
       "text": [
        "\n",
        "77617.7039568f\u00fcr einen makesmalldurchlauf"
       ]
      },
      {
       "output_type": "stream",
       "stream": "stdout",
       "text": [
        "\n",
        "77639.7142859f\u00fcr einen makesmalldurchlauf"
       ]
      },
      {
       "output_type": "stream",
       "stream": "stdout",
       "text": [
        "\n",
        "77661.7108099f\u00fcr einen makesmalldurchlauf"
       ]
      },
      {
       "output_type": "stream",
       "stream": "stdout",
       "text": [
        "\n",
        "77683.6476429f\u00fcr einen makesmalldurchlauf"
       ]
      },
      {
       "output_type": "stream",
       "stream": "stdout",
       "text": [
        "\n",
        "77705.6311688f\u00fcr einen makesmalldurchlauf"
       ]
      },
      {
       "output_type": "stream",
       "stream": "stdout",
       "text": [
        "\n",
        "77727.651233f\u00fcr einen makesmalldurchlauf"
       ]
      },
      {
       "output_type": "stream",
       "stream": "stdout",
       "text": [
        "\n",
        "77749.6457858f\u00fcr einen makesmalldurchlauf"
       ]
      },
      {
       "output_type": "stream",
       "stream": "stdout",
       "text": [
        "\n",
        "77771.5939529f\u00fcr einen makesmalldurchlauf"
       ]
      },
      {
       "output_type": "stream",
       "stream": "stdout",
       "text": [
        "\n",
        "77794.095757f\u00fcr einen makesmalldurchlauf"
       ]
      },
      {
       "output_type": "stream",
       "stream": "stdout",
       "text": [
        "\n",
        "77818.2232039f\u00fcr einen makesmalldurchlauf"
       ]
      },
      {
       "output_type": "stream",
       "stream": "stdout",
       "text": [
        "\n",
        "77842.0642779f\u00fcr einen makesmalldurchlauf"
       ]
      },
      {
       "output_type": "stream",
       "stream": "stdout",
       "text": [
        "\n",
        "77866.2560358f\u00fcr einen makesmalldurchlauf"
       ]
      },
      {
       "output_type": "stream",
       "stream": "stdout",
       "text": [
        "\n",
        "77889.6439228f\u00fcr einen makesmalldurchlauf"
       ]
      },
      {
       "output_type": "stream",
       "stream": "stdout",
       "text": [
        "\n",
        "77912.9015899f\u00fcr einen makesmalldurchlauf"
       ]
      },
      {
       "output_type": "stream",
       "stream": "stdout",
       "text": [
        "\n",
        "77936.111531f\u00fcr einen makesmalldurchlauf"
       ]
      },
      {
       "output_type": "stream",
       "stream": "stdout",
       "text": [
        "\n",
        "77960.0863299f\u00fcr einen makesmalldurchlauf"
       ]
      },
      {
       "output_type": "stream",
       "stream": "stdout",
       "text": [
        "\n",
        "77983.9595668f\u00fcr einen makesmalldurchlauf"
       ]
      },
      {
       "output_type": "stream",
       "stream": "stdout",
       "text": [
        "\n",
        "78007.8513708f\u00fcr einen makesmalldurchlauf"
       ]
      },
      {
       "output_type": "stream",
       "stream": "stdout",
       "text": [
        "\n",
        "78031.7519519f\u00fcr einen makesmalldurchlauf"
       ]
      },
      {
       "output_type": "stream",
       "stream": "stdout",
       "text": [
        "\n",
        "78055.634001f\u00fcr einen makesmalldurchlauf"
       ]
      },
      {
       "output_type": "stream",
       "stream": "stdout",
       "text": [
        "\n",
        "78078.9398909f\u00fcr einen makesmalldurchlauf"
       ]
      },
      {
       "output_type": "stream",
       "stream": "stdout",
       "text": [
        "\n",
        "78102.152463f\u00fcr einen makesmalldurchlauf"
       ]
      },
      {
       "output_type": "stream",
       "stream": "stdout",
       "text": [
        "\n",
        "78125.3535709f\u00fcr einen makesmalldurchlauf"
       ]
      },
      {
       "output_type": "stream",
       "stream": "stdout",
       "text": [
        "\n",
        "78148.5934858f\u00fcr einen makesmalldurchlauf"
       ]
      },
      {
       "output_type": "stream",
       "stream": "stdout",
       "text": [
        "\n",
        "78171.8245568f\u00fcr einen makesmalldurchlauf"
       ]
      },
      {
       "output_type": "stream",
       "stream": "stdout",
       "text": [
        "\n",
        "78195.7234159f\u00fcr einen makesmalldurchlauf"
       ]
      },
      {
       "output_type": "stream",
       "stream": "stdout",
       "text": [
        "\n",
        "78219.7183628f\u00fcr einen makesmalldurchlauf"
       ]
      },
      {
       "output_type": "stream",
       "stream": "stdout",
       "text": [
        "\n",
        "78243.6068709f\u00fcr einen makesmalldurchlauf"
       ]
      },
      {
       "output_type": "stream",
       "stream": "stdout",
       "text": [
        "\n",
        "78267.5509109f\u00fcr einen makesmalldurchlauf"
       ]
      },
      {
       "output_type": "stream",
       "stream": "stdout",
       "text": [
        "\n",
        "78291.3781269f\u00fcr einen makesmalldurchlauf"
       ]
      },
      {
       "output_type": "stream",
       "stream": "stdout",
       "text": [
        "\n",
        "78315.2780979f\u00fcr einen makesmalldurchlauf"
       ]
      },
      {
       "output_type": "stream",
       "stream": "stdout",
       "text": [
        "\n",
        "78339.1727839f\u00fcr einen makesmalldurchlauf"
       ]
      },
      {
       "output_type": "stream",
       "stream": "stdout",
       "text": [
        "\n",
        "78363.120975f\u00fcr einen makesmalldurchlauf"
       ]
      },
      {
       "output_type": "stream",
       "stream": "stdout",
       "text": [
        "\n",
        "78387.49224f\u00fcr einen makesmalldurchlauf"
       ]
      },
      {
       "output_type": "stream",
       "stream": "stdout",
       "text": [
        "\n",
        "78409.9563148f\u00fcr einen makesmalldurchlauf"
       ]
      },
      {
       "output_type": "stream",
       "stream": "stdout",
       "text": [
        "\n",
        "78432.1379268f\u00fcr einen makesmalldurchlauf"
       ]
      },
      {
       "output_type": "stream",
       "stream": "stdout",
       "text": [
        "\n",
        "78455.0228989f\u00fcr einen makesmalldurchlauf"
       ]
      },
      {
       "output_type": "stream",
       "stream": "stdout",
       "text": [
        "\n",
        "78477.789068f\u00fcr einen makesmalldurchlauf"
       ]
      },
      {
       "output_type": "stream",
       "stream": "stdout",
       "text": [
        "\n",
        "78499.995894f\u00fcr einen makesmalldurchlauf"
       ]
      },
      {
       "output_type": "stream",
       "stream": "stdout",
       "text": [
        "\n",
        "78522.331908f\u00fcr einen makesmalldurchlauf"
       ]
      },
      {
       "output_type": "stream",
       "stream": "stdout",
       "text": [
        "\n",
        "78544.782455f\u00fcr einen makesmalldurchlauf"
       ]
      },
      {
       "output_type": "stream",
       "stream": "stdout",
       "text": [
        "\n",
        "78567.527926f\u00fcr einen makesmalldurchlauf"
       ]
      },
      {
       "output_type": "stream",
       "stream": "stdout",
       "text": [
        "\n",
        "78590.0397289f\u00fcr einen makesmalldurchlauf"
       ]
      },
      {
       "output_type": "stream",
       "stream": "stdout",
       "text": [
        "\n",
        "78612.5796249f\u00fcr einen makesmalldurchlauf"
       ]
      },
      {
       "output_type": "stream",
       "stream": "stdout",
       "text": [
        "\n",
        "78634.9623778f\u00fcr einen makesmalldurchlauf"
       ]
      },
      {
       "output_type": "stream",
       "stream": "stdout",
       "text": [
        "\n",
        "78657.4680538f\u00fcr einen makesmalldurchlauf"
       ]
      },
      {
       "output_type": "stream",
       "stream": "stdout",
       "text": [
        "\n",
        "78679.686841f\u00fcr einen makesmalldurchlauf"
       ]
      },
      {
       "output_type": "stream",
       "stream": "stdout",
       "text": [
        "\n",
        "78702.061687f\u00fcr einen makesmalldurchlauf"
       ]
      },
      {
       "output_type": "stream",
       "stream": "stdout",
       "text": [
        "\n",
        "78724.2472339f\u00fcr einen makesmalldurchlauf"
       ]
      },
      {
       "output_type": "stream",
       "stream": "stdout",
       "text": [
        "\n",
        "78746.585341f\u00fcr einen makesmalldurchlauf"
       ]
      },
      {
       "output_type": "stream",
       "stream": "stdout",
       "text": [
        "\n",
        "78768.883605f\u00fcr einen makesmalldurchlauf"
       ]
      },
      {
       "output_type": "stream",
       "stream": "stdout",
       "text": [
        "\n",
        "78791.796644f\u00fcr einen makesmalldurchlauf"
       ]
      },
      {
       "output_type": "stream",
       "stream": "stdout",
       "text": [
        "\n",
        "78815.501729f\u00fcr einen makesmalldurchlauf"
       ]
      },
      {
       "output_type": "stream",
       "stream": "stdout",
       "text": [
        "\n",
        "78838.2705948f\u00fcr einen makesmalldurchlauf"
       ]
      },
      {
       "output_type": "stream",
       "stream": "stdout",
       "text": [
        "\n",
        "78860.6076388f\u00fcr einen makesmalldurchlauf"
       ]
      },
      {
       "output_type": "stream",
       "stream": "stdout",
       "text": [
        "\n",
        "78882.878608f\u00fcr einen makesmalldurchlauf"
       ]
      },
      {
       "output_type": "stream",
       "stream": "stdout",
       "text": [
        "\n",
        "78905.1892269f\u00fcr einen makesmalldurchlauf"
       ]
      },
      {
       "output_type": "stream",
       "stream": "stdout",
       "text": [
        "\n",
        "78928.081013f\u00fcr einen makesmalldurchlauf"
       ]
      },
      {
       "output_type": "stream",
       "stream": "stdout",
       "text": [
        "\n",
        "78950.7444429f\u00fcr einen makesmalldurchlauf"
       ]
      },
      {
       "output_type": "stream",
       "stream": "stdout",
       "text": [
        "\n",
        "78973.2642648f\u00fcr einen makesmalldurchlauf"
       ]
      },
      {
       "output_type": "stream",
       "stream": "stdout",
       "text": [
        "\n",
        "78995.6665089f\u00fcr einen makesmalldurchlauf"
       ]
      },
      {
       "output_type": "stream",
       "stream": "stdout",
       "text": [
        "\n",
        "79017.599546f\u00fcr einen makesmalldurchlauf"
       ]
      },
      {
       "output_type": "stream",
       "stream": "stdout",
       "text": [
        "\n",
        "79039.6121609f\u00fcr einen makesmalldurchlauf"
       ]
      },
      {
       "output_type": "stream",
       "stream": "stdout",
       "text": [
        "\n",
        "79061.6101649f\u00fcr einen makesmalldurchlauf"
       ]
      },
      {
       "output_type": "stream",
       "stream": "stdout",
       "text": [
        "\n",
        "79083.5879278f\u00fcr einen makesmalldurchlauf"
       ]
      },
      {
       "output_type": "stream",
       "stream": "stdout",
       "text": [
        "\n",
        "79105.49138f\u00fcr einen makesmalldurchlauf"
       ]
      },
      {
       "output_type": "stream",
       "stream": "stdout",
       "text": [
        "\n",
        "79127.4245169f\u00fcr einen makesmalldurchlauf"
       ]
      },
      {
       "output_type": "stream",
       "stream": "stdout",
       "text": [
        "\n",
        "79149.4762869f\u00fcr einen makesmalldurchlauf"
       ]
      },
      {
       "output_type": "stream",
       "stream": "stdout",
       "text": [
        "\n",
        "79171.450114f\u00fcr einen makesmalldurchlauf"
       ]
      },
      {
       "output_type": "stream",
       "stream": "stdout",
       "text": [
        "\n",
        "79193.430562f\u00fcr einen makesmalldurchlauf"
       ]
      },
      {
       "output_type": "stream",
       "stream": "stdout",
       "text": [
        "\n",
        "79215.4030709f\u00fcr einen makesmalldurchlauf"
       ]
      },
      {
       "output_type": "stream",
       "stream": "stdout",
       "text": [
        "\n",
        "79237.3545609f\u00fcr einen makesmalldurchlauf"
       ]
      },
      {
       "output_type": "stream",
       "stream": "stdout",
       "text": [
        "\n",
        "79259.28934f\u00fcr einen makesmalldurchlauf"
       ]
      },
      {
       "output_type": "stream",
       "stream": "stdout",
       "text": [
        "\n",
        "79281.2476299f\u00fcr einen makesmalldurchlauf"
       ]
      },
      {
       "output_type": "stream",
       "stream": "stdout",
       "text": [
        "\n",
        "79303.284132f\u00fcr einen makesmalldurchlauf"
       ]
      },
      {
       "output_type": "stream",
       "stream": "stdout",
       "text": [
        "\n",
        "79325.2736058f\u00fcr einen makesmalldurchlauf"
       ]
      },
      {
       "output_type": "stream",
       "stream": "stdout",
       "text": [
        "\n",
        "79347.256099f\u00fcr einen makesmalldurchlauf"
       ]
      },
      {
       "output_type": "stream",
       "stream": "stdout",
       "text": [
        "\n",
        "79369.2299759f\u00fcr einen makesmalldurchlauf"
       ]
      },
      {
       "output_type": "stream",
       "stream": "stdout",
       "text": [
        "\n",
        "79391.2282188f\u00fcr einen makesmalldurchlauf"
       ]
      },
      {
       "output_type": "stream",
       "stream": "stdout",
       "text": [
        "\n",
        "79413.6214139f\u00fcr einen makesmalldurchlauf"
       ]
      },
      {
       "output_type": "stream",
       "stream": "stdout",
       "text": [
        "\n",
        "79435.5628998f\u00fcr einen makesmalldurchlauf"
       ]
      },
      {
       "output_type": "stream",
       "stream": "stdout",
       "text": [
        "\n",
        "79457.5124869f\u00fcr einen makesmalldurchlauf"
       ]
      },
      {
       "output_type": "stream",
       "stream": "stdout",
       "text": [
        "\n",
        "79479.9321308f\u00fcr einen makesmalldurchlauf"
       ]
      },
      {
       "output_type": "stream",
       "stream": "stdout",
       "text": [
        "\n",
        "79501.8748829f\u00fcr einen makesmalldurchlauf"
       ]
      },
      {
       "output_type": "stream",
       "stream": "stdout",
       "text": [
        "\n",
        "79523.8483958f\u00fcr einen makesmalldurchlauf"
       ]
      },
      {
       "output_type": "stream",
       "stream": "stdout",
       "text": [
        "\n",
        "79545.9309628f\u00fcr einen makesmalldurchlauf"
       ]
      },
      {
       "output_type": "stream",
       "stream": "stdout",
       "text": [
        "\n",
        "79567.9995859f\u00fcr einen makesmalldurchlauf"
       ]
      },
      {
       "output_type": "stream",
       "stream": "stdout",
       "text": [
        "\n",
        "79590.2087409f\u00fcr einen makesmalldurchlauf"
       ]
      },
      {
       "output_type": "stream",
       "stream": "stdout",
       "text": [
        "\n",
        "79614.0803339f\u00fcr einen makesmalldurchlauf"
       ]
      },
      {
       "output_type": "stream",
       "stream": "stdout",
       "text": [
        "\n",
        "79638.1870258f\u00fcr einen makesmalldurchlauf"
       ]
      },
      {
       "output_type": "stream",
       "stream": "stdout",
       "text": [
        "\n",
        "79662.1877768f\u00fcr einen makesmalldurchlauf"
       ]
      },
      {
       "output_type": "stream",
       "stream": "stdout",
       "text": [
        "\n",
        "79686.1604059f\u00fcr einen makesmalldurchlauf"
       ]
      },
      {
       "output_type": "stream",
       "stream": "stdout",
       "text": [
        "\n",
        "79710.1245189f\u00fcr einen makesmalldurchlauf"
       ]
      },
      {
       "output_type": "stream",
       "stream": "stdout",
       "text": [
        "\n",
        "79734.0797789f\u00fcr einen makesmalldurchlauf"
       ]
      },
      {
       "output_type": "stream",
       "stream": "stdout",
       "text": [
        "\n",
        "79758.0430658f\u00fcr einen makesmalldurchlauf"
       ]
      },
      {
       "output_type": "stream",
       "stream": "stdout",
       "text": [
        "\n",
        "79781.9213729f\u00fcr einen makesmalldurchlauf"
       ]
      },
      {
       "output_type": "stream",
       "stream": "stdout",
       "text": [
        "\n",
        "79805.8359008f\u00fcr einen makesmalldurchlauf"
       ]
      },
      {
       "output_type": "stream",
       "stream": "stdout",
       "text": [
        "\n",
        "79829.073117f\u00fcr einen makesmalldurchlauf"
       ]
      },
      {
       "output_type": "stream",
       "stream": "stdout",
       "text": [
        "\n",
        "79853.0118408f\u00fcr einen makesmalldurchlauf"
       ]
      },
      {
       "output_type": "stream",
       "stream": "stdout",
       "text": [
        "\n",
        "79876.0870948f\u00fcr einen makesmalldurchlauf"
       ]
      },
      {
       "output_type": "stream",
       "stream": "stdout",
       "text": [
        "\n",
        "79898.1250319f\u00fcr einen makesmalldurchlauf"
       ]
      },
      {
       "output_type": "stream",
       "stream": "stdout",
       "text": [
        "\n",
        "79920.0641358f\u00fcr einen makesmalldurchlauf"
       ]
      },
      {
       "output_type": "stream",
       "stream": "stdout",
       "text": [
        "\n",
        "79942.0600789f\u00fcr einen makesmalldurchlauf"
       ]
      },
      {
       "output_type": "stream",
       "stream": "stdout",
       "text": [
        "\n",
        "79964.0991468f\u00fcr einen makesmalldurchlauf"
       ]
      },
      {
       "output_type": "stream",
       "stream": "stdout",
       "text": [
        "\n",
        "79986.2127709f\u00fcr einen makesmalldurchlauf"
       ]
      },
      {
       "output_type": "stream",
       "stream": "stdout",
       "text": [
        "\n",
        "80008.1924729f\u00fcr einen makesmalldurchlauf"
       ]
      },
      {
       "output_type": "stream",
       "stream": "stdout",
       "text": [
        "\n",
        "80030.1841559f\u00fcr einen makesmalldurchlauf"
       ]
      },
      {
       "output_type": "stream",
       "stream": "stdout",
       "text": [
        "\n",
        "80053.119844f\u00fcr einen makesmalldurchlauf"
       ]
      },
      {
       "output_type": "stream",
       "stream": "stdout",
       "text": [
        "\n",
        "80075.272054f\u00fcr einen makesmalldurchlauf"
       ]
      },
      {
       "output_type": "stream",
       "stream": "stdout",
       "text": [
        "\n",
        "80097.9488409f\u00fcr einen makesmalldurchlauf"
       ]
      },
      {
       "output_type": "stream",
       "stream": "stdout",
       "text": [
        "\n",
        "80123.589576f\u00fcr einen makesmalldurchlauf"
       ]
      },
      {
       "output_type": "stream",
       "stream": "stdout",
       "text": [
        "\n",
        "80150.777436f\u00fcr einen makesmalldurchlauf"
       ]
      },
      {
       "output_type": "stream",
       "stream": "stdout",
       "text": [
        "\n",
        "80176.001019f\u00fcr einen makesmalldurchlauf"
       ]
      },
      {
       "output_type": "stream",
       "stream": "stdout",
       "text": [
        "\n",
        "80201.5297019f\u00fcr einen makesmalldurchlauf"
       ]
      },
      {
       "output_type": "stream",
       "stream": "stdout",
       "text": [
        "\n",
        "80226.0056849f\u00fcr einen makesmalldurchlauf"
       ]
      },
      {
       "output_type": "stream",
       "stream": "stdout",
       "text": [
        "\n",
        "80251.7020049f\u00fcr einen makesmalldurchlauf"
       ]
      },
      {
       "output_type": "stream",
       "stream": "stdout",
       "text": [
        "\n",
        "80282.3977778f\u00fcr einen makesmalldurchlauf"
       ]
      },
      {
       "output_type": "stream",
       "stream": "stdout",
       "text": [
        "\n",
        "80305.0238528f\u00fcr einen makesmalldurchlauf"
       ]
      },
      {
       "output_type": "stream",
       "stream": "stdout",
       "text": [
        "\n",
        "80328.9076128f\u00fcr einen makesmalldurchlauf"
       ]
      },
      {
       "output_type": "stream",
       "stream": "stdout",
       "text": [
        "\n",
        "80353.3544929f\u00fcr einen makesmalldurchlauf"
       ]
      },
      {
       "output_type": "stream",
       "stream": "stdout",
       "text": [
        "\n",
        "80379.594667f\u00fcr einen makesmalldurchlauf"
       ]
      },
      {
       "output_type": "stream",
       "stream": "stdout",
       "text": [
        "\n",
        "80404.411788f\u00fcr einen makesmalldurchlauf"
       ]
      },
      {
       "output_type": "stream",
       "stream": "stdout",
       "text": [
        "\n",
        "80431.2675629f\u00fcr einen makesmalldurchlauf"
       ]
      },
      {
       "output_type": "stream",
       "stream": "stdout",
       "text": [
        "\n",
        "80455.09356f\u00fcr einen makesmalldurchlauf"
       ]
      },
      {
       "output_type": "stream",
       "stream": "stdout",
       "text": [
        "\n",
        "80478.063586f\u00fcr einen makesmalldurchlauf"
       ]
      },
      {
       "output_type": "stream",
       "stream": "stdout",
       "text": [
        "\n",
        "80500.818203f\u00fcr einen makesmalldurchlauf"
       ]
      },
      {
       "output_type": "stream",
       "stream": "stdout",
       "text": [
        "\n",
        "80523.8689868f\u00fcr einen makesmalldurchlauf"
       ]
      },
      {
       "output_type": "stream",
       "stream": "stdout",
       "text": [
        "\n",
        "80546.9518669f\u00fcr einen makesmalldurchlauf"
       ]
      },
      {
       "output_type": "stream",
       "stream": "stdout",
       "text": [
        "\n",
        "80569.9688599f\u00fcr einen makesmalldurchlauf"
       ]
      },
      {
       "output_type": "stream",
       "stream": "stdout",
       "text": [
        "\n",
        "80592.7767899f\u00fcr einen makesmalldurchlauf"
       ]
      },
      {
       "output_type": "stream",
       "stream": "stdout",
       "text": [
        "\n",
        "80615.6853869f\u00fcr einen makesmalldurchlauf"
       ]
      },
      {
       "output_type": "stream",
       "stream": "stdout",
       "text": [
        "\n",
        "80638.5566168f\u00fcr einen makesmalldurchlauf"
       ]
      },
      {
       "output_type": "stream",
       "stream": "stdout",
       "text": [
        "\n",
        "80661.176976f\u00fcr einen makesmalldurchlauf"
       ]
      },
      {
       "output_type": "stream",
       "stream": "stdout",
       "text": [
        "\n",
        "80683.9275079f\u00fcr einen makesmalldurchlauf"
       ]
      },
      {
       "output_type": "stream",
       "stream": "stdout",
       "text": [
        "\n",
        "80706.709867f\u00fcr einen makesmalldurchlauf"
       ]
      },
      {
       "output_type": "stream",
       "stream": "stdout",
       "text": [
        "\n",
        "80729.4472618f\u00fcr einen makesmalldurchlauf"
       ]
      },
      {
       "output_type": "stream",
       "stream": "stdout",
       "text": [
        "\n",
        "80752.7169678f\u00fcr einen makesmalldurchlauf"
       ]
      },
      {
       "output_type": "stream",
       "stream": "stdout",
       "text": [
        "\n",
        "80775.9714289f\u00fcr einen makesmalldurchlauf"
       ]
      },
      {
       "output_type": "stream",
       "stream": "stdout",
       "text": [
        "\n",
        "80798.709574f\u00fcr einen makesmalldurchlauf"
       ]
      },
      {
       "output_type": "stream",
       "stream": "stdout",
       "text": [
        "\n",
        "80821.4488778f\u00fcr einen makesmalldurchlauf"
       ]
      },
      {
       "output_type": "stream",
       "stream": "stdout",
       "text": [
        "\n",
        "80844.278564f\u00fcr einen makesmalldurchlauf"
       ]
      },
      {
       "output_type": "stream",
       "stream": "stdout",
       "text": [
        "\n",
        "80867.2419829f\u00fcr einen makesmalldurchlauf"
       ]
      },
      {
       "output_type": "stream",
       "stream": "stdout",
       "text": [
        "\n",
        "80890.0176828f\u00fcr einen makesmalldurchlauf"
       ]
      },
      {
       "output_type": "stream",
       "stream": "stdout",
       "text": [
        "\n",
        "80912.9560418f\u00fcr einen makesmalldurchlauf"
       ]
      },
      {
       "output_type": "stream",
       "stream": "stdout",
       "text": [
        "\n",
        "80935.6697638f\u00fcr einen makesmalldurchlauf"
       ]
      },
      {
       "output_type": "stream",
       "stream": "stdout",
       "text": [
        "\n",
        "80959.2527578f\u00fcr einen makesmalldurchlauf"
       ]
      },
      {
       "output_type": "stream",
       "stream": "stdout",
       "text": [
        "\n",
        "80985.6572678f\u00fcr einen makesmalldurchlauf"
       ]
      },
      {
       "output_type": "stream",
       "stream": "stdout",
       "text": [
        "\n",
        "81012.8016479f\u00fcr einen makesmalldurchlauf"
       ]
      },
      {
       "output_type": "stream",
       "stream": "stdout",
       "text": [
        "\n",
        "81036.9984329f\u00fcr einen makesmalldurchlauf"
       ]
      },
      {
       "output_type": "stream",
       "stream": "stdout",
       "text": [
        "\n",
        "81061.2108328f\u00fcr einen makesmalldurchlauf"
       ]
      },
      {
       "output_type": "stream",
       "stream": "stdout",
       "text": [
        "\n",
        "81085.5752058f\u00fcr einen makesmalldurchlauf"
       ]
      },
      {
       "output_type": "stream",
       "stream": "stdout",
       "text": [
        "\n",
        "81109.9056108f\u00fcr einen makesmalldurchlauf"
       ]
      },
      {
       "output_type": "stream",
       "stream": "stdout",
       "text": [
        "\n",
        "81136.9816039f\u00fcr einen makesmalldurchlauf"
       ]
      },
      {
       "output_type": "stream",
       "stream": "stdout",
       "text": [
        "\n",
        "81164.2581909f\u00fcr einen makesmalldurchlauf"
       ]
      },
      {
       "output_type": "stream",
       "stream": "stdout",
       "text": [
        "\n",
        "81188.2931809f\u00fcr einen makesmalldurchlauf"
       ]
      },
      {
       "output_type": "stream",
       "stream": "stdout",
       "text": [
        "\n",
        "81214.3682499f\u00fcr einen makesmalldurchlauf"
       ]
      },
      {
       "output_type": "stream",
       "stream": "stdout",
       "text": [
        "\n",
        "81238.5894139f\u00fcr einen makesmalldurchlauf"
       ]
      },
      {
       "output_type": "stream",
       "stream": "stdout",
       "text": [
        "\n",
        "81262.872134f\u00fcr einen makesmalldurchlauf"
       ]
      },
      {
       "output_type": "stream",
       "stream": "stdout",
       "text": [
        "\n",
        "81289.9305038f\u00fcr einen makesmalldurchlauf"
       ]
      },
      {
       "output_type": "stream",
       "stream": "stdout",
       "text": [
        "\n",
        "81316.9180069f\u00fcr einen makesmalldurchlauf"
       ]
      },
      {
       "output_type": "stream",
       "stream": "stdout",
       "text": [
        "\n",
        "81343.92554f\u00fcr einen makesmalldurchlauf"
       ]
      },
      {
       "output_type": "stream",
       "stream": "stdout",
       "text": [
        "\n",
        "81370.957701f\u00fcr einen makesmalldurchlauf"
       ]
      },
      {
       "output_type": "stream",
       "stream": "stdout",
       "text": [
        "\n",
        "81395.2243609f\u00fcr einen makesmalldurchlauf"
       ]
      },
      {
       "output_type": "stream",
       "stream": "stdout",
       "text": [
        "\n",
        "81419.6193399f\u00fcr einen makesmalldurchlauf"
       ]
      },
      {
       "output_type": "stream",
       "stream": "stdout",
       "text": [
        "\n",
        "81443.782661f\u00fcr einen makesmalldurchlauf"
       ]
      },
      {
       "output_type": "stream",
       "stream": "stdout",
       "text": [
        "\n",
        "81468.3352718f\u00fcr einen makesmalldurchlauf"
       ]
      },
      {
       "output_type": "stream",
       "stream": "stdout",
       "text": [
        "\n",
        "81492.454639f\u00fcr einen makesmalldurchlauf"
       ]
      },
      {
       "output_type": "stream",
       "stream": "stdout",
       "text": [
        "\n",
        "81516.7025759f\u00fcr einen makesmalldurchlauf"
       ]
      },
      {
       "output_type": "stream",
       "stream": "stdout",
       "text": [
        "\n",
        "81543.7587829f\u00fcr einen makesmalldurchlauf"
       ]
      },
      {
       "output_type": "stream",
       "stream": "stdout",
       "text": [
        "\n",
        "81567.040509f\u00fcr einen makesmalldurchlauf"
       ]
      },
      {
       "output_type": "stream",
       "stream": "stdout",
       "text": [
        "\n",
        "81589.7830589f\u00fcr einen makesmalldurchlauf"
       ]
      },
      {
       "output_type": "stream",
       "stream": "stdout",
       "text": [
        "\n",
        "81612.5588129f\u00fcr einen makesmalldurchlauf"
       ]
      },
      {
       "output_type": "stream",
       "stream": "stdout",
       "text": [
        "\n",
        "81635.4253478f\u00fcr einen makesmalldurchlauf"
       ]
      },
      {
       "output_type": "stream",
       "stream": "stdout",
       "text": [
        "\n",
        "81658.1414778f\u00fcr einen makesmalldurchlauf"
       ]
      },
      {
       "output_type": "stream",
       "stream": "stdout",
       "text": [
        "\n",
        "81681.0457449f\u00fcr einen makesmalldurchlauf"
       ]
      },
      {
       "output_type": "stream",
       "stream": "stdout",
       "text": [
        "\n",
        "81703.7901049f\u00fcr einen makesmalldurchlauf"
       ]
      },
      {
       "output_type": "stream",
       "stream": "stdout",
       "text": [
        "\n",
        "81726.8343909f\u00fcr einen makesmalldurchlauf"
       ]
      },
      {
       "output_type": "stream",
       "stream": "stdout",
       "text": [
        "\n",
        "81749.5497508f\u00fcr einen makesmalldurchlauf"
       ]
      },
      {
       "output_type": "stream",
       "stream": "stdout",
       "text": [
        "\n",
        "81772.7041368f\u00fcr einen makesmalldurchlauf"
       ]
      },
      {
       "output_type": "stream",
       "stream": "stdout",
       "text": [
        "\n",
        "81795.6802778f\u00fcr einen makesmalldurchlauf"
       ]
      },
      {
       "output_type": "stream",
       "stream": "stdout",
       "text": [
        "\n",
        "81818.4856689f\u00fcr einen makesmalldurchlauf"
       ]
      },
      {
       "output_type": "stream",
       "stream": "stdout",
       "text": [
        "\n",
        "81841.4243648f\u00fcr einen makesmalldurchlauf"
       ]
      },
      {
       "output_type": "stream",
       "stream": "stdout",
       "text": [
        "\n",
        "81864.0977478f\u00fcr einen makesmalldurchlauf"
       ]
      },
      {
       "output_type": "stream",
       "stream": "stdout",
       "text": [
        "\n",
        "81886.9073238f\u00fcr einen makesmalldurchlauf"
       ]
      },
      {
       "output_type": "stream",
       "stream": "stdout",
       "text": [
        "\n",
        "81909.6429429f\u00fcr einen makesmalldurchlauf"
       ]
      },
      {
       "output_type": "stream",
       "stream": "stdout",
       "text": [
        "\n",
        "81932.6555429f\u00fcr einen makesmalldurchlauf"
       ]
      },
      {
       "output_type": "stream",
       "stream": "stdout",
       "text": [
        "\n",
        "81955.8081739f\u00fcr einen makesmalldurchlauf"
       ]
      },
      {
       "output_type": "stream",
       "stream": "stdout",
       "text": [
        "\n",
        "81978.486562f\u00fcr einen makesmalldurchlauf"
       ]
      },
      {
       "output_type": "stream",
       "stream": "stdout",
       "text": [
        "\n",
        "82001.362922f\u00fcr einen makesmalldurchlauf"
       ]
      },
      {
       "output_type": "stream",
       "stream": "stdout",
       "text": [
        "\n",
        "82023.9504988f\u00fcr einen makesmalldurchlauf"
       ]
      },
      {
       "output_type": "stream",
       "stream": "stdout",
       "text": [
        "\n",
        "82046.6403539f\u00fcr einen makesmalldurchlauf"
       ]
      },
      {
       "output_type": "stream",
       "stream": "stdout",
       "text": [
        "\n",
        "82069.7054319f\u00fcr einen makesmalldurchlauf"
       ]
      },
      {
       "output_type": "stream",
       "stream": "stdout",
       "text": [
        "\n",
        "82092.309938f\u00fcr einen makesmalldurchlauf"
       ]
      },
      {
       "output_type": "stream",
       "stream": "stdout",
       "text": [
        "\n",
        "82114.9456599f\u00fcr einen makesmalldurchlauf"
       ]
      },
      {
       "output_type": "stream",
       "stream": "stdout",
       "text": [
        "\n",
        "82137.776433f\u00fcr einen makesmalldurchlauf"
       ]
      },
      {
       "output_type": "stream",
       "stream": "stdout",
       "text": [
        "\n",
        "82163.9551418f\u00fcr einen makesmalldurchlauf"
       ]
      },
      {
       "output_type": "stream",
       "stream": "stdout",
       "text": [
        "\n",
        "82190.9352088f\u00fcr einen makesmalldurchlauf"
       ]
      },
      {
       "output_type": "stream",
       "stream": "stdout",
       "text": [
        "\n",
        "82219.1890109f\u00fcr einen makesmalldurchlauf"
       ]
      },
      {
       "output_type": "stream",
       "stream": "stdout",
       "text": [
        "\n",
        "82247.8092508f\u00fcr einen makesmalldurchlauf"
       ]
      },
      {
       "output_type": "stream",
       "stream": "stdout",
       "text": [
        "\n",
        "82273.2395749f\u00fcr einen makesmalldurchlauf"
       ]
      },
      {
       "output_type": "stream",
       "stream": "stdout",
       "text": [
        "\n",
        "82300.4151938f\u00fcr einen makesmalldurchlauf"
       ]
      },
      {
       "output_type": "stream",
       "stream": "stdout",
       "text": [
        "\n",
        "82328.88904f\u00fcr einen makesmalldurchlauf"
       ]
      },
      {
       "output_type": "stream",
       "stream": "stdout",
       "text": [
        "\n",
        "82358.4084339f\u00fcr einen makesmalldurchlauf"
       ]
      },
      {
       "output_type": "stream",
       "stream": "stdout",
       "text": [
        "\n",
        "82386.3702328f\u00fcr einen makesmalldurchlauf"
       ]
      },
      {
       "output_type": "stream",
       "stream": "stdout",
       "text": [
        "\n",
        "82412.4204619f\u00fcr einen makesmalldurchlauf"
       ]
      },
      {
       "output_type": "stream",
       "stream": "stdout",
       "text": [
        "\n",
        "82439.406456f\u00fcr einen makesmalldurchlauf"
       ]
      },
      {
       "output_type": "stream",
       "stream": "stdout",
       "text": [
        "\n",
        "82466.4256608f\u00fcr einen makesmalldurchlauf"
       ]
      },
      {
       "output_type": "stream",
       "stream": "stdout",
       "text": [
        "\n",
        "82492.385303f\u00fcr einen makesmalldurchlauf"
       ]
      },
      {
       "output_type": "stream",
       "stream": "stdout",
       "text": [
        "\n",
        "82518.5436988f\u00fcr einen makesmalldurchlauf"
       ]
      },
      {
       "output_type": "stream",
       "stream": "stdout",
       "text": [
        "\n",
        "82546.14045f\u00fcr einen makesmalldurchlauf"
       ]
      },
      {
       "output_type": "stream",
       "stream": "stdout",
       "text": [
        "\n",
        "82573.2711589f\u00fcr einen makesmalldurchlauf"
       ]
      },
      {
       "output_type": "stream",
       "stream": "stdout",
       "text": [
        "\n",
        "82600.7304649f\u00fcr einen makesmalldurchlauf"
       ]
      },
      {
       "output_type": "stream",
       "stream": "stdout",
       "text": [
        "\n",
        "82627.385345f\u00fcr einen makesmalldurchlauf"
       ]
      },
      {
       "output_type": "stream",
       "stream": "stdout",
       "text": [
        "\n",
        "82652.8416519f\u00fcr einen makesmalldurchlauf"
       ]
      },
      {
       "output_type": "stream",
       "stream": "stdout",
       "text": [
        "\n",
        "82680.1633039f\u00fcr einen makesmalldurchlauf"
       ]
      },
      {
       "output_type": "stream",
       "stream": "stdout",
       "text": [
        "\n",
        "82708.777951f\u00fcr einen makesmalldurchlauf"
       ]
      },
      {
       "output_type": "stream",
       "stream": "stdout",
       "text": [
        "\n",
        "82735.6378529f\u00fcr einen makesmalldurchlauf"
       ]
      },
      {
       "output_type": "stream",
       "stream": "stdout",
       "text": [
        "\n",
        "82759.7836649f\u00fcr einen makesmalldurchlauf"
       ]
      },
      {
       "output_type": "stream",
       "stream": "stdout",
       "text": [
        "\n",
        "82782.52105f\u00fcr einen makesmalldurchlauf"
       ]
      },
      {
       "output_type": "stream",
       "stream": "stdout",
       "text": [
        "\n",
        "82805.3173399f\u00fcr einen makesmalldurchlauf"
       ]
      },
      {
       "output_type": "stream",
       "stream": "stdout",
       "text": [
        "\n",
        "82828.6927879f\u00fcr einen makesmalldurchlauf"
       ]
      },
      {
       "output_type": "stream",
       "stream": "stdout",
       "text": [
        "\n",
        "82852.0291159f\u00fcr einen makesmalldurchlauf"
       ]
      },
      {
       "output_type": "stream",
       "stream": "stdout",
       "text": [
        "\n",
        "82874.7876639f\u00fcr einen makesmalldurchlauf"
       ]
      },
      {
       "output_type": "stream",
       "stream": "stdout",
       "text": [
        "\n",
        "82897.6345749f\u00fcr einen makesmalldurchlauf"
       ]
      },
      {
       "output_type": "stream",
       "stream": "stdout",
       "text": [
        "\n",
        "82920.3503199f\u00fcr einen makesmalldurchlauf"
       ]
      },
      {
       "output_type": "stream",
       "stream": "stdout",
       "text": [
        "\n",
        "82943.0730519f\u00fcr einen makesmalldurchlauf"
       ]
      },
      {
       "output_type": "stream",
       "stream": "stdout",
       "text": [
        "\n",
        "82966.1490119f\u00fcr einen makesmalldurchlauf"
       ]
      },
      {
       "output_type": "stream",
       "stream": "stdout",
       "text": [
        "\n",
        "82988.9515529f\u00fcr einen makesmalldurchlauf"
       ]
      },
      {
       "output_type": "stream",
       "stream": "stdout",
       "text": [
        "\n",
        "83011.7745779f\u00fcr einen makesmalldurchlauf"
       ]
      },
      {
       "output_type": "stream",
       "stream": "stdout",
       "text": [
        "\n",
        "83034.5930169f\u00fcr einen makesmalldurchlauf"
       ]
      },
      {
       "output_type": "stream",
       "stream": "stdout",
       "text": [
        "\n",
        "83057.9549479f\u00fcr einen makesmalldurchlauf"
       ]
      },
      {
       "output_type": "stream",
       "stream": "stdout",
       "text": [
        "\n",
        "83080.8551409f\u00fcr einen makesmalldurchlauf"
       ]
      },
      {
       "output_type": "stream",
       "stream": "stdout",
       "text": [
        "\n",
        "83103.6936889f\u00fcr einen makesmalldurchlauf"
       ]
      },
      {
       "output_type": "stream",
       "stream": "stdout",
       "text": [
        "\n",
        "83126.6784739f\u00fcr einen makesmalldurchlauf"
       ]
      },
      {
       "output_type": "stream",
       "stream": "stdout",
       "text": [
        "\n",
        "83149.4609308f\u00fcr einen makesmalldurchlauf"
       ]
      },
      {
       "output_type": "stream",
       "stream": "stdout",
       "text": [
        "\n",
        "83172.1309998f\u00fcr einen makesmalldurchlauf"
       ]
      },
      {
       "output_type": "stream",
       "stream": "stdout",
       "text": [
        "\n",
        "83195.0165279f\u00fcr einen makesmalldurchlauf"
       ]
      },
      {
       "output_type": "stream",
       "stream": "stdout",
       "text": [
        "\n",
        "83218.3663239f\u00fcr einen makesmalldurchlauf"
       ]
      },
      {
       "output_type": "stream",
       "stream": "stdout",
       "text": [
        "\n",
        "83241.2931659f\u00fcr einen makesmalldurchlauf"
       ]
      },
      {
       "output_type": "stream",
       "stream": "stdout",
       "text": [
        "\n",
        "83264.213213f\u00fcr einen makesmalldurchlauf"
       ]
      },
      {
       "output_type": "stream",
       "stream": "stdout",
       "text": [
        "\n",
        "83287.25876f\u00fcr einen makesmalldurchlauf"
       ]
      },
      {
       "output_type": "stream",
       "stream": "stdout",
       "text": [
        "\n",
        "83310.11623f\u00fcr einen makesmalldurchlauf"
       ]
      },
      {
       "output_type": "stream",
       "stream": "stdout",
       "text": [
        "\n",
        "83332.930105f\u00fcr einen makesmalldurchlauf"
       ]
      },
      {
       "output_type": "stream",
       "stream": "stdout",
       "text": [
        "\n",
        "83356.073895f\u00fcr einen makesmalldurchlauf"
       ]
      },
      {
       "output_type": "stream",
       "stream": "stdout",
       "text": [
        "\n",
        "83379.9878149f\u00fcr einen makesmalldurchlauf"
       ]
      },
      {
       "output_type": "stream",
       "stream": "stdout",
       "text": [
        "\n",
        "83403.9111528f\u00fcr einen makesmalldurchlauf"
       ]
      },
      {
       "output_type": "stream",
       "stream": "stdout",
       "text": [
        "\n",
        "83427.6348488f\u00fcr einen makesmalldurchlauf"
       ]
      },
      {
       "output_type": "stream",
       "stream": "stdout",
       "text": [
        "\n",
        "83451.2895019f\u00fcr einen makesmalldurchlauf"
       ]
      },
      {
       "output_type": "stream",
       "stream": "stdout",
       "text": [
        "\n",
        "83475.320519f\u00fcr einen makesmalldurchlauf"
       ]
      },
      {
       "output_type": "stream",
       "stream": "stdout",
       "text": [
        "\n",
        "83499.06212f\u00fcr einen makesmalldurchlauf"
       ]
      },
      {
       "output_type": "stream",
       "stream": "stdout",
       "text": [
        "\n",
        "83522.6887279f\u00fcr einen makesmalldurchlauf"
       ]
      },
      {
       "output_type": "stream",
       "stream": "stdout",
       "text": [
        "\n",
        "83546.3984778f\u00fcr einen makesmalldurchlauf"
       ]
      },
      {
       "output_type": "stream",
       "stream": "stdout",
       "text": [
        "\n",
        "83570.1505089f\u00fcr einen makesmalldurchlauf"
       ]
      },
      {
       "output_type": "stream",
       "stream": "stdout",
       "text": [
        "\n",
        "83594.466285f\u00fcr einen makesmalldurchlauf"
       ]
      },
      {
       "output_type": "stream",
       "stream": "stdout",
       "text": [
        "\n",
        "83618.7624769f\u00fcr einen makesmalldurchlauf"
       ]
      },
      {
       "output_type": "stream",
       "stream": "stdout",
       "text": [
        "\n",
        "83642.5006988f\u00fcr einen makesmalldurchlauf"
       ]
      },
      {
       "output_type": "stream",
       "stream": "stdout",
       "text": [
        "\n",
        "83666.2874959f\u00fcr einen makesmalldurchlauf"
       ]
      },
      {
       "output_type": "stream",
       "stream": "stdout",
       "text": [
        "\n",
        "83689.9320028f\u00fcr einen makesmalldurchlauf"
       ]
      },
      {
       "output_type": "stream",
       "stream": "stdout",
       "text": [
        "\n",
        "83713.654917f\u00fcr einen makesmalldurchlauf"
       ]
      },
      {
       "output_type": "stream",
       "stream": "stdout",
       "text": [
        "\n",
        "83737.5391669f\u00fcr einen makesmalldurchlauf"
       ]
      },
      {
       "output_type": "stream",
       "stream": "stdout",
       "text": [
        "\n",
        "83761.1389349f\u00fcr einen makesmalldurchlauf"
       ]
      },
      {
       "output_type": "stream",
       "stream": "stdout",
       "text": [
        "\n",
        "83784.6622109f\u00fcr einen makesmalldurchlauf"
       ]
      },
      {
       "output_type": "stream",
       "stream": "stdout",
       "text": [
        "\n",
        "83808.2357018f\u00fcr einen makesmalldurchlauf"
       ]
      },
      {
       "output_type": "stream",
       "stream": "stdout",
       "text": [
        "\n",
        "83831.9815328f\u00fcr einen makesmalldurchlauf"
       ]
      },
      {
       "output_type": "stream",
       "stream": "stdout",
       "text": [
        "\n",
        "83855.6380329f\u00fcr einen makesmalldurchlauf"
       ]
      },
      {
       "output_type": "stream",
       "stream": "stdout",
       "text": [
        "\n",
        "83879.7741418f\u00fcr einen makesmalldurchlauf"
       ]
      },
      {
       "output_type": "stream",
       "stream": "stdout",
       "text": [
        "\n",
        "83903.0147579f\u00fcr einen makesmalldurchlauf"
       ]
      },
      {
       "output_type": "stream",
       "stream": "stdout",
       "text": [
        "\n",
        "83925.1286168f\u00fcr einen makesmalldurchlauf"
       ]
      },
      {
       "output_type": "stream",
       "stream": "stdout",
       "text": [
        "\n",
        "83947.176878f\u00fcr einen makesmalldurchlauf"
       ]
      },
      {
       "output_type": "stream",
       "stream": "stdout",
       "text": [
        "\n",
        "83969.2299359f\u00fcr einen makesmalldurchlauf"
       ]
      },
      {
       "output_type": "stream",
       "stream": "stdout",
       "text": [
        "\n",
        "83991.2450619f\u00fcr einen makesmalldurchlauf"
       ]
      },
      {
       "output_type": "stream",
       "stream": "stdout",
       "text": [
        "\n",
        "84013.26318f\u00fcr einen makesmalldurchlauf"
       ]
      },
      {
       "output_type": "stream",
       "stream": "stdout",
       "text": [
        "\n",
        "84035.2717619f\u00fcr einen makesmalldurchlauf"
       ]
      },
      {
       "output_type": "stream",
       "stream": "stdout",
       "text": [
        "\n",
        "84057.3143759f\u00fcr einen makesmalldurchlauf"
       ]
      },
      {
       "output_type": "stream",
       "stream": "stdout",
       "text": [
        "\n",
        "84079.5157459f\u00fcr einen makesmalldurchlauf"
       ]
      },
      {
       "output_type": "stream",
       "stream": "stdout",
       "text": [
        "\n",
        "84101.5452359f\u00fcr einen makesmalldurchlauf"
       ]
      },
      {
       "output_type": "stream",
       "stream": "stdout",
       "text": [
        "\n",
        "84123.5425529f\u00fcr einen makesmalldurchlauf"
       ]
      },
      {
       "output_type": "stream",
       "stream": "stdout",
       "text": [
        "\n",
        "84145.9101529f\u00fcr einen makesmalldurchlauf"
       ]
      },
      {
       "output_type": "stream",
       "stream": "stdout",
       "text": [
        "\n",
        "84167.959142f\u00fcr einen makesmalldurchlauf"
       ]
      },
      {
       "output_type": "stream",
       "stream": "stdout",
       "text": [
        "\n",
        "86770.525717f\u00fcr einen makesmalldurchlauf"
       ]
      },
      {
       "output_type": "stream",
       "stream": "stdout",
       "text": [
        "\n",
        "86793.6039548f\u00fcr einen makesmalldurchlauf"
       ]
      },
      {
       "output_type": "stream",
       "stream": "stdout",
       "text": [
        "\n",
        "86816.35776f\u00fcr einen makesmalldurchlauf"
       ]
      },
      {
       "output_type": "stream",
       "stream": "stdout",
       "text": [
        "\n",
        "86838.683527f\u00fcr einen makesmalldurchlauf"
       ]
      },
      {
       "output_type": "stream",
       "stream": "stdout",
       "text": [
        "\n",
        "86861.0763328f\u00fcr einen makesmalldurchlauf"
       ]
      },
      {
       "output_type": "stream",
       "stream": "stdout",
       "text": [
        "\n",
        "86883.730752f\u00fcr einen makesmalldurchlauf"
       ]
      },
      {
       "output_type": "stream",
       "stream": "stdout",
       "text": [
        "\n",
        "86906.4332218f\u00fcr einen makesmalldurchlauf"
       ]
      },
      {
       "output_type": "stream",
       "stream": "stdout",
       "text": [
        "\n",
        "86929.8661058f\u00fcr einen makesmalldurchlauf"
       ]
      },
      {
       "output_type": "stream",
       "stream": "stdout",
       "text": [
        "\n",
        "86953.6547029f\u00fcr einen makesmalldurchlauf"
       ]
      },
      {
       "output_type": "stream",
       "stream": "stdout",
       "text": [
        "\n",
        "86976.583261f\u00fcr einen makesmalldurchlauf"
       ]
      },
      {
       "output_type": "stream",
       "stream": "stdout",
       "text": [
        "\n",
        "86998.7039869f\u00fcr einen makesmalldurchlauf"
       ]
      },
      {
       "output_type": "stream",
       "stream": "stdout",
       "text": [
        "\n",
        "87020.9489658f\u00fcr einen makesmalldurchlauf"
       ]
      },
      {
       "output_type": "stream",
       "stream": "stdout",
       "text": [
        "\n",
        "87044.4427359f\u00fcr einen makesmalldurchlauf"
       ]
      },
      {
       "output_type": "stream",
       "stream": "stdout",
       "text": [
        "\n",
        "87067.4877698f\u00fcr einen makesmalldurchlauf"
       ]
      },
      {
       "output_type": "stream",
       "stream": "stdout",
       "text": [
        "\n",
        "87089.986568f\u00fcr einen makesmalldurchlauf"
       ]
      },
      {
       "output_type": "stream",
       "stream": "stdout",
       "text": [
        "\n",
        "87112.476239f\u00fcr einen makesmalldurchlauf"
       ]
      },
      {
       "output_type": "stream",
       "stream": "stdout",
       "text": [
        "\n",
        "87134.9928679f\u00fcr einen makesmalldurchlauf"
       ]
      },
      {
       "output_type": "stream",
       "stream": "stdout",
       "text": [
        "\n",
        "87157.463434f\u00fcr einen makesmalldurchlauf"
       ]
      },
      {
       "output_type": "stream",
       "stream": "stdout",
       "text": [
        "\n",
        "87180.1491909f\u00fcr einen makesmalldurchlauf"
       ]
      },
      {
       "output_type": "stream",
       "stream": "stdout",
       "text": [
        "\n",
        "87202.5925069f\u00fcr einen makesmalldurchlauf"
       ]
      },
      {
       "output_type": "stream",
       "stream": "stdout",
       "text": [
        "\n",
        "87225.1729059f\u00fcr einen makesmalldurchlauf"
       ]
      },
      {
       "output_type": "stream",
       "stream": "stdout",
       "text": [
        "\n",
        "87247.6595559f\u00fcr einen makesmalldurchlauf"
       ]
      },
      {
       "output_type": "stream",
       "stream": "stdout",
       "text": [
        "\n",
        "87270.1488929f\u00fcr einen makesmalldurchlauf"
       ]
      },
      {
       "output_type": "stream",
       "stream": "stdout",
       "text": [
        "\n",
        "87292.8340669f\u00fcr einen makesmalldurchlauf"
       ]
      },
      {
       "output_type": "stream",
       "stream": "stdout",
       "text": [
        "\n",
        "87316.062295f\u00fcr einen makesmalldurchlauf"
       ]
      },
      {
       "output_type": "stream",
       "stream": "stdout",
       "text": [
        "\n",
        "87339.6773858f\u00fcr einen makesmalldurchlauf"
       ]
      },
      {
       "output_type": "stream",
       "stream": "stdout",
       "text": [
        "\n",
        "87366.5682778f\u00fcr einen makesmalldurchlauf"
       ]
      },
      {
       "output_type": "stream",
       "stream": "stdout",
       "text": [
        "\n",
        "87391.1954699f\u00fcr einen makesmalldurchlauf"
       ]
      },
      {
       "output_type": "stream",
       "stream": "stdout",
       "text": [
        "\n",
        "87413.9582069f\u00fcr einen makesmalldurchlauf"
       ]
      },
      {
       "output_type": "stream",
       "stream": "stdout",
       "text": [
        "\n",
        "87436.2931259f\u00fcr einen makesmalldurchlauf"
       ]
      },
      {
       "output_type": "stream",
       "stream": "stdout",
       "text": [
        "\n",
        "87459.043159f\u00fcr einen makesmalldurchlauf"
       ]
      },
      {
       "output_type": "stream",
       "stream": "stdout",
       "text": [
        "\n",
        "87481.8271129f\u00fcr einen makesmalldurchlauf"
       ]
      },
      {
       "output_type": "stream",
       "stream": "stdout",
       "text": [
        "\n",
        "87504.0635068f\u00fcr einen makesmalldurchlauf"
       ]
      },
      {
       "output_type": "stream",
       "stream": "stdout",
       "text": [
        "\n",
        "87526.737464f\u00fcr einen makesmalldurchlauf"
       ]
      },
      {
       "output_type": "stream",
       "stream": "stdout",
       "text": [
        "\n",
        "87549.1596098f\u00fcr einen makesmalldurchlauf"
       ]
      },
      {
       "output_type": "stream",
       "stream": "stdout",
       "text": [
        "\n",
        "87571.376513f\u00fcr einen makesmalldurchlauf"
       ]
      },
      {
       "output_type": "stream",
       "stream": "stdout",
       "text": [
        "\n",
        "87594.0768399f\u00fcr einen makesmalldurchlauf"
       ]
      },
      {
       "output_type": "stream",
       "stream": "stdout",
       "text": [
        "\n",
        "87616.6435869f\u00fcr einen makesmalldurchlauf"
       ]
      },
      {
       "output_type": "stream",
       "stream": "stdout",
       "text": [
        "\n",
        "87638.8201089f\u00fcr einen makesmalldurchlauf"
       ]
      },
      {
       "output_type": "stream",
       "stream": "stdout",
       "text": [
        "\n",
        "87660.9549558f\u00fcr einen makesmalldurchlauf"
       ]
      },
      {
       "output_type": "stream",
       "stream": "stdout",
       "text": [
        "\n",
        "87682.9485629f\u00fcr einen makesmalldurchlauf"
       ]
      },
      {
       "output_type": "stream",
       "stream": "stdout",
       "text": [
        "\n",
        "87705.133673f\u00fcr einen makesmalldurchlauf"
       ]
      },
      {
       "output_type": "stream",
       "stream": "stdout",
       "text": [
        "\n",
        "87727.6063418f\u00fcr einen makesmalldurchlauf"
       ]
      },
      {
       "output_type": "stream",
       "stream": "stdout",
       "text": [
        "\n",
        "87749.643692f\u00fcr einen makesmalldurchlauf"
       ]
      },
      {
       "output_type": "stream",
       "stream": "stdout",
       "text": [
        "\n",
        "87772.1026418f\u00fcr einen makesmalldurchlauf"
       ]
      },
      {
       "output_type": "stream",
       "stream": "stdout",
       "text": [
        "\n",
        "87794.1146648f\u00fcr einen makesmalldurchlauf"
       ]
      },
      {
       "output_type": "stream",
       "stream": "stdout",
       "text": [
        "\n",
        "87816.1384718f\u00fcr einen makesmalldurchlauf"
       ]
      },
      {
       "output_type": "stream",
       "stream": "stdout",
       "text": [
        "\n",
        "87838.1429379f\u00fcr einen makesmalldurchlauf"
       ]
      },
      {
       "output_type": "stream",
       "stream": "stdout",
       "text": [
        "\n",
        "87860.2854898f\u00fcr einen makesmalldurchlauf"
       ]
      },
      {
       "output_type": "stream",
       "stream": "stdout",
       "text": [
        "\n",
        "87882.3560219f\u00fcr einen makesmalldurchlauf"
       ]
      },
      {
       "output_type": "stream",
       "stream": "stdout",
       "text": [
        "\n",
        "87904.3931739f\u00fcr einen makesmalldurchlauf"
       ]
      },
      {
       "output_type": "stream",
       "stream": "stdout",
       "text": [
        "\n",
        "87926.3670208f\u00fcr einen makesmalldurchlauf"
       ]
      },
      {
       "output_type": "stream",
       "stream": "stdout",
       "text": [
        "\n",
        "87948.3524058f\u00fcr einen makesmalldurchlauf"
       ]
      },
      {
       "output_type": "stream",
       "stream": "stdout",
       "text": [
        "\n",
        "87970.5360599f\u00fcr einen makesmalldurchlauf"
       ]
      },
      {
       "output_type": "stream",
       "stream": "stdout",
       "text": [
        "\n",
        "87992.5220809f\u00fcr einen makesmalldurchlauf"
       ]
      },
      {
       "output_type": "stream",
       "stream": "stdout",
       "text": [
        "\n",
        "88014.4842269f\u00fcr einen makesmalldurchlauf"
       ]
      },
      {
       "output_type": "stream",
       "stream": "stdout",
       "text": [
        "\n",
        "88036.6148758f\u00fcr einen makesmalldurchlauf"
       ]
      },
      {
       "output_type": "stream",
       "stream": "stdout",
       "text": [
        "\n",
        "88058.7155468f\u00fcr einen makesmalldurchlauf"
       ]
      },
      {
       "output_type": "stream",
       "stream": "stdout",
       "text": [
        "\n",
        "88080.8225789f\u00fcr einen makesmalldurchlauf"
       ]
      },
      {
       "output_type": "stream",
       "stream": "stdout",
       "text": [
        "\n",
        "88103.2301269f\u00fcr einen makesmalldurchlauf"
       ]
      },
      {
       "output_type": "stream",
       "stream": "stdout",
       "text": [
        "\n",
        "88125.2603848f\u00fcr einen makesmalldurchlauf"
       ]
      },
      {
       "output_type": "stream",
       "stream": "stdout",
       "text": [
        "\n",
        "88147.2178478f\u00fcr einen makesmalldurchlauf"
       ]
      },
      {
       "output_type": "stream",
       "stream": "stdout",
       "text": [
        "\n",
        "88169.2786498f\u00fcr einen makesmalldurchlauf"
       ]
      },
      {
       "output_type": "stream",
       "stream": "stdout",
       "text": [
        "\n",
        "88191.36373f\u00fcr einen makesmalldurchlauf"
       ]
      },
      {
       "output_type": "stream",
       "stream": "stdout",
       "text": [
        "\n",
        "88213.429404f\u00fcr einen makesmalldurchlauf"
       ]
      },
      {
       "output_type": "stream",
       "stream": "stdout",
       "text": [
        "\n",
        "88235.5057449f\u00fcr einen makesmalldurchlauf"
       ]
      },
      {
       "output_type": "stream",
       "stream": "stdout",
       "text": [
        "\n",
        "88257.7441308f\u00fcr einen makesmalldurchlauf"
       ]
      },
      {
       "output_type": "stream",
       "stream": "stdout",
       "text": [
        "\n",
        "88280.2804048f\u00fcr einen makesmalldurchlauf"
       ]
      },
      {
       "output_type": "stream",
       "stream": "stdout",
       "text": [
        "\n",
        "88302.2735689f\u00fcr einen makesmalldurchlauf"
       ]
      },
      {
       "output_type": "stream",
       "stream": "stdout",
       "text": [
        "\n",
        "88324.2648249f\u00fcr einen makesmalldurchlauf"
       ]
      },
      {
       "output_type": "stream",
       "stream": "stdout",
       "text": [
        "\n",
        "88346.2505689f\u00fcr einen makesmalldurchlauf"
       ]
      },
      {
       "output_type": "stream",
       "stream": "stdout",
       "text": [
        "\n",
        "88368.4987009f\u00fcr einen makesmalldurchlauf"
       ]
      },
      {
       "output_type": "stream",
       "stream": "stdout",
       "text": [
        "\n",
        "88390.5362659f\u00fcr einen makesmalldurchlauf"
       ]
      },
      {
       "output_type": "stream",
       "stream": "stdout",
       "text": [
        "\n",
        "88412.7577858f\u00fcr einen makesmalldurchlauf"
       ]
      },
      {
       "output_type": "stream",
       "stream": "stdout",
       "text": [
        "\n",
        "88435.0536408f\u00fcr einen makesmalldurchlauf"
       ]
      },
      {
       "output_type": "stream",
       "stream": "stdout",
       "text": [
        "\n",
        "88457.2718649f\u00fcr einen makesmalldurchlauf"
       ]
      },
      {
       "output_type": "stream",
       "stream": "stdout",
       "text": [
        "\n",
        "88479.7315528f\u00fcr einen makesmalldurchlauf"
       ]
      },
      {
       "output_type": "stream",
       "stream": "stdout",
       "text": [
        "\n",
        "88502.0036299f\u00fcr einen makesmalldurchlauf"
       ]
      },
      {
       "output_type": "stream",
       "stream": "stdout",
       "text": [
        "\n",
        "88524.3833098f\u00fcr einen makesmalldurchlauf"
       ]
      },
      {
       "output_type": "stream",
       "stream": "stdout",
       "text": [
        "\n",
        "88546.4970949f\u00fcr einen makesmalldurchlauf"
       ]
      },
      {
       "output_type": "stream",
       "stream": "stdout",
       "text": [
        "\n",
        "88568.5710878f\u00fcr einen makesmalldurchlauf"
       ]
      },
      {
       "output_type": "stream",
       "stream": "stdout",
       "text": [
        "\n",
        "88590.557585f\u00fcr einen makesmalldurchlauf"
       ]
      },
      {
       "output_type": "stream",
       "stream": "stdout",
       "text": [
        "\n",
        "88612.5672538f\u00fcr einen makesmalldurchlauf"
       ]
      },
      {
       "output_type": "stream",
       "stream": "stdout",
       "text": [
        "\n",
        "88634.5917978f\u00fcr einen makesmalldurchlauf"
       ]
      },
      {
       "output_type": "stream",
       "stream": "stdout",
       "text": [
        "\n",
        "88656.8587449f\u00fcr einen makesmalldurchlauf"
       ]
      },
      {
       "output_type": "stream",
       "stream": "stdout",
       "text": [
        "\n",
        "88678.867594f\u00fcr einen makesmalldurchlauf"
       ]
      },
      {
       "output_type": "stream",
       "stream": "stdout",
       "text": [
        "\n",
        "88700.9926889f\u00fcr einen makesmalldurchlauf"
       ]
      },
      {
       "output_type": "stream",
       "stream": "stdout",
       "text": [
        "\n",
        "88723.0348408f\u00fcr einen makesmalldurchlauf"
       ]
      },
      {
       "output_type": "stream",
       "stream": "stdout",
       "text": [
        "\n",
        "88745.241998f\u00fcr einen makesmalldurchlauf"
       ]
      },
      {
       "output_type": "stream",
       "stream": "stdout",
       "text": [
        "\n",
        "88767.6030889f\u00fcr einen makesmalldurchlauf"
       ]
      },
      {
       "output_type": "stream",
       "stream": "stdout",
       "text": [
        "\n",
        "88790.5707219f\u00fcr einen makesmalldurchlauf"
       ]
      },
      {
       "output_type": "stream",
       "stream": "stdout",
       "text": [
        "\n",
        "88812.816093f\u00fcr einen makesmalldurchlauf"
       ]
      },
      {
       "output_type": "stream",
       "stream": "stdout",
       "text": [
        "\n",
        "88835.3324769f\u00fcr einen makesmalldurchlauf"
       ]
      },
      {
       "output_type": "stream",
       "stream": "stdout",
       "text": [
        "\n",
        "88858.035337f\u00fcr einen makesmalldurchlauf"
       ]
      },
      {
       "output_type": "stream",
       "stream": "stdout",
       "text": [
        "\n",
        "88880.4413619f\u00fcr einen makesmalldurchlauf"
       ]
      },
      {
       "output_type": "stream",
       "stream": "stdout",
       "text": [
        "\n",
        "88902.7262478f\u00fcr einen makesmalldurchlauf"
       ]
      },
      {
       "output_type": "stream",
       "stream": "stdout",
       "text": [
        "\n",
        "88925.1173379f\u00fcr einen makesmalldurchlauf"
       ]
      },
      {
       "output_type": "stream",
       "stream": "stdout",
       "text": [
        "\n",
        "88947.437712f\u00fcr einen makesmalldurchlauf"
       ]
      },
      {
       "output_type": "stream",
       "stream": "stdout",
       "text": [
        "\n",
        "88970.2867808f\u00fcr einen makesmalldurchlauf"
       ]
      },
      {
       "output_type": "stream",
       "stream": "stdout",
       "text": [
        "\n",
        "88992.9199929f\u00fcr einen makesmalldurchlauf"
       ]
      },
      {
       "output_type": "stream",
       "stream": "stdout",
       "text": [
        "\n",
        "89015.504648f\u00fcr einen makesmalldurchlauf"
       ]
      },
      {
       "output_type": "stream",
       "stream": "stdout",
       "text": [
        "\n",
        "89038.5956638f\u00fcr einen makesmalldurchlauf"
       ]
      },
      {
       "output_type": "stream",
       "stream": "stdout",
       "text": [
        "\n",
        "89061.1126618f\u00fcr einen makesmalldurchlauf"
       ]
      },
      {
       "output_type": "stream",
       "stream": "stdout",
       "text": [
        "\n",
        "89083.599653f\u00fcr einen makesmalldurchlauf"
       ]
      },
      {
       "output_type": "stream",
       "stream": "stdout",
       "text": [
        "\n",
        "89106.141866f\u00fcr einen makesmalldurchlauf"
       ]
      },
      {
       "output_type": "stream",
       "stream": "stdout",
       "text": [
        "\n",
        "89128.92079f\u00fcr einen makesmalldurchlauf"
       ]
      },
      {
       "output_type": "stream",
       "stream": "stdout",
       "text": [
        "\n",
        "89151.634243f\u00fcr einen makesmalldurchlauf"
       ]
      },
      {
       "output_type": "stream",
       "stream": "stdout",
       "text": [
        "\n",
        "89174.0874519f\u00fcr einen makesmalldurchlauf"
       ]
      },
      {
       "output_type": "stream",
       "stream": "stdout",
       "text": [
        "\n",
        "89196.6459389f\u00fcr einen makesmalldurchlauf"
       ]
      },
      {
       "output_type": "stream",
       "stream": "stdout",
       "text": [
        "\n",
        "89219.326787f\u00fcr einen makesmalldurchlauf"
       ]
      },
      {
       "output_type": "stream",
       "stream": "stdout",
       "text": [
        "\n",
        "89241.7446609f\u00fcr einen makesmalldurchlauf"
       ]
      },
      {
       "output_type": "stream",
       "stream": "stdout",
       "text": [
        "\n",
        "89264.144676f\u00fcr einen makesmalldurchlauf"
       ]
      },
      {
       "output_type": "stream",
       "stream": "stdout",
       "text": [
        "\n",
        "89286.4174728f\u00fcr einen makesmalldurchlauf"
       ]
      },
      {
       "output_type": "stream",
       "stream": "stdout",
       "text": [
        "\n",
        "89308.8855529f\u00fcr einen makesmalldurchlauf"
       ]
      },
      {
       "output_type": "stream",
       "stream": "stdout",
       "text": [
        "\n",
        "89332.4507039f\u00fcr einen makesmalldurchlauf"
       ]
      },
      {
       "output_type": "stream",
       "stream": "stdout",
       "text": [
        "\n",
        "89355.0934849f\u00fcr einen makesmalldurchlauf"
       ]
      },
      {
       "output_type": "stream",
       "stream": "stdout",
       "text": [
        "\n",
        "89378.1090419f\u00fcr einen makesmalldurchlauf"
       ]
      },
      {
       "output_type": "stream",
       "stream": "stdout",
       "text": [
        "\n",
        "89400.7986789f\u00fcr einen makesmalldurchlauf"
       ]
      },
      {
       "output_type": "stream",
       "stream": "stdout",
       "text": [
        "\n",
        "89423.2545209f\u00fcr einen makesmalldurchlauf"
       ]
      },
      {
       "output_type": "stream",
       "stream": "stdout",
       "text": [
        "\n",
        "89445.5917039f\u00fcr einen makesmalldurchlauf"
       ]
      },
      {
       "output_type": "stream",
       "stream": "stdout",
       "text": [
        "\n",
        "89467.8558538f\u00fcr einen makesmalldurchlauf"
       ]
      },
      {
       "output_type": "stream",
       "stream": "stdout",
       "text": [
        "\n",
        "89490.4229538f\u00fcr einen makesmalldurchlauf"
       ]
      },
      {
       "output_type": "stream",
       "stream": "stdout",
       "text": [
        "\n",
        "89512.748044f\u00fcr einen makesmalldurchlauf"
       ]
      },
      {
       "output_type": "stream",
       "stream": "stdout",
       "text": [
        "\n",
        "89534.9192879f\u00fcr einen makesmalldurchlauf"
       ]
      },
      {
       "output_type": "stream",
       "stream": "stdout",
       "text": [
        "\n",
        "89556.9202569f\u00fcr einen makesmalldurchlauf"
       ]
      },
      {
       "output_type": "stream",
       "stream": "stdout",
       "text": [
        "\n",
        "89578.9668229f\u00fcr einen makesmalldurchlauf"
       ]
      },
      {
       "output_type": "stream",
       "stream": "stdout",
       "text": [
        "\n",
        "89601.1417899f\u00fcr einen makesmalldurchlauf"
       ]
      },
      {
       "output_type": "stream",
       "stream": "stdout",
       "text": [
        "\n",
        "89623.2154238f\u00fcr einen makesmalldurchlauf"
       ]
      },
      {
       "output_type": "stream",
       "stream": "stdout",
       "text": [
        "\n",
        "89645.167356f\u00fcr einen makesmalldurchlauf"
       ]
      },
      {
       "output_type": "stream",
       "stream": "stdout",
       "text": [
        "\n",
        "89667.257597f\u00fcr einen makesmalldurchlauf"
       ]
      },
      {
       "output_type": "stream",
       "stream": "stdout",
       "text": [
        "\n",
        "89689.4020998f\u00fcr einen makesmalldurchlauf"
       ]
      },
      {
       "output_type": "stream",
       "stream": "stdout",
       "text": [
        "\n",
        "89711.4269879f\u00fcr einen makesmalldurchlauf"
       ]
      },
      {
       "output_type": "stream",
       "stream": "stdout",
       "text": [
        "\n",
        "89733.4464388f\u00fcr einen makesmalldurchlauf"
       ]
      },
      {
       "output_type": "stream",
       "stream": "stdout",
       "text": [
        "\n",
        "89755.6074328f\u00fcr einen makesmalldurchlauf"
       ]
      },
      {
       "output_type": "stream",
       "stream": "stdout",
       "text": [
        "\n",
        "89777.6097159f\u00fcr einen makesmalldurchlauf"
       ]
      },
      {
       "output_type": "stream",
       "stream": "stdout",
       "text": [
        "\n",
        "89799.7229118f\u00fcr einen makesmalldurchlauf"
       ]
      },
      {
       "output_type": "stream",
       "stream": "stdout",
       "text": [
        "\n",
        "89821.825155f\u00fcr einen makesmalldurchlauf"
       ]
      },
      {
       "output_type": "stream",
       "stream": "stdout",
       "text": [
        "\n",
        "89844.162329f\u00fcr einen makesmalldurchlauf"
       ]
      },
      {
       "output_type": "stream",
       "stream": "stdout",
       "text": [
        "\n",
        "89866.170166f\u00fcr einen makesmalldurchlauf"
       ]
      },
      {
       "output_type": "stream",
       "stream": "stdout",
       "text": [
        "\n",
        "89888.3190758f\u00fcr einen makesmalldurchlauf"
       ]
      },
      {
       "output_type": "stream",
       "stream": "stdout",
       "text": [
        "\n",
        "89910.3656719f\u00fcr einen makesmalldurchlauf"
       ]
      },
      {
       "output_type": "stream",
       "stream": "stdout",
       "text": [
        "\n",
        "89932.3522868f\u00fcr einen makesmalldurchlauf"
       ]
      },
      {
       "output_type": "stream",
       "stream": "stdout",
       "text": [
        "\n",
        "89954.5898089f\u00fcr einen makesmalldurchlauf"
       ]
      },
      {
       "output_type": "stream",
       "stream": "stdout",
       "text": [
        "\n",
        "89976.6930149f\u00fcr einen makesmalldurchlauf"
       ]
      },
      {
       "output_type": "stream",
       "stream": "stdout",
       "text": [
        "\n",
        "89998.7663879f\u00fcr einen makesmalldurchlauf"
       ]
      },
      {
       "output_type": "stream",
       "stream": "stdout",
       "text": [
        "\n",
        "90020.835953f\u00fcr einen makesmalldurchlauf"
       ]
      },
      {
       "output_type": "stream",
       "stream": "stdout",
       "text": [
        "\n",
        "90042.8608718f\u00fcr einen makesmalldurchlauf"
       ]
      },
      {
       "output_type": "stream",
       "stream": "stdout",
       "text": [
        "\n",
        "90064.9824538f\u00fcr einen makesmalldurchlauf"
       ]
      },
      {
       "output_type": "stream",
       "stream": "stdout",
       "text": [
        "\n",
        "90086.9542098f\u00fcr einen makesmalldurchlauf"
       ]
      },
      {
       "output_type": "stream",
       "stream": "stdout",
       "text": [
        "\n",
        "90109.083452f\u00fcr einen makesmalldurchlauf"
       ]
      },
      {
       "output_type": "stream",
       "stream": "stdout",
       "text": [
        "\n",
        "90131.4229889f\u00fcr einen makesmalldurchlauf"
       ]
      },
      {
       "output_type": "stream",
       "stream": "stdout",
       "text": [
        "\n",
        "90153.7556589f\u00fcr einen makesmalldurchlauf"
       ]
      },
      {
       "output_type": "stream",
       "stream": "stdout",
       "text": [
        "\n",
        "90176.7709129f\u00fcr einen makesmalldurchlauf"
       ]
      },
      {
       "output_type": "stream",
       "stream": "stdout",
       "text": [
        "\n",
        "90199.4243569f\u00fcr einen makesmalldurchlauf"
       ]
      },
      {
       "output_type": "stream",
       "stream": "stdout",
       "text": [
        "\n",
        "90221.4532709f\u00fcr einen makesmalldurchlauf"
       ]
      },
      {
       "output_type": "stream",
       "stream": "stdout",
       "text": [
        "\n",
        "90243.7636089f\u00fcr einen makesmalldurchlauf"
       ]
      },
      {
       "output_type": "stream",
       "stream": "stdout",
       "text": [
        "\n",
        "90266.9610829f\u00fcr einen makesmalldurchlauf"
       ]
      },
      {
       "output_type": "stream",
       "stream": "stdout",
       "text": [
        "\n",
        "90289.2463698f\u00fcr einen makesmalldurchlauf"
       ]
      },
      {
       "output_type": "stream",
       "stream": "stdout",
       "text": [
        "\n",
        "90311.8142538f\u00fcr einen makesmalldurchlauf"
       ]
      },
      {
       "output_type": "stream",
       "stream": "stdout",
       "text": [
        "\n",
        "90334.5395699f\u00fcr einen makesmalldurchlauf"
       ]
      },
      {
       "output_type": "stream",
       "stream": "stdout",
       "text": [
        "\n",
        "90357.1887639f\u00fcr einen makesmalldurchlauf"
       ]
      },
      {
       "output_type": "stream",
       "stream": "stdout",
       "text": [
        "\n",
        "90380.2580559f\u00fcr einen makesmalldurchlauf"
       ]
      },
      {
       "output_type": "stream",
       "stream": "stdout",
       "text": [
        "\n",
        "90402.884501f\u00fcr einen makesmalldurchlauf"
       ]
      },
      {
       "output_type": "stream",
       "stream": "stdout",
       "text": [
        "\n",
        "90424.9370499f\u00fcr einen makesmalldurchlauf"
       ]
      },
      {
       "output_type": "stream",
       "stream": "stdout",
       "text": [
        "\n",
        "90447.0246179f\u00fcr einen makesmalldurchlauf"
       ]
      },
      {
       "output_type": "stream",
       "stream": "stdout",
       "text": [
        "\n",
        "90469.4349039f\u00fcr einen makesmalldurchlauf"
       ]
      },
      {
       "output_type": "stream",
       "stream": "stdout",
       "text": [
        "\n",
        "90491.8313739f\u00fcr einen makesmalldurchlauf"
       ]
      },
      {
       "output_type": "stream",
       "stream": "stdout",
       "text": [
        "\n",
        "90514.6271729f\u00fcr einen makesmalldurchlauf"
       ]
      },
      {
       "output_type": "stream",
       "stream": "stdout",
       "text": [
        "\n",
        "90537.1664188f\u00fcr einen makesmalldurchlauf"
       ]
      },
      {
       "output_type": "stream",
       "stream": "stdout",
       "text": [
        "\n",
        "90559.7425039f\u00fcr einen makesmalldurchlauf"
       ]
      },
      {
       "output_type": "stream",
       "stream": "stdout",
       "text": [
        "\n",
        "90582.2765708f\u00fcr einen makesmalldurchlauf"
       ]
      },
      {
       "output_type": "stream",
       "stream": "stdout",
       "text": [
        "\n",
        "90604.756253f\u00fcr einen makesmalldurchlauf"
       ]
      },
      {
       "output_type": "stream",
       "stream": "stdout",
       "text": [
        "\n",
        "90627.154438f\u00fcr einen makesmalldurchlauf"
       ]
      },
      {
       "output_type": "stream",
       "stream": "stdout",
       "text": [
        "\n",
        "90649.48489f\u00fcr einen makesmalldurchlauf"
       ]
      },
      {
       "output_type": "stream",
       "stream": "stdout",
       "text": [
        "\n",
        "90671.7708669f\u00fcr einen makesmalldurchlauf"
       ]
      },
      {
       "output_type": "stream",
       "stream": "stdout",
       "text": [
        "\n",
        "90693.89028f\u00fcr einen makesmalldurchlauf"
       ]
      },
      {
       "output_type": "stream",
       "stream": "stdout",
       "text": [
        "\n",
        "90716.1173508f\u00fcr einen makesmalldurchlauf"
       ]
      },
      {
       "output_type": "stream",
       "stream": "stdout",
       "text": [
        "\n",
        "90738.34795f\u00fcr einen makesmalldurchlauf"
       ]
      },
      {
       "output_type": "stream",
       "stream": "stdout",
       "text": [
        "\n",
        "90760.8077588f\u00fcr einen makesmalldurchlauf"
       ]
      },
      {
       "output_type": "stream",
       "stream": "stdout",
       "text": [
        "\n",
        "90783.5834739f\u00fcr einen makesmalldurchlauf"
       ]
      },
      {
       "output_type": "stream",
       "stream": "stdout",
       "text": [
        "\n",
        "90806.3085179f\u00fcr einen makesmalldurchlauf"
       ]
      },
      {
       "output_type": "stream",
       "stream": "stdout",
       "text": [
        "\n",
        "90829.2616408f\u00fcr einen makesmalldurchlauf"
       ]
      },
      {
       "output_type": "stream",
       "stream": "stdout",
       "text": [
        "\n",
        "90851.7202518f\u00fcr einen makesmalldurchlauf"
       ]
      },
      {
       "output_type": "stream",
       "stream": "stdout",
       "text": [
        "\n",
        "90874.3324749f\u00fcr einen makesmalldurchlauf"
       ]
      },
      {
       "output_type": "stream",
       "stream": "stdout",
       "text": [
        "\n",
        "90896.6172879f\u00fcr einen makesmalldurchlauf"
       ]
      },
      {
       "output_type": "stream",
       "stream": "stdout",
       "text": [
        "\n",
        "90919.3375368f\u00fcr einen makesmalldurchlauf"
       ]
      },
      {
       "output_type": "stream",
       "stream": "stdout",
       "text": [
        "\n",
        "90941.6354048f\u00fcr einen makesmalldurchlauf"
       ]
      },
      {
       "output_type": "stream",
       "stream": "stdout",
       "text": [
        "\n",
        "90963.665956f\u00fcr einen makesmalldurchlauf"
       ]
      },
      {
       "output_type": "stream",
       "stream": "stdout",
       "text": [
        "\n",
        "90985.8910549f\u00fcr einen makesmalldurchlauf"
       ]
      },
      {
       "output_type": "stream",
       "stream": "stdout",
       "text": [
        "\n",
        "91008.3011799f\u00fcr einen makesmalldurchlauf"
       ]
      },
      {
       "output_type": "stream",
       "stream": "stdout",
       "text": [
        "\n",
        "91031.115129f\u00fcr einen makesmalldurchlauf"
       ]
      },
      {
       "output_type": "stream",
       "stream": "stdout",
       "text": [
        "\n",
        "91053.6931829f\u00fcr einen makesmalldurchlauf"
       ]
      },
      {
       "output_type": "stream",
       "stream": "stdout",
       "text": [
        "\n",
        "91076.6466439f\u00fcr einen makesmalldurchlauf"
       ]
      },
      {
       "output_type": "stream",
       "stream": "stdout",
       "text": [
        "\n",
        "91099.6021159f\u00fcr einen makesmalldurchlauf"
       ]
      },
      {
       "output_type": "stream",
       "stream": "stdout",
       "text": [
        "\n",
        "91122.983012f\u00fcr einen makesmalldurchlauf"
       ]
      },
      {
       "output_type": "stream",
       "stream": "stdout",
       "text": [
        "\n",
        "91146.4357049f\u00fcr einen makesmalldurchlauf"
       ]
      },
      {
       "output_type": "stream",
       "stream": "stdout",
       "text": [
        "\n",
        "91170.5384459f\u00fcr einen makesmalldurchlauf"
       ]
      },
      {
       "output_type": "stream",
       "stream": "stdout",
       "text": [
        "\n",
        "91194.4218948f\u00fcr einen makesmalldurchlauf"
       ]
      },
      {
       "output_type": "stream",
       "stream": "stdout",
       "text": [
        "\n",
        "91216.5474298f\u00fcr einen makesmalldurchlauf"
       ]
      },
      {
       "output_type": "stream",
       "stream": "stdout",
       "text": [
        "\n",
        "91238.8650579f\u00fcr einen makesmalldurchlauf"
       ]
      },
      {
       "output_type": "stream",
       "stream": "stdout",
       "text": [
        "\n",
        "91261.529856f\u00fcr einen makesmalldurchlauf"
       ]
      },
      {
       "output_type": "stream",
       "stream": "stdout",
       "text": [
        "\n",
        "91284.3526528f\u00fcr einen makesmalldurchlauf"
       ]
      },
      {
       "output_type": "stream",
       "stream": "stdout",
       "text": [
        "\n",
        "91306.717005f\u00fcr einen makesmalldurchlauf"
       ]
      },
      {
       "output_type": "stream",
       "stream": "stdout",
       "text": [
        "\n",
        "91328.9143288f\u00fcr einen makesmalldurchlauf"
       ]
      },
      {
       "output_type": "stream",
       "stream": "stdout",
       "text": [
        "\n",
        "91351.724705f\u00fcr einen makesmalldurchlauf"
       ]
      },
      {
       "output_type": "stream",
       "stream": "stdout",
       "text": [
        "\n",
        "91373.9867458f\u00fcr einen makesmalldurchlauf"
       ]
      },
      {
       "output_type": "stream",
       "stream": "stdout",
       "text": [
        "\n",
        "91396.6385849f\u00fcr einen makesmalldurchlauf"
       ]
      },
      {
       "output_type": "stream",
       "stream": "stdout",
       "text": [
        "\n",
        "91418.914943f\u00fcr einen makesmalldurchlauf"
       ]
      },
      {
       "output_type": "stream",
       "stream": "stdout",
       "text": [
        "\n",
        "91441.7756269f\u00fcr einen makesmalldurchlauf"
       ]
      },
      {
       "output_type": "stream",
       "stream": "stdout",
       "text": [
        "\n",
        "91464.9791739f\u00fcr einen makesmalldurchlauf"
       ]
      },
      {
       "output_type": "stream",
       "stream": "stdout",
       "text": [
        "\n",
        "91487.9168398f\u00fcr einen makesmalldurchlauf"
       ]
      },
      {
       "output_type": "stream",
       "stream": "stdout",
       "text": [
        "\n",
        "91510.1251199f\u00fcr einen makesmalldurchlauf"
       ]
      },
      {
       "output_type": "stream",
       "stream": "stdout",
       "text": [
        "\n",
        "91532.2377088f\u00fcr einen makesmalldurchlauf"
       ]
      },
      {
       "output_type": "stream",
       "stream": "stdout",
       "text": [
        "\n",
        "91554.5057628f\u00fcr einen makesmalldurchlauf"
       ]
      },
      {
       "output_type": "stream",
       "stream": "stdout",
       "text": [
        "\n",
        "91577.197932f\u00fcr einen makesmalldurchlauf"
       ]
      },
      {
       "output_type": "stream",
       "stream": "stdout",
       "text": [
        "\n",
        "91599.4008229f\u00fcr einen makesmalldurchlauf"
       ]
      },
      {
       "output_type": "stream",
       "stream": "stdout",
       "text": [
        "\n",
        "91622.2312229f\u00fcr einen makesmalldurchlauf"
       ]
      },
      {
       "output_type": "stream",
       "stream": "stdout",
       "text": [
        "\n",
        "91644.7986548f\u00fcr einen makesmalldurchlauf"
       ]
      },
      {
       "output_type": "stream",
       "stream": "stdout",
       "text": [
        "\n",
        "91667.4537339f\u00fcr einen makesmalldurchlauf"
       ]
      },
      {
       "output_type": "stream",
       "stream": "stdout",
       "text": [
        "\n",
        "91691.1708739f\u00fcr einen makesmalldurchlauf"
       ]
      },
      {
       "output_type": "stream",
       "stream": "stdout",
       "text": [
        "\n",
        "91715.6572888f\u00fcr einen makesmalldurchlauf"
       ]
      },
      {
       "output_type": "stream",
       "stream": "stdout",
       "text": [
        "\n",
        "91738.2720509f\u00fcr einen makesmalldurchlauf"
       ]
      },
      {
       "output_type": "stream",
       "stream": "stdout",
       "text": [
        "\n",
        "91760.7439339f\u00fcr einen makesmalldurchlauf"
       ]
      },
      {
       "output_type": "stream",
       "stream": "stdout",
       "text": [
        "\n",
        "91783.1617608f\u00fcr einen makesmalldurchlauf"
       ]
      },
      {
       "output_type": "stream",
       "stream": "stdout",
       "text": [
        "\n",
        "91805.399235f\u00fcr einen makesmalldurchlauf"
       ]
      },
      {
       "output_type": "stream",
       "stream": "stdout",
       "text": [
        "\n",
        "91828.1801498f\u00fcr einen makesmalldurchlauf"
       ]
      },
      {
       "output_type": "stream",
       "stream": "stdout",
       "text": [
        "\n",
        "91851.850539f\u00fcr einen makesmalldurchlauf"
       ]
      },
      {
       "output_type": "stream",
       "stream": "stdout",
       "text": [
        "\n",
        "91875.5118439f\u00fcr einen makesmalldurchlauf"
       ]
      },
      {
       "output_type": "stream",
       "stream": "stdout",
       "text": [
        "\n",
        "91898.3654969f\u00fcr einen makesmalldurchlauf"
       ]
      },
      {
       "output_type": "stream",
       "stream": "stdout",
       "text": [
        "\n",
        "91921.6228309f\u00fcr einen makesmalldurchlauf"
       ]
      },
      {
       "output_type": "stream",
       "stream": "stdout",
       "text": [
        "\n",
        "91944.560153f\u00fcr einen makesmalldurchlauf"
       ]
      },
      {
       "output_type": "stream",
       "stream": "stdout",
       "text": [
        "\n",
        "91967.2573218f\u00fcr einen makesmalldurchlauf"
       ]
      },
      {
       "output_type": "stream",
       "stream": "stdout",
       "text": [
        "\n",
        "91990.354919f\u00fcr einen makesmalldurchlauf"
       ]
      },
      {
       "output_type": "stream",
       "stream": "stdout",
       "text": [
        "\n",
        "92013.2689309f\u00fcr einen makesmalldurchlauf"
       ]
      },
      {
       "output_type": "stream",
       "stream": "stdout",
       "text": [
        "\n",
        "92035.921402f\u00fcr einen makesmalldurchlauf"
       ]
      },
      {
       "output_type": "stream",
       "stream": "stdout",
       "text": [
        "\n",
        "92058.4033659f\u00fcr einen makesmalldurchlauf"
       ]
      },
      {
       "output_type": "stream",
       "stream": "stdout",
       "text": [
        "\n",
        "92081.290869f\u00fcr einen makesmalldurchlauf"
       ]
      },
      {
       "output_type": "stream",
       "stream": "stdout",
       "text": [
        "\n",
        "92104.0904009f\u00fcr einen makesmalldurchlauf"
       ]
      },
      {
       "output_type": "stream",
       "stream": "stdout",
       "text": [
        "\n",
        "92127.9859719f\u00fcr einen makesmalldurchlauf"
       ]
      },
      {
       "output_type": "stream",
       "stream": "stdout",
       "text": [
        "\n",
        "92150.8699989f\u00fcr einen makesmalldurchlauf"
       ]
      },
      {
       "output_type": "stream",
       "stream": "stdout",
       "text": [
        "\n",
        "92173.4693549f\u00fcr einen makesmalldurchlauf"
       ]
      },
      {
       "output_type": "stream",
       "stream": "stdout",
       "text": [
        "\n",
        "92196.5847788f\u00fcr einen makesmalldurchlauf"
       ]
      },
      {
       "output_type": "stream",
       "stream": "stdout",
       "text": [
        "\n",
        "92220.4608438f\u00fcr einen makesmalldurchlauf"
       ]
      },
      {
       "output_type": "stream",
       "stream": "stdout",
       "text": [
        "\n",
        "92242.8959479f\u00fcr einen makesmalldurchlauf"
       ]
      },
      {
       "output_type": "stream",
       "stream": "stdout",
       "text": [
        "\n",
        "92265.6691048f\u00fcr einen makesmalldurchlauf"
       ]
      },
      {
       "output_type": "stream",
       "stream": "stdout",
       "text": [
        "\n",
        "92288.9043319f\u00fcr einen makesmalldurchlauf"
       ]
      },
      {
       "output_type": "stream",
       "stream": "stdout",
       "text": [
        "\n",
        "92311.2490339f\u00fcr einen makesmalldurchlauf"
       ]
      },
      {
       "output_type": "stream",
       "stream": "stdout",
       "text": [
        "\n",
        "92333.408592f\u00fcr einen makesmalldurchlauf"
       ]
      },
      {
       "output_type": "stream",
       "stream": "stdout",
       "text": [
        "\n",
        "92355.4944808f\u00fcr einen makesmalldurchlauf"
       ]
      },
      {
       "output_type": "stream",
       "stream": "stdout",
       "text": [
        "\n",
        "92377.7053769f\u00fcr einen makesmalldurchlauf"
       ]
      },
      {
       "output_type": "stream",
       "stream": "stdout",
       "text": [
        "\n",
        "92399.970197f\u00fcr einen makesmalldurchlauf"
       ]
      },
      {
       "output_type": "stream",
       "stream": "stdout",
       "text": [
        "\n",
        "92422.6864429f\u00fcr einen makesmalldurchlauf"
       ]
      },
      {
       "output_type": "stream",
       "stream": "stdout",
       "text": [
        "\n",
        "92445.3603089f\u00fcr einen makesmalldurchlauf"
       ]
      },
      {
       "output_type": "stream",
       "stream": "stdout",
       "text": [
        "\n",
        "92467.933923f\u00fcr einen makesmalldurchlauf"
       ]
      },
      {
       "output_type": "stream",
       "stream": "stdout",
       "text": [
        "\n",
        "92490.419827f\u00fcr einen makesmalldurchlauf"
       ]
      },
      {
       "output_type": "stream",
       "stream": "stdout",
       "text": [
        "\n",
        "92513.2723658f\u00fcr einen makesmalldurchlauf"
       ]
      },
      {
       "output_type": "stream",
       "stream": "stdout",
       "text": [
        "\n",
        "92535.9071598f\u00fcr einen makesmalldurchlauf"
       ]
      },
      {
       "output_type": "stream",
       "stream": "stdout",
       "text": [
        "\n",
        "92558.5048239f\u00fcr einen makesmalldurchlauf"
       ]
      },
      {
       "output_type": "stream",
       "stream": "stdout",
       "text": [
        "\n",
        "92581.313303f\u00fcr einen makesmalldurchlauf"
       ]
      },
      {
       "output_type": "stream",
       "stream": "stdout",
       "text": [
        "\n",
        "92604.429565f\u00fcr einen makesmalldurchlauf"
       ]
      },
      {
       "output_type": "stream",
       "stream": "stdout",
       "text": [
        "\n",
        "92627.4382799f\u00fcr einen makesmalldurchlauf"
       ]
      },
      {
       "output_type": "stream",
       "stream": "stdout",
       "text": [
        "\n",
        "92649.8808479f\u00fcr einen makesmalldurchlauf"
       ]
      },
      {
       "output_type": "stream",
       "stream": "stdout",
       "text": [
        "\n",
        "92672.3370218f\u00fcr einen makesmalldurchlauf"
       ]
      },
      {
       "output_type": "stream",
       "stream": "stdout",
       "text": [
        "\n",
        "92694.7793839f\u00fcr einen makesmalldurchlauf"
       ]
      },
      {
       "output_type": "stream",
       "stream": "stdout",
       "text": [
        "\n",
        "92717.250423f\u00fcr einen makesmalldurchlauf"
       ]
      },
      {
       "output_type": "stream",
       "stream": "stdout",
       "text": [
        "\n",
        "92740.2176559f\u00fcr einen makesmalldurchlauf"
       ]
      },
      {
       "output_type": "stream",
       "stream": "stdout",
       "text": [
        "\n",
        "92762.729105f\u00fcr einen makesmalldurchlauf"
       ]
      },
      {
       "output_type": "stream",
       "stream": "stdout",
       "text": [
        "\n",
        "92785.0669019f\u00fcr einen makesmalldurchlauf"
       ]
      },
      {
       "output_type": "stream",
       "stream": "stdout",
       "text": [
        "\n",
        "92807.356426f\u00fcr einen makesmalldurchlauf"
       ]
      },
      {
       "output_type": "stream",
       "stream": "stdout",
       "text": [
        "\n",
        "92830.0869079f\u00fcr einen makesmalldurchlauf"
       ]
      },
      {
       "output_type": "stream",
       "stream": "stdout",
       "text": [
        "\n",
        "92854.2022219f\u00fcr einen makesmalldurchlauf"
       ]
      },
      {
       "output_type": "stream",
       "stream": "stdout",
       "text": [
        "\n",
        "92877.051538f\u00fcr einen makesmalldurchlauf"
       ]
      },
      {
       "output_type": "stream",
       "stream": "stdout",
       "text": [
        "\n",
        "92900.2581389f\u00fcr einen makesmalldurchlauf"
       ]
      },
      {
       "output_type": "stream",
       "stream": "stdout",
       "text": [
        "\n",
        "92922.9884548f\u00fcr einen makesmalldurchlauf"
       ]
      },
      {
       "output_type": "stream",
       "stream": "stdout",
       "text": [
        "\n",
        "92945.8214209f\u00fcr einen makesmalldurchlauf"
       ]
      },
      {
       "output_type": "stream",
       "stream": "stdout",
       "text": [
        "\n",
        "92968.4565709f\u00fcr einen makesmalldurchlauf"
       ]
      },
      {
       "output_type": "stream",
       "stream": "stdout",
       "text": [
        "\n",
        "92991.0622368f\u00fcr einen makesmalldurchlauf"
       ]
      },
      {
       "output_type": "stream",
       "stream": "stdout",
       "text": [
        "\n",
        "93013.5855968f\u00fcr einen makesmalldurchlauf"
       ]
      },
      {
       "output_type": "stream",
       "stream": "stdout",
       "text": [
        "\n",
        "93036.4912908f\u00fcr einen makesmalldurchlauf"
       ]
      },
      {
       "output_type": "stream",
       "stream": "stdout",
       "text": [
        "\n",
        "93059.0321739f\u00fcr einen makesmalldurchlauf"
       ]
      },
      {
       "output_type": "stream",
       "stream": "stdout",
       "text": [
        "\n",
        "93081.6194708f\u00fcr einen makesmalldurchlauf"
       ]
      },
      {
       "output_type": "stream",
       "stream": "stdout",
       "text": [
        "\n",
        "93104.444088f\u00fcr einen makesmalldurchlauf"
       ]
      },
      {
       "output_type": "stream",
       "stream": "stdout",
       "text": [
        "\n",
        "93127.4170899f\u00fcr einen makesmalldurchlauf"
       ]
      },
      {
       "output_type": "stream",
       "stream": "stdout",
       "text": [
        "\n",
        "93150.970752f\u00fcr einen makesmalldurchlauf"
       ]
      },
      {
       "output_type": "stream",
       "stream": "stdout",
       "text": [
        "\n",
        "93173.9357898f\u00fcr einen makesmalldurchlauf"
       ]
      },
      {
       "output_type": "stream",
       "stream": "stdout",
       "text": [
        "\n",
        "93196.8746078f\u00fcr einen makesmalldurchlauf"
       ]
      },
      {
       "output_type": "stream",
       "stream": "stdout",
       "text": [
        "\n",
        "93219.2292409f\u00fcr einen makesmalldurchlauf"
       ]
      },
      {
       "output_type": "stream",
       "stream": "stdout",
       "text": [
        "\n",
        "93241.5163498f\u00fcr einen makesmalldurchlauf"
       ]
      },
      {
       "output_type": "stream",
       "stream": "stdout",
       "text": [
        "\n",
        "93263.6463759f\u00fcr einen makesmalldurchlauf"
       ]
      },
      {
       "output_type": "stream",
       "stream": "stdout",
       "text": [
        "\n",
        "93285.8549328f\u00fcr einen makesmalldurchlauf"
       ]
      },
      {
       "output_type": "stream",
       "stream": "stdout",
       "text": [
        "\n",
        "93308.395978f\u00fcr einen makesmalldurchlauf"
       ]
      },
      {
       "output_type": "stream",
       "stream": "stdout",
       "text": [
        "\n",
        "93330.453249f\u00fcr einen makesmalldurchlauf"
       ]
      },
      {
       "output_type": "stream",
       "stream": "stdout",
       "text": [
        "\n",
        "93352.7634349f\u00fcr einen makesmalldurchlauf"
       ]
      },
      {
       "output_type": "stream",
       "stream": "stdout",
       "text": [
        "\n",
        "93374.9653728f\u00fcr einen makesmalldurchlauf"
       ]
      },
      {
       "output_type": "stream",
       "stream": "stdout",
       "text": [
        "\n",
        "93397.567271f\u00fcr einen makesmalldurchlauf"
       ]
      },
      {
       "output_type": "stream",
       "stream": "stdout",
       "text": [
        "\n",
        "93420.9805138f\u00fcr einen makesmalldurchlauf"
       ]
      },
      {
       "output_type": "stream",
       "stream": "stdout",
       "text": [
        "\n",
        "93443.0413828f\u00fcr einen makesmalldurchlauf"
       ]
      },
      {
       "output_type": "stream",
       "stream": "stdout",
       "text": [
        "\n",
        "93465.0798578f\u00fcr einen makesmalldurchlauf"
       ]
      },
      {
       "output_type": "stream",
       "stream": "stdout",
       "text": [
        "\n",
        "93487.120872f\u00fcr einen makesmalldurchlauf"
       ]
      },
      {
       "output_type": "stream",
       "stream": "stdout",
       "text": [
        "\n",
        "93509.2344089f\u00fcr einen makesmalldurchlauf"
       ]
      },
      {
       "output_type": "stream",
       "stream": "stdout",
       "text": [
        "\n",
        "93531.3860898f\u00fcr einen makesmalldurchlauf"
       ]
      },
      {
       "output_type": "stream",
       "stream": "stdout",
       "text": [
        "\n",
        "93553.428057f\u00fcr einen makesmalldurchlauf"
       ]
      },
      {
       "output_type": "stream",
       "stream": "stdout",
       "text": [
        "\n",
        "93575.447902f\u00fcr einen makesmalldurchlauf"
       ]
      },
      {
       "output_type": "stream",
       "stream": "stdout",
       "text": [
        "\n",
        "93597.43625f\u00fcr einen makesmalldurchlauf"
       ]
      },
      {
       "output_type": "stream",
       "stream": "stdout",
       "text": [
        "\n",
        "93619.437619f\u00fcr einen makesmalldurchlauf"
       ]
      },
      {
       "output_type": "stream",
       "stream": "stdout",
       "text": [
        "\n",
        "93641.5049748f\u00fcr einen makesmalldurchlauf"
       ]
      },
      {
       "output_type": "stream",
       "stream": "stdout",
       "text": [
        "\n",
        "93663.5422978f\u00fcr einen makesmalldurchlauf"
       ]
      },
      {
       "output_type": "stream",
       "stream": "stdout",
       "text": [
        "\n",
        "93685.504663f\u00fcr einen makesmalldurchlauf"
       ]
      },
      {
       "output_type": "stream",
       "stream": "stdout",
       "text": [
        "\n",
        "93707.5103438f\u00fcr einen makesmalldurchlauf"
       ]
      },
      {
       "output_type": "stream",
       "stream": "stdout",
       "text": [
        "\n",
        "93730.9732049f\u00fcr einen makesmalldurchlauf"
       ]
      },
      {
       "output_type": "stream",
       "stream": "stdout",
       "text": [
        "\n",
        "93754.3052258f\u00fcr einen makesmalldurchlauf"
       ]
      },
      {
       "output_type": "stream",
       "stream": "stdout",
       "text": [
        "\n",
        "93777.6429038f\u00fcr einen makesmalldurchlauf"
       ]
      },
      {
       "output_type": "stream",
       "stream": "stdout",
       "text": [
        "\n",
        "93802.0555298f\u00fcr einen makesmalldurchlauf"
       ]
      },
      {
       "output_type": "stream",
       "stream": "stdout",
       "text": [
        "\n",
        "93825.8711588f\u00fcr einen makesmalldurchlauf"
       ]
      },
      {
       "output_type": "stream",
       "stream": "stdout",
       "text": [
        "\n",
        "93850.2568338f\u00fcr einen makesmalldurchlauf"
       ]
      },
      {
       "output_type": "stream",
       "stream": "stdout",
       "text": [
        "\n",
        "93873.5245059f\u00fcr einen makesmalldurchlauf"
       ]
      },
      {
       "output_type": "stream",
       "stream": "stdout",
       "text": [
        "\n",
        "93895.9007289f\u00fcr einen makesmalldurchlauf"
       ]
      },
      {
       "output_type": "stream",
       "stream": "stdout",
       "text": [
        "\n",
        "93919.1645658f\u00fcr einen makesmalldurchlauf"
       ]
      },
      {
       "output_type": "stream",
       "stream": "stdout",
       "text": [
        "\n",
        "93942.6135738f\u00fcr einen makesmalldurchlauf"
       ]
      },
      {
       "output_type": "stream",
       "stream": "stdout",
       "text": [
        "\n",
        "93965.200902f\u00fcr einen makesmalldurchlauf"
       ]
      },
      {
       "output_type": "stream",
       "stream": "stdout",
       "text": [
        "\n",
        "93987.1544659f\u00fcr einen makesmalldurchlauf"
       ]
      },
      {
       "output_type": "stream",
       "stream": "stdout",
       "text": [
        "\n",
        "94009.618412f\u00fcr einen makesmalldurchlauf"
       ]
      },
      {
       "output_type": "stream",
       "stream": "stdout",
       "text": [
        "\n",
        "94032.7485089f\u00fcr einen makesmalldurchlauf"
       ]
      },
      {
       "output_type": "stream",
       "stream": "stdout",
       "text": [
        "\n",
        "94055.8754559f\u00fcr einen makesmalldurchlauf"
       ]
      },
      {
       "output_type": "stream",
       "stream": "stdout",
       "text": [
        "\n",
        "94079.1953158f\u00fcr einen makesmalldurchlauf"
       ]
      },
      {
       "output_type": "stream",
       "stream": "stdout",
       "text": [
        "\n",
        "94102.9936268f\u00fcr einen makesmalldurchlauf"
       ]
      },
      {
       "output_type": "stream",
       "stream": "stdout",
       "text": [
        "\n",
        "94127.084038f\u00fcr einen makesmalldurchlauf"
       ]
      },
      {
       "output_type": "stream",
       "stream": "stdout",
       "text": [
        "\n",
        "94150.911134f\u00fcr einen makesmalldurchlauf"
       ]
      },
      {
       "output_type": "stream",
       "stream": "stdout",
       "text": [
        "\n",
        "94174.3907318f\u00fcr einen makesmalldurchlauf"
       ]
      },
      {
       "output_type": "stream",
       "stream": "stdout",
       "text": [
        "\n",
        "94197.188988f\u00fcr einen makesmalldurchlauf"
       ]
      },
      {
       "output_type": "stream",
       "stream": "stdout",
       "text": [
        "\n",
        "94219.804729f\u00fcr einen makesmalldurchlauf"
       ]
      },
      {
       "output_type": "stream",
       "stream": "stdout",
       "text": [
        "\n",
        "94242.506382f\u00fcr einen makesmalldurchlauf"
       ]
      },
      {
       "output_type": "stream",
       "stream": "stdout",
       "text": [
        "\n",
        "94264.645756f\u00fcr einen makesmalldurchlauf"
       ]
      },
      {
       "output_type": "stream",
       "stream": "stdout",
       "text": [
        "\n",
        "94286.6930008f\u00fcr einen makesmalldurchlauf"
       ]
      },
      {
       "output_type": "stream",
       "stream": "stdout",
       "text": [
        "\n",
        "94308.9465828f\u00fcr einen makesmalldurchlauf"
       ]
      },
      {
       "output_type": "stream",
       "stream": "stdout",
       "text": [
        "\n",
        "94331.4322178f\u00fcr einen makesmalldurchlauf"
       ]
      },
      {
       "output_type": "stream",
       "stream": "stdout",
       "text": [
        "\n",
        "94354.277669f\u00fcr einen makesmalldurchlauf"
       ]
      },
      {
       "output_type": "stream",
       "stream": "stdout",
       "text": [
        "\n",
        "94376.511384f\u00fcr einen makesmalldurchlauf"
       ]
      },
      {
       "output_type": "stream",
       "stream": "stdout",
       "text": [
        "\n",
        "94399.5962329f\u00fcr einen makesmalldurchlauf"
       ]
      },
      {
       "output_type": "stream",
       "stream": "stdout",
       "text": [
        "\n",
        "94422.6941428f\u00fcr einen makesmalldurchlauf"
       ]
      },
      {
       "output_type": "stream",
       "stream": "stdout",
       "text": [
        "\n",
        "94445.6198628f\u00fcr einen makesmalldurchlauf"
       ]
      },
      {
       "output_type": "stream",
       "stream": "stdout",
       "text": [
        "\n",
        "94468.9087338f\u00fcr einen makesmalldurchlauf"
       ]
      },
      {
       "output_type": "stream",
       "stream": "stdout",
       "text": [
        "\n",
        "94491.7228129f\u00fcr einen makesmalldurchlauf"
       ]
      },
      {
       "output_type": "stream",
       "stream": "stdout",
       "text": [
        "\n",
        "94514.374187f\u00fcr einen makesmalldurchlauf"
       ]
      },
      {
       "output_type": "stream",
       "stream": "stdout",
       "text": [
        "\n",
        "94537.4603958f\u00fcr einen makesmalldurchlauf"
       ]
      },
      {
       "output_type": "stream",
       "stream": "stdout",
       "text": [
        "\n",
        "94560.0775108f\u00fcr einen makesmalldurchlauf"
       ]
      },
      {
       "output_type": "stream",
       "stream": "stdout",
       "text": [
        "\n",
        "94582.6208529f\u00fcr einen makesmalldurchlauf"
       ]
      },
      {
       "output_type": "stream",
       "stream": "stdout",
       "text": [
        "\n",
        "94605.591676f\u00fcr einen makesmalldurchlauf"
       ]
      },
      {
       "output_type": "stream",
       "stream": "stdout",
       "text": [
        "\n",
        "94628.1789968f\u00fcr einen makesmalldurchlauf"
       ]
      },
      {
       "output_type": "stream",
       "stream": "stdout",
       "text": [
        "\n",
        "94651.517926f\u00fcr einen makesmalldurchlauf"
       ]
      },
      {
       "output_type": "stream",
       "stream": "stdout",
       "text": [
        "\n",
        "94674.1540549f\u00fcr einen makesmalldurchlauf"
       ]
      },
      {
       "output_type": "stream",
       "stream": "stdout",
       "text": [
        "\n",
        "94696.4702208f\u00fcr einen makesmalldurchlauf"
       ]
      },
      {
       "output_type": "stream",
       "stream": "stdout",
       "text": [
        "\n",
        "94719.9867899f\u00fcr einen makesmalldurchlauf"
       ]
      },
      {
       "output_type": "stream",
       "stream": "stdout",
       "text": [
        "\n",
        "94742.950752f\u00fcr einen makesmalldurchlauf"
       ]
      },
      {
       "output_type": "stream",
       "stream": "stdout",
       "text": [
        "\n",
        "94765.79916f\u00fcr einen makesmalldurchlauf"
       ]
      },
      {
       "output_type": "stream",
       "stream": "stdout",
       "text": [
        "\n",
        "94788.2758839f\u00fcr einen makesmalldurchlauf"
       ]
      },
      {
       "output_type": "stream",
       "stream": "stdout",
       "text": [
        "\n",
        "94810.9813018f\u00fcr einen makesmalldurchlauf"
       ]
      },
      {
       "output_type": "stream",
       "stream": "stdout",
       "text": [
        "\n",
        "94834.0689869f\u00fcr einen makesmalldurchlauf"
       ]
      },
      {
       "output_type": "stream",
       "stream": "stdout",
       "text": [
        "\n",
        "94858.2106719f\u00fcr einen makesmalldurchlauf"
       ]
      },
      {
       "output_type": "stream",
       "stream": "stdout",
       "text": [
        "\n",
        "94881.411567f\u00fcr einen makesmalldurchlauf"
       ]
      },
      {
       "output_type": "stream",
       "stream": "stdout",
       "text": [
        "\n",
        "94904.4232948f\u00fcr einen makesmalldurchlauf"
       ]
      },
      {
       "output_type": "stream",
       "stream": "stdout",
       "text": [
        "\n",
        "94927.122134f\u00fcr einen makesmalldurchlauf"
       ]
      },
      {
       "output_type": "stream",
       "stream": "stdout",
       "text": [
        "\n",
        "94951.8037989f\u00fcr einen makesmalldurchlauf"
       ]
      },
      {
       "output_type": "stream",
       "stream": "stdout",
       "text": [
        "\n",
        "94976.2985158f\u00fcr einen makesmalldurchlauf"
       ]
      },
      {
       "output_type": "stream",
       "stream": "stdout",
       "text": [
        "\n",
        "94999.418381f\u00fcr einen makesmalldurchlauf"
       ]
      },
      {
       "output_type": "stream",
       "stream": "stdout",
       "text": [
        "\n",
        "95023.606308f\u00fcr einen makesmalldurchlauf"
       ]
      },
      {
       "output_type": "stream",
       "stream": "stdout",
       "text": [
        "\n",
        "95048.157558f\u00fcr einen makesmalldurchlauf"
       ]
      },
      {
       "output_type": "stream",
       "stream": "stdout",
       "text": [
        "\n",
        "95072.8578749f\u00fcr einen makesmalldurchlauf"
       ]
      },
      {
       "output_type": "stream",
       "stream": "stdout",
       "text": [
        "\n",
        "95095.1252539f\u00fcr einen makesmalldurchlauf"
       ]
      },
      {
       "output_type": "stream",
       "stream": "stdout",
       "text": [
        "\n",
        "95117.341265f\u00fcr einen makesmalldurchlauf"
       ]
      },
      {
       "output_type": "stream",
       "stream": "stdout",
       "text": [
        "\n",
        "95139.646606f\u00fcr einen makesmalldurchlauf"
       ]
      },
      {
       "output_type": "stream",
       "stream": "stdout",
       "text": [
        "\n",
        "95162.0242939f\u00fcr einen makesmalldurchlauf"
       ]
      },
      {
       "output_type": "stream",
       "stream": "stdout",
       "text": [
        "\n",
        "95184.3279078f\u00fcr einen makesmalldurchlauf"
       ]
      },
      {
       "output_type": "stream",
       "stream": "stdout",
       "text": [
        "\n",
        "95206.4806938f\u00fcr einen makesmalldurchlauf"
       ]
      },
      {
       "output_type": "stream",
       "stream": "stdout",
       "text": [
        "\n",
        "95228.7390959f\u00fcr einen makesmalldurchlauf"
       ]
      },
      {
       "output_type": "stream",
       "stream": "stdout",
       "text": [
        "\n",
        "95250.934232f\u00fcr einen makesmalldurchlauf"
       ]
      },
      {
       "output_type": "stream",
       "stream": "stdout",
       "text": [
        "\n",
        "95273.1074078f\u00fcr einen makesmalldurchlauf"
       ]
      },
      {
       "output_type": "stream",
       "stream": "stdout",
       "text": [
        "\n",
        "95295.380234f\u00fcr einen makesmalldurchlauf"
       ]
      },
      {
       "output_type": "stream",
       "stream": "stdout",
       "text": [
        "\n",
        "95317.5830979f\u00fcr einen makesmalldurchlauf"
       ]
      },
      {
       "output_type": "stream",
       "stream": "stdout",
       "text": [
        "\n",
        "95339.8088689f\u00fcr einen makesmalldurchlauf"
       ]
      },
      {
       "output_type": "stream",
       "stream": "stdout",
       "text": [
        "\n",
        "95362.010556f\u00fcr einen makesmalldurchlauf"
       ]
      },
      {
       "output_type": "stream",
       "stream": "stdout",
       "text": [
        "\n",
        "95384.1394238f\u00fcr einen makesmalldurchlauf"
       ]
      },
      {
       "output_type": "stream",
       "stream": "stdout",
       "text": [
        "\n",
        "95406.353941f\u00fcr einen makesmalldurchlauf"
       ]
      },
      {
       "output_type": "stream",
       "stream": "stdout",
       "text": [
        "\n",
        "95428.9713838f\u00fcr einen makesmalldurchlauf"
       ]
      },
      {
       "output_type": "stream",
       "stream": "stdout",
       "text": [
        "\n",
        "95451.0644848f\u00fcr einen makesmalldurchlauf"
       ]
      },
      {
       "output_type": "stream",
       "stream": "stdout",
       "text": [
        "\n",
        "95473.256351f\u00fcr einen makesmalldurchlauf"
       ]
      },
      {
       "output_type": "stream",
       "stream": "stdout",
       "text": [
        "\n",
        "95495.6242249f\u00fcr einen makesmalldurchlauf"
       ]
      },
      {
       "output_type": "stream",
       "stream": "stdout",
       "text": [
        "\n",
        "95517.7904139f\u00fcr einen makesmalldurchlauf"
       ]
      },
      {
       "output_type": "stream",
       "stream": "stdout",
       "text": [
        "\n",
        "95540.11482f\u00fcr einen makesmalldurchlauf"
       ]
      },
      {
       "output_type": "stream",
       "stream": "stdout",
       "text": [
        "\n",
        "95562.3158588f\u00fcr einen makesmalldurchlauf"
       ]
      },
      {
       "output_type": "stream",
       "stream": "stdout",
       "text": [
        "\n",
        "95584.42416f\u00fcr einen makesmalldurchlauf"
       ]
      },
      {
       "output_type": "stream",
       "stream": "stdout",
       "text": [
        "\n",
        "95606.8900099f\u00fcr einen makesmalldurchlauf"
       ]
      },
      {
       "output_type": "stream",
       "stream": "stdout",
       "text": [
        "\n",
        "95629.0747089f\u00fcr einen makesmalldurchlauf"
       ]
      },
      {
       "output_type": "stream",
       "stream": "stdout",
       "text": [
        "\n",
        "95651.2934248f\u00fcr einen makesmalldurchlauf"
       ]
      },
      {
       "output_type": "stream",
       "stream": "stdout",
       "text": [
        "\n",
        "95673.4922988f\u00fcr einen makesmalldurchlauf"
       ]
      },
      {
       "output_type": "stream",
       "stream": "stdout",
       "text": [
        "\n",
        "95695.7446349f\u00fcr einen makesmalldurchlauf"
       ]
      },
      {
       "output_type": "stream",
       "stream": "stdout",
       "text": [
        "\n",
        "95718.1438758f\u00fcr einen makesmalldurchlauf"
       ]
      },
      {
       "output_type": "stream",
       "stream": "stdout",
       "text": [
        "\n",
        "95740.73225f\u00fcr einen makesmalldurchlauf"
       ]
      },
      {
       "output_type": "stream",
       "stream": "stdout",
       "text": [
        "\n",
        "95763.072927f\u00fcr einen makesmalldurchlauf"
       ]
      },
      {
       "output_type": "stream",
       "stream": "stdout",
       "text": [
        "\n",
        "95785.3241968f\u00fcr einen makesmalldurchlauf"
       ]
      },
      {
       "output_type": "stream",
       "stream": "stdout",
       "text": [
        "\n",
        "95807.7061658f\u00fcr einen makesmalldurchlauf"
       ]
      },
      {
       "output_type": "stream",
       "stream": "stdout",
       "text": [
        "\n",
        "95830.7077949f\u00fcr einen makesmalldurchlauf"
       ]
      },
      {
       "output_type": "stream",
       "stream": "stdout",
       "text": [
        "\n",
        "95853.4106679f\u00fcr einen makesmalldurchlauf"
       ]
      },
      {
       "output_type": "stream",
       "stream": "stdout",
       "text": [
        "\n",
        "95875.8742819f\u00fcr einen makesmalldurchlauf"
       ]
      },
      {
       "output_type": "stream",
       "stream": "stdout",
       "text": [
        "\n",
        "95898.2138209f\u00fcr einen makesmalldurchlauf"
       ]
      },
      {
       "output_type": "stream",
       "stream": "stdout",
       "text": [
        "\n",
        "95920.6574209f\u00fcr einen makesmalldurchlauf"
       ]
      },
      {
       "output_type": "stream",
       "stream": "stdout",
       "text": [
        "\n",
        "95943.13343f\u00fcr einen makesmalldurchlauf"
       ]
      },
      {
       "output_type": "stream",
       "stream": "stdout",
       "text": [
        "\n",
        "95965.6290119f\u00fcr einen makesmalldurchlauf"
       ]
      },
      {
       "output_type": "stream",
       "stream": "stdout",
       "text": [
        "\n",
        "95988.0453298f\u00fcr einen makesmalldurchlauf"
       ]
      },
      {
       "output_type": "stream",
       "stream": "stdout",
       "text": [
        "\n",
        "96010.4325719f\u00fcr einen makesmalldurchlauf"
       ]
      },
      {
       "output_type": "stream",
       "stream": "stdout",
       "text": [
        "\n",
        "96032.8866808f\u00fcr einen makesmalldurchlauf"
       ]
      },
      {
       "output_type": "stream",
       "stream": "stdout",
       "text": [
        "\n",
        "96055.3533199f\u00fcr einen makesmalldurchlauf"
       ]
      },
      {
       "output_type": "stream",
       "stream": "stdout",
       "text": [
        "\n",
        "96077.8980918f\u00fcr einen makesmalldurchlauf"
       ]
      },
      {
       "output_type": "stream",
       "stream": "stdout",
       "text": [
        "\n",
        "96100.3895168f\u00fcr einen makesmalldurchlauf"
       ]
      },
      {
       "output_type": "stream",
       "stream": "stdout",
       "text": [
        "\n",
        "96123.1364589f\u00fcr einen makesmalldurchlauf"
       ]
      },
      {
       "output_type": "stream",
       "stream": "stdout",
       "text": [
        "\n",
        "96145.588732f\u00fcr einen makesmalldurchlauf"
       ]
      },
      {
       "output_type": "stream",
       "stream": "stdout",
       "text": [
        "\n",
        "96168.1064868f\u00fcr einen makesmalldurchlauf"
       ]
      },
      {
       "output_type": "stream",
       "stream": "stdout",
       "text": [
        "\n",
        "96190.5050049f\u00fcr einen makesmalldurchlauf"
       ]
      },
      {
       "output_type": "stream",
       "stream": "stdout",
       "text": [
        "\n",
        "96212.8959739f\u00fcr einen makesmalldurchlauf"
       ]
      },
      {
       "output_type": "stream",
       "stream": "stdout",
       "text": [
        "\n",
        "96235.266151f\u00fcr einen makesmalldurchlauf"
       ]
      },
      {
       "output_type": "stream",
       "stream": "stdout",
       "text": [
        "\n",
        "96257.9965088f\u00fcr einen makesmalldurchlauf"
       ]
      },
      {
       "output_type": "stream",
       "stream": "stdout",
       "text": [
        "\n",
        "96280.3638048f\u00fcr einen makesmalldurchlauf"
       ]
      },
      {
       "output_type": "stream",
       "stream": "stdout",
       "text": [
        "\n",
        "96302.7658339f\u00fcr einen makesmalldurchlauf"
       ]
      },
      {
       "output_type": "stream",
       "stream": "stdout",
       "text": [
        "\n",
        "96325.1092598f\u00fcr einen makesmalldurchlauf"
       ]
      },
      {
       "output_type": "stream",
       "stream": "stdout",
       "text": [
        "\n",
        "96347.449239f\u00fcr einen makesmalldurchlauf"
       ]
      },
      {
       "output_type": "stream",
       "stream": "stdout",
       "text": [
        "\n",
        "96369.715168f\u00fcr einen makesmalldurchlauf"
       ]
      },
      {
       "output_type": "stream",
       "stream": "stdout",
       "text": [
        "\n",
        "96391.9916699f\u00fcr einen makesmalldurchlauf"
       ]
      },
      {
       "output_type": "stream",
       "stream": "stdout",
       "text": [
        "\n",
        "96414.2536058f\u00fcr einen makesmalldurchlauf"
       ]
      },
      {
       "output_type": "stream",
       "stream": "stdout",
       "text": [
        "\n",
        "96436.5758879f\u00fcr einen makesmalldurchlauf"
       ]
      },
      {
       "output_type": "stream",
       "stream": "stdout",
       "text": [
        "\n",
        "96458.982661f\u00fcr einen makesmalldurchlauf"
       ]
      },
      {
       "output_type": "stream",
       "stream": "stdout",
       "text": [
        "\n",
        "96481.2393138f\u00fcr einen makesmalldurchlauf"
       ]
      },
      {
       "output_type": "stream",
       "stream": "stdout",
       "text": [
        "\n",
        "96503.7894218f\u00fcr einen makesmalldurchlauf"
       ]
      },
      {
       "output_type": "stream",
       "stream": "stdout",
       "text": [
        "\n",
        "96526.2271168f\u00fcr einen makesmalldurchlauf"
       ]
      },
      {
       "output_type": "stream",
       "stream": "stdout",
       "text": [
        "\n",
        "96548.610646f\u00fcr einen makesmalldurchlauf"
       ]
      },
      {
       "output_type": "stream",
       "stream": "stdout",
       "text": [
        "\n",
        "96570.94731f\u00fcr einen makesmalldurchlauf"
       ]
      },
      {
       "output_type": "stream",
       "stream": "stdout",
       "text": [
        "\n",
        "96593.219543f\u00fcr einen makesmalldurchlauf"
       ]
      },
      {
       "output_type": "stream",
       "stream": "stdout",
       "text": [
        "\n",
        "96615.424367f\u00fcr einen makesmalldurchlauf"
       ]
      },
      {
       "output_type": "stream",
       "stream": "stdout",
       "text": [
        "\n",
        "96637.757509f\u00fcr einen makesmalldurchlauf"
       ]
      },
      {
       "output_type": "stream",
       "stream": "stdout",
       "text": [
        "\n",
        "96660.295445f\u00fcr einen makesmalldurchlauf"
       ]
      },
      {
       "output_type": "stream",
       "stream": "stdout",
       "text": [
        "\n",
        "96682.634923f\u00fcr einen makesmalldurchlauf"
       ]
      },
      {
       "output_type": "stream",
       "stream": "stdout",
       "text": [
        "\n",
        "96705.0208938f\u00fcr einen makesmalldurchlauf"
       ]
      },
      {
       "output_type": "stream",
       "stream": "stdout",
       "text": [
        "\n",
        "96727.27526f\u00fcr einen makesmalldurchlauf"
       ]
      },
      {
       "output_type": "stream",
       "stream": "stdout",
       "text": [
        "\n",
        "96749.7861769f\u00fcr einen makesmalldurchlauf"
       ]
      },
      {
       "output_type": "stream",
       "stream": "stdout",
       "text": [
        "\n",
        "96772.4985218f\u00fcr einen makesmalldurchlauf"
       ]
      },
      {
       "output_type": "stream",
       "stream": "stdout",
       "text": [
        "\n",
        "96796.724196f\u00fcr einen makesmalldurchlauf"
       ]
      },
      {
       "output_type": "stream",
       "stream": "stdout",
       "text": [
        "\n",
        "96821.4552119f\u00fcr einen makesmalldurchlauf"
       ]
      },
      {
       "output_type": "stream",
       "stream": "stdout",
       "text": [
        "\n",
        "96847.3954928f\u00fcr einen makesmalldurchlauf"
       ]
      },
      {
       "output_type": "stream",
       "stream": "stdout",
       "text": [
        "\n",
        "96870.321105f\u00fcr einen makesmalldurchlauf"
       ]
      },
      {
       "output_type": "stream",
       "stream": "stdout",
       "text": [
        "\n",
        "96892.528461f\u00fcr einen makesmalldurchlauf"
       ]
      },
      {
       "output_type": "stream",
       "stream": "stdout",
       "text": [
        "\n",
        "96914.9009678f\u00fcr einen makesmalldurchlauf"
       ]
      },
      {
       "output_type": "stream",
       "stream": "stdout",
       "text": [
        "\n",
        "96937.3880749f\u00fcr einen makesmalldurchlauf"
       ]
      },
      {
       "output_type": "stream",
       "stream": "stdout",
       "text": [
        "\n",
        "96959.6909778f\u00fcr einen makesmalldurchlauf"
       ]
      },
      {
       "output_type": "stream",
       "stream": "stdout",
       "text": [
        "\n",
        "96981.9346619f\u00fcr einen makesmalldurchlauf"
       ]
      },
      {
       "output_type": "stream",
       "stream": "stdout",
       "text": [
        "\n",
        "97004.316335f\u00fcr einen makesmalldurchlauf"
       ]
      },
      {
       "output_type": "stream",
       "stream": "stdout",
       "text": [
        "\n",
        "97026.8437009f\u00fcr einen makesmalldurchlauf"
       ]
      },
      {
       "output_type": "stream",
       "stream": "stdout",
       "text": [
        "\n",
        "97049.016047f\u00fcr einen makesmalldurchlauf"
       ]
      },
      {
       "output_type": "stream",
       "stream": "stdout",
       "text": [
        "\n",
        "97071.4091408f\u00fcr einen makesmalldurchlauf"
       ]
      },
      {
       "output_type": "stream",
       "stream": "stdout",
       "text": [
        "\n",
        "97093.686723f\u00fcr einen makesmalldurchlauf"
       ]
      },
      {
       "output_type": "stream",
       "stream": "stdout",
       "text": [
        "\n",
        "97115.9260838f\u00fcr einen makesmalldurchlauf"
       ]
      },
      {
       "output_type": "stream",
       "stream": "stdout",
       "text": [
        "\n",
        "97138.0580049f\u00fcr einen makesmalldurchlauf"
       ]
      },
      {
       "output_type": "stream",
       "stream": "stdout",
       "text": [
        "\n",
        "97160.217798f\u00fcr einen makesmalldurchlauf"
       ]
      },
      {
       "output_type": "stream",
       "stream": "stdout",
       "text": [
        "\n",
        "97182.5284979f\u00fcr einen makesmalldurchlauf"
       ]
      },
      {
       "output_type": "stream",
       "stream": "stdout",
       "text": [
        "\n",
        "97204.762445f\u00fcr einen makesmalldurchlauf"
       ]
      },
      {
       "output_type": "stream",
       "stream": "stdout",
       "text": [
        "\n",
        "97226.8284469f\u00fcr einen makesmalldurchlauf"
       ]
      },
      {
       "output_type": "stream",
       "stream": "stdout",
       "text": [
        "\n",
        "97249.049716f\u00fcr einen makesmalldurchlauf"
       ]
      },
      {
       "output_type": "stream",
       "stream": "stdout",
       "text": [
        "\n",
        "97271.2471738f\u00fcr einen makesmalldurchlauf"
       ]
      },
      {
       "output_type": "stream",
       "stream": "stdout",
       "text": [
        "\n",
        "97293.7749238f\u00fcr einen makesmalldurchlauf"
       ]
      },
      {
       "output_type": "stream",
       "stream": "stdout",
       "text": [
        "\n",
        "97317.4715469f\u00fcr einen makesmalldurchlauf"
       ]
      },
      {
       "output_type": "stream",
       "stream": "stdout",
       "text": [
        "\n",
        "97340.059232f\u00fcr einen makesmalldurchlauf"
       ]
      },
      {
       "output_type": "stream",
       "stream": "stdout",
       "text": [
        "\n",
        "97362.358027f\u00fcr einen makesmalldurchlauf"
       ]
      },
      {
       "output_type": "stream",
       "stream": "stdout",
       "text": [
        "\n",
        "97384.5808859f\u00fcr einen makesmalldurchlauf"
       ]
      },
      {
       "output_type": "stream",
       "stream": "stdout",
       "text": [
        "\n",
        "97406.7661798f\u00fcr einen makesmalldurchlauf"
       ]
      },
      {
       "output_type": "stream",
       "stream": "stdout",
       "text": [
        "\n",
        "97428.9783359f\u00fcr einen makesmalldurchlauf"
       ]
      },
      {
       "output_type": "stream",
       "stream": "stdout",
       "text": [
        "\n",
        "97451.7596798f\u00fcr einen makesmalldurchlauf"
       ]
      },
      {
       "output_type": "stream",
       "stream": "stdout",
       "text": [
        "\n",
        "97474.2182219f\u00fcr einen makesmalldurchlauf"
       ]
      },
      {
       "output_type": "stream",
       "stream": "stdout",
       "text": [
        "\n",
        "97496.5059519f\u00fcr einen makesmalldurchlauf"
       ]
      },
      {
       "output_type": "stream",
       "stream": "stdout",
       "text": [
        "\n",
        "97519.1058359f\u00fcr einen makesmalldurchlauf"
       ]
      },
      {
       "output_type": "stream",
       "stream": "stdout",
       "text": [
        "\n",
        "97541.2719119f\u00fcr einen makesmalldurchlauf"
       ]
      },
      {
       "output_type": "stream",
       "stream": "stdout",
       "text": [
        "\n",
        "97563.611146f\u00fcr einen makesmalldurchlauf"
       ]
      },
      {
       "output_type": "stream",
       "stream": "stdout",
       "text": [
        "\n",
        "97586.050251f\u00fcr einen makesmalldurchlauf"
       ]
      },
      {
       "output_type": "stream",
       "stream": "stdout",
       "text": [
        "\n",
        "97608.784652f\u00fcr einen makesmalldurchlauf"
       ]
      },
      {
       "output_type": "stream",
       "stream": "stdout",
       "text": [
        "\n",
        "97632.6061878f\u00fcr einen makesmalldurchlauf"
       ]
      },
      {
       "output_type": "stream",
       "stream": "stdout",
       "text": [
        "\n",
        "97656.7343478f\u00fcr einen makesmalldurchlauf"
       ]
      },
      {
       "output_type": "stream",
       "stream": "stdout",
       "text": [
        "\n",
        "97679.580914f\u00fcr einen makesmalldurchlauf"
       ]
      },
      {
       "output_type": "stream",
       "stream": "stdout",
       "text": [
        "\n",
        "97701.6710639f\u00fcr einen makesmalldurchlauf"
       ]
      },
      {
       "output_type": "stream",
       "stream": "stdout",
       "text": [
        "\n",
        "97723.721982f\u00fcr einen makesmalldurchlauf"
       ]
      },
      {
       "output_type": "stream",
       "stream": "stdout",
       "text": [
        "\n",
        "97745.840734f\u00fcr einen makesmalldurchlauf"
       ]
      },
      {
       "output_type": "stream",
       "stream": "stdout",
       "text": [
        "\n",
        "97767.8480289f\u00fcr einen makesmalldurchlauf"
       ]
      },
      {
       "output_type": "stream",
       "stream": "stdout",
       "text": [
        "\n",
        "97789.9108129f\u00fcr einen makesmalldurchlauf"
       ]
      },
      {
       "output_type": "stream",
       "stream": "stdout",
       "text": [
        "\n",
        "97811.9387488f\u00fcr einen makesmalldurchlauf"
       ]
      },
      {
       "output_type": "stream",
       "stream": "stdout",
       "text": [
        "\n",
        "97833.9634929f\u00fcr einen makesmalldurchlauf"
       ]
      },
      {
       "output_type": "stream",
       "stream": "stdout",
       "text": [
        "\n",
        "97857.1668148f\u00fcr einen makesmalldurchlauf"
       ]
      },
      {
       "output_type": "stream",
       "stream": "stdout",
       "text": [
        "\n",
        "97879.492281f\u00fcr einen makesmalldurchlauf"
       ]
      },
      {
       "output_type": "stream",
       "stream": "stdout",
       "text": [
        "\n",
        "97901.7282369f\u00fcr einen makesmalldurchlauf"
       ]
      },
      {
       "output_type": "stream",
       "stream": "stdout",
       "text": [
        "\n",
        "97924.382632f\u00fcr einen makesmalldurchlauf"
       ]
      },
      {
       "output_type": "stream",
       "stream": "stdout",
       "text": [
        "\n",
        "97948.9094739f\u00fcr einen makesmalldurchlauf"
       ]
      },
      {
       "output_type": "stream",
       "stream": "stdout",
       "text": [
        "\n",
        "97972.11041f\u00fcr einen makesmalldurchlauf"
       ]
      },
      {
       "output_type": "stream",
       "stream": "stdout",
       "text": [
        "\n",
        "97996.3335619f\u00fcr einen makesmalldurchlauf"
       ]
      },
      {
       "output_type": "stream",
       "stream": "stdout",
       "text": [
        "\n",
        "98019.9521899f\u00fcr einen makesmalldurchlauf"
       ]
      },
      {
       "output_type": "stream",
       "stream": "stdout",
       "text": [
        "\n",
        "98042.3234079f\u00fcr einen makesmalldurchlauf"
       ]
      },
      {
       "output_type": "stream",
       "stream": "stdout",
       "text": [
        "\n",
        "98065.1796939f\u00fcr einen makesmalldurchlauf"
       ]
      },
      {
       "output_type": "stream",
       "stream": "stdout",
       "text": [
        "\n",
        "98087.394917f\u00fcr einen makesmalldurchlauf"
       ]
      },
      {
       "output_type": "stream",
       "stream": "stdout",
       "text": [
        "\n",
        "98109.816983f\u00fcr einen makesmalldurchlauf"
       ]
      },
      {
       "output_type": "stream",
       "stream": "stdout",
       "text": [
        "\n",
        "98132.0580769f\u00fcr einen makesmalldurchlauf"
       ]
      },
      {
       "output_type": "stream",
       "stream": "stdout",
       "text": [
        "\n",
        "98154.2794979f\u00fcr einen makesmalldurchlauf"
       ]
      },
      {
       "output_type": "stream",
       "stream": "stdout",
       "text": [
        "\n",
        "98176.4357598f\u00fcr einen makesmalldurchlauf"
       ]
      },
      {
       "output_type": "stream",
       "stream": "stdout",
       "text": [
        "\n",
        "98199.1957879f\u00fcr einen makesmalldurchlauf"
       ]
      },
      {
       "output_type": "stream",
       "stream": "stdout",
       "text": [
        "\n",
        "98222.2638519f\u00fcr einen makesmalldurchlauf"
       ]
      },
      {
       "output_type": "stream",
       "stream": "stdout",
       "text": [
        "\n",
        "98245.4050448f\u00fcr einen makesmalldurchlauf"
       ]
      },
      {
       "output_type": "stream",
       "stream": "stdout",
       "text": [
        "\n",
        "98269.3169739f\u00fcr einen makesmalldurchlauf"
       ]
      },
      {
       "output_type": "stream",
       "stream": "stdout",
       "text": [
        "\n",
        "98293.5258639f\u00fcr einen makesmalldurchlauf"
       ]
      },
      {
       "output_type": "stream",
       "stream": "stdout",
       "text": [
        "\n",
        "98317.408829f\u00fcr einen makesmalldurchlauf"
       ]
      },
      {
       "output_type": "stream",
       "stream": "stdout",
       "text": [
        "\n",
        "98340.0906248f\u00fcr einen makesmalldurchlauf"
       ]
      },
      {
       "output_type": "stream",
       "stream": "stdout",
       "text": [
        "\n",
        "98363.996933f\u00fcr einen makesmalldurchlauf"
       ]
      },
      {
       "output_type": "stream",
       "stream": "stdout",
       "text": [
        "\n",
        "98387.20873f\u00fcr einen makesmalldurchlauf"
       ]
      },
      {
       "output_type": "stream",
       "stream": "stdout",
       "text": [
        "\n",
        "98409.9168899f\u00fcr einen makesmalldurchlauf"
       ]
      },
      {
       "output_type": "stream",
       "stream": "stdout",
       "text": [
        "\n",
        "98433.1948538f\u00fcr einen makesmalldurchlauf"
       ]
      },
      {
       "output_type": "stream",
       "stream": "stdout",
       "text": [
        "\n",
        "98457.034313f\u00fcr einen makesmalldurchlauf"
       ]
      },
      {
       "output_type": "stream",
       "stream": "stdout",
       "text": [
        "\n",
        "98480.0879939f\u00fcr einen makesmalldurchlauf"
       ]
      },
      {
       "output_type": "stream",
       "stream": "stdout",
       "text": [
        "\n",
        "98503.2929139f\u00fcr einen makesmalldurchlauf"
       ]
      },
      {
       "output_type": "stream",
       "stream": "stdout",
       "text": [
        "\n",
        "98527.0192239f\u00fcr einen makesmalldurchlauf"
       ]
      },
      {
       "output_type": "stream",
       "stream": "stdout",
       "text": [
        "\n",
        "98550.0268459f\u00fcr einen makesmalldurchlauf"
       ]
      },
      {
       "output_type": "stream",
       "stream": "stdout",
       "text": [
        "\n",
        "98573.5901899f\u00fcr einen makesmalldurchlauf"
       ]
      },
      {
       "output_type": "stream",
       "stream": "stdout",
       "text": [
        "\n",
        "98596.761272f\u00fcr einen makesmalldurchlauf"
       ]
      },
      {
       "output_type": "stream",
       "stream": "stdout",
       "text": [
        "\n",
        "98620.350888f\u00fcr einen makesmalldurchlauf"
       ]
      },
      {
       "output_type": "stream",
       "stream": "stdout",
       "text": [
        "\n",
        "98643.0710869f\u00fcr einen makesmalldurchlauf"
       ]
      },
      {
       "output_type": "stream",
       "stream": "stdout",
       "text": [
        "\n",
        "98666.4113059f\u00fcr einen makesmalldurchlauf"
       ]
      },
      {
       "output_type": "stream",
       "stream": "stdout",
       "text": [
        "\n",
        "98690.1034448f\u00fcr einen makesmalldurchlauf"
       ]
      },
      {
       "output_type": "stream",
       "stream": "stdout",
       "text": [
        "\n",
        "98712.48294f\u00fcr einen makesmalldurchlauf"
       ]
      },
      {
       "output_type": "stream",
       "stream": "stdout",
       "text": [
        "\n",
        "98734.546304f\u00fcr einen makesmalldurchlauf"
       ]
      },
      {
       "output_type": "stream",
       "stream": "stdout",
       "text": [
        "\n",
        "98756.869211f\u00fcr einen makesmalldurchlauf"
       ]
      },
      {
       "output_type": "stream",
       "stream": "stdout",
       "text": [
        "\n",
        "98779.2592759f\u00fcr einen makesmalldurchlauf"
       ]
      },
      {
       "output_type": "stream",
       "stream": "stdout",
       "text": [
        "\n",
        "98801.8331568f\u00fcr einen makesmalldurchlauf"
       ]
      },
      {
       "output_type": "stream",
       "stream": "stdout",
       "text": [
        "\n",
        "98824.049191f\u00fcr einen makesmalldurchlauf"
       ]
      },
      {
       "output_type": "stream",
       "stream": "stdout",
       "text": [
        "\n",
        "98846.5250649f\u00fcr einen makesmalldurchlauf"
       ]
      },
      {
       "output_type": "stream",
       "stream": "stdout",
       "text": [
        "\n",
        "98869.1883838f\u00fcr einen makesmalldurchlauf"
       ]
      },
      {
       "output_type": "stream",
       "stream": "stdout",
       "text": [
        "\n",
        "98892.2873518f\u00fcr einen makesmalldurchlauf"
       ]
      },
      {
       "output_type": "stream",
       "stream": "stdout",
       "text": [
        "\n",
        "98915.1154249f\u00fcr einen makesmalldurchlauf"
       ]
      },
      {
       "output_type": "stream",
       "stream": "stdout",
       "text": [
        "\n",
        "98937.6866779f\u00fcr einen makesmalldurchlauf"
       ]
      },
      {
       "output_type": "stream",
       "stream": "stdout",
       "text": [
        "\n",
        "98960.2181439f\u00fcr einen makesmalldurchlauf"
       ]
      },
      {
       "output_type": "stream",
       "stream": "stdout",
       "text": [
        "\n",
        "98982.6758499f\u00fcr einen makesmalldurchlauf"
       ]
      },
      {
       "output_type": "stream",
       "stream": "stdout",
       "text": [
        "\n",
        "99005.0056009f\u00fcr einen makesmalldurchlauf"
       ]
      },
      {
       "output_type": "stream",
       "stream": "stdout",
       "text": [
        "\n",
        "99027.4198239f\u00fcr einen makesmalldurchlauf"
       ]
      },
      {
       "output_type": "stream",
       "stream": "stdout",
       "text": [
        "\n",
        "99050.0169358f\u00fcr einen makesmalldurchlauf"
       ]
      },
      {
       "output_type": "stream",
       "stream": "stdout",
       "text": [
        "\n",
        "99072.907686f\u00fcr einen makesmalldurchlauf"
       ]
      },
      {
       "output_type": "stream",
       "stream": "stdout",
       "text": [
        "\n",
        "99095.6927719f\u00fcr einen makesmalldurchlauf"
       ]
      },
      {
       "output_type": "stream",
       "stream": "stdout",
       "text": [
        "\n",
        "99118.1010809f\u00fcr einen makesmalldurchlauf"
       ]
      },
      {
       "output_type": "stream",
       "stream": "stdout",
       "text": [
        "\n",
        "99140.4713528f\u00fcr einen makesmalldurchlauf"
       ]
      },
      {
       "output_type": "stream",
       "stream": "stdout",
       "text": [
        "\n",
        "99162.4303999f\u00fcr einen makesmalldurchlauf"
       ]
      },
      {
       "output_type": "stream",
       "stream": "stdout",
       "text": [
        "\n",
        "99184.8449788f\u00fcr einen makesmalldurchlauf"
       ]
      },
      {
       "output_type": "stream",
       "stream": "stdout",
       "text": [
        "\n",
        "99207.252661f\u00fcr einen makesmalldurchlauf"
       ]
      },
      {
       "output_type": "stream",
       "stream": "stdout",
       "text": [
        "\n",
        "99229.790833f\u00fcr einen makesmalldurchlauf"
       ]
      },
      {
       "output_type": "stream",
       "stream": "stdout",
       "text": [
        "\n",
        "99252.8786788f\u00fcr einen makesmalldurchlauf"
       ]
      },
      {
       "output_type": "stream",
       "stream": "stdout",
       "text": [
        "\n",
        "99275.6780798f\u00fcr einen makesmalldurchlauf"
       ]
      },
      {
       "output_type": "stream",
       "stream": "stdout",
       "text": [
        "\n",
        "99298.7337229f\u00fcr einen makesmalldurchlauf"
       ]
      },
      {
       "output_type": "stream",
       "stream": "stdout",
       "text": [
        "\n",
        "99321.299165f\u00fcr einen makesmalldurchlauf"
       ]
      },
      {
       "output_type": "stream",
       "stream": "stdout",
       "text": [
        "\n",
        "99343.4928548f\u00fcr einen makesmalldurchlauf"
       ]
      },
      {
       "output_type": "stream",
       "stream": "stdout",
       "text": [
        "\n",
        "99365.612875f\u00fcr einen makesmalldurchlauf"
       ]
      },
      {
       "output_type": "stream",
       "stream": "stdout",
       "text": [
        "\n",
        "99387.6768019f\u00fcr einen makesmalldurchlauf"
       ]
      },
      {
       "output_type": "stream",
       "stream": "stdout",
       "text": [
        "\n",
        "99410.2003949f\u00fcr einen makesmalldurchlauf"
       ]
      },
      {
       "output_type": "stream",
       "stream": "stdout",
       "text": [
        "\n",
        "99432.3840828f\u00fcr einen makesmalldurchlauf"
       ]
      },
      {
       "output_type": "stream",
       "stream": "stdout",
       "text": [
        "\n",
        "99454.480031f\u00fcr einen makesmalldurchlauf"
       ]
      },
      {
       "output_type": "stream",
       "stream": "stdout",
       "text": [
        "\n",
        "99476.5435879f\u00fcr einen makesmalldurchlauf"
       ]
      },
      {
       "output_type": "stream",
       "stream": "stdout",
       "text": [
        "\n",
        "99498.5429418f\u00fcr einen makesmalldurchlauf"
       ]
      },
      {
       "output_type": "stream",
       "stream": "stdout",
       "text": [
        "\n",
        "99520.5610509f\u00fcr einen makesmalldurchlauf"
       ]
      },
      {
       "output_type": "stream",
       "stream": "stdout",
       "text": [
        "\n",
        "99542.7088969f\u00fcr einen makesmalldurchlauf"
       ]
      },
      {
       "output_type": "stream",
       "stream": "stdout",
       "text": [
        "\n",
        "99564.706084f\u00fcr einen makesmalldurchlauf"
       ]
      },
      {
       "output_type": "stream",
       "stream": "stdout",
       "text": [
        "\n",
        "99586.8173628f\u00fcr einen makesmalldurchlauf"
       ]
      },
      {
       "output_type": "stream",
       "stream": "stdout",
       "text": [
        "\n",
        "99609.02334f\u00fcr einen makesmalldurchlauf"
       ]
      },
      {
       "output_type": "stream",
       "stream": "stdout",
       "text": [
        "\n",
        "99631.4816258f\u00fcr einen makesmalldurchlauf"
       ]
      },
      {
       "output_type": "stream",
       "stream": "stdout",
       "text": [
        "\n",
        "99653.464397f\u00fcr einen makesmalldurchlauf"
       ]
      },
      {
       "output_type": "stream",
       "stream": "stdout",
       "text": [
        "\n",
        "99675.6938708f\u00fcr einen makesmalldurchlauf"
       ]
      },
      {
       "output_type": "stream",
       "stream": "stdout",
       "text": [
        "\n",
        "99697.7322509f\u00fcr einen makesmalldurchlauf"
       ]
      },
      {
       "output_type": "stream",
       "stream": "stdout",
       "text": [
        "\n",
        "99719.796844f\u00fcr einen makesmalldurchlauf"
       ]
      },
      {
       "output_type": "stream",
       "stream": "stdout",
       "text": [
        "\n",
        "99741.9574029f\u00fcr einen makesmalldurchlauf"
       ]
      },
      {
       "output_type": "stream",
       "stream": "stdout",
       "text": [
        "\n",
        "99764.0279338f\u00fcr einen makesmalldurchlauf"
       ]
      },
      {
       "output_type": "stream",
       "stream": "stdout",
       "text": [
        "\n",
        "99786.5282409f\u00fcr einen makesmalldurchlauf"
       ]
      },
      {
       "output_type": "stream",
       "stream": "stdout",
       "text": [
        "\n",
        "99809.2023599f\u00fcr einen makesmalldurchlauf"
       ]
      },
      {
       "output_type": "stream",
       "stream": "stdout",
       "text": [
        "\n",
        "99831.3079638f\u00fcr einen makesmalldurchlauf"
       ]
      },
      {
       "output_type": "stream",
       "stream": "stdout",
       "text": [
        "\n",
        "99853.2962408f\u00fcr einen makesmalldurchlauf"
       ]
      },
      {
       "output_type": "stream",
       "stream": "stdout",
       "text": [
        "\n",
        "99875.9540889f\u00fcr einen makesmalldurchlauf"
       ]
      },
      {
       "output_type": "stream",
       "stream": "stdout",
       "text": [
        "\n",
        "99898.64851f\u00fcr einen makesmalldurchlauf"
       ]
      },
      {
       "output_type": "stream",
       "stream": "stdout",
       "text": [
        "\n",
        "99922.19379f\u00fcr einen makesmalldurchlauf"
       ]
      },
      {
       "output_type": "stream",
       "stream": "stdout",
       "text": [
        "\n",
        "99945.6212468f\u00fcr einen makesmalldurchlauf"
       ]
      },
      {
       "output_type": "stream",
       "stream": "stdout",
       "text": [
        "\n",
        "99968.353951f\u00fcr einen makesmalldurchlauf"
       ]
      },
      {
       "output_type": "stream",
       "stream": "stdout",
       "text": [
        "\n",
        "99990.8083549f\u00fcr einen makesmalldurchlauf"
       ]
      },
      {
       "output_type": "stream",
       "stream": "stdout",
       "text": [
        "\n",
        "100014.052164f\u00fcr einen makesmalldurchlauf"
       ]
      },
      {
       "output_type": "stream",
       "stream": "stdout",
       "text": [
        "\n",
        "100036.706492f\u00fcr einen makesmalldurchlauf"
       ]
      },
      {
       "output_type": "stream",
       "stream": "stdout",
       "text": [
        "\n",
        "100059.681593f\u00fcr einen makesmalldurchlauf"
       ]
      },
      {
       "output_type": "stream",
       "stream": "stdout",
       "text": [
        "\n",
        "100082.579438f\u00fcr einen makesmalldurchlauf"
       ]
      },
      {
       "output_type": "stream",
       "stream": "stdout",
       "text": [
        "\n",
        "100105.455894f\u00fcr einen makesmalldurchlauf"
       ]
      },
      {
       "output_type": "stream",
       "stream": "stdout",
       "text": [
        "\n",
        "100128.274553f\u00fcr einen makesmalldurchlauf"
       ]
      },
      {
       "output_type": "stream",
       "stream": "stdout",
       "text": [
        "\n",
        "100150.964609f\u00fcr einen makesmalldurchlauf"
       ]
      },
      {
       "output_type": "stream",
       "stream": "stdout",
       "text": [
        "\n",
        "100173.636646f\u00fcr einen makesmalldurchlauf"
       ]
      },
      {
       "output_type": "stream",
       "stream": "stdout",
       "text": [
        "\n",
        "100196.680883f\u00fcr einen makesmalldurchlauf"
       ]
      },
      {
       "output_type": "stream",
       "stream": "stdout",
       "text": [
        "\n",
        "100220.475837f\u00fcr einen makesmalldurchlauf"
       ]
      },
      {
       "output_type": "stream",
       "stream": "stdout",
       "text": [
        "\n",
        "100243.238136f\u00fcr einen makesmalldurchlauf"
       ]
      },
      {
       "output_type": "stream",
       "stream": "stdout",
       "text": [
        "\n",
        "100265.903412f\u00fcr einen makesmalldurchlauf"
       ]
      },
      {
       "output_type": "stream",
       "stream": "stdout",
       "text": [
        "\n",
        "100288.182114f\u00fcr einen makesmalldurchlauf"
       ]
      },
      {
       "output_type": "stream",
       "stream": "stdout",
       "text": [
        "\n",
        "100310.272732f\u00fcr einen makesmalldurchlauf"
       ]
      },
      {
       "output_type": "stream",
       "stream": "stdout",
       "text": [
        "\n",
        "100332.310528f\u00fcr einen makesmalldurchlauf"
       ]
      },
      {
       "output_type": "stream",
       "stream": "stdout",
       "text": [
        "\n",
        "100354.390121f\u00fcr einen makesmalldurchlauf"
       ]
      },
      {
       "output_type": "stream",
       "stream": "stdout",
       "text": [
        "\n",
        "100376.425506f\u00fcr einen makesmalldurchlauf"
       ]
      },
      {
       "output_type": "stream",
       "stream": "stdout",
       "text": [
        "\n",
        "100398.458352f\u00fcr einen makesmalldurchlauf"
       ]
      },
      {
       "output_type": "stream",
       "stream": "stdout",
       "text": [
        "\n",
        "100420.623987f\u00fcr einen makesmalldurchlauf"
       ]
      },
      {
       "output_type": "stream",
       "stream": "stdout",
       "text": [
        "\n",
        "100442.604865f\u00fcr einen makesmalldurchlauf"
       ]
      },
      {
       "output_type": "stream",
       "stream": "stdout",
       "text": [
        "\n",
        "100465.28634f\u00fcr einen makesmalldurchlauf"
       ]
      },
      {
       "output_type": "stream",
       "stream": "stdout",
       "text": [
        "\n",
        "100488.888274f\u00fcr einen makesmalldurchlauf"
       ]
      },
      {
       "output_type": "stream",
       "stream": "stdout",
       "text": [
        "\n",
        "100511.24781f\u00fcr einen makesmalldurchlauf"
       ]
      },
      {
       "output_type": "stream",
       "stream": "stdout",
       "text": [
        "\n",
        "100533.750121f\u00fcr einen makesmalldurchlauf"
       ]
      },
      {
       "output_type": "stream",
       "stream": "stdout",
       "text": [
        "\n",
        "100556.502312f\u00fcr einen makesmalldurchlauf"
       ]
      },
      {
       "output_type": "stream",
       "stream": "stdout",
       "text": [
        "\n",
        "100578.633815f\u00fcr einen makesmalldurchlauf"
       ]
      },
      {
       "output_type": "stream",
       "stream": "stdout",
       "text": [
        "\n",
        "100600.953169f\u00fcr einen makesmalldurchlauf"
       ]
      },
      {
       "output_type": "stream",
       "stream": "stdout",
       "text": [
        "\n",
        "100623.531071f\u00fcr einen makesmalldurchlauf"
       ]
      },
      {
       "output_type": "stream",
       "stream": "stdout",
       "text": [
        "\n",
        "100645.502952f\u00fcr einen makesmalldurchlauf"
       ]
      },
      {
       "output_type": "stream",
       "stream": "stdout",
       "text": [
        "\n",
        "100667.539238f\u00fcr einen makesmalldurchlauf"
       ]
      },
      {
       "output_type": "stream",
       "stream": "stdout",
       "text": [
        "\n",
        "100689.587614f\u00fcr einen makesmalldurchlauf"
       ]
      },
      {
       "output_type": "stream",
       "stream": "stdout",
       "text": [
        "\n",
        "100711.71422f\u00fcr einen makesmalldurchlauf"
       ]
      },
      {
       "output_type": "stream",
       "stream": "stdout",
       "text": [
        "\n",
        "100733.788752f\u00fcr einen makesmalldurchlauf"
       ]
      },
      {
       "output_type": "stream",
       "stream": "stdout",
       "text": [
        "\n",
        "100755.985368f\u00fcr einen makesmalldurchlauf"
       ]
      },
      {
       "output_type": "stream",
       "stream": "stdout",
       "text": [
        "\n",
        "100778.330986f\u00fcr einen makesmalldurchlauf"
       ]
      },
      {
       "output_type": "stream",
       "stream": "stdout",
       "text": [
        "\n",
        "100801.164857f\u00fcr einen makesmalldurchlauf"
       ]
      },
      {
       "output_type": "stream",
       "stream": "stdout",
       "text": [
        "\n",
        "100824.477085f\u00fcr einen makesmalldurchlauf"
       ]
      },
      {
       "output_type": "stream",
       "stream": "stdout",
       "text": [
        "\n",
        "100846.977883f\u00fcr einen makesmalldurchlauf"
       ]
      },
      {
       "output_type": "stream",
       "stream": "stdout",
       "text": [
        "\n",
        "100869.481841f\u00fcr einen makesmalldurchlauf"
       ]
      },
      {
       "output_type": "stream",
       "stream": "stdout",
       "text": [
        "\n",
        "100892.218637f\u00fcr einen makesmalldurchlauf"
       ]
      },
      {
       "output_type": "stream",
       "stream": "stdout",
       "text": [
        "\n",
        "100914.635277f\u00fcr einen makesmalldurchlauf"
       ]
      },
      {
       "output_type": "stream",
       "stream": "stdout",
       "text": [
        "\n",
        "100936.753703f\u00fcr einen makesmalldurchlauf"
       ]
      },
      {
       "output_type": "stream",
       "stream": "stdout",
       "text": [
        "\n",
        "100958.804737f\u00fcr einen makesmalldurchlauf"
       ]
      },
      {
       "output_type": "stream",
       "stream": "stdout",
       "text": [
        "\n",
        "100980.947139f\u00fcr einen makesmalldurchlauf"
       ]
      },
      {
       "output_type": "stream",
       "stream": "stdout",
       "text": [
        "\n",
        "101002.999862f\u00fcr einen makesmalldurchlauf"
       ]
      },
      {
       "output_type": "stream",
       "stream": "stdout",
       "text": [
        "\n",
        "101025.070089f\u00fcr einen makesmalldurchlauf"
       ]
      },
      {
       "output_type": "stream",
       "stream": "stdout",
       "text": [
        "\n",
        "101047.244234f\u00fcr einen makesmalldurchlauf"
       ]
      },
      {
       "output_type": "stream",
       "stream": "stdout",
       "text": [
        "\n",
        "101069.335117f\u00fcr einen makesmalldurchlauf"
       ]
      },
      {
       "output_type": "stream",
       "stream": "stdout",
       "text": [
        "\n",
        "101091.38433f\u00fcr einen makesmalldurchlauf"
       ]
      },
      {
       "output_type": "stream",
       "stream": "stdout",
       "text": [
        "\n",
        "101114.369129f\u00fcr einen makesmalldurchlauf"
       ]
      },
      {
       "output_type": "stream",
       "stream": "stdout",
       "text": [
        "\n",
        "101136.534875f\u00fcr einen makesmalldurchlauf"
       ]
      },
      {
       "output_type": "stream",
       "stream": "stdout",
       "text": [
        "\n",
        "101158.879825f\u00fcr einen makesmalldurchlauf"
       ]
      },
      {
       "output_type": "stream",
       "stream": "stdout",
       "text": [
        "\n",
        "101181.067675f\u00fcr einen makesmalldurchlauf"
       ]
      },
      {
       "output_type": "stream",
       "stream": "stdout",
       "text": [
        "\n",
        "101203.704612f\u00fcr einen makesmalldurchlauf"
       ]
      },
      {
       "output_type": "stream",
       "stream": "stdout",
       "text": [
        "\n",
        "101226.760565f\u00fcr einen makesmalldurchlauf"
       ]
      },
      {
       "output_type": "stream",
       "stream": "stdout",
       "text": [
        "\n",
        "101249.422406f\u00fcr einen makesmalldurchlauf"
       ]
      },
      {
       "output_type": "stream",
       "stream": "stdout",
       "text": [
        "\n",
        "101271.567804f\u00fcr einen makesmalldurchlauf"
       ]
      },
      {
       "output_type": "stream",
       "stream": "stdout",
       "text": [
        "\n",
        "101293.810317f\u00fcr einen makesmalldurchlauf"
       ]
      },
      {
       "output_type": "stream",
       "stream": "stdout",
       "text": [
        "\n",
        "101316.297258f\u00fcr einen makesmalldurchlauf"
       ]
      },
      {
       "output_type": "stream",
       "stream": "stdout",
       "text": [
        "\n",
        "101338.514651f\u00fcr einen makesmalldurchlauf"
       ]
      },
      {
       "output_type": "stream",
       "stream": "stdout",
       "text": [
        "\n",
        "101360.835969f\u00fcr einen makesmalldurchlauf"
       ]
      },
      {
       "output_type": "stream",
       "stream": "stdout",
       "text": [
        "\n",
        "101383.921919f\u00fcr einen makesmalldurchlauf"
       ]
      },
      {
       "output_type": "stream",
       "stream": "stdout",
       "text": [
        "\n",
        "101406.326062f\u00fcr einen makesmalldurchlauf"
       ]
      },
      {
       "output_type": "stream",
       "stream": "stdout",
       "text": [
        "\n",
        "101428.687776f\u00fcr einen makesmalldurchlauf"
       ]
      },
      {
       "output_type": "stream",
       "stream": "stdout",
       "text": [
        "\n",
        "101451.431785f\u00fcr einen makesmalldurchlauf"
       ]
      },
      {
       "output_type": "stream",
       "stream": "stdout",
       "text": [
        "\n",
        "101473.749619f\u00fcr einen makesmalldurchlauf"
       ]
      },
      {
       "output_type": "stream",
       "stream": "stdout",
       "text": [
        "\n",
        "101495.781616f\u00fcr einen makesmalldurchlauf"
       ]
      },
      {
       "output_type": "stream",
       "stream": "stdout",
       "text": [
        "\n",
        "101517.903277f\u00fcr einen makesmalldurchlauf"
       ]
      },
      {
       "output_type": "stream",
       "stream": "stdout",
       "text": [
        "\n",
        "101540.610651f\u00fcr einen makesmalldurchlauf"
       ]
      },
      {
       "output_type": "stream",
       "stream": "stdout",
       "text": [
        "\n",
        "101562.995009f\u00fcr einen makesmalldurchlauf"
       ]
      },
      {
       "output_type": "stream",
       "stream": "stdout",
       "text": [
        "\n",
        "101585.974669f\u00fcr einen makesmalldurchlauf"
       ]
      },
      {
       "output_type": "stream",
       "stream": "stdout",
       "text": [
        "\n",
        "101608.442781f\u00fcr einen makesmalldurchlauf"
       ]
      },
      {
       "output_type": "stream",
       "stream": "stdout",
       "text": [
        "\n",
        "101630.512053f\u00fcr einen makesmalldurchlauf"
       ]
      },
      {
       "output_type": "stream",
       "stream": "stdout",
       "text": [
        "\n",
        "101652.549445f\u00fcr einen makesmalldurchlauf"
       ]
      },
      {
       "output_type": "stream",
       "stream": "stdout",
       "text": [
        "\n",
        "101674.936557f\u00fcr einen makesmalldurchlauf"
       ]
      },
      {
       "output_type": "stream",
       "stream": "stdout",
       "text": [
        "\n",
        "101697.152859f\u00fcr einen makesmalldurchlauf"
       ]
      },
      {
       "output_type": "stream",
       "stream": "stdout",
       "text": [
        "\n",
        "101719.747557f\u00fcr einen makesmalldurchlauf"
       ]
      },
      {
       "output_type": "stream",
       "stream": "stdout",
       "text": [
        "\n",
        "101742.153364f\u00fcr einen makesmalldurchlauf"
       ]
      },
      {
       "output_type": "stream",
       "stream": "stdout",
       "text": [
        "\n",
        "101764.54741f\u00fcr einen makesmalldurchlauf"
       ]
      },
      {
       "output_type": "stream",
       "stream": "stdout",
       "text": [
        "\n",
        "101787.2065f\u00fcr einen makesmalldurchlauf"
       ]
      },
      {
       "output_type": "stream",
       "stream": "stdout",
       "text": [
        "\n",
        "101809.81089f\u00fcr einen makesmalldurchlauf"
       ]
      },
      {
       "output_type": "stream",
       "stream": "stdout",
       "text": [
        "\n",
        "101832.118588f\u00fcr einen makesmalldurchlauf"
       ]
      },
      {
       "output_type": "stream",
       "stream": "stdout",
       "text": [
        "\n",
        "101856.494317f\u00fcr einen makesmalldurchlauf"
       ]
      },
      {
       "output_type": "stream",
       "stream": "stdout",
       "text": [
        "\n",
        "101880.704832f\u00fcr einen makesmalldurchlauf"
       ]
      },
      {
       "output_type": "stream",
       "stream": "stdout",
       "text": [
        "\n",
        "101904.969477f\u00fcr einen makesmalldurchlauf"
       ]
      },
      {
       "output_type": "stream",
       "stream": "stdout",
       "text": [
        "\n",
        "101928.267526f\u00fcr einen makesmalldurchlauf"
       ]
      },
      {
       "output_type": "stream",
       "stream": "stdout",
       "text": [
        "\n",
        "101951.194555f\u00fcr einen makesmalldurchlauf"
       ]
      },
      {
       "output_type": "stream",
       "stream": "stdout",
       "text": [
        "\n",
        "101974.781043f\u00fcr einen makesmalldurchlauf"
       ]
      },
      {
       "output_type": "stream",
       "stream": "stdout",
       "text": [
        "\n",
        "101997.59595f\u00fcr einen makesmalldurchlauf"
       ]
      },
      {
       "output_type": "stream",
       "stream": "stdout",
       "text": [
        "\n",
        "102021.421723f\u00fcr einen makesmalldurchlauf"
       ]
      },
      {
       "output_type": "stream",
       "stream": "stdout",
       "text": [
        "\n",
        "102044.588199f\u00fcr einen makesmalldurchlauf"
       ]
      },
      {
       "output_type": "stream",
       "stream": "stdout",
       "text": [
        "\n",
        "102067.918501f\u00fcr einen makesmalldurchlauf"
       ]
      },
      {
       "output_type": "stream",
       "stream": "stdout",
       "text": [
        "\n",
        "102090.460317f\u00fcr einen makesmalldurchlauf"
       ]
      },
      {
       "output_type": "stream",
       "stream": "stdout",
       "text": [
        "\n",
        "102113.207868f\u00fcr einen makesmalldurchlauf"
       ]
      },
      {
       "output_type": "stream",
       "stream": "stdout",
       "text": [
        "\n",
        "102135.728669f\u00fcr einen makesmalldurchlauf"
       ]
      },
      {
       "output_type": "stream",
       "stream": "stdout",
       "text": [
        "\n",
        "102157.790769f\u00fcr einen makesmalldurchlauf"
       ]
      },
      {
       "output_type": "stream",
       "stream": "stdout",
       "text": [
        "\n",
        "102179.993604f\u00fcr einen makesmalldurchlauf"
       ]
      },
      {
       "output_type": "stream",
       "stream": "stdout",
       "text": [
        "\n",
        "102202.169099f\u00fcr einen makesmalldurchlauf"
       ]
      },
      {
       "output_type": "stream",
       "stream": "stdout",
       "text": [
        "\n",
        "102224.258519f\u00fcr einen makesmalldurchlauf"
       ]
      },
      {
       "output_type": "stream",
       "stream": "stdout",
       "text": [
        "\n",
        "102246.434121f\u00fcr einen makesmalldurchlauf"
       ]
      },
      {
       "output_type": "stream",
       "stream": "stdout",
       "text": [
        "\n",
        "102268.407737f\u00fcr einen makesmalldurchlauf"
       ]
      },
      {
       "output_type": "stream",
       "stream": "stdout",
       "text": [
        "\n",
        "102290.816655f\u00fcr einen makesmalldurchlauf"
       ]
      },
      {
       "output_type": "stream",
       "stream": "stdout",
       "text": [
        "\n",
        "102313.608181f\u00fcr einen makesmalldurchlauf"
       ]
      },
      {
       "output_type": "stream",
       "stream": "stdout",
       "text": [
        "\n",
        "102336.436163f\u00fcr einen makesmalldurchlauf"
       ]
      },
      {
       "output_type": "stream",
       "stream": "stdout",
       "text": [
        "\n",
        "102359.873632f\u00fcr einen makesmalldurchlauf"
       ]
      },
      {
       "output_type": "stream",
       "stream": "stdout",
       "text": [
        "\n",
        "102383.285791f\u00fcr einen makesmalldurchlauf"
       ]
      },
      {
       "output_type": "stream",
       "stream": "stdout",
       "text": [
        "\n",
        "102406.852673f\u00fcr einen makesmalldurchlauf"
       ]
      },
      {
       "output_type": "stream",
       "stream": "stdout",
       "text": [
        "\n",
        "102431.112306f\u00fcr einen makesmalldurchlauf"
       ]
      },
      {
       "output_type": "stream",
       "stream": "stdout",
       "text": [
        "\n",
        "102454.952819f\u00fcr einen makesmalldurchlauf"
       ]
      },
      {
       "output_type": "stream",
       "stream": "stdout",
       "text": [
        "\n",
        "102477.857105f\u00fcr einen makesmalldurchlauf"
       ]
      },
      {
       "output_type": "stream",
       "stream": "stdout",
       "text": [
        "\n",
        "102499.967669f\u00fcr einen makesmalldurchlauf"
       ]
      },
      {
       "output_type": "stream",
       "stream": "stdout",
       "text": [
        "\n",
        "102523.562618f\u00fcr einen makesmalldurchlauf"
       ]
      },
      {
       "output_type": "stream",
       "stream": "stdout",
       "text": [
        "\n",
        "102546.324526f\u00fcr einen makesmalldurchlauf"
       ]
      },
      {
       "output_type": "stream",
       "stream": "stdout",
       "text": [
        "\n",
        "102568.514345f\u00fcr einen makesmalldurchlauf"
       ]
      },
      {
       "output_type": "stream",
       "stream": "stdout",
       "text": [
        "\n",
        "102592.205291f\u00fcr einen makesmalldurchlauf"
       ]
      },
      {
       "output_type": "stream",
       "stream": "stdout",
       "text": [
        "\n",
        "102615.748018f\u00fcr einen makesmalldurchlauf"
       ]
      },
      {
       "output_type": "stream",
       "stream": "stdout",
       "text": [
        "\n",
        "102640.157707f\u00fcr einen makesmalldurchlauf"
       ]
      },
      {
       "output_type": "stream",
       "stream": "stdout",
       "text": [
        "\n",
        "102662.552755f\u00fcr einen makesmalldurchlauf"
       ]
      },
      {
       "output_type": "stream",
       "stream": "stdout",
       "text": [
        "\n",
        "102684.60346f\u00fcr einen makesmalldurchlauf"
       ]
      },
      {
       "output_type": "stream",
       "stream": "stdout",
       "text": [
        "\n",
        "102706.780732f\u00fcr einen makesmalldurchlauf"
       ]
      },
      {
       "output_type": "stream",
       "stream": "stdout",
       "text": [
        "\n",
        "102729.034204f\u00fcr einen makesmalldurchlauf"
       ]
      },
      {
       "output_type": "stream",
       "stream": "stdout",
       "text": [
        "\n",
        "102751.477614f\u00fcr einen makesmalldurchlauf"
       ]
      },
      {
       "output_type": "stream",
       "stream": "stdout",
       "text": [
        "\n",
        "102774.65794f\u00fcr einen makesmalldurchlauf"
       ]
      },
      {
       "output_type": "stream",
       "stream": "stdout",
       "text": [
        "\n",
        "102796.827425f\u00fcr einen makesmalldurchlauf"
       ]
      },
      {
       "output_type": "stream",
       "stream": "stdout",
       "text": [
        "\n",
        "102820.215404f\u00fcr einen makesmalldurchlauf"
       ]
      },
      {
       "output_type": "stream",
       "stream": "stdout",
       "text": [
        "\n",
        "102844.375836f\u00fcr einen makesmalldurchlauf"
       ]
      },
      {
       "output_type": "stream",
       "stream": "stdout",
       "text": [
        "\n",
        "102867.573782f\u00fcr einen makesmalldurchlauf"
       ]
      },
      {
       "output_type": "stream",
       "stream": "stdout",
       "text": [
        "\n",
        "102891.320487f\u00fcr einen makesmalldurchlauf"
       ]
      },
      {
       "output_type": "stream",
       "stream": "stdout",
       "text": [
        "\n",
        "102914.917435f\u00fcr einen makesmalldurchlauf"
       ]
      },
      {
       "output_type": "stream",
       "stream": "stdout",
       "text": [
        "\n",
        "102938.287263f\u00fcr einen makesmalldurchlauf"
       ]
      },
      {
       "output_type": "stream",
       "stream": "stdout",
       "text": [
        "\n",
        "102961.175236f\u00fcr einen makesmalldurchlauf"
       ]
      },
      {
       "output_type": "stream",
       "stream": "stdout",
       "text": [
        "\n",
        "102983.979205f\u00fcr einen makesmalldurchlauf"
       ]
      },
      {
       "output_type": "stream",
       "stream": "stdout",
       "text": [
        "\n",
        "103006.22886f\u00fcr einen makesmalldurchlauf"
       ]
      },
      {
       "output_type": "stream",
       "stream": "stdout",
       "text": [
        "\n",
        "103029.219293f\u00fcr einen makesmalldurchlauf"
       ]
      },
      {
       "output_type": "stream",
       "stream": "stdout",
       "text": [
        "\n",
        "103052.129991f\u00fcr einen makesmalldurchlauf"
       ]
      },
      {
       "output_type": "stream",
       "stream": "stdout",
       "text": [
        "\n",
        "103074.216814f\u00fcr einen makesmalldurchlauf"
       ]
      },
      {
       "output_type": "stream",
       "stream": "stdout",
       "text": [
        "\n",
        "103097.835551f\u00fcr einen makesmalldurchlauf"
       ]
      },
      {
       "output_type": "stream",
       "stream": "stdout",
       "text": [
        "\n",
        "103120.752033f\u00fcr einen makesmalldurchlauf"
       ]
      },
      {
       "output_type": "stream",
       "stream": "stdout",
       "text": [
        "\n",
        "103144.373989f\u00fcr einen makesmalldurchlauf"
       ]
      },
      {
       "output_type": "stream",
       "stream": "stdout",
       "text": [
        "\n",
        "103166.715426f\u00fcr einen makesmalldurchlauf"
       ]
      },
      {
       "output_type": "stream",
       "stream": "stdout",
       "text": [
        "\n",
        "103189.704829f\u00fcr einen makesmalldurchlauf"
       ]
      },
      {
       "output_type": "stream",
       "stream": "stdout",
       "text": [
        "\n",
        "103211.921269f\u00fcr einen makesmalldurchlauf"
       ]
      },
      {
       "output_type": "stream",
       "stream": "stdout",
       "text": [
        "\n",
        "103235.046684f\u00fcr einen makesmalldurchlauf"
       ]
      },
      {
       "output_type": "stream",
       "stream": "stdout",
       "text": [
        "\n",
        "103258.06975f\u00fcr einen makesmalldurchlauf"
       ]
      },
      {
       "output_type": "stream",
       "stream": "stdout",
       "text": [
        "\n",
        "103280.760643f\u00fcr einen makesmalldurchlauf"
       ]
      },
      {
       "output_type": "stream",
       "stream": "stdout",
       "text": [
        "\n",
        "103280.959767f\u00fcr einen linkerdurchlauf"
       ]
      },
      {
       "output_type": "stream",
       "stream": "stdout",
       "text": [
        "\n",
        "(2943126, 3)\n"
       ]
      }
     ],
     "prompt_number": 17
    },
    {
     "cell_type": "code",
     "collapsed": false,
     "input": [
      "\n",
      "tempsize =  np.size(erstepunkte, axis = 0)\n",
      "pickle.dump(erstepunkte[:tempsize/2], open(\"files/savelysozymersteeins.p\", \"wb\"))\n",
      "pickle.dump(erstepunkte[tempsize/2:-1], open(\"files/savelysozymerstezwei.p\", \"wb\"))\n",
      "pickle.dump(zweitepunkte[:tempsize/2], open(\"files/savelysozymzweiteeins.p\", \"wb\"))\n",
      "pickle.dump(zweitepunkte[tempsize/2:-1], open(\"files/savelysozymzweitezwei.p\", \"wb\"))\n",
      "pickle.dump(drittepunkte[:tempsize/2], open(\"files/savelysozymdritteeins.p\", \"wb\"))\n",
      "pickle.dump(drittepunkte[tempsize/2:-1], open(\"files/savelysozymdrittezwei.p\", \"wb\"))\n",
      "print tempsize\n"
     ],
     "language": "python",
     "metadata": {},
     "outputs": [
      {
       "output_type": "stream",
       "stream": "stdout",
       "text": [
        "2943126\n"
       ]
      }
     ],
     "prompt_number": 18
    },
    {
     "cell_type": "code",
     "collapsed": false,
     "input": [
      "\"\"\"\n",
      "erstepunkteeins = pickle.load( open( \"files/savelysozymersteeins.p\", \"rb\" ) )\n",
      "erstepunktezwei = pickle.load( open( \"files/savelysozymerstezwei.p\", \"rb\" ) )\n",
      "erstepunkte = np.concatenate((erstepunkteeins, erstepunktezwei), axis = 0)\n",
      "\n",
      "zweitepunkteeins = pickle.load( open( \"files/savezweitelysozymeins.p\", \"rb\" ) )\n",
      "zweitepunktezwei = pickle.load( open( \"files/savezweitelysozymzwei.p\", \"rb\" ) )\n",
      "zweitepunkte = np.concatenate((zweitepunkteeins, zweitepunktezwei), axis = 0)\n",
      "\n",
      "drittepunkteeins = pickle.load( open(\"files/savedrittelysozymeins.p\", \"rb\"))\n",
      "drittepunktezwei = pickle.load( open(\"files/savedrittelysozymzwei.p\", \"rb\"))\n",
      "drittepunkte = np.concatenate((drittepunkteeins, drittepunktezwei), axis = 0)\n",
      "\n",
      "\"\"\""
     ],
     "language": "python",
     "metadata": {},
     "outputs": []
    },
    {
     "cell_type": "code",
     "collapsed": false,
     "input": [
      "temp = sort_out_by_angle(erstepunkte, zweitepunkte, drittepunkte)\n",
      "\n",
      "erstepunkte = temp[0]\n",
      "zweitepunkte = temp[1]\n",
      "drittepunkte = temp[2]\n",
      "\n",
      "pickle.dump((erstepunkte, zweitepunkte, drittepunkte), open(\"save.p\", \"wb\"))"
     ],
     "language": "python",
     "metadata": {},
     "outputs": [
      {
       "output_type": "stream",
       "stream": "stderr",
       "text": [
        "-c:30: RuntimeWarning: invalid value encountered in arccos\n",
        "-c:31: RuntimeWarning: invalid value encountered in greater\n"
       ]
      }
     ],
     "prompt_number": 19
    },
    {
     "cell_type": "code",
     "collapsed": false,
     "input": [
      "print np.shape(erstepunkte)"
     ],
     "language": "python",
     "metadata": {},
     "outputs": [
      {
       "output_type": "stream",
       "stream": "stdout",
       "text": [
        "(2651450, 3)\n"
       ]
      }
     ],
     "prompt_number": 20
    },
    {
     "cell_type": "heading",
     "level": 3,
     "metadata": {},
     "source": [
      "Die Bewertungsfunktion\n"
     ]
    },
    {
     "cell_type": "markdown",
     "metadata": {},
     "source": [
      "Wir definieren Regionen, die schlecht f\u00fcr den Linker sind. Dabei bekommt jede Region eine G\u00fcte. Diese G\u00fcte sagt, wenn wir einen Linker in einem Abstand von G\u00fcte geteilt durch Minabstand vorbeigehen lassen. Das hei\u00dft je kleiner die G\u00fcte, desto n\u00e4her kann ich an diesem Punkt vorbei gehen.\n",
      "\n",
      "Im Allgemeinen m\u00f6chte ich, dass einfach immer die verschiedenen Teile gleich wichtig sind, egal wie gro\u00df das Protein ist, oder wie viele Regionen wir da gesagt haben, dass umgangen werden sollen.\n",
      "\n",
      "Bei den Winkeln haben wir ja immer maximal drei Winkel, von dem her, muss das nicht normiert werden.\n",
      "\n",
      "Bei der L\u00e4nge wird mit dem Abstand der Enden skaliert, bei den unguten Regionen wird so skaliert, dass egal wie viele es sind, die definiert wurden, immer insgesamt die Gewichtung 1 ist."
     ]
    },
    {
     "cell_type": "code",
     "collapsed": false,
     "input": [
      "#this is not yet the final function, in the end it should also get an array with best estimations for angles and some\n",
      "#array of points, that are not good for the linker\n",
      "#it should return an array with for every linkerpath a certain value. From this we can find the best one.\n",
      "#also it should take some parameters in the end,\n",
      "\n",
      "#die Winkelfunktion muss man noch \u00fcberlegen, in the end it returns a on one normed value.\n",
      "def angle_function(StartingArray, MiddleArray, EndingArray):\n",
      "    vect1 = (StartingArray - MiddleArray)\n",
      "    vect2 = (EndingArray - MiddleArray)\n",
      "    #catch if there is 0 displacement\n",
      "    tocalculate = ((vect1 != np.array([0,0,0])).any(1)) & ((vect2 != np.array([0,0,0])).any(1))\n",
      "    vecttemp1 = vect1[tocalculate]\n",
      "    vecttemp2 = vect2[tocalculate]\n",
      "    angles = np.arccos(skalar_product(vecttemp1, vecttemp2)/(vectabsar(vecttemp1)*vectabsar(vecttemp2)))\n",
      "    functionvalues = np.zeros(np.size(MiddleArray, axis = 0))\n",
      "    functionvalues[tocalculate] = np.sin(angles)\n",
      "    return functionvalues\n",
      "\n",
      "#needs a on one normed array of the weighing of the points, if not all points are equally weighed\n",
      "\n",
      "#TODO: Start can be array or just points, End has to be an array...\n",
      "def unpreferable_places(Start, End, ProteinPoints, AminoacidNumberArray, ToBeWeighedAAInput, WeighingofAA = None):\n",
      "    if np.size(Start, axis = 0) ==1:\n",
      "        Starttemp = np.repeat(Start, np.size(End, axis = 0), axis = 0)\n",
      "    else:\n",
      "        Starttemp = Start\n",
      "    SliceToBeWeighed = np.in1d(ToBeWeighedAAInput, AminoacidNumberArray)\n",
      "    ToBeWeighedAA = ToBeWeighedAAInput[SliceToBeWeighed]\n",
      "    #reduce the points to their mean, so that every aminoacid is equally weighed and not long ones are more important than\n",
      "    #than short ones\n",
      "    Points = []\n",
      "    for number in ToBeWeighedAA:\n",
      "        Points.append(np.mean(ProteinPoints[AminoacidNumberArray == number], axis = 0))\n",
      "    Points = np.array(Points)\n",
      "    \n",
      "    #reshape the arrays and the points, have a Points*Start array\n",
      "    twoaxis = np.size(Points, axis = 0)\n",
      "    oneaxis = np.size(Starttemp, axis = 0)\n",
      "    \n",
      "    Starttemp = np.repeat(Starttemp, twoaxis, axis = 0)\n",
      "    #Starttemp = np.reshape(Starttemp, (oneaxis, twoaxis, 3))\n",
      "    Endtemp = np.repeat(End, twoaxis, axis = 0)\n",
      "    #Endtemp = np.reshape(Endtemp, (oneaxis, twoaxis, 3))\n",
      "    Points = np.tile(Points, (oneaxis,1))\n",
      "    #Points = np.reshape(Points, (oneaxis, twoaxis, 3))\n",
      "    \n",
      "    if WeighingofAA == None:\n",
      "        WeighingofAA = np.ones(twoaxis)\n",
      "        \n",
      "    #the array is normalized here and gets the size of the points\n",
      "    WeighingofAAtemp = (WeighingofAA/np.mean(WeighingofAA))[SliceToBeWeighed]\n",
      "    WeighingofAAtemp = np.tile(WeighingofAAtemp, (oneaxis,1))\n",
      "    WeighingofAAtemp = np.reshape(WeighingofAAtemp, (oneaxis, twoaxis))\n",
      "    \n",
      "    #TODO: Points, that are too far away from the linker are irrelevant    \n",
      "    StartPunkteAbst = abstandarrays(Starttemp, Points)\n",
      "    StartPunkteAbst = np.reshape(StartPunkteAbst, (oneaxis, twoaxis))\n",
      "    \n",
      "    EndPunkteAbst = abstandarrays(Endtemp, Points)\n",
      "    EndPunkteAbst = np.reshape(EndPunkteAbst, (oneaxis, twoaxis))\n",
      "    \n",
      "    AngleAtStart = angle_between_connections_array(Points, Starttemp, Endtemp)\n",
      "    AngleAtStart = np.reshape(AngleAtStart, (oneaxis, twoaxis))\n",
      "    \n",
      "    AngleAtEnd = angle_between_connections_array(Points, Endtemp, Starttemp)\n",
      "    AngleAtEnd = np.reshape(AngleAtEnd, (oneaxis, twoaxis))\n",
      "    \n",
      "    \n",
      "    \n",
      "    #die Punkte mit \u00fcber 90\u00b0 nehmen einfach den Abstand vom Ende, die kleiner als 90\u00b0 den senkrechten Abstand\n",
      "    StartBiggerNinetyBool = (AngleAtStart >  np.pi/2) | (AngleAtStart == 0)\n",
      "    EndBiggerNinetyBool = (AngleAtEnd > np.pi/2) | (AngleAtEnd == 0)\n",
      "    NotUseBool = np.invert(StartBiggerNinetyBool | EndBiggerNinetyBool)\n",
      "    DistanceFromConnection = np.empty((oneaxis, twoaxis))\n",
      "    DistanceFromConnection[NotUseBool] = np.sin(AngleAtStart[NotUseBool]) * StartPunkteAbst[NotUseBool]\n",
      "    DistanceFromConnection[EndBiggerNinetyBool] = EndPunkteAbst[EndBiggerNinetyBool]\n",
      "    DistanceFromConnection[StartBiggerNinetyBool] = StartPunkteAbst[StartBiggerNinetyBool]\n",
      "    \n",
      "    \n",
      "    #TODO: zu welcher Potenz soll das dann gehen?\n",
      "    ValueOfPoint = WeighingofAAtemp / DistanceFromConnection ** 2\n",
      "    return np.sum(ValueOfPoint, axis = 1)\n",
      "\n",
      "def distance_from_surface(FirstPoints, SecondPoints, ThirdPoints, ProteinPoints):\n",
      "    Horiz_Axis = np.size(ProteinPoints, axis = 0)\n",
      "    Vert_Axis = np.size(FirstPoints, axis = 0)\n",
      "    \n",
      "    Prottemp = np.tile(ProteinPoints, (Vert_Axis, 1))\n",
      "    \n",
      "    #compute everything with first array\n",
      "    Firsttemp = np.repeat(FirstPoints, Horiz_Axis, axis = 0)\n",
      "    Distances = abstandarrays(Firsttemp, Prottemp)    \n",
      "    Distances = np.reshape(Distances, (Vert_Axis, Horiz_Axis))\n",
      "    Distances = np.min(Distances, axis = 1)\n",
      "    Distancesret = Distances / np.min(Distances)\n",
      "    \n",
      "    Secondtemp = np.repeat(SecondPoints, Horiz_Axis, axis = 0)\n",
      "    Distances = abstandarrays(Secondtemp, Prottemp)    \n",
      "    Distances = np.reshape(Distances, (Vert_Axis, Horiz_Axis))\n",
      "    Distances = np.min(Distances, axis = 1)\n",
      "    Distancesret = Distances / np.min(Distances) + Distancesret\n",
      "    \n",
      "    Thirdtemp = np.repeat(ThirdPoints, Horiz_Axis, axis = 0)\n",
      "    Distances = abstandarrays(Thirdtemp, Prottemp)    \n",
      "    Distances = np.reshape(Distances, (Vert_Axis, Horiz_Axis))\n",
      "    Distances = np.min(Distances, axis = 1)\n",
      "    Distancesret = Distances / np.min(Distances) + Distancesret\n",
      "    \n",
      "    return Distancesret\n",
      "    \n",
      "    \n",
      "    \n",
      "        \n",
      "\n",
      "def weighing_function(StartPoint, FirstArray, SecondArray, ThirdArray, EndPoint,\\\n",
      "                      ProteinPoints, AminoacidNumberArray, ToBeWeighedAA, WeighingofAA = None):\n",
      "    \n",
      "    LinkerLength = abstandpktzuarray(StartPoint, FirstArray) + abstandarrays(FirstArray, SecondArray) \\\n",
      "    + abstandarrays(SecondArray, ThirdArray) + abstandpktzuarray(EndPoint, ThirdArray) \n",
      "    \n",
      "    LengthNormed = LinkerLength / (abstand(StartPoint, EndPoint))\n",
      "    \n",
      "    Angles = angle_function(StartPoint, FirstArray, SecondArray) + angle_function(FirstArray, SecondArray, ThirdArray) + \\\n",
      "    angle_function(SecondArray, ThirdArray, EndPoint)\n",
      "    \n",
      "    SiteInfluenceNormed = unpreferable_places([StartPoint], FirstArray,\\\n",
      "                                              ProteinPoints, AminoacidNumberArray, ToBeWeighedAA, WeighingofAA) + \\\n",
      "    unpreferable_places(FirstArray, SecondArray, ProteinPoints, AminoacidNumberArray, ToBeWeighedAA, WeighingofAA) + \\\n",
      "    unpreferable_places(SecondArray, ThirdArray, ProteinPoints, AminoacidNumberArray, ToBeWeighedAA, WeighingofAA) + \\\n",
      "    unpreferable_places([EndPoint], ThirdArray, ProteinPoints, AminoacidNumberArray, ToBeWeighedAA, WeighingofAA)\n",
      "    \n",
      "    DistancesFromProtein = distance_from_surface(FirstArray, SecondArray, ThirdArray, ProteinPoints)\n",
      "    \n",
      "    weighedvalue = LengthNormed\n",
      "    \n",
      "    return (weighedvalue, LengthNormed * abstand(StartPoint, EndPoint), Angles, SiteInfluenceNormed, DistancesFromProtein)"
     ],
     "language": "python",
     "metadata": {},
     "outputs": [],
     "prompt_number": 20
    },
    {
     "cell_type": "code",
     "collapsed": false,
     "input": [
      "#Userstring ist von der Form: 273,10 280-290,5  usw. (Leerzeichen trennen Eintr\u00e4ge)\n",
      "def make_weighingarrays(Userstring):\n",
      "    ShouldBeWeighed = []\n",
      "    Weighingarray = []    \n",
      "    Userlist = Userstring.split()\n",
      "    for entry in Userlist:\n",
      "        if entry.find(\"-\") == -1:\n",
      "            #- is not in entry\n",
      "            entry.split(\",\")\n",
      "            ShouldBeWeighed.append(int(entry.split(\",\")[0]))\n",
      "            Weighingarray.append(int(entry.split(\",\")[1]))\n",
      "        else:\n",
      "            #appends every entry, so borders are included in the interval\n",
      "            ShouldBeWeighed += (range(int(entry.split(\",\")[0].split(\"-\")[0]),int(entry.split(\",\")[0].split(\"-\")[1])+1))\n",
      "            #for many values they should be normed in weighing. it's the sites that interest us.\n",
      "            Weighingarray += ([float(entry.split(\",\")[1])/ \\\n",
      "                                  (int(entry.split(\",\")[0].split(\"-\")[1])+1-int(entry.split(\",\")[0].split(\"-\")[0]))]* \\\n",
      "                                 (int(entry.split(\",\")[0].split(\"-\")[1])+1-int(entry.split(\",\")[0].split(\"-\")[0])))\n",
      "            \n",
      "    return (np.array(ShouldBeWeighed), np.array(Weighingarray))"
     ],
     "language": "python",
     "metadata": {},
     "outputs": []
    },
    {
     "cell_type": "code",
     "collapsed": false,
     "input": [
      "            \n",
      "UserdefinedWeighing = \"1229,10 1224-1602,1 1142-1601,1\"\n",
      "\n",
      "\n",
      "\n",
      "ShouldBeWeighed = make_weighingarrays(UserdefinedWeighing)[0]\n",
      "Weighingarray = make_weighingarrays(UserdefinedWeighing)[1]\n",
      "\n",
      "\n",
      "MakeSmall = make_small_generator(zweitepunkte, 4 , 6 , ProteinArray = pkte)\n",
      "\n",
      "teiler = np.size(zweitepunkte, axis=0)/(MakeSmall)\n",
      "temp = weighing_function(anfangspunkt, erstepunkte[:teiler], zweitepunkte[:teiler], drittepunkte[:teiler], endpunkt, pkte, InterestingAANr,\\\n",
      "                      ShouldBeWeighed, Weighingarray)\n",
      "\n",
      "knull = temp[0]\n",
      "keins = temp[1]\n",
      "kzwei = temp[2]\n",
      "kdrei = temp[3]\n",
      "kvier = temp[4]\n",
      "\n",
      "\n",
      "for i in range(1, MakeSmall):\n",
      "    temp = weighing_function(anfangspunkt, erstepunkte[i * teiler:(i+1)*teiler], zweitepunkte[i * teiler:(i+1)*teiler],\\\n",
      "                             drittepunkte[i * teiler:(i+1)*teiler], endpunkt, pkte, InterestingAANr, ShouldBeWeighed,\\\n",
      "                             Weighingarray)\n",
      "    \n",
      "    knull = np.concatenate((knull, temp[0]), axis =0)\n",
      "    keins = np.concatenate((keins, temp[1]), axis =0)\n",
      "    kzwei = np.concatenate((kzwei, temp[2]), axis =0)\n",
      "    kdrei = np.concatenate((kdrei, temp[3]), axis =0)\n",
      "    kvier = np.concatenate((kvier, temp[4]), axis =0)\n",
      "    \n",
      "    \n",
      "try:\n",
      "    temp = weighing_function(anfangspunkt, erstepunkte[(i+1)*teiler:-1], zweitepunkte[(i+1)*teiler:-1],\\\n",
      "                                 drittepunkte[(i+1)*teiler:-1], endpunkt, pkte, InterestingAANr, ShouldBeWeighed,\\\n",
      "                                 Weighingarray)\n",
      "\n",
      "    \n",
      "    knull = np.concatenate((knull, temp[0]), axis =0)\n",
      "    keins = np.concatenate((keins, temp[1]), axis =0)\n",
      "    kzwei = np.concatenate((kzwei, temp[2]), axis =0)\n",
      "    kdrei = np.concatenate((kdrei, temp[3]), axis =0)\n",
      "    kvier = np.concatenate((kvier, temp[4]), axis =0)\n",
      "\n",
      "\n",
      "except:\n",
      "    pass\n",
      "k = (knull, keins, kzwei, kdrei, kvier)"
     ],
     "language": "python",
     "metadata": {},
     "outputs": [
      {
       "output_type": "stream",
       "stream": "stderr",
       "text": [
        "-c:14: RuntimeWarning: invalid value encountered in arccos\n"
       ]
      },
      {
       "ename": "MemoryError",
       "evalue": "",
       "output_type": "pyerr",
       "traceback": [
        "\u001b[0;31m---------------------------------------------------------------------------\u001b[0m\n\u001b[0;31mMemoryError\u001b[0m                               Traceback (most recent call last)",
        "\u001b[0;32m<ipython-input-21-52c255e996a9>\u001b[0m in \u001b[0;36m<module>\u001b[0;34m()\u001b[0m\n\u001b[1;32m      1\u001b[0m \u001b[0mShouldBeWeighed\u001b[0m \u001b[0;34m=\u001b[0m \u001b[0mnp\u001b[0m\u001b[0;34m.\u001b[0m\u001b[0mconcatenate\u001b[0m\u001b[0;34m(\u001b[0m\u001b[0;34m(\u001b[0m\u001b[0mnp\u001b[0m\u001b[0;34m.\u001b[0m\u001b[0marray\u001b[0m\u001b[0;34m(\u001b[0m\u001b[0;34m[\u001b[0m\u001b[0;36m1229\u001b[0m\u001b[0;34m]\u001b[0m\u001b[0;34m)\u001b[0m\u001b[0;34m,\u001b[0m \u001b[0mnp\u001b[0m\u001b[0;34m.\u001b[0m\u001b[0marange\u001b[0m\u001b[0;34m(\u001b[0m\u001b[0;36m1224\u001b[0m\u001b[0;34m,\u001b[0m \u001b[0;36m1602\u001b[0m\u001b[0;34m)\u001b[0m\u001b[0;34m,\u001b[0m \u001b[0mnp\u001b[0m\u001b[0;34m.\u001b[0m\u001b[0marange\u001b[0m\u001b[0;34m(\u001b[0m\u001b[0;36m1142\u001b[0m\u001b[0;34m,\u001b[0m \u001b[0;36m1601\u001b[0m\u001b[0;34m)\u001b[0m\u001b[0;34m)\u001b[0m\u001b[0;34m)\u001b[0m\u001b[0;34m\u001b[0m\u001b[0m\n\u001b[1;32m      2\u001b[0m \u001b[0mWeighingarray\u001b[0m \u001b[0;34m=\u001b[0m \u001b[0mnp\u001b[0m\u001b[0;34m.\u001b[0m\u001b[0mconcatenate\u001b[0m\u001b[0;34m(\u001b[0m\u001b[0;34m(\u001b[0m\u001b[0mnp\u001b[0m\u001b[0;34m.\u001b[0m\u001b[0marray\u001b[0m\u001b[0;34m(\u001b[0m\u001b[0;34m[\u001b[0m\u001b[0;36m10\u001b[0m\u001b[0;34m]\u001b[0m\u001b[0;34m)\u001b[0m\u001b[0;34m,\u001b[0m \u001b[0mnp\u001b[0m\u001b[0;34m.\u001b[0m\u001b[0mones\u001b[0m\u001b[0;34m(\u001b[0m\u001b[0;36m1602\u001b[0m\u001b[0;34m-\u001b[0m\u001b[0;36m1224\u001b[0m\u001b[0;34m)\u001b[0m\u001b[0;34m,\u001b[0m \u001b[0mnp\u001b[0m\u001b[0;34m.\u001b[0m\u001b[0mones\u001b[0m\u001b[0;34m(\u001b[0m\u001b[0;36m1601\u001b[0m\u001b[0;34m-\u001b[0m\u001b[0;36m1142\u001b[0m\u001b[0;34m)\u001b[0m\u001b[0;34m)\u001b[0m\u001b[0;34m)\u001b[0m\u001b[0;34m\u001b[0m\u001b[0m\n\u001b[0;32m----> 3\u001b[0;31m \u001b[0mk\u001b[0m \u001b[0;34m=\u001b[0m \u001b[0mweighing_function\u001b[0m\u001b[0;34m(\u001b[0m\u001b[0manfangspunkt\u001b[0m\u001b[0;34m,\u001b[0m \u001b[0merstepunkte\u001b[0m\u001b[0;34m,\u001b[0m \u001b[0mzweitepunkte\u001b[0m\u001b[0;34m,\u001b[0m \u001b[0mdrittepunkte\u001b[0m\u001b[0;34m,\u001b[0m \u001b[0mendpunkt\u001b[0m\u001b[0;34m,\u001b[0m \u001b[0mpkte\u001b[0m\u001b[0;34m,\u001b[0m \u001b[0mInterestingAANr\u001b[0m\u001b[0;34m,\u001b[0m                      \u001b[0mShouldBeWeighed\u001b[0m\u001b[0;34m,\u001b[0m \u001b[0mWeighingarray\u001b[0m\u001b[0;34m)\u001b[0m\u001b[0;34m\u001b[0m\u001b[0m\n\u001b[0m\u001b[1;32m      4\u001b[0m \u001b[0;34m\u001b[0m\u001b[0m\n\u001b[1;32m      5\u001b[0m \u001b[0;32mprint\u001b[0m \u001b[0mnp\u001b[0m\u001b[0;34m.\u001b[0m\u001b[0mmean\u001b[0m\u001b[0;34m(\u001b[0m\u001b[0mk\u001b[0m\u001b[0;34m[\u001b[0m\u001b[0;36m3\u001b[0m\u001b[0;34m]\u001b[0m\u001b[0;34m)\u001b[0m\u001b[0;34m\u001b[0m\u001b[0m\n",
        "\u001b[0;32m<ipython-input-20-bbc4089ac72a>\u001b[0m in \u001b[0;36mweighing_function\u001b[0;34m(StartPoint, FirstArray, SecondArray, ThirdArray, EndPoint, ProteinPoints, AminoacidNumberArray, ToBeWeighedAA, WeighingofAA)\u001b[0m\n\u001b[1;32m     93\u001b[0m     \u001b[0mAngles\u001b[0m \u001b[0;34m=\u001b[0m \u001b[0mangle_function\u001b[0m\u001b[0;34m(\u001b[0m\u001b[0mStartPoint\u001b[0m\u001b[0;34m,\u001b[0m \u001b[0mFirstArray\u001b[0m\u001b[0;34m,\u001b[0m \u001b[0mSecondArray\u001b[0m\u001b[0;34m)\u001b[0m \u001b[0;34m+\u001b[0m \u001b[0mangle_function\u001b[0m\u001b[0;34m(\u001b[0m\u001b[0mFirstArray\u001b[0m\u001b[0;34m,\u001b[0m \u001b[0mSecondArray\u001b[0m\u001b[0;34m,\u001b[0m \u001b[0mThirdArray\u001b[0m\u001b[0;34m)\u001b[0m \u001b[0;34m+\u001b[0m     \u001b[0mangle_function\u001b[0m\u001b[0;34m(\u001b[0m\u001b[0mSecondArray\u001b[0m\u001b[0;34m,\u001b[0m \u001b[0mThirdArray\u001b[0m\u001b[0;34m,\u001b[0m \u001b[0mEndPoint\u001b[0m\u001b[0;34m)\u001b[0m\u001b[0;34m\u001b[0m\u001b[0m\n\u001b[1;32m     94\u001b[0m \u001b[0;34m\u001b[0m\u001b[0m\n\u001b[0;32m---> 95\u001b[0;31m     \u001b[0mSiteInfluenceNormed\u001b[0m \u001b[0;34m=\u001b[0m \u001b[0munpreferable_places\u001b[0m\u001b[0;34m(\u001b[0m\u001b[0;34m[\u001b[0m\u001b[0mStartPoint\u001b[0m\u001b[0;34m]\u001b[0m\u001b[0;34m,\u001b[0m \u001b[0mFirstArray\u001b[0m\u001b[0;34m,\u001b[0m                                              \u001b[0mProteinPoints\u001b[0m\u001b[0;34m,\u001b[0m \u001b[0mAminoacidNumberArray\u001b[0m\u001b[0;34m,\u001b[0m \u001b[0mToBeWeighedAA\u001b[0m\u001b[0;34m,\u001b[0m \u001b[0mWeighingofAA\u001b[0m\u001b[0;34m)\u001b[0m \u001b[0;34m+\u001b[0m     \u001b[0munpreferable_places\u001b[0m\u001b[0;34m(\u001b[0m\u001b[0mFirstArray\u001b[0m\u001b[0;34m,\u001b[0m \u001b[0mSecondArray\u001b[0m\u001b[0;34m,\u001b[0m \u001b[0mProteinPoints\u001b[0m\u001b[0;34m,\u001b[0m \u001b[0mAminoacidNumberArray\u001b[0m\u001b[0;34m,\u001b[0m \u001b[0mToBeWeighedAA\u001b[0m\u001b[0;34m,\u001b[0m \u001b[0mWeighingofAA\u001b[0m\u001b[0;34m)\u001b[0m \u001b[0;34m+\u001b[0m     \u001b[0munpreferable_places\u001b[0m\u001b[0;34m(\u001b[0m\u001b[0mSecondArray\u001b[0m\u001b[0;34m,\u001b[0m \u001b[0mThirdArray\u001b[0m\u001b[0;34m,\u001b[0m \u001b[0mProteinPoints\u001b[0m\u001b[0;34m,\u001b[0m \u001b[0mAminoacidNumberArray\u001b[0m\u001b[0;34m,\u001b[0m \u001b[0mToBeWeighedAA\u001b[0m\u001b[0;34m,\u001b[0m \u001b[0mWeighingofAA\u001b[0m\u001b[0;34m)\u001b[0m \u001b[0;34m+\u001b[0m     \u001b[0munpreferable_places\u001b[0m\u001b[0;34m(\u001b[0m\u001b[0;34m[\u001b[0m\u001b[0mEndPoint\u001b[0m\u001b[0;34m]\u001b[0m\u001b[0;34m,\u001b[0m \u001b[0mThirdArray\u001b[0m\u001b[0;34m,\u001b[0m \u001b[0mProteinPoints\u001b[0m\u001b[0;34m,\u001b[0m \u001b[0mAminoacidNumberArray\u001b[0m\u001b[0;34m,\u001b[0m \u001b[0mToBeWeighedAA\u001b[0m\u001b[0;34m,\u001b[0m \u001b[0mWeighingofAA\u001b[0m\u001b[0;34m)\u001b[0m\u001b[0;34m\u001b[0m\u001b[0m\n\u001b[0m\u001b[1;32m     96\u001b[0m \u001b[0;34m\u001b[0m\u001b[0m\n\u001b[1;32m     97\u001b[0m     \u001b[0mweighedvalue\u001b[0m \u001b[0;34m=\u001b[0m \u001b[0mLengthNormed\u001b[0m\u001b[0;34m\u001b[0m\u001b[0m\n",
        "\u001b[0;32m<ipython-input-20-bbc4089ac72a>\u001b[0m in \u001b[0;36munpreferable_places\u001b[0;34m(Start, End, ProteinPoints, AminoacidNumberArray, ToBeWeighedAAInput, WeighingofAA)\u001b[0m\n\u001b[1;32m     38\u001b[0m     \u001b[0moneaxis\u001b[0m \u001b[0;34m=\u001b[0m \u001b[0mnp\u001b[0m\u001b[0;34m.\u001b[0m\u001b[0msize\u001b[0m\u001b[0;34m(\u001b[0m\u001b[0mStarttemp\u001b[0m\u001b[0;34m,\u001b[0m \u001b[0maxis\u001b[0m \u001b[0;34m=\u001b[0m \u001b[0;36m0\u001b[0m\u001b[0;34m)\u001b[0m\u001b[0;34m\u001b[0m\u001b[0m\n\u001b[1;32m     39\u001b[0m \u001b[0;34m\u001b[0m\u001b[0m\n\u001b[0;32m---> 40\u001b[0;31m     \u001b[0mStarttemp\u001b[0m \u001b[0;34m=\u001b[0m \u001b[0mnp\u001b[0m\u001b[0;34m.\u001b[0m\u001b[0mrepeat\u001b[0m\u001b[0;34m(\u001b[0m\u001b[0mStarttemp\u001b[0m\u001b[0;34m,\u001b[0m \u001b[0mtwoaxis\u001b[0m\u001b[0;34m,\u001b[0m \u001b[0maxis\u001b[0m \u001b[0;34m=\u001b[0m \u001b[0;36m0\u001b[0m\u001b[0;34m)\u001b[0m\u001b[0;34m\u001b[0m\u001b[0m\n\u001b[0m\u001b[1;32m     41\u001b[0m     \u001b[0;31m#Starttemp = np.reshape(Starttemp, (oneaxis, twoaxis, 3))\u001b[0m\u001b[0;34m\u001b[0m\u001b[0;34m\u001b[0m\u001b[0m\n\u001b[1;32m     42\u001b[0m     \u001b[0mEndtemp\u001b[0m \u001b[0;34m=\u001b[0m \u001b[0mnp\u001b[0m\u001b[0;34m.\u001b[0m\u001b[0mrepeat\u001b[0m\u001b[0;34m(\u001b[0m\u001b[0mEnd\u001b[0m\u001b[0;34m,\u001b[0m \u001b[0mtwoaxis\u001b[0m\u001b[0;34m,\u001b[0m \u001b[0maxis\u001b[0m \u001b[0;34m=\u001b[0m \u001b[0;36m0\u001b[0m\u001b[0;34m)\u001b[0m\u001b[0;34m\u001b[0m\u001b[0m\n",
        "\u001b[0;32m/usr/lib/python2.7/dist-packages/numpy/core/fromnumeric.pyc\u001b[0m in \u001b[0;36mrepeat\u001b[0;34m(a, repeats, axis)\u001b[0m\n\u001b[1;32m    388\u001b[0m     \u001b[0;32mexcept\u001b[0m \u001b[0mAttributeError\u001b[0m\u001b[0;34m:\u001b[0m\u001b[0;34m\u001b[0m\u001b[0m\n\u001b[1;32m    389\u001b[0m         \u001b[0;32mreturn\u001b[0m \u001b[0m_wrapit\u001b[0m\u001b[0;34m(\u001b[0m\u001b[0ma\u001b[0m\u001b[0;34m,\u001b[0m \u001b[0;34m'repeat'\u001b[0m\u001b[0;34m,\u001b[0m \u001b[0mrepeats\u001b[0m\u001b[0;34m,\u001b[0m \u001b[0maxis\u001b[0m\u001b[0;34m)\u001b[0m\u001b[0;34m\u001b[0m\u001b[0m\n\u001b[0;32m--> 390\u001b[0;31m     \u001b[0;32mreturn\u001b[0m \u001b[0mrepeat\u001b[0m\u001b[0;34m(\u001b[0m\u001b[0mrepeats\u001b[0m\u001b[0;34m,\u001b[0m \u001b[0maxis\u001b[0m\u001b[0;34m)\u001b[0m\u001b[0;34m\u001b[0m\u001b[0m\n\u001b[0m\u001b[1;32m    391\u001b[0m \u001b[0;34m\u001b[0m\u001b[0m\n\u001b[1;32m    392\u001b[0m \u001b[0;34m\u001b[0m\u001b[0m\n",
        "\u001b[0;31mMemoryError\u001b[0m: "
       ]
      }
     ],
     "prompt_number": 21
    },
    {
     "cell_type": "code",
     "collapsed": false,
     "input": [
      "minbla = np.min(k[1])\n",
      "print minbla"
     ],
     "language": "python",
     "metadata": {},
     "outputs": []
    },
    {
     "cell_type": "code",
     "collapsed": false,
     "input": [
      "keep = k[1] == minbla\n",
      "\n",
      "bestpath = np.empty((3,3))\n",
      "bestpath[0] = erstepunkte[keep]\n",
      "bestpath[1] =  zweitepunkte[keep]\n",
      "bestpath[2] = drittepunkte[keep]\n",
      "print abstandanfend\n",
      "\n",
      "fig = plt.figure()\n",
      "ax = fig.add_subplot(111, projection='3d')\n",
      "ax.scatter(pkte[5:-5:,0], pkte[5:-5:,1], pkte[5:-5:,2], s=10)\n",
      "ax.scatter(pkte[:4:,0], pkte[:4:,1], pkte[:4:,2], s = 40, c =\"r\")\n",
      "ax.scatter(pkte[-4::,0], pkte[-4::,1], pkte[-4::,2], s = 40, c =\"r\")\n",
      "ax.scatter(OtherPoints[:,0], OtherPoints[:,1], OtherPoints[:,2], s=10, c = \"g\")\n",
      "\n",
      "ax.scatter(bestpath[:,0], bestpath[:,1], bestpath[:,2], s = 50, c =\"r\")\n",
      "plt.show()"
     ],
     "language": "python",
     "metadata": {},
     "outputs": []
    },
    {
     "cell_type": "code",
     "collapsed": false,
     "input": [
      "print minbla\n",
      "print np.min(linkerlaengenKO)"
     ],
     "language": "python",
     "metadata": {},
     "outputs": [
      {
       "output_type": "stream",
       "stream": "stdout",
       "text": [
        "84.2744546815\n",
        "17.7330804142\n"
       ]
      }
     ],
     "prompt_number": 150
    },
    {
     "cell_type": "heading",
     "level": 2,
     "metadata": {},
     "source": [
      "Linkerpimping"
     ]
    },
    {
     "cell_type": "markdown",
     "metadata": {},
     "source": [
      "Wir passen die Aminos\u00e4uren in den Winkeln an, um die an die Oberfl\u00e4che zu h\u00e4ngen. Das machen wir immer in einer Funktion auf nur einem Linker"
     ]
    },
    {
     "cell_type": "code",
     "collapsed": false,
     "input": [
      "AminoDict = {\"ARG\":\"ASP\", \"ASP\":\"LYS\", \"HIS\":\"ASP\", \"LYS\":\"ASP\", \"GLU\":\"LYS\", \"SER\":\"THR\", \"THR\":\"SER\", \\\n",
      "             \"ASN\":\"GLN\", \"GLN\":\"ASN\", \"CYS\":\"CYS\", \"GLY\":\"XXX\", \"SEC\":\"XXX\", \"PRO\":\"XXX\", \"ALA\":\"LEU\", \"VAL\":\"LEU\", \\\n",
      "             \"ILE\":\"LEU\", \"LEU\":\"LEU\", \"MET\":\"LEU\", \"PHE\":\"PHE\", \"TRP\":\"TRP\", \"TYR\":\"TYR\"}\n",
      "\n",
      "def glue_to_surface(StartPoint, EndPoint, ProteinPoints = pkte , ProteinAminos = InterestingAminos,\\\n",
      "                    MinDist = hitgenauig, AminoCombinations = AminoDict):\n",
      "    Dist = abstand(StartPoint, EndPoint)\n",
      "    StartToProtDist = abstandpktzuarray(StartPoint, ProteinPoints)\n",
      "    keep = (StartToProtDist < (Dist + MinDist)) & (StartToProtDist > (Dist - MinDist))\n",
      "    PossiblePoints = ProteinPoints[keep]\n",
      "    EndToPossible = abstandpktzuarray(EndPoint, PossiblePoints)\n",
      "    PossibleAminos = ProteinAminos[keep]\n",
      "    TheAmino = PossibleAminos[np.argmin(EndToPossible)]\n",
      "    return AminoCombinations[TheAmino]\n",
      "        "
     ],
     "language": "python",
     "metadata": {},
     "outputs": []
    },
    {
     "cell_type": "markdown",
     "metadata": {},
     "source": [
      "Hier fangen Testsachen an:\n",
      "    \n",
      "    TESTTESTTEST    TESTTESTTEST    TESTTESTTEST    TESTTESTTEST    TESTTESTTEST    TESTTESTTEST    TESTTESTTEST    TESTTESTTEST    TESTTESTTEST    TESTTESTTEST    TESTTESTTEST    TESTTESTTEST    TESTTESTTEST    TESTTESTTEST    TESTTESTTEST    TESTTESTTEST    TESTTESTTEST    TESTTESTTEST    TESTTESTTEST"
     ]
    },
    {
     "cell_type": "code",
     "collapsed": false,
     "input": [
      "from meliae import scanner\n",
      "scanner.dump_all_objects('filename.json')\n",
      "\n",
      "from meliae import loader\n",
      "om = loader.load('filename.json')\n",
      "s = om.summarize(); s"
     ],
     "language": "python",
     "metadata": {},
     "outputs": [
      {
       "output_type": "stream",
       "stream": "stderr",
       "text": [
        "loading... line 5001, 5002 objs,   0.7 / 124.9 MiB read in 0.4s\r",
        "loading... line 10002, 10003 objs,   1.5 / 124.9 MiB read in 0.5s\r"
       ]
      },
      {
       "output_type": "stream",
       "stream": "stderr",
       "text": [
        "loading... line 15003, 15004 objs,   2.2 / 124.9 MiB read in 0.5s\r",
        "loading... line 20004, 20005 objs,   2.8 / 124.9 MiB read in 0.6s\r",
        "loading... line 25005, 25006 objs,   3.5 / 124.9 MiB read in 0.7s\r"
       ]
      },
      {
       "output_type": "stream",
       "stream": "stderr",
       "text": [
        "loading... line 30006, 30007 objs,   4.1 / 124.9 MiB read in 0.8s\r",
        "loading... line 35007, 35008 objs,   4.8 / 124.9 MiB read in 0.9s\r"
       ]
      },
      {
       "output_type": "stream",
       "stream": "stderr",
       "text": [
        "loading... line 40008, 40009 objs,   5.5 / 124.9 MiB read in 0.9s\r",
        "loading... line 45009, 45010 objs,   6.1 / 124.9 MiB read in 1.1s\r"
       ]
      },
      {
       "output_type": "stream",
       "stream": "stderr",
       "text": [
        "loading... line 50010, 50011 objs,   6.8 / 124.9 MiB read in 1.1s\r",
        "loading... line 55011, 55012 objs,   7.4 / 124.9 MiB read in 1.2s\r",
        "loading... line 60012, 60013 objs,   8.0 / 124.9 MiB read in 1.2s\r"
       ]
      },
      {
       "output_type": "stream",
       "stream": "stderr",
       "text": [
        "loading... line 65013, 65014 objs,   8.6 / 124.9 MiB read in 1.3s\r",
        "loading... line 70014, 70015 objs,   9.0 / 124.9 MiB read in 1.3s\r",
        "loading... line 75015, 75016 objs,   9.5 / 124.9 MiB read in 1.3s\r"
       ]
      },
      {
       "output_type": "stream",
       "stream": "stderr",
       "text": [
        "loading... line 80016, 80017 objs,  10.2 / 124.9 MiB read in 1.4s\r",
        "loading... line 85017, 85018 objs,  10.8 / 124.9 MiB read in 1.5s\r"
       ]
      },
      {
       "output_type": "stream",
       "stream": "stderr",
       "text": [
        "loading... line 90018, 90019 objs,  11.5 / 124.9 MiB read in 1.5s\r",
        "loading... line 95019, 95020 objs,  12.1 / 124.9 MiB read in 1.6s\r",
        "loading... line 100020, 100021 objs,  12.7 / 124.9 MiB read in 1.6s\r"
       ]
      },
      {
       "output_type": "stream",
       "stream": "stderr",
       "text": [
        "loading... line 105021, 105022 objs,  13.2 / 124.9 MiB read in 1.7s\r",
        "loading... line 110022, 110023 objs,  13.6 / 124.9 MiB read in 1.7s\r",
        "loading... line 115023, 115024 objs,  14.0 / 124.9 MiB read in 1.7s\r"
       ]
      },
      {
       "output_type": "stream",
       "stream": "stderr",
       "text": [
        "loading... line 120024, 120025 objs,  14.6 / 124.9 MiB read in 1.8s\r",
        "loading... line 125025, 125026 objs,  15.0 / 124.9 MiB read in 1.8s\r",
        "loading... line 130026, 130027 objs,  15.4 / 124.9 MiB read in 1.9s\r"
       ]
      },
      {
       "output_type": "stream",
       "stream": "stderr",
       "text": [
        "loading... line 135027, 135028 objs,  16.0 / 124.9 MiB read in 1.9s\r",
        "loading... line 140028, 140029 objs,  16.6 / 124.9 MiB read in 2.0s\r",
        "loading... line 145029, 145030 objs,  56.6 / 124.9 MiB read in 3.0s\r"
       ]
      },
      {
       "output_type": "stream",
       "stream": "stderr",
       "text": [
        "loading... line 150030, 150031 objs,  57.0 / 124.9 MiB read in 3.0s\r",
        "loading... line 155031, 155032 objs,  57.4 / 124.9 MiB read in 3.1s\r",
        "loading... line 160032, 160033 objs,  57.8 / 124.9 MiB read in 3.1s\r"
       ]
      },
      {
       "output_type": "stream",
       "stream": "stderr",
       "text": [
        "loading... line 165033, 165034 objs,  58.3 / 124.9 MiB read in 3.2s\r",
        "loading... line 170034, 170035 objs,  58.7 / 124.9 MiB read in 3.2s\r",
        "loading... line 175035, 175036 objs,  59.1 / 124.9 MiB read in 3.3s\r"
       ]
      },
      {
       "output_type": "stream",
       "stream": "stderr",
       "text": [
        "loading... line 180036, 180037 objs,  59.6 / 124.9 MiB read in 3.3s\r",
        "loading... line 185037, 185038 objs,  60.0 / 124.9 MiB read in 3.3s\r",
        "loading... line 190038, 190039 objs,  60.4 / 124.9 MiB read in 3.4s\r"
       ]
      },
      {
       "output_type": "stream",
       "stream": "stderr",
       "text": [
        "loading... line 195039, 195040 objs,  60.9 / 124.9 MiB read in 3.4s\r",
        "loading... line 200040, 200041 objs,  61.3 / 124.9 MiB read in 3.5s\r",
        "loading... line 205041, 205042 objs,  61.7 / 124.9 MiB read in 3.5s\r"
       ]
      },
      {
       "output_type": "stream",
       "stream": "stderr",
       "text": [
        "loading... line 210042, 210043 objs,  62.2 / 124.9 MiB read in 3.5s\r",
        "loading... line 215043, 215044 objs,  62.6 / 124.9 MiB read in 3.6s\r",
        "loading... line 220044, 220045 objs,  63.0 / 124.9 MiB read in 3.6s\r"
       ]
      },
      {
       "output_type": "stream",
       "stream": "stderr",
       "text": [
        "loading... line 225045, 225046 objs,  63.5 / 124.9 MiB read in 3.7s\r",
        "loading... line 230046, 230047 objs,  63.9 / 124.9 MiB read in 3.7s\r",
        "loading... line 235047, 235048 objs,  64.3 / 124.9 MiB read in 3.7s\r"
       ]
      },
      {
       "output_type": "stream",
       "stream": "stderr",
       "text": [
        "loading... line 240048, 240049 objs,  64.8 / 124.9 MiB read in 3.8s\r",
        "loading... line 245049, 245050 objs,  65.2 / 124.9 MiB read in 3.8s\r",
        "loading... line 250050, 250051 objs,  65.6 / 124.9 MiB read in 3.9s\r"
       ]
      },
      {
       "output_type": "stream",
       "stream": "stderr",
       "text": [
        "loading... line 255051, 255052 objs,  66.1 / 124.9 MiB read in 3.9s\r",
        "loading... line 260052, 260053 objs,  66.5 / 124.9 MiB read in 3.9s\r",
        "loading... line 265053, 265054 objs,  66.9 / 124.9 MiB read in 4.0s\r"
       ]
      },
      {
       "output_type": "stream",
       "stream": "stderr",
       "text": [
        "loading... line 270054, 270055 objs,  67.4 / 124.9 MiB read in 4.0s\r",
        "loading... line 275055, 275056 objs,  67.8 / 124.9 MiB read in 4.1s\r",
        "loading... line 280056, 280057 objs,  68.2 / 124.9 MiB read in 4.1s\r"
       ]
      },
      {
       "output_type": "stream",
       "stream": "stderr",
       "text": [
        "loading... line 285057, 285058 objs,  68.7 / 124.9 MiB read in 4.1s\r",
        "loading... line 290058, 290059 objs,  69.1 / 124.9 MiB read in 4.2s\r",
        "loading... line 295059, 295060 objs,  69.5 / 124.9 MiB read in 4.2s\r"
       ]
      },
      {
       "output_type": "stream",
       "stream": "stderr",
       "text": [
        "loading... line 300060, 300061 objs,  70.0 / 124.9 MiB read in 4.3s\r",
        "loading... line 305061, 305062 objs,  70.4 / 124.9 MiB read in 4.3s\r",
        "loading... line 310062, 310063 objs,  70.8 / 124.9 MiB read in 4.4s\r"
       ]
      },
      {
       "output_type": "stream",
       "stream": "stderr",
       "text": [
        "loading... line 315063, 315064 objs,  71.3 / 124.9 MiB read in 4.4s\r",
        "loading... line 320064, 320065 objs,  71.7 / 124.9 MiB read in 4.4s\r",
        "loading... line 325065, 325066 objs,  72.1 / 124.9 MiB read in 4.5s\r"
       ]
      },
      {
       "output_type": "stream",
       "stream": "stderr",
       "text": [
        "loading... line 330066, 330067 objs,  72.5 / 124.9 MiB read in 4.5s\r",
        "loading... line 335067, 335068 objs,  73.0 / 124.9 MiB read in 4.6s\r",
        "loading... line 340068, 340069 objs,  73.4 / 124.9 MiB read in 4.6s\r"
       ]
      },
      {
       "output_type": "stream",
       "stream": "stderr",
       "text": [
        "loading... line 345069, 345070 objs,  73.9 / 124.9 MiB read in 4.6s\r",
        "loading... line 350070, 350071 objs,  74.3 / 124.9 MiB read in 4.7s\r"
       ]
      },
      {
       "output_type": "stream",
       "stream": "stderr",
       "text": [
        "loading... line 355071, 355072 objs,  74.8 / 124.9 MiB read in 4.8s\r",
        "loading... line 360072, 360073 objs,  75.2 / 124.9 MiB read in 4.8s\r",
        "loading... line 365073, 365074 objs,  75.6 / 124.9 MiB read in 4.9s\r"
       ]
      },
      {
       "output_type": "stream",
       "stream": "stderr",
       "text": [
        "loading... line 370074, 370075 objs,  76.1 / 124.9 MiB read in 4.9s\r",
        "loading... line 375075, 375076 objs,  76.5 / 124.9 MiB read in 4.9s\r",
        "loading... line 380076, 380077 objs,  77.0 / 124.9 MiB read in 5.0s\r"
       ]
      },
      {
       "output_type": "stream",
       "stream": "stderr",
       "text": [
        "loading... line 385077, 385078 objs,  77.4 / 124.9 MiB read in 5.0s\r",
        "loading... line 390078, 390079 objs,  77.9 / 124.9 MiB read in 5.1s\r",
        "loading... line 395079, 395080 objs,  78.3 / 124.9 MiB read in 5.1s\r"
       ]
      },
      {
       "output_type": "stream",
       "stream": "stderr",
       "text": [
        "loading... line 400080, 400081 objs,  78.7 / 124.9 MiB read in 5.1s\r",
        "loading... line 405081, 405082 objs,  79.2 / 124.9 MiB read in 5.2s\r",
        "loading... line 410082, 410083 objs,  79.6 / 124.9 MiB read in 5.2s\r"
       ]
      },
      {
       "output_type": "stream",
       "stream": "stderr",
       "text": [
        "loading... line 415083, 415084 objs,  80.0 / 124.9 MiB read in 5.3s\r",
        "loading... line 420084, 420085 objs,  80.5 / 124.9 MiB read in 5.3s\r",
        "loading... line 425085, 425086 objs,  80.9 / 124.9 MiB read in 5.3s\r"
       ]
      },
      {
       "output_type": "stream",
       "stream": "stderr",
       "text": [
        "loading... line 430086, 430087 objs,  81.3 / 124.9 MiB read in 5.4s\r",
        "loading... line 435087, 435088 objs,  81.7 / 124.9 MiB read in 5.4s\r",
        "loading... line 440088, 440089 objs,  82.1 / 124.9 MiB read in 5.5s\r"
       ]
      },
      {
       "output_type": "stream",
       "stream": "stderr",
       "text": [
        "loading... line 445089, 445090 objs,  82.5 / 124.9 MiB read in 5.5s\r",
        "loading... line 450090, 450091 objs,  82.9 / 124.9 MiB read in 5.5s\r",
        "loading... line 455091, 455092 objs,  83.3 / 124.9 MiB read in 5.6s\r"
       ]
      },
      {
       "output_type": "stream",
       "stream": "stderr",
       "text": [
        "loading... line 460092, 460093 objs,  83.7 / 124.9 MiB read in 5.6s\r",
        "loading... line 465093, 465094 objs,  84.1 / 124.9 MiB read in 5.7s\r",
        "loading... line 470094, 470095 objs,  84.5 / 124.9 MiB read in 5.7s\r"
       ]
      },
      {
       "output_type": "stream",
       "stream": "stderr",
       "text": [
        "loading... line 475095, 475096 objs,  84.9 / 124.9 MiB read in 5.7s\r",
        "loading... line 480096, 480097 objs,  85.3 / 124.9 MiB read in 5.8s\r",
        "loading... line 485097, 485098 objs,  85.7 / 124.9 MiB read in 5.8s\r"
       ]
      },
      {
       "output_type": "stream",
       "stream": "stderr",
       "text": [
        "loading... line 490098, 490099 objs,  86.1 / 124.9 MiB read in 5.8s\r",
        "loading... line 495099, 495100 objs,  86.5 / 124.9 MiB read in 5.9s\r",
        "loading... line 500100, 500101 objs,  86.8 / 124.9 MiB read in 5.9s\r"
       ]
      },
      {
       "output_type": "stream",
       "stream": "stderr",
       "text": [
        "loading... line 505101, 505102 objs,  87.2 / 124.9 MiB read in 6.0s\r",
        "loading... line 510102, 510103 objs,  87.6 / 124.9 MiB read in 6.0s\r",
        "loading... line 515103, 515104 objs,  88.0 / 124.9 MiB read in 6.0s\r"
       ]
      },
      {
       "output_type": "stream",
       "stream": "stderr",
       "text": [
        "loading... line 520104, 520105 objs,  88.4 / 124.9 MiB read in 6.1s\r",
        "loading... line 525105, 525106 objs,  88.8 / 124.9 MiB read in 6.1s\r",
        "loading... line 530106, 530107 objs,  89.2 / 124.9 MiB read in 6.2s\r"
       ]
      },
      {
       "output_type": "stream",
       "stream": "stderr",
       "text": [
        "loading... line 535107, 535108 objs,  89.6 / 124.9 MiB read in 6.2s\r",
        "loading... line 540108, 540109 objs,  90.0 / 124.9 MiB read in 6.2s\r",
        "loading... line 545109, 545110 objs,  90.4 / 124.9 MiB read in 6.3s\r"
       ]
      },
      {
       "output_type": "stream",
       "stream": "stderr",
       "text": [
        "loading... line 550110, 550111 objs,  90.8 / 124.9 MiB read in 6.3s\r",
        "loading... line 555111, 555112 objs,  91.2 / 124.9 MiB read in 6.3s\r",
        "loading... line 560112, 560113 objs,  91.6 / 124.9 MiB read in 6.4s\r"
       ]
      },
      {
       "output_type": "stream",
       "stream": "stderr",
       "text": [
        "loading... line 565113, 565114 objs,  92.0 / 124.9 MiB read in 6.4s\r",
        "loading... line 570114, 570115 objs,  92.4 / 124.9 MiB read in 6.5s\r",
        "loading... line 575115, 575116 objs,  92.8 / 124.9 MiB read in 6.5s\r"
       ]
      },
      {
       "output_type": "stream",
       "stream": "stderr",
       "text": [
        "loading... line 580116, 580117 objs,  93.3 / 124.9 MiB read in 6.6s\r",
        "loading... line 585117, 585118 objs,  93.7 / 124.9 MiB read in 6.6s\r",
        "loading... line 590118, 590119 objs,  94.1 / 124.9 MiB read in 6.6s\r"
       ]
      },
      {
       "output_type": "stream",
       "stream": "stderr",
       "text": [
        "loading... line 595119, 595120 objs,  94.5 / 124.9 MiB read in 6.7s\r",
        "loading... line 600120, 600121 objs,  95.0 / 124.9 MiB read in 6.7s\r",
        "loading... line 605121, 605122 objs,  95.4 / 124.9 MiB read in 6.8s\r"
       ]
      },
      {
       "output_type": "stream",
       "stream": "stderr",
       "text": [
        "loading... line 610122, 610123 objs,  95.9 / 124.9 MiB read in 6.8s\r",
        "loading... line 615123, 615124 objs,  96.3 / 124.9 MiB read in 6.8s\r",
        "loading... line 620124, 620125 objs,  96.8 / 124.9 MiB read in 6.9s\r"
       ]
      },
      {
       "output_type": "stream",
       "stream": "stderr",
       "text": [
        "loading... line 625125, 625126 objs,  97.2 / 124.9 MiB read in 6.9s\r",
        "loading... line 630126, 630127 objs,  97.7 / 124.9 MiB read in 7.0s\r",
        "loading... line 635127, 635128 objs,  98.1 / 124.9 MiB read in 7.0s\r"
       ]
      },
      {
       "output_type": "stream",
       "stream": "stderr",
       "text": [
        "loading... line 640128, 640129 objs,  98.5 / 124.9 MiB read in 7.1s\r",
        "loading... line 645129, 645130 objs,  99.0 / 124.9 MiB read in 7.1s\r",
        "loading... line 650130, 650131 objs,  99.5 / 124.9 MiB read in 7.1s\r"
       ]
      },
      {
       "output_type": "stream",
       "stream": "stderr",
       "text": [
        "loading... line 655131, 655132 objs,  99.9 / 124.9 MiB read in 7.2s\r",
        "loading... line 660132, 660133 objs, 100.4 / 124.9 MiB read in 7.2s\r",
        "loading... line 665133, 665134 objs, 100.8 / 124.9 MiB read in 7.3s\r"
       ]
      },
      {
       "output_type": "stream",
       "stream": "stderr",
       "text": [
        "loading... line 670134, 670135 objs, 101.3 / 124.9 MiB read in 7.3s\r",
        "loading... line 675135, 675136 objs, 101.7 / 124.9 MiB read in 7.4s\r",
        "loading... line 680136, 680137 objs, 102.2 / 124.9 MiB read in 7.4s\r"
       ]
      },
      {
       "output_type": "stream",
       "stream": "stderr",
       "text": [
        "loading... line 685137, 685138 objs, 102.6 / 124.9 MiB read in 7.5s\r",
        "loading... line 690138, 690139 objs, 103.1 / 124.9 MiB read in 7.5s\r",
        "loading... line 695139, 695140 objs, 103.5 / 124.9 MiB read in 7.6s\r"
       ]
      },
      {
       "output_type": "stream",
       "stream": "stderr",
       "text": [
        "loading... line 700140, 700141 objs, 104.0 / 124.9 MiB read in 7.7s\r",
        "loading... line 705141, 705142 objs, 104.4 / 124.9 MiB read in 7.7s\r",
        "loading... line 710142, 710143 objs, 104.9 / 124.9 MiB read in 7.8s\r"
       ]
      },
      {
       "output_type": "stream",
       "stream": "stderr",
       "text": [
        "loading... line 715143, 715144 objs, 105.3 / 124.9 MiB read in 7.8s\r",
        "loading... line 720144, 720145 objs, 105.8 / 124.9 MiB read in 7.9s\r",
        "loading... line 725145, 725146 objs, 106.2 / 124.9 MiB read in 7.9s\r"
       ]
      },
      {
       "output_type": "stream",
       "stream": "stderr",
       "text": [
        "loading... line 730146, 730147 objs, 106.7 / 124.9 MiB read in 8.0s\r",
        "loading... line 735147, 735148 objs, 107.1 / 124.9 MiB read in 8.0s\r",
        "loading... line 740148, 740149 objs, 107.5 / 124.9 MiB read in 8.0s\r"
       ]
      },
      {
       "output_type": "stream",
       "stream": "stderr",
       "text": [
        "loading... line 745149, 745150 objs, 108.0 / 124.9 MiB read in 8.1s\r",
        "loading... line 750150, 750151 objs, 108.4 / 124.9 MiB read in 8.1s\r",
        "loading... line 755151, 755152 objs, 108.9 / 124.9 MiB read in 8.2s\r"
       ]
      },
      {
       "output_type": "stream",
       "stream": "stderr",
       "text": [
        "loading... line 760152, 760153 objs, 109.3 / 124.9 MiB read in 8.2s\r",
        "loading... line 765153, 765154 objs, 109.8 / 124.9 MiB read in 8.2s\r",
        "loading... line 770154, 770155 objs, 110.3 / 124.9 MiB read in 8.3s\r"
       ]
      },
      {
       "output_type": "stream",
       "stream": "stderr",
       "text": [
        "loading... line 775155, 775156 objs, 110.7 / 124.9 MiB read in 8.3s\r",
        "loading... line 780156, 780157 objs, 111.2 / 124.9 MiB read in 8.4s\r",
        "loading... line 785157, 785158 objs, 111.6 / 124.9 MiB read in 8.4s\r"
       ]
      },
      {
       "output_type": "stream",
       "stream": "stderr",
       "text": [
        "loading... line 790158, 790159 objs, 112.1 / 124.9 MiB read in 8.4s\r",
        "loading... line 795159, 795160 objs, 112.6 / 124.9 MiB read in 8.5s\r",
        "loading... line 800160, 800161 objs, 113.0 / 124.9 MiB read in 8.5s\r"
       ]
      },
      {
       "output_type": "stream",
       "stream": "stderr",
       "text": [
        "loading... line 805161, 805162 objs, 113.5 / 124.9 MiB read in 8.6s\r",
        "loading... line 810162, 810163 objs, 113.9 / 124.9 MiB read in 8.6s\r",
        "loading... line 815163, 815164 objs, 114.4 / 124.9 MiB read in 8.7s\r"
       ]
      },
      {
       "output_type": "stream",
       "stream": "stderr",
       "text": [
        "loading... line 820164, 820165 objs, 114.9 / 124.9 MiB read in 8.7s\r",
        "loading... line 825165, 825166 objs, 115.4 / 124.9 MiB read in 8.7s\r",
        "loading... line 830166, 830167 objs, 115.8 / 124.9 MiB read in 8.8s\r"
       ]
      },
      {
       "output_type": "stream",
       "stream": "stderr",
       "text": [
        "loading... line 835167, 835168 objs, 116.3 / 124.9 MiB read in 8.8s\r",
        "loading... line 840168, 840169 objs, 116.8 / 124.9 MiB read in 8.9s\r",
        "loading... line 845169, 845170 objs, 117.3 / 124.9 MiB read in 8.9s\r"
       ]
      },
      {
       "output_type": "stream",
       "stream": "stderr",
       "text": [
        "loading... line 850170, 850171 objs, 117.7 / 124.9 MiB read in 9.0s\r",
        "loading... line 855171, 855172 objs, 118.2 / 124.9 MiB read in 9.0s\r",
        "loading... line 860172, 860173 objs, 118.7 / 124.9 MiB read in 9.0s\r"
       ]
      },
      {
       "output_type": "stream",
       "stream": "stderr",
       "text": [
        "loading... line 865173, 865174 objs, 119.2 / 124.9 MiB read in 9.1s\r",
        "loading... line 870174, 870175 objs, 119.8 / 124.9 MiB read in 9.1s\r",
        "loading... line 875175, 875176 objs, 120.5 / 124.9 MiB read in 9.2s\r"
       ]
      },
      {
       "output_type": "stream",
       "stream": "stderr",
       "text": [
        "loading... line 880176, 880177 objs, 121.2 / 124.9 MiB read in 9.2s\r",
        "loading... line 885177, 885178 objs, 121.9 / 124.9 MiB read in 9.3s\r",
        "loading... line 890178, 890179 objs, 122.6 / 124.9 MiB read in 9.3s\r"
       ]
      },
      {
       "output_type": "stream",
       "stream": "stderr",
       "text": [
        "loading... line 895179, 895180 objs, 123.2 / 124.9 MiB read in 9.4s\r",
        "loading... line 900180, 900181 objs, 123.9 / 124.9 MiB read in 9.4s\r",
        "loading... line 905181, 905182 objs, 124.5 / 124.9 MiB read in 9.5s\r"
       ]
      },
      {
       "output_type": "stream",
       "stream": "stderr",
       "text": [
        "loaded line 907974, 907975 objs, 124.9 / 124.9 MiB read in 9.5s        \n",
        "checked       28 /   907975 collapsed        0    \r",
        "checked   210072 /   907975 collapsed      993    \r"
       ]
      },
      {
       "output_type": "stream",
       "stream": "stderr",
       "text": [
        "checked   381494 /   907975 collapsed     2177    \r",
        "checked   579874 /   907975 collapsed     3689    \r"
       ]
      },
      {
       "output_type": "stream",
       "stream": "stderr",
       "text": [
        "checked   785808 /   907975 collapsed     4809    \r",
        "checked   907974 /   907975 collapsed     5391    \n"
       ]
      },
      {
       "output_type": "stream",
       "stream": "stderr",
       "text": [
        "compute parents        0 /   902584        \r",
        "compute parents   114304 /   902584        \r"
       ]
      },
      {
       "output_type": "stream",
       "stream": "stderr",
       "text": [
        "compute parents   233856 /   902584        \r",
        "compute parents   364544 /   902584        \r"
       ]
      },
      {
       "output_type": "stream",
       "stream": "stderr",
       "text": [
        "compute parents   479424 /   902584        \r",
        "compute parents   613568 /   902584        \r"
       ]
      },
      {
       "output_type": "stream",
       "stream": "stderr",
       "text": [
        "compute parents   747008 /   902584        \r",
        "compute parents   776448 /   902584        \r"
       ]
      },
      {
       "output_type": "stream",
       "stream": "stderr",
       "text": [
        "compute parents   896896 /   902584        \r",
        "compute parents   902583 /   902584        \r",
        "set parents    73216 /   902584        \r"
       ]
      },
      {
       "output_type": "stream",
       "stream": "stderr",
       "text": [
        "set parents   152768 /   902584        \r",
        "set parents   237056 /   902584        \r"
       ]
      },
      {
       "output_type": "stream",
       "stream": "stderr",
       "text": [
        "set parents   316288 /   902584        \r",
        "set parents   400704 /   902584        \r"
       ]
      },
      {
       "output_type": "stream",
       "stream": "stderr",
       "text": [
        "set parents   478400 /   902584        \r",
        "set parents   563008 /   902584        \r"
       ]
      },
      {
       "output_type": "stream",
       "stream": "stderr",
       "text": [
        "set parents   643648 /   902584        \r",
        "set parents   725440 /   902584        \r"
       ]
      },
      {
       "output_type": "stream",
       "stream": "stderr",
       "text": [
        "set parents   806720 /   902584        \r",
        "set parents   880576 /   902584        \r"
       ]
      },
      {
       "output_type": "stream",
       "stream": "stderr",
       "text": [
        "set parents   902583 /   902584        \n",
        "collapsed in 4.7s\n"
       ]
      },
      {
       "metadata": {},
       "output_type": "pyout",
       "prompt_number": 41,
       "text": [
        "Total 902584 objects, 721 types, Total size = 2486.5MiB (2607286485 bytes)\n",
        " Index   Count   %      Size   % Cum     Max Kind\n",
        "     0     563   02498134565  95  95643718064 numpy.ndarray\n",
        "     1       1   0  56317672   2  9756317672 meliae._loader.MemObjectCollection\n",
        "     2  194589  21  15213759   0  98   29707 str\n",
        "     3  594719  65  14273256   0  99      24 int\n",
        "     4    5892   0   5675616   0  99   98584 dict\n",
        "     5     621   0   2368272   0  99   49488 module\n",
        "     6    1853   0   1675112   0  99     904 type\n",
        "     7   13468   1   1616160   0  99     120 function\n",
        "     8   12552   1   1606656   0  99     128 code\n",
        "     9    1423   0   1582376   0  99    1112 _TypeSummary\n",
        "    10   13223   1   1234208   0  99   51752 tuple\n",
        "    11    1916   0   1038204   0  99   17516 unicode\n",
        "    12    3385   0    476592   0  99   26744 list\n",
        "    13    5358   0    385776   0  99      72 method_descriptor\n",
        "    14   12981   1    311544   0  99      24 numpy.float64\n",
        "    15   12912   1    309888   0  99      24 numpy.float16\n",
        "    16     266   0    295792   0  99    1112 FontEntry\n",
        "    17    3032   0    266816   0  99      88 weakref\n",
        "    18     767   0    263448   0  99    8424 set\n",
        "    19     276   0    249504   0  99     904 GObjectMeta"
       ]
      }
     ],
     "prompt_number": 41
    },
    {
     "cell_type": "code",
     "collapsed": false,
     "input": [
      "#surface = get_surface(\"proteine/dnmt13PT9.pdb\"), vielleicht irgendwann mal nutzbar :-)"
     ],
     "language": "python",
     "metadata": {},
     "outputs": [
      {
       "ename": "AssertionError",
       "evalue": "Failed to generate surface file using command:\nmsms -probe_radius 1.5 -if /tmp/tmpjJTM7e -of /tmp/tmpE9o0lW > /tmp/tmp0roQQB",
       "output_type": "pyerr",
       "traceback": [
        "\u001b[0;31m---------------------------------------------------------------------------\u001b[0m\n\u001b[0;31mAssertionError\u001b[0m                            Traceback (most recent call last)",
        "\u001b[0;32m<ipython-input-35-5d28ca86a828>\u001b[0m in \u001b[0;36m<module>\u001b[0;34m()\u001b[0m\n\u001b[0;32m----> 1\u001b[0;31m \u001b[0msurface\u001b[0m \u001b[0;34m=\u001b[0m \u001b[0mget_surface\u001b[0m\u001b[0;34m(\u001b[0m\u001b[0;34m\"proteine/dnmt13PT9.pdb\"\u001b[0m\u001b[0;34m)\u001b[0m\u001b[0;34m\u001b[0m\u001b[0m\n\u001b[0m",
        "\u001b[0;32m/usr/lib/python2.7/dist-packages/Bio/PDB/ResidueDepth.pyc\u001b[0m in \u001b[0;36mget_surface\u001b[0;34m(pdb_file, PDB_TO_XYZR, MSMS)\u001b[0m\n\u001b[1;32m     90\u001b[0m     \u001b[0msurface_file\u001b[0m\u001b[0;34m=\u001b[0m\u001b[0msurface_tmp\u001b[0m\u001b[0;34m+\u001b[0m\u001b[0;34m\".vert\"\u001b[0m\u001b[0;34m\u001b[0m\u001b[0m\n\u001b[1;32m     91\u001b[0m     \u001b[0;32massert\u001b[0m \u001b[0mos\u001b[0m\u001b[0;34m.\u001b[0m\u001b[0mpath\u001b[0m\u001b[0;34m.\u001b[0m\u001b[0misfile\u001b[0m\u001b[0;34m(\u001b[0m\u001b[0msurface_file\u001b[0m\u001b[0;34m)\u001b[0m\u001b[0;34m,\u001b[0m\u001b[0;31m \u001b[0m\u001b[0;31m\\\u001b[0m\u001b[0;34m\u001b[0m\u001b[0m\n\u001b[0;32m---> 92\u001b[0;31m         \u001b[0;34m\"Failed to generate surface file using command:\\n%s\"\u001b[0m \u001b[0;34m%\u001b[0m \u001b[0mmake_surface\u001b[0m\u001b[0;34m\u001b[0m\u001b[0m\n\u001b[0m\u001b[1;32m     93\u001b[0m     \u001b[0;31m# read surface vertices from vertex file\u001b[0m\u001b[0;34m\u001b[0m\u001b[0;34m\u001b[0m\u001b[0m\n\u001b[1;32m     94\u001b[0m     \u001b[0msurface\u001b[0m\u001b[0;34m=\u001b[0m\u001b[0m_read_vertex_array\u001b[0m\u001b[0;34m(\u001b[0m\u001b[0msurface_file\u001b[0m\u001b[0;34m)\u001b[0m\u001b[0;34m\u001b[0m\u001b[0m\n",
        "\u001b[0;31mAssertionError\u001b[0m: Failed to generate surface file using command:\nmsms -probe_radius 1.5 -if /tmp/tmpjJTM7e -of /tmp/tmpE9o0lW > /tmp/tmp0roQQB"
       ]
      }
     ],
     "prompt_number": 35
    },
    {
     "cell_type": "code",
     "collapsed": false,
     "input": [
      "unpreferable_places(1,2,np.array([1,2,3,4]))"
     ],
     "language": "python",
     "metadata": {},
     "outputs": [
      {
       "output_type": "stream",
       "stream": "stdout",
       "text": [
        "bla\n",
        "non bla\n"
       ]
      }
     ],
     "prompt_number": 64
    },
    {
     "cell_type": "code",
     "collapsed": false,
     "input": [
      "kblubb = np.array([[1,2,3],[11,22,33]])\n",
      "print np.sum(kblubb, axis = 1)"
     ],
     "language": "python",
     "metadata": {},
     "outputs": [
      {
       "output_type": "stream",
       "stream": "stdout",
       "text": [
        "[ 6 66]\n"
       ]
      }
     ],
     "prompt_number": 60
    },
    {
     "cell_type": "code",
     "collapsed": false,
     "input": [
      "def Testfunktion(Points, Starttemp, End):\n",
      "    twoaxis = np.size(Points, axis = 0)\n",
      "    oneaxis = np.size(Starttemp, axis = 0)\n",
      "    Starttemp = np.repeat(Starttemp, twoaxis, axis = 0)\n",
      "    Starttemp = np.reshape(Starttemp, (oneaxis, twoaxis, 3))\n",
      "    Endtemp = np.repeat(End, twoaxis, axis = 0)\n",
      "    Endtemp = np.reshape(Endtemp, (oneaxis, twoaxis, 3))\n",
      "    Points = np.tile(Points, (oneaxis,1))\n",
      "    Points = np.reshape(Points, (oneaxis, twoaxis, 3))\n",
      "    return (Starttemp, Endtemp, Points)\n",
      "\n",
      "\n",
      "Pointsblubb = np.array([[1,1,1],[2,2,2],[3,3,3]])\n",
      "Startblubb = np.array([[10,10,10],[20,20,20]])\n",
      "Endblubb = np.array([[11,11,11],[22,22,22]])\n",
      "\n",
      "bla =  Testfunktion(Pointsblubb,Startblubb, Endblubb)\n",
      "\n",
      "k = bla[0]\n",
      "\n",
      "blubbbool = np.array([[[True,True,True],[True,True,True],[True,False,True]], [[True,True,True],[True,True,True],[True,False,True]]])\n",
      "print np.invert(blubbbool)\n",
      "print k[blubbbool]\n",
      "ablubb = np.ones((2,3,3))\n",
      "k[blubbbool] = ablubb[blubbbool]\n",
      "print k"
     ],
     "language": "python",
     "metadata": {},
     "outputs": [
      {
       "ename": "ValueError",
       "evalue": "must specify expression as a string",
       "output_type": "pyerr",
       "traceback": [
        "\u001b[0;31m---------------------------------------------------------------------------\u001b[0m\n\u001b[0;31mValueError\u001b[0m                                Traceback (most recent call last)",
        "\u001b[0;32m<ipython-input-29-6923a9d1e6b1>\u001b[0m in \u001b[0;36m<module>\u001b[0;34m()\u001b[0m\n\u001b[1;32m     15\u001b[0m \u001b[0mEndblubb\u001b[0m \u001b[0;34m=\u001b[0m \u001b[0mnp\u001b[0m\u001b[0;34m.\u001b[0m\u001b[0marray\u001b[0m\u001b[0;34m(\u001b[0m\u001b[0;34m[\u001b[0m\u001b[0;34m[\u001b[0m\u001b[0;36m11\u001b[0m\u001b[0;34m,\u001b[0m\u001b[0;36m11\u001b[0m\u001b[0;34m,\u001b[0m\u001b[0;36m11\u001b[0m\u001b[0;34m]\u001b[0m\u001b[0;34m,\u001b[0m\u001b[0;34m[\u001b[0m\u001b[0;36m22\u001b[0m\u001b[0;34m,\u001b[0m\u001b[0;36m22\u001b[0m\u001b[0;34m,\u001b[0m\u001b[0;36m22\u001b[0m\u001b[0;34m]\u001b[0m\u001b[0;34m]\u001b[0m\u001b[0;34m)\u001b[0m\u001b[0;34m\u001b[0m\u001b[0m\n\u001b[1;32m     16\u001b[0m \u001b[0;34m\u001b[0m\u001b[0m\n\u001b[0;32m---> 17\u001b[0;31m \u001b[0mbla\u001b[0m \u001b[0;34m=\u001b[0m  \u001b[0mne\u001b[0m\u001b[0;34m.\u001b[0m\u001b[0mevaluate\u001b[0m\u001b[0;34m(\u001b[0m\u001b[0mTestfunktion\u001b[0m\u001b[0;34m(\u001b[0m\u001b[0mPointsblubb\u001b[0m\u001b[0;34m,\u001b[0m\u001b[0mStartblubb\u001b[0m\u001b[0;34m,\u001b[0m \u001b[0mEndblubb\u001b[0m\u001b[0;34m)\u001b[0m\u001b[0;34m)\u001b[0m\u001b[0;34m\u001b[0m\u001b[0m\n\u001b[0m\u001b[1;32m     18\u001b[0m \u001b[0;34m\u001b[0m\u001b[0m\n\u001b[1;32m     19\u001b[0m \u001b[0mk\u001b[0m \u001b[0;34m=\u001b[0m \u001b[0mbla\u001b[0m\u001b[0;34m[\u001b[0m\u001b[0;36m0\u001b[0m\u001b[0;34m]\u001b[0m\u001b[0;34m\u001b[0m\u001b[0m\n",
        "\u001b[0;32m/usr/lib/python2.7/dist-packages/numexpr/necompiler.pyc\u001b[0m in \u001b[0;36mevaluate\u001b[0;34m(ex, local_dict, global_dict, out, order, casting, **kwargs)\u001b[0m\n\u001b[1;32m    706\u001b[0m     \"\"\"\n\u001b[1;32m    707\u001b[0m     \u001b[0;32mif\u001b[0m \u001b[0;32mnot\u001b[0m \u001b[0misinstance\u001b[0m\u001b[0;34m(\u001b[0m\u001b[0mex\u001b[0m\u001b[0;34m,\u001b[0m \u001b[0;34m(\u001b[0m\u001b[0mstr\u001b[0m\u001b[0;34m,\u001b[0m \u001b[0municode\u001b[0m\u001b[0;34m)\u001b[0m\u001b[0;34m)\u001b[0m\u001b[0;34m:\u001b[0m\u001b[0;34m\u001b[0m\u001b[0m\n\u001b[0;32m--> 708\u001b[0;31m         \u001b[0;32mraise\u001b[0m \u001b[0mValueError\u001b[0m\u001b[0;34m(\u001b[0m\u001b[0;34m\"must specify expression as a string\"\u001b[0m\u001b[0;34m)\u001b[0m\u001b[0;34m\u001b[0m\u001b[0m\n\u001b[0m\u001b[1;32m    709\u001b[0m     \u001b[0;31m# Get the names for this expression\u001b[0m\u001b[0;34m\u001b[0m\u001b[0;34m\u001b[0m\u001b[0m\n\u001b[1;32m    710\u001b[0m     \u001b[0mcontext\u001b[0m \u001b[0;34m=\u001b[0m \u001b[0mgetContext\u001b[0m\u001b[0;34m(\u001b[0m\u001b[0mkwargs\u001b[0m\u001b[0;34m,\u001b[0m \u001b[0mframe_depth\u001b[0m\u001b[0;34m=\u001b[0m\u001b[0;36m1\u001b[0m\u001b[0;34m)\u001b[0m\u001b[0;34m\u001b[0m\u001b[0m\n",
        "\u001b[0;31mValueError\u001b[0m: must specify expression as a string"
       ]
      }
     ],
     "prompt_number": 29
    },
    {
     "cell_type": "code",
     "collapsed": false,
     "input": [
      "%debug"
     ],
     "language": "python",
     "metadata": {},
     "outputs": [
      {
       "output_type": "stream",
       "stream": "stdout",
       "text": [
        "> \u001b[0;32m/usr/lib/python2.7/dist-packages/numpy/core/fromnumeric.py\u001b[0m(218)\u001b[0;36mreshape\u001b[0;34m()\u001b[0m\n",
        "\u001b[0;32m    217 \u001b[0;31m        \u001b[0;32mreturn\u001b[0m \u001b[0m_wrapit\u001b[0m\u001b[0;34m(\u001b[0m\u001b[0ma\u001b[0m\u001b[0;34m,\u001b[0m \u001b[0;34m'reshape'\u001b[0m\u001b[0;34m,\u001b[0m \u001b[0mnewshape\u001b[0m\u001b[0;34m,\u001b[0m \u001b[0morder\u001b[0m\u001b[0;34m=\u001b[0m\u001b[0morder\u001b[0m\u001b[0;34m)\u001b[0m\u001b[0;34m\u001b[0m\u001b[0m\n",
        "\u001b[0m\u001b[0;32m--> 218 \u001b[0;31m    \u001b[0;32mreturn\u001b[0m \u001b[0mreshape\u001b[0m\u001b[0;34m(\u001b[0m\u001b[0mnewshape\u001b[0m\u001b[0;34m,\u001b[0m \u001b[0morder\u001b[0m\u001b[0;34m=\u001b[0m\u001b[0morder\u001b[0m\u001b[0;34m)\u001b[0m\u001b[0;34m\u001b[0m\u001b[0m\n",
        "\u001b[0m\u001b[0;32m    219 \u001b[0;31m\u001b[0;34m\u001b[0m\u001b[0m\n",
        "\u001b[0m\n"
       ]
      },
      {
       "name": "stdout",
       "output_type": "stream",
       "stream": "stdout",
       "text": [
        "ipdb> up\n"
       ]
      },
      {
       "output_type": "stream",
       "stream": "stdout",
       "text": [
        "> \u001b[0;32m<ipython-input-33-ce16f9a694d3>\u001b[0m(5)\u001b[0;36mTestfunktion\u001b[0;34m()\u001b[0m\n",
        "\u001b[0;32m      4 \u001b[0;31m    \u001b[0mStarttemp\u001b[0m \u001b[0;34m=\u001b[0m \u001b[0mnp\u001b[0m\u001b[0;34m.\u001b[0m\u001b[0mrepeat\u001b[0m\u001b[0;34m(\u001b[0m\u001b[0mStarttemp\u001b[0m\u001b[0;34m,\u001b[0m \u001b[0moneaxis\u001b[0m\u001b[0;34m,\u001b[0m \u001b[0maxis\u001b[0m \u001b[0;34m=\u001b[0m \u001b[0;36m0\u001b[0m\u001b[0;34m)\u001b[0m\u001b[0;34m\u001b[0m\u001b[0m\n",
        "\u001b[0m\u001b[0;32m----> 5 \u001b[0;31m    \u001b[0mStarttemp\u001b[0m \u001b[0;34m=\u001b[0m \u001b[0mnp\u001b[0m\u001b[0;34m.\u001b[0m\u001b[0mreshape\u001b[0m\u001b[0;34m(\u001b[0m\u001b[0mStarttemp\u001b[0m\u001b[0;34m,\u001b[0m \u001b[0;34m(\u001b[0m\u001b[0moneaxis\u001b[0m\u001b[0;34m,\u001b[0m \u001b[0mtwoaxis\u001b[0m\u001b[0;34m,\u001b[0m \u001b[0;36m3\u001b[0m\u001b[0;34m)\u001b[0m\u001b[0;34m)\u001b[0m\u001b[0;34m\u001b[0m\u001b[0m\n",
        "\u001b[0m\u001b[0;32m      6 \u001b[0;31m    \u001b[0mEndtemp\u001b[0m \u001b[0;34m=\u001b[0m \u001b[0mnp\u001b[0m\u001b[0;34m.\u001b[0m\u001b[0mrepeat\u001b[0m\u001b[0;34m(\u001b[0m\u001b[0mEnd\u001b[0m\u001b[0;34m,\u001b[0m \u001b[0moneaxis\u001b[0m\u001b[0;34m,\u001b[0m \u001b[0maxis\u001b[0m \u001b[0;34m=\u001b[0m \u001b[0;36m0\u001b[0m\u001b[0;34m)\u001b[0m\u001b[0;34m\u001b[0m\u001b[0m\n",
        "\u001b[0m\n"
       ]
      },
      {
       "name": "stdout",
       "output_type": "stream",
       "stream": "stdout",
       "text": [
        "ipdb> print oneaxis\n"
       ]
      },
      {
       "output_type": "stream",
       "stream": "stdout",
       "text": [
        "2\n"
       ]
      },
      {
       "name": "stdout",
       "output_type": "stream",
       "stream": "stdout",
       "text": [
        "ipdb> print twoaxis\n"
       ]
      },
      {
       "output_type": "stream",
       "stream": "stdout",
       "text": [
        "3\n"
       ]
      },
      {
       "name": "stdout",
       "output_type": "stream",
       "stream": "stdout",
       "text": [
        "ipdb> print Starttemp\n"
       ]
      },
      {
       "output_type": "stream",
       "stream": "stdout",
       "text": [
        "[[10 10 10]\n",
        " [10 10 10]\n",
        " [20 20 20]\n",
        " [20 20 20]]\n"
       ]
      },
      {
       "name": "stdout",
       "output_type": "stream",
       "stream": "stdout",
       "text": [
        "ipdb> exit\n"
       ]
      }
     ],
     "prompt_number": 34
    },
    {
     "cell_type": "code",
     "collapsed": false,
     "input": [
      "print np.size(erstepunkte[::1000], axis = 0)\n",
      "a = sort_out_by_protein([anfangspunkt], erstepunkte[::1000], pkte, minabstand)\n",
      "print a\n",
      "print np.size(a[1], axis = 0)"
     ],
     "language": "python",
     "metadata": {},
     "outputs": []
    },
    {
     "cell_type": "code",
     "collapsed": false,
     "input": [
      "a = range(0,10)\n",
      "print a\n",
      "\n",
      "a[-1]"
     ],
     "language": "python",
     "metadata": {},
     "outputs": []
    },
    {
     "cell_type": "code",
     "collapsed": false,
     "input": [
      "#muss noch getestet werden!!!\n",
      "#scheint noch nicht zu funktionieren\n",
      "anfangspunkt = np.array([[0,0,0],[0,-10, 0]])\n",
      "erstepunkte = np.array([[20,0,0], [0,20,0]])\n",
      "pkte = np.array([[10,0,7], [25,0,0], [0,20.2,0], [0,0,100]])\n",
      "\n",
      "print sort_out_by_protein(anfangspunkt, erstepunkte, pkte, minabstand)"
     ],
     "language": "python",
     "metadata": {},
     "outputs": []
    },
    {
     "cell_type": "code",
     "collapsed": false,
     "input": [
      "bla = np.array([[10,0,7], [25,0,0], [0,20.2,0], [0,0,100]])\n",
      "\n",
      "k = list(bla)\n",
      "k.append(list(bla))\n",
      "print np.array(k)"
     ],
     "language": "python",
     "metadata": {},
     "outputs": []
    },
    {
     "cell_type": "code",
     "collapsed": false,
     "input": [
      "a = np.array([[1,1,1], [2,2,2],[3,3,3]])\n",
      "np.mean(a, axis = 0)\n"
     ],
     "language": "python",
     "metadata": {},
     "outputs": [
      {
       "metadata": {},
       "output_type": "pyout",
       "prompt_number": 97,
       "text": [
        "array([ 2.,  2.,  2.])"
       ]
      }
     ],
     "prompt_number": 97
    },
    {
     "cell_type": "code",
     "collapsed": false,
     "input": [
      "import time\n",
      "a = np.random.random_sample((10000000,1))\n",
      "\n",
      "blubb = time.time()\n",
      "np.square(a)\n",
      "print blubb-time.time()\n",
      "\n",
      "blubb = time.time()\n",
      "a**2\n",
      "print blubb-time.time()"
     ],
     "language": "python",
     "metadata": {},
     "outputs": []
    },
    {
     "cell_type": "code",
     "collapsed": false,
     "input": [
      "np.random.random_sample((10000000,1))"
     ],
     "language": "python",
     "metadata": {},
     "outputs": []
    },
    {
     "cell_type": "code",
     "collapsed": false,
     "input": [
      "k = np.array([1,2,3,4,5,6,7,8])\n",
      "blubb = []\n",
      "for i in range(0,5):\n",
      "    print i\n",
      "    blubb.append( k[i::5])\n",
      "    \n",
      "np.array(blubb)\n",
      "blubb.flat"
     ],
     "language": "python",
     "metadata": {},
     "outputs": []
    },
    {
     "cell_type": "code",
     "collapsed": false,
     "input": [
      "a = np.array([1,2,3])\n",
      "a[0] = 4\n",
      "print a"
     ],
     "language": "python",
     "metadata": {},
     "outputs": []
    },
    {
     "cell_type": "code",
     "collapsed": false,
     "input": [
      "a = [1,2,3]\n",
      "a.append([1,2,3])\n",
      "print a"
     ],
     "language": "python",
     "metadata": {},
     "outputs": []
    },
    {
     "cell_type": "code",
     "collapsed": false,
     "input": [
      "c = [np.ones(10**9)]\n",
      "c.append(np.ones(10**9)*2)\n",
      "a = np.array(c)\n",
      "temp = np.ravel(a, 'F')\n",
      "print temp"
     ],
     "language": "python",
     "metadata": {},
     "outputs": []
    },
    {
     "cell_type": "code",
     "collapsed": false,
     "input": [
      "a = np.array([[1,1,1],[2,2,2]])\n",
      "\n",
      "print a\n",
      "b = np.array([[1,1,1],[2,2,2], [3,3,3]])\n",
      "\n",
      "print b\n",
      "\n",
      "aussortierennachabstaenden(a,b,3,1)\n"
     ],
     "language": "python",
     "metadata": {},
     "outputs": []
    },
    {
     "cell_type": "code",
     "collapsed": false,
     "input": [
      "np.max([False, False])\n"
     ],
     "language": "python",
     "metadata": {},
     "outputs": []
    },
    {
     "cell_type": "code",
     "collapsed": false,
     "input": [
      "bla=  np.reshape(blubb, (2,3))\n",
      "print bla\n",
      "np.max(bla, axis=1)\n",
      "\n",
      "import time\n",
      "start_time = time.time()\n",
      "print ( time.time() - start_time)"
     ],
     "language": "python",
     "metadata": {},
     "outputs": []
    },
    {
     "cell_type": "markdown",
     "metadata": {},
     "source": [
      "der n\u00e4chste Block kann wohl weg, aber man kann Teile aus ihm verwenden. Was man eigentlich will, ist eine Funktion, die aus drei Arrays, die Werte sucht, die im richtigen Abstand liegen und das dann wieder perfekt aufgebaut zur\u00fcckgibt, sodass einfach in der Zeile der komplette Weg durchgegangen wird..."
     ]
    },
    {
     "cell_type": "code",
     "collapsed": false,
     "input": [
      "#wie genau m\u00fcssen sich die St\u00fccke treffen wird durch hitgenauig bestimmt, es ist sin(5\u00b0) * maximale linkerl\u00e4nge\n",
      "hitgenauig = 0.0436 * laengstesstueck\n",
      "\n",
      "def aussortierennachabstaenden(punktearray, zielpunkte, abstand, variation):\n",
      "    temp1 = np.repeat(punktearray, np.size(zielpunkte, axis=0), axis =0)\n",
      "    temp2 = np.tile(zielpunkte, (np.size(punktearray, axis=0),1))\n",
      "    abstaende = np.reshape(abstandarrays(temp1, temp2), (np.size(punktearray, axis=0), np.size(zielpunkte, axis=0)))\n",
      "    passend = ((abstaende > (abstand-variation)) & (abstaende < (abstand+variation)))\n",
      "    keep = np.max(passend, axis=1) \n",
      "    return keep\n",
      "\n",
      "\n",
      "start_time = time.time()\n",
      "\n",
      "print np.shape(zweitepunkte)\n",
      "behalten = np.empty((np.size(zweitepunkte, axis=0), np.size(linkerlaengenKO)))\n",
      "zaehl = 0\n",
      "for laenge in linkerlaengenKO:\n",
      "    #TODO abfangen, falls es unter 50 gibt\n",
      "    #die Teilungen f\u00fcr das Array festlegen, weil das slicen und zusammenfuegen funkt nicht\n",
      "    teiler = np.size(zweitepunkte, axis=0)/(MakeSmall/10) #ist int\n",
      "    behalten[0:teiler,zaehl] = aussortierennachabstaenden(zweitepunkte[0:teiler], letztepunkte, laenge, hitgenauig)\n",
      "    \n",
      "    for i in range(1,(MakeSmall/10)):\n",
      "        behalten[ i*teiler: (i+1)*teiler,zaehl] = aussortierennachabstaenden(zweitepunkte[ i*teiler: (i+1)*teiler], letztepunkte,\\\n",
      "                                                     laenge, hitgenauig)\n",
      "    behalten[(i+1)*teiler: -1,zaehl] = aussortierennachabstaenden(zweitepunkte[(i+1)*teiler: -1], letztepunkte,\\\n",
      "                                                     laenge, hitgenauig)\n",
      "    \n",
      "    zaehl+=1\n",
      "    \n",
      "print ( time.time() - start_time)  \n",
      "\n",
      "#aussortieren nach den Punkten, hier eventuell zerteilen, wenn ich Dinge testen will\n",
      "behalten = np.max(behalten, axis = 1)\n",
      "behalten = behalten == 1\n",
      "zweitepunkte = zweitepunkte[behalten]\n",
      "erstepunkte = erstepunkte[behalten]\n",
      "    \n",
      "print np.shape(zweitepunkte)"
     ],
     "language": "python",
     "metadata": {},
     "outputs": []
    },
    {
     "cell_type": "code",
     "collapsed": false,
     "input": [],
     "language": "python",
     "metadata": {},
     "outputs": []
    }
   ],
   "metadata": {}
  }
 ]
}