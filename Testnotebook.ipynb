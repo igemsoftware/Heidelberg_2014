{
 "metadata": {
  "name": "",
  "signature": "sha256:4d3e19b7e2f33c4404a6fe22cf7b46185345274158f72563c901dde421fb0f41"
 },
 "nbformat": 3,
 "nbformat_minor": 0,
 "worksheets": [
  {
   "cells": [
    {
     "cell_type": "markdown",
     "metadata": {},
     "source": [
      "In diesem Notebook kann ich immer Code testen, w\u00e4hrend in dem anderen berechnet wird... \n",
      "\n",
      "Es setzt ein Framework, ohne den ganzen Berechnungsoverhead, bzw. Sortierungsoverhead, den es bei dem anderen gibt. Es wird nur der Anfang zur Verf\u00fcgung gestellt und dann das Ende, nachdem m\u00f6glichst die Wege sortiert wurden."
     ]
    },
    {
     "cell_type": "code",
     "collapsed": false,
     "input": [
      "#einlesen des PDB files. die Dateien sollten in proteine gespeichert werden\n",
      "import numpy as np\n",
      "import matplotlib\n",
      "matplotlib.use('GTK')\n",
      "import matplotlib.pyplot as plt\n",
      "from mpl_toolkits.mplot3d import Axes3D\n",
      "#%matplotlib inline\n",
      "from Bio.PDB import *\n",
      "#import gc\n",
      "import time #kann im Endeffekt aussortiert werden :-)\n",
      "import cPickle as pickle\n",
      "\n",
      "\n",
      "#Betrag eines Vektors\n",
      "def vectabs(x0, x1, x2):\n",
      "    return np.sqrt(x0**2 + x1**2 + x2*2)\n",
      "\n",
      "def vectabsar(ar):\n",
      "    return np.sqrt(ar[:,0]**2+ar[:,1]**2+ar[:,2]**2)\n",
      "\n",
      "#gibt normalenvektor zu ebene von drei Punkten aus, bereits normiert\n",
      "def ebene(a, b, c):\n",
      "    x0 = (a-b)[1]*(c-b)[2]-((a-b)[2]*(c-b)[1])\n",
      "    x1 = (a-b)[2]*(c-b)[0]-((a-b)[0]*(c-b)[2])\n",
      "    x2 = (a-b)[0]*(c-b)[1]-((a-b)[1]*(c-b)[0])\n",
      "    \n",
      "    xabs = vectabs(x0, x1, x2)\n",
      "    \n",
      "    return np.array([x0/xabs, x1/xabs, x2/xabs])\n",
      "\n",
      "#einen Vektor mit Drehmatrix drehen um a-achse\n",
      "def drehenx(phi, x, y, z):\n",
      "    x1 = x * np.cos(phi * 0)\n",
      "    y1 = y * np.cos(phi) - z * np.sin(phi)\n",
      "    z1 = y * np.sin(phi) + z * np.cos(phi)\n",
      "    return np.array([x1, y1, z1])\n",
      "\n",
      "def dreheny(phi, x, y, z):\n",
      "    x1 = x  * np.cos(phi) - z * np.sin(phi)\n",
      "    y1 = y * np.cos(phi * 0)\n",
      "    z1 = x * np.sin(phi) + z * np.cos(phi)\n",
      "    return np.array([x1, y1, z1])\n",
      "\n",
      "def drehenz(phi, x, y, z):\n",
      "    x1 = x  * np.cos(phi) - y * np.sin(phi)\n",
      "    y1 = x * np.sin(phi) +  y* np.cos(phi)\n",
      "    z1 = z * np.cos(phi * 0)\n",
      "    return np.array([x1, y1, z1])\n",
      "\n",
      "#dreht Vektor v (als np.array) um phi um die x-Achse, und theta um die y-Achse\n",
      "def drehenxy(phi, theta, v):\n",
      "    v = drehenx(phi, v[0], v[1], v[2])\n",
      "    return dreheny(theta, v[0], v[1], v[2])\n",
      "\n",
      "#den Abstand zweier Punkte bestimmen, den Punkt als Array eingeben.\n",
      "def abstand(x,y):\n",
      "    return np.sqrt((x[0]-y[0])**2+(x[1]-y[1])**2+(x[2]-y[2])**2)\n",
      "\n",
      "def betrag(x):\n",
      "    return np.sqrt((x[0])**2+(x[1])**2+(x[2])**2)\n",
      "\n",
      "def abstandpktzuarray(x, ar):\n",
      "    return np.sqrt((x[0]-ar[:,0])**2+(x[1]-ar[:,1])**2+(x[2]-ar[:,2])**2)\n",
      "\n",
      "def abstandarrays(ar1, ar2):\n",
      "    return np.sqrt((ar1[:,0]-ar2[:,0])**2+(ar1[:,1]-ar2[:,1])**2+(ar1[:,2]-ar2[:,2])**2)\n",
      "\n",
      "def skalar_product (ar1, ar2):\n",
      "    return (ar1[:,0]*ar2[:,0])+(ar1[:,1]*ar2[:,1])+(ar1[:,2]*ar2[:,2])\n",
      "\n",
      "#returns value between [0,pi] an array of size Startarray with the angles. If there is no displacement, it returns zero as value\n",
      "def angle_between_connections_array(StartArray, MiddleArray, EndArray):\n",
      "        vect1 = (StartArray - MiddleArray)\n",
      "        vect2 = (EndArray - MiddleArray)\n",
      "        #catch if there is 0 displacement\n",
      "        tocalculate = ((vect1 != np.array([0,0,0])).any(1)) & ((vect2 != np.array([0,0,0])).any(1))\n",
      "        vect1 = vect1[tocalculate]\n",
      "        vect2 = vect2[tocalculate]\n",
      "        angles = np.arccos(skalar_product(vect1, vect2)/(vectabsar(vect1)*vectabsar(vect2)))\n",
      "        returnangles = np.zeros(np.size(StartArray, axis = 0))\n",
      "        returnangles[tocalculate] = angles\n",
      "        return returnangles\n",
      "        \n",
      "   "
     ],
     "language": "python",
     "metadata": {},
     "outputs": [],
     "prompt_number": 1
    },
    {
     "cell_type": "code",
     "collapsed": false,
     "input": [
      "#PDB geht von N zu C Terminus     \n",
      "    \n",
      "\n",
      "#macht aus drei Arrays ein Array mit kleinen dreierarrays in einem gro\u00dfen A\n",
      "\n",
      "\n",
      "#macht aus drei Arrays\n",
      "    \n",
      "\n",
      "f = open('proteine/dnmt13PT9.pdb', 'r')\n",
      "#print pdbfile\n",
      "\n",
      "\n",
      "wholex = []\n",
      "wholey = []\n",
      "wholez = []\n",
      "wholeatom = []\n",
      "wholeaminos = []\n",
      "wholesubunit = []\n",
      "wholeasnr = []\n",
      "\n",
      "\n",
      "#line.split kann nicht verwendet werden, weil manchmal die spalten ineinander verschmelzen, weil das Format doof ist.\n",
      "\n",
      "for line in f:\n",
      "    art = line[:4]\n",
      "    if art == 'ATOM':\n",
      "        wholeatom.append(line[13:16])\n",
      "        wholeaminos.append(line[17:20])\n",
      "        wholesubunit.append(line[21])\n",
      "        wholeasnr.append(int(line[22:26]))\n",
      "        wholex.append(float(line[31:38]))\n",
      "        wholey.append(float(line[38:46]))\n",
      "        wholez.append(float(line[46:54]))\n",
      "        \n",
      "\n",
      "#aus allen Listen arrays machen\n",
      "wholeatom = np.array(wholeatom)\n",
      "wholeaminos = np.array(wholeaminos)\n",
      "wholesubunit = np.array(wholesubunit)\n",
      "wholeasnr = np.array(wholeasnr) \n",
      "#731-1602\n",
      "#oder 650 - 1602\n",
      "\n",
      "#let the user choose, what interests him.\n",
      "SubUnitChosen = \"A\"\n",
      "UserChosenStart = 731\n",
      "UserChosenEnd = 1602\n",
      "\n",
      "if UserChosenStart < np.min(wholeasnr[wholesubunit == SubUnitChosen]):\n",
      "    if UserChosenStart < np.min(wholeasnr[wholesubunit == SubUnitChosen]) - 5:\n",
      "        print \"Your PDB File does not contain the beginning of the protein and there is missing that much, that even an estimation of the beginning would be really bad. Please find a better PDB file, or risk it\"\n",
      "    else:\n",
      "        print \"Your PDB File does not contain the beginning of the protein, but there are less than 5 Aminoacids missing, so the position of the beginning will be estimated. If there is a better PDB file, upload it\"\n",
      "\n",
      "if UserChosenEnd > np.max(wholeasnr[wholesubunit == SubUnitChosen]):\n",
      "    if UserChosenEnd > np.max(wholeasnr[wholesubunit == SubUnitChosen]) + 5:\n",
      "        print \"Your PDB File does not contain the end of the protein and there is missing that much, that even an estimation of the beginning would be really bad. Please find a better PDB file, or risk it\"\n",
      "    else:\n",
      "        print \"Your PDB File does not contain the end of the protein, but there are less than 5 Aminoacids missing, so the position of the beginning will be estimated. If there is a better PDB file, upload it\"\n",
      "\n",
      "\n",
      "behalten = (((wholeasnr > UserChosenStart) & (wholesubunit == SubUnitChosen)) & (wholeasnr < UserChosenEnd)) #hier kann man einstellen, welche AS behalten werden sollen.\n",
      "\n",
      "InterestingAtom = wholeatom[behalten]\n",
      "InterestingAminos = wholeaminos[behalten]\n",
      "InterestingAANr = wholeasnr[behalten]\n",
      "\n",
      "#aus den drei Arrays eines machen, das Dimension n*3 hat, also ein Array aus lauter kleinen dreier Arrays\n",
      "\n",
      "# ein Pkt: pkte[0]\n",
      "# wieder zur\u00fcck: x = pkte[:,0]\n",
      "\n",
      "wholex = np.array(wholex)        \n",
      "wholey = np.array(wholey)\n",
      "wholez = np.array(wholez)\n",
      "\n",
      "anzahl = len(wholex)\n",
      "\n",
      "PointsOfAllSubunits = np.reshape(np.concatenate((wholex,wholey,wholez)), (anzahl,3), 'F')\n",
      "#choose the part, that is interesting for us this is points\n",
      "pkte = PointsOfAllSubunits[behalten]\n",
      "OtherPoints = PointsOfAllSubunits[wholesubunit != SubUnitChosen]\n",
      "\n",
      "#TODO Estimation of startingpoint, or user interface to get it.\n",
      "\n",
      "anfangspunkt = np.ravel(pkte[(InterestingAANr == InterestingAANr[0]) & (InterestingAtom == \"N  \")])\n",
      "endpunkt = np.ravel(pkte[(InterestingAANr == InterestingAANr[-1]) & (InterestingAtom == \"C  \")])\n",
      "\n",
      "\n",
      "AmountOfAtomsFirstAA = np.size(InterestingAANr[InterestingAANr == InterestingAANr[0]])  #anzahl an Atomen in der erstenas\n",
      "AmountOfAtomsLastAA = np.size(InterestingAANr[InterestingAANr == InterestingAANr[-1]])  #amount of atoms in last AS\n",
      "\n",
      "pickle.dump((pkte, InterestingAminos, InterestingAtom, InterestingAANr), open(\"savepoints.p\", \"wb\"))\n",
      "\n",
      "\n",
      "fig = plt.figure()\n",
      "ax = fig.add_subplot(111, projection='3d')\n",
      "ax.scatter(pkte[5:-5:,0], pkte[5:-5:,1], pkte[5:-5:,2], s=10)\n",
      "ax.scatter(pkte[:4:,0], pkte[:4:,1], pkte[:4:,2], s = 20, c =\"r\")\n",
      "ax.scatter(pkte[-4::,0], pkte[-4::,1], pkte[-4::,2], s = 20, c =\"r\")\n",
      "ax.scatter(OtherPoints[:,0], OtherPoints[:,1], OtherPoints[:,2], s=10, c = \"g\")\n"
     ],
     "language": "python",
     "metadata": {},
     "outputs": [
      {
       "output_type": "stream",
       "stream": "stdout",
       "text": [
        "Your PDB File does not contain the end of the protein, but there are less than 5 Aminoacids missing, so the position of the beginning will be estimated. If there is a better PDB file, upload it\n"
       ]
      },
      {
       "metadata": {},
       "output_type": "pyout",
       "prompt_number": 2,
       "text": [
        "<mpl_toolkits.mplot3d.art3d.Patch3DCollection at 0x7fe3a8ca1fd0>"
       ]
      }
     ],
     "prompt_number": 2
    },
    {
     "cell_type": "code",
     "collapsed": false,
     "input": [
      "erstepunkteeins = pickle.load( open( \"saveersteeins.p\", \"rb\" ) )\n",
      "#erstepunktezwei = pickle.load( open( \"saveerstezwei.p\", \"rb\" ) )\n",
      "#erstepunkte = np.concatenate((erstepunkteeins, erstepunktezwei), axis = 0)\n",
      "erstepunkteeins = erstepunkteeins[:1000]\n",
      "zweitepunkteeins = pickle.load( open( \"savezweiteeins.p\", \"rb\" ) )\n",
      "zweitepunkteeins = zweitepunkteeins[:1000]\n",
      "#zweitepunktezwei = pickle.load( open( \"savezweitezwei.p\", \"rb\" ) )\n",
      "\n",
      "#zweitepunkte = np.concatenate((zweitepunkteeins, zweitepunktezwei), axis = 0)\n",
      "drittepunkteeins = pickle.load( open(\"savedritteeins.p\", \"rb\"))\n",
      "drittepunkteeins = drittepunkteeins[:1000]\n",
      "#drittepunktezwei = pickle.load( open(\"savedrittezwei.p\", \"rb\"))\n",
      "\n",
      "#drittepunkte = np.concatenate((drittepunkteeins, drittepunktezwei), axis = 0)"
     ],
     "language": "python",
     "metadata": {},
     "outputs": [],
     "prompt_number": 3
    },
    {
     "cell_type": "code",
     "collapsed": false,
     "input": [
      "erstepunkte = erstepunkteeins\n",
      "zweitepunkte = zweitepunkteeins\n",
      "drittepunkte = drittepunkteeins"
     ],
     "language": "python",
     "metadata": {},
     "outputs": [],
     "prompt_number": 4
    },
    {
     "cell_type": "code",
     "collapsed": false,
     "input": [
      "abcde = np.array([1,0,0])\n",
      "if os.path.exists('files/datatest.h5'):\n",
      "    os.remove('files/datatest.h5')\n",
      "h5f = h5py.File('files/datatest.h5', 'w')\n",
      "abcde = np.array([1,1,1])\n",
      "for count in range(2):\n",
      "    for laenge in range(2):\n",
      "        h5f.create_dataset(\"dataset_{points}{linker}\".format(points = count, linker = laenge), data=erstepunkte)\n",
      "h5f.close()"
     ],
     "language": "python",
     "metadata": {},
     "outputs": [],
     "prompt_number": 74
    },
    {
     "cell_type": "code",
     "collapsed": false,
     "input": [
      "h5f = h5py.File('files/datatest.h5','r')\n",
      "b = h5f['dataset_00'][:150]\n",
      "c = h5f['dataset_10'][:400]\n",
      "print len(h5f['dataset_00'])\n",
      "h5f.close()\n",
      "print np.shape(b)\n",
      "print np.shape(c)\n",
      "\n"
     ],
     "language": "python",
     "metadata": {},
     "outputs": [
      {
       "output_type": "stream",
       "stream": "stdout",
       "text": [
        "1000\n",
        "(150, 3)\n",
        "(400, 3)\n"
       ]
      }
     ],
     "prompt_number": 80
    },
    {
     "cell_type": "code",
     "collapsed": false,
     "input": [
      "np.allclose(erstepunkte,b)"
     ],
     "language": "python",
     "metadata": {},
     "outputs": [
      {
       "metadata": {},
       "output_type": "pyout",
       "prompt_number": 11,
       "text": [
        "True"
       ]
      }
     ],
     "prompt_number": 11
    },
    {
     "cell_type": "code",
     "collapsed": false,
     "input": [
      "\"{blabla}\".format(blabla = str(erstepunkte))"
     ],
     "language": "python",
     "metadata": {},
     "outputs": [
      {
       "metadata": {},
       "output_type": "pyout",
       "prompt_number": 16,
       "text": [
        "'[[-34.625    21.28125  85.3125 ]\\n [-34.625    21.28125  85.3125 ]\\n [-34.625    21.28125  85.3125 ]\\n ..., \\n [-49.03125  21.28125  80.75   ]\\n [-49.03125  21.28125  80.75   ]\\n [-49.03125  21.28125  80.75   ]]'"
       ]
      }
     ],
     "prompt_number": 16
    },
    {
     "cell_type": "code",
     "collapsed": false,
     "input": [
      "#RAM in GByte,\n",
      "#repetition, how often is the largest array repeted\n",
      "def make_small_generator(PointArray, repetition, RAM, ProteinArray = None):\n",
      "    AvailableRAM = RAM * 1073741824 #in BytesWaBytesWarning\n",
      "    if ProteinArray != None:\n",
      "        proteinsize = np.size(ProteinArray, axis = 0)\n",
      "    else:\n",
      "        proteinsize = 1\n",
      "        \n",
      "    PointSize = PointArray.nbytes #in Bytes\n",
      "    UsedMem = PointSize * proteinsize * repetition\n",
      "    \n",
      "    return (int(UsedMem) / AvailableRAM) + 1\n",
      "\n"
     ],
     "language": "python",
     "metadata": {},
     "outputs": [],
     "prompt_number": 7
    },
    {
     "cell_type": "code",
     "collapsed": false,
     "input": [
      "#this is not yet the final function, in the end it should also get an array with best estimations for angles and some\n",
      "#array of points, that are not good for the linker\n",
      "#it should return an array with for every linkerpath a certain value. From this we can find the best one.\n",
      "#also it should take some parameters in the end,\n",
      "\n",
      "#die Winkelfunktion muss man noch \u00fcberlegen, in the end it returns a on one normed value.\n",
      "def angle_function(StartingArray, MiddleArray, EndingArray):\n",
      "    vect1 = (StartingArray - MiddleArray)\n",
      "    vect2 = (EndingArray - MiddleArray)\n",
      "    #catch if there is 0 displacement\n",
      "    tocalculate = ((vect1 != np.array([0,0,0])).any(1)) & ((vect2 != np.array([0,0,0])).any(1))\n",
      "    vecttemp1 = vect1[tocalculate]\n",
      "    vecttemp2 = vect2[tocalculate]\n",
      "    angles = np.arccos(skalar_product(vecttemp1, vecttemp2)/(vectabsar(vecttemp1)*vectabsar(vecttemp2)))\n",
      "    functionvalues = np.zeros(np.size(MiddleArray, axis = 0))\n",
      "    functionvalues[tocalculate] = np.sin(angles)\n",
      "    return functionvalues\n",
      "\n",
      "#needs a on one normed array of the weighing of the points, if not all points are equally weighed\n",
      "\n",
      "#TODO: Start can be array or just points, End has to be an array...\n",
      "def unpreferable_places(Start, End, ProteinPoints, AminoacidNumberArray, ToBeWeighedAAInput, WeighingofAA = None):\n",
      "    if np.size(Start, axis = 0) ==1:\n",
      "        Starttemp = np.repeat(Start, np.size(End, axis = 0), axis = 0)\n",
      "    else:\n",
      "        Starttemp = Start\n",
      "    SliceToBeWeighed = np.in1d(ToBeWeighedAAInput, AminoacidNumberArray)\n",
      "    ToBeWeighedAA = ToBeWeighedAAInput[SliceToBeWeighed]\n",
      "    #reduce the points to their mean, so that every aminoacid is equally weighed and not long ones are more important than\n",
      "    #than short ones\n",
      "    Points = []\n",
      "    for number in ToBeWeighedAA:\n",
      "        Points.append(np.mean(ProteinPoints[AminoacidNumberArray == number], axis = 0))\n",
      "    Points = np.array(Points)\n",
      "    \n",
      "    #reshape the arrays and the points, have a Points*Start array\n",
      "    twoaxis = np.size(Points, axis = 0)\n",
      "    oneaxis = np.size(Starttemp, axis = 0)\n",
      "    \n",
      "    Starttemp = np.repeat(Starttemp, twoaxis, axis = 0)\n",
      "    Endtemp = np.repeat(End, twoaxis, axis = 0)\n",
      "    Points = np.tile(Points, (oneaxis,1))\n",
      "    \n",
      "    \n",
      "    if WeighingofAA == None:\n",
      "        WeighingofAA = np.ones(twoaxis)\n",
      "        \n",
      "    #the array is normalized here and gets the size of the points\n",
      "    WeighingofAAtemp = (WeighingofAA/np.mean(WeighingofAA))[SliceToBeWeighed]\n",
      "    WeighingofAAtemp = np.tile(WeighingofAAtemp, (oneaxis,1))\n",
      "    WeighingofAAtemp = np.reshape(WeighingofAAtemp, (oneaxis, twoaxis))\n",
      "    \n",
      "    #TODO: Points, that are too far away from the linker are irrelevant    \n",
      "    StartPunkteAbst = abstandarrays(Starttemp, Points)\n",
      "    StartPunkteAbst = np.reshape(StartPunkteAbst, (oneaxis, twoaxis))\n",
      "    \n",
      "    EndPunkteAbst = abstandarrays(Endtemp, Points)\n",
      "    EndPunkteAbst = np.reshape(EndPunkteAbst, (oneaxis, twoaxis))\n",
      "    \n",
      "    AngleAtStart = angle_between_connections_array(Points, Starttemp, Endtemp)\n",
      "    AngleAtStart = np.reshape(AngleAtStart, (oneaxis, twoaxis))\n",
      "    \n",
      "    AngleAtEnd = angle_between_connections_array(Points, Endtemp, Starttemp)\n",
      "    AngleAtEnd = np.reshape(AngleAtEnd, (oneaxis, twoaxis))\n",
      "    \n",
      "    \n",
      "    \n",
      "    #die Punkte mit \u00fcber 90\u00b0 nehmen einfach den Abstand vom Ende, die kleiner als 90\u00b0 den senkrechten Abstand\n",
      "    StartBiggerNinetyBool = (AngleAtStart >  np.pi/2) | (AngleAtStart == 0)\n",
      "    EndBiggerNinetyBool = (AngleAtEnd > np.pi/2) | (AngleAtEnd == 0)\n",
      "    NotUseBool = np.invert(StartBiggerNinetyBool | EndBiggerNinetyBool)\n",
      "    DistanceFromConnection = np.empty((oneaxis, twoaxis))\n",
      "    DistanceFromConnection[NotUseBool] = np.sin(AngleAtStart[NotUseBool]) * StartPunkteAbst[NotUseBool]\n",
      "    DistanceFromConnection[EndBiggerNinetyBool] = EndPunkteAbst[EndBiggerNinetyBool]\n",
      "    DistanceFromConnection[StartBiggerNinetyBool] = StartPunkteAbst[StartBiggerNinetyBool]\n",
      "    \n",
      "    \n",
      "    #TODO: zu welcher Potenz soll das dann gehen?\n",
      "    ValueOfPoint = WeighingofAAtemp / DistanceFromConnection ** 2\n",
      "    return np.sum(ValueOfPoint, axis = 1)\n",
      "\n",
      "def distance_from_surface(FirstPoints, SecondPoints, ThirdPoints, ProteinPoints):\n",
      "    Horiz_Axis = np.size(ProteinPoints, axis = 0)\n",
      "    Vert_Axis = np.size(FirstPoints, axis = 0)\n",
      "    \n",
      "    Prottemp = np.tile(ProteinPoints, (Vert_Axis, 1))\n",
      "    \n",
      "    #compute everything with first array\n",
      "    Firsttemp = np.repeat(FirstPoints, Horiz_Axis, axis = 0)\n",
      "    Distances = abstandarrays(Firsttemp, Prottemp)    \n",
      "    Distances = np.reshape(Distances, (Vert_Axis, Horiz_Axis))\n",
      "    Distances = np.min(Distances, axis = 1)\n",
      "    Distancesret = Distances / np.min(Distances)\n",
      "    \n",
      "    Secondtemp = np.repeat(SecondPoints, Horiz_Axis, axis = 0)\n",
      "    Distances = abstandarrays(Secondtemp, Prottemp)    \n",
      "    Distances = np.reshape(Distances, (Vert_Axis, Horiz_Axis))\n",
      "    Distances = np.min(Distances, axis = 1)\n",
      "    Distancesret = Distances / np.min(Distances) + Distancesret\n",
      "    \n",
      "    Thirdtemp = np.repeat(ThirdPoints, Horiz_Axis, axis = 0)\n",
      "    Distances = abstandarrays(Thirdtemp, Prottemp)    \n",
      "    Distances = np.reshape(Distances, (Vert_Axis, Horiz_Axis))\n",
      "    Distances = np.min(Distances, axis = 1)\n",
      "    Distancesret = Distances / np.min(Distances) + Distancesret\n",
      "    \n",
      "    return Distancesret\n",
      "    \n",
      "    \n",
      "    \n",
      "        \n",
      "\n",
      "def weighing_function(StartPoint, FirstArray, SecondArray, ThirdArray, EndPoint,\\\n",
      "                      ProteinPoints, AminoacidNumberArray, ToBeWeighedAA, WeighingofAA = None):\n",
      "    \n",
      "    LinkerLength = abstandpktzuarray(StartPoint, FirstArray) + abstandarrays(FirstArray, SecondArray) \\\n",
      "    + abstandarrays(SecondArray, ThirdArray) + abstandpktzuarray(EndPoint, ThirdArray) \n",
      "    \n",
      "    LengthNormed = LinkerLength / (abstand(StartPoint, EndPoint))\n",
      "    \n",
      "    Angles = angle_function(StartPoint, FirstArray, SecondArray) + angle_function(FirstArray, SecondArray, ThirdArray) + \\\n",
      "    angle_function(SecondArray, ThirdArray, EndPoint)\n",
      "    \n",
      "    SiteInfluenceNormed = unpreferable_places([StartPoint], FirstArray,\\\n",
      "                                              ProteinPoints, AminoacidNumberArray, ToBeWeighedAA, WeighingofAA) + \\\n",
      "    unpreferable_places(FirstArray, SecondArray, ProteinPoints, AminoacidNumberArray, ToBeWeighedAA, WeighingofAA) + \\\n",
      "    unpreferable_places(SecondArray, ThirdArray, ProteinPoints, AminoacidNumberArray, ToBeWeighedAA, WeighingofAA) + \\\n",
      "    unpreferable_places([EndPoint], ThirdArray, ProteinPoints, AminoacidNumberArray, ToBeWeighedAA, WeighingofAA)\n",
      "    \n",
      "    DistancesFromProtein = distance_from_surface(FirstArray, SecondArray, ThirdArray, ProteinPoints)\n",
      "    \n",
      "    weighedvalue = LengthNormed\n",
      "    return (weighedvalue, LengthNormed * abstand(StartPoint, EndPoint), Angles, SiteInfluenceNormed, DistancesFromProtein)"
     ],
     "language": "python",
     "metadata": {},
     "outputs": [],
     "prompt_number": 78
    },
    {
     "cell_type": "code",
     "collapsed": false,
     "input": [
      "#Userstring ist von der Form: 273,10 280-290,5  usw. (Leerzeichen trennen Eintr\u00e4ge)\n",
      "def make_weighingarrays(Userstring):\n",
      "    ShouldBeWeighed = []\n",
      "    Weighingarray = []    \n",
      "    Userlist = Userstring.split()\n",
      "    for entry in Userlist:\n",
      "        if entry.find(\"-\") == -1:\n",
      "            #- is not in entry\n",
      "            entry.split(\",\")\n",
      "            ShouldBeWeighed.append(int(entry.split(\",\")[0]))\n",
      "            Weighingarray.append(int(entry.split(\",\")[1]))\n",
      "        else:\n",
      "            #appends every entry, so borders are included in the interval\n",
      "            ShouldBeWeighed += (range(int(entry.split(\",\")[0].split(\"-\")[0]),int(entry.split(\",\")[0].split(\"-\")[1])+1))\n",
      "            #for many values they should be normed in weighing. it's the sites that interest us.\n",
      "            Weighingarray += ([float(entry.split(\",\")[1])/ \\\n",
      "                                  (int(entry.split(\",\")[0].split(\"-\")[1])+1-int(entry.split(\",\")[0].split(\"-\")[0]))]* \\\n",
      "                                 (int(entry.split(\",\")[0].split(\"-\")[1])+1-int(entry.split(\",\")[0].split(\"-\")[0])))\n",
      "            \n",
      "    return (np.array(ShouldBeWeighed), np.array(Weighingarray))"
     ],
     "language": "python",
     "metadata": {},
     "outputs": []
    },
    {
     "cell_type": "code",
     "collapsed": false,
     "input": [
      "            \n",
      "UserdefinedWeighing = \"1229,10 1224-1602,1 1142-1601,1\"\n",
      "\n",
      "\n",
      "\n",
      "ShouldBeWeighed = make_weighingarrays(UserdefinedWeighing)[0]\n",
      "Weighingarray = make_weighingarrays(UserdefinedWeighing)[1]\n",
      "\n",
      "\n",
      "MakeSmall = make_small_generator(zweitepunkte, 4 , 6 , ProteinArray = ShouldBeWeighed)\n",
      "\n",
      "teiler = np.size(zweitepunkte, axis=0)/(MakeSmall)\n",
      "temp = weighing_function(anfangspunkt, erstepunkte[:teiler], zweitepunkte[:teiler], drittepunkte[:teiler], endpunkt, pkte, InterestingAANr,\\\n",
      "                      ShouldBeWeighed, Weighingarray)\n",
      "\n",
      "knull = temp[0]\n",
      "keins = temp[1]\n",
      "kzwei = temp[2]\n",
      "kdrei = temp[3]\n",
      "kvier = temp[4]\n",
      "\n",
      "\n",
      "for i in range(1, MakeSmall):\n",
      "    temp = weighing_function(anfangspunkt, erstepunkte[i * teiler:(i+1)*teiler], zweitepunkte[i * teiler:(i+1)*teiler],\\\n",
      "                             drittepunkte[i * teiler:(i+1)*teiler], endpunkt, pkte, InterestingAANr, ShouldBeWeighed,\\\n",
      "                             Weighingarray)\n",
      "    \n",
      "    knull = np.concatenate((knull, temp[0]), axis =0)\n",
      "    keins = np.concatenate((keins, temp[1]), axis =0)\n",
      "    kzwei = np.concatenate((kzwei, temp[2]), axis =0)\n",
      "    kdrei = np.concatenate((kdrei, temp[3]), axis =0)\n",
      "    kvier = np.concatenate((kvier, temp[4]), axis =0)\n",
      "    \n",
      "    \n",
      "try:\n",
      "    temp = weighing_function(anfangspunkt, erstepunkte[(i+1)*teiler:-1], zweitepunkte[(i+1)*teiler:-1],\\\n",
      "                                 drittepunkte[(i+1)*teiler:-1], endpunkt, pkte, InterestingAANr, ShouldBeWeighed,\\\n",
      "                                 Weighingarray)\n",
      "\n",
      "    \n",
      "    knull = np.concatenate((knull, temp[0]), axis =0)\n",
      "    keins = np.concatenate((keins, temp[1]), axis =0)\n",
      "    kzwei = np.concatenate((kzwei, temp[2]), axis =0)\n",
      "    kdrei = np.concatenate((kdrei, temp[3]), axis =0)\n",
      "    kvier = np.concatenate((kvier, temp[4]), axis =0)\n",
      "\n",
      "\n",
      "except:\n",
      "    pass\n",
      "k = (knull, keins, kzwei, kdrei, kvier)"
     ],
     "language": "python",
     "metadata": {},
     "outputs": [],
     "prompt_number": 81
    },
    {
     "cell_type": "code",
     "collapsed": false,
     "input": [
      "np.min(k[4])"
     ],
     "language": "python",
     "metadata": {},
     "outputs": [
      {
       "metadata": {},
       "output_type": "pyout",
       "prompt_number": 84,
       "text": [
        "3.1670199083028265"
       ]
      }
     ],
     "prompt_number": 84
    },
    {
     "cell_type": "code",
     "collapsed": false,
     "input": [
      "print k[2]\n",
      "print np.mean(k[3])\n",
      "print np.std(k[3])\n",
      "print erstepunktebla[np.argsort(k[2])], zweitepunktebla[np.argsort(k[2])], drittepunktebla[np.argsort(k[2])]\n"
     ],
     "language": "python",
     "metadata": {},
     "outputs": [
      {
       "output_type": "stream",
       "stream": "stdout",
       "text": [
        "[ 2.06108275  2.03073126  2.13969038 ...,  2.56548707  2.61286037  0.        ]\n",
        "3.60033509566\n",
        "0.276448621283\n",
        "[[-34.612       21.275       60.172     ]\n",
        " [-38.97436589  21.275       84.91220636]\n",
        " [-36.80151471  21.275       85.19826764]\n",
        " ..., \n",
        " [-40.65399128  19.72946021  76.77223461]\n",
        " [-40.65399128  19.72946021  76.77223461]\n",
        " [-40.65399128  19.72946021  76.77223461]] [[-34.612       21.275       60.172     ]\n",
        " [-33.81099958 -13.27892078  65.64226096]\n",
        " [-44.6287734  -11.40870041  63.69305113]\n",
        " ..., \n",
        " [-42.39272355 -20.01814135  73.76066198]\n",
        " [-42.1236313  -20.01814135  73.62058142]\n",
        " [-41.8433542  -20.01814135  73.50448684]] [[-34.612       21.275       60.172     ]\n",
        " [-31.873      -29.6105933   56.20865292]\n",
        " [-47.57443699 -24.28537472  53.93968662]\n",
        " ..., \n",
        " [-54.67128765 -19.34846454  59.30332907]\n",
        " [-54.67128765 -19.34846454  59.30332907]\n",
        " [-54.67128765 -19.34846454  59.30332907]]\n"
       ]
      }
     ],
     "prompt_number": 106
    },
    {
     "cell_type": "code",
     "collapsed": false,
     "input": [
      "surface = get_surface(\"proteine/dnmt13PT9.pdb\")"
     ],
     "language": "python",
     "metadata": {},
     "outputs": [
      {
       "ename": "AssertionError",
       "evalue": "Failed to generate surface file using command:\nmsms -probe_radius 1.5 -if /tmp/tmpV9li5O -of /tmp/tmp3izxU3 > /tmp/tmpkxMsO7",
       "output_type": "pyerr",
       "traceback": [
        "\u001b[0;31m---------------------------------------------------------------------------\u001b[0m\n\u001b[0;31mAssertionError\u001b[0m                            Traceback (most recent call last)",
        "\u001b[0;32m<ipython-input-119-5d28ca86a828>\u001b[0m in \u001b[0;36m<module>\u001b[0;34m()\u001b[0m\n\u001b[0;32m----> 1\u001b[0;31m \u001b[0msurface\u001b[0m \u001b[0;34m=\u001b[0m \u001b[0mget_surface\u001b[0m\u001b[0;34m(\u001b[0m\u001b[0;34m\"proteine/dnmt13PT9.pdb\"\u001b[0m\u001b[0;34m)\u001b[0m\u001b[0;34m\u001b[0m\u001b[0m\n\u001b[0m",
        "\u001b[0;32m/usr/lib/python2.7/dist-packages/Bio/PDB/ResidueDepth.pyc\u001b[0m in \u001b[0;36mget_surface\u001b[0;34m(pdb_file, PDB_TO_XYZR, MSMS)\u001b[0m\n\u001b[1;32m     90\u001b[0m     \u001b[0msurface_file\u001b[0m\u001b[0;34m=\u001b[0m\u001b[0msurface_tmp\u001b[0m\u001b[0;34m+\u001b[0m\u001b[0;34m\".vert\"\u001b[0m\u001b[0;34m\u001b[0m\u001b[0m\n\u001b[1;32m     91\u001b[0m     \u001b[0;32massert\u001b[0m \u001b[0mos\u001b[0m\u001b[0;34m.\u001b[0m\u001b[0mpath\u001b[0m\u001b[0;34m.\u001b[0m\u001b[0misfile\u001b[0m\u001b[0;34m(\u001b[0m\u001b[0msurface_file\u001b[0m\u001b[0;34m)\u001b[0m\u001b[0;34m,\u001b[0m\u001b[0;31m \u001b[0m\u001b[0;31m\\\u001b[0m\u001b[0;34m\u001b[0m\u001b[0m\n\u001b[0;32m---> 92\u001b[0;31m         \u001b[0;34m\"Failed to generate surface file using command:\\n%s\"\u001b[0m \u001b[0;34m%\u001b[0m \u001b[0mmake_surface\u001b[0m\u001b[0;34m\u001b[0m\u001b[0m\n\u001b[0m\u001b[1;32m     93\u001b[0m     \u001b[0;31m# read surface vertices from vertex file\u001b[0m\u001b[0;34m\u001b[0m\u001b[0;34m\u001b[0m\u001b[0m\n\u001b[1;32m     94\u001b[0m     \u001b[0msurface\u001b[0m\u001b[0;34m=\u001b[0m\u001b[0m_read_vertex_array\u001b[0m\u001b[0;34m(\u001b[0m\u001b[0msurface_file\u001b[0m\u001b[0;34m)\u001b[0m\u001b[0;34m\u001b[0m\u001b[0m\n",
        "\u001b[0;31mAssertionError\u001b[0m: Failed to generate surface file using command:\nmsms -probe_radius 1.5 -if /tmp/tmpV9li5O -of /tmp/tmp3izxU3 > /tmp/tmpkxMsO7"
       ]
      }
     ],
     "prompt_number": 119
    },
    {
     "cell_type": "code",
     "collapsed": false,
     "input": [
      "np.empty()"
     ],
     "language": "python",
     "metadata": {},
     "outputs": [
      {
       "output_type": "stream",
       "stream": "stdout",
       "text": [
        "> \u001b[0;32m<ipython-input-1-d84fb7593556>\u001b[0m(66)\u001b[0;36mabstandarrays\u001b[0;34m()\u001b[0m\n",
        "\u001b[0;32m     65 \u001b[0;31m\u001b[0;32mdef\u001b[0m \u001b[0mabstandarrays\u001b[0m\u001b[0;34m(\u001b[0m\u001b[0mar1\u001b[0m\u001b[0;34m,\u001b[0m \u001b[0mar2\u001b[0m\u001b[0;34m)\u001b[0m\u001b[0;34m:\u001b[0m\u001b[0;34m\u001b[0m\u001b[0m\n",
        "\u001b[0m\u001b[0;32m---> 66 \u001b[0;31m    \u001b[0;32mreturn\u001b[0m \u001b[0mnp\u001b[0m\u001b[0;34m.\u001b[0m\u001b[0msqrt\u001b[0m\u001b[0;34m(\u001b[0m\u001b[0;34m(\u001b[0m\u001b[0mar1\u001b[0m\u001b[0;34m[\u001b[0m\u001b[0;34m:\u001b[0m\u001b[0;34m,\u001b[0m\u001b[0;36m0\u001b[0m\u001b[0;34m]\u001b[0m\u001b[0;34m-\u001b[0m\u001b[0mar2\u001b[0m\u001b[0;34m[\u001b[0m\u001b[0;34m:\u001b[0m\u001b[0;34m,\u001b[0m\u001b[0;36m0\u001b[0m\u001b[0;34m]\u001b[0m\u001b[0;34m)\u001b[0m\u001b[0;34m**\u001b[0m\u001b[0;36m2\u001b[0m\u001b[0;34m+\u001b[0m\u001b[0;34m(\u001b[0m\u001b[0mar1\u001b[0m\u001b[0;34m[\u001b[0m\u001b[0;34m:\u001b[0m\u001b[0;34m,\u001b[0m\u001b[0;36m1\u001b[0m\u001b[0;34m]\u001b[0m\u001b[0;34m-\u001b[0m\u001b[0mar2\u001b[0m\u001b[0;34m[\u001b[0m\u001b[0;34m:\u001b[0m\u001b[0;34m,\u001b[0m\u001b[0;36m1\u001b[0m\u001b[0;34m]\u001b[0m\u001b[0;34m)\u001b[0m\u001b[0;34m**\u001b[0m\u001b[0;36m2\u001b[0m\u001b[0;34m+\u001b[0m\u001b[0;34m(\u001b[0m\u001b[0mar1\u001b[0m\u001b[0;34m[\u001b[0m\u001b[0;34m:\u001b[0m\u001b[0;34m,\u001b[0m\u001b[0;36m2\u001b[0m\u001b[0;34m]\u001b[0m\u001b[0;34m-\u001b[0m\u001b[0mar2\u001b[0m\u001b[0;34m[\u001b[0m\u001b[0;34m:\u001b[0m\u001b[0;34m,\u001b[0m\u001b[0;36m2\u001b[0m\u001b[0;34m]\u001b[0m\u001b[0;34m)\u001b[0m\u001b[0;34m**\u001b[0m\u001b[0;36m2\u001b[0m\u001b[0;34m)\u001b[0m\u001b[0;34m\u001b[0m\u001b[0m\n",
        "\u001b[0m\u001b[0;32m     67 \u001b[0;31m\u001b[0;34m\u001b[0m\u001b[0m\n",
        "\u001b[0m\n"
       ]
      },
      {
       "name": "stdout",
       "output_type": "stream",
       "stream": "stdout",
       "text": [
        "ipdb> up\n"
       ]
      },
      {
       "output_type": "stream",
       "stream": "stdout",
       "text": [
        "> \u001b[0;32m<ipython-input-48-3c1ccb3333b6>\u001b[0m(55)\u001b[0;36munpreferable_places\u001b[0;34m()\u001b[0m\n",
        "\u001b[0;32m     54 \u001b[0;31m    \u001b[0;31m#TODO: Points, that are too far away from the linker are irrelevant\u001b[0m\u001b[0;34m\u001b[0m\u001b[0;34m\u001b[0m\u001b[0m\n",
        "\u001b[0m\u001b[0;32m---> 55 \u001b[0;31m    \u001b[0mStartPunkteAbst\u001b[0m \u001b[0;34m=\u001b[0m \u001b[0mabstandarrays\u001b[0m\u001b[0;34m(\u001b[0m\u001b[0mStarttemp\u001b[0m\u001b[0;34m,\u001b[0m \u001b[0mPoints\u001b[0m\u001b[0;34m)\u001b[0m\u001b[0;34m\u001b[0m\u001b[0m\n",
        "\u001b[0m\u001b[0;32m     56 \u001b[0;31m    \u001b[0mEndPunkteAbst\u001b[0m \u001b[0;34m=\u001b[0m \u001b[0mabstandarrays\u001b[0m\u001b[0;34m(\u001b[0m\u001b[0mEndtemp\u001b[0m\u001b[0;34m,\u001b[0m \u001b[0mPoints\u001b[0m\u001b[0;34m)\u001b[0m\u001b[0;34m\u001b[0m\u001b[0m\n",
        "\u001b[0m\n"
       ]
      },
      {
       "name": "stdout",
       "output_type": "stream",
       "stream": "stdout",
       "text": [
        "ipdb> StartPunkteAbst\n"
       ]
      },
      {
       "output_type": "stream",
       "stream": "stdout",
       "text": [
        "*** NameError: name 'StartPunkteAbst' is not defined\n"
       ]
      },
      {
       "name": "stdout",
       "output_type": "stream",
       "stream": "stdout",
       "text": [
        "ipdb> Starttemp\n"
       ]
      },
      {
       "output_type": "stream",
       "stream": "stdout",
       "text": [
        "array([[[-34.612,  21.275,  60.172],\n",
        "        [-34.612,  21.275,  60.172]],\n",
        "\n",
        "       [[-34.612,  21.275,  60.172],\n",
        "        [-34.612,  21.275,  60.172]],\n",
        "\n",
        "       [[-34.612,  21.275,  60.172],\n",
        "        [-34.612,  21.275,  60.172]],\n",
        "\n",
        "       ..., \n",
        "       [[-34.612,  21.275,  60.172],\n",
        "        [-34.612,  21.275,  60.172]],\n",
        "\n",
        "       [[-34.612,  21.275,  60.172],\n",
        "        [-34.612,  21.275,  60.172]],\n",
        "\n",
        "       [[-34.612,  21.275,  60.172],\n",
        "        [-34.612,  21.275,  60.172]]])\n"
       ]
      },
      {
       "name": "stdout",
       "output_type": "stream",
       "stream": "stdout",
       "text": [
        "ipdb> np.shape(Starttemp)\n"
       ]
      },
      {
       "output_type": "stream",
       "stream": "stdout",
       "text": [
        "(1000, 2, 3)\n"
       ]
      },
      {
       "name": "stdout",
       "output_type": "stream",
       "stream": "stdout",
       "text": [
        "ipdb> exit\n"
       ]
      }
     ],
     "prompt_number": 53
    },
    {
     "cell_type": "code",
     "collapsed": false,
     "input": [
      "a = np.array([[1,1,1],[2,2,2]])\n",
      "np.repeat(a, 2, axis = 0)"
     ],
     "language": "python",
     "metadata": {},
     "outputs": [
      {
       "metadata": {},
       "output_type": "pyout",
       "prompt_number": 38,
       "text": [
        "array([[1, 1, 1],\n",
        "       [1, 1, 1],\n",
        "       [2, 2, 2],\n",
        "       [2, 2, 2]])"
       ]
      }
     ],
     "prompt_number": 38
    }
   ],
   "metadata": {}
  }
 ]
}