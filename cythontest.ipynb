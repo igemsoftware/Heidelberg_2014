{
 "metadata": {
  "name": "",
  "signature": "sha256:df29d0d7d164a5f45bc903e4b4d97c62fa19160df42dad3809b8ea09ed0a15d8"
 },
 "nbformat": 3,
 "nbformat_minor": 0,
 "worksheets": [
  {
   "cells": [
    {
     "cell_type": "code",
     "collapsed": false,
     "input": [
      "import h5py\n",
      "import os\n",
      "\n",
      "if os.path.exists('datacython.h5'):\n",
      "    os.remove('datacython.h5')\n",
      "h5f = h5py.File('datacython.h5', \"w\")\n",
      "\n",
      "array=[1,2,3,4]\n",
      "\n",
      "h5f.create_dataset(\"dataset_1\", data=array)\n",
      "h5f.close()\n",
      "\n",
      "h5f = h5py.File('datacython.h5','r')\n",
      "blubbarray  = h5f[\"dataset_1\"]\n",
      "for i in range(4):\n",
      "    print i\n",
      "    \n",
      "\n",
      "h5f.close()"
     ],
     "language": "python",
     "metadata": {},
     "outputs": [
      {
       "output_type": "stream",
       "stream": "stdout",
       "text": [
        "0\n",
        "1\n",
        "2\n",
        "3\n"
       ]
      }
     ],
     "prompt_number": 2
    }
   ],
   "metadata": {}
  }
 ]
}