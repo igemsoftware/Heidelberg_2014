{
 "metadata": {
  "name": "",
  "signature": "sha256:1daf47a8f833ae6774c31429018ed649ccc37d0125fb53342b0216e38555a692"
 },
 "nbformat": 3,
 "nbformat_minor": 0,
 "worksheets": [
  {
   "cells": [
    {
     "cell_type": "code",
     "collapsed": false,
     "input": [
      "#Hier ist ein kleiner Versuch mal eine Software zu schreiben, wie so Linkerzeug gemacht werden k\u00f6nnte."
     ],
     "language": "python",
     "metadata": {},
     "outputs": [],
     "prompt_number": 1
    },
    {
     "cell_type": "code",
     "collapsed": false,
     "input": [
      "#einlesen des PDB files. die Dateien sollten in proteine gespeichert werden\n",
      "import numpy as np\n",
      "import matplotlib\n",
      "matplotlib.use('GTK')\n",
      "import matplotlib.pyplot as plt         #plots allgemein\n",
      "from mpl_toolkits.mplot3d import Axes3D #3d plots\n",
      "#%matplotlib inline\n",
      "#from Bio.PDB import *\n",
      "#import gc\n",
      "import time #kann im Endeffekt aussortiert werden :-)\n",
      "import cPickle as pickle       #zum Zwischenspeichern vor Abst\u00fcrzen, um Zeit zu sparen.\n",
      "import h5py                    #zum Zwischenspeichern der Ergebnisse in der Generation der neuen Punkte\n",
      "import os                      #spa\u00dfige Dinge mit dem Betriebssystem, z.B. ob ein File existiert\n",
      "import fnmatch                 #Strings mit Wildcards durchsuchen\n",
      "import sys\n",
      "\n",
      "\n",
      "\n",
      "def my_exit_program(exitstring):\n",
      "    sys.exit(exitstring)\n",
      "    \n",
      "    \n",
      "\n",
      "#Betrag eines Vektors\n",
      "def vectabs(x0, x1, x2):\n",
      "    return np.sqrt(x0**2 + x1**2 + x2*2)\n",
      "\n",
      "def vectabsar(ar):\n",
      "    return np.sqrt(ar[:,0]**2+ar[:,1]**2+ar[:,2]**2)\n",
      "\n",
      "#gibt normalenvektor zu ebene von drei Punkten aus, bereits normiert\n",
      "def ebene(a, b, c):\n",
      "    x0 = (a-b)[1]*(c-b)[2]-((a-b)[2]*(c-b)[1])\n",
      "    x1 = (a-b)[2]*(c-b)[0]-((a-b)[0]*(c-b)[2])\n",
      "    x2 = (a-b)[0]*(c-b)[1]-((a-b)[1]*(c-b)[0])\n",
      "    \n",
      "    xabs = vectabs(x0, x1, x2)\n",
      "    \n",
      "    return np.array([x0/xabs, x1/xabs, x2/xabs])\n",
      "\n",
      "#einen Vektor mit Drehmatrix drehen um a-achse\n",
      "def drehenx(phi, x, y, z):\n",
      "    x1 = x * np.cos(phi * 0)\n",
      "    y1 = y * np.cos(phi) - z * np.sin(phi)\n",
      "    z1 = y * np.sin(phi) + z * np.cos(phi)\n",
      "    return np.array([x1, y1, z1])\n",
      "\n",
      "def dreheny(phi, x, y, z):\n",
      "    x1 = x  * np.cos(phi) - z * np.sin(phi)\n",
      "    y1 = y * np.cos(phi * 0)\n",
      "    z1 = x * np.sin(phi) + z * np.cos(phi)\n",
      "    return np.array([x1, y1, z1])\n",
      "\n",
      "def drehenz(phi, x, y, z):\n",
      "    x1 = x  * np.cos(phi) - y * np.sin(phi)\n",
      "    y1 = x * np.sin(phi) +  y* np.cos(phi)\n",
      "    z1 = z * np.cos(phi * 0)\n",
      "    return np.array([x1, y1, z1])\n",
      "\n",
      "\n",
      "def drehenxy(phi, theta, v):\n",
      "    '''\n",
      "    dreht Vektor v (als np.array) um phi um die x-Achse, und theta um die y-Achse\n",
      "    '''\n",
      "    v = drehenx(phi, v[0], v[1], v[2])\n",
      "    return dreheny(theta, v[0], v[1], v[2])\n",
      "\n",
      "def abstand(x,y):\n",
      "    '''\n",
      "    den Abstand zweier Punkte bestimmen, den Punkt als Array eingeben.\n",
      "    '''\n",
      "    return np.sqrt((x[0]-y[0])**2+(x[1]-y[1])**2+(x[2]-y[2])**2)\n",
      "\n",
      "def betrag(x):\n",
      "    return np.sqrt((x[0])**2+(x[1])**2+(x[2])**2)\n",
      "\n",
      "def abstandpktzuarray(x, ar):\n",
      "    return np.sqrt((x[0]-ar[:,0])**2+(x[1]-ar[:,1])**2+(x[2]-ar[:,2])**2)\n",
      "\n",
      "def abstandarrays(ar1, ar2):\n",
      "    return np.sqrt((ar1[:,0]-ar2[:,0])**2+(ar1[:,1]-ar2[:,1])**2+(ar1[:,2]-ar2[:,2])**2)\n",
      "\n",
      "def abstandarrays_quadr(ar1, ar2):\n",
      "    return (ar1[:,0]-ar2[:,0])**2+(ar1[:,1]-ar2[:,1])**2+(ar1[:,2]-ar2[:,2])**2\n",
      "\n",
      "def skalar_product (ar1, ar2):\n",
      "    return (ar1[:,0]*ar2[:,0])+(ar1[:,1]*ar2[:,1])+(ar1[:,2]*ar2[:,2])\n",
      "\n",
      "\n",
      "def angle_between_connections_array(startingarray, middlearray, endingarray):\n",
      "    '''\n",
      "    returns value between [0,pi] an array of size Startarray with the angles. If there is no displacement,\n",
      "    it returns zero as value\n",
      "    MiddleArray should never be of just one point\n",
      "    '''\n",
      "    \n",
      "    if np.shape(startingarray) == (3,):\n",
      "        startingexp = np.repeat([startingarray], np.size(middlearray, axis=0), axis =0)\n",
      "    else:\n",
      "        startingexp = startingarray\n",
      "    if np.shape(endingarray) == (3,):\n",
      "        endingexp = np.repeat([endingarray], np.size(middlearray, axis=0), axis =0)\n",
      "    else:\n",
      "        endingexp = endingarray    \n",
      "        \n",
      "    vect1 = (startingexp - middlearray)\n",
      "    vect2 = (endingexp - middlearray)\n",
      "    return angle_between_vectors(vect1, vect2)\n",
      "\n",
      "\n",
      "def angle_between_vectors(vect1, vect2):\n",
      "    '''\n",
      "    returns the angles between two vectors.\n",
      "    Works always on complete arrays, if the vectors are 0, it returns 0 as angle for them.\n",
      "    based on the arccos\n",
      "    '''\n",
      "    lengthofarrays = np.size(vect1, axis = 0)\n",
      "    #catch if there is 0 displacement\n",
      "    tocalculate = ((vect1 != np.array([0,0,0])).any(1)) & ((vect2 != np.array([0,0,0])).any(1))\n",
      "    if tocalculate.any():\n",
      "        vect1 = vect1[tocalculate]\n",
      "        vect2 = vect2[tocalculate]\n",
      "        catchrounding = skalar_product(vect1, vect2)/(vectabsar(vect1)*vectabsar(vect2))\n",
      "        #get rounding arrors\n",
      "        catchrounding[catchrounding > 1] = 1\n",
      "        catchrounding[catchrounding < -1] = -1\n",
      "        angles = np.arccos(catchrounding)\n",
      "        returnangles = np.zeros(lengthofarrays)\n",
      "        returnangles[tocalculate] = angles\n",
      "    else:\n",
      "        returnangles = np.zeros(lengthofarrays)\n",
      "    return returnangles\n",
      "         \n",
      "   "
     ],
     "language": "python",
     "metadata": {},
     "outputs": [],
     "prompt_number": 2
    },
    {
     "cell_type": "code",
     "collapsed": false,
     "input": [
      "\n",
      "\n",
      "def distance_from_connection(Startarray, Endarray, Points):\n",
      "    '''\n",
      "takes a connection from Startarray to Endarray nnd calculates the perpendicular distance of the points from the connection. \n",
      "Returns an array of size (start * points) with all perpendicular distances or distances of the endpoints.\n",
      "Start or End can also be single points.\n",
      "    '''\n",
      "    if np.shape(Startarray) == (3,): \n",
      "        if np.shape(Endarray) != (3,):\n",
      "            Starttemp = np.repeat([Startarray], np.size(Endarray, axis = 0), axis = 0)\n",
      "        else:\n",
      "            Starttemp = np.reshape(Startarray, (1,3))\n",
      "    else:\n",
      "        Starttemp = Startarray\n",
      "        \n",
      "    if np.shape(Endarray) == (3,):\n",
      "        if np.shape(Startarray) != (3,):\n",
      "            Endtemp = np.repeat([Endarray], np.size(Startarray, axis = 0), axis = 0)\n",
      "        else:\n",
      "            Endtemp = np.reshape(Endarray, (1,3))\n",
      "    else:\n",
      "        Endtemp = Endarray\n",
      "        \n",
      "    \n",
      "    #reshape the arrays and the points, have a Points*Start array\n",
      "    oneaxis = np.size(Starttemp, axis = 0)\n",
      "    twoaxis = np.size(Points, axis = 0)\n",
      "\n",
      "    Starttemp = np.repeat(Starttemp, twoaxis, axis = 0)\n",
      "    Endtemp = np.repeat(Endtemp, twoaxis, axis = 0)\n",
      "    Points = np.tile(Points, (oneaxis,1))\n",
      "\n",
      "    StartPunkteAbst = abstandarrays(Starttemp, Points)\n",
      "    StartPunkteAbst = np.reshape(StartPunkteAbst, (oneaxis, twoaxis))\n",
      "    \n",
      "    EndPunkteAbst = abstandarrays(Endtemp, Points)\n",
      "    EndPunkteAbst = np.reshape(EndPunkteAbst, (oneaxis, twoaxis))\n",
      "    \n",
      "    AngleAtStart = angle_between_connections_array(Points, Starttemp, Endtemp)\n",
      "    AngleAtStart = np.reshape(AngleAtStart, (oneaxis, twoaxis))\n",
      "    \n",
      "    AngleAtEnd = angle_between_connections_array(Points, Endtemp, Starttemp)\n",
      "    AngleAtEnd = np.reshape(AngleAtEnd, (oneaxis, twoaxis))\n",
      "    \n",
      "    \n",
      "    \n",
      "    #die Punkte mit \u00fcber 90\u00b0 nehmen einfach den Abstand vom Ende, die kleiner als 90\u00b0 den senkrechten Abstand\n",
      "    StartBiggerNinetyBool = (AngleAtStart >  np.pi/2)\n",
      "    EndBiggerNinetyBool = (AngleAtEnd > np.pi/2)\n",
      "    pointonconnectionbool = (AngleAtStart == 0) & (AngleAtEnd == 0)\n",
      "    NotUseBool = np.invert(StartBiggerNinetyBool | EndBiggerNinetyBool | pointonconnectionbool)\n",
      "    DistanceFromConnection = np.empty((oneaxis, twoaxis))\n",
      "    DistanceFromConnection[NotUseBool] = np.sin(AngleAtStart[NotUseBool]) * StartPunkteAbst[NotUseBool]\n",
      "    DistanceFromConnection[EndBiggerNinetyBool] = EndPunkteAbst[EndBiggerNinetyBool]\n",
      "    DistanceFromConnection[StartBiggerNinetyBool] = StartPunkteAbst[StartBiggerNinetyBool]\n",
      "    DistanceFromConnection[pointonconnectionbool] = 0.\n",
      "    return DistanceFromConnection, oneaxis, twoaxis"
     ],
     "language": "python",
     "metadata": {},
     "outputs": [],
     "prompt_number": 3
    },
    {
     "cell_type": "code",
     "collapsed": false,
     "input": [
      "'''\n",
      "\n",
      "def reduce_proteinpoints(proteinpoints, minabstand):\n",
      "    for i in range(len(np.size(proteinpoints, axis = 0))):\n",
      "        if i == 0:\n",
      "            checkpoints = proteinpoints\n",
      "        point = proteinpoints[i]\n",
      "        #slice all points in the area of a cube with axeslength minabstand. If there is another\n",
      "        #proteinpoint a linker would already be sorted out by the other point.\n",
      "        usebool = ((checkpoints[:,0] > (point[0] - minabstand)) & (checkpoints[:,0] < (point[0] + minabstand)) &\n",
      "                   (checkpoints[:,1] > (point[1] - minabstand)) & (checkpoints[:,1] < (point[1] + minabstand)) &\n",
      "                   (checkpoints[:,2] > (point[2] - minabstand)) & (checkpoints[:,2] < (point[2] + minabstand)))\n",
      "        hereusepoints = checkpoints[usebool]\n",
      "        amountofhereusepoints =  np.size(hereusepoints, axis = 0)\n",
      "        expandedpoint = np.repeat([point],amountofhereusepoints, axis = 0)\n",
      "        pointtopointvect = proteinpoints - expandedpoint\n",
      "        zaxis = np.np.repeat(np.array([[0,0,1]]), amountofhereusepoints, axis = 0)\n",
      "        xaxis = np.np.repeat(np.array([[1,0,0]]), amountofhereusepoints, axis = 0)\n",
      "        thetas = angle_between_vectors(pointtopointvect, zaxis)\n",
      "        phis = angle_between_vectors(pointtopointvect, xaxis)\n",
      "        \n",
      "        #find gaps in the angledistribution\n",
      "        \n",
      "            \n",
      "'''            "
     ],
     "language": "python",
     "metadata": {},
     "outputs": [
      {
       "metadata": {},
       "output_type": "pyout",
       "prompt_number": 4,
       "text": [
        "'\\n\\ndef reduce_proteinpoints(proteinpoints, minabstand):\\n    for i in range(len(np.size(proteinpoints, axis = 0))):\\n        if i == 0:\\n            checkpoints = proteinpoints\\n        point = proteinpoints[i]\\n        #slice all points in the area of a cube with axeslength minabstand. If there is another\\n        #proteinpoint a linker would already be sorted out by the other point.\\n        usebool = ((checkpoints[:,0] > (point[0] - minabstand)) & (checkpoints[:,0] < (point[0] + minabstand)) &\\n                   (checkpoints[:,1] > (point[1] - minabstand)) & (checkpoints[:,1] < (point[1] + minabstand)) &\\n                   (checkpoints[:,2] > (point[2] - minabstand)) & (checkpoints[:,2] < (point[2] + minabstand)))\\n        hereusepoints = checkpoints[usebool]\\n        amountofhereusepoints =  np.size(hereusepoints, axis = 0)\\n        expandedpoint = np.repeat([point],amountofhereusepoints, axis = 0)\\n        pointtopointvect = proteinpoints - expandedpoint\\n        zaxis = np.np.repeat(np.array([[0,0,1]]), amountofhereusepoints, axis = 0)\\n        xaxis = np.np.repeat(np.array([[1,0,0]]), amountofhereusepoints, axis = 0)\\n        thetas = angle_between_vectors(pointtopointvect, zaxis)\\n        phis = angle_between_vectors(pointtopointvect, xaxis)\\n        \\n        #find gaps in the angledistribution\\n        \\n            \\n'"
       ]
      }
     ],
     "prompt_number": 4
    },
    {
     "cell_type": "code",
     "collapsed": false,
     "input": [
      "#General stuff\n",
      "\n",
      "RAMOFMACHINE = 1 #in Gbyte"
     ],
     "language": "python",
     "metadata": {},
     "outputs": [],
     "prompt_number": 5
    },
    {
     "cell_type": "markdown",
     "metadata": {},
     "source": [
      "Lambdalysozym, wo die komplette Berechnung durchgelaufen ist, ohne flexible Enden, mit Abk\u00fcrzung :\"lambdalysozyme\"\n",
      "\n",
      "Lambdalysozym, wo nur die flexiblen Enden berechnet wurden, : \"lambdalysozyme_0802\"\n",
      "\n",
      "DNMT1, ohne Abk\u00fcrzung, alles durchgelaufen, ohne flex Enden: \"\""
     ]
    },
    {
     "cell_type": "code",
     "collapsed": false,
     "input": [
      "#PDB geht von N zu C Terminus     \n",
      "    \n",
      "\n",
      "#macht aus drei Arrays\n",
      "\n",
      " #for saving of the files, f\u00fcr DNMT1daten einfach \"\" machen\n",
      "#for DNMT1 ohne Thrombin:  \"new_dnmt1_nothrombin\"\n",
      "#for DNMT1 ohne Thrombin und Flag tag \"dnmt1_no_flag\"\n",
      "#for lambdalysozyme: \"lambdalysozyme_0802\" 1d9u-lambdalysozym.pdb'\n",
      "\n",
      "\n",
      "\n",
      "UserDefinedProjectName = \"lambdalysozyme_0802\"\n",
      "f = open('proteine/1d9u-lambdalysozym.pdb', 'r')\n",
      "#print pdbfile\n",
      "\n",
      "\n",
      "wholex = []\n",
      "wholey = []\n",
      "wholez = []\n",
      "wholeatom = []\n",
      "wholeaminos = []\n",
      "wholesubunit = []\n",
      "wholeasnr = []\n",
      "\n",
      "\n",
      "#line.split kann nicht verwendet werden, weil manchmal die spalten ineinander verschmelzen, weil das Format doof ist.\n",
      "\n",
      "for line in f:\n",
      "    art = line[:4]\n",
      "    if art == 'ATOM':\n",
      "        wholeatom.append(line[13:16])\n",
      "        wholeaminos.append(line[17:20])\n",
      "        wholesubunit.append(line[21])\n",
      "        wholeasnr.append(int(line[22:26]))\n",
      "        wholex.append(float(line[31:38]))\n",
      "        wholey.append(float(line[38:46]))\n",
      "        wholez.append(float(line[46:54]))\n",
      "\n",
      "f.close()        \n",
      "\n",
      "#aus allen Listen arrays machen\n",
      "wholeatom = np.array(wholeatom)\n",
      "wholeaminos = np.array(wholeaminos)\n",
      "wholesubunit = np.array(wholesubunit)\n",
      "wholeasnr = np.array(wholeasnr)\n",
      "#731-1602 dnmt1\n",
      "#oder 650 - 1602\n",
      "\n",
      "#get parts, that aren't wanted out of the PDB files\n",
      "\n",
      "#TODO hier\u00fcber nachdennken!!! was die Regionen sind, die gew\u00e4hlt werden\n",
      "\n",
      "UserChosenIgnoreRegions = None #default is none,being a LIST of tuples of (21, 832, 'A'), with subunit, and then interval including the ends\n",
      "IgnoreSubUnit = (\"B\") #is a tupel with to be ignored subunits\n",
      "IgnoreIndices = np.bool8(np.ones(np.size(wholeasnr)))\n",
      "\n",
      "#Ignoreindices True means the value is kept\n",
      "if IgnoreSubUnit != None:\n",
      "    for SubUnit in IgnoreSubUnit:\n",
      "        IgnoreIndices = IgnoreIndices & (wholesubunit != SubUnit)\n",
      "\n",
      "\n",
      "if UserChosenIgnoreRegions != None:\n",
      "    for RegionOnSubunit in UserChosenIgnoreRegions:\n",
      "        IgnoreIndices = IgnoreIndices & np.invert((wholeasnr < RegionOnSubunit[1]) & (wholeasnr > RegionOnSubunit[0]) & \\\n",
      "                                                    (wholesubunit == RegionOnSubunit[2]))\n",
      "\n",
      "wholeatom = wholeatom[IgnoreIndices]\n",
      "wholeaminos = wholeaminos[IgnoreIndices]\n",
      "wholesubunit = wholesubunit[IgnoreIndices]\n",
      "wholeasnr = wholeasnr[IgnoreIndices]\n",
      "\n",
      "\n",
      "wholex = np.float16(np.array(wholex))        \n",
      "wholey = np.float16(np.array(wholey))\n",
      "wholez = np.float16(np.array(wholez))\n",
      "#that should be sliced out of the PDB\n",
      "wholex = wholex[IgnoreIndices]\n",
      "wholey = wholey[IgnoreIndices]\n",
      "wholez = wholez[IgnoreIndices]\n",
      "\n",
      "anzahl = len(wholex)\n",
      "\n",
      "\n",
      "#let the user choose, what part should be circularized interests him.\n",
      "\n",
      "#dnmt1 : 731-1602\n",
      "#lamlys: 1-158\n",
      "SubUnitChosen = \"A\"\n",
      "UserChosenStart = 1\n",
      "UserChosenEnd = 158\n",
      "\n",
      "if UserChosenEnd == None:\n",
      "    UserChosenEnd =  np.max(wholeasnr[wholesubunit == SubUnitChosen])\n",
      "\n",
      "if UserChosenStart == None:\n",
      "    UserChosenStart = np.min(wholeasnr[wholesubunit == SubUnitChosen])\n",
      "\n",
      "\n",
      "#non helical regions are called scars\n",
      "ScarsAtStartseq = \"GG\"\n",
      "ScarsAtStart = len(ScarsAtStartseq)\n",
      "ScarsAtEndseq = \"RGKCWE\"   #TODO richtige Sequenz!\n",
      "ScarsAtEnd = len(ScarsAtEndseq)\n",
      "\n",
      "\n",
      "MissingAtStart = np.min(wholeasnr[wholesubunit == SubUnitChosen]) - UserChosenStart\n",
      "MissingAtEnd = UserChosenEnd - np.max(wholeasnr[wholesubunit == SubUnitChosen]) \n",
      "\n",
      "if MissingAtStart > 0:\n",
      "    if MissingAtStart >= 5:\n",
      "        print \"Your PDB File does not contain the beginning of the protein and there is missing that much, that even an estimation of the beginning would be really bad. Please find a better PDB file, or risk it\"\n",
      "    else:\n",
      "        print \"Your PDB File does not contain the beginning of the protein, but there are less than 5 Aminoacids missing, so the position of the beginning will be estimated. If there is a better PDB file, upload it\"\n",
      "\n",
      "if MissingAtEnd > 0:\n",
      "    if MissingAtEnd >= 5:\n",
      "        print \"Your PDB File does not contain the end of the protein and there is missing that much, that even an estimation of the beginning would be really bad. Please find a better PDB file, or risk it\"\n",
      "    else:\n",
      "        print \"Your PDB File does not contain the end of the protein, but there are less than 5 Aminoacids missing, so the position of the beginning will be estimated. If there is a better PDB file, upload it\"\n",
      "\n",
      "\n",
      "PartToCircularizeBool = (((wholeasnr >= UserChosenStart) & (wholesubunit == SubUnitChosen)) & (wholeasnr <= UserChosenEnd)) #hier kann man einstellen, welche AS behalten werden sollen.\n",
      "\n",
      "InterestingAtom = wholeatom[PartToCircularizeBool]\n",
      "InterestingAminos = wholeaminos[PartToCircularizeBool]\n",
      "InterestingAANr = wholeasnr[PartToCircularizeBool]\n",
      "\n",
      "#aus den drei Arrays eines machen, das Dimension n*3 hat, also ein Array aus lauter kleinen dreier Arrays\n",
      "\n",
      "# ein Pkt: pkte[0]\n",
      "# wieder zur\u00fcck: x = pkte[:,0]\n",
      "\n",
      "\n",
      "\n",
      "PointsOfAllSubunits = np.float16(np.reshape(np.concatenate((wholex,wholey,wholez)), (anzahl,3), 'F'))\n",
      "#choose the part, that is interesting for us for circularization this is points\n",
      "pkte = PointsOfAllSubunits[PartToCircularizeBool]\n",
      "OtherPoints = PointsOfAllSubunits[wholesubunit != SubUnitChosen]\n",
      "\n",
      "#TODO Estimation of startingpoint, or user interface to get it.\n",
      "\n",
      "anfangspunkt = np.ravel(pkte[(InterestingAANr == InterestingAANr[0]) & (InterestingAtom == \"N  \")])\n",
      "endpunkt = np.ravel(pkte[(InterestingAANr == InterestingAANr[-1]) & (InterestingAtom == \"C  \")])\n",
      "\n",
      "\n",
      "AmountOfAtomsFirstAA = np.size(InterestingAANr[InterestingAANr == InterestingAANr[0]])  #anzahl an Atomen in der erstenas\n",
      "AmountOfAtomsLastAA = np.size(InterestingAANr[InterestingAANr == InterestingAANr[-1]])  #amount of atoms in last AS\n",
      "\n",
      "pickle.dump((pkte, InterestingAminos, InterestingAtom, InterestingAANr),\\\n",
      "            open(\"files/savepoints{projectname}.p\".format(projectname = UserDefinedProjectName), \"wb\"))\n",
      "\n",
      "'''\n",
      "fig = plt.figure()\n",
      "ax = fig.add_subplot(111, projection='3d')\n",
      "ax.scatter(pkte[5:-5:,0], pkte[5:-5:,1], pkte[5:-5:,2], s=10)\n",
      "ax.scatter(pkte[:4:,0], pkte[:4:,1], pkte[:4:,2], s = 20, c =\"r\")\n",
      "ax.scatter(pkte[-4::,0], pkte[-4::,1], pkte[-4::,2], s = 20, c =\"r\")\n",
      "ax.scatter(OtherPoints[:,0], OtherPoints[:,1], OtherPoints[:,2], s=10, c = \"g\")\n",
      "'''"
     ],
     "language": "python",
     "metadata": {},
     "outputs": [
      {
       "output_type": "stream",
       "stream": "stdout",
       "text": [
        "Your PDB File does not contain the end of the protein, but there are less than 5 Aminoacids missing, so the position of the beginning will be estimated. If there is a better PDB file, upload it\n"
       ]
      },
      {
       "metadata": {},
       "output_type": "pyout",
       "prompt_number": 6,
       "text": [
        "'\\nfig = plt.figure()\\nax = fig.add_subplot(111, projection=\\'3d\\')\\nax.scatter(pkte[5:-5:,0], pkte[5:-5:,1], pkte[5:-5:,2], s=10)\\nax.scatter(pkte[:4:,0], pkte[:4:,1], pkte[:4:,2], s = 20, c =\"r\")\\nax.scatter(pkte[-4::,0], pkte[-4::,1], pkte[-4::,2], s = 20, c =\"r\")\\nax.scatter(OtherPoints[:,0], OtherPoints[:,1], OtherPoints[:,2], s=10, c = \"g\")\\n'"
       ]
      }
     ],
     "prompt_number": 6
    },
    {
     "cell_type": "code",
     "collapsed": false,
     "input": [
      "#this dictionary contains the medium, the standrad-deviation and the sequence of all the angles\n",
      "angletosequence = [(29.7, 8.5, \"NVL\"), (38.7, 30., \"KTA\"), (60., 12., \"AADGTL\"), (74.5, 27., \"VNLTA\"),\n",
      "                   (117., 12., \"AAAHPEA\"), (140., 15., \"ASLPAA\"), (160., 5., \"ATGDLA\")]\n",
      "angleseparators = [0.]\n",
      "\n",
      "#the separators are there where the amount of sigmas is the same from both directions\n",
      "for i in range(len(angletosequence)-1):\n",
      "    factor = (angletosequence[i+1][0]-angletosequence[i][0])/(angletosequence[i+1][1]+ angletosequence[i][1])\n",
      "    angleseparators.append(factor * angletosequence[i][1] + angletosequence[i][0])\n",
      "angleseparators.append(180.)"
     ],
     "language": "python",
     "metadata": {},
     "outputs": [],
     "prompt_number": 7
    },
    {
     "cell_type": "code",
     "collapsed": false,
     "input": [
      "#das gedrehte darstellen, TODO muss noch auf pkte angepasst werden\n",
      "\n",
      "phi = np.pi / 2 #immer in vielfachen von pi w\u00e4hlen\n",
      "\n",
      "xgedr = dreheny(phi, wholex, wholey, wholez)[0]\n",
      "ygedr = dreheny(phi, wholex, wholey, wholez)[1]\n",
      "zgedr = dreheny(phi, wholex, wholey, wholez)[2]\n",
      "\n",
      "'''\n",
      "fig = plt.figure()\n",
      "ax = fig.add_subplot(111, projection='3d')\n",
      "ax.scatter(xgedr[5:-5:], ygedr[5:-5:], zgedr[5:-5:], s=10)\n",
      "ax.scatter(xgedr[:4:], ygedr[:4:], zgedr[:4:], s = 20, c =\"r\")\n",
      "ax.scatter(xgedr[-4::], ygedr[-4::], zgedr[-4::], s = 20, c =\"r\")\n",
      "'''"
     ],
     "language": "python",
     "metadata": {},
     "outputs": [
      {
       "metadata": {},
       "output_type": "pyout",
       "prompt_number": 8,
       "text": [
        "'\\nfig = plt.figure()\\nax = fig.add_subplot(111, projection=\\'3d\\')\\nax.scatter(xgedr[5:-5:], ygedr[5:-5:], zgedr[5:-5:], s=10)\\nax.scatter(xgedr[:4:], ygedr[:4:], zgedr[:4:], s = 20, c =\"r\")\\nax.scatter(xgedr[-4::], ygedr[-4::], zgedr[-4::], s = 20, c =\"r\")\\n'"
       ]
      }
     ],
     "prompt_number": 8
    },
    {
     "cell_type": "code",
     "collapsed": false,
     "input": [
      "#L\u00e4ngenkalibration, wir wissen, dass der Abstand von c-c 154 pm ist.\n",
      "#Wir machen das am Glycin, weil das am einfachsten f\u00fcr uns ist.\n",
      "try:\n",
      "    eichnutz = ((wholeaminos == \"GLY\") & (wholeatom == \"C  \") | ((wholeaminos == \"GLY\") & (wholeatom == \"CA \")))\n",
      "    xeich = wholex[eichnutz]\n",
      "    yeich = wholey[eichnutz]\n",
      "    zeich = wholez[eichnutz]\n",
      "\n",
      "\n",
      "    #das sieht so komisch aus, wegen alter Version\n",
      "    abstaendeeich= abstand( np.array([xeich[0::2],yeich[0::2],zeich[0::2]]),np.array([xeich[1::2],yeich[1::2],zeich[1::2]]))\n",
      "    kalib = 154. / np.mean(abstaendeeich) #pm\n",
      "    kalibfehl = np.std(abstaendeeich) * kalib\n",
      "\n",
      "    print str(kalib) + \"+-\" +str (kalibfehl) +\" pm\"\n",
      "except:\n",
      "    kalib = 100.\n",
      "    kalibfehl = 0.\n",
      "    print \"There were no Glycines in the protein, a calibration was estimated as :\" + str(kalib) + \"+-\" +str (kalibfehl) +\" pm\""
     ],
     "language": "python",
     "metadata": {},
     "outputs": [
      {
       "output_type": "stream",
       "stream": "stdout",
       "text": [
        "101.574572941+-2.93733954833 pm\n"
       ]
      }
     ],
     "prompt_number": 9
    },
    {
     "cell_type": "code",
     "collapsed": false,
     "input": [
      "#globale Variablen:\n",
      "\n",
      "#Entfernung, die der Linker mindestens immer haben sollte geschaetzter Wert 5 Angstr\u00f6m, eine Alpha Helix hat Radius 2.3A\n",
      "\n",
      "minabstand = 500/kalib #in pm\n",
      "\n",
      "#Entfernung, die ein Linker maximal haben darf vom Protein\n",
      "\n",
      "maxabstand = 5000/kalib\n",
      "\n",
      "LengthOfFlexibleAA = 250 / kalib #between 250 and 350\n",
      "FLEXIBLEATSTARTKO = (MissingAtStart + ScarsAtStart) * LengthOfFlexibleAA\n",
      "FLEXIBLEATENDKO = (MissingAtEnd + ScarsAtEnd) * LengthOfFlexibleAA"
     ],
     "language": "python",
     "metadata": {},
     "outputs": [],
     "prompt_number": 10
    },
    {
     "cell_type": "markdown",
     "metadata": {},
     "source": [
      "Wir testen, ob sich die Enden einfach direkt verbinden lassen. Daf\u00fcr schauen wir ob auf der Verbindungslinie zwischen den beiden Enden im senkrechten Abstand alle Punkte mindestens einen gewissen Abstand haben. Da aber der Punkteraum diskret ist und nicht ausgeschmiert, schauen wir einfach f\u00fcr jeden W\u00fcrfel um die Verbindungslinie, welches der geringste Abstand eines Punktes ist. Ist dieser geringer als unser geforderter Mindestabstand, bricht der Algorithmus sofort ab und es kann weiter gehen. Die W\u00fcrfel sind nur dazu da, dass wir nicht immer den Abstand des gesamten Proteins zur Linie berechnen m\u00fcssen. Wenn ein Punkt zu nah ist, finden wir ihn so auf jeden Fall.\n",
      "\n",
      "Wir m\u00fcssen auf jeden Fall den Abstand zwischen zwei Messpunkten so w\u00e4hlen, dass selbst wenn der Punkt am ung\u00fcnstigsten liegt, wir ihn aussortieren. Lieber zu fr\u00fch aussortieren als zu sp\u00e4t und dann eben das normale Prozedere durchmachen lassen. Wir w\u00e4hlen die Abst\u00e4nde so, dass immer der n\u00e4chste Punkt \n",
      "\n",
      "Der erste Messpunkt muss so sein, dass nicht unser Startpunkt in den ersten W\u00fcrfel f\u00e4llt, genauso beim letzten."
     ]
    },
    {
     "cell_type": "code",
     "collapsed": false,
     "input": [
      "abstandanfend = abstand(anfangspunkt, endpunkt)\n",
      "kantenlaenge = 4 * minabstand\n",
      "#print kantenlaenge\n",
      "wuerfeldiaghalbe = np.sqrt(3)/2 * kantenlaenge\n",
      "#print wuerfeldiaghalbe\n",
      "\n",
      "anzahlwuerfel = int(abstandanfend / wuerfeldiaghalbe) #wir setzen einen mehr ein, als wir m\u00fcssten\n",
      "if anzahlwuerfel == 0:\n",
      "    if abstandanfend < (2* minabstand):\n",
      "        print \"Die Enden sind extrem nah beieinander, einfach versuchen zu zyklieren mit Linker, der genau der L\u00e4nge entspricht!\"\n",
      "    else:\n",
      "        wuerfelmitten = np.array([(anfangspunkt-endpunkt)/2])\n",
      "        kantenlaenge = abstandanfend / np.sqrt(3)\n",
      "        wuerfelabstand = 0\n",
      "elif anzahlwuerfel == 1:\n",
      "    kantenlaenge = abstandanfend / np.sqrt(3)\n",
      "    wuerfeldiaghalbe = np.sqrt(3)/2 * kantenlaenge\n",
      "    wuerfelmitten = (endpunkt-anfangspunkt)/abstandanfend * (wuerfeldiaghalbe) + anfangspunkt\n",
      "    wuerfelabstand = 0\n",
      "    \n",
      "else:\n",
      "    wuerfelabstand = (abstandanfend - (2* wuerfeldiaghalbe))/(anzahlwuerfel - 1)\n",
      "    \n",
      "    #print anzahlwuerfel\n",
      "    \n",
      "    #nun die Verbindungsgerade zwischen den beiden Punkten. v = m * t + 0 mit normiertem m und t (Abstand*parameter)\n",
      "    wuerfelmitten = []\n",
      "    for i in range(0, anzahlwuerfel):\n",
      "        wuerfelmitten.append( (endpunkt-anfangspunkt)/abstandanfend * (wuerfelabstand * i + wuerfeldiaghalbe) + anfangspunkt)\n",
      "        \n",
      "    wuerfelmitten = np.array(wuerfelmitten)\n",
      "    \n",
      "#print wuerfelmitten\n",
      "\n",
      "\n",
      "#minimale Abstand, den etwas haben muss, von W\u00fcrfelmittelpunkt, ab dem wir sagen, dass was zu nah ist, das ist auch \n",
      "#der Fehler den wir haben k\u00f6nnen.\n",
      "minabstandcalc = np.sqrt(minabstand**2 + wuerfelabstand**2)\n",
      "\n",
      "derallernaechstepunkt = None\n",
      "\n",
      "#das Einschr\u00e4nken der Werte auf die W\u00fcrfelinnereien\n",
      "if np.size(wuerfelmitten) == 3:\n",
      "    mitte = wuerfelmitten\n",
      "    keep = ((PointsOfAllSubunits[:,0] > (mitte[0] - (kantenlaenge / 2))) & (PointsOfAllSubunits[:,0] < (mitte[0] + (kantenlaenge / 2))) & \\\n",
      "                (PointsOfAllSubunits[:,1] > (mitte[1] - (kantenlaenge / 2))) & (PointsOfAllSubunits[:,1] < (mitte[1] + (kantenlaenge / 2))) & \\\n",
      "                (PointsOfAllSubunits[:,2] > (mitte[2] - (kantenlaenge / 2))) & (PointsOfAllSubunits[:,2] < (mitte[2] + (kantenlaenge / 2))))   \n",
      "\n",
      "    wuerfelpunkte = PointsOfAllSubunits[keep]\n",
      "    #print wuerfelpunkte\n",
      "    #print abstandarray(mitte, wuerfelpunkte)\n",
      "    mintemp = np.min(abstandpktzuarray(mitte, wuerfelpunkte))\n",
      "    #print mintemp\n",
      "    if  mintemp < minabstandcalc:\n",
      "        print \"Es ist nicht m\u00f6glich einen direkten Linker zu bauen. Der minimale Abstand von der direkten Verbindung betrug: \" \\\n",
      "                + str( mintemp * kalib) + \" pm\"\n",
      "\n",
      "    else:\n",
      "        if derallernaechstepunkt == None:\n",
      "            derallernaechstepunkt = mintemp\n",
      "        elif mintemp < derallernaechstepunkt:\n",
      "            derallernaechstepunkt = mintemp\n",
      "\n",
      "        else:\n",
      "            print \"Es ist m\u00f6glich einen direkten Linker zu machen, da der n\u00e4chste Punkt vom Linker \" + str(derallernaechstepunkt * kalib) + \\\n",
      "                  \" pm entfernt ist.\"\n",
      "else:\n",
      "\n",
      "    for mitte in wuerfelmitten:\n",
      "        keep = ((PointsOfAllSubunits[:,0] > (mitte[0] - (kantenlaenge / 2))) & (PointsOfAllSubunits[:,0] < (mitte[0] + (kantenlaenge / 2))) & \\\n",
      "                (PointsOfAllSubunits[:,1] > (mitte[1] - (kantenlaenge / 2))) & (PointsOfAllSubunits[:,1] < (mitte[1] + (kantenlaenge / 2))) & \\\n",
      "                (PointsOfAllSubunits[:,2] > (mitte[2] - (kantenlaenge / 2))) & (PointsOfAllSubunits[:,2] < (mitte[2] + (kantenlaenge / 2))))   \n",
      "\n",
      "        wuerfelpunkte = PointsOfAllSubunits[keep]\n",
      "        #print wuerfelpunkte\n",
      "        #print abstandarray(mitte, wuerfelpunkte)\n",
      "        mintemp = np.min(abstandpktzuarray(mitte, wuerfelpunkte))\n",
      "        #print mintemp\n",
      "        if  mintemp < minabstandcalc:\n",
      "            print \"Es ist nicht m\u00f6glich einen direkten Linker zu bauen. Der minimale Abstand von der direkten Verbindung betrug: \" \\\n",
      "                    + str( mintemp * kalib) + \" pm\"\n",
      "            break\n",
      "\n",
      "        else:\n",
      "            if derallernaechstepunkt == None:\n",
      "                derallernaechstepunkt = mintemp\n",
      "            elif mintemp < derallernaechstepunkt:\n",
      "                derallernaechstepunkt = mintemp\n",
      "\n",
      "    else:\n",
      "        print \"Es ist m\u00f6glich einen direkten Linker zu machen, da der n\u00e4chste Punkt vom Linker \" + str(derallernaechstepunkt * kalib) + \\\n",
      "              \" pm entfernt ist.\"\n",
      "    \n",
      "    \n",
      "#FIXME, der Control Flow... Wenn es vorher feststellt, dass die Enden sehr nah beieinander sind, geht es dennoch durch das ganze \n",
      "#untere wieder durch... Mal schauen, was sich da machen l\u00e4sst."
     ],
     "language": "python",
     "metadata": {},
     "outputs": [
      {
       "output_type": "stream",
       "stream": "stdout",
       "text": [
        "Es ist nicht m\u00f6glich einen direkten Linker zu bauen. Der minimale Abstand von der direkten Verbindung betrug: 229.773898018 pm\n"
       ]
      }
     ],
     "prompt_number": 11
    },
    {
     "cell_type": "markdown",
     "metadata": {},
     "source": [
      "Ob eine Region au\u00dfen ist. Daf\u00fcr werden von dem Punkt Strahlen in alle Richtungen in 5\u00b0 Schritten gemacht und diese dann in eine Liste geschrieben, welche Winkel frei sind."
     ]
    },
    {
     "cell_type": "code",
     "collapsed": false,
     "input": [
      "#Test, ob die Enden auch au\u00dfensind\n",
      "#Abstand zwischen Anfang und allen anderen Punkten in einem Array\n",
      "\n",
      "\n",
      "\n",
      "def punktebeigerade(minabstand, pkte, gerade, aufpunkt, laenge):\n",
      "    '''\n",
      "aufpunkt, der Punkt von wo aus geht\n",
      "gerade: normiert\n",
      "gibt True zur\u00fcck, wenn kein Punkt in der N\u00e4he der Geraden ist.\n",
      "    '''\n",
      "    kantenlaenge = 4 * minabstand\n",
      "    wuerfeldiaghalbe = np.sqrt(3)/2 * kantenlaenge\n",
      "    \n",
      "    anzahlwuerfel = int(laenge / wuerfeldiaghalbe) + 1\n",
      "    \n",
      "    #nun die Verbindungsgerade zwischen den beiden Punkten. v = m * t + x0 mit normiertem m und t (Abstand*parameter)\n",
      "    wuerfelmitten = []\n",
      "\n",
      "    for i in range(0, anzahlwuerfel):\n",
      "        wuerfelmitten.append( gerade * (wuerfeldiaghalbe * (i + 1)) + aufpunkt)\n",
      "    \n",
      "        \n",
      "    wuerfelmitten = np.array(wuerfelmitten)\n",
      "        \n",
      "    #print wuerfelmitten\n",
      "    \n",
      "    \n",
      "    #minimale Abstand, den etwas haben muss, von W\u00fcrfelmittelpunkt, ab dem wir sagen, dass was zu nah ist\n",
      "    minabstandcalc = np.sqrt(5) * minabstand\n",
      "    \n",
      "    \n",
      "    #das Einschr\u00e4nken der Werte auf die W\u00fcrfelinnereien\n",
      "    for mitte in wuerfelmitten:\n",
      "        keep = ((pkte[:,0] > (mitte[0] - (kantenlaenge / 2))) & (pkte[:,0] < (mitte[0] + (kantenlaenge / 2))) & \\\n",
      "                (pkte[:,1] > (mitte[1] - (kantenlaenge / 2))) & (pkte[:,1] < (mitte[1] + (kantenlaenge / 2))) & \\\n",
      "                (pkte[:,2] > (mitte[2] - (kantenlaenge / 2))) & (pkte[:,2] < (mitte[2] + (kantenlaenge / 2))))   \n",
      "        \n",
      "        \n",
      "        wuerfelpunkte = pkte[keep]\n",
      "        if np.size(wuerfelpunkte) == 0:\n",
      "            continue\n",
      "        \n",
      "        mintemp = np.min(abstandpktzuarray(mitte, wuerfelpunkte))\n",
      "        \n",
      "        if  mintemp < minabstandcalc:\n",
      "            return False\n",
      "            break\n",
      "         \n",
      "    else:\n",
      "        return True\n",
      "    \n",
      "\n",
      "def test_accessible_angles(winkelarray, length, anfangspunkt, proteinpoints, gerade = np.array([0,0,1])):\n",
      "    '''\n",
      "    angles are measured from z-axis, returns a boolean array to slice with.\n",
      "    '''\n",
      "    moeglichewinkelanfangbool = []\n",
      "\n",
      "    for winkel in winkelarray:\n",
      "        moeglichewinkelanfangbool.append(punktebeigerade(minabstand, PointsOfAllSubunits, drehenxy(winkel[0], winkel[1], gerade),\\\n",
      "                                                         anfangspunkt , maxvonanfang))\n",
      "\n",
      "    return np.array(moeglichewinkelanfangbool)\n",
      "    \n",
      "   "
     ],
     "language": "python",
     "metadata": {},
     "outputs": [],
     "prompt_number": 12
    },
    {
     "cell_type": "code",
     "collapsed": false,
     "input": [
      " \n",
      "\n",
      "#das sind nun 2592 Berechnungen...\n",
      "testwinkel = np.mgrid[0:180:5, 0:360:5] * np.pi/180 #Endwinkel nicht enthalten, null mit drinnen, das sind ja auch nur 70 Rechn extra\n",
      "winkelarray = np.reshape(np.ravel(testwinkel), (2592,2), 'F')    \n",
      "\n",
      "\n",
      "\n",
      "#Ueberpr\u00fcfen, ob der Anfang innen ist.\n",
      "maxvonanfang = np.max(abstandpktzuarray(pkte[0] ,PointsOfAllSubunits))\n",
      "#geradenarray = np.reshape(np.ravel(drehenxy(testwinkel[0], testwinkel[1], gerade), order = 'F'), (2592,3), 'C')\n",
      "\n",
      "moeglichewinkelanfangbool = test_accessible_angles(winkelarray, maxvonanfang, anfangspunkt, PointsOfAllSubunits)   \n",
      "\n",
      "\n",
      "#\u00dcberpr\u00fcfen, ob das Ende innen ist.\n",
      "maxvonende = np.max(abstandpktzuarray(endpunkt ,PointsOfAllSubunits))\n",
      "\n",
      "\n",
      "moeglichewinkelendebool = test_accessible_angles(winkelarray, maxvonende, endpunkt, PointsOfAllSubunits)\n",
      "\n",
      "\n",
      "\n",
      "moeglichewinkelanfang = winkelarray[moeglichewinkelanfangbool]\n",
      "moeglichewinkelende = winkelarray[moeglichewinkelendebool]\n",
      "if (np.size(moeglichewinkelanfangbool) == 0) | (np.size(moeglichewinkelendebool) == 0):\n",
      "    #TODO, vielleicht noch mit flexiblem Linker verbindbar? Einfach der Test, ob es an der Oberfl\u00e4che ist.\n",
      "    my_exit(\"One end is covered in the protein, it is not circularizable\")"
     ],
     "language": "python",
     "metadata": {},
     "outputs": [],
     "prompt_number": 13
    },
    {
     "cell_type": "markdown",
     "metadata": {},
     "source": [
      "Wir versuchen nun wirklich einen Linker zu finden. Daf\u00fcr alle m\u00f6glichen Linker, die zum Ziel f\u00fchren erzeugen lassen. So ein Linker ist eindeutig bestimmt, durch die Punkte, durch die er durchgeht, das hei\u00dft man muss nur die Punkte abspeichern lassen. Die kann man dann auswerten im Endeffekt und so den besten Linker rausfinden.\n",
      "\n",
      "Dabei kann ein Linker maximal 3 Winkel haben, dann ist es m\u00f6glich ein 5 Eck mit den Punkten zu bauen. Das ergibt bei einer Winkelvervteilung von jeweils 5 \u00b0 2500^3 M\u00f6glichkeiten.\n",
      "\n",
      "Jede Aminos\u00e4ure in einer Alphahelix macht dann eine Verschiebung um 1,5 Angstr\u00f6m. Das hei\u00dft, dass jedes einzelne Linkerst\u00fcck (keine Gelenke) 1.5A lang ist.\n",
      "\n",
      "F\u00fcr die maximale L\u00e4nge des Linkers legen wir eine Schnur um eine Kugel, mit dem Radius des 3/4 (noch dr\u00fcber sprechen) des maximalen Abstands von dem Ende zu dem Rest.\n",
      "\n"
     ]
    },
    {
     "cell_type": "markdown",
     "metadata": {},
     "source": [
      "Wir sortieren jetzt die Punkte aus, bei denen Proteinpunkte auf der Verbindungslinie zwischen den beiden liegen. \n",
      "\n",
      "Daf\u00fcr berechnen wir f\u00fcr jede Verbindung zwischen A und B alle Abst\u00e4nde AC und BC. Daraus k\u00f6nnen wir dann r\u00fcckschl\u00fcsse ziehen, ob es Punkte gibt, die zwischen der Verbindungslinie liegen. Generell gibt es zwei Kriterien, die erf\u00fcllt sein m\u00fcssen:\n",
      "\n",
      "AC und BC m\u00fcssen k\u00fcrzer sein als AB (Kreis um jeweils den anderen Punkt)\n",
      "AC + BC muss kleiner als $ \\sqrt{AB^2 + d^2}+d$ sein. (Ellipse durch die \u00e4u\u00dfersten Eckpunkte, die wir aussortieren wollen)\n",
      "\n",
      "Mit dieser Methode sortieren wir um ung\u00fcnstigsten Fall (k\u00fcrzester Linker, schlechtester Punkt vom Protein, also ganz in der Mitte) noch Punkte aus, bei denen ein Punkt in 2d Entfernung vom Linker ist. Das ist ok, daf\u00fcr dass das so eine einfache Methode ist."
     ]
    },
    {
     "cell_type": "heading",
     "level": 4,
     "metadata": {},
     "source": [
      "TODO: Irgendwie mit hineinnehmen, ob das Protein gro\u00df ist (verschieden lange Linker nehmen), ob man viele Winkel gleich am Anfang angreifen kann (eine Iteration vllt. herausnehmen) und was man so machen kann, um Rechenzeit zu sparen."
     ]
    },
    {
     "cell_type": "code",
     "collapsed": false,
     "input": [
      "#displacement ist wirklich die Verschiebung im 3d raum, deshalb m\u00fcssen die L\u00e4ngen dreimal draufgemacht werden.\n",
      "def make_displacements(lengtharray, displacementarray):\n",
      "    oneaxis = np.size(lengtharray)\n",
      "    twoaxis = np.size(displacementarray, axis = 0)\n",
      "    \n",
      "    disptiled = np.tile(displacementarray, (oneaxis, 1))\n",
      "    lengthshaped = np.repeat(lengtharray, 3 * twoaxis)\n",
      "    lengthshaped = np.reshape(lengthshaped, (oneaxis * twoaxis, 3))\n",
      "    \n",
      "    return disptiled * lengthshaped\n",
      "    \n",
      "    "
     ],
     "language": "python",
     "metadata": {},
     "outputs": [],
     "prompt_number": 14
    },
    {
     "cell_type": "code",
     "collapsed": false,
     "input": [
      "def sort_out_by_protein(startingarray, endingarray, proteinpoints, mindist, beforearray = None):\n",
      "    '''\n",
      "    startingarray must be an array of (x,3) shape. so add it as: [startingarray]\n",
      "    beforearray is used, if also arrays before the connection need to be sliced. Then the boolarray is returned.\n",
      "    '''\n",
      "    if np.shape(startingarray) == (3,):\n",
      "        starttemp = np.repeat([startingarray], np.size(endingarray, axis=0), axis =0)\n",
      "    else:\n",
      "        starttemp = startingarray\n",
      "    oneaxis = np.size(endingarray, axis = 0)    \n",
      "    twoaxis = np.size(proteinpoints, axis=0)    \n",
      "    #expand the arrays\n",
      "    startendlength = vectabsar(starttemp-endingarray)\n",
      "    startendlength = np.repeat(startendlength, twoaxis , axis =0)\n",
      "    starttemp = np.repeat(starttemp, twoaxis, axis =0)#immer die gleichen hintereinander\n",
      "    endtemp = np.repeat(endingarray, twoaxis, axis =0)\n",
      "    proteintemp = np.tile(proteinpoints, (oneaxis,1))\n",
      "    startprotlength = vectabsar(starttemp-proteintemp)\n",
      "    endprotlength = vectabsar(endtemp-proteintemp)\n",
      "    \n",
      "    \n",
      "    \n",
      "    #arrays for every connection a row and every proteinpoint a column\n",
      "    startendlength = np.reshape(startendlength, (oneaxis, twoaxis), \"C\")\n",
      "    startprotlength = np.reshape(startprotlength, (oneaxis, twoaxis), \"C\")\n",
      "    endprotlength = np.reshape(endprotlength, (oneaxis, twoaxis), \"C\")\n",
      "    \n",
      "    #make the slicingarray, True means sort out\n",
      "    connectpointbool = ((startprotlength < startendlength) & (endprotlength < startendlength) & \\\n",
      "    ((startprotlength + endprotlength) < (np.sqrt(np.square(startendlength)+mindist**2)+mindist)))\n",
      "    connectpointbool = np.invert(connectpointbool.any(axis = 1) )  \n",
      "    \n",
      "    \n",
      "    if beforearray == None:    \n",
      "        if np.shape(startingarray) == (3,):\n",
      "            return [np.float16(startingarray), np.float16(endingarray[connectpointbool])]\n",
      "        else:\n",
      "            return [np.float16(startingarray[connectpointbool]), np.float16(endingarray[connectpointbool])]\n",
      "    else:\n",
      "        return (np.float16(beforearray[connectpointbool]), np.float16(startingarray[connectpointbool]),\\\n",
      "                np.float16(endingarray[connectpointbool]))"
     ],
     "language": "python",
     "metadata": {},
     "outputs": [],
     "prompt_number": 15
    },
    {
     "cell_type": "markdown",
     "metadata": {},
     "source": [
      "Wir fangen sowohl vorne als auch hinten an, mit allen Winkeln, die m\u00f6glich sind und allen L\u00e4ngen, die m\u00f6glich sind. Wir bekommen dann Arrays von den ersten Punkten und den letzten Punkten nach dem Protein."
     ]
    },
    {
     "cell_type": "code",
     "collapsed": false,
     "input": [
      "def naechstepunkte(anfangsarray, verschiebungsarray):\n",
      "    '''\n",
      "    gibt ein Array zur\u00fcck, das zu jedem Punkt, jede Verschiebung macht aus dem verschiebungsarray. Verschiebungsarray\n",
      "    sind einfach Vektoren, wie das verschoben werden kann\n",
      "    anfangsarray sind Vektoren, von denen wir ausgehen.\n",
      "    '''\n",
      "    laengeanfang = np.size(anfangsarray, axis=0)\n",
      "    laengeversch = np.size(verschiebungsarray, axis=0)\n",
      "    hilfanfang = np.float16(np.repeat(anfangsarray, laengeversch, axis=0))\n",
      "    hilfversch = np.float16(np.tile(verschiebungsarray, (laengeanfang, 1)))\n",
      "    return [hilfanfang, hilfanfang + hilfversch]\n",
      "\n",
      "def aussortierennachpunken(punktearray, proteinpunkte, minabstand, maxabstand):\n",
      "    '''\n",
      "    schmei\u00dft Punkte raus, die in dem Protein liegen, bzw. die zu weit vom Protein weg sind\n",
      "    gibt ein Bool Array raus, mit dem man das Punktearray slicen kann, vom Protein wird nur jeder 4 Punkt verwendet\n",
      "    '''\n",
      "    \n",
      "    temp1 = np.repeat(punktearray, np.size(proteinpunkte[::4], axis=0), axis =0)\n",
      "    temp2 = np.tile(proteinpunkte[::4], (np.size(punktearray, axis=0),1))\n",
      "    abstaende = np.reshape(abstandarrays_quadr(temp1, temp2), (np.size(punktearray, axis=0), np.size(proteinpunkte[::4], axis=0)))\n",
      "    minimaleabst = np.min(abstaende, axis=1)\n",
      "    keep = (minimaleabst < maxabstand**2) & (minimaleabst > minabstand**2)\n",
      "    return keep\n",
      "    "
     ],
     "language": "python",
     "metadata": {},
     "outputs": [],
     "prompt_number": 16
    },
    {
     "cell_type": "code",
     "collapsed": false,
     "input": [
      "def gaussian_normed(x, sig, mu):\n",
      "    return 1/(sig*np.sqrt(2*np.pi)) * np.exp(-0.5 * ((x-float(mu))/sig) ** 2)\n",
      "\n",
      "#in anglearray there are always the actual angles in it\n",
      "#IMPORTANT: here should never be a 0 in it\n",
      "def angle_weighing(anglearray, angletosequence = angletosequence):\n",
      "    #build function\n",
      "    returnarray = np.zeros(np.size(anglearray))\n",
      "    sigmas = []\n",
      "    for angledefinition in angletosequence:\n",
      "        returnarray = returnarray + gaussian_normed(anglearray, angledefinition[1] * np.pi / 180.,\n",
      "                                                    angledefinition[0] * np.pi / 180.)\n",
      "        sigmas.append(angledefinition[1] * np.pi / 180.)\n",
      "    minsigma = min(sigmas)\n",
      "    returnarray = 2 / (minsigma * np.sqrt(2 * np.pi)) - returnarray    \n",
      "    return returnarray\n",
      "\n",
      "#die Winkelfunktion muss man noch \u00fcberlegen, in the end it returns a on one normed value.\n",
      "def angle_function(StartingArray, MiddleArray, EndingArray):\n",
      "    vect1 = (StartingArray - MiddleArray)\n",
      "    vect2 = (EndingArray - MiddleArray)\n",
      "    #catch if there is 0 displacement\n",
      "    tocalculate = ((vect1 != np.array([0,0,0])).any(1)) & ((vect2 != np.array([0,0,0])).any(1))\n",
      "    vecttemp1 = vect1[tocalculate]\n",
      "    vecttemp2 = vect2[tocalculate]\n",
      "    catchrounding = skalar_product(vecttemp1, vecttemp2)/(vectabsar(vecttemp1)*vectabsar(vecttemp2))\n",
      "    #get rounding arrors\n",
      "    catchrounding[catchrounding > 1] = 1\n",
      "    catchrounding[catchrounding < -1] = -1\n",
      "    angles = np.arccos(catchrounding)\n",
      "    functionvalues = np.zeros(np.size(MiddleArray, axis = 0))\n",
      "    functionvalues[tocalculate] = angle_weighing(angles)\n",
      "    return functionvalues\n",
      "\n",
      "#needs a on one normed array of the weighing of the points, if not all points are equally weighed\n",
      "\n",
      "#TODO: Start can be array or just points, End has to be an array...\n",
      "def unpreferable_places(Start, End, ProteinPoints, AminoacidNumberArray, ToBeWeighedAAInput, WeighingofAA, substratelist):\n",
      "    if np.shape(Start) ==(3,):\n",
      "        Start = np.repeat([Start], np.size(End, axis = 0), axis = 0)\n",
      "        \n",
      "    if np.shape(End) ==(3,):\n",
      "        End = np.repeat([End], np.size(Start, axis = 0), axis = 0)\n",
      "    \n",
      "    #all the normal aminoacids from the arrays\n",
      "    SliceToBeWeighed = np.in1d(ToBeWeighedAAInput, AminoacidNumberArray)\n",
      "    ToBeWeighedAA = ToBeWeighedAAInput[SliceToBeWeighed]\n",
      "    \n",
      "    #reduce the points to their mean, so that every aminoacid is equally weighed and not long ones are more important than\n",
      "    #than short ones\n",
      "    Points = []\n",
      "    for number in ToBeWeighedAA:\n",
      "        Points.append(np.mean(ProteinPoints[AminoacidNumberArray == number], axis = 0))\n",
      "    Points = np.array(Points)\n",
      "    \n",
      "    toappendtoweighingofAA = np.array([])\n",
      "    #for the substrate\n",
      "    for sublist in substratelist:\n",
      "        if sublist[0] in AminoacidNumberArray:\n",
      "            activepoint = np.mean(ProteinPoints[AminoacidNumberArray == sublist[0]], axis = 0)\n",
      "            boolangles = test_accessible_angles(winkelarray, sublist[1], activepoint, ProteinPoints)\n",
      "            lengtharray = np.array([0.2, 0.3, 0.4, 0.45, 0.5, 0.55, 0.6, 0.7, 0.8, 1.]) * sublist[2]\n",
      "            hereangles = winkelarray[boolangles]\n",
      "            \n",
      "            dispnorm = [np.array([0,0,0])]\n",
      "            for winkel in hereangles:\n",
      "                temp = drehenxy(winkel[0], winkel[1], np.array([0,0,1]))\n",
      "                np.append(dispnorm, [temp], axis = 0)\n",
      "                \n",
      "            disps = make_displacements(lengtharray, dispnorm)\n",
      "            disps = disps[(disps != np.array([0,0,0])).any(axis = 1)]\n",
      "            #also add the activesite\n",
      "            if np.size(Points) == 0:\n",
      "                Points = np.concatenate((disps + activepoint, [activepoint]), axis = 0)\n",
      "            else:\n",
      "                Points = np.concatenate((Points, disps + activepoint, [activepoint]), axis = 0)\n",
      "            toappendtoweighingofAA = np.append(toappendtoweighingofAA, np.ones(np.size(disps, axis = 0) + 1) /\n",
      "                      (np.size(disps, axis = 0) + 1) * sublist[1])\n",
      "            \n",
      "    \n",
      "    calc = (Start != End).any(axis = 1)\n",
      "    Starttemp = Start[calc]\n",
      "    Endtemp = End[calc]\n",
      "    \n",
      "    DistanceFromConnection, oneaxis, twoaxis = distance_from_connection(Starttemp, Endtemp, Points)\n",
      "   \n",
      "    \n",
      "    if WeighingofAA == None:\n",
      "        WeighingofAA = np.ones(twoaxis)\n",
      "\n",
      "        \n",
      "    #the array is normalized here and gets the size of the points, there can be set in arbitrary numnbers for the weighing\n",
      "    WeighingofAAtemp = WeighingofAA[SliceToBeWeighed]\n",
      "    WeighingofAAtemp = np.concatenate((WeighingofAAtemp, toappendtoweighingofAA))\n",
      "    WeighingofAAtemp = (WeighingofAAtemp/np.mean(WeighingofAAtemp))\n",
      "    WeighingofAAtemp = np.tile(WeighingofAAtemp, (oneaxis,1))\n",
      "    WeighingofAAtemp = np.reshape(WeighingofAAtemp, (oneaxis, twoaxis))\n",
      "      \n",
      "        \n",
      "    #TODO: zu welcher Potenz soll das dann gehen?\n",
      "    ValueOfPoint = WeighingofAAtemp / (DistanceFromConnection ** 2)\n",
      "    \n",
      "    returns = np.zeros(np.size(Start, axis = 0))\n",
      "    returns[calc] = np.sum(ValueOfPoint, axis = 1)\n",
      "    return returns\n",
      "\n",
      "\n",
      "def distance_from_surface(beforearray, testarray, ProteinPoints, Afterpoint = None):\n",
      "    '''\n",
      "    calculates the distances of the testarrays points from the surface as just the minimum of the distances to all protein \n",
      "    points. It doesn't calculate the points that are equal to the points of the beforearray, so that these are not taken double.\n",
      "    And it checks that the points don't lie on the endpoint.\n",
      "    Returns the distance divided by the minimal distance for norming the values somehow.\n",
      "    '''\n",
      "    Horiz_Axis = np.size(ProteinPoints, axis = 0)\n",
      "    testsize = np.size(testarray, axis = 0)\n",
      "    \n",
      "    \n",
      "    if np.shape(beforearray) == (3,):\n",
      "        beforearray = np.repeat([beforearray], testsize, axis = 0)        \n",
      "        \n",
      "    calc = (beforearray != testarray).any(axis = 1)\n",
      "    if Afterpoint != None:\n",
      "        Afterpoint = np.repeat(Afterpoint, testsize, axis = 0)\n",
      "        calc = (Afterpoint != testarray).any(axis = 1) & calc\n",
      "    \n",
      "    FirstPoints = testarray[calc]\n",
      "    \n",
      "    Vert_Axis = np.size(FirstPoints, axis = 0)\n",
      "    Prottemp = np.tile(ProteinPoints, (Vert_Axis, 1))\n",
      "    if Vert_Axis == 0:\n",
      "        Distancesret = np.zeros(testsize)\n",
      "    else:\n",
      "        Firsttemp = np.repeat(FirstPoints, Horiz_Axis, axis = 0)\n",
      "        Distances = abstandarrays(Firsttemp, Prottemp)    \n",
      "        Distances = np.reshape(Distances, (Vert_Axis, Horiz_Axis))\n",
      "        Distances = np.min(Distances, axis = 1)\n",
      "        Distancesret = np.zeros(testsize)\n",
      "        #TODO: \u00dcber Potenz nachdenken\n",
      "        Distancesret[calc] = (Distances - minabstand) ** 2 / minabstand\n",
      "    \n",
      "    return Distancesret\n",
      "\n",
      "\n",
      "def weighing_function_rigids(StartPoint, FirstArray, SecondArray, ThirdArray, EndPoint,\\\n",
      "                      ProteinPoints, AminoacidNumberArray, ToBeWeighedAA, WeighingofAA = None, substratelist = None):\n",
      "    \n",
      "    LinkerLength = abstandpktzuarray(StartPoint, FirstArray) + abstandarrays(FirstArray, SecondArray) \\\n",
      "    + abstandarrays(SecondArray, ThirdArray) + abstandpktzuarray(EndPoint, ThirdArray) \n",
      "    \n",
      "    LengthNormed = LinkerLength / (abstand(StartPoint, EndPoint))\n",
      "    \n",
      "    #catch where there are no new points in the SecondArray\n",
      "    SecondAngles = angle_function(FirstArray, SecondArray, ThirdArray)\n",
      "    SecondAngles[SecondAngles == 0] = angle_function(StartPoint, SecondArray[SecondAngles == 0],\\\n",
      "                                                     ThirdArray[SecondAngles == 0])\n",
      "    \n",
      "    Angles = angle_function(StartPoint, FirstArray, SecondArray) + SecondAngles + \\\n",
      "    angle_function(SecondArray, ThirdArray, EndPoint)\n",
      "    \n",
      "    if ToBeWeighedAA == None:\n",
      "        SiteInfluenceNormed = np.zeros(np.size(Angles))\n",
      "    else:\n",
      "        SiteInfluenceNormed = unpreferable_places(StartPoint, FirstArray,\\\n",
      "                                                  ProteinPoints, AminoacidNumberArray, ToBeWeighedAA,\n",
      "                                                  WeighingofAA, substratelist) + \\\n",
      "        unpreferable_places(FirstArray, SecondArray, ProteinPoints, AminoacidNumberArray, ToBeWeighedAA,\n",
      "                            WeighingofAA, substratelist) + \\\n",
      "        unpreferable_places(SecondArray, ThirdArray, ProteinPoints, AminoacidNumberArray, ToBeWeighedAA,\n",
      "                            WeighingofAA, substratelist) + \\\n",
      "        unpreferable_places(EndPoint, ThirdArray, ProteinPoints, AminoacidNumberArray, ToBeWeighedAA,\n",
      "                            WeighingofAA, substratelist)\n",
      "    \n",
      "    DistancesFromProtein = (distance_from_surface(StartPoint, FirstArray, ProteinPoints) + \n",
      "                            distance_from_surface(FirstArray, SecondArray, ProteinPoints) +\n",
      "                            distance_from_surface(SecondArray, ThirdArray, ProteinPoints, [EndPoint]))\n",
      "    \n",
      "    weighedvalue = LengthNormed\n",
      "    \n",
      "    return (weighedvalue, LengthNormed * abstand(StartPoint, EndPoint), Angles,\n",
      "            SiteInfluenceNormed, DistancesFromProtein)\n",
      "\n",
      "\n",
      "def weighing_function_flex(StartPoint, FirstArray, SecondArray, ThirdArray, EndPoint,\\\n",
      "                      ProteinPoints, AminoacidNumberArray, ToBeWeighedAA, WeighingofAA = None, substratelist = None):\n",
      "    \n",
      "    LinkerLength = abstandpktzuarray(StartPoint, FirstArray) + abstandarrays(FirstArray, SecondArray) \\\n",
      "    + abstandarrays(SecondArray, ThirdArray) + abstandpktzuarray(EndPoint, ThirdArray) \n",
      "    \n",
      "    LengthNormed = LinkerLength / (abstand(StartPoint, EndPoint))\n",
      "    \n",
      "    Angles = angle_function(FirstArray, SecondArray, ThirdArray)\n",
      "    \n",
      "    if ToBeWeighedAA == None:\n",
      "        SiteInfluenceNormed = np.zeros(np.size(Angles))\n",
      "    else:\n",
      "        SiteInfluenceNormed = unpreferable_places(FirstArray, SecondArray, ProteinPoints, AminoacidNumberArray,\n",
      "                                                  ToBeWeighedAA, WeighingofAA, substratelist) + \\\n",
      "        unpreferable_places(SecondArray, ThirdArray, ProteinPoints, AminoacidNumberArray, ToBeWeighedAA, \n",
      "                            WeighingofAA, substratelist) \n",
      "    \n",
      "    DistancesFromProtein = distance_from_surface(FirstArray, SecondArray, ProteinPoints) \n",
      "    \n",
      "    weighedvalue = LengthNormed\n",
      "    \n",
      "    return (weighedvalue, LengthNormed * abstand(StartPoint, EndPoint), Angles,\n",
      "            SiteInfluenceNormed, DistancesFromProtein)\n",
      "#Aus dem Weighingstring nutzbare Form machen.\n",
      "\n",
      "\n",
      "def make_weighingarrays(Userstring):\n",
      "    \n",
      "    \"\"\"\n",
      "Userstring ist von der Form: 273,10 280-290,5 298,7,35.6  usw. (Leerzeichen trennen Eintr\u00e4ge, , for single residues\n",
      "- for ranges, second, for the diameter of the substrate)\n",
      "If nothing should be weighted, insert \"\"\n",
      "    \n",
      "    \"\"\"\n",
      "    if Userstring == \"\":\n",
      "        return None, None, None\n",
      "    else:\n",
      "        ShouldBeWeighed = []\n",
      "        Weighingarray = []\n",
      "        substratelist = []\n",
      "        Userlist = Userstring.split()\n",
      "        for entry in Userlist:\n",
      "            if \"-\" not in entry:\n",
      "                #- is not in entry\n",
      "                if len(entry.split(\",\")) == 2:\n",
      "                    ShouldBeWeighed.append(int(entry.split(\",\")[0]))\n",
      "                    Weighingarray.append(float(entry.split(\",\")[1]))\n",
      "                else:\n",
      "                    substratelist.append([int(entry.split(\",\")[0]), float(entry.split(\",\")[1]), float(entry.split(\",\")[2])])\n",
      "            else:\n",
      "                #appends every entry, so borders are included in the interval\n",
      "                ShouldBeWeighed += (range(int(entry.split(\",\")[0].split(\"-\")[0]),int(entry.split(\",\")[0].split(\"-\")[1])+1))\n",
      "                #for many values they should be normed in weighing. it's the sites that interest us, lists are multiplied.\n",
      "                Weighingarray += ([float(entry.split(\",\")[1])/ \\\n",
      "                                      (int(entry.split(\",\")[0].split(\"-\")[1])+1-int(entry.split(\",\")[0].split(\"-\")[0]))]* \\\n",
      "                                     (int(entry.split(\",\")[0].split(\"-\")[1])+1-int(entry.split(\",\")[0].split(\"-\")[0])))\n",
      "\n",
      "        return np.array(ShouldBeWeighed), np.array(Weighingarray), substratelist"
     ],
     "language": "python",
     "metadata": {},
     "outputs": [],
     "prompt_number": 17
    },
    {
     "cell_type": "code",
     "collapsed": false,
     "input": [
      "#TODO die L\u00e4nge genau bestimmen\n",
      "LengthOfAngle = 800 #in pm\n",
      "LENGTHOFANGLEKO = LengthOfAngle / kalib\n",
      "#hier muss man eintragen, welche Helix-linkerl\u00e4ngen in AS m\u00f6glich sind.\n",
      "linkerdatenbank = np.array([\"AEAAAK\", \"AEAAAKA\", \"AEAAAKAA\", \"AEAAAKEAAAK\", \"AEAAAKEAAAKA\", \"AEAAAKEAAAKEAAAKA\", \"AEAAAKEAAAKEAAAKEAAAKA\",\\\n",
      "                   \"AEAAAKEAAAKEAAAKEAAAKEAAAKA\"])\n",
      "linkerlaengenAS = []\n",
      "\n",
      "for i in range(len(linkerdatenbank)):\n",
      "    linkerlaengenAS.append(len(linkerdatenbank[i]))\n",
      "    \n",
      "linkerlaengenAS = np.array(linkerlaengenAS)\n",
      "linkerlaengenME = linkerlaengenAS * 150 + 2*LengthOfAngle #in pm\n",
      "linkerlaengenKO = linkerlaengenME / kalib #in koordinaten\n",
      "\n",
      "LENGTHACCURACY = 75\n",
      "LENGTHACCURACYKO = LENGTHACCURACY / kalib\n",
      "#TODO dar\u00fcber nachdenken, ob 1 wirklich richtig ist.\n",
      "SortOutLinkers = linkerlaengenKO < 1*maxvonanfang\n",
      "\n",
      "linkerlaengenAS = linkerlaengenAS[SortOutLinkers]\n",
      "linkerlaengenME = linkerlaengenME[SortOutLinkers]\n",
      "linkerlaengenKO = linkerlaengenKO[SortOutLinkers]\n",
      "linkerdatenbank = linkerdatenbank[SortOutLinkers]\n",
      "\n",
      "laengstesstueck = np.max(linkerlaengenKO)\n",
      "anzahllinker = np.size(linkerlaengenKO)\n",
      "\n",
      "maxlinkerAS = int(3 * max(maxvonanfang, maxvonende)) #pi*0.75/1.5 in Aminos\u00e4uren\n",
      "maxlinkerKO = maxlinkerAS * 150/kalib\n",
      "anzahleckenmax = maxlinkerKO / np.max(linkerlaengenKO)\n",
      "anzahleckenmin = abstandanfend / np.min(linkerlaengenKO)"
     ],
     "language": "python",
     "metadata": {},
     "outputs": [],
     "prompt_number": 18
    },
    {
     "cell_type": "code",
     "collapsed": false,
     "input": [
      "\n",
      "def sort_out_by_angle (startingarray, middlearray, endingarray, angletosequence):\n",
      "    '''\n",
      "    returns a boolian array which paths to keep, middle and endingarray must have same dimension, startingarray is only one \n",
      "    entry\n",
      "    \n",
      "    If startingarray is only one point, it returns only middlearray and endingarray, else all three arrays are returned\n",
      "    '''\n",
      "    if np.shape(startingarray) == (3,):\n",
      "        startingexp = np.repeat([startingarray], np.size(middlearray, axis=0), axis =0)\n",
      "    else:\n",
      "        startingexp = startingarray\n",
      "    vect1 = (startingexp - middlearray)\n",
      "    vect2 = (endingarray - middlearray)\n",
      "    #catch if there is 0 displacement\n",
      "    tocalculate = ((vect1 != np.array([0,0,0])).any(1)) & ((vect2 != np.array([0,0,0])).any(1))\n",
      "    if tocalculate.any():\n",
      "        vect1 = vect1[tocalculate]\n",
      "        vect2 = vect2[tocalculate]\n",
      "        catchrounding = skalar_product(vect1, vect2)/(vectabsar(vect1)*vectabsar(vect2))\n",
      "        #get rounding arrors\n",
      "        catchrounding[catchrounding > 1] = 1\n",
      "        catchrounding[catchrounding < -1] = -1\n",
      "        angles = np.arccos(catchrounding)\n",
      "        keep = np.bool8(np.zeros(np.size(angles)))\n",
      "        #here can be defined which angles should be taken into account\n",
      "        for anglepreferences in angletosequence:\n",
      "            keep = (keep | ((angles > ((anglepreferences[0]-anglepreferences[1]) * np.pi/180)) &\n",
      "                           (angles < ((anglepreferences[0]+anglepreferences[1]) * np.pi/180))))\n",
      "            \n",
      "        tempstart = startingexp[tocalculate]\n",
      "        tempmid = middlearray[tocalculate]\n",
      "        tempend = endingarray[tocalculate]\n",
      "        \n",
      "        tocalctemp = tocalculate == False\n",
      "        tempmid = np.concatenate((tempmid[keep], middlearray[tocalctemp]), axis = 0)\n",
      "        tempend = np.concatenate((tempend[keep], endingarray[tocalctemp]), axis = 0)\n",
      "        \n",
      "        if np.shape(startingarray) == (3,): \n",
      "            return (tempmid, tempend)\n",
      "        else:\n",
      "            tempstart = np.concatenate((tempstart[keep], startingarray[tocalctemp]), axis = 0)\n",
      "            return tempstart, tempmid, tempend\n",
      "    else:\n",
      "        if np.shape(startingarray) == (3,):\n",
      "            return middlearray, endingarray\n",
      "        else:\n",
      "            return startingarray, middlearray, endingarray"
     ],
     "language": "python",
     "metadata": {},
     "outputs": [],
     "prompt_number": 19
    },
    {
     "cell_type": "code",
     "collapsed": false,
     "input": [
      "def make_small_generator(PointArray, repetition, RAM, tobesplitlength, ProteinArray = None):\n",
      "    '''\n",
      "    RAM in GByte,\n",
      "    repetition, how often is the largest array repeated\n",
      "    \n",
      "    returns MakeSmall and teiler\n",
      "    '''\n",
      "    \n",
      "    bytespergig = 1073741824\n",
      "    AvailableRAM = float(RAM) * bytespergig #in BytesWaBytesWarning\n",
      "    \n",
      "    \n",
      "    try:\n",
      "        PointSize = PointArray.nbytes    \n",
      "    except:\n",
      "        PointSize = PointArray * 2 #assumes, that it is the size of the array, and this is float 16\n",
      "    \n",
      "    if ProteinArray != None:\n",
      "        proteinsize = np.size(ProteinArray, axis = 0)\n",
      "    else:\n",
      "        proteinsize = 1\n",
      "        \n",
      "    UsedMem = PointSize * proteinsize * repetition\n",
      "    \n",
      "    premakesmall = int(UsedMem / AvailableRAM) + 1\n",
      "    \n",
      "    teiler = tobesplitlength / premakesmall\n",
      "    if teiler != 0:\n",
      "        MakeSmall = tobesplitlength / teiler\n",
      "    else:\n",
      "        MakeSmall = premakesmall\n",
      "        \n",
      "    return MakeSmall, teiler\n",
      "\n",
      "\n",
      "def make_small_generator_offset(listofarraysinRAM, PointArray, repetition, RAM, tobesplitlength,  ProteinArray = None):\n",
      "    '''\n",
      "    In the listofarraysinRAM can be either just the arrays or the size of the arrays, same for PointArray\n",
      "    \n",
      "    RAM in GByte,\n",
      "    repetition, how often is the largest array repeated\n",
      "    '''\n",
      "    \n",
      "    bytespergig = 1073741824\n",
      "    AvailableRAM = float(RAM) * bytespergig #in BytesWaBytesWarning\n",
      "    inramsize = 0.\n",
      "    for array in listofarraysinRAM:\n",
      "        if array != None:\n",
      "            try:\n",
      "                inramsize += array.nbytes    \n",
      "            except:\n",
      "                inramsize += array * 2 #assumes, that it is the size of the array, and this is float 16\n",
      "    #print \"inramsize\" + str(inramsize / 1073741824.)  +\"in GB\"   \n",
      "    try:\n",
      "        PointSize = PointArray.nbytes    \n",
      "    except:\n",
      "        PointSize = PointArray * 2 #assumes, that it is the size of the array, and this is float 16\n",
      "\n",
      "    if ProteinArray != None:\n",
      "        proteinsize = np.size(ProteinArray, axis = 0)\n",
      "    else:\n",
      "        proteinsize = 1\n",
      "        \n",
      "    UsedMem = PointSize * proteinsize * repetition\n",
      "    \n",
      "    if (AvailableRAM - inramsize) > 0:\n",
      "        premakesmall = int(UsedMem / (AvailableRAM - inramsize)) + 1\n",
      "        teiler = tobesplitlength / premakesmall\n",
      "        if teiler != 0:\n",
      "            MakeSmall = tobesplitlength / teiler\n",
      "        else:\n",
      "            MakeSmall = premakesmall\n",
      "        return MakeSmall, teiler\n",
      "    else :\n",
      "        sys.exit(\"not enough RAM available for next calculation\")\n"
     ],
     "language": "python",
     "metadata": {},
     "outputs": [],
     "prompt_number": 20
    },
    {
     "cell_type": "code",
     "collapsed": false,
     "input": [
      "def part_of_RAM(listofarraysinRAM, RAM):\n",
      "    '''\n",
      "    returns the part of RAM, that is occupied by the arrays in the listofarraysinRAM\n",
      "    '''\n",
      "    \n",
      "    AvailableRAM = float(RAM) * 1073741824 #in Bytes\n",
      "    inramsize = 0.\n",
      "    for array in listofarraysinRAM:\n",
      "        try:\n",
      "            inramsize += array.nbytes    \n",
      "        except:\n",
      "            inramsize += array * 2 #assumes, that it is the size of the array, and this is float 16\n",
      "    \n",
      "    return inramsize / AvailableRAM"
     ],
     "language": "python",
     "metadata": {},
     "outputs": [],
     "prompt_number": 21
    },
    {
     "cell_type": "code",
     "collapsed": false,
     "input": [
      "#wie genau m\u00fcssen sich die St\u00fccke treffen wird durch hitgenauig bestimmt, es ist sin(5\u00b0) * maximale linkerl\u00e4nge\n",
      "#+ einen Helixanteil\n",
      "#~500s\n",
      "hitgenauig = 0.0436 * laengstesstueck\n",
      "\n",
      "\n",
      "def sort_out_by_distance(startingpoints, endingpoints, firstpoints, distance, variation):\n",
      "    '''\n",
      "    returns three arrays with all possible paths, made out of all possible combinations startingpoints to endingpoints\n",
      "    that are in a certain distance\n",
      "    '''\n",
      "    \n",
      "    starttemp = np.float16(np.repeat(startingpoints, np.size(endingpoints, axis=0), axis =0))\n",
      "    endtemp = np.float16(np.tile(endingpoints, (np.size(startingpoints, axis=0),1)))\n",
      "    abstaende = abstandarrays_quadr(starttemp, endtemp)\n",
      "    keep = ((abstaende > (distance-variation)**2) & (abstaende < (distance+variation)**2))\n",
      "    firsttemp = np.float16(np.repeat(firstpoints, np.size(endingpoints, axis=0), axis =0))\n",
      "    return [firsttemp[keep], starttemp[keep], endtemp[keep]]"
     ],
     "language": "python",
     "metadata": {},
     "outputs": [],
     "prompt_number": 22
    },
    {
     "cell_type": "code",
     "collapsed": false,
     "input": [
      "def sort_out_by_length (comefrompoints, gotopoints, linkerlaengen):\n",
      "    '''\n",
      "    returns a boolean array, with which you can slice the points, True means the values are kept\n",
      "    comefrompoints can be either an x * 3 array or just a three array, then it is elongated\n",
      "    \n",
      "    Either comefrompoints or gotopoints can be only one point, but never both of them can.\n",
      "    '''\n",
      "    \n",
      "    if np.shape(comefrompoints) == (3,):\n",
      "        comefrompoints = np.repeat([comefrompoints], np.size(gotopoints, axis = 0), axis = 0)\n",
      "    else:\n",
      "        if np.shape(gotopoints) == (3,):\n",
      "            gotopoints = np.repeat([gotopoints], np.size(comefrompoints, axis = 0), axis = 0)\n",
      "    \n",
      "    arraylengthtemp = np.size(comefrompoints, axis = 0)\n",
      "    lonetemp = abstandarrays(comefrompoints, gotopoints)\n",
      "    #True means keep\n",
      "    sortouttemp = np.bool8(np.zeros(arraylengthtemp))\n",
      "    \n",
      "    for LAENGE in linkerlaengen:\n",
      "        sortouttemp = sortouttemp | ((lonetemp < (LAENGE + LENGTHACCURACYKO)) & (lonetemp > (LAENGE - LENGTHACCURACYKO)))\n",
      "        \n",
      "    return sortouttemp"
     ],
     "language": "python",
     "metadata": {},
     "outputs": [],
     "prompt_number": 23
    },
    {
     "cell_type": "heading",
     "level": 4,
     "metadata": {},
     "source": [
      "Gestartet am 9.8. um 15:15 Uhr, 15:55 Uhr bei den Dreieckigen Linkern Versuch eines kompletten Durchlaufs, dann dreistunden f\u00fcr die dreieckigen Linker\n",
      "\n",
      "Linkerohneeckeflex: 11000 erzeugt, bereits erstmal aussortiert.\n",
      "Linkermiteckeflex:  insgesamt 35000 flexible (also 24000 hinzugekommen)\n",
      "\n",
      "erstepunkte 2200 erzeugt, \n",
      "drittepunkte werden 850 000 erzeugt"
     ]
    },
    {
     "cell_type": "code",
     "collapsed": false,
     "input": [
      "def length_to_sequence(lengtharray, linkerdatenbank, linkerlaengen):\n",
      "    if np.size(lengtharray) == 0:\n",
      "        return \"\"\n",
      "    else:\n",
      "        #prepare for adding strings always\n",
      "        addsequencearray = np.zeros(np.size(lengtharray), dtype=str)\n",
      "        addsequencearray = np.array(addsequencearray, dtype=np.object)\n",
      "\n",
      "        for i in range(len(linkerlaengen)):\n",
      "            setseqbool = ((lengtharray >= linkerlaengen[i] - LENGTHACCURACYKO) &\n",
      "                          (lengtharray <= (linkerlaengen[i] + LENGTHACCURACYKO)))\n",
      "            addsequencearray[setseqbool] = addsequencearray[setseqbool] + linkerdatenbank[i]\n",
      "\n",
      "        temp = (addsequencearray == \"\") & (lengtharray != 0.)\n",
      "        addsequencearray[temp] = addsequencearray[temp] + \"XXX\" #TODO nur zum Testen, das muss noch raus!\n",
      "\n",
      "        return addsequencearray\n",
      "\n",
      "def angle_to_sequence(anglearray, angletosequence, angleseparators):\n",
      "    if np.size(anglearray) == 0:\n",
      "        return \"\"\n",
      "    else:\n",
      "        \n",
      "        addsequencearray = np.zeros(np.size(anglearray), dtype=str)\n",
      "        addsequencearray = np.array(addsequencearray, dtype=np.object)\n",
      "        anglearraydeg = anglearray / np.pi * 180\n",
      "        for i in range(len(angletosequence)):\n",
      "            setseqbool = (anglearraydeg > angleseparators[i]) & (anglearraydeg < angleseparators[i + 1])\n",
      "            addsequencearray[setseqbool] = addsequencearray[setseqbool] + angletosequence[i][2]\n",
      "        return addsequencearray\n",
      "\n",
      "#returns the weightingarrays and the sequencearrays, concatenated\n",
      "def translate_paths_to_sequences(startpoint, firstflex, secondflex, thirdflex, firstrig, secondrig, thirdrig,\n",
      "                                 endpoint, linkerdb, linkerlKO, angletosequence, angleseparators,\n",
      "                                 weightflex, weightrig):\n",
      "    if (weightflex != None):\n",
      "        #flexible linkers\n",
      "        #initiate the array of objects\n",
      "        sequenceflex = np.zeros(np.size(firstflex, axis = 0), dtype=str)\n",
      "        sequenceflex = np.array(sequenceflex, dtype=np.object)\n",
      "        sequenceflex = sequenceflex + ScarsAtStartseq\n",
      "\n",
      "        withoutanglebool = (firstflex == secondflex).all(axis = 1)\n",
      "        \n",
      "        \n",
      "        firstnoangle = firstflex[withoutanglebool]\n",
      "        thirdnoangle = thirdflex[withoutanglebool]\n",
      "        \n",
      "        \n",
      "        #print (blubb1 == firstnoangle).all(axis = 1)\n",
      "        #print (blubb3 == thirdnoangle).all(axis = 1)\n",
      "        \n",
      "        #print length_to_sequence(abstandarrays(blubb1, blubb3),\n",
      "        #                 linkerdatenbank, linkerlaengenKO - (2*LENGTHOFANGLEKO))\n",
      "        \n",
      "        \n",
      "        #print length_to_sequence(abstandarrays(firstnoangle, thirdnoangle),\n",
      "        #                                                     linkerdb, linkerlKO - (2 * LENGTHOFANGLEKO) )\n",
      "        \n",
      "        \n",
      "        \n",
      "        sequenceflex[withoutanglebool] = (sequenceflex[withoutanglebool] +  \n",
      "                                          length_to_sequence(abstandarrays(firstnoangle, thirdnoangle),\n",
      "                                                             linkerdb, linkerlKO - (2 * LENGTHOFANGLEKO) ))\n",
      "\n",
      "        \n",
      "\n",
      "\n",
      "\n",
      "        withanglebool = np.invert(withoutanglebool)\n",
      "\n",
      "        sequenceflex[withanglebool] = sequenceflex[withanglebool] + \\\n",
      "        length_to_sequence(abstandarrays(firstflex[withanglebool], secondflex[withanglebool]),\n",
      "                           linkerdb, linkerlKO - LENGTHOFANGLEKO)\n",
      "\n",
      "        sequenceflex[withanglebool] = sequenceflex[withanglebool] + \\\n",
      "        angle_to_sequence(angle_between_connections_array(firstflex[withanglebool], secondflex[withanglebool], \n",
      "                                                          thirdflex[withanglebool]), angletosequence, angleseparators)\n",
      "\n",
      "        sequenceflex[withanglebool] = sequenceflex[withanglebool] + \\\n",
      "        length_to_sequence(abstandarrays(secondflex[withanglebool], thirdflex[withanglebool]), linkerdb, \n",
      "                           linkerlKO - LENGTHOFANGLEKO)\n",
      "    \n",
      "    if weightrig != None:\n",
      "        #rigid linkers\n",
      "        sequencerig = np.zeros(np.size(firstrig, axis = 0), dtype=str)\n",
      "        sequencerig = np.array(sequencerig, dtype=np.object)\n",
      "        sequencerig = sequencerig + ScarsAtStartseq\n",
      "\n",
      "        withoutanglebool = (firstrig == secondrig).all(axis = 1)\n",
      "        \n",
      "        withanglebool = np.invert(withoutanglebool)\n",
      "        \n",
      "        sequencerig = sequencerig + length_to_sequence(abstandpktzuarray(startpoint, firstrig) -\n",
      "                                                       FLEXIBLEATSTARTKO + LENGTHOFANGLEKO,  linkerdb, linkerlKO)\n",
      "        #split between those from shortpath and those not coming from there\n",
      "        sequencerig[withanglebool] = (sequencerig[withanglebool] + \n",
      "                                      angle_to_sequence(angle_between_connections_array(startpoint,\n",
      "                                                                                        firstrig[withanglebool],\n",
      "                                                                                        secondrig[withanglebool]), \n",
      "                                                      angletosequence, angleseparators))\n",
      "        \n",
      "        sequencerig[withanglebool] = (sequencerig[withanglebool] + \n",
      "                                      length_to_sequence(abstandarrays(firstrig[withanglebool], secondrig[withanglebool]),\n",
      "                                                         linkerdb, linkerlKO))\n",
      "        sequencerig[withanglebool] = (sequencerig[withanglebool] + \n",
      "                                      angle_to_sequence(angle_between_connections_array(firstrig[withanglebool], \n",
      "                                                                                        secondrig[withanglebool],\n",
      "                                                                                        thirdrig[withanglebool]), \n",
      "                                                      angletosequence, angleseparators))\n",
      "        \n",
      "        sequencerig[withoutanglebool] = (sequencerig[withoutanglebool] + \n",
      "                                      angle_to_sequence(angle_between_connections_array(startpoint,\n",
      "                                                                                        firstrig[withoutanglebool],\n",
      "                                                                                        thirdrig[withoutanglebool]), \n",
      "                                                        angletosequence, angleseparators))\n",
      "        \n",
      "\n",
      "        sequencerig = sequencerig + length_to_sequence(abstandarrays(secondrig, thirdrig), linkerdb, linkerlKO)\n",
      "        sequencerig = sequencerig + angle_to_sequence(angle_between_connections_array(secondrig, thirdrig, endpoint), \n",
      "                                                      angletosequence, angleseparators)\n",
      "\n",
      "        sequencerig = sequencerig + length_to_sequence(abstandpktzuarray(endpoint, thirdrig) -\n",
      "                                                       FLEXIBLEATENDKO + LENGTHOFANGLEKO,  linkerdb, linkerlKO)\n",
      "    \n",
      "\n",
      "    if weightrig != None:\n",
      "        if weightflex != None:\n",
      "            sequence = np.concatenate((sequenceflex, sequencerig))\n",
      "            retweight = np.concatenate((weightflex, weightrig), axis = 1)\n",
      "        else:\n",
      "            sequence = sequencerig\n",
      "            retweight = weightrig\n",
      "    elif weightflex != None:\n",
      "        sequence = sequenceflex\n",
      "        retweight = weightflex\n",
      "    elif (weightflex == None) & (weightrig == None):\n",
      "        print \"There were absolutely no linkers found\"\n",
      "        return None, None, None, None, None\n",
      "    \n",
      "    \n",
      "    \n",
      "    if (weightrig != None) | (weightflex != None):\n",
      "        sequence = sequence + ScarsAtEndseq\n",
      "        if firstrig != None:\n",
      "            if firstflex != None:\n",
      "                return sequence , retweight,\\\n",
      "                np.concatenate((firstflex, firstrig), axis = 0), \\\n",
      "                np.concatenate((secondflex, secondrig), axis = 0),\\\n",
      "                np.concatenate((thirdflex, thirdrig), axis = 0)\n",
      "            else:\n",
      "                return sequence, retweight, firstrig, secondrig, thirdrig\n",
      "        elif firstflex != None:\n",
      "            return sequence, retweight, firstflex, secondflex, thirdflex     \n",
      "        \n",
      "        \n",
      "        \n",
      "        \n",
      "    else:\n",
      "        print \"There were absolutely no linkers found.\"\n",
      "        return None, None, None, None, None"
     ],
     "language": "python",
     "metadata": {},
     "outputs": [],
     "prompt_number": 24
    },
    {
     "cell_type": "code",
     "collapsed": false,
     "input": [
      "#wir machen Arrays aus den Verschiebungen, f\u00fcr alle drei auf einmal, alle normiert\n",
      "startdisp = np.array([[0,0,0]])\n",
      "enddisp = np.array([[0,0,0]])\n",
      "dispnorm = np.array([[0,0,0]])\n",
      "for winkel in winkelarray:\n",
      "    \n",
      "    temp = drehenxy(winkel[0], winkel[1], np.array([0,0,1]))\n",
      "    \n",
      "    dispnorm = np.append(dispnorm, [temp], axis=0)\n",
      "    \n",
      "    if any((moeglichewinkelanfang[:]==winkel).all(1)):\n",
      "        startdisp = np.append(startdisp, [temp], axis=0)\n",
      "    if any((moeglichewinkelende[:]==winkel).all(1)):\n",
      "        enddisp = np.append(enddisp, [temp], axis=0)"
     ],
     "language": "python",
     "metadata": {},
     "outputs": [],
     "prompt_number": 25
    },
    {
     "cell_type": "heading",
     "level": 3,
     "metadata": {},
     "source": [
      "Ab hier kann man nach oben starten, wenn es einen Fehler gab."
     ]
    },
    {
     "cell_type": "markdown",
     "metadata": {},
     "source": [
      "We insert new possible linkers, these are either straight connections between the ends with flexible parts or with maximum one angle in the linker. The point is, that here the flexible ends are estimated better. "
     ]
    },
    {
     "cell_type": "code",
     "collapsed": false,
     "input": [
      "#without any edge, \n",
      "#+1 because of range\n",
      "\n",
      "if (ScarsAtStart + MissingAtStart) > 3:\n",
      "    FLEXATSTART = np.logspace(np.log10(1.5), np.log10(ScarsAtStart + MissingAtStart), num=4) * LengthOfFlexibleAA\n",
      "else:\n",
      "    FLEXATSTART = np.append(np.arange(2, (ScarsAtStart + MissingAtStart+1)), 1.5 ) * LengthOfFlexibleAA\n",
      "    \n",
      "if (ScarsAtEnd + MissingAtEnd) > 3:\n",
      "    FLEXATEND = np.logspace(np.log10(1.5), np.log10(ScarsAtEnd + MissingAtEnd), num=4) * LengthOfFlexibleAA\n",
      "else:\n",
      "    FLEXATEND = np.append(np.arange(2, (ScarsAtEnd + MissingAtEnd+1)), 1.5 ) * LengthOfFlexibleAA\n",
      "\n",
      "secondpointsflexible = firstpointsflexible = np.float16(make_displacements(FLEXATSTART, startdisp) + anfangspunkt)\n",
      "thirdpointsflexible = np.float16(make_displacements(FLEXATEND, enddisp) + endpunkt)\n",
      "\n",
      "amountofthirdpoints = np.size(thirdpointsflexible, axis = 0)\n",
      "amountofsecondpoints = np.size(secondpointsflexible, axis = 0)\n",
      "\n",
      "#reduce the amount of points in the protein, that should be checked, as a cylinder around start -> end\n",
      "heretousepoints = pkte[np.ravel(distance_from_connection(anfangspunkt, endpunkt, pkte)[0] < \\\n",
      "                       (minabstand + np.max(np.concatenate((FLEXATSTART, FLEXATEND)))))]\n",
      "\n",
      "\n",
      "MakeSmall, teiler = make_small_generator_offset([firstpointsflexible, secondpointsflexible, thirdpointsflexible], \n",
      "                                        np.size(secondpointsflexible) * np.size(thirdpointsflexible),\n",
      "                                        2 , RAMOFMACHINE ,np.size(secondpointsflexible, axis=0),\n",
      "                                        ProteinArray = heretousepoints)\n",
      "\n",
      "for i in range(0,(MakeSmall)):\n",
      "\n",
      "    temp1, temp2, temp3 = sort_out_by_distance(secondpointsflexible[:teiler], thirdpointsflexible,\n",
      "                                firstpointsflexible[:teiler], abstandanfend, 300 / kalib) \n",
      "    #300 ist etwa die H\u00e4lfte des Unterschieds zwischen zwei Linkerst\u00fccken\n",
      "    \n",
      "    firstpointsflexible = np.delete(firstpointsflexible, np.arange(teiler), axis = 0)\n",
      "    secondpointsflexible = np.delete(secondpointsflexible, np.arange(teiler), axis = 0)\n",
      "    keep = (distance_from_connection(temp2, temp3, heretousepoints)[0] >= minabstand).all(axis = 1)\n",
      "    \n",
      "    temp1 = temp2 = temp2[keep]\n",
      "    temp3 = temp3[keep]\n",
      "    \n",
      "    if i == 0:\n",
      "        firstpointsflexibletemp, secondpointsflexibletemp, thirdpointsflexibletemp = temp1, temp2, temp3\n",
      "    else:\n",
      "        firstpointsflexibletemp = np.concatenate((firstpointsflexibletemp, temp1), axis =0)\n",
      "        secondpointsflexibletemp = np.concatenate((secondpointsflexibletemp, temp2), axis =0)\n",
      "        thirdpointsflexibletemp = np.concatenate((thirdpointsflexibletemp, temp3), axis =0)\n",
      "\n",
      "if np.shape(firstpointsflexible) != (0,3):\n",
      "    temp1, temp2, temp3 = sort_out_by_distance(secondpointsflexible, thirdpointsflexible,\n",
      "                                firstpointsflexible, abstandanfend, 300 / kalib)\n",
      "\n",
      "    keep = (distance_from_connection(temp2, temp3, heretousepoints)[0] >= minabstand).all(axis = 1)\n",
      "\n",
      "    temp1 = temp2 = temp2[keep]\n",
      "    temp3 = temp3[keep]\n",
      "\n",
      "    firstpointsflexible  = np.concatenate((firstpointsflexibletemp,  temp1), axis =0)\n",
      "    secondpointsflexible = np.concatenate((secondpointsflexibletemp, temp2), axis =0)\n",
      "    thirdpointsflexible  = np.concatenate((thirdpointsflexibletemp,  temp3), axis =0)\n",
      "else:\n",
      "    firstpointsflexible  = firstpointsflexibletemp\n",
      "    secondpointsflexible = secondpointsflexibletemp\n",
      "    thirdpointsflexible  = thirdpointsflexibletemp\n",
      "    \n",
      "firstpointsflexibletemp = secondpointsflexibletemp = thirdpointsflexibletemp = None"
     ],
     "language": "python",
     "metadata": {},
     "outputs": [],
     "prompt_number": 36
    },
    {
     "cell_type": "code",
     "collapsed": false,
     "input": [
      "'''\n",
      "erstepunkte = None\n",
      "zweitepunkte = None\n",
      "drittepunkte = None\n",
      "'''"
     ],
     "language": "python",
     "metadata": {},
     "outputs": [
      {
       "metadata": {},
       "output_type": "pyout",
       "prompt_number": 29,
       "text": [
        "'\\nerstepunkte = None\\nzweitepunkte = None\\ndrittepunkte = None\\n'"
       ]
      }
     ],
     "prompt_number": 29
    },
    {
     "cell_type": "code",
     "collapsed": false,
     "input": [
      "\n",
      "np.shape(firstpointsflexible)"
     ],
     "language": "python",
     "metadata": {},
     "outputs": [
      {
       "metadata": {},
       "output_type": "pyout",
       "prompt_number": 37,
       "text": [
        "(1948, 3)"
       ]
      }
     ],
     "prompt_number": 37
    },
    {
     "cell_type": "markdown",
     "metadata": {},
     "source": [
      "now it should be tried to link it with one edge in the linker."
     ]
    },
    {
     "cell_type": "code",
     "collapsed": false,
     "input": [
      "heretousepoints = pkte[abstandpktzuarray( (anfangspunkt + endpunkt) / 2., pkte) < (abstandanfend / 2. + \n",
      "                                                                                   max(FLEXIBLEATSTARTKO, FLEXIBLEATENDKO))]\n",
      "#at about 3h running\n",
      "#calculate all the lengths that can produce the distance between beginning and end in an rectangular triangle\n",
      "linkertriangle = linkerlaengenKO[(linkerlaengenKO - LENGTHOFANGLEKO) < abstandanfend] - LENGTHOFANGLEKO\n",
      "linkertriangleone = np.repeat(linkertriangle, np.size(linkertriangle, axis = 0))\n",
      "linkertriangletwo = np.tile(linkertriangle, np.size(linkertriangle, axis = 0))\n",
      "\n",
      "linkertrianglehypoth = np.sqrt(linkertriangleone ** 2 + linkertriangletwo ** 2)\n",
      "\n",
      "keeptriangles = ((linkertrianglehypoth > (abstandanfend - FLEXIBLEATENDKO - FLEXIBLEATSTARTKO)) & \n",
      "                 (linkertrianglehypoth < (abstandanfend + FLEXIBLEATENDKO + FLEXIBLEATSTARTKO)))\n",
      "\n",
      "linkertriangleone = linkertriangleone[keeptriangles]\n",
      "linkertriangletwo = linkertriangletwo[keeptriangles]\n",
      "\n",
      "triangleangles = np.around(np.arctan(linkertriangletwo / linkertriangleone), decimals=2)\n",
      "#now we produce all the possible points, that lie on a sphere\n",
      "\n",
      "displacements = dispnorm * abstandanfend / 2\n",
      "\n",
      "allpointsfortriangles =  (anfangspunkt + endpunkt) / 2. + displacements\n",
      "amountoftriangles = np.size(allpointsfortriangles, axis = 0)\n",
      "\n",
      "anglesintriangle = angle_between_connections_array(np.repeat([endpunkt], amountoftriangles, axis = 0),\n",
      "                                                   np.repeat([anfangspunkt], amountoftriangles, axis = 0),\n",
      "                                                   allpointsfortriangles)\n",
      "anglesintriangle = np.around(anglesintriangle, decimals=2)\n",
      "\n",
      "\n",
      "allpointsfortriangles = allpointsfortriangles[np.in1d(anglesintriangle, triangleangles)]\n",
      "#450 unique points\n",
      "\n",
      "#get the displacement angles\n",
      "  \n",
      "\n",
      "dispnormtribeg = np.array([0,0,0])\n",
      "for angle in moeglichewinkelanfang:\n",
      "    temp = drehenxy(angle[0], angle[1], np.array([0,0,1]))\n",
      "    dispnormtribeg = np.append(dispnorm, [temp], axis=0)\n",
      "    \n",
      "dispnormtriend = np.array([0,0,0])\n",
      "for angle in moeglichewinkelende:\n",
      "    temp = drehenxy(angle[0], angle[1], np.array([0,0,1]))\n",
      "    dispnormtriend = np.append(dispnorm, [temp], axis=0)\n",
      "    \n",
      "\n",
      "\n",
      "triangleshiftsbeg = np.float16(make_displacements(FLEXATSTART, dispnormtribeg))\n",
      "\n",
      "\n",
      "amountoftriangleshiftsbeg = np.size(triangleshiftsbeg, axis = 0)\n",
      "triangleshiftsbeg = np.repeat(triangleshiftsbeg, np.size(allpointsfortriangles, axis = 0), axis = 0)\n",
      "allpointsfortriangles = np.tile(allpointsfortriangles, (amountoftriangleshiftsbeg, 1))\n",
      "\n",
      "firstpointstriangle  = np.float16(triangleshiftsbeg + anfangspunkt)\n",
      "secondpointstriangle = np.float16(triangleshiftsbeg + allpointsfortriangles)\n",
      "\n",
      "print np.shape(firstpointstriangle)\n",
      "\n",
      "keep = sort_out_by_length(firstpointstriangle, secondpointstriangle, linkertriangle)\n",
      "\n",
      "firstpointstriangle = firstpointstriangle[keep]\n",
      "secondpointstriangle = secondpointstriangle[keep]\n",
      "\n",
      "\n",
      "MakeSmall, teiler = make_small_generator_offset([firstpointstriangle, secondpointstriangle],\n",
      "                                        secondpointstriangle, 12, RAMOFMACHINE, np.size(secondpointstriangle, axis=0),\n",
      "                                        ProteinArray = heretousepoints)\n",
      "\n",
      "\n",
      "\n",
      "#about 250s per MakeSmall run\n",
      "blatime = time.time()\n",
      "\n",
      "for i in range(0, (MakeSmall +1)):\n",
      "    if i == MakeSmall:\n",
      "        temp1 = firstpointstriangle[i * teiler:]\n",
      "        temp2 = secondpointstriangle[i * teiler:]\n",
      "    else:\n",
      "        temp1 = firstpointstriangle[i*teiler:(i+1)*teiler]\n",
      "        temp2 = secondpointstriangle[i*teiler:(i+1)*teiler]\n",
      "    #at first sort all connections out, of which the anglepoint is too near, or too far away from the protein.\n",
      "\n",
      "    keep = aussortierennachpunken(temp2, heretousepoints, minabstand, maxabstand)\n",
      "    \n",
      "    temp1 = temp1[keep]    \n",
      "    temp2 = temp2[keep]\n",
      "    \n",
      "    #then sort out, if the connection is too near at the protein\n",
      "    keep = (distance_from_connection(temp1, temp2, heretousepoints)[0] >= minabstand).all(axis = 1)\n",
      "    \n",
      "    temp1 = temp1[keep]    \n",
      "    temp2 = temp2[keep]\n",
      "    \n",
      "    if i == 0:\n",
      "        firstpointstritemp, secondpointstritemp = temp1, temp2\n",
      "    else:\n",
      "        firstpointstritemp = np.concatenate((firstpointstritemp, temp1), axis =0)\n",
      "        secondpointstritemp = np.concatenate((secondpointstritemp, temp2), axis =0)\n",
      "        print time.time() - blatime\n",
      "    \n",
      "firstpointstriangle = firstpointstritemp\n",
      "secondpointstriangle = secondpointstritemp\n",
      "\n",
      "print np.shape(firstpointstriangle)"
     ],
     "language": "python",
     "metadata": {},
     "outputs": [
      {
       "output_type": "stream",
       "stream": "stdout",
       "text": [
        "(1935124, 3)\n",
        "17.3773691654"
       ]
      },
      {
       "output_type": "stream",
       "stream": "stdout",
       "text": [
        "\n",
        "26.9987461567"
       ]
      },
      {
       "output_type": "stream",
       "stream": "stdout",
       "text": [
        "\n",
        "38.0168170929"
       ]
      },
      {
       "output_type": "stream",
       "stream": "stdout",
       "text": [
        "\n",
        "49.0050890446"
       ]
      },
      {
       "output_type": "stream",
       "stream": "stdout",
       "text": [
        "\n",
        "59.7952420712"
       ]
      },
      {
       "output_type": "stream",
       "stream": "stdout",
       "text": [
        "\n",
        "70.7490229607"
       ]
      },
      {
       "output_type": "stream",
       "stream": "stdout",
       "text": [
        "\n",
        "81.8006429672"
       ]
      },
      {
       "output_type": "stream",
       "stream": "stdout",
       "text": [
        "\n",
        "93.9005160332"
       ]
      },
      {
       "output_type": "stream",
       "stream": "stdout",
       "text": [
        "\n",
        "105.511791945"
       ]
      },
      {
       "output_type": "stream",
       "stream": "stdout",
       "text": [
        "\n",
        "117.276818037"
       ]
      },
      {
       "output_type": "stream",
       "stream": "stdout",
       "text": [
        "\n",
        "130.237339973"
       ]
      },
      {
       "output_type": "stream",
       "stream": "stdout",
       "text": [
        "\n",
        "143.103002071"
       ]
      },
      {
       "output_type": "stream",
       "stream": "stdout",
       "text": [
        "\n",
        "155.351788998"
       ]
      },
      {
       "output_type": "stream",
       "stream": "stdout",
       "text": [
        "\n",
        "168.568540096"
       ]
      },
      {
       "output_type": "stream",
       "stream": "stdout",
       "text": [
        "\n",
        "180.221382141"
       ]
      },
      {
       "output_type": "stream",
       "stream": "stdout",
       "text": [
        "\n",
        "193.016891956"
       ]
      },
      {
       "output_type": "stream",
       "stream": "stdout",
       "text": [
        "\n",
        "205.124289036"
       ]
      },
      {
       "output_type": "stream",
       "stream": "stdout",
       "text": [
        "\n",
        "218.77944994"
       ]
      },
      {
       "output_type": "stream",
       "stream": "stdout",
       "text": [
        "\n",
        "231.135617018"
       ]
      },
      {
       "output_type": "stream",
       "stream": "stdout",
       "text": [
        "\n",
        "243.257496119"
       ]
      },
      {
       "output_type": "stream",
       "stream": "stdout",
       "text": [
        "\n",
        "256.13143611"
       ]
      },
      {
       "output_type": "stream",
       "stream": "stdout",
       "text": [
        "\n",
        "269.200991154"
       ]
      },
      {
       "output_type": "stream",
       "stream": "stdout",
       "text": [
        "\n",
        "281.842690945"
       ]
      },
      {
       "output_type": "stream",
       "stream": "stdout",
       "text": [
        "\n",
        "294.549416065"
       ]
      },
      {
       "output_type": "stream",
       "stream": "stdout",
       "text": [
        "\n",
        "306.63551712"
       ]
      },
      {
       "output_type": "stream",
       "stream": "stdout",
       "text": [
        "\n",
        "518.617232084"
       ]
      },
      {
       "output_type": "stream",
       "stream": "stdout",
       "text": [
        "\n",
        "530.71975112"
       ]
      },
      {
       "output_type": "stream",
       "stream": "stdout",
       "text": [
        "\n",
        "543.129815102"
       ]
      },
      {
       "output_type": "stream",
       "stream": "stdout",
       "text": [
        "\n",
        "555.831305981"
       ]
      },
      {
       "output_type": "stream",
       "stream": "stdout",
       "text": [
        "\n",
        "568.686262131"
       ]
      },
      {
       "output_type": "stream",
       "stream": "stdout",
       "text": [
        "\n",
        "581.282711983"
       ]
      },
      {
       "output_type": "stream",
       "stream": "stdout",
       "text": [
        "\n",
        "593.558917999"
       ]
      },
      {
       "output_type": "stream",
       "stream": "stdout",
       "text": [
        "\n",
        "606.20502615"
       ]
      },
      {
       "output_type": "stream",
       "stream": "stdout",
       "text": [
        "\n",
        "618.5801301"
       ]
      },
      {
       "output_type": "stream",
       "stream": "stdout",
       "text": [
        "\n",
        "630.517809153"
       ]
      },
      {
       "output_type": "stream",
       "stream": "stdout",
       "text": [
        "\n",
        "642.047791958"
       ]
      },
      {
       "output_type": "stream",
       "stream": "stdout",
       "text": [
        "\n",
        "653.333865166"
       ]
      },
      {
       "output_type": "stream",
       "stream": "stdout",
       "text": [
        "\n",
        "665.385137081"
       ]
      },
      {
       "output_type": "stream",
       "stream": "stdout",
       "text": [
        "\n",
        "676.799186945"
       ]
      },
      {
       "output_type": "stream",
       "stream": "stdout",
       "text": [
        "\n",
        "687.789834976"
       ]
      },
      {
       "output_type": "stream",
       "stream": "stdout",
       "text": [
        "\n",
        "698.344632149"
       ]
      },
      {
       "output_type": "stream",
       "stream": "stdout",
       "text": [
        "\n",
        "709.196592093"
       ]
      },
      {
       "output_type": "stream",
       "stream": "stdout",
       "text": [
        "\n",
        "720.674888134"
       ]
      },
      {
       "output_type": "stream",
       "stream": "stdout",
       "text": [
        "\n",
        "730.164721012"
       ]
      },
      {
       "output_type": "stream",
       "stream": "stdout",
       "text": [
        "\n",
        "739.346187115"
       ]
      },
      {
       "output_type": "stream",
       "stream": "stdout",
       "text": [
        "\n",
        "748.863409996"
       ]
      },
      {
       "output_type": "stream",
       "stream": "stdout",
       "text": [
        "\n",
        "758.320309162"
       ]
      },
      {
       "output_type": "stream",
       "stream": "stdout",
       "text": [
        "\n",
        "768.32280612"
       ]
      },
      {
       "output_type": "stream",
       "stream": "stdout",
       "text": [
        "\n",
        "779.157901049"
       ]
      },
      {
       "output_type": "stream",
       "stream": "stdout",
       "text": [
        "\n",
        "790.371557951"
       ]
      },
      {
       "output_type": "stream",
       "stream": "stdout",
       "text": [
        "\n",
        "801.035202026"
       ]
      },
      {
       "output_type": "stream",
       "stream": "stdout",
       "text": [
        "\n",
        "811.436196089"
       ]
      },
      {
       "output_type": "stream",
       "stream": "stdout",
       "text": [
        "\n",
        "821.956644058"
       ]
      },
      {
       "output_type": "stream",
       "stream": "stdout",
       "text": [
        "\n",
        "833.03909111"
       ]
      },
      {
       "output_type": "stream",
       "stream": "stdout",
       "text": [
        "\n",
        "844.070538998"
       ]
      },
      {
       "output_type": "stream",
       "stream": "stdout",
       "text": [
        "\n",
        "855.009376049"
       ]
      },
      {
       "output_type": "stream",
       "stream": "stdout",
       "text": [
        "\n",
        "865.829679012"
       ]
      },
      {
       "output_type": "stream",
       "stream": "stdout",
       "text": [
        "\n",
        "876.863485098"
       ]
      },
      {
       "output_type": "stream",
       "stream": "stdout",
       "text": [
        "\n",
        "888.380041122"
       ]
      },
      {
       "output_type": "stream",
       "stream": "stdout",
       "text": [
        "\n",
        "899.715466976"
       ]
      },
      {
       "output_type": "stream",
       "stream": "stdout",
       "text": [
        "\n",
        "910.677554131"
       ]
      },
      {
       "output_type": "stream",
       "stream": "stdout",
       "text": [
        "\n",
        "921.692027092"
       ]
      },
      {
       "output_type": "stream",
       "stream": "stdout",
       "text": [
        "\n",
        "932.91163516"
       ]
      },
      {
       "output_type": "stream",
       "stream": "stdout",
       "text": [
        "\n",
        "944.318159103"
       ]
      },
      {
       "output_type": "stream",
       "stream": "stdout",
       "text": [
        "\n",
        "955.756273985"
       ]
      },
      {
       "output_type": "stream",
       "stream": "stdout",
       "text": [
        "\n",
        "967.467380047"
       ]
      },
      {
       "output_type": "stream",
       "stream": "stdout",
       "text": [
        "\n",
        "980.326553106"
       ]
      },
      {
       "output_type": "stream",
       "stream": "stdout",
       "text": [
        "\n",
        "991.901728153"
       ]
      },
      {
       "output_type": "stream",
       "stream": "stdout",
       "text": [
        "\n",
        "1003.33125615"
       ]
      },
      {
       "output_type": "stream",
       "stream": "stdout",
       "text": [
        "\n",
        "1014.83830309"
       ]
      },
      {
       "output_type": "stream",
       "stream": "stdout",
       "text": [
        "\n",
        "1026.46107697"
       ]
      },
      {
       "output_type": "stream",
       "stream": "stdout",
       "text": [
        "\n",
        "1037.01918197"
       ]
      },
      {
       "output_type": "stream",
       "stream": "stdout",
       "text": [
        "\n",
        "1047.26264095"
       ]
      },
      {
       "output_type": "stream",
       "stream": "stdout",
       "text": [
        "\n",
        "1057.23914194"
       ]
      },
      {
       "output_type": "stream",
       "stream": "stdout",
       "text": [
        "\n",
        "1067.38536"
       ]
      },
      {
       "output_type": "stream",
       "stream": "stdout",
       "text": [
        "\n",
        "1077.44200015"
       ]
      },
      {
       "output_type": "stream",
       "stream": "stdout",
       "text": [
        "\n",
        "1087.28717017"
       ]
      },
      {
       "output_type": "stream",
       "stream": "stdout",
       "text": [
        "\n",
        "1097.06463909"
       ]
      },
      {
       "output_type": "stream",
       "stream": "stdout",
       "text": [
        "\n",
        "1107.08036304"
       ]
      },
      {
       "output_type": "stream",
       "stream": "stdout",
       "text": [
        "\n",
        "1117.36160207"
       ]
      },
      {
       "output_type": "stream",
       "stream": "stdout",
       "text": [
        "\n",
        "1127.29893708"
       ]
      },
      {
       "output_type": "stream",
       "stream": "stdout",
       "text": [
        "\n",
        "1136.93204713"
       ]
      },
      {
       "output_type": "stream",
       "stream": "stdout",
       "text": [
        "\n",
        "1146.44296312"
       ]
      },
      {
       "output_type": "stream",
       "stream": "stdout",
       "text": [
        "\n",
        "1156.43317795"
       ]
      },
      {
       "output_type": "stream",
       "stream": "stdout",
       "text": [
        "\n",
        "1166.29551315"
       ]
      },
      {
       "output_type": "stream",
       "stream": "stdout",
       "text": [
        "\n",
        "1175.86028099"
       ]
      },
      {
       "output_type": "stream",
       "stream": "stdout",
       "text": [
        "\n",
        "1185.06532001"
       ]
      },
      {
       "output_type": "stream",
       "stream": "stdout",
       "text": [
        "\n",
        "1194.501158"
       ]
      },
      {
       "output_type": "stream",
       "stream": "stdout",
       "text": [
        "\n",
        "1204.43837595"
       ]
      },
      {
       "output_type": "stream",
       "stream": "stdout",
       "text": [
        "\n",
        "1213.43208814"
       ]
      },
      {
       "output_type": "stream",
       "stream": "stdout",
       "text": [
        "\n",
        "1221.97685599"
       ]
      },
      {
       "output_type": "stream",
       "stream": "stdout",
       "text": [
        "\n",
        "1222.01121497\n",
        "(1870, 3)\n"
       ]
      }
     ],
     "prompt_number": 31
    },
    {
     "cell_type": "code",
     "collapsed": false,
     "input": [
      "triangleshiftsend = np.float16(make_displacements(FLEXATEND, dispnormtriend))\n",
      "#randomize between the ends and the beginning\n",
      "amountoftriangleshiftsbeg = np.size(firstpointstriangle, axis = 0)\n",
      "amountoftriangleshiftsend = np.size(triangleshiftsend, axis = 0)\n",
      "\n",
      "triangleshiftsend = np.tile(triangleshiftsend, (amountoftriangleshiftsbeg, 1))\n",
      "firstpointstriangle = np.repeat(firstpointstriangle, amountoftriangleshiftsend, axis = 0)\n",
      "secondpointstriangle = np.repeat(secondpointstriangle, amountoftriangleshiftsend, axis = 0)"
     ],
     "language": "python",
     "metadata": {},
     "outputs": [],
     "prompt_number": 32
    },
    {
     "cell_type": "code",
     "collapsed": false,
     "input": [
      "thirdpointstriangle  = np.float16(triangleshiftsend + endpunkt)\n",
      "\n",
      "print np.shape(firstpointstriangle)\n",
      "\n",
      "keep = sort_out_by_length(secondpointstriangle, thirdpointstriangle, linkertriangle)\n",
      "\n",
      "firstpointstriangle = firstpointstriangle[keep]\n",
      "secondpointstriangle = secondpointstriangle[keep]\n",
      "thirdpointstriangle = thirdpointstriangle[keep]\n",
      "\n",
      "print np.shape(firstpointstriangle)\n",
      "\n",
      "\n",
      "\n",
      "MakeSmall, teiler = make_small_generator_offset([firstpointstriangle, secondpointstriangle, thirdpointstriangle],\n",
      "                                        secondpointstriangle, 15, RAMOFMACHINE,np.size(secondpointstriangle, axis=0),\n",
      "                                        ProteinArray = heretousepoints)\n",
      "\n",
      "\n",
      "#about 250s per MakeSmall run\n",
      "blatime = time.time()\n",
      "\n",
      "for i in range(0, (MakeSmall +1)):\n",
      "    if i == MakeSmall:\n",
      "        if (i * teiler) < np.size(secondpointstriangle, axis=0): \n",
      "            temp1 = firstpointstriangle[i * teiler:]\n",
      "            temp2 = secondpointstriangle[i * teiler:]\n",
      "            temp3 = thirdpointstriangle[i * teiler:]\n",
      "        else:\n",
      "            break\n",
      "    else:\n",
      "        temp1 = firstpointstriangle[i*teiler:(i+1)*teiler]\n",
      "        temp2 = secondpointstriangle[i*teiler:(i+1)*teiler]\n",
      "        temp3 = thirdpointstriangle[i*teiler:(i+1)*teiler]\n",
      "\n",
      "    \n",
      "    # sort out, if the connection is too near at the protein\n",
      "    keep = (distance_from_connection(temp2, temp3, heretousepoints)[0] >= minabstand).all(axis = 1)\n",
      "    \n",
      "    temp1 = temp1[keep]    \n",
      "    temp2 = temp2[keep]\n",
      "    temp3 = temp3[keep]\n",
      "    \n",
      "    if i == 0:\n",
      "        firstpointstritemp, secondpointstritemp, thirdpointstritemp = temp1, temp2, temp3\n",
      "    else:\n",
      "        firstpointstritemp = np.concatenate((firstpointstritemp, temp1), axis =0)\n",
      "        secondpointstritemp = np.concatenate((secondpointstritemp, temp2), axis =0)\n",
      "        thirdpointstritemp = np.concatenate((thirdpointstritemp, temp3), axis =0)\n",
      "    print time.time() - blatime\n",
      "\n",
      "firstpointsflexible  = np.concatenate((firstpointstritemp,  firstpointsflexible), axis =0)\n",
      "secondpointsflexible = np.concatenate((secondpointstritemp, secondpointsflexible), axis =0)\n",
      "thirdpointsflexible  = np.concatenate((thirdpointstritemp,  thirdpointsflexible), axis =0)"
     ],
     "language": "python",
     "metadata": {},
     "outputs": []
    },
    {
     "cell_type": "code",
     "collapsed": false,
     "input": [
      "firstpointsflexible  = np.concatenate((firstpointstritemp,  firstpointsflexible), axis =0)\n",
      "secondpointsflexible = np.concatenate((secondpointstritemp, secondpointsflexible), axis =0)\n",
      "thirdpointsflexible  = np.concatenate((thirdpointstritemp,  thirdpointsflexible), axis =0)"
     ],
     "language": "python",
     "metadata": {},
     "outputs": [],
     "prompt_number": 39
    },
    {
     "cell_type": "code",
     "collapsed": false,
     "input": [
      "pickle.dump((firstpointsflexible, secondpointsflexible, thirdpointsflexible),\\\n",
      "            open(\"files/saveflexibles{projectname}.p\".format(projectname = UserDefinedProjectName), \"wb\"))"
     ],
     "language": "python",
     "metadata": {},
     "outputs": [],
     "prompt_number": 40
    },
    {
     "cell_type": "code",
     "collapsed": false,
     "input": [
      "np.shape(firstpointsflexible)"
     ],
     "language": "python",
     "metadata": {},
     "outputs": [
      {
       "metadata": {},
       "output_type": "pyout",
       "prompt_number": 41,
       "text": [
        "(1576234, 3)"
       ]
      }
     ],
     "prompt_number": 41
    },
    {
     "cell_type": "code",
     "collapsed": false,
     "input": [
      "\n",
      "punktetemp = pickle.load( open(\"files/saveflexibles{projectname}.p\".format(projectname = UserDefinedProjectName), \"rb\" ) )\n",
      "firstpointsflexible  = punktetemp[0]\n",
      "secondpointsflexible = punktetemp[1]\n",
      "thirdpointsflexible  = punktetemp[2]\n"
     ],
     "language": "python",
     "metadata": {},
     "outputs": [],
     "prompt_number": 27
    },
    {
     "cell_type": "code",
     "collapsed": false,
     "input": [
      "'''\n",
      "fig = plt.figure()\n",
      "ax = fig.add_subplot(111, projection='3d')\n",
      "ax.scatter(pkte[AmountOfAtomsFirstAA+1:-AmountOfAtomsLastAA-1:,0], pkte[AmountOfAtomsFirstAA+1:-AmountOfAtomsLastAA-1:,1], pkte[AmountOfAtomsFirstAA+1:-AmountOfAtomsLastAA-1:,2], s=10)\n",
      "ax.scatter(pkte[:AmountOfAtomsFirstAA:,0], pkte[:AmountOfAtomsFirstAA:,1], pkte[:AmountOfAtomsFirstAA:,2], s = 40, c =\"r\")\n",
      "ax.scatter(pkte[-AmountOfAtomsLastAA::,0], pkte[-AmountOfAtomsLastAA::,1], pkte[-AmountOfAtomsLastAA::,2], s = 40, c =\"r\")\n",
      "ax.scatter(OtherPoints[:,0], OtherPoints[:,1], OtherPoints[:,2], s=10, c = \"g\")\n",
      "\n",
      "ax.scatter(firstpointsflexible [:,0], firstpointsflexible[:,1], firstpointsflexible[:,2], c = \"y\")\n",
      "ax.scatter(secondpointsflexible[:,0], secondpointsflexible[:,1], secondpointsflexible[:,2], c = \"y\")\n",
      "plt.show()\n",
      "'''"
     ],
     "language": "python",
     "metadata": {},
     "outputs": []
    },
    {
     "cell_type": "heading",
     "level": 3,
     "metadata": {},
     "source": [
      "Flexible ends estimated to make the same as the rigid parts"
     ]
    },
    {
     "cell_type": "code",
     "collapsed": false,
     "input": [
      "#die verschiebungen mit den Linkerl\u00e4ngen multiplizieren, wichtig ist, in den versch sind immer auch nuller drinnen\n",
      "\n",
      "versch = make_displacements(linkerlaengenKO, dispnorm)\n",
      "\n",
      "\n",
      "anfversch = make_displacements((linkerlaengenKO + FLEXIBLEATSTARTKO - LENGTHOFANGLEKO), startdisp)\n",
      "anfversch = anfversch[(anfversch != np.array([0,0,0])).all(axis = 1)]\n",
      "    \n",
      "endversch = make_displacements((linkerlaengenKO + FLEXIBLEATENDKO - LENGTHOFANGLEKO), enddisp)\n",
      "endversch = endversch[(endversch != np.array([0,0,0])).all(axis = 1)]\n",
      "\n",
      "    \n",
      "#hier werden die Punkte generiert\n",
      "erstepunkte = np.float16(naechstepunkte([anfangspunkt], anfversch)[1])\n",
      "erstepunkte = erstepunkte[(erstepunkte == anfangspunkt).all(axis=1) |\n",
      "                          aussortierennachpunken(erstepunkte, PointsOfAllSubunits, minabstand, maxabstand)]\n",
      "\n",
      "letztepunkte = np.float16(naechstepunkte([endpunkt], endversch)[1])\n",
      "letztepunkte = letztepunkte[(letztepunkte == endpunkt).all(axis=1) | \n",
      "                            aussortierennachpunken(letztepunkte, PointsOfAllSubunits, minabstand, maxabstand)]\n",
      "\n",
      "#aussortieren, ob Punkte durch Protein gehen\n",
      "print np.shape(erstepunkte)\n",
      "#we just test with all as but not the first and last, because they are too close.\n",
      "\n",
      "#TODO hier abfangen, falls gleich alle Punkte weggemacht werden und dann eine Ausgabe machen, dass das ziemlich schwierig\n",
      "#und dann aber weiterfortlaufen, das gleiche auch mit den letzten Punkten\n",
      "\n",
      "\n",
      "'''\n",
      "\n",
      "#kann man eventuell mit hineinnehmen, wenn man ohnehin zu viel Zeug hat.\n",
      "\n",
      "if np.size(erstepunkte, axis = 0) > 5:\n",
      "    erstepunktetest = sort_out_by_protein(anfangspunkt, erstepunkte,\\\n",
      "                                      np.concatenate((pkte[AmountOfAtomsFirstAA:-AmountOfAtomsLastAA], OtherPoints), \\\n",
      "                                                     axis = 0), minabstand)[1]\n",
      "    if np.size(erstepunktetest) != 0:\n",
      "        erstepunkte = erstepunktetest\n",
      "   \n",
      "print np.shape(erstepunktetest)\n",
      "print np.shape(erstepunkte)\n",
      "'''\n",
      "'''\n",
      "if np.size(letztepunkte, axis = 0) > 5:\n",
      "    letztepunktetest = sort_out_by_protein(endpunkt, letztepunkte, \\\n",
      "                                      np.concatenate((pkte[AmountOfAtomsFirstAA:-AmountOfAtomsLastAA],\n",
      "                                      OtherPoints), axis = 0), minabstand)[1]\n",
      "    if np.size(letztepunktetest) != 0:\n",
      "        letztepunkte = letztepunktetest\n",
      "\n",
      "print np.shape(letztepunktetest)\n",
      "print np.shape(letztepunkte)\n",
      "'''\n",
      "\n",
      "#wir sortieren erstepunkte aus, die zu weit vom Ende entfernt liegen, sodass sie nicht mehr durch \n",
      "#die doppelte l\u00e4ngste Linkerl\u00e4nge verbunden werden k\u00f6nnen\n",
      "\n",
      "temp = abstandpktzuarray(endpunkt, erstepunkte)\n",
      "keep = temp < (3 * laengstesstueck)\n",
      "erstepunkte = erstepunkte[keep]\n",
      "\n",
      "#wir sortieren erstepunkte aus, die zu weit vom Ende entfernt liegen, sodass sie nicht mehr durch \n",
      "#die doppelte l\u00e4ngste Linkerl\u00e4nge verbunden werden k\u00f6nnen\n",
      "\n",
      "temp = abstandpktzuarray(anfangspunkt, letztepunkte)\n",
      "keep = temp < (3 * laengstesstueck)\n",
      "letztepunkte = letztepunkte[keep]\n",
      "\n",
      "#die zweite iteration, erstepunkte wird so gro\u00df gemacht, wie zweitepunkte, damit die Wege passen\n",
      "#davor fragen wir ab, ob es \u00fcberhaupt sinnvoll ist, die eine weitere Ecke zu nehmen, das spart viel Rechenzeit\n",
      "\n",
      "#Bedingung \u00fcbedenken!!! DNMT1 in shortpath??? na ja\n",
      "\n",
      "shortpath = False\n",
      "\n",
      "if ((abstandanfend < ((3*np.min(linkerlaengenKO)) - (2 * LENGTHOFANGLEKO))) & \n",
      "    ((np.max(linkerlaengenKO) * 2 -(2 * LENGTHOFANGLEKO)) > maxvonanfang)\\\n",
      "    & (((np.max(linkerlaengenKO) * 2) - (2 * LENGTHOFANGLEKO)) > maxvonende)):\n",
      "    zweitepunkte = erstepunkte\n",
      "    shortpath = True\n",
      "else:\n",
      "    zweiteiteration = naechstepunkte(erstepunkte, versch)\n",
      "    zweitepunkte = np.float16(zweiteiteration[1])\n",
      "    erstepunkte = np.float16(zweiteiteration[0])\n",
      "\n",
      "\n",
      "print np.shape(erstepunkte)\n",
      "print np.shape(zweitepunkte)\n",
      "print np.shape(letztepunkte)"
     ],
     "language": "python",
     "metadata": {},
     "outputs": [
      {
       "output_type": "stream",
       "stream": "stdout",
       "text": [
        "(2770, 3)\n",
        "(2770, 3)\n",
        "(2770, 3)\n",
        "(2318, 3)\n"
       ]
      }
     ],
     "prompt_number": 42
    },
    {
     "cell_type": "markdown",
     "metadata": {},
     "source": [
      "Wir sortieren nun alle Winkel aus, die kleiner als 15\u00b0 sind. Das machen wir aber nicht f\u00fcr die Anfangs und Endpunkte, da nicht klar ist, wie dort die Alphahelix angesetzt wird."
     ]
    },
    {
     "cell_type": "code",
     "collapsed": false,
     "input": [
      "#Nach Winkeln aussortieren, von vorne.\n",
      "\n",
      "temp = sort_out_by_angle(anfangspunkt, erstepunkte, zweitepunkte, angletosequence)\n",
      "erstepunkte = temp[0]\n",
      "zweitepunkte = temp[1]"
     ],
     "language": "python",
     "metadata": {},
     "outputs": [],
     "prompt_number": 43
    },
    {
     "cell_type": "code",
     "collapsed": false,
     "input": [
      "print anzahleckenmax\n",
      "print anzahleckenmin"
     ],
     "language": "python",
     "metadata": {},
     "outputs": [
      {
       "output_type": "stream",
       "stream": "stdout",
       "text": [
        "5.95588235294\n",
        "1.12501004553\n"
       ]
      }
     ],
     "prompt_number": 44
    },
    {
     "cell_type": "code",
     "collapsed": false,
     "input": [
      "#wir sortieren zweite Punkte aus, die zu weit vom Ende entfernt liegen, sodass sie nicht mehr durch \n",
      "#die doppelte l\u00e4ngste Linkerl\u00e4nge verbunden werden k\u00f6nnen\n",
      "\n",
      "temp = abstandpktzuarray(endpunkt, zweitepunkte)\n",
      "keep = temp < (2 * laengstesstueck)\n",
      "zweitepunkte = zweitepunkte[keep]\n",
      "erstepunkte = erstepunkte[keep]\n",
      "\n",
      "np.shape(zweitepunkte)"
     ],
     "language": "python",
     "metadata": {},
     "outputs": [
      {
       "metadata": {},
       "output_type": "pyout",
       "prompt_number": 45,
       "text": [
        "(2770, 3)"
       ]
      }
     ],
     "prompt_number": 45
    },
    {
     "cell_type": "code",
     "collapsed": false,
     "input": [
      "#L\u00e4uft 82 sek, sortiert 60 000 Punkte aus\n",
      "#wir sortieren die Punkte aus, die zu weit oder zu nah im Protein sind\n",
      "StartTime = time.time()\n",
      "MakeSmall, teiler = make_small_generator(zweitepunkte,1 , RAMOFMACHINE ,np.size(zweitepunkte, axis = 0),\n",
      "                                         ProteinArray = PointsOfAllSubunits)\n",
      "\n",
      "temp = aussortierennachpunken(zweitepunkte[:teiler], PointsOfAllSubunits, minabstand, maxabstand)\n",
      "\n",
      "for i in range(1,MakeSmall):\n",
      "    temp = np.concatenate((temp, aussortierennachpunken(zweitepunkte[i*teiler:(i+1)*teiler],\\\n",
      "                                                        PointsOfAllSubunits, minabstand, maxabstand)), axis = 0)\n",
      "if ((i+1) * teiler) < np.size(zweitepunkte, axis=0): \n",
      "    temp = np.concatenate((temp, aussortierennachpunken(zweitepunkte[(i+1)*teiler:],\n",
      "                                                        PointsOfAllSubunits, minabstand, maxabstand)), axis = 0)\n",
      "\n",
      "print time.time()-StartTime    \n",
      "temp = np.array(temp)\n",
      "temp = np.ravel(temp, \"C\")\n",
      "\n",
      "zweitepunkte = zweitepunkte[temp]\n",
      "erstepunkte = erstepunkte[temp]\n",
      "print np.shape(erstepunkte)\n",
      "#save for saving calculationtime\n",
      "pickle.dump((erstepunkte, zweitepunkte, letztepunkte),\\\n",
      "            open(\"files/save{projectname}.p\".format(projectname = UserDefinedProjectName), \"wb\"))"
     ],
     "language": "python",
     "metadata": {},
     "outputs": [
      {
       "output_type": "stream",
       "stream": "stdout",
       "text": [
        "0.113313913345\n",
        "(2770, 3)\n"
       ]
      }
     ],
     "prompt_number": 46
    },
    {
     "cell_type": "code",
     "collapsed": false,
     "input": [
      "#l\u00e4uft etwa 11 minuten, reduziert um die H\u00e4lfte\n",
      "MakeSmall, teiler = make_small_generator(zweitepunkte, 10 , RAMOFMACHINE ,np.size(zweitepunkte, axis=0),\n",
      "                                         ProteinArray = PointsOfAllSubunits)\n",
      "\n",
      "\n",
      "temp = sort_out_by_protein(erstepunkte[:teiler], zweitepunkte[:teiler], PointsOfAllSubunits, minabstand)\n",
      "erstetemp = temp[0]\n",
      "zweitetemp = temp[1]\n",
      "\n",
      "\n",
      "\n",
      "bla = time.time()\n",
      "#das l\u00e4uft zu lange...\n",
      "for i in range(1, MakeSmall):\n",
      "    temp = sort_out_by_protein(erstepunkte[i*teiler:(i+1)*teiler], zweitepunkte[i*teiler:(i+1)*teiler],\\\n",
      "                        PointsOfAllSubunits, minabstand)\n",
      "    \n",
      "    erstetemp = np.concatenate((erstetemp, temp[0]), axis =0)\n",
      "    zweitetemp = np.concatenate((zweitetemp, temp[1]), axis =0)\n",
      "    \n",
      "\n",
      "if ((i+1) * teiler) < np.size(zweitepunkte, axis=0):    \n",
      "    temp = sort_out_by_protein(erstepunkte[(i+1)*teiler:], zweitepunkte[(i+1)*teiler:], PointsOfAllSubunits, minabstand)\n",
      "\n",
      "    erstetemp = np.concatenate((erstetemp, temp[0]), axis = 0)\n",
      "    zweitetemp = np.concatenate((zweitetemp, temp[1]), axis = 0)\n",
      "\n",
      "erstepunkte = np.float16(erstetemp)\n",
      "zweitepunkte = np.float16(zweitetemp)\n",
      "\n",
      "print bla - time.time()\n",
      "print np.size(erstepunkte, axis = 0)\n",
      "\n",
      "pickle.dump((erstepunkte, zweitepunkte, letztepunkte), \\\n",
      "            open(\"files/save{projectname}.p\".format(projectname = UserDefinedProjectName), \"wb\"))"
     ],
     "language": "python",
     "metadata": {},
     "outputs": [
      {
       "output_type": "stream",
       "stream": "stdout",
       "text": [
        "-0.000472068786621\n",
        "2770\n"
       ]
      }
     ],
     "prompt_number": 47
    },
    {
     "cell_type": "code",
     "collapsed": false,
     "input": [
      "\"\"\"\n",
      "punktetemp = pickle.load( open(\"files/save{projectname}.p\".format(projectname = UserDefinedProjectName), \"rb\" ) )\n",
      "erstepunkte = punktetemp[0]\n",
      "zweitepunkte = punktetemp[1]\n",
      "letztepunkte = punktetemp[2]\n",
      "\"\"\""
     ],
     "language": "python",
     "metadata": {},
     "outputs": []
    },
    {
     "cell_type": "code",
     "collapsed": false,
     "input": [
      "print np.size(erstepunkte, axis = 0)\n",
      "print np.size(zweitepunkte, axis = 0)"
     ],
     "language": "python",
     "metadata": {},
     "outputs": [
      {
       "output_type": "stream",
       "stream": "stdout",
       "text": [
        "2770\n",
        "2770\n"
       ]
      }
     ],
     "prompt_number": 48
    },
    {
     "cell_type": "code",
     "collapsed": false,
     "input": [
      "\"\"\"\n",
      "punktetemp = pickle.load( open(\"files/save{projectname}.p\".format(projectname = UserDefinedProjectName), \"rb\" ) )\n",
      "erstepunkte = punktetemp[0]\n",
      "zweitepunkte = punktetemp[1]\n",
      "letztepunkte = punktetemp[2]\n",
      "\"\"\""
     ],
     "language": "python",
     "metadata": {},
     "outputs": []
    },
    {
     "cell_type": "heading",
     "level": 5,
     "metadata": {},
     "source": [
      "Generierung der Verbindungen zwsichen den zweiten und den dritten Punkten"
     ]
    },
    {
     "cell_type": "code",
     "collapsed": false,
     "input": [
      "blatime = time.time()\n",
      "\n",
      "\n",
      "MakeSmall, teiler = make_small_generator(zweitepunkte,8 , RAMOFMACHINE , np.size(zweitepunkte, axis=0),\n",
      "                                         ProteinArray = letztepunkte)\n",
      "\n",
      "\n",
      "\n",
      "if os.path.exists('files/data{projectname}.h5'.format(projectname = UserDefinedProjectName)):\n",
      "    os.remove('files/data{projectname}.h5'.format(projectname = UserDefinedProjectName))\n",
      "h5f = h5py.File('files/data{projectname}.h5'.format(projectname = UserDefinedProjectName), \"w\")\n",
      "\n",
      "\n",
      "for laenge in linkerlaengenKO:\n",
      "    \n",
      "    for i in range(0,(MakeSmall)):\n",
      "                  \n",
      "        temp = sort_out_by_distance(zweitepunkte[i*teiler:(i+1)*teiler], letztepunkte,\\\n",
      "                                    erstepunkte[i*teiler:(i+1)*teiler], laenge, hitgenauig)\n",
      "        if i == 0:\n",
      "            erstetemp = temp[0]\n",
      "            zweitetemp= temp[1]\n",
      "            drittetemp= temp[2]\n",
      "        else:\n",
      "            erstetemp = np.concatenate((erstetemp, temp[0]), axis =0)\n",
      "            zweitetemp = np.concatenate((zweitetemp, temp[1]), axis =0)\n",
      "            drittetemp = np.concatenate((drittetemp, temp[2]), axis =0)\n",
      "            \n",
      "    if ((i+1) * teiler) < np.size(zweitepunkte, axis=0):  \n",
      "        temp = sort_out_by_distance(zweitepunkte[(i+1)*teiler:], letztepunkte, erstepunkte[(i+1)*teiler:], laenge, hitgenauig)\n",
      "        erstetemp = np.concatenate((erstetemp, temp[0]), axis =0)\n",
      "        zweitetemp = np.concatenate((zweitetemp, temp[1]), axis =0)\n",
      "        drittetemp = np.concatenate((drittetemp, temp[2]), axis =0)\n",
      "    \n",
      "    count = 1\n",
      "    for array in [erstetemp, zweitetemp, drittetemp]:\n",
      "        h5f.create_dataset(\"dataset_{points}{linker}\".format(points = count, linker = int(laenge)), data=array)\n",
      "        count +=1\n",
      "    print blatime-time.time()\n",
      "    \n",
      "h5f.close()\n",
      "erstetemp = zweitetemp = drittetemp = None\n",
      "    "
     ],
     "language": "python",
     "metadata": {},
     "outputs": [
      {
       "output_type": "stream",
       "stream": "stdout",
       "text": [
        "-1.21336293221\n",
        "-2.26204705238"
       ]
      },
      {
       "output_type": "stream",
       "stream": "stdout",
       "text": [
        "\n",
        "-3.45942497253"
       ]
      },
      {
       "output_type": "stream",
       "stream": "stdout",
       "text": [
        "\n",
        "-4.49183702469"
       ]
      },
      {
       "output_type": "stream",
       "stream": "stdout",
       "text": [
        "\n",
        "-5.48059797287"
       ]
      },
      {
       "output_type": "stream",
       "stream": "stdout",
       "text": [
        "\n"
       ]
      }
     ],
     "prompt_number": 49
    },
    {
     "cell_type": "markdown",
     "metadata": {},
     "source": [
      "Aussortieren der Verbindungen, die durch das Protein gehen."
     ]
    },
    {
     "cell_type": "code",
     "collapsed": true,
     "input": [
      "h5f = h5py.File('files/data{projectname}.h5'.format(projectname = UserDefinedProjectName),'r')\n",
      "\n",
      "\n",
      "blubbtime = time.time()\n",
      "\n",
      "for laenge in linkerlaengenKO:\n",
      "    \n",
      "    SizeOfArray = len(h5f[\"dataset_{points}{linker}\".format(points = 1, linker = int(laenge))]) * 3\n",
      "    \n",
      "\n",
      "\n",
      "    \n",
      "    MakeSmall, teiler = make_small_generator_offset([SizeOfArray], SizeOfArray / 3, 13 , \n",
      "                                                    RAMOFMACHINE , SizeOfArray / 3, ProteinArray= PointsOfAllSubunits)\n",
      "    \n",
      "    \n",
      "    erstepunkte  = h5f[\"dataset_{points}{linker}\".format(points = 1, linker = int(laenge))][:teiler]\n",
      "    zweitepunkte = h5f[\"dataset_{points}{linker}\".format(points = 2, linker = int(laenge))][:teiler]\n",
      "    drittepunkte = h5f[\"dataset_{points}{linker}\".format(points = 3, linker = int(laenge))][:teiler]\n",
      "\n",
      "    temp = sort_out_by_protein(zweitepunkte, drittepunkte, \\\n",
      "                               PointsOfAllSubunits, minabstand, beforearray = erstepunkte)\n",
      "    erstetemp = temp[0]\n",
      "    zweitetemp = temp[1]\n",
      "    drittetemp = temp[2]\n",
      "\n",
      "\n",
      "\n",
      "    bla = time.time()\n",
      "    #das l\u00e4uft zu lange, ein Durchlauf 2.5s, das hei\u00dft insgesamt: 30500~9hs\n",
      "    for i in range(1, MakeSmall):\n",
      "        erstepunkte  = h5f[\"dataset_{points}{linker}\".format(points = 1, linker = int(laenge))][i * teiler:(i+1)*teiler]\n",
      "        zweitepunkte = h5f[\"dataset_{points}{linker}\".format(points = 2, linker = int(laenge))][i * teiler:(i+1)*teiler]\n",
      "        drittepunkte = h5f[\"dataset_{points}{linker}\".format(points = 3, linker = int(laenge))][i * teiler:(i+1)*teiler]\n",
      "        temp = sort_out_by_protein(zweitepunkte, drittepunkte, \\\n",
      "                               PointsOfAllSubunits, minabstand, beforearray = erstepunkte)\n",
      "\n",
      "        erstetemp = np.concatenate((erstetemp, temp[0]), axis =0)\n",
      "        zweitetemp = np.concatenate((zweitetemp, temp[1]), axis =0)\n",
      "        drittetemp = np.concatenate((drittetemp, temp[2]), axis =0)\n",
      "        \n",
      "        print str(time.time() - blubbtime) + \"f\u00fcr einen makesmalldurchlauf\"\n",
      "    if ((i+1) * teiler) < (SizeOfArray / 3):  \n",
      "        erstepunkte  = h5f[\"dataset_{points}{linker}\".format(points = 1, linker = int(laenge))][(i+1) * teiler:]\n",
      "        zweitepunkte = h5f[\"dataset_{points}{linker}\".format(points = 2, linker = int(laenge))][(i+1) * teiler:]\n",
      "        drittepunkte = h5f[\"dataset_{points}{linker}\".format(points = 3, linker = int(laenge))][(i+1) * teiler:]\n",
      "\n",
      "\n",
      "        temp = sort_out_by_protein(zweitepunkte, drittepunkte, \\\n",
      "                                   PointsOfAllSubunits, minabstand, beforearray = erstepunkte)\n",
      "\n",
      "        erstetemp = np.concatenate((erstetemp, temp[0]), axis = 0)\n",
      "        zweitetemp = np.concatenate((zweitetemp, temp[1]), axis = 0)\n",
      "        drittetemp = np.concatenate((drittetemp, temp[2]), axis = 0)\n",
      "    \n",
      "    print str(time.time() - blubbtime) + \"f\u00fcr einen linkerdurchlauf\"\n",
      "\n",
      "erstepunkte = np.float16(erstetemp)\n",
      "zweitepunkte = np.float16(zweitetemp)\n",
      "drittepunkte = np.float16(drittetemp)\n",
      "\n",
      "    \n",
      "erstetemp = zweitetemp = drittetemp = None    \n",
      "\n",
      "h5f.close()\n",
      "    \n",
      "print np.shape(erstepunkte)"
     ],
     "language": "python",
     "metadata": {},
     "outputs": [
      {
       "output_type": "stream",
       "stream": "stdout",
       "text": [
        "18.9456100464f\u00fcr einen makesmalldurchlauf\n",
        "27.5348141193f\u00fcr einen makesmalldurchlauf"
       ]
      },
      {
       "output_type": "stream",
       "stream": "stdout",
       "text": [
        "\n",
        "36.4606161118f\u00fcr einen makesmalldurchlauf"
       ]
      },
      {
       "output_type": "stream",
       "stream": "stdout",
       "text": [
        "\n",
        "36.4628682137f\u00fcr einen linkerdurchlauf\n",
        "57.426112175f\u00fcr einen makesmalldurchlauf"
       ]
      },
      {
       "output_type": "stream",
       "stream": "stdout",
       "text": [
        "\n",
        "67.4273030758f\u00fcr einen makesmalldurchlauf"
       ]
      },
      {
       "output_type": "stream",
       "stream": "stdout",
       "text": [
        "\n",
        "77.8989582062f\u00fcr einen makesmalldurchlauf"
       ]
      },
      {
       "output_type": "stream",
       "stream": "stdout",
       "text": [
        "\n",
        "77.9017221928f\u00fcr einen linkerdurchlauf\n",
        "97.8364500999f\u00fcr einen makesmalldurchlauf"
       ]
      },
      {
       "output_type": "stream",
       "stream": "stdout",
       "text": [
        "\n",
        "107.080868006f\u00fcr einen makesmalldurchlauf"
       ]
      },
      {
       "output_type": "stream",
       "stream": "stdout",
       "text": [
        "\n",
        "116.15490222f\u00fcr einen makesmalldurchlauf"
       ]
      },
      {
       "output_type": "stream",
       "stream": "stdout",
       "text": [
        "\n",
        "482.517975092f\u00fcr einen makesmalldurchlauf"
       ]
      },
      {
       "output_type": "stream",
       "stream": "stdout",
       "text": [
        "\n",
        "482.52119112f\u00fcr einen linkerdurchlauf\n",
        "500.85748601f\u00fcr einen makesmalldurchlauf"
       ]
      },
      {
       "output_type": "stream",
       "stream": "stdout",
       "text": [
        "\n",
        "509.995582104f\u00fcr einen makesmalldurchlauf"
       ]
      },
      {
       "output_type": "stream",
       "stream": "stdout",
       "text": [
        "\n",
        "519.371966124f\u00fcr einen makesmalldurchlauf"
       ]
      },
      {
       "output_type": "stream",
       "stream": "stdout",
       "text": [
        "\n",
        "528.627374172f\u00fcr einen makesmalldurchlauf"
       ]
      },
      {
       "output_type": "stream",
       "stream": "stdout",
       "text": [
        "\n",
        "537.897044182f\u00fcr einen makesmalldurchlauf"
       ]
      },
      {
       "output_type": "stream",
       "stream": "stdout",
       "text": [
        "\n",
        "547.172622204f\u00fcr einen makesmalldurchlauf"
       ]
      },
      {
       "output_type": "stream",
       "stream": "stdout",
       "text": [
        "\n",
        "547.175799131f\u00fcr einen linkerdurchlauf\n",
        "566.973855019f\u00fcr einen makesmalldurchlauf"
       ]
      },
      {
       "output_type": "stream",
       "stream": "stdout",
       "text": [
        "\n",
        "576.819010019f\u00fcr einen makesmalldurchlauf"
       ]
      },
      {
       "output_type": "stream",
       "stream": "stdout",
       "text": [
        "\n",
        "586.637504101f\u00fcr einen makesmalldurchlauf"
       ]
      },
      {
       "output_type": "stream",
       "stream": "stdout",
       "text": [
        "\n",
        "596.461341143f\u00fcr einen makesmalldurchlauf"
       ]
      },
      {
       "output_type": "stream",
       "stream": "stdout",
       "text": [
        "\n",
        "606.312116146f\u00fcr einen makesmalldurchlauf"
       ]
      },
      {
       "output_type": "stream",
       "stream": "stdout",
       "text": [
        "\n",
        "616.124980211f\u00fcr einen makesmalldurchlauf"
       ]
      },
      {
       "output_type": "stream",
       "stream": "stdout",
       "text": [
        "\n",
        "616.127954006f\u00fcr einen linkerdurchlauf\n",
        "(235069, 3)\n"
       ]
      }
     ],
     "prompt_number": 50
    },
    {
     "cell_type": "code",
     "collapsed": false,
     "input": [
      "'''\n",
      "tempsize =  np.size(erstepunkte, axis = 0)\n",
      "pickle.dump(erstepunkte[:tempsize/2], \\\n",
      "            open(\"files/save{projectname}ersteeins.p\".format(projectname = UserDefinedProjectName), \"wb\"))\n",
      "pickle.dump(erstepunkte[tempsize/2:], \\\n",
      "            open(\"files/save{projectname}erstezwei.p\".format(projectname = UserDefinedProjectName), \"wb\"))\n",
      "pickle.dump(zweitepunkte[:tempsize/2], \\\n",
      "            open(\"files/save{projectname}zweiteeins.p\".format(projectname = UserDefinedProjectName), \"wb\"))\n",
      "pickle.dump(zweitepunkte[tempsize/2:], \\\n",
      "            open(\"files/save{projectname}zweitezwei.p\".format(projectname = UserDefinedProjectName), \"wb\"))\n",
      "pickle.dump(drittepunkte[:tempsize/2], \\\n",
      "            open(\"files/save{projectname}dritteeins.p\".format(projectname = UserDefinedProjectName), \"wb\"))\n",
      "pickle.dump(drittepunkte[tempsize/2:], \\\n",
      "            open(\"files/save{projectname}drittezwei.p\".format(projectname = UserDefinedProjectName), \"wb\"))\n",
      "print tempsize\n",
      "'''"
     ],
     "language": "python",
     "metadata": {},
     "outputs": []
    },
    {
     "cell_type": "code",
     "collapsed": false,
     "input": [
      "\n",
      "erstepunkteeins = pickle.load( open( \"files/save{projectname}ersteeins.p\".format(projectname = UserDefinedProjectName), \"rb\" ) )\n",
      "erstepunktezwei = pickle.load( open( \"files/save{projectname}erstezwei.p\".format(projectname = UserDefinedProjectName), \"rb\" ) )\n",
      "erstepunkte = np.concatenate((erstepunkteeins, erstepunktezwei), axis = 0)\n",
      "\n",
      "zweitepunkteeins = pickle.load( open( \"files/save{projectname}zweiteeins.p\".format(projectname = UserDefinedProjectName), \"rb\" ) )\n",
      "zweitepunktezwei = pickle.load( open( \"files/save{projectname}zweitezwei.p\".format(projectname = UserDefinedProjectName), \"rb\" ) )\n",
      "zweitepunkte = np.concatenate((zweitepunkteeins, zweitepunktezwei), axis = 0)\n",
      "\n",
      "drittepunkteeins = pickle.load( open(\"files/save{projectname}dritteeins.p\".format(projectname = UserDefinedProjectName), \"rb\"))\n",
      "drittepunktezwei = pickle.load( open(\"files/save{projectname}drittezwei.p\".format(projectname = UserDefinedProjectName), \"rb\"))\n",
      "drittepunkte = np.concatenate((drittepunkteeins, drittepunktezwei), axis = 0)\n",
      "\n",
      "erstepunkteeins = erstepunktezwei = zweitepunkteeins = zweitepunktezwei = drittepunkteeins = drittepunktezwei = None\n"
     ],
     "language": "python",
     "metadata": {},
     "outputs": [],
     "prompt_number": 26
    },
    {
     "cell_type": "code",
     "collapsed": false,
     "input": [
      "#shortpath = False"
     ],
     "language": "python",
     "metadata": {},
     "outputs": []
    },
    {
     "cell_type": "code",
     "collapsed": false,
     "input": [
      "#must be before first time get call the points\n",
      "try:\n",
      "    firstpointsflexible\n",
      "except NameError:\n",
      "    firstpointsflexible = None\n",
      "    secondpointsflexible = None\n",
      "    thirdpointsflexible = None\n",
      "    \n",
      "try:\n",
      "    erstepunkte\n",
      "except NameError:\n",
      "    erstepunkte = None\n",
      "    zweitepunkte = None\n",
      "    drittepunkte = None\n"
     ],
     "language": "python",
     "metadata": {},
     "outputs": [],
     "prompt_number": 51
    },
    {
     "cell_type": "code",
     "collapsed": false,
     "input": [
      "MakeSmall, teiler = make_small_generator_offset([firstpointsflexible, secondpointsflexible, thirdpointsflexible,\n",
      "                                             erstepunkte, zweitepunkte, drittepunkte], zweitepunkte, 20 , RAMOFMACHINE,\n",
      "                                                np.size(zweitepunkte, axis=0)/(MakeSmall) )\n",
      "\n",
      "\n",
      "if shortpath:\n",
      "    temp = sort_out_by_angle(anfangspunkt, zweitepunkte[:teiler], drittepunkte[:teiler], angletosequence)\n",
      "    \n",
      "    erstepunkte  = None\n",
      "    zweitepunkte = np.delete(zweitepunkte, np.arange(teiler), axis = 0)\n",
      "    drittepunkte = np.delete(drittepunkte, np.arange(teiler), axis = 0)\n",
      "    \n",
      "    erstetemp = temp[0]\n",
      "    zweitetemp = erstetemp\n",
      "    drittetemp = temp[1]\n",
      "    temp = None\n",
      "else:\n",
      "    temp = sort_out_by_angle(erstepunkte[:teiler], zweitepunkte[:teiler], drittepunkte[:teiler], angletosequence)\n",
      "    \n",
      "    erstepunkte  = np.delete(erstepunkte, np.arange(teiler), axis = 0)\n",
      "    zweitepunkte = np.delete(zweitepunkte, np.arange(teiler), axis = 0)\n",
      "    drittepunkte = np.delete(drittepunkte, np.arange(teiler), axis = 0)\n",
      "    \n",
      "    erstetemp = temp[0]\n",
      "    zweitetemp = temp[1]\n",
      "    drittetemp = temp[2]\n",
      "    temp = None\n",
      "\n",
      "bla = time.time()\n",
      "\n",
      "for i in range(1, MakeSmall):\n",
      "    if shortpath:\n",
      "        temp = sort_out_by_angle(anfangspunkt, zweitepunkte[:teiler],\n",
      "                                 drittepunkte[:teiler], angletosequence)\n",
      "        zweitepunkte = np.delete(zweitepunkte, np.arange(teiler), axis = 0)\n",
      "        drittepunkte = np.delete(drittepunkte, np.arange(teiler), axis = 0)\n",
      "        \n",
      "        erstetemp = np.concatenate((erstetemp, temp[0]), axis =0)\n",
      "        zweitetemp = erstetemp\n",
      "        drittetemp = np.concatenate((drittetemp, temp[1]), axis = 0)\n",
      "        temp = None\n",
      "    else:\n",
      "        temp = sort_out_by_angle(erstepunkte[:teiler], zweitepunkte[:teiler],\n",
      "                                 drittepunkte[:teiler], angletosequence)\n",
      "        erstepunkte  = np.delete(erstepunkte, np.arange(teiler), axis = 0)\n",
      "        zweitepunkte = np.delete(zweitepunkte, np.arange(teiler), axis = 0)\n",
      "        drittepunkte = np.delete(drittepunkte, np.arange(teiler), axis = 0)\n",
      "        \n",
      "        erstetemp = np.concatenate((erstetemp, temp[0]), axis =0)\n",
      "        zweitetemp = np.concatenate((zweitetemp, temp[1]), axis =0)\n",
      "        drittetemp = np.concatenate((drittetemp, temp[2]), axis = 0)\n",
      "        temp = None\n",
      "            \n",
      "\n",
      "\n",
      "if shortpath:\n",
      "    if np.shape(zweitepunkte) != (0,3):\n",
      "        temp = sort_out_by_angle(anfangspunkt, zweitepunkte, drittepunkte, angletosequence)\n",
      "        erstetemp = np.concatenate((erstetemp, temp[0]), axis =0)\n",
      "        zweitetemp = erstetemp\n",
      "        drittetemp = np.concatenate((drittetemp, temp[1]), axis = 0)\n",
      "        temp = None\n",
      "else:\n",
      "    if np.shape(zweitepunkte) != (0,3):\n",
      "        temp = sort_out_by_angle(erstepunkte, zweitepunkte, drittepunkte, angletosequence)\n",
      "        erstetemp = np.concatenate((erstetemp, temp[0]), axis =0)\n",
      "        zweitetemp = np.concatenate((zweitetemp, temp[1]), axis =0)\n",
      "        drittetemp = np.concatenate((drittetemp, temp[2]), axis = 0)\n",
      "        temp = None\n",
      "        \n",
      "\n",
      "erstepunkte = np.float16(erstetemp)\n",
      "zweitepunkte = np.float16(zweitetemp)\n",
      "drittepunkte = np.float16(drittetemp)\n",
      "\n",
      "print bla - time.time()\n",
      "print np.size(erstepunkte, axis = 0)"
     ],
     "language": "python",
     "metadata": {},
     "outputs": [
      {
       "output_type": "stream",
       "stream": "stdout",
       "text": [
        "-0.000868082046509\n",
        "188053\n"
       ]
      }
     ],
     "prompt_number": 53
    },
    {
     "cell_type": "code",
     "collapsed": false,
     "input": [
      "pickle.dump((erstepunkte, zweitepunkte, drittepunkte),\n",
      "            open(\"files/save{projectname}.p\".format(projectname = UserDefinedProjectName), \"wb\"))"
     ],
     "language": "python",
     "metadata": {},
     "outputs": []
    },
    {
     "cell_type": "code",
     "collapsed": false,
     "input": [
      "\n",
      "#UserDefinedProjectName = \"lambdalysozyme\"\n",
      "'''\n",
      "punktetemp = pickle.load( open(\"files/save{projectname}.p\".format(projectname = UserDefinedProjectName), \"rb\" ) )\n",
      "erstepunkte = punktetemp[0]\n",
      "zweitepunkte = punktetemp[1]\n",
      "drittepunkte = punktetemp[2]\n",
      "'''\n",
      "'''\n",
      "erstepunkte = erstepunkte[::100]\n",
      "zweitepunkte = zweitepunkte[::100]\n",
      "drittepunkte = drittepunkte[::100]\n",
      "'''"
     ],
     "language": "python",
     "metadata": {},
     "outputs": []
    },
    {
     "cell_type": "code",
     "collapsed": false,
     "input": [],
     "language": "python",
     "metadata": {},
     "outputs": []
    },
    {
     "cell_type": "code",
     "collapsed": false,
     "input": [
      "'''\n",
      "punktetemp = pickle.load( open(\"files/saveflexibles{projectname}.p\".format(projectname = UserDefinedProjectName), \"rb\" ) )\n",
      "firstpointsflexible  = punktetemp[0]\n",
      "secondpointsflexible = punktetemp[1]\n",
      "thirdpointsflexible  = punktetemp[2]\n",
      "'''\n",
      "'''\n",
      "#veraltet\n",
      "erstepunkte  = np.concatenate((erstepunkte, firstpointsflexible), axis = 0)\n",
      "zweitepunkte = np.concatenate((zweitepunkte, secondpointsflexible), axis = 0)\n",
      "drittepunkte = np.concatenate((drittepunkte, thirdpointsflexible), axis = 0)\n",
      "'''"
     ],
     "language": "python",
     "metadata": {},
     "outputs": []
    },
    {
     "cell_type": "code",
     "collapsed": false,
     "input": [
      "'''\n",
      "firstpointsflexible = firstpointsflexible[::100]\n",
      "secondpointsflexible = secondpointsflexible[::100]\n",
      "thirdpointsflexible = thirdpointsflexible[::100]\n",
      "'''"
     ],
     "language": "python",
     "metadata": {},
     "outputs": []
    },
    {
     "cell_type": "heading",
     "level": 3,
     "metadata": {},
     "source": [
      "Das verbessern der Pfade, anpassen an die Linkerst\u00fccke"
     ]
    },
    {
     "cell_type": "code",
     "collapsed": false,
     "input": [
      "a = np.arange(15)\n",
      "def blubb(a, b):\n",
      "    a = 7\n",
      "    \n",
      "    print a\n",
      "    \n",
      "print a\n",
      "blubb(a, 5)\n",
      "print a\n",
      "b = a\n",
      "b[5] = 5833\n",
      "\n",
      "\n",
      "print a\n",
      "print id(a), id(b)\n",
      "\n",
      "blubb = a - 2\n",
      "\n",
      "print id(blubb)\n",
      "print id(a)\n"
     ],
     "language": "python",
     "metadata": {},
     "outputs": [
      {
       "output_type": "stream",
       "stream": "stdout",
       "text": [
        "[ 0  1  2  3  4  5  6  7  8  9 10 11 12 13 14]\n",
        "7\n",
        "[ 0  1  2  3  4  5  6  7  8  9 10 11 12 13 14]\n",
        "[   0    1    2    3    4 5833    6    7    8    9   10   11   12   13   14]\n",
        "126206784 126206784\n",
        "91995344\n",
        "126206784\n"
       ]
      }
     ],
     "prompt_number": 273
    },
    {
     "cell_type": "code",
     "collapsed": false,
     "input": [
      "shift_points_to_linkerpatterns()"
     ],
     "language": "python",
     "metadata": {},
     "outputs": []
    },
    {
     "cell_type": "code",
     "collapsed": false,
     "input": [
      "#thirdpoints are to be shifted and given back\n",
      "def shift_points_to_linkerpatterns(secondpoints, thirdpoints, linkerlaengenKO):\n",
      "    '''\n",
      "    shifts thirdpoints to the secondpoints or away from them, so that the distance between second and third fits into the\n",
      "    patterns that are provided by linkerlaengenKO.\n",
      "    secondpoints and thirdpoints must have same dimension.\n",
      "    \n",
      "    returns the new thirdpoints\n",
      "    \n",
      "    ATTENTION, changes thirdpoints also\n",
      "    '''\n",
      "    lthreetemp = abstandarrays(secondpoints, thirdpoints)\n",
      "    for LAENGE in linkerlaengenKO:\n",
      "        if LAENGE == linkerlaengenKO[0]:\n",
      "            comparedtopattern = lthreetemp - LAENGE\n",
      "        else:\n",
      "            comparedtopatterntwo = lthreetemp - LAENGE\n",
      "            fusionbool = np.abs(comparedtopattern) > np.abs(comparedtopatterntwo)\n",
      "            comparedtopattern[fusionbool] = comparedtopatterntwo[fusionbool]\n",
      "    \n",
      "    toberefinedbool = (np.abs(comparedtopattern) >= LENGTHACCURACYKO)\n",
      "    \n",
      "    if toberefinedbool.any():\n",
      "        toberefinedlengths = comparedtopattern[toberefinedbool]\n",
      "        arraylengthtemp = np.size(toberefinedlengths)\n",
      "        shifts = np.zeros(arraylengthtemp)\n",
      "        #we calculate the shifts, to be sure we shift a bit farther than we need in the end.\n",
      "        shifts[toberefinedlengths > 0] = -1 * (toberefinedlengths[toberefinedlengths > 0] - \n",
      "                                               LENGTHACCURACYKO + (LENGTHACCURACYKO / 5.))\n",
      "        shifts[toberefinedlengths < 0] = -1 * (toberefinedlengths[toberefinedlengths < 0] + \n",
      "                                               LENGTHACCURACYKO - (LENGTHACCURACYKO / 5.))\n",
      "        shifts = np.reshape(np.repeat(shifts, 3), (arraylengthtemp,3))\n",
      "        lengthestemp = abstandarrays(thirdpoints[toberefinedbool] , secondpoints[toberefinedbool])\n",
      "        lengthestemp = np.reshape(np.repeat(lengthestemp, 3), (arraylengthtemp,3))\n",
      "        thirdpoints[toberefinedbool] = (((thirdpoints[toberefinedbool] - secondpoints[toberefinedbool]) /\n",
      "                                        lengthestemp) * shifts ) + thirdpoints[toberefinedbool]\n",
      "\n",
      "    #return thirdpoints\n",
      "    \n",
      "    \n",
      "    \n",
      "    \n",
      "    \n",
      "def make_better_paths_rigid(startpoint, firstpoints, secondpoints, thirdpoints, endpoint, linkerlaengenKO):\n",
      "    if np.shape(secondpoints) == (0,3):\n",
      "        firstpoints = secondpoints = thirdpoints = None\n",
      "        return firstpoints, secondpoints, thirdpoints\n",
      "    else:\n",
      "        '''\n",
      "        makes all the shiftings that should be needed in the rigid linkers, so that they can be easily translated in the end.\n",
      "\n",
      "        returns:\n",
      "        firstpoints, secondpoints, thirdpoints    \n",
      "        '''\n",
      "        linkerlaengenKOtemp = np.append(linkerlaengenKO, 0.)\n",
      "        lonetemp = abstandpktzuarray(startpoint, firstpoints)\n",
      "\n",
      "        arraylengthtemp = np.size(lonetemp)\n",
      "        #True bleibt\n",
      "\n",
      "        keep = sort_out_by_length(startpoint, firstpoints, linkerlaengenKO + FLEXIBLEATSTARTKO - LENGTHOFANGLEKO)\n",
      "        firstpoints = firstpoints[keep]\n",
      "        secondpoints = secondpoints[keep]\n",
      "        thirdpoints = thirdpoints[keep]\n",
      "\n",
      "        thirdpoints = shift_points_to_linkerpatterns(secondpoints, thirdpoints, linkerlaengenKOtemp)\n",
      "\n",
      "        keep = sort_out_by_length(thirdpoints, endpoint, linkerlaengenKO + FLEXIBLEATENDKO - LENGTHOFANGLEKO)\n",
      "        firstpoints = firstpoints[keep]\n",
      "        secondpoints = secondpoints[keep]\n",
      "        thirdpoints = thirdpoints[keep]    \n",
      "\n",
      "        return firstpoints, secondpoints, thirdpoints\n",
      "    \n",
      "    \n",
      "def make_better_paths_flex(firstpoints, secondpoints, thirdpoints, endpoint, linkerlaengenKO):\n",
      "    if np.shape(firstpoints) == (0,3):\n",
      "        firstpoints = secondpoints = thirdpoints = None\n",
      "        return firstpoints, secondpoints, thirdpoints\n",
      "    else:\n",
      "        \n",
      "        linkerlaengenKOtemp = np.append(linkerlaengenKO, 0)\n",
      "\n",
      "        noanglebool = (firstpoints == secondpoints).all(1)\n",
      "        thirdpoints[noanglebool] = shift_points_to_linkerpatterns(secondpoints[noanglebool],\n",
      "                                                                  thirdpoints[noanglebool], linkerlaengenKOtemp - \n",
      "                                                                  (2 * LENGTHOFANGLEKO))\n",
      "\n",
      "        #keep Trues\n",
      "        arraylengthtemp = np.size(noanglebool)\n",
      "        sortouttemp = np.bool8(np.ones(arraylengthtemp))\n",
      "        sortouttemp[noanglebool] = (abstandpktzuarray(endpoint, thirdpoints[noanglebool]) < FLEXIBLEATENDKO)\n",
      "\n",
      "        return firstpoints[sortouttemp], secondpoints[sortouttemp], thirdpoints[sortouttemp]"
     ],
     "language": "python",
     "metadata": {},
     "outputs": [],
     "prompt_number": 94
    },
    {
     "cell_type": "code",
     "collapsed": false,
     "input": [
      "print np.shape(firstpointsflexible)\n",
      "print np.shape(erstepunkte)\n",
      "\n",
      "5-2*3"
     ],
     "language": "python",
     "metadata": {},
     "outputs": [
      {
       "output_type": "stream",
       "stream": "stdout",
       "text": [
        "(1576234, 3)\n",
        "(188053, 3)\n"
       ]
      },
      {
       "metadata": {},
       "output_type": "pyout",
       "prompt_number": 91,
       "text": [
        "-1"
       ]
      }
     ],
     "prompt_number": 91
    },
    {
     "cell_type": "code",
     "collapsed": false,
     "input": [
      "if firstpointsflexible != None:\n",
      "    if np.shape(firstpointsflexible != (0,3)):\n",
      "        temp = make_better_paths_flex(firstpointsflexible, secondpointsflexible, thirdpointsflexible, endpunkt,\n",
      "                                      linkerlaengenKO)\n",
      "\n",
      "\n",
      "        MakeSmall, teiler = make_small_generator_offset([firstpointsflexible, secondpointsflexible, thirdpointsflexible,\n",
      "                                                 erstepunkte, zweitepunkte, drittepunkte], secondpointsflexible, 20 , RAMOFMACHINE,\n",
      "                                                        np.size(secondpointsflexible, axis=0))\n",
      "\n",
      "        print MakeSmall                                        \n",
      "\n",
      "        \n",
      "\n",
      "        temp = make_better_paths_flex(firstpointsflexible[:teiler], secondpointsflexible[:teiler], thirdpointsflexible[:teiler], \n",
      "                                      endpunkt, linkerlaengenKO)\n",
      "        firstpointsflexible  = np.delete(firstpointsflexible, np.arange(teiler), axis = 0)\n",
      "        secondpointsflexible = np.delete(secondpointsflexible, np.arange(teiler), axis = 0)\n",
      "        thirdpointsflexible  = np.delete(thirdpointsflexible, np.arange(teiler), axis = 0)\n",
      "\n",
      "        firsttemp = temp[0]\n",
      "        secondtemp = temp[1]\n",
      "        thirdtemp = temp[2]\n",
      "\n",
      "        bla = time.time()\n",
      "\n",
      "        for i in range(1, MakeSmall):\n",
      "\n",
      "            temp = make_better_paths_flex(firstpointsflexible[:teiler], secondpointsflexible[:teiler], \n",
      "                                          thirdpointsflexible[:teiler], endpunkt, linkerlaengenKO)\n",
      "            firstpointsflexible  = np.delete(firstpointsflexible, np.arange(teiler), axis = 0)\n",
      "            secondpointsflexible = np.delete(secondpointsflexible, np.arange(teiler), axis = 0)\n",
      "            thirdpointsflexible  = np.delete(thirdpointsflexible, np.arange(teiler), axis = 0)\n",
      "\n",
      "            firsttemp = np.concatenate((firsttemp, temp[0]), axis =0)\n",
      "            secondtemp = np.concatenate((secondtemp, temp[1]), axis =0)\n",
      "            thirdtemp = np.concatenate((thirdtemp, temp[2]), axis = 0)\n",
      "\n",
      "\n",
      "        if np.shape(firstpointsflexible) != (0,3):\n",
      "            temp = make_better_paths_flex(firstpointsflexible, secondpointsflexible, thirdpointsflexible, endpunkt, \n",
      "                                          linkerlaengenKO)\n",
      "            firsttemp = np.concatenate((firsttemp, temp[0]), axis =0)\n",
      "            secondtemp = np.concatenate((secondtemp, temp[1]), axis =0)\n",
      "            thirdtemp = np.concatenate((thirdtemp, temp[2]), axis = 0)\n",
      "\n",
      "\n",
      "        firstpointsflexible = np.float16(firsttemp)\n",
      "        secondpointsflexible = np.float16(secondtemp)\n",
      "        thirdpointsflexible = np.float16(thirdtemp)\n",
      "\n",
      "        #clear var.\n",
      "        firsttemp = secondtemp = thirdtemp = None\n",
      "\n",
      "        print bla - time.time()\n",
      "        print np.size(firstpointsflexible, axis = 0)    \n",
      "    \n",
      "    \n",
      "if erstepunkte != None:\n",
      "    if np.shape(erstepunkte) != (0,3):\n",
      "        MakeSmall, teiler  = make_small_generator_offset([firstpointsflexible, secondpointsflexible, thirdpointsflexible,\n",
      "                                                 erstepunkte, zweitepunkte, drittepunkte], zweitepunkte, 20 , RAMOFMACHINE,\n",
      "                                                         np.size(zweitepunkte, axis=0))\n",
      "\n",
      "\n",
      "\n",
      "\n",
      "        temp = make_better_paths_rigid(anfangspunkt, erstepunkte[:teiler], zweitepunkte[:teiler], drittepunkte[:teiler], \n",
      "                                       endpunkt, linkerlaengenKO)\n",
      "\n",
      "        erstepunkte  = np.delete(erstepunkte, np.arange(teiler), axis = 0)\n",
      "        zweitepunkte = np.delete(zweitepunkte, np.arange(teiler), axis = 0)\n",
      "        drittepunkte = np.delete(drittepunkte, np.arange(teiler), axis = 0)\n",
      "\n",
      "        erstetemp = temp[0]\n",
      "        zweitetemp = temp[1]\n",
      "        drittetemp = temp[2]\n",
      "\n",
      "        bla = time.time()\n",
      "\n",
      "        for i in range(1, MakeSmall):\n",
      "\n",
      "            temp = make_better_paths_rigid(anfangspunkt, erstepunkte[:teiler], zweitepunkte[:teiler], drittepunkte[:teiler],\n",
      "                                           endpunkt, linkerlaengenKO)\n",
      "            erstepunkte  = np.delete(erstepunkte, np.arange(teiler), axis = 0)\n",
      "            zweitepunkte = np.delete(zweitepunkte, np.arange(teiler), axis = 0)\n",
      "            drittepunkte = np.delete(drittepunkte, np.arange(teiler), axis = 0)\n",
      "\n",
      "            erstetemp = np.concatenate((erstetemp, temp[0]), axis =0)\n",
      "            zweitetemp = np.concatenate((zweitetemp, temp[1]), axis =0)\n",
      "            drittetemp = np.concatenate((drittetemp, temp[2]), axis = 0)\n",
      "\n",
      "\n",
      "        if np.shape(erstepunkte) != (0,3):\n",
      "            temp = make_better_paths_rigid(anfangspunkt, erstepunkte, zweitepunkte, drittepunkte, endpunkt, linkerlaengenKO)\n",
      "            erstetemp = np.concatenate((erstetemp, temp[0]), axis =0)\n",
      "            zweitetemp = np.concatenate((zweitetemp, temp[1]), axis =0)\n",
      "            drittetemp = np.concatenate((drittetemp, temp[2]), axis = 0)\n",
      "\n",
      "\n",
      "        erstepunkte = np.float16(erstetemp)\n",
      "        zweitepunkte = np.float16(zweitetemp)\n",
      "        drittepunkte = np.float16(drittetemp)\n",
      "\n",
      "        erstetemp = zweitetemp = drittetemp = None\n",
      "        print bla - time.time()\n",
      "        print np.size(erstepunkte, axis = 0)\n"
     ],
     "language": "python",
     "metadata": {},
     "outputs": [
      {
       "output_type": "stream",
       "stream": "stdout",
       "text": [
        "-1.69277191162e-05\n",
        "188053\n"
       ]
      }
     ],
     "prompt_number": 55
    },
    {
     "cell_type": "code",
     "collapsed": false,
     "input": [
      "pickle.dump((erstepunkte, zweitepunkte, drittepunkte, firstpointsflexible, secondpointsflexible, thirdpointsflexible), \n",
      "            open(\"files/save{projectname}.p\".format(projectname = UserDefinedProjectName), \"wb\"))"
     ],
     "language": "python",
     "metadata": {},
     "outputs": [],
     "prompt_number": 29
    },
    {
     "cell_type": "code",
     "collapsed": false,
     "input": [
      "print np.shape(firstpointsflexible)\n",
      "print np.shape(erstepunkte)"
     ],
     "language": "python",
     "metadata": {},
     "outputs": []
    },
    {
     "cell_type": "code",
     "collapsed": false,
     "input": [
      "\n",
      "punktetemp = pickle.load( open(\"files/save{projectname}.p\".format(projectname = UserDefinedProjectName), \"rb\" ) )\n",
      "erstepunkte = punktetemp[0]\n",
      "zweitepunkte = punktetemp[1]\n",
      "drittepunkte = punktetemp[2]\n",
      "firstpointsflexible  = punktetemp[3]\n",
      "secondpointsflexible = punktetemp[4]\n",
      "thirdpointsflexible  = punktetemp[5]\n",
      "\n",
      "punktetemp = None\n"
     ],
     "language": "python",
     "metadata": {},
     "outputs": [],
     "prompt_number": 27
    },
    {
     "cell_type": "heading",
     "level": 3,
     "metadata": {},
     "source": [
      "Die Bewertungsfunktion\n"
     ]
    },
    {
     "cell_type": "markdown",
     "metadata": {},
     "source": [
      "Wir definieren Regionen, die schlecht f\u00fcr den Linker sind. Dabei bekommt jede Region eine G\u00fcte. Diese G\u00fcte sagt, wenn wir einen Linker in einem Abstand von G\u00fcte geteilt durch Minabstand vorbeigehen lassen. Das hei\u00dft je kleiner die G\u00fcte, desto n\u00e4her kann ich an diesem Punkt vorbei gehen.\n",
      "\n",
      "Im Allgemeinen m\u00f6chte ich, dass einfach immer die verschiedenen Teile gleich wichtig sind, egal wie gro\u00df das Protein ist, oder wie viele Regionen wir da gesagt haben, dass umgangen werden sollen.\n",
      "\n",
      "Bei den Winkeln haben wir ja immer maximal drei Winkel, von dem her, muss das nicht normiert werden.\n",
      "\n",
      "Bei der L\u00e4nge wird mit dem Abstand der Enden skaliert, bei den unguten Regionen wird so skaliert, dass egal wie viele es sind, die definiert wurden, immer insgesamt die Gewichtung 1 ist."
     ]
    },
    {
     "cell_type": "code",
     "collapsed": false,
     "input": [
      "#Userstring ist von der Form: 273,10 280-290,5 298,7,35.6  usw. (Leerzeichen trennen Eintr\u00e4ge, , for single residues\n",
      "#- for ranges, second, for the diameter of the substrate)\n",
      "\n",
      "\n",
      "\n",
      "#UserdefinedWeighing = \"19,10,10\" #Lambdalysozyme\n",
      "#UserdefinedWeighing = \"1139-1616,1 1226,1\" #dnmt1\n",
      "UserdefinedWeighing = \"19,10,10\"\n",
      "\n",
      "\n",
      "\n",
      "ShouldBeWeighed, Weighingarray, substratelist = make_weighingarrays(UserdefinedWeighing)\n"
     ],
     "language": "python",
     "metadata": {},
     "outputs": [],
     "prompt_number": 26
    },
    {
     "cell_type": "code",
     "collapsed": true,
     "input": [
      "#weighting of linkers with flexible ends\n",
      "if secondpointsflexible != None:\n",
      "    if np.size(secondpointsflexible, axis = 0) > 0 :\n",
      "\n",
      "\n",
      "        MakeSmall, teiler = make_small_generator_offset([firstpointsflexible, secondpointsflexible, thirdpointsflexible,\n",
      "                                                 erstepunkte, zweitepunkte, drittepunkte], secondpointsflexible, 8 ,\n",
      "                                                RAMOFMACHINE , np.size(secondpointsflexible, axis=0), ProteinArray = pkte)\n",
      "\n",
      "        blubbtime = time.time()\n",
      "        print MakeSmall\n",
      "        temp = weighing_function_flex(anfangspunkt, firstpointsflexible[:teiler], secondpointsflexible[:teiler],\n",
      "                                        thirdpointsflexible[:teiler], endpunkt, pkte, InterestingAANr,\\\n",
      "                              ShouldBeWeighed, Weighingarray, substratelist)\n",
      "\n",
      "        knull = temp[0]\n",
      "        keins = temp[1]\n",
      "        kzwei = temp[2]\n",
      "        kdrei = temp[3]\n",
      "        kvier = temp[4]\n",
      "\n",
      "\n",
      "        for i in range(1, MakeSmall):\n",
      "            temp = weighing_function_flex(anfangspunkt, firstpointsflexible[i * teiler:(i+1)*teiler],\n",
      "                                            secondpointsflexible[i * teiler:(i+1)*teiler], \n",
      "                                            thirdpointsflexible[i * teiler:(i+1)*teiler],\n",
      "                                            endpunkt, pkte, InterestingAANr, ShouldBeWeighed, Weighingarray, substratelist)\n",
      "\n",
      "            knull = np.concatenate((knull, temp[0]), axis =0)\n",
      "            keins = np.concatenate((keins, temp[1]), axis =0)\n",
      "            kzwei = np.concatenate((kzwei, temp[2]), axis =0)\n",
      "            kdrei = np.concatenate((kdrei, temp[3]), axis =0)\n",
      "            kvier = np.concatenate((kvier, temp[4]), axis =0)\n",
      "            print time.time() - blubbtime\n",
      "\n",
      "\n",
      "        if ((i+1) * teiler) < np.size(secondpointsflexible, axis=0):\n",
      "            temp = weighing_function_flex(anfangspunkt, firstpointsflexible[(i+1)*teiler:], \n",
      "                                            secondpointsflexible[(i+1)*teiler:], thirdpointsflexible[(i+1)*teiler:],\n",
      "                                            endpunkt, pkte, InterestingAANr, ShouldBeWeighed, Weighingarray, substratelist)\n",
      "\n",
      "\n",
      "            knull = np.concatenate((knull, temp[0]), axis =0)\n",
      "            keins = np.concatenate((keins, temp[1]), axis =0)\n",
      "            kzwei = np.concatenate((kzwei, temp[2]), axis =0)\n",
      "            kdrei = np.concatenate((kdrei, temp[3]), axis =0)\n",
      "            kvier = np.concatenate((kvier, temp[4]), axis =0)\n",
      "\n",
      "\n",
      "\n",
      "\n",
      "\n",
      "        weightflex = np.array([knull, keins, kzwei, kdrei, kvier])\n",
      "        flexk = weightflex\n",
      "    else:\n",
      "        weightflex = None\n",
      "else:\n",
      "    weightflex = None"
     ],
     "language": "python",
     "metadata": {},
     "outputs": [
      {
       "output_type": "stream",
       "stream": "stdout",
       "text": [
        "536\n",
        "7.31976604462"
       ]
      },
      {
       "output_type": "stream",
       "stream": "stdout",
       "text": [
        "\n",
        "10.9650928974"
       ]
      },
      {
       "output_type": "stream",
       "stream": "stdout",
       "text": [
        "\n",
        "14.5697219372"
       ]
      },
      {
       "output_type": "stream",
       "stream": "stdout",
       "text": [
        "\n",
        "18.187885046"
       ]
      },
      {
       "output_type": "stream",
       "stream": "stdout",
       "text": [
        "\n",
        "21.804569006"
       ]
      },
      {
       "output_type": "stream",
       "stream": "stdout",
       "text": [
        "\n",
        "25.4204139709"
       ]
      },
      {
       "output_type": "stream",
       "stream": "stdout",
       "text": [
        "\n",
        "29.0811550617"
       ]
      },
      {
       "output_type": "stream",
       "stream": "stdout",
       "text": [
        "\n",
        "32.7730998993"
       ]
      },
      {
       "output_type": "stream",
       "stream": "stdout",
       "text": [
        "\n",
        "36.3818819523"
       ]
      },
      {
       "output_type": "stream",
       "stream": "stdout",
       "text": [
        "\n",
        "39.9845569134"
       ]
      },
      {
       "output_type": "stream",
       "stream": "stdout",
       "text": [
        "\n",
        "43.5944519043"
       ]
      },
      {
       "output_type": "stream",
       "stream": "stdout",
       "text": [
        "\n",
        "47.4883370399"
       ]
      },
      {
       "output_type": "stream",
       "stream": "stdout",
       "text": [
        "\n",
        "51.0985209942"
       ]
      },
      {
       "output_type": "stream",
       "stream": "stdout",
       "text": [
        "\n",
        "54.7111110687"
       ]
      },
      {
       "output_type": "stream",
       "stream": "stdout",
       "text": [
        "\n",
        "58.3195140362"
       ]
      },
      {
       "output_type": "stream",
       "stream": "stdout",
       "text": [
        "\n",
        "62.017291069"
       ]
      },
      {
       "output_type": "stream",
       "stream": "stdout",
       "text": [
        "\n",
        "65.7021250725"
       ]
      },
      {
       "output_type": "stream",
       "stream": "stdout",
       "text": [
        "\n",
        "69.4004819393"
       ]
      },
      {
       "output_type": "stream",
       "stream": "stdout",
       "text": [
        "\n",
        "73.210515976"
       ]
      },
      {
       "output_type": "stream",
       "stream": "stdout",
       "text": [
        "\n",
        "76.838269949"
       ]
      },
      {
       "output_type": "stream",
       "stream": "stdout",
       "text": [
        "\n",
        "80.446146965"
       ]
      },
      {
       "output_type": "stream",
       "stream": "stdout",
       "text": [
        "\n",
        "84.0523169041"
       ]
      },
      {
       "output_type": "stream",
       "stream": "stdout",
       "text": [
        "\n",
        "87.6355519295"
       ]
      },
      {
       "output_type": "stream",
       "stream": "stdout",
       "text": [
        "\n",
        "91.2610230446"
       ]
      },
      {
       "output_type": "stream",
       "stream": "stdout",
       "text": [
        "\n",
        "94.9135279655"
       ]
      },
      {
       "output_type": "stream",
       "stream": "stdout",
       "text": [
        "\n",
        "98.5515999794"
       ]
      },
      {
       "output_type": "stream",
       "stream": "stdout",
       "text": [
        "\n",
        "102.100977898"
       ]
      },
      {
       "output_type": "stream",
       "stream": "stdout",
       "text": [
        "\n",
        "105.720187902"
       ]
      },
      {
       "output_type": "stream",
       "stream": "stdout",
       "text": [
        "\n",
        "109.304150105"
       ]
      },
      {
       "output_type": "stream",
       "stream": "stdout",
       "text": [
        "\n",
        "113.64713788"
       ]
      },
      {
       "output_type": "stream",
       "stream": "stdout",
       "text": [
        "\n",
        "117.74386692"
       ]
      },
      {
       "output_type": "stream",
       "stream": "stdout",
       "text": [
        "\n",
        "121.315507889"
       ]
      },
      {
       "output_type": "stream",
       "stream": "stdout",
       "text": [
        "\n",
        "124.915102959"
       ]
      },
      {
       "output_type": "stream",
       "stream": "stdout",
       "text": [
        "\n",
        "128.521616936"
       ]
      },
      {
       "output_type": "stream",
       "stream": "stdout",
       "text": [
        "\n",
        "132.152173996"
       ]
      },
      {
       "output_type": "stream",
       "stream": "stdout",
       "text": [
        "\n",
        "135.721687078"
       ]
      },
      {
       "output_type": "stream",
       "stream": "stdout",
       "text": [
        "\n",
        "139.322941065"
       ]
      },
      {
       "output_type": "stream",
       "stream": "stdout",
       "text": [
        "\n",
        "143.069861889"
       ]
      },
      {
       "output_type": "stream",
       "stream": "stdout",
       "text": [
        "\n",
        "146.656498909"
       ]
      },
      {
       "output_type": "stream",
       "stream": "stdout",
       "text": [
        "\n",
        "150.226543903"
       ]
      },
      {
       "output_type": "stream",
       "stream": "stdout",
       "text": [
        "\n",
        "153.842207909"
       ]
      },
      {
       "output_type": "stream",
       "stream": "stdout",
       "text": [
        "\n",
        "157.465126038"
       ]
      },
      {
       "output_type": "stream",
       "stream": "stdout",
       "text": [
        "\n",
        "161.062234879"
       ]
      },
      {
       "output_type": "stream",
       "stream": "stdout",
       "text": [
        "\n",
        "164.711328983"
       ]
      },
      {
       "output_type": "stream",
       "stream": "stdout",
       "text": [
        "\n",
        "168.30213809"
       ]
      },
      {
       "output_type": "stream",
       "stream": "stdout",
       "text": [
        "\n",
        "171.916619062"
       ]
      },
      {
       "output_type": "stream",
       "stream": "stdout",
       "text": [
        "\n",
        "175.517019033"
       ]
      },
      {
       "output_type": "stream",
       "stream": "stdout",
       "text": [
        "\n",
        "179.152745962"
       ]
      },
      {
       "output_type": "stream",
       "stream": "stdout",
       "text": [
        "\n",
        "182.744021893"
       ]
      },
      {
       "output_type": "stream",
       "stream": "stdout",
       "text": [
        "\n",
        "186.36721611"
       ]
      },
      {
       "output_type": "stream",
       "stream": "stdout",
       "text": [
        "\n",
        "189.98436594"
       ]
      },
      {
       "output_type": "stream",
       "stream": "stdout",
       "text": [
        "\n",
        "193.560333967"
       ]
      },
      {
       "output_type": "stream",
       "stream": "stdout",
       "text": [
        "\n",
        "197.091365099"
       ]
      },
      {
       "output_type": "stream",
       "stream": "stdout",
       "text": [
        "\n",
        "200.635169983"
       ]
      },
      {
       "output_type": "stream",
       "stream": "stdout",
       "text": [
        "\n",
        "204.190551996"
       ]
      },
      {
       "output_type": "stream",
       "stream": "stdout",
       "text": [
        "\n",
        "207.762510061"
       ]
      },
      {
       "output_type": "stream",
       "stream": "stdout",
       "text": [
        "\n",
        "211.722937107"
       ]
      },
      {
       "output_type": "stream",
       "stream": "stdout",
       "text": [
        "\n",
        "215.320687056"
       ]
      },
      {
       "output_type": "stream",
       "stream": "stdout",
       "text": [
        "\n",
        "218.868751049"
       ]
      },
      {
       "output_type": "stream",
       "stream": "stdout",
       "text": [
        "\n",
        "222.437448978"
       ]
      },
      {
       "output_type": "stream",
       "stream": "stdout",
       "text": [
        "\n",
        "226.003074884"
       ]
      },
      {
       "output_type": "stream",
       "stream": "stdout",
       "text": [
        "\n",
        "229.618931055"
       ]
      },
      {
       "output_type": "stream",
       "stream": "stdout",
       "text": [
        "\n",
        "233.277333975"
       ]
      },
      {
       "output_type": "stream",
       "stream": "stdout",
       "text": [
        "\n",
        "236.890384912"
       ]
      },
      {
       "output_type": "stream",
       "stream": "stdout",
       "text": [
        "\n",
        "240.493463039"
       ]
      },
      {
       "output_type": "stream",
       "stream": "stdout",
       "text": [
        "\n",
        "244.089799881"
       ]
      },
      {
       "output_type": "stream",
       "stream": "stdout",
       "text": [
        "\n",
        "247.699169874"
       ]
      },
      {
       "output_type": "stream",
       "stream": "stdout",
       "text": [
        "\n",
        "251.31034708"
       ]
      },
      {
       "output_type": "stream",
       "stream": "stdout",
       "text": [
        "\n",
        "254.917860985"
       ]
      },
      {
       "output_type": "stream",
       "stream": "stdout",
       "text": [
        "\n",
        "258.629492998"
       ]
      },
      {
       "output_type": "stream",
       "stream": "stdout",
       "text": [
        "\n",
        "262.203484058"
       ]
      },
      {
       "output_type": "stream",
       "stream": "stdout",
       "text": [
        "\n",
        "265.796515942"
       ]
      },
      {
       "output_type": "stream",
       "stream": "stdout",
       "text": [
        "\n",
        "269.482897043"
       ]
      },
      {
       "output_type": "stream",
       "stream": "stdout",
       "text": [
        "\n",
        "273.081110001"
       ]
      },
      {
       "output_type": "stream",
       "stream": "stdout",
       "text": [
        "\n",
        "276.721626997"
       ]
      },
      {
       "output_type": "stream",
       "stream": "stdout",
       "text": [
        "\n",
        "280.309401989"
       ]
      },
      {
       "output_type": "stream",
       "stream": "stdout",
       "text": [
        "\n",
        "284.012389898"
       ]
      },
      {
       "output_type": "stream",
       "stream": "stdout",
       "text": [
        "\n",
        "287.565915108"
       ]
      },
      {
       "output_type": "stream",
       "stream": "stdout",
       "text": [
        "\n",
        "291.118083954"
       ]
      },
      {
       "output_type": "stream",
       "stream": "stdout",
       "text": [
        "\n",
        "294.671844959"
       ]
      },
      {
       "output_type": "stream",
       "stream": "stdout",
       "text": [
        "\n",
        "298.23013711"
       ]
      },
      {
       "output_type": "stream",
       "stream": "stdout",
       "text": [
        "\n",
        "301.862979889"
       ]
      },
      {
       "output_type": "stream",
       "stream": "stdout",
       "text": [
        "\n",
        "305.417417049"
       ]
      },
      {
       "output_type": "stream",
       "stream": "stdout",
       "text": [
        "\n",
        "309.001069069"
       ]
      },
      {
       "output_type": "stream",
       "stream": "stdout",
       "text": [
        "\n",
        "312.614635944"
       ]
      },
      {
       "output_type": "stream",
       "stream": "stdout",
       "text": [
        "\n",
        "316.342017889"
       ]
      },
      {
       "output_type": "stream",
       "stream": "stdout",
       "text": [
        "\n",
        "320.012727022"
       ]
      },
      {
       "output_type": "stream",
       "stream": "stdout",
       "text": [
        "\n",
        "323.747445107"
       ]
      },
      {
       "output_type": "stream",
       "stream": "stdout",
       "text": [
        "\n",
        "327.437067032"
       ]
      },
      {
       "output_type": "stream",
       "stream": "stdout",
       "text": [
        "\n",
        "331.036673069"
       ]
      },
      {
       "output_type": "stream",
       "stream": "stdout",
       "text": [
        "\n",
        "335.079066038"
       ]
      },
      {
       "output_type": "stream",
       "stream": "stdout",
       "text": [
        "\n",
        "338.720131874"
       ]
      },
      {
       "output_type": "stream",
       "stream": "stdout",
       "text": [
        "\n",
        "342.681772947"
       ]
      },
      {
       "output_type": "stream",
       "stream": "stdout",
       "text": [
        "\n",
        "346.346215963"
       ]
      },
      {
       "output_type": "stream",
       "stream": "stdout",
       "text": [
        "\n",
        "349.91918993"
       ]
      },
      {
       "output_type": "stream",
       "stream": "stdout",
       "text": [
        "\n",
        "353.499867916"
       ]
      },
      {
       "output_type": "stream",
       "stream": "stdout",
       "text": [
        "\n",
        "357.291240931"
       ]
      },
      {
       "output_type": "stream",
       "stream": "stdout",
       "text": [
        "\n",
        "360.989955902"
       ]
      },
      {
       "output_type": "stream",
       "stream": "stdout",
       "text": [
        "\n",
        "364.738243103"
       ]
      },
      {
       "output_type": "stream",
       "stream": "stdout",
       "text": [
        "\n",
        "368.753941059"
       ]
      },
      {
       "output_type": "stream",
       "stream": "stdout",
       "text": [
        "\n",
        "372.592098951"
       ]
      },
      {
       "output_type": "stream",
       "stream": "stdout",
       "text": [
        "\n",
        "376.26371789"
       ]
      },
      {
       "output_type": "stream",
       "stream": "stdout",
       "text": [
        "\n",
        "379.868414879"
       ]
      },
      {
       "output_type": "stream",
       "stream": "stdout",
       "text": [
        "\n",
        "383.631618977"
       ]
      },
      {
       "output_type": "stream",
       "stream": "stdout",
       "text": [
        "\n",
        "387.5157969"
       ]
      },
      {
       "output_type": "stream",
       "stream": "stdout",
       "text": [
        "\n",
        "391.15388298"
       ]
      },
      {
       "output_type": "stream",
       "stream": "stdout",
       "text": [
        "\n",
        "394.799139977"
       ]
      },
      {
       "output_type": "stream",
       "stream": "stdout",
       "text": [
        "\n",
        "398.43876195"
       ]
      },
      {
       "output_type": "stream",
       "stream": "stdout",
       "text": [
        "\n",
        "402.074178934"
       ]
      },
      {
       "output_type": "stream",
       "stream": "stdout",
       "text": [
        "\n",
        "405.714754105"
       ]
      },
      {
       "output_type": "stream",
       "stream": "stdout",
       "text": [
        "\n",
        "409.4800179"
       ]
      },
      {
       "output_type": "stream",
       "stream": "stdout",
       "text": [
        "\n",
        "413.396579981"
       ]
      },
      {
       "output_type": "stream",
       "stream": "stdout",
       "text": [
        "\n",
        "417.061908007"
       ]
      },
      {
       "output_type": "stream",
       "stream": "stdout",
       "text": [
        "\n",
        "422.032806873"
       ]
      },
      {
       "output_type": "stream",
       "stream": "stdout",
       "text": [
        "\n",
        "425.644799948"
       ]
      },
      {
       "output_type": "stream",
       "stream": "stdout",
       "text": [
        "\n",
        "429.288791895"
       ]
      },
      {
       "output_type": "stream",
       "stream": "stdout",
       "text": [
        "\n",
        "432.888041019"
       ]
      },
      {
       "output_type": "stream",
       "stream": "stdout",
       "text": [
        "\n",
        "436.507252932"
       ]
      },
      {
       "output_type": "stream",
       "stream": "stdout",
       "text": [
        "\n",
        "440.163824081"
       ]
      },
      {
       "output_type": "stream",
       "stream": "stdout",
       "text": [
        "\n",
        "443.781042099"
       ]
      },
      {
       "output_type": "stream",
       "stream": "stdout",
       "text": [
        "\n",
        "447.402258873"
       ]
      },
      {
       "output_type": "stream",
       "stream": "stdout",
       "text": [
        "\n",
        "451.034355879"
       ]
      },
      {
       "output_type": "stream",
       "stream": "stdout",
       "text": [
        "\n",
        "454.733103991"
       ]
      },
      {
       "output_type": "stream",
       "stream": "stdout",
       "text": [
        "\n",
        "458.367943048"
       ]
      },
      {
       "output_type": "stream",
       "stream": "stdout",
       "text": [
        "\n",
        "461.930928946"
       ]
      },
      {
       "output_type": "stream",
       "stream": "stdout",
       "text": [
        "\n",
        "465.503426075"
       ]
      },
      {
       "output_type": "stream",
       "stream": "stdout",
       "text": [
        "\n",
        "469.205765963"
       ]
      },
      {
       "output_type": "stream",
       "stream": "stdout",
       "text": [
        "\n",
        "473.039306879"
       ]
      },
      {
       "output_type": "stream",
       "stream": "stdout",
       "text": [
        "\n",
        "476.885665894"
       ]
      },
      {
       "output_type": "stream",
       "stream": "stdout",
       "text": [
        "\n",
        "480.64407897"
       ]
      },
      {
       "output_type": "stream",
       "stream": "stdout",
       "text": [
        "\n",
        "484.247018099"
       ]
      },
      {
       "output_type": "stream",
       "stream": "stdout",
       "text": [
        "\n",
        "487.934248924"
       ]
      },
      {
       "output_type": "stream",
       "stream": "stdout",
       "text": [
        "\n",
        "491.703718901"
       ]
      },
      {
       "output_type": "stream",
       "stream": "stdout",
       "text": [
        "\n",
        "495.632843971"
       ]
      },
      {
       "output_type": "stream",
       "stream": "stdout",
       "text": [
        "\n",
        "499.286501884"
       ]
      },
      {
       "output_type": "stream",
       "stream": "stdout",
       "text": [
        "\n",
        "502.964956999"
       ]
      },
      {
       "output_type": "stream",
       "stream": "stdout",
       "text": [
        "\n",
        "506.547113895"
       ]
      },
      {
       "output_type": "stream",
       "stream": "stdout",
       "text": [
        "\n",
        "510.157782078"
       ]
      },
      {
       "output_type": "stream",
       "stream": "stdout",
       "text": [
        "\n",
        "513.998831034"
       ]
      },
      {
       "output_type": "stream",
       "stream": "stdout",
       "text": [
        "\n",
        "518.054415941"
       ]
      },
      {
       "output_type": "stream",
       "stream": "stdout",
       "text": [
        "\n",
        "521.91427803"
       ]
      },
      {
       "output_type": "stream",
       "stream": "stdout",
       "text": [
        "\n",
        "525.661067963"
       ]
      },
      {
       "output_type": "stream",
       "stream": "stdout",
       "text": [
        "\n",
        "529.452033997"
       ]
      },
      {
       "output_type": "stream",
       "stream": "stdout",
       "text": [
        "\n",
        "533.27699995"
       ]
      },
      {
       "output_type": "stream",
       "stream": "stdout",
       "text": [
        "\n",
        "537.094368935"
       ]
      },
      {
       "output_type": "stream",
       "stream": "stdout",
       "text": [
        "\n",
        "541.408192873"
       ]
      },
      {
       "output_type": "stream",
       "stream": "stdout",
       "text": [
        "\n",
        "546.120336056"
       ]
      },
      {
       "output_type": "stream",
       "stream": "stdout",
       "text": [
        "\n",
        "550.102061987"
       ]
      },
      {
       "output_type": "stream",
       "stream": "stdout",
       "text": [
        "\n",
        "553.673315048"
       ]
      },
      {
       "output_type": "stream",
       "stream": "stdout",
       "text": [
        "\n",
        "557.252048016"
       ]
      },
      {
       "output_type": "stream",
       "stream": "stdout",
       "text": [
        "\n",
        "560.8031919"
       ]
      },
      {
       "output_type": "stream",
       "stream": "stdout",
       "text": [
        "\n",
        "564.372277975"
       ]
      },
      {
       "output_type": "stream",
       "stream": "stdout",
       "text": [
        "\n",
        "568.285619974"
       ]
      },
      {
       "output_type": "stream",
       "stream": "stdout",
       "text": [
        "\n",
        "571.860888958"
       ]
      },
      {
       "output_type": "stream",
       "stream": "stdout",
       "text": [
        "\n",
        "575.429641008"
       ]
      },
      {
       "output_type": "stream",
       "stream": "stdout",
       "text": [
        "\n",
        "578.992053986"
       ]
      },
      {
       "output_type": "stream",
       "stream": "stdout",
       "text": [
        "\n",
        "582.875461102"
       ]
      },
      {
       "output_type": "stream",
       "stream": "stdout",
       "text": [
        "\n",
        "587.037395"
       ]
      },
      {
       "output_type": "stream",
       "stream": "stdout",
       "text": [
        "\n",
        "591.030207872"
       ]
      },
      {
       "output_type": "stream",
       "stream": "stdout",
       "text": [
        "\n",
        "594.646928072"
       ]
      },
      {
       "output_type": "stream",
       "stream": "stdout",
       "text": [
        "\n",
        "598.289927959"
       ]
      },
      {
       "output_type": "stream",
       "stream": "stdout",
       "text": [
        "\n",
        "601.869740009"
       ]
      },
      {
       "output_type": "stream",
       "stream": "stdout",
       "text": [
        "\n",
        "605.471980095"
       ]
      },
      {
       "output_type": "stream",
       "stream": "stdout",
       "text": [
        "\n",
        "609.07506299"
       ]
      },
      {
       "output_type": "stream",
       "stream": "stdout",
       "text": [
        "\n",
        "613.054327965"
       ]
      },
      {
       "output_type": "stream",
       "stream": "stdout",
       "text": [
        "\n",
        "616.636588097"
       ]
      },
      {
       "output_type": "stream",
       "stream": "stdout",
       "text": [
        "\n",
        "620.265526056"
       ]
      },
      {
       "output_type": "stream",
       "stream": "stdout",
       "text": [
        "\n",
        "623.880763054"
       ]
      },
      {
       "output_type": "stream",
       "stream": "stdout",
       "text": [
        "\n",
        "627.486521959"
       ]
      },
      {
       "output_type": "stream",
       "stream": "stdout",
       "text": [
        "\n",
        "631.109858036"
       ]
      },
      {
       "output_type": "stream",
       "stream": "stdout",
       "text": [
        "\n",
        "634.739113092"
       ]
      },
      {
       "output_type": "stream",
       "stream": "stdout",
       "text": [
        "\n",
        "638.361500025"
       ]
      },
      {
       "output_type": "stream",
       "stream": "stdout",
       "text": [
        "\n",
        "641.987052917"
       ]
      },
      {
       "output_type": "stream",
       "stream": "stdout",
       "text": [
        "\n",
        "645.598776102"
       ]
      },
      {
       "output_type": "stream",
       "stream": "stdout",
       "text": [
        "\n",
        "649.217500925"
       ]
      },
      {
       "output_type": "stream",
       "stream": "stdout",
       "text": [
        "\n",
        "652.833628893"
       ]
      },
      {
       "output_type": "stream",
       "stream": "stdout",
       "text": [
        "\n",
        "656.495133877"
       ]
      },
      {
       "output_type": "stream",
       "stream": "stdout",
       "text": [
        "\n",
        "660.101173878"
       ]
      },
      {
       "output_type": "stream",
       "stream": "stdout",
       "text": [
        "\n",
        "663.700892925"
       ]
      },
      {
       "output_type": "stream",
       "stream": "stdout",
       "text": [
        "\n",
        "667.320316076"
       ]
      },
      {
       "output_type": "stream",
       "stream": "stdout",
       "text": [
        "\n",
        "670.923834085"
       ]
      },
      {
       "output_type": "stream",
       "stream": "stdout",
       "text": [
        "\n",
        "674.520814896"
       ]
      },
      {
       "output_type": "stream",
       "stream": "stdout",
       "text": [
        "\n",
        "678.14253211"
       ]
      },
      {
       "output_type": "stream",
       "stream": "stdout",
       "text": [
        "\n",
        "681.75722599"
       ]
      },
      {
       "output_type": "stream",
       "stream": "stdout",
       "text": [
        "\n",
        "685.353205919"
       ]
      },
      {
       "output_type": "stream",
       "stream": "stdout",
       "text": [
        "\n",
        "688.939112902"
       ]
      },
      {
       "output_type": "stream",
       "stream": "stdout",
       "text": [
        "\n",
        "692.712752104"
       ]
      },
      {
       "output_type": "stream",
       "stream": "stdout",
       "text": [
        "\n",
        "696.860249043"
       ]
      },
      {
       "output_type": "stream",
       "stream": "stdout",
       "text": [
        "\n",
        "700.563631058"
       ]
      },
      {
       "output_type": "stream",
       "stream": "stdout",
       "text": [
        "\n",
        "704.196436882"
       ]
      },
      {
       "output_type": "stream",
       "stream": "stdout",
       "text": [
        "\n",
        "707.875114918"
       ]
      },
      {
       "output_type": "stream",
       "stream": "stdout",
       "text": [
        "\n",
        "711.520596027"
       ]
      },
      {
       "output_type": "stream",
       "stream": "stdout",
       "text": [
        "\n",
        "715.149300098"
       ]
      },
      {
       "output_type": "stream",
       "stream": "stdout",
       "text": [
        "\n",
        "718.770611048"
       ]
      },
      {
       "output_type": "stream",
       "stream": "stdout",
       "text": [
        "\n",
        "722.416838884"
       ]
      },
      {
       "output_type": "stream",
       "stream": "stdout",
       "text": [
        "\n",
        "726.062894106"
       ]
      },
      {
       "output_type": "stream",
       "stream": "stdout",
       "text": [
        "\n",
        "730.156426907"
       ]
      },
      {
       "output_type": "stream",
       "stream": "stdout",
       "text": [
        "\n",
        "734.263797998"
       ]
      },
      {
       "output_type": "stream",
       "stream": "stdout",
       "text": [
        "\n",
        "738.0886271"
       ]
      },
      {
       "output_type": "stream",
       "stream": "stdout",
       "text": [
        "\n",
        "741.703840971"
       ]
      },
      {
       "output_type": "stream",
       "stream": "stdout",
       "text": [
        "\n",
        "745.330059052"
       ]
      },
      {
       "output_type": "stream",
       "stream": "stdout",
       "text": [
        "\n",
        "748.931730986"
       ]
      },
      {
       "output_type": "stream",
       "stream": "stdout",
       "text": [
        "\n",
        "752.551107883"
       ]
      },
      {
       "output_type": "stream",
       "stream": "stdout",
       "text": [
        "\n",
        "756.163683891"
       ]
      },
      {
       "output_type": "stream",
       "stream": "stdout",
       "text": [
        "\n",
        "759.758159876"
       ]
      },
      {
       "output_type": "stream",
       "stream": "stdout",
       "text": [
        "\n",
        "763.731353998"
       ]
      },
      {
       "output_type": "stream",
       "stream": "stdout",
       "text": [
        "\n",
        "767.454493999"
       ]
      },
      {
       "output_type": "stream",
       "stream": "stdout",
       "text": [
        "\n",
        "771.081155062"
       ]
      },
      {
       "output_type": "stream",
       "stream": "stdout",
       "text": [
        "\n",
        "774.930685997"
       ]
      },
      {
       "output_type": "stream",
       "stream": "stdout",
       "text": [
        "\n",
        "778.973741055"
       ]
      },
      {
       "output_type": "stream",
       "stream": "stdout",
       "text": [
        "\n",
        "782.597799063"
       ]
      },
      {
       "output_type": "stream",
       "stream": "stdout",
       "text": [
        "\n",
        "786.325818062"
       ]
      },
      {
       "output_type": "stream",
       "stream": "stdout",
       "text": [
        "\n",
        "789.953875065"
       ]
      },
      {
       "output_type": "stream",
       "stream": "stdout",
       "text": [
        "\n",
        "793.581834078"
       ]
      },
      {
       "output_type": "stream",
       "stream": "stdout",
       "text": [
        "\n",
        "797.194204092"
       ]
      },
      {
       "output_type": "stream",
       "stream": "stdout",
       "text": [
        "\n",
        "800.825795889"
       ]
      },
      {
       "output_type": "stream",
       "stream": "stdout",
       "text": [
        "\n",
        "804.469182014"
       ]
      },
      {
       "output_type": "stream",
       "stream": "stdout",
       "text": [
        "\n",
        "808.096642971"
       ]
      },
      {
       "output_type": "stream",
       "stream": "stdout",
       "text": [
        "\n",
        "811.734709978"
       ]
      },
      {
       "output_type": "stream",
       "stream": "stdout",
       "text": [
        "\n",
        "815.381172895"
       ]
      },
      {
       "output_type": "stream",
       "stream": "stdout",
       "text": [
        "\n",
        "819.025753975"
       ]
      },
      {
       "output_type": "stream",
       "stream": "stdout",
       "text": [
        "\n",
        "822.676590919"
       ]
      },
      {
       "output_type": "stream",
       "stream": "stdout",
       "text": [
        "\n",
        "826.311193943"
       ]
      },
      {
       "output_type": "stream",
       "stream": "stdout",
       "text": [
        "\n",
        "829.962624073"
       ]
      },
      {
       "output_type": "stream",
       "stream": "stdout",
       "text": [
        "\n",
        "833.614347935"
       ]
      },
      {
       "output_type": "stream",
       "stream": "stdout",
       "text": [
        "\n",
        "837.242917061"
       ]
      },
      {
       "output_type": "stream",
       "stream": "stdout",
       "text": [
        "\n",
        "840.879200935"
       ]
      },
      {
       "output_type": "stream",
       "stream": "stdout",
       "text": [
        "\n",
        "844.515970945"
       ]
      },
      {
       "output_type": "stream",
       "stream": "stdout",
       "text": [
        "\n",
        "848.159934044"
       ]
      },
      {
       "output_type": "stream",
       "stream": "stdout",
       "text": [
        "\n",
        "851.785363913"
       ]
      },
      {
       "output_type": "stream",
       "stream": "stdout",
       "text": [
        "\n",
        "855.408477068"
       ]
      },
      {
       "output_type": "stream",
       "stream": "stdout",
       "text": [
        "\n",
        "859.03105402"
       ]
      },
      {
       "output_type": "stream",
       "stream": "stdout",
       "text": [
        "\n",
        "862.638961077"
       ]
      },
      {
       "output_type": "stream",
       "stream": "stdout",
       "text": [
        "\n",
        "866.291208029"
       ]
      },
      {
       "output_type": "stream",
       "stream": "stdout",
       "text": [
        "\n",
        "869.929433107"
       ]
      },
      {
       "output_type": "stream",
       "stream": "stdout",
       "text": [
        "\n",
        "873.568551064"
       ]
      },
      {
       "output_type": "stream",
       "stream": "stdout",
       "text": [
        "\n",
        "877.214359999"
       ]
      },
      {
       "output_type": "stream",
       "stream": "stdout",
       "text": [
        "\n",
        "880.854583979"
       ]
      },
      {
       "output_type": "stream",
       "stream": "stdout",
       "text": [
        "\n",
        "884.488986969"
       ]
      },
      {
       "output_type": "stream",
       "stream": "stdout",
       "text": [
        "\n",
        "888.140850067"
       ]
      },
      {
       "output_type": "stream",
       "stream": "stdout",
       "text": [
        "\n",
        "891.760786057"
       ]
      },
      {
       "output_type": "stream",
       "stream": "stdout",
       "text": [
        "\n",
        "895.383517027"
       ]
      },
      {
       "output_type": "stream",
       "stream": "stdout",
       "text": [
        "\n",
        "899.033102989"
       ]
      },
      {
       "output_type": "stream",
       "stream": "stdout",
       "text": [
        "\n",
        "902.657970905"
       ]
      },
      {
       "output_type": "stream",
       "stream": "stdout",
       "text": [
        "\n",
        "906.305881023"
       ]
      },
      {
       "output_type": "stream",
       "stream": "stdout",
       "text": [
        "\n",
        "909.965156078"
       ]
      },
      {
       "output_type": "stream",
       "stream": "stdout",
       "text": [
        "\n",
        "913.618577003"
       ]
      },
      {
       "output_type": "stream",
       "stream": "stdout",
       "text": [
        "\n",
        "917.274350882"
       ]
      },
      {
       "output_type": "stream",
       "stream": "stdout",
       "text": [
        "\n",
        "920.881530046"
       ]
      },
      {
       "output_type": "stream",
       "stream": "stdout",
       "text": [
        "\n",
        "924.496329069"
       ]
      },
      {
       "output_type": "stream",
       "stream": "stdout",
       "text": [
        "\n",
        "928.148406029"
       ]
      },
      {
       "output_type": "stream",
       "stream": "stdout",
       "text": [
        "\n",
        "931.7927351"
       ]
      },
      {
       "output_type": "stream",
       "stream": "stdout",
       "text": [
        "\n",
        "935.431387901"
       ]
      },
      {
       "output_type": "stream",
       "stream": "stdout",
       "text": [
        "\n",
        "939.079041958"
       ]
      },
      {
       "output_type": "stream",
       "stream": "stdout",
       "text": [
        "\n",
        "942.720401049"
       ]
      },
      {
       "output_type": "stream",
       "stream": "stdout",
       "text": [
        "\n",
        "946.392237902"
       ]
      },
      {
       "output_type": "stream",
       "stream": "stdout",
       "text": [
        "\n",
        "950.053787947"
       ]
      },
      {
       "output_type": "stream",
       "stream": "stdout",
       "text": [
        "\n",
        "953.705246925"
       ]
      },
      {
       "output_type": "stream",
       "stream": "stdout",
       "text": [
        "\n",
        "957.379277945"
       ]
      },
      {
       "output_type": "stream",
       "stream": "stdout",
       "text": [
        "\n",
        "961.000873089"
       ]
      },
      {
       "output_type": "stream",
       "stream": "stdout",
       "text": [
        "\n",
        "964.654469967"
       ]
      },
      {
       "output_type": "stream",
       "stream": "stdout",
       "text": [
        "\n",
        "968.300860882"
       ]
      },
      {
       "output_type": "stream",
       "stream": "stdout",
       "text": [
        "\n",
        "971.940313101"
       ]
      },
      {
       "output_type": "stream",
       "stream": "stdout",
       "text": [
        "\n",
        "975.585690975"
       ]
      },
      {
       "output_type": "stream",
       "stream": "stdout",
       "text": [
        "\n",
        "979.326644897"
       ]
      },
      {
       "output_type": "stream",
       "stream": "stdout",
       "text": [
        "\n",
        "983.102948904"
       ]
      },
      {
       "output_type": "stream",
       "stream": "stdout",
       "text": [
        "\n",
        "986.854845047"
       ]
      },
      {
       "output_type": "stream",
       "stream": "stdout",
       "text": [
        "\n",
        "990.643671989"
       ]
      },
      {
       "output_type": "stream",
       "stream": "stdout",
       "text": [
        "\n",
        "994.408426046"
       ]
      },
      {
       "output_type": "stream",
       "stream": "stdout",
       "text": [
        "\n",
        "998.183902979"
       ]
      },
      {
       "output_type": "stream",
       "stream": "stdout",
       "text": [
        "\n",
        "1001.94860411"
       ]
      },
      {
       "output_type": "stream",
       "stream": "stdout",
       "text": [
        "\n",
        "1005.74495602"
       ]
      },
      {
       "output_type": "stream",
       "stream": "stdout",
       "text": [
        "\n",
        "1009.4145999"
       ]
      },
      {
       "output_type": "stream",
       "stream": "stdout",
       "text": [
        "\n",
        "1013.09161711"
       ]
      },
      {
       "output_type": "stream",
       "stream": "stdout",
       "text": [
        "\n",
        "1016.74423003"
       ]
      },
      {
       "output_type": "stream",
       "stream": "stdout",
       "text": [
        "\n",
        "1020.3445611"
       ]
      },
      {
       "output_type": "stream",
       "stream": "stdout",
       "text": [
        "\n",
        "1023.9893899"
       ]
      },
      {
       "output_type": "stream",
       "stream": "stdout",
       "text": [
        "\n",
        "1028.0179069"
       ]
      },
      {
       "output_type": "stream",
       "stream": "stdout",
       "text": [
        "\n",
        "1031.64524603"
       ]
      },
      {
       "output_type": "stream",
       "stream": "stdout",
       "text": [
        "\n",
        "1036.06086898"
       ]
      },
      {
       "output_type": "stream",
       "stream": "stdout",
       "text": [
        "\n",
        "1039.874933"
       ]
      },
      {
       "output_type": "stream",
       "stream": "stdout",
       "text": [
        "\n",
        "1043.90555191"
       ]
      },
      {
       "output_type": "stream",
       "stream": "stdout",
       "text": [
        "\n",
        "1047.59174395"
       ]
      },
      {
       "output_type": "stream",
       "stream": "stdout",
       "text": [
        "\n",
        "1051.22487688"
       ]
      },
      {
       "output_type": "stream",
       "stream": "stdout",
       "text": [
        "\n",
        "1054.93025804"
       ]
      },
      {
       "output_type": "stream",
       "stream": "stdout",
       "text": [
        "\n",
        "1058.58161211"
       ]
      },
      {
       "output_type": "stream",
       "stream": "stdout",
       "text": [
        "\n",
        "1062.22259498"
       ]
      },
      {
       "output_type": "stream",
       "stream": "stdout",
       "text": [
        "\n",
        "1065.88244796"
       ]
      },
      {
       "output_type": "stream",
       "stream": "stdout",
       "text": [
        "\n",
        "1069.53313589"
       ]
      },
      {
       "output_type": "stream",
       "stream": "stdout",
       "text": [
        "\n",
        "1073.18140793"
       ]
      },
      {
       "output_type": "stream",
       "stream": "stdout",
       "text": [
        "\n",
        "1076.81556892"
       ]
      },
      {
       "output_type": "stream",
       "stream": "stdout",
       "text": [
        "\n",
        "1080.46382499"
       ]
      },
      {
       "output_type": "stream",
       "stream": "stdout",
       "text": [
        "\n",
        "1084.08390307"
       ]
      },
      {
       "output_type": "stream",
       "stream": "stdout",
       "text": [
        "\n",
        "1087.72242188"
       ]
      },
      {
       "output_type": "stream",
       "stream": "stdout",
       "text": [
        "\n",
        "1091.35823989"
       ]
      },
      {
       "output_type": "stream",
       "stream": "stdout",
       "text": [
        "\n",
        "1095.02438688"
       ]
      },
      {
       "output_type": "stream",
       "stream": "stdout",
       "text": [
        "\n",
        "1098.63948798"
       ]
      },
      {
       "output_type": "stream",
       "stream": "stdout",
       "text": [
        "\n",
        "1102.25896001"
       ]
      },
      {
       "output_type": "stream",
       "stream": "stdout",
       "text": [
        "\n",
        "1105.895365"
       ]
      },
      {
       "output_type": "stream",
       "stream": "stdout",
       "text": [
        "\n",
        "1109.52996397"
       ]
      },
      {
       "output_type": "stream",
       "stream": "stdout",
       "text": [
        "\n",
        "1113.34363008"
       ]
      },
      {
       "output_type": "stream",
       "stream": "stdout",
       "text": [
        "\n",
        "1116.95597696"
       ]
      },
      {
       "output_type": "stream",
       "stream": "stdout",
       "text": [
        "\n",
        "1120.56932402"
       ]
      },
      {
       "output_type": "stream",
       "stream": "stdout",
       "text": [
        "\n",
        "1124.18434095"
       ]
      },
      {
       "output_type": "stream",
       "stream": "stdout",
       "text": [
        "\n",
        "1127.8296299"
       ]
      },
      {
       "output_type": "stream",
       "stream": "stdout",
       "text": [
        "\n",
        "1131.47995591"
       ]
      },
      {
       "output_type": "stream",
       "stream": "stdout",
       "text": [
        "\n",
        "1135.08247399"
       ]
      },
      {
       "output_type": "stream",
       "stream": "stdout",
       "text": [
        "\n",
        "1138.6926949"
       ]
      },
      {
       "output_type": "stream",
       "stream": "stdout",
       "text": [
        "\n",
        "1142.29833007"
       ]
      },
      {
       "output_type": "stream",
       "stream": "stdout",
       "text": [
        "\n",
        "1145.89633703"
       ]
      },
      {
       "output_type": "stream",
       "stream": "stdout",
       "text": [
        "\n",
        "1149.50794601"
       ]
      },
      {
       "output_type": "stream",
       "stream": "stdout",
       "text": [
        "\n",
        "1153.12445092"
       ]
      },
      {
       "output_type": "stream",
       "stream": "stdout",
       "text": [
        "\n",
        "1156.77248096"
       ]
      },
      {
       "output_type": "stream",
       "stream": "stdout",
       "text": [
        "\n",
        "1160.38653493"
       ]
      },
      {
       "output_type": "stream",
       "stream": "stdout",
       "text": [
        "\n",
        "1163.99576092"
       ]
      },
      {
       "output_type": "stream",
       "stream": "stdout",
       "text": [
        "\n",
        "1167.61280203"
       ]
      },
      {
       "output_type": "stream",
       "stream": "stdout",
       "text": [
        "\n",
        "1171.19158101"
       ]
      },
      {
       "output_type": "stream",
       "stream": "stdout",
       "text": [
        "\n",
        "1174.82309508"
       ]
      },
      {
       "output_type": "stream",
       "stream": "stdout",
       "text": [
        "\n",
        "1178.44197607"
       ]
      },
      {
       "output_type": "stream",
       "stream": "stdout",
       "text": [
        "\n",
        "1182.07927799"
       ]
      },
      {
       "output_type": "stream",
       "stream": "stdout",
       "text": [
        "\n",
        "1185.70676899"
       ]
      },
      {
       "output_type": "stream",
       "stream": "stdout",
       "text": [
        "\n",
        "1189.33633089"
       ]
      },
      {
       "output_type": "stream",
       "stream": "stdout",
       "text": [
        "\n",
        "1192.96859694"
       ]
      },
      {
       "output_type": "stream",
       "stream": "stdout",
       "text": [
        "\n",
        "1196.66712189"
       ]
      },
      {
       "output_type": "stream",
       "stream": "stdout",
       "text": [
        "\n",
        "1200.77819204"
       ]
      },
      {
       "output_type": "stream",
       "stream": "stdout",
       "text": [
        "\n",
        "1204.41080308"
       ]
      },
      {
       "output_type": "stream",
       "stream": "stdout",
       "text": [
        "\n",
        "1208.04598188"
       ]
      },
      {
       "output_type": "stream",
       "stream": "stdout",
       "text": [
        "\n",
        "1211.66770411"
       ]
      },
      {
       "output_type": "stream",
       "stream": "stdout",
       "text": [
        "\n",
        "1215.2917459"
       ]
      },
      {
       "output_type": "stream",
       "stream": "stdout",
       "text": [
        "\n",
        "1218.93371511"
       ]
      },
      {
       "output_type": "stream",
       "stream": "stdout",
       "text": [
        "\n",
        "1222.56349206"
       ]
      },
      {
       "output_type": "stream",
       "stream": "stdout",
       "text": [
        "\n",
        "1226.19785094"
       ]
      },
      {
       "output_type": "stream",
       "stream": "stdout",
       "text": [
        "\n",
        "1229.83024001"
       ]
      },
      {
       "output_type": "stream",
       "stream": "stdout",
       "text": [
        "\n",
        "1233.47185707"
       ]
      },
      {
       "output_type": "stream",
       "stream": "stdout",
       "text": [
        "\n",
        "1237.23919988"
       ]
      },
      {
       "output_type": "stream",
       "stream": "stdout",
       "text": [
        "\n",
        "1241.08148909"
       ]
      },
      {
       "output_type": "stream",
       "stream": "stdout",
       "text": [
        "\n",
        "1244.71849608"
       ]
      },
      {
       "output_type": "stream",
       "stream": "stdout",
       "text": [
        "\n",
        "1248.35158706"
       ]
      },
      {
       "output_type": "stream",
       "stream": "stdout",
       "text": [
        "\n",
        "1251.96981096"
       ]
      },
      {
       "output_type": "stream",
       "stream": "stdout",
       "text": [
        "\n",
        "1255.60195208"
       ]
      },
      {
       "output_type": "stream",
       "stream": "stdout",
       "text": [
        "\n",
        "1259.23582292"
       ]
      },
      {
       "output_type": "stream",
       "stream": "stdout",
       "text": [
        "\n",
        "1262.86972499"
       ]
      },
      {
       "output_type": "stream",
       "stream": "stdout",
       "text": [
        "\n",
        "1266.50626588"
       ]
      },
      {
       "output_type": "stream",
       "stream": "stdout",
       "text": [
        "\n",
        "1270.2006309"
       ]
      },
      {
       "output_type": "stream",
       "stream": "stdout",
       "text": [
        "\n",
        "1273.91525102"
       ]
      },
      {
       "output_type": "stream",
       "stream": "stdout",
       "text": [
        "\n",
        "1277.69216609"
       ]
      },
      {
       "output_type": "stream",
       "stream": "stdout",
       "text": [
        "\n",
        "1281.4467001"
       ]
      },
      {
       "output_type": "stream",
       "stream": "stdout",
       "text": [
        "\n",
        "1285.20703197"
       ]
      },
      {
       "output_type": "stream",
       "stream": "stdout",
       "text": [
        "\n",
        "1288.94965911"
       ]
      },
      {
       "output_type": "stream",
       "stream": "stdout",
       "text": [
        "\n",
        "1292.70818806"
       ]
      },
      {
       "output_type": "stream",
       "stream": "stdout",
       "text": [
        "\n",
        "1296.44515204"
       ]
      },
      {
       "output_type": "stream",
       "stream": "stdout",
       "text": [
        "\n",
        "1300.22883511"
       ]
      },
      {
       "output_type": "stream",
       "stream": "stdout",
       "text": [
        "\n",
        "1303.97543907"
       ]
      },
      {
       "output_type": "stream",
       "stream": "stdout",
       "text": [
        "\n",
        "1307.73436904"
       ]
      },
      {
       "output_type": "stream",
       "stream": "stdout",
       "text": [
        "\n",
        "1311.47984195"
       ]
      },
      {
       "output_type": "stream",
       "stream": "stdout",
       "text": [
        "\n",
        "1315.23406005"
       ]
      },
      {
       "output_type": "stream",
       "stream": "stdout",
       "text": [
        "\n",
        "1318.98541999"
       ]
      },
      {
       "output_type": "stream",
       "stream": "stdout",
       "text": [
        "\n",
        "1322.73106003"
       ]
      },
      {
       "output_type": "stream",
       "stream": "stdout",
       "text": [
        "\n",
        "1326.4745729"
       ]
      },
      {
       "output_type": "stream",
       "stream": "stdout",
       "text": [
        "\n",
        "1330.23740292"
       ]
      },
      {
       "output_type": "stream",
       "stream": "stdout",
       "text": [
        "\n",
        "1334.00622988"
       ]
      },
      {
       "output_type": "stream",
       "stream": "stdout",
       "text": [
        "\n",
        "1337.76730299"
       ]
      },
      {
       "output_type": "stream",
       "stream": "stdout",
       "text": [
        "\n",
        "1341.54630303"
       ]
      },
      {
       "output_type": "stream",
       "stream": "stdout",
       "text": [
        "\n",
        "1346.04085803"
       ]
      },
      {
       "output_type": "stream",
       "stream": "stdout",
       "text": [
        "\n",
        "1350.14079309"
       ]
      },
      {
       "output_type": "stream",
       "stream": "stdout",
       "text": [
        "\n",
        "1353.75385404"
       ]
      },
      {
       "output_type": "stream",
       "stream": "stdout",
       "text": [
        "\n",
        "1357.36509204"
       ]
      },
      {
       "output_type": "stream",
       "stream": "stdout",
       "text": [
        "\n",
        "1360.99201393"
       ]
      },
      {
       "output_type": "stream",
       "stream": "stdout",
       "text": [
        "\n",
        "1364.60483003"
       ]
      },
      {
       "output_type": "stream",
       "stream": "stdout",
       "text": [
        "\n",
        "1368.2210021"
       ]
      },
      {
       "output_type": "stream",
       "stream": "stdout",
       "text": [
        "\n",
        "1371.85420489"
       ]
      },
      {
       "output_type": "stream",
       "stream": "stdout",
       "text": [
        "\n",
        "1375.47096395"
       ]
      },
      {
       "output_type": "stream",
       "stream": "stdout",
       "text": [
        "\n",
        "1379.082901"
       ]
      },
      {
       "output_type": "stream",
       "stream": "stdout",
       "text": [
        "\n",
        "1382.66372299"
       ]
      },
      {
       "output_type": "stream",
       "stream": "stdout",
       "text": [
        "\n",
        "1386.29458904"
       ]
      },
      {
       "output_type": "stream",
       "stream": "stdout",
       "text": [
        "\n",
        "1389.94418788"
       ]
      },
      {
       "output_type": "stream",
       "stream": "stdout",
       "text": [
        "\n",
        "1393.5869379"
       ]
      },
      {
       "output_type": "stream",
       "stream": "stdout",
       "text": [
        "\n",
        "1397.25559807"
       ]
      },
      {
       "output_type": "stream",
       "stream": "stdout",
       "text": [
        "\n",
        "1400.88702893"
       ]
      },
      {
       "output_type": "stream",
       "stream": "stdout",
       "text": [
        "\n",
        "1404.54230309"
       ]
      },
      {
       "output_type": "stream",
       "stream": "stdout",
       "text": [
        "\n",
        "1408.19038391"
       ]
      },
      {
       "output_type": "stream",
       "stream": "stdout",
       "text": [
        "\n",
        "1411.83908105"
       ]
      },
      {
       "output_type": "stream",
       "stream": "stdout",
       "text": [
        "\n",
        "1415.46771407"
       ]
      },
      {
       "output_type": "stream",
       "stream": "stdout",
       "text": [
        "\n",
        "1419.13668203"
       ]
      },
      {
       "output_type": "stream",
       "stream": "stdout",
       "text": [
        "\n",
        "1422.81282997"
       ]
      },
      {
       "output_type": "stream",
       "stream": "stdout",
       "text": [
        "\n",
        "1426.45314288"
       ]
      },
      {
       "output_type": "stream",
       "stream": "stdout",
       "text": [
        "\n",
        "1430.09858298"
       ]
      },
      {
       "output_type": "stream",
       "stream": "stdout",
       "text": [
        "\n",
        "1433.741153"
       ]
      },
      {
       "output_type": "stream",
       "stream": "stdout",
       "text": [
        "\n",
        "1437.43610597"
       ]
      },
      {
       "output_type": "stream",
       "stream": "stdout",
       "text": [
        "\n",
        "1441.09610391"
       ]
      },
      {
       "output_type": "stream",
       "stream": "stdout",
       "text": [
        "\n",
        "1444.77125096"
       ]
      },
      {
       "output_type": "stream",
       "stream": "stdout",
       "text": [
        "\n",
        "1448.58983707"
       ]
      },
      {
       "output_type": "stream",
       "stream": "stdout",
       "text": [
        "\n",
        "1452.76127005"
       ]
      },
      {
       "output_type": "stream",
       "stream": "stdout",
       "text": [
        "\n",
        "1456.37795997"
       ]
      },
      {
       "output_type": "stream",
       "stream": "stdout",
       "text": [
        "\n",
        "1459.9989419"
       ]
      },
      {
       "output_type": "stream",
       "stream": "stdout",
       "text": [
        "\n",
        "1463.62074089"
       ]
      },
      {
       "output_type": "stream",
       "stream": "stdout",
       "text": [
        "\n",
        "1467.34963799"
       ]
      },
      {
       "output_type": "stream",
       "stream": "stdout",
       "text": [
        "\n",
        "1470.96746588"
       ]
      },
      {
       "output_type": "stream",
       "stream": "stdout",
       "text": [
        "\n",
        "1474.59349608"
       ]
      },
      {
       "output_type": "stream",
       "stream": "stdout",
       "text": [
        "\n",
        "1478.1692059"
       ]
      },
      {
       "output_type": "stream",
       "stream": "stdout",
       "text": [
        "\n",
        "1481.79582691"
       ]
      },
      {
       "output_type": "stream",
       "stream": "stdout",
       "text": [
        "\n",
        "1485.40563297"
       ]
      },
      {
       "output_type": "stream",
       "stream": "stdout",
       "text": [
        "\n",
        "1489.02614093"
       ]
      },
      {
       "output_type": "stream",
       "stream": "stdout",
       "text": [
        "\n",
        "1492.63907194"
       ]
      },
      {
       "output_type": "stream",
       "stream": "stdout",
       "text": [
        "\n",
        "1496.26139307"
       ]
      },
      {
       "output_type": "stream",
       "stream": "stdout",
       "text": [
        "\n",
        "1499.88366508"
       ]
      },
      {
       "output_type": "stream",
       "stream": "stdout",
       "text": [
        "\n",
        "1503.50321388"
       ]
      },
      {
       "output_type": "stream",
       "stream": "stdout",
       "text": [
        "\n",
        "1507.12086606"
       ]
      },
      {
       "output_type": "stream",
       "stream": "stdout",
       "text": [
        "\n",
        "1510.74684691"
       ]
      },
      {
       "output_type": "stream",
       "stream": "stdout",
       "text": [
        "\n",
        "1514.37251401"
       ]
      },
      {
       "output_type": "stream",
       "stream": "stdout",
       "text": [
        "\n",
        "1517.98592401"
       ]
      },
      {
       "output_type": "stream",
       "stream": "stdout",
       "text": [
        "\n",
        "1521.60773396"
       ]
      },
      {
       "output_type": "stream",
       "stream": "stdout",
       "text": [
        "\n",
        "1525.23572803"
       ]
      },
      {
       "output_type": "stream",
       "stream": "stdout",
       "text": [
        "\n",
        "1529.17685795"
       ]
      },
      {
       "output_type": "stream",
       "stream": "stdout",
       "text": [
        "\n",
        "1533.1711781"
       ]
      },
      {
       "output_type": "stream",
       "stream": "stdout",
       "text": [
        "\n",
        "1536.80074406"
       ]
      },
      {
       "output_type": "stream",
       "stream": "stdout",
       "text": [
        "\n",
        "1540.40931797"
       ]
      },
      {
       "output_type": "stream",
       "stream": "stdout",
       "text": [
        "\n",
        "1544.03472805"
       ]
      },
      {
       "output_type": "stream",
       "stream": "stdout",
       "text": [
        "\n",
        "1547.66617799"
       ]
      },
      {
       "output_type": "stream",
       "stream": "stdout",
       "text": [
        "\n",
        "1551.28108311"
       ]
      },
      {
       "output_type": "stream",
       "stream": "stdout",
       "text": [
        "\n",
        "1554.9169879"
       ]
      },
      {
       "output_type": "stream",
       "stream": "stdout",
       "text": [
        "\n",
        "1558.55980301"
       ]
      },
      {
       "output_type": "stream",
       "stream": "stdout",
       "text": [
        "\n",
        "1562.21243811"
       ]
      },
      {
       "output_type": "stream",
       "stream": "stdout",
       "text": [
        "\n",
        "1566.40407205"
       ]
      },
      {
       "output_type": "stream",
       "stream": "stdout",
       "text": [
        "\n",
        "1570.12004089"
       ]
      },
      {
       "output_type": "stream",
       "stream": "stdout",
       "text": [
        "\n",
        "1573.75418711"
       ]
      },
      {
       "output_type": "stream",
       "stream": "stdout",
       "text": [
        "\n",
        "1577.39393401"
       ]
      },
      {
       "output_type": "stream",
       "stream": "stdout",
       "text": [
        "\n",
        "1581.03548694"
       ]
      },
      {
       "output_type": "stream",
       "stream": "stdout",
       "text": [
        "\n",
        "1584.67918897"
       ]
      },
      {
       "output_type": "stream",
       "stream": "stdout",
       "text": [
        "\n",
        "1588.30407405"
       ]
      },
      {
       "output_type": "stream",
       "stream": "stdout",
       "text": [
        "\n",
        "1591.91346693"
       ]
      },
      {
       "output_type": "stream",
       "stream": "stdout",
       "text": [
        "\n",
        "1595.54375505"
       ]
      },
      {
       "output_type": "stream",
       "stream": "stdout",
       "text": [
        "\n",
        "1599.18032408"
       ]
      },
      {
       "output_type": "stream",
       "stream": "stdout",
       "text": [
        "\n",
        "1602.79554892"
       ]
      },
      {
       "output_type": "stream",
       "stream": "stdout",
       "text": [
        "\n",
        "1606.42420197"
       ]
      },
      {
       "output_type": "stream",
       "stream": "stdout",
       "text": [
        "\n",
        "1610.05941296"
       ]
      },
      {
       "output_type": "stream",
       "stream": "stdout",
       "text": [
        "\n",
        "1613.68395495"
       ]
      },
      {
       "output_type": "stream",
       "stream": "stdout",
       "text": [
        "\n",
        "1617.3147099"
       ]
      },
      {
       "output_type": "stream",
       "stream": "stdout",
       "text": [
        "\n",
        "1620.95243597"
       ]
      },
      {
       "output_type": "stream",
       "stream": "stdout",
       "text": [
        "\n",
        "1624.6336019"
       ]
      },
      {
       "output_type": "stream",
       "stream": "stdout",
       "text": [
        "\n",
        "1628.28389001"
       ]
      },
      {
       "output_type": "stream",
       "stream": "stdout",
       "text": [
        "\n",
        "1631.89903808"
       ]
      },
      {
       "output_type": "stream",
       "stream": "stdout",
       "text": [
        "\n",
        "1635.54257894"
       ]
      },
      {
       "output_type": "stream",
       "stream": "stdout",
       "text": [
        "\n",
        "1639.17718887"
       ]
      },
      {
       "output_type": "stream",
       "stream": "stdout",
       "text": [
        "\n",
        "1642.81395698"
       ]
      },
      {
       "output_type": "stream",
       "stream": "stdout",
       "text": [
        "\n",
        "1646.44231391"
       ]
      },
      {
       "output_type": "stream",
       "stream": "stdout",
       "text": [
        "\n",
        "1650.07695603"
       ]
      },
      {
       "output_type": "stream",
       "stream": "stdout",
       "text": [
        "\n",
        "1653.70372796"
       ]
      },
      {
       "output_type": "stream",
       "stream": "stdout",
       "text": [
        "\n",
        "1657.33440804"
       ]
      },
      {
       "output_type": "stream",
       "stream": "stdout",
       "text": [
        "\n",
        "1660.97156"
       ]
      },
      {
       "output_type": "stream",
       "stream": "stdout",
       "text": [
        "\n",
        "1664.58954"
       ]
      },
      {
       "output_type": "stream",
       "stream": "stdout",
       "text": [
        "\n",
        "1668.21971703"
       ]
      },
      {
       "output_type": "stream",
       "stream": "stdout",
       "text": [
        "\n",
        "1671.84512401"
       ]
      },
      {
       "output_type": "stream",
       "stream": "stdout",
       "text": [
        "\n",
        "1675.48069406"
       ]
      },
      {
       "output_type": "stream",
       "stream": "stdout",
       "text": [
        "\n",
        "1679.114604"
       ]
      },
      {
       "output_type": "stream",
       "stream": "stdout",
       "text": [
        "\n",
        "1682.73219609"
       ]
      },
      {
       "output_type": "stream",
       "stream": "stdout",
       "text": [
        "\n",
        "1686.36094594"
       ]
      },
      {
       "output_type": "stream",
       "stream": "stdout",
       "text": [
        "\n",
        "1690.44511199"
       ]
      },
      {
       "output_type": "stream",
       "stream": "stdout",
       "text": [
        "\n",
        "1694.47006893"
       ]
      },
      {
       "output_type": "stream",
       "stream": "stdout",
       "text": [
        "\n",
        "1698.09396291"
       ]
      },
      {
       "output_type": "stream",
       "stream": "stdout",
       "text": [
        "\n",
        "1701.73185396"
       ]
      },
      {
       "output_type": "stream",
       "stream": "stdout",
       "text": [
        "\n",
        "1705.37392306"
       ]
      },
      {
       "output_type": "stream",
       "stream": "stdout",
       "text": [
        "\n",
        "1709.02266693"
       ]
      },
      {
       "output_type": "stream",
       "stream": "stdout",
       "text": [
        "\n",
        "1712.67638898"
       ]
      },
      {
       "output_type": "stream",
       "stream": "stdout",
       "text": [
        "\n",
        "1716.31751895"
       ]
      },
      {
       "output_type": "stream",
       "stream": "stdout",
       "text": [
        "\n",
        "1719.97618008"
       ]
      },
      {
       "output_type": "stream",
       "stream": "stdout",
       "text": [
        "\n",
        "1723.75028706"
       ]
      },
      {
       "output_type": "stream",
       "stream": "stdout",
       "text": [
        "\n",
        "1727.53427911"
       ]
      },
      {
       "output_type": "stream",
       "stream": "stdout",
       "text": [
        "\n",
        "1731.31005788"
       ]
      },
      {
       "output_type": "stream",
       "stream": "stdout",
       "text": [
        "\n",
        "1735.10284305"
       ]
      },
      {
       "output_type": "stream",
       "stream": "stdout",
       "text": [
        "\n",
        "1738.87473893"
       ]
      },
      {
       "output_type": "stream",
       "stream": "stdout",
       "text": [
        "\n",
        "1742.66065001"
       ]
      },
      {
       "output_type": "stream",
       "stream": "stdout",
       "text": [
        "\n",
        "1746.50234199"
       ]
      },
      {
       "output_type": "stream",
       "stream": "stdout",
       "text": [
        "\n",
        "1750.3213141"
       ]
      },
      {
       "output_type": "stream",
       "stream": "stdout",
       "text": [
        "\n",
        "1754.26030588"
       ]
      },
      {
       "output_type": "stream",
       "stream": "stdout",
       "text": [
        "\n",
        "1758.35421991"
       ]
      },
      {
       "output_type": "stream",
       "stream": "stdout",
       "text": [
        "\n",
        "1762.12992787"
       ]
      },
      {
       "output_type": "stream",
       "stream": "stdout",
       "text": [
        "\n",
        "1765.90874505"
       ]
      },
      {
       "output_type": "stream",
       "stream": "stdout",
       "text": [
        "\n",
        "1769.67222691"
       ]
      },
      {
       "output_type": "stream",
       "stream": "stdout",
       "text": [
        "\n",
        "1773.44949102"
       ]
      },
      {
       "output_type": "stream",
       "stream": "stdout",
       "text": [
        "\n",
        "1777.22730207"
       ]
      },
      {
       "output_type": "stream",
       "stream": "stdout",
       "text": [
        "\n",
        "1781.01505089"
       ]
      },
      {
       "output_type": "stream",
       "stream": "stdout",
       "text": [
        "\n",
        "1784.73676491"
       ]
      },
      {
       "output_type": "stream",
       "stream": "stdout",
       "text": [
        "\n",
        "1788.79902291"
       ]
      },
      {
       "output_type": "stream",
       "stream": "stdout",
       "text": [
        "\n",
        "1792.59251308"
       ]
      },
      {
       "output_type": "stream",
       "stream": "stdout",
       "text": [
        "\n",
        "1796.44035792"
       ]
      },
      {
       "output_type": "stream",
       "stream": "stdout",
       "text": [
        "\n",
        "1800.74220204"
       ]
      },
      {
       "output_type": "stream",
       "stream": "stdout",
       "text": [
        "\n",
        "1804.49245501"
       ]
      },
      {
       "output_type": "stream",
       "stream": "stdout",
       "text": [
        "\n",
        "1808.27218103"
       ]
      },
      {
       "output_type": "stream",
       "stream": "stdout",
       "text": [
        "\n",
        "1812.17078209"
       ]
      },
      {
       "output_type": "stream",
       "stream": "stdout",
       "text": [
        "\n",
        "1815.81804705"
       ]
      },
      {
       "output_type": "stream",
       "stream": "stdout",
       "text": [
        "\n",
        "1819.92968988"
       ]
      },
      {
       "output_type": "stream",
       "stream": "stdout",
       "text": [
        "\n",
        "1824.55823088"
       ]
      },
      {
       "output_type": "stream",
       "stream": "stdout",
       "text": [
        "\n",
        "1828.22347689"
       ]
      },
      {
       "output_type": "stream",
       "stream": "stdout",
       "text": [
        "\n",
        "1832.14376593"
       ]
      },
      {
       "output_type": "stream",
       "stream": "stdout",
       "text": [
        "\n",
        "1836.09351397"
       ]
      },
      {
       "output_type": "stream",
       "stream": "stdout",
       "text": [
        "\n",
        "1839.73492599"
       ]
      },
      {
       "output_type": "stream",
       "stream": "stdout",
       "text": [
        "\n",
        "1843.43362594"
       ]
      },
      {
       "output_type": "stream",
       "stream": "stdout",
       "text": [
        "\n",
        "1847.10143209"
       ]
      },
      {
       "output_type": "stream",
       "stream": "stdout",
       "text": [
        "\n",
        "1850.77399397"
       ]
      },
      {
       "output_type": "stream",
       "stream": "stdout",
       "text": [
        "\n",
        "1854.43450809"
       ]
      },
      {
       "output_type": "stream",
       "stream": "stdout",
       "text": [
        "\n",
        "1860.08419204"
       ]
      },
      {
       "output_type": "stream",
       "stream": "stdout",
       "text": [
        "\n",
        "1864.09110498"
       ]
      },
      {
       "output_type": "stream",
       "stream": "stdout",
       "text": [
        "\n",
        "1867.82719088"
       ]
      },
      {
       "output_type": "stream",
       "stream": "stdout",
       "text": [
        "\n",
        "1871.47533607"
       ]
      },
      {
       "output_type": "stream",
       "stream": "stdout",
       "text": [
        "\n",
        "1875.11128807"
       ]
      },
      {
       "output_type": "stream",
       "stream": "stdout",
       "text": [
        "\n",
        "1878.70885205"
       ]
      },
      {
       "output_type": "stream",
       "stream": "stdout",
       "text": [
        "\n",
        "1882.260221"
       ]
      },
      {
       "output_type": "stream",
       "stream": "stdout",
       "text": [
        "\n",
        "1885.753304"
       ]
      },
      {
       "output_type": "stream",
       "stream": "stdout",
       "text": [
        "\n",
        "1889.46920705"
       ]
      },
      {
       "output_type": "stream",
       "stream": "stdout",
       "text": [
        "\n",
        "1893.35508895"
       ]
      },
      {
       "output_type": "stream",
       "stream": "stdout",
       "text": [
        "\n",
        "1897.29494095"
       ]
      },
      {
       "output_type": "stream",
       "stream": "stdout",
       "text": [
        "\n",
        "1900.78083897"
       ]
      },
      {
       "output_type": "stream",
       "stream": "stdout",
       "text": [
        "\n",
        "1904.26174903"
       ]
      },
      {
       "output_type": "stream",
       "stream": "stdout",
       "text": [
        "\n",
        "1907.73802996"
       ]
      },
      {
       "output_type": "stream",
       "stream": "stdout",
       "text": [
        "\n",
        "1911.21543789"
       ]
      },
      {
       "output_type": "stream",
       "stream": "stdout",
       "text": [
        "\n",
        "1914.70307803"
       ]
      },
      {
       "output_type": "stream",
       "stream": "stdout",
       "text": [
        "\n",
        "1918.19373488"
       ]
      },
      {
       "output_type": "stream",
       "stream": "stdout",
       "text": [
        "\n",
        "1921.66602111"
       ]
      },
      {
       "output_type": "stream",
       "stream": "stdout",
       "text": [
        "\n",
        "1925.15200591"
       ]
      },
      {
       "output_type": "stream",
       "stream": "stdout",
       "text": [
        "\n",
        "1928.74994588"
       ]
      },
      {
       "output_type": "stream",
       "stream": "stdout",
       "text": [
        "\n",
        "1932.79450703"
       ]
      },
      {
       "output_type": "stream",
       "stream": "stdout",
       "text": [
        "\n",
        "1936.27746391"
       ]
      },
      {
       "output_type": "stream",
       "stream": "stdout",
       "text": [
        "\n",
        "1939.75714207"
       ]
      },
      {
       "output_type": "stream",
       "stream": "stdout",
       "text": [
        "\n",
        "1943.26209807"
       ]
      },
      {
       "output_type": "stream",
       "stream": "stdout",
       "text": [
        "\n",
        "1946.7484951"
       ]
      },
      {
       "output_type": "stream",
       "stream": "stdout",
       "text": [
        "\n",
        "1950.23958302"
       ]
      },
      {
       "output_type": "stream",
       "stream": "stdout",
       "text": [
        "\n",
        "1953.72251797"
       ]
      },
      {
       "output_type": "stream",
       "stream": "stdout",
       "text": [
        "\n",
        "1957.19742799"
       ]
      },
      {
       "output_type": "stream",
       "stream": "stdout",
       "text": [
        "\n",
        "1960.68287206"
       ]
      },
      {
       "output_type": "stream",
       "stream": "stdout",
       "text": [
        "\n",
        "1964.33143592"
       ]
      },
      {
       "output_type": "stream",
       "stream": "stdout",
       "text": [
        "\n",
        "1968.21758103"
       ]
      },
      {
       "output_type": "stream",
       "stream": "stdout",
       "text": [
        "\n",
        "1971.69971609"
       ]
      },
      {
       "output_type": "stream",
       "stream": "stdout",
       "text": [
        "\n",
        "1975.19127297"
       ]
      },
      {
       "output_type": "stream",
       "stream": "stdout",
       "text": [
        "\n",
        "1977.74053192"
       ]
      },
      {
       "output_type": "stream",
       "stream": "stdout",
       "text": [
        "\n"
       ]
      }
     ],
     "prompt_number": 28
    },
    {
     "cell_type": "code",
     "collapsed": false,
     "input": [
      "if erstepunkte != None:\n",
      "    #weighting of linkers without flexible ends\n",
      "    if np.size(zweitepunkte, axis = 0) > 0:\n",
      "\n",
      "        MakeSmall, teiler = make_small_generator_offset([firstpointsflexible, secondpointsflexible, thirdpointsflexible,\n",
      "                                                 erstepunkte, zweitepunkte, drittepunkte],\n",
      "                                                zweitepunkte, 8 , RAMOFMACHINE , np.size(zweitepunkte, axis=0),\n",
      "                                                ProteinArray = pkte)\n",
      "\n",
      "\n",
      "\n",
      "        temp = weighing_function_rigids(anfangspunkt, erstepunkte[:teiler], zweitepunkte[:teiler],\n",
      "                                        drittepunkte[:teiler], endpunkt, pkte, InterestingAANr,\\\n",
      "                              ShouldBeWeighed, Weighingarray, substratelist)\n",
      "\n",
      "        knull = temp[0]\n",
      "        keins = temp[1]\n",
      "        kzwei = temp[2]\n",
      "        kdrei = temp[3]\n",
      "        kvier = temp[4]\n",
      "\n",
      "\n",
      "        for i in range(1, MakeSmall):\n",
      "            temp = weighing_function_rigids(anfangspunkt, erstepunkte[i * teiler:(i+1)*teiler],\n",
      "                                            zweitepunkte[i * teiler:(i+1)*teiler], \n",
      "                                            drittepunkte[i * teiler:(i+1)*teiler],\n",
      "                                            endpunkt, pkte, InterestingAANr, ShouldBeWeighed, Weighingarray, substratelist)\n",
      "\n",
      "            knull = np.concatenate((knull, temp[0]), axis =0)\n",
      "            keins = np.concatenate((keins, temp[1]), axis =0)\n",
      "            kzwei = np.concatenate((kzwei, temp[2]), axis =0)\n",
      "            kdrei = np.concatenate((kdrei, temp[3]), axis =0)\n",
      "            kvier = np.concatenate((kvier, temp[4]), axis =0)\n",
      "\n",
      "\n",
      "        if ((i+1) * teiler) < np.size(zweitepunkte, axis=0):\n",
      "            temp = weighing_function_rigids(anfangspunkt, erstepunkte[(i+1)*teiler:], \n",
      "                                            zweitepunkte[(i+1)*teiler:], drittepunkte[(i+1)*teiler: ],\n",
      "                                            endpunkt, pkte, InterestingAANr, ShouldBeWeighed, Weighingarray, substratelist)\n",
      "\n",
      "\n",
      "            knull = np.concatenate((knull, temp[0]), axis =0)\n",
      "            keins = np.concatenate((keins, temp[1]), axis =0)\n",
      "            kzwei = np.concatenate((kzwei, temp[2]), axis =0)\n",
      "            kdrei = np.concatenate((kdrei, temp[3]), axis =0)\n",
      "            kvier = np.concatenate((kvier, temp[4]), axis =0)\n",
      "\n",
      "\n",
      "\n",
      "\n",
      "        weightrig = np.array([knull, keins, kzwei, kdrei, kvier])\n",
      "        temp = None\n",
      "        knull = keins = kzwei = kdrei = kvier = None\n",
      "        #k = weightrig\n",
      "    else:\n",
      "        weightrig = None\n",
      "else:\n",
      "    weightrig = None"
     ],
     "language": "python",
     "metadata": {},
     "outputs": [],
     "prompt_number": 29
    },
    {
     "cell_type": "code",
     "collapsed": false,
     "input": [
      "\n",
      "pickle.dump((erstepunkte, zweitepunkte, drittepunkte, firstpointsflexible, secondpointsflexible, thirdpointsflexible,\n",
      "             weightrig, weightflex), \n",
      "            open(\"files/save{projectname}.p\".format(projectname = UserDefinedProjectName), \"wb\"))\n",
      "            \n"
     ],
     "language": "python",
     "metadata": {},
     "outputs": [],
     "prompt_number": 30
    },
    {
     "cell_type": "code",
     "collapsed": false,
     "input": [
      "\n",
      "punktetemp = pickle.load( open(\"files/save{projectname}.p\".format(projectname = UserDefinedProjectName), \"rb\" ) )\n",
      "erstepunkte = punktetemp[0]\n",
      "zweitepunkte = punktetemp[1]\n",
      "drittepunkte = punktetemp[2]\n",
      "firstpointsflexible  = punktetemp[3]\n",
      "secondpointsflexible = punktetemp[4]\n",
      "thirdpointsflexible  = punktetemp[5]\n",
      "weightrig = punktetemp[6]\n",
      "weightflex = punktetemp[7]\n",
      "\n",
      "punktetemp = None\n"
     ],
     "language": "python",
     "metadata": {},
     "outputs": [],
     "prompt_number": 31
    },
    {
     "cell_type": "markdown",
     "metadata": {},
     "source": [
      "Darstellen der Ergebnisse als Plots"
     ]
    },
    {
     "cell_type": "heading",
     "level": 2,
     "metadata": {},
     "source": [
      "Clustering of linkers"
     ]
    },
    {
     "cell_type": "markdown",
     "metadata": {},
     "source": [
      "At first the different linkers are just analysed. Of course this could be done in the weighing step before, but this is not that calculation intensive and like this it is much more clear when it does what."
     ]
    },
    {
     "cell_type": "code",
     "collapsed": true,
     "input": [
      "sequences, weightingsall, firstpointsall, secondpointsall, thirdpointsall =\\\n",
      "translate_paths_to_sequences(anfangspunkt,firstpointsflexible, secondpointsflexible,\n",
      "                                                    thirdpointsflexible, erstepunkte, zweitepunkte, drittepunkte, \n",
      "                                                    endpunkt, linkerdatenbank, linkerlaengenKO, angletosequence, \n",
      "                                                    angleseparators, weightflex, weightrig)\n",
      "\n",
      "print linkerlaengenKO\n",
      "print linkerdatenbank"
     ],
     "language": "python",
     "metadata": {},
     "outputs": [
      {
       "output_type": "stream",
       "stream": "stdout",
       "text": [
        "[ 24.61245888  26.08920642  27.56595395  31.99619655  33.47294408]\n",
        "['AEAAAK' 'AEAAAKA' 'AEAAAKAA' 'AEAAAKEAAAK' 'AEAAAKEAAAKA']\n"
       ]
      }
     ],
     "prompt_number": 32
    },
    {
     "cell_type": "code",
     "collapsed": false,
     "input": [
      "sequencepool = np.unique(sequences)\n",
      "sequenceweightings = []\n",
      "sequenceweightingsstd = []\n",
      "for sequenceiter in sequencepool:\n",
      "    sequenceweightings.append(np.mean(weightingsall[4][sequences == sequenceiter]))\n",
      "    sequenceweightingsstd.append(np.std(weightingsall[1][sequences == sequenceiter]))\n",
      "sequenceweightings = np.array(sequenceweightings)\n",
      "sequenceweightingsstd = np.array(sequenceweightingsstd)\n",
      "\n",
      "now = sequencepool == \"GGXXXASLPAAAEAAAKRGKCWE\"\n",
      "print sequenceweightings[now]"
     ],
     "language": "python",
     "metadata": {},
     "outputs": [
      {
       "output_type": "stream",
       "stream": "stdout",
       "text": [
        "[ 261.15530524]\n"
       ]
      }
     ],
     "prompt_number": 48
    },
    {
     "cell_type": "code",
     "collapsed": false,
     "input": [
      "bestsequenceindex = np.argmax(sequenceweightings)\n",
      "\n",
      "print sequencepool[bestsequenceindex]"
     ],
     "language": "python",
     "metadata": {},
     "outputs": [
      {
       "output_type": "stream",
       "stream": "stdout",
       "text": [
        "GGAEAAAKVNLTAAEAAAKEAAAKAKTAAEAAAKARGKCWE\n"
       ]
      }
     ],
     "prompt_number": 297
    },
    {
     "cell_type": "code",
     "collapsed": false,
     "input": [
      "calibrate_function(1, 10, 10, 9, 19)"
     ],
     "language": "python",
     "metadata": {},
     "outputs": [
      {
       "metadata": {},
       "output_type": "pyout",
       "prompt_number": 65,
       "text": [
        "8.577778364066687e+25"
       ]
      }
     ],
     "prompt_number": 65
    },
    {
     "cell_type": "code",
     "collapsed": false,
     "input": [
      "def calibrate_function(x, alpha, beta, gamma):\n",
      "    if (((alpha > 0) & (beta > 0)) & ((gamma > 0))):\n",
      "        print alpha\n",
      "        x0 = [0]\n",
      "        xar =  np.array([[4.94974, 7.1166, 0.000545, 261.2],[4.936552, 4.639409, 0.00055708, 220.8],\n",
      "                             [6.2225, 13.1906, 0.00384, 1095.2],[1.9205, 6.7689, 0.002259, 10.525]])\n",
      "        for i  in range(4):\n",
      "            x0.append( (xar[i][0] * alpha) + (xar[i][1] * beta ) + (xar[i][2] * gamma) + (xar[i][3]))\n",
      "        retval = 0\n",
      "        for i in range(len(x0) - 1):\n",
      "            if x0[i] > x0[i+1]:\n",
      "                retval += x0[i]-x0[i+1]\n",
      "        return retval\n",
      "\n",
      "\n",
      "        \n",
      "\n",
      "    else:\n",
      "        return 10**10\n",
      "    \n",
      "def newfunct(xar, alpha, beta, gamma):\n",
      "    return (xar[0] * alpha) + (xar[1] * beta ) + (xar[2] * gamma) + (xar[3])\n",
      "\n",
      "x = [1, 2, 5, 3]\n",
      "y = [0, 0, 0, 0]\n",
      "\n",
      "ar = np.array([[4.94974, 7.1166, 0.000545, 261.2],[4.936552, 4.639409, 0.00055708, 220.8],\n",
      "                             [6.2225, 13.1906, 0.00384, 1095.2],[1.9205, 6.7689, 0.002259, 10.525]])\n",
      "# y =  (1.39045894939 / np.array([1.39045894939, 0.956163666323, 0.748920753474, 0.747719545188]))**2\n",
      "popt, pcov = curve_fit(calibrate_function, x, y, p0=(5, 5, 10**6))\n",
      "print popt\n",
      "for i in range(4):\n",
      "    print newfunct(ar[i], *popt)\n",
      "    \n",
      "    "
     ],
     "language": "python",
     "metadata": {},
     "outputs": [
      {
       "output_type": "stream",
       "stream": "stdout",
       "text": [
        "5\n",
        "5.0\n",
        "5.0\n",
        "5.00000007451\n",
        "5.0\n",
        "5.0\n",
        "1.3071756068\n",
        "1.30717562628\n",
        "1.3071756068\n",
        "1.3071756068\n",
        "0.571209317292\n",
        "0.571209325803\n",
        "0.571209317292\n",
        "0.571209317292\n",
        "0.424120497265\n",
        "0.424120503585\n",
        "0.424120497265\n",
        "0.424120497265\n",
        "0.13035828042\n",
        "0.130358282362\n",
        "0.13035828042\n",
        "0.13035828042\n",
        "0.0716239829609\n",
        "0.0716239840282\n",
        "0.0716239829609\n",
        "0.0716239829609\n",
        "0.0598775010501\n",
        "0.0598775019423\n",
        "0.0598775010501\n",
        "0.0598775010501\n",
        "0.0363899872246\n",
        "0.0363899877669\n",
        "0.0363899872246\n",
        "0.0363899872246\n",
        "0.0316934096206\n",
        "0.0316934100929\n",
        "0.0316934096206\n",
        "0.0316934096206\n",
        "0.0222985279781\n",
        "0.0222985283104\n",
        "0.0222985279781\n",
        "0.0222985279781\n",
        "0.00351279710358\n",
        "0.00351279715593\n",
        "0.00351279710358\n",
        "0.00351279710358\n",
        "0.00313751970917\n",
        "0.00313751975593\n",
        "0.00313751970917\n",
        "0.00313751970917\n",
        "0.00238811217568\n",
        "0.00238811221127\n",
        "0.00238811217568\n",
        "0.00238811217568\n",
        "0.000893061557938\n",
        "0.000893061571245\n",
        "0.000893061557938\n",
        "0.000893061557938\n",
        "0.000596044828952\n",
        "0.000596044837834\n",
        "0.000596044828952\n",
        "0.000596044828952\n",
        "5.95384292128e-06\n",
        "5.95384300999e-06\n",
        "5.95384292128e-06\n",
        "5.95384292128e-06\n",
        "0.000512867189485\n",
        "0.000512867197128\n",
        "0.000512867189485\n",
        "0.000512867189485\n",
        "0.000257707190204\n",
        "0.000257707194044\n",
        "0.000257707190204\n",
        "0.000257707190204\n",
        "0.000210718262526\n",
        "0.000210718265666\n",
        "0.000210718262526\n",
        "0.000210718262526\n",
        "0.000105925377408\n",
        "0.000105925378987\n",
        "0.000105925377408\n",
        "0.000105925377408\n",
        "8.56861362731e-05\n",
        "8.56861375499e-05\n",
        "8.56861362731e-05\n",
        "8.56861362731e-05\n",
        "4.56186202931e-05\n",
        "4.56186209729e-05\n",
        "4.56186202931e-05\n",
        "4.56186202931e-05\n",
        "3.92475283685e-05\n",
        "3.92475289533e-05\n",
        "3.92475283685e-05\n",
        "3.92475283685e-05\n",
        "2.44368973693e-05\n",
        "2.44368977334e-05\n",
        "2.44368973693e-05\n",
        "2.44368973693e-05\n",
        "2.06309764358e-05\n",
        "2.06309767432e-05\n",
        "2.06309764358e-05\n",
        "2.06309764358e-05\n",
        "1.59591283261e-05\n",
        "1.59591285639e-05\n",
        "1.59591283261e-05\n",
        "1.59591283261e-05\n",
        "9.84812359104e-06\n",
        "9.84812373779e-06\n",
        "9.84812359104e-06\n",
        "9.84812359104e-06\n",
        "9.84812359104e-06\n",
        "9.84812373779e-06\n",
        "9.84812359104e-06\n",
        "9.84812359104e-06\n",
        "1.85707748405e-06\n",
        "1.85707751172e-06\n",
        "1.85707748405e-06\n",
        "1.85707748405e-06\n",
        "1.85707748405e-06\n",
        "1.85707751172e-06\n",
        "1.85707748405e-06\n",
        "1.85707748405e-06\n",
        "1.85707748405e-06\n",
        "[  1.85707748e-06   2.57330412e+00   9.86235806e+05]\n",
        "817.011699806\n",
        "782.15086252\n",
        "4916.28893368\n",
        "2255.85012861\n"
       ]
      }
     ],
     "prompt_number": 188
    },
    {
     "cell_type": "code",
     "collapsed": false,
     "input": [
      "def newfunct(xar, alpha, beta, gamma):\n",
      "    print (xar[0] * alpha) , (xar[1] * beta ) , (xar[2] * gamma) , (xar[3])\n",
      "    return (xar[0] * alpha) + (xar[1] * beta ) + (xar[2] * gamma) + (xar[3])\n",
      "popt = [  1.85707748e-06 ,  0.57330412e+00  , 50.86235806e+06]\n",
      "for i in range(4):\n",
      "    print newfunct(ar[i], *popt)"
     ],
     "language": "python",
     "metadata": {},
     "outputs": [
      {
       "output_type": "stream",
       "stream": "stdout",
       "text": [
        "9.19205068586e-06 4.07997610039 27719.9851427 261.2\n",
        "27985.265128\n",
        "9.16755954805e-06 2.65979229407 28334.4024281 220.8\n",
        "28557.8622295\n",
        "1.15556646193e-05 7.56222532527 195311.45495 1095.2\n",
        "196414.217187\n",
        "3.56651730034e-06 3.88063825787 114898.066858 10.525\n",
        "114912.472499\n"
       ]
      }
     ],
     "prompt_number": 200
    },
    {
     "cell_type": "code",
     "collapsed": false,
     "input": [
      "%debug"
     ],
     "language": "python",
     "metadata": {},
     "outputs": [
      {
       "output_type": "stream",
       "stream": "stdout",
       "text": [
        "> \u001b[0;32m<ipython-input-177-e1f168765ed9>\u001b[0m(7)\u001b[0;36mcalibrate_function\u001b[0;34m()\u001b[0m\n",
        "\u001b[0;32m      6 \u001b[0;31m        \u001b[0;32mfor\u001b[0m \u001b[0mi\u001b[0m  \u001b[0;32min\u001b[0m \u001b[0mrange\u001b[0m\u001b[0;34m(\u001b[0m\u001b[0;36m4\u001b[0m\u001b[0;34m)\u001b[0m\u001b[0;34m:\u001b[0m\u001b[0;34m\u001b[0m\u001b[0m\n",
        "\u001b[0m\u001b[0;32m----> 7 \u001b[0;31m            \u001b[0;32mif\u001b[0m \u001b[0;34m(\u001b[0m\u001b[0;34m(\u001b[0m\u001b[0;34m(\u001b[0m\u001b[0mxar\u001b[0m\u001b[0;34m[\u001b[0m\u001b[0mi\u001b[0m\u001b[0;34m]\u001b[0m\u001b[0;34m[\u001b[0m\u001b[0;36m0\u001b[0m\u001b[0;34m]\u001b[0m \u001b[0;34m*\u001b[0m \u001b[0malpha\u001b[0m\u001b[0;34m)\u001b[0m \u001b[0;34m+\u001b[0m \u001b[0;34m(\u001b[0m\u001b[0mxar\u001b[0m\u001b[0;34m[\u001b[0m\u001b[0mi\u001b[0m\u001b[0;34m]\u001b[0m\u001b[0;34m[\u001b[0m\u001b[0;36m1\u001b[0m\u001b[0;34m]\u001b[0m \u001b[0;34m*\u001b[0m \u001b[0mbeta\u001b[0m \u001b[0;34m)\u001b[0m \u001b[0;34m+\u001b[0m \u001b[0;34m(\u001b[0m\u001b[0mxar\u001b[0m\u001b[0;34m[\u001b[0m\u001b[0mi\u001b[0m\u001b[0;34m]\u001b[0m\u001b[0;34m[\u001b[0m\u001b[0;36m2\u001b[0m\u001b[0;34m]\u001b[0m \u001b[0;34m*\u001b[0m \u001b[0mgamma\u001b[0m\u001b[0;34m)\u001b[0m \u001b[0;34m+\u001b[0m \u001b[0;34m(\u001b[0m\u001b[0mxar\u001b[0m\u001b[0;34m[\u001b[0m\u001b[0mi\u001b[0m\u001b[0;34m]\u001b[0m\u001b[0;34m[\u001b[0m\u001b[0;36m3\u001b[0m\u001b[0;34m]\u001b[0m\u001b[0;34m)\u001b[0m\u001b[0;34m)\u001b[0m \u001b[0;34m>\u001b[0m \u001b[0mx0\u001b[0m\u001b[0;34m[\u001b[0m\u001b[0mi\u001b[0m\u001b[0;34m]\u001b[0m\u001b[0;34m)\u001b[0m\u001b[0;34m:\u001b[0m\u001b[0;34m\u001b[0m\u001b[0m\n",
        "\u001b[0m\u001b[0;32m      8 \u001b[0;31m                \u001b[0mx0\u001b[0m\u001b[0;34m.\u001b[0m\u001b[0mappend\u001b[0m\u001b[0;34m(\u001b[0m \u001b[0;34m(\u001b[0m\u001b[0mxar\u001b[0m\u001b[0;34m[\u001b[0m\u001b[0mi\u001b[0m\u001b[0;34m]\u001b[0m\u001b[0;34m[\u001b[0m\u001b[0;36m0\u001b[0m\u001b[0;34m]\u001b[0m \u001b[0;34m*\u001b[0m \u001b[0malpha\u001b[0m\u001b[0;34m)\u001b[0m \u001b[0;34m+\u001b[0m \u001b[0;34m(\u001b[0m\u001b[0mxar\u001b[0m\u001b[0;34m[\u001b[0m\u001b[0mi\u001b[0m\u001b[0;34m]\u001b[0m\u001b[0;34m[\u001b[0m\u001b[0;36m1\u001b[0m\u001b[0;34m]\u001b[0m \u001b[0;34m*\u001b[0m \u001b[0mbeta\u001b[0m \u001b[0;34m)\u001b[0m \u001b[0;34m+\u001b[0m \u001b[0;34m(\u001b[0m\u001b[0mxar\u001b[0m\u001b[0;34m[\u001b[0m\u001b[0mi\u001b[0m\u001b[0;34m]\u001b[0m\u001b[0;34m[\u001b[0m\u001b[0;36m2\u001b[0m\u001b[0;34m]\u001b[0m \u001b[0;34m*\u001b[0m \u001b[0mgamma\u001b[0m\u001b[0;34m)\u001b[0m \u001b[0;34m+\u001b[0m \u001b[0;34m(\u001b[0m\u001b[0mxar\u001b[0m\u001b[0;34m[\u001b[0m\u001b[0mi\u001b[0m\u001b[0;34m]\u001b[0m\u001b[0;34m[\u001b[0m\u001b[0;36m3\u001b[0m\u001b[0;34m]\u001b[0m\u001b[0;34m)\u001b[0m\u001b[0;34m)\u001b[0m\u001b[0;34m\u001b[0m\u001b[0m\n",
        "\u001b[0m\n"
       ]
      },
      {
       "name": "stdout",
       "output_type": "stream",
       "stream": "stdout",
       "text": [
        "ipdb> i\n"
       ]
      },
      {
       "output_type": "stream",
       "stream": "stdout",
       "text": [
        "2\n"
       ]
      },
      {
       "name": "stdout",
       "output_type": "stream",
       "stream": "stdout",
       "text": [
        "ipdb> x0\n"
       ]
      },
      {
       "output_type": "stream",
       "stream": "stdout",
       "text": [
        "[0, 866.5317]\n"
       ]
      },
      {
       "name": "stdout",
       "output_type": "stream",
       "stream": "stdout",
       "text": [
        "ipdb> exit\n"
       ]
      }
     ],
     "prompt_number": 178
    },
    {
     "cell_type": "code",
     "collapsed": false,
     "input": [
      "hierraus = sequences == 'GGAEAAAKAANVLAEAAAKEAAAKNVLAEAAAKEAAAKARGKCWE'\n",
      "\n",
      "print np.argmax(sequences == 'GGXXXRGKCWE')\n",
      "#print zweitepunkte[hierraus]\n",
      "#print drittepunkte[hierraus]\n",
      "\n",
      "print np.shape(firstpointsall[hierraus])\n",
      "\n",
      "print abstandpktzuarray(anfangspunkt, firstpointsall[hierraus])\n",
      "print abstandarrays(firstpointsall[hierraus], secondpointsall[hierraus])\n",
      "print abstandarrays(secondpointsall[hierraus], thirdpointsall[hierraus])\n",
      "print abstandpktzuarray(endpunkt, thirdpointsall[hierraus])\n",
      "\n",
      "\n",
      "\n",
      "print np.array(angle_between_connections_array(anfangspunkt, firstpointsall[hierraus],\n",
      "                                                        thirdpointsall[hierraus])) * \n",
      "print angle_between_connections_array(endpunkt, thirdpointsall[hierraus],\n",
      "                                                        firstpointsall[hierraus])\n",
      "\n",
      "np.set_printoptions(edgeitems = 100)\n",
      "print linkerlaengenKO \n",
      "print ScarsAtEnd * LengthOfFlexibleAA\n",
      "print MissingAtEnd"
     ],
     "language": "python",
     "metadata": {},
     "outputs": [
      {
       "output_type": "stream",
       "stream": "stdout",
       "text": [
        "1574286\n",
        "(1803, 3)\n",
        "[ 24.61706734  24.61706734  24.58658218  24.58658218  24.62722015\n",
        "  24.62722015  24.61706734  24.61706734  24.58658218  24.58658218\n",
        "  24.58658218  24.61706734  24.61706734  24.61706734  24.61706734\n",
        "  24.58658218  24.58658218  24.61706734  24.61706734  24.61706734\n",
        "  24.61706734  24.58658218  24.58658218  24.58658218  24.58658218\n",
        "  24.58658218  24.58658218  24.58658218  24.58658218  24.58658218\n",
        "  24.58658218  24.61706734  24.61706734  24.62722015  24.62722015\n",
        "  24.62722015  24.62722015  24.62722015  24.62722015  24.58658218\n",
        "  24.58658218  24.58658218  24.58658218  24.61706734  24.61706734\n",
        "  24.61706734  24.61706734  24.61706734  24.61706734  24.61706734\n",
        "  24.61706734  24.61706734  24.61706734  24.59674835  24.59674835\n",
        "  24.59674835  24.59674835  24.62722015  24.62722015  24.62722015\n",
        "  24.62722015  24.5764122   24.5764122   24.5764122   24.5764122\n",
        "  24.5764122   24.5764122   24.5764122   24.5764122   24.5764122\n",
        "  24.5764122   24.62722015  24.62722015  24.62722015  24.62722015\n",
        "  24.62722015  24.62722015  24.62722015  24.62722015  24.62722015\n",
        "  24.62722015  24.58658218  24.58658218  24.64751434  24.64751434\n",
        "  24.64751434  24.62722015  24.62722015  24.6069088   24.6069088\n",
        "  24.58658218  24.58658218  24.58658218  24.58658218  24.58658218\n",
        "  24.58658218  24.6069088   24.6069088   24.6069088   24.6069088  ...,\n",
        "  24.59674835  24.59674835  24.59674835  24.59674835  24.59674835\n",
        "  24.59674835  24.59674835  24.59674835  24.58658218  24.58658218\n",
        "  24.64751434  24.64751434  24.64751434  24.62722015  24.62722015\n",
        "  24.6069088   24.6069088   24.58658218  24.58658218  24.58658218\n",
        "  24.58658218  24.61706734  24.61706734  24.61706734  24.61706734\n",
        "  24.58658218  24.58658218  24.58658218  24.58658218  24.58658218\n",
        "  24.58658218  24.58658218  24.58658218  24.58658218  24.58658218\n",
        "  24.61706734  24.61706734  24.62722015  24.62722015  24.62722015\n",
        "  24.62722015  24.62722015  24.62722015  24.58658218  24.58658218\n",
        "  24.58658218  24.58658218  24.61706734  24.61706734  24.61706734\n",
        "  24.61706734  24.61706734  24.61706734  24.61706734  24.61706734\n",
        "  24.61706734  24.61706734  24.59674835  24.59674835  24.59674835\n",
        "  24.59674835  24.62722015  24.62722015  24.62722015  24.62722015\n",
        "  24.5764122   24.5764122   24.5764122   24.5764122   24.5764122\n",
        "  24.5764122   24.5764122   24.5764122   24.5764122   24.5764122\n",
        "  24.62722015  24.62722015  24.62722015  24.62722015  24.62722015\n",
        "  24.62722015  24.62722015  24.62722015  24.62722015  24.62722015\n",
        "  24.61706734  24.61706734  24.58658218  24.58658218  24.62722015\n",
        "  24.62722015  24.61706734  24.61706734  24.58658218  24.58658218\n",
        "  24.58658218  24.61706734  24.61706734  24.61706734  24.61706734]\n",
        "[ 0.  0.  0.  0.  0.  0.  0.  0.  0.  0.  0.  0.  0.  0.  0.  0.  0.  0.\n",
        "  0.  0.  0.  0.  0.  0.  0.  0.  0.  0.  0.  0.  0.  0.  0.  0.  0.  0.\n",
        "  0.  0.  0.  0.  0.  0.  0.  0.  0.  0.  0.  0.  0.  0.  0.  0.  0.  0.\n",
        "  0.  0.  0.  0.  0.  0.  0.  0.  0.  0.  0.  0.  0.  0.  0.  0.  0.  0.\n",
        "  0.  0.  0.  0.  0.  0.  0.  0.  0.  0.  0.  0.  0.  0.  0.  0.  0.  0.\n",
        "  0.  0.  0.  0.  0.  0.  0.  0.  0.  0. ...,  0.  0.  0.  0.  0.  0.  0.\n",
        "  0.  0.  0.  0.  0.  0.  0.  0.  0.  0.  0.  0.  0.  0.  0.  0.  0.  0.\n",
        "  0.  0.  0.  0.  0.  0.  0.  0.  0.  0.  0.  0.  0.  0.  0.  0.  0.  0.\n",
        "  0.  0.  0.  0.  0.  0.  0.  0.  0.  0.  0.  0.  0.  0.  0.  0.  0.  0.\n",
        "  0.  0.  0.  0.  0.  0.  0.  0.  0.  0.  0.  0.  0.  0.  0.  0.  0.  0.\n",
        "  0.  0.  0.  0.  0.  0.  0.  0.  0.  0.  0.  0.  0.  0.  0.  0.  0.  0.\n",
        "  0.  0.  0.]\n",
        "[ 32.54227829  32.54227829  32.34192276  32.34192276  32.60367966\n",
        "  32.60367966  32.12475586  32.12475586  32.28002548  32.40370178\n",
        "  32.40370178  32.64965439  32.63433838  32.63433838  32.64965439\n",
        "  32.09361267  32.09361267  32.41912842  32.03123474  32.03123474\n",
        "  32.41912842  32.04684067  32.61901474  32.26453018  32.55764008\n",
        "  32.64965439  32.64965439  32.55764008  32.26453018  32.61901474\n",
        "  32.04684067  32.10918808  32.10918808  32.1869545   32.54227829\n",
        "  32.28002548  32.28002548  32.54227829  32.1869545   32.52691269\n",
        "  32.12475586  32.12475586  32.52691269  32.61901474  32.69556427\n",
        "  32.72613525  32.57299423  32.71085358  32.71085358  32.57299423\n",
        "  32.72613525  32.69556427  32.61901474  32.04684067  32.66496658\n",
        "  32.66496658  32.04684067  32.49615479  32.60367966  32.60367966\n",
        "  32.49615479  32.52691269  32.46536636  32.31098938  32.58834076\n",
        "  32.03123474  32.03123474  32.58834076  32.31098938  32.46536636\n",
        "  32.52691269  32.20248413  32.38827133  32.07802963  32.46536636\n",
        "  32.10918808  32.10918808  32.46536636  32.07802963  32.38827133\n",
        "  32.20248413  32.43455124  32.43455124  32.64965439  32.40370178\n",
        "  32.40370178  32.40370178  32.40370178  32.46536636  32.46536636\n",
        "  32.48076248  32.23352432  32.23352432  32.48076248  32.21800613\n",
        "  32.21800613  32.69556427  32.1869545   32.1869545   32.69556427 ...,\n",
        "  32.29550934  32.71085358  32.48076248  32.71085358  32.71085358\n",
        "  32.48076248  32.71085358  32.29550934  32.43455124  32.43455124\n",
        "  32.64965439  32.40370178  32.40370178  32.40370178  32.40370178\n",
        "  32.46536636  32.46536636  32.48076248  32.23352432  32.23352432\n",
        "  32.48076248  32.41912842  32.03123474  32.03123474  32.41912842\n",
        "  32.04684067  32.61901474  32.26453018  32.55764008  32.64965439\n",
        "  32.64965439  32.55764008  32.26453018  32.61901474  32.04684067\n",
        "  32.10918808  32.10918808  32.1869545   32.54227829  32.28002548\n",
        "  32.28002548  32.54227829  32.1869545   32.52691269  32.12475586\n",
        "  32.12475586  32.52691269  32.61901474  32.69556427  32.72613525\n",
        "  32.57299423  32.71085358  32.71085358  32.57299423  32.72613525\n",
        "  32.69556427  32.61901474  32.04684067  32.66496658  32.66496658\n",
        "  32.04684067  32.49615479  32.60367966  32.60367966  32.49615479\n",
        "  32.52691269  32.46536636  32.31098938  32.58834076  32.03123474\n",
        "  32.03123474  32.58834076  32.31098938  32.46536636  32.52691269\n",
        "  32.20248413  32.38827133  32.07802963  32.46536636  32.10918808\n",
        "  32.10918808  32.46536636  32.07802963  32.38827133  32.20248413\n",
        "  32.54227829  32.54227829  32.34192276  32.34192276  32.60367966\n",
        "  32.60367966  32.12475586  32.12475586  32.28002548  32.40370178\n",
        "  32.40370178  32.64965439  32.63433838  32.63433838  32.64965439]"
       ]
      },
      {
       "output_type": "stream",
       "stream": "stdout",
       "text": [
        "\n",
        "[ 50.19960022  50.19960022  50.19960022  50.19960022  50.21951675\n",
        "  50.21951675  50.19960022  50.19960022  50.19960022  50.19960022\n",
        "  50.19960022  50.23942566  50.19960022  50.19960022  50.23942566\n",
        "  50.19960022  50.19960022  50.23942566  50.21951675  50.21951675\n",
        "  50.23942566  50.19960022  50.19960022  50.25932693  50.17967606\n",
        "  50.23942566  50.23942566  50.17967606  50.25932693  50.19960022\n",
        "  50.19960022  50.19960022  50.19960022  50.19960022  50.23942566\n",
        "  50.17967606  50.17967606  50.23942566  50.19960022  50.19960022\n",
        "  50.23942566  50.23942566  50.19960022  50.17967606  50.21951675\n",
        "  50.15974426  50.19960022  50.25932693  50.25932693  50.19960022\n",
        "  50.15974426  50.21951675  50.17967606  50.23942566  50.21951675\n",
        "  50.21951675  50.23942566  50.23942566  50.17967606  50.17967606\n",
        "  50.23942566  50.17967606  50.21951675  50.25932693  50.21951675\n",
        "  50.19960022  50.19960022  50.21951675  50.25932693  50.21951675\n",
        "  50.17967606  50.17967606  50.19960022  50.23942566  50.19960022\n",
        "  50.21951675  50.21951675  50.19960022  50.23942566  50.19960022\n",
        "  50.17967606  50.19960022  50.19960022  50.19960022  50.21951675\n",
        "  50.21951675  50.19960022  50.19960022  50.19960022  50.19960022\n",
        "  50.19960022  50.23942566  50.23942566  50.19960022  50.17967606\n",
        "  50.17967606  50.25932693  50.17967606  50.17967606  50.25932693 ...,\n",
        "  50.19960022  50.21951675  50.19960022  50.19960022  50.19960022\n",
        "  50.19960022  50.21951675  50.19960022  50.19960022  50.19960022\n",
        "  50.19960022  50.21951675  50.21951675  50.19960022  50.19960022\n",
        "  50.19960022  50.19960022  50.19960022  50.23942566  50.23942566\n",
        "  50.19960022  50.23942566  50.21951675  50.21951675  50.23942566\n",
        "  50.19960022  50.19960022  50.25932693  50.17967606  50.23942566\n",
        "  50.23942566  50.17967606  50.25932693  50.19960022  50.19960022\n",
        "  50.19960022  50.19960022  50.19960022  50.23942566  50.17967606\n",
        "  50.17967606  50.23942566  50.19960022  50.19960022  50.23942566\n",
        "  50.23942566  50.19960022  50.17967606  50.21951675  50.15974426\n",
        "  50.19960022  50.25932693  50.25932693  50.19960022  50.15974426\n",
        "  50.21951675  50.17967606  50.23942566  50.21951675  50.21951675\n",
        "  50.23942566  50.23942566  50.17967606  50.17967606  50.23942566\n",
        "  50.17967606  50.21951675  50.25932693  50.21951675  50.19960022\n",
        "  50.19960022  50.21951675  50.25932693  50.21951675  50.17967606\n",
        "  50.17967606  50.19960022  50.23942566  50.19960022  50.21951675\n",
        "  50.21951675  50.19960022  50.23942566  50.19960022  50.17967606\n",
        "  50.19960022  50.19960022  50.19960022  50.19960022  50.21951675\n",
        "  50.21951675  50.19960022  50.19960022  50.19960022  50.19960022\n",
        "  50.19960022  50.23942566  50.19960022  50.19960022  50.23942566]\n",
        "[ 1.61668706  1.61668706  1.71370327  1.71370327  1.57562232  1.57562232\n",
        "  1.74619734  1.74619734  1.91290355  1.75190353  1.75190353  1.68911433\n",
        "  1.62021828  1.62021828  1.68911433  2.03638053  2.03638053  2.0422976\n",
        "  1.88840508  1.88840508  2.0422976   2.16367173  2.1377933   2.07249784\n",
        "  1.874318    1.72312999  1.72312999  1.874318    2.07249784  2.1377933\n",
        "  2.16367173  2.08897352  2.08897352  2.28798413  2.28014421  2.08644819\n",
        "  2.08644819  2.28014421  2.28798413  2.07913828  2.0053134   2.0053134\n",
        "  2.07913828  2.40440655  2.42139482  2.29374838  1.96774411  1.8734411\n",
        "  1.8734411   1.96774411  2.29374838  2.42139482  2.40440655  2.50745678\n",
        "  2.30448079  2.30448079  2.50745678  2.47001553  2.2917161   2.2917161\n",
        "  2.47001553  2.62733603  2.65829873  2.48298335  2.27086687  2.17968321\n",
        "  2.17968321  2.27086687  2.48298335  2.65829873  2.62733603  2.66863585\n",
        "  2.65754533  2.4731977   2.23324251  2.12961626  2.12961626  2.23324251\n",
        "  2.4731977   2.65754533  2.66863585  1.71012604  1.71012604  1.70572197\n",
        "  1.58300447  1.58300447  1.73220801  1.73220801  1.74774766  1.74774766\n",
        "  1.91037166  1.70845246  1.70845246  1.91037166  2.03903413  2.03903413\n",
        "  2.04412603  1.89310038  1.89310038  2.04412603 ...,  2.28280067\n",
        "  2.62101626  2.65448785  2.61728024  2.61728024  2.65448785  2.62101626\n",
        "  2.28280067  1.71012604  1.71012604  1.70572197  1.58300447  1.58300447\n",
        "  1.73220801  1.73220801  1.74774766  1.74774766  1.91037166  1.70845246\n",
        "  1.70845246  1.91037166  2.0422976   1.88840508  1.88840508  2.0422976\n",
        "  2.16367173  2.1377933   2.07249784  1.874318    1.72312999  1.72312999\n",
        "  1.874318    2.07249784  2.1377933   2.16367173  2.08897352  2.08897352\n",
        "  2.28798413  2.28014421  2.08644819  2.08644819  2.28014421  2.28798413\n",
        "  2.07913828  2.0053134   2.0053134   2.07913828  2.40440655  2.42139482\n",
        "  2.29374838  1.96774411  1.8734411   1.8734411   1.96774411  2.29374838\n",
        "  2.42139482  2.40440655  2.50745678  2.30448079  2.30448079  2.50745678\n",
        "  2.47001553  2.2917161   2.2917161   2.47001553  2.62733603  2.65829873\n",
        "  2.48298335  2.27086687  2.17968321  2.17968321  2.27086687  2.48298335\n",
        "  2.65829873  2.62733603  2.66863585  2.65754533  2.4731977   2.23324251\n",
        "  2.12961626  2.12961626  2.23324251  2.4731977   2.65754533  2.66863585\n",
        "  1.61668706  1.61668706  1.71370327  1.71370327  1.57562232  1.57562232\n",
        "  1.74619734  1.74619734  1.91290355  1.75190353  1.75190353  1.68911433\n",
        "  1.62021828  1.62021828  1.68911433]\n",
        "[ 1.16824114  1.16824114  1.15283275  1.15283275  1.13174665  1.13174665\n",
        "  1.1145525   1.1145525   1.08925629  1.08882308  1.08882308  1.06167424\n",
        "  1.0623672   1.0623672   1.06167424  1.03788602  1.03788602  1.00727975\n",
        "  1.00966775  1.00966775  1.00727975  0.97858     0.97639465  0.97647929\n",
        "  0.97743696  0.9753564   0.9753564   0.97743696  0.97647929  0.97639465\n",
        "  0.97858     0.94663745  0.94663745  0.91287637  0.9118706   0.91401786\n",
        "  0.91401786  0.9118706   0.91287637  0.8771078   0.8770355   0.8770355\n",
        "  0.8771078   0.84369493  0.8424055   0.84462351  0.84197152  0.84189832\n",
        "  0.84189832  0.84197152  0.84462351  0.8424055   0.84369493  0.80320567\n",
        "  0.80583918  0.80583918  0.80320567  0.76828486  0.76871032  0.76871032\n",
        "  0.76828486  0.73024452  0.72901404  0.72732741  0.72956979  0.72832638\n",
        "  0.72832638  0.72956979  0.72732741  0.72901404  0.73024452  0.69025701\n",
        "  0.68995374  0.68699801  0.69090277  0.68964952  0.68964952  0.69090277\n",
        "  0.68699801  0.68995374  0.69025701  1.17482817  1.17482817  1.15601516\n",
        "  1.15788388  1.15788388  1.13578844  1.13578844  1.11320782  1.11320782\n",
        "  1.08867991  1.08856881  1.08856881  1.08867991  1.0352602   1.0352602\n",
        "  1.0027858   1.00745702  1.00745702  1.0027858  ...,  0.72916061\n",
        "  0.73010528  0.73002088  0.73057497  0.73057497  0.73002088  0.73010528\n",
        "  0.72916061  1.17482817  1.17482817  1.15601516  1.15788388  1.15788388\n",
        "  1.13578844  1.13578844  1.11320782  1.11320782  1.08867991  1.08856881\n",
        "  1.08856881  1.08867991  1.00727975  1.00966775  1.00966775  1.00727975\n",
        "  0.97858     0.97639465  0.97647929  0.97743696  0.9753564   0.9753564\n",
        "  0.97743696  0.97647929  0.97639465  0.97858     0.94663745  0.94663745\n",
        "  0.91287637  0.9118706   0.91401786  0.91401786  0.9118706   0.91287637\n",
        "  0.8771078   0.8770355   0.8770355   0.8771078   0.84369493  0.8424055\n",
        "  0.84462351  0.84197152  0.84189832  0.84189832  0.84197152  0.84462351\n",
        "  0.8424055   0.84369493  0.80320567  0.80583918  0.80583918  0.80320567\n",
        "  0.76828486  0.76871032  0.76871032  0.76828486  0.73024452  0.72901404\n",
        "  0.72732741  0.72956979  0.72832638  0.72832638  0.72956979  0.72732741\n",
        "  0.72901404  0.73024452  0.69025701  0.68995374  0.68699801  0.69090277\n",
        "  0.68964952  0.68964952  0.69090277  0.68699801  0.68995374  0.69025701\n",
        "  1.16824114  1.16824114  1.15283275  1.15283275  1.13174665  1.13174665\n",
        "  1.1145525   1.1145525   1.08925629  1.08882308  1.08882308  1.06167424\n",
        "  1.0623672   1.0623672   1.06167424]"
       ]
      },
      {
       "output_type": "stream",
       "stream": "stdout",
       "text": [
        "\n",
        "[ 24.61245888  26.08920642  27.56595395  31.99619655  33.47294408]\n",
        "14.7674753294\n",
        "4\n"
       ]
      }
     ],
     "prompt_number": 286
    },
    {
     "cell_type": "code",
     "collapsed": false,
     "input": [
      "blubb1 = firstpointsall[hierraus]\n",
      "blubb2 = secondpointsall[hierraus]\n",
      "blubb3 = thirdpointsall[hierraus]\n",
      "\n",
      "print length_to_sequence(abstandarrays(blubb1, make_better_paths_flex(blubb1, blubb2, blubb3, endpunkt)[2], \n",
      "                                       linkerlaengenKO),\n",
      "                         linkerdatenbank, linkerlaengenKO - (2*LENGTHOFANGLEKO))\n",
      "\n",
      "\n",
      "print (blubb3 == make_better_paths_flex(blubb1, blubb2, blubb3, endpunkt, \n",
      "                                        linkerlaengenKO)[2]).all(axis = 0)\n",
      "\n",
      "print length_to_sequence(abstandarrays(blubb2, blubb3), linkerdatenbank, linkerlaengenKO - (2 * LENGTHOFANGLEKO) )\n",
      "\n"
     ],
     "language": "python",
     "metadata": {},
     "outputs": [
      {
       "ename": "TypeError",
       "evalue": "abstandarrays() takes exactly 2 arguments (3 given)",
       "output_type": "pyerr",
       "traceback": [
        "\u001b[0;31m---------------------------------------------------------------------------\u001b[0m\n\u001b[0;31mTypeError\u001b[0m                                 Traceback (most recent call last)",
        "\u001b[0;32m<ipython-input-241-194b7b3053ff>\u001b[0m in \u001b[0;36m<module>\u001b[0;34m()\u001b[0m\n\u001b[1;32m      4\u001b[0m \u001b[0;34m\u001b[0m\u001b[0m\n\u001b[1;32m      5\u001b[0m print length_to_sequence(abstandarrays(blubb1, make_better_paths_flex(blubb1, blubb2, blubb3, endpunkt)[2], \n\u001b[0;32m----> 6\u001b[0;31m                                        linkerlaengenKO - 2 * LENGTHOFANGLEKO),\n\u001b[0m\u001b[1;32m      7\u001b[0m                          linkerdatenbank, linkerlaengenKO - (2*LENGTHOFANGLEKO))\n\u001b[1;32m      8\u001b[0m \u001b[0;34m\u001b[0m\u001b[0m\n",
        "\u001b[0;31mTypeError\u001b[0m: abstandarrays() takes exactly 2 arguments (3 given)"
       ]
      }
     ],
     "prompt_number": 241
    },
    {
     "cell_type": "code",
     "collapsed": false,
     "input": [
      "print thirdpointsall[hierraus]\n",
      "print (blubb2 ==  secondpointsflexible[-1948:]).all(axis = 1)\n",
      "print (blubb3 ==  thirdpointsflexible[-1948:]).all(axis = 1)"
     ],
     "language": "python",
     "metadata": {},
     "outputs": [
      {
       "output_type": "stream",
       "stream": "stdout",
       "text": [
        "[[ 115.1875   96.4375  107.    ]\n",
        " [ 117.3125   96.4375  106.75  ]\n",
        " [ 115.1875   94.3125  107.125 ]\n",
        " ..., \n",
        " [ 121.5625   94.3125  106.8125]\n",
        " [ 115.1875   94.3125  107.125 ]\n",
        " [ 117.3125   94.3125  106.8125]]\n",
        "[ True  True  True ...,  True  True  True]\n",
        "[False False False ..., False False False]\n"
       ]
      }
     ],
     "prompt_number": 168
    },
    {
     "cell_type": "code",
     "collapsed": false,
     "input": [
      "np.shape(firstpointsflexible)"
     ],
     "language": "python",
     "metadata": {},
     "outputs": [
      {
       "metadata": {},
       "output_type": "pyout",
       "prompt_number": 75,
       "text": [
        "(1576234, 3)"
       ]
      }
     ],
     "prompt_number": 75
    },
    {
     "cell_type": "code",
     "collapsed": false,
     "input": [
      "#for wildcard search through the different linkers\n",
      "\n",
      "pattern = '*AEAAAKEAAAKEAAAKA*'\n",
      "filtered = fnmatch.filter(sequencepool, pattern)\n",
      "\n",
      "getlinkersoutbool = np.array(np.zeros(np.size(sequences)), dtype = bool)\n",
      "for string in filtered:\n",
      "    getlinkersoutbool = getlinkersoutbool | (sequences == string)\n",
      "\n",
      "np.mean(weightingsall[0][getlinkersoutbool])"
     ],
     "language": "python",
     "metadata": {},
     "outputs": []
    },
    {
     "cell_type": "code",
     "collapsed": false,
     "input": [
      "'''\n",
      "#length\n",
      "h = plt.hist(weightingsall[1], bins = 40)\n",
      "plt.title(\"Distribution of lengths\")\n",
      "plt.show()\n",
      "\n",
      "#angles\n",
      "h = plt.hist(weightingsall[2], bins = 50)\n",
      "plt.title(\"Distribution of angles\")\n",
      "plt.show()\n",
      "#unpreferable places\n",
      "h = plt.hist(weightingsall[3], bins = 100)\n",
      "plt.title(\"Distribution of unpreferable places weighting\")\n",
      "plt.show()\n",
      "#dist from surface\n",
      "h = plt.hist(weightingsall[4], bins = 100)\n",
      "plt.title(\"Distribution of the distances from surface\")\n",
      "plt.show()\n",
      "'''"
     ],
     "language": "python",
     "metadata": {},
     "outputs": []
    },
    {
     "cell_type": "code",
     "collapsed": false,
     "input": [
      "keep = np.argmin(weightingsall[0])\n",
      "\n",
      "#show a plot of one linker.\n",
      "bestpath = np.empty((3,3))\n",
      "\n",
      "bestpath[0] = erstepunkte[hierraus][0]\n",
      "#print \n",
      "#print \n",
      "bestpath[1] =  zweitepunkte[hierraus][0]\n",
      "bestpath[2] = drittepunkte[hierraus][0]\n",
      "\n",
      "\n",
      "\n",
      "\n",
      "print abstand(bestpath[0], bestpath[1]), abstand(bestpath[2], bestpath[1]),\\\n",
      "abstand(bestpath[0], anfangspunkt), abstand(endpunkt, bestpath[2])\n",
      "\n",
      "fig = plt.figure()\n",
      "ax = fig.add_subplot(111, projection='3d')\n",
      "ax.scatter(pkte[AmountOfAtomsFirstAA+1:-AmountOfAtomsLastAA-1:,0], pkte[AmountOfAtomsFirstAA+1:-AmountOfAtomsLastAA-1:,1], pkte[AmountOfAtomsFirstAA+1:-AmountOfAtomsLastAA-1:,2], s=10)\n",
      "ax.scatter(pkte[:AmountOfAtomsFirstAA:,0], pkte[:AmountOfAtomsFirstAA:,1], pkte[:AmountOfAtomsFirstAA:,2], s = 40, c =\"r\")\n",
      "ax.scatter(pkte[-AmountOfAtomsLastAA::,0], pkte[-AmountOfAtomsLastAA::,1], pkte[-AmountOfAtomsLastAA::,2], s = 40, c =\"r\")\n",
      "ax.scatter(OtherPoints[:,0], OtherPoints[:,1], OtherPoints[:,2], s=10, c = \"g\")\n",
      "ax.plot(np.concatenate((np.array([anfangspunkt[0]]), bestpath[:,0], np.array([endpunkt[0]]))),\\\n",
      "        np.concatenate((np.array([anfangspunkt[1]]), bestpath[:,1], np.array([endpunkt[1]]))),\\\n",
      "        np.concatenate((np.array([anfangspunkt[2]]), bestpath[:,2], np.array([endpunkt[2]]))), c = \"r\", linewidth = 15)\n",
      "\n",
      "ax.plot(np.array([(bestpath[1,0] + bestpath[2,0])/2 - (minabstand / 2), (bestpath[1,0] + bestpath[2,0])/2 + (minabstand / 2)]),\\\n",
      "        np.array([(bestpath[1,1] + bestpath[2,1])/2, (bestpath[1,1] + bestpath[2,1])/2]),\\\n",
      "        np.array([(bestpath[1,2] + bestpath[2,2])/2, (bestpath[1,2] + bestpath[2,2])/2]),\\\n",
      "        c = \"g\", linewidth = 3)\n",
      "\n",
      "ax.plot(np.array([(bestpath[1,0] + bestpath[2,0])/2, (bestpath[1,0] + bestpath[2,0])/2]),\\\n",
      "        np.array([(bestpath[1,1] + bestpath[2,1])/2 - (minabstand / 2), (bestpath[1,1] + bestpath[2,1])/2 + (minabstand / 2)]),\\\n",
      "        np.array([(bestpath[1,2] + bestpath[2,2])/2, (bestpath[1,2] + bestpath[2,2])/2]),\\\n",
      "        c = \"g\", linewidth = 3)\n",
      "\n",
      "ax.plot(np.array([(bestpath[1,0] + bestpath[2,0])/2, (bestpath[1,0] + bestpath[2,0])/2]),\\\n",
      "        np.array([(bestpath[1,1] + bestpath[2,1])/2, (bestpath[1,1] + bestpath[2,1])/2]),\\\n",
      "        np.array([(bestpath[1,2] + bestpath[2,2])/2 - (minabstand / 2), (bestpath[1,2] + bestpath[2,2])/2 + (minabstand / 2)]),\\\n",
      "        c = \"g\", linewidth = 3)\n",
      "\n",
      "ax.scatter(bestpath[:,0], bestpath[:,1], bestpath[:,2], s = 50, c =\"r\")\n",
      "plt.show()\n"
     ],
     "language": "python",
     "metadata": {},
     "outputs": [
      {
       "output_type": "stream",
       "stream": "stdout",
       "text": [
        "0.0 53.8490548025 22.1411928738 55.1564453122\n"
       ]
      },
      {
       "output_type": "stream",
       "stream": "stderr",
       "text": [
        "/usr/lib/pymodules/python2.7/matplotlib/backends/backend_gtk.py:250: Warning: Source ID 2699 was not found when attempting to remove it\n",
        "  gobject.source_remove(self._idle_event_id)\n"
       ]
      }
     ],
     "prompt_number": 107
    },
    {
     "cell_type": "code",
     "collapsed": false,
     "input": [
      "np.shape(firstpointsall)"
     ],
     "language": "python",
     "metadata": {},
     "outputs": []
    },
    {
     "cell_type": "heading",
     "level": 2,
     "metadata": {},
     "source": [
      "Linkerpimping"
     ]
    },
    {
     "cell_type": "markdown",
     "metadata": {},
     "source": [
      "Wir passen die Aminos\u00e4uren in den Winkeln an, um die an die Oberfl\u00e4che zu h\u00e4ngen. Das machen wir immer in einer Funktion auf nur einem Linker"
     ]
    },
    {
     "cell_type": "code",
     "collapsed": false,
     "input": [
      "AminoDict = {\"ARG\":\"ASP\", \"ASP\":\"LYS\", \"HIS\":\"ASP\", \"LYS\":\"ASP\", \"GLU\":\"LYS\", \"SER\":\"THR\", \"THR\":\"SER\", \\\n",
      "             \"ASN\":\"GLN\", \"GLN\":\"ASN\", \"CYS\":\"CYS\", \"GLY\":\"XXX\", \"SEC\":\"XXX\", \"PRO\":\"XXX\", \"ALA\":\"LEU\", \"VAL\":\"LEU\", \\\n",
      "             \"ILE\":\"LEU\", \"LEU\":\"LEU\", \"MET\":\"LEU\", \"PHE\":\"PHE\", \"TRP\":\"TRP\", \"TYR\":\"TYR\"}\n",
      "\n",
      "def glue_to_surface(StartPoint, EndPoint, ProteinPoints = pkte , ProteinAminos = InterestingAminos,\\\n",
      "                    MinDist = hitgenauig, AminoCombinations = AminoDict):\n",
      "    Dist = abstand(StartPoint, EndPoint)\n",
      "    StartToProtDist = abstandpktzuarray(StartPoint, ProteinPoints)\n",
      "    keep = (StartToProtDist < (Dist + MinDist)) & (StartToProtDist > (Dist - MinDist))\n",
      "    PossiblePoints = ProteinPoints[keep]\n",
      "    EndToPossible = abstandpktzuarray(EndPoint, PossiblePoints)\n",
      "    PossibleAminos = ProteinAminos[keep]\n",
      "    TheAmino = PossibleAminos[np.argmin(EndToPossible)]\n",
      "    return AminoCombinations[TheAmino]\n",
      "        "
     ],
     "language": "python",
     "metadata": {},
     "outputs": []
    },
    {
     "cell_type": "code",
     "collapsed": false,
     "input": [],
     "language": "python",
     "metadata": {},
     "outputs": []
    }
   ],
   "metadata": {}
  }
 ]
}