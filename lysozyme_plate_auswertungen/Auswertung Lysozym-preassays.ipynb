{
 "metadata": {
  "name": "",
  "signature": "sha256:34a23ccb98b2807a2c204c90a469e9b8b4aadcc78b05252ee36d096fe06010d9"
 },
 "nbformat": 3,
 "nbformat_minor": 0,
 "worksheets": [
  {
   "cells": [
    {
     "cell_type": "heading",
     "level": 4,
     "metadata": {},
     "source": [
      "Auswertung des Assays zur Funktionsf\u00e4higkeit des HEWL (13.8)"
     ]
    },
    {
     "cell_type": "code",
     "collapsed": false,
     "input": [
      "import numpy as np\n",
      "import matplotlib\n",
      "matplotlib.use('GTK')\n",
      "import matplotlib.pyplot as plt \n",
      "from scipy.optimize import curve_fit"
     ],
     "language": "python",
     "metadata": {},
     "outputs": [],
     "prompt_number": 2
    },
    {
     "cell_type": "code",
     "collapsed": false,
     "input": [
      "OD = np.array([0.574, 0.558, 0.559, 0.582, 0.556, 0.542, 0.543, 0.550, 0.527, 0.512, 0.508, 0.507, 0.496, 0.486, 0.472]) #in mA\n",
      "\n",
      "ODcontrol = np.array([0.651, 0.647, 0.652, 0.650, 0.646, 0.647, 0.645, 0.644, 0.646, 0.643, 0.643, 0.643, 0.642, 0.640, 0.641])\n",
      "\n",
      "t = np.array([0, 60, 120, 165, 230, 280, 330, 360, 380, 490, 525, 470, 600, 660, 735]) #in s\n",
      "terr = np.ones(15) * 5 #in ms\n",
      "\n",
      "\n",
      "plt.scatter(t, OD)\n",
      "plt.scatter(t, ODcontrol, c=\"g\")\n",
      "plt.errorbar(t, OD,xerr= terr, linestyle = 'none')\n",
      "plt.errorbar(t, ODcontrol,xerr= terr, linestyle = 'none')\n",
      "\n",
      "#the fitting\n",
      "def line(x, a, b):\n",
      "    return a * x + b\n",
      "\n",
      "popt, pcov = curve_fit(line, t, OD)\n",
      "print popt\n",
      "xfine = np.linspace(0, 750, 100)\n",
      "plt.plot(xfine, line(xfine, *popt))\n",
      "plt.show()\n",
      "\n",
      "plt.xlabel(\"time in [s]\")\n",
      "plt.ylabel(\"OD at 450 nm\")\n",
      "plt.title(\"Measurement of Lysozyme activity\")\n",
      "plt.savefig(\"HEWL_Activity_plot\")\n",
      "\n",
      "absorptiondifferenceperminute = popt[0] * 60\n",
      "amountofunitserr = pcov[0,0] * 60 / 0.001\n",
      "amountofunits = absorptiondifferenceperminute / 0.001\n",
      "\n",
      "print \"Activity of our lysozyme was: \" + str(-amountofunits/0.01) + \" units/mg +- \" + str(amountofunitserr / 0.01) + \" units/mg\""
     ],
     "language": "python",
     "metadata": {},
     "outputs": [
      {
       "output_type": "stream",
       "stream": "stdout",
       "text": [
        "[ -1.42848374e-04   5.82939698e-01]\n",
        "Activity of our lysozyme was: 857.090246377 units/mg +- 0.000985224087661 units/mg"
       ]
      },
      {
       "output_type": "stream",
       "stream": "stdout",
       "text": [
        "\n"
       ]
      },
      {
       "output_type": "stream",
       "stream": "stderr",
       "text": [
        "/usr/lib/pymodules/python2.7/matplotlib/backends/backend_gtk.py:250: Warning: Source ID 2 was not found when attempting to remove it\n",
        "  gobject.source_remove(self._idle_event_id)\n"
       ]
      }
     ],
     "prompt_number": 3
    }
   ],
   "metadata": {}
  }
 ]
}