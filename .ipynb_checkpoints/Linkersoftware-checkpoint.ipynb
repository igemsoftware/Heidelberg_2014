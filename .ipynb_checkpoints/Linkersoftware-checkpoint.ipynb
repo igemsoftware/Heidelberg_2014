{
 "metadata": {
  "name": "",
  "signature": "sha256:4a61e6b29438b87ca0b8f485dd06a941097fc2d8fddc2e334b66203d53ec6fe0"
 },
 "nbformat": 3,
 "nbformat_minor": 0,
 "worksheets": [
  {
   "cells": [
    {
     "cell_type": "code",
     "collapsed": false,
     "input": [
      "#Hier ist ein kleiner Versuch mal eine Software zu schreiben, wie so Linkerzeug gemacht werden k\u00f6nnte."
     ],
     "language": "python",
     "metadata": {},
     "outputs": [],
     "prompt_number": 2
    },
    {
     "cell_type": "code",
     "collapsed": false,
     "input": [
      "#einlesen des PDB files. die Dateien sollten in proteine gespeichert werden\n",
      "import numpy as np\n",
      "#import matplotlib.pyplot as plt\n",
      "#from mpl_toolkits.mplot3d import Axes3D\n",
      "#%matplotlib inline\n",
      "\n",
      "\n",
      "#Betrag eines Vektors\n",
      "def vectabs(x0, x1, x2):\n",
      "    return np.sqrt(x0**2 + x1**2 + x2*2)\n",
      "\n",
      "#gibt normalenvektor zu ebene von drei Punkten aus, bereits normiert\n",
      "def ebene(a, b, c):\n",
      "    x0 = (a-b)[1]*(c-b)[2]-((a-b)[2]*(c-b)[1])\n",
      "    x1 = (a-b)[2]*(c-b)[0]-((a-b)[0]*(c-b)[2])\n",
      "    x2 = (a-b)[0]*(c-b)[1]-((a-b)[1]*(c-b)[0])\n",
      "    \n",
      "    xabs = vectabs(x0, x1, x2)\n",
      "    \n",
      "    return np.array([x0/xabs, x1/xabs, x2/xabs])\n",
      "\n",
      "#einen Vektor mit Drehmatrix drehen um a-achse\n",
      "def drehenx(phi, x, y, z):\n",
      "    x1 = x * np.cos(phi * 0)\n",
      "    y1 = y * np.cos(phi) - z * np.sin(phi)\n",
      "    z1 = y * np.sin(phi) + z * np.cos(phi)\n",
      "    return np.array([x1, y1, z1])\n",
      "\n",
      "def dreheny(phi, x, y, z):\n",
      "    x1 = x  * np.cos(phi) - z * np.sin(phi)\n",
      "    y1 = y * np.cos(phi * 0)\n",
      "    z1 = x * np.sin(phi) + z * np.cos(phi)\n",
      "    return np.array([x1, y1, z1])\n",
      "\n",
      "def drehenz(phi, x, y, z):\n",
      "    x1 = x  * np.cos(phi) - y * np.sin(phi)\n",
      "    y1 = x * np.sin(phi) +  y* np.cos(phi)\n",
      "    z1 = z * np.cos(phi * 0)\n",
      "    return np.array([x1, y1, z1])\n",
      "\n",
      "#dreht Vektor v (als np.array) um phi um die x-Achse, und theta um die y-Achse\n",
      "def drehenxy(phi, theta, v):\n",
      "    v = drehenx(phi, v[0], v[1], v[2])\n",
      "    return dreheny(theta, v[0], v[1], v[2])\n",
      "\n",
      "#den Abstand zweier Punkte bestimmen, den Punkt als Array eingeben.\n",
      "def abstand(x,y):\n",
      "    return np.sqrt((x[0]-y[0])**2+(x[1]-y[1])**2+(x[2]-y[2])**2)\n",
      "\n",
      "def betrag(x):\n",
      "    return np.sqrt((x[0])**2+(x[1])**2+(x[2])**2)\n",
      "\n",
      "def abstandpktzuarray(x, ar):\n",
      "    return np.sqrt((x[0]-ar[:,0])**2+(x[1]-ar[:,1])**2+(x[2]-ar[:,2])**2)\n",
      "\n",
      "def abstandarrays(ar1, ar2):\n",
      "    return np.sqrt((ar1[:,0]-ar2[:,0])**2+(ar1[:,1]-ar2[:,1])**2+(ar1[:,2]-ar2[:,2])**2)\n",
      "\n",
      "#macht aus drei Arrays ein Array mit kleinen dreierarrays in einem gro\u00dfen A\n",
      "\n",
      "\n",
      "#macht aus drei Arrays\n",
      "    \n",
      "\n",
      "f = open('proteine/dnmt1.pdb', 'r')\n",
      "#print pdbfile\n",
      "\n",
      "\n",
      "x = []\n",
      "y = []\n",
      "z = []\n",
      "atom = []\n",
      "aminos = []\n",
      "subunit = []\n",
      "asnr = []\n",
      "\n",
      "\n",
      "#line.split kann nicht verwendet werden, weil manchmal die spalten ineinander verschmelzen, weil das Format doof ist.\n",
      "\n",
      "for line in f:\n",
      "    art = line[:4]\n",
      "    if art == 'ATOM':\n",
      "        atom.append(line[13:16])\n",
      "        aminos.append(line[17:20])\n",
      "        subunit.append(line[21])\n",
      "        asnr.append(int(line[22:26]))\n",
      "        x.append(float(line[31:38]))\n",
      "        y.append(float(line[38:46]))\n",
      "        z.append(float(line[46:54]))\n",
      "        \n",
      "\n",
      "#aus allen Listen arrays machen\n",
      "atom = np.array(atom)\n",
      "aminos = np.array(aminos)\n",
      "subunit = np.array(subunit)\n",
      "asnr = np.array(asnr) \n",
      "#731-1602\n",
      "#oder 650 - 1602\n",
      "behalten = asnr > 650 #hier kann man einstellen, welche AS behalten werden sollen.\n",
      "\n",
      "x = np.array(x)        \n",
      "y = np.array(y)\n",
      "z = np.array(z)\n",
      "\n",
      "anzahl = len(z)\n",
      "\n",
      "#aus den drei Arrays eines machen, das Dimension n*3 hat, also ein Array aus lauter kleinen dreier Arrays\n",
      " \n",
      "pkte = np.reshape(np.concatenate((x,y,z)), (anzahl,3), 'F')\n",
      "anfangspunkt = pkte[0]\n",
      "endpunkt = pkte[-1]\n",
      "\n",
      "# ein Pkt: pkte[0]\n",
      "# wieder zur\u00fcck: x = pkte[:,0]\n",
      "\n",
      "\"\"\"\n",
      "fig = plt.figure()\n",
      "ax = fig.add_subplot(111, projection='3d')\n",
      "ax.scatter(x[5:-5:], y[5:-5:], z[5:-5:], s=10)\n",
      "ax.scatter(x[:4:], y[:4:], z[:4:], s = 20, c =\"r\")\n",
      "ax.scatter(x[-4::], y[-4::], z[-4::], s = 20, c =\"r\")\n",
      "\"\"\"\n"
     ],
     "language": "python",
     "metadata": {},
     "outputs": [
      {
       "metadata": {},
       "output_type": "pyout",
       "prompt_number": 32,
       "text": [
        "'\\nfig = plt.figure()\\nax = fig.add_subplot(111, projection=\\'3d\\')\\nax.scatter(x[5:-5:], y[5:-5:], z[5:-5:], s=10)\\nax.scatter(x[:4:], y[:4:], z[:4:], s = 20, c =\"r\")\\nax.scatter(x[-4::], y[-4::], z[-4::], s = 20, c =\"r\")\\n'"
       ]
      }
     ],
     "prompt_number": 32
    },
    {
     "cell_type": "code",
     "collapsed": false,
     "input": [
      "#das gedrehte darstellen\n",
      "\n",
      "phi = np.pi / 2 #immer in vielfachen von pi w\u00e4hlen\n",
      "\n",
      "xgedr = dreheny(phi, x, y, z)[0]\n",
      "ygedr = dreheny(phi, x, y, z)[1]\n",
      "zgedr = dreheny(phi, x, y, z)[2]\n",
      "\n",
      "\"\"\"\n",
      "fig = plt.figure()\n",
      "ax = fig.add_subplot(111, projection='3d')\n",
      "ax.scatter(xgedr[5:-5:], ygedr[5:-5:], zgedr[5:-5:], s=10)\n",
      "ax.scatter(xgedr[:4:], ygedr[:4:], zgedr[:4:], s = 20, c =\"r\")\n",
      "ax.scatter(xgedr[-4::], ygedr[-4::], zgedr[-4::], s = 20, c =\"r\")\n",
      "\"\"\""
     ],
     "language": "python",
     "metadata": {},
     "outputs": [
      {
       "metadata": {},
       "output_type": "pyout",
       "prompt_number": 4,
       "text": [
        "'\\nfig = plt.figure()\\nax = fig.add_subplot(111, projection=\\'3d\\')\\nax.scatter(xgedr[5:-5:], ygedr[5:-5:], zgedr[5:-5:], s=10)\\nax.scatter(xgedr[:4:], ygedr[:4:], zgedr[:4:], s = 20, c =\"r\")\\nax.scatter(xgedr[-4::], ygedr[-4::], zgedr[-4::], s = 20, c =\"r\")\\n'"
       ]
      }
     ],
     "prompt_number": 4
    },
    {
     "cell_type": "code",
     "collapsed": false,
     "input": [
      "#L\u00e4ngenkalibration, wir wissen, dass der Abstand von c-c 154 pm ist.\n",
      "#Wir machen das am Glycin, weil das am einfachsten f\u00fcr uns ist.\n",
      "\n",
      "eichnutz = ((aminos == \"GLY\") & (atom == \"C  \") | ((aminos == \"GLY\") & (atom == \"CA \")))\n",
      "xeich = x[eichnutz]\n",
      "yeich = y[eichnutz]\n",
      "zeich = z[eichnutz]\n",
      "\n",
      "\n",
      "#das sieht so komisch aus, wegen alter Version\n",
      "abstaendeeich= abstand( np.array([xeich[0::2],yeich[0::2],zeich[0::2]]),np.array([xeich[1::2],yeich[1::2],zeich[1::2]]))\n",
      "kalib = 154 / np.mean(abstaendeeich) #pm\n",
      "kalibfehl = np.std(abstaendeeich) * kalib\n",
      "\n",
      "print str(kalib) + \"+-\" +str (kalibfehl) +\" pm\""
     ],
     "language": "python",
     "metadata": {},
     "outputs": [
      {
       "output_type": "stream",
       "stream": "stdout",
       "text": [
        "101.587757083+-0.196702340497 pm\n"
       ]
      }
     ],
     "prompt_number": 5
    },
    {
     "cell_type": "code",
     "collapsed": false,
     "input": [
      "#globale Variablen:\n",
      "\n",
      "#Entfernung, die der Linker mindestens immer haben sollte geschaetzter Wert 5 Angstr\u00f6m \n",
      "\n",
      "minabstand = 500/kalib #in pm\n",
      "\n",
      "#Entfernung, die ein Linker maximal haben darf vom Protein\n",
      "\n",
      "maxabstand = 5000/kalib"
     ],
     "language": "python",
     "metadata": {},
     "outputs": [],
     "prompt_number": 6
    },
    {
     "cell_type": "markdown",
     "metadata": {},
     "source": [
      "Wir testen, ob sich die Enden einfach direkt verbinden lassen. Daf\u00fcr schauen wir ob auf der Verbindungslinie zwischen den beiden Enden im senkrechten Abstand alle Punkte mindestens einen gewissen Abstand haben. Da aber der Punkteraum diskret ist und nicht ausgeschmiert, schauen wir einfach f\u00fcr jeden W\u00fcrfel um die Verbindungslinie, welches der geringste Abstand eines Punktes ist. Ist dieser geringer als unser geforderter Mindestabstand, bricht der Algorithmus sofort ab und es kann weiter gehen. Die W\u00fcrfel sind nur dazu da, dass wir nicht immer den Abstand des gesamten Proteins zur Linie berechnen m\u00fcssen. Wenn ein Punkt zu nah ist, finden wir ihn so auf jeden Fall.\n",
      "\n",
      "Wir m\u00fcssen auf jeden Fall den Abstand zwischen zwei Messpunkten so w\u00e4hlen, dass selbst wenn der Punkt am ung\u00fcnstigsten liegt, wir ihn aussortieren. Lieber zu fr\u00fch aussortieren als zu sp\u00e4t und dann eben das normale Prozedere durchmachen lassen. Wir w\u00e4hlen die Abst\u00e4nde so, dass immer der n\u00e4chste Punkt \n",
      "\n",
      "Der erste Messpunkt muss so sein, dass nicht unser Startpunkt in den ersten W\u00fcrfel f\u00e4llt, genauso beim letzten."
     ]
    },
    {
     "cell_type": "code",
     "collapsed": false,
     "input": [
      "abstandanfend = abstand(anfangspunkt, endpunkt)\n",
      "kantenlaenge = 4 * minabstand\n",
      "#print kantenlaenge\n",
      "wuerfeldiaghalbe = np.sqrt(3)/2 * kantenlaenge\n",
      "#print wuerfeldiaghalbe\n",
      "\n",
      "anzahlwuerfel = int(abstandanfend / wuerfeldiaghalbe) #wir setzen einen mehr ein, als wir m\u00fcssten\n",
      "if anzahlwuerfel == 0:\n",
      "    if abstandanfend < (2* minabstand):\n",
      "        print \"Die Enden sind extrem nah beieinander, einfach versuchen zu zyklieren mit Linker, der genau der L\u00e4nge entspricht!\"\n",
      "    else:\n",
      "        wuerfelmitten = np.array([(anfangspunkt-endpunkt)/2])\n",
      "        kantenlaenge = abstandanfend / np.sqrt(3)\n",
      "else:\n",
      "    wuerfelabstand = (abstandanfend - (2* wuerfeldiaghalbe))/(anzahlwuerfel - 1)\n",
      "    \n",
      "    #print anzahlwuerfel\n",
      "    \n",
      "    #nun die Verbindungsgerade zwischen den beiden Punkten. v = m * t + 0 mit normiertem m und t (Abstand*parameter)\n",
      "    wuerfelmitten = []\n",
      "    for i in range(0, anzahlwuerfel):\n",
      "        wuerfelmitten.append( (pkte [-1]-anfangspunkt)/abstandanfend * (wuerfelabstand * i + wuerfeldiaghalbe) + anfangspunkt)\n",
      "        \n",
      "    wuerfelmitten = np.array(wuerfelmitten)\n",
      "    \n",
      "#print wuerfelmitten\n",
      "\n",
      "\n",
      "#minimale Abstand, den etwas haben muss, von W\u00fcrfelmittelpunkt, ab dem wir sagen, dass was zu nah ist, das ist auch \n",
      "#der Fehler den wir haben k\u00f6nnen.\n",
      "minabstandcalc = np.sqrt(minabstand**2 + wuerfelabstand**2)\n",
      "\n",
      "derallernaechstepunkt = None\n",
      "\n",
      "#das Einschr\u00e4nken der Werte auf die W\u00fcrfelinnereien\n",
      "for mitte in wuerfelmitten:\n",
      "    keep = ((pkte[:,0] > (mitte[0] - (kantenlaenge / 2))) & (pkte[:,0] < (mitte[0] + (kantenlaenge / 2))) & \\\n",
      "            (pkte[:,1] > (mitte[1] - (kantenlaenge / 2))) & (pkte[:,1] < (mitte[1] + (kantenlaenge / 2))) & \\\n",
      "            (pkte[:,2] > (mitte[2] - (kantenlaenge / 2))) & (pkte[:,2] < (mitte[2] + (kantenlaenge / 2))))   \n",
      "    \n",
      "    wuerfelpunkte = pkte[keep]\n",
      "    #print wuerfelpunkte\n",
      "    #print abstandarray(mitte, wuerfelpunkte)\n",
      "    mintemp = np.min(abstandpktzuarray(mitte, wuerfelpunkte))\n",
      "    #print mintemp\n",
      "    if  mintemp < minabstandcalc:\n",
      "        print \"Es ist nicht m\u00f6glich einen direkten Linker zu bauen. Der minimale Abstand von der direkten Verbindung betrug: \" \\\n",
      "                + str( mintemp * kalib) + \" pm\"\n",
      "        break\n",
      "     \n",
      "    else:\n",
      "        if derallernaechstepunkt == None:\n",
      "            derallernaechstepunkt = mintemp\n",
      "        elif mintemp < derallernaechstepunkt:\n",
      "            derallernaechstepunkt = mintemp\n",
      "\n",
      "else:\n",
      "    print \"Es ist m\u00f6glich einen direkten Linker zu machen, da der n\u00e4chste Punkt vom Linker \" + str(derallernaechstepunkt * kalib) + \\\n",
      "          \" pm entfernt ist.\"\n",
      "    \n",
      "    \n",
      "#FIXME, der Control Flow... Wenn es vorher feststellt, dass die Enden sehr nah beieinander sind, geht es dennoch durch das ganze \n",
      "#untere wieder durch... Mal schauen, was sich da machen l\u00e4sst."
     ],
     "language": "python",
     "metadata": {},
     "outputs": [
      {
       "output_type": "stream",
       "stream": "stdout",
       "text": [
        "Es ist nicht m\u00f6glich einen direkten Linker zu bauen. Der minimale Abstand von der direkten Verbindung betrug: 435.626470249 pm\n"
       ]
      }
     ],
     "prompt_number": 7
    },
    {
     "cell_type": "markdown",
     "metadata": {},
     "source": [
      "Ob eine Region au\u00dfen ist. Daf\u00fcr werden von dem Punkt Strahlen in alle Richtungen in 5\u00b0 Schritten gemacht und diese dann in eine Liste geschrieben, welche Winkel frei sind."
     ]
    },
    {
     "cell_type": "code",
     "collapsed": false,
     "input": [
      "#Test, ob die Enden auch au\u00dfensind\n",
      "#Abstand zwischen Anfang und allen anderen Punkten in einem Array\n",
      "\n",
      "#aufpunkt, der Punkt von wo aus geht\n",
      "#gerade: normiert\n",
      "#gibt True zur\u00fcck, wenn kein Punkt in der N\u00e4he der Geraden ist.\n",
      "\n",
      "def punktebeigerade(minabstand, pkte, gerade, aufpunkt, laenge):\n",
      "    kantenlaenge = 4 * minabstand\n",
      "    wuerfeldiaghalbe = np.sqrt(3)/2 * kantenlaenge\n",
      "    \n",
      "    anzahlwuerfel = int(laenge / wuerfeldiaghalbe) + 1 \n",
      "    \n",
      "    #nun die Verbindungsgerade zwischen den beiden Punkten. v = m * t + x0 mit normiertem m und t (Abstand*parameter)\n",
      "    wuerfelmitten = []\n",
      "\n",
      "    for i in range(0, anzahlwuerfel):\n",
      "        wuerfelmitten.append( gerade * (wuerfeldiaghalbe * (i + 1)) + aufpunkt)\n",
      "    \n",
      "        \n",
      "    wuerfelmitten = np.array(wuerfelmitten)\n",
      "        \n",
      "    #print wuerfelmitten\n",
      "    \n",
      "    \n",
      "    #minimale Abstand, den etwas haben muss, von W\u00fcrfelmittelpunkt, ab dem wir sagen, dass was zu nah ist\n",
      "    minabstandcalc = np.sqrt(5) * minabstand\n",
      "    \n",
      "    \n",
      "    #das Einschr\u00e4nken der Werte auf die W\u00fcrfelinnereien\n",
      "    for mitte in wuerfelmitten:\n",
      "        keep = ((pkte[:,0] > (mitte[0] - (kantenlaenge / 2))) & (pkte[:,0] < (mitte[0] + (kantenlaenge / 2))) & \\\n",
      "                (pkte[:,1] > (mitte[1] - (kantenlaenge / 2))) & (pkte[:,1] < (mitte[1] + (kantenlaenge / 2))) & \\\n",
      "                (pkte[:,2] > (mitte[2] - (kantenlaenge / 2))) & (pkte[:,2] < (mitte[2] + (kantenlaenge / 2))))   \n",
      "        \n",
      "        \n",
      "        wuerfelpunkte = pkte[keep]\n",
      "        if np.size(wuerfelpunkte) == 0:\n",
      "            continue\n",
      "        \n",
      "        mintemp = np.min(abstandpktzuarray(mitte, wuerfelpunkte))\n",
      "        \n",
      "        if  mintemp < minabstandcalc:\n",
      "            return False\n",
      "            break\n",
      "         \n",
      "    else:\n",
      "        return True\n",
      "    \n",
      "\n",
      "#das sind nun 2592 Berechnungen...\n",
      "testwinkel = np.mgrid[0:180:5, 0:360:5] * np.pi/180 #Endwinkel nicht enthalten, null mit drinnen, das sind ja auch nur 70 Rechn extra\n",
      "winkelarray = np.reshape(np.ravel(testwinkel), (2592,2), 'F')    \n",
      "\n",
      "mittelpunkt = np.mean(pkte, axis = 0) #braucht man das noch?\n",
      "gerade = np.array([0,0,1])\n",
      "\n",
      "pktegedr = pkte #hier m\u00fcssen dann die gedrehten pkte hin, dass gerade = (0,0,1)\n",
      "\n",
      "#die Winkel sind von der Z-Achse gemessen.\n",
      "\n",
      "#Ueberpr\u00fcfen, ob der Anfang innen ist.\n",
      "maxvonanfang = np.max(abstandpktzuarray(pkte [0] ,pkte))\n",
      "#geradenarray = np.reshape(np.ravel(drehenxy(testwinkel[0], testwinkel[1], gerade), order = 'F'), (2592,3), 'C')\n",
      "\n",
      "moeglichewinkelanfangbool = []\n",
      "\n",
      "for winkel in winkelarray:\n",
      "    moeglichewinkelanfangbool.append(punktebeigerade(minabstand, pkte, drehenxy(winkel[0], winkel[1], gerade), pktegedr[0]\\\n",
      "                                                 , maxvonanfang))\n",
      "\n",
      "moeglichewinkelanfangbool = np.array(moeglichewinkelanfangbool)    \n",
      "\n",
      "\n",
      "#\u00dcberpr\u00fcfen, ob das Ende innen ist.\n",
      "maxvonende = np.max(abstandpktzuarray(pkte [-1] ,pkte))\n",
      "\n",
      "moeglichewinkelendebool = []\n",
      "\n",
      "for winkel in winkelarray:\n",
      "    moeglichewinkelendebool.append(punktebeigerade(minabstand, pkte, drehenxy(winkel[0], winkel[1], gerade), pktegedr[0], maxvonende))\n",
      "\n",
      "moeglichewinkelendebool = np.array(moeglichewinkelendebool)\n",
      "\n",
      "moeglichewinkelanfang = winkelarray[moeglichewinkelanfangbool]\n",
      "moeglichewinkelende = winkelarray[moeglichewinkelendebool]"
     ],
     "language": "python",
     "metadata": {},
     "outputs": [],
     "prompt_number": 8
    },
    {
     "cell_type": "markdown",
     "metadata": {},
     "source": [
      "Wir versuchen nun wirklich einen Linker zu finden. Daf\u00fcr alle m\u00f6glichen Linker, die zum Ziel f\u00fchren erzeugen lassen. So ein Linker ist eindeutig bestimmt, durch die Punkte, durch die er durchgeht, das hei\u00dft man muss nur die Punkte abspeichern lassen. Die kann man dann auswerten im Endeffekt und so den besten Linker rausfinden.\n",
      "\n",
      "Dabei kann ein Linker maximal 3 Winkel haben, dann ist es m\u00f6glich ein 5 Eck mit den Punkten zu bauen. Das ergibt bei einer Winkelvervteilung von jeweils 5 \u00b0 2500^3 M\u00f6glichkeiten.\n",
      "\n",
      "Jede Aminos\u00e4ure in einer Alphahelix macht dann eine Verschiebung um 1,5 Angstr\u00f6m. Das hei\u00dft, dass jedes einzelne Linkerst\u00fcck (keine Gelenke) 1.5A lang ist.\n",
      "\n",
      "F\u00fcr die maximale L\u00e4nge des Linkers legen wir eine Schnur um eine Kugel, mit dem Radius des 3/4 (noch dr\u00fcber sprechen) des maximalen Abstands von dem Ende zu dem Rest.\n",
      "\n"
     ]
    },
    {
     "cell_type": "markdown",
     "metadata": {},
     "source": [
      "Wir fangen sowohl vorne als auch hinten an, mit allen Winkeln, die m\u00f6glich sind und allen L\u00e4ngen, die m\u00f6glich sind. Wir bekommen dann Arrays von den ersten Punkten und den letzten Punkten nach dem Protein."
     ]
    },
    {
     "cell_type": "code",
     "collapsed": false,
     "input": [
      "#gibt ein Array zur\u00fcck, das zu jedem Punkt, jede Verschiebung macht aus dem verschiebungsarray. Verschiebungsarray\n",
      "#sind einfach Vektoren, wie das verschoben werden kann\n",
      "#anfangsarray sind Vektoren, von denen wir ausgehen.\n",
      "\n",
      "def naechstepunkte(anfangsarray, verschiebungsarray):\n",
      "    laengeanfang = np.size(anfangsarray, axis=0)\n",
      "    laengeversch = np.size(verschiebungsarray, axis=0)\n",
      "    hilfanfang = np.repeat(anfangsarray, laengeversch, axis=0)\n",
      "    hilfversch = np.tile(verschiebungsarray, (laengeanfang, 1))\n",
      "    return [hilfanfang, hilfanfang + hilfversch]\n",
      "\n",
      "#schmei\u00dft Punkte raus, die in dem Protein liegen, bzw. die zu weit vom Protein weg sind,\n",
      "#gibt ein Bool Array raus, mit dem man das Punktearray slicen kann, vom Protein wird nur jeder 4 Punkt verwendet\n",
      "def aussortierennachpunken(punktearray, proteinpunkte, minabstand, maxabstand):\n",
      "    temp1 = np.repeat(punktearray, np.size(proteinpunkte[::4], axis=0), axis =0)\n",
      "    temp2 = np.tile(proteinpunkte[::4], (np.size(punktearray, axis=0),1))\n",
      "    abstaende = np.reshape(abstandarrays(temp1, temp2), (np.size(punktearray, axis=0), np.size(proteinpunkte[::4], axis=0)))\n",
      "    minimaleabst = np.min(abstaende, axis=1)\n",
      "    keep = (minimaleabst < maxabstand) & (minimaleabst > minabstand)\n",
      "    return keep\n",
      "    \n",
      "\n",
      "#hier muss man eintragen, welche Helix-linkerl\u00e4ngen in AS m\u00f6glich sind.\n",
      "linkerdatenbank = np.array([\"AEAAAKEAAAKA\", \"AEAAAKEAAAKEAAAKA\", \"AEAAAKEAAAKEAAAKEAAAKA\",\\\n",
      "                   \"AEAAAKEAAAKEAAAKEAAAKEAAAKA\"])\n",
      "linkerlaengenAS = []\n",
      "\n",
      "for i in range(len(linkerdatenbank)):\n",
      "    linkerlaengenAS.append(len(linkerdatenbank[i]))\n",
      "    \n",
      "linkerlaengenAS = np.array(linkerlaengenAS)\n",
      "linkerlaengenME = linkerlaengenAS * 150 #in pm\n",
      "linkerlaengenKO = linkerlaengenME / kalib #in koordinaten\n",
      "laengstesstueck = np.max(linkerlaengenKO)\n",
      "anzahllinker = np.size(linkerlaengenKO)\n",
      "\n",
      "maxlinker = int(1.5 * max(maxvonanfang, maxvonende)) #pi*0.75/1.5 in Aminos\u00e4uren\n",
      "\n",
      "#wir machen Arrays aus den Verschiebungen, f\u00fcr alle drei auf einmal, alle normiert\n",
      "anfversch = np.array([[0,0,0]])\n",
      "endversch = np.array([[0,0,0]])\n",
      "versch = np.array([[0,0,0]])\n",
      "for winkel in winkelarray:\n",
      "    temp = drehenxy(winkel[0], winkel[1], np.array([0,0,1]))\n",
      "    versch = np.append(versch, [temp], axis=0)\n",
      "    if any((moeglichewinkelanfang[:]==winkel).all(1)):\n",
      "        anfversch = np.append(anfversch, [temp], axis=0)\n",
      "    if any((moeglichewinkelende[:]==winkel).all(1)):\n",
      "        endversch = np.append(endversch, [temp], axis=0)\n",
      "\n",
      "#die verschiebungen mit den Linkerl\u00e4ngen multiplizieren, wichtig ist, in den versch sind immer auch nuller drinnen\n",
      "versch = np.tile(versch, (np.size(linkerlaengenKO),1)) * \\\n",
      "        np.reshape( np.repeat(np.repeat(linkerlaengenKO, np.size(versch, axis=0)), 3), \\\n",
      "                   (anzahllinker*np.size(versch, axis=0),3))\n",
      "\n",
      "anfversch = np.tile(anfversch, (np.size(linkerlaengenKO),1)) * \\\n",
      "           np.reshape( np.repeat(np.repeat(linkerlaengenKO, np.size(anfversch, axis=0)), 3),\\\n",
      "                      (anzahllinker*np.size(anfversch, axis=0),3))\n",
      "    \n",
      "endversch = np.tile(endversch, (np.size(linkerlaengenKO),1)) * \\\n",
      "           np.reshape( np.repeat(np.repeat(linkerlaengenKO, np.size(endversch, axis=0)), 3), \\\n",
      "                      (anzahllinker*np.size(endversch, axis=0),3))\n",
      "    \n",
      "#hier werden die Punkte generiert\n",
      "erstepunkte = naechstepunkte([anfangspunkt],anfversch)[1]\n",
      "erstepunkte = erstepunkte[aussortierennachpunken(erstepunkte, pkte, minabstand, maxabstand)]\n",
      "letztepunkte = naechstepunkte([endpunkt], endversch)[1]\n",
      "letztepunkte = letztepunkte[aussortierennachpunken(letztepunkte, pkte, minabstand, maxabstand)]\n",
      "\n",
      "#die zweite iteration, erstepunkte wird so gro\u00df gemacht, wie zweitepunkte, damit \n",
      "zweiteiteration = naechstepunkte(erstepunkte, versch)\n",
      "zweitepunkte = zweiteiteration[1]\n",
      "erstepunkte = zweiteiteration[0]\n"
     ],
     "language": "python",
     "metadata": {},
     "outputs": [
      {
       "output_type": "stream",
       "stream": "stdout",
       "text": [
        "(4314752, 3)\n"
       ]
      }
     ],
     "prompt_number": 39
    },
    {
     "cell_type": "code",
     "collapsed": false,
     "input": [],
     "language": "python",
     "metadata": {},
     "outputs": [
      {
       "output_type": "stream",
       "stream": "stdout",
       "text": [
        "[[  0.           0.           0.        ]\n",
        " [  0.           0.          17.71867055]\n",
        " [ -1.54428389   0.          17.65124566]\n",
        " ..., \n",
        " [-10.27907673  -3.47463876 -38.36203662]\n",
        " [ -6.89648995  -3.47463876 -39.11193805]\n",
        " [ -3.46141671  -3.47463876 -39.56417402]]\n"
       ]
      }
     ],
     "prompt_number": 43
    },
    {
     "cell_type": "code",
     "collapsed": false,
     "input": [
      "#wir sortieren zweite Punkte aus, die zu weit vom Ende entfernt liegen, sodass sie nicht mehr durch \n",
      "#die doppelte l\u00e4ngste Linkerl\u00e4nge verbunden werden k\u00f6nnen\n",
      "\n",
      "temp = abstandpktzuarray(endpunkt, zweitepunkte)\n",
      "keep = temp < (2 * laengstesstueck)\n",
      "zweitepunkte = zweitepunkte[keep]\n",
      "erstepunkte = erstepunkte[keep]\n"
     ],
     "language": "python",
     "metadata": {},
     "outputs": [
      {
       "metadata": {},
       "output_type": "pyout",
       "prompt_number": 38,
       "text": [
        "(3955165, 3)"
       ]
      }
     ],
     "prompt_number": 38
    },
    {
     "cell_type": "code",
     "collapsed": false,
     "input": [
      "#wie genau m\u00fcssen sich die St\u00fccke treffen wird durch hitgenauig bestimmt, es ist sin(5\u00b0) * maximale linkerl\u00e4nge\n",
      "hitgenauig = 0.0436 * laengstesstueck\n",
      "\n",
      "def aussortierennachabstaenden(punktearray, zielpunkte, abstand, variation):\n",
      "    temp1 = np.repeat(punktearray, np.size(zielpunkte, axis=0), axis =0)\n",
      "    temp2 = np.tile(zielpunkte, (np.size(punktearray, axis=0),1))\n",
      "    abstaende = np.reshape(abstandarrays(temp1, temp2), (np.size(punktearray, axis=0), np.size(zielpunkte, axis=0)))\n",
      "    passend = ((abstaende > (abstand-variation)) & (abstaende < (abstand+variation)))\n",
      "    keep = np.max(passend, axis=1) \n",
      "    return keep\n",
      "\n",
      "for laenge in linkerlaengenKO:\n",
      "    behalten = aussortierennachabstaenden(zweitepunkte, letztepunkte, laenge, hitgenauig)\n",
      "    zweitepunkte= zweitepunkte[behalten]\n",
      "    erstepunkte = erstepunkte[behalten]\n",
      "    \n",
      "print np.shape(zweitepunkte)"
     ],
     "language": "python",
     "metadata": {},
     "outputs": [
      {
       "ename": "MemoryError",
       "evalue": "",
       "output_type": "pyerr",
       "traceback": [
        "\u001b[0;31m---------------------------------------------------------------------------\u001b[0m\n\u001b[0;31mMemoryError\u001b[0m                               Traceback (most recent call last)",
        "\u001b[0;32m<ipython-input-50-c909a7ce7c5f>\u001b[0m in \u001b[0;36m<module>\u001b[0;34m()\u001b[0m\n\u001b[1;32m     11\u001b[0m \u001b[0;34m\u001b[0m\u001b[0m\n\u001b[1;32m     12\u001b[0m \u001b[0;32mfor\u001b[0m \u001b[0mlaenge\u001b[0m \u001b[0;32min\u001b[0m \u001b[0mlinkerlaengenKO\u001b[0m\u001b[0;34m:\u001b[0m\u001b[0;34m\u001b[0m\u001b[0m\n\u001b[0;32m---> 13\u001b[0;31m     \u001b[0mbehalten\u001b[0m \u001b[0;34m=\u001b[0m \u001b[0maussortierennachabstaenden\u001b[0m\u001b[0;34m(\u001b[0m\u001b[0mzweitepunkte\u001b[0m\u001b[0;34m,\u001b[0m \u001b[0mletztepunkte\u001b[0m\u001b[0;34m,\u001b[0m \u001b[0mlaenge\u001b[0m\u001b[0;34m,\u001b[0m \u001b[0mhitgenauig\u001b[0m\u001b[0;34m)\u001b[0m\u001b[0;34m\u001b[0m\u001b[0m\n\u001b[0m\u001b[1;32m     14\u001b[0m     \u001b[0mzweitepunkte\u001b[0m\u001b[0;34m=\u001b[0m \u001b[0mzweitepunkte\u001b[0m\u001b[0;34m[\u001b[0m\u001b[0mbehalten\u001b[0m\u001b[0;34m]\u001b[0m\u001b[0;34m\u001b[0m\u001b[0m\n\u001b[1;32m     15\u001b[0m     \u001b[0merstepunkte\u001b[0m \u001b[0;34m=\u001b[0m \u001b[0merstepunkte\u001b[0m\u001b[0;34m[\u001b[0m\u001b[0mbehalten\u001b[0m\u001b[0;34m]\u001b[0m\u001b[0;34m\u001b[0m\u001b[0m\n",
        "\u001b[0;32m<ipython-input-50-c909a7ce7c5f>\u001b[0m in \u001b[0;36maussortierennachabstaenden\u001b[0;34m(punktearray, zielpunkte, abstand, variation)\u001b[0m\n\u001b[1;32m      3\u001b[0m \u001b[0;34m\u001b[0m\u001b[0m\n\u001b[1;32m      4\u001b[0m \u001b[0;32mdef\u001b[0m \u001b[0maussortierennachabstaenden\u001b[0m\u001b[0;34m(\u001b[0m\u001b[0mpunktearray\u001b[0m\u001b[0;34m,\u001b[0m \u001b[0mzielpunkte\u001b[0m\u001b[0;34m,\u001b[0m \u001b[0mabstand\u001b[0m\u001b[0;34m,\u001b[0m \u001b[0mvariation\u001b[0m\u001b[0;34m)\u001b[0m\u001b[0;34m:\u001b[0m\u001b[0;34m\u001b[0m\u001b[0m\n\u001b[0;32m----> 5\u001b[0;31m     \u001b[0mtemp1\u001b[0m \u001b[0;34m=\u001b[0m \u001b[0mnp\u001b[0m\u001b[0;34m.\u001b[0m\u001b[0mrepeat\u001b[0m\u001b[0;34m(\u001b[0m\u001b[0mpunktearray\u001b[0m\u001b[0;34m,\u001b[0m \u001b[0mnp\u001b[0m\u001b[0;34m.\u001b[0m\u001b[0msize\u001b[0m\u001b[0;34m(\u001b[0m\u001b[0mzielpunkte\u001b[0m\u001b[0;34m,\u001b[0m \u001b[0maxis\u001b[0m\u001b[0;34m=\u001b[0m\u001b[0;36m0\u001b[0m\u001b[0;34m)\u001b[0m\u001b[0;34m,\u001b[0m \u001b[0maxis\u001b[0m \u001b[0;34m=\u001b[0m\u001b[0;36m0\u001b[0m\u001b[0;34m)\u001b[0m\u001b[0;34m\u001b[0m\u001b[0m\n\u001b[0m\u001b[1;32m      6\u001b[0m     \u001b[0mtemp2\u001b[0m \u001b[0;34m=\u001b[0m \u001b[0mnp\u001b[0m\u001b[0;34m.\u001b[0m\u001b[0mtile\u001b[0m\u001b[0;34m(\u001b[0m\u001b[0mzielpunkte\u001b[0m\u001b[0;34m,\u001b[0m \u001b[0;34m(\u001b[0m\u001b[0mnp\u001b[0m\u001b[0;34m.\u001b[0m\u001b[0msize\u001b[0m\u001b[0;34m(\u001b[0m\u001b[0mpunktearray\u001b[0m\u001b[0;34m,\u001b[0m \u001b[0maxis\u001b[0m\u001b[0;34m=\u001b[0m\u001b[0;36m0\u001b[0m\u001b[0;34m)\u001b[0m\u001b[0;34m,\u001b[0m\u001b[0;36m1\u001b[0m\u001b[0;34m)\u001b[0m\u001b[0;34m)\u001b[0m\u001b[0;34m\u001b[0m\u001b[0m\n\u001b[1;32m      7\u001b[0m     \u001b[0mabstaende\u001b[0m \u001b[0;34m=\u001b[0m \u001b[0mnp\u001b[0m\u001b[0;34m.\u001b[0m\u001b[0mreshape\u001b[0m\u001b[0;34m(\u001b[0m\u001b[0mabstandarrays\u001b[0m\u001b[0;34m(\u001b[0m\u001b[0mtemp1\u001b[0m\u001b[0;34m,\u001b[0m \u001b[0mtemp2\u001b[0m\u001b[0;34m)\u001b[0m\u001b[0;34m,\u001b[0m \u001b[0;34m(\u001b[0m\u001b[0mnp\u001b[0m\u001b[0;34m.\u001b[0m\u001b[0msize\u001b[0m\u001b[0;34m(\u001b[0m\u001b[0mpunktearray\u001b[0m\u001b[0;34m,\u001b[0m \u001b[0maxis\u001b[0m\u001b[0;34m=\u001b[0m\u001b[0;36m0\u001b[0m\u001b[0;34m)\u001b[0m\u001b[0;34m,\u001b[0m \u001b[0mnp\u001b[0m\u001b[0;34m.\u001b[0m\u001b[0msize\u001b[0m\u001b[0;34m(\u001b[0m\u001b[0mzielpunkte\u001b[0m\u001b[0;34m,\u001b[0m \u001b[0maxis\u001b[0m\u001b[0;34m=\u001b[0m\u001b[0;36m0\u001b[0m\u001b[0;34m)\u001b[0m\u001b[0;34m)\u001b[0m\u001b[0;34m)\u001b[0m\u001b[0;34m\u001b[0m\u001b[0m\n",
        "\u001b[0;32m/usr/lib/python2.7/dist-packages/numpy/core/fromnumeric.pyc\u001b[0m in \u001b[0;36mrepeat\u001b[0;34m(a, repeats, axis)\u001b[0m\n\u001b[1;32m    388\u001b[0m     \u001b[0;32mexcept\u001b[0m \u001b[0mAttributeError\u001b[0m\u001b[0;34m:\u001b[0m\u001b[0;34m\u001b[0m\u001b[0m\n\u001b[1;32m    389\u001b[0m         \u001b[0;32mreturn\u001b[0m \u001b[0m_wrapit\u001b[0m\u001b[0;34m(\u001b[0m\u001b[0ma\u001b[0m\u001b[0;34m,\u001b[0m \u001b[0;34m'repeat'\u001b[0m\u001b[0;34m,\u001b[0m \u001b[0mrepeats\u001b[0m\u001b[0;34m,\u001b[0m \u001b[0maxis\u001b[0m\u001b[0;34m)\u001b[0m\u001b[0;34m\u001b[0m\u001b[0m\n\u001b[0;32m--> 390\u001b[0;31m     \u001b[0;32mreturn\u001b[0m \u001b[0mrepeat\u001b[0m\u001b[0;34m(\u001b[0m\u001b[0mrepeats\u001b[0m\u001b[0;34m,\u001b[0m \u001b[0maxis\u001b[0m\u001b[0;34m)\u001b[0m\u001b[0;34m\u001b[0m\u001b[0m\n\u001b[0m\u001b[1;32m    391\u001b[0m \u001b[0;34m\u001b[0m\u001b[0m\n\u001b[1;32m    392\u001b[0m \u001b[0;34m\u001b[0m\u001b[0m\n",
        "\u001b[0;31mMemoryError\u001b[0m: "
       ]
      }
     ],
     "prompt_number": 50
    },
    {
     "cell_type": "code",
     "collapsed": false,
     "input": [],
     "language": "python",
     "metadata": {},
     "outputs": []
    },
    {
     "cell_type": "code",
     "collapsed": false,
     "input": [
      "#wir sortieren die Punkte aus, die zu weit oder zu nah im Protein sind\n",
      "\n",
      "temp = [aussortierennachpunken(zweitepunkte[0::400], pkte, minabstand, maxabstand)]\n",
      "\n",
      "for i in range(1,400):\n",
      "    temp.append( aussortierennachpunken(zweitepunkte[i::400], pkte, minabstand, maxabstand))\n",
      "    \n",
      "temp = np.array(temp)\n",
      "temp = np.ravel(temp,'F')\n",
      "zweitepunkte = zweitepunkte[temp]\n",
      "erstepunkte = erstepunkte[temp]"
     ],
     "language": "python",
     "metadata": {},
     "outputs": [
      {
       "ename": "KeyboardInterrupt",
       "evalue": "",
       "output_type": "pyerr",
       "traceback": [
        "\u001b[0;31m---------------------------------------------------------------------------\u001b[0m\n\u001b[0;31mKeyboardInterrupt\u001b[0m                         Traceback (most recent call last)",
        "\u001b[0;32m<ipython-input-35-b694f1dc0416>\u001b[0m in \u001b[0;36m<module>\u001b[0;34m()\u001b[0m\n\u001b[1;32m     12\u001b[0m \u001b[0;34m\u001b[0m\u001b[0m\n\u001b[1;32m     13\u001b[0m \u001b[0;32mfor\u001b[0m \u001b[0mi\u001b[0m \u001b[0;32min\u001b[0m \u001b[0mrange\u001b[0m\u001b[0;34m(\u001b[0m\u001b[0;36m1\u001b[0m\u001b[0;34m,\u001b[0m\u001b[0;36m400\u001b[0m\u001b[0;34m)\u001b[0m\u001b[0;34m:\u001b[0m\u001b[0;34m\u001b[0m\u001b[0m\n\u001b[0;32m---> 14\u001b[0;31m     \u001b[0mtemp\u001b[0m\u001b[0;34m.\u001b[0m\u001b[0mappend\u001b[0m\u001b[0;34m(\u001b[0m \u001b[0maussortierennachpunken\u001b[0m\u001b[0;34m(\u001b[0m\u001b[0mzweitepunkte\u001b[0m\u001b[0;34m[\u001b[0m\u001b[0mi\u001b[0m\u001b[0;34m:\u001b[0m\u001b[0;34m:\u001b[0m\u001b[0;36m400\u001b[0m\u001b[0;34m]\u001b[0m\u001b[0;34m,\u001b[0m \u001b[0mpkte\u001b[0m\u001b[0;34m,\u001b[0m \u001b[0mminabstand\u001b[0m\u001b[0;34m,\u001b[0m \u001b[0mmaxabstand\u001b[0m\u001b[0;34m)\u001b[0m\u001b[0;34m)\u001b[0m\u001b[0;34m\u001b[0m\u001b[0m\n\u001b[0m\u001b[1;32m     15\u001b[0m \u001b[0;34m\u001b[0m\u001b[0m\n\u001b[1;32m     16\u001b[0m \u001b[0mtemp\u001b[0m \u001b[0;34m=\u001b[0m \u001b[0mnp\u001b[0m\u001b[0;34m.\u001b[0m\u001b[0marray\u001b[0m\u001b[0;34m(\u001b[0m\u001b[0mtemp\u001b[0m\u001b[0;34m)\u001b[0m\u001b[0;34m\u001b[0m\u001b[0m\n",
        "\u001b[0;32m<ipython-input-34-b8ff5833f441>\u001b[0m in \u001b[0;36maussortierennachpunken\u001b[0;34m(punktearray, proteinpunkte, minabstand, maxabstand)\u001b[0m\n\u001b[1;32m     15\u001b[0m     \u001b[0mtemp1\u001b[0m \u001b[0;34m=\u001b[0m \u001b[0mnp\u001b[0m\u001b[0;34m.\u001b[0m\u001b[0mrepeat\u001b[0m\u001b[0;34m(\u001b[0m\u001b[0mpunktearray\u001b[0m\u001b[0;34m,\u001b[0m \u001b[0mnp\u001b[0m\u001b[0;34m.\u001b[0m\u001b[0msize\u001b[0m\u001b[0;34m(\u001b[0m\u001b[0mproteinpunkte\u001b[0m\u001b[0;34m[\u001b[0m\u001b[0;34m:\u001b[0m\u001b[0;34m:\u001b[0m\u001b[0;36m4\u001b[0m\u001b[0;34m]\u001b[0m\u001b[0;34m,\u001b[0m \u001b[0maxis\u001b[0m\u001b[0;34m=\u001b[0m\u001b[0;36m0\u001b[0m\u001b[0;34m)\u001b[0m\u001b[0;34m,\u001b[0m \u001b[0maxis\u001b[0m \u001b[0;34m=\u001b[0m\u001b[0;36m0\u001b[0m\u001b[0;34m)\u001b[0m\u001b[0;34m\u001b[0m\u001b[0m\n\u001b[1;32m     16\u001b[0m     \u001b[0mtemp2\u001b[0m \u001b[0;34m=\u001b[0m \u001b[0mnp\u001b[0m\u001b[0;34m.\u001b[0m\u001b[0mtile\u001b[0m\u001b[0;34m(\u001b[0m\u001b[0mproteinpunkte\u001b[0m\u001b[0;34m[\u001b[0m\u001b[0;34m:\u001b[0m\u001b[0;34m:\u001b[0m\u001b[0;36m4\u001b[0m\u001b[0;34m]\u001b[0m\u001b[0;34m,\u001b[0m \u001b[0;34m(\u001b[0m\u001b[0mnp\u001b[0m\u001b[0;34m.\u001b[0m\u001b[0msize\u001b[0m\u001b[0;34m(\u001b[0m\u001b[0mpunktearray\u001b[0m\u001b[0;34m,\u001b[0m \u001b[0maxis\u001b[0m\u001b[0;34m=\u001b[0m\u001b[0;36m0\u001b[0m\u001b[0;34m)\u001b[0m\u001b[0;34m,\u001b[0m\u001b[0;36m1\u001b[0m\u001b[0;34m)\u001b[0m\u001b[0;34m)\u001b[0m\u001b[0;34m\u001b[0m\u001b[0m\n\u001b[0;32m---> 17\u001b[0;31m     \u001b[0mabstaende\u001b[0m \u001b[0;34m=\u001b[0m \u001b[0mnp\u001b[0m\u001b[0;34m.\u001b[0m\u001b[0mreshape\u001b[0m\u001b[0;34m(\u001b[0m\u001b[0mabstandarrays\u001b[0m\u001b[0;34m(\u001b[0m\u001b[0mtemp1\u001b[0m\u001b[0;34m,\u001b[0m \u001b[0mtemp2\u001b[0m\u001b[0;34m)\u001b[0m\u001b[0;34m,\u001b[0m \u001b[0;34m(\u001b[0m\u001b[0mnp\u001b[0m\u001b[0;34m.\u001b[0m\u001b[0msize\u001b[0m\u001b[0;34m(\u001b[0m\u001b[0mpunktearray\u001b[0m\u001b[0;34m,\u001b[0m \u001b[0maxis\u001b[0m\u001b[0;34m=\u001b[0m\u001b[0;36m0\u001b[0m\u001b[0;34m)\u001b[0m\u001b[0;34m,\u001b[0m \u001b[0mnp\u001b[0m\u001b[0;34m.\u001b[0m\u001b[0msize\u001b[0m\u001b[0;34m(\u001b[0m\u001b[0mproteinpunkte\u001b[0m\u001b[0;34m[\u001b[0m\u001b[0;34m:\u001b[0m\u001b[0;34m:\u001b[0m\u001b[0;36m4\u001b[0m\u001b[0;34m]\u001b[0m\u001b[0;34m,\u001b[0m \u001b[0maxis\u001b[0m\u001b[0;34m=\u001b[0m\u001b[0;36m0\u001b[0m\u001b[0;34m)\u001b[0m\u001b[0;34m)\u001b[0m\u001b[0;34m)\u001b[0m\u001b[0;34m\u001b[0m\u001b[0m\n\u001b[0m\u001b[1;32m     18\u001b[0m     \u001b[0mminimaleabst\u001b[0m \u001b[0;34m=\u001b[0m \u001b[0mnp\u001b[0m\u001b[0;34m.\u001b[0m\u001b[0mmin\u001b[0m\u001b[0;34m(\u001b[0m\u001b[0mabstaende\u001b[0m\u001b[0;34m,\u001b[0m \u001b[0maxis\u001b[0m\u001b[0;34m=\u001b[0m\u001b[0;36m1\u001b[0m\u001b[0;34m)\u001b[0m\u001b[0;34m\u001b[0m\u001b[0m\n\u001b[1;32m     19\u001b[0m     \u001b[0mkeep\u001b[0m \u001b[0;34m=\u001b[0m \u001b[0;34m(\u001b[0m\u001b[0mminimaleabst\u001b[0m \u001b[0;34m<\u001b[0m \u001b[0mmaxabstand\u001b[0m\u001b[0;34m)\u001b[0m \u001b[0;34m&\u001b[0m \u001b[0;34m(\u001b[0m\u001b[0mminimaleabst\u001b[0m \u001b[0;34m>\u001b[0m \u001b[0mminabstand\u001b[0m\u001b[0;34m)\u001b[0m\u001b[0;34m\u001b[0m\u001b[0m\n",
        "\u001b[0;32m<ipython-input-32-de797ee8a302>\u001b[0m in \u001b[0;36mabstandarrays\u001b[0;34m(ar1, ar2)\u001b[0m\n\u001b[1;32m     55\u001b[0m \u001b[0;34m\u001b[0m\u001b[0m\n\u001b[1;32m     56\u001b[0m \u001b[0;32mdef\u001b[0m \u001b[0mabstandarrays\u001b[0m\u001b[0;34m(\u001b[0m\u001b[0mar1\u001b[0m\u001b[0;34m,\u001b[0m \u001b[0mar2\u001b[0m\u001b[0;34m)\u001b[0m\u001b[0;34m:\u001b[0m\u001b[0;34m\u001b[0m\u001b[0m\n\u001b[0;32m---> 57\u001b[0;31m     \u001b[0;32mreturn\u001b[0m \u001b[0mnp\u001b[0m\u001b[0;34m.\u001b[0m\u001b[0msqrt\u001b[0m\u001b[0;34m(\u001b[0m\u001b[0;34m(\u001b[0m\u001b[0mar1\u001b[0m\u001b[0;34m[\u001b[0m\u001b[0;34m:\u001b[0m\u001b[0;34m,\u001b[0m\u001b[0;36m0\u001b[0m\u001b[0;34m]\u001b[0m\u001b[0;34m-\u001b[0m\u001b[0mar2\u001b[0m\u001b[0;34m[\u001b[0m\u001b[0;34m:\u001b[0m\u001b[0;34m,\u001b[0m\u001b[0;36m0\u001b[0m\u001b[0;34m]\u001b[0m\u001b[0;34m)\u001b[0m\u001b[0;34m**\u001b[0m\u001b[0;36m2\u001b[0m\u001b[0;34m+\u001b[0m\u001b[0;34m(\u001b[0m\u001b[0mar1\u001b[0m\u001b[0;34m[\u001b[0m\u001b[0;34m:\u001b[0m\u001b[0;34m,\u001b[0m\u001b[0;36m1\u001b[0m\u001b[0;34m]\u001b[0m\u001b[0;34m-\u001b[0m\u001b[0mar2\u001b[0m\u001b[0;34m[\u001b[0m\u001b[0;34m:\u001b[0m\u001b[0;34m,\u001b[0m\u001b[0;36m1\u001b[0m\u001b[0;34m]\u001b[0m\u001b[0;34m)\u001b[0m\u001b[0;34m**\u001b[0m\u001b[0;36m2\u001b[0m\u001b[0;34m+\u001b[0m\u001b[0;34m(\u001b[0m\u001b[0mar1\u001b[0m\u001b[0;34m[\u001b[0m\u001b[0;34m:\u001b[0m\u001b[0;34m,\u001b[0m\u001b[0;36m2\u001b[0m\u001b[0;34m]\u001b[0m\u001b[0;34m-\u001b[0m\u001b[0mar2\u001b[0m\u001b[0;34m[\u001b[0m\u001b[0;34m:\u001b[0m\u001b[0;34m,\u001b[0m\u001b[0;36m2\u001b[0m\u001b[0;34m]\u001b[0m\u001b[0;34m)\u001b[0m\u001b[0;34m**\u001b[0m\u001b[0;36m2\u001b[0m\u001b[0;34m)\u001b[0m\u001b[0;34m\u001b[0m\u001b[0m\n\u001b[0m\u001b[1;32m     58\u001b[0m \u001b[0;34m\u001b[0m\u001b[0m\n\u001b[1;32m     59\u001b[0m \u001b[0;31m#macht aus drei Arrays ein Array mit kleinen dreierarrays in einem gro\u00dfen A\u001b[0m\u001b[0;34m\u001b[0m\u001b[0;34m\u001b[0m\u001b[0m\n",
        "\u001b[0;31mKeyboardInterrupt\u001b[0m: "
       ]
      }
     ],
     "prompt_number": 35
    },
    {
     "cell_type": "code",
     "collapsed": false,
     "input": [
      "a=np.array([[1,2,3],[1,2,3]])\n",
      "temp = np.ravel(a, 'F')\n",
      "print temp"
     ],
     "language": "python",
     "metadata": {},
     "outputs": [
      {
       "output_type": "stream",
       "stream": "stdout",
       "text": [
        "[1 1 2 2 3 3]\n"
       ]
      }
     ],
     "prompt_number": 30
    },
    {
     "cell_type": "code",
     "collapsed": false,
     "input": [
      "a = np.array([[1,1,1],[2,2,2]])\n",
      "\n",
      "print a\n",
      "b = np.array([[1,1,1],[2,2,2], [3,3,3]])\n",
      "\n",
      "print b\n",
      "\n",
      "aussortierennachabstaenden(a,b,3,1)\n"
     ],
     "language": "python",
     "metadata": {},
     "outputs": [
      {
       "output_type": "stream",
       "stream": "stdout",
       "text": [
        "[[1 1 1]\n",
        " [2 2 2]]\n",
        "[[1 1 1]\n",
        " [2 2 2]\n",
        " [3 3 3]]\n"
       ]
      },
      {
       "metadata": {},
       "output_type": "pyout",
       "prompt_number": 49,
       "text": [
        "array([ True, False], dtype=bool)"
       ]
      }
     ],
     "prompt_number": 49
    },
    {
     "cell_type": "code",
     "collapsed": false,
     "input": [
      "np.max([False, False])\n"
     ],
     "language": "python",
     "metadata": {},
     "outputs": [
      {
       "metadata": {},
       "output_type": "pyout",
       "prompt_number": 45,
       "text": [
        "False"
       ]
      }
     ],
     "prompt_number": 45
    },
    {
     "cell_type": "code",
     "collapsed": false,
     "input": [
      "bla=  np.reshape(blubb, (2,3))\n",
      "print bla\n",
      "np.max(bla, axis=1)\n",
      "\n",
      "import time\n",
      "start_time = time.time()\n",
      "print ( time.time() - start_time)"
     ],
     "language": "python",
     "metadata": {},
     "outputs": []
    }
   ],
   "metadata": {}
  }
 ]
}