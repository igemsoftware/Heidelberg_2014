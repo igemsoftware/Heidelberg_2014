{
 "metadata": {
  "name": "",
  "signature": "sha256:00200d5403e51656800acc36e786ceae721d7148300c1299ce526aa1a30816b9"
 },
 "nbformat": 3,
 "nbformat_minor": 0,
 "worksheets": [
  {
   "cells": [
    {
     "cell_type": "code",
     "collapsed": false,
     "input": [
      "#Hier ist ein kleiner Versuch mal eine Software zu schreiben, wie so Linkerzeug gemacht werden k\u00f6nnte."
     ],
     "language": "python",
     "metadata": {},
     "outputs": [],
     "prompt_number": 1
    },
    {
     "cell_type": "code",
     "collapsed": false,
     "input": [
      "#einlesen des PDB files. die Dateien sollten in proteine gespeichert werden\n",
      "import numpy as np\n",
      "import matplotlib\n",
      "matplotlib.use('GTK')\n",
      "import matplotlib.pyplot as plt         #plots allgemein\n",
      "from mpl_toolkits.mplot3d import Axes3D #3d plots\n",
      "#%matplotlib inline\n",
      "#from Bio.PDB import *\n",
      "#import gc\n",
      "import time #kann im Endeffekt aussortiert werden :-)\n",
      "import cPickle as pickle       #zum Zwischenspeichern vor Abst\u00fcrzen, um Zeit zu sparen.\n",
      "import h5py                    #zum Zwischenspeichern der Ergebnisse in der Generation der neuen Punkte\n",
      "import os                      #spa\u00dfige Dinge mit dem Betriebssystem, z.B. ob ein File existiert\n",
      "import fnmatch                 #Strings mit Wildcards durchsuchen\n",
      "\n",
      "\n",
      "\n",
      "#Betrag eines Vektors\n",
      "def vectabs(x0, x1, x2):\n",
      "    return np.sqrt(x0**2 + x1**2 + x2*2)\n",
      "\n",
      "def vectabsar(ar):\n",
      "    return np.sqrt(ar[:,0]**2+ar[:,1]**2+ar[:,2]**2)\n",
      "\n",
      "#gibt normalenvektor zu ebene von drei Punkten aus, bereits normiert\n",
      "def ebene(a, b, c):\n",
      "    x0 = (a-b)[1]*(c-b)[2]-((a-b)[2]*(c-b)[1])\n",
      "    x1 = (a-b)[2]*(c-b)[0]-((a-b)[0]*(c-b)[2])\n",
      "    x2 = (a-b)[0]*(c-b)[1]-((a-b)[1]*(c-b)[0])\n",
      "    \n",
      "    xabs = vectabs(x0, x1, x2)\n",
      "    \n",
      "    return np.array([x0/xabs, x1/xabs, x2/xabs])\n",
      "\n",
      "#einen Vektor mit Drehmatrix drehen um a-achse\n",
      "def drehenx(phi, x, y, z):\n",
      "    x1 = x * np.cos(phi * 0)\n",
      "    y1 = y * np.cos(phi) - z * np.sin(phi)\n",
      "    z1 = y * np.sin(phi) + z * np.cos(phi)\n",
      "    return np.array([x1, y1, z1])\n",
      "\n",
      "def dreheny(phi, x, y, z):\n",
      "    x1 = x  * np.cos(phi) - z * np.sin(phi)\n",
      "    y1 = y * np.cos(phi * 0)\n",
      "    z1 = x * np.sin(phi) + z * np.cos(phi)\n",
      "    return np.array([x1, y1, z1])\n",
      "\n",
      "def drehenz(phi, x, y, z):\n",
      "    x1 = x  * np.cos(phi) - y * np.sin(phi)\n",
      "    y1 = x * np.sin(phi) +  y* np.cos(phi)\n",
      "    z1 = z * np.cos(phi * 0)\n",
      "    return np.array([x1, y1, z1])\n",
      "\n",
      "#dreht Vektor v (als np.array) um phi um die x-Achse, und theta um die y-Achse\n",
      "def drehenxy(phi, theta, v):\n",
      "    v = drehenx(phi, v[0], v[1], v[2])\n",
      "    return dreheny(theta, v[0], v[1], v[2])\n",
      "\n",
      "#den Abstand zweier Punkte bestimmen, den Punkt als Array eingeben.\n",
      "def abstand(x,y):\n",
      "    return np.sqrt((x[0]-y[0])**2+(x[1]-y[1])**2+(x[2]-y[2])**2)\n",
      "\n",
      "def betrag(x):\n",
      "    return np.sqrt((x[0])**2+(x[1])**2+(x[2])**2)\n",
      "\n",
      "def abstandpktzuarray(x, ar):\n",
      "    return np.sqrt((x[0]-ar[:,0])**2+(x[1]-ar[:,1])**2+(x[2]-ar[:,2])**2)\n",
      "\n",
      "def abstandarrays(ar1, ar2):\n",
      "    return np.sqrt((ar1[:,0]-ar2[:,0])**2+(ar1[:,1]-ar2[:,1])**2+(ar1[:,2]-ar2[:,2])**2)\n",
      "\n",
      "def abstandarrays_quadr(ar1, ar2):\n",
      "    return (ar1[:,0]-ar2[:,0])**2+(ar1[:,1]-ar2[:,1])**2+(ar1[:,2]-ar2[:,2])**2\n",
      "\n",
      "def skalar_product (ar1, ar2):\n",
      "    return (ar1[:,0]*ar2[:,0])+(ar1[:,1]*ar2[:,1])+(ar1[:,2]*ar2[:,2])\n",
      "\n",
      "#returns value between [0,pi] an array of size Startarray with the angles. If there is no displacement, it returns zero as value\n",
      "def angle_between_connections_array(StartArray, MiddleArray, EndArray):\n",
      "        vect1 = (StartArray - MiddleArray)\n",
      "        vect2 = (EndArray - MiddleArray)\n",
      "        #catch if there is 0 displacement\n",
      "        tocalculate = ((vect1 != np.array([0,0,0])).any(1)) & ((vect2 != np.array([0,0,0])).any(1))\n",
      "        vect1 = vect1[tocalculate]\n",
      "        vect2 = vect2[tocalculate]\n",
      "        catchrounding = skalar_product(vect1, vect2)/(vectabsar(vect1)*vectabsar(vect2))\n",
      "        #get rounding arrors\n",
      "        catchrounding[catchrounding > 1] = 1\n",
      "        catchrounding[catchrounding < -1] = -1\n",
      "        angles = np.arccos(catchrounding)\n",
      "        returnangles = np.zeros(np.size(StartArray, axis = 0))\n",
      "        returnangles[tocalculate] = angles\n",
      "        return returnangles\n",
      "        \n",
      "        \n",
      "   "
     ],
     "language": "python",
     "metadata": {},
     "outputs": [],
     "prompt_number": 2
    },
    {
     "cell_type": "code",
     "collapsed": false,
     "input": [
      "#takes a connection from Startarray to Endarray nnd calculates the perpendicular distance of the points from the connection. \n",
      "#Returns an array of size (start * points) with all perpendicular distances or distances of the endpoints.\n",
      "#Start or End can also be single points.\n",
      "\n",
      "def distance_from_connection(Startarray, Endarray, Points):\n",
      "    \n",
      "    if np.size(Startarray, axis = 0) ==1:\n",
      "        Starttemp = np.repeat(Startarray, np.size(Endarray, axis = 0), axis = 0)\n",
      "    else:\n",
      "        Starttemp = Startarray\n",
      "        \n",
      "    if np.size(Endarray, axis = 0) ==1:\n",
      "        Endtemp = np.repeat(Endarray, np.size(Startarray, axis = 0), axis = 0)\n",
      "    else:\n",
      "        Endtemp = Endarray\n",
      "        \n",
      "    \n",
      "    #reshape the arrays and the points, have a Points*Start array\n",
      "    oneaxis = np.size(Starttemp, axis = 0)\n",
      "    twoaxis = np.size(Points, axis = 0)\n",
      "\n",
      "    Starttemp = np.repeat(Starttemp, twoaxis, axis = 0)\n",
      "    Endtemp = np.repeat(Endtemp, twoaxis, axis = 0)\n",
      "    Points = np.tile(Points, (oneaxis,1))\n",
      "\n",
      "    StartPunkteAbst = abstandarrays(Starttemp, Points)\n",
      "    StartPunkteAbst = np.reshape(StartPunkteAbst, (oneaxis, twoaxis))\n",
      "    \n",
      "    EndPunkteAbst = abstandarrays(Endtemp, Points)\n",
      "    EndPunkteAbst = np.reshape(EndPunkteAbst, (oneaxis, twoaxis))\n",
      "    \n",
      "    AngleAtStart = angle_between_connections_array(Points, Starttemp, Endtemp)\n",
      "    AngleAtStart = np.reshape(AngleAtStart, (oneaxis, twoaxis))\n",
      "    \n",
      "    AngleAtEnd = angle_between_connections_array(Points, Endtemp, Starttemp)\n",
      "    AngleAtEnd = np.reshape(AngleAtEnd, (oneaxis, twoaxis))\n",
      "    \n",
      "    \n",
      "    \n",
      "    #die Punkte mit \u00fcber 90\u00b0 nehmen einfach den Abstand vom Ende, die kleiner als 90\u00b0 den senkrechten Abstand\n",
      "    StartBiggerNinetyBool = (AngleAtStart >  np.pi/2)\n",
      "    EndBiggerNinetyBool = (AngleAtEnd > np.pi/2)\n",
      "    pointonconnectionbool = (AngleAtStart == 0) & (AngleAtEnd == 0)\n",
      "    NotUseBool = np.invert(StartBiggerNinetyBool | EndBiggerNinetyBool | pointonconnectionbool)\n",
      "    DistanceFromConnection = np.empty((oneaxis, twoaxis))\n",
      "    DistanceFromConnection[NotUseBool] = np.sin(AngleAtStart[NotUseBool]) * StartPunkteAbst[NotUseBool]\n",
      "    DistanceFromConnection[EndBiggerNinetyBool] = EndPunkteAbst[EndBiggerNinetyBool]\n",
      "    DistanceFromConnection[StartBiggerNinetyBool] = StartPunkteAbst[StartBiggerNinetyBool]\n",
      "    DistanceFromConnection[pointonconnectionbool] = 0.\n",
      "    return DistanceFromConnection, oneaxis, twoaxis"
     ],
     "language": "python",
     "metadata": {},
     "outputs": [],
     "prompt_number": 3
    },
    {
     "cell_type": "markdown",
     "metadata": {},
     "source": [
      "Lambdalysozym, wo die komplette Berechnung durchgelaufen ist, ohne flexible Enden, mit Abk\u00fcrzung :\"lambdalysozyme\"\n",
      "\n",
      "Lambdalysozym, wo nur die flexiblen Enden berechnet wurden, : \"lambdalysozyme_0802\"\n",
      "\n",
      "DNMT1, ohne Abk\u00fcrzung, alles durchgelaufen, ohne flex Enden: \"\""
     ]
    },
    {
     "cell_type": "code",
     "collapsed": false,
     "input": [
      "#PDB geht von N zu C Terminus     \n",
      "    \n",
      "\n",
      "#macht aus drei Arrays ein Array mit kleinen dreierarrays in einem gro\u00dfen A\n",
      "\n",
      "\n",
      "#macht aus drei Arrays\n",
      "\n",
      "UserDefinedProjectName = \"lambdalysozyme_0802\" #for saving of the files, f\u00fcr DNMT1daten einfach \"\" machen\n",
      "\n",
      "f = open('proteine/1d9u-lambdalysozym.pdb', 'r')\n",
      "#print pdbfile\n",
      "\n",
      "\n",
      "wholex = []\n",
      "wholey = []\n",
      "wholez = []\n",
      "wholeatom = []\n",
      "wholeaminos = []\n",
      "wholesubunit = []\n",
      "wholeasnr = []\n",
      "\n",
      "\n",
      "#line.split kann nicht verwendet werden, weil manchmal die spalten ineinander verschmelzen, weil das Format doof ist.\n",
      "\n",
      "for line in f:\n",
      "    art = line[:4]\n",
      "    if art == 'ATOM':\n",
      "        wholeatom.append(line[13:16])\n",
      "        wholeaminos.append(line[17:20])\n",
      "        wholesubunit.append(line[21])\n",
      "        wholeasnr.append(int(line[22:26]))\n",
      "        wholex.append(float(line[31:38]))\n",
      "        wholey.append(float(line[38:46]))\n",
      "        wholez.append(float(line[46:54]))\n",
      "        \n",
      "\n",
      "#aus allen Listen arrays machen\n",
      "wholeatom = np.array(wholeatom)\n",
      "wholeaminos = np.array(wholeaminos)\n",
      "wholesubunit = np.array(wholesubunit)\n",
      "wholeasnr = np.array(wholeasnr)\n",
      "#731-1602\n",
      "#oder 650 - 1602\n",
      "\n",
      "#get parts, that aren't wanted out of the PDB files\n",
      "\n",
      "#TODO hier\u00fcber nachdennken!!! was die Regionen sind, die gew\u00e4hlt werden\n",
      "\n",
      "UserChosenIgnoreRegions = None #default is none,being a LIST of tuples of (21, 832, 'A'), with subunit, and then interval including the ends\n",
      "IgnoreSubUnit = ('A') #is a tupel with to be ignored subunits\n",
      "IgnoreIndices = np.bool8(np.ones(np.size(wholeasnr)))\n",
      "\n",
      "#Ignoreindices True means the value is kept\n",
      "if IgnoreSubUnit != None:\n",
      "    for SubUnit in IgnoreSubUnit:\n",
      "        IgnoreIndices = IgnoreIndices & (wholesubunit != SubUnit)\n",
      "\n",
      "\n",
      "if UserChosenIgnoreRegions != None:\n",
      "    for RegionOnSubunit in UserChosenIgnoreRegions:\n",
      "        IgnoreIndices = IgnoreIndices & np.invert((wholeasnr < RegionOnSubunit[1]) & (wholeasnr > RegionOnSubunit[0]) & \\\n",
      "                                                    (wholesubunit == RegionOnSubunit[2]))\n",
      "\n",
      "wholeatom = wholeatom[IgnoreIndices]\n",
      "wholeaminos = wholeaminos[IgnoreIndices]\n",
      "wholesubunit = wholesubunit[IgnoreIndices]\n",
      "wholeasnr = wholeasnr[IgnoreIndices]\n",
      "\n",
      "\n",
      "wholex = np.float16(np.array(wholex))        \n",
      "wholey = np.float16(np.array(wholey))\n",
      "wholez = np.float16(np.array(wholez))\n",
      "#that should be sliced out of the PDB\n",
      "wholex = wholex[IgnoreIndices]\n",
      "wholey = wholey[IgnoreIndices]\n",
      "wholez = wholez[IgnoreIndices]\n",
      "\n",
      "anzahl = len(wholex)\n",
      "\n",
      "\n",
      "#let the user choose, what part should be circularized interests him.\n",
      "SubUnitChosen = \"B\"\n",
      "UserChosenStart = 1\n",
      "UserChosenEnd = 154\n",
      "\n",
      "#non helical regions are called scars\n",
      "ScarsAtStartseq = \"GG\"\n",
      "ScarsAtStart = len(ScarsAtStartseq)\n",
      "ScarsAtEndseq = \"KEACWE\"   #TODO richtige Sequenz!\n",
      "ScarsAtEnd = len(ScarsAtEndseq)\n",
      "\n",
      "\n",
      "MissingAtStart = np.min(wholeasnr[wholesubunit == SubUnitChosen]) - UserChosenStart\n",
      "MissingAtEnd = UserChosenEnd - np.max(wholeasnr[wholesubunit == SubUnitChosen]) \n",
      "\n",
      "if MissingAtStart > 0:\n",
      "    if MissingAtStart >= 5:\n",
      "        print \"Your PDB File does not contain the beginning of the protein and there is missing that much, that even an estimation of the beginning would be really bad. Please find a better PDB file, or risk it\"\n",
      "    else:\n",
      "        print \"Your PDB File does not contain the beginning of the protein, but there are less than 5 Aminoacids missing, so the position of the beginning will be estimated. If there is a better PDB file, upload it\"\n",
      "\n",
      "if MissingAtEnd > 0:\n",
      "    if MissingAtEnd >= 5:\n",
      "        print \"Your PDB File does not contain the end of the protein and there is missing that much, that even an estimation of the beginning would be really bad. Please find a better PDB file, or risk it\"\n",
      "    else:\n",
      "        print \"Your PDB File does not contain the end of the protein, but there are less than 5 Aminoacids missing, so the position of the beginning will be estimated. If there is a better PDB file, upload it\"\n",
      "\n",
      "\n",
      "PartToCircularizeBool = (((wholeasnr >= UserChosenStart) & (wholesubunit == SubUnitChosen)) & (wholeasnr <= UserChosenEnd)) #hier kann man einstellen, welche AS behalten werden sollen.\n",
      "\n",
      "InterestingAtom = wholeatom[PartToCircularizeBool]\n",
      "InterestingAminos = wholeaminos[PartToCircularizeBool]\n",
      "InterestingAANr = wholeasnr[PartToCircularizeBool]\n",
      "\n",
      "#aus den drei Arrays eines machen, das Dimension n*3 hat, also ein Array aus lauter kleinen dreier Arrays\n",
      "\n",
      "# ein Pkt: pkte[0]\n",
      "# wieder zur\u00fcck: x = pkte[:,0]\n",
      "\n",
      "\n",
      "\n",
      "PointsOfAllSubunits = np.float16(np.reshape(np.concatenate((wholex,wholey,wholez)), (anzahl,3), 'F'))\n",
      "#choose the part, that is interesting for us for circularization this is points\n",
      "pkte = PointsOfAllSubunits[PartToCircularizeBool]\n",
      "OtherPoints = PointsOfAllSubunits[wholesubunit != SubUnitChosen]\n",
      "\n",
      "#TODO Estimation of startingpoint, or user interface to get it.\n",
      "\n",
      "anfangspunkt = np.ravel(pkte[(InterestingAANr == InterestingAANr[0]) & (InterestingAtom == \"N  \")])\n",
      "endpunkt = np.ravel(pkte[(InterestingAANr == InterestingAANr[-1]) & (InterestingAtom == \"C  \")])\n",
      "\n",
      "\n",
      "AmountOfAtomsFirstAA = np.size(InterestingAANr[InterestingAANr == InterestingAANr[0]])  #anzahl an Atomen in der erstenas\n",
      "AmountOfAtomsLastAA = np.size(InterestingAANr[InterestingAANr == InterestingAANr[-1]])  #amount of atoms in last AS\n",
      "\n",
      "pickle.dump((pkte, InterestingAminos, InterestingAtom, InterestingAANr),\\\n",
      "            open(\"files/savepoints{projectname}.p\".format(projectname = UserDefinedProjectName), \"wb\"))\n",
      "\n",
      "\n",
      "fig = plt.figure()\n",
      "ax = fig.add_subplot(111, projection='3d')\n",
      "ax.scatter(pkte[5:-5:,0], pkte[5:-5:,1], pkte[5:-5:,2], s=10)\n",
      "ax.scatter(pkte[:4:,0], pkte[:4:,1], pkte[:4:,2], s = 20, c =\"r\")\n",
      "ax.scatter(pkte[-4::,0], pkte[-4::,1], pkte[-4::,2], s = 20, c =\"r\")\n",
      "ax.scatter(OtherPoints[:,0], OtherPoints[:,1], OtherPoints[:,2], s=10, c = \"g\")\n"
     ],
     "language": "python",
     "metadata": {},
     "outputs": [
      {
       "metadata": {},
       "output_type": "pyout",
       "prompt_number": 4,
       "text": [
        "<mpl_toolkits.mplot3d.art3d.Patch3DCollection at 0x7f74b25b2650>"
       ]
      }
     ],
     "prompt_number": 4
    },
    {
     "cell_type": "code",
     "collapsed": false,
     "input": [
      "#this dictionary contains the medium, the standrad-deviation and the sequence of all the angles\n",
      "angletosequence = [(45., 25., \"AASGAA\"),(79., 29., \"AALAA\"), (84., 11., \"AAWAA\"), (85., 19., \"ASNA\"),\n",
      "                   (100., 18., \"ASA\"), (120., 6., \"AGA\"), (145., 15., \"VV\"), ]\n",
      "angleseparators = [0.]\n",
      "\n",
      "#the separators are there where the amount of sigmas is the same from both directions\n",
      "for i in range(len(angletosequence)-1):\n",
      "    factor = (angletosequence[i+1][0]-angletosequence[i][0])/(angletosequence[i+1][1]+ angletosequence[i][1])\n",
      "    angleseparators.append(factor * angletosequence[i][1] + angletosequence[i][0])\n",
      "angleseparators.append(180.)"
     ],
     "language": "python",
     "metadata": {},
     "outputs": [],
     "prompt_number": 5
    },
    {
     "cell_type": "code",
     "collapsed": false,
     "input": [
      "#das gedrehte darstellen, TODO muss noch auf pkte angepasst werden\n",
      "\n",
      "phi = np.pi / 2 #immer in vielfachen von pi w\u00e4hlen\n",
      "\n",
      "xgedr = dreheny(phi, wholex, wholey, wholez)[0]\n",
      "ygedr = dreheny(phi, wholex, wholey, wholez)[1]\n",
      "zgedr = dreheny(phi, wholex, wholey, wholez)[2]\n",
      "\n",
      "\n",
      "fig = plt.figure()\n",
      "ax = fig.add_subplot(111, projection='3d')\n",
      "ax.scatter(xgedr[5:-5:], ygedr[5:-5:], zgedr[5:-5:], s=10)\n",
      "ax.scatter(xgedr[:4:], ygedr[:4:], zgedr[:4:], s = 20, c =\"r\")\n",
      "ax.scatter(xgedr[-4::], ygedr[-4::], zgedr[-4::], s = 20, c =\"r\")\n"
     ],
     "language": "python",
     "metadata": {},
     "outputs": [
      {
       "metadata": {},
       "output_type": "pyout",
       "prompt_number": 6,
       "text": [
        "<mpl_toolkits.mplot3d.art3d.Patch3DCollection at 0x7f74b2584590>"
       ]
      }
     ],
     "prompt_number": 6
    },
    {
     "cell_type": "code",
     "collapsed": false,
     "input": [
      "#L\u00e4ngenkalibration, wir wissen, dass der Abstand von c-c 154 pm ist.\n",
      "#Wir machen das am Glycin, weil das am einfachsten f\u00fcr uns ist.\n",
      "try:\n",
      "    eichnutz = ((wholeaminos == \"GLY\") & (wholeatom == \"C  \") | ((wholeaminos == \"GLY\") & (wholeatom == \"CA \")))\n",
      "    xeich = wholex[eichnutz]\n",
      "    yeich = wholey[eichnutz]\n",
      "    zeich = wholez[eichnutz]\n",
      "\n",
      "\n",
      "    #das sieht so komisch aus, wegen alter Version\n",
      "    abstaendeeich= abstand( np.array([xeich[0::2],yeich[0::2],zeich[0::2]]),np.array([xeich[1::2],yeich[1::2],zeich[1::2]]))\n",
      "    kalib = 154. / np.mean(abstaendeeich) #pm\n",
      "    kalibfehl = np.std(abstaendeeich) * kalib\n",
      "\n",
      "    print str(kalib) + \"+-\" +str (kalibfehl) +\" pm\"\n",
      "except:\n",
      "    kalib = 100.\n",
      "    kalibfehl = 0.\n",
      "    print \"There were no Glycines in the protein, a calibration was estimated as :\" + str(kalib) + \"+-\" +str (kalibfehl) +\" pm\""
     ],
     "language": "python",
     "metadata": {},
     "outputs": [
      {
       "output_type": "stream",
       "stream": "stdout",
       "text": [
        "101.259033138+-2.88385168588 pm\n"
       ]
      }
     ],
     "prompt_number": 7
    },
    {
     "cell_type": "code",
     "collapsed": false,
     "input": [
      "#globale Variablen:\n",
      "\n",
      "#Entfernung, die der Linker mindestens immer haben sollte geschaetzter Wert 5 Angstr\u00f6m, eine Alpha Helix hat Radius 2.3A\n",
      "\n",
      "minabstand = 500/kalib #in pm\n",
      "\n",
      "#Entfernung, die ein Linker maximal haben darf vom Protein\n",
      "\n",
      "maxabstand = 5000/kalib\n",
      "\n",
      "LengthOfFlexibleAA = 350 / kalib\n",
      "FLEXIBLEATSTARTKO = (MissingAtStart + ScarsAtStart) * LengthOfFlexibleAA\n",
      "FLEXIBLEATENDKO = (MissingAtEnd + ScarsAtEnd) * LengthOfFlexibleAA"
     ],
     "language": "python",
     "metadata": {},
     "outputs": [],
     "prompt_number": 71
    },
    {
     "cell_type": "markdown",
     "metadata": {},
     "source": [
      "Wir testen, ob sich die Enden einfach direkt verbinden lassen. Daf\u00fcr schauen wir ob auf der Verbindungslinie zwischen den beiden Enden im senkrechten Abstand alle Punkte mindestens einen gewissen Abstand haben. Da aber der Punkteraum diskret ist und nicht ausgeschmiert, schauen wir einfach f\u00fcr jeden W\u00fcrfel um die Verbindungslinie, welches der geringste Abstand eines Punktes ist. Ist dieser geringer als unser geforderter Mindestabstand, bricht der Algorithmus sofort ab und es kann weiter gehen. Die W\u00fcrfel sind nur dazu da, dass wir nicht immer den Abstand des gesamten Proteins zur Linie berechnen m\u00fcssen. Wenn ein Punkt zu nah ist, finden wir ihn so auf jeden Fall.\n",
      "\n",
      "Wir m\u00fcssen auf jeden Fall den Abstand zwischen zwei Messpunkten so w\u00e4hlen, dass selbst wenn der Punkt am ung\u00fcnstigsten liegt, wir ihn aussortieren. Lieber zu fr\u00fch aussortieren als zu sp\u00e4t und dann eben das normale Prozedere durchmachen lassen. Wir w\u00e4hlen die Abst\u00e4nde so, dass immer der n\u00e4chste Punkt \n",
      "\n",
      "Der erste Messpunkt muss so sein, dass nicht unser Startpunkt in den ersten W\u00fcrfel f\u00e4llt, genauso beim letzten."
     ]
    },
    {
     "cell_type": "code",
     "collapsed": false,
     "input": [
      "abstandanfend = abstand(anfangspunkt, endpunkt)\n",
      "kantenlaenge = 4 * minabstand\n",
      "#print kantenlaenge\n",
      "wuerfeldiaghalbe = np.sqrt(3)/2 * kantenlaenge\n",
      "#print wuerfeldiaghalbe\n",
      "\n",
      "anzahlwuerfel = int(abstandanfend / wuerfeldiaghalbe) #wir setzen einen mehr ein, als wir m\u00fcssten\n",
      "if anzahlwuerfel == 0:\n",
      "    if abstandanfend < (2* minabstand):\n",
      "        print \"Die Enden sind extrem nah beieinander, einfach versuchen zu zyklieren mit Linker, der genau der L\u00e4nge entspricht!\"\n",
      "    else:\n",
      "        wuerfelmitten = np.array([(anfangspunkt-endpunkt)/2])\n",
      "        kantenlaenge = abstandanfend / np.sqrt(3)\n",
      "        wuerfelabstand = 0\n",
      "elif anzahlwuerfel == 1:\n",
      "    kantenlaenge = abstandanfend / np.sqrt(3)\n",
      "    wuerfeldiaghalbe = np.sqrt(3)/2 * kantenlaenge\n",
      "    wuerfelmitten = (endpunkt-anfangspunkt)/abstandanfend * (wuerfeldiaghalbe) + anfangspunkt\n",
      "    wuerfelabstand = 0\n",
      "    \n",
      "else:\n",
      "    wuerfelabstand = (abstandanfend - (2* wuerfeldiaghalbe))/(anzahlwuerfel - 1)\n",
      "    \n",
      "    #print anzahlwuerfel\n",
      "    \n",
      "    #nun die Verbindungsgerade zwischen den beiden Punkten. v = m * t + 0 mit normiertem m und t (Abstand*parameter)\n",
      "    wuerfelmitten = []\n",
      "    for i in range(0, anzahlwuerfel):\n",
      "        wuerfelmitten.append( (endpunkt-anfangspunkt)/abstandanfend * (wuerfelabstand * i + wuerfeldiaghalbe) + anfangspunkt)\n",
      "        \n",
      "    wuerfelmitten = np.array(wuerfelmitten)\n",
      "    \n",
      "#print wuerfelmitten\n",
      "\n",
      "\n",
      "#minimale Abstand, den etwas haben muss, von W\u00fcrfelmittelpunkt, ab dem wir sagen, dass was zu nah ist, das ist auch \n",
      "#der Fehler den wir haben k\u00f6nnen.\n",
      "minabstandcalc = np.sqrt(minabstand**2 + wuerfelabstand**2)\n",
      "\n",
      "derallernaechstepunkt = None\n",
      "\n",
      "#das Einschr\u00e4nken der Werte auf die W\u00fcrfelinnereien\n",
      "if np.size(wuerfelmitten) == 3:\n",
      "    mitte = wuerfelmitten\n",
      "    keep = ((PointsOfAllSubunits[:,0] > (mitte[0] - (kantenlaenge / 2))) & (PointsOfAllSubunits[:,0] < (mitte[0] + (kantenlaenge / 2))) & \\\n",
      "                (PointsOfAllSubunits[:,1] > (mitte[1] - (kantenlaenge / 2))) & (PointsOfAllSubunits[:,1] < (mitte[1] + (kantenlaenge / 2))) & \\\n",
      "                (PointsOfAllSubunits[:,2] > (mitte[2] - (kantenlaenge / 2))) & (PointsOfAllSubunits[:,2] < (mitte[2] + (kantenlaenge / 2))))   \n",
      "\n",
      "    wuerfelpunkte = PointsOfAllSubunits[keep]\n",
      "    #print wuerfelpunkte\n",
      "    #print abstandarray(mitte, wuerfelpunkte)\n",
      "    mintemp = np.min(abstandpktzuarray(mitte, wuerfelpunkte))\n",
      "    #print mintemp\n",
      "    if  mintemp < minabstandcalc:\n",
      "        print \"Es ist nicht m\u00f6glich einen direkten Linker zu bauen. Der minimale Abstand von der direkten Verbindung betrug: \" \\\n",
      "                + str( mintemp * kalib) + \" pm\"\n",
      "\n",
      "    else:\n",
      "        if derallernaechstepunkt == None:\n",
      "            derallernaechstepunkt = mintemp\n",
      "        elif mintemp < derallernaechstepunkt:\n",
      "            derallernaechstepunkt = mintemp\n",
      "\n",
      "        else:\n",
      "            print \"Es ist m\u00f6glich einen direkten Linker zu machen, da der n\u00e4chste Punkt vom Linker \" + str(derallernaechstepunkt * kalib) + \\\n",
      "                  \" pm entfernt ist.\"\n",
      "else:\n",
      "\n",
      "    for mitte in wuerfelmitten:\n",
      "        keep = ((PointsOfAllSubunits[:,0] > (mitte[0] - (kantenlaenge / 2))) & (PointsOfAllSubunits[:,0] < (mitte[0] + (kantenlaenge / 2))) & \\\n",
      "                (PointsOfAllSubunits[:,1] > (mitte[1] - (kantenlaenge / 2))) & (PointsOfAllSubunits[:,1] < (mitte[1] + (kantenlaenge / 2))) & \\\n",
      "                (PointsOfAllSubunits[:,2] > (mitte[2] - (kantenlaenge / 2))) & (PointsOfAllSubunits[:,2] < (mitte[2] + (kantenlaenge / 2))))   \n",
      "\n",
      "        wuerfelpunkte = PointsOfAllSubunits[keep]\n",
      "        #print wuerfelpunkte\n",
      "        #print abstandarray(mitte, wuerfelpunkte)\n",
      "        mintemp = np.min(abstandpktzuarray(mitte, wuerfelpunkte))\n",
      "        #print mintemp\n",
      "        if  mintemp < minabstandcalc:\n",
      "            print \"Es ist nicht m\u00f6glich einen direkten Linker zu bauen. Der minimale Abstand von der direkten Verbindung betrug: \" \\\n",
      "                    + str( mintemp * kalib) + \" pm\"\n",
      "            break\n",
      "\n",
      "        else:\n",
      "            if derallernaechstepunkt == None:\n",
      "                derallernaechstepunkt = mintemp\n",
      "            elif mintemp < derallernaechstepunkt:\n",
      "                derallernaechstepunkt = mintemp\n",
      "\n",
      "    else:\n",
      "        print \"Es ist m\u00f6glich einen direkten Linker zu machen, da der n\u00e4chste Punkt vom Linker \" + str(derallernaechstepunkt * kalib) + \\\n",
      "              \" pm entfernt ist.\"\n",
      "    \n",
      "    \n",
      "#FIXME, der Control Flow... Wenn es vorher feststellt, dass die Enden sehr nah beieinander sind, geht es dennoch durch das ganze \n",
      "#untere wieder durch... Mal schauen, was sich da machen l\u00e4sst."
     ],
     "language": "python",
     "metadata": {},
     "outputs": [
      {
       "output_type": "stream",
       "stream": "stdout",
       "text": [
        "Es ist nicht m\u00f6glich einen direkten Linker zu bauen. Der minimale Abstand von der direkten Verbindung betrug: 237.304758779 pm\n"
       ]
      }
     ],
     "prompt_number": 9
    },
    {
     "cell_type": "markdown",
     "metadata": {},
     "source": [
      "Ob eine Region au\u00dfen ist. Daf\u00fcr werden von dem Punkt Strahlen in alle Richtungen in 5\u00b0 Schritten gemacht und diese dann in eine Liste geschrieben, welche Winkel frei sind."
     ]
    },
    {
     "cell_type": "code",
     "collapsed": false,
     "input": [
      "#Test, ob die Enden auch au\u00dfensind\n",
      "#Abstand zwischen Anfang und allen anderen Punkten in einem Array\n",
      "\n",
      "#aufpunkt, der Punkt von wo aus geht\n",
      "#gerade: normiert\n",
      "#gibt True zur\u00fcck, wenn kein Punkt in der N\u00e4he der Geraden ist.\n",
      "\n",
      "def punktebeigerade(minabstand, pkte, gerade, aufpunkt, laenge):\n",
      "    kantenlaenge = 4 * minabstand\n",
      "    wuerfeldiaghalbe = np.sqrt(3)/2 * kantenlaenge\n",
      "    \n",
      "    anzahlwuerfel = int(laenge / wuerfeldiaghalbe) + 1 \n",
      "    \n",
      "    #nun die Verbindungsgerade zwischen den beiden Punkten. v = m * t + x0 mit normiertem m und t (Abstand*parameter)\n",
      "    wuerfelmitten = []\n",
      "\n",
      "    for i in range(0, anzahlwuerfel):\n",
      "        wuerfelmitten.append( gerade * (wuerfeldiaghalbe * (i + 1)) + aufpunkt)\n",
      "    \n",
      "        \n",
      "    wuerfelmitten = np.array(wuerfelmitten)\n",
      "        \n",
      "    #print wuerfelmitten\n",
      "    \n",
      "    \n",
      "    #minimale Abstand, den etwas haben muss, von W\u00fcrfelmittelpunkt, ab dem wir sagen, dass was zu nah ist\n",
      "    minabstandcalc = np.sqrt(5) * minabstand\n",
      "    \n",
      "    \n",
      "    #das Einschr\u00e4nken der Werte auf die W\u00fcrfelinnereien\n",
      "    for mitte in wuerfelmitten:\n",
      "        keep = ((pkte[:,0] > (mitte[0] - (kantenlaenge / 2))) & (pkte[:,0] < (mitte[0] + (kantenlaenge / 2))) & \\\n",
      "                (pkte[:,1] > (mitte[1] - (kantenlaenge / 2))) & (pkte[:,1] < (mitte[1] + (kantenlaenge / 2))) & \\\n",
      "                (pkte[:,2] > (mitte[2] - (kantenlaenge / 2))) & (pkte[:,2] < (mitte[2] + (kantenlaenge / 2))))   \n",
      "        \n",
      "        \n",
      "        wuerfelpunkte = pkte[keep]\n",
      "        if np.size(wuerfelpunkte) == 0:\n",
      "            continue\n",
      "        \n",
      "        mintemp = np.min(abstandpktzuarray(mitte, wuerfelpunkte))\n",
      "        \n",
      "        if  mintemp < minabstandcalc:\n",
      "            return False\n",
      "            break\n",
      "         \n",
      "    else:\n",
      "        return True\n",
      "    \n",
      "#angles are measured from z-axis, returns a boolean array to slice with.\n",
      "def test_accessible_angles(winkelarray, length, anfangspunkt, proteinpoints, gerade = np.array([0,0,1])):\n",
      "    \n",
      "    moeglichewinkelanfangbool = []\n",
      "\n",
      "    for winkel in winkelarray:\n",
      "        moeglichewinkelanfangbool.append(punktebeigerade(minabstand, PointsOfAllSubunits, drehenxy(winkel[0], winkel[1], gerade),\\\n",
      "                                                         anfangspunkt , maxvonanfang))\n",
      "\n",
      "    return np.array(moeglichewinkelanfangbool)\n",
      "    \n",
      "   "
     ],
     "language": "python",
     "metadata": {},
     "outputs": [],
     "prompt_number": 10
    },
    {
     "cell_type": "code",
     "collapsed": false,
     "input": [
      " \n",
      "\n",
      "#das sind nun 2592 Berechnungen...\n",
      "testwinkel = np.mgrid[0:180:5, 0:360:5] * np.pi/180 #Endwinkel nicht enthalten, null mit drinnen, das sind ja auch nur 70 Rechn extra\n",
      "winkelarray = np.reshape(np.ravel(testwinkel), (2592,2), 'F')    \n",
      "\n",
      "\n",
      "\n",
      "#Ueberpr\u00fcfen, ob der Anfang innen ist.\n",
      "maxvonanfang = np.max(abstandpktzuarray(pkte[0] ,PointsOfAllSubunits))\n",
      "#geradenarray = np.reshape(np.ravel(drehenxy(testwinkel[0], testwinkel[1], gerade), order = 'F'), (2592,3), 'C')\n",
      "\n",
      "moeglichewinkelanfangbool = test_accessible_angles(winkelarray, maxvonanfang, anfangspunkt, PointsOfAllSubunits)   \n",
      "\n",
      "\n",
      "#\u00dcberpr\u00fcfen, ob das Ende innen ist.\n",
      "maxvonende = np.max(abstandpktzuarray(endpunkt ,PointsOfAllSubunits))\n",
      "\n",
      "\n",
      "moeglichewinkelendebool = test_accessible_angles(winkelarray, maxvonende, endpunkt, PointsOfAllSubunits)\n",
      "\n",
      "\n",
      "\n",
      "moeglichewinkelanfang = winkelarray[moeglichewinkelanfangbool]\n",
      "moeglichewinkelende = winkelarray[moeglichewinkelendebool]\n",
      "if (np.size(moeglichewinkelanfangbool) == 0) | (np.size(moeglichewinkelendebool) == 0):\n",
      "    #TODO, vielleicht noch mit flexiblem Linker verbindbar? Einfach der Test, ob es an der Oberfl\u00e4che ist.\n",
      "    print \"Ein Ende liegt leider innen, nicht zirkularisierbar!\""
     ],
     "language": "python",
     "metadata": {},
     "outputs": [],
     "prompt_number": 11
    },
    {
     "cell_type": "markdown",
     "metadata": {},
     "source": [
      "Wir versuchen nun wirklich einen Linker zu finden. Daf\u00fcr alle m\u00f6glichen Linker, die zum Ziel f\u00fchren erzeugen lassen. So ein Linker ist eindeutig bestimmt, durch die Punkte, durch die er durchgeht, das hei\u00dft man muss nur die Punkte abspeichern lassen. Die kann man dann auswerten im Endeffekt und so den besten Linker rausfinden.\n",
      "\n",
      "Dabei kann ein Linker maximal 3 Winkel haben, dann ist es m\u00f6glich ein 5 Eck mit den Punkten zu bauen. Das ergibt bei einer Winkelvervteilung von jeweils 5 \u00b0 2500^3 M\u00f6glichkeiten.\n",
      "\n",
      "Jede Aminos\u00e4ure in einer Alphahelix macht dann eine Verschiebung um 1,5 Angstr\u00f6m. Das hei\u00dft, dass jedes einzelne Linkerst\u00fcck (keine Gelenke) 1.5A lang ist.\n",
      "\n",
      "F\u00fcr die maximale L\u00e4nge des Linkers legen wir eine Schnur um eine Kugel, mit dem Radius des 3/4 (noch dr\u00fcber sprechen) des maximalen Abstands von dem Ende zu dem Rest.\n",
      "\n"
     ]
    },
    {
     "cell_type": "markdown",
     "metadata": {},
     "source": [
      "Wir sortieren jetzt die Punkte aus, bei denen Proteinpunkte auf der Verbindungslinie zwischen den beiden liegen. \n",
      "\n",
      "Daf\u00fcr berechnen wir f\u00fcr jede Verbindung zwischen A und B alle Abst\u00e4nde AC und BC. Daraus k\u00f6nnen wir dann r\u00fcckschl\u00fcsse ziehen, ob es Punkte gibt, die zwischen der Verbindungslinie liegen. Generell gibt es zwei Kriterien, die erf\u00fcllt sein m\u00fcssen:\n",
      "\n",
      "AC und BC m\u00fcssen k\u00fcrzer sein als AB (Kreis um jeweils den anderen Punkt)\n",
      "AC + BC muss kleiner als $ \\sqrt{AB^2 + d^2}+d$ sein. (Ellipse durch die \u00e4u\u00dfersten Eckpunkte, die wir aussortieren wollen)\n",
      "\n",
      "Mit dieser Methode sortieren wir um ung\u00fcnstigsten Fall (k\u00fcrzester Linker, schlechtester Punkt vom Protein, also ganz in der Mitte) noch Punkte aus, bei denen ein Punkt in 2d Entfernung vom Linker ist. Das ist ok, daf\u00fcr dass das so eine einfache Methode ist."
     ]
    },
    {
     "cell_type": "heading",
     "level": 4,
     "metadata": {},
     "source": [
      "TODO: Irgendwie mit hineinnehmen, ob das Protein gro\u00df ist (verschieden lange Linker nehmen), ob man viele Winkel gleich am Anfang angreifen kann (eine Iteration vllt. herausnehmen) und was man so machen kann, um Rechenzeit zu sparen."
     ]
    },
    {
     "cell_type": "code",
     "collapsed": false,
     "input": [
      "#displacement ist wirklich die Verschiebung im 3d raum, deshalb m\u00fcssen die L\u00e4ngen dreimal draufgemacht werden.\n",
      "def make_displacements(lengtharray, displacementarray):\n",
      "    oneaxis = np.size(lengtharray)\n",
      "    twoaxis = np.size(displacementarray, axis = 0)\n",
      "    \n",
      "    disptiled = np.tile(displacementarray, (oneaxis, 1))\n",
      "    lengthshaped = np.repeat(lengtharray, 3 * twoaxis)\n",
      "    lengthshaped = np.reshape(lengthshaped, (oneaxis * twoaxis, 3))\n",
      "    \n",
      "    return disptiled * lengthshaped\n",
      "    \n",
      "    "
     ],
     "language": "python",
     "metadata": {},
     "outputs": [],
     "prompt_number": 12
    },
    {
     "cell_type": "code",
     "collapsed": false,
     "input": [
      "#startingarray must be an array of (x,3) shape. so add it as: [startingarray]\n",
      "#beforearray is used, if also arrays before the connection need to be sliced. Then the boolarray is returned.\n",
      "def sort_out_by_protein(startingarray, endingarray, proteinpoints, mindist, beforearray = None):\n",
      "    if np.size(startingarray, axis=0) == 1:\n",
      "        starttemp = np.repeat(startingarray, np.size(endingarray, axis=0), axis =0)\n",
      "    else:\n",
      "        starttemp = startingarray\n",
      "    oneaxis = np.size(endingarray, axis = 0)    \n",
      "    twoaxis = np.size(proteinpoints, axis=0)    \n",
      "    #expand the arrays\n",
      "    startendlength = vectabsar(starttemp-endingarray)\n",
      "    startendlength = np.repeat(startendlength, twoaxis , axis =0)\n",
      "    starttemp = np.repeat(starttemp, twoaxis, axis =0)#immer die gleichen hintereinander\n",
      "    endtemp = np.repeat(endingarray, twoaxis, axis =0)\n",
      "    proteintemp = np.tile(proteinpoints, (oneaxis,1))\n",
      "    startprotlength = vectabsar(starttemp-proteintemp)\n",
      "    endprotlength = vectabsar(endtemp-proteintemp)\n",
      "    \n",
      "    \n",
      "    \n",
      "    #arrays for every connection a row and every proteinpoint a column\n",
      "    startendlength = np.reshape(startendlength, (oneaxis, twoaxis), \"C\")\n",
      "    startprotlength = np.reshape(startprotlength, (oneaxis, twoaxis), \"C\")\n",
      "    endprotlength = np.reshape(endprotlength, (oneaxis, twoaxis), \"C\")\n",
      "    \n",
      "    #make the slicingarray, True means sort out\n",
      "    connectpointbool = ((startprotlength < startendlength) & (endprotlength < startendlength) & \\\n",
      "    ((startprotlength + endprotlength) < (np.sqrt(np.square(startendlength)+mindist**2)+mindist)))\n",
      "    connectpointbool = np.invert(connectpointbool.any(axis = 1) )  \n",
      "    \n",
      "    \n",
      "    if beforearray == None:    \n",
      "        if np.size(startingarray, axis=0) == 1:\n",
      "            return [np.float16(startingarray), np.float16(endingarray[connectpointbool])]\n",
      "        else:\n",
      "            return [np.float16(startingarray[connectpointbool]), np.float16(endingarray[connectpointbool])]\n",
      "    else:\n",
      "        return (np.float16(beforearray[connectpointbool]), np.float16(startingarray[connectpointbool]),\\\n",
      "                np.float16(endingarray[connectpointbool]))"
     ],
     "language": "python",
     "metadata": {},
     "outputs": [],
     "prompt_number": 13
    },
    {
     "cell_type": "markdown",
     "metadata": {},
     "source": [
      "Wir fangen sowohl vorne als auch hinten an, mit allen Winkeln, die m\u00f6glich sind und allen L\u00e4ngen, die m\u00f6glich sind. Wir bekommen dann Arrays von den ersten Punkten und den letzten Punkten nach dem Protein."
     ]
    },
    {
     "cell_type": "code",
     "collapsed": false,
     "input": [
      "#gibt ein Array zur\u00fcck, das zu jedem Punkt, jede Verschiebung macht aus dem verschiebungsarray. Verschiebungsarray\n",
      "#sind einfach Vektoren, wie das verschoben werden kann\n",
      "#anfangsarray sind Vektoren, von denen wir ausgehen.\n",
      "\n",
      "def naechstepunkte(anfangsarray, verschiebungsarray):\n",
      "    laengeanfang = np.size(anfangsarray, axis=0)\n",
      "    laengeversch = np.size(verschiebungsarray, axis=0)\n",
      "    hilfanfang = np.float16(np.repeat(anfangsarray, laengeversch, axis=0))\n",
      "    hilfversch = np.float16(np.tile(verschiebungsarray, (laengeanfang, 1)))\n",
      "    return [hilfanfang, hilfanfang + hilfversch]\n",
      "\n",
      "def aussortierennachpunken(punktearray, proteinpunkte, minabstand, maxabstand):\n",
      "    '''\n",
      "    schmei\u00dft Punkte raus, die in dem Protein liegen, bzw. die zu weit vom Protein weg sind\n",
      "    gibt ein Bool Array raus, mit dem man das Punktearray slicen kann, vom Protein wird nur jeder 4 Punkt verwendet\n",
      "    '''\n",
      "    \n",
      "    temp1 = np.repeat(punktearray, np.size(proteinpunkte[::4], axis=0), axis =0)\n",
      "    temp2 = np.tile(proteinpunkte[::4], (np.size(punktearray, axis=0),1))\n",
      "    abstaende = np.reshape(abstandarrays_quadr(temp1, temp2), (np.size(punktearray, axis=0), np.size(proteinpunkte[::4], axis=0)))\n",
      "    minimaleabst = np.min(abstaende, axis=1)\n",
      "    keep = (minimaleabst < maxabstand**2) & (minimaleabst > minabstand**2)\n",
      "    return keep\n",
      "    "
     ],
     "language": "python",
     "metadata": {},
     "outputs": [],
     "prompt_number": 14
    },
    {
     "cell_type": "code",
     "collapsed": false,
     "input": [
      "#TODO die L\u00e4nge genau bestimmen\n",
      "LengthOfAngle = 450 #in pm\n",
      "LENGTHOFANGLEKO = LengthOfAngle / kalib\n",
      "#hier muss man eintragen, welche Helix-linkerl\u00e4ngen in AS m\u00f6glich sind.\n",
      "linkerdatenbank = np.array([\"AEAAAK\", \"AEAAAKA\", \"AEAAAKAA\", \"AEAAAKEAAAK\", \"AEAAAKEAAAKA\", \"AEAAAKEAAAKEAAAKA\", \"AEAAAKEAAAKEAAAKEAAAKA\",\\\n",
      "                   \"AEAAAKEAAAKEAAAKEAAAKEAAAKA\"])\n",
      "linkerlaengenAS = []\n",
      "\n",
      "for i in range(len(linkerdatenbank)):\n",
      "    linkerlaengenAS.append(len(linkerdatenbank[i]))\n",
      "    \n",
      "linkerlaengenAS = np.array(linkerlaengenAS)\n",
      "linkerlaengenME = linkerlaengenAS * 150 + 2*LengthOfAngle #in pm\n",
      "linkerlaengenKO = linkerlaengenME / kalib #in koordinaten\n",
      "\n",
      "LENGTHACCURACY = 75\n",
      "LENGTHACCURACYKO = LENGTHACCURACY / kalib\n",
      "#TODO dar\u00fcber nachdenken, ob 1 wirklich richtig ist.\n",
      "SortOutLinkers = linkerlaengenKO < 1*maxvonanfang\n",
      "\n",
      "linkerlaengenAS = linkerlaengenAS[SortOutLinkers]\n",
      "linkerlaengenME = linkerlaengenME[SortOutLinkers]\n",
      "linkerlaengenKO = linkerlaengenKO[SortOutLinkers]\n",
      "linkerdatenbank = linkerdatenbank[SortOutLinkers]\n",
      "\n",
      "laengstesstueck = np.max(linkerlaengenKO)\n",
      "anzahllinker = np.size(linkerlaengenKO)\n",
      "\n",
      "maxlinkerAS = int(3 * max(maxvonanfang, maxvonende)) #pi*0.75/1.5 in Aminos\u00e4uren\n",
      "maxlinkerKO = maxlinkerAS * 150/kalib\n",
      "anzahleckenmax = maxlinkerKO / np.max(linkerlaengenKO)\n",
      "anzahleckenmin = abstandanfend / np.min(linkerlaengenKO)"
     ],
     "language": "python",
     "metadata": {},
     "outputs": [],
     "prompt_number": 15
    },
    {
     "cell_type": "code",
     "collapsed": false,
     "input": [
      "#returns a boolian array which paths to keep, middle and endingarray must have same dimension, startingarray is only one \n",
      "#entry\n",
      "def sort_out_by_angle (startingarray, middlearray, endingarray, angletosequence):\n",
      "    if np.size(startingarray, axis = 0) == 1:\n",
      "        startingexp = np.repeat(startingarray, np.size(middlearray, axis=0), axis =0)\n",
      "    else:\n",
      "        startingexp = startingarray\n",
      "    vect1 = (startingexp - middlearray)\n",
      "    vect2 = (endingarray - middlearray)\n",
      "    #catch if there is 0 displacement\n",
      "    tocalculate = ((vect1 != np.array([0,0,0])).any(1)) & ((vect2 != np.array([0,0,0])).any(1))\n",
      "    if tocalculate.any():\n",
      "        vect1 = vect1[tocalculate]\n",
      "        vect2 = vect2[tocalculate]\n",
      "        catchrounding = skalar_product(vect1, vect2)/(vectabsar(vect1)*vectabsar(vect2))\n",
      "        #get rounding arrors\n",
      "        catchrounding[catchrounding > 1] = 1\n",
      "        catchrounding[catchrounding < -1] = -1\n",
      "        angles = np.arccos(catchrounding)\n",
      "        keep = np.bool8(np.zeros(np.size(angles)))\n",
      "        #here can be defined which angles should be taken into account\n",
      "        for anglepreferences in angletosequence:\n",
      "            keep = (keep | ((angles > ((anglepreferences[0]-anglepreferences[1]) * np.pi/180)) &\n",
      "                           (angles < ((anglepreferences[0]+anglepreferences[1]) * np.pi/180))))\n",
      "        tempmid = middlearray[tocalculate]\n",
      "        tempend = endingarray[tocalculate]\n",
      "        tocalctemp = tocalculate == False\n",
      "        tempmid = np.concatenate((tempmid[keep], middlearray[tocalctemp]), axis = 0)\n",
      "        tempend = np.concatenate((tempend[keep], endingarray[tocalctemp]), axis = 0)\n",
      "        \n",
      "        if np.size(startingarray, axis = 0) == 1: \n",
      "            return (tempmid, tempend)\n",
      "        else:\n",
      "            tempstart = np.concatenate((tempstart[keep], startingarray[tocalctemp]), axis = 0)\n",
      "            return tempstart, tempmid, tempend\n",
      "    else:\n",
      "        if np.size(startingarray, axis = 0) == 1:\n",
      "            return middlearray, endingarray\n",
      "        else:\n",
      "            return startingarray, middlearray, endingarray"
     ],
     "language": "python",
     "metadata": {},
     "outputs": [],
     "prompt_number": 16
    },
    {
     "cell_type": "code",
     "collapsed": false,
     "input": [
      "#RAM in GByte,\n",
      "#repetition, how often is the largest array repeated\n",
      "def make_small_generator(PointArray, repetition, RAM, ProteinArray = None):\n",
      "    AvailableRAM = RAM * 1073741824 #in BytesWaBytesWarning\n",
      "    \n",
      "    \n",
      "    try:\n",
      "        PointSize = PointArray.nbytes    \n",
      "    except:\n",
      "        PointSize = PointArray * 2 #assumes, that it is the size of the array, and this is float 16\n",
      "    \n",
      "    if ProteinArray != None:\n",
      "        proteinsize = np.size(ProteinArray, axis = 0)\n",
      "    else:\n",
      "        proteinsize = 1\n",
      "        \n",
      "    UsedMem = PointSize * proteinsize * repetition\n",
      "    \n",
      "    return (int(UsedMem) / AvailableRAM) + 1\n",
      "\n"
     ],
     "language": "python",
     "metadata": {},
     "outputs": [],
     "prompt_number": 17
    },
    {
     "cell_type": "code",
     "collapsed": false,
     "input": [
      "#wie genau m\u00fcssen sich die St\u00fccke treffen wird durch hitgenauig bestimmt, es ist sin(5\u00b0) * maximale linkerl\u00e4nge\n",
      "#+ einen Helixanteil\n",
      "#~500s\n",
      "hitgenauig = 0.0436 * laengstesstueck\n",
      "\n",
      "\n",
      "def sort_out_by_distance(startingpoints, endingpoints, firstpoints, distance, variation):\n",
      "    '''\n",
      "    returns three arrays with all possible paths, made out of all possible combinations startingpoints to endingpoints\n",
      "    that are in a certain distance\n",
      "    '''\n",
      "    \n",
      "    starttemp = np.float16(np.repeat(startingpoints, np.size(endingpoints, axis=0), axis =0))\n",
      "    endtemp = np.float16(np.tile(endingpoints, (np.size(startingpoints, axis=0),1)))\n",
      "    abstaende = abstandarrays_quadr(starttemp, endtemp)\n",
      "    keep = ((abstaende > (distance-variation)**2) & (abstaende < (distance+variation)**2))\n",
      "    firsttemp = np.float16(np.repeat(firstpoints, np.size(endingpoints, axis=0), axis =0))\n",
      "    return [firsttemp[keep], starttemp[keep], endtemp[keep]]"
     ],
     "language": "python",
     "metadata": {},
     "outputs": [],
     "prompt_number": 18
    },
    {
     "cell_type": "code",
     "collapsed": false,
     "input": [
      "def sort_out_by_length (comefrompoints, gotopoints, linkerlaengenKO):\n",
      "    '''\n",
      "    returns a boolean array, with which you can slice the points, True means the values are kept\n",
      "    comefrompoints can be either an x * 3 array or just a three array, then it is elongated\n",
      "    '''\n",
      "    \n",
      "    if np.size(comefrompoints) == 3:\n",
      "        comefrompoints = np.repeat([comefrompoints], np.size(gotopoints, axis = 0), axis = 0)\n",
      "    else:\n",
      "        if np.size(gotopoints) == 3:\n",
      "            gotopoints = np.repeat([gotopoints], np.size(comefrompoints, axis = 0), axis = 0)\n",
      "    \n",
      "    arraylengthtemp = np.size(comefrompoints, axis = 0)\n",
      "    lonetemp = abstandarrays(comefrompoints, gotopoints)\n",
      "    #True means keep\n",
      "    sortouttemp = np.bool8(np.zeros(arraylengthtemp))\n",
      "    \n",
      "    for LAENGE in linkerlaengenKO:\n",
      "        sortouttemp = sortouttemp | ((lonetemp < (LAENGE + LENGTHACCURACYKO)) & (lonetemp > (LAENGE - LENGTHACCURACYKO)))\n",
      "        \n",
      "    return sortouttemp"
     ],
     "language": "python",
     "metadata": {},
     "outputs": [],
     "prompt_number": 55
    },
    {
     "cell_type": "heading",
     "level": 4,
     "metadata": {},
     "source": [
      "Gestartet am 9.8. um 15:15 Uhr, 15:55 Uhr bei den Dreieckigen Linkern Versuch eines kompletten Durchlaufs, dann dreistunden f\u00fcr die dreieckigen Linker\n",
      "\n",
      "Linkerohneeckeflex: 11000 erzeugt, bereits erstmal aussortiert.\n",
      "Linkermiteckeflex:  insgesamt 35000 flexible (also 24000 hinzugekommen)\n",
      "\n",
      "erstepunkte 2200 erzeugt, \n",
      "drittepunkte werden 850 000 erzeugt"
     ]
    },
    {
     "cell_type": "heading",
     "level": 3,
     "metadata": {},
     "source": [
      "Ab hier kann man nach oben starten, wenn es einen Fehler gab."
     ]
    },
    {
     "cell_type": "code",
     "collapsed": false,
     "input": [
      "#wir machen Arrays aus den Verschiebungen, f\u00fcr alle drei auf einmal, alle normiert\n",
      "startdisp = np.array([[0,0,0]])\n",
      "enddisp = np.array([[0,0,0]])\n",
      "dispnorm = np.array([[0,0,0]])\n",
      "for winkel in winkelarray:\n",
      "    \n",
      "    temp = drehenxy(winkel[0], winkel[1], np.array([0,0,1]))\n",
      "    \n",
      "    dispnorm = np.append(dispnorm, [temp], axis=0)\n",
      "    \n",
      "    if any((moeglichewinkelanfang[:]==winkel).all(1)):\n",
      "        startdisp = np.append(startdisp, [temp], axis=0)\n",
      "    if any((moeglichewinkelende[:]==winkel).all(1)):\n",
      "        enddisp = np.append(enddisp, [temp], axis=0)"
     ],
     "language": "python",
     "metadata": {},
     "outputs": [],
     "prompt_number": 20
    },
    {
     "cell_type": "markdown",
     "metadata": {},
     "source": [
      "We insert new possible linkers, these are either straight connections between the ends with flexible parts or with maximum one angle in the linker. The point is, that here the flexible ends are estimated better. "
     ]
    },
    {
     "cell_type": "code",
     "collapsed": false,
     "input": [
      "#without any edge, \n",
      "#+1 because of range\n",
      "\n",
      "if (ScarsAtStart + MissingAtStart) > 3:\n",
      "    FLEXATSTART = np.logspace(np.log10(1.5), np.log10(ScarsAtStart + MissingAtStart), num=4) * LengthOfFlexibleAA\n",
      "else:\n",
      "    FLEXATSTART = np.append(np.arange(2, (ScarsAtStart + MissingAtStart+1)), 1.5 ) * LengthOfFlexibleAA\n",
      "    \n",
      "if (ScarsAtEnd + MissingAtEnd) > 3:\n",
      "    FLEXATEND = np.logspace(np.log10(1.5), np.log10(ScarsAtEnd + MissingAtEnd), num=4) * LengthOfFlexibleAA\n",
      "else:\n",
      "    FLEXATEND = np.append(np.arange(2, (ScarsAtEnd + MissingAtEnd+1)), 1.5 ) * LengthOfFlexibleAA\n",
      "\n",
      "secondpointsflexible = firstpointsflexible = np.float16(make_displacements(FLEXATSTART, startdisp) + anfangspunkt)\n",
      "thirdpointsflexible = np.float16(make_displacements(FLEXATEND, enddisp) + endpunkt)\n",
      "\n",
      "amountofthirdpoints = np.size(thirdpointsflexible, axis = 0)\n",
      "amountofsecondpoints = np.size(secondpointsflexible, axis = 0)\n",
      "\n",
      "#reduce the amount of points in the protein, that should be checked, as a cylinder around start -> end\n",
      "heretousepoints = pkte[np.ravel(distance_from_connection([anfangspunkt], [endpunkt], pkte)[0] < \\\n",
      "                       (minabstand + np.max(np.concatenate((FLEXATSTART, FLEXATEND)))))]\n",
      "\n",
      "\n",
      "MakeSmall = make_small_generator(np.size(secondpointsflexible) * np.size(thirdpointsflexible),\n",
      "                                 1.5 , 6 , ProteinArray = heretousepoints)\n",
      "\n",
      "teiler = np.size(secondpointsflexible, axis=0)/(MakeSmall)\n",
      "\n",
      "for i in range(0,(MakeSmall)):\n",
      "\n",
      "    temp1, temp2, temp3 = sort_out_by_distance(secondpointsflexible[i*teiler:(i+1)*teiler], thirdpointsflexible,\n",
      "                                firstpointsflexible[i*teiler:(i+1)*teiler], abstandanfend, 300 / kalib) \n",
      "    #300 ist etwa die H\u00e4lfte des Unterschieds zwischen zwei Linkerst\u00fccken\n",
      "    \n",
      "    keep = (distance_from_connection(temp2, temp3, heretousepoints)[0] >= minabstand).all(axis = 1)\n",
      "    \n",
      "    temp1 = temp2 = temp2[keep]\n",
      "    temp3 = temp3[keep]\n",
      "    \n",
      "    if i == 0:\n",
      "        firstpointsflexibletemp, secondpointsflexibletemp, thirdpointsflexibletemp = temp1, temp2, temp3\n",
      "    else:\n",
      "        firstpointsflexibletemp = np.concatenate((firstpointsflexibletemp, temp1), axis =0)\n",
      "        secondpointsflexibletemp = np.concatenate((secondpointsflexibletemp, temp2), axis =0)\n",
      "        thirdpointsflexibletemp = np.concatenate((thirdpointsflexibletemp, temp3), axis =0)\n",
      "\n",
      "if (i+1)*teiler < np.size(secondpointsflexible, axis=0):\n",
      "    temp1, temp2, temp3 = sort_out_by_distance(secondpointsflexible[(i+1)*teiler:], thirdpointsflexible,\n",
      "                                firstpointsflexible[(i+1)*teiler:], abstandanfend, 300 / kalib)\n",
      "\n",
      "    keep = (distance_from_connection(temp2, temp3, heretousepoints)[0] >= minabstand).all(axis = 1)\n",
      "\n",
      "    temp1 = temp2 = temp2[keep]\n",
      "    temp3 = temp3[keep]\n",
      "\n",
      "    firstpointsflexible  = np.concatenate((firstpointsflexibletemp,  temp1), axis =0)\n",
      "    secondpointsflexible = np.concatenate((secondpointsflexibletemp, temp2), axis =0)\n",
      "    thirdpointsflexible  = np.concatenate((thirdpointsflexibletemp,  temp3), axis =0)\n",
      "else:\n",
      "    firstpointsflexible  = firstpointsflexibletemp\n",
      "    secondpointsflexible = secondpointsflexibletemp\n",
      "    thirdpointsflexible  = thirdpointsflexibletemp"
     ],
     "language": "python",
     "metadata": {},
     "outputs": [],
     "prompt_number": 22
    },
    {
     "cell_type": "code",
     "collapsed": false,
     "input": [
      "np.shape(firstpointsflexible)"
     ],
     "language": "python",
     "metadata": {},
     "outputs": [
      {
       "metadata": {},
       "output_type": "pyout",
       "prompt_number": 23,
       "text": [
        "(6786, 3)"
       ]
      }
     ],
     "prompt_number": 23
    },
    {
     "cell_type": "markdown",
     "metadata": {},
     "source": [
      "now it should be tried to link it with one edge in the linker."
     ]
    },
    {
     "cell_type": "code",
     "collapsed": false,
     "input": [
      "heretousepoints = pkte[abstandpktzuarray( (anfangspunkt + endpunkt) / 2., pkte) < (abstandanfend / 2. + \n",
      "                                                                                   max(FLEXIBLEATSTARTKO, FLEXIBLEATENDKO))]\n",
      "#at about 3h running\n",
      "#calculate all the lengths that can produce the distance between beginning and end in an rectangular triangle\n",
      "linkertriangle = linkerlaengenKO[(linkerlaengenKO - LENGTHOFANGLEKO) < abstandanfend] - LENGTHOFANGLEKO\n",
      "linkertriangleone = np.repeat(linkertriangle, np.size(linkertriangle, axis = 0))\n",
      "linkertriangletwo = np.tile(linkertriangle, np.size(linkertriangle, axis = 0))\n",
      "\n",
      "linkertrianglehypoth = np.sqrt(linkertriangleone ** 2 + linkertriangletwo ** 2)\n",
      "\n",
      "keeptriangles = ((linkertrianglehypoth > (abstandanfend - FLEXIBLEATENDKO - FLEXIBLEATSTARTKO)) & \n",
      "                 (linkertrianglehypoth < (abstandanfend + FLEXIBLEATENDKO + FLEXIBLEATSTARTKO)))\n",
      "\n",
      "linkertriangleone = linkertriangleone[keeptriangles]\n",
      "linkertriangletwo = linkertriangletwo[keeptriangles]\n",
      "\n",
      "triangleangles = np.around(np.arctan(linkertriangletwo / linkertriangleone), decimals=2)\n",
      "#now we produce all the possible points, that lie on a sphere\n",
      "\n",
      "displacements = dispnorm * abstandanfend / 2\n",
      "\n",
      "allpointsfortriangles =  (anfangspunkt + endpunkt) / 2. + displacements\n",
      "amountoftriangles = np.size(allpointsfortriangles, axis = 0)\n",
      "\n",
      "anglesintriangle = angle_between_connections_array(np.repeat([endpunkt], amountoftriangles, axis = 0),\n",
      "                                                   np.repeat([anfangspunkt], amountoftriangles, axis = 0),\n",
      "                                                   allpointsfortriangles)\n",
      "anglesintriangle = np.around(anglesintriangle, decimals=2)\n",
      "\n",
      "\n",
      "allpointsfortriangles = allpointsfortriangles[np.in1d(anglesintriangle, triangleangles)]\n",
      "#450 unique points\n",
      "\n",
      "#get the displacement angles\n",
      "  \n",
      "\n",
      "dispnormtribeg = np.array([0,0,0])\n",
      "for angle in moeglichewinkelanfang:\n",
      "    temp = drehenxy(angle[0], angle[1], np.array([0,0,1]))\n",
      "    dispnormtribeg = np.append(dispnorm, [temp], axis=0)\n",
      "    \n",
      "dispnormtriend = np.array([0,0,0])\n",
      "for angle in moeglichewinkelende:\n",
      "    temp = drehenxy(angle[0], angle[1], np.array([0,0,1]))\n",
      "    dispnormtriend = np.append(dispnorm, [temp], axis=0)\n",
      "    \n",
      "\n",
      "\n",
      "triangleshiftsbeg = np.float16(make_displacements(FLEXATSTART, dispnormtribeg))\n",
      "\n",
      "\n",
      "amountoftriangleshiftsbeg = np.size(triangleshiftsbeg, axis = 0)\n",
      "triangleshiftsbeg = np.repeat(triangleshiftsbeg, np.size(allpointsfortriangles, axis = 0), axis = 0)\n",
      "allpointsfortriangles = np.tile(allpointsfortriangles, (amountoftriangleshiftsbeg, 1))\n",
      "\n",
      "firstpointstriangle  = np.float16(triangleshiftsbeg + anfangspunkt)\n",
      "secondpointstriangle = np.float16(triangleshiftsbeg + allpointsfortriangles)\n",
      "\n",
      "print np.shape(firstpointstriangle)\n",
      "\n",
      "keep = sort_out_by_length(firstpointstriangle, secondpointstriangle, linkertriangle)\n",
      "\n",
      "firstpointstriangle = firstpointstriangle[keep]\n",
      "secondpointstriangle = secondpointstriangle[keep]\n",
      "\n",
      "\n",
      "\n",
      "\n",
      "MakeSmall = make_small_generator(secondpointstriangle, 12, 6, ProteinArray = heretousepoints)\n",
      "\n",
      "teiler = np.size(secondpointstriangle, axis=0)/(MakeSmall)\n",
      "\n",
      "#about 250s per MakeSmall run\n",
      "blatime = time.time()\n",
      "\n",
      "for i in range(0, (MakeSmall +1)):\n",
      "    if i == MakeSmall:\n",
      "        temp1 = firstpointstriangle[i * teiler:]\n",
      "        temp2 = secondpointstriangle[i * teiler:]\n",
      "    else:\n",
      "        temp1 = firstpointstriangle[i*teiler:(i+1)*teiler]\n",
      "        temp2 = secondpointstriangle[i*teiler:(i+1)*teiler]\n",
      "    #at first sort all connections out, of which the anglepoint is too near, or too far away from the protein.\n",
      "\n",
      "    keep = aussortierennachpunken(temp2, heretousepoints, minabstand, maxabstand)\n",
      "    \n",
      "    temp1 = temp1[keep]    \n",
      "    temp2 = temp2[keep]\n",
      "    \n",
      "    #then sort out, if the connection is too near at the protein\n",
      "    keep = (distance_from_connection(temp1, temp2, heretousepoints)[0] >= minabstand).all(axis = 1)\n",
      "    \n",
      "    temp1 = temp1[keep]    \n",
      "    temp2 = temp2[keep]\n",
      "    \n",
      "    if i == 0:\n",
      "        firstpointstritemp, secondpointstritemp = temp1, temp2\n",
      "    else:\n",
      "        firstpointstritemp = np.concatenate((firstpointstritemp, temp1), axis =0)\n",
      "        secondpointstritemp = np.concatenate((secondpointstritemp, temp2), axis =0)\n",
      "        print time.time() - blatime\n",
      "    \n",
      "firstpointstriangle = firstpointstritemp\n",
      "secondpointstriangle = secondpointstritemp\n",
      "\n",
      "print np.shape(firstpointstriangle)"
     ],
     "language": "python",
     "metadata": {},
     "outputs": [
      {
       "output_type": "stream",
       "stream": "stdout",
       "text": [
        "(2334600, 3)\n",
        "186.988739967"
       ]
      },
      {
       "output_type": "stream",
       "stream": "stdout",
       "text": [
        "\n",
        "289.142024994"
       ]
      },
      {
       "output_type": "stream",
       "stream": "stdout",
       "text": [
        "\n",
        "395.082502127"
       ]
      },
      {
       "output_type": "stream",
       "stream": "stdout",
       "text": [
        "\n",
        "499.986847162"
       ]
      },
      {
       "output_type": "stream",
       "stream": "stdout",
       "text": [
        "\n",
        "602.738824129"
       ]
      },
      {
       "output_type": "stream",
       "stream": "stdout",
       "text": [
        "\n",
        "701.592627048"
       ]
      },
      {
       "output_type": "stream",
       "stream": "stdout",
       "text": [
        "\n",
        "794.086011171"
       ]
      },
      {
       "output_type": "stream",
       "stream": "stdout",
       "text": [
        "\n",
        "884.635468006"
       ]
      },
      {
       "output_type": "stream",
       "stream": "stdout",
       "text": [
        "\n",
        "989.244971991"
       ]
      },
      {
       "output_type": "stream",
       "stream": "stdout",
       "text": [
        "\n",
        "1108.19044995"
       ]
      },
      {
       "output_type": "stream",
       "stream": "stdout",
       "text": [
        "\n",
        "1227.73150706"
       ]
      },
      {
       "output_type": "stream",
       "stream": "stdout",
       "text": [
        "\n",
        "1346.8905561"
       ]
      },
      {
       "output_type": "stream",
       "stream": "stdout",
       "text": [
        "\n",
        "1466.58498406"
       ]
      },
      {
       "output_type": "stream",
       "stream": "stdout",
       "text": [
        "\n",
        "1574.26790714"
       ]
      },
      {
       "output_type": "stream",
       "stream": "stdout",
       "text": [
        "\n",
        "1667.76873302"
       ]
      },
      {
       "output_type": "stream",
       "stream": "stdout",
       "text": [
        "\n",
        "1667.77440596\n",
        "(6220, 3)\n"
       ]
      }
     ],
     "prompt_number": 24
    },
    {
     "cell_type": "code",
     "collapsed": false,
     "input": [
      "triangleshiftsend = np.float16(make_displacements(FLEXATEND, dispnormtriend))\n",
      "#randomize between the ends and the beginning\n",
      "amountoftriangleshiftsbeg = np.size(firstpointstriangle, axis = 0)\n",
      "amountoftriangleshiftsend = np.size(triangleshiftsend, axis = 0)\n",
      "\n",
      "triangleshiftsend = np.tile(triangleshiftsend, (amountoftriangleshiftsbeg, 1))\n",
      "firstpointstriangle = np.repeat(firstpointstriangle, amountoftriangleshiftsend, axis = 0)\n",
      "secondpointstriangle = np.repeat(secondpointstriangle, amountoftriangleshiftsend, axis = 0)"
     ],
     "language": "python",
     "metadata": {},
     "outputs": [],
     "prompt_number": 25
    },
    {
     "cell_type": "code",
     "collapsed": false,
     "input": [
      "thirdpointstriangle  = np.float16(triangleshiftsend + endpunkt)\n",
      "\n",
      "print np.shape(firstpointstriangle)\n",
      "\n",
      "keep = sort_out_by_length(secondpointstriangle, thirdpointstriangle, linkertriangle)\n",
      "\n",
      "firstpointstriangle = firstpointstriangle[keep]\n",
      "secondpointstriangle = secondpointstriangle[keep]\n",
      "thirdpointstriangle = thirdpointstriangle[keep]\n",
      "\n",
      "print np.shape(firstpointstriangle)\n",
      "\n",
      "\n",
      "\n",
      "MakeSmall = make_small_generator(secondpointstriangle, 15, 6, ProteinArray = heretousepoints)\n",
      "\n",
      "teiler = np.size(secondpointstriangle, axis=0)/(MakeSmall)\n",
      "\n",
      "#about 250s per MakeSmall run\n",
      "blatime = time.time()\n",
      "\n",
      "for i in range(0, (MakeSmall +1)):\n",
      "    if i == MakeSmall:\n",
      "        if (i * teiler) < np.size(secondpointstriangle, axis=0): \n",
      "            temp1 = firstpointstriangle[i * teiler:]\n",
      "            temp2 = secondpointstriangle[i * teiler:]\n",
      "            temp3 = thirdpointstriangle[i * teiler:]\n",
      "        else:\n",
      "            break\n",
      "    else:\n",
      "        temp1 = firstpointstriangle[i*teiler:(i+1)*teiler]\n",
      "        temp2 = secondpointstriangle[i*teiler:(i+1)*teiler]\n",
      "        temp3 = thirdpointstriangle[i*teiler:(i+1)*teiler]\n",
      "\n",
      "    \n",
      "    # sort out, if the connection is too near at the protein\n",
      "    keep = (distance_from_connection(temp2, temp3, heretousepoints)[0] >= minabstand).all(axis = 1)\n",
      "    \n",
      "    temp1 = temp1[keep]    \n",
      "    temp2 = temp2[keep]\n",
      "    temp3 = temp3[keep]\n",
      "    \n",
      "    if i == 0:\n",
      "        firstpointstritemp, secondpointstritemp, thirdpointstritemp = temp1, temp2, temp3\n",
      "    else:\n",
      "        firstpointstritemp = np.concatenate((firstpointstritemp, temp1), axis =0)\n",
      "        secondpointstritemp = np.concatenate((secondpointstritemp, temp2), axis =0)\n",
      "        thirdpointstritemp = np.concatenate((thirdpointstritemp, temp3), axis =0)\n",
      "    print time.time() - blatime\n",
      "\n",
      "firstpointsflexible  = np.concatenate((firstpointstritemp,  firstpointsflexible), axis =0)\n",
      "secondpointsflexible = np.concatenate((secondpointstritemp, secondpointsflexible), axis =0)\n",
      "thirdpointsflexible  = np.concatenate((thirdpointstritemp,  thirdpointsflexible), axis =0)"
     ],
     "language": "python",
     "metadata": {},
     "outputs": [
      {
       "output_type": "stream",
       "stream": "stdout",
       "text": [
        "(64538720, 3)\n",
        "(11946110, 3)"
       ]
      },
      {
       "output_type": "stream",
       "stream": "stdout",
       "text": [
        "\n",
        "89.8709819317"
       ]
      },
      {
       "output_type": "stream",
       "stream": "stdout",
       "text": [
        "\n",
        "179.986381054"
       ]
      },
      {
       "output_type": "stream",
       "stream": "stdout",
       "text": [
        "\n",
        "269.857589006"
       ]
      },
      {
       "output_type": "stream",
       "stream": "stdout",
       "text": [
        "\n",
        "359.561791897"
       ]
      },
      {
       "output_type": "stream",
       "stream": "stdout",
       "text": [
        "\n",
        "449.621114016"
       ]
      },
      {
       "output_type": "stream",
       "stream": "stdout",
       "text": [
        "\n",
        "539.229470968"
       ]
      },
      {
       "output_type": "stream",
       "stream": "stdout",
       "text": [
        "\n",
        "628.864161968"
       ]
      },
      {
       "output_type": "stream",
       "stream": "stdout",
       "text": [
        "\n",
        "718.708508968"
       ]
      },
      {
       "output_type": "stream",
       "stream": "stdout",
       "text": [
        "\n",
        "808.838509083"
       ]
      },
      {
       "output_type": "stream",
       "stream": "stdout",
       "text": [
        "\n",
        "898.475199938"
       ]
      },
      {
       "output_type": "stream",
       "stream": "stdout",
       "text": [
        "\n",
        "988.305885077"
       ]
      },
      {
       "output_type": "stream",
       "stream": "stdout",
       "text": [
        "\n",
        "1078.82641912"
       ]
      },
      {
       "output_type": "stream",
       "stream": "stdout",
       "text": [
        "\n",
        "1170.27174592"
       ]
      },
      {
       "output_type": "stream",
       "stream": "stdout",
       "text": [
        "\n",
        "1261.42550611"
       ]
      },
      {
       "output_type": "stream",
       "stream": "stdout",
       "text": [
        "\n",
        "1352.70360708"
       ]
      },
      {
       "output_type": "stream",
       "stream": "stdout",
       "text": [
        "\n",
        "1443.13874698"
       ]
      },
      {
       "output_type": "stream",
       "stream": "stdout",
       "text": [
        "\n",
        "1534.04337096"
       ]
      },
      {
       "output_type": "stream",
       "stream": "stdout",
       "text": [
        "\n",
        "1625.89006495"
       ]
      },
      {
       "output_type": "stream",
       "stream": "stdout",
       "text": [
        "\n",
        "1716.64239907"
       ]
      },
      {
       "output_type": "stream",
       "stream": "stdout",
       "text": [
        "\n",
        "1806.5098021"
       ]
      },
      {
       "output_type": "stream",
       "stream": "stdout",
       "text": [
        "\n",
        "1896.36101007"
       ]
      },
      {
       "output_type": "stream",
       "stream": "stdout",
       "text": [
        "\n",
        "1986.584373"
       ]
      },
      {
       "output_type": "stream",
       "stream": "stdout",
       "text": [
        "\n",
        "2076.40692401"
       ]
      },
      {
       "output_type": "stream",
       "stream": "stdout",
       "text": [
        "\n",
        "2166.16915703"
       ]
      },
      {
       "output_type": "stream",
       "stream": "stdout",
       "text": [
        "\n",
        "2257.24292803"
       ]
      },
      {
       "output_type": "stream",
       "stream": "stdout",
       "text": [
        "\n",
        "2360.01967311"
       ]
      },
      {
       "output_type": "stream",
       "stream": "stdout",
       "text": [
        "\n",
        "2462.04144406"
       ]
      },
      {
       "output_type": "stream",
       "stream": "stdout",
       "text": [
        "\n",
        "2563.59742498"
       ]
      },
      {
       "output_type": "stream",
       "stream": "stdout",
       "text": [
        "\n",
        "2668.56170201"
       ]
      },
      {
       "output_type": "stream",
       "stream": "stdout",
       "text": [
        "\n",
        "2771.15569091"
       ]
      },
      {
       "output_type": "stream",
       "stream": "stdout",
       "text": [
        "\n",
        "2870.14532995"
       ]
      },
      {
       "output_type": "stream",
       "stream": "stdout",
       "text": [
        "\n",
        "2959.70214796"
       ]
      },
      {
       "output_type": "stream",
       "stream": "stdout",
       "text": [
        "\n",
        "3049.69744802"
       ]
      },
      {
       "output_type": "stream",
       "stream": "stdout",
       "text": [
        "\n",
        "3139.49424505"
       ]
      },
      {
       "output_type": "stream",
       "stream": "stdout",
       "text": [
        "\n",
        "3229.104316"
       ]
      },
      {
       "output_type": "stream",
       "stream": "stdout",
       "text": [
        "\n",
        "3318.86722898"
       ]
      },
      {
       "output_type": "stream",
       "stream": "stdout",
       "text": [
        "\n",
        "3408.3277719"
       ]
      },
      {
       "output_type": "stream",
       "stream": "stdout",
       "text": [
        "\n",
        "3499.37696505"
       ]
      },
      {
       "output_type": "stream",
       "stream": "stdout",
       "text": [
        "\n",
        "3592.3397069"
       ]
      },
      {
       "output_type": "stream",
       "stream": "stdout",
       "text": [
        "\n",
        "3685.15885901"
       ]
      },
      {
       "output_type": "stream",
       "stream": "stdout",
       "text": [
        "\n",
        "3781.59505296"
       ]
      },
      {
       "output_type": "stream",
       "stream": "stdout",
       "text": [
        "\n",
        "3876.21682906"
       ]
      },
      {
       "output_type": "stream",
       "stream": "stdout",
       "text": [
        "\n",
        "3969.757442"
       ]
      },
      {
       "output_type": "stream",
       "stream": "stdout",
       "text": [
        "\n",
        "4066.380234"
       ]
      },
      {
       "output_type": "stream",
       "stream": "stdout",
       "text": [
        "\n",
        "4158.49944997"
       ]
      },
      {
       "output_type": "stream",
       "stream": "stdout",
       "text": [
        "\n",
        "4250.89593601"
       ]
      },
      {
       "output_type": "stream",
       "stream": "stdout",
       "text": [
        "\n",
        "4342.38231707"
       ]
      },
      {
       "output_type": "stream",
       "stream": "stdout",
       "text": [
        "\n",
        "4435.2354641"
       ]
      },
      {
       "output_type": "stream",
       "stream": "stdout",
       "text": [
        "\n",
        "4531.99090409"
       ]
      },
      {
       "output_type": "stream",
       "stream": "stdout",
       "text": [
        "\n",
        "4626.30556107"
       ]
      },
      {
       "output_type": "stream",
       "stream": "stdout",
       "text": [
        "\n",
        "4726.13757801"
       ]
      },
      {
       "output_type": "stream",
       "stream": "stdout",
       "text": [
        "\n",
        "4831.9345119"
       ]
      },
      {
       "output_type": "stream",
       "stream": "stdout",
       "text": [
        "\n",
        "4933.58707595"
       ]
      },
      {
       "output_type": "stream",
       "stream": "stdout",
       "text": [
        "\n",
        "5034.76822901"
       ]
      },
      {
       "output_type": "stream",
       "stream": "stdout",
       "text": [
        "\n",
        "5138.82102394"
       ]
      },
      {
       "output_type": "stream",
       "stream": "stdout",
       "text": [
        "\n",
        "5241.52845311"
       ]
      },
      {
       "output_type": "stream",
       "stream": "stdout",
       "text": [
        "\n",
        "5343.28185892"
       ]
      },
      {
       "output_type": "stream",
       "stream": "stdout",
       "text": [
        "\n",
        "5445.63310099"
       ]
      },
      {
       "output_type": "stream",
       "stream": "stdout",
       "text": [
        "\n",
        "5549.84622192"
       ]
      },
      {
       "output_type": "stream",
       "stream": "stdout",
       "text": [
        "\n",
        "5656.20852995"
       ]
      },
      {
       "output_type": "stream",
       "stream": "stdout",
       "text": [
        "\n",
        "5760.53898811"
       ]
      },
      {
       "output_type": "stream",
       "stream": "stdout",
       "text": [
        "\n",
        "5867.91176796"
       ]
      },
      {
       "output_type": "stream",
       "stream": "stdout",
       "text": [
        "\n",
        "5961.06301498"
       ]
      },
      {
       "output_type": "stream",
       "stream": "stdout",
       "text": [
        "\n",
        "6055.02020001"
       ]
      },
      {
       "output_type": "stream",
       "stream": "stdout",
       "text": [
        "\n",
        "6147.96339011"
       ]
      },
      {
       "output_type": "stream",
       "stream": "stdout",
       "text": [
        "\n",
        "6239.87711191"
       ]
      },
      {
       "output_type": "stream",
       "stream": "stdout",
       "text": [
        "\n",
        "6333.22514701"
       ]
      },
      {
       "output_type": "stream",
       "stream": "stdout",
       "text": [
        "\n",
        "6425.56223106"
       ]
      },
      {
       "output_type": "stream",
       "stream": "stdout",
       "text": [
        "\n",
        "6527.96947789"
       ]
      },
      {
       "output_type": "stream",
       "stream": "stdout",
       "text": [
        "\n",
        "6631.29123402"
       ]
      },
      {
       "output_type": "stream",
       "stream": "stdout",
       "text": [
        "\n",
        "6734.22407794"
       ]
      },
      {
       "output_type": "stream",
       "stream": "stdout",
       "text": [
        "\n",
        "6836.52296901"
       ]
      },
      {
       "output_type": "stream",
       "stream": "stdout",
       "text": [
        "\n",
        "6940.10092402"
       ]
      },
      {
       "output_type": "stream",
       "stream": "stdout",
       "text": [
        "\n",
        "7042.91995001"
       ]
      },
      {
       "output_type": "stream",
       "stream": "stdout",
       "text": [
        "\n",
        "7133.09988308"
       ]
      },
      {
       "output_type": "stream",
       "stream": "stdout",
       "text": [
        "\n",
        "7222.26168203"
       ]
      },
      {
       "output_type": "stream",
       "stream": "stdout",
       "text": [
        "\n",
        "7311.91463995"
       ]
      },
      {
       "output_type": "stream",
       "stream": "stdout",
       "text": [
        "\n",
        "7401.3036921"
       ]
      },
      {
       "output_type": "stream",
       "stream": "stdout",
       "text": [
        "\n",
        "7491.55061793"
       ]
      },
      {
       "output_type": "stream",
       "stream": "stdout",
       "text": [
        "\n",
        "7580.5997231"
       ]
      },
      {
       "output_type": "stream",
       "stream": "stdout",
       "text": [
        "\n",
        "7670.06965804"
       ]
      },
      {
       "output_type": "stream",
       "stream": "stdout",
       "text": [
        "\n",
        "7759.19443703"
       ]
      },
      {
       "output_type": "stream",
       "stream": "stdout",
       "text": [
        "\n",
        "7848.31897306"
       ]
      },
      {
       "output_type": "stream",
       "stream": "stdout",
       "text": [
        "\n",
        "7937.62195611"
       ]
      },
      {
       "output_type": "stream",
       "stream": "stdout",
       "text": [
        "\n",
        "8026.86772609"
       ]
      },
      {
       "output_type": "stream",
       "stream": "stdout",
       "text": [
        "\n",
        "8116.13009405"
       ]
      },
      {
       "output_type": "stream",
       "stream": "stdout",
       "text": [
        "\n",
        "8205.237499"
       ]
      },
      {
       "output_type": "stream",
       "stream": "stdout",
       "text": [
        "\n",
        "8296.99858212"
       ]
      },
      {
       "output_type": "stream",
       "stream": "stdout",
       "text": [
        "\n",
        "8388.66742992"
       ]
      },
      {
       "output_type": "stream",
       "stream": "stdout",
       "text": [
        "\n",
        "8480.34205604"
       ]
      },
      {
       "output_type": "stream",
       "stream": "stdout",
       "text": [
        "\n",
        "8573.9885931"
       ]
      },
      {
       "output_type": "stream",
       "stream": "stdout",
       "text": [
        "\n",
        "8666.83860302"
       ]
      },
      {
       "output_type": "stream",
       "stream": "stdout",
       "text": [
        "\n",
        "8759.03102803"
       ]
      },
      {
       "output_type": "stream",
       "stream": "stdout",
       "text": [
        "\n",
        "8850.46803689"
       ]
      },
      {
       "output_type": "stream",
       "stream": "stdout",
       "text": [
        "\n",
        "8940.38729596"
       ]
      },
      {
       "output_type": "stream",
       "stream": "stdout",
       "text": [
        "\n",
        "9030.135782"
       ]
      },
      {
       "output_type": "stream",
       "stream": "stdout",
       "text": [
        "\n",
        "9119.74550509"
       ]
      },
      {
       "output_type": "stream",
       "stream": "stdout",
       "text": [
        "\n",
        "9209.56261611"
       ]
      },
      {
       "output_type": "stream",
       "stream": "stdout",
       "text": [
        "\n",
        "9299.33399391"
       ]
      },
      {
       "output_type": "stream",
       "stream": "stdout",
       "text": [
        "\n",
        "9389.00099707"
       ]
      },
      {
       "output_type": "stream",
       "stream": "stdout",
       "text": [
        "\n",
        "9482.01938891"
       ]
      },
      {
       "output_type": "stream",
       "stream": "stdout",
       "text": [
        "\n",
        "9580.88463402"
       ]
      },
      {
       "output_type": "stream",
       "stream": "stdout",
       "text": [
        "\n",
        "9679.02725005"
       ]
      },
      {
       "output_type": "stream",
       "stream": "stdout",
       "text": [
        "\n",
        "9777.31063795"
       ]
      },
      {
       "output_type": "stream",
       "stream": "stdout",
       "text": [
        "\n",
        "9876.31904197"
       ]
      },
      {
       "output_type": "stream",
       "stream": "stdout",
       "text": [
        "\n",
        "9974.25343609"
       ]
      },
      {
       "output_type": "stream",
       "stream": "stdout",
       "text": [
        "\n",
        "10071.2152131"
       ]
      },
      {
       "output_type": "stream",
       "stream": "stdout",
       "text": [
        "\n",
        "10160.5710871"
       ]
      },
      {
       "output_type": "stream",
       "stream": "stdout",
       "text": [
        "\n",
        "10250.012531"
       ]
      },
      {
       "output_type": "stream",
       "stream": "stdout",
       "text": [
        "\n",
        "10339.353461"
       ]
      },
      {
       "output_type": "stream",
       "stream": "stdout",
       "text": [
        "\n",
        "10429.1526251"
       ]
      },
      {
       "output_type": "stream",
       "stream": "stdout",
       "text": [
        "\n",
        "10518.6652269"
       ]
      },
      {
       "output_type": "stream",
       "stream": "stdout",
       "text": [
        "\n",
        "10608.0176501"
       ]
      },
      {
       "output_type": "stream",
       "stream": "stdout",
       "text": [
        "\n",
        "10702.3716421"
       ]
      },
      {
       "output_type": "stream",
       "stream": "stdout",
       "text": [
        "\n",
        "10800.298681"
       ]
      },
      {
       "output_type": "stream",
       "stream": "stdout",
       "text": [
        "\n",
        "10899.1052551"
       ]
      },
      {
       "output_type": "stream",
       "stream": "stdout",
       "text": [
        "\n",
        "10997.779314"
       ]
      },
      {
       "output_type": "stream",
       "stream": "stdout",
       "text": [
        "\n",
        "11097.1457"
       ]
      },
      {
       "output_type": "stream",
       "stream": "stdout",
       "text": [
        "\n",
        "11195.4494989"
       ]
      },
      {
       "output_type": "stream",
       "stream": "stdout",
       "text": [
        "\n",
        "11291.5208061"
       ]
      },
      {
       "output_type": "stream",
       "stream": "stdout",
       "text": [
        "\n",
        "11384.0470951"
       ]
      },
      {
       "output_type": "stream",
       "stream": "stdout",
       "text": [
        "\n",
        "11478.586586"
       ]
      },
      {
       "output_type": "stream",
       "stream": "stdout",
       "text": [
        "\n",
        "11570.684478"
       ]
      },
      {
       "output_type": "stream",
       "stream": "stdout",
       "text": [
        "\n",
        "11664.4463341"
       ]
      },
      {
       "output_type": "stream",
       "stream": "stdout",
       "text": [
        "\n",
        "11758.233953"
       ]
      },
      {
       "output_type": "stream",
       "stream": "stdout",
       "text": [
        "\n",
        "11850.428441"
       ]
      },
      {
       "output_type": "stream",
       "stream": "stdout",
       "text": [
        "\n",
        "11958.4433811"
       ]
      },
      {
       "output_type": "stream",
       "stream": "stdout",
       "text": [
        "\n",
        "12065.6881871"
       ]
      },
      {
       "output_type": "stream",
       "stream": "stdout",
       "text": [
        "\n",
        "12169.9726379"
       ]
      },
      {
       "output_type": "stream",
       "stream": "stdout",
       "text": [
        "\n",
        "12274.9306719"
       ]
      },
      {
       "output_type": "stream",
       "stream": "stdout",
       "text": [
        "\n",
        "12379.4087541"
       ]
      },
      {
       "output_type": "stream",
       "stream": "stdout",
       "text": [
        "\n",
        "12478.228687"
       ]
      },
      {
       "output_type": "stream",
       "stream": "stdout",
       "text": [
        "\n",
        "12568.387949"
       ]
      },
      {
       "output_type": "stream",
       "stream": "stdout",
       "text": [
        "\n",
        "12658.38728"
       ]
      },
      {
       "output_type": "stream",
       "stream": "stdout",
       "text": [
        "\n",
        "12748.5361421"
       ]
      },
      {
       "output_type": "stream",
       "stream": "stdout",
       "text": [
        "\n",
        "12838.628629"
       ]
      },
      {
       "output_type": "stream",
       "stream": "stdout",
       "text": [
        "\n",
        "12928.5394249"
       ]
      },
      {
       "output_type": "stream",
       "stream": "stdout",
       "text": [
        "\n",
        "13018.3900511"
       ]
      },
      {
       "output_type": "stream",
       "stream": "stdout",
       "text": [
        "\n",
        "13108.7963569"
       ]
      },
      {
       "output_type": "stream",
       "stream": "stdout",
       "text": [
        "\n",
        "13199.2854941"
       ]
      },
      {
       "output_type": "stream",
       "stream": "stdout",
       "text": [
        "\n",
        "13289.1063559"
       ]
      },
      {
       "output_type": "stream",
       "stream": "stdout",
       "text": [
        "\n",
        "13378.9581411"
       ]
      },
      {
       "output_type": "stream",
       "stream": "stdout",
       "text": [
        "\n",
        "13469.4053471"
       ]
      },
      {
       "output_type": "stream",
       "stream": "stdout",
       "text": [
        "\n",
        "13559.306073"
       ]
      },
      {
       "output_type": "stream",
       "stream": "stdout",
       "text": [
        "\n",
        "13649.4680641"
       ]
      },
      {
       "output_type": "stream",
       "stream": "stdout",
       "text": [
        "\n",
        "13752.8318"
       ]
      },
      {
       "output_type": "stream",
       "stream": "stdout",
       "text": [
        "\n",
        "13854.207134"
       ]
      },
      {
       "output_type": "stream",
       "stream": "stdout",
       "text": [
        "\n",
        "13955.5461521"
       ]
      },
      {
       "output_type": "stream",
       "stream": "stdout",
       "text": [
        "\n",
        "14058.332325"
       ]
      },
      {
       "output_type": "stream",
       "stream": "stdout",
       "text": [
        "\n",
        "14164.730643"
       ]
      },
      {
       "output_type": "stream",
       "stream": "stdout",
       "text": [
        "\n",
        "14267.3287599"
       ]
      },
      {
       "output_type": "stream",
       "stream": "stdout",
       "text": [
        "\n",
        "14359.7616451"
       ]
      },
      {
       "output_type": "stream",
       "stream": "stdout",
       "text": [
        "\n",
        "14451.7556021"
       ]
      },
      {
       "output_type": "stream",
       "stream": "stdout",
       "text": [
        "\n",
        "14543.4662161"
       ]
      },
      {
       "output_type": "stream",
       "stream": "stdout",
       "text": [
        "\n",
        "14635.052907"
       ]
      },
      {
       "output_type": "stream",
       "stream": "stdout",
       "text": [
        "\n",
        "14727.7722931"
       ]
      },
      {
       "output_type": "stream",
       "stream": "stdout",
       "text": [
        "\n",
        "14819.5008521"
       ]
      },
      {
       "output_type": "stream",
       "stream": "stdout",
       "text": [
        "\n",
        "14915.741545"
       ]
      },
      {
       "output_type": "stream",
       "stream": "stdout",
       "text": [
        "\n",
        "15014.8710439"
       ]
      },
      {
       "output_type": "stream",
       "stream": "stdout",
       "text": [
        "\n",
        "15113.2597091"
       ]
      },
      {
       "output_type": "stream",
       "stream": "stdout",
       "text": [
        "\n",
        "15211.7631891"
       ]
      },
      {
       "output_type": "stream",
       "stream": "stdout",
       "text": [
        "\n",
        "15310.7255671"
       ]
      },
      {
       "output_type": "stream",
       "stream": "stdout",
       "text": [
        "\n",
        "15409.54987"
       ]
      },
      {
       "output_type": "stream",
       "stream": "stdout",
       "text": [
        "\n",
        "15504.813524"
       ]
      },
      {
       "output_type": "stream",
       "stream": "stdout",
       "text": [
        "\n",
        "15597.6497941"
       ]
      },
      {
       "output_type": "stream",
       "stream": "stdout",
       "text": [
        "\n",
        "15692.0894301"
       ]
      },
      {
       "output_type": "stream",
       "stream": "stdout",
       "text": [
        "\n",
        "15784.019887"
       ]
      },
      {
       "output_type": "stream",
       "stream": "stdout",
       "text": [
        "\n",
        "15876.612704"
       ]
      },
      {
       "output_type": "stream",
       "stream": "stdout",
       "text": [
        "\n",
        "15972.3201499"
       ]
      },
      {
       "output_type": "stream",
       "stream": "stdout",
       "text": [
        "\n",
        "16067.0186181"
       ]
      },
      {
       "output_type": "stream",
       "stream": "stdout",
       "text": [
        "\n",
        "16158.10535"
       ]
      },
      {
       "output_type": "stream",
       "stream": "stdout",
       "text": [
        "\n",
        "16248.9396219"
       ]
      },
      {
       "output_type": "stream",
       "stream": "stdout",
       "text": [
        "\n",
        "16340.979934"
       ]
      },
      {
       "output_type": "stream",
       "stream": "stdout",
       "text": [
        "\n",
        "16432.389925"
       ]
      },
      {
       "output_type": "stream",
       "stream": "stdout",
       "text": [
        "\n",
        "16523.898483"
       ]
      },
      {
       "output_type": "stream",
       "stream": "stdout",
       "text": [
        "\n",
        "16614.7343631"
       ]
      },
      {
       "output_type": "stream",
       "stream": "stdout",
       "text": [
        "\n",
        "16712.9611621"
       ]
      },
      {
       "output_type": "stream",
       "stream": "stdout",
       "text": [
        "\n",
        "16816.3157201"
       ]
      },
      {
       "output_type": "stream",
       "stream": "stdout",
       "text": [
        "\n",
        "16922.1832211"
       ]
      },
      {
       "output_type": "stream",
       "stream": "stdout",
       "text": [
        "\n",
        "17024.045022"
       ]
      },
      {
       "output_type": "stream",
       "stream": "stdout",
       "text": [
        "\n",
        "17125.2835829"
       ]
      },
      {
       "output_type": "stream",
       "stream": "stdout",
       "text": [
        "\n",
        "17231.012327"
       ]
      },
      {
       "output_type": "stream",
       "stream": "stdout",
       "text": [
        "\n",
        "17329.340086"
       ]
      },
      {
       "output_type": "stream",
       "stream": "stdout",
       "text": [
        "\n",
        "17424.166342"
       ]
      },
      {
       "output_type": "stream",
       "stream": "stdout",
       "text": [
        "\n",
        "17522.796355"
       ]
      },
      {
       "output_type": "stream",
       "stream": "stdout",
       "text": [
        "\n",
        "17615.9817851"
       ]
      },
      {
       "output_type": "stream",
       "stream": "stdout",
       "text": [
        "\n",
        "17709.6862359"
       ]
      },
      {
       "output_type": "stream",
       "stream": "stdout",
       "text": [
        "\n",
        "17804.777602"
       ]
      },
      {
       "output_type": "stream",
       "stream": "stdout",
       "text": [
        "\n",
        "17901.581969"
       ]
      },
      {
       "output_type": "stream",
       "stream": "stdout",
       "text": [
        "\n",
        "17994.138689"
       ]
      },
      {
       "output_type": "stream",
       "stream": "stdout",
       "text": [
        "\n",
        "18087.0292289"
       ]
      },
      {
       "output_type": "stream",
       "stream": "stdout",
       "text": [
        "\n",
        "18182.8239"
       ]
      },
      {
       "output_type": "stream",
       "stream": "stdout",
       "text": [
        "\n",
        "18275.1948581"
       ]
      },
      {
       "output_type": "stream",
       "stream": "stdout",
       "text": [
        "\n",
        "18371.7275009"
       ]
      },
      {
       "output_type": "stream",
       "stream": "stdout",
       "text": [
        "\n",
        "18464.5896571"
       ]
      },
      {
       "output_type": "stream",
       "stream": "stdout",
       "text": [
        "\n",
        "18556.379143"
       ]
      },
      {
       "output_type": "stream",
       "stream": "stdout",
       "text": [
        "\n",
        "18648.0814509"
       ]
      },
      {
       "output_type": "stream",
       "stream": "stdout",
       "text": [
        "\n",
        "18739.37041"
       ]
      },
      {
       "output_type": "stream",
       "stream": "stdout",
       "text": [
        "\n",
        "18830.065922"
       ]
      },
      {
       "output_type": "stream",
       "stream": "stdout",
       "text": [
        "\n",
        "18921.4207721"
       ]
      },
      {
       "output_type": "stream",
       "stream": "stdout",
       "text": [
        "\n",
        "19012.5716491"
       ]
      },
      {
       "output_type": "stream",
       "stream": "stdout",
       "text": [
        "\n",
        "19012.7604849"
       ]
      },
      {
       "output_type": "stream",
       "stream": "stdout",
       "text": [
        "\n"
       ]
      }
     ],
     "prompt_number": 26
    },
    {
     "cell_type": "code",
     "collapsed": false,
     "input": [
      "pickle.dump((firstpointsflexible, secondpointsflexible, thirdpointsflexible),\\\n",
      "            open(\"files/saveflexibles{projectname}.p\".format(projectname = UserDefinedProjectName), \"wb\"))"
     ],
     "language": "python",
     "metadata": {},
     "outputs": [],
     "prompt_number": 27
    },
    {
     "cell_type": "code",
     "collapsed": false,
     "input": [
      "np.shape(firstpointsflexible)"
     ],
     "language": "python",
     "metadata": {},
     "outputs": [
      {
       "metadata": {},
       "output_type": "pyout",
       "prompt_number": 28,
       "text": [
        "(8350975, 3)"
       ]
      }
     ],
     "prompt_number": 28
    },
    {
     "cell_type": "code",
     "collapsed": false,
     "input": [
      "'''\n",
      "punktetemp = pickle.load( open(\"files/saveflexibles{projectname}.p\".format(projectname = UserDefinedProjectName), \"rb\" ) )\n",
      "firstpointsflexible  = punktetemp[0]\n",
      "secondpointsflexible = punktetemp[1]\n",
      "thirdpointsflexible  = punktetemp[2]\n",
      "'''"
     ],
     "language": "python",
     "metadata": {},
     "outputs": [
      {
       "metadata": {},
       "output_type": "pyout",
       "prompt_number": 29,
       "text": [
        "'\\npunktetemp = pickle.load( open(\"files/saveflexibles{projectname}.p\".format(projectname = UserDefinedProjectName), \"rb\" ) )\\nfirstpointsflexible  = punktetemp[0]\\nsecondpointsflexible = punktetemp[1]\\nthirdpointsflexible  = punktetemp[2]\\n'"
       ]
      }
     ],
     "prompt_number": 29
    },
    {
     "cell_type": "code",
     "collapsed": false,
     "input": [
      "'''\n",
      "fig = plt.figure()\n",
      "ax = fig.add_subplot(111, projection='3d')\n",
      "ax.scatter(pkte[AmountOfAtomsFirstAA+1:-AmountOfAtomsLastAA-1:,0], pkte[AmountOfAtomsFirstAA+1:-AmountOfAtomsLastAA-1:,1], pkte[AmountOfAtomsFirstAA+1:-AmountOfAtomsLastAA-1:,2], s=10)\n",
      "ax.scatter(pkte[:AmountOfAtomsFirstAA:,0], pkte[:AmountOfAtomsFirstAA:,1], pkte[:AmountOfAtomsFirstAA:,2], s = 40, c =\"r\")\n",
      "ax.scatter(pkte[-AmountOfAtomsLastAA::,0], pkte[-AmountOfAtomsLastAA::,1], pkte[-AmountOfAtomsLastAA::,2], s = 40, c =\"r\")\n",
      "ax.scatter(OtherPoints[:,0], OtherPoints[:,1], OtherPoints[:,2], s=10, c = \"g\")\n",
      "\n",
      "ax.scatter(firstpointsflexible [:,0], firstpointsflexible[:,1], firstpointsflexible[:,2], c = \"y\")\n",
      "ax.scatter(secondpointsflexible[:,0], secondpointsflexible[:,1], secondpointsflexible[:,2], c = \"y\")\n",
      "plt.show()\n",
      "'''"
     ],
     "language": "python",
     "metadata": {},
     "outputs": []
    },
    {
     "cell_type": "heading",
     "level": 3,
     "metadata": {},
     "source": [
      "Flexible ends estimated to make the same as the rigid parts"
     ]
    },
    {
     "cell_type": "code",
     "collapsed": false,
     "input": [
      "#die verschiebungen mit den Linkerl\u00e4ngen multiplizieren, wichtig ist, in den versch sind immer auch nuller drinnen\n",
      "\n",
      "versch = make_displacements(linkerlaengenKO, dispnorm)\n",
      "\n",
      "\n",
      "anfversch = make_displacements((linkerlaengenKO + FLEXIBLEATSTARTKO - LENGTHOFANGLEKO), startdisp)\n",
      "anfversch = anfversch[(anfversch != np.array([0,0,0])).all(axis = 1)]\n",
      "    \n",
      "endversch = make_displacements((linkerlaengenKO + FLEXIBLEATENDKO - LENGTHOFANGLEKO), enddisp)\n",
      "endversch = endversch[(endversch != np.array([0,0,0])).all(axis = 1)]\n",
      "\n",
      "    \n",
      "#hier werden die Punkte generiert\n",
      "erstepunkte = np.float16(naechstepunkte([anfangspunkt], anfversch)[1])\n",
      "erstepunkte = erstepunkte[(erstepunkte == anfangspunkt).all(axis=1) |\n",
      "                          aussortierennachpunken(erstepunkte, PointsOfAllSubunits, minabstand, maxabstand)]\n",
      "\n",
      "letztepunkte = np.float16(naechstepunkte([endpunkt], endversch)[1])\n",
      "letztepunkte = letztepunkte[(letztepunkte == endpunkt).all(axis=1) | \n",
      "                            aussortierennachpunken(letztepunkte, PointsOfAllSubunits, minabstand, maxabstand)]\n",
      "\n",
      "#aussortieren, ob Punkte durch Protein gehen\n",
      "print np.shape(erstepunkte)\n",
      "#we just test with all as but not the first and last, because they are too close.\n",
      "\n",
      "#TODO hier abfangen, falls gleich alle Punkte weggemacht werden und dann eine Ausgabe machen, dass das ziemlich schwierig\n",
      "#und dann aber weiterfortlaufen, das gleiche auch mit den letzten Punkten\n",
      "\n",
      "\n",
      "'''\n",
      "\n",
      "#kann man eventuell mit hineinnehmen, wenn man ohnehin zu viel Zeug hat.\n",
      "\n",
      "if np.size(erstepunkte, axis = 0) > 5:\n",
      "    erstepunktetest = sort_out_by_protein([anfangspunkt], erstepunkte,\\\n",
      "                                      np.concatenate((pkte[AmountOfAtomsFirstAA:-AmountOfAtomsLastAA], OtherPoints), \\\n",
      "                                                     axis = 0), minabstand)[1]\n",
      "    if np.size(erstepunktetest) != 0:\n",
      "        erstepunkte = erstepunktetest\n",
      "   \n",
      "print np.shape(erstepunktetest)\n",
      "print np.shape(erstepunkte)\n",
      "'''\n",
      "'''\n",
      "if np.size(letztepunkte, axis = 0) > 5:\n",
      "    letztepunktetest = sort_out_by_protein([endpunkt], letztepunkte, \\\n",
      "                                      np.concatenate((pkte[AmountOfAtomsFirstAA:-AmountOfAtomsLastAA],\n",
      "                                      OtherPoints), axis = 0), minabstand)[1]\n",
      "    if np.size(letztepunktetest) != 0:\n",
      "        letztepunkte = letztepunktetest\n",
      "\n",
      "print np.shape(letztepunktetest)\n",
      "print np.shape(letztepunkte)\n",
      "'''\n",
      "\n",
      "#wir sortieren erstepunkte aus, die zu weit vom Ende entfernt liegen, sodass sie nicht mehr durch \n",
      "#die doppelte l\u00e4ngste Linkerl\u00e4nge verbunden werden k\u00f6nnen\n",
      "\n",
      "temp = abstandpktzuarray(endpunkt, erstepunkte)\n",
      "keep = temp < (3 * laengstesstueck)\n",
      "erstepunkte = erstepunkte[keep]\n",
      "\n",
      "#wir sortieren erstepunkte aus, die zu weit vom Ende entfernt liegen, sodass sie nicht mehr durch \n",
      "#die doppelte l\u00e4ngste Linkerl\u00e4nge verbunden werden k\u00f6nnen\n",
      "\n",
      "temp = abstandpktzuarray(anfangspunkt, letztepunkte)\n",
      "keep = temp < (3 * laengstesstueck)\n",
      "letztepunkte = letztepunkte[keep]\n",
      "\n",
      "#die zweite iteration, erstepunkte wird so gro\u00df gemacht, wie zweitepunkte, damit die Wege passen\n",
      "#davor fragen wir ab, ob es \u00fcberhaupt sinnvoll ist, die eine weitere Ecke zu nehmen, das spart viel Rechenzeit\n",
      "\n",
      "if ((abstandanfend < 3*np.min(linkerlaengenKO)) & (np.max(linkerlaengenKO) * 2 > maxvonanfang)\\\n",
      "    & (np.max(linkerlaengenKO) * 2 > maxvonende)):\n",
      "    zweitepunkte = erstepunkte\n",
      "else:\n",
      "    zweiteiteration = naechstepunkte(erstepunkte, versch)\n",
      "    zweitepunkte = np.float16(zweiteiteration[1])\n",
      "    erstepunkte = np.float16(zweiteiteration[0])\n",
      "\n",
      "print np.shape(erstepunkte)\n",
      "print np.shape(zweitepunkte)\n",
      "print np.shape(letztepunkte)"
     ],
     "language": "python",
     "metadata": {},
     "outputs": [
      {
       "output_type": "stream",
       "stream": "stdout",
       "text": [
        "(2052, 3)\n",
        "(2052, 3)\n",
        "(2052, 3)\n",
        "(10836, 3)\n"
       ]
      }
     ],
     "prompt_number": 93
    },
    {
     "cell_type": "markdown",
     "metadata": {},
     "source": [
      "Wir sortieren nun alle Winkel aus, die kleiner als 15\u00b0 sind. Das machen wir aber nicht f\u00fcr die Anfangs und Endpunkte, da nicht klar ist, wie dort die Alphahelix angesetzt wird."
     ]
    },
    {
     "cell_type": "code",
     "collapsed": false,
     "input": [
      "#Nach Winkeln aussortieren, von vorne.\n",
      "\n",
      "temp = sort_out_by_angle([anfangspunkt], erstepunkte, zweitepunkte, angletosequence)\n",
      "erstepunkte = temp[0]\n",
      "zweitepunkte = temp[1]"
     ],
     "language": "python",
     "metadata": {},
     "outputs": [],
     "prompt_number": 94
    },
    {
     "cell_type": "code",
     "collapsed": false,
     "input": [
      "print anzahleckenmax\n",
      "print anzahleckenmin"
     ],
     "language": "python",
     "metadata": {},
     "outputs": [
      {
       "output_type": "stream",
       "stream": "stdout",
       "text": [
        "6.08695652174\n",
        "1.55357549056\n"
       ]
      }
     ],
     "prompt_number": 95
    },
    {
     "cell_type": "code",
     "collapsed": false,
     "input": [
      "#wir sortieren zweite Punkte aus, die zu weit vom Ende entfernt liegen, sodass sie nicht mehr durch \n",
      "#die doppelte l\u00e4ngste Linkerl\u00e4nge verbunden werden k\u00f6nnen\n",
      "\n",
      "temp = abstandpktzuarray(endpunkt, zweitepunkte)\n",
      "keep = temp < (2 * laengstesstueck)\n",
      "zweitepunkte = zweitepunkte[keep]\n",
      "erstepunkte = erstepunkte[keep]\n",
      "\n",
      "np.shape(zweitepunkte)"
     ],
     "language": "python",
     "metadata": {},
     "outputs": [
      {
       "metadata": {},
       "output_type": "pyout",
       "prompt_number": 96,
       "text": [
        "(2052, 3)"
       ]
      }
     ],
     "prompt_number": 96
    },
    {
     "cell_type": "code",
     "collapsed": false,
     "input": [
      "#L\u00e4uft 82 sek, sortiert 60 000 Punkte aus\n",
      "#wir sortieren die Punkte aus, die zu weit oder zu nah im Protein sind\n",
      "StartTime = time.time()\n",
      "MakeSmall = make_small_generator(zweitepunkte,1 , 6 , ProteinArray = PointsOfAllSubunits)\n",
      "teiler = np.size(zweitepunkte, axis = 0)/MakeSmall\n",
      "temp = aussortierennachpunken(zweitepunkte[:teiler], PointsOfAllSubunits, minabstand, maxabstand)\n",
      "\n",
      "for i in range(1,MakeSmall):\n",
      "    temp = np.concatenate((temp, aussortierennachpunken(zweitepunkte[i*teiler:(i+1)*teiler],\\\n",
      "                                                        PointsOfAllSubunits, minabstand, maxabstand)), axis = 0)\n",
      "if ((i+1) * teiler) < np.size(zweitepunkte, axis=0): \n",
      "    temp = np.concatenate((temp, aussortierennachpunken(zweitepunkte[(i+1)*teiler:],\n",
      "                                                        PointsOfAllSubunits, minabstand, maxabstand)), axis = 0)\n",
      "\n",
      "print time.time()-StartTime    \n",
      "temp = np.array(temp)\n",
      "temp = np.ravel(temp, \"C\")\n",
      "\n",
      "zweitepunkte = zweitepunkte[temp]\n",
      "erstepunkte = erstepunkte[temp]\n",
      "print np.shape(erstepunkte)\n",
      "#save for saving calculationtime\n",
      "pickle.dump((erstepunkte, zweitepunkte, letztepunkte),\\\n",
      "            open(\"files/save{projectname}.p\".format(projectname = UserDefinedProjectName), \"wb\"))"
     ],
     "language": "python",
     "metadata": {},
     "outputs": [
      {
       "output_type": "stream",
       "stream": "stdout",
       "text": [
        "0.0751008987427\n",
        "(2052, 3)\n"
       ]
      }
     ],
     "prompt_number": 97
    },
    {
     "cell_type": "code",
     "collapsed": false,
     "input": [
      "\"\"\"\n",
      "punktetemp = pickle.load( open(\"files/save{projectname}.p\".format(projectname = UserDefinedProjectName), \"rb\" ) )\n",
      "erstepunkte = punktetemp[0]\n",
      "zweitepunkte = punktetemp[1]\n",
      "letztepunkte = punktetemp[2]\n",
      "\"\"\""
     ],
     "language": "python",
     "metadata": {},
     "outputs": [
      {
       "metadata": {},
       "output_type": "pyout",
       "prompt_number": 98,
       "text": [
        "'\\npunktetemp = pickle.load( open(\"files/save{projectname}.p\".format(projectname = UserDefinedProjectName), \"rb\" ) )\\nerstepunkte = punktetemp[0]\\nzweitepunkte = punktetemp[1]\\nletztepunkte = punktetemp[2]\\n'"
       ]
      }
     ],
     "prompt_number": 98
    },
    {
     "cell_type": "code",
     "collapsed": false,
     "input": [
      "#l\u00e4uft etwa 11 minuten, reduziert um die H\u00e4lfte\n",
      "MakeSmall = make_small_generator(zweitepunkte, 10 , 6 , ProteinArray = PointsOfAllSubunits)\n",
      "\n",
      "teiler = np.size(zweitepunkte, axis=0)/(MakeSmall)\n",
      "temp = sort_out_by_protein(erstepunkte[:teiler], zweitepunkte[:teiler], PointsOfAllSubunits, minabstand)\n",
      "erstetemp = temp[0]\n",
      "zweitetemp = temp[1]\n",
      "\n",
      "\n",
      "\n",
      "bla = time.time()\n",
      "#das l\u00e4uft zu lange...\n",
      "for i in range(1, MakeSmall):\n",
      "    temp = sort_out_by_protein(erstepunkte[i*teiler:(i+1)*teiler], zweitepunkte[i*teiler:(i+1)*teiler],\\\n",
      "                        PointsOfAllSubunits, minabstand)\n",
      "    \n",
      "    erstetemp = np.concatenate((erstetemp, temp[0]), axis =0)\n",
      "    zweitetemp = np.concatenate((zweitetemp, temp[1]), axis =0)\n",
      "    \n",
      "\n",
      "if ((i+1) * teiler) < np.size(zweitepunkte, axis=0):    \n",
      "    temp = sort_out_by_protein(erstepunkte[(i+1)*teiler:], zweitepunkte[(i+1)*teiler:], PointsOfAllSubunits, minabstand)\n",
      "\n",
      "    erstetemp = np.concatenate((erstetemp, temp[0]), axis = 0)\n",
      "    zweitetemp = np.concatenate((zweitetemp, temp[1]), axis = 0)\n",
      "\n",
      "erstepunkte = np.float16(erstetemp)\n",
      "zweitepunkte = np.float16(zweitetemp)\n",
      "\n",
      "print bla - time.time()\n",
      "print np.size(erstepunkte, axis = 0)\n",
      "\n",
      "pickle.dump((erstepunkte, zweitepunkte, letztepunkte), \\\n",
      "            open(\"files/save{projectname}.p\".format(projectname = UserDefinedProjectName), \"wb\"))"
     ],
     "language": "python",
     "metadata": {},
     "outputs": [
      {
       "output_type": "stream",
       "stream": "stdout",
       "text": [
        "-0.000657081604004\n",
        "2052\n"
       ]
      }
     ],
     "prompt_number": 99
    },
    {
     "cell_type": "code",
     "collapsed": false,
     "input": [
      "print np.size(erstepunkte, axis = 0)\n",
      "print np.size(zweitepunkte, axis = 0)"
     ],
     "language": "python",
     "metadata": {},
     "outputs": [
      {
       "output_type": "stream",
       "stream": "stdout",
       "text": [
        "2052\n",
        "2052\n"
       ]
      }
     ],
     "prompt_number": 100
    },
    {
     "cell_type": "code",
     "collapsed": false,
     "input": [
      "\"\"\"\n",
      "punktetemp = pickle.load( open(\"files/save{projectname}.p\".format(projectname = UserDefinedProjectName), \"rb\" ) )\n",
      "erstepunkte = punktetemp[0]\n",
      "zweitepunkte = punktetemp[1]\n",
      "letztepunkte = punktetemp[2]\n",
      "\"\"\""
     ],
     "language": "python",
     "metadata": {},
     "outputs": [
      {
       "metadata": {},
       "output_type": "pyout",
       "prompt_number": 101,
       "text": [
        "'\\npunktetemp = pickle.load( open(\"files/save{projectname}.p\".format(projectname = UserDefinedProjectName), \"rb\" ) )\\nerstepunkte = punktetemp[0]\\nzweitepunkte = punktetemp[1]\\nletztepunkte = punktetemp[2]\\n'"
       ]
      }
     ],
     "prompt_number": 101
    },
    {
     "cell_type": "heading",
     "level": 5,
     "metadata": {},
     "source": [
      "Generierung der Verbindungen zwsichen den zweiten und den dritten Punkten"
     ]
    },
    {
     "cell_type": "code",
     "collapsed": false,
     "input": [
      "blatime = time.time()\n",
      "\n",
      "\n",
      "MakeSmall = make_small_generator(zweitepunkte,8 , 6 , ProteinArray = letztepunkte)\n",
      "\n",
      "teiler = np.size(zweitepunkte, axis=0)/(MakeSmall)\n",
      "\n",
      "\n",
      "if os.path.exists('files/data{projectname}.h5'.format(projectname = UserDefinedProjectName)):\n",
      "    os.remove('files/data{projectname}.h5'.format(projectname = UserDefinedProjectName))\n",
      "h5f = h5py.File('files/data{projectname}.h5'.format(projectname = UserDefinedProjectName), \"w\")\n",
      "\n",
      "\n",
      "for laenge in linkerlaengenKO:\n",
      "    \n",
      "    for i in range(0,(MakeSmall)):\n",
      "                  \n",
      "        temp = sort_out_by_distance(zweitepunkte[i*teiler:(i+1)*teiler], letztepunkte,\\\n",
      "                                    erstepunkte[i*teiler:(i+1)*teiler], laenge, hitgenauig)\n",
      "        if i == 0:\n",
      "            erstetemp = temp[0]\n",
      "            zweitetemp= temp[1]\n",
      "            drittetemp= temp[2]\n",
      "        else:\n",
      "            erstetemp = np.concatenate((erstetemp, temp[0]), axis =0)\n",
      "            zweitetemp = np.concatenate((zweitetemp, temp[1]), axis =0)\n",
      "            drittetemp = np.concatenate((drittetemp, temp[2]), axis =0)\n",
      "            \n",
      "    if ((i+1) * teiler) < np.size(zweitepunkte, axis=0):  \n",
      "        temp = sort_out_by_distance(zweitepunkte[(i+1)*teiler:], letztepunkte, erstepunkte[(i+1)*teiler:], laenge, hitgenauig)\n",
      "        erstetemp = np.concatenate((erstetemp, temp[0]), axis =0)\n",
      "        zweitetemp = np.concatenate((zweitetemp, temp[1]), axis =0)\n",
      "        drittetemp = np.concatenate((drittetemp, temp[2]), axis =0)\n",
      "    \n",
      "    count = 1\n",
      "    for array in [erstetemp, zweitetemp, drittetemp]:\n",
      "        h5f.create_dataset(\"dataset_{points}{linker}\".format(points = count, linker = int(laenge)), data=array)\n",
      "        count +=1\n",
      "    print blatime-time.time()\n",
      "    \n",
      "h5f.close()\n",
      "\n",
      "    "
     ],
     "language": "python",
     "metadata": {},
     "outputs": [
      {
       "output_type": "stream",
       "stream": "stdout",
       "text": [
        "-3.37738013268\n",
        "-6.60196709633"
       ]
      },
      {
       "output_type": "stream",
       "stream": "stdout",
       "text": [
        "\n",
        "-9.86435198784"
       ]
      },
      {
       "output_type": "stream",
       "stream": "stdout",
       "text": [
        "\n",
        "-13.1237261295"
       ]
      },
      {
       "output_type": "stream",
       "stream": "stdout",
       "text": [
        "\n",
        "-16.5799100399"
       ]
      },
      {
       "output_type": "stream",
       "stream": "stdout",
       "text": [
        "\n",
        "-19.8581881523"
       ]
      },
      {
       "output_type": "stream",
       "stream": "stdout",
       "text": [
        "\n"
       ]
      }
     ],
     "prompt_number": 102
    },
    {
     "cell_type": "markdown",
     "metadata": {},
     "source": [
      "Aussortieren der Verbindungen, die durch das Protein gehen."
     ]
    },
    {
     "cell_type": "code",
     "collapsed": false,
     "input": [
      "h5f = h5py.File('files/data{projectname}.h5'.format(projectname = UserDefinedProjectName),'r')\n",
      "\n",
      "\n",
      "blubbtime = time.time()\n",
      "\n",
      "for laenge in linkerlaengenKO:\n",
      "    \n",
      "    SizeOfArray = len(h5f[\"dataset_{points}{linker}\".format(points = 1, linker = int(laenge))]) * 3\n",
      "    \n",
      "    \n",
      "    MakeSmall = make_small_generator(SizeOfArray,12 , 6 , ProteinArray = PointsOfAllSubunits)\n",
      "    teiler = SizeOfArray/(MakeSmall * 3)\n",
      "    \n",
      "    \n",
      "    erstepunkte  = h5f[\"dataset_{points}{linker}\".format(points = 1, linker = int(laenge))][:teiler]\n",
      "    zweitepunkte = h5f[\"dataset_{points}{linker}\".format(points = 2, linker = int(laenge))][:teiler]\n",
      "    drittepunkte = h5f[\"dataset_{points}{linker}\".format(points = 3, linker = int(laenge))][:teiler]\n",
      "\n",
      "    temp = sort_out_by_protein(zweitepunkte, drittepunkte, \\\n",
      "                               PointsOfAllSubunits, minabstand, beforearray = erstepunkte)\n",
      "    erstetemp = temp[0]\n",
      "    zweitetemp = temp[1]\n",
      "    drittetemp = temp[2]\n",
      "\n",
      "\n",
      "\n",
      "    bla = time.time()\n",
      "    #das l\u00e4uft zu lange, ein Durchlauf 2.5s, das hei\u00dft insgesamt: 30500~9hs\n",
      "    for i in range(1, MakeSmall):\n",
      "        erstepunkte  = h5f[\"dataset_{points}{linker}\".format(points = 1, linker = int(laenge))][i * teiler:(i+1)*teiler]\n",
      "        zweitepunkte = h5f[\"dataset_{points}{linker}\".format(points = 2, linker = int(laenge))][i * teiler:(i+1)*teiler]\n",
      "        drittepunkte = h5f[\"dataset_{points}{linker}\".format(points = 3, linker = int(laenge))][i * teiler:(i+1)*teiler]\n",
      "        temp = sort_out_by_protein(zweitepunkte, drittepunkte, \\\n",
      "                               PointsOfAllSubunits, minabstand, beforearray = erstepunkte)\n",
      "\n",
      "        erstetemp = np.concatenate((erstetemp, temp[0]), axis =0)\n",
      "        zweitetemp = np.concatenate((zweitetemp, temp[1]), axis =0)\n",
      "        drittetemp = np.concatenate((drittetemp, temp[2]), axis =0)\n",
      "        \n",
      "        print str(time.time() - blubbtime) + \"f\u00fcr einen makesmalldurchlauf\"\n",
      "    if ((i+1) * teiler) < (SizeOfArray / 3):  \n",
      "        erstepunkte  = h5f[\"dataset_{points}{linker}\".format(points = 1, linker = int(laenge))][(i+1) * teiler:]\n",
      "        zweitepunkte = h5f[\"dataset_{points}{linker}\".format(points = 2, linker = int(laenge))][(i+1) * teiler:]\n",
      "        drittepunkte = h5f[\"dataset_{points}{linker}\".format(points = 3, linker = int(laenge))][(i+1) * teiler:]\n",
      "\n",
      "\n",
      "        temp = sort_out_by_protein(zweitepunkte, drittepunkte, \\\n",
      "                                   PointsOfAllSubunits, minabstand, beforearray = erstepunkte)\n",
      "\n",
      "        erstetemp = np.concatenate((erstetemp, temp[0]), axis = 0)\n",
      "        zweitetemp = np.concatenate((zweitetemp, temp[1]), axis = 0)\n",
      "        drittetemp = np.concatenate((drittetemp, temp[2]), axis = 0)\n",
      "    \n",
      "    print str(time.time() - blubbtime) + \"f\u00fcr einen linkerdurchlauf\"\n",
      "\n",
      "erstepunkte = np.float16(erstetemp)\n",
      "zweitepunkte = np.float16(zweitetemp)\n",
      "drittepunkte = np.float16(drittetemp)\n",
      "\n",
      "    \n",
      "    \n",
      "\n",
      "h5f.close()\n",
      "    \n",
      "print np.shape(erstepunkte)"
     ],
     "language": "python",
     "metadata": {},
     "outputs": [
      {
       "output_type": "stream",
       "stream": "stdout",
       "text": [
        "25.4792430401f\u00fcr einen makesmalldurchlauf\n",
        "25.4805209637f\u00fcr einen linkerdurchlauf\n",
        "58.5289509296f\u00fcr einen makesmalldurchlauf"
       ]
      },
      {
       "output_type": "stream",
       "stream": "stdout",
       "text": [
        "\n",
        "58.5308070183f\u00fcr einen linkerdurchlauf\n",
        "100.877943993f\u00fcr einen makesmalldurchlauf"
       ]
      },
      {
       "output_type": "stream",
       "stream": "stdout",
       "text": [
        "\n",
        "100.879801989f\u00fcr einen linkerdurchlauf\n",
        "135.679680824f\u00fcr einen makesmalldurchlauf"
       ]
      },
      {
       "output_type": "stream",
       "stream": "stdout",
       "text": [
        "\n",
        "152.709517956f\u00fcr einen makesmalldurchlauf"
       ]
      },
      {
       "output_type": "stream",
       "stream": "stdout",
       "text": [
        "\n",
        "169.934591055f\u00fcr einen makesmalldurchlauf"
       ]
      },
      {
       "output_type": "stream",
       "stream": "stdout",
       "text": [
        "\n",
        "169.937302828f\u00fcr einen linkerdurchlauf\n",
        "209.355670929f\u00fcr einen makesmalldurchlauf"
       ]
      },
      {
       "output_type": "stream",
       "stream": "stdout",
       "text": [
        "\n",
        "228.992930889f\u00fcr einen makesmalldurchlauf"
       ]
      },
      {
       "output_type": "stream",
       "stream": "stdout",
       "text": [
        "\n",
        "248.822721958f\u00fcr einen makesmalldurchlauf"
       ]
      },
      {
       "output_type": "stream",
       "stream": "stdout",
       "text": [
        "\n",
        "248.825750828f\u00fcr einen linkerdurchlauf\n",
        "286.732269049f\u00fcr einen makesmalldurchlauf"
       ]
      },
      {
       "output_type": "stream",
       "stream": "stdout",
       "text": [
        "\n",
        "305.679700851f\u00fcr einen makesmalldurchlauf"
       ]
      },
      {
       "output_type": "stream",
       "stream": "stdout",
       "text": [
        "\n",
        "325.08246994f\u00fcr einen makesmalldurchlauf"
       ]
      },
      {
       "output_type": "stream",
       "stream": "stdout",
       "text": [
        "\n",
        "344.593435049f\u00fcr einen makesmalldurchlauf"
       ]
      },
      {
       "output_type": "stream",
       "stream": "stdout",
       "text": [
        "\n",
        "364.160704851f\u00fcr einen makesmalldurchlauf"
       ]
      },
      {
       "output_type": "stream",
       "stream": "stdout",
       "text": [
        "\n",
        "383.592361927f\u00fcr einen makesmalldurchlauf"
       ]
      },
      {
       "output_type": "stream",
       "stream": "stdout",
       "text": [
        "\n",
        "383.597565889f\u00fcr einen linkerdurchlauf\n",
        "(440647, 3)\n"
       ]
      }
     ],
     "prompt_number": 103
    },
    {
     "cell_type": "code",
     "collapsed": false,
     "input": [
      "\n",
      "tempsize =  np.size(erstepunkte, axis = 0)\n",
      "pickle.dump(erstepunkte[:tempsize/2], \\\n",
      "            open(\"files/save{projectname}ersteeins.p\".format(projectname = UserDefinedProjectName), \"wb\"))\n",
      "pickle.dump(erstepunkte[tempsize/2:], \\\n",
      "            open(\"files/save{projectname}erstezwei.p\".format(projectname = UserDefinedProjectName), \"wb\"))\n",
      "pickle.dump(zweitepunkte[:tempsize/2], \\\n",
      "            open(\"files/save{projectname}zweiteeins.p\".format(projectname = UserDefinedProjectName), \"wb\"))\n",
      "pickle.dump(zweitepunkte[tempsize/2:], \\\n",
      "            open(\"files/save{projectname}zweitezwei.p\".format(projectname = UserDefinedProjectName), \"wb\"))\n",
      "pickle.dump(drittepunkte[:tempsize/2], \\\n",
      "            open(\"files/save{projectname}dritteeins.p\".format(projectname = UserDefinedProjectName), \"wb\"))\n",
      "pickle.dump(drittepunkte[tempsize/2:], \\\n",
      "            open(\"files/save{projectname}drittezwei.p\".format(projectname = UserDefinedProjectName), \"wb\"))\n",
      "print tempsize\n"
     ],
     "language": "python",
     "metadata": {},
     "outputs": [
      {
       "output_type": "stream",
       "stream": "stdout",
       "text": [
        "440647\n"
       ]
      }
     ],
     "prompt_number": 104
    },
    {
     "cell_type": "code",
     "collapsed": false,
     "input": [
      "'''\n",
      "erstepunkteeins = pickle.load( open( \"files/save{projectname}ersteeins.p\".format(projectname = UserDefinedProjectName), \"rb\" ) )\n",
      "erstepunktezwei = pickle.load( open( \"files/save{projectname}erstezwei.p\".format(projectname = UserDefinedProjectName), \"rb\" ) )\n",
      "erstepunkte = np.concatenate((erstepunkteeins, erstepunktezwei), axis = 0)\n",
      "\n",
      "zweitepunkteeins = pickle.load( open( \"files/save{projectname}zweiteeins.p\".format(projectname = UserDefinedProjectName), \"rb\" ) )\n",
      "zweitepunktezwei = pickle.load( open( \"files/save{projectname}zweitezwei.p\".format(projectname = UserDefinedProjectName), \"rb\" ) )\n",
      "zweitepunkte = np.concatenate((zweitepunkteeins, zweitepunktezwei), axis = 0)\n",
      "\n",
      "drittepunkteeins = pickle.load( open(\"files/save{projectname}dritteeins.p\".format(projectname = UserDefinedProjectName), \"rb\"))\n",
      "drittepunktezwei = pickle.load( open(\"files/save{projectname}drittezwei.p\".format(projectname = UserDefinedProjectName), \"rb\"))\n",
      "drittepunkte = np.concatenate((drittepunkteeins, drittepunktezwei), axis = 0)\n",
      "'''"
     ],
     "language": "python",
     "metadata": {},
     "outputs": [
      {
       "metadata": {},
       "output_type": "pyout",
       "prompt_number": 44,
       "text": [
        "'\\nerstepunkteeins = pickle.load( open( \"files/save{projectname}ersteeins.p\".format(projectname = UserDefinedProjectName), \"rb\" ) )\\nerstepunktezwei = pickle.load( open( \"files/save{projectname}erstezwei.p\".format(projectname = UserDefinedProjectName), \"rb\" ) )\\nerstepunkte = np.concatenate((erstepunkteeins, erstepunktezwei), axis = 0)\\n\\nzweitepunkteeins = pickle.load( open( \"files/save{projectname}zweiteeins.p\".format(projectname = UserDefinedProjectName), \"rb\" ) )\\nzweitepunktezwei = pickle.load( open( \"files/save{projectname}zweitezwei.p\".format(projectname = UserDefinedProjectName), \"rb\" ) )\\nzweitepunkte = np.concatenate((zweitepunkteeins, zweitepunktezwei), axis = 0)\\n\\ndrittepunkteeins = pickle.load( open(\"files/save{projectname}dritteeins.p\".format(projectname = UserDefinedProjectName), \"rb\"))\\ndrittepunktezwei = pickle.load( open(\"files/save{projectname}drittezwei.p\".format(projectname = UserDefinedProjectName), \"rb\"))\\ndrittepunkte = np.concatenate((drittepunkteeins, drittepunktezwei), axis = 0)\\n'"
       ]
      }
     ],
     "prompt_number": 44
    },
    {
     "cell_type": "code",
     "collapsed": false,
     "input": [
      "if ((abstandanfend < 3*np.min(linkerlaengenKO)) & (np.max(linkerlaengenKO) * 2 > maxvonanfang)\\\n",
      "    & (np.max(linkerlaengenKO) * 2 > maxvonende)):\n",
      "    temp = sort_out_by_angle([anfangspunkt], zweitepunkte, drittepunkte, angletosequence)\n",
      "    erstepunkte = temp[0]\n",
      "    zweitepunkte = temp[0]\n",
      "    drittepunkte = temp[1]\n",
      "else:\n",
      "    temp = sort_out_by_angle(erstepunkte, zweitepunkte, drittepunkte, angletosequence)\n",
      "    erstepunkte = temp[0]\n",
      "    zweitepunkte = temp[1]\n",
      "    drittepunkte = temp[2]"
     ],
     "language": "python",
     "metadata": {},
     "outputs": [],
     "prompt_number": 105
    },
    {
     "cell_type": "code",
     "collapsed": false,
     "input": [
      "\n",
      "#UserDefinedProjectName = \"lambdalysozyme\"\n",
      "'''\n",
      "punktetemp = pickle.load( open(\"files/save{projectname}.p\".format(projectname = UserDefinedProjectName), \"rb\" ) )\n",
      "erstepunkte = punktetemp[0]\n",
      "zweitepunkte = punktetemp[1]\n",
      "drittepunkte = punktetemp[2]\n",
      "'''\n",
      "'''\n",
      "erstepunkte = erstepunkte[::100]\n",
      "zweitepunkte = zweitepunkte[::100]\n",
      "drittepunkte = drittepunkte[::100]\n",
      "'''"
     ],
     "language": "python",
     "metadata": {},
     "outputs": [
      {
       "metadata": {},
       "output_type": "pyout",
       "prompt_number": 127,
       "text": [
        "'\\nerstepunkte = erstepunkte[::100]\\nzweitepunkte = zweitepunkte[::100]\\ndrittepunkte = drittepunkte[::100]\\n'"
       ]
      }
     ],
     "prompt_number": 127
    },
    {
     "cell_type": "code",
     "collapsed": false,
     "input": [
      "'''\n",
      "punktetemp = pickle.load( open(\"files/saveflexibles{projectname}.p\".format(projectname = UserDefinedProjectName), \"rb\" ) )\n",
      "firstpointsflexible  = punktetemp[0]\n",
      "secondpointsflexible = punktetemp[1]\n",
      "thirdpointsflexible  = punktetemp[2]\n",
      "'''\n",
      "'''\n",
      "#veraltet\n",
      "erstepunkte  = np.concatenate((erstepunkte, firstpointsflexible), axis = 0)\n",
      "zweitepunkte = np.concatenate((zweitepunkte, secondpointsflexible), axis = 0)\n",
      "drittepunkte = np.concatenate((drittepunkte, thirdpointsflexible), axis = 0)\n",
      "'''\n",
      "\n",
      "pickle.dump((erstepunkte, zweitepunkte, drittepunkte), open(\"files/save{projectname}.p\".format(projectname = UserDefinedProjectName), \"wb\"))"
     ],
     "language": "python",
     "metadata": {},
     "outputs": [],
     "prompt_number": 106
    },
    {
     "cell_type": "heading",
     "level": 3,
     "metadata": {},
     "source": [
      "Das verbessern der Pfade, anpassen an die Linkerst\u00fccke"
     ]
    },
    {
     "cell_type": "code",
     "collapsed": false,
     "input": [
      "#thirdpoints are to be shifted and given back\n",
      "def shift_points_to_linkerpatterns(secondpoints, thirdpoints, linkerlaengenKO):\n",
      "    '''\n",
      "    shifts thirdpoints to the secondpoints or away from them, so that the distance between second and third fits into the\n",
      "    patterns that are provided by linkerlaengenKO.\n",
      "    secondpoints and thirdpoints must have same dimension.\n",
      "    \n",
      "    returns the new thirdpoints\n",
      "    '''\n",
      "    lthreetemp = abstandarrays(secondpoints, thirdpoints)\n",
      "    for LAENGE in linkerlaengenKO:\n",
      "        if LAENGE == linkerlaengenKO[0]:\n",
      "            comparedtopattern = lthreetemp - LAENGE\n",
      "        else:\n",
      "            comparedtopatterntwo = lthreetemp - LAENGE\n",
      "            fusionbool = np.abs(comparedtopattern) > np.abs(comparedtopatterntwo)\n",
      "            comparedtopattern[fusionbool] = comparedtopatterntwo[fusionbool]\n",
      "    \n",
      "    toberefinedbool = (np.abs(comparedtopattern) > LENGTHACCURACYKO)\n",
      "    \n",
      "    if toberefinedbool.any():\n",
      "        toberefinedlengths = comparedtopattern[toberefinedbool]\n",
      "        arraylengthtemp = np.size(toberefinedlengths)\n",
      "        shifts = np.zeros(arraylengthtemp)\n",
      "        #we calculate the shifts, to be sure we shift a bit farther than we need in the end.\n",
      "        shifts[toberefinedlengths > 0] = -1 * (toberefinedlengths[toberefinedlengths > 0] - \n",
      "                                               LENGTHACCURACYKO + LENGTHACCURACYKO / 10.)\n",
      "        shifts[toberefinedlengths < 0] = -1 * (toberefinedlengths[toberefinedlengths < 0] + \n",
      "                                               LENGTHACCURACYKO - LENGTHACCURACYKO / 10.)\n",
      "        shifts = np.reshape(np.repeat(shifts, 3), (arraylengthtemp,3))\n",
      "        lengthestemp = abstandarrays(thirdpoints[toberefinedbool] , secondpoints[toberefinedbool])\n",
      "        lengthestemp = np.reshape(np.repeat(lengthestemp, 3), (arraylengthtemp,3))\n",
      "        thirdpoints[toberefinedbool] = (((thirdpoints[toberefinedbool] - secondpoints[toberefinedbool]) /\n",
      "                                        lengthestemp) * shifts ) + thirdpoints[toberefinedbool]\n",
      "\n",
      "    return thirdpoints\n",
      "    \n",
      "    \n",
      "    \n",
      "    \n",
      "    \n",
      "def make_better_paths_rigid(startpoint, firstpoints, secondpoints, thirdpoints, endpoint):\n",
      "    linkerlaengenKOtemp = np.append(linkerlaengenKO, 0.)\n",
      "    lonetemp = abstandpktzuarray(startpoint, firstpoints)\n",
      "    \n",
      "    arraylengthtemp = np.size(lonetemp)\n",
      "    #True bleibt\n",
      "    \n",
      "    keep = sort_out_by_length(startpoint, firstpoints, linkerlaengenKO + FLEXIBLEATSTARTKO - LENGTHOFANGLEKO)\n",
      "    firstpoints = firstpoints[keep]\n",
      "    secondpoints = secondpoints[keep]\n",
      "    thirdpoints = thirdpoints[keep]\n",
      "        \n",
      "    thirdpoints = shift_points_to_linkerpatterns(secondpoints, thirdpoints, linkerlaengenKOtemp)\n",
      "    \n",
      "    keep = sort_out_by_length(thirdpoints, endpoint, linkerlaengenKO + FLEXIBLEATENDKO - LENGTHOFANGLEKO)\n",
      "    firstpoints = firstpoints[keep]\n",
      "    secondpoints = secondpoints[keep]\n",
      "    thirdpoints = thirdpoints[keep]    \n",
      "    \n",
      "    return firstpoints, secondpoints, thirdpoints\n",
      "    \n",
      "    \n",
      "def make_better_paths_flex(firstpoints, secondpoints, thirdpoints, endpoint):\n",
      "    linkerlaengenKOtemp = np.append(linkerlaengenKO, 0.)\n",
      "    \n",
      "    noanglebool = (firstpoints == secondpoints).all(1)\n",
      "    thirdpoints[noanglebool] = shift_points_to_linkerpatterns(secondpoints[noanglebool],\n",
      "                                                              thirdpoints[noanglebool], linkerlaengenKOtemp - \n",
      "                                                              2 * LENGTHOFANGLEKO)\n",
      "    \n",
      "    #keep Trues\n",
      "    arraylengthtemp = np.size(noanglebool)\n",
      "    sortouttemp = np.bool8(np.ones(arraylengthtemp))\n",
      "    sortouttemp[noanglebool] = (abstandpktzuarray(endpoint, thirdpoints[noanglebool]) < FLEXIBLEATENDKO)\n",
      "        \n",
      "    return firstpoints[sortouttemp], secondpoints[sortouttemp], thirdpoints[sortouttemp]"
     ],
     "language": "python",
     "metadata": {},
     "outputs": [],
     "prompt_number": 129
    },
    {
     "cell_type": "code",
     "collapsed": false,
     "input": [
      "print np.shape(firstpointsflexible)\n",
      "print np.shape(erstepunkte)"
     ],
     "language": "python",
     "metadata": {},
     "outputs": [
      {
       "output_type": "stream",
       "stream": "stdout",
       "text": [
        "(8344189, 3)\n",
        "(429091, 3)\n"
       ]
      }
     ],
     "prompt_number": 130
    },
    {
     "cell_type": "code",
     "collapsed": false,
     "input": [
      "firstpointsflexible, secondpointsflexible, thirdpointsflexible = make_better_paths_flex(firstpointsflexible,\n",
      "                                                                                        secondpointsflexible,\n",
      "                                                                                        thirdpointsflexible, endpunkt)\n",
      "\n",
      "erstepunkte, zweitepunkte, drittepunkte = make_better_paths_rigid(anfangspunkt, erstepunkte, zweitepunkte, drittepunkte,\n",
      "                                                                  endpunkt)\n"
     ],
     "language": "python",
     "metadata": {},
     "outputs": [],
     "prompt_number": 131
    },
    {
     "cell_type": "code",
     "collapsed": false,
     "input": [
      "print np.shape(firstpointsflexible)\n",
      "print np.shape(erstepunkte)"
     ],
     "language": "python",
     "metadata": {},
     "outputs": [
      {
       "output_type": "stream",
       "stream": "stdout",
       "text": [
        "(8344189, 3)\n",
        "(429083, 3)\n"
       ]
      }
     ],
     "prompt_number": 132
    },
    {
     "cell_type": "heading",
     "level": 3,
     "metadata": {},
     "source": [
      "Die Bewertungsfunktion\n"
     ]
    },
    {
     "cell_type": "markdown",
     "metadata": {},
     "source": [
      "Wir definieren Regionen, die schlecht f\u00fcr den Linker sind. Dabei bekommt jede Region eine G\u00fcte. Diese G\u00fcte sagt, wenn wir einen Linker in einem Abstand von G\u00fcte geteilt durch Minabstand vorbeigehen lassen. Das hei\u00dft je kleiner die G\u00fcte, desto n\u00e4her kann ich an diesem Punkt vorbei gehen.\n",
      "\n",
      "Im Allgemeinen m\u00f6chte ich, dass einfach immer die verschiedenen Teile gleich wichtig sind, egal wie gro\u00df das Protein ist, oder wie viele Regionen wir da gesagt haben, dass umgangen werden sollen.\n",
      "\n",
      "Bei den Winkeln haben wir ja immer maximal drei Winkel, von dem her, muss das nicht normiert werden.\n",
      "\n",
      "Bei der L\u00e4nge wird mit dem Abstand der Enden skaliert, bei den unguten Regionen wird so skaliert, dass egal wie viele es sind, die definiert wurden, immer insgesamt die Gewichtung 1 ist."
     ]
    },
    {
     "cell_type": "code",
     "collapsed": false,
     "input": [
      "def gaussian_normed(x, sig, mu):\n",
      "    return 1/(sig*np.sqrt(2*np.pi)) * np.exp(-0.5 * ((x-float(mu))/sig) ** 2)"
     ],
     "language": "python",
     "metadata": {},
     "outputs": [],
     "prompt_number": 133
    },
    {
     "cell_type": "code",
     "collapsed": false,
     "input": [
      "#this is not yet the final function, in the end it should also get an array with best estimations for angles and some\n",
      "#array of points, that are not good for the linker\n",
      "#it should return an array with for every linkerpath a certain value. From this we can find the best one.\n",
      "#also it should take some parameters in the end,\n",
      "\n",
      "#in anglearray there are always the actual angles in it\n",
      "#IMPORTANT: here should never be a 0 in it\n",
      "def angle_weighing(anglearray, angletosequence = angletosequence):\n",
      "    #build function\n",
      "    returnarray = np.zeros(np.size(anglearray))\n",
      "    sigmas = []\n",
      "    for angledefinition in angletosequence:\n",
      "        returnarray = returnarray + gaussian_normed(anglearray, angledefinition[1] * np.pi / 180.,\n",
      "                                                    angledefinition[0] * np.pi / 180.)\n",
      "        sigmas.append(angledefinition[1] * np.pi / 180.)\n",
      "    minsigma = min(sigmas)\n",
      "    returnarray = 2 / (minsigma * np.sqrt(2 * np.pi)) - returnarray    \n",
      "    return returnarray\n",
      "\n",
      "#die Winkelfunktion muss man noch \u00fcberlegen, in the end it returns a on one normed value.\n",
      "def angle_function(StartingArray, MiddleArray, EndingArray):\n",
      "    vect1 = (StartingArray - MiddleArray)\n",
      "    vect2 = (EndingArray - MiddleArray)\n",
      "    #catch if there is 0 displacement\n",
      "    tocalculate = ((vect1 != np.array([0,0,0])).any(1)) & ((vect2 != np.array([0,0,0])).any(1))\n",
      "    vecttemp1 = vect1[tocalculate]\n",
      "    vecttemp2 = vect2[tocalculate]\n",
      "    catchrounding = skalar_product(vecttemp1, vecttemp2)/(vectabsar(vecttemp1)*vectabsar(vecttemp2))\n",
      "    #get rounding arrors\n",
      "    catchrounding[catchrounding > 1] = 1\n",
      "    catchrounding[catchrounding < -1] = -1\n",
      "    angles = np.arccos(catchrounding)\n",
      "    functionvalues = np.zeros(np.size(MiddleArray, axis = 0))\n",
      "    functionvalues[tocalculate] = angle_weighing(angles)\n",
      "    return functionvalues\n",
      "\n",
      "#needs a on one normed array of the weighing of the points, if not all points are equally weighed\n",
      "\n",
      "#TODO: Start can be array or just points, End has to be an array...\n",
      "def unpreferable_places(Start, End, ProteinPoints, AminoacidNumberArray, ToBeWeighedAAInput, WeighingofAA, substratelist):\n",
      "    if np.size(Start, axis = 0) ==1:\n",
      "        Start = np.repeat(Start, np.size(End, axis = 0), axis = 0)\n",
      "        \n",
      "    if np.size(End, axis = 0) ==1:\n",
      "        End = np.repeat(End, np.size(Start, axis = 0), axis = 0)\n",
      "    \n",
      "    #all the normal aminoacids from the arrays\n",
      "    SliceToBeWeighed = np.in1d(ToBeWeighedAAInput, AminoacidNumberArray)\n",
      "    ToBeWeighedAA = ToBeWeighedAAInput[SliceToBeWeighed]\n",
      "    \n",
      "    #reduce the points to their mean, so that every aminoacid is equally weighed and not long ones are more important than\n",
      "    #than short ones\n",
      "    Points = []\n",
      "    for number in ToBeWeighedAA:\n",
      "        Points.append(np.mean(ProteinPoints[AminoacidNumberArray == number], axis = 0))\n",
      "    Points = np.array(Points)\n",
      "    \n",
      "    toappendtoweighingofAA = np.array([])\n",
      "    #for the substrate\n",
      "    for sublist in substratelist:\n",
      "        if sublist[0] in AminoacidNumberArray:\n",
      "            activepoint = np.mean(ProteinPoints[AminoacidNumberArray == sublist[0]], axis = 0)\n",
      "            boolangles = test_accessible_angles(winkelarray, sublist[1], activepoint, ProteinPoints)\n",
      "            lengtharray = np.array([0.2, 0.3, 0.4, 0.45, 0.5, 0.55, 0.6, 0.7, 0.8, 1.]) * sublist[2]\n",
      "            hereangles = winkelarray[boolangles]\n",
      "            \n",
      "            dispnorm = [np.array([0,0,0])]\n",
      "            for winkel in hereangles:\n",
      "                temp = drehenxy(winkel[0], winkel[1], np.array([0,0,1]))\n",
      "                np.append(dispnorm, [temp], axis = 0)\n",
      "                \n",
      "            disps = make_displacements(lengtharray, dispnorm)\n",
      "            disps = disps[(disps != np.array([0,0,0])).any(axis = 1)]\n",
      "            #also add the activesite\n",
      "            if np.size(Points) == 0:\n",
      "                Points = np.concatenate((disps + activepoint, [activepoint]), axis = 0)\n",
      "            else:\n",
      "                Points = np.concatenate((Points, disps + activepoint, [activepoint]), axis = 0)\n",
      "            toappendtoweighingofAA = np.append(toappendtoweighingofAA, np.ones(np.size(disps, axis = 0) + 1) /\n",
      "                      (np.size(disps, axis = 0) + 1) * sublist[1])\n",
      "            \n",
      "    \n",
      "    calc = (Start != End).any(axis = 1)\n",
      "    Starttemp = Start[calc]\n",
      "    Endtemp = End[calc]\n",
      "    \n",
      "    DistanceFromConnection, oneaxis, twoaxis = distance_from_connection(Starttemp, Endtemp, Points)\n",
      "   \n",
      "    \n",
      "    if WeighingofAA == None:\n",
      "        WeighingofAA = np.ones(twoaxis)\n",
      "\n",
      "        \n",
      "    #the array is normalized here and gets the size of the points, there can be set in arbitrary numnbers for the weighing\n",
      "    WeighingofAAtemp = WeighingofAA[SliceToBeWeighed]\n",
      "    WeighingofAAtemp = np.concatenate((WeighingofAAtemp, toappendtoweighingofAA))\n",
      "    WeighingofAAtemp = (WeighingofAAtemp/np.mean(WeighingofAAtemp))\n",
      "    WeighingofAAtemp = np.tile(WeighingofAAtemp, (oneaxis,1))\n",
      "    WeighingofAAtemp = np.reshape(WeighingofAAtemp, (oneaxis, twoaxis))\n",
      "      \n",
      "        \n",
      "    #TODO: zu welcher Potenz soll das dann gehen?\n",
      "    ValueOfPoint = WeighingofAAtemp / (DistanceFromConnection ** 2)\n",
      "    \n",
      "    returns = np.zeros(np.size(Start, axis = 0))\n",
      "    returns[calc] = np.sum(ValueOfPoint, axis = 1)\n",
      "    return returns\n",
      "\n",
      "\n",
      "def distance_from_surface(beforearray, testarray, ProteinPoints, Afterpoint = None):\n",
      "    '''\n",
      "    calculates the distances of the testarrays points from the surface as just the minimum of the distances to all protein \n",
      "    points. It doesn't calculate the points that are equal to the points of the beforearray, so that these are not taken double.\n",
      "    And it checks that the points don't lie on the endpoint.\n",
      "    Returns the distance divided by the minimal distance for norming the values somehow.\n",
      "    '''\n",
      "    Horiz_Axis = np.size(ProteinPoints, axis = 0)\n",
      "    testsize = np.size(testarray, axis = 0)\n",
      "    \n",
      "    \n",
      "    if np.size(beforearray, axis = 0) == 1:\n",
      "        beforearray = np.repeat(beforearray, testsize, axis = 0)        \n",
      "        \n",
      "    calc = (beforearray != testarray).any(axis = 1)\n",
      "    if Afterpoint != None:\n",
      "        Afterpoint = np.repeat(Afterpoint, testsize, axis = 0)\n",
      "        calc = (Afterpoint != testarray).any(axis = 1) & calc\n",
      "    \n",
      "    FirstPoints = testarray[calc]\n",
      "    \n",
      "    Vert_Axis = np.size(FirstPoints, axis = 0)\n",
      "    Prottemp = np.tile(ProteinPoints, (Vert_Axis, 1))\n",
      "    if Vert_Axis == 0:\n",
      "        Distancesret = np.zeros(testsize)\n",
      "    else:\n",
      "        Firsttemp = np.repeat(FirstPoints, Horiz_Axis, axis = 0)\n",
      "        Distances = abstandarrays(Firsttemp, Prottemp)    \n",
      "        Distances = np.reshape(Distances, (Vert_Axis, Horiz_Axis))\n",
      "        Distances = np.min(Distances, axis = 1)\n",
      "        Distancesret = np.zeros(testsize)\n",
      "        #TODO: \u00dcber Potenz nachdenken\n",
      "        Distancesret[calc] = (Distances - minabstand) ** 2 / minabstand\n",
      "    \n",
      "    return Distancesret"
     ],
     "language": "python",
     "metadata": {},
     "outputs": [],
     "prompt_number": 134
    },
    {
     "cell_type": "code",
     "collapsed": false,
     "input": [
      "def weighing_function_rigids(StartPoint, FirstArray, SecondArray, ThirdArray, EndPoint,\\\n",
      "                      ProteinPoints, AminoacidNumberArray, ToBeWeighedAA, WeighingofAA = None, substratelist = None):\n",
      "    \n",
      "    LinkerLength = abstandpktzuarray(StartPoint, FirstArray) + abstandarrays(FirstArray, SecondArray) \\\n",
      "    + abstandarrays(SecondArray, ThirdArray) + abstandpktzuarray(EndPoint, ThirdArray) \n",
      "    \n",
      "    LengthNormed = LinkerLength / (abstand(StartPoint, EndPoint))\n",
      "    \n",
      "    #catch where there are no new points in the SecondArray\n",
      "    SecondAngles = angle_function(FirstArray, SecondArray, ThirdArray)\n",
      "    SecondAngles[SecondAngles == 0] = angle_function(StartPoint, SecondArray[SecondAngles == 0],\\\n",
      "                                                     ThirdArray[SecondAngles == 0])\n",
      "    \n",
      "    Angles = angle_function(StartPoint, FirstArray, SecondArray) + SecondAngles + \\\n",
      "    angle_function(SecondArray, ThirdArray, EndPoint)\n",
      "    \n",
      "    if ToBeWeighedAA == None:\n",
      "        SiteInfluenceNormed = np.zeros(np.size(Angles))\n",
      "    else:\n",
      "        SiteInfluenceNormed = unpreferable_places([StartPoint], FirstArray,\\\n",
      "                                                  ProteinPoints, AminoacidNumberArray, ToBeWeighedAA,\n",
      "                                                  WeighingofAA, substratelist) + \\\n",
      "        unpreferable_places(FirstArray, SecondArray, ProteinPoints, AminoacidNumberArray, ToBeWeighedAA,\n",
      "                            WeighingofAA, substratelist) + \\\n",
      "        unpreferable_places(SecondArray, ThirdArray, ProteinPoints, AminoacidNumberArray, ToBeWeighedAA,\n",
      "                            WeighingofAA, substratelist) + \\\n",
      "        unpreferable_places([EndPoint], ThirdArray, ProteinPoints, AminoacidNumberArray, ToBeWeighedAA,\n",
      "                            WeighingofAA, substratelist)\n",
      "    \n",
      "    DistancesFromProtein = (distance_from_surface([StartPoint], FirstArray, ProteinPoints) + \n",
      "                            distance_from_surface(FirstArray, SecondArray, ProteinPoints) +\n",
      "                            distance_from_surface(SecondArray, ThirdArray, ProteinPoints, [EndPoint]))\n",
      "    \n",
      "    weighedvalue = LengthNormed\n",
      "    \n",
      "    return (weighedvalue, LengthNormed * abstand(StartPoint, EndPoint), Angles,\n",
      "            SiteInfluenceNormed, DistancesFromProtein)"
     ],
     "language": "python",
     "metadata": {},
     "outputs": [],
     "prompt_number": 135
    },
    {
     "cell_type": "code",
     "collapsed": false,
     "input": [
      "def weighing_function_flex(StartPoint, FirstArray, SecondArray, ThirdArray, EndPoint,\\\n",
      "                      ProteinPoints, AminoacidNumberArray, ToBeWeighedAA, WeighingofAA = None, substratelist = None):\n",
      "    \n",
      "    LinkerLength = abstandpktzuarray(StartPoint, FirstArray) + abstandarrays(FirstArray, SecondArray) \\\n",
      "    + abstandarrays(SecondArray, ThirdArray) + abstandpktzuarray(EndPoint, ThirdArray) \n",
      "    \n",
      "    LengthNormed = LinkerLength / (abstand(StartPoint, EndPoint))\n",
      "    \n",
      "    Angles = angle_function(FirstArray, SecondArray, ThirdArray)\n",
      "    \n",
      "    if ToBeWeighedAA == None:\n",
      "        SiteInfluenceNormed = np.zeros(np.size(Angles))\n",
      "    else:\n",
      "        SiteInfluenceNormed = unpreferable_places(FirstArray, SecondArray, ProteinPoints, AminoacidNumberArray,\n",
      "                                                  ToBeWeighedAA, WeighingofAA, substratelist) + \\\n",
      "        unpreferable_places(SecondArray, ThirdArray, ProteinPoints, AminoacidNumberArray, ToBeWeighedAA, \n",
      "                            WeighingofAA, substratelist) \n",
      "    \n",
      "    DistancesFromProtein = distance_from_surface(FirstArray, SecondArray, ProteinPoints) \n",
      "    \n",
      "    weighedvalue = LengthNormed\n",
      "    \n",
      "    return (weighedvalue, LengthNormed * abstand(StartPoint, EndPoint), Angles,\n",
      "            SiteInfluenceNormed, DistancesFromProtein)"
     ],
     "language": "python",
     "metadata": {},
     "outputs": [],
     "prompt_number": 136
    },
    {
     "cell_type": "code",
     "collapsed": false,
     "input": [
      "#Aus dem Weighingstring nutzbare Form machen.\n",
      "#Userstring ist von der Form: 273,10 280-290,5 298,7,35.6  usw. (Leerzeichen trennen Eintr\u00e4ge, , for single residues\n",
      "#- for ranges, second, for the diameter of the substrate)\n",
      "def make_weighingarrays(Userstring):\n",
      "    if Userstring == \"\":\n",
      "        return None, None, None\n",
      "    else:\n",
      "        ShouldBeWeighed = []\n",
      "        Weighingarray = []\n",
      "        substratelist = []\n",
      "        Userlist = Userstring.split()\n",
      "        for entry in Userlist:\n",
      "            if \"-\" not in entry:\n",
      "                #- is not in entry\n",
      "                if len(entry.split(\",\")) == 2:\n",
      "                    ShouldBeWeighed.append(int(entry.split(\",\")[0]))\n",
      "                    Weighingarray.append(float(entry.split(\",\")[1]))\n",
      "                else:\n",
      "                    substratelist.append([int(entry.split(\",\")[0]), float(entry.split(\",\")[1]), float(entry.split(\",\")[2])])\n",
      "            else:\n",
      "                #appends every entry, so borders are included in the interval\n",
      "                ShouldBeWeighed += (range(int(entry.split(\",\")[0].split(\"-\")[0]),int(entry.split(\",\")[0].split(\"-\")[1])+1))\n",
      "                #for many values they should be normed in weighing. it's the sites that interest us, lists are multiplied.\n",
      "                Weighingarray += ([float(entry.split(\",\")[1])/ \\\n",
      "                                      (int(entry.split(\",\")[0].split(\"-\")[1])+1-int(entry.split(\",\")[0].split(\"-\")[0]))]* \\\n",
      "                                     (int(entry.split(\",\")[0].split(\"-\")[1])+1-int(entry.split(\",\")[0].split(\"-\")[0])))\n",
      "\n",
      "        return np.array(ShouldBeWeighed), np.array(Weighingarray), substratelist"
     ],
     "language": "python",
     "metadata": {},
     "outputs": [],
     "prompt_number": 137
    },
    {
     "cell_type": "code",
     "collapsed": false,
     "input": [
      "UserdefinedWeighing = \"19,10,10\"\n",
      "\n",
      "\n",
      "\n",
      "ShouldBeWeighed, Weighingarray, substratelist = make_weighingarrays(UserdefinedWeighing)\n"
     ],
     "language": "python",
     "metadata": {},
     "outputs": [],
     "prompt_number": 138
    },
    {
     "cell_type": "code",
     "collapsed": false,
     "input": [
      "#weighting of linkers with flexible ends\n",
      "\n",
      "MakeSmall = make_small_generator(secondpointsflexible, 8 , 6 , ProteinArray = pkte)\n",
      "\n",
      "teiler = np.size(secondpointsflexible, axis=0)/(MakeSmall)\n",
      "blubbtime = time.time()\n",
      "print MakeSmall\n",
      "temp = weighing_function_flex(anfangspunkt, firstpointsflexible[:teiler], secondpointsflexible[:teiler],\n",
      "                                thirdpointsflexible[:teiler], endpunkt, pkte, InterestingAANr,\\\n",
      "                      ShouldBeWeighed, Weighingarray, substratelist)\n",
      "\n",
      "knull = temp[0]\n",
      "keins = temp[1]\n",
      "kzwei = temp[2]\n",
      "kdrei = temp[3]\n",
      "kvier = temp[4]\n",
      "\n",
      "\n",
      "for i in range(1, MakeSmall):\n",
      "    temp = weighing_function_flex(anfangspunkt, firstpointsflexible[i * teiler:(i+1)*teiler],\n",
      "                                    secondpointsflexible[i * teiler:(i+1)*teiler], \n",
      "                                    thirdpointsflexible[i * teiler:(i+1)*teiler],\n",
      "                                    endpunkt, pkte, InterestingAANr, ShouldBeWeighed, Weighingarray, substratelist)\n",
      "    \n",
      "    knull = np.concatenate((knull, temp[0]), axis =0)\n",
      "    keins = np.concatenate((keins, temp[1]), axis =0)\n",
      "    kzwei = np.concatenate((kzwei, temp[2]), axis =0)\n",
      "    kdrei = np.concatenate((kdrei, temp[3]), axis =0)\n",
      "    kvier = np.concatenate((kvier, temp[4]), axis =0)\n",
      "    print time.time() - blubbtime\n",
      "    \n",
      "    \n",
      "if (i+1) * teiler < np.size(zweitepunkte, axis=0):\n",
      "    temp = weighing_function_flex(anfangspunkt, firstpointsflexible[(i+1)*teiler:], \n",
      "                                    secondpointsflexible[(i+1)*teiler:], thirdpointsflexible[(i+1)*teiler:],\n",
      "                                    endpunkt, pkte, InterestingAANr, ShouldBeWeighed, Weighingarray, substratelist)\n",
      "\n",
      "\n",
      "    knull = np.concatenate((knull, temp[0]), axis =0)\n",
      "    keins = np.concatenate((keins, temp[1]), axis =0)\n",
      "    kzwei = np.concatenate((kzwei, temp[2]), axis =0)\n",
      "    kdrei = np.concatenate((kdrei, temp[3]), axis =0)\n",
      "    kvier = np.concatenate((kvier, temp[4]), axis =0)\n",
      "\n",
      "\n",
      "\n",
      "\n",
      "\n",
      "weightflex = np.array([knull, keins, kzwei, kdrei, kvier])\n",
      "flexk = weightflex"
     ],
     "language": "python",
     "metadata": {},
     "outputs": [
      {
       "output_type": "stream",
       "stream": "stdout",
       "text": [
        "77\n",
        "35.3343260288"
       ]
      },
      {
       "output_type": "stream",
       "stream": "stdout",
       "text": [
        "\n",
        "52.9672830105"
       ]
      },
      {
       "output_type": "stream",
       "stream": "stdout",
       "text": [
        "\n",
        "70.1377689838"
       ]
      },
      {
       "output_type": "stream",
       "stream": "stdout",
       "text": [
        "\n",
        "87.7305860519"
       ]
      },
      {
       "output_type": "stream",
       "stream": "stdout",
       "text": [
        "\n",
        "105.537858963"
       ]
      },
      {
       "output_type": "stream",
       "stream": "stdout",
       "text": [
        "\n",
        "122.925993919"
       ]
      },
      {
       "output_type": "stream",
       "stream": "stdout",
       "text": [
        "\n",
        "140.823712111"
       ]
      },
      {
       "output_type": "stream",
       "stream": "stdout",
       "text": [
        "\n",
        "157.673821926"
       ]
      },
      {
       "output_type": "stream",
       "stream": "stdout",
       "text": [
        "\n",
        "175.210021973"
       ]
      },
      {
       "output_type": "stream",
       "stream": "stdout",
       "text": [
        "\n",
        "192.09858489"
       ]
      },
      {
       "output_type": "stream",
       "stream": "stdout",
       "text": [
        "\n",
        "208.899480104"
       ]
      },
      {
       "output_type": "stream",
       "stream": "stdout",
       "text": [
        "\n",
        "225.656042099"
       ]
      },
      {
       "output_type": "stream",
       "stream": "stdout",
       "text": [
        "\n",
        "242.434073925"
       ]
      },
      {
       "output_type": "stream",
       "stream": "stdout",
       "text": [
        "\n",
        "259.289561987"
       ]
      },
      {
       "output_type": "stream",
       "stream": "stdout",
       "text": [
        "\n",
        "276.722999096"
       ]
      },
      {
       "output_type": "stream",
       "stream": "stdout",
       "text": [
        "\n",
        "293.949465036"
       ]
      },
      {
       "output_type": "stream",
       "stream": "stdout",
       "text": [
        "\n",
        "311.817382097"
       ]
      },
      {
       "output_type": "stream",
       "stream": "stdout",
       "text": [
        "\n",
        "328.970334053"
       ]
      },
      {
       "output_type": "stream",
       "stream": "stdout",
       "text": [
        "\n",
        "346.297194958"
       ]
      },
      {
       "output_type": "stream",
       "stream": "stdout",
       "text": [
        "\n",
        "365.001756907"
       ]
      },
      {
       "output_type": "stream",
       "stream": "stdout",
       "text": [
        "\n",
        "382.729223967"
       ]
      },
      {
       "output_type": "stream",
       "stream": "stdout",
       "text": [
        "\n",
        "400.159002066"
       ]
      },
      {
       "output_type": "stream",
       "stream": "stdout",
       "text": [
        "\n",
        "417.753896952"
       ]
      },
      {
       "output_type": "stream",
       "stream": "stdout",
       "text": [
        "\n",
        "435.237767935"
       ]
      },
      {
       "output_type": "stream",
       "stream": "stdout",
       "text": [
        "\n",
        "452.680541039"
       ]
      },
      {
       "output_type": "stream",
       "stream": "stdout",
       "text": [
        "\n",
        "470.571264029"
       ]
      },
      {
       "output_type": "stream",
       "stream": "stdout",
       "text": [
        "\n",
        "488.005507946"
       ]
      },
      {
       "output_type": "stream",
       "stream": "stdout",
       "text": [
        "\n",
        "505.985065937"
       ]
      },
      {
       "output_type": "stream",
       "stream": "stdout",
       "text": [
        "\n",
        "524.328763962"
       ]
      },
      {
       "output_type": "stream",
       "stream": "stdout",
       "text": [
        "\n",
        "541.438771009"
       ]
      },
      {
       "output_type": "stream",
       "stream": "stdout",
       "text": [
        "\n",
        "558.842504978"
       ]
      },
      {
       "output_type": "stream",
       "stream": "stdout",
       "text": [
        "\n",
        "576.67185998"
       ]
      },
      {
       "output_type": "stream",
       "stream": "stdout",
       "text": [
        "\n",
        "594.524766922"
       ]
      },
      {
       "output_type": "stream",
       "stream": "stdout",
       "text": [
        "\n",
        "611.53687191"
       ]
      },
      {
       "output_type": "stream",
       "stream": "stdout",
       "text": [
        "\n",
        "628.755745888"
       ]
      },
      {
       "output_type": "stream",
       "stream": "stdout",
       "text": [
        "\n",
        "646.716974974"
       ]
      },
      {
       "output_type": "stream",
       "stream": "stdout",
       "text": [
        "\n",
        "664.871191025"
       ]
      },
      {
       "output_type": "stream",
       "stream": "stdout",
       "text": [
        "\n",
        "681.875308037"
       ]
      },
      {
       "output_type": "stream",
       "stream": "stdout",
       "text": [
        "\n",
        "699.395467043"
       ]
      },
      {
       "output_type": "stream",
       "stream": "stdout",
       "text": [
        "\n",
        "716.645539045"
       ]
      },
      {
       "output_type": "stream",
       "stream": "stdout",
       "text": [
        "\n",
        "734.281691074"
       ]
      },
      {
       "output_type": "stream",
       "stream": "stdout",
       "text": [
        "\n",
        "754.725059986"
       ]
      },
      {
       "output_type": "stream",
       "stream": "stdout",
       "text": [
        "\n",
        "772.169255018"
       ]
      },
      {
       "output_type": "stream",
       "stream": "stdout",
       "text": [
        "\n",
        "789.473577023"
       ]
      },
      {
       "output_type": "stream",
       "stream": "stdout",
       "text": [
        "\n",
        "807.110732079"
       ]
      },
      {
       "output_type": "stream",
       "stream": "stdout",
       "text": [
        "\n",
        "824.278530121"
       ]
      },
      {
       "output_type": "stream",
       "stream": "stdout",
       "text": [
        "\n",
        "841.593012094"
       ]
      },
      {
       "output_type": "stream",
       "stream": "stdout",
       "text": [
        "\n",
        "859.865860939"
       ]
      },
      {
       "output_type": "stream",
       "stream": "stdout",
       "text": [
        "\n",
        "877.117361069"
       ]
      },
      {
       "output_type": "stream",
       "stream": "stdout",
       "text": [
        "\n",
        "894.201522112"
       ]
      },
      {
       "output_type": "stream",
       "stream": "stdout",
       "text": [
        "\n",
        "911.084696054"
       ]
      },
      {
       "output_type": "stream",
       "stream": "stdout",
       "text": [
        "\n",
        "928.994151115"
       ]
      },
      {
       "output_type": "stream",
       "stream": "stdout",
       "text": [
        "\n",
        "946.730664015"
       ]
      },
      {
       "output_type": "stream",
       "stream": "stdout",
       "text": [
        "\n",
        "964.282296896"
       ]
      },
      {
       "output_type": "stream",
       "stream": "stdout",
       "text": [
        "\n",
        "981.936666012"
       ]
      },
      {
       "output_type": "stream",
       "stream": "stdout",
       "text": [
        "\n",
        "999.321547031"
       ]
      },
      {
       "output_type": "stream",
       "stream": "stdout",
       "text": [
        "\n",
        "1016.99092197"
       ]
      },
      {
       "output_type": "stream",
       "stream": "stdout",
       "text": [
        "\n",
        "1034.39109802"
       ]
      },
      {
       "output_type": "stream",
       "stream": "stdout",
       "text": [
        "\n",
        "1051.77537799"
       ]
      },
      {
       "output_type": "stream",
       "stream": "stdout",
       "text": [
        "\n",
        "1068.86975908"
       ]
      },
      {
       "output_type": "stream",
       "stream": "stdout",
       "text": [
        "\n",
        "1086.2246511"
       ]
      },
      {
       "output_type": "stream",
       "stream": "stdout",
       "text": [
        "\n",
        "1104.14665508"
       ]
      },
      {
       "output_type": "stream",
       "stream": "stdout",
       "text": [
        "\n",
        "1122.85359812"
       ]
      },
      {
       "output_type": "stream",
       "stream": "stdout",
       "text": [
        "\n",
        "1140.86263394"
       ]
      },
      {
       "output_type": "stream",
       "stream": "stdout",
       "text": [
        "\n",
        "1157.94768"
       ]
      },
      {
       "output_type": "stream",
       "stream": "stdout",
       "text": [
        "\n",
        "1174.94758511"
       ]
      },
      {
       "output_type": "stream",
       "stream": "stdout",
       "text": [
        "\n",
        "1192.31883812"
       ]
      },
      {
       "output_type": "stream",
       "stream": "stdout",
       "text": [
        "\n",
        "1209.6305759"
       ]
      },
      {
       "output_type": "stream",
       "stream": "stdout",
       "text": [
        "\n",
        "1227.23010111"
       ]
      },
      {
       "output_type": "stream",
       "stream": "stdout",
       "text": [
        "\n",
        "1244.2382071"
       ]
      },
      {
       "output_type": "stream",
       "stream": "stdout",
       "text": [
        "\n",
        "1262.6169579"
       ]
      },
      {
       "output_type": "stream",
       "stream": "stdout",
       "text": [
        "\n",
        "1280.27040911"
       ]
      },
      {
       "output_type": "stream",
       "stream": "stdout",
       "text": [
        "\n",
        "1297.32212996"
       ]
      },
      {
       "output_type": "stream",
       "stream": "stdout",
       "text": [
        "\n",
        "1314.52316904"
       ]
      },
      {
       "output_type": "stream",
       "stream": "stdout",
       "text": [
        "\n",
        "1332.11355901"
       ]
      },
      {
       "output_type": "stream",
       "stream": "stdout",
       "text": [
        "\n",
        "1349.67875099"
       ]
      },
      {
       "output_type": "stream",
       "stream": "stdout",
       "text": [
        "\n"
       ]
      }
     ],
     "prompt_number": 186
    },
    {
     "cell_type": "code",
     "collapsed": false,
     "input": [
      "#weighting of linkers without flexible ends\n",
      "\n",
      "MakeSmall = make_small_generator(zweitepunkte, 8 , 6 , ProteinArray = pkte)\n",
      "\n",
      "teiler = np.size(zweitepunkte, axis=0)/(MakeSmall)\n",
      "\n",
      "temp = weighing_function_rigids(anfangspunkt, erstepunkte[:teiler], zweitepunkte[:teiler],\n",
      "                                drittepunkte[:teiler], endpunkt, pkte, InterestingAANr,\\\n",
      "                      ShouldBeWeighed, Weighingarray, substratelist)\n",
      "\n",
      "knull = temp[0]\n",
      "keins = temp[1]\n",
      "kzwei = temp[2]\n",
      "kdrei = temp[3]\n",
      "kvier = temp[4]\n",
      "\n",
      "\n",
      "for i in range(1, MakeSmall):\n",
      "    temp = weighing_function_rigids(anfangspunkt, erstepunkte[i * teiler:(i+1)*teiler],\n",
      "                                    zweitepunkte[i * teiler:(i+1)*teiler], \n",
      "                                    drittepunkte[i * teiler:(i+1)*teiler],\n",
      "                                    endpunkt, pkte, InterestingAANr, ShouldBeWeighed, Weighingarray, substratelist)\n",
      "    \n",
      "    knull = np.concatenate((knull, temp[0]), axis =0)\n",
      "    keins = np.concatenate((keins, temp[1]), axis =0)\n",
      "    kzwei = np.concatenate((kzwei, temp[2]), axis =0)\n",
      "    kdrei = np.concatenate((kdrei, temp[3]), axis =0)\n",
      "    kvier = np.concatenate((kvier, temp[4]), axis =0)\n",
      "    \n",
      "    \n",
      "if (i+1) * teiler < np.size(zweitepunkte, axis=0):\n",
      "    temp = weighing_function_rigids(anfangspunkt, erstepunkte[(i+1)*teiler:], \n",
      "                                    zweitepunkte[(i+1)*teiler:], drittepunkte[(i+1)*teiler: ],\n",
      "                                    endpunkt, pkte, InterestingAANr, ShouldBeWeighed, Weighingarray, substratelist)\n",
      "\n",
      "\n",
      "    knull = np.concatenate((knull, temp[0]), axis =0)\n",
      "    keins = np.concatenate((keins, temp[1]), axis =0)\n",
      "    kzwei = np.concatenate((kzwei, temp[2]), axis =0)\n",
      "    kdrei = np.concatenate((kdrei, temp[3]), axis =0)\n",
      "    kvier = np.concatenate((kvier, temp[4]), axis =0)\n",
      "\n",
      "\n",
      "\n",
      "\n",
      "weightrig = np.array([knull, keins, kzwei, kdrei, kvier])\n",
      "k = weightrig"
     ],
     "language": "python",
     "metadata": {},
     "outputs": [],
     "prompt_number": 184
    },
    {
     "cell_type": "markdown",
     "metadata": {},
     "source": [
      "Darstellen der Ergebnisse als Plots"
     ]
    },
    {
     "cell_type": "heading",
     "level": 2,
     "metadata": {},
     "source": [
      "Clustering of linkers"
     ]
    },
    {
     "cell_type": "markdown",
     "metadata": {},
     "source": [
      "At first the different linkers are just analysed. Of course this could be done in the weighing step before, but this is not that calculation intensive and like this it is much more clear when it does what."
     ]
    },
    {
     "cell_type": "code",
     "collapsed": false,
     "input": [
      "def length_to_sequence(lengtharray, linkerdatenbank, linkerlaengenKO):\n",
      "    #prepare for adding strings always\n",
      "    addsequencearray = np.zeros(np.size(lengtharray), dtype=str)\n",
      "    addsequencearray = np.array(addsequencearray, dtype=np.object)\n",
      "    \n",
      "    for i in range(len(linkerlaengenKO)):\n",
      "        setseqbool = ((lengtharray >= linkerlaengenKO[i] - LENGTHACCURACYKO) &\n",
      "                      (lengtharray <= (linkerlaengenKO[i] + LENGTHACCURACYKO)))\n",
      "        addsequencearray[setseqbool] = addsequencearray[setseqbool] + linkerdatenbank[i]\n",
      "        \n",
      "    temp = (addsequencearray == \"\") & (lengtharray != 0.)\n",
      "    addsequencearray[temp] = addsequencearray[temp] + \"XXX\" #TODO nur zum Testen, das muss noch raus!\n",
      "    \n",
      "    return addsequencearray\n",
      "\n",
      "def angle_to_sequence(anglearray, angletosequence, angleseparators):\n",
      "    addsequencearray = np.zeros(np.size(anglearray), dtype=str)\n",
      "    addsequencearray = np.array(addsequencearray, dtype=np.object)\n",
      "    \n",
      "    for i in range(len(angletosequence)):\n",
      "        setseqbool = (anglearray > angleseparators[i]) & (anglearray < angleseparators[i + 1])\n",
      "        addsequencearray[setseqbool] = addsequencearray[setseqbool] + angletosequence[i][2]\n",
      "    return addsequencearray\n",
      "\n",
      "#returns the weightingarrays and the sequencearrays, concatenated\n",
      "def translate_paths_to_sequences(startpoint, firstflex, secondflex, thirdflex, firstrig, secondrig, thirdrig,\n",
      "                                 endpoint, linkerdatenbank, linkerlaengenKO, angletosequence, angleseparators,\n",
      "                                 weightflex, weightrig):\n",
      "    \n",
      "    #flexible linkers\n",
      "    sequenceflex = np.zeros(np.size(firstflex, axis = 0), dtype=str)\n",
      "    sequenceflex = np.array(sequenceflex, dtype=np.object)\n",
      "    sequenceflex = sequenceflex + ScarsAtStartseq\n",
      "    \n",
      "    withoutanglebool = (firstpointsflexible == secondpointsflexible).all(axis = 1)\n",
      "    \n",
      "    sequenceflex[withoutanglebool] = sequenceflex[withoutanglebool] + \\\n",
      "    length_to_sequence(abstandarrays(secondflex[withoutanglebool], thirdflex[withoutanglebool]), \n",
      "                       linkerdatenbank, linkerlaengenKO)\n",
      "    \n",
      "    \n",
      "    withanglebool = np.invert(withoutanglebool)\n",
      "    \n",
      "    sequenceflex[withanglebool] = sequenceflex[withanglebool] + \\\n",
      "    length_to_sequence(abstandarrays(firstflex[withanglebool], secondflex[withanglebool]) + LENGTHOFANGLEKO,\n",
      "                       linkerdatenbank, linkerlaengenKO)\n",
      "    \n",
      "    sequenceflex[withanglebool] = sequenceflex[withanglebool] + \\\n",
      "    angle_to_sequence(angle_between_connections_array(firstflex[withanglebool], secondflex[withanglebool], \n",
      "                                                      thirdflex[withanglebool]), angletosequence, angleseparators)\n",
      "    \n",
      "    sequenceflex[withanglebool] = sequenceflex[withanglebool] + \\\n",
      "    length_to_sequence(abstandarrays(secondflex[withanglebool], thirdflex[withanglebool]), linkerdatenbank, linkerlaengenKO)\n",
      "    \n",
      "    \n",
      "    #rigid linkers\n",
      "    sequencerig = np.zeros(np.size(firstrig, axis = 0), dtype=str)\n",
      "    sequencerig = np.array(sequencerig, dtype=np.object)\n",
      "    sequencerig = sequencerig + ScarsAtStartseq\n",
      "    \n",
      "   \n",
      "    sequencerig = sequencerig + length_to_sequence(abstandpktzuarray(startpoint, firstrig) -\n",
      "                                                   FLEXIBLEATSTARTKO + LENGTHOFANGLEKO,  linkerdatenbank, linkerlaengenKO)\n",
      "    sequencerig = sequencerig + angle_to_sequence(angle_between_connections_array([startpoint], firstrig, secondrig), \n",
      "                                                  angletosequence, angleseparators)\n",
      "    \n",
      "    sequencerig = sequencerig + length_to_sequence(abstandarrays(firstrig, secondrig), linkerdatenbank, linkerlaengenKO)\n",
      "    sequencerig = sequencerig + angle_to_sequence(angle_between_connections_array(firstrig, secondrig, thirdrig), \n",
      "                                                  angletosequence, angleseparators)\n",
      "    \n",
      "    sequencerig = sequencerig + length_to_sequence(abstandarrays(secondrig, thirdrig), linkerdatenbank, linkerlaengenKO)\n",
      "    sequencerig = sequencerig + angle_to_sequence(angle_between_connections_array(secondrig, thirdrig, [endpoint]), \n",
      "                                                  angletosequence, angleseparators)\n",
      "    \n",
      "    sequencerig = sequencerig + length_to_sequence(abstandpktzuarray(endpoint, thirdrig) -\n",
      "                                                   FLEXIBLEATENDKO + LENGTHOFANGLEKO,  linkerdatenbank, linkerlaengenKO)\n",
      "    \n",
      "\n",
      "    \n",
      "    sequence = np.concatenate((sequenceflex, sequencerig))\n",
      "    sequence = sequence + ScarsAtEndseq\n",
      "    \n",
      "    return sequence , np.concatenate((weightflex, weightrig), axis = 1),\\\n",
      "np.concatenate((firstflex, firstrig), axis = 0), np.concatenate((secondflex, secondrig), axis = 0),\\\n",
      "np.concatenate((thirdflex, thirdrig), axis = 0)"
     ],
     "language": "python",
     "metadata": {},
     "outputs": [],
     "prompt_number": 145
    },
    {
     "cell_type": "code",
     "collapsed": false,
     "input": [
      "sequences, weightingsall, firstpointsall, secondpointsall, thirdpointsall =\\\n",
      "translate_paths_to_sequences(anfangspunkt,firstpointsflexible, secondpointsflexible,\n",
      "                                                    thirdpointsflexible, erstepunkte, zweitepunkte, drittepunkte, \n",
      "                                                    endpunkt, linkerdatenbank, linkerlaengenKO, angletosequence, \n",
      "                                                    angleseparators, weightflex, weightrig)\n",
      "\n"
     ],
     "language": "python",
     "metadata": {},
     "outputs": [],
     "prompt_number": 146
    },
    {
     "cell_type": "code",
     "collapsed": false,
     "input": [
      "print np.shape(weightflex)\n",
      "print np.shape(firstpointsflexible)"
     ],
     "language": "python",
     "metadata": {},
     "outputs": [
      {
       "output_type": "stream",
       "stream": "stdout",
       "text": [
        "(5, 8344188)\n",
        "(8344189, 3)\n"
       ]
      }
     ],
     "prompt_number": 153
    },
    {
     "cell_type": "code",
     "collapsed": false,
     "input": [
      "sequencepool = np.unique(sequences)\n",
      "sequenceweightings = []\n",
      "for sequenceiter in sequencepool:\n",
      "    sequenceweightings.append(np.mean(weightingsall[0][sequences == sequenceiter]))\n",
      "\n",
      "bestsequenceindex = np.argmin(sequenceweightings)\n",
      "print sequencepool[bestsequenceindex]"
     ],
     "language": "python",
     "metadata": {},
     "outputs": [
      {
       "ename": "ValueError",
       "evalue": "too many boolean indices",
       "output_type": "pyerr",
       "traceback": [
        "\u001b[0;31m---------------------------------------------------------------------------\u001b[0m\n\u001b[0;31mValueError\u001b[0m                                Traceback (most recent call last)",
        "\u001b[0;32m<ipython-input-147-11ba059bf60c>\u001b[0m in \u001b[0;36m<module>\u001b[0;34m()\u001b[0m\n\u001b[1;32m      2\u001b[0m \u001b[0msequenceweightings\u001b[0m \u001b[0;34m=\u001b[0m \u001b[0;34m[\u001b[0m\u001b[0;34m]\u001b[0m\u001b[0;34m\u001b[0m\u001b[0m\n\u001b[1;32m      3\u001b[0m \u001b[0;32mfor\u001b[0m \u001b[0msequenceiter\u001b[0m \u001b[0;32min\u001b[0m \u001b[0msequencepool\u001b[0m\u001b[0;34m:\u001b[0m\u001b[0;34m\u001b[0m\u001b[0m\n\u001b[0;32m----> 4\u001b[0;31m     \u001b[0msequenceweightings\u001b[0m\u001b[0;34m.\u001b[0m\u001b[0mappend\u001b[0m\u001b[0;34m(\u001b[0m\u001b[0mnp\u001b[0m\u001b[0;34m.\u001b[0m\u001b[0mmean\u001b[0m\u001b[0;34m(\u001b[0m\u001b[0mweightingsall\u001b[0m\u001b[0;34m[\u001b[0m\u001b[0;36m0\u001b[0m\u001b[0;34m]\u001b[0m\u001b[0;34m[\u001b[0m\u001b[0msequences\u001b[0m \u001b[0;34m==\u001b[0m \u001b[0msequenceiter\u001b[0m\u001b[0;34m]\u001b[0m\u001b[0;34m)\u001b[0m\u001b[0;34m)\u001b[0m\u001b[0;34m\u001b[0m\u001b[0m\n\u001b[0m\u001b[1;32m      5\u001b[0m \u001b[0;34m\u001b[0m\u001b[0m\n\u001b[1;32m      6\u001b[0m \u001b[0mbestsequenceindex\u001b[0m \u001b[0;34m=\u001b[0m \u001b[0mnp\u001b[0m\u001b[0;34m.\u001b[0m\u001b[0margmin\u001b[0m\u001b[0;34m(\u001b[0m\u001b[0msequenceweightings\u001b[0m\u001b[0;34m)\u001b[0m\u001b[0;34m\u001b[0m\u001b[0m\n",
        "\u001b[0;31mValueError\u001b[0m: too many boolean indices"
       ]
      }
     ],
     "prompt_number": 147
    },
    {
     "cell_type": "code",
     "collapsed": false,
     "input": [
      "%debug"
     ],
     "language": "python",
     "metadata": {},
     "outputs": [
      {
       "output_type": "stream",
       "stream": "stdout",
       "text": [
        "> \u001b[0;32m<ipython-input-147-11ba059bf60c>\u001b[0m(4)\u001b[0;36m<module>\u001b[0;34m()\u001b[0m\n",
        "\u001b[0;32m      3 \u001b[0;31m\u001b[0;32mfor\u001b[0m \u001b[0msequenceiter\u001b[0m \u001b[0;32min\u001b[0m \u001b[0msequencepool\u001b[0m\u001b[0;34m:\u001b[0m\u001b[0;34m\u001b[0m\u001b[0m\n",
        "\u001b[0m\u001b[0;32m----> 4 \u001b[0;31m    \u001b[0msequenceweightings\u001b[0m\u001b[0;34m.\u001b[0m\u001b[0mappend\u001b[0m\u001b[0;34m(\u001b[0m\u001b[0mnp\u001b[0m\u001b[0;34m.\u001b[0m\u001b[0mmean\u001b[0m\u001b[0;34m(\u001b[0m\u001b[0mweightingsall\u001b[0m\u001b[0;34m[\u001b[0m\u001b[0;36m0\u001b[0m\u001b[0;34m]\u001b[0m\u001b[0;34m[\u001b[0m\u001b[0msequences\u001b[0m \u001b[0;34m==\u001b[0m \u001b[0msequenceiter\u001b[0m\u001b[0;34m]\u001b[0m\u001b[0;34m)\u001b[0m\u001b[0;34m)\u001b[0m\u001b[0;34m\u001b[0m\u001b[0m\n",
        "\u001b[0m\u001b[0;32m      5 \u001b[0;31m\u001b[0;34m\u001b[0m\u001b[0m\n",
        "\u001b[0m\n"
       ]
      },
      {
       "name": "stdout",
       "output_type": "stream",
       "stream": "stdout",
       "text": [
        "ipdb> np.shape(weightingsall)\n"
       ]
      },
      {
       "output_type": "stream",
       "stream": "stdout",
       "text": [
        "(5, 8773270)\n"
       ]
      },
      {
       "name": "stdout",
       "output_type": "stream",
       "stream": "stdout",
       "text": [
        "ipdb> np.shape(weightingsall[0])\n"
       ]
      },
      {
       "output_type": "stream",
       "stream": "stdout",
       "text": [
        "(8773270,)\n"
       ]
      },
      {
       "name": "stdout",
       "output_type": "stream",
       "stream": "stdout",
       "text": [
        "ipdb> np.shape(sequences)\n"
       ]
      },
      {
       "output_type": "stream",
       "stream": "stdout",
       "text": [
        "(8773272,)\n"
       ]
      },
      {
       "name": "stdout",
       "output_type": "stream",
       "stream": "stdout",
       "text": [
        "ipdb> exit\n"
       ]
      }
     ],
     "prompt_number": 148
    },
    {
     "cell_type": "code",
     "collapsed": false,
     "input": [
      "print sequencepool"
     ],
     "language": "python",
     "metadata": {},
     "outputs": []
    },
    {
     "cell_type": "code",
     "collapsed": false,
     "input": [
      "#show a plot of one linker.\n",
      "bestpath = np.empty((3,3))\n",
      "'''\n",
      "bestpath[0] = erstepunkte[keep]\n",
      "bestpath[1] =  zweitepunkte[keep]\n",
      "bestpath[2] = drittepunkte[keep]\n",
      "'''\n",
      "bestpath[0] = firstpointsflexible[keep]\n",
      "bestpath[1] =  secondpointsflexible[keep]\n",
      "bestpath[2] = thirdpointsflexible[keep]\n",
      "\n",
      "\n",
      "print abstandanfend\n",
      "\n",
      "\n",
      "\n",
      "print abstand(bestpath[0], bestpath[1]), abstand(bestpath[2], bestpath[1]),\\\n",
      "abstand(bestpath[0], anfangspunkt), abstand(endpunkt, bestpath[2])\n",
      "\n",
      "fig = plt.figure()\n",
      "ax = fig.add_subplot(111, projection='3d')\n",
      "ax.scatter(pkte[AmountOfAtomsFirstAA+1:-AmountOfAtomsLastAA-1:,0], pkte[AmountOfAtomsFirstAA+1:-AmountOfAtomsLastAA-1:,1], pkte[AmountOfAtomsFirstAA+1:-AmountOfAtomsLastAA-1:,2], s=10)\n",
      "ax.scatter(pkte[:AmountOfAtomsFirstAA:,0], pkte[:AmountOfAtomsFirstAA:,1], pkte[:AmountOfAtomsFirstAA:,2], s = 40, c =\"r\")\n",
      "ax.scatter(pkte[-AmountOfAtomsLastAA::,0], pkte[-AmountOfAtomsLastAA::,1], pkte[-AmountOfAtomsLastAA::,2], s = 40, c =\"r\")\n",
      "ax.scatter(OtherPoints[:,0], OtherPoints[:,1], OtherPoints[:,2], s=10, c = \"g\")\n",
      "ax.plot(np.concatenate((np.array([anfangspunkt[0]]), bestpath[:,0], np.array([endpunkt[0]]))),\\\n",
      "        np.concatenate((np.array([anfangspunkt[1]]), bestpath[:,1], np.array([endpunkt[1]]))),\\\n",
      "        np.concatenate((np.array([anfangspunkt[2]]), bestpath[:,2], np.array([endpunkt[2]]))), c = \"r\", linewidth = 15)\n",
      "\n",
      "ax.plot(np.array([(bestpath[1,0] + bestpath[2,0])/2 - (minabstand / 2), (bestpath[1,0] + bestpath[2,0])/2 + (minabstand / 2)]),\\\n",
      "        np.array([(bestpath[1,1] + bestpath[2,1])/2, (bestpath[1,1] + bestpath[2,1])/2]),\\\n",
      "        np.array([(bestpath[1,2] + bestpath[2,2])/2, (bestpath[1,2] + bestpath[2,2])/2]),\\\n",
      "        c = \"g\", linewidth = 3)\n",
      "\n",
      "ax.plot(np.array([(bestpath[1,0] + bestpath[2,0])/2, (bestpath[1,0] + bestpath[2,0])/2]),\\\n",
      "        np.array([(bestpath[1,1] + bestpath[2,1])/2 - (minabstand / 2), (bestpath[1,1] + bestpath[2,1])/2 + (minabstand / 2)]),\\\n",
      "        np.array([(bestpath[1,2] + bestpath[2,2])/2, (bestpath[1,2] + bestpath[2,2])/2]),\\\n",
      "        c = \"g\", linewidth = 3)\n",
      "\n",
      "ax.plot(np.array([(bestpath[1,0] + bestpath[2,0])/2, (bestpath[1,0] + bestpath[2,0])/2]),\\\n",
      "        np.array([(bestpath[1,1] + bestpath[2,1])/2, (bestpath[1,1] + bestpath[2,1])/2]),\\\n",
      "        np.array([(bestpath[1,2] + bestpath[2,2])/2 - (minabstand / 2), (bestpath[1,2] + bestpath[2,2])/2 + (minabstand / 2)]),\\\n",
      "        c = \"g\", linewidth = 3)\n",
      "\n",
      "ax.scatter(bestpath[:,0], bestpath[:,1], bestpath[:,2], s = 50, c =\"r\")\n",
      "plt.show()"
     ],
     "language": "python",
     "metadata": {},
     "outputs": [
      {
       "output_type": "stream",
       "stream": "stderr",
       "text": [
        "/usr/lib/pymodules/python2.7/matplotlib/backends/backend_gtk.py:250: Warning: Source ID 2 was not found when attempting to remove it\n",
        "  gobject.source_remove(self._idle_event_id)\n",
        "/usr/lib/pymodules/python2.7/matplotlib/backends/backend_gtk.py:250: Warning: Source ID 5 was not found when attempting to remove it\n",
        "  gobject.source_remove(self._idle_event_id)\n"
       ]
      },
      {
       "output_type": "stream",
       "stream": "stdout",
       "text": [
        "27.6166559797\n",
        "14.9903614866 16.2169134317 6.88380118467 8.22011633129\n"
       ]
      },
      {
       "output_type": "stream",
       "stream": "stderr",
       "text": [
        "/usr/lib/pymodules/python2.7/matplotlib/backends/backend_gtk.py:250: Warning: Source ID 4 was not found when attempting to remove it\n",
        "  gobject.source_remove(self._idle_event_id)\n"
       ]
      }
     ],
     "prompt_number": 144
    },
    {
     "cell_type": "code",
     "collapsed": false,
     "input": [
      "hierraus = sequences == 'GGAEAAAKEAAAKAEAAAKEAAAKEAAAKAAASGAAXXXKEACWE'\n",
      "\n",
      "#print erstepunkte[hierraus]\n",
      "#print zweitepunkte[hierraus]\n",
      "#print drittepunkte[hierraus]\n",
      "\n",
      "print abstandpktzuarray(endpunkt, drittepunkte[hierraus])\n",
      "\n",
      "np.set_printoptions(edgeitems = 100)\n",
      "print linkerlaengenKO + ScarsAtEnd * LengthOfFlexibleAA"
     ],
     "language": "python",
     "metadata": {},
     "outputs": [
      {
       "output_type": "stream",
       "stream": "stdout",
       "text": [
        "[ 21.6737175   21.72556114  21.71405029  21.70253372  21.73706436\n",
        "  21.6159668   21.74856377  21.62752914  23.20560265  23.17325974\n",
        "  23.23789978  23.20560265  23.20560265  23.1084404   23.22713852\n",
        "  23.17325974  23.22713852  23.19482613  23.20560265  23.17325974\n",
        "  23.20560265  23.21637344  23.18404579  23.22713852  23.20560265\n",
        "  23.17325974  23.20560265  23.21637344  23.18404579  23.22713852\n",
        "  23.17325974  23.22713852  23.19482613  23.1084404   23.22713852\n",
        "  23.17325974  23.20560265  23.20560265  23.20560265  23.17325974\n",
        "  23.23789978  23.20560265  27.6676712   27.71281242  27.67670441\n",
        "  27.6676712   27.64055061  27.67670441  27.6676712   27.64055061\n",
        "  27.56809807  27.6857357   27.65863419  27.54995537  27.65863419\n",
        "  27.67670441  27.63150406  29.10326385  29.22327805  29.10326385\n",
        "  29.15476036  29.12043953  29.10326385  29.14618301  29.1290226\n",
        "  29.11185265  29.13760376  29.03446198  29.14618301  29.1290226\n",
        "  29.11185265  29.13760376  29.03446198  29.15476036  29.12043953\n",
        "  29.10326385  29.22327805  29.10326385  36.53765106  36.55133438\n",
        "  36.57868195  36.55133438  36.52396393  36.55133438  36.55133438\n",
        "  36.72873688  36.30426788  36.56501007  21.66794777  21.70829391\n",
        "  21.72556114  21.70253372  21.69101143  21.72556114  21.73706436\n",
        "  21.72556114  21.78302002  21.73706436  21.73131371  21.71980667 ...,\n",
        "  21.76005554  21.76005554  21.75431061  21.75431061  21.69677353\n",
        "  21.72556114  21.76005554  21.69677353  21.81169319  21.64486122\n",
        "  23.20560265  23.19482613  23.13006783  23.20560265  23.21637344\n",
        "  23.27015305  23.16246986  23.20560265  23.15167427  23.20560265\n",
        "  23.06512451  23.17325974  23.22713852  23.1084404   23.15167427\n",
        "  23.20560265  23.22713852  23.21637344  23.20560265  23.17325974\n",
        "  23.20560265  23.21637344  23.20560265  23.17325974  23.20560265\n",
        "  23.21637344  23.1084404   23.15167427  23.20560265  23.22713852\n",
        "  23.21637344  23.06512451  23.17325974  23.22713852  23.15167427\n",
        "  23.20560265  23.16246986  23.20560265  23.21637344  23.27015305\n",
        "  23.13006783  23.20560265  27.64055061  27.6676712   27.61340332\n",
        "  27.64055061  27.61340332  27.64959335  27.65863419  27.65863419\n",
        "  27.63150406  27.62245369  27.6676712   29.11185265  29.15476036\n",
        "  29.15476036  29.1290226   29.16333389  29.10326385  29.1290226\n",
        "  29.12043953  29.12043953  29.0516777   29.14618301  29.1290226\n",
        "  29.11185265  29.09467316  29.14618301  29.1290226   29.11185265\n",
        "  29.09467316  29.1290226   29.12043953  29.12043953  29.0516777\n",
        "  29.16333389  29.10326385  29.15476036  29.1290226   29.15476036\n",
        "  29.10326385  29.1290226   29.11185265  29.16333389  36.55133438\n",
        "  36.56501007  36.59235001  36.55133438  36.55133438  36.55133438]\n",
        "[ 38.51508235  39.99643167  41.47778099  45.92182896  47.40317828\n",
        "  54.80992488]\n"
       ]
      }
     ],
     "prompt_number": 57
    },
    {
     "cell_type": "code",
     "collapsed": false,
     "input": [
      "#for wildcard search through the different linkers\n",
      "\n",
      "pattern = '*AEAAAKEAAAKEAAAKA*'\n",
      "filtered = fnmatch.filter(sequencepool, pattern)\n",
      "\n",
      "getlinkersoutbool = np.array(np.zeros(np.size(sequences)), dtype = bool)\n",
      "for string in filtered:\n",
      "    getlinkersoutbool = getlinkersoutbool | (sequences == string)\n",
      "\n",
      "np.mean(weightingsall[0][getlinkersoutbool])"
     ],
     "language": "python",
     "metadata": {},
     "outputs": [
      {
       "metadata": {},
       "output_type": "pyout",
       "prompt_number": 455,
       "text": [
        "3.1444394137718863"
       ]
      }
     ],
     "prompt_number": 455
    },
    {
     "cell_type": "code",
     "collapsed": false,
     "input": [
      "#length\n",
      "h = plt.hist(weightingsall[1], bins = 40)\n",
      "plt.title(\"Distribution of lengths\")\n",
      "plt.show()\n",
      "\n",
      "#angles\n",
      "h = plt.hist(weightingsall[2], bins = 50)\n",
      "plt.title(\"Distribution of angles\")\n",
      "plt.show()\n",
      "#unpreferable places\n",
      "h = plt.hist(weightingsall[3], bins = 100)\n",
      "plt.title(\"Distribution of unpreferable places weighting\")\n",
      "plt.show()\n",
      "#dist from surface\n",
      "h = plt.hist(weightingsall[4], bins = 100)\n",
      "plt.title(\"Distribution of the distances from surface\")\n",
      "plt.show()"
     ],
     "language": "python",
     "metadata": {},
     "outputs": [
      {
       "output_type": "stream",
       "stream": "stderr",
       "text": [
        "/usr/lib/pymodules/python2.7/matplotlib/backends/backend_gtk.py:250: Warning: Source ID 12340 was not found when attempting to remove it\n",
        "  gobject.source_remove(self._idle_event_id)\n",
        "/usr/lib/pymodules/python2.7/matplotlib/backends/backend_gtk.py:250: Warning: Source ID 14144 was not found when attempting to remove it\n",
        "  gobject.source_remove(self._idle_event_id)\n"
       ]
      },
      {
       "output_type": "stream",
       "stream": "stderr",
       "text": [
        "/usr/lib/pymodules/python2.7/matplotlib/backends/backend_gtk.py:250: Warning: Source ID 15786 was not found when attempting to remove it\n",
        "  gobject.source_remove(self._idle_event_id)\n",
        "/usr/lib/pymodules/python2.7/matplotlib/backends/backend_gtk.py:250: Warning: Source ID 18450 was not found when attempting to remove it\n",
        "  gobject.source_remove(self._idle_event_id)\n"
       ]
      }
     ],
     "prompt_number": 46
    },
    {
     "cell_type": "heading",
     "level": 2,
     "metadata": {},
     "source": [
      "Linkerpimping"
     ]
    },
    {
     "cell_type": "markdown",
     "metadata": {},
     "source": [
      "Wir passen die Aminos\u00e4uren in den Winkeln an, um die an die Oberfl\u00e4che zu h\u00e4ngen. Das machen wir immer in einer Funktion auf nur einem Linker"
     ]
    },
    {
     "cell_type": "code",
     "collapsed": false,
     "input": [
      "AminoDict = {\"ARG\":\"ASP\", \"ASP\":\"LYS\", \"HIS\":\"ASP\", \"LYS\":\"ASP\", \"GLU\":\"LYS\", \"SER\":\"THR\", \"THR\":\"SER\", \\\n",
      "             \"ASN\":\"GLN\", \"GLN\":\"ASN\", \"CYS\":\"CYS\", \"GLY\":\"XXX\", \"SEC\":\"XXX\", \"PRO\":\"XXX\", \"ALA\":\"LEU\", \"VAL\":\"LEU\", \\\n",
      "             \"ILE\":\"LEU\", \"LEU\":\"LEU\", \"MET\":\"LEU\", \"PHE\":\"PHE\", \"TRP\":\"TRP\", \"TYR\":\"TYR\"}\n",
      "\n",
      "def glue_to_surface(StartPoint, EndPoint, ProteinPoints = pkte , ProteinAminos = InterestingAminos,\\\n",
      "                    MinDist = hitgenauig, AminoCombinations = AminoDict):\n",
      "    Dist = abstand(StartPoint, EndPoint)\n",
      "    StartToProtDist = abstandpktzuarray(StartPoint, ProteinPoints)\n",
      "    keep = (StartToProtDist < (Dist + MinDist)) & (StartToProtDist > (Dist - MinDist))\n",
      "    PossiblePoints = ProteinPoints[keep]\n",
      "    EndToPossible = abstandpktzuarray(EndPoint, PossiblePoints)\n",
      "    PossibleAminos = ProteinAminos[keep]\n",
      "    TheAmino = PossibleAminos[np.argmin(EndToPossible)]\n",
      "    return AminoCombinations[TheAmino]\n",
      "        "
     ],
     "language": "python",
     "metadata": {},
     "outputs": []
    }
   ],
   "metadata": {}
  }
 ]
}