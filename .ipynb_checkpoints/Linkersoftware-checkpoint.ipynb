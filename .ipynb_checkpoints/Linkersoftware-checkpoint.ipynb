{
 "metadata": {
  "name": "",
  "signature": "sha256:db70bc3b1ed53c8042f4890fadf02fb61864bdf70a07529484645e9ea38b0f32"
 },
 "nbformat": 3,
 "nbformat_minor": 0,
 "worksheets": [
  {
   "cells": [
    {
     "cell_type": "code",
     "collapsed": false,
     "input": [
      "#Hier ist ein kleiner Versuch mal eine Software zu schreiben, wie so Linkerzeug gemacht werden k\u00f6nnte."
     ],
     "language": "python",
     "metadata": {},
     "outputs": [],
     "prompt_number": 1
    },
    {
     "cell_type": "code",
     "collapsed": false,
     "input": [
      "#einlesen des PDB files. die Dateien sollten in proteine gespeichert werden\n",
      "import numpy as np\n",
      "import matplotlib\n",
      "matplotlib.use('GTK')\n",
      "import matplotlib.pyplot as plt         #plots allgemein\n",
      "from mpl_toolkits.mplot3d import Axes3D #3d plots\n",
      "#%matplotlib inline\n",
      "#from Bio.PDB import *\n",
      "#import gc\n",
      "import time #kann im Endeffekt aussortiert werden :-)\n",
      "import cPickle as pickle       #zum Zwischenspeichern vor Abst\u00fcrzen, um Zeit zu sparen.\n",
      "import h5py                    #zum Zwischenspeichern der Ergebnisse in der Generation der neuen Punkte\n",
      "import os                      #spa\u00dfige Dinge mit dem Betriebssystem, z.B. ob ein File existiert\n",
      "\n",
      "\n",
      "\n",
      "#Betrag eines Vektors\n",
      "def vectabs(x0, x1, x2):\n",
      "    return np.sqrt(x0**2 + x1**2 + x2*2)\n",
      "\n",
      "def vectabsar(ar):\n",
      "    return np.sqrt(ar[:,0]**2+ar[:,1]**2+ar[:,2]**2)\n",
      "\n",
      "#gibt normalenvektor zu ebene von drei Punkten aus, bereits normiert\n",
      "def ebene(a, b, c):\n",
      "    x0 = (a-b)[1]*(c-b)[2]-((a-b)[2]*(c-b)[1])\n",
      "    x1 = (a-b)[2]*(c-b)[0]-((a-b)[0]*(c-b)[2])\n",
      "    x2 = (a-b)[0]*(c-b)[1]-((a-b)[1]*(c-b)[0])\n",
      "    \n",
      "    xabs = vectabs(x0, x1, x2)\n",
      "    \n",
      "    return np.array([x0/xabs, x1/xabs, x2/xabs])\n",
      "\n",
      "#einen Vektor mit Drehmatrix drehen um a-achse\n",
      "def drehenx(phi, x, y, z):\n",
      "    x1 = x * np.cos(phi * 0)\n",
      "    y1 = y * np.cos(phi) - z * np.sin(phi)\n",
      "    z1 = y * np.sin(phi) + z * np.cos(phi)\n",
      "    return np.array([x1, y1, z1])\n",
      "\n",
      "def dreheny(phi, x, y, z):\n",
      "    x1 = x  * np.cos(phi) - z * np.sin(phi)\n",
      "    y1 = y * np.cos(phi * 0)\n",
      "    z1 = x * np.sin(phi) + z * np.cos(phi)\n",
      "    return np.array([x1, y1, z1])\n",
      "\n",
      "def drehenz(phi, x, y, z):\n",
      "    x1 = x  * np.cos(phi) - y * np.sin(phi)\n",
      "    y1 = x * np.sin(phi) +  y* np.cos(phi)\n",
      "    z1 = z * np.cos(phi * 0)\n",
      "    return np.array([x1, y1, z1])\n",
      "\n",
      "#dreht Vektor v (als np.array) um phi um die x-Achse, und theta um die y-Achse\n",
      "def drehenxy(phi, theta, v):\n",
      "    v = drehenx(phi, v[0], v[1], v[2])\n",
      "    return dreheny(theta, v[0], v[1], v[2])\n",
      "\n",
      "#den Abstand zweier Punkte bestimmen, den Punkt als Array eingeben.\n",
      "def abstand(x,y):\n",
      "    return np.sqrt((x[0]-y[0])**2+(x[1]-y[1])**2+(x[2]-y[2])**2)\n",
      "\n",
      "def betrag(x):\n",
      "    return np.sqrt((x[0])**2+(x[1])**2+(x[2])**2)\n",
      "\n",
      "def abstandpktzuarray(x, ar):\n",
      "    return np.sqrt((x[0]-ar[:,0])**2+(x[1]-ar[:,1])**2+(x[2]-ar[:,2])**2)\n",
      "\n",
      "def abstandarrays(ar1, ar2):\n",
      "    return np.sqrt((ar1[:,0]-ar2[:,0])**2+(ar1[:,1]-ar2[:,1])**2+(ar1[:,2]-ar2[:,2])**2)\n",
      "\n",
      "def skalar_product (ar1, ar2):\n",
      "    return (ar1[:,0]*ar2[:,0])+(ar1[:,1]*ar2[:,1])+(ar1[:,2]*ar2[:,2])\n",
      "\n",
      "#returns value between [0,pi] an array of size Startarray with the angles. If there is no displacement, it returns zero as value\n",
      "def angle_between_connections_array(StartArray, MiddleArray, EndArray):\n",
      "        vect1 = (StartArray - MiddleArray)\n",
      "        vect2 = (EndArray - MiddleArray)\n",
      "        #catch if there is 0 displacement\n",
      "        tocalculate = ((vect1 != np.array([0,0,0])).any(1)) & ((vect2 != np.array([0,0,0])).any(1))\n",
      "        vect1 = vect1[tocalculate]\n",
      "        vect2 = vect2[tocalculate]\n",
      "        angles = np.arccos(skalar_product(vect1, vect2)/(vectabsar(vect1)*vectabsar(vect2)))\n",
      "        returnangles = np.zeros(np.size(StartArray, axis = 0))\n",
      "        returnangles[tocalculate] = angles\n",
      "        return returnangles\n",
      "        \n",
      "   "
     ],
     "language": "python",
     "metadata": {},
     "outputs": [],
     "prompt_number": 2
    },
    {
     "cell_type": "code",
     "collapsed": false,
     "input": [
      "#PDB geht von N zu C Terminus     \n",
      "    \n",
      "\n",
      "#macht aus drei Arrays ein Array mit kleinen dreierarrays in einem gro\u00dfen A\n",
      "\n",
      "\n",
      "#macht aus drei Arrays\n",
      "\n",
      "UserDefinedProjectName = \"lambdalysozyme\" #for saving of the files, f\u00fcr DNMT1daten einfach \"\" machen\n",
      "\n",
      "f = open('proteine/1d9u-lambdalysozym.pdb', 'r')\n",
      "#print pdbfile\n",
      "\n",
      "\n",
      "wholex = []\n",
      "wholey = []\n",
      "wholez = []\n",
      "wholeatom = []\n",
      "wholeaminos = []\n",
      "wholesubunit = []\n",
      "wholeasnr = []\n",
      "\n",
      "\n",
      "#line.split kann nicht verwendet werden, weil manchmal die spalten ineinander verschmelzen, weil das Format doof ist.\n",
      "\n",
      "for line in f:\n",
      "    art = line[:4]\n",
      "    if art == 'ATOM':\n",
      "        wholeatom.append(line[13:16])\n",
      "        wholeaminos.append(line[17:20])\n",
      "        wholesubunit.append(line[21])\n",
      "        wholeasnr.append(int(line[22:26]))\n",
      "        wholex.append(float(line[31:38]))\n",
      "        wholey.append(float(line[38:46]))\n",
      "        wholez.append(float(line[46:54]))\n",
      "        \n",
      "\n",
      "#aus allen Listen arrays machen\n",
      "wholeatom = np.array(wholeatom)\n",
      "wholeaminos = np.array(wholeaminos)\n",
      "wholesubunit = np.array(wholesubunit)\n",
      "wholeasnr = np.array(wholeasnr)\n",
      "#731-1602\n",
      "#oder 650 - 1602\n",
      "\n",
      "#get parts, that aren't wanted out of the PDB files\n",
      "\n",
      "#TODO hier\u00fcber nachdennken!!! was die Regionen sind, die gew\u00e4hlt werden\n",
      "\n",
      "UserChosenIgnoreRegions = None #default is none,being a LIST of tuples of (21, 832, 'A'), with subunit, and then interval including the ends\n",
      "IgnoreSubUnit = ('A') #is a tupel with to be ignored subunits\n",
      "IgnoreIndices = np.bool8(np.ones(np.size(wholeasnr)))\n",
      "\n",
      "#Ignoreindices True means the value is kept\n",
      "if IgnoreSubUnit != None:\n",
      "    for SubUnit in IgnoreSubUnit:\n",
      "        IgnoreIndices = IgnoreIndices & (wholesubunit != SubUnit)\n",
      "\n",
      "\n",
      "if UserChosenIgnoreRegions != None:\n",
      "    for RegionOnSubunit in UserChosenIgnoreRegions:\n",
      "        IgnoreIndices = IgnoreIndices & np.invert((wholeasnr < RegionOnSubunit[1]) & (wholeasnr > RegionOnSubunit[0]) & \\\n",
      "                                                    (wholesubunit == RegionOnSubunit[2]))\n",
      "\n",
      "wholeatom = wholeatom[IgnoreIndices]\n",
      "wholeaminos = wholeaminos[IgnoreIndices]\n",
      "wholesubunit = wholesubunit[IgnoreIndices]\n",
      "wholeasnr = wholeasnr[IgnoreIndices]\n",
      "\n",
      "\n",
      "wholex = np.float16(np.array(wholex))        \n",
      "wholey = np.float16(np.array(wholey))\n",
      "wholez = np.float16(np.array(wholez))\n",
      "#that should be sliced out of the PDB\n",
      "wholex = wholex[IgnoreIndices]\n",
      "wholey = wholey[IgnoreIndices]\n",
      "wholez = wholez[IgnoreIndices]\n",
      "\n",
      "anzahl = len(wholex)\n",
      "\n",
      "\n",
      "#let the user choose, what part should be circularized interests him.\n",
      "SubUnitChosen = \"B\"\n",
      "UserChosenStart = 1\n",
      "UserChosenEnd = 154\n",
      "\n",
      "ScarsAtStart = 0\n",
      "ScarsAtEnd = 0\n",
      "\n",
      "\n",
      "MissingAtStart = np.min(wholeasnr[wholesubunit == SubUnitChosen]) - UserChosenStart\n",
      "MissingAtEnd = UserChosenEnd - np.max(wholeasnr[wholesubunit == SubUnitChosen]) \n",
      "\n",
      "if MissingAtStart > 0:\n",
      "    if MissingAtStart >= 5:\n",
      "        print \"Your PDB File does not contain the beginning of the protein and there is missing that much, that even an estimation of the beginning would be really bad. Please find a better PDB file, or risk it\"\n",
      "    else:\n",
      "        print \"Your PDB File does not contain the beginning of the protein, but there are less than 5 Aminoacids missing, so the position of the beginning will be estimated. If there is a better PDB file, upload it\"\n",
      "\n",
      "if MissingAtEnd > 0:\n",
      "    if MissingAtEnd >= 5:\n",
      "        print \"Your PDB File does not contain the end of the protein and there is missing that much, that even an estimation of the beginning would be really bad. Please find a better PDB file, or risk it\"\n",
      "    else:\n",
      "        print \"Your PDB File does not contain the end of the protein, but there are less than 5 Aminoacids missing, so the position of the beginning will be estimated. If there is a better PDB file, upload it\"\n",
      "\n",
      "\n",
      "PartToCircularizeBool = (((wholeasnr > UserChosenStart) & (wholesubunit == SubUnitChosen)) & (wholeasnr < UserChosenEnd)) #hier kann man einstellen, welche AS behalten werden sollen.\n",
      "\n",
      "InterestingAtom = wholeatom[PartToCircularizeBool]\n",
      "InterestingAminos = wholeaminos[PartToCircularizeBool]\n",
      "InterestingAANr = wholeasnr[PartToCircularizeBool]\n",
      "\n",
      "#aus den drei Arrays eines machen, das Dimension n*3 hat, also ein Array aus lauter kleinen dreier Arrays\n",
      "\n",
      "# ein Pkt: pkte[0]\n",
      "# wieder zur\u00fcck: x = pkte[:,0]\n",
      "\n",
      "\n",
      "\n",
      "PointsOfAllSubunits = np.float16(np.reshape(np.concatenate((wholex,wholey,wholez)), (anzahl,3), 'F'))\n",
      "#choose the part, that is interesting for us for circularization this is points\n",
      "pkte = PointsOfAllSubunits[PartToCircularizeBool]\n",
      "OtherPoints = PointsOfAllSubunits[wholesubunit != SubUnitChosen]\n",
      "\n",
      "#TODO Estimation of startingpoint, or user interface to get it.\n",
      "\n",
      "anfangspunkt = np.ravel(pkte[(InterestingAANr == InterestingAANr[0]) & (InterestingAtom == \"N  \")])\n",
      "endpunkt = np.ravel(pkte[(InterestingAANr == InterestingAANr[-1]) & (InterestingAtom == \"C  \")])\n",
      "\n",
      "\n",
      "AmountOfAtomsFirstAA = np.size(InterestingAANr[InterestingAANr == InterestingAANr[0]])  #anzahl an Atomen in der erstenas\n",
      "AmountOfAtomsLastAA = np.size(InterestingAANr[InterestingAANr == InterestingAANr[-1]])  #amount of atoms in last AS\n",
      "\n",
      "pickle.dump((pkte, InterestingAminos, InterestingAtom, InterestingAANr),\\\n",
      "            open(\"files/savepoints{projectname}.p\".format(projectname = UserDefinedProjectName), \"wb\"))\n",
      "\n",
      "\n",
      "fig = plt.figure()\n",
      "ax = fig.add_subplot(111, projection='3d')\n",
      "ax.scatter(pkte[5:-5:,0], pkte[5:-5:,1], pkte[5:-5:,2], s=10)\n",
      "ax.scatter(pkte[:4:,0], pkte[:4:,1], pkte[:4:,2], s = 20, c =\"r\")\n",
      "ax.scatter(pkte[-4::,0], pkte[-4::,1], pkte[-4::,2], s = 20, c =\"r\")\n",
      "ax.scatter(OtherPoints[:,0], OtherPoints[:,1], OtherPoints[:,2], s=10, c = \"g\")\n"
     ],
     "language": "python",
     "metadata": {},
     "outputs": [
      {
       "metadata": {},
       "output_type": "pyout",
       "prompt_number": 3,
       "text": [
        "<mpl_toolkits.mplot3d.art3d.Patch3DCollection at 0x7fa77c6acb50>"
       ]
      }
     ],
     "prompt_number": 3
    },
    {
     "cell_type": "code",
     "collapsed": false,
     "input": [
      "#das gedrehte darstellen, TODO muss noch auf pkte angepasst werden\n",
      "\n",
      "phi = np.pi / 2 #immer in vielfachen von pi w\u00e4hlen\n",
      "\n",
      "xgedr = dreheny(phi, wholex, wholey, wholez)[0]\n",
      "ygedr = dreheny(phi, wholex, wholey, wholez)[1]\n",
      "zgedr = dreheny(phi, wholex, wholey, wholez)[2]\n",
      "\n",
      "\n",
      "fig = plt.figure()\n",
      "ax = fig.add_subplot(111, projection='3d')\n",
      "ax.scatter(xgedr[5:-5:], ygedr[5:-5:], zgedr[5:-5:], s=10)\n",
      "ax.scatter(xgedr[:4:], ygedr[:4:], zgedr[:4:], s = 20, c =\"r\")\n",
      "ax.scatter(xgedr[-4::], ygedr[-4::], zgedr[-4::], s = 20, c =\"r\")\n"
     ],
     "language": "python",
     "metadata": {},
     "outputs": [
      {
       "metadata": {},
       "output_type": "pyout",
       "prompt_number": 4,
       "text": [
        "<mpl_toolkits.mplot3d.art3d.Patch3DCollection at 0x7fa77c679ed0>"
       ]
      }
     ],
     "prompt_number": 4
    },
    {
     "cell_type": "code",
     "collapsed": false,
     "input": [
      "#L\u00e4ngenkalibration, wir wissen, dass der Abstand von c-c 154 pm ist.\n",
      "#Wir machen das am Glycin, weil das am einfachsten f\u00fcr uns ist.\n",
      "\n",
      "eichnutz = ((wholeaminos == \"GLY\") & (wholeatom == \"C  \") | ((wholeaminos == \"GLY\") & (wholeatom == \"CA \")))\n",
      "xeich = wholex[eichnutz]\n",
      "yeich = wholey[eichnutz]\n",
      "zeich = wholez[eichnutz]\n",
      "\n",
      "\n",
      "#das sieht so komisch aus, wegen alter Version\n",
      "abstaendeeich= abstand( np.array([xeich[0::2],yeich[0::2],zeich[0::2]]),np.array([xeich[1::2],yeich[1::2],zeich[1::2]]))\n",
      "kalib = 154 / np.mean(abstaendeeich) #pm\n",
      "kalibfehl = np.std(abstaendeeich) * kalib\n",
      "\n",
      "print str(kalib) + \"+-\" +str (kalibfehl) +\" pm\""
     ],
     "language": "python",
     "metadata": {},
     "outputs": [
      {
       "output_type": "stream",
       "stream": "stdout",
       "text": [
        "101.481101762+-0.254030977862 pm\n"
       ]
      }
     ],
     "prompt_number": 5
    },
    {
     "cell_type": "code",
     "collapsed": false,
     "input": [
      "#globale Variablen:\n",
      "\n",
      "#Entfernung, die der Linker mindestens immer haben sollte geschaetzter Wert 5 Angstr\u00f6m, eine Alpha Helix hat Radius 2.3A\n",
      "\n",
      "minabstand = 500/kalib #in pm\n",
      "\n",
      "#Entfernung, die ein Linker maximal haben darf vom Protein\n",
      "\n",
      "maxabstand = 5000/kalib"
     ],
     "language": "python",
     "metadata": {},
     "outputs": [],
     "prompt_number": 6
    },
    {
     "cell_type": "markdown",
     "metadata": {},
     "source": [
      "Wir testen, ob sich die Enden einfach direkt verbinden lassen. Daf\u00fcr schauen wir ob auf der Verbindungslinie zwischen den beiden Enden im senkrechten Abstand alle Punkte mindestens einen gewissen Abstand haben. Da aber der Punkteraum diskret ist und nicht ausgeschmiert, schauen wir einfach f\u00fcr jeden W\u00fcrfel um die Verbindungslinie, welches der geringste Abstand eines Punktes ist. Ist dieser geringer als unser geforderter Mindestabstand, bricht der Algorithmus sofort ab und es kann weiter gehen. Die W\u00fcrfel sind nur dazu da, dass wir nicht immer den Abstand des gesamten Proteins zur Linie berechnen m\u00fcssen. Wenn ein Punkt zu nah ist, finden wir ihn so auf jeden Fall.\n",
      "\n",
      "Wir m\u00fcssen auf jeden Fall den Abstand zwischen zwei Messpunkten so w\u00e4hlen, dass selbst wenn der Punkt am ung\u00fcnstigsten liegt, wir ihn aussortieren. Lieber zu fr\u00fch aussortieren als zu sp\u00e4t und dann eben das normale Prozedere durchmachen lassen. Wir w\u00e4hlen die Abst\u00e4nde so, dass immer der n\u00e4chste Punkt \n",
      "\n",
      "Der erste Messpunkt muss so sein, dass nicht unser Startpunkt in den ersten W\u00fcrfel f\u00e4llt, genauso beim letzten."
     ]
    },
    {
     "cell_type": "code",
     "collapsed": false,
     "input": [
      "abstandanfend = abstand(anfangspunkt, endpunkt)\n",
      "kantenlaenge = 4 * minabstand\n",
      "#print kantenlaenge\n",
      "wuerfeldiaghalbe = np.sqrt(3)/2 * kantenlaenge\n",
      "#print wuerfeldiaghalbe\n",
      "\n",
      "anzahlwuerfel = int(abstandanfend / wuerfeldiaghalbe) #wir setzen einen mehr ein, als wir m\u00fcssten\n",
      "if anzahlwuerfel == 0:\n",
      "    if abstandanfend < (2* minabstand):\n",
      "        print \"Die Enden sind extrem nah beieinander, einfach versuchen zu zyklieren mit Linker, der genau der L\u00e4nge entspricht!\"\n",
      "    else:\n",
      "        wuerfelmitten = np.array([(anfangspunkt-endpunkt)/2])\n",
      "        kantenlaenge = abstandanfend / np.sqrt(3)\n",
      "        wuerfelabstand = 0\n",
      "elif anzahlwuerfel == 1:\n",
      "    kantenlaenge = abstandanfend / np.sqrt(3)\n",
      "    wuerfeldiaghalbe = np.sqrt(3)/2 * kantenlaenge\n",
      "    wuerfelmitten = (endpunkt-anfangspunkt)/abstandanfend * (wuerfeldiaghalbe) + anfangspunkt\n",
      "    wuerfelabstand = 0\n",
      "    \n",
      "else:\n",
      "    wuerfelabstand = (abstandanfend - (2* wuerfeldiaghalbe))/(anzahlwuerfel - 1)\n",
      "    \n",
      "    #print anzahlwuerfel\n",
      "    \n",
      "    #nun die Verbindungsgerade zwischen den beiden Punkten. v = m * t + 0 mit normiertem m und t (Abstand*parameter)\n",
      "    wuerfelmitten = []\n",
      "    for i in range(0, anzahlwuerfel):\n",
      "        wuerfelmitten.append( (endpunkt-anfangspunkt)/abstandanfend * (wuerfelabstand * i + wuerfeldiaghalbe) + anfangspunkt)\n",
      "        \n",
      "    wuerfelmitten = np.array(wuerfelmitten)\n",
      "    \n",
      "#print wuerfelmitten\n",
      "\n",
      "\n",
      "#minimale Abstand, den etwas haben muss, von W\u00fcrfelmittelpunkt, ab dem wir sagen, dass was zu nah ist, das ist auch \n",
      "#der Fehler den wir haben k\u00f6nnen.\n",
      "minabstandcalc = np.sqrt(minabstand**2 + wuerfelabstand**2)\n",
      "\n",
      "derallernaechstepunkt = None\n",
      "\n",
      "#das Einschr\u00e4nken der Werte auf die W\u00fcrfelinnereien\n",
      "if np.size(wuerfelmitten) == 3:\n",
      "    mitte = wuerfelmitten\n",
      "    keep = ((PointsOfAllSubunits[:,0] > (mitte[0] - (kantenlaenge / 2))) & (PointsOfAllSubunits[:,0] < (mitte[0] + (kantenlaenge / 2))) & \\\n",
      "                (PointsOfAllSubunits[:,1] > (mitte[1] - (kantenlaenge / 2))) & (PointsOfAllSubunits[:,1] < (mitte[1] + (kantenlaenge / 2))) & \\\n",
      "                (PointsOfAllSubunits[:,2] > (mitte[2] - (kantenlaenge / 2))) & (PointsOfAllSubunits[:,2] < (mitte[2] + (kantenlaenge / 2))))   \n",
      "\n",
      "    wuerfelpunkte = PointsOfAllSubunits[keep]\n",
      "    #print wuerfelpunkte\n",
      "    #print abstandarray(mitte, wuerfelpunkte)\n",
      "    mintemp = np.min(abstandpktzuarray(mitte, wuerfelpunkte))\n",
      "    #print mintemp\n",
      "    if  mintemp < minabstandcalc:\n",
      "        print \"Es ist nicht m\u00f6glich einen direkten Linker zu bauen. Der minimale Abstand von der direkten Verbindung betrug: \" \\\n",
      "                + str( mintemp * kalib) + \" pm\"\n",
      "\n",
      "    else:\n",
      "        if derallernaechstepunkt == None:\n",
      "            derallernaechstepunkt = mintemp\n",
      "        elif mintemp < derallernaechstepunkt:\n",
      "            derallernaechstepunkt = mintemp\n",
      "\n",
      "        else:\n",
      "            print \"Es ist m\u00f6glich einen direkten Linker zu machen, da der n\u00e4chste Punkt vom Linker \" + str(derallernaechstepunkt * kalib) + \\\n",
      "                  \" pm entfernt ist.\"\n",
      "else:\n",
      "\n",
      "    for mitte in wuerfelmitten:\n",
      "        keep = ((PointsOfAllSubunits[:,0] > (mitte[0] - (kantenlaenge / 2))) & (PointsOfAllSubunits[:,0] < (mitte[0] + (kantenlaenge / 2))) & \\\n",
      "                (PointsOfAllSubunits[:,1] > (mitte[1] - (kantenlaenge / 2))) & (PointsOfAllSubunits[:,1] < (mitte[1] + (kantenlaenge / 2))) & \\\n",
      "                (PointsOfAllSubunits[:,2] > (mitte[2] - (kantenlaenge / 2))) & (PointsOfAllSubunits[:,2] < (mitte[2] + (kantenlaenge / 2))))   \n",
      "\n",
      "        wuerfelpunkte = PointsOfAllSubunits[keep]\n",
      "        #print wuerfelpunkte\n",
      "        #print abstandarray(mitte, wuerfelpunkte)\n",
      "        mintemp = np.min(abstandpktzuarray(mitte, wuerfelpunkte))\n",
      "        #print mintemp\n",
      "        if  mintemp < minabstandcalc:\n",
      "            print \"Es ist nicht m\u00f6glich einen direkten Linker zu bauen. Der minimale Abstand von der direkten Verbindung betrug: \" \\\n",
      "                    + str( mintemp * kalib) + \" pm\"\n",
      "            break\n",
      "\n",
      "        else:\n",
      "            if derallernaechstepunkt == None:\n",
      "                derallernaechstepunkt = mintemp\n",
      "            elif mintemp < derallernaechstepunkt:\n",
      "                derallernaechstepunkt = mintemp\n",
      "\n",
      "    else:\n",
      "        print \"Es ist m\u00f6glich einen direkten Linker zu machen, da der n\u00e4chste Punkt vom Linker \" + str(derallernaechstepunkt * kalib) + \\\n",
      "              \" pm entfernt ist.\"\n",
      "    \n",
      "    \n",
      "#FIXME, der Control Flow... Wenn es vorher feststellt, dass die Enden sehr nah beieinander sind, geht es dennoch durch das ganze \n",
      "#untere wieder durch... Mal schauen, was sich da machen l\u00e4sst."
     ],
     "language": "python",
     "metadata": {},
     "outputs": [
      {
       "output_type": "stream",
       "stream": "stdout",
       "text": [
        "Es ist nicht m\u00f6glich einen direkten Linker zu bauen. Der minimale Abstand von der direkten Verbindung betrug: 230.087558625 pm\n"
       ]
      }
     ],
     "prompt_number": 7
    },
    {
     "cell_type": "markdown",
     "metadata": {},
     "source": [
      "Ob eine Region au\u00dfen ist. Daf\u00fcr werden von dem Punkt Strahlen in alle Richtungen in 5\u00b0 Schritten gemacht und diese dann in eine Liste geschrieben, welche Winkel frei sind."
     ]
    },
    {
     "cell_type": "code",
     "collapsed": false,
     "input": [
      "#Test, ob die Enden auch au\u00dfensind\n",
      "#Abstand zwischen Anfang und allen anderen Punkten in einem Array\n",
      "\n",
      "#aufpunkt, der Punkt von wo aus geht\n",
      "#gerade: normiert\n",
      "#gibt True zur\u00fcck, wenn kein Punkt in der N\u00e4he der Geraden ist.\n",
      "\n",
      "def punktebeigerade(minabstand, pkte, gerade, aufpunkt, laenge):\n",
      "    kantenlaenge = 4 * minabstand\n",
      "    wuerfeldiaghalbe = np.sqrt(3)/2 * kantenlaenge\n",
      "    \n",
      "    anzahlwuerfel = int(laenge / wuerfeldiaghalbe) + 1 \n",
      "    \n",
      "    #nun die Verbindungsgerade zwischen den beiden Punkten. v = m * t + x0 mit normiertem m und t (Abstand*parameter)\n",
      "    wuerfelmitten = []\n",
      "\n",
      "    for i in range(0, anzahlwuerfel):\n",
      "        wuerfelmitten.append( gerade * (wuerfeldiaghalbe * (i + 1)) + aufpunkt)\n",
      "    \n",
      "        \n",
      "    wuerfelmitten = np.array(wuerfelmitten)\n",
      "        \n",
      "    #print wuerfelmitten\n",
      "    \n",
      "    \n",
      "    #minimale Abstand, den etwas haben muss, von W\u00fcrfelmittelpunkt, ab dem wir sagen, dass was zu nah ist\n",
      "    minabstandcalc = np.sqrt(5) * minabstand\n",
      "    \n",
      "    \n",
      "    #das Einschr\u00e4nken der Werte auf die W\u00fcrfelinnereien\n",
      "    for mitte in wuerfelmitten:\n",
      "        keep = ((pkte[:,0] > (mitte[0] - (kantenlaenge / 2))) & (pkte[:,0] < (mitte[0] + (kantenlaenge / 2))) & \\\n",
      "                (pkte[:,1] > (mitte[1] - (kantenlaenge / 2))) & (pkte[:,1] < (mitte[1] + (kantenlaenge / 2))) & \\\n",
      "                (pkte[:,2] > (mitte[2] - (kantenlaenge / 2))) & (pkte[:,2] < (mitte[2] + (kantenlaenge / 2))))   \n",
      "        \n",
      "        \n",
      "        wuerfelpunkte = pkte[keep]\n",
      "        if np.size(wuerfelpunkte) == 0:\n",
      "            continue\n",
      "        \n",
      "        mintemp = np.min(abstandpktzuarray(mitte, wuerfelpunkte))\n",
      "        \n",
      "        if  mintemp < minabstandcalc:\n",
      "            return False\n",
      "            break\n",
      "         \n",
      "    else:\n",
      "        return True\n",
      "    \n",
      "\n",
      "#das sind nun 2592 Berechnungen...\n",
      "testwinkel = np.mgrid[0:180:5, 0:360:5] * np.pi/180 #Endwinkel nicht enthalten, null mit drinnen, das sind ja auch nur 70 Rechn extra\n",
      "winkelarray = np.reshape(np.ravel(testwinkel), (2592,2), 'F')    \n",
      "\n",
      "gerade = np.array([0,0,1])\n",
      "\n",
      "#die Winkel sind von der Z-Achse gemessen.\n",
      "\n",
      "#Ueberpr\u00fcfen, ob der Anfang innen ist.\n",
      "maxvonanfang = np.max(abstandpktzuarray(pkte[0] ,PointsOfAllSubunits))\n",
      "#geradenarray = np.reshape(np.ravel(drehenxy(testwinkel[0], testwinkel[1], gerade), order = 'F'), (2592,3), 'C')\n",
      "\n",
      "moeglichewinkelanfangbool = []\n",
      "\n",
      "for winkel in winkelarray:\n",
      "    moeglichewinkelanfangbool.append(punktebeigerade(minabstand, PointsOfAllSubunits, drehenxy(winkel[0], winkel[1], gerade),\\\n",
      "                                                     anfangspunkt , maxvonanfang))\n",
      "\n",
      "moeglichewinkelanfangbool = np.array(moeglichewinkelanfangbool)    \n",
      "\n",
      "\n",
      "#\u00dcberpr\u00fcfen, ob das Ende innen ist.\n",
      "maxvonende = np.max(abstandpktzuarray(endpunkt ,PointsOfAllSubunits))\n",
      "\n",
      "moeglichewinkelendebool = []\n",
      "\n",
      "for winkel in winkelarray:\n",
      "    moeglichewinkelendebool.append(punktebeigerade(minabstand, PointsOfAllSubunits, drehenxy(winkel[0], winkel[1], gerade), endpunkt, maxvonende))\n",
      "\n",
      "moeglichewinkelendebool = np.array(moeglichewinkelendebool)\n",
      "\n",
      "\n",
      "\n",
      "moeglichewinkelanfang = winkelarray[moeglichewinkelanfangbool]\n",
      "moeglichewinkelende = winkelarray[moeglichewinkelendebool]\n",
      "if (np.size(moeglichewinkelanfangbool) == 0) | (np.size(moeglichewinkelendebool) == 0):\n",
      "    #TODO, vielleicht noch mit flexiblem Linker verbindbar? Einfach der Test, ob es an der Oberfl\u00e4che ist.\n",
      "    print \"Ein Ende liegt leider innen, nicht zirkularisierbar!\""
     ],
     "language": "python",
     "metadata": {},
     "outputs": [],
     "prompt_number": 8
    },
    {
     "cell_type": "markdown",
     "metadata": {},
     "source": [
      "Wir versuchen nun wirklich einen Linker zu finden. Daf\u00fcr alle m\u00f6glichen Linker, die zum Ziel f\u00fchren erzeugen lassen. So ein Linker ist eindeutig bestimmt, durch die Punkte, durch die er durchgeht, das hei\u00dft man muss nur die Punkte abspeichern lassen. Die kann man dann auswerten im Endeffekt und so den besten Linker rausfinden.\n",
      "\n",
      "Dabei kann ein Linker maximal 3 Winkel haben, dann ist es m\u00f6glich ein 5 Eck mit den Punkten zu bauen. Das ergibt bei einer Winkelvervteilung von jeweils 5 \u00b0 2500^3 M\u00f6glichkeiten.\n",
      "\n",
      "Jede Aminos\u00e4ure in einer Alphahelix macht dann eine Verschiebung um 1,5 Angstr\u00f6m. Das hei\u00dft, dass jedes einzelne Linkerst\u00fcck (keine Gelenke) 1.5A lang ist.\n",
      "\n",
      "F\u00fcr die maximale L\u00e4nge des Linkers legen wir eine Schnur um eine Kugel, mit dem Radius des 3/4 (noch dr\u00fcber sprechen) des maximalen Abstands von dem Ende zu dem Rest.\n",
      "\n"
     ]
    },
    {
     "cell_type": "markdown",
     "metadata": {},
     "source": [
      "Wir sortieren jetzt die Punkte aus, bei denen Proteinpunkte auf der Verbindungslinie zwischen den beiden liegen. \n",
      "\n",
      "Daf\u00fcr berechnen wir f\u00fcr jede Verbindung zwischen A und B alle Abst\u00e4nde AC und BC. Daraus k\u00f6nnen wir dann r\u00fcckschl\u00fcsse ziehen, ob es Punkte gibt, die zwischen der Verbindungslinie liegen. Generell gibt es zwei Kriterien, die erf\u00fcllt sein m\u00fcssen:\n",
      "\n",
      "AC und BC m\u00fcssen k\u00fcrzer sein als AB (Kreis um jeweils den anderen Punkt)\n",
      "AC + BC muss kleiner als $ \\sqrt{AB^2 + d^2}+d$ sein. (Ellipse durch die \u00e4u\u00dfersten Eckpunkte, die wir aussortieren wollen)\n",
      "\n",
      "Mit dieser Methode sortieren wir um ung\u00fcnstigsten Fall (k\u00fcrzester Linker, schlechtester Punkt vom Protein, also ganz in der Mitte) noch Punkte aus, bei denen ein Punkt in 2d Entfernung vom Linker ist. Das ist ok, daf\u00fcr dass das so eine einfache Methode ist."
     ]
    },
    {
     "cell_type": "heading",
     "level": 4,
     "metadata": {},
     "source": [
      "TODO: Irgendwie mit hineinnehmen, ob das Protein gro\u00df ist (verschieden lange Linker nehmen), ob man viele Winkel gleich am Anfang angreifen kann (eine Iteration vllt. herausnehmen) und was man so machen kann, um Rechenzeit zu sparen."
     ]
    },
    {
     "cell_type": "code",
     "collapsed": false,
     "input": [
      "#startingarray must be an array of (x,3) shape. so add it as: [startingarray]\n",
      "#beforearray is used, if also arrays before the connection need to be sliced. Then the boolarray is returned.\n",
      "def sort_out_by_protein(startingarray, endingarray, proteinpoints, mindist, beforearray = None):\n",
      "    if np.size(startingarray, axis=0) == 1:\n",
      "        starttemp = np.repeat(startingarray, np.size(endingarray, axis=0), axis =0)\n",
      "    else:\n",
      "        starttemp = startingarray\n",
      "        \n",
      "    #expand the arrays\n",
      "    startendlength = vectabsar(starttemp-endingarray)\n",
      "    startendlength = np.repeat(startendlength, np.size(proteinpoints, axis=0), axis =0)\n",
      "    starttemp = np.repeat(starttemp, np.size(proteinpoints, axis=0), axis =0)#immer die gleichen hintereinander\n",
      "    endtemp = np.repeat(endingarray, np.size(proteinpoints, axis=0), axis =0)\n",
      "    proteintemp = np.tile(proteinpoints, (np.size(endingarray, axis=0),1))\n",
      "    startprotlength = vectabsar(starttemp-proteintemp)    \n",
      "    endprotlength = vectabsar(endtemp-proteintemp)\n",
      "    \n",
      "    \n",
      "    #arrays for every connection a row and every proteinpoint a column\n",
      "    startendlength = np.reshape(startendlength, (np.size(endingarray, axis = 0), np.size(proteinpoints, axis = 0)), \"F\")\n",
      "    startprotlength = np.reshape(startprotlength, (np.size(endingarray, axis = 0), np.size(proteinpoints, axis = 0)), \"F\")\n",
      "    endprotlength = np.reshape(endprotlength, (np.size(endingarray, axis = 0), np.size(proteinpoints, axis = 0)), \"F\")\n",
      "    \n",
      "    #make the slicingarray, True means sort out\n",
      "    connectpointbool = ((startprotlength < startendlength) & (endprotlength < startendlength) & \\\n",
      "    ((startprotlength + endprotlength) < (np.sqrt(np.square(startendlength)+mindist**2)+mindist)))\n",
      "    connectpointbool = np.invert(connectpointbool.any(axis = 1) )\n",
      "    \n",
      "    if beforearray == None:    \n",
      "        if np.size(startingarray, axis=0) == 1:\n",
      "            return [np.float16(startingarray), np.float16(endingarray[connectpointbool])]\n",
      "        else:\n",
      "            return [np.float16(startingarray[connectpointbool]), np.float16(endingarray[connectpointbool])]\n",
      "    else:\n",
      "        return (np.float16(beforearray[connectpointbool]), np.float16(startingarray[connectpointbool]),\\\n",
      "                np.float16(endingarray[connectpointbool]))"
     ],
     "language": "python",
     "metadata": {},
     "outputs": [],
     "prompt_number": 9
    },
    {
     "cell_type": "markdown",
     "metadata": {},
     "source": [
      "Wir fangen sowohl vorne als auch hinten an, mit allen Winkeln, die m\u00f6glich sind und allen L\u00e4ngen, die m\u00f6glich sind. Wir bekommen dann Arrays von den ersten Punkten und den letzten Punkten nach dem Protein."
     ]
    },
    {
     "cell_type": "code",
     "collapsed": false,
     "input": [
      "#gibt ein Array zur\u00fcck, das zu jedem Punkt, jede Verschiebung macht aus dem verschiebungsarray. Verschiebungsarray\n",
      "#sind einfach Vektoren, wie das verschoben werden kann\n",
      "#anfangsarray sind Vektoren, von denen wir ausgehen.\n",
      "\n",
      "def naechstepunkte(anfangsarray, verschiebungsarray):\n",
      "    laengeanfang = np.size(anfangsarray, axis=0)\n",
      "    laengeversch = np.size(verschiebungsarray, axis=0)\n",
      "    hilfanfang = np.float16(np.repeat(anfangsarray, laengeversch, axis=0))\n",
      "    hilfversch = np.float16(np.tile(verschiebungsarray, (laengeanfang, 1)))\n",
      "    return [hilfanfang, hilfanfang + hilfversch]\n",
      "\n",
      "#schmei\u00dft Punkte raus, die in dem Protein liegen, bzw. die zu weit vom Protein weg sind,\n",
      "#gibt ein Bool Array raus, mit dem man das Punktearray slicen kann, vom Protein wird nur jeder 4 Punkt verwendet\n",
      "def aussortierennachpunken(punktearray, proteinpunkte, minabstand, maxabstand):\n",
      "    temp1 = np.repeat(punktearray, np.size(proteinpunkte[::4], axis=0), axis =0)\n",
      "    temp2 = np.tile(proteinpunkte[::4], (np.size(punktearray, axis=0),1))\n",
      "    abstaende = np.reshape(abstandarrays(temp1, temp2), (np.size(punktearray, axis=0), np.size(proteinpunkte[::4], axis=0)))\n",
      "    minimaleabst = np.min(abstaende, axis=1)\n",
      "    keep = (minimaleabst < maxabstand) & (minimaleabst > minabstand)\n",
      "    return keep\n",
      "    "
     ],
     "language": "python",
     "metadata": {},
     "outputs": [],
     "prompt_number": 10
    },
    {
     "cell_type": "code",
     "collapsed": false,
     "input": [
      "#TODO die L\u00e4nge genau bestimmen\n",
      "LengthOfAngle = 150 #in pm\n",
      "#hier muss man eintragen, welche Helix-linkerl\u00e4ngen in AS m\u00f6glich sind.\n",
      "linkerdatenbank = np.array([\"AEAAAKA\", \"AEAAAKEAAAKA\", \"AEAAAKEAAAKEAAAKA\", \"AEAAAKEAAAKEAAAKEAAAKA\",\\\n",
      "                   \"AEAAAKEAAAKEAAAKEAAAKEAAAKA\"])\n",
      "linkerlaengenAS = []\n",
      "\n",
      "for i in range(len(linkerdatenbank)):\n",
      "    linkerlaengenAS.append(len(linkerdatenbank[i]))\n",
      "    \n",
      "linkerlaengenAS = np.array(linkerlaengenAS)\n",
      "linkerlaengenME = linkerlaengenAS * 150 + 2*LengthOfAngle #in pm\n",
      "linkerlaengenKO = linkerlaengenME / kalib #in koordinaten\n",
      "#TODO dar\u00fcber nachdenken, ob 1.5 wirklich richtig ist.\n",
      "SortOutLinkers = linkerlaengenKO < 1.5*maxvonanfang\n",
      "\n",
      "linkerlaengenAS = linkerlaengenAS[SortOutLinkers]\n",
      "linkerlaengenME = linkerlaengenME[SortOutLinkers]\n",
      "linkerlaengenKO = linkerlaengenKO[SortOutLinkers]\n",
      "linkerdatenbank = linkerdatenbank[SortOutLinkers]\n",
      "\n",
      "laengstesstueck = np.max(linkerlaengenKO)\n",
      "anzahllinker = np.size(linkerlaengenKO)\n",
      "\n",
      "maxlinkerAS = int(3 * max(maxvonanfang, maxvonende)) #pi*0.75/1.5 in Aminos\u00e4uren\n",
      "maxlinkerKO = maxlinkerAS * 150/kalib\n",
      "anzahleckenmax = maxlinkerKO / np.max(linkerlaengenKO)\n",
      "anzahleckenmin = abstandanfend / np.min(linkerlaengenKO)\n",
      "LengthOfFlexibleAA = 350 / kalib"
     ],
     "language": "python",
     "metadata": {},
     "outputs": [],
     "prompt_number": 11
    },
    {
     "cell_type": "code",
     "collapsed": false,
     "input": [
      "#returns a boolian array which paths to keep, middle and endingarray must have same dimension, startingarray is only one \n",
      "#entry\n",
      "def sort_out_by_angle (startingarray, middlearray, endingarray, angle = 15):\n",
      "    if np.size(startingarray, axis = 0) == 1:\n",
      "        startingexp = np.repeat(startingarray, np.size(middlearray, axis=0), axis =0)\n",
      "        vect1 = (startingexp - middlearray)\n",
      "        vect2 = (endingarray - middlearray)\n",
      "        #catch if there is 0 displacement\n",
      "        tocalculate = ((vect1 != np.array([0,0,0])).any(1)) & ((vect2 != np.array([0,0,0])).any(1))\n",
      "        vect1 = vect1[tocalculate]\n",
      "        vect2 = vect2[tocalculate]\n",
      "        angles = np.arccos(skalar_product(vect1, vect2)/(vectabsar(vect1)*vectabsar(vect2)))\n",
      "        keep = angles > (angle * np.pi/180)\n",
      "        tempmid = middlearray[tocalculate]\n",
      "        tempend = endingarray[tocalculate]\n",
      "        tocalctemp = tocalculate == False\n",
      "        tempmid = np.concatenate((tempmid[keep], middlearray[tocalctemp]), axis = 0)\n",
      "        tempend = np.concatenate((tempend[keep], endingarray[tocalctemp]), axis = 0)\n",
      "\n",
      "        return (tempmid, tempend)\n",
      "    #if there is an array inserted at the beginning, not a point.\n",
      "    else:\n",
      "        startingexp = startingarray\n",
      "        vect1 = (startingexp - middlearray)\n",
      "        vect2 = (endingarray - middlearray)\n",
      "        #catch if there is 0 displacement\n",
      "        tocalculate = ((vect1 != np.array([0,0,0])).any(1)) & ((vect2 != np.array([0,0,0])).any(1))\n",
      "        vect1 = vect1[tocalculate]\n",
      "        vect2 = vect2[tocalculate]\n",
      "        angles = np.arccos(skalar_product(vect1, vect2)/(vectabsar(vect1)*vectabsar(vect2)))\n",
      "        keep = angles > (angle * np.pi/180)\n",
      "        tempstart = startingarray[tocalculate]\n",
      "        tempmid = middlearray[tocalculate]\n",
      "        tempend = endingarray[tocalculate]\n",
      "        tocalctemp = tocalculate == False\n",
      "        tempstart = np.concatenate((tempstart[keep], startingarray[tocalctemp]), axis = 0)\n",
      "        tempmid = np.concatenate((tempmid[keep], middlearray[tocalctemp]), axis = 0)\n",
      "        tempend = np.concatenate((tempend[keep], endingarray[tocalctemp]), axis = 0)\n",
      "\n",
      "        return (tempstart, tempmid, tempend)"
     ],
     "language": "python",
     "metadata": {},
     "outputs": [],
     "prompt_number": 12
    },
    {
     "cell_type": "code",
     "collapsed": false,
     "input": [
      "#RAM in GByte,\n",
      "#repetition, how often is the largest array repeated\n",
      "def make_small_generator(PointArray, repetition, RAM, ProteinArray = None):\n",
      "    AvailableRAM = RAM * 1073741824 #in BytesWaBytesWarning\n",
      "    \n",
      "    \n",
      "    try:\n",
      "        PointSize = PointArray.nbytes    \n",
      "    except:\n",
      "        PointSize = PointArray * 2 #assumes, that it is the size of the array, and this is float 16\n",
      "    \n",
      "    if ProteinArray != None:\n",
      "        proteinsize = np.size(ProteinArray, axis = 0)\n",
      "    else:\n",
      "        proteinsize = 1\n",
      "        \n",
      "    UsedMem = PointSize * proteinsize * repetition\n",
      "    \n",
      "    return (int(UsedMem) / AvailableRAM) + 1\n",
      "\n"
     ],
     "language": "python",
     "metadata": {},
     "outputs": [],
     "prompt_number": 13
    },
    {
     "cell_type": "heading",
     "level": 3,
     "metadata": {},
     "source": [
      "Ab hier kann man nach oben starten, wenn es einen Fehler gab."
     ]
    },
    {
     "cell_type": "code",
     "collapsed": false,
     "input": [
      "#wir machen Arrays aus den Verschiebungen, f\u00fcr alle drei auf einmal, alle normiert\n",
      "anfversch = np.array([[0,0,0]])\n",
      "endversch = np.array([[0,0,0]])\n",
      "versch = np.array([[0,0,0]])\n",
      "for winkel in winkelarray:\n",
      "    temp = drehenxy(winkel[0], winkel[1], np.array([0,0,1]))\n",
      "    versch = np.append(versch, [temp], axis=0)\n",
      "    if any((moeglichewinkelanfang[:]==winkel).all(1)):\n",
      "        anfversch = np.append(anfversch, [temp], axis=0)\n",
      "    if any((moeglichewinkelende[:]==winkel).all(1)):\n",
      "        endversch = np.append(endversch, [temp], axis=0)\n",
      "\n",
      "#die verschiebungen mit den Linkerl\u00e4ngen multiplizieren, wichtig ist, in den versch sind immer auch nuller drinnen\n",
      "versch = np.tile(versch, (np.size(linkerlaengenKO),1)) * \\\n",
      "        np.reshape( np.repeat(np.repeat(linkerlaengenKO, np.size(versch, axis=0)), 3), \\\n",
      "                   (anzahllinker*np.size(versch, axis=0),3))\n",
      "\n",
      "anfversch = np.tile(anfversch, (np.size(linkerlaengenKO),1)) * \\\n",
      "           np.reshape( np.repeat(np.repeat((linkerlaengenKO + ((ScarsAtStart + MissingAtStart)\\\n",
      "                                                               * LengthOfFlexibleAA )), np.size(anfversch, axis=0)), 3),\\\n",
      "                      (anzahllinker*np.size(anfversch, axis=0),3))\n",
      "    \n",
      "endversch = np.tile(endversch, (np.size(linkerlaengenKO),1)) * \\\n",
      "           np.reshape( np.repeat(np.repeat(linkerlaengenKO + ((ScarsAtEnd + MissingAtEnd) \\\n",
      "                                                              * LengthOfFlexibleAA), np.size(endversch, axis=0)), 3), \\\n",
      "                      (anzahllinker*np.size(endversch, axis=0),3))\n",
      "    \n",
      "#hier werden die Punkte generiert\n",
      "erstepunkte = np.float16(naechstepunkte([anfangspunkt],anfversch)[1])\n",
      "erstepunkte = erstepunkte[aussortierennachpunken(erstepunkte, PointsOfAllSubunits, minabstand, maxabstand)]\n",
      "\n",
      "letztepunkte = np.float16(naechstepunkte([endpunkt], endversch)[1])\n",
      "letztepunkte = letztepunkte[aussortierennachpunken(letztepunkte, PointsOfAllSubunits, minabstand, maxabstand)]\n",
      "\n",
      "#aussortieren, ob Punkte durch Protein gehen\n",
      "print np.shape(erstepunkte)\n",
      "#we just test with all as but not the first and last, because they are too close.\n",
      "\n",
      "#TODO hier abfangen, falls gleich alle Punkte weggemacht werden und dann eine Ausgabe machen, dass das ziemlich schwierig\n",
      "#und dann aber weiterfortlaufen, das gleiche auch mit den letzten Punkten\n",
      "if np.size(erstepunkte, axis = 0) > 5:\n",
      "    erstepunktetest = sort_out_by_protein([anfangspunkt], erstepunkte,\\\n",
      "                                      np.concatenate((pkte[AmountOfAtomsFirstAA:-AmountOfAtomsLastAA], OtherPoints), \\\n",
      "                                                     axis = 0), minabstand)[1]\n",
      "    if np.size(erstepunktetest) != 0:\n",
      "        erstepunkte = erstepunktetest\n",
      "    \n",
      "print np.shape(erstepunktetest)\n",
      "print np.shape(erstepunkte)\n",
      "\n",
      "\n",
      "if np.size(letztepunkte, axis = 0) > 5:\n",
      "    letztepunktetest = sort_out_by_protein([endpunkt], letztepunkte, \\\n",
      "                                      np.concatenate((pkte[AmountOfAtomsFirstAA:-AmountOfAtomsLastAA], OtherPoints), axis = 0), minabstand)[1]\n",
      "    if np.size(letztepunktetest) != 0:\n",
      "        letztepunkte = letztepunktetest\n",
      "\n",
      "print np.shape(letztepunktetest)\n",
      "print np.shape(letztepunkte)\n",
      "\n",
      "#wir sortieren erstepunkte aus, die zu weit vom Ende entfernt liegen, sodass sie nicht mehr durch \n",
      "#die doppelte l\u00e4ngste Linkerl\u00e4nge verbunden werden k\u00f6nnen\n",
      "\n",
      "temp = abstandpktzuarray(endpunkt, erstepunkte)\n",
      "keep = temp < (3 * laengstesstueck)\n",
      "erstepunkte = erstepunkte[keep]\n",
      "\n",
      "\n",
      "#wir sortieren erstepunkte aus, die zu weit vom Ende entfernt liegen, sodass sie nicht mehr durch \n",
      "#die doppelte l\u00e4ngste Linkerl\u00e4nge verbunden werden k\u00f6nnen\n",
      "\n",
      "temp = abstandpktzuarray(anfangspunkt, letztepunkte)\n",
      "keep = temp < (3 * laengstesstueck)\n",
      "letztepunkte = letztepunkte[keep]\n",
      "\n",
      "#die zweite iteration, erstepunkte wird so gro\u00df gemacht, wie zweitepunkte, damit die Wege passen\n",
      "#davor fragen wir ab, ob es \u00fcberhaupt sinnvoll ist, die eine weitere Ecke zu nehmen, das spart viel Rechenzeit\n",
      "\n",
      "if ((abstandanfend < 3*np.min(linkerlaengenKO)) & (np.max(linkerlaengenKO) * 2 > maxvonanfang)\\\n",
      "    & (np.max(linkerlaengenKO) * 2 > maxvonende)):\n",
      "    zweitepunkte = erstepunkte\n",
      "else:\n",
      "    zweiteiteration = naechstepunkte(erstepunkte, versch)\n",
      "    zweitepunkte = np.float16(zweiteiteration[1])\n",
      "    erstepunkte = np.float16(zweiteiteration[0])\n",
      "\n",
      "print np.shape(erstepunkte)\n",
      "print np.shape(zweitepunkte)\n",
      "print np.shape(letztepunkte)\n",
      "\n"
     ],
     "language": "python",
     "metadata": {},
     "outputs": [
      {
       "output_type": "stream",
       "stream": "stdout",
       "text": [
        "(1970, 3)\n",
        "(0, 3)"
       ]
      },
      {
       "output_type": "stream",
       "stream": "stdout",
       "text": [
        "\n",
        "(1970, 3)\n",
        "(0, 3)"
       ]
      },
      {
       "output_type": "stream",
       "stream": "stdout",
       "text": [
        "\n",
        "(8860, 3)\n",
        "(1970, 3)\n",
        "(1970, 3)\n",
        "(8860, 3)\n"
       ]
      }
     ],
     "prompt_number": 14
    },
    {
     "cell_type": "markdown",
     "metadata": {},
     "source": [
      "Wir sortieren nun alle Winkel aus, die kleiner als 15\u00b0 sind. Das machen wir aber nicht f\u00fcr die Anfangs und Endpunkte, da nicht klar ist, wie dort die Alphahelix angesetzt wird."
     ]
    },
    {
     "cell_type": "code",
     "collapsed": false,
     "input": [
      "#Nach Winkeln aussortieren, von vorne.\n",
      "\n",
      "temp = sort_out_by_angle([anfangspunkt], erstepunkte, zweitepunkte, angle=15)\n",
      "erstepunkte = temp[0]\n",
      "zweitepunkte = temp[1]"
     ],
     "language": "python",
     "metadata": {},
     "outputs": [],
     "prompt_number": 15
    },
    {
     "cell_type": "code",
     "collapsed": false,
     "input": [
      "print anzahleckenmax\n",
      "print anzahleckenmin"
     ],
     "language": "python",
     "metadata": {},
     "outputs": [
      {
       "output_type": "stream",
       "stream": "stdout",
       "text": [
        "4.68965517241\n",
        "1.7955912371\n"
       ]
      }
     ],
     "prompt_number": 16
    },
    {
     "cell_type": "code",
     "collapsed": false,
     "input": [
      "#wir sortieren zweite Punkte aus, die zu weit vom Ende entfernt liegen, sodass sie nicht mehr durch \n",
      "#die doppelte l\u00e4ngste Linkerl\u00e4nge verbunden werden k\u00f6nnen\n",
      "\n",
      "temp = abstandpktzuarray(endpunkt, zweitepunkte)\n",
      "keep = temp < (2 * laengstesstueck)\n",
      "zweitepunkte = zweitepunkte[keep]\n",
      "erstepunkte = erstepunkte[keep]\n",
      "\n",
      "np.shape(zweitepunkte)"
     ],
     "language": "python",
     "metadata": {},
     "outputs": [
      {
       "metadata": {},
       "output_type": "pyout",
       "prompt_number": 17,
       "text": [
        "(1970, 3)"
       ]
      }
     ],
     "prompt_number": 17
    },
    {
     "cell_type": "code",
     "collapsed": false,
     "input": [
      "#L\u00e4uft 82 sek, sortiert 60 000 Punkte aus\n",
      "#wir sortieren die Punkte aus, die zu weit oder zu nah im Protein sind\n",
      "StartTime = time.time()\n",
      "MakeSmall = make_small_generator(zweitepunkte,1 , 6 , ProteinArray = PointsOfAllSubunits)\n",
      "teiler = np.size(zweitepunkte, axis = 0)/MakeSmall\n",
      "temp = aussortierennachpunken(zweitepunkte[:teiler], PointsOfAllSubunits, minabstand, maxabstand)\n",
      "\n",
      "for i in range(1,MakeSmall):\n",
      "    temp = np.concatenate((temp, aussortierennachpunken(zweitepunkte[i*teiler:(i+1)*teiler],\\\n",
      "                                                        PointsOfAllSubunits, minabstand, maxabstand)), axis = 0)\n",
      "\n",
      "temp = np.concatenate((temp, aussortierennachpunken(zweitepunkte[(i+1)*teiler:-1],\\\n",
      "                                                        PointsOfAllSubunits, minabstand, maxabstand)), axis = 0)\n",
      "\n",
      "print time.time()-StartTime    \n",
      "temp = np.array(temp)\n",
      "temp = np.ravel(temp, \"C\")\n",
      "\n",
      "zweitepunkte = zweitepunkte[temp]\n",
      "erstepunkte = erstepunkte[temp]\n",
      "print np.shape(erstepunkte)\n",
      "#save for saving calculationtime\n",
      "pickle.dump((erstepunkte, zweitepunkte, letztepunkte),\\\n",
      "            open(\"files/save{projectname}.p\".format(projectname = UserDefinedProjectName), \"wb\"))"
     ],
     "language": "python",
     "metadata": {},
     "outputs": [
      {
       "output_type": "stream",
       "stream": "stdout",
       "text": [
        "0.0722689628601\n",
        "(1970, 3)\n"
       ]
      }
     ],
     "prompt_number": 18
    },
    {
     "cell_type": "code",
     "collapsed": false,
     "input": [
      "\"\"\"\n",
      "punktetemp = pickle.load( open(\"files/save{projectname}.p\".format(projectname = UserDefinedProjectName), \"rb\" ) )\n",
      "erstepunkte = punktetemp[0]\n",
      "zweitepunkte = punktetemp[1]\n",
      "letztepunkte = punktetemp[2]\n",
      "\"\"\""
     ],
     "language": "python",
     "metadata": {},
     "outputs": [
      {
       "metadata": {},
       "output_type": "pyout",
       "prompt_number": 19,
       "text": [
        "'\\npunktetemp = pickle.load( open(\"files/save{projectname}.p\".format(projectname = UserDefinedProjectName), \"rb\" ) )\\nerstepunkte = punktetemp[0]\\nzweitepunkte = punktetemp[1]\\nletztepunkte = punktetemp[2]\\n'"
       ]
      }
     ],
     "prompt_number": 19
    },
    {
     "cell_type": "code",
     "collapsed": false,
     "input": [
      "#l\u00e4uft etwa 11 minuten, reduziert um die H\u00e4lfte\n",
      "MakeSmall = make_small_generator(zweitepunkte, 10 , 6 , ProteinArray = PointsOfAllSubunits)\n",
      "\n",
      "teiler = np.size(zweitepunkte, axis=0)/(MakeSmall)\n",
      "temp = sort_out_by_protein(erstepunkte[:teiler], zweitepunkte[:teiler], PointsOfAllSubunits, minabstand)\n",
      "erstetemp = temp[0]\n",
      "zweitetemp = temp[1]\n",
      "\n",
      "\n",
      "\n",
      "bla = time.time()\n",
      "#das l\u00e4uft zu lange...\n",
      "for i in range(1, MakeSmall):\n",
      "    temp = sort_out_by_protein(erstepunkte[i*teiler:(i+1)*teiler], zweitepunkte[i*teiler:(i+1)*teiler],\\\n",
      "                        PointsOfAllSubunits, minabstand)\n",
      "    \n",
      "    erstetemp = np.concatenate((erstetemp, temp[0]), axis =0)\n",
      "    zweitetemp = np.concatenate((zweitetemp, temp[1]), axis =0)\n",
      "    \n",
      "\n",
      "    \n",
      "temp = sort_out_by_protein(erstepunkte[(i+1)*teiler:-1], zweitepunkte[(i+1)*teiler:-1],\\\n",
      "                        PointsOfAllSubunits, minabstand)\n",
      "    \n",
      "erstetemp = np.concatenate((erstetemp, temp[0]), axis = 0)\n",
      "zweitetemp = np.concatenate((zweitetemp, temp[1]), axis = 0)\n",
      "\n",
      "erstepunkte = np.float16(erstetemp)\n",
      "zweitepunkte = np.float16(zweitetemp)\n",
      "\n",
      "print bla - time.time()\n",
      "print np.size(erstepunkte, axis = 0)\n",
      "\n",
      "pickle.dump((erstepunkte, zweitepunkte, letztepunkte), \\\n",
      "            open(\"files/save{projectname}.p\".format(projectname = UserDefinedProjectName), \"wb\"))"
     ],
     "language": "python",
     "metadata": {},
     "outputs": [
      {
       "output_type": "stream",
       "stream": "stdout",
       "text": [
        "-0.000633001327515\n",
        "1970\n"
       ]
      }
     ],
     "prompt_number": 20
    },
    {
     "cell_type": "code",
     "collapsed": false,
     "input": [
      "print np.size(erstepunkte, axis = 0)\n",
      "print np.size(zweitepunkte, axis = 0)"
     ],
     "language": "python",
     "metadata": {},
     "outputs": [
      {
       "output_type": "stream",
       "stream": "stdout",
       "text": [
        "1970\n",
        "1970\n"
       ]
      }
     ],
     "prompt_number": 21
    },
    {
     "cell_type": "code",
     "collapsed": false,
     "input": [
      "\"\"\"\n",
      "punktetemp = pickle.load( open(\"files/save{projectname}.p\".format(projectname = UserDefinedProjectName), \"rb\" ) )\n",
      "erstepunkte = punktetemp[0]\n",
      "zweitepunkte = punktetemp[1]\n",
      "letztepunkte = punktetemp[2]\n",
      "\"\"\""
     ],
     "language": "python",
     "metadata": {},
     "outputs": [
      {
       "metadata": {},
       "output_type": "pyout",
       "prompt_number": 22,
       "text": [
        "'\\npunktetemp = pickle.load( open(\"files/save{projectname}.p\".format(projectname = UserDefinedProjectName), \"rb\" ) )\\nerstepunkte = punktetemp[0]\\nzweitepunkte = punktetemp[1]\\nletztepunkte = punktetemp[2]\\n'"
       ]
      }
     ],
     "prompt_number": 22
    },
    {
     "cell_type": "heading",
     "level": 5,
     "metadata": {},
     "source": [
      "TODO \u00fcberlegen, wie viel ich in einem Schleifendurchlauf verarbeiten kann, so l\u00e4uft es 22 Sekunden und sortiert auf 1/10 aus. Je nachdem,wie viele letztePunkte es gibt, sollte man diesen Schritt vor dem anderen machen, da er so gerade sehr krass aussortiert und dadurch sehr viel Zeit gespart werden kann..."
     ]
    },
    {
     "cell_type": "code",
     "collapsed": false,
     "input": [
      "#wie genau m\u00fcssen sich die St\u00fccke treffen wird durch hitgenauig bestimmt, es ist sin(5\u00b0) * maximale linkerl\u00e4nge\n",
      "#~500s\n",
      "hitgenauig = 0.0436 * laengstesstueck\n",
      "\n",
      "#returns three arrays with all possible paths, made out of all possible combinations startingpoints to endingpoints\n",
      "#that are in a certain distance\n",
      "def sort_out_by_distance(startingpoints, endingpoints, firstpoints, distance, variation):\n",
      "    starttemp = np.float16(np.repeat(startingpoints, np.size(endingpoints, axis=0), axis =0))\n",
      "    endtemp = np.float16(np.tile(endingpoints, (np.size(startingpoints, axis=0),1)))\n",
      "    abstaende = abstandarrays(starttemp, endtemp)\n",
      "    keep = ((abstaende > (distance-variation)) & (abstaende < (distance+variation)))\n",
      "    firsttemp = np.float16(np.repeat(firstpoints, np.size(endingpoints, axis=0), axis =0))\n",
      "    return [firsttemp[keep], starttemp[keep], endtemp[keep]]\n",
      "\n",
      "blatime = time.time()\n",
      "\n",
      "\n",
      "MakeSmall = make_small_generator(zweitepunkte,8 , 6 , ProteinArray = letztepunkte)\n",
      "\n",
      "teiler = np.size(zweitepunkte, axis=0)/(MakeSmall)\n",
      "\n",
      "\n",
      "if os.path.exists('files/data{projectname}.h5'.format(projectname = UserDefinedProjectName)):\n",
      "    os.remove('files/data{projectname}.h5'.format(projectname = UserDefinedProjectName))\n",
      "h5f = h5py.File('files/data{projectname}.h5'.format(projectname = UserDefinedProjectName), \"w\")\n",
      "\n",
      "\n",
      "for laenge in linkerlaengenKO:\n",
      "    \n",
      "    for i in range(0,(MakeSmall)):\n",
      "                  \n",
      "        temp = sort_out_by_distance(zweitepunkte[i*teiler:(i+1)*teiler], letztepunkte,\\\n",
      "                                    erstepunkte[i*teiler:(i+1)*teiler], laenge, hitgenauig)\n",
      "        if i == 0:\n",
      "            erstetemp = temp[0]\n",
      "            zweitetemp= temp[1]\n",
      "            drittetemp= temp[2]\n",
      "        else:\n",
      "            erstetemp = np.concatenate((erstetemp, temp[0]), axis =0)\n",
      "            zweitetemp = np.concatenate((zweitetemp, temp[1]), axis =0)\n",
      "            drittetemp = np.concatenate((drittetemp, temp[2]), axis =0)\n",
      "        \n",
      "    temp = sort_out_by_distance(zweitepunkte[(i+1)*teiler:], letztepunkte, erstepunkte[(i+1)*teiler:], laenge, hitgenauig)\n",
      "    erstetemp = np.concatenate((erstetemp, temp[0]), axis =0)\n",
      "    zweitetemp = np.concatenate((zweitetemp, temp[1]), axis =0)\n",
      "    drittetemp = np.concatenate((drittetemp, temp[2]), axis =0)\n",
      "    \n",
      "    count = 1\n",
      "    for array in [erstetemp, zweitetemp, drittetemp]:\n",
      "        h5f.create_dataset(\"dataset_{points}{linker}\".format(points = count, linker = int(laenge)), data=array)\n",
      "        count +=1\n",
      "    print blatime-time.time()\n",
      "    \n",
      "h5f.close()\n",
      "    \n",
      "    "
     ],
     "language": "python",
     "metadata": {},
     "outputs": [
      {
       "output_type": "stream",
       "stream": "stdout",
       "text": [
        "-2.35664987564\n",
        "-4.69558882713"
       ]
      },
      {
       "output_type": "stream",
       "stream": "stdout",
       "text": [
        "\n",
        "-7.11169791222"
       ]
      },
      {
       "output_type": "stream",
       "stream": "stdout",
       "text": [
        "\n",
        "-9.68239402771"
       ]
      },
      {
       "output_type": "stream",
       "stream": "stdout",
       "text": [
        "\n",
        "-12.3151528835"
       ]
      },
      {
       "output_type": "stream",
       "stream": "stdout",
       "text": [
        "\n"
       ]
      }
     ],
     "prompt_number": 23
    },
    {
     "cell_type": "code",
     "collapsed": false,
     "input": [
      "h5f = h5py.File('files/data{projectname}.h5'.format(projectname = UserDefinedProjectName),'r')\n",
      "\n",
      "\n",
      "blubbtime = time.time()\n",
      "\n",
      "for laenge in linkerlaengenKO:\n",
      "    \n",
      "    SizeOfArray = len(h5f[\"dataset_{points}{linker}\".format(points = 1, linker = int(laenge))]) * 3\n",
      "    \n",
      "    \n",
      "    MakeSmall = make_small_generator(SizeOfArray,12 , 6 , ProteinArray = PointsOfAllSubunits)\n",
      "    teiler = SizeOfArray/(MakeSmall * 3)\n",
      "    \n",
      "    \n",
      "    erstepunkte  = h5f[\"dataset_{points}{linker}\".format(points = 1, linker = int(laenge))][:teiler]\n",
      "    zweitepunkte = h5f[\"dataset_{points}{linker}\".format(points = 2, linker = int(laenge))][:teiler]\n",
      "    drittepunkte = h5f[\"dataset_{points}{linker}\".format(points = 3, linker = int(laenge))][:teiler]\n",
      "\n",
      "    temp = sort_out_by_protein(zweitepunkte, drittepunkte, \\\n",
      "                               PointsOfAllSubunits, minabstand, beforearray = erstepunkte)\n",
      "    erstetemp = temp[0]\n",
      "    zweitetemp = temp[1]\n",
      "    drittetemp = temp[2]\n",
      "\n",
      "\n",
      "\n",
      "    bla = time.time()\n",
      "    #das l\u00e4uft zu lange, ein Durchlauf 2.5s, das hei\u00dft insgesamt: 30500~9hs\n",
      "    for i in range(1, MakeSmall):\n",
      "        erstepunkte  = h5f[\"dataset_{points}{linker}\".format(points = 1, linker = int(laenge))][i * teiler:(i+1)*teiler]\n",
      "        zweitepunkte = h5f[\"dataset_{points}{linker}\".format(points = 2, linker = int(laenge))][i * teiler:(i+1)*teiler]\n",
      "        drittepunkte = h5f[\"dataset_{points}{linker}\".format(points = 3, linker = int(laenge))][i * teiler:(i+1)*teiler]\n",
      "        temp = sort_out_by_protein(zweitepunkte, drittepunkte, \\\n",
      "                               PointsOfAllSubunits, minabstand, beforearray = erstepunkte)\n",
      "\n",
      "        erstetemp = np.concatenate((erstetemp, temp[0]), axis =0)\n",
      "        zweitetemp = np.concatenate((zweitetemp, temp[1]), axis =0)\n",
      "        drittetemp = np.concatenate((drittetemp, temp[2]), axis =0)\n",
      "        \n",
      "        print str(time.time() - blubbtime) + \"f\u00fcr einen makesmalldurchlauf\"\n",
      "\n",
      "    erstepunkte  = h5f[\"dataset_{points}{linker}\".format(points = 1, linker = int(laenge))][(i+1) * teiler:]\n",
      "    zweitepunkte = h5f[\"dataset_{points}{linker}\".format(points = 2, linker = int(laenge))][(i+1) * teiler:]\n",
      "    drittepunkte = h5f[\"dataset_{points}{linker}\".format(points = 3, linker = int(laenge))][(i+1) * teiler:]\n",
      "\n",
      "\n",
      "    temp = sort_out_by_protein(zweitepunkte, drittepunkte, \\\n",
      "                               PointsOfAllSubunits, minabstand, beforearray = erstepunkte)\n",
      "\n",
      "    erstetemp = np.concatenate((erstetemp, temp[0]), axis = 0)\n",
      "    zweitetemp = np.concatenate((zweitetemp, temp[1]), axis = 0)\n",
      "    drittetemp = np.concatenate((drittetemp, temp[2]), axis = 0)\n",
      "    \n",
      "    print str(time.time() - blubbtime) + \"f\u00fcr einen linkerdurchlauf\"\n",
      "\n",
      "erstepunkte = np.float16(erstetemp)\n",
      "zweitepunkte = np.float16(zweitetemp)\n",
      "drittepunkte = np.float16(drittetemp)\n",
      "\n",
      "    \n",
      "    \n",
      "\n",
      "h5f.close()\n",
      "    \n",
      "print np.shape(erstepunkte)"
     ],
     "language": "python",
     "metadata": {},
     "outputs": [
      {
       "output_type": "stream",
       "stream": "stdout",
       "text": [
        "8.37511992455f\u00fcr einen linkerdurchlauf\n",
        "42.4139759541f\u00fcr einen makesmalldurchlauf"
       ]
      },
      {
       "output_type": "stream",
       "stream": "stdout",
       "text": [
        "\n",
        "59.3982748985f\u00fcr einen makesmalldurchlauf"
       ]
      },
      {
       "output_type": "stream",
       "stream": "stdout",
       "text": [
        "\n",
        "59.4006700516f\u00fcr einen linkerdurchlauf\n",
        "100.499252081f\u00fcr einen makesmalldurchlauf"
       ]
      },
      {
       "output_type": "stream",
       "stream": "stdout",
       "text": [
        "\n",
        "121.252015114f\u00fcr einen makesmalldurchlauf"
       ]
      },
      {
       "output_type": "stream",
       "stream": "stdout",
       "text": [
        "\n",
        "142.183434963f\u00fcr einen makesmalldurchlauf"
       ]
      },
      {
       "output_type": "stream",
       "stream": "stdout",
       "text": [
        "\n",
        "164.164549112f\u00fcr einen makesmalldurchlauf"
       ]
      },
      {
       "output_type": "stream",
       "stream": "stdout",
       "text": [
        "\n",
        "184.681535006f\u00fcr einen makesmalldurchlauf"
       ]
      },
      {
       "output_type": "stream",
       "stream": "stdout",
       "text": [
        "\n",
        "205.09027791f\u00fcr einen makesmalldurchlauf"
       ]
      },
      {
       "output_type": "stream",
       "stream": "stdout",
       "text": [
        "\n",
        "225.482589006f\u00fcr einen makesmalldurchlauf"
       ]
      },
      {
       "output_type": "stream",
       "stream": "stdout",
       "text": [
        "\n",
        "225.48760891f\u00fcr einen linkerdurchlauf\n",
        "267.841099977f\u00fcr einen makesmalldurchlauf"
       ]
      },
      {
       "output_type": "stream",
       "stream": "stdout",
       "text": [
        "\n",
        "289.025942087f\u00fcr einen makesmalldurchlauf"
       ]
      },
      {
       "output_type": "stream",
       "stream": "stdout",
       "text": [
        "\n",
        "310.095792055f\u00fcr einen makesmalldurchlauf"
       ]
      },
      {
       "output_type": "stream",
       "stream": "stdout",
       "text": [
        "\n",
        "331.586205006f\u00fcr einen makesmalldurchlauf"
       ]
      },
      {
       "output_type": "stream",
       "stream": "stdout",
       "text": [
        "\n",
        "352.98199892f\u00fcr einen makesmalldurchlauf"
       ]
      },
      {
       "output_type": "stream",
       "stream": "stdout",
       "text": [
        "\n",
        "374.332007885f\u00fcr einen makesmalldurchlauf"
       ]
      },
      {
       "output_type": "stream",
       "stream": "stdout",
       "text": [
        "\n",
        "395.8573699f\u00fcr einen makesmalldurchlauf"
       ]
      },
      {
       "output_type": "stream",
       "stream": "stdout",
       "text": [
        "\n",
        "417.06405592f\u00fcr einen makesmalldurchlauf"
       ]
      },
      {
       "output_type": "stream",
       "stream": "stdout",
       "text": [
        "\n",
        "438.112987041f\u00fcr einen makesmalldurchlauf"
       ]
      },
      {
       "output_type": "stream",
       "stream": "stdout",
       "text": [
        "\n",
        "459.899683952f\u00fcr einen makesmalldurchlauf"
       ]
      },
      {
       "output_type": "stream",
       "stream": "stdout",
       "text": [
        "\n",
        "482.311939001f\u00fcr einen makesmalldurchlauf"
       ]
      },
      {
       "output_type": "stream",
       "stream": "stdout",
       "text": [
        "\n",
        "503.834986925f\u00fcr einen makesmalldurchlauf"
       ]
      },
      {
       "output_type": "stream",
       "stream": "stdout",
       "text": [
        "\n",
        "525.808825016f\u00fcr einen makesmalldurchlauf"
       ]
      },
      {
       "output_type": "stream",
       "stream": "stdout",
       "text": [
        "\n",
        "547.149984121f\u00fcr einen makesmalldurchlauf"
       ]
      },
      {
       "output_type": "stream",
       "stream": "stdout",
       "text": [
        "\n",
        "568.398710012f\u00fcr einen makesmalldurchlauf"
       ]
      },
      {
       "output_type": "stream",
       "stream": "stdout",
       "text": [
        "\n",
        "589.460870981f\u00fcr einen makesmalldurchlauf"
       ]
      },
      {
       "output_type": "stream",
       "stream": "stdout",
       "text": [
        "\n",
        "589.465562105f\u00fcr einen linkerdurchlauf\n",
        "632.257492065f\u00fcr einen makesmalldurchlauf"
       ]
      },
      {
       "output_type": "stream",
       "stream": "stdout",
       "text": [
        "\n",
        "653.682658911f\u00fcr einen makesmalldurchlauf"
       ]
      },
      {
       "output_type": "stream",
       "stream": "stdout",
       "text": [
        "\n",
        "675.080641985f\u00fcr einen makesmalldurchlauf"
       ]
      },
      {
       "output_type": "stream",
       "stream": "stdout",
       "text": [
        "\n",
        "696.865329981f\u00fcr einen makesmalldurchlauf"
       ]
      },
      {
       "output_type": "stream",
       "stream": "stdout",
       "text": [
        "\n",
        "718.749047041f\u00fcr einen makesmalldurchlauf"
       ]
      },
      {
       "output_type": "stream",
       "stream": "stdout",
       "text": [
        "\n",
        "740.376226902f\u00fcr einen makesmalldurchlauf"
       ]
      },
      {
       "output_type": "stream",
       "stream": "stdout",
       "text": [
        "\n",
        "762.598345041f\u00fcr einen makesmalldurchlauf"
       ]
      },
      {
       "output_type": "stream",
       "stream": "stdout",
       "text": [
        "\n",
        "784.516292095f\u00fcr einen makesmalldurchlauf"
       ]
      },
      {
       "output_type": "stream",
       "stream": "stdout",
       "text": [
        "\n",
        "806.188920021f\u00fcr einen makesmalldurchlauf"
       ]
      },
      {
       "output_type": "stream",
       "stream": "stdout",
       "text": [
        "\n",
        "827.998434067f\u00fcr einen makesmalldurchlauf"
       ]
      },
      {
       "output_type": "stream",
       "stream": "stdout",
       "text": [
        "\n",
        "849.978743076f\u00fcr einen makesmalldurchlauf"
       ]
      },
      {
       "output_type": "stream",
       "stream": "stdout",
       "text": [
        "\n",
        "871.511929035f\u00fcr einen makesmalldurchlauf"
       ]
      },
      {
       "output_type": "stream",
       "stream": "stdout",
       "text": [
        "\n",
        "893.184396029f\u00fcr einen makesmalldurchlauf"
       ]
      },
      {
       "output_type": "stream",
       "stream": "stdout",
       "text": [
        "\n",
        "915.180711985f\u00fcr einen makesmalldurchlauf"
       ]
      },
      {
       "output_type": "stream",
       "stream": "stdout",
       "text": [
        "\n",
        "936.802652121f\u00fcr einen makesmalldurchlauf"
       ]
      },
      {
       "output_type": "stream",
       "stream": "stdout",
       "text": [
        "\n",
        "958.336690903f\u00fcr einen makesmalldurchlauf"
       ]
      },
      {
       "output_type": "stream",
       "stream": "stdout",
       "text": [
        "\n",
        "979.756546021f\u00fcr einen makesmalldurchlauf"
       ]
      },
      {
       "output_type": "stream",
       "stream": "stdout",
       "text": [
        "\n",
        "1001.38278103f\u00fcr einen makesmalldurchlauf"
       ]
      },
      {
       "output_type": "stream",
       "stream": "stdout",
       "text": [
        "\n",
        "1022.85242391f\u00fcr einen makesmalldurchlauf"
       ]
      },
      {
       "output_type": "stream",
       "stream": "stdout",
       "text": [
        "\n",
        "1044.23011398f\u00fcr einen makesmalldurchlauf"
       ]
      },
      {
       "output_type": "stream",
       "stream": "stdout",
       "text": [
        "\n",
        "1065.58913493f\u00fcr einen makesmalldurchlauf"
       ]
      },
      {
       "output_type": "stream",
       "stream": "stdout",
       "text": [
        "\n",
        "1087.08228993f\u00fcr einen makesmalldurchlauf"
       ]
      },
      {
       "output_type": "stream",
       "stream": "stdout",
       "text": [
        "\n",
        "1108.53203106f\u00fcr einen makesmalldurchlauf"
       ]
      },
      {
       "output_type": "stream",
       "stream": "stdout",
       "text": [
        "\n",
        "1108.54098296f\u00fcr einen linkerdurchlauf\n",
        "(427325, 3)\n"
       ]
      }
     ],
     "prompt_number": 24
    },
    {
     "cell_type": "code",
     "collapsed": false,
     "input": [
      "\n",
      "tempsize =  np.size(erstepunkte, axis = 0)\n",
      "pickle.dump(erstepunkte[:tempsize/2], \\\n",
      "            open(\"files/save{projectname}ersteeins.p\".format(projectname = UserDefinedProjectName), \"wb\"))\n",
      "pickle.dump(erstepunkte[tempsize/2:-1], \\\n",
      "            open(\"files/save{projectname}erstezwei.p\".format(projectname = UserDefinedProjectName), \"wb\"))\n",
      "pickle.dump(zweitepunkte[:tempsize/2], \\\n",
      "            open(\"files/save{projectname}zweiteeins.p\".format(projectname = UserDefinedProjectName), \"wb\"))\n",
      "pickle.dump(zweitepunkte[tempsize/2:-1], \\\n",
      "            open(\"files/save{projectname}zweitezwei.p\".format(projectname = UserDefinedProjectName), \"wb\"))\n",
      "pickle.dump(drittepunkte[:tempsize/2], \\\n",
      "            open(\"files/save{projectname}dritteeins.p\".format(projectname = UserDefinedProjectName), \"wb\"))\n",
      "pickle.dump(drittepunkte[tempsize/2:-1], \\\n",
      "            open(\"files/save{projectname}drittezwei.p\".format(projectname = UserDefinedProjectName), \"wb\"))\n",
      "print tempsize\n"
     ],
     "language": "python",
     "metadata": {},
     "outputs": [
      {
       "output_type": "stream",
       "stream": "stdout",
       "text": [
        "427325\n"
       ]
      }
     ],
     "prompt_number": 25
    },
    {
     "cell_type": "code",
     "collapsed": false,
     "input": [
      "'''\n",
      "erstepunkteeins = pickle.load( open( \"files/save{projectname}ersteeins.p\".format(projectname = UserDefinedProjectName), \"rb\" ) )\n",
      "erstepunktezwei = pickle.load( open( \"files/save{projectname}erstezwei.p\".format(projectname = UserDefinedProjectName), \"rb\" ) )\n",
      "erstepunkte = np.concatenate((erstepunkteeins, erstepunktezwei), axis = 0)\n",
      "\n",
      "zweitepunkteeins = pickle.load( open( \"files/save{projectname}zweiteeins.p\".format(projectname = UserDefinedProjectName), \"rb\" ) )\n",
      "zweitepunktezwei = pickle.load( open( \"files/save{projectname}zweitezwei.p\".format(projectname = UserDefinedProjectName), \"rb\" ) )\n",
      "zweitepunkte = np.concatenate((zweitepunkteeins, zweitepunktezwei), axis = 0)\n",
      "\n",
      "drittepunkteeins = pickle.load( open(\"files/save{projectname}dritteeins.p\".format(projectname = UserDefinedProjectName), \"rb\"))\n",
      "drittepunktezwei = pickle.load( open(\"files/save{projectname}drittezwei.p\".format(projectname = UserDefinedProjectName), \"rb\"))\n",
      "drittepunkte = np.concatenate((drittepunkteeins, drittepunktezwei), axis = 0)\n",
      "'''"
     ],
     "language": "python",
     "metadata": {},
     "outputs": [
      {
       "metadata": {},
       "output_type": "pyout",
       "prompt_number": 26,
       "text": [
        "'\\nerstepunkteeins = pickle.load( open( \"files/save{projectname}ersteeins.p\".format(projectname = UserDefinedProjectName), \"rb\" ) )\\nerstepunktezwei = pickle.load( open( \"files/save{projectname}erstezwei.p\".format(projectname = UserDefinedProjectName), \"rb\" ) )\\nerstepunkte = np.concatenate((erstepunkteeins, erstepunktezwei), axis = 0)\\n\\nzweitepunkteeins = pickle.load( open( \"files/save{projectname}zweiteeins.p\".format(projectname = UserDefinedProjectName), \"rb\" ) )\\nzweitepunktezwei = pickle.load( open( \"files/save{projectname}zweitezwei.p\".format(projectname = UserDefinedProjectName), \"rb\" ) )\\nzweitepunkte = np.concatenate((zweitepunkteeins, zweitepunktezwei), axis = 0)\\n\\ndrittepunkteeins = pickle.load( open(\"files/save{projectname}dritteeins.p\".format(projectname = UserDefinedProjectName), \"rb\"))\\ndrittepunktezwei = pickle.load( open(\"files/save{projectname}drittezwei.p\".format(projectname = UserDefinedProjectName), \"rb\"))\\ndrittepunkte = np.concatenate((drittepunkteeins, drittepunktezwei), axis = 0)\\n'"
       ]
      }
     ],
     "prompt_number": 26
    },
    {
     "cell_type": "code",
     "collapsed": false,
     "input": [
      "if ((abstandanfend < 3*np.min(linkerlaengenKO)) & (np.max(linkerlaengenKO) * 2 > maxvonanfang)\\\n",
      "    & (np.max(linkerlaengenKO) * 2 > maxvonende)):\n",
      "    temp = sort_out_by_angle([anfangspunkt], zweitepunkte, drittepunkte)\n",
      "    erstepunkte = temp[0]\n",
      "    zweitepunkte = temp[0]\n",
      "    drittepunkte = temp[1]\n",
      "else:\n",
      "    temp = sort_out_by_angle(erstepunkte, zweitepunkte, drittepunkte)\n",
      "    erstepunkte = temp[0]\n",
      "    zweitepunkte = temp[1]\n",
      "    drittepunkte = temp[2]\n",
      "\n",
      "pickle.dump((erstepunkte, zweitepunkte, drittepunkte), open(\"files/save{projectname}.p\".format(projectname = UserDefinedProjectName), \"wb\"))"
     ],
     "language": "python",
     "metadata": {},
     "outputs": [],
     "prompt_number": 27
    },
    {
     "cell_type": "code",
     "collapsed": false,
     "input": [
      "print np.shape(zweitepunkte)"
     ],
     "language": "python",
     "metadata": {},
     "outputs": [
      {
       "output_type": "stream",
       "stream": "stdout",
       "text": [
        "(427325, 3)\n"
       ]
      }
     ],
     "prompt_number": 28
    },
    {
     "cell_type": "code",
     "collapsed": false,
     "input": [
      "'''\n",
      "punktetemp = pickle.load( open(\"files/save{projectname}.p\".format(projectname = UserDefinedProjectName), \"rb\" ) )\n",
      "erstepunkte = punktetemp[0]\n",
      "zweitepunkte = punktetemp[1]\n",
      "drittepunkte = punktetemp[2]\n",
      "'''"
     ],
     "language": "python",
     "metadata": {},
     "outputs": [],
     "prompt_number": 18
    },
    {
     "cell_type": "heading",
     "level": 3,
     "metadata": {},
     "source": [
      "Die Bewertungsfunktion\n"
     ]
    },
    {
     "cell_type": "markdown",
     "metadata": {},
     "source": [
      "Wir definieren Regionen, die schlecht f\u00fcr den Linker sind. Dabei bekommt jede Region eine G\u00fcte. Diese G\u00fcte sagt, wenn wir einen Linker in einem Abstand von G\u00fcte geteilt durch Minabstand vorbeigehen lassen. Das hei\u00dft je kleiner die G\u00fcte, desto n\u00e4her kann ich an diesem Punkt vorbei gehen.\n",
      "\n",
      "Im Allgemeinen m\u00f6chte ich, dass einfach immer die verschiedenen Teile gleich wichtig sind, egal wie gro\u00df das Protein ist, oder wie viele Regionen wir da gesagt haben, dass umgangen werden sollen.\n",
      "\n",
      "Bei den Winkeln haben wir ja immer maximal drei Winkel, von dem her, muss das nicht normiert werden.\n",
      "\n",
      "Bei der L\u00e4nge wird mit dem Abstand der Enden skaliert, bei den unguten Regionen wird so skaliert, dass egal wie viele es sind, die definiert wurden, immer insgesamt die Gewichtung 1 ist."
     ]
    },
    {
     "cell_type": "code",
     "collapsed": false,
     "input": [
      "#this is not yet the final function, in the end it should also get an array with best estimations for angles and some\n",
      "#array of points, that are not good for the linker\n",
      "#it should return an array with for every linkerpath a certain value. From this we can find the best one.\n",
      "#also it should take some parameters in the end,\n",
      "\n",
      "#this is the function where it can be defined, how the different angles are to be weighed. this is just a definition\n",
      "#on the intervals, not stetig\n",
      "#IMPORTANT: here should never be a 0 in it\n",
      "def angle_weighing(anglearray):\n",
      "    returnarray = np.ones(np.size(anglearray))\n",
      "    returnarray[(anglearray<(30./180*np.pi)) | (anglearray >= 150./180*np.pi)] = 1\n",
      "    returnarray[(anglearray>=(30./180*np.pi)) & (anglearray < 70./180*np.pi)] = 0.75\n",
      "    returnarray[(anglearray>=(70./180*np.pi)) & (anglearray < 100./180*np.pi)] = 0.5\n",
      "    returnarray[(anglearray>=(100./180*np.pi)) & (anglearray < 150./180*np.pi)] = 0.25\n",
      "\n",
      "#die Winkelfunktion muss man noch \u00fcberlegen, in the end it returns a on one normed value.\n",
      "def angle_function(StartingArray, MiddleArray, EndingArray):\n",
      "    vect1 = (StartingArray - MiddleArray)\n",
      "    vect2 = (EndingArray - MiddleArray)\n",
      "    #catch if there is 0 displacement\n",
      "    tocalculate = ((vect1 != np.array([0,0,0])).any(1)) & ((vect2 != np.array([0,0,0])).any(1))\n",
      "    vecttemp1 = vect1[tocalculate]\n",
      "    vecttemp2 = vect2[tocalculate]\n",
      "    angles = np.arccos(skalar_product(vecttemp1, vecttemp2)/(vectabsar(vecttemp1)*vectabsar(vecttemp2)))\n",
      "    functionvalues = np.zeros(np.size(MiddleArray, axis = 0))\n",
      "    functionvalues[tocalculate] = angle_weighing(angles)\n",
      "    return functionvalues\n",
      "\n",
      "#needs a on one normed array of the weighing of the points, if not all points are equally weighed\n",
      "\n",
      "#TODO: Start can be array or just points, End has to be an array...\n",
      "def unpreferable_places(Start, End, ProteinPoints, AminoacidNumberArray, ToBeWeighedAAInput, WeighingofAA = None):\n",
      "    if np.size(Start, axis = 0) ==1:\n",
      "        Starttemp = np.repeat(Start, np.size(End, axis = 0), axis = 0)\n",
      "    else:\n",
      "        Starttemp = Start\n",
      "    SliceToBeWeighed = np.in1d(ToBeWeighedAAInput, AminoacidNumberArray)\n",
      "    ToBeWeighedAA = ToBeWeighedAAInput[SliceToBeWeighed]\n",
      "    #reduce the points to their mean, so that every aminoacid is equally weighed and not long ones are more important than\n",
      "    #than short ones\n",
      "    Points = []\n",
      "    for number in ToBeWeighedAA:\n",
      "        Points.append(np.mean(ProteinPoints[AminoacidNumberArray == number], axis = 0))\n",
      "    Points = np.array(Points)\n",
      "    \n",
      "    #reshape the arrays and the points, have a Points*Start array\n",
      "    twoaxis = np.size(Points, axis = 0)\n",
      "    oneaxis = np.size(Starttemp, axis = 0)\n",
      "    \n",
      "    Starttemp = np.repeat(Starttemp, twoaxis, axis = 0)\n",
      "    Endtemp = np.repeat(End, twoaxis, axis = 0)\n",
      "    Points = np.tile(Points, (oneaxis,1))\n",
      "    \n",
      "    \n",
      "    if WeighingofAA == None:\n",
      "        WeighingofAA = np.ones(twoaxis)\n",
      "        \n",
      "    #the array is normalized here and gets the size of the points\n",
      "    WeighingofAAtemp = (WeighingofAA/np.mean(WeighingofAA))[SliceToBeWeighed]\n",
      "    WeighingofAAtemp = np.tile(WeighingofAAtemp, (oneaxis,1))\n",
      "    WeighingofAAtemp = np.reshape(WeighingofAAtemp, (oneaxis, twoaxis))\n",
      "    \n",
      "    #TODO: Points, that are too far away from the linker are irrelevant    \n",
      "    StartPunkteAbst = abstandarrays(Starttemp, Points)\n",
      "    StartPunkteAbst = np.reshape(StartPunkteAbst, (oneaxis, twoaxis))\n",
      "    \n",
      "    EndPunkteAbst = abstandarrays(Endtemp, Points)\n",
      "    EndPunkteAbst = np.reshape(EndPunkteAbst, (oneaxis, twoaxis))\n",
      "    \n",
      "    AngleAtStart = angle_between_connections_array(Points, Starttemp, Endtemp)\n",
      "    AngleAtStart = np.reshape(AngleAtStart, (oneaxis, twoaxis))\n",
      "    \n",
      "    AngleAtEnd = angle_between_connections_array(Points, Endtemp, Starttemp)\n",
      "    AngleAtEnd = np.reshape(AngleAtEnd, (oneaxis, twoaxis))\n",
      "    \n",
      "    \n",
      "    \n",
      "    #die Punkte mit \u00fcber 90\u00b0 nehmen einfach den Abstand vom Ende, die kleiner als 90\u00b0 den senkrechten Abstand\n",
      "    StartBiggerNinetyBool = (AngleAtStart >  np.pi/2) | (AngleAtStart == 0)\n",
      "    EndBiggerNinetyBool = (AngleAtEnd > np.pi/2) | (AngleAtEnd == 0)\n",
      "    NotUseBool = np.invert(StartBiggerNinetyBool | EndBiggerNinetyBool)\n",
      "    DistanceFromConnection = np.empty((oneaxis, twoaxis))\n",
      "    DistanceFromConnection[NotUseBool] = np.sin(AngleAtStart[NotUseBool]) * StartPunkteAbst[NotUseBool]\n",
      "    DistanceFromConnection[EndBiggerNinetyBool] = EndPunkteAbst[EndBiggerNinetyBool]\n",
      "    DistanceFromConnection[StartBiggerNinetyBool] = StartPunkteAbst[StartBiggerNinetyBool]\n",
      "    \n",
      "    \n",
      "    #TODO: zu welcher Potenz soll das dann gehen?\n",
      "    ValueOfPoint = WeighingofAAtemp / DistanceFromConnection ** 2\n",
      "    return np.sum(ValueOfPoint, axis = 1)\n",
      "\n",
      "def distance_from_surface(FirstPoints, SecondPoints, ThirdPoints, ProteinPoints):\n",
      "    Horiz_Axis = np.size(ProteinPoints, axis = 0)\n",
      "    Vert_Axis = np.size(FirstPoints, axis = 0)\n",
      "    \n",
      "    Prottemp = np.tile(ProteinPoints, (Vert_Axis, 1))\n",
      "    \n",
      "    #compute everything with first array\n",
      "    Firsttemp = np.repeat(FirstPoints, Horiz_Axis, axis = 0)\n",
      "    Distances = abstandarrays(Firsttemp, Prottemp)    \n",
      "    Distances = np.reshape(Distances, (Vert_Axis, Horiz_Axis))\n",
      "    Distances = np.min(Distances, axis = 1)\n",
      "    Distancesret = Distances / np.min(Distances)\n",
      "    \n",
      "    Secondtemp = np.repeat(SecondPoints, Horiz_Axis, axis = 0)\n",
      "    Distances = abstandarrays(Secondtemp, Prottemp)    \n",
      "    Distances = np.reshape(Distances, (Vert_Axis, Horiz_Axis))\n",
      "    Distances = np.min(Distances, axis = 1)\n",
      "    Distancesret = Distances / np.min(Distances) + Distancesret\n",
      "    \n",
      "    Thirdtemp = np.repeat(ThirdPoints, Horiz_Axis, axis = 0)\n",
      "    Distances = abstandarrays(Thirdtemp, Prottemp)    \n",
      "    Distances = np.reshape(Distances, (Vert_Axis, Horiz_Axis))\n",
      "    Distances = np.min(Distances, axis = 1)\n",
      "    Distancesret = Distances / np.min(Distances) + Distancesret\n",
      "    \n",
      "    return Distancesret\n",
      "    \n",
      "    \n",
      "    \n",
      "        \n",
      "\n",
      "def weighing_function(StartPoint, FirstArray, SecondArray, ThirdArray, EndPoint,\\\n",
      "                      ProteinPoints, AminoacidNumberArray, ToBeWeighedAA, WeighingofAA = None):\n",
      "    \n",
      "    LinkerLength = abstandpktzuarray(StartPoint, FirstArray) + abstandarrays(FirstArray, SecondArray) \\\n",
      "    + abstandarrays(SecondArray, ThirdArray) + abstandpktzuarray(EndPoint, ThirdArray) \n",
      "    \n",
      "    LengthNormed = LinkerLength / (abstand(StartPoint, EndPoint))\n",
      "    \n",
      "    #catch where there are no new points in the SecondArray\n",
      "    SecondAngles = angle_function(FirstArray, SecondArray, ThirdArray)\n",
      "    SecondAngles[SecondAngles == 0] = angle_function(StartPoint, SecondArray[SecondAngles == 0], ThirdArray[SecondAngles == 0])\n",
      "    \n",
      "    Angles = angle_function(StartPoint, FirstArray, SecondArray) + SecondAngles + \\\n",
      "    angle_function(SecondArray, ThirdArray, EndPoint)\n",
      "    \n",
      "    SiteInfluenceNormed = unpreferable_places([StartPoint], FirstArray,\\\n",
      "                                              ProteinPoints, AminoacidNumberArray, ToBeWeighedAA, WeighingofAA) + \\\n",
      "    unpreferable_places(FirstArray, SecondArray, ProteinPoints, AminoacidNumberArray, ToBeWeighedAA, WeighingofAA) + \\\n",
      "    unpreferable_places(SecondArray, ThirdArray, ProteinPoints, AminoacidNumberArray, ToBeWeighedAA, WeighingofAA) + \\\n",
      "    unpreferable_places([EndPoint], ThirdArray, ProteinPoints, AminoacidNumberArray, ToBeWeighedAA, WeighingofAA)\n",
      "    \n",
      "    DistancesFromProtein = distance_from_surface(FirstArray, SecondArray, ThirdArray, ProteinPoints)\n",
      "    \n",
      "    weighedvalue = LengthNormed\n",
      "    \n",
      "    return (weighedvalue, LengthNormed * abstand(StartPoint, EndPoint), Angles, SiteInfluenceNormed, DistancesFromProtein)"
     ],
     "language": "python",
     "metadata": {},
     "outputs": [],
     "prompt_number": 15
    },
    {
     "cell_type": "code",
     "collapsed": false,
     "input": [
      "#Userstring ist von der Form: 273,10 280-290,5  usw. (Leerzeichen trennen Eintr\u00e4ge)\n",
      "def make_weighingarrays(Userstring):\n",
      "    ShouldBeWeighed = []\n",
      "    Weighingarray = []    \n",
      "    Userlist = Userstring.split()\n",
      "    for entry in Userlist:\n",
      "        if entry.find(\"-\") == -1:\n",
      "            #- is not in entry\n",
      "            entry.split(\",\")\n",
      "            ShouldBeWeighed.append(int(entry.split(\",\")[0]))\n",
      "            Weighingarray.append(int(entry.split(\",\")[1]))\n",
      "        else:\n",
      "            #appends every entry, so borders are included in the interval\n",
      "            ShouldBeWeighed += (range(int(entry.split(\",\")[0].split(\"-\")[0]),int(entry.split(\",\")[0].split(\"-\")[1])+1))\n",
      "            #for many values they should be normed in weighing. it's the sites that interest us.\n",
      "            Weighingarray += ([float(entry.split(\",\")[1])/ \\\n",
      "                                  (int(entry.split(\",\")[0].split(\"-\")[1])+1-int(entry.split(\",\")[0].split(\"-\")[0]))]* \\\n",
      "                                 (int(entry.split(\",\")[0].split(\"-\")[1])+1-int(entry.split(\",\")[0].split(\"-\")[0])))\n",
      "            \n",
      "    return (np.array(ShouldBeWeighed), np.array(Weighingarray))"
     ],
     "language": "python",
     "metadata": {},
     "outputs": [],
     "prompt_number": 16
    },
    {
     "cell_type": "code",
     "collapsed": false,
     "input": [
      "            \n",
      "UserdefinedWeighing = \"19,10\"\n",
      "\n",
      "\n",
      "\n",
      "ShouldBeWeighed = make_weighingarrays(UserdefinedWeighing)[0]\n",
      "Weighingarray = make_weighingarrays(UserdefinedWeighing)[1]\n",
      "\n",
      "\n",
      "MakeSmall = make_small_generator(zweitepunkte, 6 , 6 , ProteinArray = pkte)\n",
      "\n",
      "teiler = np.size(zweitepunkte, axis=0)/(MakeSmall)\n",
      "temp = weighing_function(anfangspunkt, erstepunkte[:teiler], zweitepunkte[:teiler], drittepunkte[:teiler], endpunkt, pkte, InterestingAANr,\\\n",
      "                      ShouldBeWeighed, Weighingarray)\n",
      "\n",
      "knull = temp[0]\n",
      "keins = temp[1]\n",
      "kzwei = temp[2]\n",
      "kdrei = temp[3]\n",
      "kvier = temp[4]\n",
      "\n",
      "\n",
      "for i in range(1, MakeSmall):\n",
      "    temp = weighing_function(anfangspunkt, erstepunkte[i * teiler:(i+1)*teiler], zweitepunkte[i * teiler:(i+1)*teiler],\\\n",
      "                             drittepunkte[i * teiler:(i+1)*teiler], endpunkt, pkte, InterestingAANr, ShouldBeWeighed,\\\n",
      "                             Weighingarray)\n",
      "    \n",
      "    knull = np.concatenate((knull, temp[0]), axis =0)\n",
      "    keins = np.concatenate((keins, temp[1]), axis =0)\n",
      "    kzwei = np.concatenate((kzwei, temp[2]), axis =0)\n",
      "    kdrei = np.concatenate((kdrei, temp[3]), axis =0)\n",
      "    kvier = np.concatenate((kvier, temp[4]), axis =0)\n",
      "    \n",
      "    \n",
      "try:\n",
      "    temp = weighing_function(anfangspunkt, erstepunkte[(i+1)*teiler:-1], zweitepunkte[(i+1)*teiler:-1],\\\n",
      "                                 drittepunkte[(i+1)*teiler:-1], endpunkt, pkte, InterestingAANr, ShouldBeWeighed,\\\n",
      "                                 Weighingarray)\n",
      "\n",
      "    \n",
      "    knull = np.concatenate((knull, temp[0]), axis =0)\n",
      "    keins = np.concatenate((keins, temp[1]), axis =0)\n",
      "    kzwei = np.concatenate((kzwei, temp[2]), axis =0)\n",
      "    kdrei = np.concatenate((kdrei, temp[3]), axis =0)\n",
      "    kvier = np.concatenate((kvier, temp[4]), axis =0)\n",
      "\n",
      "\n",
      "except:\n",
      "    pass\n",
      "k = (knull, keins, kzwei, kdrei, kvier)"
     ],
     "language": "python",
     "metadata": {},
     "outputs": [
      {
       "output_type": "stream",
       "stream": "stderr",
       "text": [
        "-c:82: RuntimeWarning: invalid value encountered in arccos\n",
        "-c:79: RuntimeWarning: invalid value encountered in greater\n"
       ]
      }
     ]
    },
    {
     "cell_type": "code",
     "collapsed": false,
     "input": [
      "minbla = np.min(k[1])\n",
      "print minbla"
     ],
     "language": "python",
     "metadata": {},
     "outputs": []
    },
    {
     "cell_type": "code",
     "collapsed": false,
     "input": [
      "keep = k[1] == minbla\n",
      "\n",
      "bestpath = np.empty((3,3))\n",
      "bestpath[0] = erstepunkte[keep]\n",
      "bestpath[1] =  zweitepunkte[keep]\n",
      "bestpath[2] = drittepunkte[keep]\n",
      "print abstandanfend\n",
      "\n",
      "fig = plt.figure()\n",
      "ax = fig.add_subplot(111, projection='3d')\n",
      "ax.scatter(pkte[5:-5:,0], pkte[5:-5:,1], pkte[5:-5:,2], s=10)\n",
      "ax.scatter(pkte[:4:,0], pkte[:4:,1], pkte[:4:,2], s = 40, c =\"r\")\n",
      "ax.scatter(pkte[-4::,0], pkte[-4::,1], pkte[-4::,2], s = 40, c =\"r\")\n",
      "ax.scatter(OtherPoints[:,0], OtherPoints[:,1], OtherPoints[:,2], s=10, c = \"g\")\n",
      "\n",
      "ax.scatter(bestpath[:,0], bestpath[:,1], bestpath[:,2], s = 50, c =\"r\")\n",
      "plt.show()"
     ],
     "language": "python",
     "metadata": {},
     "outputs": []
    },
    {
     "cell_type": "code",
     "collapsed": false,
     "input": [
      "print minbla\n",
      "print np.min(linkerlaengenKO)"
     ],
     "language": "python",
     "metadata": {},
     "outputs": [
      {
       "output_type": "stream",
       "stream": "stdout",
       "text": [
        "84.2744546815\n",
        "17.7330804142\n"
       ]
      }
     ],
     "prompt_number": 150
    },
    {
     "cell_type": "heading",
     "level": 2,
     "metadata": {},
     "source": [
      "Linkerpimping"
     ]
    },
    {
     "cell_type": "markdown",
     "metadata": {},
     "source": [
      "Wir passen die Aminos\u00e4uren in den Winkeln an, um die an die Oberfl\u00e4che zu h\u00e4ngen. Das machen wir immer in einer Funktion auf nur einem Linker"
     ]
    },
    {
     "cell_type": "code",
     "collapsed": false,
     "input": [
      "AminoDict = {\"ARG\":\"ASP\", \"ASP\":\"LYS\", \"HIS\":\"ASP\", \"LYS\":\"ASP\", \"GLU\":\"LYS\", \"SER\":\"THR\", \"THR\":\"SER\", \\\n",
      "             \"ASN\":\"GLN\", \"GLN\":\"ASN\", \"CYS\":\"CYS\", \"GLY\":\"XXX\", \"SEC\":\"XXX\", \"PRO\":\"XXX\", \"ALA\":\"LEU\", \"VAL\":\"LEU\", \\\n",
      "             \"ILE\":\"LEU\", \"LEU\":\"LEU\", \"MET\":\"LEU\", \"PHE\":\"PHE\", \"TRP\":\"TRP\", \"TYR\":\"TYR\"}\n",
      "\n",
      "def glue_to_surface(StartPoint, EndPoint, ProteinPoints = pkte , ProteinAminos = InterestingAminos,\\\n",
      "                    MinDist = hitgenauig, AminoCombinations = AminoDict):\n",
      "    Dist = abstand(StartPoint, EndPoint)\n",
      "    StartToProtDist = abstandpktzuarray(StartPoint, ProteinPoints)\n",
      "    keep = (StartToProtDist < (Dist + MinDist)) & (StartToProtDist > (Dist - MinDist))\n",
      "    PossiblePoints = ProteinPoints[keep]\n",
      "    EndToPossible = abstandpktzuarray(EndPoint, PossiblePoints)\n",
      "    PossibleAminos = ProteinAminos[keep]\n",
      "    TheAmino = PossibleAminos[np.argmin(EndToPossible)]\n",
      "    return AminoCombinations[TheAmino]\n",
      "        "
     ],
     "language": "python",
     "metadata": {},
     "outputs": []
    },
    {
     "cell_type": "markdown",
     "metadata": {},
     "source": [
      "Hier fangen Testsachen an:\n",
      "    \n",
      "    TESTTESTTEST    TESTTESTTEST    TESTTESTTEST    TESTTESTTEST    TESTTESTTEST    TESTTESTTEST    TESTTESTTEST    TESTTESTTEST    TESTTESTTEST    TESTTESTTEST    TESTTESTTEST    TESTTESTTEST    TESTTESTTEST    TESTTESTTEST    TESTTESTTEST    TESTTESTTEST    TESTTESTTEST    TESTTESTTEST    TESTTESTTEST"
     ]
    },
    {
     "cell_type": "code",
     "collapsed": false,
     "input": [
      "from meliae import scanner\n",
      "scanner.dump_all_objects('filename.json')\n",
      "\n",
      "from meliae import loader\n",
      "om = loader.load('filename.json')\n",
      "s = om.summarize(); s"
     ],
     "language": "python",
     "metadata": {},
     "outputs": [
      {
       "output_type": "stream",
       "stream": "stderr",
       "text": [
        "loading... line 5001, 5002 objs,   0.7 / 124.9 MiB read in 0.4s\r",
        "loading... line 10002, 10003 objs,   1.5 / 124.9 MiB read in 0.5s\r"
       ]
      },
      {
       "output_type": "stream",
       "stream": "stderr",
       "text": [
        "loading... line 15003, 15004 objs,   2.2 / 124.9 MiB read in 0.5s\r",
        "loading... line 20004, 20005 objs,   2.8 / 124.9 MiB read in 0.6s\r",
        "loading... line 25005, 25006 objs,   3.5 / 124.9 MiB read in 0.7s\r"
       ]
      },
      {
       "output_type": "stream",
       "stream": "stderr",
       "text": [
        "loading... line 30006, 30007 objs,   4.1 / 124.9 MiB read in 0.8s\r",
        "loading... line 35007, 35008 objs,   4.8 / 124.9 MiB read in 0.9s\r"
       ]
      },
      {
       "output_type": "stream",
       "stream": "stderr",
       "text": [
        "loading... line 40008, 40009 objs,   5.5 / 124.9 MiB read in 0.9s\r",
        "loading... line 45009, 45010 objs,   6.1 / 124.9 MiB read in 1.1s\r"
       ]
      },
      {
       "output_type": "stream",
       "stream": "stderr",
       "text": [
        "loading... line 50010, 50011 objs,   6.8 / 124.9 MiB read in 1.1s\r",
        "loading... line 55011, 55012 objs,   7.4 / 124.9 MiB read in 1.2s\r",
        "loading... line 60012, 60013 objs,   8.0 / 124.9 MiB read in 1.2s\r"
       ]
      },
      {
       "output_type": "stream",
       "stream": "stderr",
       "text": [
        "loading... line 65013, 65014 objs,   8.6 / 124.9 MiB read in 1.3s\r",
        "loading... line 70014, 70015 objs,   9.0 / 124.9 MiB read in 1.3s\r",
        "loading... line 75015, 75016 objs,   9.5 / 124.9 MiB read in 1.3s\r"
       ]
      },
      {
       "output_type": "stream",
       "stream": "stderr",
       "text": [
        "loading... line 80016, 80017 objs,  10.2 / 124.9 MiB read in 1.4s\r",
        "loading... line 85017, 85018 objs,  10.8 / 124.9 MiB read in 1.5s\r"
       ]
      },
      {
       "output_type": "stream",
       "stream": "stderr",
       "text": [
        "loading... line 90018, 90019 objs,  11.5 / 124.9 MiB read in 1.5s\r",
        "loading... line 95019, 95020 objs,  12.1 / 124.9 MiB read in 1.6s\r",
        "loading... line 100020, 100021 objs,  12.7 / 124.9 MiB read in 1.6s\r"
       ]
      },
      {
       "output_type": "stream",
       "stream": "stderr",
       "text": [
        "loading... line 105021, 105022 objs,  13.2 / 124.9 MiB read in 1.7s\r",
        "loading... line 110022, 110023 objs,  13.6 / 124.9 MiB read in 1.7s\r",
        "loading... line 115023, 115024 objs,  14.0 / 124.9 MiB read in 1.7s\r"
       ]
      },
      {
       "output_type": "stream",
       "stream": "stderr",
       "text": [
        "loading... line 120024, 120025 objs,  14.6 / 124.9 MiB read in 1.8s\r",
        "loading... line 125025, 125026 objs,  15.0 / 124.9 MiB read in 1.8s\r",
        "loading... line 130026, 130027 objs,  15.4 / 124.9 MiB read in 1.9s\r"
       ]
      },
      {
       "output_type": "stream",
       "stream": "stderr",
       "text": [
        "loading... line 135027, 135028 objs,  16.0 / 124.9 MiB read in 1.9s\r",
        "loading... line 140028, 140029 objs,  16.6 / 124.9 MiB read in 2.0s\r",
        "loading... line 145029, 145030 objs,  56.6 / 124.9 MiB read in 3.0s\r"
       ]
      },
      {
       "output_type": "stream",
       "stream": "stderr",
       "text": [
        "loading... line 150030, 150031 objs,  57.0 / 124.9 MiB read in 3.0s\r",
        "loading... line 155031, 155032 objs,  57.4 / 124.9 MiB read in 3.1s\r",
        "loading... line 160032, 160033 objs,  57.8 / 124.9 MiB read in 3.1s\r"
       ]
      },
      {
       "output_type": "stream",
       "stream": "stderr",
       "text": [
        "loading... line 165033, 165034 objs,  58.3 / 124.9 MiB read in 3.2s\r",
        "loading... line 170034, 170035 objs,  58.7 / 124.9 MiB read in 3.2s\r",
        "loading... line 175035, 175036 objs,  59.1 / 124.9 MiB read in 3.3s\r"
       ]
      },
      {
       "output_type": "stream",
       "stream": "stderr",
       "text": [
        "loading... line 180036, 180037 objs,  59.6 / 124.9 MiB read in 3.3s\r",
        "loading... line 185037, 185038 objs,  60.0 / 124.9 MiB read in 3.3s\r",
        "loading... line 190038, 190039 objs,  60.4 / 124.9 MiB read in 3.4s\r"
       ]
      },
      {
       "output_type": "stream",
       "stream": "stderr",
       "text": [
        "loading... line 195039, 195040 objs,  60.9 / 124.9 MiB read in 3.4s\r",
        "loading... line 200040, 200041 objs,  61.3 / 124.9 MiB read in 3.5s\r",
        "loading... line 205041, 205042 objs,  61.7 / 124.9 MiB read in 3.5s\r"
       ]
      },
      {
       "output_type": "stream",
       "stream": "stderr",
       "text": [
        "loading... line 210042, 210043 objs,  62.2 / 124.9 MiB read in 3.5s\r",
        "loading... line 215043, 215044 objs,  62.6 / 124.9 MiB read in 3.6s\r",
        "loading... line 220044, 220045 objs,  63.0 / 124.9 MiB read in 3.6s\r"
       ]
      },
      {
       "output_type": "stream",
       "stream": "stderr",
       "text": [
        "loading... line 225045, 225046 objs,  63.5 / 124.9 MiB read in 3.7s\r",
        "loading... line 230046, 230047 objs,  63.9 / 124.9 MiB read in 3.7s\r",
        "loading... line 235047, 235048 objs,  64.3 / 124.9 MiB read in 3.7s\r"
       ]
      },
      {
       "output_type": "stream",
       "stream": "stderr",
       "text": [
        "loading... line 240048, 240049 objs,  64.8 / 124.9 MiB read in 3.8s\r",
        "loading... line 245049, 245050 objs,  65.2 / 124.9 MiB read in 3.8s\r",
        "loading... line 250050, 250051 objs,  65.6 / 124.9 MiB read in 3.9s\r"
       ]
      },
      {
       "output_type": "stream",
       "stream": "stderr",
       "text": [
        "loading... line 255051, 255052 objs,  66.1 / 124.9 MiB read in 3.9s\r",
        "loading... line 260052, 260053 objs,  66.5 / 124.9 MiB read in 3.9s\r",
        "loading... line 265053, 265054 objs,  66.9 / 124.9 MiB read in 4.0s\r"
       ]
      },
      {
       "output_type": "stream",
       "stream": "stderr",
       "text": [
        "loading... line 270054, 270055 objs,  67.4 / 124.9 MiB read in 4.0s\r",
        "loading... line 275055, 275056 objs,  67.8 / 124.9 MiB read in 4.1s\r",
        "loading... line 280056, 280057 objs,  68.2 / 124.9 MiB read in 4.1s\r"
       ]
      },
      {
       "output_type": "stream",
       "stream": "stderr",
       "text": [
        "loading... line 285057, 285058 objs,  68.7 / 124.9 MiB read in 4.1s\r",
        "loading... line 290058, 290059 objs,  69.1 / 124.9 MiB read in 4.2s\r",
        "loading... line 295059, 295060 objs,  69.5 / 124.9 MiB read in 4.2s\r"
       ]
      },
      {
       "output_type": "stream",
       "stream": "stderr",
       "text": [
        "loading... line 300060, 300061 objs,  70.0 / 124.9 MiB read in 4.3s\r",
        "loading... line 305061, 305062 objs,  70.4 / 124.9 MiB read in 4.3s\r",
        "loading... line 310062, 310063 objs,  70.8 / 124.9 MiB read in 4.4s\r"
       ]
      },
      {
       "output_type": "stream",
       "stream": "stderr",
       "text": [
        "loading... line 315063, 315064 objs,  71.3 / 124.9 MiB read in 4.4s\r",
        "loading... line 320064, 320065 objs,  71.7 / 124.9 MiB read in 4.4s\r",
        "loading... line 325065, 325066 objs,  72.1 / 124.9 MiB read in 4.5s\r"
       ]
      },
      {
       "output_type": "stream",
       "stream": "stderr",
       "text": [
        "loading... line 330066, 330067 objs,  72.5 / 124.9 MiB read in 4.5s\r",
        "loading... line 335067, 335068 objs,  73.0 / 124.9 MiB read in 4.6s\r",
        "loading... line 340068, 340069 objs,  73.4 / 124.9 MiB read in 4.6s\r"
       ]
      },
      {
       "output_type": "stream",
       "stream": "stderr",
       "text": [
        "loading... line 345069, 345070 objs,  73.9 / 124.9 MiB read in 4.6s\r",
        "loading... line 350070, 350071 objs,  74.3 / 124.9 MiB read in 4.7s\r"
       ]
      },
      {
       "output_type": "stream",
       "stream": "stderr",
       "text": [
        "loading... line 355071, 355072 objs,  74.8 / 124.9 MiB read in 4.8s\r",
        "loading... line 360072, 360073 objs,  75.2 / 124.9 MiB read in 4.8s\r",
        "loading... line 365073, 365074 objs,  75.6 / 124.9 MiB read in 4.9s\r"
       ]
      },
      {
       "output_type": "stream",
       "stream": "stderr",
       "text": [
        "loading... line 370074, 370075 objs,  76.1 / 124.9 MiB read in 4.9s\r",
        "loading... line 375075, 375076 objs,  76.5 / 124.9 MiB read in 4.9s\r",
        "loading... line 380076, 380077 objs,  77.0 / 124.9 MiB read in 5.0s\r"
       ]
      },
      {
       "output_type": "stream",
       "stream": "stderr",
       "text": [
        "loading... line 385077, 385078 objs,  77.4 / 124.9 MiB read in 5.0s\r",
        "loading... line 390078, 390079 objs,  77.9 / 124.9 MiB read in 5.1s\r",
        "loading... line 395079, 395080 objs,  78.3 / 124.9 MiB read in 5.1s\r"
       ]
      },
      {
       "output_type": "stream",
       "stream": "stderr",
       "text": [
        "loading... line 400080, 400081 objs,  78.7 / 124.9 MiB read in 5.1s\r",
        "loading... line 405081, 405082 objs,  79.2 / 124.9 MiB read in 5.2s\r",
        "loading... line 410082, 410083 objs,  79.6 / 124.9 MiB read in 5.2s\r"
       ]
      },
      {
       "output_type": "stream",
       "stream": "stderr",
       "text": [
        "loading... line 415083, 415084 objs,  80.0 / 124.9 MiB read in 5.3s\r",
        "loading... line 420084, 420085 objs,  80.5 / 124.9 MiB read in 5.3s\r",
        "loading... line 425085, 425086 objs,  80.9 / 124.9 MiB read in 5.3s\r"
       ]
      },
      {
       "output_type": "stream",
       "stream": "stderr",
       "text": [
        "loading... line 430086, 430087 objs,  81.3 / 124.9 MiB read in 5.4s\r",
        "loading... line 435087, 435088 objs,  81.7 / 124.9 MiB read in 5.4s\r",
        "loading... line 440088, 440089 objs,  82.1 / 124.9 MiB read in 5.5s\r"
       ]
      },
      {
       "output_type": "stream",
       "stream": "stderr",
       "text": [
        "loading... line 445089, 445090 objs,  82.5 / 124.9 MiB read in 5.5s\r",
        "loading... line 450090, 450091 objs,  82.9 / 124.9 MiB read in 5.5s\r",
        "loading... line 455091, 455092 objs,  83.3 / 124.9 MiB read in 5.6s\r"
       ]
      },
      {
       "output_type": "stream",
       "stream": "stderr",
       "text": [
        "loading... line 460092, 460093 objs,  83.7 / 124.9 MiB read in 5.6s\r",
        "loading... line 465093, 465094 objs,  84.1 / 124.9 MiB read in 5.7s\r",
        "loading... line 470094, 470095 objs,  84.5 / 124.9 MiB read in 5.7s\r"
       ]
      },
      {
       "output_type": "stream",
       "stream": "stderr",
       "text": [
        "loading... line 475095, 475096 objs,  84.9 / 124.9 MiB read in 5.7s\r",
        "loading... line 480096, 480097 objs,  85.3 / 124.9 MiB read in 5.8s\r",
        "loading... line 485097, 485098 objs,  85.7 / 124.9 MiB read in 5.8s\r"
       ]
      },
      {
       "output_type": "stream",
       "stream": "stderr",
       "text": [
        "loading... line 490098, 490099 objs,  86.1 / 124.9 MiB read in 5.8s\r",
        "loading... line 495099, 495100 objs,  86.5 / 124.9 MiB read in 5.9s\r",
        "loading... line 500100, 500101 objs,  86.8 / 124.9 MiB read in 5.9s\r"
       ]
      },
      {
       "output_type": "stream",
       "stream": "stderr",
       "text": [
        "loading... line 505101, 505102 objs,  87.2 / 124.9 MiB read in 6.0s\r",
        "loading... line 510102, 510103 objs,  87.6 / 124.9 MiB read in 6.0s\r",
        "loading... line 515103, 515104 objs,  88.0 / 124.9 MiB read in 6.0s\r"
       ]
      },
      {
       "output_type": "stream",
       "stream": "stderr",
       "text": [
        "loading... line 520104, 520105 objs,  88.4 / 124.9 MiB read in 6.1s\r",
        "loading... line 525105, 525106 objs,  88.8 / 124.9 MiB read in 6.1s\r",
        "loading... line 530106, 530107 objs,  89.2 / 124.9 MiB read in 6.2s\r"
       ]
      },
      {
       "output_type": "stream",
       "stream": "stderr",
       "text": [
        "loading... line 535107, 535108 objs,  89.6 / 124.9 MiB read in 6.2s\r",
        "loading... line 540108, 540109 objs,  90.0 / 124.9 MiB read in 6.2s\r",
        "loading... line 545109, 545110 objs,  90.4 / 124.9 MiB read in 6.3s\r"
       ]
      },
      {
       "output_type": "stream",
       "stream": "stderr",
       "text": [
        "loading... line 550110, 550111 objs,  90.8 / 124.9 MiB read in 6.3s\r",
        "loading... line 555111, 555112 objs,  91.2 / 124.9 MiB read in 6.3s\r",
        "loading... line 560112, 560113 objs,  91.6 / 124.9 MiB read in 6.4s\r"
       ]
      },
      {
       "output_type": "stream",
       "stream": "stderr",
       "text": [
        "loading... line 565113, 565114 objs,  92.0 / 124.9 MiB read in 6.4s\r",
        "loading... line 570114, 570115 objs,  92.4 / 124.9 MiB read in 6.5s\r",
        "loading... line 575115, 575116 objs,  92.8 / 124.9 MiB read in 6.5s\r"
       ]
      },
      {
       "output_type": "stream",
       "stream": "stderr",
       "text": [
        "loading... line 580116, 580117 objs,  93.3 / 124.9 MiB read in 6.6s\r",
        "loading... line 585117, 585118 objs,  93.7 / 124.9 MiB read in 6.6s\r",
        "loading... line 590118, 590119 objs,  94.1 / 124.9 MiB read in 6.6s\r"
       ]
      },
      {
       "output_type": "stream",
       "stream": "stderr",
       "text": [
        "loading... line 595119, 595120 objs,  94.5 / 124.9 MiB read in 6.7s\r",
        "loading... line 600120, 600121 objs,  95.0 / 124.9 MiB read in 6.7s\r",
        "loading... line 605121, 605122 objs,  95.4 / 124.9 MiB read in 6.8s\r"
       ]
      },
      {
       "output_type": "stream",
       "stream": "stderr",
       "text": [
        "loading... line 610122, 610123 objs,  95.9 / 124.9 MiB read in 6.8s\r",
        "loading... line 615123, 615124 objs,  96.3 / 124.9 MiB read in 6.8s\r",
        "loading... line 620124, 620125 objs,  96.8 / 124.9 MiB read in 6.9s\r"
       ]
      },
      {
       "output_type": "stream",
       "stream": "stderr",
       "text": [
        "loading... line 625125, 625126 objs,  97.2 / 124.9 MiB read in 6.9s\r",
        "loading... line 630126, 630127 objs,  97.7 / 124.9 MiB read in 7.0s\r",
        "loading... line 635127, 635128 objs,  98.1 / 124.9 MiB read in 7.0s\r"
       ]
      },
      {
       "output_type": "stream",
       "stream": "stderr",
       "text": [
        "loading... line 640128, 640129 objs,  98.5 / 124.9 MiB read in 7.1s\r",
        "loading... line 645129, 645130 objs,  99.0 / 124.9 MiB read in 7.1s\r",
        "loading... line 650130, 650131 objs,  99.5 / 124.9 MiB read in 7.1s\r"
       ]
      },
      {
       "output_type": "stream",
       "stream": "stderr",
       "text": [
        "loading... line 655131, 655132 objs,  99.9 / 124.9 MiB read in 7.2s\r",
        "loading... line 660132, 660133 objs, 100.4 / 124.9 MiB read in 7.2s\r",
        "loading... line 665133, 665134 objs, 100.8 / 124.9 MiB read in 7.3s\r"
       ]
      },
      {
       "output_type": "stream",
       "stream": "stderr",
       "text": [
        "loading... line 670134, 670135 objs, 101.3 / 124.9 MiB read in 7.3s\r",
        "loading... line 675135, 675136 objs, 101.7 / 124.9 MiB read in 7.4s\r",
        "loading... line 680136, 680137 objs, 102.2 / 124.9 MiB read in 7.4s\r"
       ]
      },
      {
       "output_type": "stream",
       "stream": "stderr",
       "text": [
        "loading... line 685137, 685138 objs, 102.6 / 124.9 MiB read in 7.5s\r",
        "loading... line 690138, 690139 objs, 103.1 / 124.9 MiB read in 7.5s\r",
        "loading... line 695139, 695140 objs, 103.5 / 124.9 MiB read in 7.6s\r"
       ]
      },
      {
       "output_type": "stream",
       "stream": "stderr",
       "text": [
        "loading... line 700140, 700141 objs, 104.0 / 124.9 MiB read in 7.7s\r",
        "loading... line 705141, 705142 objs, 104.4 / 124.9 MiB read in 7.7s\r",
        "loading... line 710142, 710143 objs, 104.9 / 124.9 MiB read in 7.8s\r"
       ]
      },
      {
       "output_type": "stream",
       "stream": "stderr",
       "text": [
        "loading... line 715143, 715144 objs, 105.3 / 124.9 MiB read in 7.8s\r",
        "loading... line 720144, 720145 objs, 105.8 / 124.9 MiB read in 7.9s\r",
        "loading... line 725145, 725146 objs, 106.2 / 124.9 MiB read in 7.9s\r"
       ]
      },
      {
       "output_type": "stream",
       "stream": "stderr",
       "text": [
        "loading... line 730146, 730147 objs, 106.7 / 124.9 MiB read in 8.0s\r",
        "loading... line 735147, 735148 objs, 107.1 / 124.9 MiB read in 8.0s\r",
        "loading... line 740148, 740149 objs, 107.5 / 124.9 MiB read in 8.0s\r"
       ]
      },
      {
       "output_type": "stream",
       "stream": "stderr",
       "text": [
        "loading... line 745149, 745150 objs, 108.0 / 124.9 MiB read in 8.1s\r",
        "loading... line 750150, 750151 objs, 108.4 / 124.9 MiB read in 8.1s\r",
        "loading... line 755151, 755152 objs, 108.9 / 124.9 MiB read in 8.2s\r"
       ]
      },
      {
       "output_type": "stream",
       "stream": "stderr",
       "text": [
        "loading... line 760152, 760153 objs, 109.3 / 124.9 MiB read in 8.2s\r",
        "loading... line 765153, 765154 objs, 109.8 / 124.9 MiB read in 8.2s\r",
        "loading... line 770154, 770155 objs, 110.3 / 124.9 MiB read in 8.3s\r"
       ]
      },
      {
       "output_type": "stream",
       "stream": "stderr",
       "text": [
        "loading... line 775155, 775156 objs, 110.7 / 124.9 MiB read in 8.3s\r",
        "loading... line 780156, 780157 objs, 111.2 / 124.9 MiB read in 8.4s\r",
        "loading... line 785157, 785158 objs, 111.6 / 124.9 MiB read in 8.4s\r"
       ]
      },
      {
       "output_type": "stream",
       "stream": "stderr",
       "text": [
        "loading... line 790158, 790159 objs, 112.1 / 124.9 MiB read in 8.4s\r",
        "loading... line 795159, 795160 objs, 112.6 / 124.9 MiB read in 8.5s\r",
        "loading... line 800160, 800161 objs, 113.0 / 124.9 MiB read in 8.5s\r"
       ]
      },
      {
       "output_type": "stream",
       "stream": "stderr",
       "text": [
        "loading... line 805161, 805162 objs, 113.5 / 124.9 MiB read in 8.6s\r",
        "loading... line 810162, 810163 objs, 113.9 / 124.9 MiB read in 8.6s\r",
        "loading... line 815163, 815164 objs, 114.4 / 124.9 MiB read in 8.7s\r"
       ]
      },
      {
       "output_type": "stream",
       "stream": "stderr",
       "text": [
        "loading... line 820164, 820165 objs, 114.9 / 124.9 MiB read in 8.7s\r",
        "loading... line 825165, 825166 objs, 115.4 / 124.9 MiB read in 8.7s\r",
        "loading... line 830166, 830167 objs, 115.8 / 124.9 MiB read in 8.8s\r"
       ]
      },
      {
       "output_type": "stream",
       "stream": "stderr",
       "text": [
        "loading... line 835167, 835168 objs, 116.3 / 124.9 MiB read in 8.8s\r",
        "loading... line 840168, 840169 objs, 116.8 / 124.9 MiB read in 8.9s\r",
        "loading... line 845169, 845170 objs, 117.3 / 124.9 MiB read in 8.9s\r"
       ]
      },
      {
       "output_type": "stream",
       "stream": "stderr",
       "text": [
        "loading... line 850170, 850171 objs, 117.7 / 124.9 MiB read in 9.0s\r",
        "loading... line 855171, 855172 objs, 118.2 / 124.9 MiB read in 9.0s\r",
        "loading... line 860172, 860173 objs, 118.7 / 124.9 MiB read in 9.0s\r"
       ]
      },
      {
       "output_type": "stream",
       "stream": "stderr",
       "text": [
        "loading... line 865173, 865174 objs, 119.2 / 124.9 MiB read in 9.1s\r",
        "loading... line 870174, 870175 objs, 119.8 / 124.9 MiB read in 9.1s\r",
        "loading... line 875175, 875176 objs, 120.5 / 124.9 MiB read in 9.2s\r"
       ]
      },
      {
       "output_type": "stream",
       "stream": "stderr",
       "text": [
        "loading... line 880176, 880177 objs, 121.2 / 124.9 MiB read in 9.2s\r",
        "loading... line 885177, 885178 objs, 121.9 / 124.9 MiB read in 9.3s\r",
        "loading... line 890178, 890179 objs, 122.6 / 124.9 MiB read in 9.3s\r"
       ]
      },
      {
       "output_type": "stream",
       "stream": "stderr",
       "text": [
        "loading... line 895179, 895180 objs, 123.2 / 124.9 MiB read in 9.4s\r",
        "loading... line 900180, 900181 objs, 123.9 / 124.9 MiB read in 9.4s\r",
        "loading... line 905181, 905182 objs, 124.5 / 124.9 MiB read in 9.5s\r"
       ]
      },
      {
       "output_type": "stream",
       "stream": "stderr",
       "text": [
        "loaded line 907974, 907975 objs, 124.9 / 124.9 MiB read in 9.5s        \n",
        "checked       28 /   907975 collapsed        0    \r",
        "checked   210072 /   907975 collapsed      993    \r"
       ]
      },
      {
       "output_type": "stream",
       "stream": "stderr",
       "text": [
        "checked   381494 /   907975 collapsed     2177    \r",
        "checked   579874 /   907975 collapsed     3689    \r"
       ]
      },
      {
       "output_type": "stream",
       "stream": "stderr",
       "text": [
        "checked   785808 /   907975 collapsed     4809    \r",
        "checked   907974 /   907975 collapsed     5391    \n"
       ]
      },
      {
       "output_type": "stream",
       "stream": "stderr",
       "text": [
        "compute parents        0 /   902584        \r",
        "compute parents   114304 /   902584        \r"
       ]
      },
      {
       "output_type": "stream",
       "stream": "stderr",
       "text": [
        "compute parents   233856 /   902584        \r",
        "compute parents   364544 /   902584        \r"
       ]
      },
      {
       "output_type": "stream",
       "stream": "stderr",
       "text": [
        "compute parents   479424 /   902584        \r",
        "compute parents   613568 /   902584        \r"
       ]
      },
      {
       "output_type": "stream",
       "stream": "stderr",
       "text": [
        "compute parents   747008 /   902584        \r",
        "compute parents   776448 /   902584        \r"
       ]
      },
      {
       "output_type": "stream",
       "stream": "stderr",
       "text": [
        "compute parents   896896 /   902584        \r",
        "compute parents   902583 /   902584        \r",
        "set parents    73216 /   902584        \r"
       ]
      },
      {
       "output_type": "stream",
       "stream": "stderr",
       "text": [
        "set parents   152768 /   902584        \r",
        "set parents   237056 /   902584        \r"
       ]
      },
      {
       "output_type": "stream",
       "stream": "stderr",
       "text": [
        "set parents   316288 /   902584        \r",
        "set parents   400704 /   902584        \r"
       ]
      },
      {
       "output_type": "stream",
       "stream": "stderr",
       "text": [
        "set parents   478400 /   902584        \r",
        "set parents   563008 /   902584        \r"
       ]
      },
      {
       "output_type": "stream",
       "stream": "stderr",
       "text": [
        "set parents   643648 /   902584        \r",
        "set parents   725440 /   902584        \r"
       ]
      },
      {
       "output_type": "stream",
       "stream": "stderr",
       "text": [
        "set parents   806720 /   902584        \r",
        "set parents   880576 /   902584        \r"
       ]
      },
      {
       "output_type": "stream",
       "stream": "stderr",
       "text": [
        "set parents   902583 /   902584        \n",
        "collapsed in 4.7s\n"
       ]
      },
      {
       "metadata": {},
       "output_type": "pyout",
       "prompt_number": 41,
       "text": [
        "Total 902584 objects, 721 types, Total size = 2486.5MiB (2607286485 bytes)\n",
        " Index   Count   %      Size   % Cum     Max Kind\n",
        "     0     563   02498134565  95  95643718064 numpy.ndarray\n",
        "     1       1   0  56317672   2  9756317672 meliae._loader.MemObjectCollection\n",
        "     2  194589  21  15213759   0  98   29707 str\n",
        "     3  594719  65  14273256   0  99      24 int\n",
        "     4    5892   0   5675616   0  99   98584 dict\n",
        "     5     621   0   2368272   0  99   49488 module\n",
        "     6    1853   0   1675112   0  99     904 type\n",
        "     7   13468   1   1616160   0  99     120 function\n",
        "     8   12552   1   1606656   0  99     128 code\n",
        "     9    1423   0   1582376   0  99    1112 _TypeSummary\n",
        "    10   13223   1   1234208   0  99   51752 tuple\n",
        "    11    1916   0   1038204   0  99   17516 unicode\n",
        "    12    3385   0    476592   0  99   26744 list\n",
        "    13    5358   0    385776   0  99      72 method_descriptor\n",
        "    14   12981   1    311544   0  99      24 numpy.float64\n",
        "    15   12912   1    309888   0  99      24 numpy.float16\n",
        "    16     266   0    295792   0  99    1112 FontEntry\n",
        "    17    3032   0    266816   0  99      88 weakref\n",
        "    18     767   0    263448   0  99    8424 set\n",
        "    19     276   0    249504   0  99     904 GObjectMeta"
       ]
      }
     ],
     "prompt_number": 41
    },
    {
     "cell_type": "code",
     "collapsed": false,
     "input": [
      "#surface = get_surface(\"proteine/dnmt13PT9.pdb\"), vielleicht irgendwann mal nutzbar :-)"
     ],
     "language": "python",
     "metadata": {},
     "outputs": [
      {
       "ename": "AssertionError",
       "evalue": "Failed to generate surface file using command:\nmsms -probe_radius 1.5 -if /tmp/tmpjJTM7e -of /tmp/tmpE9o0lW > /tmp/tmp0roQQB",
       "output_type": "pyerr",
       "traceback": [
        "\u001b[0;31m---------------------------------------------------------------------------\u001b[0m\n\u001b[0;31mAssertionError\u001b[0m                            Traceback (most recent call last)",
        "\u001b[0;32m<ipython-input-35-5d28ca86a828>\u001b[0m in \u001b[0;36m<module>\u001b[0;34m()\u001b[0m\n\u001b[0;32m----> 1\u001b[0;31m \u001b[0msurface\u001b[0m \u001b[0;34m=\u001b[0m \u001b[0mget_surface\u001b[0m\u001b[0;34m(\u001b[0m\u001b[0;34m\"proteine/dnmt13PT9.pdb\"\u001b[0m\u001b[0;34m)\u001b[0m\u001b[0;34m\u001b[0m\u001b[0m\n\u001b[0m",
        "\u001b[0;32m/usr/lib/python2.7/dist-packages/Bio/PDB/ResidueDepth.pyc\u001b[0m in \u001b[0;36mget_surface\u001b[0;34m(pdb_file, PDB_TO_XYZR, MSMS)\u001b[0m\n\u001b[1;32m     90\u001b[0m     \u001b[0msurface_file\u001b[0m\u001b[0;34m=\u001b[0m\u001b[0msurface_tmp\u001b[0m\u001b[0;34m+\u001b[0m\u001b[0;34m\".vert\"\u001b[0m\u001b[0;34m\u001b[0m\u001b[0m\n\u001b[1;32m     91\u001b[0m     \u001b[0;32massert\u001b[0m \u001b[0mos\u001b[0m\u001b[0;34m.\u001b[0m\u001b[0mpath\u001b[0m\u001b[0;34m.\u001b[0m\u001b[0misfile\u001b[0m\u001b[0;34m(\u001b[0m\u001b[0msurface_file\u001b[0m\u001b[0;34m)\u001b[0m\u001b[0;34m,\u001b[0m\u001b[0;31m \u001b[0m\u001b[0;31m\\\u001b[0m\u001b[0;34m\u001b[0m\u001b[0m\n\u001b[0;32m---> 92\u001b[0;31m         \u001b[0;34m\"Failed to generate surface file using command:\\n%s\"\u001b[0m \u001b[0;34m%\u001b[0m \u001b[0mmake_surface\u001b[0m\u001b[0;34m\u001b[0m\u001b[0m\n\u001b[0m\u001b[1;32m     93\u001b[0m     \u001b[0;31m# read surface vertices from vertex file\u001b[0m\u001b[0;34m\u001b[0m\u001b[0;34m\u001b[0m\u001b[0m\n\u001b[1;32m     94\u001b[0m     \u001b[0msurface\u001b[0m\u001b[0;34m=\u001b[0m\u001b[0m_read_vertex_array\u001b[0m\u001b[0;34m(\u001b[0m\u001b[0msurface_file\u001b[0m\u001b[0;34m)\u001b[0m\u001b[0;34m\u001b[0m\u001b[0m\n",
        "\u001b[0;31mAssertionError\u001b[0m: Failed to generate surface file using command:\nmsms -probe_radius 1.5 -if /tmp/tmpjJTM7e -of /tmp/tmpE9o0lW > /tmp/tmp0roQQB"
       ]
      }
     ],
     "prompt_number": 35
    },
    {
     "cell_type": "code",
     "collapsed": false,
     "input": [
      "unpreferable_places(1,2,np.array([1,2,3,4]))"
     ],
     "language": "python",
     "metadata": {},
     "outputs": [
      {
       "output_type": "stream",
       "stream": "stdout",
       "text": [
        "bla\n",
        "non bla\n"
       ]
      }
     ],
     "prompt_number": 64
    },
    {
     "cell_type": "code",
     "collapsed": false,
     "input": [
      "kblubb = np.array([[1,2,3],[11,22,33]])\n",
      "print np.sum(kblubb, axis = 1)"
     ],
     "language": "python",
     "metadata": {},
     "outputs": [
      {
       "output_type": "stream",
       "stream": "stdout",
       "text": [
        "[ 6 66]\n"
       ]
      }
     ],
     "prompt_number": 60
    },
    {
     "cell_type": "code",
     "collapsed": false,
     "input": [
      "def Testfunktion(Points, Starttemp, End):\n",
      "    twoaxis = np.size(Points, axis = 0)\n",
      "    oneaxis = np.size(Starttemp, axis = 0)\n",
      "    Starttemp = np.repeat(Starttemp, twoaxis, axis = 0)\n",
      "    Starttemp = np.reshape(Starttemp, (oneaxis, twoaxis, 3))\n",
      "    Endtemp = np.repeat(End, twoaxis, axis = 0)\n",
      "    Endtemp = np.reshape(Endtemp, (oneaxis, twoaxis, 3))\n",
      "    Points = np.tile(Points, (oneaxis,1))\n",
      "    Points = np.reshape(Points, (oneaxis, twoaxis, 3))\n",
      "    return (Starttemp, Endtemp, Points)\n",
      "\n",
      "\n",
      "Pointsblubb = np.array([[1,1,1],[2,2,2],[3,3,3]])\n",
      "Startblubb = np.array([[10,10,10],[20,20,20]])\n",
      "Endblubb = np.array([[11,11,11],[22,22,22]])\n",
      "\n",
      "bla =  Testfunktion(Pointsblubb,Startblubb, Endblubb)\n",
      "\n",
      "k = bla[0]\n",
      "\n",
      "blubbbool = np.array([[[True,True,True],[True,True,True],[True,False,True]], [[True,True,True],[True,True,True],[True,False,True]]])\n",
      "print np.invert(blubbbool)\n",
      "print k[blubbbool]\n",
      "ablubb = np.ones((2,3,3))\n",
      "k[blubbbool] = ablubb[blubbbool]\n",
      "print k"
     ],
     "language": "python",
     "metadata": {},
     "outputs": [
      {
       "ename": "ValueError",
       "evalue": "must specify expression as a string",
       "output_type": "pyerr",
       "traceback": [
        "\u001b[0;31m---------------------------------------------------------------------------\u001b[0m\n\u001b[0;31mValueError\u001b[0m                                Traceback (most recent call last)",
        "\u001b[0;32m<ipython-input-29-6923a9d1e6b1>\u001b[0m in \u001b[0;36m<module>\u001b[0;34m()\u001b[0m\n\u001b[1;32m     15\u001b[0m \u001b[0mEndblubb\u001b[0m \u001b[0;34m=\u001b[0m \u001b[0mnp\u001b[0m\u001b[0;34m.\u001b[0m\u001b[0marray\u001b[0m\u001b[0;34m(\u001b[0m\u001b[0;34m[\u001b[0m\u001b[0;34m[\u001b[0m\u001b[0;36m11\u001b[0m\u001b[0;34m,\u001b[0m\u001b[0;36m11\u001b[0m\u001b[0;34m,\u001b[0m\u001b[0;36m11\u001b[0m\u001b[0;34m]\u001b[0m\u001b[0;34m,\u001b[0m\u001b[0;34m[\u001b[0m\u001b[0;36m22\u001b[0m\u001b[0;34m,\u001b[0m\u001b[0;36m22\u001b[0m\u001b[0;34m,\u001b[0m\u001b[0;36m22\u001b[0m\u001b[0;34m]\u001b[0m\u001b[0;34m]\u001b[0m\u001b[0;34m)\u001b[0m\u001b[0;34m\u001b[0m\u001b[0m\n\u001b[1;32m     16\u001b[0m \u001b[0;34m\u001b[0m\u001b[0m\n\u001b[0;32m---> 17\u001b[0;31m \u001b[0mbla\u001b[0m \u001b[0;34m=\u001b[0m  \u001b[0mne\u001b[0m\u001b[0;34m.\u001b[0m\u001b[0mevaluate\u001b[0m\u001b[0;34m(\u001b[0m\u001b[0mTestfunktion\u001b[0m\u001b[0;34m(\u001b[0m\u001b[0mPointsblubb\u001b[0m\u001b[0;34m,\u001b[0m\u001b[0mStartblubb\u001b[0m\u001b[0;34m,\u001b[0m \u001b[0mEndblubb\u001b[0m\u001b[0;34m)\u001b[0m\u001b[0;34m)\u001b[0m\u001b[0;34m\u001b[0m\u001b[0m\n\u001b[0m\u001b[1;32m     18\u001b[0m \u001b[0;34m\u001b[0m\u001b[0m\n\u001b[1;32m     19\u001b[0m \u001b[0mk\u001b[0m \u001b[0;34m=\u001b[0m \u001b[0mbla\u001b[0m\u001b[0;34m[\u001b[0m\u001b[0;36m0\u001b[0m\u001b[0;34m]\u001b[0m\u001b[0;34m\u001b[0m\u001b[0m\n",
        "\u001b[0;32m/usr/lib/python2.7/dist-packages/numexpr/necompiler.pyc\u001b[0m in \u001b[0;36mevaluate\u001b[0;34m(ex, local_dict, global_dict, out, order, casting, **kwargs)\u001b[0m\n\u001b[1;32m    706\u001b[0m     \"\"\"\n\u001b[1;32m    707\u001b[0m     \u001b[0;32mif\u001b[0m \u001b[0;32mnot\u001b[0m \u001b[0misinstance\u001b[0m\u001b[0;34m(\u001b[0m\u001b[0mex\u001b[0m\u001b[0;34m,\u001b[0m \u001b[0;34m(\u001b[0m\u001b[0mstr\u001b[0m\u001b[0;34m,\u001b[0m \u001b[0municode\u001b[0m\u001b[0;34m)\u001b[0m\u001b[0;34m)\u001b[0m\u001b[0;34m:\u001b[0m\u001b[0;34m\u001b[0m\u001b[0m\n\u001b[0;32m--> 708\u001b[0;31m         \u001b[0;32mraise\u001b[0m \u001b[0mValueError\u001b[0m\u001b[0;34m(\u001b[0m\u001b[0;34m\"must specify expression as a string\"\u001b[0m\u001b[0;34m)\u001b[0m\u001b[0;34m\u001b[0m\u001b[0m\n\u001b[0m\u001b[1;32m    709\u001b[0m     \u001b[0;31m# Get the names for this expression\u001b[0m\u001b[0;34m\u001b[0m\u001b[0;34m\u001b[0m\u001b[0m\n\u001b[1;32m    710\u001b[0m     \u001b[0mcontext\u001b[0m \u001b[0;34m=\u001b[0m \u001b[0mgetContext\u001b[0m\u001b[0;34m(\u001b[0m\u001b[0mkwargs\u001b[0m\u001b[0;34m,\u001b[0m \u001b[0mframe_depth\u001b[0m\u001b[0;34m=\u001b[0m\u001b[0;36m1\u001b[0m\u001b[0;34m)\u001b[0m\u001b[0;34m\u001b[0m\u001b[0m\n",
        "\u001b[0;31mValueError\u001b[0m: must specify expression as a string"
       ]
      }
     ],
     "prompt_number": 29
    },
    {
     "cell_type": "code",
     "collapsed": false,
     "input": [
      "%debug"
     ],
     "language": "python",
     "metadata": {},
     "outputs": [
      {
       "output_type": "stream",
       "stream": "stdout",
       "text": [
        "> \u001b[0;32m/usr/lib/python2.7/dist-packages/numpy/core/fromnumeric.py\u001b[0m(218)\u001b[0;36mreshape\u001b[0;34m()\u001b[0m\n",
        "\u001b[0;32m    217 \u001b[0;31m        \u001b[0;32mreturn\u001b[0m \u001b[0m_wrapit\u001b[0m\u001b[0;34m(\u001b[0m\u001b[0ma\u001b[0m\u001b[0;34m,\u001b[0m \u001b[0;34m'reshape'\u001b[0m\u001b[0;34m,\u001b[0m \u001b[0mnewshape\u001b[0m\u001b[0;34m,\u001b[0m \u001b[0morder\u001b[0m\u001b[0;34m=\u001b[0m\u001b[0morder\u001b[0m\u001b[0;34m)\u001b[0m\u001b[0;34m\u001b[0m\u001b[0m\n",
        "\u001b[0m\u001b[0;32m--> 218 \u001b[0;31m    \u001b[0;32mreturn\u001b[0m \u001b[0mreshape\u001b[0m\u001b[0;34m(\u001b[0m\u001b[0mnewshape\u001b[0m\u001b[0;34m,\u001b[0m \u001b[0morder\u001b[0m\u001b[0;34m=\u001b[0m\u001b[0morder\u001b[0m\u001b[0;34m)\u001b[0m\u001b[0;34m\u001b[0m\u001b[0m\n",
        "\u001b[0m\u001b[0;32m    219 \u001b[0;31m\u001b[0;34m\u001b[0m\u001b[0m\n",
        "\u001b[0m\n"
       ]
      },
      {
       "name": "stdout",
       "output_type": "stream",
       "stream": "stdout",
       "text": [
        "ipdb> up\n"
       ]
      },
      {
       "output_type": "stream",
       "stream": "stdout",
       "text": [
        "> \u001b[0;32m<ipython-input-33-ce16f9a694d3>\u001b[0m(5)\u001b[0;36mTestfunktion\u001b[0;34m()\u001b[0m\n",
        "\u001b[0;32m      4 \u001b[0;31m    \u001b[0mStarttemp\u001b[0m \u001b[0;34m=\u001b[0m \u001b[0mnp\u001b[0m\u001b[0;34m.\u001b[0m\u001b[0mrepeat\u001b[0m\u001b[0;34m(\u001b[0m\u001b[0mStarttemp\u001b[0m\u001b[0;34m,\u001b[0m \u001b[0moneaxis\u001b[0m\u001b[0;34m,\u001b[0m \u001b[0maxis\u001b[0m \u001b[0;34m=\u001b[0m \u001b[0;36m0\u001b[0m\u001b[0;34m)\u001b[0m\u001b[0;34m\u001b[0m\u001b[0m\n",
        "\u001b[0m\u001b[0;32m----> 5 \u001b[0;31m    \u001b[0mStarttemp\u001b[0m \u001b[0;34m=\u001b[0m \u001b[0mnp\u001b[0m\u001b[0;34m.\u001b[0m\u001b[0mreshape\u001b[0m\u001b[0;34m(\u001b[0m\u001b[0mStarttemp\u001b[0m\u001b[0;34m,\u001b[0m \u001b[0;34m(\u001b[0m\u001b[0moneaxis\u001b[0m\u001b[0;34m,\u001b[0m \u001b[0mtwoaxis\u001b[0m\u001b[0;34m,\u001b[0m \u001b[0;36m3\u001b[0m\u001b[0;34m)\u001b[0m\u001b[0;34m)\u001b[0m\u001b[0;34m\u001b[0m\u001b[0m\n",
        "\u001b[0m\u001b[0;32m      6 \u001b[0;31m    \u001b[0mEndtemp\u001b[0m \u001b[0;34m=\u001b[0m \u001b[0mnp\u001b[0m\u001b[0;34m.\u001b[0m\u001b[0mrepeat\u001b[0m\u001b[0;34m(\u001b[0m\u001b[0mEnd\u001b[0m\u001b[0;34m,\u001b[0m \u001b[0moneaxis\u001b[0m\u001b[0;34m,\u001b[0m \u001b[0maxis\u001b[0m \u001b[0;34m=\u001b[0m \u001b[0;36m0\u001b[0m\u001b[0;34m)\u001b[0m\u001b[0;34m\u001b[0m\u001b[0m\n",
        "\u001b[0m\n"
       ]
      },
      {
       "name": "stdout",
       "output_type": "stream",
       "stream": "stdout",
       "text": [
        "ipdb> print oneaxis\n"
       ]
      },
      {
       "output_type": "stream",
       "stream": "stdout",
       "text": [
        "2\n"
       ]
      },
      {
       "name": "stdout",
       "output_type": "stream",
       "stream": "stdout",
       "text": [
        "ipdb> print twoaxis\n"
       ]
      },
      {
       "output_type": "stream",
       "stream": "stdout",
       "text": [
        "3\n"
       ]
      },
      {
       "name": "stdout",
       "output_type": "stream",
       "stream": "stdout",
       "text": [
        "ipdb> print Starttemp\n"
       ]
      },
      {
       "output_type": "stream",
       "stream": "stdout",
       "text": [
        "[[10 10 10]\n",
        " [10 10 10]\n",
        " [20 20 20]\n",
        " [20 20 20]]\n"
       ]
      },
      {
       "name": "stdout",
       "output_type": "stream",
       "stream": "stdout",
       "text": [
        "ipdb> exit\n"
       ]
      }
     ],
     "prompt_number": 34
    },
    {
     "cell_type": "code",
     "collapsed": false,
     "input": [
      "print np.size(erstepunkte[::1000], axis = 0)\n",
      "a = sort_out_by_protein([anfangspunkt], erstepunkte[::1000], pkte, minabstand)\n",
      "print a\n",
      "print np.size(a[1], axis = 0)"
     ],
     "language": "python",
     "metadata": {},
     "outputs": []
    },
    {
     "cell_type": "code",
     "collapsed": false,
     "input": [
      "a = range(0,10)\n",
      "print a\n",
      "\n",
      "a[-1]"
     ],
     "language": "python",
     "metadata": {},
     "outputs": []
    },
    {
     "cell_type": "code",
     "collapsed": false,
     "input": [
      "#muss noch getestet werden!!!\n",
      "#scheint noch nicht zu funktionieren\n",
      "anfangspunkt = np.array([[0,0,0],[0,-10, 0]])\n",
      "erstepunkte = np.array([[20,0,0], [0,20,0]])\n",
      "pkte = np.array([[10,0,7], [25,0,0], [0,20.2,0], [0,0,100]])\n",
      "\n",
      "print sort_out_by_protein(anfangspunkt, erstepunkte, pkte, minabstand)"
     ],
     "language": "python",
     "metadata": {},
     "outputs": []
    },
    {
     "cell_type": "code",
     "collapsed": false,
     "input": [
      "bla = np.array([[10,0,7], [25,0,0], [0,20.2,0], [0,0,100]])\n",
      "\n",
      "k = list(bla)\n",
      "k.append(list(bla))\n",
      "print np.array(k)"
     ],
     "language": "python",
     "metadata": {},
     "outputs": []
    },
    {
     "cell_type": "code",
     "collapsed": false,
     "input": [
      "a = np.array([[1,1,1], [2,2,2],[3,3,3]])\n",
      "np.mean(a, axis = 0)\n"
     ],
     "language": "python",
     "metadata": {},
     "outputs": [
      {
       "metadata": {},
       "output_type": "pyout",
       "prompt_number": 97,
       "text": [
        "array([ 2.,  2.,  2.])"
       ]
      }
     ],
     "prompt_number": 97
    },
    {
     "cell_type": "code",
     "collapsed": false,
     "input": [
      "import time\n",
      "a = np.random.random_sample((10000000,1))\n",
      "\n",
      "blubb = time.time()\n",
      "np.square(a)\n",
      "print blubb-time.time()\n",
      "\n",
      "blubb = time.time()\n",
      "a**2\n",
      "print blubb-time.time()"
     ],
     "language": "python",
     "metadata": {},
     "outputs": []
    },
    {
     "cell_type": "code",
     "collapsed": false,
     "input": [
      "np.random.random_sample((10000000,1))"
     ],
     "language": "python",
     "metadata": {},
     "outputs": []
    },
    {
     "cell_type": "code",
     "collapsed": false,
     "input": [
      "k = np.array([1,2,3,4,5,6,7,8])\n",
      "blubb = []\n",
      "for i in range(0,5):\n",
      "    print i\n",
      "    blubb.append( k[i::5])\n",
      "    \n",
      "np.array(blubb)\n",
      "blubb.flat"
     ],
     "language": "python",
     "metadata": {},
     "outputs": []
    },
    {
     "cell_type": "code",
     "collapsed": false,
     "input": [
      "a = np.array([1,2,3])\n",
      "a[0] = 4\n",
      "print a"
     ],
     "language": "python",
     "metadata": {},
     "outputs": []
    },
    {
     "cell_type": "code",
     "collapsed": false,
     "input": [
      "a = [1,2,3]\n",
      "a.append([1,2,3])\n",
      "print a"
     ],
     "language": "python",
     "metadata": {},
     "outputs": []
    },
    {
     "cell_type": "code",
     "collapsed": false,
     "input": [
      "c = [np.ones(10**9)]\n",
      "c.append(np.ones(10**9)*2)\n",
      "a = np.array(c)\n",
      "temp = np.ravel(a, 'F')\n",
      "print temp"
     ],
     "language": "python",
     "metadata": {},
     "outputs": []
    },
    {
     "cell_type": "code",
     "collapsed": false,
     "input": [
      "a = np.array([[1,1,1],[2,2,2]])\n",
      "\n",
      "print a\n",
      "b = np.array([[1,1,1],[2,2,2], [3,3,3]])\n",
      "\n",
      "print b\n",
      "\n",
      "aussortierennachabstaenden(a,b,3,1)\n"
     ],
     "language": "python",
     "metadata": {},
     "outputs": []
    },
    {
     "cell_type": "code",
     "collapsed": false,
     "input": [
      "np.max([False, False])\n"
     ],
     "language": "python",
     "metadata": {},
     "outputs": []
    },
    {
     "cell_type": "code",
     "collapsed": false,
     "input": [
      "bla=  np.reshape(blubb, (2,3))\n",
      "print bla\n",
      "np.max(bla, axis=1)\n",
      "\n",
      "import time\n",
      "start_time = time.time()\n",
      "print ( time.time() - start_time)"
     ],
     "language": "python",
     "metadata": {},
     "outputs": []
    },
    {
     "cell_type": "markdown",
     "metadata": {},
     "source": [
      "der n\u00e4chste Block kann wohl weg, aber man kann Teile aus ihm verwenden. Was man eigentlich will, ist eine Funktion, die aus drei Arrays, die Werte sucht, die im richtigen Abstand liegen und das dann wieder perfekt aufgebaut zur\u00fcckgibt, sodass einfach in der Zeile der komplette Weg durchgegangen wird..."
     ]
    },
    {
     "cell_type": "code",
     "collapsed": false,
     "input": [
      "#wie genau m\u00fcssen sich die St\u00fccke treffen wird durch hitgenauig bestimmt, es ist sin(5\u00b0) * maximale linkerl\u00e4nge\n",
      "hitgenauig = 0.0436 * laengstesstueck\n",
      "\n",
      "def aussortierennachabstaenden(punktearray, zielpunkte, abstand, variation):\n",
      "    temp1 = np.repeat(punktearray, np.size(zielpunkte, axis=0), axis =0)\n",
      "    temp2 = np.tile(zielpunkte, (np.size(punktearray, axis=0),1))\n",
      "    abstaende = np.reshape(abstandarrays(temp1, temp2), (np.size(punktearray, axis=0), np.size(zielpunkte, axis=0)))\n",
      "    passend = ((abstaende > (abstand-variation)) & (abstaende < (abstand+variation)))\n",
      "    keep = np.max(passend, axis=1) \n",
      "    return keep\n",
      "\n",
      "\n",
      "start_time = time.time()\n",
      "\n",
      "print np.shape(zweitepunkte)\n",
      "behalten = np.empty((np.size(zweitepunkte, axis=0), np.size(linkerlaengenKO)))\n",
      "zaehl = 0\n",
      "for laenge in linkerlaengenKO:\n",
      "    #TODO abfangen, falls es unter 50 gibt\n",
      "    #die Teilungen f\u00fcr das Array festlegen, weil das slicen und zusammenfuegen funkt nicht\n",
      "    teiler = np.size(zweitepunkte, axis=0)/(MakeSmall/10) #ist int\n",
      "    behalten[0:teiler,zaehl] = aussortierennachabstaenden(zweitepunkte[0:teiler], letztepunkte, laenge, hitgenauig)\n",
      "    \n",
      "    for i in range(1,(MakeSmall/10)):\n",
      "        behalten[ i*teiler: (i+1)*teiler,zaehl] = aussortierennachabstaenden(zweitepunkte[ i*teiler: (i+1)*teiler], letztepunkte,\\\n",
      "                                                     laenge, hitgenauig)\n",
      "    behalten[(i+1)*teiler: -1,zaehl] = aussortierennachabstaenden(zweitepunkte[(i+1)*teiler: -1], letztepunkte,\\\n",
      "                                                     laenge, hitgenauig)\n",
      "    \n",
      "    zaehl+=1\n",
      "    \n",
      "print ( time.time() - start_time)  \n",
      "\n",
      "#aussortieren nach den Punkten, hier eventuell zerteilen, wenn ich Dinge testen will\n",
      "behalten = np.max(behalten, axis = 1)\n",
      "behalten = behalten == 1\n",
      "zweitepunkte = zweitepunkte[behalten]\n",
      "erstepunkte = erstepunkte[behalten]\n",
      "    \n",
      "print np.shape(zweitepunkte)"
     ],
     "language": "python",
     "metadata": {},
     "outputs": []
    }
   ],
   "metadata": {}
  }
 ]
}