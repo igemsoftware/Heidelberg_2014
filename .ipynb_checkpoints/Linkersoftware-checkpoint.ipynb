{
 "metadata": {
  "name": "",
  "signature": "sha256:cd4743dff3fe9c7af6ee31815d061e86b1f05f0b201693752320197d85bd73b8"
 },
 "nbformat": 3,
 "nbformat_minor": 0,
 "worksheets": [
  {
   "cells": [
    {
     "cell_type": "code",
     "collapsed": false,
     "input": [
      "#Hier ist ein kleiner Versuch mal eine Software zu schreiben, wie so Linkerzeug gemacht werden k\u00f6nnte."
     ],
     "language": "python",
     "metadata": {},
     "outputs": [],
     "prompt_number": 123
    },
    {
     "cell_type": "code",
     "collapsed": false,
     "input": [
      "#einlesen des PDB files. die Dateien sollten in proteine gespeichert werden\n",
      "import numpy as np\n",
      "import matplotlib\n",
      "matplotlib.use('GTK')\n",
      "import matplotlib.pyplot as plt\n",
      "from mpl_toolkits.mplot3d import Axes3D\n",
      "#%matplotlib inline\n",
      "import time #kann im Endeffekt aussortiert werden :-)\n",
      "\n",
      "\n",
      "#Betrag eines Vektors\n",
      "def vectabs(x0, x1, x2):\n",
      "    return np.sqrt(x0**2 + x1**2 + x2*2)\n",
      "\n",
      "def vectabsar(ar):\n",
      "    return np.sqrt(ar[:,0]**2+ar[:,1]**2+ar[:,2]**2)\n",
      "\n",
      "#gibt normalenvektor zu ebene von drei Punkten aus, bereits normiert\n",
      "def ebene(a, b, c):\n",
      "    x0 = (a-b)[1]*(c-b)[2]-((a-b)[2]*(c-b)[1])\n",
      "    x1 = (a-b)[2]*(c-b)[0]-((a-b)[0]*(c-b)[2])\n",
      "    x2 = (a-b)[0]*(c-b)[1]-((a-b)[1]*(c-b)[0])\n",
      "    \n",
      "    xabs = vectabs(x0, x1, x2)\n",
      "    \n",
      "    return np.array([x0/xabs, x1/xabs, x2/xabs])\n",
      "\n",
      "#einen Vektor mit Drehmatrix drehen um a-achse\n",
      "def drehenx(phi, x, y, z):\n",
      "    x1 = x * np.cos(phi * 0)\n",
      "    y1 = y * np.cos(phi) - z * np.sin(phi)\n",
      "    z1 = y * np.sin(phi) + z * np.cos(phi)\n",
      "    return np.array([x1, y1, z1])\n",
      "\n",
      "def dreheny(phi, x, y, z):\n",
      "    x1 = x  * np.cos(phi) - z * np.sin(phi)\n",
      "    y1 = y * np.cos(phi * 0)\n",
      "    z1 = x * np.sin(phi) + z * np.cos(phi)\n",
      "    return np.array([x1, y1, z1])\n",
      "\n",
      "def drehenz(phi, x, y, z):\n",
      "    x1 = x  * np.cos(phi) - y * np.sin(phi)\n",
      "    y1 = x * np.sin(phi) +  y* np.cos(phi)\n",
      "    z1 = z * np.cos(phi * 0)\n",
      "    return np.array([x1, y1, z1])\n",
      "\n",
      "#dreht Vektor v (als np.array) um phi um die x-Achse, und theta um die y-Achse\n",
      "def drehenxy(phi, theta, v):\n",
      "    v = drehenx(phi, v[0], v[1], v[2])\n",
      "    return dreheny(theta, v[0], v[1], v[2])\n",
      "\n",
      "#den Abstand zweier Punkte bestimmen, den Punkt als Array eingeben.\n",
      "def abstand(x,y):\n",
      "    return np.sqrt((x[0]-y[0])**2+(x[1]-y[1])**2+(x[2]-y[2])**2)\n",
      "\n",
      "def betrag(x):\n",
      "    return np.sqrt((x[0])**2+(x[1])**2+(x[2])**2)\n",
      "\n",
      "def abstandpktzuarray(x, ar):\n",
      "    return np.sqrt((x[0]-ar[:,0])**2+(x[1]-ar[:,1])**2+(x[2]-ar[:,2])**2)\n",
      "\n",
      "def abstandarrays(ar1, ar2):\n",
      "    return np.sqrt((ar1[:,0]-ar2[:,0])**2+(ar1[:,1]-ar2[:,1])**2+(ar1[:,2]-ar2[:,2])**2)\n",
      "\n",
      "def skalar_product (ar1, ar2):\n",
      "    return (ar1[:,0]*ar2[:,0])+(ar1[:,1]*ar2[:,1])+(ar1[:,2]*ar2[:,2])\n",
      "\n",
      "#macht aus drei Arrays ein Array mit kleinen dreierarrays in einem gro\u00dfen A\n",
      "\n",
      "\n",
      "#macht aus drei Arrays\n",
      "    \n",
      "\n",
      "f = open('proteine/dnmt13PT9.pdb', 'r')\n",
      "#print pdbfile\n",
      "\n",
      "\n",
      "x = []\n",
      "y = []\n",
      "z = []\n",
      "atom = []\n",
      "aminos = []\n",
      "subunit = []\n",
      "asnr = []\n",
      "\n",
      "\n",
      "#line.split kann nicht verwendet werden, weil manchmal die spalten ineinander verschmelzen, weil das Format doof ist.\n",
      "\n",
      "for line in f:\n",
      "    art = line[:4]\n",
      "    if art == 'ATOM':\n",
      "        atom.append(line[13:16])\n",
      "        aminos.append(line[17:20])\n",
      "        subunit.append(line[21])\n",
      "        asnr.append(int(line[22:26]))\n",
      "        x.append(float(line[31:38]))\n",
      "        y.append(float(line[38:46]))\n",
      "        z.append(float(line[46:54]))\n",
      "        \n",
      "\n",
      "#aus allen Listen arrays machen\n",
      "atom = np.array(atom)\n",
      "aminos = np.array(aminos)\n",
      "subunit = np.array(subunit)\n",
      "asnr = np.array(asnr) \n",
      "#731-1602\n",
      "#oder 650 - 1602\n",
      "behalten = asnr > 650 #hier kann man einstellen, welche AS behalten werden sollen.\n",
      "ersteas = asnr[asnr == asnr[0]]\n",
      "letzteas = asnr[asnr == asnr[-1]]\n",
      "\n",
      "ersteas = np.size(ersteas) #anzahl an Atomen in der erstenas\n",
      "letzteas = np.size(letzteas) #amount of atoms in last AS\n",
      "\n",
      "\n",
      "x = np.array(x)        \n",
      "y = np.array(y)\n",
      "z = np.array(z)\n",
      "\n",
      "anzahl = len(z)\n",
      "\n",
      "#aus den drei Arrays eines machen, das Dimension n*3 hat, also ein Array aus lauter kleinen dreier Arrays\n",
      "\n",
      "PointsOfAllSubunits = pkte = np.reshape(np.concatenate((x,y,z)), (anzahl,3), 'F')\n",
      "#choose the subunit, that is interesting for us\n",
      "pkte = PointsOfAllSubunits[subunit == \"A\"]\n",
      "OtherPoints = PointsOfAllSubunits[subunit != \"A\"]\n",
      "anfangspunkt = pkte[0]\n",
      "endpunkt = pkte[-1]\n",
      "\n",
      "# ein Pkt: pkte[0]\n",
      "# wieder zur\u00fcck: x = pkte[:,0]\n",
      "\n",
      "\n",
      "fig = plt.figure()\n",
      "ax = fig.add_subplot(111, projection='3d')\n",
      "ax.scatter(pkte[5:-5:,0], pkte[5:-5:,1], pkte[5:-5:,2], s=10)\n",
      "ax.scatter(pkte[:4:,0], pkte[:4:,1], pkte[:4:,2], s = 20, c =\"r\")\n",
      "ax.scatter(pkte[-4::,0], pkte[-4::,1], pkte[-4::,2], s = 20, c =\"r\")\n",
      "ax.scatter(OtherPoints[:,0], OtherPoints[:,1], OtherPoints[:,2], s=10, c = \"g\")\n",
      "\n"
     ],
     "language": "python",
     "metadata": {},
     "outputs": [
      {
       "metadata": {},
       "output_type": "pyout",
       "prompt_number": 1,
       "text": [
        "<mpl_toolkits.mplot3d.art3d.Patch3DCollection at 0x7fe9fb3f8690>"
       ]
      }
     ],
     "prompt_number": 1
    },
    {
     "cell_type": "code",
     "collapsed": false,
     "input": [
      "#das gedrehte darstellen, TODO muss noch auf pkte angepasst werden\n",
      "\n",
      "phi = np.pi / 2 #immer in vielfachen von pi w\u00e4hlen\n",
      "\n",
      "xgedr = dreheny(phi, x, y, z)[0]\n",
      "ygedr = dreheny(phi, x, y, z)[1]\n",
      "zgedr = dreheny(phi, x, y, z)[2]\n",
      "\n",
      "\n",
      "fig = plt.figure()\n",
      "ax = fig.add_subplot(111, projection='3d')\n",
      "ax.scatter(xgedr[5:-5:], ygedr[5:-5:], zgedr[5:-5:], s=10)\n",
      "ax.scatter(xgedr[:4:], ygedr[:4:], zgedr[:4:], s = 20, c =\"r\")\n",
      "ax.scatter(xgedr[-4::], ygedr[-4::], zgedr[-4::], s = 20, c =\"r\")\n",
      "\n",
      "plt.show()"
     ],
     "language": "python",
     "metadata": {},
     "outputs": [
      {
       "output_type": "stream",
       "stream": "stderr",
       "text": [
        "/usr/lib/pymodules/python2.7/matplotlib/backends/backend_gtk.py:250: Warning: Source ID 4 was not found when attempting to remove it\n",
        "  gobject.source_remove(self._idle_event_id)\n",
        "/usr/lib/pymodules/python2.7/matplotlib/backends/backend_gtk.py:250: Warning: Source ID 2 was not found when attempting to remove it\n",
        "  gobject.source_remove(self._idle_event_id)\n"
       ]
      }
     ],
     "prompt_number": 2
    },
    {
     "cell_type": "code",
     "collapsed": false,
     "input": [
      "#L\u00e4ngenkalibration, wir wissen, dass der Abstand von c-c 154 pm ist.\n",
      "#Wir machen das am Glycin, weil das am einfachsten f\u00fcr uns ist.\n",
      "\n",
      "eichnutz = ((aminos == \"GLY\") & (atom == \"C  \") | ((aminos == \"GLY\") & (atom == \"CA \")))\n",
      "xeich = x[eichnutz]\n",
      "yeich = y[eichnutz]\n",
      "zeich = z[eichnutz]\n",
      "\n",
      "\n",
      "#das sieht so komisch aus, wegen alter Version\n",
      "abstaendeeich= abstand( np.array([xeich[0::2],yeich[0::2],zeich[0::2]]),np.array([xeich[1::2],yeich[1::2],zeich[1::2]]))\n",
      "kalib = 154 / np.mean(abstaendeeich) #pm\n",
      "kalibfehl = np.std(abstaendeeich) * kalib\n",
      "\n",
      "print str(kalib) + \"+-\" +str (kalibfehl) +\" pm\""
     ],
     "language": "python",
     "metadata": {},
     "outputs": [
      {
       "output_type": "stream",
       "stream": "stdout",
       "text": [
        "101.505207102+-0.254230208574 pm\n"
       ]
      }
     ],
     "prompt_number": 3
    },
    {
     "cell_type": "code",
     "collapsed": false,
     "input": [
      "#globale Variablen:\n",
      "\n",
      "#Entfernung, die der Linker mindestens immer haben sollte geschaetzter Wert 5 Angstr\u00f6m, eine Alpha Helix hat Radius 2.3A\n",
      "\n",
      "minabstand = 500/kalib #in pm\n",
      "\n",
      "#Entfernung, die ein Linker maximal haben darf vom Protein\n",
      "\n",
      "maxabstand = 5000/kalib"
     ],
     "language": "python",
     "metadata": {},
     "outputs": [],
     "prompt_number": 4
    },
    {
     "cell_type": "markdown",
     "metadata": {},
     "source": [
      "Wir testen, ob sich die Enden einfach direkt verbinden lassen. Daf\u00fcr schauen wir ob auf der Verbindungslinie zwischen den beiden Enden im senkrechten Abstand alle Punkte mindestens einen gewissen Abstand haben. Da aber der Punkteraum diskret ist und nicht ausgeschmiert, schauen wir einfach f\u00fcr jeden W\u00fcrfel um die Verbindungslinie, welches der geringste Abstand eines Punktes ist. Ist dieser geringer als unser geforderter Mindestabstand, bricht der Algorithmus sofort ab und es kann weiter gehen. Die W\u00fcrfel sind nur dazu da, dass wir nicht immer den Abstand des gesamten Proteins zur Linie berechnen m\u00fcssen. Wenn ein Punkt zu nah ist, finden wir ihn so auf jeden Fall.\n",
      "\n",
      "Wir m\u00fcssen auf jeden Fall den Abstand zwischen zwei Messpunkten so w\u00e4hlen, dass selbst wenn der Punkt am ung\u00fcnstigsten liegt, wir ihn aussortieren. Lieber zu fr\u00fch aussortieren als zu sp\u00e4t und dann eben das normale Prozedere durchmachen lassen. Wir w\u00e4hlen die Abst\u00e4nde so, dass immer der n\u00e4chste Punkt \n",
      "\n",
      "Der erste Messpunkt muss so sein, dass nicht unser Startpunkt in den ersten W\u00fcrfel f\u00e4llt, genauso beim letzten."
     ]
    },
    {
     "cell_type": "code",
     "collapsed": false,
     "input": [
      "abstandanfend = abstand(anfangspunkt, endpunkt)\n",
      "kantenlaenge = 4 * minabstand\n",
      "#print kantenlaenge\n",
      "wuerfeldiaghalbe = np.sqrt(3)/2 * kantenlaenge\n",
      "#print wuerfeldiaghalbe\n",
      "\n",
      "anzahlwuerfel = int(abstandanfend / wuerfeldiaghalbe) #wir setzen einen mehr ein, als wir m\u00fcssten\n",
      "if anzahlwuerfel == 0:\n",
      "    if abstandanfend < (2* minabstand):\n",
      "        print \"Die Enden sind extrem nah beieinander, einfach versuchen zu zyklieren mit Linker, der genau der L\u00e4nge entspricht!\"\n",
      "    else:\n",
      "        wuerfelmitten = np.array([(anfangspunkt-endpunkt)/2])\n",
      "        kantenlaenge = abstandanfend / np.sqrt(3)\n",
      "else:\n",
      "    wuerfelabstand = (abstandanfend - (2* wuerfeldiaghalbe))/(anzahlwuerfel - 1)\n",
      "    \n",
      "    #print anzahlwuerfel\n",
      "    \n",
      "    #nun die Verbindungsgerade zwischen den beiden Punkten. v = m * t + 0 mit normiertem m und t (Abstand*parameter)\n",
      "    wuerfelmitten = []\n",
      "    for i in range(0, anzahlwuerfel):\n",
      "        wuerfelmitten.append( (endpunkt-anfangspunkt)/abstandanfend * (wuerfelabstand * i + wuerfeldiaghalbe) + anfangspunkt)\n",
      "        \n",
      "    wuerfelmitten = np.array(wuerfelmitten)\n",
      "    \n",
      "#print wuerfelmitten\n",
      "\n",
      "\n",
      "#minimale Abstand, den etwas haben muss, von W\u00fcrfelmittelpunkt, ab dem wir sagen, dass was zu nah ist, das ist auch \n",
      "#der Fehler den wir haben k\u00f6nnen.\n",
      "minabstandcalc = np.sqrt(minabstand**2 + wuerfelabstand**2)\n",
      "\n",
      "derallernaechstepunkt = None\n",
      "\n",
      "#das Einschr\u00e4nken der Werte auf die W\u00fcrfelinnereien\n",
      "for mitte in wuerfelmitten:\n",
      "    keep = ((PointsOfAllSubunits[:,0] > (mitte[0] - (kantenlaenge / 2))) & (PointsOfAllSubunits[:,0] < (mitte[0] + (kantenlaenge / 2))) & \\\n",
      "            (PointsOfAllSubunits[:,1] > (mitte[1] - (kantenlaenge / 2))) & (PointsOfAllSubunits[:,1] < (mitte[1] + (kantenlaenge / 2))) & \\\n",
      "            (PointsOfAllSubunits[:,2] > (mitte[2] - (kantenlaenge / 2))) & (PointsOfAllSubunits[:,2] < (mitte[2] + (kantenlaenge / 2))))   \n",
      "    \n",
      "    wuerfelpunkte = PointsOfAllSubunits[keep]\n",
      "    #print wuerfelpunkte\n",
      "    #print abstandarray(mitte, wuerfelpunkte)\n",
      "    mintemp = np.min(abstandpktzuarray(mitte, wuerfelpunkte))\n",
      "    #print mintemp\n",
      "    if  mintemp < minabstandcalc:\n",
      "        print \"Es ist nicht m\u00f6glich einen direkten Linker zu bauen. Der minimale Abstand von der direkten Verbindung betrug: \" \\\n",
      "                + str( mintemp * kalib) + \" pm\"\n",
      "        break\n",
      "     \n",
      "    else:\n",
      "        if derallernaechstepunkt == None:\n",
      "            derallernaechstepunkt = mintemp\n",
      "        elif mintemp < derallernaechstepunkt:\n",
      "            derallernaechstepunkt = mintemp\n",
      "\n",
      "else:\n",
      "    print \"Es ist m\u00f6glich einen direkten Linker zu machen, da der n\u00e4chste Punkt vom Linker \" + str(derallernaechstepunkt * kalib) + \\\n",
      "          \" pm entfernt ist.\"\n",
      "    \n",
      "    \n",
      "#FIXME, der Control Flow... Wenn es vorher feststellt, dass die Enden sehr nah beieinander sind, geht es dennoch durch das ganze \n",
      "#untere wieder durch... Mal schauen, was sich da machen l\u00e4sst."
     ],
     "language": "python",
     "metadata": {},
     "outputs": [
      {
       "output_type": "stream",
       "stream": "stdout",
       "text": [
        "Es ist nicht m\u00f6glich einen direkten Linker zu bauen. Der minimale Abstand von der direkten Verbindung betrug: 86.2848996768 pm\n"
       ]
      }
     ],
     "prompt_number": 5
    },
    {
     "cell_type": "markdown",
     "metadata": {},
     "source": [
      "Ob eine Region au\u00dfen ist. Daf\u00fcr werden von dem Punkt Strahlen in alle Richtungen in 5\u00b0 Schritten gemacht und diese dann in eine Liste geschrieben, welche Winkel frei sind."
     ]
    },
    {
     "cell_type": "code",
     "collapsed": false,
     "input": [
      "#Test, ob die Enden auch au\u00dfensind\n",
      "#Abstand zwischen Anfang und allen anderen Punkten in einem Array\n",
      "\n",
      "#aufpunkt, der Punkt von wo aus geht\n",
      "#gerade: normiert\n",
      "#gibt True zur\u00fcck, wenn kein Punkt in der N\u00e4he der Geraden ist.\n",
      "\n",
      "def punktebeigerade(minabstand, pkte, gerade, aufpunkt, laenge):\n",
      "    kantenlaenge = 4 * minabstand\n",
      "    wuerfeldiaghalbe = np.sqrt(3)/2 * kantenlaenge\n",
      "    \n",
      "    anzahlwuerfel = int(laenge / wuerfeldiaghalbe) + 1 \n",
      "    \n",
      "    #nun die Verbindungsgerade zwischen den beiden Punkten. v = m * t + x0 mit normiertem m und t (Abstand*parameter)\n",
      "    wuerfelmitten = []\n",
      "\n",
      "    for i in range(0, anzahlwuerfel):\n",
      "        wuerfelmitten.append( gerade * (wuerfeldiaghalbe * (i + 1)) + aufpunkt)\n",
      "    \n",
      "        \n",
      "    wuerfelmitten = np.array(wuerfelmitten)\n",
      "        \n",
      "    #print wuerfelmitten\n",
      "    \n",
      "    \n",
      "    #minimale Abstand, den etwas haben muss, von W\u00fcrfelmittelpunkt, ab dem wir sagen, dass was zu nah ist\n",
      "    minabstandcalc = np.sqrt(5) * minabstand\n",
      "    \n",
      "    \n",
      "    #das Einschr\u00e4nken der Werte auf die W\u00fcrfelinnereien\n",
      "    for mitte in wuerfelmitten:\n",
      "        keep = ((pkte[:,0] > (mitte[0] - (kantenlaenge / 2))) & (pkte[:,0] < (mitte[0] + (kantenlaenge / 2))) & \\\n",
      "                (pkte[:,1] > (mitte[1] - (kantenlaenge / 2))) & (pkte[:,1] < (mitte[1] + (kantenlaenge / 2))) & \\\n",
      "                (pkte[:,2] > (mitte[2] - (kantenlaenge / 2))) & (pkte[:,2] < (mitte[2] + (kantenlaenge / 2))))   \n",
      "        \n",
      "        \n",
      "        wuerfelpunkte = pkte[keep]\n",
      "        if np.size(wuerfelpunkte) == 0:\n",
      "            continue\n",
      "        \n",
      "        mintemp = np.min(abstandpktzuarray(mitte, wuerfelpunkte))\n",
      "        \n",
      "        if  mintemp < minabstandcalc:\n",
      "            return False\n",
      "            break\n",
      "         \n",
      "    else:\n",
      "        return True\n",
      "    \n",
      "\n",
      "#das sind nun 2592 Berechnungen...\n",
      "testwinkel = np.mgrid[0:180:5, 0:360:5] * np.pi/180 #Endwinkel nicht enthalten, null mit drinnen, das sind ja auch nur 70 Rechn extra\n",
      "winkelarray = np.reshape(np.ravel(testwinkel), (2592,2), 'F')    \n",
      "\n",
      "gerade = np.array([0,0,1])\n",
      "\n",
      "#die Winkel sind von der Z-Achse gemessen.\n",
      "\n",
      "#Ueberpr\u00fcfen, ob der Anfang innen ist.\n",
      "maxvonanfang = np.max(abstandpktzuarray(pkte [0] ,PointsOfAllSubunits))\n",
      "#geradenarray = np.reshape(np.ravel(drehenxy(testwinkel[0], testwinkel[1], gerade), order = 'F'), (2592,3), 'C')\n",
      "\n",
      "moeglichewinkelanfangbool = []\n",
      "\n",
      "for winkel in winkelarray:\n",
      "    moeglichewinkelanfangbool.append(punktebeigerade(minabstand, PointsOfAllSubunits, drehenxy(winkel[0], winkel[1], gerade), pkte[0]\\\n",
      "                                                 , maxvonanfang))\n",
      "\n",
      "moeglichewinkelanfangbool = np.array(moeglichewinkelanfangbool)    \n",
      "\n",
      "\n",
      "#\u00dcberpr\u00fcfen, ob das Ende innen ist.\n",
      "maxvonende = np.max(abstandpktzuarray(endpunkt ,PointsOfAllSubunits))\n",
      "\n",
      "moeglichewinkelendebool = []\n",
      "\n",
      "for winkel in winkelarray:\n",
      "    moeglichewinkelendebool.append(punktebeigerade(minabstand, PointsOfAllSubunits, drehenxy(winkel[0], winkel[1], gerade), endpunkt, maxvonende))\n",
      "\n",
      "moeglichewinkelendebool = np.array(moeglichewinkelendebool)\n",
      "\n",
      "\n",
      "\n",
      "moeglichewinkelanfang = winkelarray[moeglichewinkelanfangbool]\n",
      "moeglichewinkelende = winkelarray[moeglichewinkelendebool]\n",
      "if (np.size(moeglichewinkelanfangbool) == 0) | (np.size(moeglichewinkelendebool) == 0):\n",
      "    print \"Ein Ende liegt leider innen, nicht zirkularisierbar!\"\n",
      "\n",
      "print moeglichewinkelanfang"
     ],
     "language": "python",
     "metadata": {},
     "outputs": [
      {
       "output_type": "stream",
       "stream": "stdout",
       "text": [
        "[[ 0.          5.67232007]\n",
        " [ 0.          5.75958653]\n",
        " [ 0.          5.84685299]]\n"
       ]
      }
     ],
     "prompt_number": 7
    },
    {
     "cell_type": "markdown",
     "metadata": {},
     "source": [
      "Wir versuchen nun wirklich einen Linker zu finden. Daf\u00fcr alle m\u00f6glichen Linker, die zum Ziel f\u00fchren erzeugen lassen. So ein Linker ist eindeutig bestimmt, durch die Punkte, durch die er durchgeht, das hei\u00dft man muss nur die Punkte abspeichern lassen. Die kann man dann auswerten im Endeffekt und so den besten Linker rausfinden.\n",
      "\n",
      "Dabei kann ein Linker maximal 3 Winkel haben, dann ist es m\u00f6glich ein 5 Eck mit den Punkten zu bauen. Das ergibt bei einer Winkelvervteilung von jeweils 5 \u00b0 2500^3 M\u00f6glichkeiten.\n",
      "\n",
      "Jede Aminos\u00e4ure in einer Alphahelix macht dann eine Verschiebung um 1,5 Angstr\u00f6m. Das hei\u00dft, dass jedes einzelne Linkerst\u00fcck (keine Gelenke) 1.5A lang ist.\n",
      "\n",
      "F\u00fcr die maximale L\u00e4nge des Linkers legen wir eine Schnur um eine Kugel, mit dem Radius des 3/4 (noch dr\u00fcber sprechen) des maximalen Abstands von dem Ende zu dem Rest.\n",
      "\n"
     ]
    },
    {
     "cell_type": "markdown",
     "metadata": {},
     "source": [
      "Wir sortieren jetzt die Punkte aus, bei denen Proteinpunkte auf der Verbindungslinie zwischen den beiden liegen. \n",
      "\n",
      "Daf\u00fcr berechnen wir f\u00fcr jede Verbindung zwischen A und B alle Abst\u00e4nde AC und BC. Daraus k\u00f6nnen wir dann r\u00fcckschl\u00fcsse ziehen, ob es Punkte gibt, die zwischen der Verbindungslinie liegen. Generell gibt es zwei Kriterien, die erf\u00fcllt sein m\u00fcssen:\n",
      "\n",
      "AC und BC m\u00fcssen k\u00fcrzer sein als AB (Kreis um jeweils den anderen Punkt)\n",
      "AC + BC muss kleiner als $ \\sqrt{AB^2 + d^2}+d$ sein. (Ellipse durch die \u00e4u\u00dfersten Eckpunkte, die wir aussortieren wollen)\n",
      "\n",
      "Mit dieser Methode sortieren wir um ung\u00fcnstigsten Fall (k\u00fcrzester Linker, schlechtester Punkt vom Protein, also ganz in der Mitte) noch Punkte aus, bei denen ein Punkt in 2d Entfernung vom Linker ist. Das ist ok, daf\u00fcr dass das so eine einfache Methode ist."
     ]
    },
    {
     "cell_type": "heading",
     "level": 4,
     "metadata": {},
     "source": [
      "TODO: Irgendwie mit hineinnehmen, ob das Protein gro\u00df ist (verschieden lange Linker nehmen), ob man viele Winkel gleich am Anfang angreifen kann (eine Iteration vllt. herausnehmen) und was man so machen kann, um Rechenzeit zu sparen."
     ]
    },
    {
     "cell_type": "code",
     "collapsed": false,
     "input": [
      "#startingarray must be an array of (x,3) shape. so add it as: [startingarray]\n",
      "#beforearray is used, if also arrays before the connection need to be sliced. Then the boolarray is returned.\n",
      "def sort_out_by_protein(startingarray, endingarray, proteinpoints, mindist, beforearray = None):\n",
      "    if np.size(startingarray, axis=0) == 1:\n",
      "        starttemp = np.repeat(startingarray, np.size(endingarray, axis=0), axis =0)\n",
      "    else:\n",
      "        starttemp = startingarray\n",
      "        \n",
      "    #expand the arrays\n",
      "    startendlength = vectabsar(starttemp-endingarray)\n",
      "    startendlength = np.repeat(startendlength, np.size(proteinpoints, axis=0), axis =0)\n",
      "    starttemp = np.repeat(starttemp, np.size(proteinpoints, axis=0), axis =0)#immer die gleichen hintereinander\n",
      "    endtemp = np.repeat(endingarray, np.size(proteinpoints, axis=0), axis =0)\n",
      "    proteintemp = np.tile(proteinpoints, (np.size(endingarray, axis=0),1))\n",
      "    startprotlength = vectabsar(starttemp-proteintemp)    \n",
      "    endprotlength = vectabsar(endtemp-proteintemp)\n",
      "    \n",
      "    \n",
      "    #arrays for every connection a row and every proteinpoint a column\n",
      "    startendlength = np.reshape(startendlength, (np.size(endingarray, axis = 0), np.size(proteinpoints, axis = 0)), \"F\")\n",
      "    startprotlength = np.reshape(startprotlength, (np.size(endingarray, axis = 0), np.size(proteinpoints, axis = 0)), \"F\")\n",
      "    endprotlength = np.reshape(endprotlength, (np.size(endingarray, axis = 0), np.size(proteinpoints, axis = 0)), \"F\")\n",
      "    \n",
      "    #make the slicingarray, True means sort out\n",
      "    connectpointbool = ((startprotlength < startendlength) & (endprotlength < startendlength) & \\\n",
      "    ((startprotlength + endprotlength) < (np.sqrt(np.square(startendlength)+mindist**2)+mindist)))\n",
      "    connectpointbool = np.invert(connectpointbool.any(axis = 1) )\n",
      "    \n",
      "    if beforearray == None:    \n",
      "        if np.size(startingarray, axis=0) == 1:\n",
      "            return [startingarray, endingarray[connectpointbool]]\n",
      "        else:\n",
      "            return [startingarray[connectpointbool], endingarray[connectpointbool]]\n",
      "    else:\n",
      "        return (beforearray[connectpointbool], startingarray[connectpointbool], endingarray[connectpointbool])"
     ],
     "language": "python",
     "metadata": {},
     "outputs": [],
     "prompt_number": 67
    },
    {
     "cell_type": "markdown",
     "metadata": {},
     "source": [
      "Wir fangen sowohl vorne als auch hinten an, mit allen Winkeln, die m\u00f6glich sind und allen L\u00e4ngen, die m\u00f6glich sind. Wir bekommen dann Arrays von den ersten Punkten und den letzten Punkten nach dem Protein."
     ]
    },
    {
     "cell_type": "code",
     "collapsed": false,
     "input": [
      "#gibt ein Array zur\u00fcck, das zu jedem Punkt, jede Verschiebung macht aus dem verschiebungsarray. Verschiebungsarray\n",
      "#sind einfach Vektoren, wie das verschoben werden kann\n",
      "#anfangsarray sind Vektoren, von denen wir ausgehen.\n",
      "\n",
      "def naechstepunkte(anfangsarray, verschiebungsarray):\n",
      "    laengeanfang = np.size(anfangsarray, axis=0)\n",
      "    laengeversch = np.size(verschiebungsarray, axis=0)\n",
      "    hilfanfang = np.repeat(anfangsarray, laengeversch, axis=0)\n",
      "    hilfversch = np.tile(verschiebungsarray, (laengeanfang, 1))\n",
      "    return [hilfanfang, hilfanfang + hilfversch]\n",
      "\n",
      "#schmei\u00dft Punkte raus, die in dem Protein liegen, bzw. die zu weit vom Protein weg sind,\n",
      "#gibt ein Bool Array raus, mit dem man das Punktearray slicen kann, vom Protein wird nur jeder 4 Punkt verwendet\n",
      "def aussortierennachpunken(punktearray, proteinpunkte, minabstand, maxabstand):\n",
      "    temp1 = np.repeat(punktearray, np.size(proteinpunkte[::4], axis=0), axis =0)\n",
      "    temp2 = np.tile(proteinpunkte[::4], (np.size(punktearray, axis=0),1))\n",
      "    abstaende = np.reshape(abstandarrays(temp1, temp2), (np.size(punktearray, axis=0), np.size(proteinpunkte[::4], axis=0)))\n",
      "    minimaleabst = np.min(abstaende, axis=1)\n",
      "    keep = (minimaleabst < maxabstand) & (minimaleabst > minabstand)\n",
      "    return keep\n",
      "    "
     ],
     "language": "python",
     "metadata": {},
     "outputs": [],
     "prompt_number": 9
    },
    {
     "cell_type": "code",
     "collapsed": false,
     "input": [
      "#hier muss man eintragen, welche Helix-linkerl\u00e4ngen in AS m\u00f6glich sind.\n",
      "linkerdatenbank = np.array([\"AEAAAKEAAAKA\", \"AEAAAKEAAAKEAAAKA\", \"AEAAAKEAAAKEAAAKEAAAKA\",\\\n",
      "                   \"AEAAAKEAAAKEAAAKEAAAKEAAAKA\"])\n",
      "linkerlaengenAS = []\n",
      "\n",
      "for i in range(len(linkerdatenbank)):\n",
      "    linkerlaengenAS.append(len(linkerdatenbank[i]))\n",
      "    \n",
      "linkerlaengenAS = np.array(linkerlaengenAS)\n",
      "linkerlaengenME = linkerlaengenAS * 150 #in pm\n",
      "linkerlaengenKO = linkerlaengenME / kalib #in koordinaten\n",
      "laengstesstueck = np.max(linkerlaengenKO)\n",
      "anzahllinker = np.size(linkerlaengenKO)\n",
      "\n",
      "maxlinkerAS = int(3 * max(maxvonanfang, maxvonende)) #pi*0.75/1.5 in Aminos\u00e4uren\n",
      "maxlinkerKO = maxlinkerAS * 150/kalib\n",
      "anzahleckenmax = maxlinkerKO / np.max(linkerlaengenKO)\n",
      "anzahleckenmin = abstandanfend / np.min(linkerlaengenKO)"
     ],
     "language": "python",
     "metadata": {},
     "outputs": [],
     "prompt_number": 10
    },
    {
     "cell_type": "code",
     "collapsed": false,
     "input": [
      "#wir machen Arrays aus den Verschiebungen, f\u00fcr alle drei auf einmal, alle normiert\n",
      "anfversch = np.array([[0,0,0]])\n",
      "endversch = np.array([[0,0,0]])\n",
      "versch = np.array([[0,0,0]])\n",
      "for winkel in winkelarray:\n",
      "    temp = drehenxy(winkel[0], winkel[1], np.array([0,0,1]))\n",
      "    versch = np.append(versch, [temp], axis=0)\n",
      "    if any((moeglichewinkelanfang[:]==winkel).all(1)):\n",
      "        anfversch = np.append(anfversch, [temp], axis=0)\n",
      "    if any((moeglichewinkelende[:]==winkel).all(1)):\n",
      "        endversch = np.append(endversch, [temp], axis=0)\n",
      "\n",
      "#die verschiebungen mit den Linkerl\u00e4ngen multiplizieren, wichtig ist, in den versch sind immer auch nuller drinnen\n",
      "versch = np.tile(versch, (np.size(linkerlaengenKO),1)) * \\\n",
      "        np.reshape( np.repeat(np.repeat(linkerlaengenKO, np.size(versch, axis=0)), 3), \\\n",
      "                   (anzahllinker*np.size(versch, axis=0),3))\n",
      "\n",
      "anfversch = np.tile(anfversch, (np.size(linkerlaengenKO),1)) * \\\n",
      "           np.reshape( np.repeat(np.repeat(linkerlaengenKO, np.size(anfversch, axis=0)), 3),\\\n",
      "                      (anzahllinker*np.size(anfversch, axis=0),3))\n",
      "    \n",
      "endversch = np.tile(endversch, (np.size(linkerlaengenKO),1)) * \\\n",
      "           np.reshape( np.repeat(np.repeat(linkerlaengenKO, np.size(endversch, axis=0)), 3), \\\n",
      "                      (anzahllinker*np.size(endversch, axis=0),3))\n",
      "    \n",
      "#hier werden die Punkte generiert\n",
      "erstepunkte = naechstepunkte([anfangspunkt],anfversch)[1]\n",
      "erstepunkte = erstepunkte[aussortierennachpunken(erstepunkte, PointsOfAllSubunits, minabstand, maxabstand)]\n",
      "\n",
      "letztepunkte = naechstepunkte([endpunkt], endversch)[1]\n",
      "letztepunkte = letztepunkte[aussortierennachpunken(letztepunkte, PointsOfAllSubunits, minabstand, maxabstand)]\n",
      "\n",
      "#aussortieren, ob Punkte durch Protein gehen\n",
      "print np.shape(erstepunkte)\n",
      "#we just test with all as but not the first and last, because they are too close.\n",
      "\n",
      "#TODO hier abfangen, falls gleich alle Punkte weggemacht werden und dann eine Ausgabe machen, dass das ziemlich schwierig\n",
      "#und dann aber weiterfortlaufen, das gleiche auch mit den letzten Punkten\n",
      "#erstepunkte = sort_out_by_protein([anfangspunkt], erstepunkte,\\\n",
      "                                  #np.concatenate((pkte[ersteas-1:-letzteas], OtherPoints), axis = 0), minabstand)[1]\n",
      "letztepunkte = sort_out_by_protein([endpunkt], letztepunkte, \\\n",
      "                                  np.concatenate((pkte[ersteas-1:-letzteas], OtherPoints), axis = 0), minabstand)[1]\n",
      "\n",
      "print np.shape(erstepunkte)\n",
      "\n",
      "#wir sortieren erstepunkte aus, die zu weit vom Ende entfernt liegen, sodass sie nicht mehr durch \n",
      "#die doppelte l\u00e4ngste Linkerl\u00e4nge verbunden werden k\u00f6nnen\n",
      "\n",
      "temp = abstandpktzuarray(endpunkt, erstepunkte)\n",
      "keep = temp < (3 * laengstesstueck)\n",
      "erstepunkte = erstepunkte[keep]\n",
      "\n",
      "\n",
      "#wir sortieren erstepunkte aus, die zu weit vom Ende entfernt liegen, sodass sie nicht mehr durch \n",
      "#die doppelte l\u00e4ngste Linkerl\u00e4nge verbunden werden k\u00f6nnen\n",
      "\n",
      "temp = abstandpktzuarray(anfangspunkt, letztepunkte)\n",
      "keep = temp < (3 * laengstesstueck)\n",
      "letztepunkte = letztepunkte[keep]\n",
      "\n",
      "#die zweite iteration, erstepunkte wird so gro\u00df gemacht, wie zweitepunkte, damit \n",
      "zweiteiteration = naechstepunkte(erstepunkte, versch)\n",
      "zweitepunkte = zweiteiteration[1]\n",
      "erstepunkte = zweiteiteration[0]\n",
      "\n",
      "print np.shape(erstepunkte)\n",
      "print np.shape(letztepunkte)\n",
      "\n"
     ],
     "language": "python",
     "metadata": {},
     "outputs": [
      {
       "output_type": "stream",
       "stream": "stdout",
       "text": [
        "(12, 3)\n",
        "(12, 3)"
       ]
      },
      {
       "output_type": "stream",
       "stream": "stdout",
       "text": [
        "\n",
        "(124464, 3)\n",
        "(1913, 3)\n"
       ]
      }
     ],
     "prompt_number": 11
    },
    {
     "cell_type": "markdown",
     "metadata": {},
     "source": [
      "Wir sortieren nun alle Winkel aus, die kleiner als 15\u00b0 sind. Das machen wir aber nicht f\u00fcr die Anfangs und Endpunkte, da nicht klar ist, wie dort die Alphahelix angesetzt wird."
     ]
    },
    {
     "cell_type": "code",
     "collapsed": false,
     "input": [
      "#returns a boolian array which paths to keep, middle and endingarray must have same dimension, startingarray is only one \n",
      "#entry\n",
      "def sort_out_by_angle (startingarray, middlearray, endingarray, angle = 15):\n",
      "    if np.size(startingarray, axis = 0) == 1:\n",
      "        startingexp = np.repeat(startingarray, np.size(middlearray, axis=0), axis =0)\n",
      "        vect1 = (startingexp - middlearray)\n",
      "        vect2 = (endingarray - middlearray)\n",
      "        #catch if there is 0 displacement\n",
      "        tocalculate = ((vect1 != np.array([0,0,0])).any(1)) & ((vect2 != np.array([0,0,0])).any(1))\n",
      "        vect1 = vect1[tocalculate]\n",
      "        vect2 = vect2[tocalculate]\n",
      "        angles = np.arccos(skalar_product(vect1, vect2)/(vectabsar(vect1)*vectabsar(vect2)))\n",
      "        keep = angles > (angle * np.pi/180)\n",
      "        tempmid = middlearray[tocalculate]\n",
      "        tempend = endingarray[tocalculate]\n",
      "        tocalctemp = tocalculate == False\n",
      "        tempmid = np.concatenate((tempmid[keep], middlearray[tocalctemp]), axis = 0)\n",
      "        tempend = np.concatenate((tempend[keep], endingarray[tocalctemp]), axis = 0)\n",
      "\n",
      "        return (tempmid, tempend)\n",
      "    #if there is an array inserted at the beginning, not a point.\n",
      "    else:\n",
      "        startingexp = startingarray\n",
      "        vect1 = (startingexp - middlearray)\n",
      "        vect2 = (endingarray - middlearray)\n",
      "        #catch if there is 0 displacement\n",
      "        tocalculate = ((vect1 != np.array([0,0,0])).any(1)) & ((vect2 != np.array([0,0,0])).any(1))\n",
      "        vect1 = vect1[tocalculate]\n",
      "        vect2 = vect2[tocalculate]\n",
      "        angles = np.arccos(skalar_product(vect1, vect2)/(vectabsar(vect1)*vectabsar(vect2)))\n",
      "        keep = angles > (angle * np.pi/180)\n",
      "        tempstart = startingarray[tocalculate]\n",
      "        tempmid = middlearray[tocalculate]\n",
      "        tempend = endingarray[tocalculate]\n",
      "        tocalctemp = tocalculate == False\n",
      "        tempstart = np.concatenate((tempstart[keep], startingarray[tocalctemp]), axis = 0)\n",
      "        tempmid = np.concatenate((tempmid[keep], middlearray[tocalctemp]), axis = 0)\n",
      "        tempend = np.concatenate((tempend[keep], endingarray[tocalctemp]), axis = 0)\n",
      "\n",
      "        return (tempstart, tempmid, tempend)"
     ],
     "language": "python",
     "metadata": {},
     "outputs": [],
     "prompt_number": 73
    },
    {
     "cell_type": "code",
     "collapsed": false,
     "input": [
      "#Nach Winkeln aussortieren, von vorne.\n",
      "\n",
      "temp = sort_out_by_angle([anfangspunkt], erstepunkte, zweitepunkte, angle=15)\n",
      "erstepunkte = temp[0]\n",
      "zweitepunkte = temp[1]"
     ],
     "language": "python",
     "metadata": {},
     "outputs": [
      {
       "output_type": "stream",
       "stream": "stderr",
       "text": [
        "-c:11: RuntimeWarning: invalid value encountered in arccos\n",
        "-c:12: RuntimeWarning: invalid value encountered in greater\n"
       ]
      }
     ],
     "prompt_number": 12
    },
    {
     "cell_type": "code",
     "collapsed": false,
     "input": [
      "print anzahleckenmax\n",
      "print anzahleckenmin"
     ],
     "language": "python",
     "metadata": {},
     "outputs": [
      {
       "output_type": "stream",
       "stream": "stdout",
       "text": [
        "10.0740740741\n",
        "2.63004937051\n"
       ]
      }
     ],
     "prompt_number": 13
    },
    {
     "cell_type": "code",
     "collapsed": false,
     "input": [
      "#wir sortieren zweite Punkte aus, die zu weit vom Ende entfernt liegen, sodass sie nicht mehr durch \n",
      "#die doppelte l\u00e4ngste Linkerl\u00e4nge verbunden werden k\u00f6nnen\n",
      "\n",
      "temp = abstandpktzuarray(endpunkt, zweitepunkte)\n",
      "keep = temp < (2 * laengstesstueck)\n",
      "zweitepunkte = zweitepunkte[keep]\n",
      "erstepunkte = erstepunkte[keep]\n",
      "\n",
      "np.shape(zweitepunkte)"
     ],
     "language": "python",
     "metadata": {},
     "outputs": [
      {
       "metadata": {},
       "output_type": "pyout",
       "prompt_number": 14,
       "text": [
        "(109379, 3)"
       ]
      }
     ],
     "prompt_number": 14
    },
    {
     "cell_type": "code",
     "collapsed": false,
     "input": [
      "#L\u00e4uft 82 sek, sortiert 60 000 Punkte aus\n",
      "#wir sortieren die Punkte aus, die zu weit oder zu nah im Protein sind\n",
      "StartTime = time.time()\n",
      "MakeSmall = 50\n",
      "teiler = np.size(zweitepunkte, axis = 0)/MakeSmall\n",
      "temp = aussortierennachpunken(zweitepunkte[:teiler], PointsOfAllSubunits, minabstand, maxabstand)\n",
      "\n",
      "for i in range(1,MakeSmall):\n",
      "    temp = np.concatenate((temp, aussortierennachpunken(zweitepunkte[i*teiler:(i+1)*teiler],\\\n",
      "                                                        PointsOfAllSubunits, minabstand, maxabstand)), axis = 0)\n",
      "\n",
      "temp = np.concatenate((temp, aussortierennachpunken(zweitepunkte[(i+1)*teiler:-1],\\\n",
      "                                                        PointsOfAllSubunits, minabstand, maxabstand)), axis = 0)\n",
      "\n",
      "print time.time()-StartTime    \n",
      "temp = np.array(temp)\n",
      "temp = np.ravel(temp, \"C\")\n",
      "\n",
      "zweitepunkte = zweitepunkte[temp]\n",
      "erstepunkte = erstepunkte[temp]\n",
      "print np.shape(erstepunkte)"
     ],
     "language": "python",
     "metadata": {},
     "outputs": [
      {
       "output_type": "stream",
       "stream": "stdout",
       "text": [
        "10.6017971039\n",
        "(96308, 3)\n"
       ]
      }
     ],
     "prompt_number": 15
    },
    {
     "cell_type": "code",
     "collapsed": false,
     "input": [
      "#l\u00e4uft etwa 11 minuten, reduziert um die H\u00e4lfte\n",
      "#Mit 3fach MakeSmall ist es schon am Maximum\n",
      "teiler = np.size(zweitepunkte, axis=0)/(MakeSmall * 3)\n",
      "temp = sort_out_by_protein(erstepunkte[:teiler], zweitepunkte[:teiler], PointsOfAllSubunits, minabstand)\n",
      "erstetemp = temp[0]\n",
      "zweitetemp = temp[1]\n",
      "\n",
      "\n",
      "\n",
      "bla = time.time()\n",
      "#das l\u00e4uft zu lange...\n",
      "for i in range(1, MakeSmall * 3):\n",
      "    temp = sort_out_by_protein(erstepunkte[i*teiler:(i+1)*teiler], zweitepunkte[i*teiler:(i+1)*teiler],\\\n",
      "                        PointsOfAllSubunits, minabstand)\n",
      "    \n",
      "    erstetemp = np.concatenate((erstetemp, temp[0]), axis =0)\n",
      "    zweitetemp = np.concatenate((zweitetemp, temp[1]), axis =0)\n",
      "    \n",
      "\n",
      "    \n",
      "temp = sort_out_by_protein(erstepunkte[(i+1)*teiler:-1], zweitepunkte[(i+1)*teiler:-1],\\\n",
      "                        PointsOfAllSubunits, minabstand)\n",
      "    \n",
      "erstetemp = np.concatenate((erstetemp, temp[0]), axis = 0)\n",
      "zweitetemp = np.concatenate((zweitetemp, temp[1]), axis = 0)\n",
      "\n",
      "erstepunkte = erstetemp\n",
      "zweitepunkte = zweitetemp\n",
      "\n",
      "print bla - time.time()\n",
      "print np.size(erstepunkte, axis = 0)"
     ],
     "language": "python",
     "metadata": {},
     "outputs": [
      {
       "output_type": "stream",
       "stream": "stdout",
       "text": [
        "-77.160337925\n",
        "45212\n"
       ]
      }
     ],
     "prompt_number": 16
    },
    {
     "cell_type": "code",
     "collapsed": false,
     "input": [
      "print np.size(erstepunkte, axis = 0)\n",
      "print np.size(zweitepunkte, axis = 0)"
     ],
     "language": "python",
     "metadata": {},
     "outputs": [
      {
       "output_type": "stream",
       "stream": "stdout",
       "text": [
        "1136175\n",
        "1136175\n"
       ]
      }
     ],
     "prompt_number": 20
    },
    {
     "cell_type": "heading",
     "level": 5,
     "metadata": {},
     "source": [
      "TODO \u00fcberlegen, wie viel ich in einem Schleifendurchlauf verarbeiten kann, so l\u00e4uft es 22 Sekunden und sortiert auf 1/10 aus. Je nachdem,wie viele letztePunkte es gibt, sollte man diesen Schritt vor dem anderen machen, da er so gerade sehr krass aussortiert und dadurch sehr viel Zeit gespart werden kann..."
     ]
    },
    {
     "cell_type": "code",
     "collapsed": false,
     "input": [
      "#wie genau m\u00fcssen sich die St\u00fccke treffen wird durch hitgenauig bestimmt, es ist sin(5\u00b0) * maximale linkerl\u00e4nge\n",
      "hitgenauig = 0.0436 * laengstesstueck\n",
      "\n",
      "#returns three arrays with all possible paths, made out of all possible combinations startingpoints to endingpoints\n",
      "#that are in a certain distance\n",
      "def sort_out_by_distance(startingpoints, endingpoints, firstpoints, distance, variation):\n",
      "    starttemp = np.repeat(startingpoints, np.size(endingpoints, axis=0), axis =0)\n",
      "    endtemp = np.tile(endingpoints, (np.size(startingpoints, axis=0),1))\n",
      "    abstaende = abstandarrays(starttemp, endtemp)\n",
      "    keep = ((abstaende > (distance-variation)) & (abstaende < (distance+variation)))\n",
      "    firsttemp = np.repeat(firstpoints, np.size(endingpoints, axis=0), axis =0)\n",
      "    return [firsttemp[keep], starttemp[keep], endtemp[keep]]\n",
      "\n",
      "\n",
      "\n",
      "\n",
      "teiler = np.size(zweitepunkte, axis=0)/(MakeSmall/10)\n",
      "erstetemp = []\n",
      "zweitetemp = []\n",
      "drittetemp = []\n",
      "\n",
      "for laenge in linkerlaengenKO:\n",
      "    \n",
      "    for i in range(0,(MakeSmall/10)):\n",
      "        temp = sort_out_by_distance(zweitepunkte[i*teiler:(i+1)*teiler], letztepunkte,\\\n",
      "                                    erstepunkte[i*teiler:(i+1)*teiler], laenge, hitgenauig)\n",
      "        erstetemp.append(temp[0])\n",
      "        zweitetemp.append(temp[1])\n",
      "        drittetemp.append(temp[2])\n",
      "        \n",
      "    temp = sort_out_by_distance(zweitepunkte[(i+1)*teiler:], letztepunkte, erstepunkte[(i+1)*teiler:], laenge, hitgenauig)\n",
      "    erstetemp.append(temp[0])\n",
      "    zweitetemp.append(temp[1])\n",
      "    drittetemp.append(temp[2])"
     ],
     "language": "python",
     "metadata": {},
     "outputs": [],
     "prompt_number": 18
    },
    {
     "cell_type": "code",
     "collapsed": false,
     "input": [
      "#get the arrays back from the lists of arrays, do this for all points, not nice, but fast implemented\n",
      "erstepunkte = erstetemp[1]\n",
      "\n",
      "for i in range(1,len(erstetemp)):\n",
      "    erstepunkte = np.concatenate((erstepunkte, erstetemp[i]), axis = 0)\n",
      "    \n",
      "zweitepunkte = drittetemp[1]\n",
      "\n",
      "for i in range(1,len(erstetemp)):\n",
      "    zweitepunkte = np.concatenate((zweitepunkte, zweitetemp[i]), axis = 0)\n",
      "    \n",
      "drittepunkte = drittetemp[1]\n",
      "\n",
      "for i in range(1,len(erstetemp)):\n",
      "    drittepunkte = np.concatenate((drittepunkte, drittetemp[i]), axis = 0)\n",
      "    \n",
      "print np.shape(erstepunkte)\n",
      "print np.shape(zweitepunkte)\n",
      "print np.shape(drittepunkte)"
     ],
     "language": "python",
     "metadata": {},
     "outputs": [
      {
       "output_type": "stream",
       "stream": "stdout",
       "text": [
        "(1136175, 3)\n",
        "(1136175, 3)\n",
        "(1136175, 3)\n"
       ]
      }
     ],
     "prompt_number": 19
    },
    {
     "cell_type": "code",
     "collapsed": false,
     "input": [
      "#aussortieren der neuen Wege, reduziert auf 1/100stel\n",
      "\n",
      "temp = sort_out_by_angle(erstepunkte, zweitepunkte, drittepunkte)\n",
      "\n",
      "erstepunkte = temp[0]\n",
      "zweitepunkte = temp[1]\n",
      "drittepunkte = temp[2]\n",
      "\n",
      "\n",
      "teiler = np.size(zweitepunkte, axis=0)/(MakeSmall * 10)\n",
      "temp = sort_out_by_protein(zweitepunkte[:teiler], drittepunkte[:teiler], \\\n",
      "                           PointsOfAllSubunits, minabstand, beforearray = erstepunkte[:teiler])\n",
      "erstetemp = temp[0]\n",
      "zweitetemp = temp[1]\n",
      "drittetemp = temp[2]\n",
      "\n",
      "\n",
      "\n",
      "bla = time.time()\n",
      "#das l\u00e4uft zu lange...\n",
      "for i in range(1, MakeSmall * 10):\n",
      "    temp = sort_out_by_protein(zweitepunkte[i * teiler:(i+1)*teiler], drittepunkte[i * teiler:(i+1)*teiler], \\\n",
      "                           PointsOfAllSubunits, minabstand, beforearray = erstepunkte[i * teiler:(i+1)*teiler])\n",
      "    \n",
      "    erstetemp = np.concatenate((erstetemp, temp[0]), axis =0)\n",
      "    zweitetemp = np.concatenate((zweitetemp, temp[1]), axis =0)\n",
      "    drittetemp = np.concatenate((drittetemp, temp[2]), axis =0)\n",
      "    \n",
      "\n",
      "    \n",
      "temp = sort_out_by_protein(zweitepunkte[(i+1)*teiler:-1], drittepunkte[(i+1)*teiler:-1], \\\n",
      "                           PointsOfAllSubunits, minabstand, beforearray = erstepunkte[(i+1)*teiler:-1])\n",
      "    \n",
      "erstetemp = np.concatenate((erstetemp, temp[0]), axis = 0)\n",
      "zweitetemp = np.concatenate((zweitetemp, temp[1]), axis = 0)\n",
      "drittetemp = np.concatenate((drittetemp, temp[2]), axis = 0)\n",
      "\n",
      "erstepunkte = erstetemp\n",
      "zweitepunkte = zweitetemp\n",
      "drittepunkte = drittetemp\n"
     ],
     "language": "python",
     "metadata": {},
     "outputs": [],
     "prompt_number": 75
    },
    {
     "cell_type": "code",
     "collapsed": false,
     "input": [
      "print np.shape(erstepunkte)"
     ],
     "language": "python",
     "metadata": {},
     "outputs": [
      {
       "output_type": "stream",
       "stream": "stdout",
       "text": [
        "(92693, 3)\n"
       ]
      }
     ],
     "prompt_number": 77
    },
    {
     "cell_type": "heading",
     "level": 3,
     "metadata": {},
     "source": [
      "Die Bewertungsfunktion\n"
     ]
    },
    {
     "cell_type": "markdown",
     "metadata": {},
     "source": [
      "Wir definieren Regionen, die schlecht f\u00fcr den Linker sind. Dabei bekommt jede Region eine G\u00fcte. Diese G\u00fcte sagt, wenn wir einen Linker in einem Abstand von G\u00fcte geteilt durch Minabstand vorbeigehen lassen. Das hei\u00dft je kleiner die G\u00fcte, desto n\u00e4her kann ich an diesem Punkt vorbei gehen."
     ]
    },
    {
     "cell_type": "code",
     "collapsed": false,
     "input": [
      "#this is not yet the final function, in the end it should also get an array with best estimations for angles and some\n",
      "#array of points, that are not good for the linker\n",
      "#it should return an array with for every linkerpath a certain value. From this we can find the best one.\n",
      "#also it should take some parameters in the end,\n",
      "\n",
      "#die Winkelfunktion muss man noch \u00fcberlegen, in the end it returns a on one normed value. \n",
      "def angle_function(StartingArray, MiddleArray, EndingArray):\n",
      "    vect1 = (StartingArray - MiddleArray)\n",
      "    vect2 = (EndingArray - MiddleArray)\n",
      "    #catch if there is 0 displacement\n",
      "    tocalculate = ((vect1 != np.array([0,0,0])).any(1)) & ((vect2 != np.array([0,0,0])).any(1))\n",
      "    vecttemp1 = vect1[tocalculate]\n",
      "    vecttemp2 = vect2[tocalculate]\n",
      "    angles = np.arccos(skalar_product(vecttemp1, vecttemp2)/(vectabsar(vecttemp1)*vectabsar(vecttemp2)))\n",
      "    functionvalues = np.zeros(np.size(MiddleArray, axis = 0))\n",
      "    functionvalues[tocalculate] = np.sin(angles)\n",
      "    return functionvalues\n",
      "\n",
      "#needs a on one normed array of the weighing of the points, if not all points are equally weighed\n",
      "def unpreferable_places(Start, End, ProteinPoints, AminoacidArray, ToBeWeighedAA, WeighedPoints = None):\n",
      "    if WeighedPoints == None:\n",
      "        WeighedPoints = np.ones(np.size(Points, axis = 0))\n",
      "    #we start by slicing the Points array, so that we don't need to compute with everything\n",
      "    StartPunkteAbst = abstandpktzuarray(Start, Points)\n",
      "    AngleAtStart = angle_function(Points, Start, End)\n",
      "    DistanceFromConnection = np.sin(AngleAtStart) * StartPunkteAbst\n",
      "    \n",
      "        \n",
      "\n",
      "def weighing_function(StartPoint, FirstArray, SecondArray, ThirdArray, EndPoint):\n",
      "    LinkerLength = abstandpktzuarray(StartPoint, FirstArray) + abstandarrays(FirstArray, SecondArray) \\\n",
      "    + abstandarrays(SecondArray, ThirdArray) + abstandpktzuarray(EndPoint, ThirdArray) \n",
      "    LengthNormed = LinkerLength / (abstand(StartPoint, EndPoint))\n",
      "    Angles = angle_function(StartPoint, FirstArray, SecondArray) + angle_function(FirstArray, SecondArray, ThirdArray) + \\\n",
      "    angle_function(SecondArray, ThirdArray, EndPoint)\n",
      "    \n",
      "    weighedvalue = LengthNormed\n",
      "    return (weighedvalue, LengthNormed * abstand(StartPoint, EndPoint), Angles)\n",
      "\n",
      "k = weighing_function(anfangspunkt, erstepunkte, zweitepunkte, drittepunkte, endpunkt)\n",
      "\n",
      "minbla = np.min(k)"
     ],
     "language": "python",
     "metadata": {},
     "outputs": [],
     "prompt_number": 84
    },
    {
     "cell_type": "code",
     "collapsed": false,
     "input": [
      "minbla = np.min(k[1])\n",
      "print minbla"
     ],
     "language": "python",
     "metadata": {},
     "outputs": [
      {
       "output_type": "stream",
       "stream": "stdout",
       "text": [
        "99.8400306547\n"
       ]
      }
     ],
     "prompt_number": 85
    },
    {
     "cell_type": "code",
     "collapsed": false,
     "input": [
      "keep = k[1] == minbla\n",
      "\n",
      "bestpath = np.empty((3,3))\n",
      "bestpath[0] = erstepunkte[keep]\n",
      "bestpath[1] =  zweitepunkte[keep]\n",
      "bestpath[2] = drittepunkte[keep]\n",
      "print abstandanfend\n",
      "\n",
      "fig = plt.figure()\n",
      "ax = fig.add_subplot(111, projection='3d')\n",
      "ax.scatter(pkte[5:-5:,0], pkte[5:-5:,1], pkte[5:-5:,2], s=10)\n",
      "ax.scatter(pkte[:4:,0], pkte[:4:,1], pkte[:4:,2], s = 40, c =\"r\")\n",
      "ax.scatter(pkte[-4::,0], pkte[-4::,1], pkte[-4::,2], s = 40, c =\"r\")\n",
      "ax.scatter(OtherPoints[:,0], OtherPoints[:,1], OtherPoints[:,2], s=10, c = \"g\")\n",
      "\n",
      "ax.scatter(bestpath[:,0], bestpath[:,1], bestpath[:,2], s = 50, c =\"r\")\n",
      "plt.show()"
     ],
     "language": "python",
     "metadata": {},
     "outputs": [
      {
       "output_type": "stream",
       "stream": "stdout",
       "text": [
        "46.6388769805\n"
       ]
      },
      {
       "output_type": "stream",
       "stream": "stderr",
       "text": [
        "/usr/lib/pymodules/python2.7/matplotlib/backends/backend_gtk.py:250: Warning: Source ID 5632 was not found when attempting to remove it\n",
        "  gobject.source_remove(self._idle_event_id)\n"
       ]
      }
     ],
     "prompt_number": 93
    },
    {
     "cell_type": "code",
     "collapsed": false,
     "input": [
      "k = np.array(range(0,10))\n",
      "keep = k > 3\n",
      "k[keep] = 99\n",
      "\n",
      "print k"
     ],
     "language": "python",
     "metadata": {},
     "outputs": [
      {
       "output_type": "stream",
       "stream": "stdout",
       "text": [
        "[ 0  1  2  3 99 99 99 99 99 99]\n"
       ]
      }
     ],
     "prompt_number": 22
    },
    {
     "cell_type": "code",
     "collapsed": false,
     "input": [
      "print minbla\n",
      "print np.min(linkerlaengenKO)"
     ],
     "language": "python",
     "metadata": {},
     "outputs": [
      {
       "output_type": "stream",
       "stream": "stdout",
       "text": [
        "84.2744546815\n",
        "17.7330804142\n"
       ]
      }
     ],
     "prompt_number": 150
    },
    {
     "cell_type": "markdown",
     "metadata": {},
     "source": [
      "Hier fangen Testsachen an:\n",
      "    \n",
      "    TESTTESTTEST    TESTTESTTEST    TESTTESTTEST    TESTTESTTEST    TESTTESTTEST    TESTTESTTEST    TESTTESTTEST    TESTTESTTEST    TESTTESTTEST    TESTTESTTEST    TESTTESTTEST    TESTTESTTEST    TESTTESTTEST    TESTTESTTEST    TESTTESTTEST    TESTTESTTEST    TESTTESTTEST    TESTTESTTEST    TESTTESTTEST"
     ]
    },
    {
     "cell_type": "code",
     "collapsed": false,
     "input": [
      "unpreferable_places(1,2,np.array([1,2,3,4]))"
     ],
     "language": "python",
     "metadata": {},
     "outputs": [
      {
       "output_type": "stream",
       "stream": "stdout",
       "text": [
        "bla\n",
        "non bla\n"
       ]
      }
     ],
     "prompt_number": 64
    },
    {
     "cell_type": "code",
     "collapsed": false,
     "input": [
      "print np.size(erstepunkte[::1000], axis = 0)\n",
      "a = sort_out_by_protein([anfangspunkt], erstepunkte[::1000], pkte, minabstand)\n",
      "print a\n",
      "print np.size(a[1], axis = 0)"
     ],
     "language": "python",
     "metadata": {},
     "outputs": []
    },
    {
     "cell_type": "code",
     "collapsed": false,
     "input": [
      "a = range(0,10)\n",
      "print a\n",
      "\n",
      "a[-1]"
     ],
     "language": "python",
     "metadata": {},
     "outputs": []
    },
    {
     "cell_type": "code",
     "collapsed": false,
     "input": [
      "#muss noch getestet werden!!!\n",
      "#scheint noch nicht zu funktionieren\n",
      "anfangspunkt = np.array([[0,0,0],[0,-10, 0]])\n",
      "erstepunkte = np.array([[20,0,0], [0,20,0]])\n",
      "pkte = np.array([[10,0,7], [25,0,0], [0,20.2,0], [0,0,100]])\n",
      "\n",
      "print sort_out_by_protein(anfangspunkt, erstepunkte, pkte, minabstand)"
     ],
     "language": "python",
     "metadata": {},
     "outputs": []
    },
    {
     "cell_type": "code",
     "collapsed": false,
     "input": [
      "bla = np.array([[10,0,7], [25,0,0], [0,20.2,0], [0,0,100]])\n",
      "\n",
      "k = list(bla)\n",
      "k.append(list(bla))\n",
      "print np.array(k)"
     ],
     "language": "python",
     "metadata": {},
     "outputs": []
    },
    {
     "cell_type": "code",
     "collapsed": false,
     "input": [
      "a = np.array([[1,1,1], [2,2,2],[3,3,3]])\n",
      "a = vectabsar(a)\n",
      "np.repeat(a, 5, axis = 0)\n"
     ],
     "language": "python",
     "metadata": {},
     "outputs": []
    },
    {
     "cell_type": "code",
     "collapsed": false,
     "input": [
      "import time\n",
      "a = np.random.random_sample((10000000,1))\n",
      "\n",
      "blubb = time.time()\n",
      "np.square(a)\n",
      "print blubb-time.time()\n",
      "\n",
      "blubb = time.time()\n",
      "a**2\n",
      "print blubb-time.time()"
     ],
     "language": "python",
     "metadata": {},
     "outputs": []
    },
    {
     "cell_type": "code",
     "collapsed": false,
     "input": [
      "np.random.random_sample((10000000,1))"
     ],
     "language": "python",
     "metadata": {},
     "outputs": []
    },
    {
     "cell_type": "code",
     "collapsed": false,
     "input": [
      "k = np.array([1,2,3,4,5,6,7,8])\n",
      "blubb = []\n",
      "for i in range(0,5):\n",
      "    print i\n",
      "    blubb.append( k[i::5])\n",
      "    \n",
      "np.array(blubb)\n",
      "blubb.flat"
     ],
     "language": "python",
     "metadata": {},
     "outputs": []
    },
    {
     "cell_type": "code",
     "collapsed": false,
     "input": [
      "a = np.array([1,2,3])\n",
      "a[0] = 4\n",
      "print a"
     ],
     "language": "python",
     "metadata": {},
     "outputs": []
    },
    {
     "cell_type": "code",
     "collapsed": false,
     "input": [
      "a = [1,2,3]\n",
      "a.append([1,2,3])\n",
      "print a"
     ],
     "language": "python",
     "metadata": {},
     "outputs": []
    },
    {
     "cell_type": "code",
     "collapsed": false,
     "input": [
      "c = [np.ones(10**9)]\n",
      "c.append(np.ones(10**9)*2)\n",
      "a = np.array(c)\n",
      "temp = np.ravel(a, 'F')\n",
      "print temp"
     ],
     "language": "python",
     "metadata": {},
     "outputs": []
    },
    {
     "cell_type": "code",
     "collapsed": false,
     "input": [
      "a = np.array([[1,1,1],[2,2,2]])\n",
      "\n",
      "print a\n",
      "b = np.array([[1,1,1],[2,2,2], [3,3,3]])\n",
      "\n",
      "print b\n",
      "\n",
      "aussortierennachabstaenden(a,b,3,1)\n"
     ],
     "language": "python",
     "metadata": {},
     "outputs": []
    },
    {
     "cell_type": "code",
     "collapsed": false,
     "input": [
      "np.max([False, False])\n"
     ],
     "language": "python",
     "metadata": {},
     "outputs": []
    },
    {
     "cell_type": "code",
     "collapsed": false,
     "input": [
      "bla=  np.reshape(blubb, (2,3))\n",
      "print bla\n",
      "np.max(bla, axis=1)\n",
      "\n",
      "import time\n",
      "start_time = time.time()\n",
      "print ( time.time() - start_time)"
     ],
     "language": "python",
     "metadata": {},
     "outputs": []
    },
    {
     "cell_type": "markdown",
     "metadata": {},
     "source": [
      "der n\u00e4chste Block kann wohl weg, aber man kann Teile aus ihm verwenden. Was man eigentlich will, ist eine Funktion, die aus drei Arrays, die Werte sucht, die im richtigen Abstand liegen und das dann wieder perfekt aufgebaut zur\u00fcckgibt, sodass einfach in der Zeile der komplette Weg durchgegangen wird..."
     ]
    },
    {
     "cell_type": "code",
     "collapsed": false,
     "input": [
      "#wie genau m\u00fcssen sich die St\u00fccke treffen wird durch hitgenauig bestimmt, es ist sin(5\u00b0) * maximale linkerl\u00e4nge\n",
      "hitgenauig = 0.0436 * laengstesstueck\n",
      "\n",
      "def aussortierennachabstaenden(punktearray, zielpunkte, abstand, variation):\n",
      "    temp1 = np.repeat(punktearray, np.size(zielpunkte, axis=0), axis =0)\n",
      "    temp2 = np.tile(zielpunkte, (np.size(punktearray, axis=0),1))\n",
      "    abstaende = np.reshape(abstandarrays(temp1, temp2), (np.size(punktearray, axis=0), np.size(zielpunkte, axis=0)))\n",
      "    passend = ((abstaende > (abstand-variation)) & (abstaende < (abstand+variation)))\n",
      "    keep = np.max(passend, axis=1) \n",
      "    return keep\n",
      "\n",
      "\n",
      "start_time = time.time()\n",
      "\n",
      "print np.shape(zweitepunkte)\n",
      "behalten = np.empty((np.size(zweitepunkte, axis=0), np.size(linkerlaengenKO)))\n",
      "zaehl = 0\n",
      "for laenge in linkerlaengenKO:\n",
      "    #TODO abfangen, falls es unter 50 gibt\n",
      "    #die Teilungen f\u00fcr das Array festlegen, weil das slicen und zusammenfuegen funkt nicht\n",
      "    teiler = np.size(zweitepunkte, axis=0)/(MakeSmall/10) #ist int\n",
      "    behalten[0:teiler,zaehl] = aussortierennachabstaenden(zweitepunkte[0:teiler], letztepunkte, laenge, hitgenauig)\n",
      "    \n",
      "    for i in range(1,(MakeSmall/10)):\n",
      "        behalten[ i*teiler: (i+1)*teiler,zaehl] = aussortierennachabstaenden(zweitepunkte[ i*teiler: (i+1)*teiler], letztepunkte,\\\n",
      "                                                     laenge, hitgenauig)\n",
      "    behalten[(i+1)*teiler: -1,zaehl] = aussortierennachabstaenden(zweitepunkte[(i+1)*teiler: -1], letztepunkte,\\\n",
      "                                                     laenge, hitgenauig)\n",
      "    \n",
      "    zaehl+=1\n",
      "    \n",
      "print ( time.time() - start_time)  \n",
      "\n",
      "#aussortieren nach den Punkten, hier eventuell zerteilen, wenn ich Dinge testen will\n",
      "behalten = np.max(behalten, axis = 1)\n",
      "behalten = behalten == 1\n",
      "zweitepunkte = zweitepunkte[behalten]\n",
      "erstepunkte = erstepunkte[behalten]\n",
      "    \n",
      "print np.shape(zweitepunkte)"
     ],
     "language": "python",
     "metadata": {},
     "outputs": []
    }
   ],
   "metadata": {}
  }
 ]
}